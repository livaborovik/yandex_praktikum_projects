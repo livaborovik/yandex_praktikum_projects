{
 "cells": [
  {
   "cell_type": "markdown",
   "metadata": {
    "id": "E0vqbgi9ay0H"
   },
   "source": [
    "## Исследование данных сервиса \"Яндекс.Музыка\""
   ]
  },
  {
   "cell_type": "markdown",
   "metadata": {},
   "source": [
    "Цель исследования - изучить поведение пользователей \"Яндекс.Музыки\" на реальных данных для двух городов - Москвы и Санкт-Петербурга.\n",
    "\n",
    "В ходе проведения исследования проверить следующие гипотезы:\n",
    "\n",
    "1. Пользователи Москвы и Санкт-Петербурга по-разному слушают треки по понедельникам, средам и пятницам;\n",
    "2. Утром в понедельник и вечером в пятницу у пользователей из Москвы преобладают одни жанры, у пользователей из Петербурга - другие. \n",
    "3. В Санкт-Петербурге наибольшей популярностью пользуется рэп, в Москве - поп-музыка."
   ]
  },
  {
   "cell_type": "markdown",
   "metadata": {},
   "source": [
    "### Изучение данных сервиса"
   ]
  },
  {
   "cell_type": "markdown",
   "metadata": {},
   "source": [
    "До начала предобработки данных необходимо открыть и изучить данные. Для этого импортируем библиотеку pandas."
   ]
  },
  {
   "cell_type": "code",
   "execution_count": 5,
   "metadata": {
    "id": "AXN7PHPN_Zcs"
   },
   "outputs": [],
   "source": [
    "import pandas as pd #импорт библиотеки pandas"
   ]
  },
  {
   "cell_type": "code",
   "execution_count": null,
   "metadata": {},
   "outputs": [],
   "source": [
    "df = pd.read_csv('/datasets/yandex_music_project.csv')# чтение файла с данными и сохранение в df"
   ]
  },
  {
   "cell_type": "code",
   "execution_count": null,
   "metadata": {},
   "outputs": [],
   "source": [
    "df = pd.read_csv('/datasets/yandex_music_project.csv')# чтение файла с данными и сохранение в df"
   ]
  },
  {
   "cell_type": "code",
   "execution_count": null,
   "metadata": {
    "id": "oWTVX3gW_Zct"
   },
   "outputs": [],
   "source": [
    "df.head(10)# получение первых 10 строк таблицы df"
   ]
  },
  {
   "cell_type": "markdown",
   "metadata": {
    "id": "EO73Kwic_Zct"
   },
   "source": [
    "С помощью метода info() получим данные о датасете."
   ]
  },
  {
   "cell_type": "code",
   "execution_count": 4,
   "metadata": {
    "id": "DSf2kIb-_Zct"
   },
   "outputs": [
    {
     "name": "stdout",
     "output_type": "stream",
     "text": [
      "<class 'pandas.core.frame.DataFrame'>\n",
      "RangeIndex: 65079 entries, 0 to 65078\n",
      "Data columns (total 7 columns):\n",
      "  userID    65079 non-null object\n",
      "Track       63848 non-null object\n",
      "artist      57876 non-null object\n",
      "genre       63881 non-null object\n",
      "  City      65079 non-null object\n",
      "time        65079 non-null object\n",
      "Day         65079 non-null object\n",
      "dtypes: object(7)\n",
      "memory usage: 3.5+ MB\n"
     ]
    }
   ],
   "source": [
    "df.info()# получение общей информации о данных в таблице df"
   ]
  },
  {
   "cell_type": "markdown",
   "metadata": {
    "id": "TaQ2Iwbr_Zct"
   },
   "source": [
    "Исходя из информации о таблице мы видим, что все данные в датасете имеют тип 'object'.\n",
    "В названиях колонок имеются нарушения хорошего стиля:\n",
    "- встречаются пробелы;\n",
    "- нарушения правил \"змеиного регистра\" при присваивании имени столбцу, состоящего из нескольких слов ('userID' вместо 'user_id'). Также количество значений в столбцах не одинаково, что говорит о наличии пропущенных значений. \n"
   ]
  },
  {
   "cell_type": "markdown",
   "metadata": {
    "id": "MCB6-dXG_Zct"
   },
   "source": [
    "**Выводы**\n",
    "\n",
    "Изучив данные выснилось, что датасет содержит семь колонок, которые содержат данные о:\n",
    "- id пользователя;\n",
    "- названии трека;\n",
    "- наименовании исполнителя;\n",
    "- жанре;\n",
    "- городе;\n",
    "- времени прослушивания;\n",
    "- дне недели.\n",
    "\n",
    "Однако для того, чтобы проверить гипотезы, необходимо предобработать данные, поскольку в них есть пропущенные значния, а также в наименованиях столбцов замечены нарушения хорошего стиля."
   ]
  },
  {
   "cell_type": "markdown",
   "metadata": {
    "id": "SjYF6Ub9_Zct"
   },
   "source": [
    "## Предобработка данных"
   ]
  },
  {
   "cell_type": "markdown",
   "metadata": {},
   "source": [
    "Нам необходимо обработать пропуски, проверить данные на наличие дубликатов и, при необходимости, обработать их."
   ]
  },
  {
   "cell_type": "markdown",
   "metadata": {
    "id": "dIaKXr29_Zct"
   },
   "source": [
    "### Стиль заголовков\n",
    "Выведем названия столбцов на экран:"
   ]
  },
  {
   "cell_type": "code",
   "execution_count": 5,
   "metadata": {
    "id": "oKOTdF_Q_Zct"
   },
   "outputs": [
    {
     "data": {
      "text/plain": [
       "Index(['  userID', 'Track', 'artist', 'genre', '  City  ', 'time', 'Day'], dtype='object')"
      ]
     },
     "metadata": {},
     "output_type": "display_data"
    }
   ],
   "source": [
    "display(df.columns)# перечень названий столбцов таблицы df"
   ]
  },
  {
   "cell_type": "markdown",
   "metadata": {
    "id": "zj5534cv_Zct"
   },
   "source": [
    "Приведем названия колонок в порядок в соотвествии с правилами хорошего стиля: удалим пробелы, заглавные буквы и приведем названия в порядок по правилу \"змеиного регистра\"."
   ]
  },
  {
   "cell_type": "code",
   "execution_count": 6,
   "metadata": {
    "id": "ISlFqs5y_Zct"
   },
   "outputs": [],
   "source": [
    "df = df.rename(columns={'  userID':'user_id',\n",
    "                        'Track':'track',\n",
    "                        '  City  ':'city',\n",
    "                        'Day':'day',\n",
    "                        '  userID':'user_id'\n",
    "                       })\n",
    "                        # переименование столбцов"
   ]
  },
  {
   "cell_type": "markdown",
   "metadata": {
    "id": "1dqbh00J_Zct"
   },
   "source": [
    "Проверим результат переименования:"
   ]
  },
  {
   "cell_type": "code",
   "execution_count": 7,
   "metadata": {
    "id": "d4NOAmTW_Zct"
   },
   "outputs": [
    {
     "data": {
      "text/plain": [
       "Index(['user_id', 'track', 'artist', 'genre', 'city', 'time', 'day'], dtype='object')"
      ]
     },
     "metadata": {},
     "output_type": "display_data"
    }
   ],
   "source": [
    "display(df.columns)# проверка результатов - перечень названий столбцов"
   ]
  },
  {
   "cell_type": "markdown",
   "metadata": {
    "id": "5ISfbcfY_Zct"
   },
   "source": [
    "### Пропуски значений\n",
    "Проверим данные на наличие пропущенных значений:"
   ]
  },
  {
   "cell_type": "code",
   "execution_count": 8,
   "metadata": {
    "id": "RskX29qr_Zct"
   },
   "outputs": [
    {
     "data": {
      "text/plain": [
       "user_id       0\n",
       "track      1231\n",
       "artist     7203\n",
       "genre      1198\n",
       "city          0\n",
       "time          0\n",
       "day           0\n",
       "dtype: int64"
      ]
     },
     "execution_count": 8,
     "metadata": {},
     "output_type": "execute_result"
    }
   ],
   "source": [
    "df.isna().sum()# подсчёт пропусков"
   ]
  },
  {
   "cell_type": "markdown",
   "metadata": {
    "id": "qubhgnlO_Zct"
   },
   "source": [
    "Не все пропущенные значения влияют на исследование. Так в `track` и `artist` пропуски не важны для работы. Достаточно заменить их явными обозначениями.\n",
    "\n",
    "Но пропуски в `genre` могут помешать сравнению музыкальных вкусов в Москве и Санкт-Петербурге, поэтому заполним пропуски явнями обозначениями."
   ]
  },
  {
   "cell_type": "markdown",
   "metadata": {
    "id": "fSv2laPA_Zct"
   },
   "source": [
    "Заменим пропущенные значения в столбцах `track`, `artist` и `genre` на строку `'unknown'`. Для этого создадим список `columns_to_replace`, переберем его элементы циклом `for` и для каждого столбца выполним замену пропущенных значений:"
   ]
  },
  {
   "cell_type": "code",
   "execution_count": 9,
   "metadata": {
    "id": "KplB5qWs_Zct"
   },
   "outputs": [],
   "source": [
    "columns_to_replace = ['track', 'artist', 'genre']\n",
    "for column in columns_to_replace:\n",
    "    df[column] = df[column].fillna('unknown')# перебор названий столбцов в цикле и замена пропущенных значений на 'unknown')"
   ]
  },
  {
   "cell_type": "markdown",
   "metadata": {
    "id": "Ilsm-MZo_Zct"
   },
   "source": [
    "Убедимся, что в таблице не осталось пропусков. Для этого ещё раз посчитаем пропущенные значения."
   ]
  },
  {
   "cell_type": "code",
   "execution_count": 10,
   "metadata": {
    "id": "Tq4nYRX4_Zct"
   },
   "outputs": [
    {
     "data": {
      "text/plain": [
       "user_id    0\n",
       "track      0\n",
       "artist     0\n",
       "genre      0\n",
       "city       0\n",
       "time       0\n",
       "day        0\n",
       "dtype: int64"
      ]
     },
     "execution_count": 10,
     "metadata": {},
     "output_type": "execute_result"
    }
   ],
   "source": [
    "df.isna().sum()# подсчёт пропусков"
   ]
  },
  {
   "cell_type": "markdown",
   "metadata": {
    "id": "BWKRtBJ3_Zct"
   },
   "source": [
    "### Дубликаты\n",
    "Теперь посчитам количество явных дубликатов:"
   ]
  },
  {
   "cell_type": "code",
   "execution_count": 11,
   "metadata": {
    "id": "36eES_S0_Zct"
   },
   "outputs": [
    {
     "data": {
      "text/plain": [
       "3826"
      ]
     },
     "execution_count": 11,
     "metadata": {},
     "output_type": "execute_result"
    }
   ],
   "source": [
    "df.duplicated().sum()# подсчёт явных дубликатов"
   ]
  },
  {
   "cell_type": "markdown",
   "metadata": {
    "id": "Ot25h6XR_Zct"
   },
   "source": [
    "Используем метод drop_duplicates() `pandas` для удаления дубликатов:"
   ]
  },
  {
   "cell_type": "code",
   "execution_count": 12,
   "metadata": {
    "id": "exFHq6tt_Zct"
   },
   "outputs": [],
   "source": [
    "df = df.drop_duplicates().reset_index(drop=True) #удаление явных дубликатов (с удалением старых индексов и формированием новых)"
   ]
  },
  {
   "cell_type": "markdown",
   "metadata": {
    "id": "Im2YwBEG_Zct"
   },
   "source": [
    "Убедимся, что полностью избавились от дубликатов:"
   ]
  },
  {
   "cell_type": "code",
   "execution_count": 13,
   "metadata": {
    "id": "-8PuNWQ0_Zct"
   },
   "outputs": [
    {
     "data": {
      "text/plain": [
       "0"
      ]
     },
     "execution_count": 13,
     "metadata": {},
     "output_type": "execute_result"
    }
   ],
   "source": [
    "df.duplicated().sum()# проверка на отсутствие дубликатов"
   ]
  },
  {
   "cell_type": "markdown",
   "metadata": {
    "id": "QlFBsxAr_Zct"
   },
   "source": [
    "Также избавимся от неявных дубликатов в колонке `genre`. Например, название одного и того же жанра может быть записано немного по-разному. Такие ошибки тоже повлияют на результат исследования."
   ]
  },
  {
   "cell_type": "markdown",
   "metadata": {
    "id": "eSjWwsOh_Zct"
   },
   "source": [
    "Для этого выведем на экран список уникальных названий жанров, отсортированный в алфавитном порядке: извлечем нужный столбец датафрейма, применим метод сортировки к нему, для отсортированного столбца вызовем метод, который вернет уникальные значения столбца. \n",
    "\n",
    "Посмотрим, что получилось:"
   ]
  },
  {
   "cell_type": "code",
   "execution_count": 14,
   "metadata": {
    "id": "JIUcqzZN_Zct"
   },
   "outputs": [
    {
     "data": {
      "text/plain": [
       "array(['acid', 'acoustic', 'action', 'adult', 'africa', 'afrikaans',\n",
       "       'alternative', 'alternativepunk', 'ambient', 'americana',\n",
       "       'animated', 'anime', 'arabesk', 'arabic', 'arena',\n",
       "       'argentinetango', 'art', 'audiobook', 'author', 'avantgarde',\n",
       "       'axé', 'baile', 'balkan', 'beats', 'bigroom', 'black', 'bluegrass',\n",
       "       'blues', 'bollywood', 'bossa', 'brazilian', 'breakbeat', 'breaks',\n",
       "       'broadway', 'cantautori', 'cantopop', 'canzone', 'caribbean',\n",
       "       'caucasian', 'celtic', 'chamber', 'chanson', 'children', 'chill',\n",
       "       'chinese', 'choral', 'christian', 'christmas', 'classical',\n",
       "       'classicmetal', 'club', 'colombian', 'comedy', 'conjazz',\n",
       "       'contemporary', 'country', 'cuban', 'dance', 'dancehall',\n",
       "       'dancepop', 'dark', 'death', 'deep', 'deutschrock', 'deutschspr',\n",
       "       'dirty', 'disco', 'dnb', 'documentary', 'downbeat', 'downtempo',\n",
       "       'drum', 'dub', 'dubstep', 'eastern', 'easy', 'electronic',\n",
       "       'electropop', 'emo', 'entehno', 'epicmetal', 'estrada', 'ethnic',\n",
       "       'eurofolk', 'european', 'experimental', 'extrememetal', 'fado',\n",
       "       'fairytail', 'film', 'fitness', 'flamenco', 'folk', 'folklore',\n",
       "       'folkmetal', 'folkrock', 'folktronica', 'forró', 'frankreich',\n",
       "       'französisch', 'french', 'funk', 'future', 'gangsta', 'garage',\n",
       "       'german', 'ghazal', 'gitarre', 'glitch', 'gospel', 'gothic',\n",
       "       'grime', 'grunge', 'gypsy', 'handsup', \"hard'n'heavy\", 'hardcore',\n",
       "       'hardstyle', 'hardtechno', 'hip', 'hip-hop', 'hiphop',\n",
       "       'historisch', 'holiday', 'hop', 'horror', 'house', 'hymn', 'idm',\n",
       "       'independent', 'indian', 'indie', 'indipop', 'industrial',\n",
       "       'inspirational', 'instrumental', 'international', 'irish', 'jam',\n",
       "       'japanese', 'jazz', 'jewish', 'jpop', 'jungle', 'k-pop',\n",
       "       'karadeniz', 'karaoke', 'kayokyoku', 'korean', 'laiko', 'latin',\n",
       "       'latino', 'leftfield', 'local', 'lounge', 'loungeelectronic',\n",
       "       'lovers', 'malaysian', 'mandopop', 'marschmusik', 'meditative',\n",
       "       'mediterranean', 'melodic', 'metal', 'metalcore', 'mexican',\n",
       "       'middle', 'minimal', 'miscellaneous', 'modern', 'mood', 'mpb',\n",
       "       'muslim', 'native', 'neoklassik', 'neue', 'new', 'newage',\n",
       "       'newwave', 'nu', 'nujazz', 'numetal', 'oceania', 'old', 'opera',\n",
       "       'orchestral', 'other', 'piano', 'podcasts', 'pop', 'popdance',\n",
       "       'popelectronic', 'popeurodance', 'poprussian', 'post',\n",
       "       'posthardcore', 'postrock', 'power', 'progmetal', 'progressive',\n",
       "       'psychedelic', 'punjabi', 'punk', 'quebecois', 'ragga', 'ram',\n",
       "       'rancheras', 'rap', 'rave', 'reggae', 'reggaeton', 'regional',\n",
       "       'relax', 'religious', 'retro', 'rhythm', 'rnb', 'rnr', 'rock',\n",
       "       'rockabilly', 'rockalternative', 'rockindie', 'rockother',\n",
       "       'romance', 'roots', 'ruspop', 'rusrap', 'rusrock', 'russian',\n",
       "       'salsa', 'samba', 'scenic', 'schlager', 'self', 'sertanejo',\n",
       "       'shanson', 'shoegazing', 'showtunes', 'singer', 'ska', 'skarock',\n",
       "       'slow', 'smooth', 'soft', 'soul', 'soulful', 'sound', 'soundtrack',\n",
       "       'southern', 'specialty', 'speech', 'spiritual', 'sport',\n",
       "       'stonerrock', 'surf', 'swing', 'synthpop', 'synthrock',\n",
       "       'sängerportrait', 'tango', 'tanzorchester', 'taraftar', 'tatar',\n",
       "       'tech', 'techno', 'teen', 'thrash', 'top', 'traditional',\n",
       "       'tradjazz', 'trance', 'tribal', 'trip', 'triphop', 'tropical',\n",
       "       'türk', 'türkçe', 'ukrrock', 'unknown', 'urban', 'uzbek',\n",
       "       'variété', 'vi', 'videogame', 'vocal', 'western', 'world',\n",
       "       'worldbeat', 'ïîï', 'электроника'], dtype=object)"
      ]
     },
     "metadata": {},
     "output_type": "display_data"
    }
   ],
   "source": [
    "display(df['genre'].sort_values().unique())# Просмотр уникальных названий жанров"
   ]
  },
  {
   "cell_type": "markdown",
   "metadata": {
    "id": "qej-Qmuo_Zct"
   },
   "source": [
    "Из списка названий жанров мы видим, что в жанре `hiphop` есть неявные дубликаты в написании: \n",
    "* *hip*,\n",
    "* *hop*,\n",
    "* *hip-hop*.\n",
    "\n",
    "Необходимо удалить эти дубликаты, заменив верным написанием жанра. Для этого применим метод `replace_wrong_genres()` с двумя параметрами: \n",
    "* `wrong_genres` — список дубликатов,\n",
    "* `correct_genre` — строка с правильным значением.\n"
   ]
  },
  {
   "cell_type": "code",
   "execution_count": 15,
   "metadata": {
    "id": "ErNDkmns_Zct"
   },
   "outputs": [],
   "source": [
    "def replace_wrong_values(wrong_genres,correct_genre):\n",
    "    for wrong_genre in wrong_genres:\n",
    "        df['genre'] = df['genre'].replace(wrong_genre,correct_genre)# Функция для замены неявных дубликатов"
   ]
  },
  {
   "cell_type": "markdown",
   "metadata": {
    "id": "aDoBJxbA_Zct"
   },
   "source": [
    "Вызовем `replace_wrong_genres()` и передадим ей такие аргументы, чтобы она устранила неявные дубликаты: вместо `hip`, `hop` и `hip-hop` в таблице должно быть значение `hiphop`:"
   ]
  },
  {
   "cell_type": "code",
   "execution_count": 16,
   "metadata": {
    "id": "YN5i2hpmSo09"
   },
   "outputs": [],
   "source": [
    "wrong_genres = ['hip','hop','hip-hop']\n",
    "correct_genre = 'hiphop'\n",
    "replace_wrong_values(wrong_genres,correct_genre)\n",
    "# Устранение неявных дубликатов"
   ]
  },
  {
   "cell_type": "markdown",
   "metadata": {
    "id": "zQKF16_RG15m"
   },
   "source": [
    "Проверим, что заменили неправильные названия:\n",
    "\n",
    "*   hip\n",
    "*   hop\n",
    "*   hip-hop\n",
    "\n",
    "Выведем отсортированный список уникальных значений столбца `genre`:"
   ]
  },
  {
   "cell_type": "code",
   "execution_count": 17,
   "metadata": {
    "id": "wvixALnFG15m"
   },
   "outputs": [
    {
     "data": {
      "text/plain": [
       "array(['acid', 'acoustic', 'action', 'adult', 'africa', 'afrikaans',\n",
       "       'alternative', 'alternativepunk', 'ambient', 'americana',\n",
       "       'animated', 'anime', 'arabesk', 'arabic', 'arena',\n",
       "       'argentinetango', 'art', 'audiobook', 'author', 'avantgarde',\n",
       "       'axé', 'baile', 'balkan', 'beats', 'bigroom', 'black', 'bluegrass',\n",
       "       'blues', 'bollywood', 'bossa', 'brazilian', 'breakbeat', 'breaks',\n",
       "       'broadway', 'cantautori', 'cantopop', 'canzone', 'caribbean',\n",
       "       'caucasian', 'celtic', 'chamber', 'chanson', 'children', 'chill',\n",
       "       'chinese', 'choral', 'christian', 'christmas', 'classical',\n",
       "       'classicmetal', 'club', 'colombian', 'comedy', 'conjazz',\n",
       "       'contemporary', 'country', 'cuban', 'dance', 'dancehall',\n",
       "       'dancepop', 'dark', 'death', 'deep', 'deutschrock', 'deutschspr',\n",
       "       'dirty', 'disco', 'dnb', 'documentary', 'downbeat', 'downtempo',\n",
       "       'drum', 'dub', 'dubstep', 'eastern', 'easy', 'electronic',\n",
       "       'electropop', 'emo', 'entehno', 'epicmetal', 'estrada', 'ethnic',\n",
       "       'eurofolk', 'european', 'experimental', 'extrememetal', 'fado',\n",
       "       'fairytail', 'film', 'fitness', 'flamenco', 'folk', 'folklore',\n",
       "       'folkmetal', 'folkrock', 'folktronica', 'forró', 'frankreich',\n",
       "       'französisch', 'french', 'funk', 'future', 'gangsta', 'garage',\n",
       "       'german', 'ghazal', 'gitarre', 'glitch', 'gospel', 'gothic',\n",
       "       'grime', 'grunge', 'gypsy', 'handsup', \"hard'n'heavy\", 'hardcore',\n",
       "       'hardstyle', 'hardtechno', 'hiphop', 'historisch', 'holiday',\n",
       "       'horror', 'house', 'hymn', 'idm', 'independent', 'indian', 'indie',\n",
       "       'indipop', 'industrial', 'inspirational', 'instrumental',\n",
       "       'international', 'irish', 'jam', 'japanese', 'jazz', 'jewish',\n",
       "       'jpop', 'jungle', 'k-pop', 'karadeniz', 'karaoke', 'kayokyoku',\n",
       "       'korean', 'laiko', 'latin', 'latino', 'leftfield', 'local',\n",
       "       'lounge', 'loungeelectronic', 'lovers', 'malaysian', 'mandopop',\n",
       "       'marschmusik', 'meditative', 'mediterranean', 'melodic', 'metal',\n",
       "       'metalcore', 'mexican', 'middle', 'minimal', 'miscellaneous',\n",
       "       'modern', 'mood', 'mpb', 'muslim', 'native', 'neoklassik', 'neue',\n",
       "       'new', 'newage', 'newwave', 'nu', 'nujazz', 'numetal', 'oceania',\n",
       "       'old', 'opera', 'orchestral', 'other', 'piano', 'podcasts', 'pop',\n",
       "       'popdance', 'popelectronic', 'popeurodance', 'poprussian', 'post',\n",
       "       'posthardcore', 'postrock', 'power', 'progmetal', 'progressive',\n",
       "       'psychedelic', 'punjabi', 'punk', 'quebecois', 'ragga', 'ram',\n",
       "       'rancheras', 'rap', 'rave', 'reggae', 'reggaeton', 'regional',\n",
       "       'relax', 'religious', 'retro', 'rhythm', 'rnb', 'rnr', 'rock',\n",
       "       'rockabilly', 'rockalternative', 'rockindie', 'rockother',\n",
       "       'romance', 'roots', 'ruspop', 'rusrap', 'rusrock', 'russian',\n",
       "       'salsa', 'samba', 'scenic', 'schlager', 'self', 'sertanejo',\n",
       "       'shanson', 'shoegazing', 'showtunes', 'singer', 'ska', 'skarock',\n",
       "       'slow', 'smooth', 'soft', 'soul', 'soulful', 'sound', 'soundtrack',\n",
       "       'southern', 'specialty', 'speech', 'spiritual', 'sport',\n",
       "       'stonerrock', 'surf', 'swing', 'synthpop', 'synthrock',\n",
       "       'sängerportrait', 'tango', 'tanzorchester', 'taraftar', 'tatar',\n",
       "       'tech', 'techno', 'teen', 'thrash', 'top', 'traditional',\n",
       "       'tradjazz', 'trance', 'tribal', 'trip', 'triphop', 'tropical',\n",
       "       'türk', 'türkçe', 'ukrrock', 'unknown', 'urban', 'uzbek',\n",
       "       'variété', 'vi', 'videogame', 'vocal', 'western', 'world',\n",
       "       'worldbeat', 'ïîï', 'электроника'], dtype=object)"
      ]
     },
     "metadata": {},
     "output_type": "display_data"
    }
   ],
   "source": [
    "display(df['genre'].sort_values().unique())# Проверка на неявные дубликаты"
   ]
  },
  {
   "cell_type": "markdown",
   "metadata": {
    "id": "jz6a9-7HQUDd"
   },
   "source": [
    "**Выводы**\n",
    "\n",
    "Предобработка обнаружила три проблемы в данных:\n",
    "\n",
    "- нарушения в стиле заголовков,\n",
    "- пропущенные значения,\n",
    "- дубликаты — явные и неявные.\n",
    "\n",
    "Мы подкорректировали заголовки, чтобы упростить работу с таблицей. Без дубликатов исследование станет более точным.\n",
    "\n",
    "Пропущенные значения были заменены на `'unknown'`. Ещё предстоит увидеть, не повредят ли исследованию пропуски в колонке `genre`.\n",
    "\n",
    "Теперь можно перейти к проверке гипотез. "
   ]
  },
  {
   "cell_type": "markdown",
   "metadata": {
    "id": "WttZHXH0SqKk"
   },
   "source": [
    "## Проверка гипотез"
   ]
  },
  {
   "cell_type": "markdown",
   "metadata": {
    "id": "Im936VVi_Zcu"
   },
   "source": [
    "### Сравнение поведения пользователей двух столиц"
   ]
  },
  {
   "cell_type": "markdown",
   "metadata": {
    "id": "nwt_MuaL_Zcu"
   },
   "source": [
    "Первая гипотеза утверждает, что пользователи по-разному слушают музыку в Москве и Санкт-Петербурге. Нам нужно проверить это по данным о трёх днях недели — понедельнике, среде и пятнице. Для этого:\n",
    "\n",
    "* Разделим пользователей Москвы и Санкт-Петербурга\n",
    "* Сравним, сколько треков послушала каждая группа пользователей в понедельник, среду и пятницу.\n"
   ]
  },
  {
   "cell_type": "markdown",
   "metadata": {
    "id": "8Dw_YMmT_Zcu"
   },
   "source": [
    "Оценим активность пользователей в каждом городе, сгруппировав данные по городу и подсчитав значения.\n",
    "\n"
   ]
  },
  {
   "cell_type": "code",
   "execution_count": 18,
   "metadata": {
    "id": "0_Qs96oh_Zcu"
   },
   "outputs": [
    {
     "data": {
      "text/html": [
       "<div>\n",
       "<style scoped>\n",
       "    .dataframe tbody tr th:only-of-type {\n",
       "        vertical-align: middle;\n",
       "    }\n",
       "\n",
       "    .dataframe tbody tr th {\n",
       "        vertical-align: top;\n",
       "    }\n",
       "\n",
       "    .dataframe thead th {\n",
       "        text-align: right;\n",
       "    }\n",
       "</style>\n",
       "<table border=\"1\" class=\"dataframe\">\n",
       "  <thead>\n",
       "    <tr style=\"text-align: right;\">\n",
       "      <th></th>\n",
       "      <th>user_id</th>\n",
       "      <th>track</th>\n",
       "      <th>artist</th>\n",
       "      <th>genre</th>\n",
       "      <th>time</th>\n",
       "      <th>day</th>\n",
       "    </tr>\n",
       "    <tr>\n",
       "      <th>city</th>\n",
       "      <th></th>\n",
       "      <th></th>\n",
       "      <th></th>\n",
       "      <th></th>\n",
       "      <th></th>\n",
       "      <th></th>\n",
       "    </tr>\n",
       "  </thead>\n",
       "  <tbody>\n",
       "    <tr>\n",
       "      <td>Moscow</td>\n",
       "      <td>42741</td>\n",
       "      <td>42741</td>\n",
       "      <td>42741</td>\n",
       "      <td>42741</td>\n",
       "      <td>42741</td>\n",
       "      <td>42741</td>\n",
       "    </tr>\n",
       "    <tr>\n",
       "      <td>Saint-Petersburg</td>\n",
       "      <td>18512</td>\n",
       "      <td>18512</td>\n",
       "      <td>18512</td>\n",
       "      <td>18512</td>\n",
       "      <td>18512</td>\n",
       "      <td>18512</td>\n",
       "    </tr>\n",
       "  </tbody>\n",
       "</table>\n",
       "</div>"
      ],
      "text/plain": [
       "                  user_id  track  artist  genre   time    day\n",
       "city                                                         \n",
       "Moscow              42741  42741   42741  42741  42741  42741\n",
       "Saint-Petersburg    18512  18512   18512  18512  18512  18512"
      ]
     },
     "metadata": {},
     "output_type": "display_data"
    }
   ],
   "source": [
    "display(df.groupby('city').count())\n",
    "\n",
    "# Подсчёт прослушиваний в каждом городе"
   ]
  },
  {
   "cell_type": "markdown",
   "metadata": {
    "id": "dzli3w8o_Zcu"
   },
   "source": [
    "В Москве прослушиваний больше, чем в Петербурге. Из этого не следует, что московские пользователи чаще слушают музыку. Просто самих пользователей в Москве больше.\n",
    "\n",
    "Теперь сгруппируем данные по дню недели и подсчитаем прослушивания в понедельник, среду и пятницу (в данных есть информация только по этим дням).\n"
   ]
  },
  {
   "cell_type": "code",
   "execution_count": 19,
   "metadata": {
    "id": "uZMKjiJz_Zcu"
   },
   "outputs": [
    {
     "data": {
      "text/html": [
       "<div>\n",
       "<style scoped>\n",
       "    .dataframe tbody tr th:only-of-type {\n",
       "        vertical-align: middle;\n",
       "    }\n",
       "\n",
       "    .dataframe tbody tr th {\n",
       "        vertical-align: top;\n",
       "    }\n",
       "\n",
       "    .dataframe thead th {\n",
       "        text-align: right;\n",
       "    }\n",
       "</style>\n",
       "<table border=\"1\" class=\"dataframe\">\n",
       "  <thead>\n",
       "    <tr style=\"text-align: right;\">\n",
       "      <th></th>\n",
       "      <th>user_id</th>\n",
       "      <th>track</th>\n",
       "      <th>artist</th>\n",
       "      <th>genre</th>\n",
       "      <th>city</th>\n",
       "      <th>time</th>\n",
       "    </tr>\n",
       "    <tr>\n",
       "      <th>day</th>\n",
       "      <th></th>\n",
       "      <th></th>\n",
       "      <th></th>\n",
       "      <th></th>\n",
       "      <th></th>\n",
       "      <th></th>\n",
       "    </tr>\n",
       "  </thead>\n",
       "  <tbody>\n",
       "    <tr>\n",
       "      <td>Friday</td>\n",
       "      <td>21840</td>\n",
       "      <td>21840</td>\n",
       "      <td>21840</td>\n",
       "      <td>21840</td>\n",
       "      <td>21840</td>\n",
       "      <td>21840</td>\n",
       "    </tr>\n",
       "    <tr>\n",
       "      <td>Monday</td>\n",
       "      <td>21354</td>\n",
       "      <td>21354</td>\n",
       "      <td>21354</td>\n",
       "      <td>21354</td>\n",
       "      <td>21354</td>\n",
       "      <td>21354</td>\n",
       "    </tr>\n",
       "    <tr>\n",
       "      <td>Wednesday</td>\n",
       "      <td>18059</td>\n",
       "      <td>18059</td>\n",
       "      <td>18059</td>\n",
       "      <td>18059</td>\n",
       "      <td>18059</td>\n",
       "      <td>18059</td>\n",
       "    </tr>\n",
       "  </tbody>\n",
       "</table>\n",
       "</div>"
      ],
      "text/plain": [
       "           user_id  track  artist  genre   city   time\n",
       "day                                                   \n",
       "Friday       21840  21840   21840  21840  21840  21840\n",
       "Monday       21354  21354   21354  21354  21354  21354\n",
       "Wednesday    18059  18059   18059  18059  18059  18059"
      ]
     },
     "metadata": {},
     "output_type": "display_data"
    }
   ],
   "source": [
    "display(df.groupby('day').count())\n",
    "\n",
    "# Подсчёт прослушиваний в каждый из трёх дней"
   ]
  },
  {
   "cell_type": "markdown",
   "metadata": {
    "id": "cC2tNrlL_Zcu"
   },
   "source": [
    "В среднем пользователи из двух городов менее активны по средам. Но картина может измениться, если рассмотреть каждый город в отдельности."
   ]
  },
  {
   "cell_type": "markdown",
   "metadata": {
    "id": "POzs8bGa_Zcu"
   },
   "source": [
    "В целом, пользователи и Москвы, и Петербурга менее активны по средам. Но необходимо рассмотреть данные по каждому городу в отдельности.\n",
    "\n",
    "Теперь нам нужно создать функцию `number_tracks()`, которая посчитает прослушивания для заданного дня и города. Функция принимает на вход два параметра:\n",
    "* день недели,\n",
    "* название города.\n",
    "\n",
    "В функции сохраним в переменную строки исходной таблицы, у которых значение:\n",
    "  * в колонке `day` равно параметру `day`,\n",
    "  * в колонке `city` равно параметру `city`.\n",
    "\n",
    "Сделаем это с помощью фильтрации с логической индексацией.\n",
    "\n",
    "Затем посчитаем значения в столбце `user_id` получившейся таблицы. Результат сохраним в новую переменную. Вернем результат работы функции."
   ]
  },
  {
   "cell_type": "code",
   "execution_count": 20,
   "metadata": {
    "id": "Nz3GdQB1_Zcu"
   },
   "outputs": [],
   "source": [
    "def number_tracks(day,city):\n",
    "    track_list = df[df['day']==day]\n",
    "    track_list = track_list[track_list['city']==city]\n",
    "    track_list_count = track_list['user_id'].count()\n",
    "    return track_list_count\n",
    "# <создание функции number_tracks()>\n",
    "# Объявляется функция с двумя параметрами: day, city.\n",
    "# В переменной track_list сохраняются те строки таблицы df, для которых \n",
    "# значение в столбце 'day' равно параметру day и одновременно значение\n",
    "# в столбце 'city' равно параметру city (используйте последовательную фильтрацию\n",
    "# с помощью логической индексации).\n",
    "# В переменной track_list_count сохраняется число значений столбца 'user_id',\n",
    "# рассчитанное методом count() для таблицы track_list.\n",
    "# Функция возвращает число - значение track_list_count.\n",
    "# Функция для подсчёта прослушиваний для конкретного города и дня.\n",
    "# С помощью последовательной фильтрации с логической индексацией она \n",
    "# сначала получит из исходной таблицы строки с нужным днём,\n",
    "# затем из результата отфильтрует строки с нужным городом,\n",
    "# методом count() посчитает количество значений в колонке user_id. \n",
    "# Это количество функция вернёт в качестве результата"
   ]
  },
  {
   "cell_type": "markdown",
   "metadata": {
    "id": "ytf7xFrFJQ2r"
   },
   "source": [
    "Вызовем `number_tracks()` шесть раз, меняя значение параметров — так, чтобы получить данные для каждого города в каждый из трёх дней."
   ]
  },
  {
   "cell_type": "code",
   "execution_count": 21,
   "metadata": {
    "id": "rJcRATNQ_Zcu"
   },
   "outputs": [
    {
     "data": {
      "text/plain": [
       "15740"
      ]
     },
     "execution_count": 21,
     "metadata": {},
     "output_type": "execute_result"
    }
   ],
   "source": [
    "number_tracks(day='Monday', city='Moscow')# количество прослушиваний в Москве по понедельникам"
   ]
  },
  {
   "cell_type": "code",
   "execution_count": 22,
   "metadata": {
    "id": "hq_ncZ5T_Zcu"
   },
   "outputs": [
    {
     "data": {
      "text/plain": [
       "5614"
      ]
     },
     "execution_count": 22,
     "metadata": {},
     "output_type": "execute_result"
    }
   ],
   "source": [
    "number_tracks(day='Monday', city='Saint-Petersburg')# количество прослушиваний в Санкт-Петербурге по понедельникам"
   ]
  },
  {
   "cell_type": "code",
   "execution_count": 23,
   "metadata": {
    "id": "_NTy2VPU_Zcu"
   },
   "outputs": [
    {
     "data": {
      "text/plain": [
       "11056"
      ]
     },
     "execution_count": 23,
     "metadata": {},
     "output_type": "execute_result"
    }
   ],
   "source": [
    "number_tracks(day='Wednesday', city='Moscow')# количество прослушиваний в Москве по средам"
   ]
  },
  {
   "cell_type": "code",
   "execution_count": 24,
   "metadata": {
    "id": "j2y3TAwo_Zcu"
   },
   "outputs": [
    {
     "data": {
      "text/plain": [
       "7003"
      ]
     },
     "execution_count": 24,
     "metadata": {},
     "output_type": "execute_result"
    }
   ],
   "source": [
    "number_tracks(day='Wednesday', city='Saint-Petersburg')# количество прослушиваний в Санкт-Петербурге по средам"
   ]
  },
  {
   "cell_type": "code",
   "execution_count": 25,
   "metadata": {
    "id": "vYDw5u_K_Zcu"
   },
   "outputs": [
    {
     "data": {
      "text/plain": [
       "15945"
      ]
     },
     "execution_count": 25,
     "metadata": {},
     "output_type": "execute_result"
    }
   ],
   "source": [
    "number_tracks(day='Friday', city='Moscow')# количество прослушиваний в Москве по пятницам"
   ]
  },
  {
   "cell_type": "code",
   "execution_count": 26,
   "metadata": {
    "id": "8_yzFtW3_Zcu"
   },
   "outputs": [
    {
     "data": {
      "text/plain": [
       "5895"
      ]
     },
     "execution_count": 26,
     "metadata": {},
     "output_type": "execute_result"
    }
   ],
   "source": [
    "number_tracks(day='Friday', city='Saint-Petersburg')# количество прослушиваний в Санкт-Петербурге по пятницам"
   ]
  },
  {
   "cell_type": "markdown",
   "metadata": {
    "id": "7QXffbO-_Zcu"
   },
   "source": [
    "При помощи конструктора pd.DataFrame создадим датафрейм, где:\n",
    "* названия колонок — `['city', 'monday', 'wednesday', 'friday']`;\n",
    "* данные — результаты, которые вы получили с помощью `number_tracks`."
   ]
  },
  {
   "cell_type": "code",
   "execution_count": 27,
   "metadata": {
    "id": "APAcLpOr_Zcu"
   },
   "outputs": [
    {
     "data": {
      "text/html": [
       "<div>\n",
       "<style scoped>\n",
       "    .dataframe tbody tr th:only-of-type {\n",
       "        vertical-align: middle;\n",
       "    }\n",
       "\n",
       "    .dataframe tbody tr th {\n",
       "        vertical-align: top;\n",
       "    }\n",
       "\n",
       "    .dataframe thead th {\n",
       "        text-align: right;\n",
       "    }\n",
       "</style>\n",
       "<table border=\"1\" class=\"dataframe\">\n",
       "  <thead>\n",
       "    <tr style=\"text-align: right;\">\n",
       "      <th></th>\n",
       "      <th>city</th>\n",
       "      <th>monday</th>\n",
       "      <th>wednesday</th>\n",
       "      <th>friday</th>\n",
       "    </tr>\n",
       "  </thead>\n",
       "  <tbody>\n",
       "    <tr>\n",
       "      <td>0</td>\n",
       "      <td>Moscow</td>\n",
       "      <td>15740</td>\n",
       "      <td>11056</td>\n",
       "      <td>15945</td>\n",
       "    </tr>\n",
       "    <tr>\n",
       "      <td>1</td>\n",
       "      <td>Saint-Petersburg</td>\n",
       "      <td>5614</td>\n",
       "      <td>7003</td>\n",
       "      <td>5895</td>\n",
       "    </tr>\n",
       "  </tbody>\n",
       "</table>\n",
       "</div>"
      ],
      "text/plain": [
       "               city  monday  wednesday  friday\n",
       "0            Moscow   15740      11056   15945\n",
       "1  Saint-Petersburg    5614       7003    5895"
      ]
     },
     "metadata": {},
     "output_type": "display_data"
    }
   ],
   "source": [
    "columns_name = ['city','monday','wednesday','friday']\n",
    "number_tracks = [['Moscow', 15740, 11056, 15945],\n",
    "                 ['Saint-Petersburg', 5614, 7003, 5895],\n",
    "                ]\n",
    "df_final = pd.DataFrame(data = number_tracks, columns = columns_name)\n",
    "display(df_final)# Таблица с результатами"
   ]
  },
  {
   "cell_type": "markdown",
   "metadata": {
    "id": "-EgPIHYu_Zcu"
   },
   "source": [
    "**Выводы**\n",
    "\n",
    "Данные показывают разницу поведения пользователей:\n",
    "\n",
    "- В Москве пик прослушиваний приходится на понедельник и пятницу, в среду пользователи менее активны;\n",
    "- В Петербурге, наоборот, больше слушают музыку по средам. Активность в понедельник и пятницу здесь уступает автивности по средам.\n",
    "\n",
    "А это значит, что первая гипотеза верна."
   ]
  },
  {
   "cell_type": "markdown",
   "metadata": {
    "id": "atZAxtq4_Zcu"
   },
   "source": [
    "### Музыка в начале и в конце недели"
   ]
  },
  {
   "cell_type": "markdown",
   "metadata": {
    "id": "eXrQqXFH_Zcu"
   },
   "source": [
    "Согласно второй гипотезе, утром в понедельник в Москве преобладают одни жанры, а в Петербурге — другие. Так же и вечером пятницы преобладают разные жанры — в зависимости от города."
   ]
  },
  {
   "cell_type": "markdown",
   "metadata": {
    "id": "S8UcW6Hw_Zcu"
   },
   "source": [
    "Сохраним таблицы с данными в две переменные:\n",
    "* по Москве — в `moscow_general`;\n",
    "* по Санкт-Петербургу — в `spb_general`."
   ]
  },
  {
   "cell_type": "code",
   "execution_count": 28,
   "metadata": {
    "id": "qeaFfM_P_Zcu"
   },
   "outputs": [
    {
     "data": {
      "text/html": [
       "<div>\n",
       "<style scoped>\n",
       "    .dataframe tbody tr th:only-of-type {\n",
       "        vertical-align: middle;\n",
       "    }\n",
       "\n",
       "    .dataframe tbody tr th {\n",
       "        vertical-align: top;\n",
       "    }\n",
       "\n",
       "    .dataframe thead th {\n",
       "        text-align: right;\n",
       "    }\n",
       "</style>\n",
       "<table border=\"1\" class=\"dataframe\">\n",
       "  <thead>\n",
       "    <tr style=\"text-align: right;\">\n",
       "      <th></th>\n",
       "      <th>user_id</th>\n",
       "      <th>track</th>\n",
       "      <th>artist</th>\n",
       "      <th>genre</th>\n",
       "      <th>city</th>\n",
       "      <th>time</th>\n",
       "      <th>day</th>\n",
       "    </tr>\n",
       "  </thead>\n",
       "  <tbody>\n",
       "    <tr>\n",
       "      <td>1</td>\n",
       "      <td>55204538</td>\n",
       "      <td>Delayed Because of Accident</td>\n",
       "      <td>Andreas Rönnberg</td>\n",
       "      <td>rock</td>\n",
       "      <td>Moscow</td>\n",
       "      <td>14:07:09</td>\n",
       "      <td>Friday</td>\n",
       "    </tr>\n",
       "    <tr>\n",
       "      <td>4</td>\n",
       "      <td>E2DC1FAE</td>\n",
       "      <td>Soul People</td>\n",
       "      <td>Space Echo</td>\n",
       "      <td>dance</td>\n",
       "      <td>Moscow</td>\n",
       "      <td>08:34:34</td>\n",
       "      <td>Monday</td>\n",
       "    </tr>\n",
       "    <tr>\n",
       "      <td>6</td>\n",
       "      <td>4CB90AA5</td>\n",
       "      <td>True</td>\n",
       "      <td>Roman Messer</td>\n",
       "      <td>dance</td>\n",
       "      <td>Moscow</td>\n",
       "      <td>13:00:07</td>\n",
       "      <td>Wednesday</td>\n",
       "    </tr>\n",
       "    <tr>\n",
       "      <td>7</td>\n",
       "      <td>F03E1C1F</td>\n",
       "      <td>Feeling This Way</td>\n",
       "      <td>Polina Griffith</td>\n",
       "      <td>dance</td>\n",
       "      <td>Moscow</td>\n",
       "      <td>20:47:49</td>\n",
       "      <td>Wednesday</td>\n",
       "    </tr>\n",
       "    <tr>\n",
       "      <td>8</td>\n",
       "      <td>8FA1D3BE</td>\n",
       "      <td>И вновь продолжается бой</td>\n",
       "      <td>unknown</td>\n",
       "      <td>ruspop</td>\n",
       "      <td>Moscow</td>\n",
       "      <td>09:17:40</td>\n",
       "      <td>Friday</td>\n",
       "    </tr>\n",
       "    <tr>\n",
       "      <td>...</td>\n",
       "      <td>...</td>\n",
       "      <td>...</td>\n",
       "      <td>...</td>\n",
       "      <td>...</td>\n",
       "      <td>...</td>\n",
       "      <td>...</td>\n",
       "      <td>...</td>\n",
       "    </tr>\n",
       "    <tr>\n",
       "      <td>61247</td>\n",
       "      <td>83A474E7</td>\n",
       "      <td>I Worship Only What You Bleed</td>\n",
       "      <td>The Black Dahlia Murder</td>\n",
       "      <td>extrememetal</td>\n",
       "      <td>Moscow</td>\n",
       "      <td>21:07:12</td>\n",
       "      <td>Monday</td>\n",
       "    </tr>\n",
       "    <tr>\n",
       "      <td>61248</td>\n",
       "      <td>729CBB09</td>\n",
       "      <td>My Name</td>\n",
       "      <td>McLean</td>\n",
       "      <td>rnb</td>\n",
       "      <td>Moscow</td>\n",
       "      <td>13:32:28</td>\n",
       "      <td>Wednesday</td>\n",
       "    </tr>\n",
       "    <tr>\n",
       "      <td>61250</td>\n",
       "      <td>C5E3A0D5</td>\n",
       "      <td>Jalopiina</td>\n",
       "      <td>unknown</td>\n",
       "      <td>industrial</td>\n",
       "      <td>Moscow</td>\n",
       "      <td>20:09:26</td>\n",
       "      <td>Friday</td>\n",
       "    </tr>\n",
       "    <tr>\n",
       "      <td>61251</td>\n",
       "      <td>321D0506</td>\n",
       "      <td>Freight Train</td>\n",
       "      <td>Chas McDevitt</td>\n",
       "      <td>rock</td>\n",
       "      <td>Moscow</td>\n",
       "      <td>21:43:59</td>\n",
       "      <td>Friday</td>\n",
       "    </tr>\n",
       "    <tr>\n",
       "      <td>61252</td>\n",
       "      <td>3A64EF84</td>\n",
       "      <td>Tell Me Sweet Little Lies</td>\n",
       "      <td>Monica Lopez</td>\n",
       "      <td>country</td>\n",
       "      <td>Moscow</td>\n",
       "      <td>21:59:46</td>\n",
       "      <td>Friday</td>\n",
       "    </tr>\n",
       "  </tbody>\n",
       "</table>\n",
       "<p>42741 rows × 7 columns</p>\n",
       "</div>"
      ],
      "text/plain": [
       "        user_id                          track                   artist  \\\n",
       "1      55204538    Delayed Because of Accident         Andreas Rönnberg   \n",
       "4      E2DC1FAE                    Soul People               Space Echo   \n",
       "6      4CB90AA5                           True             Roman Messer   \n",
       "7      F03E1C1F               Feeling This Way          Polina Griffith   \n",
       "8      8FA1D3BE       И вновь продолжается бой                  unknown   \n",
       "...         ...                            ...                      ...   \n",
       "61247  83A474E7  I Worship Only What You Bleed  The Black Dahlia Murder   \n",
       "61248  729CBB09                        My Name                   McLean   \n",
       "61250  C5E3A0D5                      Jalopiina                  unknown   \n",
       "61251  321D0506                  Freight Train            Chas McDevitt   \n",
       "61252  3A64EF84      Tell Me Sweet Little Lies             Monica Lopez   \n",
       "\n",
       "              genre    city      time        day  \n",
       "1              rock  Moscow  14:07:09     Friday  \n",
       "4             dance  Moscow  08:34:34     Monday  \n",
       "6             dance  Moscow  13:00:07  Wednesday  \n",
       "7             dance  Moscow  20:47:49  Wednesday  \n",
       "8            ruspop  Moscow  09:17:40     Friday  \n",
       "...             ...     ...       ...        ...  \n",
       "61247  extrememetal  Moscow  21:07:12     Monday  \n",
       "61248           rnb  Moscow  13:32:28  Wednesday  \n",
       "61250    industrial  Moscow  20:09:26     Friday  \n",
       "61251          rock  Moscow  21:43:59     Friday  \n",
       "61252       country  Moscow  21:59:46     Friday  \n",
       "\n",
       "[42741 rows x 7 columns]"
      ]
     },
     "metadata": {},
     "output_type": "display_data"
    }
   ],
   "source": [
    "moscow_general = df[df['city']=='Moscow']\n",
    "display(moscow_general)# получение таблицы moscow_general из тех строк таблицы df, \n",
    "# для которых значение в столбце 'city' равно 'Moscow'\n"
   ]
  },
  {
   "cell_type": "code",
   "execution_count": 29,
   "metadata": {
    "id": "ORaVRKto_Zcu"
   },
   "outputs": [
    {
     "data": {
      "text/html": [
       "<div>\n",
       "<style scoped>\n",
       "    .dataframe tbody tr th:only-of-type {\n",
       "        vertical-align: middle;\n",
       "    }\n",
       "\n",
       "    .dataframe tbody tr th {\n",
       "        vertical-align: top;\n",
       "    }\n",
       "\n",
       "    .dataframe thead th {\n",
       "        text-align: right;\n",
       "    }\n",
       "</style>\n",
       "<table border=\"1\" class=\"dataframe\">\n",
       "  <thead>\n",
       "    <tr style=\"text-align: right;\">\n",
       "      <th></th>\n",
       "      <th>user_id</th>\n",
       "      <th>track</th>\n",
       "      <th>artist</th>\n",
       "      <th>genre</th>\n",
       "      <th>city</th>\n",
       "      <th>time</th>\n",
       "      <th>day</th>\n",
       "    </tr>\n",
       "  </thead>\n",
       "  <tbody>\n",
       "    <tr>\n",
       "      <td>0</td>\n",
       "      <td>FFB692EC</td>\n",
       "      <td>Kamigata To Boots</td>\n",
       "      <td>The Mass Missile</td>\n",
       "      <td>rock</td>\n",
       "      <td>Saint-Petersburg</td>\n",
       "      <td>20:28:33</td>\n",
       "      <td>Wednesday</td>\n",
       "    </tr>\n",
       "    <tr>\n",
       "      <td>2</td>\n",
       "      <td>20EC38</td>\n",
       "      <td>Funiculì funiculà</td>\n",
       "      <td>Mario Lanza</td>\n",
       "      <td>pop</td>\n",
       "      <td>Saint-Petersburg</td>\n",
       "      <td>20:58:07</td>\n",
       "      <td>Wednesday</td>\n",
       "    </tr>\n",
       "    <tr>\n",
       "      <td>3</td>\n",
       "      <td>A3DD03C9</td>\n",
       "      <td>Dragons in the Sunset</td>\n",
       "      <td>Fire + Ice</td>\n",
       "      <td>folk</td>\n",
       "      <td>Saint-Petersburg</td>\n",
       "      <td>08:37:09</td>\n",
       "      <td>Monday</td>\n",
       "    </tr>\n",
       "    <tr>\n",
       "      <td>5</td>\n",
       "      <td>842029A1</td>\n",
       "      <td>Преданная</td>\n",
       "      <td>IMPERVTOR</td>\n",
       "      <td>rusrap</td>\n",
       "      <td>Saint-Petersburg</td>\n",
       "      <td>13:09:41</td>\n",
       "      <td>Friday</td>\n",
       "    </tr>\n",
       "    <tr>\n",
       "      <td>9</td>\n",
       "      <td>E772D5C0</td>\n",
       "      <td>Pessimist</td>\n",
       "      <td>unknown</td>\n",
       "      <td>dance</td>\n",
       "      <td>Saint-Petersburg</td>\n",
       "      <td>21:20:49</td>\n",
       "      <td>Wednesday</td>\n",
       "    </tr>\n",
       "    <tr>\n",
       "      <td>...</td>\n",
       "      <td>...</td>\n",
       "      <td>...</td>\n",
       "      <td>...</td>\n",
       "      <td>...</td>\n",
       "      <td>...</td>\n",
       "      <td>...</td>\n",
       "      <td>...</td>\n",
       "    </tr>\n",
       "    <tr>\n",
       "      <td>61239</td>\n",
       "      <td>D94F810B</td>\n",
       "      <td>Theme from the Walking Dead</td>\n",
       "      <td>Proyecto Halloween</td>\n",
       "      <td>film</td>\n",
       "      <td>Saint-Petersburg</td>\n",
       "      <td>21:14:40</td>\n",
       "      <td>Monday</td>\n",
       "    </tr>\n",
       "    <tr>\n",
       "      <td>61240</td>\n",
       "      <td>BC8EC5CF</td>\n",
       "      <td>Red Lips: Gta (Rover Rework)</td>\n",
       "      <td>Rover</td>\n",
       "      <td>electronic</td>\n",
       "      <td>Saint-Petersburg</td>\n",
       "      <td>21:06:50</td>\n",
       "      <td>Monday</td>\n",
       "    </tr>\n",
       "    <tr>\n",
       "      <td>61241</td>\n",
       "      <td>29E04611</td>\n",
       "      <td>Bre Petrunko</td>\n",
       "      <td>Perunika Trio</td>\n",
       "      <td>world</td>\n",
       "      <td>Saint-Petersburg</td>\n",
       "      <td>13:56:00</td>\n",
       "      <td>Monday</td>\n",
       "    </tr>\n",
       "    <tr>\n",
       "      <td>61242</td>\n",
       "      <td>1B91C621</td>\n",
       "      <td>(Hello) Cloud Mountain</td>\n",
       "      <td>sleepmakeswaves</td>\n",
       "      <td>postrock</td>\n",
       "      <td>Saint-Petersburg</td>\n",
       "      <td>09:22:13</td>\n",
       "      <td>Monday</td>\n",
       "    </tr>\n",
       "    <tr>\n",
       "      <td>61249</td>\n",
       "      <td>D08D4A55</td>\n",
       "      <td>Maybe One Day (feat. Black Spade)</td>\n",
       "      <td>Blu &amp; Exile</td>\n",
       "      <td>hiphop</td>\n",
       "      <td>Saint-Petersburg</td>\n",
       "      <td>10:00:00</td>\n",
       "      <td>Monday</td>\n",
       "    </tr>\n",
       "  </tbody>\n",
       "</table>\n",
       "<p>18512 rows × 7 columns</p>\n",
       "</div>"
      ],
      "text/plain": [
       "        user_id                              track              artist  \\\n",
       "0      FFB692EC                  Kamigata To Boots    The Mass Missile   \n",
       "2        20EC38                  Funiculì funiculà         Mario Lanza   \n",
       "3      A3DD03C9              Dragons in the Sunset          Fire + Ice   \n",
       "5      842029A1                          Преданная           IMPERVTOR   \n",
       "9      E772D5C0                          Pessimist             unknown   \n",
       "...         ...                                ...                 ...   \n",
       "61239  D94F810B        Theme from the Walking Dead  Proyecto Halloween   \n",
       "61240  BC8EC5CF       Red Lips: Gta (Rover Rework)               Rover   \n",
       "61241  29E04611                       Bre Petrunko       Perunika Trio   \n",
       "61242  1B91C621             (Hello) Cloud Mountain     sleepmakeswaves   \n",
       "61249  D08D4A55  Maybe One Day (feat. Black Spade)         Blu & Exile   \n",
       "\n",
       "            genre              city      time        day  \n",
       "0            rock  Saint-Petersburg  20:28:33  Wednesday  \n",
       "2             pop  Saint-Petersburg  20:58:07  Wednesday  \n",
       "3            folk  Saint-Petersburg  08:37:09     Monday  \n",
       "5          rusrap  Saint-Petersburg  13:09:41     Friday  \n",
       "9           dance  Saint-Petersburg  21:20:49  Wednesday  \n",
       "...           ...               ...       ...        ...  \n",
       "61239        film  Saint-Petersburg  21:14:40     Monday  \n",
       "61240  electronic  Saint-Petersburg  21:06:50     Monday  \n",
       "61241       world  Saint-Petersburg  13:56:00     Monday  \n",
       "61242    postrock  Saint-Petersburg  09:22:13     Monday  \n",
       "61249      hiphop  Saint-Petersburg  10:00:00     Monday  \n",
       "\n",
       "[18512 rows x 7 columns]"
      ]
     },
     "metadata": {},
     "output_type": "display_data"
    }
   ],
   "source": [
    "spb_general = df[df['city']=='Saint-Petersburg']\n",
    "display(spb_general)# получение таблицы spb_general из тех строк таблицы df,\n",
    "# для которых значение в столбце 'city' равно 'Saint-Petersburg'\n"
   ]
  },
  {
   "cell_type": "markdown",
   "metadata": {
    "id": "MEJV-CX2_Zcu"
   },
   "source": [
    "Нам нужно создать функцию `genre_weekday()` с четырьмя параметрами:\n",
    "* таблица (датафрейм) с данными,\n",
    "* день недели,\n",
    "* начальная временная метка в формате 'hh:mm', \n",
    "* последняя временная метка в формате 'hh:mm'.\n",
    "\n",
    "Функция должна вернуть информацию о топ-10 жанров тех треков, которые прослушивали в указанный день, в промежутке между двумя отметками времени."
   ]
  },
  {
   "cell_type": "code",
   "execution_count": 30,
   "metadata": {
    "id": "laJT9BYl_Zcu"
   },
   "outputs": [],
   "source": [
    "def genre_weekday(table,day,time1,time2):\n",
    "    genre_df = table[table['day'] == day]\n",
    "    genre_df = genre_df[genre_df['time'] > time1]\n",
    "    genre_df = genre_df[genre_df['time'] < time2]\n",
    "    genre_df_sorted = genre_df['genre'].value_counts()\n",
    "    return genre_df_sorted.head(10)\n",
    "\n",
    "\n",
    "\n",
    "# Объявление функции genre_weekday() с параметрами table, day, time1, time2,\n",
    "# которая возвращает информацию о самых популярных жанрах в указанный день в\n",
    "# заданное время:\n",
    "# 1) в переменную genre_df сохраняются те строки переданного датафрейма table, для\n",
    "#    которых одновременно:\n",
    "#    - значение в столбце day равно значению аргумента day\n",
    "#    - значение в столбце time больше значения аргумента time1\n",
    "#    - значение в столбце time меньше значения аргумента time2\n",
    "#    Используйте последовательную фильтрацию с помощью логической индексации.\n",
    "# 2) сгруппировать датафрейм genre_df по столбцу genre, взять один из его\n",
    "#    столбцов и посчитать методом count() количество записей для каждого из\n",
    "#    присутствующих жанров, получившийся Series записать в переменную\n",
    "#    genre_df_count\n",
    "# 3) отсортировать genre_df_count по убыванию встречаемости и сохранить\n",
    "#    в переменную genre_df_sorted\n",
    "# 4) вернуть Series из 10 первых значений genre_df_sorted, это будут топ-10\n",
    "#    популярных жанров (в указанный день, в заданное время)"
   ]
  },
  {
   "cell_type": "markdown",
   "metadata": {
    "id": "la2s2_PF_Zcu"
   },
   "source": [
    "Теперь сравним резульаты работы функции `genre_weekday()` для Москвы и Санкт-Петербурга в понедельник утром (с 7:00 до 11:00) и в пятницу вечером (с 17:00 до 23:00):"
   ]
  },
  {
   "cell_type": "code",
   "execution_count": 31,
   "metadata": {
    "id": "yz7itPUQ_Zcu"
   },
   "outputs": [
    {
     "data": {
      "text/plain": [
       "pop            781\n",
       "dance          549\n",
       "electronic     480\n",
       "rock           474\n",
       "hiphop         286\n",
       "ruspop         186\n",
       "world          181\n",
       "rusrap         175\n",
       "alternative    164\n",
       "unknown        161\n",
       "Name: genre, dtype: int64"
      ]
     },
     "execution_count": 31,
     "metadata": {},
     "output_type": "execute_result"
    }
   ],
   "source": [
    "genre_weekday(moscow_general, 'Monday', '07:00', '11:00')\n",
    "# вызов функции для утра понедельника в Москве (вместо df — таблица moscow_general)\n",
    "# объекты, хранящие время, являются строками и сравниваются как строки\n",
    "# пример вызова: genre_weekday(moscow_general, 'Monday', '07:00', '11:00')"
   ]
  },
  {
   "cell_type": "code",
   "execution_count": 32,
   "metadata": {
    "id": "kwUcHPdy_Zcu"
   },
   "outputs": [
    {
     "data": {
      "text/plain": [
       "pop            218\n",
       "dance          182\n",
       "rock           162\n",
       "electronic     147\n",
       "hiphop          80\n",
       "ruspop          64\n",
       "alternative     58\n",
       "rusrap          55\n",
       "jazz            44\n",
       "classical       40\n",
       "Name: genre, dtype: int64"
      ]
     },
     "execution_count": 32,
     "metadata": {},
     "output_type": "execute_result"
    }
   ],
   "source": [
    "genre_weekday(spb_general, 'Monday', '07:00', '11:00')\n",
    "# вызов функции для утра понедельника в Петербурге (вместо df — таблица spb_general)"
   ]
  },
  {
   "cell_type": "code",
   "execution_count": 33,
   "metadata": {
    "id": "EzXVRE1o_Zcu"
   },
   "outputs": [
    {
     "data": {
      "text/plain": [
       "pop            713\n",
       "rock           517\n",
       "dance          495\n",
       "electronic     482\n",
       "hiphop         273\n",
       "world          208\n",
       "ruspop         170\n",
       "classical      163\n",
       "alternative    163\n",
       "rusrap         142\n",
       "Name: genre, dtype: int64"
      ]
     },
     "execution_count": 33,
     "metadata": {},
     "output_type": "execute_result"
    }
   ],
   "source": [
    "genre_weekday(moscow_general, 'Friday', '17:00', '23:00')# вызов функции для вечера пятницы в Москве"
   ]
  },
  {
   "cell_type": "code",
   "execution_count": 34,
   "metadata": {
    "id": "JZaEKu5v_Zcu"
   },
   "outputs": [
    {
     "data": {
      "text/plain": [
       "pop            256\n",
       "electronic     216\n",
       "rock           216\n",
       "dance          210\n",
       "hiphop          97\n",
       "alternative     63\n",
       "jazz            61\n",
       "classical       60\n",
       "rusrap          59\n",
       "world           54\n",
       "Name: genre, dtype: int64"
      ]
     },
     "execution_count": 34,
     "metadata": {},
     "output_type": "execute_result"
    }
   ],
   "source": [
    "genre_weekday(spb_general, 'Friday', '17:00', '23:00')# вызов функции для вечера пятницы в Петербурге"
   ]
  },
  {
   "cell_type": "markdown",
   "metadata": {
    "id": "wrCe4MNX_Zcu"
   },
   "source": [
    "**Выводы**\n",
    "\n",
    "Если сравнить топ-10 жанров в понедельник утром, можно сделать такие выводы:\n",
    "\n",
    "1. В Москве и Петербурге слушают похожую музыку. Единственное отличие — в московский рейтинг вошёл жанр “world”, а в петербургский — джаз и классика.\n",
    "\n",
    "2. В Москве пропущенных значений оказалось так много, что значение `'unknown'` заняло десятое место среди самых популярных жанров. Значит, пропущенные значения занимают существенную долю в данных и угрожают достоверности исследования.\n",
    "\n",
    "Вечер пятницы никак не влияет на топ-10 жанров - он остается таким же, только некоторые показатели становятся выше, чем другие.\n",
    "\n",
    "Таким образом, вторая гипотеза подтвердилась лишь частично:\n",
    "* Пользователи слушают похожую музыку в начале недели и в конце.\n",
    "* Разница между Москвой и Петербургом не слишком выражена. В Москве чаще слушают русскую популярную музыку, в Петербурге — джаз.\n",
    "\n",
    "Возможно, пропуски в данных влияют на этот результат. В Москве их так много, что рейтинг топ-10 мог бы выглядеть иначе, если бы не утерянные  данные о жанрах."
   ]
  },
  {
   "cell_type": "markdown",
   "metadata": {
    "id": "JolODAqr_Zcu"
   },
   "source": [
    "### Жанровые предпочтения в Москве и Петербурге\n",
    "\n",
    "Гипотеза: Петербург — столица рэпа, музыку этого жанра там слушают чаще, чем в Москве.  А Москва — город контрастов, в котором, тем не менее, преобладает поп-музыка."
   ]
  },
  {
   "cell_type": "markdown",
   "metadata": {
    "id": "DlegSvaT_Zcu"
   },
   "source": [
    "Для проверки гипотезы нужно сгруппировать данные датасета `moscow_general` по жанру и посчитать прослушивания треков каждого жанра методом `count()`, отсортировать результат в порядке убывания и сохранить его в таблице `moscow_genres`."
   ]
  },
  {
   "cell_type": "code",
   "execution_count": 35,
   "metadata": {
    "id": "r19lIPke_Zcu"
   },
   "outputs": [],
   "source": [
    "moscow_genres = moscow_general.groupby('genre')['genre'].count().sort_values(ascending = False)\n",
    "# одной строкой: группировка таблицы moscow_general по столбцу 'genre', \n",
    "# подсчёт числа значений 'genre' в этой группировке методом count(), \n",
    "# сортировка получившегося Series в порядке убывания и сохранение в moscow_genres"
   ]
  },
  {
   "cell_type": "markdown",
   "metadata": {
    "id": "6kMuomxTiIr8"
   },
   "source": [
    "Просмотрим первые десять строк `moscow_genres`:"
   ]
  },
  {
   "cell_type": "code",
   "execution_count": 36,
   "metadata": {
    "id": "WhCSooF8_Zcv"
   },
   "outputs": [
    {
     "data": {
      "text/plain": [
       "genre\n",
       "pop            5892\n",
       "dance          4435\n",
       "rock           3965\n",
       "electronic     3786\n",
       "hiphop         2096\n",
       "classical      1616\n",
       "world          1432\n",
       "alternative    1379\n",
       "ruspop         1372\n",
       "rusrap         1161\n",
       "Name: genre, dtype: int64"
      ]
     },
     "execution_count": 36,
     "metadata": {},
     "output_type": "execute_result"
    }
   ],
   "source": [
    "moscow_genres.head(10)# просмотр первых 10 строк moscow_genres"
   ]
  },
  {
   "cell_type": "markdown",
   "metadata": {
    "id": "cnPG2vnN_Zcv"
   },
   "source": [
    "Проделаем то же самое для данных по Петербургу:"
   ]
  },
  {
   "cell_type": "code",
   "execution_count": 37,
   "metadata": {
    "id": "gluLIpE7_Zcv"
   },
   "outputs": [],
   "source": [
    "spb_genres = spb_general.groupby('genre')['time'].count().sort_values(ascending = False)\n",
    "# одной строкой: группировка таблицы spb_general по столбцу 'genre', \n",
    "# подсчёт числа значений 'genre' в этой группировке методом count(), \n",
    "# сортировка получившегося Series в порядке убывания и сохранение в spb_genres"
   ]
  },
  {
   "cell_type": "code",
   "execution_count": 44,
   "metadata": {},
   "outputs": [
    {
     "data": {
      "text/plain": [
       "pandas.core.series.Series"
      ]
     },
     "execution_count": 44,
     "metadata": {},
     "output_type": "execute_result"
    }
   ],
   "source": [
    "type(spb_general.groupby('genre')['time'].count())"
   ]
  },
  {
   "cell_type": "markdown",
   "metadata": {
    "id": "5Doha_ODgyQ8"
   },
   "source": [
    "Просмотрим первые десять строк `spb_genres`:"
   ]
  },
  {
   "cell_type": "code",
   "execution_count": 38,
   "metadata": {
    "id": "uaGJHjVU_Zcv"
   },
   "outputs": [
    {
     "data": {
      "text/plain": [
       "genre\n",
       "pop            2431\n",
       "dance          1932\n",
       "rock           1879\n",
       "electronic     1736\n",
       "hiphop          960\n",
       "alternative     649\n",
       "classical       646\n",
       "rusrap          564\n",
       "ruspop          538\n",
       "world           515\n",
       "Name: time, dtype: int64"
      ]
     },
     "execution_count": 38,
     "metadata": {},
     "output_type": "execute_result"
    }
   ],
   "source": [
    "spb_genres.head(10)# просмотр первых 10 строк spb_genres"
   ]
  },
  {
   "cell_type": "markdown",
   "metadata": {
    "id": "RY51YJYu_Zcv"
   },
   "source": [
    "**Выводы**"
   ]
  },
  {
   "cell_type": "markdown",
   "metadata": {
    "id": "nVhnJEm__Zcv"
   },
   "source": [
    "Гипотеза частично подтвердилась:\n",
    "* Поп-музыка — самый популярный жанр в Москве, как и предполагала гипотеза. Более того, в топ-10 жанров встречается близкий жанр — русская популярная музыка.\n",
    "* А вот рэп одинаково популярен в Москве и Петербурге. \n"
   ]
  },
  {
   "cell_type": "markdown",
   "metadata": {
    "id": "ykKQ0N65_Zcv"
   },
   "source": [
    "## Итоги исследования"
   ]
  },
  {
   "cell_type": "markdown",
   "metadata": {
    "id": "tjUwbHb3_Zcv"
   },
   "source": [
    "Проверив три гипотезы, мы можем сделать следующие выводы:\n",
    "\n",
    "1. День недели по-разному влияет на активность пользователей в Москве и Петербурге. \n",
    "\n",
    "Первая гипотеза полностью подтвердилась.\n",
    "\n",
    "2. Музыкальные предпочтения не сильно меняются в течение недели — как в Москве, так и в Петербурге. Небольшие различия заметны в начале недели, по понедельникам:\n",
    "* в Москве слушают музыку жанра “world”,\n",
    "* в Петербурге — джаз и классику.\n",
    "\n",
    "Таким образом, вторая гипотеза подтвердилась лишь отчасти. Этот результат мог оказаться иным, если бы не пропуски в данных.\n",
    "\n",
    "3. Во вкусах пользователей Москвы и Петербурга больше общего чем различий. В целом, предпочтения жанров в Петербурге напоминают московские.\n",
    "\n",
    "Третья гипотеза не подтвердилась. Возможно различия в предпочтениях и существуют, на основной массе пользователей они незаметны."
   ]
  },
  {
   "cell_type": "code",
   "execution_count": null,
   "metadata": {},
   "outputs": [],
   "source": []
  }
 ],
 "metadata": {
  "ExecuteTimeLog": [
   {
    "duration": 407,
    "start_time": "2021-11-30T10:59:44.159Z"
   },
   {
    "duration": 602,
    "start_time": "2021-11-30T11:00:16.210Z"
   },
   {
    "duration": 2540,
    "start_time": "2021-11-30T11:00:19.969Z"
   },
   {
    "duration": 3465,
    "start_time": "2021-11-30T11:01:11.003Z"
   },
   {
    "duration": 287,
    "start_time": "2021-11-30T11:01:52.559Z"
   },
   {
    "duration": 87,
    "start_time": "2021-11-30T11:02:39.966Z"
   },
   {
    "duration": 156,
    "start_time": "2021-11-30T11:03:07.508Z"
   },
   {
    "duration": 174,
    "start_time": "2021-11-30T11:03:12.020Z"
   },
   {
    "duration": 158,
    "start_time": "2021-11-30T11:03:18.763Z"
   },
   {
    "duration": 160,
    "start_time": "2021-11-30T11:03:25.939Z"
   },
   {
    "duration": 8,
    "start_time": "2021-11-30T11:03:28.452Z"
   },
   {
    "duration": 18,
    "start_time": "2021-11-30T11:04:11.852Z"
   },
   {
    "duration": 28,
    "start_time": "2021-11-30T11:04:30.701Z"
   },
   {
    "duration": 5,
    "start_time": "2021-11-30T11:11:09.122Z"
   },
   {
    "duration": 232,
    "start_time": "2021-11-30T11:13:32.676Z"
   },
   {
    "duration": 21,
    "start_time": "2021-11-30T11:13:42.460Z"
   },
   {
    "duration": 4,
    "start_time": "2021-11-30T11:13:59.443Z"
   },
   {
    "duration": 4,
    "start_time": "2021-11-30T11:14:19.060Z"
   },
   {
    "duration": 5,
    "start_time": "2021-11-30T11:14:58.099Z"
   },
   {
    "duration": 6,
    "start_time": "2021-11-30T11:15:21.429Z"
   },
   {
    "duration": 4,
    "start_time": "2021-11-30T11:16:08.645Z"
   },
   {
    "duration": 5,
    "start_time": "2021-11-30T11:16:33.446Z"
   },
   {
    "duration": 5,
    "start_time": "2021-11-30T11:16:38.693Z"
   },
   {
    "duration": 5,
    "start_time": "2021-11-30T11:17:11.254Z"
   },
   {
    "duration": 4,
    "start_time": "2021-11-30T11:17:33.462Z"
   },
   {
    "duration": 41,
    "start_time": "2021-11-30T11:20:52.256Z"
   },
   {
    "duration": 264,
    "start_time": "2021-11-30T11:25:19.644Z"
   },
   {
    "duration": 275,
    "start_time": "2021-11-30T11:26:55.765Z"
   },
   {
    "duration": 253,
    "start_time": "2021-11-30T11:28:40.960Z"
   },
   {
    "duration": 300,
    "start_time": "2021-11-30T11:29:40.312Z"
   },
   {
    "duration": 290,
    "start_time": "2021-11-30T11:32:21.771Z"
   },
   {
    "duration": 250,
    "start_time": "2021-11-30T11:32:48.866Z"
   },
   {
    "duration": 28,
    "start_time": "2021-11-30T11:36:08.388Z"
   },
   {
    "duration": 296,
    "start_time": "2021-11-30T11:36:43.813Z"
   },
   {
    "duration": 251,
    "start_time": "2021-11-30T11:36:53.424Z"
   },
   {
    "duration": 68,
    "start_time": "2021-11-30T11:37:34.060Z"
   },
   {
    "duration": 4,
    "start_time": "2021-11-30T11:38:16.122Z"
   },
   {
    "duration": 5,
    "start_time": "2021-11-30T11:38:34.016Z"
   },
   {
    "duration": 5,
    "start_time": "2021-11-30T11:39:03.305Z"
   },
   {
    "duration": 5,
    "start_time": "2021-11-30T11:39:07.527Z"
   },
   {
    "duration": 4,
    "start_time": "2021-11-30T11:39:50.303Z"
   },
   {
    "duration": 127,
    "start_time": "2021-11-30T11:42:03.873Z"
   },
   {
    "duration": 137,
    "start_time": "2021-11-30T11:42:08.649Z"
   },
   {
    "duration": 4,
    "start_time": "2021-11-30T11:44:24.604Z"
   },
   {
    "duration": 4,
    "start_time": "2021-11-30T11:44:32.198Z"
   },
   {
    "duration": 3,
    "start_time": "2021-11-30T11:44:34.747Z"
   },
   {
    "duration": 27,
    "start_time": "2021-11-30T11:44:41.250Z"
   },
   {
    "duration": 4,
    "start_time": "2021-11-30T11:44:55.637Z"
   },
   {
    "duration": 4,
    "start_time": "2021-11-30T11:45:02.012Z"
   },
   {
    "duration": 28,
    "start_time": "2021-11-30T11:45:20.484Z"
   },
   {
    "duration": 247,
    "start_time": "2021-11-30T11:45:34.266Z"
   },
   {
    "duration": 264,
    "start_time": "2021-11-30T11:45:49.044Z"
   },
   {
    "duration": 270,
    "start_time": "2021-11-30T11:45:57.724Z"
   },
   {
    "duration": 3,
    "start_time": "2021-11-30T11:46:19.780Z"
   },
   {
    "duration": 4,
    "start_time": "2021-11-30T11:46:22.659Z"
   },
   {
    "duration": 4,
    "start_time": "2021-11-30T11:46:41.461Z"
   },
   {
    "duration": 4,
    "start_time": "2021-11-30T11:46:43.187Z"
   },
   {
    "duration": 25,
    "start_time": "2021-11-30T11:46:51.696Z"
   },
   {
    "duration": 6,
    "start_time": "2021-11-30T11:46:54.836Z"
   },
   {
    "duration": 3,
    "start_time": "2021-11-30T11:47:07.792Z"
   },
   {
    "duration": 41,
    "start_time": "2021-11-30T11:47:13.333Z"
   },
   {
    "duration": 3,
    "start_time": "2021-11-30T11:47:16.133Z"
   },
   {
    "duration": 3,
    "start_time": "2021-11-30T11:47:19.746Z"
   },
   {
    "duration": 27,
    "start_time": "2021-11-30T11:47:24.256Z"
   },
   {
    "duration": 254,
    "start_time": "2021-11-30T11:50:03.336Z"
   },
   {
    "duration": 4,
    "start_time": "2021-11-30T11:50:21.230Z"
   },
   {
    "duration": 26,
    "start_time": "2021-11-30T11:50:26.582Z"
   },
   {
    "duration": 26,
    "start_time": "2021-11-30T11:52:14.821Z"
   },
   {
    "duration": 4,
    "start_time": "2021-11-30T11:52:17.844Z"
   },
   {
    "duration": 25,
    "start_time": "2021-11-30T11:52:19.964Z"
   },
   {
    "duration": 66,
    "start_time": "2021-11-30T11:53:39.440Z"
   },
   {
    "duration": 67,
    "start_time": "2021-11-30T11:53:44.337Z"
   },
   {
    "duration": 85,
    "start_time": "2021-11-30T11:54:45.779Z"
   },
   {
    "duration": 60,
    "start_time": "2021-11-30T11:54:50.681Z"
   },
   {
    "duration": 66,
    "start_time": "2021-11-30T11:54:53.495Z"
   },
   {
    "duration": 121,
    "start_time": "2021-11-30T11:57:10.148Z"
   },
   {
    "duration": 94,
    "start_time": "2021-11-30T11:57:16.332Z"
   },
   {
    "duration": 272,
    "start_time": "2021-11-30T12:00:20.520Z"
   },
   {
    "duration": 43,
    "start_time": "2021-11-30T12:00:24.294Z"
   },
   {
    "duration": 254,
    "start_time": "2021-11-30T12:04:38.577Z"
   },
   {
    "duration": 26,
    "start_time": "2021-11-30T12:04:43.289Z"
   },
   {
    "duration": 392,
    "start_time": "2021-11-30T12:06:22.538Z"
   },
   {
    "duration": 350,
    "start_time": "2021-11-30T12:06:56.771Z"
   },
   {
    "duration": 26,
    "start_time": "2021-11-30T12:07:01.341Z"
   },
   {
    "duration": 252,
    "start_time": "2021-11-30T12:07:32.092Z"
   },
   {
    "duration": 249,
    "start_time": "2021-11-30T12:07:41.436Z"
   },
   {
    "duration": 250,
    "start_time": "2021-11-30T12:08:02.339Z"
   },
   {
    "duration": 65,
    "start_time": "2021-11-30T12:08:13.836Z"
   },
   {
    "duration": 79,
    "start_time": "2021-11-30T12:08:24.542Z"
   },
   {
    "duration": 75,
    "start_time": "2021-11-30T12:08:43.518Z"
   },
   {
    "duration": 87,
    "start_time": "2021-11-30T12:09:02.269Z"
   },
   {
    "duration": 65,
    "start_time": "2021-11-30T12:09:06.564Z"
   },
   {
    "duration": 63,
    "start_time": "2021-11-30T12:09:19.609Z"
   },
   {
    "duration": 123,
    "start_time": "2021-11-30T12:09:58.382Z"
   },
   {
    "duration": 68,
    "start_time": "2021-11-30T12:10:01.948Z"
   },
   {
    "duration": 6,
    "start_time": "2021-11-30T12:11:59.135Z"
   },
   {
    "duration": 62,
    "start_time": "2021-11-30T12:14:02.521Z"
   },
   {
    "duration": 44,
    "start_time": "2021-11-30T12:15:11.272Z"
   },
   {
    "duration": 83,
    "start_time": "2021-11-30T12:21:29.331Z"
   },
   {
    "duration": 41,
    "start_time": "2021-11-30T12:27:00.767Z"
   },
   {
    "duration": 44,
    "start_time": "2021-11-30T12:27:08.024Z"
   },
   {
    "duration": 346,
    "start_time": "2021-11-30T12:27:40.656Z"
   },
   {
    "duration": 81,
    "start_time": "2021-11-30T12:37:55.037Z"
   },
   {
    "duration": 63,
    "start_time": "2021-11-30T12:37:57.163Z"
   },
   {
    "duration": 19,
    "start_time": "2021-11-30T12:38:34.945Z"
   },
   {
    "duration": 26,
    "start_time": "2021-11-30T12:38:38.768Z"
   },
   {
    "duration": 40,
    "start_time": "2021-11-30T12:40:09.569Z"
   },
   {
    "duration": 43,
    "start_time": "2021-11-30T12:41:38.275Z"
   },
   {
    "duration": 4,
    "start_time": "2021-11-30T12:47:06.078Z"
   },
   {
    "duration": 42,
    "start_time": "2021-11-30T12:54:01.831Z"
   },
   {
    "duration": 513,
    "start_time": "2021-11-30T12:54:12.030Z"
   },
   {
    "duration": 3,
    "start_time": "2021-11-30T12:54:47.475Z"
   },
   {
    "duration": 508,
    "start_time": "2021-11-30T12:54:50.963Z"
   },
   {
    "duration": 494,
    "start_time": "2021-11-30T12:57:58.701Z"
   },
   {
    "duration": 514,
    "start_time": "2021-11-30T12:58:10.996Z"
   },
   {
    "duration": 3,
    "start_time": "2021-11-30T12:58:27.261Z"
   },
   {
    "duration": 11,
    "start_time": "2021-11-30T12:58:28.997Z"
   },
   {
    "duration": 12,
    "start_time": "2021-11-30T12:58:33.303Z"
   },
   {
    "duration": 44,
    "start_time": "2021-11-30T12:58:36.036Z"
   },
   {
    "duration": 11,
    "start_time": "2021-11-30T12:58:47.477Z"
   },
   {
    "duration": 3,
    "start_time": "2021-11-30T12:58:49.680Z"
   },
   {
    "duration": 47,
    "start_time": "2021-11-30T12:59:10.917Z"
   },
   {
    "duration": 41,
    "start_time": "2021-11-30T12:59:39.790Z"
   },
   {
    "duration": 20,
    "start_time": "2021-11-30T12:59:57.255Z"
   },
   {
    "duration": 264,
    "start_time": "2021-11-30T13:02:34.375Z"
   },
   {
    "duration": 1208,
    "start_time": "2021-11-30T13:02:46.655Z"
   },
   {
    "duration": 505,
    "start_time": "2021-11-30T13:03:07.440Z"
   },
   {
    "duration": 36,
    "start_time": "2021-11-30T13:03:20.192Z"
   },
   {
    "duration": 84,
    "start_time": "2021-11-30T13:05:28.153Z"
   },
   {
    "duration": 36,
    "start_time": "2021-11-30T13:05:35.025Z"
   },
   {
    "duration": 38,
    "start_time": "2021-11-30T13:06:26.660Z"
   },
   {
    "duration": 9,
    "start_time": "2021-11-30T13:06:31.608Z"
   },
   {
    "duration": 10,
    "start_time": "2021-11-30T13:06:43.393Z"
   },
   {
    "duration": 9,
    "start_time": "2021-11-30T13:06:56.587Z"
   },
   {
    "duration": 319,
    "start_time": "2021-11-30T13:07:10.139Z"
   },
   {
    "duration": 301,
    "start_time": "2021-11-30T13:07:26.825Z"
   },
   {
    "duration": 408,
    "start_time": "2021-11-30T13:07:32.351Z"
   },
   {
    "duration": 86,
    "start_time": "2021-11-30T13:07:35.924Z"
   },
   {
    "duration": 345,
    "start_time": "2021-11-30T13:07:39.699Z"
   },
   {
    "duration": 259,
    "start_time": "2021-11-30T13:08:25.523Z"
   },
   {
    "duration": 273,
    "start_time": "2021-11-30T13:08:34.770Z"
   },
   {
    "duration": 250,
    "start_time": "2021-11-30T13:08:49.045Z"
   },
   {
    "duration": 9,
    "start_time": "2021-11-30T13:08:58.051Z"
   },
   {
    "duration": 283,
    "start_time": "2021-11-30T13:09:09.621Z"
   },
   {
    "duration": 319,
    "start_time": "2021-11-30T13:09:20.420Z"
   },
   {
    "duration": 253,
    "start_time": "2021-11-30T13:44:12.418Z"
   },
   {
    "duration": 6,
    "start_time": "2021-11-30T13:44:29.051Z"
   },
   {
    "duration": 256,
    "start_time": "2021-11-30T13:44:37.355Z"
   },
   {
    "duration": 5,
    "start_time": "2021-11-30T13:44:42.107Z"
   },
   {
    "duration": 272,
    "start_time": "2021-11-30T13:46:17.667Z"
   },
   {
    "duration": 8,
    "start_time": "2021-11-30T13:46:30.017Z"
   },
   {
    "duration": 273,
    "start_time": "2021-11-30T13:47:01.336Z"
   },
   {
    "duration": 278,
    "start_time": "2021-11-30T13:47:03.144Z"
   },
   {
    "duration": 250,
    "start_time": "2021-11-30T13:51:49.349Z"
   },
   {
    "duration": 267,
    "start_time": "2021-11-30T13:53:45.165Z"
   },
   {
    "duration": 252,
    "start_time": "2021-11-30T13:55:12.037Z"
   },
   {
    "duration": 261,
    "start_time": "2021-11-30T13:57:48.543Z"
   },
   {
    "duration": 300,
    "start_time": "2021-11-30T13:59:43.535Z"
   },
   {
    "duration": 356,
    "start_time": "2021-11-30T14:00:04.249Z"
   },
   {
    "duration": 292,
    "start_time": "2021-11-30T14:00:11.724Z"
   },
   {
    "duration": 706,
    "start_time": "2021-11-30T14:01:11.351Z"
   },
   {
    "duration": 167,
    "start_time": "2021-11-30T14:01:12.059Z"
   },
   {
    "duration": 19,
    "start_time": "2021-11-30T14:01:12.228Z"
   },
   {
    "duration": 39,
    "start_time": "2021-11-30T14:01:12.249Z"
   },
   {
    "duration": 5,
    "start_time": "2021-11-30T14:01:12.290Z"
   },
   {
    "duration": 31,
    "start_time": "2021-11-30T14:01:12.297Z"
   },
   {
    "duration": 7,
    "start_time": "2021-11-30T14:01:12.330Z"
   },
   {
    "duration": 44,
    "start_time": "2021-11-30T14:01:12.339Z"
   },
   {
    "duration": 22,
    "start_time": "2021-11-30T14:01:12.386Z"
   },
   {
    "duration": 31,
    "start_time": "2021-11-30T14:01:12.410Z"
   },
   {
    "duration": 66,
    "start_time": "2021-11-30T14:01:12.464Z"
   },
   {
    "duration": 101,
    "start_time": "2021-11-30T14:01:12.532Z"
   },
   {
    "duration": 68,
    "start_time": "2021-11-30T14:01:12.635Z"
   },
   {
    "duration": 43,
    "start_time": "2021-11-30T14:01:12.704Z"
   },
   {
    "duration": 3,
    "start_time": "2021-11-30T14:01:12.763Z"
   },
   {
    "duration": 13,
    "start_time": "2021-11-30T14:01:12.768Z"
   },
   {
    "duration": 43,
    "start_time": "2021-11-30T14:01:12.783Z"
   },
   {
    "duration": 59,
    "start_time": "2021-11-30T14:01:12.829Z"
   },
   {
    "duration": 45,
    "start_time": "2021-11-30T14:01:12.890Z"
   },
   {
    "duration": 3,
    "start_time": "2021-11-30T14:01:12.937Z"
   },
   {
    "duration": 22,
    "start_time": "2021-11-30T14:01:12.942Z"
   },
   {
    "duration": 6,
    "start_time": "2021-11-30T14:01:12.967Z"
   },
   {
    "duration": 3,
    "start_time": "2021-11-30T14:01:12.977Z"
   },
   {
    "duration": 5,
    "start_time": "2021-11-30T14:01:12.982Z"
   },
   {
    "duration": 5,
    "start_time": "2021-11-30T14:01:12.989Z"
   },
   {
    "duration": 8,
    "start_time": "2021-11-30T14:01:12.996Z"
   },
   {
    "duration": 15,
    "start_time": "2021-11-30T14:01:13.006Z"
   },
   {
    "duration": 9,
    "start_time": "2021-11-30T14:01:13.023Z"
   },
   {
    "duration": 9,
    "start_time": "2021-11-30T14:01:13.033Z"
   },
   {
    "duration": 7,
    "start_time": "2021-11-30T14:01:13.044Z"
   },
   {
    "duration": 11,
    "start_time": "2021-11-30T14:01:13.053Z"
   },
   {
    "duration": 7,
    "start_time": "2021-11-30T14:01:13.066Z"
   },
   {
    "duration": 10,
    "start_time": "2021-11-30T14:01:13.075Z"
   },
   {
    "duration": 10,
    "start_time": "2021-11-30T14:01:13.087Z"
   },
   {
    "duration": 9,
    "start_time": "2021-11-30T14:01:13.099Z"
   },
   {
    "duration": 14,
    "start_time": "2021-11-30T14:01:13.110Z"
   },
   {
    "duration": 11,
    "start_time": "2021-11-30T14:01:13.126Z"
   },
   {
    "duration": 15,
    "start_time": "2021-11-30T14:01:13.139Z"
   },
   {
    "duration": 97,
    "start_time": "2021-11-30T14:02:17.087Z"
   },
   {
    "duration": 11,
    "start_time": "2021-11-30T14:02:22.326Z"
   },
   {
    "duration": 8,
    "start_time": "2021-11-30T14:02:50.338Z"
   },
   {
    "duration": 657,
    "start_time": "2021-11-30T14:02:56.651Z"
   },
   {
    "duration": 165,
    "start_time": "2021-11-30T14:02:57.310Z"
   },
   {
    "duration": 20,
    "start_time": "2021-11-30T14:02:57.477Z"
   },
   {
    "duration": 30,
    "start_time": "2021-11-30T14:02:57.499Z"
   },
   {
    "duration": 3,
    "start_time": "2021-11-30T14:02:57.531Z"
   },
   {
    "duration": 50,
    "start_time": "2021-11-30T14:02:57.536Z"
   },
   {
    "duration": 16,
    "start_time": "2021-11-30T14:02:57.588Z"
   },
   {
    "duration": 28,
    "start_time": "2021-11-30T14:02:57.607Z"
   },
   {
    "duration": 37,
    "start_time": "2021-11-30T14:02:57.638Z"
   },
   {
    "duration": 25,
    "start_time": "2021-11-30T14:02:57.677Z"
   },
   {
    "duration": 88,
    "start_time": "2021-11-30T14:02:57.704Z"
   },
   {
    "duration": 92,
    "start_time": "2021-11-30T14:02:57.794Z"
   },
   {
    "duration": 59,
    "start_time": "2021-11-30T14:02:57.888Z"
   },
   {
    "duration": 52,
    "start_time": "2021-11-30T14:02:57.949Z"
   },
   {
    "duration": 4,
    "start_time": "2021-11-30T14:02:58.003Z"
   },
   {
    "duration": 20,
    "start_time": "2021-11-30T14:02:58.009Z"
   },
   {
    "duration": 63,
    "start_time": "2021-11-30T14:02:58.032Z"
   },
   {
    "duration": 39,
    "start_time": "2021-11-30T14:02:58.098Z"
   },
   {
    "duration": 65,
    "start_time": "2021-11-30T14:02:58.139Z"
   },
   {
    "duration": 3,
    "start_time": "2021-11-30T14:02:58.206Z"
   },
   {
    "duration": 7,
    "start_time": "2021-11-30T14:02:58.210Z"
   },
   {
    "duration": 7,
    "start_time": "2021-11-30T14:02:58.219Z"
   },
   {
    "duration": 4,
    "start_time": "2021-11-30T14:02:58.230Z"
   },
   {
    "duration": 5,
    "start_time": "2021-11-30T14:02:58.237Z"
   },
   {
    "duration": 3,
    "start_time": "2021-11-30T14:02:58.264Z"
   },
   {
    "duration": 17,
    "start_time": "2021-11-30T14:02:58.269Z"
   },
   {
    "duration": 10,
    "start_time": "2021-11-30T14:02:58.288Z"
   },
   {
    "duration": 11,
    "start_time": "2021-11-30T14:02:58.300Z"
   },
   {
    "duration": 10,
    "start_time": "2021-11-30T14:02:58.313Z"
   },
   {
    "duration": 17,
    "start_time": "2021-11-30T14:02:58.325Z"
   },
   {
    "duration": 19,
    "start_time": "2021-11-30T14:02:58.344Z"
   },
   {
    "duration": 20,
    "start_time": "2021-11-30T14:02:58.364Z"
   },
   {
    "duration": 73,
    "start_time": "2021-11-30T14:02:58.386Z"
   },
   {
    "duration": 28,
    "start_time": "2021-11-30T14:02:58.461Z"
   },
   {
    "duration": 16,
    "start_time": "2021-11-30T14:02:58.492Z"
   },
   {
    "duration": 10,
    "start_time": "2021-11-30T14:02:58.510Z"
   },
   {
    "duration": 19,
    "start_time": "2021-11-30T14:02:58.522Z"
   },
   {
    "duration": 12,
    "start_time": "2021-11-30T14:02:58.542Z"
   },
   {
    "duration": 9,
    "start_time": "2021-11-30T14:03:27.498Z"
   },
   {
    "duration": 8,
    "start_time": "2021-11-30T14:04:24.049Z"
   },
   {
    "duration": 668,
    "start_time": "2021-11-30T14:04:29.441Z"
   },
   {
    "duration": 173,
    "start_time": "2021-11-30T14:04:30.111Z"
   },
   {
    "duration": 19,
    "start_time": "2021-11-30T14:04:30.287Z"
   },
   {
    "duration": 60,
    "start_time": "2021-11-30T14:04:30.308Z"
   },
   {
    "duration": 108,
    "start_time": "2021-11-30T14:04:30.370Z"
   },
   {
    "duration": 100,
    "start_time": "2021-11-30T14:04:30.480Z"
   },
   {
    "duration": 32,
    "start_time": "2021-11-30T14:04:30.582Z"
   },
   {
    "duration": 32,
    "start_time": "2021-11-30T14:04:30.616Z"
   },
   {
    "duration": 35,
    "start_time": "2021-11-30T14:04:30.651Z"
   },
   {
    "duration": 35,
    "start_time": "2021-11-30T14:04:30.689Z"
   },
   {
    "duration": 72,
    "start_time": "2021-11-30T14:04:30.726Z"
   },
   {
    "duration": 96,
    "start_time": "2021-11-30T14:04:30.800Z"
   },
   {
    "duration": 66,
    "start_time": "2021-11-30T14:04:30.898Z"
   },
   {
    "duration": 43,
    "start_time": "2021-11-30T14:04:30.967Z"
   },
   {
    "duration": 11,
    "start_time": "2021-11-30T14:04:31.012Z"
   },
   {
    "duration": 19,
    "start_time": "2021-11-30T14:04:31.025Z"
   },
   {
    "duration": 60,
    "start_time": "2021-11-30T14:04:31.046Z"
   },
   {
    "duration": 38,
    "start_time": "2021-11-30T14:04:31.108Z"
   },
   {
    "duration": 47,
    "start_time": "2021-11-30T14:04:31.149Z"
   },
   {
    "duration": 4,
    "start_time": "2021-11-30T14:04:31.198Z"
   },
   {
    "duration": 14,
    "start_time": "2021-11-30T14:04:31.204Z"
   },
   {
    "duration": 13,
    "start_time": "2021-11-30T14:04:31.220Z"
   },
   {
    "duration": 16,
    "start_time": "2021-11-30T14:04:31.235Z"
   },
   {
    "duration": 18,
    "start_time": "2021-11-30T14:04:31.253Z"
   },
   {
    "duration": 20,
    "start_time": "2021-11-30T14:04:31.272Z"
   },
   {
    "duration": 6,
    "start_time": "2021-11-30T14:04:31.294Z"
   },
   {
    "duration": 8,
    "start_time": "2021-11-30T14:04:31.304Z"
   },
   {
    "duration": 17,
    "start_time": "2021-11-30T14:04:31.314Z"
   },
   {
    "duration": 7,
    "start_time": "2021-11-30T14:04:31.333Z"
   },
   {
    "duration": 21,
    "start_time": "2021-11-30T14:04:31.341Z"
   },
   {
    "duration": 15,
    "start_time": "2021-11-30T14:04:31.364Z"
   },
   {
    "duration": 23,
    "start_time": "2021-11-30T14:04:31.381Z"
   },
   {
    "duration": 54,
    "start_time": "2021-11-30T14:04:31.406Z"
   },
   {
    "duration": 16,
    "start_time": "2021-11-30T14:04:31.462Z"
   },
   {
    "duration": 49,
    "start_time": "2021-11-30T14:04:31.480Z"
   },
   {
    "duration": 19,
    "start_time": "2021-11-30T14:04:31.531Z"
   },
   {
    "duration": 22,
    "start_time": "2021-11-30T14:04:31.552Z"
   },
   {
    "duration": 26,
    "start_time": "2021-11-30T14:04:31.576Z"
   },
   {
    "duration": 3,
    "start_time": "2021-11-30T14:16:05.275Z"
   },
   {
    "duration": 13,
    "start_time": "2021-11-30T14:17:23.940Z"
   },
   {
    "duration": 14,
    "start_time": "2021-11-30T14:18:09.412Z"
   },
   {
    "duration": 655,
    "start_time": "2021-11-30T14:18:15.942Z"
   },
   {
    "duration": 159,
    "start_time": "2021-11-30T14:18:16.599Z"
   },
   {
    "duration": 17,
    "start_time": "2021-11-30T14:18:16.760Z"
   },
   {
    "duration": 46,
    "start_time": "2021-11-30T14:18:16.779Z"
   },
   {
    "duration": 17,
    "start_time": "2021-11-30T14:18:16.827Z"
   },
   {
    "duration": 46,
    "start_time": "2021-11-30T14:18:16.845Z"
   },
   {
    "duration": 21,
    "start_time": "2021-11-30T14:18:16.893Z"
   },
   {
    "duration": 53,
    "start_time": "2021-11-30T14:18:16.917Z"
   },
   {
    "duration": 35,
    "start_time": "2021-11-30T14:18:16.972Z"
   },
   {
    "duration": 32,
    "start_time": "2021-11-30T14:18:17.009Z"
   },
   {
    "duration": 78,
    "start_time": "2021-11-30T14:18:17.043Z"
   },
   {
    "duration": 84,
    "start_time": "2021-11-30T14:18:17.123Z"
   },
   {
    "duration": 66,
    "start_time": "2021-11-30T14:18:17.209Z"
   },
   {
    "duration": 42,
    "start_time": "2021-11-30T14:18:17.276Z"
   },
   {
    "duration": 15,
    "start_time": "2021-11-30T14:18:17.320Z"
   },
   {
    "duration": 35,
    "start_time": "2021-11-30T14:18:17.337Z"
   },
   {
    "duration": 53,
    "start_time": "2021-11-30T14:18:17.374Z"
   },
   {
    "duration": 50,
    "start_time": "2021-11-30T14:18:17.430Z"
   },
   {
    "duration": 37,
    "start_time": "2021-11-30T14:18:17.482Z"
   },
   {
    "duration": 5,
    "start_time": "2021-11-30T14:18:17.521Z"
   },
   {
    "duration": 54,
    "start_time": "2021-11-30T14:18:17.528Z"
   },
   {
    "duration": 7,
    "start_time": "2021-11-30T14:18:17.584Z"
   },
   {
    "duration": 27,
    "start_time": "2021-11-30T14:18:17.594Z"
   },
   {
    "duration": 29,
    "start_time": "2021-11-30T14:18:17.623Z"
   },
   {
    "duration": 12,
    "start_time": "2021-11-30T14:18:17.655Z"
   },
   {
    "duration": 26,
    "start_time": "2021-11-30T14:18:17.669Z"
   },
   {
    "duration": 15,
    "start_time": "2021-11-30T14:18:17.697Z"
   },
   {
    "duration": 23,
    "start_time": "2021-11-30T14:18:17.713Z"
   },
   {
    "duration": 38,
    "start_time": "2021-11-30T14:18:17.737Z"
   },
   {
    "duration": 31,
    "start_time": "2021-11-30T14:18:17.777Z"
   },
   {
    "duration": 50,
    "start_time": "2021-11-30T14:18:17.809Z"
   },
   {
    "duration": 24,
    "start_time": "2021-11-30T14:18:17.861Z"
   },
   {
    "duration": 37,
    "start_time": "2021-11-30T14:18:17.887Z"
   },
   {
    "duration": 35,
    "start_time": "2021-11-30T14:18:17.926Z"
   },
   {
    "duration": 20,
    "start_time": "2021-11-30T14:18:17.963Z"
   },
   {
    "duration": 25,
    "start_time": "2021-11-30T14:18:17.985Z"
   },
   {
    "duration": 35,
    "start_time": "2021-11-30T14:18:18.013Z"
   },
   {
    "duration": 24,
    "start_time": "2021-11-30T14:18:18.050Z"
   },
   {
    "duration": 12,
    "start_time": "2021-11-30T14:18:23.852Z"
   },
   {
    "duration": 12,
    "start_time": "2021-11-30T14:18:36.384Z"
   },
   {
    "duration": 13,
    "start_time": "2021-11-30T14:18:38.406Z"
   },
   {
    "duration": 3,
    "start_time": "2021-11-30T14:18:41.670Z"
   },
   {
    "duration": 13,
    "start_time": "2021-11-30T14:18:44.119Z"
   },
   {
    "duration": 593,
    "start_time": "2021-11-30T14:18:51.322Z"
   },
   {
    "duration": 154,
    "start_time": "2021-11-30T14:18:51.917Z"
   },
   {
    "duration": 17,
    "start_time": "2021-11-30T14:18:52.073Z"
   },
   {
    "duration": 29,
    "start_time": "2021-11-30T14:18:52.092Z"
   },
   {
    "duration": 4,
    "start_time": "2021-11-30T14:18:52.123Z"
   },
   {
    "duration": 49,
    "start_time": "2021-11-30T14:18:52.129Z"
   },
   {
    "duration": 4,
    "start_time": "2021-11-30T14:18:52.180Z"
   },
   {
    "duration": 28,
    "start_time": "2021-11-30T14:18:52.186Z"
   },
   {
    "duration": 21,
    "start_time": "2021-11-30T14:18:52.217Z"
   },
   {
    "duration": 35,
    "start_time": "2021-11-30T14:18:52.241Z"
   },
   {
    "duration": 64,
    "start_time": "2021-11-30T14:18:52.278Z"
   },
   {
    "duration": 92,
    "start_time": "2021-11-30T14:18:52.343Z"
   },
   {
    "duration": 64,
    "start_time": "2021-11-30T14:18:52.437Z"
   },
   {
    "duration": 39,
    "start_time": "2021-11-30T14:18:52.503Z"
   },
   {
    "duration": 2,
    "start_time": "2021-11-30T14:18:52.544Z"
   },
   {
    "duration": 25,
    "start_time": "2021-11-30T14:18:52.548Z"
   },
   {
    "duration": 43,
    "start_time": "2021-11-30T14:18:52.574Z"
   },
   {
    "duration": 61,
    "start_time": "2021-11-30T14:18:52.619Z"
   },
   {
    "duration": 34,
    "start_time": "2021-11-30T14:18:52.682Z"
   },
   {
    "duration": 4,
    "start_time": "2021-11-30T14:18:52.718Z"
   },
   {
    "duration": 17,
    "start_time": "2021-11-30T14:18:52.724Z"
   },
   {
    "duration": 14,
    "start_time": "2021-11-30T14:18:52.743Z"
   },
   {
    "duration": 3,
    "start_time": "2021-11-30T14:18:52.763Z"
   },
   {
    "duration": 8,
    "start_time": "2021-11-30T14:18:52.767Z"
   },
   {
    "duration": 8,
    "start_time": "2021-11-30T14:18:52.777Z"
   },
   {
    "duration": 5,
    "start_time": "2021-11-30T14:18:52.787Z"
   },
   {
    "duration": 6,
    "start_time": "2021-11-30T14:18:52.795Z"
   },
   {
    "duration": 11,
    "start_time": "2021-11-30T14:18:52.803Z"
   },
   {
    "duration": 13,
    "start_time": "2021-11-30T14:18:52.816Z"
   },
   {
    "duration": 8,
    "start_time": "2021-11-30T14:18:52.830Z"
   },
   {
    "duration": 18,
    "start_time": "2021-11-30T14:18:52.840Z"
   },
   {
    "duration": 16,
    "start_time": "2021-11-30T14:18:52.859Z"
   },
   {
    "duration": 20,
    "start_time": "2021-11-30T14:18:52.877Z"
   },
   {
    "duration": 11,
    "start_time": "2021-11-30T14:18:52.898Z"
   },
   {
    "duration": 11,
    "start_time": "2021-11-30T14:18:52.910Z"
   },
   {
    "duration": 10,
    "start_time": "2021-11-30T14:18:52.922Z"
   },
   {
    "duration": 10,
    "start_time": "2021-11-30T14:18:52.934Z"
   },
   {
    "duration": 9,
    "start_time": "2021-11-30T14:18:52.945Z"
   },
   {
    "duration": 13,
    "start_time": "2021-11-30T14:18:58.793Z"
   },
   {
    "duration": 21,
    "start_time": "2021-11-30T14:19:45.315Z"
   },
   {
    "duration": 15,
    "start_time": "2021-11-30T14:22:07.291Z"
   },
   {
    "duration": 12,
    "start_time": "2021-11-30T14:22:23.909Z"
   },
   {
    "duration": 310,
    "start_time": "2021-11-30T14:31:35.643Z"
   },
   {
    "duration": 264,
    "start_time": "2021-11-30T14:31:49.026Z"
   },
   {
    "duration": 287,
    "start_time": "2021-11-30T14:33:07.620Z"
   },
   {
    "duration": 577,
    "start_time": "2021-11-30T14:34:14.920Z"
   },
   {
    "duration": 165,
    "start_time": "2021-11-30T14:34:15.499Z"
   },
   {
    "duration": 18,
    "start_time": "2021-11-30T14:34:15.666Z"
   },
   {
    "duration": 64,
    "start_time": "2021-11-30T14:34:15.686Z"
   },
   {
    "duration": 28,
    "start_time": "2021-11-30T14:34:15.752Z"
   },
   {
    "duration": 99,
    "start_time": "2021-11-30T14:34:15.783Z"
   },
   {
    "duration": 31,
    "start_time": "2021-11-30T14:34:15.884Z"
   },
   {
    "duration": 74,
    "start_time": "2021-11-30T14:34:15.918Z"
   },
   {
    "duration": 45,
    "start_time": "2021-11-30T14:34:16.001Z"
   },
   {
    "duration": 59,
    "start_time": "2021-11-30T14:34:16.048Z"
   },
   {
    "duration": 103,
    "start_time": "2021-11-30T14:34:16.109Z"
   },
   {
    "duration": 86,
    "start_time": "2021-11-30T14:34:16.214Z"
   },
   {
    "duration": 66,
    "start_time": "2021-11-30T14:34:16.302Z"
   },
   {
    "duration": 42,
    "start_time": "2021-11-30T14:34:16.369Z"
   },
   {
    "duration": 37,
    "start_time": "2021-11-30T14:34:16.413Z"
   },
   {
    "duration": 52,
    "start_time": "2021-11-30T14:34:16.452Z"
   },
   {
    "duration": 63,
    "start_time": "2021-11-30T14:34:16.506Z"
   },
   {
    "duration": 60,
    "start_time": "2021-11-30T14:34:16.571Z"
   },
   {
    "duration": 33,
    "start_time": "2021-11-30T14:34:16.633Z"
   },
   {
    "duration": 14,
    "start_time": "2021-11-30T14:34:16.668Z"
   },
   {
    "duration": 44,
    "start_time": "2021-11-30T14:34:16.684Z"
   },
   {
    "duration": 68,
    "start_time": "2021-11-30T14:34:16.729Z"
   },
   {
    "duration": 58,
    "start_time": "2021-11-30T14:34:16.799Z"
   },
   {
    "duration": 47,
    "start_time": "2021-11-30T14:34:16.859Z"
   },
   {
    "duration": 29,
    "start_time": "2021-11-30T14:34:16.908Z"
   },
   {
    "duration": 52,
    "start_time": "2021-11-30T14:34:16.938Z"
   },
   {
    "duration": 364,
    "start_time": "2021-11-30T14:34:16.996Z"
   },
   {
    "duration": 180,
    "start_time": "2021-11-30T14:34:17.183Z"
   },
   {
    "duration": 180,
    "start_time": "2021-11-30T14:34:17.184Z"
   },
   {
    "duration": 179,
    "start_time": "2021-11-30T14:34:17.186Z"
   },
   {
    "duration": 178,
    "start_time": "2021-11-30T14:34:17.187Z"
   },
   {
    "duration": 178,
    "start_time": "2021-11-30T14:34:17.188Z"
   },
   {
    "duration": 162,
    "start_time": "2021-11-30T14:34:17.205Z"
   },
   {
    "duration": 159,
    "start_time": "2021-11-30T14:34:17.209Z"
   },
   {
    "duration": 151,
    "start_time": "2021-11-30T14:34:17.217Z"
   },
   {
    "duration": 150,
    "start_time": "2021-11-30T14:34:17.219Z"
   },
   {
    "duration": 149,
    "start_time": "2021-11-30T14:34:17.221Z"
   },
   {
    "duration": 149,
    "start_time": "2021-11-30T14:34:17.222Z"
   },
   {
    "duration": 12,
    "start_time": "2021-11-30T14:47:00.374Z"
   },
   {
    "duration": 15,
    "start_time": "2021-11-30T14:47:03.003Z"
   },
   {
    "duration": 24,
    "start_time": "2021-11-30T14:47:16.230Z"
   },
   {
    "duration": 20,
    "start_time": "2021-11-30T14:48:22.651Z"
   },
   {
    "duration": 3,
    "start_time": "2021-11-30T14:52:00.926Z"
   },
   {
    "duration": 13,
    "start_time": "2021-11-30T14:52:06.083Z"
   },
   {
    "duration": 12,
    "start_time": "2021-11-30T14:52:08.530Z"
   },
   {
    "duration": 3,
    "start_time": "2021-11-30T14:52:11.545Z"
   },
   {
    "duration": 13,
    "start_time": "2021-11-30T14:52:15.201Z"
   },
   {
    "duration": 633,
    "start_time": "2021-11-30T14:52:20.056Z"
   },
   {
    "duration": 159,
    "start_time": "2021-11-30T14:52:20.691Z"
   },
   {
    "duration": 21,
    "start_time": "2021-11-30T14:52:20.851Z"
   },
   {
    "duration": 25,
    "start_time": "2021-11-30T14:52:20.874Z"
   },
   {
    "duration": 19,
    "start_time": "2021-11-30T14:52:20.901Z"
   },
   {
    "duration": 29,
    "start_time": "2021-11-30T14:52:20.922Z"
   },
   {
    "duration": 8,
    "start_time": "2021-11-30T14:52:20.962Z"
   },
   {
    "duration": 75,
    "start_time": "2021-11-30T14:52:20.972Z"
   },
   {
    "duration": 29,
    "start_time": "2021-11-30T14:52:21.049Z"
   },
   {
    "duration": 27,
    "start_time": "2021-11-30T14:52:21.080Z"
   },
   {
    "duration": 124,
    "start_time": "2021-11-30T14:52:21.109Z"
   },
   {
    "duration": 91,
    "start_time": "2021-11-30T14:52:21.235Z"
   },
   {
    "duration": 69,
    "start_time": "2021-11-30T14:52:21.328Z"
   },
   {
    "duration": 45,
    "start_time": "2021-11-30T14:52:21.399Z"
   },
   {
    "duration": 21,
    "start_time": "2021-11-30T14:52:21.445Z"
   },
   {
    "duration": 23,
    "start_time": "2021-11-30T14:52:21.468Z"
   },
   {
    "duration": 82,
    "start_time": "2021-11-30T14:52:21.493Z"
   },
   {
    "duration": 48,
    "start_time": "2021-11-30T14:52:21.577Z"
   },
   {
    "duration": 39,
    "start_time": "2021-11-30T14:52:21.627Z"
   },
   {
    "duration": 3,
    "start_time": "2021-11-30T14:52:21.668Z"
   },
   {
    "duration": 35,
    "start_time": "2021-11-30T14:52:21.673Z"
   },
   {
    "duration": 32,
    "start_time": "2021-11-30T14:52:21.712Z"
   },
   {
    "duration": 29,
    "start_time": "2021-11-30T14:52:21.746Z"
   },
   {
    "duration": 21,
    "start_time": "2021-11-30T14:52:21.777Z"
   },
   {
    "duration": 18,
    "start_time": "2021-11-30T14:52:21.800Z"
   },
   {
    "duration": 36,
    "start_time": "2021-11-30T14:52:21.820Z"
   },
   {
    "duration": 382,
    "start_time": "2021-11-30T14:52:21.858Z"
   },
   {
    "duration": 195,
    "start_time": "2021-11-30T14:52:22.046Z"
   },
   {
    "duration": 194,
    "start_time": "2021-11-30T14:52:22.048Z"
   },
   {
    "duration": 194,
    "start_time": "2021-11-30T14:52:22.049Z"
   },
   {
    "duration": 180,
    "start_time": "2021-11-30T14:52:22.064Z"
   },
   {
    "duration": 178,
    "start_time": "2021-11-30T14:52:22.067Z"
   },
   {
    "duration": 169,
    "start_time": "2021-11-30T14:52:22.077Z"
   },
   {
    "duration": 169,
    "start_time": "2021-11-30T14:52:22.078Z"
   },
   {
    "duration": 168,
    "start_time": "2021-11-30T14:52:22.080Z"
   },
   {
    "duration": 167,
    "start_time": "2021-11-30T14:52:22.081Z"
   },
   {
    "duration": 166,
    "start_time": "2021-11-30T14:52:22.083Z"
   },
   {
    "duration": 165,
    "start_time": "2021-11-30T14:52:22.085Z"
   },
   {
    "duration": 4,
    "start_time": "2021-11-30T14:52:37.289Z"
   },
   {
    "duration": 12,
    "start_time": "2021-11-30T14:52:39.545Z"
   },
   {
    "duration": 14,
    "start_time": "2021-11-30T14:52:40.737Z"
   },
   {
    "duration": 12,
    "start_time": "2021-11-30T14:52:42.729Z"
   },
   {
    "duration": 4,
    "start_time": "2021-11-30T14:53:10.354Z"
   },
   {
    "duration": 13,
    "start_time": "2021-11-30T14:53:13.237Z"
   },
   {
    "duration": 13,
    "start_time": "2021-11-30T14:53:15.244Z"
   },
   {
    "duration": 13,
    "start_time": "2021-11-30T14:53:16.344Z"
   },
   {
    "duration": 13,
    "start_time": "2021-11-30T14:53:17.017Z"
   },
   {
    "duration": 13,
    "start_time": "2021-11-30T14:53:17.574Z"
   },
   {
    "duration": 12,
    "start_time": "2021-11-30T14:53:18.147Z"
   },
   {
    "duration": 255,
    "start_time": "2021-11-30T14:53:19.411Z"
   },
   {
    "duration": 4,
    "start_time": "2021-11-30T15:00:34.408Z"
   },
   {
    "duration": 4,
    "start_time": "2021-11-30T15:00:38.184Z"
   },
   {
    "duration": 610,
    "start_time": "2021-11-30T15:01:33.164Z"
   },
   {
    "duration": 155,
    "start_time": "2021-11-30T15:01:33.776Z"
   },
   {
    "duration": 17,
    "start_time": "2021-11-30T15:01:33.933Z"
   },
   {
    "duration": 53,
    "start_time": "2021-11-30T15:01:33.952Z"
   },
   {
    "duration": 24,
    "start_time": "2021-11-30T15:01:34.007Z"
   },
   {
    "duration": 45,
    "start_time": "2021-11-30T15:01:34.033Z"
   },
   {
    "duration": 19,
    "start_time": "2021-11-30T15:01:34.080Z"
   },
   {
    "duration": 49,
    "start_time": "2021-11-30T15:01:34.101Z"
   },
   {
    "duration": 31,
    "start_time": "2021-11-30T15:01:34.153Z"
   },
   {
    "duration": 33,
    "start_time": "2021-11-30T15:01:34.186Z"
   },
   {
    "duration": 85,
    "start_time": "2021-11-30T15:01:34.221Z"
   },
   {
    "duration": 97,
    "start_time": "2021-11-30T15:01:34.308Z"
   },
   {
    "duration": 72,
    "start_time": "2021-11-30T15:01:34.407Z"
   },
   {
    "duration": 43,
    "start_time": "2021-11-30T15:01:34.481Z"
   },
   {
    "duration": 10,
    "start_time": "2021-11-30T15:01:34.526Z"
   },
   {
    "duration": 29,
    "start_time": "2021-11-30T15:01:34.538Z"
   },
   {
    "duration": 44,
    "start_time": "2021-11-30T15:01:34.569Z"
   },
   {
    "duration": 54,
    "start_time": "2021-11-30T15:01:34.615Z"
   },
   {
    "duration": 36,
    "start_time": "2021-11-30T15:01:34.670Z"
   },
   {
    "duration": 4,
    "start_time": "2021-11-30T15:01:34.708Z"
   },
   {
    "duration": 21,
    "start_time": "2021-11-30T15:01:34.713Z"
   },
   {
    "duration": 32,
    "start_time": "2021-11-30T15:01:34.736Z"
   },
   {
    "duration": 22,
    "start_time": "2021-11-30T15:01:34.770Z"
   },
   {
    "duration": 17,
    "start_time": "2021-11-30T15:01:34.794Z"
   },
   {
    "duration": 37,
    "start_time": "2021-11-30T15:01:34.812Z"
   },
   {
    "duration": 20,
    "start_time": "2021-11-30T15:01:34.851Z"
   },
   {
    "duration": 325,
    "start_time": "2021-11-30T15:01:34.874Z"
   },
   {
    "duration": 187,
    "start_time": "2021-11-30T15:01:35.015Z"
   },
   {
    "duration": 181,
    "start_time": "2021-11-30T15:01:35.022Z"
   },
   {
    "duration": 179,
    "start_time": "2021-11-30T15:01:35.025Z"
   },
   {
    "duration": 178,
    "start_time": "2021-11-30T15:01:35.027Z"
   },
   {
    "duration": 178,
    "start_time": "2021-11-30T15:01:35.028Z"
   },
   {
    "duration": 177,
    "start_time": "2021-11-30T15:01:35.031Z"
   },
   {
    "duration": 170,
    "start_time": "2021-11-30T15:01:35.039Z"
   },
   {
    "duration": 168,
    "start_time": "2021-11-30T15:01:35.041Z"
   },
   {
    "duration": 168,
    "start_time": "2021-11-30T15:01:35.043Z"
   },
   {
    "duration": 168,
    "start_time": "2021-11-30T15:01:35.044Z"
   },
   {
    "duration": 168,
    "start_time": "2021-11-30T15:01:35.045Z"
   },
   {
    "duration": 253,
    "start_time": "2021-11-30T15:07:10.563Z"
   },
   {
    "duration": 4,
    "start_time": "2021-11-30T15:07:44.923Z"
   },
   {
    "duration": 4,
    "start_time": "2021-11-30T15:07:47.346Z"
   },
   {
    "duration": 266,
    "start_time": "2021-11-30T15:07:49.357Z"
   },
   {
    "duration": 20,
    "start_time": "2021-11-30T15:08:57.358Z"
   },
   {
    "duration": 19,
    "start_time": "2021-11-30T15:09:00.267Z"
   },
   {
    "duration": 4,
    "start_time": "2021-11-30T15:09:12.192Z"
   },
   {
    "duration": 646,
    "start_time": "2021-11-30T15:09:28.316Z"
   },
   {
    "duration": 621,
    "start_time": "2021-11-30T15:09:45.094Z"
   },
   {
    "duration": 4,
    "start_time": "2021-11-30T15:10:47.518Z"
   },
   {
    "duration": 482,
    "start_time": "2021-11-30T15:10:50.679Z"
   },
   {
    "duration": 4,
    "start_time": "2021-11-30T15:11:17.535Z"
   },
   {
    "duration": 529,
    "start_time": "2021-11-30T15:11:20.078Z"
   },
   {
    "duration": 4,
    "start_time": "2021-11-30T15:20:07.316Z"
   },
   {
    "duration": 503,
    "start_time": "2021-11-30T15:20:10.507Z"
   },
   {
    "duration": 5,
    "start_time": "2021-11-30T15:20:30.554Z"
   },
   {
    "duration": 488,
    "start_time": "2021-11-30T15:20:33.636Z"
   },
   {
    "duration": 657,
    "start_time": "2021-11-30T15:20:38.639Z"
   },
   {
    "duration": 148,
    "start_time": "2021-11-30T15:20:39.298Z"
   },
   {
    "duration": 23,
    "start_time": "2021-11-30T15:20:39.448Z"
   },
   {
    "duration": 26,
    "start_time": "2021-11-30T15:20:39.473Z"
   },
   {
    "duration": 4,
    "start_time": "2021-11-30T15:20:39.501Z"
   },
   {
    "duration": 26,
    "start_time": "2021-11-30T15:20:39.507Z"
   },
   {
    "duration": 30,
    "start_time": "2021-11-30T15:20:39.534Z"
   },
   {
    "duration": 23,
    "start_time": "2021-11-30T15:20:39.567Z"
   },
   {
    "duration": 20,
    "start_time": "2021-11-30T15:20:39.592Z"
   },
   {
    "duration": 23,
    "start_time": "2021-11-30T15:20:39.614Z"
   },
   {
    "duration": 85,
    "start_time": "2021-11-30T15:20:39.638Z"
   },
   {
    "duration": 87,
    "start_time": "2021-11-30T15:20:39.725Z"
   },
   {
    "duration": 57,
    "start_time": "2021-11-30T15:20:39.814Z"
   },
   {
    "duration": 40,
    "start_time": "2021-11-30T15:20:39.873Z"
   },
   {
    "duration": 3,
    "start_time": "2021-11-30T15:20:39.915Z"
   },
   {
    "duration": 13,
    "start_time": "2021-11-30T15:20:39.920Z"
   },
   {
    "duration": 61,
    "start_time": "2021-11-30T15:20:39.935Z"
   },
   {
    "duration": 35,
    "start_time": "2021-11-30T15:20:39.998Z"
   },
   {
    "duration": 50,
    "start_time": "2021-11-30T15:20:40.035Z"
   },
   {
    "duration": 3,
    "start_time": "2021-11-30T15:20:40.087Z"
   },
   {
    "duration": 20,
    "start_time": "2021-11-30T15:20:40.092Z"
   },
   {
    "duration": 15,
    "start_time": "2021-11-30T15:20:40.113Z"
   },
   {
    "duration": 36,
    "start_time": "2021-11-30T15:20:40.131Z"
   },
   {
    "duration": 29,
    "start_time": "2021-11-30T15:20:40.169Z"
   },
   {
    "duration": 55,
    "start_time": "2021-11-30T15:20:40.200Z"
   },
   {
    "duration": 42,
    "start_time": "2021-11-30T15:20:40.257Z"
   },
   {
    "duration": 353,
    "start_time": "2021-11-30T15:20:40.301Z"
   },
   {
    "duration": 217,
    "start_time": "2021-11-30T15:20:40.439Z"
   },
   {
    "duration": 216,
    "start_time": "2021-11-30T15:20:40.442Z"
   },
   {
    "duration": 214,
    "start_time": "2021-11-30T15:20:40.445Z"
   },
   {
    "duration": 202,
    "start_time": "2021-11-30T15:20:40.459Z"
   },
   {
    "duration": 199,
    "start_time": "2021-11-30T15:20:40.463Z"
   },
   {
    "duration": 192,
    "start_time": "2021-11-30T15:20:40.472Z"
   },
   {
    "duration": 191,
    "start_time": "2021-11-30T15:20:40.474Z"
   },
   {
    "duration": 191,
    "start_time": "2021-11-30T15:20:40.475Z"
   },
   {
    "duration": 191,
    "start_time": "2021-11-30T15:20:40.477Z"
   },
   {
    "duration": 189,
    "start_time": "2021-11-30T15:20:40.480Z"
   },
   {
    "duration": 183,
    "start_time": "2021-11-30T15:20:40.488Z"
   },
   {
    "duration": 4,
    "start_time": "2021-11-30T15:20:55.678Z"
   },
   {
    "duration": 249,
    "start_time": "2021-11-30T15:20:57.141Z"
   },
   {
    "duration": 248,
    "start_time": "2021-11-30T15:20:59.318Z"
   },
   {
    "duration": 265,
    "start_time": "2021-11-30T15:21:01.644Z"
   },
   {
    "duration": 256,
    "start_time": "2021-11-30T15:21:04.052Z"
   },
   {
    "duration": 3,
    "start_time": "2021-11-30T15:27:50.905Z"
   },
   {
    "duration": 23,
    "start_time": "2021-11-30T15:27:54.680Z"
   },
   {
    "duration": 21,
    "start_time": "2021-11-30T15:27:58.687Z"
   },
   {
    "duration": 20,
    "start_time": "2021-11-30T15:28:00.640Z"
   },
   {
    "duration": 20,
    "start_time": "2021-11-30T15:28:02.673Z"
   },
   {
    "duration": 23,
    "start_time": "2021-11-30T15:28:04.540Z"
   },
   {
    "duration": 20,
    "start_time": "2021-11-30T15:28:06.673Z"
   },
   {
    "duration": 271,
    "start_time": "2021-11-30T15:28:11.195Z"
   },
   {
    "duration": 4,
    "start_time": "2021-11-30T15:28:32.049Z"
   },
   {
    "duration": 19,
    "start_time": "2021-11-30T15:28:33.818Z"
   },
   {
    "duration": 18,
    "start_time": "2021-11-30T15:28:35.409Z"
   },
   {
    "duration": 17,
    "start_time": "2021-11-30T15:28:37.402Z"
   },
   {
    "duration": 18,
    "start_time": "2021-11-30T15:28:38.993Z"
   },
   {
    "duration": 19,
    "start_time": "2021-11-30T15:28:40.673Z"
   },
   {
    "duration": 16,
    "start_time": "2021-11-30T15:28:42.001Z"
   },
   {
    "duration": 252,
    "start_time": "2021-11-30T15:28:44.289Z"
   },
   {
    "duration": 4,
    "start_time": "2021-11-30T15:29:08.657Z"
   },
   {
    "duration": 286,
    "start_time": "2021-11-30T15:29:11.249Z"
   },
   {
    "duration": 255,
    "start_time": "2021-11-30T15:29:35.818Z"
   },
   {
    "duration": 279,
    "start_time": "2021-11-30T15:29:57.922Z"
   },
   {
    "duration": 282,
    "start_time": "2021-11-30T15:31:59.675Z"
   },
   {
    "duration": 306,
    "start_time": "2021-11-30T15:32:16.098Z"
   },
   {
    "duration": 253,
    "start_time": "2021-11-30T15:33:06.593Z"
   },
   {
    "duration": 4,
    "start_time": "2021-11-30T15:34:43.533Z"
   },
   {
    "duration": 242,
    "start_time": "2021-11-30T15:34:44.556Z"
   },
   {
    "duration": 22,
    "start_time": "2021-11-30T15:34:50.191Z"
   },
   {
    "duration": 18,
    "start_time": "2021-11-30T15:34:54.222Z"
   },
   {
    "duration": 5,
    "start_time": "2021-11-30T15:34:58.950Z"
   },
   {
    "duration": 593,
    "start_time": "2021-11-30T15:35:06.733Z"
   },
   {
    "duration": 509,
    "start_time": "2021-11-30T15:35:26.222Z"
   },
   {
    "duration": 251,
    "start_time": "2021-11-30T15:36:41.627Z"
   },
   {
    "duration": 191,
    "start_time": "2021-11-30T15:37:48.838Z"
   },
   {
    "duration": 270,
    "start_time": "2021-11-30T15:39:15.225Z"
   },
   {
    "duration": 260,
    "start_time": "2021-11-30T15:40:33.530Z"
   },
   {
    "duration": 526,
    "start_time": "2021-11-30T15:41:17.314Z"
   },
   {
    "duration": 4,
    "start_time": "2021-11-30T15:46:56.382Z"
   },
   {
    "duration": 5,
    "start_time": "2021-11-30T15:47:37.782Z"
   },
   {
    "duration": 542,
    "start_time": "2021-11-30T15:47:42.846Z"
   },
   {
    "duration": 252,
    "start_time": "2021-11-30T15:51:24.601Z"
   },
   {
    "duration": 3,
    "start_time": "2021-11-30T15:53:25.059Z"
   },
   {
    "duration": 507,
    "start_time": "2021-11-30T15:53:28.563Z"
   },
   {
    "duration": 6,
    "start_time": "2021-11-30T15:53:49.829Z"
   },
   {
    "duration": 23,
    "start_time": "2021-11-30T15:53:51.698Z"
   },
   {
    "duration": 14,
    "start_time": "2021-11-30T15:54:05.663Z"
   },
   {
    "duration": 18,
    "start_time": "2021-11-30T15:54:07.677Z"
   },
   {
    "duration": 15,
    "start_time": "2021-11-30T15:54:09.902Z"
   },
   {
    "duration": 266,
    "start_time": "2021-11-30T15:57:06.565Z"
   },
   {
    "duration": 240,
    "start_time": "2021-11-30T15:57:56.717Z"
   },
   {
    "duration": 261,
    "start_time": "2021-11-30T15:58:34.813Z"
   },
   {
    "duration": 26,
    "start_time": "2021-11-30T15:59:52.615Z"
   },
   {
    "duration": 9,
    "start_time": "2021-11-30T16:00:35.335Z"
   },
   {
    "duration": 27,
    "start_time": "2021-11-30T16:00:39.159Z"
   },
   {
    "duration": 9,
    "start_time": "2021-11-30T16:00:45.167Z"
   },
   {
    "duration": 28,
    "start_time": "2021-11-30T16:01:21.391Z"
   },
   {
    "duration": 10,
    "start_time": "2021-11-30T16:01:23.704Z"
   },
   {
    "duration": 27,
    "start_time": "2021-11-30T16:01:26.528Z"
   },
   {
    "duration": 27,
    "start_time": "2021-11-30T16:01:29.897Z"
   },
   {
    "duration": 9,
    "start_time": "2021-11-30T16:01:31.953Z"
   },
   {
    "duration": 18,
    "start_time": "2021-11-30T16:02:17.352Z"
   },
   {
    "duration": 9,
    "start_time": "2021-11-30T16:02:35.129Z"
   },
   {
    "duration": 86,
    "start_time": "2021-11-30T16:06:05.858Z"
   },
   {
    "duration": 29,
    "start_time": "2021-11-30T16:06:13.067Z"
   },
   {
    "duration": 27,
    "start_time": "2021-11-30T16:06:15.218Z"
   },
   {
    "duration": 8,
    "start_time": "2021-11-30T16:06:16.827Z"
   },
   {
    "duration": 274,
    "start_time": "2021-11-30T16:08:56.134Z"
   },
   {
    "duration": 26,
    "start_time": "2021-11-30T16:09:12.317Z"
   },
   {
    "duration": 768,
    "start_time": "2021-11-30T20:48:32.704Z"
   },
   {
    "duration": 263,
    "start_time": "2021-11-30T20:48:33.475Z"
   },
   {
    "duration": 45,
    "start_time": "2021-11-30T20:48:33.742Z"
   },
   {
    "duration": 52,
    "start_time": "2021-11-30T20:48:33.790Z"
   },
   {
    "duration": 6,
    "start_time": "2021-11-30T20:48:33.845Z"
   },
   {
    "duration": 62,
    "start_time": "2021-11-30T20:48:33.854Z"
   },
   {
    "duration": 12,
    "start_time": "2021-11-30T20:48:33.919Z"
   },
   {
    "duration": 67,
    "start_time": "2021-11-30T20:48:33.936Z"
   },
   {
    "duration": 24,
    "start_time": "2021-11-30T20:48:34.007Z"
   },
   {
    "duration": 55,
    "start_time": "2021-11-30T20:48:34.033Z"
   },
   {
    "duration": 101,
    "start_time": "2021-11-30T20:48:34.091Z"
   },
   {
    "duration": 111,
    "start_time": "2021-11-30T20:48:34.195Z"
   },
   {
    "duration": 82,
    "start_time": "2021-11-30T20:48:34.309Z"
   },
   {
    "duration": 57,
    "start_time": "2021-11-30T20:48:34.394Z"
   },
   {
    "duration": 3,
    "start_time": "2021-11-30T20:48:34.454Z"
   },
   {
    "duration": 13,
    "start_time": "2021-11-30T20:48:34.482Z"
   },
   {
    "duration": 67,
    "start_time": "2021-11-30T20:48:34.498Z"
   },
   {
    "duration": 81,
    "start_time": "2021-11-30T20:48:34.567Z"
   },
   {
    "duration": 81,
    "start_time": "2021-11-30T20:48:34.651Z"
   },
   {
    "duration": 6,
    "start_time": "2021-11-30T20:48:34.735Z"
   },
   {
    "duration": 51,
    "start_time": "2021-11-30T20:48:34.744Z"
   },
   {
    "duration": 28,
    "start_time": "2021-11-30T20:48:34.798Z"
   },
   {
    "duration": 23,
    "start_time": "2021-11-30T20:48:34.833Z"
   },
   {
    "duration": 18,
    "start_time": "2021-11-30T20:48:34.883Z"
   },
   {
    "duration": 21,
    "start_time": "2021-11-30T20:48:34.904Z"
   },
   {
    "duration": 19,
    "start_time": "2021-11-30T20:48:34.927Z"
   },
   {
    "duration": 503,
    "start_time": "2021-11-30T20:48:34.981Z"
   },
   {
    "duration": 120,
    "start_time": "2021-11-30T20:48:35.366Z"
   },
   {
    "duration": 117,
    "start_time": "2021-11-30T20:48:35.370Z"
   },
   {
    "duration": 112,
    "start_time": "2021-11-30T20:48:35.377Z"
   },
   {
    "duration": 107,
    "start_time": "2021-11-30T20:48:35.383Z"
   },
   {
    "duration": 104,
    "start_time": "2021-11-30T20:48:35.388Z"
   },
   {
    "duration": 101,
    "start_time": "2021-11-30T20:48:35.392Z"
   },
   {
    "duration": 100,
    "start_time": "2021-11-30T20:48:35.395Z"
   },
   {
    "duration": 99,
    "start_time": "2021-11-30T20:48:35.397Z"
   },
   {
    "duration": 98,
    "start_time": "2021-11-30T20:48:35.400Z"
   },
   {
    "duration": 95,
    "start_time": "2021-11-30T20:48:35.404Z"
   },
   {
    "duration": 94,
    "start_time": "2021-11-30T20:48:35.407Z"
   },
   {
    "duration": 30,
    "start_time": "2021-11-30T20:49:04.565Z"
   },
   {
    "duration": 26,
    "start_time": "2021-11-30T20:49:04.597Z"
   },
   {
    "duration": 5,
    "start_time": "2021-11-30T20:49:04.626Z"
   },
   {
    "duration": 63,
    "start_time": "2021-11-30T20:49:04.634Z"
   },
   {
    "duration": 16,
    "start_time": "2021-11-30T20:49:04.700Z"
   },
   {
    "duration": 28,
    "start_time": "2021-11-30T20:49:04.719Z"
   },
   {
    "duration": 45,
    "start_time": "2021-11-30T20:49:04.750Z"
   },
   {
    "duration": 35,
    "start_time": "2021-11-30T20:49:04.798Z"
   },
   {
    "duration": 12,
    "start_time": "2021-11-30T20:49:04.836Z"
   },
   {
    "duration": 459,
    "start_time": "2021-11-30T20:49:04.850Z"
   },
   {
    "duration": 165,
    "start_time": "2021-11-30T20:49:05.147Z"
   },
   {
    "duration": 12,
    "start_time": "2021-11-30T21:01:36.970Z"
   },
   {
    "duration": 432,
    "start_time": "2021-12-01T10:52:37.075Z"
   },
   {
    "duration": 569,
    "start_time": "2021-12-01T11:00:27.518Z"
   },
   {
    "duration": 367,
    "start_time": "2021-12-01T11:07:12.932Z"
   },
   {
    "duration": 348,
    "start_time": "2021-12-01T11:09:45.113Z"
   },
   {
    "duration": 613,
    "start_time": "2021-12-01T11:10:10.702Z"
   },
   {
    "duration": 994,
    "start_time": "2021-12-01T11:10:19.558Z"
   },
   {
    "duration": 191,
    "start_time": "2021-12-01T11:10:20.555Z"
   },
   {
    "duration": 37,
    "start_time": "2021-12-01T11:10:20.750Z"
   },
   {
    "duration": 33,
    "start_time": "2021-12-01T11:10:20.789Z"
   },
   {
    "duration": 6,
    "start_time": "2021-12-01T11:10:20.825Z"
   },
   {
    "duration": 60,
    "start_time": "2021-12-01T11:10:20.833Z"
   },
   {
    "duration": 65,
    "start_time": "2021-12-01T11:10:20.895Z"
   },
   {
    "duration": 90,
    "start_time": "2021-12-01T11:10:20.962Z"
   },
   {
    "duration": 65,
    "start_time": "2021-12-01T11:10:21.056Z"
   },
   {
    "duration": 30,
    "start_time": "2021-12-01T11:10:21.125Z"
   },
   {
    "duration": 93,
    "start_time": "2021-12-01T11:10:21.158Z"
   },
   {
    "duration": 116,
    "start_time": "2021-12-01T11:10:21.254Z"
   },
   {
    "duration": 82,
    "start_time": "2021-12-01T11:10:21.373Z"
   },
   {
    "duration": 66,
    "start_time": "2021-12-01T11:10:21.458Z"
   },
   {
    "duration": 4,
    "start_time": "2021-12-01T11:10:21.527Z"
   },
   {
    "duration": 19,
    "start_time": "2021-12-01T11:10:21.533Z"
   },
   {
    "duration": 86,
    "start_time": "2021-12-01T11:10:21.555Z"
   },
   {
    "duration": 66,
    "start_time": "2021-12-01T11:10:21.644Z"
   },
   {
    "duration": 42,
    "start_time": "2021-12-01T11:10:21.713Z"
   },
   {
    "duration": 24,
    "start_time": "2021-12-01T11:10:21.757Z"
   },
   {
    "duration": 34,
    "start_time": "2021-12-01T11:10:21.784Z"
   },
   {
    "duration": 20,
    "start_time": "2021-12-01T11:10:21.820Z"
   },
   {
    "duration": 40,
    "start_time": "2021-12-01T11:10:21.842Z"
   },
   {
    "duration": 21,
    "start_time": "2021-12-01T11:10:21.884Z"
   },
   {
    "duration": 23,
    "start_time": "2021-12-01T11:10:21.908Z"
   },
   {
    "duration": 51,
    "start_time": "2021-12-01T11:10:21.933Z"
   },
   {
    "duration": 6,
    "start_time": "2021-12-01T11:10:21.989Z"
   },
   {
    "duration": 34,
    "start_time": "2021-12-01T11:10:21.997Z"
   },
   {
    "duration": 49,
    "start_time": "2021-12-01T11:10:22.033Z"
   },
   {
    "duration": 6,
    "start_time": "2021-12-01T11:10:22.084Z"
   },
   {
    "duration": 45,
    "start_time": "2021-12-01T11:10:22.092Z"
   },
   {
    "duration": 17,
    "start_time": "2021-12-01T11:10:22.140Z"
   },
   {
    "duration": 35,
    "start_time": "2021-12-01T11:10:22.159Z"
   },
   {
    "duration": 15,
    "start_time": "2021-12-01T11:10:22.196Z"
   },
   {
    "duration": 68,
    "start_time": "2021-12-01T11:10:22.213Z"
   },
   {
    "duration": 12,
    "start_time": "2021-12-01T11:10:22.284Z"
   },
   {
    "duration": 467,
    "start_time": "2021-12-01T11:10:22.298Z"
   },
   {
    "duration": 6234,
    "start_time": "2021-12-01T11:10:16.534Z"
   },
   {
    "duration": 6,
    "start_time": "2021-12-01T11:10:35.530Z"
   },
   {
    "duration": 6,
    "start_time": "2021-12-01T11:10:37.617Z"
   },
   {
    "duration": 6,
    "start_time": "2021-12-01T11:10:45.658Z"
   },
   {
    "duration": 17,
    "start_time": "2021-12-01T11:11:09.723Z"
   },
   {
    "duration": 149,
    "start_time": "2021-12-01T11:20:28.653Z"
   },
   {
    "duration": 363,
    "start_time": "2021-12-01T11:29:50.998Z"
   },
   {
    "duration": 32,
    "start_time": "2021-12-01T11:30:03.418Z"
   },
   {
    "duration": 18,
    "start_time": "2021-12-01T11:30:47.033Z"
   },
   {
    "duration": 17,
    "start_time": "2021-12-01T11:30:58.598Z"
   },
   {
    "duration": 348,
    "start_time": "2021-12-01T11:31:48.692Z"
   },
   {
    "duration": 440,
    "start_time": "2021-12-01T11:32:01.037Z"
   },
   {
    "duration": 30,
    "start_time": "2021-12-01T11:32:11.315Z"
   },
   {
    "duration": 47,
    "start_time": "2021-12-01T11:32:15.099Z"
   },
   {
    "duration": 45,
    "start_time": "2021-12-01T11:35:33.523Z"
   },
   {
    "duration": 29,
    "start_time": "2021-12-01T11:35:45.689Z"
   },
   {
    "duration": 378,
    "start_time": "2021-12-01T11:36:07.727Z"
   },
   {
    "duration": 30,
    "start_time": "2021-12-01T11:36:13.894Z"
   },
   {
    "duration": 118,
    "start_time": "2021-12-01T11:38:05.535Z"
   },
   {
    "duration": 6259,
    "start_time": "2021-12-01T11:51:25.348Z"
   },
   {
    "duration": 860,
    "start_time": "2021-12-01T11:51:40.847Z"
   },
   {
    "duration": 187,
    "start_time": "2021-12-01T11:51:41.710Z"
   },
   {
    "duration": 31,
    "start_time": "2021-12-01T11:51:41.900Z"
   },
   {
    "duration": 63,
    "start_time": "2021-12-01T11:51:41.934Z"
   },
   {
    "duration": 6,
    "start_time": "2021-12-01T11:51:42.000Z"
   },
   {
    "duration": 41,
    "start_time": "2021-12-01T11:51:42.009Z"
   },
   {
    "duration": 30,
    "start_time": "2021-12-01T11:51:42.054Z"
   },
   {
    "duration": 49,
    "start_time": "2021-12-01T11:51:42.088Z"
   },
   {
    "duration": 52,
    "start_time": "2021-12-01T11:51:42.142Z"
   },
   {
    "duration": 31,
    "start_time": "2021-12-01T11:51:42.196Z"
   },
   {
    "duration": 108,
    "start_time": "2021-12-01T11:51:42.229Z"
   },
   {
    "duration": 114,
    "start_time": "2021-12-01T11:51:42.340Z"
   },
   {
    "duration": 87,
    "start_time": "2021-12-01T11:51:42.456Z"
   },
   {
    "duration": 70,
    "start_time": "2021-12-01T11:51:42.545Z"
   },
   {
    "duration": 5,
    "start_time": "2021-12-01T11:51:42.617Z"
   },
   {
    "duration": 17,
    "start_time": "2021-12-01T11:51:42.624Z"
   },
   {
    "duration": 125,
    "start_time": "2021-12-01T11:51:42.644Z"
   },
   {
    "duration": 52,
    "start_time": "2021-12-01T11:51:42.772Z"
   },
   {
    "duration": 68,
    "start_time": "2021-12-01T11:51:42.826Z"
   },
   {
    "duration": 5,
    "start_time": "2021-12-01T11:51:42.897Z"
   },
   {
    "duration": 39,
    "start_time": "2021-12-01T11:51:42.904Z"
   },
   {
    "duration": 38,
    "start_time": "2021-12-01T11:51:42.945Z"
   },
   {
    "duration": 28,
    "start_time": "2021-12-01T11:51:42.991Z"
   },
   {
    "duration": 26,
    "start_time": "2021-12-01T11:51:43.023Z"
   },
   {
    "duration": 60,
    "start_time": "2021-12-01T11:51:43.052Z"
   },
   {
    "duration": 27,
    "start_time": "2021-12-01T11:51:43.115Z"
   },
   {
    "duration": 44,
    "start_time": "2021-12-01T11:51:43.144Z"
   },
   {
    "duration": 43,
    "start_time": "2021-12-01T11:51:43.191Z"
   },
   {
    "duration": 61,
    "start_time": "2021-12-01T11:51:43.237Z"
   },
   {
    "duration": 6,
    "start_time": "2021-12-01T11:51:43.301Z"
   },
   {
    "duration": 37,
    "start_time": "2021-12-01T11:51:43.310Z"
   },
   {
    "duration": 41,
    "start_time": "2021-12-01T11:51:43.350Z"
   },
   {
    "duration": 26,
    "start_time": "2021-12-01T11:51:43.393Z"
   },
   {
    "duration": 22,
    "start_time": "2021-12-01T11:51:43.422Z"
   },
   {
    "duration": 48,
    "start_time": "2021-12-01T11:51:43.483Z"
   },
   {
    "duration": 6272,
    "start_time": "2021-12-01T11:51:47.544Z"
   },
   {
    "duration": 6265,
    "start_time": "2021-12-01T11:51:47.553Z"
   },
   {
    "duration": 6258,
    "start_time": "2021-12-01T11:51:47.563Z"
   },
   {
    "duration": 8947,
    "start_time": "2021-12-01T11:52:25.391Z"
   },
   {
    "duration": 18,
    "start_time": "2021-12-01T11:53:30.000Z"
   },
   {
    "duration": 12,
    "start_time": "2021-12-01T11:59:35.463Z"
   },
   {
    "duration": 14,
    "start_time": "2021-12-01T12:00:05.268Z"
   },
   {
    "duration": 17,
    "start_time": "2021-12-01T12:01:49.603Z"
   },
   {
    "duration": 13,
    "start_time": "2021-12-01T12:01:55.326Z"
   },
   {
    "duration": 122,
    "start_time": "2021-12-01T12:04:06.138Z"
   },
   {
    "duration": 156,
    "start_time": "2021-12-01T12:05:04.261Z"
   },
   {
    "duration": 318,
    "start_time": "2021-12-01T12:06:12.118Z"
   },
   {
    "duration": 872,
    "start_time": "2021-12-01T20:19:32.933Z"
   },
   {
    "duration": 194,
    "start_time": "2021-12-01T20:19:33.808Z"
   },
   {
    "duration": 33,
    "start_time": "2021-12-01T20:19:34.005Z"
   },
   {
    "duration": 47,
    "start_time": "2021-12-01T20:19:34.042Z"
   },
   {
    "duration": 5,
    "start_time": "2021-12-01T20:19:34.092Z"
   },
   {
    "duration": 30,
    "start_time": "2021-12-01T20:19:34.099Z"
   },
   {
    "duration": 6,
    "start_time": "2021-12-01T20:19:34.161Z"
   },
   {
    "duration": 32,
    "start_time": "2021-12-01T20:19:34.173Z"
   },
   {
    "duration": 52,
    "start_time": "2021-12-01T20:19:34.208Z"
   },
   {
    "duration": 35,
    "start_time": "2021-12-01T20:19:34.262Z"
   },
   {
    "duration": 104,
    "start_time": "2021-12-01T20:19:34.300Z"
   },
   {
    "duration": 96,
    "start_time": "2021-12-01T20:19:34.406Z"
   },
   {
    "duration": 88,
    "start_time": "2021-12-01T20:19:34.504Z"
   },
   {
    "duration": 102,
    "start_time": "2021-12-01T20:19:34.594Z"
   },
   {
    "duration": 5,
    "start_time": "2021-12-01T20:19:34.699Z"
   },
   {
    "duration": 28,
    "start_time": "2021-12-01T20:19:34.707Z"
   },
   {
    "duration": 75,
    "start_time": "2021-12-01T20:19:34.738Z"
   },
   {
    "duration": 79,
    "start_time": "2021-12-01T20:19:34.816Z"
   },
   {
    "duration": 78,
    "start_time": "2021-12-01T20:19:34.898Z"
   },
   {
    "duration": 6,
    "start_time": "2021-12-01T20:19:34.979Z"
   },
   {
    "duration": 27,
    "start_time": "2021-12-01T20:19:34.988Z"
   },
   {
    "duration": 57,
    "start_time": "2021-12-01T20:19:35.018Z"
   },
   {
    "duration": 25,
    "start_time": "2021-12-01T20:19:35.082Z"
   },
   {
    "duration": 17,
    "start_time": "2021-12-01T20:19:35.109Z"
   },
   {
    "duration": 49,
    "start_time": "2021-12-01T20:19:35.128Z"
   },
   {
    "duration": 19,
    "start_time": "2021-12-01T20:19:35.180Z"
   },
   {
    "duration": 11,
    "start_time": "2021-12-01T20:19:35.201Z"
   },
   {
    "duration": 71,
    "start_time": "2021-12-01T20:19:35.215Z"
   },
   {
    "duration": 25,
    "start_time": "2021-12-01T20:19:35.289Z"
   },
   {
    "duration": 5,
    "start_time": "2021-12-01T20:19:35.316Z"
   },
   {
    "duration": 52,
    "start_time": "2021-12-01T20:19:35.323Z"
   },
   {
    "duration": 15,
    "start_time": "2021-12-01T20:19:35.378Z"
   },
   {
    "duration": 22,
    "start_time": "2021-12-01T20:19:35.395Z"
   },
   {
    "duration": 54,
    "start_time": "2021-12-01T20:19:35.420Z"
   },
   {
    "duration": 32,
    "start_time": "2021-12-01T20:19:35.477Z"
   },
   {
    "duration": 13,
    "start_time": "2021-12-01T20:19:35.512Z"
   },
   {
    "duration": 19,
    "start_time": "2021-12-01T20:19:35.559Z"
   },
   {
    "duration": 11,
    "start_time": "2021-12-01T20:19:35.581Z"
   },
   {
    "duration": 13,
    "start_time": "2021-12-01T20:25:56.503Z"
   },
   {
    "duration": 21,
    "start_time": "2021-12-01T20:34:17.077Z"
   },
   {
    "duration": 38,
    "start_time": "2021-12-01T20:34:36.937Z"
   },
   {
    "duration": 15,
    "start_time": "2021-12-01T20:34:46.277Z"
   },
   {
    "duration": 38,
    "start_time": "2021-12-01T20:34:47.796Z"
   },
   {
    "duration": 1655,
    "start_time": "2021-12-02T11:01:27.776Z"
   },
   {
    "duration": 375,
    "start_time": "2021-12-02T11:01:46.144Z"
   },
   {
    "duration": 669,
    "start_time": "2021-12-02T11:02:02.315Z"
   },
   {
    "duration": 161,
    "start_time": "2021-12-02T11:02:02.987Z"
   },
   {
    "duration": 18,
    "start_time": "2021-12-02T11:02:03.150Z"
   },
   {
    "duration": 36,
    "start_time": "2021-12-02T11:02:03.170Z"
   },
   {
    "duration": 6,
    "start_time": "2021-12-02T11:02:03.210Z"
   },
   {
    "duration": 28,
    "start_time": "2021-12-02T11:02:03.219Z"
   },
   {
    "duration": 9,
    "start_time": "2021-12-02T11:02:03.249Z"
   },
   {
    "duration": 33,
    "start_time": "2021-12-02T11:02:03.260Z"
   },
   {
    "duration": 33,
    "start_time": "2021-12-02T11:02:03.296Z"
   },
   {
    "duration": 25,
    "start_time": "2021-12-02T11:02:03.331Z"
   },
   {
    "duration": 92,
    "start_time": "2021-12-02T11:02:03.358Z"
   },
   {
    "duration": 82,
    "start_time": "2021-12-02T11:02:03.452Z"
   },
   {
    "duration": 53,
    "start_time": "2021-12-02T11:02:03.536Z"
   },
   {
    "duration": 63,
    "start_time": "2021-12-02T11:02:03.591Z"
   },
   {
    "duration": 3,
    "start_time": "2021-12-02T11:02:03.656Z"
   },
   {
    "duration": 17,
    "start_time": "2021-12-02T11:02:03.661Z"
   },
   {
    "duration": 67,
    "start_time": "2021-12-02T11:02:03.680Z"
   },
   {
    "duration": 35,
    "start_time": "2021-12-02T11:02:03.749Z"
   },
   {
    "duration": 52,
    "start_time": "2021-12-02T11:02:03.786Z"
   },
   {
    "duration": 4,
    "start_time": "2021-12-02T11:02:03.841Z"
   },
   {
    "duration": 40,
    "start_time": "2021-12-02T11:02:03.846Z"
   },
   {
    "duration": 15,
    "start_time": "2021-12-02T11:02:03.888Z"
   },
   {
    "duration": 26,
    "start_time": "2021-12-02T11:02:03.907Z"
   },
   {
    "duration": 22,
    "start_time": "2021-12-02T11:02:03.936Z"
   },
   {
    "duration": 21,
    "start_time": "2021-12-02T11:02:03.960Z"
   },
   {
    "duration": 38,
    "start_time": "2021-12-02T11:02:03.983Z"
   },
   {
    "duration": 9,
    "start_time": "2021-12-02T11:02:04.023Z"
   },
   {
    "duration": 43,
    "start_time": "2021-12-02T11:02:04.034Z"
   },
   {
    "duration": 19,
    "start_time": "2021-12-02T11:02:04.078Z"
   },
   {
    "duration": 23,
    "start_time": "2021-12-02T11:02:04.099Z"
   },
   {
    "duration": 41,
    "start_time": "2021-12-02T11:02:04.124Z"
   },
   {
    "duration": 21,
    "start_time": "2021-12-02T11:02:04.167Z"
   },
   {
    "duration": 22,
    "start_time": "2021-12-02T11:02:04.190Z"
   },
   {
    "duration": 37,
    "start_time": "2021-12-02T11:02:04.215Z"
   },
   {
    "duration": 469,
    "start_time": "2021-12-02T11:02:04.254Z"
   },
   {
    "duration": 2972,
    "start_time": "2021-12-02T11:02:01.753Z"
   },
   {
    "duration": 2967,
    "start_time": "2021-12-02T11:02:01.759Z"
   },
   {
    "duration": 2931,
    "start_time": "2021-12-02T11:02:01.796Z"
   },
   {
    "duration": 10,
    "start_time": "2021-12-02T11:03:11.717Z"
   },
   {
    "duration": 6,
    "start_time": "2021-12-02T11:03:15.553Z"
   },
   {
    "duration": 132,
    "start_time": "2021-12-02T11:05:11.247Z"
   },
   {
    "duration": 146,
    "start_time": "2021-12-02T11:07:41.593Z"
   },
   {
    "duration": 7,
    "start_time": "2021-12-02T11:08:14.329Z"
   },
   {
    "duration": 5,
    "start_time": "2021-12-02T11:08:21.533Z"
   },
   {
    "duration": 121,
    "start_time": "2021-12-02T11:11:11.566Z"
   },
   {
    "duration": 118,
    "start_time": "2021-12-02T11:12:32.478Z"
   },
   {
    "duration": 136,
    "start_time": "2021-12-02T11:12:51.011Z"
   },
   {
    "duration": 400,
    "start_time": "2021-12-03T08:44:39.437Z"
   },
   {
    "duration": 903,
    "start_time": "2021-12-03T08:44:47.846Z"
   },
   {
    "duration": 196,
    "start_time": "2021-12-03T08:44:48.752Z"
   },
   {
    "duration": 34,
    "start_time": "2021-12-03T08:44:48.952Z"
   },
   {
    "duration": 36,
    "start_time": "2021-12-03T08:44:48.989Z"
   },
   {
    "duration": 5,
    "start_time": "2021-12-03T08:44:49.028Z"
   },
   {
    "duration": 59,
    "start_time": "2021-12-03T08:44:49.035Z"
   },
   {
    "duration": 8,
    "start_time": "2021-12-03T08:44:49.097Z"
   },
   {
    "duration": 58,
    "start_time": "2021-12-03T08:44:49.110Z"
   },
   {
    "duration": 24,
    "start_time": "2021-12-03T08:44:49.172Z"
   },
   {
    "duration": 31,
    "start_time": "2021-12-03T08:44:49.198Z"
   },
   {
    "duration": 111,
    "start_time": "2021-12-03T08:44:49.231Z"
   },
   {
    "duration": 123,
    "start_time": "2021-12-03T08:44:49.344Z"
   },
   {
    "duration": 78,
    "start_time": "2021-12-03T08:44:49.469Z"
   },
   {
    "duration": 74,
    "start_time": "2021-12-03T08:44:49.550Z"
   },
   {
    "duration": 5,
    "start_time": "2021-12-03T08:44:49.626Z"
   },
   {
    "duration": 37,
    "start_time": "2021-12-03T08:44:49.633Z"
   },
   {
    "duration": 59,
    "start_time": "2021-12-03T08:44:49.673Z"
   },
   {
    "duration": 69,
    "start_time": "2021-12-03T08:44:49.735Z"
   },
   {
    "duration": 68,
    "start_time": "2021-12-03T08:44:49.806Z"
   },
   {
    "duration": 4,
    "start_time": "2021-12-03T08:44:49.877Z"
   },
   {
    "duration": 30,
    "start_time": "2021-12-03T08:44:49.884Z"
   },
   {
    "duration": 21,
    "start_time": "2021-12-03T08:44:49.917Z"
   },
   {
    "duration": 20,
    "start_time": "2021-12-03T08:44:49.967Z"
   },
   {
    "duration": 20,
    "start_time": "2021-12-03T08:44:49.989Z"
   },
   {
    "duration": 23,
    "start_time": "2021-12-03T08:44:50.011Z"
   },
   {
    "duration": 20,
    "start_time": "2021-12-03T08:44:50.068Z"
   },
   {
    "duration": 11,
    "start_time": "2021-12-03T08:44:50.090Z"
   },
   {
    "duration": 31,
    "start_time": "2021-12-03T08:44:50.104Z"
   },
   {
    "duration": 27,
    "start_time": "2021-12-03T08:44:50.167Z"
   },
   {
    "duration": 5,
    "start_time": "2021-12-03T08:44:50.197Z"
   },
   {
    "duration": 38,
    "start_time": "2021-12-03T08:44:50.204Z"
   },
   {
    "duration": 18,
    "start_time": "2021-12-03T08:44:50.267Z"
   },
   {
    "duration": 23,
    "start_time": "2021-12-03T08:44:50.288Z"
   },
   {
    "duration": 17,
    "start_time": "2021-12-03T08:44:50.314Z"
   },
   {
    "duration": 13,
    "start_time": "2021-12-03T08:44:50.368Z"
   },
   {
    "duration": 7,
    "start_time": "2021-12-03T08:44:50.383Z"
   },
   {
    "duration": 11,
    "start_time": "2021-12-03T08:44:50.393Z"
   },
   {
    "duration": 11,
    "start_time": "2021-12-03T08:44:50.407Z"
   },
   {
    "duration": 494,
    "start_time": "2021-12-03T08:44:54.814Z"
   },
   {
    "duration": 18,
    "start_time": "2021-12-03T08:44:58.430Z"
   },
   {
    "duration": 352,
    "start_time": "2021-12-03T08:45:18.191Z"
   },
   {
    "duration": 6,
    "start_time": "2021-12-03T08:45:22.141Z"
   },
   {
    "duration": 5,
    "start_time": "2021-12-03T08:46:37.676Z"
   },
   {
    "duration": 10,
    "start_time": "2021-12-03T08:51:01.107Z"
   }
  ],
  "colab": {
   "collapsed_sections": [
    "E0vqbgi9ay0H",
    "VUC88oWjTJw2"
   ],
   "name": "yandex_music_project_2021.2.ipynb",
   "provenance": []
  },
  "kernelspec": {
   "display_name": "Python 3 (ipykernel)",
   "language": "python",
   "name": "python3"
  },
  "language_info": {
   "codemirror_mode": {
    "name": "ipython",
    "version": 3
   },
   "file_extension": ".py",
   "mimetype": "text/x-python",
   "name": "python",
   "nbconvert_exporter": "python",
   "pygments_lexer": "ipython3",
   "version": "3.9.12"
  },
  "toc": {
   "base_numbering": 1,
   "nav_menu": {},
   "number_sections": true,
   "sideBar": true,
   "skip_h1_title": true,
   "title_cell": "Table of Contents",
   "title_sidebar": "Contents",
   "toc_cell": false,
   "toc_position": {},
   "toc_section_display": true,
   "toc_window_display": false
  }
 },
 "nbformat": 4,
 "nbformat_minor": 1
}
