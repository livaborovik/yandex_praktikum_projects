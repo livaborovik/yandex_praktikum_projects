{
 "cells": [
  {
   "cell_type": "markdown",
   "metadata": {},
   "source": [
    "# Отток клиентов"
   ]
  },
  {
   "cell_type": "markdown",
   "metadata": {},
   "source": [
    "***Цель проекта*** - построение модели, прогнозирующей уйдет ли клиент из банка в ближайшее время или нет.\n",
    "\n",
    "***Задачи проекта:***\n",
    "\n",
    "1. Изучить предоставленные данные;\n",
    "2. Провести исследовательский анализ данных;\n",
    "3. Построить несколько прогнозных моделей и выбрать лучшую;\n",
    "4. Протестировать выбранную модель.\n"
   ]
  },
  {
   "cell_type": "markdown",
   "metadata": {},
   "source": [
    "## Подготовка данных"
   ]
  },
  {
   "cell_type": "markdown",
   "metadata": {},
   "source": [
    "### Изучение данных"
   ]
  },
  {
   "cell_type": "markdown",
   "metadata": {},
   "source": [
    "Для того, чтобы понять, с какими данными необходимо работать, изучим их."
   ]
  },
  {
   "cell_type": "code",
   "execution_count": 1,
   "metadata": {},
   "outputs": [],
   "source": [
    "#импортируем все необходимые библиотеки\n",
    "\n",
    "import pandas as pd\n",
    "import re\n",
    "import matplotlib.pyplot as plt\n",
    "import seaborn as sns\n",
    "from sklearn.preprocessing import OrdinalEncoder\n",
    "from sklearn.preprocessing import StandardScaler\n",
    "from sklearn.metrics import confusion_matrix\n",
    "from sklearn.metrics import precision_score\n",
    "from sklearn.metrics import recall_score\n",
    "from sklearn.metrics import f1_score\n",
    "import numpy as np\n",
    "import matplotlib.pyplot as plt\n",
    "from sklearn.model_selection import train_test_split\n",
    "from sklearn.linear_model import LogisticRegression\n",
    "from sklearn.ensemble import RandomForestClassifier\n",
    "from sklearn.tree import DecisionTreeClassifier\n",
    "from sklearn.metrics import roc_curve\n",
    "from sklearn.metrics import roc_auc_score\n",
    "from sklearn.utils import shuffle"
   ]
  },
  {
   "cell_type": "code",
   "execution_count": 2,
   "metadata": {},
   "outputs": [
    {
     "data": {
      "text/html": [
       "<div>\n",
       "<style scoped>\n",
       "    .dataframe tbody tr th:only-of-type {\n",
       "        vertical-align: middle;\n",
       "    }\n",
       "\n",
       "    .dataframe tbody tr th {\n",
       "        vertical-align: top;\n",
       "    }\n",
       "\n",
       "    .dataframe thead th {\n",
       "        text-align: right;\n",
       "    }\n",
       "</style>\n",
       "<table border=\"1\" class=\"dataframe\">\n",
       "  <thead>\n",
       "    <tr style=\"text-align: right;\">\n",
       "      <th></th>\n",
       "      <th>RowNumber</th>\n",
       "      <th>CustomerId</th>\n",
       "      <th>Surname</th>\n",
       "      <th>CreditScore</th>\n",
       "      <th>Geography</th>\n",
       "      <th>Gender</th>\n",
       "      <th>Age</th>\n",
       "      <th>Tenure</th>\n",
       "      <th>Balance</th>\n",
       "      <th>NumOfProducts</th>\n",
       "      <th>HasCrCard</th>\n",
       "      <th>IsActiveMember</th>\n",
       "      <th>EstimatedSalary</th>\n",
       "      <th>Exited</th>\n",
       "    </tr>\n",
       "  </thead>\n",
       "  <tbody>\n",
       "    <tr>\n",
       "      <th>0</th>\n",
       "      <td>1</td>\n",
       "      <td>15634602</td>\n",
       "      <td>Hargrave</td>\n",
       "      <td>619</td>\n",
       "      <td>France</td>\n",
       "      <td>Female</td>\n",
       "      <td>42</td>\n",
       "      <td>2.0</td>\n",
       "      <td>0.00</td>\n",
       "      <td>1</td>\n",
       "      <td>1</td>\n",
       "      <td>1</td>\n",
       "      <td>101348.88</td>\n",
       "      <td>1</td>\n",
       "    </tr>\n",
       "    <tr>\n",
       "      <th>1</th>\n",
       "      <td>2</td>\n",
       "      <td>15647311</td>\n",
       "      <td>Hill</td>\n",
       "      <td>608</td>\n",
       "      <td>Spain</td>\n",
       "      <td>Female</td>\n",
       "      <td>41</td>\n",
       "      <td>1.0</td>\n",
       "      <td>83807.86</td>\n",
       "      <td>1</td>\n",
       "      <td>0</td>\n",
       "      <td>1</td>\n",
       "      <td>112542.58</td>\n",
       "      <td>0</td>\n",
       "    </tr>\n",
       "    <tr>\n",
       "      <th>2</th>\n",
       "      <td>3</td>\n",
       "      <td>15619304</td>\n",
       "      <td>Onio</td>\n",
       "      <td>502</td>\n",
       "      <td>France</td>\n",
       "      <td>Female</td>\n",
       "      <td>42</td>\n",
       "      <td>8.0</td>\n",
       "      <td>159660.80</td>\n",
       "      <td>3</td>\n",
       "      <td>1</td>\n",
       "      <td>0</td>\n",
       "      <td>113931.57</td>\n",
       "      <td>1</td>\n",
       "    </tr>\n",
       "    <tr>\n",
       "      <th>3</th>\n",
       "      <td>4</td>\n",
       "      <td>15701354</td>\n",
       "      <td>Boni</td>\n",
       "      <td>699</td>\n",
       "      <td>France</td>\n",
       "      <td>Female</td>\n",
       "      <td>39</td>\n",
       "      <td>1.0</td>\n",
       "      <td>0.00</td>\n",
       "      <td>2</td>\n",
       "      <td>0</td>\n",
       "      <td>0</td>\n",
       "      <td>93826.63</td>\n",
       "      <td>0</td>\n",
       "    </tr>\n",
       "    <tr>\n",
       "      <th>4</th>\n",
       "      <td>5</td>\n",
       "      <td>15737888</td>\n",
       "      <td>Mitchell</td>\n",
       "      <td>850</td>\n",
       "      <td>Spain</td>\n",
       "      <td>Female</td>\n",
       "      <td>43</td>\n",
       "      <td>2.0</td>\n",
       "      <td>125510.82</td>\n",
       "      <td>1</td>\n",
       "      <td>1</td>\n",
       "      <td>1</td>\n",
       "      <td>79084.10</td>\n",
       "      <td>0</td>\n",
       "    </tr>\n",
       "    <tr>\n",
       "      <th>5</th>\n",
       "      <td>6</td>\n",
       "      <td>15574012</td>\n",
       "      <td>Chu</td>\n",
       "      <td>645</td>\n",
       "      <td>Spain</td>\n",
       "      <td>Male</td>\n",
       "      <td>44</td>\n",
       "      <td>8.0</td>\n",
       "      <td>113755.78</td>\n",
       "      <td>2</td>\n",
       "      <td>1</td>\n",
       "      <td>0</td>\n",
       "      <td>149756.71</td>\n",
       "      <td>1</td>\n",
       "    </tr>\n",
       "    <tr>\n",
       "      <th>6</th>\n",
       "      <td>7</td>\n",
       "      <td>15592531</td>\n",
       "      <td>Bartlett</td>\n",
       "      <td>822</td>\n",
       "      <td>France</td>\n",
       "      <td>Male</td>\n",
       "      <td>50</td>\n",
       "      <td>7.0</td>\n",
       "      <td>0.00</td>\n",
       "      <td>2</td>\n",
       "      <td>1</td>\n",
       "      <td>1</td>\n",
       "      <td>10062.80</td>\n",
       "      <td>0</td>\n",
       "    </tr>\n",
       "    <tr>\n",
       "      <th>7</th>\n",
       "      <td>8</td>\n",
       "      <td>15656148</td>\n",
       "      <td>Obinna</td>\n",
       "      <td>376</td>\n",
       "      <td>Germany</td>\n",
       "      <td>Female</td>\n",
       "      <td>29</td>\n",
       "      <td>4.0</td>\n",
       "      <td>115046.74</td>\n",
       "      <td>4</td>\n",
       "      <td>1</td>\n",
       "      <td>0</td>\n",
       "      <td>119346.88</td>\n",
       "      <td>1</td>\n",
       "    </tr>\n",
       "    <tr>\n",
       "      <th>8</th>\n",
       "      <td>9</td>\n",
       "      <td>15792365</td>\n",
       "      <td>He</td>\n",
       "      <td>501</td>\n",
       "      <td>France</td>\n",
       "      <td>Male</td>\n",
       "      <td>44</td>\n",
       "      <td>4.0</td>\n",
       "      <td>142051.07</td>\n",
       "      <td>2</td>\n",
       "      <td>0</td>\n",
       "      <td>1</td>\n",
       "      <td>74940.50</td>\n",
       "      <td>0</td>\n",
       "    </tr>\n",
       "    <tr>\n",
       "      <th>9</th>\n",
       "      <td>10</td>\n",
       "      <td>15592389</td>\n",
       "      <td>H?</td>\n",
       "      <td>684</td>\n",
       "      <td>France</td>\n",
       "      <td>Male</td>\n",
       "      <td>27</td>\n",
       "      <td>2.0</td>\n",
       "      <td>134603.88</td>\n",
       "      <td>1</td>\n",
       "      <td>1</td>\n",
       "      <td>1</td>\n",
       "      <td>71725.73</td>\n",
       "      <td>0</td>\n",
       "    </tr>\n",
       "  </tbody>\n",
       "</table>\n",
       "</div>"
      ],
      "text/plain": [
       "   RowNumber  CustomerId   Surname  CreditScore Geography  Gender  Age  \\\n",
       "0          1    15634602  Hargrave          619    France  Female   42   \n",
       "1          2    15647311      Hill          608     Spain  Female   41   \n",
       "2          3    15619304      Onio          502    France  Female   42   \n",
       "3          4    15701354      Boni          699    France  Female   39   \n",
       "4          5    15737888  Mitchell          850     Spain  Female   43   \n",
       "5          6    15574012       Chu          645     Spain    Male   44   \n",
       "6          7    15592531  Bartlett          822    France    Male   50   \n",
       "7          8    15656148    Obinna          376   Germany  Female   29   \n",
       "8          9    15792365        He          501    France    Male   44   \n",
       "9         10    15592389        H?          684    France    Male   27   \n",
       "\n",
       "   Tenure    Balance  NumOfProducts  HasCrCard  IsActiveMember  \\\n",
       "0     2.0       0.00              1          1               1   \n",
       "1     1.0   83807.86              1          0               1   \n",
       "2     8.0  159660.80              3          1               0   \n",
       "3     1.0       0.00              2          0               0   \n",
       "4     2.0  125510.82              1          1               1   \n",
       "5     8.0  113755.78              2          1               0   \n",
       "6     7.0       0.00              2          1               1   \n",
       "7     4.0  115046.74              4          1               0   \n",
       "8     4.0  142051.07              2          0               1   \n",
       "9     2.0  134603.88              1          1               1   \n",
       "\n",
       "   EstimatedSalary  Exited  \n",
       "0        101348.88       1  \n",
       "1        112542.58       0  \n",
       "2        113931.57       1  \n",
       "3         93826.63       0  \n",
       "4         79084.10       0  \n",
       "5        149756.71       1  \n",
       "6         10062.80       0  \n",
       "7        119346.88       1  \n",
       "8         74940.50       0  \n",
       "9         71725.73       0  "
      ]
     },
     "execution_count": 2,
     "metadata": {},
     "output_type": "execute_result"
    }
   ],
   "source": [
    "#откроем файл\n",
    "\n",
    "data = pd.read_csv('/datasets/Churn.csv')\n",
    "\n",
    "#выведем на печать первые 10 строк датасета\n",
    "\n",
    "data.head(10)"
   ]
  },
  {
   "cell_type": "markdown",
   "metadata": {},
   "source": [
    "Согласно хорошему стилю написания кода и для более приятного визуального восприятия, переименуем столбцы в соответствии со змеиным регистром."
   ]
  },
  {
   "cell_type": "code",
   "execution_count": 3,
   "metadata": {
    "scrolled": true
   },
   "outputs": [
    {
     "data": {
      "text/html": [
       "<div>\n",
       "<style scoped>\n",
       "    .dataframe tbody tr th:only-of-type {\n",
       "        vertical-align: middle;\n",
       "    }\n",
       "\n",
       "    .dataframe tbody tr th {\n",
       "        vertical-align: top;\n",
       "    }\n",
       "\n",
       "    .dataframe thead th {\n",
       "        text-align: right;\n",
       "    }\n",
       "</style>\n",
       "<table border=\"1\" class=\"dataframe\">\n",
       "  <thead>\n",
       "    <tr style=\"text-align: right;\">\n",
       "      <th></th>\n",
       "      <th>row_number</th>\n",
       "      <th>customer_id</th>\n",
       "      <th>surname</th>\n",
       "      <th>credit_score</th>\n",
       "      <th>geography</th>\n",
       "      <th>gender</th>\n",
       "      <th>age</th>\n",
       "      <th>tenure</th>\n",
       "      <th>balance</th>\n",
       "      <th>num_of_products</th>\n",
       "      <th>has_cr_card</th>\n",
       "      <th>is_active_member</th>\n",
       "      <th>estimated_salary</th>\n",
       "      <th>exited</th>\n",
       "    </tr>\n",
       "  </thead>\n",
       "  <tbody>\n",
       "    <tr>\n",
       "      <th>0</th>\n",
       "      <td>1</td>\n",
       "      <td>15634602</td>\n",
       "      <td>Hargrave</td>\n",
       "      <td>619</td>\n",
       "      <td>France</td>\n",
       "      <td>Female</td>\n",
       "      <td>42</td>\n",
       "      <td>2.0</td>\n",
       "      <td>0.00</td>\n",
       "      <td>1</td>\n",
       "      <td>1</td>\n",
       "      <td>1</td>\n",
       "      <td>101348.88</td>\n",
       "      <td>1</td>\n",
       "    </tr>\n",
       "    <tr>\n",
       "      <th>1</th>\n",
       "      <td>2</td>\n",
       "      <td>15647311</td>\n",
       "      <td>Hill</td>\n",
       "      <td>608</td>\n",
       "      <td>Spain</td>\n",
       "      <td>Female</td>\n",
       "      <td>41</td>\n",
       "      <td>1.0</td>\n",
       "      <td>83807.86</td>\n",
       "      <td>1</td>\n",
       "      <td>0</td>\n",
       "      <td>1</td>\n",
       "      <td>112542.58</td>\n",
       "      <td>0</td>\n",
       "    </tr>\n",
       "    <tr>\n",
       "      <th>2</th>\n",
       "      <td>3</td>\n",
       "      <td>15619304</td>\n",
       "      <td>Onio</td>\n",
       "      <td>502</td>\n",
       "      <td>France</td>\n",
       "      <td>Female</td>\n",
       "      <td>42</td>\n",
       "      <td>8.0</td>\n",
       "      <td>159660.80</td>\n",
       "      <td>3</td>\n",
       "      <td>1</td>\n",
       "      <td>0</td>\n",
       "      <td>113931.57</td>\n",
       "      <td>1</td>\n",
       "    </tr>\n",
       "    <tr>\n",
       "      <th>3</th>\n",
       "      <td>4</td>\n",
       "      <td>15701354</td>\n",
       "      <td>Boni</td>\n",
       "      <td>699</td>\n",
       "      <td>France</td>\n",
       "      <td>Female</td>\n",
       "      <td>39</td>\n",
       "      <td>1.0</td>\n",
       "      <td>0.00</td>\n",
       "      <td>2</td>\n",
       "      <td>0</td>\n",
       "      <td>0</td>\n",
       "      <td>93826.63</td>\n",
       "      <td>0</td>\n",
       "    </tr>\n",
       "    <tr>\n",
       "      <th>4</th>\n",
       "      <td>5</td>\n",
       "      <td>15737888</td>\n",
       "      <td>Mitchell</td>\n",
       "      <td>850</td>\n",
       "      <td>Spain</td>\n",
       "      <td>Female</td>\n",
       "      <td>43</td>\n",
       "      <td>2.0</td>\n",
       "      <td>125510.82</td>\n",
       "      <td>1</td>\n",
       "      <td>1</td>\n",
       "      <td>1</td>\n",
       "      <td>79084.10</td>\n",
       "      <td>0</td>\n",
       "    </tr>\n",
       "    <tr>\n",
       "      <th>5</th>\n",
       "      <td>6</td>\n",
       "      <td>15574012</td>\n",
       "      <td>Chu</td>\n",
       "      <td>645</td>\n",
       "      <td>Spain</td>\n",
       "      <td>Male</td>\n",
       "      <td>44</td>\n",
       "      <td>8.0</td>\n",
       "      <td>113755.78</td>\n",
       "      <td>2</td>\n",
       "      <td>1</td>\n",
       "      <td>0</td>\n",
       "      <td>149756.71</td>\n",
       "      <td>1</td>\n",
       "    </tr>\n",
       "    <tr>\n",
       "      <th>6</th>\n",
       "      <td>7</td>\n",
       "      <td>15592531</td>\n",
       "      <td>Bartlett</td>\n",
       "      <td>822</td>\n",
       "      <td>France</td>\n",
       "      <td>Male</td>\n",
       "      <td>50</td>\n",
       "      <td>7.0</td>\n",
       "      <td>0.00</td>\n",
       "      <td>2</td>\n",
       "      <td>1</td>\n",
       "      <td>1</td>\n",
       "      <td>10062.80</td>\n",
       "      <td>0</td>\n",
       "    </tr>\n",
       "    <tr>\n",
       "      <th>7</th>\n",
       "      <td>8</td>\n",
       "      <td>15656148</td>\n",
       "      <td>Obinna</td>\n",
       "      <td>376</td>\n",
       "      <td>Germany</td>\n",
       "      <td>Female</td>\n",
       "      <td>29</td>\n",
       "      <td>4.0</td>\n",
       "      <td>115046.74</td>\n",
       "      <td>4</td>\n",
       "      <td>1</td>\n",
       "      <td>0</td>\n",
       "      <td>119346.88</td>\n",
       "      <td>1</td>\n",
       "    </tr>\n",
       "    <tr>\n",
       "      <th>8</th>\n",
       "      <td>9</td>\n",
       "      <td>15792365</td>\n",
       "      <td>He</td>\n",
       "      <td>501</td>\n",
       "      <td>France</td>\n",
       "      <td>Male</td>\n",
       "      <td>44</td>\n",
       "      <td>4.0</td>\n",
       "      <td>142051.07</td>\n",
       "      <td>2</td>\n",
       "      <td>0</td>\n",
       "      <td>1</td>\n",
       "      <td>74940.50</td>\n",
       "      <td>0</td>\n",
       "    </tr>\n",
       "    <tr>\n",
       "      <th>9</th>\n",
       "      <td>10</td>\n",
       "      <td>15592389</td>\n",
       "      <td>H?</td>\n",
       "      <td>684</td>\n",
       "      <td>France</td>\n",
       "      <td>Male</td>\n",
       "      <td>27</td>\n",
       "      <td>2.0</td>\n",
       "      <td>134603.88</td>\n",
       "      <td>1</td>\n",
       "      <td>1</td>\n",
       "      <td>1</td>\n",
       "      <td>71725.73</td>\n",
       "      <td>0</td>\n",
       "    </tr>\n",
       "  </tbody>\n",
       "</table>\n",
       "</div>"
      ],
      "text/plain": [
       "   row_number  customer_id   surname  credit_score geography  gender  age  \\\n",
       "0           1     15634602  Hargrave           619    France  Female   42   \n",
       "1           2     15647311      Hill           608     Spain  Female   41   \n",
       "2           3     15619304      Onio           502    France  Female   42   \n",
       "3           4     15701354      Boni           699    France  Female   39   \n",
       "4           5     15737888  Mitchell           850     Spain  Female   43   \n",
       "5           6     15574012       Chu           645     Spain    Male   44   \n",
       "6           7     15592531  Bartlett           822    France    Male   50   \n",
       "7           8     15656148    Obinna           376   Germany  Female   29   \n",
       "8           9     15792365        He           501    France    Male   44   \n",
       "9          10     15592389        H?           684    France    Male   27   \n",
       "\n",
       "   tenure    balance  num_of_products  has_cr_card  is_active_member  \\\n",
       "0     2.0       0.00                1            1                 1   \n",
       "1     1.0   83807.86                1            0                 1   \n",
       "2     8.0  159660.80                3            1                 0   \n",
       "3     1.0       0.00                2            0                 0   \n",
       "4     2.0  125510.82                1            1                 1   \n",
       "5     8.0  113755.78                2            1                 0   \n",
       "6     7.0       0.00                2            1                 1   \n",
       "7     4.0  115046.74                4            1                 0   \n",
       "8     4.0  142051.07                2            0                 1   \n",
       "9     2.0  134603.88                1            1                 1   \n",
       "\n",
       "   estimated_salary  exited  \n",
       "0         101348.88       1  \n",
       "1         112542.58       0  \n",
       "2         113931.57       1  \n",
       "3          93826.63       0  \n",
       "4          79084.10       0  \n",
       "5         149756.71       1  \n",
       "6          10062.80       0  \n",
       "7         119346.88       1  \n",
       "8          74940.50       0  \n",
       "9          71725.73       0  "
      ]
     },
     "execution_count": 3,
     "metadata": {},
     "output_type": "execute_result"
    }
   ],
   "source": [
    "#переименуем столбцы, используя регулярное выражение\n",
    "\n",
    "for name in data.columns:\n",
    "    rena = re.sub(r\"(?=[A-Z])(?!^)\", '_', name).lower()\n",
    "    data = data.rename(columns={name:rena})\n",
    "    \n",
    "#выведем первые 10 строк на экран\n",
    "\n",
    "data.head(10)"
   ]
  },
  {
   "cell_type": "code",
   "execution_count": 4,
   "metadata": {
    "scrolled": true
   },
   "outputs": [
    {
     "name": "stdout",
     "output_type": "stream",
     "text": [
      "<class 'pandas.core.frame.DataFrame'>\n",
      "RangeIndex: 10000 entries, 0 to 9999\n",
      "Data columns (total 14 columns):\n",
      " #   Column            Non-Null Count  Dtype  \n",
      "---  ------            --------------  -----  \n",
      " 0   row_number        10000 non-null  int64  \n",
      " 1   customer_id       10000 non-null  int64  \n",
      " 2   surname           10000 non-null  object \n",
      " 3   credit_score      10000 non-null  int64  \n",
      " 4   geography         10000 non-null  object \n",
      " 5   gender            10000 non-null  object \n",
      " 6   age               10000 non-null  int64  \n",
      " 7   tenure            9091 non-null   float64\n",
      " 8   balance           10000 non-null  float64\n",
      " 9   num_of_products   10000 non-null  int64  \n",
      " 10  has_cr_card       10000 non-null  int64  \n",
      " 11  is_active_member  10000 non-null  int64  \n",
      " 12  estimated_salary  10000 non-null  float64\n",
      " 13  exited            10000 non-null  int64  \n",
      "dtypes: float64(3), int64(8), object(3)\n",
      "memory usage: 1.1+ MB\n"
     ]
    }
   ],
   "source": [
    "#просмотрим информацию о датасете\n",
    "\n",
    "data.info()"
   ]
  },
  {
   "cell_type": "code",
   "execution_count": 5,
   "metadata": {},
   "outputs": [
    {
     "data": {
      "text/plain": [
       "row_number            0\n",
       "customer_id           0\n",
       "surname               0\n",
       "credit_score          0\n",
       "geography             0\n",
       "gender                0\n",
       "age                   0\n",
       "tenure              909\n",
       "balance               0\n",
       "num_of_products       0\n",
       "has_cr_card           0\n",
       "is_active_member      0\n",
       "estimated_salary      0\n",
       "exited                0\n",
       "dtype: int64"
      ]
     },
     "execution_count": 5,
     "metadata": {},
     "output_type": "execute_result"
    }
   ],
   "source": [
    "#посчитаем количество пропусков\n",
    "\n",
    "data.isna().sum()"
   ]
  },
  {
   "cell_type": "markdown",
   "metadata": {},
   "source": [
    "Как видно из информации о пропусках, есть пропуски в столбце с данными о количестве лет обслуживания клиентов в банке. Поскольку пропусков порядка 9%, то обработаем их методом заполнения медианным значением."
   ]
  },
  {
   "cell_type": "code",
   "execution_count": 6,
   "metadata": {},
   "outputs": [],
   "source": [
    "#заполним данные в столбце 'tenure' медианным значением\n",
    "\n",
    "data = data.fillna(data['tenure'].median())"
   ]
  },
  {
   "cell_type": "code",
   "execution_count": 7,
   "metadata": {},
   "outputs": [
    {
     "data": {
      "text/plain": [
       "row_number          0\n",
       "customer_id         0\n",
       "surname             0\n",
       "credit_score        0\n",
       "geography           0\n",
       "gender              0\n",
       "age                 0\n",
       "tenure              0\n",
       "balance             0\n",
       "num_of_products     0\n",
       "has_cr_card         0\n",
       "is_active_member    0\n",
       "estimated_salary    0\n",
       "exited              0\n",
       "dtype: int64"
      ]
     },
     "execution_count": 7,
     "metadata": {},
     "output_type": "execute_result"
    }
   ],
   "source": [
    "#проверим количетво пропусков\n",
    "\n",
    "data.isna().sum()"
   ]
  },
  {
   "cell_type": "code",
   "execution_count": 8,
   "metadata": {},
   "outputs": [
    {
     "data": {
      "text/plain": [
       "0"
      ]
     },
     "execution_count": 8,
     "metadata": {},
     "output_type": "execute_result"
    }
   ],
   "source": [
    "#посчитаем количество дубликатов\n",
    "\n",
    "data.duplicated().sum()"
   ]
  },
  {
   "cell_type": "markdown",
   "metadata": {},
   "source": [
    "### Вывод"
   ]
  },
  {
   "cell_type": "markdown",
   "metadata": {},
   "source": [
    "Данные о клиентах банка изучены, предобработаны: пропуски в столбце c данными о кличестве лет обслуживания клиентов в банке заменены медианным значением, дубликатов не обнаружено. Данные готовы для дальнейшего анализа."
   ]
  },
  {
   "cell_type": "markdown",
   "metadata": {},
   "source": [
    "## Исследовательский анализ данных"
   ]
  },
  {
   "cell_type": "markdown",
   "metadata": {},
   "source": [
    "Для того, чтобы понять есть ли зависимости между количественными данными, проведем небольшой исследовательский анализ."
   ]
  },
  {
   "cell_type": "code",
   "execution_count": 9,
   "metadata": {},
   "outputs": [
    {
     "data": {
      "image/png": "[encoded data removed]",
      "text/plain": [
       "<Figure size 648x648 with 1 Axes>"
      ]
     },
     "metadata": {
      "needs_background": "light"
     },
     "output_type": "display_data"
    }
   ],
   "source": [
    "#построим график рассеивания, показывающий зависимость между количеством лет пользования услугами \n",
    "#банка и балансом клиента\n",
    "\n",
    "#зададим все необходимые параметры\n",
    "\n",
    "data.plot(kind='scatter', x = 'tenure', y = 'balance', figsize = (9,9), alpha = 0.7, \n",
    "       title = 'Влияние количества лет пользования услугами банка на баланс клиента')\n",
    "\n",
    "#зададим подписи осей\n",
    "\n",
    "plt.xlabel('Количество лет обслуживания в банке')\n",
    "plt.ylabel('Баланс счета, тыс.евро')\n",
    "\n",
    "#выведем график на экран\n",
    "\n",
    "plt.show()"
   ]
  },
  {
   "cell_type": "code",
   "execution_count": 10,
   "metadata": {},
   "outputs": [
    {
     "name": "stdout",
     "output_type": "stream",
     "text": [
      "Коэффициент корреляции между количеством лет пользования услугами банка и балансом клиента: -0.01\n"
     ]
    }
   ],
   "source": [
    "#посчитаем коэффициент корреляции между количеством лет пользования услугами банка и балансом клиента\n",
    "\n",
    "print('Коэффициент корреляции между количеством лет пользования услугами банка и балансом клиента:', data['tenure'].corr(data['balance']).round(2))"
   ]
  },
  {
   "cell_type": "code",
   "execution_count": 11,
   "metadata": {},
   "outputs": [
    {
     "data": {
      "image/png": "[encoded data removed]",
      "text/plain": [
       "<Figure size 648x648 with 1 Axes>"
      ]
     },
     "metadata": {
      "needs_background": "light"
     },
     "output_type": "display_data"
    }
   ],
   "source": [
    "#построим график рассеивания, показывающий зависимость между количеством лет пользования услугами \n",
    "#банка и количеством услуг банка, используемых клиентом\n",
    "\n",
    "#зададим все необходимые параметры\n",
    "\n",
    "data.plot(kind='scatter', x = 'tenure', y = 'num_of_products', figsize = (9,9), alpha = 0.7, \n",
    "       title = 'Влияние количества лет пользования услугами банка на количество услуг, используемых клиентом')\n",
    "\n",
    "#зададим подписи осей\n",
    "\n",
    "plt.xlabel('Количество лет обслуживания в банке')\n",
    "plt.ylabel('Количество услуг банка, шт.')\n",
    "\n",
    "#выведем график на экран\n",
    "\n",
    "plt.show()"
   ]
  },
  {
   "cell_type": "code",
   "execution_count": 12,
   "metadata": {},
   "outputs": [
    {
     "name": "stdout",
     "output_type": "stream",
     "text": [
      "Коэффициент корреляции между количеством лет пользования услугами банка и количеством продуктов: 0.01\n"
     ]
    }
   ],
   "source": [
    "#посчитаем коэффициент корреляции между количеством лет пользования услугами банка и количеством продуктов\n",
    "\n",
    "print('Коэффициент корреляции между количеством лет пользования услугами банка и количеством продуктов:', data['tenure'].corr(data['num_of_products']).round(2))"
   ]
  },
  {
   "cell_type": "code",
   "execution_count": 13,
   "metadata": {},
   "outputs": [
    {
     "data": {
      "image/png": "[encoded data removed]",
      "text/plain": [
       "<Figure size 648x648 with 1 Axes>"
      ]
     },
     "metadata": {
      "needs_background": "light"
     },
     "output_type": "display_data"
    }
   ],
   "source": [
    "#построим график рассеивания, показывающий зависимость между количеством лет пользования услугами \n",
    "#банка и предполагаемой зарплатой клиента\n",
    "\n",
    "#зададим все необходимые параметры\n",
    "\n",
    "data.plot(kind='scatter', x = 'estimated_salary', y = 'tenure', figsize = (9,9), alpha = 0.7, \n",
    "       title = 'Влияние предполагаемой зарплаты клиента на количество лет обслуживания в банке')\n",
    "\n",
    "#зададим подписи осей\n",
    "\n",
    "plt.xlabel('Предполагаемая зарплата, тыс. евро')\n",
    "plt.ylabel('Количество лет обслуживания в банке')\n",
    "\n",
    "#выведем график на экран\n",
    "\n",
    "plt.show()"
   ]
  },
  {
   "cell_type": "code",
   "execution_count": 14,
   "metadata": {},
   "outputs": [
    {
     "name": "stdout",
     "output_type": "stream",
     "text": [
      "Коэффициент корреляции между между количеством лет пользования услугами банка и предполагаемой зарплатой клиента: 0.01\n"
     ]
    }
   ],
   "source": [
    "#посчитаем коэффициент корреляции между количеством лет пользования услугами \n",
    "#банка и предполагаемой зарплатой клиента\n",
    "\n",
    "print('Коэффициент корреляции между между количеством лет пользования услугами банка и предполагаемой зарплатой клиента:', data['tenure'].corr(data['estimated_salary']).round(2))"
   ]
  },
  {
   "cell_type": "code",
   "execution_count": 15,
   "metadata": {},
   "outputs": [
    {
     "data": {
      "image/png": "[encoded data removed]",
      "text/plain": [
       "<Figure size 648x648 with 1 Axes>"
      ]
     },
     "metadata": {
      "needs_background": "light"
     },
     "output_type": "display_data"
    }
   ],
   "source": [
    "#построим график рассеивания, показывающий зависимость между предполагаемой зарплатой клиента \n",
    "#банка и балансом на счете клиента\n",
    "\n",
    "#зададим все необходимые параметры\n",
    "\n",
    "data.plot(kind='scatter', x = 'estimated_salary', y = 'balance', figsize = (9,9), alpha = 0.7, \n",
    "       title = 'Влияние предполагаемой зарплаты клиента на баланс на счете клиента')\n",
    "\n",
    "#зададим подписи осей\n",
    "\n",
    "plt.xlabel('Предполагаемая зарплата, тыс. евро')\n",
    "plt.ylabel('Баланс на счете, тыс. евро')\n",
    "\n",
    "#выведем график на экран\n",
    "\n",
    "plt.show()"
   ]
  },
  {
   "cell_type": "code",
   "execution_count": 16,
   "metadata": {},
   "outputs": [
    {
     "name": "stdout",
     "output_type": "stream",
     "text": [
      "Коэффициент корреляции между предполагаемой зарплатой клиента банка и балансом на счете клиента: 0.01\n"
     ]
    }
   ],
   "source": [
    "#посчитаем коэффициент корреляции между предполагаемой зарплатой клиента банка и балансом на \n",
    "#счете клиента\n",
    "\n",
    "print('Коэффициент корреляции между предполагаемой зарплатой клиента банка и балансом на счете клиента:', data['balance'].corr(data['estimated_salary']).round(2))"
   ]
  },
  {
   "cell_type": "code",
   "execution_count": 17,
   "metadata": {},
   "outputs": [
    {
     "data": {
      "image/png": "[encoded data removed]",
      "text/plain": [
       "<Figure size 648x648 with 1 Axes>"
      ]
     },
     "metadata": {
      "needs_background": "light"
     },
     "output_type": "display_data"
    }
   ],
   "source": [
    "#построим график рассеивания, показывающий зависимость между предполагаемой зарплатой клиента и \n",
    "#количеством продуктов\n",
    "\n",
    "#зададим все необходимые параметры\n",
    "\n",
    "data.plot(kind='scatter', x = 'estimated_salary', y = 'num_of_products', figsize = (9,9), alpha = 0.7, \n",
    "       title = 'Влияние предполагаемой зарплаты клиента на количество лет обслуживания в банке')\n",
    "\n",
    "#зададим подписи осей\n",
    "\n",
    "plt.xlabel('Предполагаемая зарплата, тыс. евро')\n",
    "plt.ylabel('Количество продуктов')\n",
    "\n",
    "#выведем график на экран\n",
    "\n",
    "plt.show()"
   ]
  },
  {
   "cell_type": "code",
   "execution_count": 18,
   "metadata": {},
   "outputs": [
    {
     "name": "stdout",
     "output_type": "stream",
     "text": [
      "Коэффициент корреляции между предполагаемой зарплатой клиента и количеством продуктов: 0.01\n"
     ]
    }
   ],
   "source": [
    "#посчитаем коэффициент корреляции между предполагаемой зарплатой клиента и количеством продуктов\n",
    "\n",
    "print('Коэффициент корреляции между предполагаемой зарплатой клиента и количеством продуктов:', data['num_of_products'].corr(data['estimated_salary']).round(2))"
   ]
  },
  {
   "cell_type": "code",
   "execution_count": 19,
   "metadata": {},
   "outputs": [
    {
     "data": {
      "image/png": "[encoded data removed]",
      "text/plain": [
       "<Figure size 648x648 with 1 Axes>"
      ]
     },
     "metadata": {
      "needs_background": "light"
     },
     "output_type": "display_data"
    }
   ],
   "source": [
    "#построим график рассеивания, показывающий зависимость между балансом на счете и количеством \n",
    "#продуктов\n",
    "\n",
    "#зададим все необходимые параметры\n",
    "\n",
    "data.plot(kind='scatter', x = 'balance', y = 'num_of_products', figsize = (9,9), alpha = 0.7, \n",
    "       title = 'Влияние предполагаемой зарплаты клиента на количество лет обслуживания в банке')\n",
    "\n",
    "#зададим подписи осей\n",
    "\n",
    "plt.xlabel('Баланс на счете, тыс. евро')\n",
    "plt.ylabel('Количество продуктов')\n",
    "\n",
    "#выведем график на экран\n",
    "\n",
    "plt.show()"
   ]
  },
  {
   "cell_type": "code",
   "execution_count": 20,
   "metadata": {
    "scrolled": true
   },
   "outputs": [
    {
     "name": "stdout",
     "output_type": "stream",
     "text": [
      "Коэффициент корреляции между балансом на счете и количеством продуктов: -0.3\n"
     ]
    }
   ],
   "source": [
    "#посчитаем коэффициент корреляции между балансом на счете и количеством продуктов\n",
    "\n",
    "print('Коэффициент корреляции между балансом на счете и количеством продуктов:', data['balance'].corr(data['num_of_products']).round(2))"
   ]
  },
  {
   "cell_type": "markdown",
   "metadata": {},
   "source": [
    "### Вывод"
   ]
  },
  {
   "cell_type": "markdown",
   "metadata": {},
   "source": [
    "Исходя из проведенного исследовательского анализа видно, что нет сильной корреляции между количественными признаками: балансом на счете клиента, предполагаемой зарплатой, количеством лет обслуживания в банке и количеством продуктов банка. Но будем использовать все количественные признаки для построения модели, поскольку могут быть взаимосвзяи с категориальными признаками, которые не очевидны."
   ]
  },
  {
   "cell_type": "markdown",
   "metadata": {},
   "source": [
    "## Обучение моделей с учетом дисбаланса"
   ]
  },
  {
   "cell_type": "markdown",
   "metadata": {},
   "source": [
    "### Разбиение данных на выборки"
   ]
  },
  {
   "cell_type": "markdown",
   "metadata": {},
   "source": [
    "Для разбиения данных на выборки изучим дисбаланс, а также закодируем категориальные данные техникой OHE."
   ]
  },
  {
   "cell_type": "code",
   "execution_count": 21,
   "metadata": {},
   "outputs": [
    {
     "data": {
      "text/plain": [
       "0    7963\n",
       "1    2037\n",
       "Name: exited, dtype: int64"
      ]
     },
     "execution_count": 21,
     "metadata": {},
     "output_type": "execute_result"
    }
   ],
   "source": [
    "#изучим классы\n",
    "\n",
    "data['exited'].value_counts()"
   ]
  },
  {
   "cell_type": "markdown",
   "metadata": {},
   "source": [
    "Исходя из информации о классах видно, что мы имеем дело с дисбалансом, поскольку класс 0 встречается почти в 4 раза чаще класса 1."
   ]
  },
  {
   "cell_type": "code",
   "execution_count": 22,
   "metadata": {},
   "outputs": [],
   "source": [
    "#закодируем категориальные признаки датасета\n",
    "\n",
    "# data_ohe = pd.get_dummies(data,drop_first = True)\n",
    "\n",
    "# #выведем первые 10 строк на экран\n",
    "\n",
    "# data_ohe.head(10)"
   ]
  },
  {
   "cell_type": "markdown",
   "metadata": {},
   "source": [
    "При выделении признаков для построения модели удалим те, которые нам не нужны: номер строки, фамилия, id."
   ]
  },
  {
   "cell_type": "code",
   "execution_count": 23,
   "metadata": {},
   "outputs": [],
   "source": [
    "#выделим признаки для построения модели\n",
    "\n",
    "features = data.drop(['row_number','surname','customer_id', 'exited'], axis=1)\n",
    "\n",
    "#выделим целевой признак\n",
    "\n",
    "target = data['exited']"
   ]
  },
  {
   "cell_type": "code",
   "execution_count": 24,
   "metadata": {},
   "outputs": [
    {
     "data": {
      "text/html": [
       "<div>\n",
       "<style scoped>\n",
       "    .dataframe tbody tr th:only-of-type {\n",
       "        vertical-align: middle;\n",
       "    }\n",
       "\n",
       "    .dataframe tbody tr th {\n",
       "        vertical-align: top;\n",
       "    }\n",
       "\n",
       "    .dataframe thead th {\n",
       "        text-align: right;\n",
       "    }\n",
       "</style>\n",
       "<table border=\"1\" class=\"dataframe\">\n",
       "  <thead>\n",
       "    <tr style=\"text-align: right;\">\n",
       "      <th></th>\n",
       "      <th>credit_score</th>\n",
       "      <th>age</th>\n",
       "      <th>tenure</th>\n",
       "      <th>balance</th>\n",
       "      <th>num_of_products</th>\n",
       "      <th>has_cr_card</th>\n",
       "      <th>is_active_member</th>\n",
       "      <th>estimated_salary</th>\n",
       "      <th>geography_Germany</th>\n",
       "      <th>geography_Spain</th>\n",
       "      <th>gender_Male</th>\n",
       "    </tr>\n",
       "  </thead>\n",
       "  <tbody>\n",
       "    <tr>\n",
       "      <th>0</th>\n",
       "      <td>619</td>\n",
       "      <td>42</td>\n",
       "      <td>2.0</td>\n",
       "      <td>0.00</td>\n",
       "      <td>1</td>\n",
       "      <td>1</td>\n",
       "      <td>1</td>\n",
       "      <td>101348.88</td>\n",
       "      <td>0</td>\n",
       "      <td>0</td>\n",
       "      <td>0</td>\n",
       "    </tr>\n",
       "    <tr>\n",
       "      <th>1</th>\n",
       "      <td>608</td>\n",
       "      <td>41</td>\n",
       "      <td>1.0</td>\n",
       "      <td>83807.86</td>\n",
       "      <td>1</td>\n",
       "      <td>0</td>\n",
       "      <td>1</td>\n",
       "      <td>112542.58</td>\n",
       "      <td>0</td>\n",
       "      <td>1</td>\n",
       "      <td>0</td>\n",
       "    </tr>\n",
       "    <tr>\n",
       "      <th>2</th>\n",
       "      <td>502</td>\n",
       "      <td>42</td>\n",
       "      <td>8.0</td>\n",
       "      <td>159660.80</td>\n",
       "      <td>3</td>\n",
       "      <td>1</td>\n",
       "      <td>0</td>\n",
       "      <td>113931.57</td>\n",
       "      <td>0</td>\n",
       "      <td>0</td>\n",
       "      <td>0</td>\n",
       "    </tr>\n",
       "    <tr>\n",
       "      <th>3</th>\n",
       "      <td>699</td>\n",
       "      <td>39</td>\n",
       "      <td>1.0</td>\n",
       "      <td>0.00</td>\n",
       "      <td>2</td>\n",
       "      <td>0</td>\n",
       "      <td>0</td>\n",
       "      <td>93826.63</td>\n",
       "      <td>0</td>\n",
       "      <td>0</td>\n",
       "      <td>0</td>\n",
       "    </tr>\n",
       "    <tr>\n",
       "      <th>4</th>\n",
       "      <td>850</td>\n",
       "      <td>43</td>\n",
       "      <td>2.0</td>\n",
       "      <td>125510.82</td>\n",
       "      <td>1</td>\n",
       "      <td>1</td>\n",
       "      <td>1</td>\n",
       "      <td>79084.10</td>\n",
       "      <td>0</td>\n",
       "      <td>1</td>\n",
       "      <td>0</td>\n",
       "    </tr>\n",
       "    <tr>\n",
       "      <th>5</th>\n",
       "      <td>645</td>\n",
       "      <td>44</td>\n",
       "      <td>8.0</td>\n",
       "      <td>113755.78</td>\n",
       "      <td>2</td>\n",
       "      <td>1</td>\n",
       "      <td>0</td>\n",
       "      <td>149756.71</td>\n",
       "      <td>0</td>\n",
       "      <td>1</td>\n",
       "      <td>1</td>\n",
       "    </tr>\n",
       "    <tr>\n",
       "      <th>6</th>\n",
       "      <td>822</td>\n",
       "      <td>50</td>\n",
       "      <td>7.0</td>\n",
       "      <td>0.00</td>\n",
       "      <td>2</td>\n",
       "      <td>1</td>\n",
       "      <td>1</td>\n",
       "      <td>10062.80</td>\n",
       "      <td>0</td>\n",
       "      <td>0</td>\n",
       "      <td>1</td>\n",
       "    </tr>\n",
       "    <tr>\n",
       "      <th>7</th>\n",
       "      <td>376</td>\n",
       "      <td>29</td>\n",
       "      <td>4.0</td>\n",
       "      <td>115046.74</td>\n",
       "      <td>4</td>\n",
       "      <td>1</td>\n",
       "      <td>0</td>\n",
       "      <td>119346.88</td>\n",
       "      <td>1</td>\n",
       "      <td>0</td>\n",
       "      <td>0</td>\n",
       "    </tr>\n",
       "    <tr>\n",
       "      <th>8</th>\n",
       "      <td>501</td>\n",
       "      <td>44</td>\n",
       "      <td>4.0</td>\n",
       "      <td>142051.07</td>\n",
       "      <td>2</td>\n",
       "      <td>0</td>\n",
       "      <td>1</td>\n",
       "      <td>74940.50</td>\n",
       "      <td>0</td>\n",
       "      <td>0</td>\n",
       "      <td>1</td>\n",
       "    </tr>\n",
       "    <tr>\n",
       "      <th>9</th>\n",
       "      <td>684</td>\n",
       "      <td>27</td>\n",
       "      <td>2.0</td>\n",
       "      <td>134603.88</td>\n",
       "      <td>1</td>\n",
       "      <td>1</td>\n",
       "      <td>1</td>\n",
       "      <td>71725.73</td>\n",
       "      <td>0</td>\n",
       "      <td>0</td>\n",
       "      <td>1</td>\n",
       "    </tr>\n",
       "  </tbody>\n",
       "</table>\n",
       "</div>"
      ],
      "text/plain": [
       "   credit_score  age  tenure    balance  num_of_products  has_cr_card  \\\n",
       "0           619   42     2.0       0.00                1            1   \n",
       "1           608   41     1.0   83807.86                1            0   \n",
       "2           502   42     8.0  159660.80                3            1   \n",
       "3           699   39     1.0       0.00                2            0   \n",
       "4           850   43     2.0  125510.82                1            1   \n",
       "5           645   44     8.0  113755.78                2            1   \n",
       "6           822   50     7.0       0.00                2            1   \n",
       "7           376   29     4.0  115046.74                4            1   \n",
       "8           501   44     4.0  142051.07                2            0   \n",
       "9           684   27     2.0  134603.88                1            1   \n",
       "\n",
       "   is_active_member  estimated_salary  geography_Germany  geography_Spain  \\\n",
       "0                 1         101348.88                  0                0   \n",
       "1                 1         112542.58                  0                1   \n",
       "2                 0         113931.57                  0                0   \n",
       "3                 0          93826.63                  0                0   \n",
       "4                 1          79084.10                  0                1   \n",
       "5                 0         149756.71                  0                1   \n",
       "6                 1          10062.80                  0                0   \n",
       "7                 0         119346.88                  1                0   \n",
       "8                 1          74940.50                  0                0   \n",
       "9                 1          71725.73                  0                0   \n",
       "\n",
       "   gender_Male  \n",
       "0            0  \n",
       "1            0  \n",
       "2            0  \n",
       "3            0  \n",
       "4            0  \n",
       "5            1  \n",
       "6            1  \n",
       "7            0  \n",
       "8            1  \n",
       "9            1  "
      ]
     },
     "execution_count": 24,
     "metadata": {},
     "output_type": "execute_result"
    }
   ],
   "source": [
    "features = pd.get_dummies(features,drop_first = True)\n",
    "\n",
    "#выведем первые 10 строк на экран\n",
    "\n",
    "features.head(10)"
   ]
  },
  {
   "cell_type": "code",
   "execution_count": 25,
   "metadata": {},
   "outputs": [],
   "source": [
    "#разделим данные на 3 выборки: тренировочную, валидационную и тестовую в соотношении 3:1:1\n",
    "\n",
    "features_train, features_valid, target_train, target_valid = train_test_split(features, target, test_size=0.25, random_state=12345, stratify=target)\n",
    "\n",
    "features_valid, features_test, target_valid, target_test = train_test_split(features_valid, target_valid, test_size=0.5, random_state=12345, stratify=target_valid)"
   ]
  },
  {
   "cell_type": "code",
   "execution_count": 26,
   "metadata": {},
   "outputs": [
    {
     "data": {
      "text/plain": [
       "(7500, 11)"
      ]
     },
     "execution_count": 26,
     "metadata": {},
     "output_type": "execute_result"
    }
   ],
   "source": [
    "#проверим объем признаков тренировочной выборки\n",
    "\n",
    "features_train.shape"
   ]
  },
  {
   "cell_type": "code",
   "execution_count": 27,
   "metadata": {},
   "outputs": [
    {
     "data": {
      "text/plain": [
       "(1250, 11)"
      ]
     },
     "execution_count": 27,
     "metadata": {},
     "output_type": "execute_result"
    }
   ],
   "source": [
    "#проверим объем признаков валидационной выборки\n",
    "\n",
    "features_valid.shape"
   ]
  },
  {
   "cell_type": "markdown",
   "metadata": {},
   "source": [
    "### Модель логистической регрессии"
   ]
  },
  {
   "cell_type": "markdown",
   "metadata": {},
   "source": [
    "Изучим данные колонок с указанием возраста и предполагаемой зарплаты, чтобы понять нужно ли их масштабировать."
   ]
  },
  {
   "cell_type": "code",
   "execution_count": 28,
   "metadata": {},
   "outputs": [
    {
     "data": {
      "text/plain": [
       "count    10000.000000\n",
       "mean        38.921800\n",
       "std         10.487806\n",
       "min         18.000000\n",
       "25%         32.000000\n",
       "50%         37.000000\n",
       "75%         44.000000\n",
       "max         92.000000\n",
       "Name: age, dtype: float64"
      ]
     },
     "execution_count": 28,
     "metadata": {},
     "output_type": "execute_result"
    }
   ],
   "source": [
    "#изучим данные колонки 'age'\n",
    "\n",
    "data['age'].describe()"
   ]
  },
  {
   "cell_type": "markdown",
   "metadata": {},
   "source": [
    "Видно, что разбежка между максимальным и минимальным значением достаточно большая (92 года и 18 лет соотвественно), поэтому необходимо масштабировать данные о возрасте клиентов."
   ]
  },
  {
   "cell_type": "code",
   "execution_count": 29,
   "metadata": {},
   "outputs": [
    {
     "data": {
      "text/plain": [
       "count     10000.000000\n",
       "mean     100090.239881\n",
       "std       57510.492818\n",
       "min          11.580000\n",
       "25%       51002.110000\n",
       "50%      100193.915000\n",
       "75%      149388.247500\n",
       "max      199992.480000\n",
       "Name: estimated_salary, dtype: float64"
      ]
     },
     "execution_count": 29,
     "metadata": {},
     "output_type": "execute_result"
    }
   ],
   "source": [
    "#изучим данные колонки 'estimated_salary'\n",
    "\n",
    "data['estimated_salary'].describe()"
   ]
  },
  {
   "cell_type": "markdown",
   "metadata": {},
   "source": [
    "Аналогично данным о возрасте, необходимо масштабировать данные о предполагаемой зарплате."
   ]
  },
  {
   "cell_type": "code",
   "execution_count": 30,
   "metadata": {},
   "outputs": [],
   "source": [
    "#передадим наименование столбцов с количественными признаками в список 'numeric'\n",
    "#для последующего масштабирования\n",
    "\n",
    "numeric = ['age', 'estimated_salary', 'balance', 'credit_score','tenure','num_of_products']"
   ]
  },
  {
   "cell_type": "code",
   "execution_count": 31,
   "metadata": {
    "scrolled": true
   },
   "outputs": [
    {
     "name": "stderr",
     "output_type": "stream",
     "text": [
      "/tmp/ipykernel_54/1876990759.py:3: SettingWithCopyWarning: \n",
      "A value is trying to be set on a copy of a slice from a DataFrame.\n",
      "Try using .loc[row_indexer,col_indexer] = value instead\n",
      "\n",
      "See the caveats in the documentation: https://pandas.pydata.org/pandas-docs/stable/user_guide/indexing.html#returning-a-view-versus-a-copy\n",
      "  features_train[numeric] = scaler.transform(features_train[numeric]) #масштабируем признаки для обучения\n",
      "/opt/conda/lib/python3.9/site-packages/pandas/core/indexing.py:1738: SettingWithCopyWarning: \n",
      "A value is trying to be set on a copy of a slice from a DataFrame.\n",
      "Try using .loc[row_indexer,col_indexer] = value instead\n",
      "\n",
      "See the caveats in the documentation: https://pandas.pydata.org/pandas-docs/stable/user_guide/indexing.html#returning-a-view-versus-a-copy\n",
      "  self._setitem_single_column(loc, value[:, i].tolist(), pi)\n"
     ]
    }
   ],
   "source": [
    "scaler = StandardScaler() #инициируем вызов структуры данных StandardScaler\n",
    "scaler.fit(features_train[numeric]) #настроим объект StandardScaler на обучающих данных\n",
    "features_train[numeric] = scaler.transform(features_train[numeric]) #масштабируем признаки для обучения\n",
    "features_valid[numeric] = scaler.transform(features_valid[numeric])\n",
    "features_test[numeric] = scaler.transform(features_test[numeric])#масштабируем признаки для проверки"
   ]
  },
  {
   "cell_type": "code",
   "execution_count": 32,
   "metadata": {},
   "outputs": [
    {
     "data": {
      "text/html": [
       "<div>\n",
       "<style scoped>\n",
       "    .dataframe tbody tr th:only-of-type {\n",
       "        vertical-align: middle;\n",
       "    }\n",
       "\n",
       "    .dataframe tbody tr th {\n",
       "        vertical-align: top;\n",
       "    }\n",
       "\n",
       "    .dataframe thead th {\n",
       "        text-align: right;\n",
       "    }\n",
       "</style>\n",
       "<table border=\"1\" class=\"dataframe\">\n",
       "  <thead>\n",
       "    <tr style=\"text-align: right;\">\n",
       "      <th></th>\n",
       "      <th>credit_score</th>\n",
       "      <th>age</th>\n",
       "      <th>tenure</th>\n",
       "      <th>balance</th>\n",
       "      <th>num_of_products</th>\n",
       "      <th>has_cr_card</th>\n",
       "      <th>is_active_member</th>\n",
       "      <th>estimated_salary</th>\n",
       "      <th>geography_Germany</th>\n",
       "      <th>geography_Spain</th>\n",
       "      <th>gender_Male</th>\n",
       "    </tr>\n",
       "  </thead>\n",
       "  <tbody>\n",
       "    <tr>\n",
       "      <th>3349</th>\n",
       "      <td>0.153616</td>\n",
       "      <td>0.583435</td>\n",
       "      <td>-0.004794</td>\n",
       "      <td>1.264113</td>\n",
       "      <td>0.807524</td>\n",
       "      <td>1</td>\n",
       "      <td>0</td>\n",
       "      <td>-0.848725</td>\n",
       "      <td>1</td>\n",
       "      <td>0</td>\n",
       "      <td>0</td>\n",
       "    </tr>\n",
       "    <tr>\n",
       "      <th>7094</th>\n",
       "      <td>-0.104283</td>\n",
       "      <td>2.694224</td>\n",
       "      <td>-0.731152</td>\n",
       "      <td>-1.222762</td>\n",
       "      <td>-0.915010</td>\n",
       "      <td>0</td>\n",
       "      <td>1</td>\n",
       "      <td>-1.003683</td>\n",
       "      <td>0</td>\n",
       "      <td>0</td>\n",
       "      <td>0</td>\n",
       "    </tr>\n",
       "    <tr>\n",
       "      <th>9204</th>\n",
       "      <td>-0.042388</td>\n",
       "      <td>-0.855740</td>\n",
       "      <td>-0.004794</td>\n",
       "      <td>-1.222762</td>\n",
       "      <td>0.807524</td>\n",
       "      <td>1</td>\n",
       "      <td>0</td>\n",
       "      <td>-1.508697</td>\n",
       "      <td>0</td>\n",
       "      <td>0</td>\n",
       "      <td>0</td>\n",
       "    </tr>\n",
       "    <tr>\n",
       "      <th>6620</th>\n",
       "      <td>0.844786</td>\n",
       "      <td>-0.280070</td>\n",
       "      <td>-0.004794</td>\n",
       "      <td>-1.222762</td>\n",
       "      <td>0.807524</td>\n",
       "      <td>1</td>\n",
       "      <td>0</td>\n",
       "      <td>1.057193</td>\n",
       "      <td>0</td>\n",
       "      <td>0</td>\n",
       "      <td>1</td>\n",
       "    </tr>\n",
       "    <tr>\n",
       "      <th>4737</th>\n",
       "      <td>1.453428</td>\n",
       "      <td>-0.280070</td>\n",
       "      <td>0.358385</td>\n",
       "      <td>0.555736</td>\n",
       "      <td>-0.915010</td>\n",
       "      <td>1</td>\n",
       "      <td>1</td>\n",
       "      <td>1.553724</td>\n",
       "      <td>0</td>\n",
       "      <td>0</td>\n",
       "      <td>1</td>\n",
       "    </tr>\n",
       "    <tr>\n",
       "      <th>1884</th>\n",
       "      <td>0.060772</td>\n",
       "      <td>-0.376015</td>\n",
       "      <td>0.358385</td>\n",
       "      <td>-1.222762</td>\n",
       "      <td>0.807524</td>\n",
       "      <td>1</td>\n",
       "      <td>0</td>\n",
       "      <td>-1.725287</td>\n",
       "      <td>0</td>\n",
       "      <td>0</td>\n",
       "      <td>1</td>\n",
       "    </tr>\n",
       "    <tr>\n",
       "      <th>3031</th>\n",
       "      <td>0.287723</td>\n",
       "      <td>-1.623299</td>\n",
       "      <td>-0.367973</td>\n",
       "      <td>1.574561</td>\n",
       "      <td>-0.915010</td>\n",
       "      <td>1</td>\n",
       "      <td>1</td>\n",
       "      <td>-1.261425</td>\n",
       "      <td>0</td>\n",
       "      <td>0</td>\n",
       "      <td>0</td>\n",
       "    </tr>\n",
       "    <tr>\n",
       "      <th>6548</th>\n",
       "      <td>0.339303</td>\n",
       "      <td>-0.088180</td>\n",
       "      <td>0.721564</td>\n",
       "      <td>0.526574</td>\n",
       "      <td>0.807524</td>\n",
       "      <td>1</td>\n",
       "      <td>0</td>\n",
       "      <td>0.034922</td>\n",
       "      <td>0</td>\n",
       "      <td>0</td>\n",
       "      <td>1</td>\n",
       "    </tr>\n",
       "    <tr>\n",
       "      <th>6267</th>\n",
       "      <td>0.566255</td>\n",
       "      <td>0.871270</td>\n",
       "      <td>1.447922</td>\n",
       "      <td>0.603734</td>\n",
       "      <td>-0.915010</td>\n",
       "      <td>0</td>\n",
       "      <td>0</td>\n",
       "      <td>1.263256</td>\n",
       "      <td>1</td>\n",
       "      <td>0</td>\n",
       "      <td>1</td>\n",
       "    </tr>\n",
       "    <tr>\n",
       "      <th>771</th>\n",
       "      <td>0.690046</td>\n",
       "      <td>-0.759795</td>\n",
       "      <td>-0.367973</td>\n",
       "      <td>0.852560</td>\n",
       "      <td>-0.915010</td>\n",
       "      <td>0</td>\n",
       "      <td>0</td>\n",
       "      <td>-1.034789</td>\n",
       "      <td>0</td>\n",
       "      <td>0</td>\n",
       "      <td>1</td>\n",
       "    </tr>\n",
       "  </tbody>\n",
       "</table>\n",
       "</div>"
      ],
      "text/plain": [
       "      credit_score       age    tenure   balance  num_of_products  \\\n",
       "3349      0.153616  0.583435 -0.004794  1.264113         0.807524   \n",
       "7094     -0.104283  2.694224 -0.731152 -1.222762        -0.915010   \n",
       "9204     -0.042388 -0.855740 -0.004794 -1.222762         0.807524   \n",
       "6620      0.844786 -0.280070 -0.004794 -1.222762         0.807524   \n",
       "4737      1.453428 -0.280070  0.358385  0.555736        -0.915010   \n",
       "1884      0.060772 -0.376015  0.358385 -1.222762         0.807524   \n",
       "3031      0.287723 -1.623299 -0.367973  1.574561        -0.915010   \n",
       "6548      0.339303 -0.088180  0.721564  0.526574         0.807524   \n",
       "6267      0.566255  0.871270  1.447922  0.603734        -0.915010   \n",
       "771       0.690046 -0.759795 -0.367973  0.852560        -0.915010   \n",
       "\n",
       "      has_cr_card  is_active_member  estimated_salary  geography_Germany  \\\n",
       "3349            1                 0         -0.848725                  1   \n",
       "7094            0                 1         -1.003683                  0   \n",
       "9204            1                 0         -1.508697                  0   \n",
       "6620            1                 0          1.057193                  0   \n",
       "4737            1                 1          1.553724                  0   \n",
       "1884            1                 0         -1.725287                  0   \n",
       "3031            1                 1         -1.261425                  0   \n",
       "6548            1                 0          0.034922                  0   \n",
       "6267            0                 0          1.263256                  1   \n",
       "771             0                 0         -1.034789                  0   \n",
       "\n",
       "      geography_Spain  gender_Male  \n",
       "3349                0            0  \n",
       "7094                0            0  \n",
       "9204                0            0  \n",
       "6620                0            1  \n",
       "4737                0            1  \n",
       "1884                0            1  \n",
       "3031                0            0  \n",
       "6548                0            1  \n",
       "6267                0            1  \n",
       "771                 0            1  "
      ]
     },
     "execution_count": 32,
     "metadata": {},
     "output_type": "execute_result"
    }
   ],
   "source": [
    "features_train.head(10)"
   ]
  },
  {
   "cell_type": "code",
   "execution_count": 33,
   "metadata": {
    "scrolled": true
   },
   "outputs": [
    {
     "data": {
      "text/plain": [
       "0.3035714285714286"
      ]
     },
     "execution_count": 33,
     "metadata": {},
     "output_type": "execute_result"
    }
   ],
   "source": [
    "model_log = LogisticRegression(solver='liblinear',random_state=12345) #инициируем вызов модели логистической регрессии\n",
    "model_log.fit(features_train, target_train) #обучим модель\n",
    "predicted_valid_log = model_log.predict(features_valid) #предскажем ответы\n",
    "f1_score_log = f1_score(target_valid, predicted_valid_log) #посчитаем метрику f1 \n",
    "f1_score_log #выведем результат на экран"
   ]
  },
  {
   "cell_type": "markdown",
   "metadata": {},
   "source": [
    "Как мы видим, на несбалансированных данных модель логистической регрессии неэффективна, покольку показывает слишком низкое значение f1."
   ]
  },
  {
   "cell_type": "code",
   "execution_count": 34,
   "metadata": {},
   "outputs": [
    {
     "name": "stdout",
     "output_type": "stream",
     "text": [
      "Значение метрики AUC-ROC модели логистической регрессии на валидационной выборке: 0.7822957926889347\n"
     ]
    }
   ],
   "source": [
    "#рассчитаем значение показателя auc-roc для модели логистической регрессии на несбалансированных данных\n",
    "\n",
    "probabilities_valid_log = model_log.predict_proba(features_valid)\n",
    "probabilities_one_valid_log = probabilities_valid_log[:, 1]\n",
    "\n",
    "auc_roc_log = roc_auc_score(target_valid,probabilities_one_valid_log)\n",
    "\n",
    "print('Значение метрики AUC-ROC модели логистической регрессии на валидационной выборке:',auc_roc_log )"
   ]
  },
  {
   "cell_type": "markdown",
   "metadata": {},
   "source": [
    "Метрика AUC-ROC модели логистической регрессии имеет значение 0.78, что выше, чем AUC-ROC случайной модели (0.5)."
   ]
  },
  {
   "cell_type": "markdown",
   "metadata": {},
   "source": [
    "### Решающее дерево"
   ]
  },
  {
   "cell_type": "code",
   "execution_count": 35,
   "metadata": {},
   "outputs": [
    {
     "name": "stdout",
     "output_type": "stream",
     "text": [
      "0.5376884422110553\n"
     ]
    }
   ],
   "source": [
    "model_decision_tree = DecisionTreeClassifier(random_state=12345, max_depth=4) #инициируем вызов решающего дерева\n",
    "model_decision_tree.fit(features_train, target_train) #обучим модель\n",
    "predicted_valid = model_decision_tree.predict(features_valid) #предскажем ответы\n",
    "\n",
    "print(f1_score(target_valid,predicted_valid)) #рассчитаем метрику f1"
   ]
  },
  {
   "cell_type": "markdown",
   "metadata": {},
   "source": [
    "К сожалению, модель решающего дерева также неэффективна для предсказания уйдет клиент из банка или нет, поскольку значение f1 составляет всего 0.54."
   ]
  },
  {
   "cell_type": "code",
   "execution_count": 36,
   "metadata": {},
   "outputs": [
    {
     "name": "stdout",
     "output_type": "stream",
     "text": [
      "Значение метрики AUC-ROC модели решающего дерева на валидационной выборке: 0.8146063651591291\n"
     ]
    }
   ],
   "source": [
    "#рассчитаем значение показателя auc-roc для модели решающего дерева на несбалансированных данных\n",
    "\n",
    "probabilities_valid_decision = model_decision_tree.predict_proba(features_valid)\n",
    "probabilities_one_valid_decision = probabilities_valid_decision[:, 1]\n",
    "\n",
    "auc_roc_decision = roc_auc_score(target_valid,probabilities_one_valid_decision)\n",
    "\n",
    "print('Значение метрики AUC-ROC модели решающего дерева на валидационной выборке:',auc_roc_decision)"
   ]
  },
  {
   "cell_type": "markdown",
   "metadata": {},
   "source": [
    "Метрика AUC-ROC модели решающего дерева имеет значение 0.81, что выше, чем AUC-ROC случайной модели (0.5)."
   ]
  },
  {
   "cell_type": "markdown",
   "metadata": {},
   "source": [
    "### Случайный лес"
   ]
  },
  {
   "cell_type": "code",
   "execution_count": 37,
   "metadata": {},
   "outputs": [
    {
     "name": "stdout",
     "output_type": "stream",
     "text": [
      "F1_score наилучшей модели на валидационной выборке: 0.5935162094763092 Наилучшее количество деревьев: 31 Оптимальная глубина: 9\n"
     ]
    }
   ],
   "source": [
    "#найдем лучшие параметры для модели \"случайный лес\"\n",
    "\n",
    "best_model = None\n",
    "best_result = 0\n",
    "best_est = 0\n",
    "best_depth = 0\n",
    "best_est = 0\n",
    "for est in range(1,50, 15):\n",
    "    for depth in range(1,10,4):\n",
    "        model_random_forest = RandomForestClassifier(random_state=12345, n_estimators=est, max_depth=depth) #инициируем вызов модели \"случайный лес\"  с глубиной 5\n",
    "        model_random_forest.fit(features_train,target_train) #обучим модель на тренировочных дан\n",
    "        predictions_random_forest = model_random_forest.predict(features_valid) #предскажем результат на валидационныъ данных\n",
    "        result = f1_score(target_valid,predictions_random_forest) #рассчитаем метрику accuracy на валидационных данных и предсказаниях\n",
    "        if result > best_result:\n",
    "            best_model = model_random_forest \n",
    "            best_result = result\n",
    "            best_depth = depth\n",
    "            best_est = est\n",
    "\n",
    "print(\"F1_score наилучшей модели на валидационной выборке:\", best_result, 'Наилучшее количество деревьев:', best_est, 'Оптимальная глубина:', best_depth)"
   ]
  },
  {
   "cell_type": "code",
   "execution_count": 59,
   "metadata": {},
   "outputs": [
    {
     "name": "stdout",
     "output_type": "stream",
     "text": [
      "Значение метрики AUC-ROC модели \"случайный лес\" на валидационной выборке: 0.8511833678194897\n"
     ]
    }
   ],
   "source": [
    "#рассчитаем значение показателя auc-roc для модели \"случайный лес\" на несбалансированных данных\n",
    "\n",
    "probabilities_valid_random = model_random_forest.predict_proba(features_valid)\n",
    "probabilities_one_valid_random = probabilities_valid_random [:, 1]\n",
    "\n",
    "auc_roc_random = roc_auc_score(target_valid, probabilities_one_valid_random)\n",
    "\n",
    "print('Значение метрики AUC-ROC модели \"случайный лес\" на валидационной выборке:',auc_roc_random)"
   ]
  },
  {
   "cell_type": "markdown",
   "metadata": {},
   "source": [
    "### Вывод"
   ]
  },
  {
   "cell_type": "markdown",
   "metadata": {},
   "source": [
    "Исходя из построения ращличных типов моделей при дисбалансе, можно сделать вывод о том, что наиболее эффективна модель \"случайный лес\" с количеством деревьев 31 и глубиной 9."
   ]
  },
  {
   "cell_type": "markdown",
   "metadata": {},
   "source": [
    "## Борьба с дисбалансом"
   ]
  },
  {
   "cell_type": "markdown",
   "metadata": {},
   "source": [
    "Для борьбы с дисбалансом попробуем несколько методов: взвешивание классов, upsampling и downsampling."
   ]
  },
  {
   "cell_type": "markdown",
   "metadata": {},
   "source": [
    "### Взвешивание классов"
   ]
  },
  {
   "cell_type": "markdown",
   "metadata": {},
   "source": [
    "Для взвешивания классов при вызове модели укажем параметр weight_class = 'balanced'."
   ]
  },
  {
   "cell_type": "markdown",
   "metadata": {},
   "source": [
    "#### Модель логистической регрессии"
   ]
  },
  {
   "cell_type": "code",
   "execution_count": 39,
   "metadata": {},
   "outputs": [
    {
     "name": "stdout",
     "output_type": "stream",
     "text": [
      "Значение F1 при взвешивании классов в модели логистической регресии: 0.5212620027434842\n"
     ]
    }
   ],
   "source": [
    "#обучим модель логистической регрессии с учетом взвешивания классов\n",
    "\n",
    "model_log_balanced = LogisticRegression(solver='liblinear',random_state=12345, class_weight = 'balanced')\n",
    "model_log_balanced.fit(features_train, target_train)\n",
    "predicted_valid_log_balanced = model_log_balanced.predict(features_valid)\n",
    "\n",
    "#рассчитаем мтерику f1\n",
    "\n",
    "f1_score_log_balanced = f1_score(target_valid, predicted_valid_log_balanced)\n",
    "print('Значение F1 при взвешивании классов в модели логистической регресии:',f1_score_log_balanced)"
   ]
  },
  {
   "cell_type": "code",
   "execution_count": 60,
   "metadata": {},
   "outputs": [
    {
     "name": "stdout",
     "output_type": "stream",
     "text": [
      "Значение метрики AUC-ROC модели логистической регрессии на валидационной выборке при взвешивании классов: 0.697014484185634\n"
     ]
    }
   ],
   "source": [
    "#рассчитаем значение показателя auc-roc для модели логистической регрессии при взвешивании классов\n",
    "\n",
    "probabilities_valid_log_balanced = model_log_balanced.predict_proba(features_valid)\n",
    "probabilities_one_valid_log_balanced = probabilities_valid_log_balanced[:, 1]\n",
    "\n",
    "auc_roc_log_balanced = roc_auc_score(target_valid,probabilities_one_valid_log_balanced)\n",
    "\n",
    "#выведем значение auc-roc на экран\n",
    "\n",
    "print('Значение метрики AUC-ROC модели логистической регрессии на валидационной выборке при взвешивании классов:',auc_roc_log )"
   ]
  },
  {
   "cell_type": "markdown",
   "metadata": {},
   "source": [
    "Метрика f1 модели логистической регрессии с учетом взвешенных классов составляет всего 0.52, что говорит о том, что получилась модель низкого качества, т.к. значение f1 чуть выше, чем на случайной модели. Однако стоит отметить, что на сбалансированных данных этот показатель выше, чем при дисбалансе (0.51 против 0.30 соответственно)."
   ]
  },
  {
   "cell_type": "markdown",
   "metadata": {},
   "source": [
    "#### Решающее дерево"
   ]
  },
  {
   "cell_type": "code",
   "execution_count": 56,
   "metadata": {},
   "outputs": [
    {
     "name": "stdout",
     "output_type": "stream",
     "text": [
      "Значение F1 при взвешивании классов в модели решающего дерева: 0.5176470588235295\n"
     ]
    }
   ],
   "source": [
    "#обучим модель решающего дерева с учетом взвешивания классов\n",
    "\n",
    "model_decision_tree_balanced = DecisionTreeClassifier(random_state=12345, class_weight = 'balanced')\n",
    "model_decision_tree_balanced.fit(features_train, target_train)\n",
    "predicted_valid_balanced = model_decision_tree_balanced.predict(features_valid)\n",
    "\n",
    "#рассчитаем метрику f1\n",
    "\n",
    "f1_score_decision_tree_balanced = f1_score(target_valid, predicted_valid_balanced)\n",
    "\n",
    "print('Значение F1 при взвешивании классов в модели решающего дерева:', f1_score_decision_balanced)"
   ]
  },
  {
   "cell_type": "code",
   "execution_count": 62,
   "metadata": {},
   "outputs": [
    {
     "name": "stdout",
     "output_type": "stream",
     "text": [
      "Значение метрики AUC-ROC модели решающего дерева на валидационной выборке при взвешивании классов: 0.697014484185634\n"
     ]
    }
   ],
   "source": [
    "#рассчитаем значение показателя auc-roc для модели решающег дерева при взвешивании классов\n",
    "\n",
    "\n",
    "probabilities_valid_desision_tree_balanced = model_decision_tree_balanced.predict_proba(features_valid)\n",
    "probabilities_one_valid_desision_tree_balanced = probabilities_valid_desision_tree_balanced[:, 1]\n",
    "\n",
    "auc_roc_desision_tree = roc_auc_score(target_valid,probabilities_one_valid_desision_tree_balanced)\n",
    "\n",
    "#выведем результат на экран\n",
    "\n",
    "print('Значение метрики AUC-ROC модели решающего дерева на валидационной выборке при взвешивании классов:',auc_roc_log )"
   ]
  },
  {
   "cell_type": "markdown",
   "metadata": {},
   "source": [
    "Из расчета видно, что показатель f1 score модели решающего дерева ниже при взвешивании классов, чем при дисбалансе (0.52 и 0.54 соответственно), что говорит о низком качестве модели."
   ]
  },
  {
   "cell_type": "markdown",
   "metadata": {},
   "source": [
    "#### Случайный лес"
   ]
  },
  {
   "cell_type": "code",
   "execution_count": 41,
   "metadata": {},
   "outputs": [
    {
     "name": "stdout",
     "output_type": "stream",
     "text": [
      "Значение F1 при взвешивании классов в модели \"случайный лес\": 0.6434108527131783\n"
     ]
    }
   ],
   "source": [
    "#обучим модель \"случайный лес\" с учетом взвешивания классов\n",
    "\n",
    "model_random_forest_balanced = RandomForestClassifier(random_state=12345, n_estimators=est, max_depth=10, class_weight = 'balanced')\n",
    "model_random_forest_balanced.fit(features_train,target_train) \n",
    "predictions_random_forest_balanced = model_random_forest_balanced.predict(features_valid) \n",
    "f1_score_random_forest_balanced = f1_score(target_valid,predictions_random_forest_balanced)\n",
    "\n",
    "#рассчитаем метрику f1\n",
    "\n",
    "print('Значение F1 при взвешивании классов в модели \"случайный лес\":',f1_score_random_forest_balanced)"
   ]
  },
  {
   "cell_type": "code",
   "execution_count": 63,
   "metadata": {},
   "outputs": [
    {
     "name": "stdout",
     "output_type": "stream",
     "text": [
      "Значение метрики AUC-ROC модели \"случайный лес\" на валидационной выборке при взвешивании классов: 0.697014484185634\n"
     ]
    }
   ],
   "source": [
    "#рассчитаем значение показателя auc-roc для модели \"случайный лес\" при взвешивании классов\n",
    "\n",
    "probabilities_valid_random_forest_balanced = model_random_forest_balanced.predict_proba(features_valid)\n",
    "probabilities_one_valid_random_forest_balanced = probabilities_valid_random_forest_balanced[:, 1]\n",
    "\n",
    "auc_roc_random_forest_balanced = roc_auc_score(target_valid,probabilities_one_valid_random_forest_balanced )\n",
    "\n",
    "#выведем результат на экран\n",
    "\n",
    "print('Значение метрики AUC-ROC модели \"случайный лес\" на валидационной выборке при взвешивании классов:',auc_roc_log )"
   ]
  },
  {
   "cell_type": "markdown",
   "metadata": {},
   "source": [
    "Из расчета видно, что показатель f1 score модели решающего дерева выше при взвешивании классов, чем при дисбалансе (0.64 и 0.60 соответственно)."
   ]
  },
  {
   "cell_type": "markdown",
   "metadata": {},
   "source": [
    "### Upsampling"
   ]
  },
  {
   "cell_type": "markdown",
   "metadata": {},
   "source": [
    "Попробуем сбалансировать классы с помощью увеличения выборки."
   ]
  },
  {
   "cell_type": "code",
   "execution_count": 42,
   "metadata": {},
   "outputs": [],
   "source": [
    "def upsample(features, target, repeat): #объявляем функцию upsample\n",
    "    features_zeros = features[target == 0] #выделяем признаки по классам\n",
    "    features_ones = features[target == 1]\n",
    "    target_zeros = target[target == 0]\n",
    "    target_ones = target[target == 1]\n",
    "\n",
    "    features_upsampled = pd.concat([features_zeros] + [features_ones] * repeat) #объединяем датасеты, увеличиваем выборки\n",
    "    target_upsampled = pd.concat([target_zeros] + [target_ones] * repeat)\n",
    "    \n",
    "    features_upsampled, target_upsampled = shuffle(\n",
    "        features_upsampled, target_upsampled, random_state=12345) #перемешиваем данные\n",
    "    \n",
    "    return features_upsampled, target_upsampled #возвращаем полученные данные\n",
    "\n",
    "features_upsampled, target_upsampled = upsample(features_train, target_train, 4) #вызываем функцию, увеличиваем выборку с классом 1 в 4 раза"
   ]
  },
  {
   "cell_type": "code",
   "execution_count": 43,
   "metadata": {},
   "outputs": [
    {
     "name": "stdout",
     "output_type": "stream",
     "text": [
      "F1_score наилучшей модели на валидационной выборке: 0.6440677966101696 Наилучшее количество деревьев: 29 Оптимальная глубина: 9\n"
     ]
    }
   ],
   "source": [
    "#проверяем работу модели \"случайный лес\" с новыми данными с учетом увеличения выборки\n",
    "\n",
    "best_model = None\n",
    "best_result = 0\n",
    "best_est = 0\n",
    "best_depth = 0\n",
    "best_est = 0\n",
    "for est in range(1,50, 4):\n",
    "    for depth in range(1,50, 4):\n",
    "        model_random_forest = RandomForestClassifier(random_state=12345, n_estimators=est, max_depth=depth) #инициируем вызов модели \"случайный лес\"  с глубиной 5\n",
    "        model_random_forest.fit(features_upsampled,target_upsampled) #обучим модель на тренировочных дан\n",
    "        predictions_random_forest = model_random_forest.predict(features_valid) #предскажем результат на валидационных данных\n",
    "        result = f1_score(target_valid,predictions_random_forest) #рассчитаем f1\n",
    "        if result > best_result:\n",
    "            best_model = model_random_forest \n",
    "            best_result = result\n",
    "            best_depth = depth\n",
    "            best_est = est\n",
    "\n",
    "print(\"F1_score наилучшей модели на валидационной выборке:\", best_result, 'Наилучшее количество деревьев:', best_est, 'Оптимальная глубина:', best_depth)"
   ]
  },
  {
   "cell_type": "markdown",
   "metadata": {},
   "source": [
    "### Downsampling"
   ]
  },
  {
   "cell_type": "markdown",
   "metadata": {},
   "source": [
    "Теперь попробуем сбалансировать классы с помощью уменьшения выборки."
   ]
  },
  {
   "cell_type": "code",
   "execution_count": 44,
   "metadata": {},
   "outputs": [],
   "source": [
    "def downsample(features, target, fraction): #объявляем функцию downsample\n",
    "    features_zeros = features[target == 0] #выделяем признаки по классам\n",
    "    features_ones = features[target == 1]\n",
    "    target_zeros = target[target == 0]\n",
    "    target_ones = target[target == 1]\n",
    "\n",
    "    features_downsampled = pd.concat([features_zeros.sample(frac = fraction,random_state = 12345)] + [features_ones]) #объединяем датасеты, уменьшаем выборки\n",
    "    target_downsampled = pd.concat([target_zeros.sample(frac = fraction,random_state = 12345)] + [target_ones])\n",
    "    \n",
    "    features_downsampled , target_downsampled  = shuffle(\n",
    "        features_downsampled , target_downsampled, random_state=12345) #перемешиваем данные\n",
    "    \n",
    "    return features_downsampled , target_downsampled #возвращаем полученные данные\n",
    "\n",
    "features_downsampled, target_downsampled  = downsample(features_train, target_train, 0.1) #вызываем функцию"
   ]
  },
  {
   "cell_type": "code",
   "execution_count": 45,
   "metadata": {},
   "outputs": [
    {
     "name": "stdout",
     "output_type": "stream",
     "text": [
      "F1_score наилучшей модели на валидационной выборке: 0.4938524590163934 Наилучшее количество деревьев: 17 Оптимальная глубина: 13\n"
     ]
    }
   ],
   "source": [
    "#проверяем работу модели \"случайный лес\" с новыми данными с учетом уменьшения выборки\n",
    "\n",
    "best_model = None\n",
    "best_result = 0\n",
    "best_est = 0\n",
    "best_depth = 0\n",
    "best_est = 0\n",
    "for est in range(1,50, 4):\n",
    "    for depth in range(1,50, 4):\n",
    "        model_random_forest = RandomForestClassifier(random_state=12345, n_estimators=est, max_depth=depth) #инициируем вызов модели \"случайный лес\"  с глубиной 5\n",
    "        model_random_forest.fit(features_downsampled,target_downsampled) #обучим модель на тренировочных дан\n",
    "        predictions_random_forest = model_random_forest.predict(features_valid) #предскажем результат на валидационныъ данных\n",
    "        result = f1_score(target_valid,predictions_random_forest) #рассчитаем метрику f1\n",
    "        if result > best_result:\n",
    "            best_model = model_random_forest \n",
    "            best_result = result\n",
    "            best_depth = depth\n",
    "            best_est = est\n",
    "\n",
    "print(\"F1_score наилучшей модели на валидационной выборке:\", best_result, 'Наилучшее количество деревьев:', best_est, 'Оптимальная глубина:', best_depth)"
   ]
  },
  {
   "cell_type": "markdown",
   "metadata": {},
   "source": [
    "### Вывод"
   ]
  },
  {
   "cell_type": "markdown",
   "metadata": {},
   "source": [
    "При устранении дисбаланса классов выяснилось, что наилучший показатель f1 получается при использовании метода upsampling на модели \"случайный лес\" с количество деревьев 29 и глубиной 9. Эту модель и будем использовать для тестирования."
   ]
  },
  {
   "cell_type": "markdown",
   "metadata": {},
   "source": [
    "## Тестирование модели"
   ]
  },
  {
   "cell_type": "markdown",
   "metadata": {},
   "source": [
    "Проверим работу модели \"случайный лес\" на тестовой выборке со следующими гиперпараметрами: n_estimators = 29, max_depth = 9."
   ]
  },
  {
   "cell_type": "code",
   "execution_count": 51,
   "metadata": {},
   "outputs": [
    {
     "name": "stdout",
     "output_type": "stream",
     "text": [
      "Значение F1 при увеличении выборки в модели \"случайный лес\": 0.6114864864864865\n"
     ]
    }
   ],
   "source": [
    "#протестируем модель\n",
    "\n",
    "model_random_forest_test = RandomForestClassifier(random_state=12345, n_estimators=29, max_depth=9)\n",
    "model_random_forest_test.fit(features_upsampled,target_upsampled) \n",
    "predictions_random_forest_test= model_random_forest_test.predict(features_test) \n",
    "f1_score_random_forest_test = f1_score(target_test,predictions_random_forest_test)\n",
    "\n",
    "#рассчитаем метрику f1\n",
    "\n",
    "print('Значение F1 при увеличении выборки в модели \"случайный лес\":',f1_score_random_forest_test)"
   ]
  },
  {
   "cell_type": "code",
   "execution_count": 64,
   "metadata": {},
   "outputs": [
    {
     "name": "stdout",
     "output_type": "stream",
     "text": [
      "Значение метрики AUC-ROC модели \"случайный лес\" на тестовой выборке: 0.5046247984062233\n"
     ]
    }
   ],
   "source": [
    "#рассчитаем значение показателя auc-roc для модели \"случайный лес\" на тестовой выборке\n",
    "\n",
    "probabilities_test_random_forest = model_random_forest_test.predict_proba(features_valid)\n",
    "probabilities_one_test_random_forest = probabilities_test_random_forest[:, 1]\n",
    "\n",
    "auc_roc_test_random_forest = roc_auc_score(target_test,probabilities_one_test_random_forest)\n",
    "\n",
    "#выведем результат на экран\n",
    "\n",
    "print('Значение метрики AUC-ROC модели \"случайный лес\" на тестовой выборке:',auc_roc_test_random_forest)"
   ]
  },
  {
   "cell_type": "markdown",
   "metadata": {},
   "source": [
    "### Вывод"
   ]
  },
  {
   "cell_type": "markdown",
   "metadata": {},
   "source": [
    "В результате проведения тестирования модели \"случайный лес\" был достигнут целевой показатель f1 выше 0.59, который составил 0.61, что говорит о том, что наша модель предсказывает уйдет ли клиент из банка или нет лучше, чем случайная модель."
   ]
  }
 ],
 "metadata": {
  "ExecuteTimeLog": [
   {
    "duration": 1251,
    "start_time": "2022-03-31T08:14:47.294Z"
   },
   {
    "duration": 46,
    "start_time": "2022-03-31T08:15:18.339Z"
   },
   {
    "duration": 90,
    "start_time": "2022-03-31T08:20:19.758Z"
   },
   {
    "duration": 4,
    "start_time": "2022-03-31T08:20:35.831Z"
   },
   {
    "duration": 5,
    "start_time": "2022-03-31T08:23:23.484Z"
   },
   {
    "duration": 21,
    "start_time": "2022-03-31T08:23:33.204Z"
   },
   {
    "duration": 22,
    "start_time": "2022-03-31T08:23:43.816Z"
   },
   {
    "duration": 12,
    "start_time": "2022-03-31T08:26:40.560Z"
   },
   {
    "duration": 7,
    "start_time": "2022-03-31T08:28:48.900Z"
   },
   {
    "duration": 19,
    "start_time": "2022-03-31T08:30:25.909Z"
   },
   {
    "duration": 15,
    "start_time": "2022-03-31T08:30:35.992Z"
   },
   {
    "duration": 11,
    "start_time": "2022-03-31T08:31:06.636Z"
   },
   {
    "duration": 7,
    "start_time": "2022-03-31T08:31:15.126Z"
   },
   {
    "duration": 4,
    "start_time": "2022-03-31T08:32:41.315Z"
   },
   {
    "duration": 9,
    "start_time": "2022-03-31T08:34:27.679Z"
   },
   {
    "duration": 2341,
    "start_time": "2022-03-31T08:35:40.163Z"
   },
   {
    "duration": 9,
    "start_time": "2022-03-31T08:36:24.079Z"
   },
   {
    "duration": 9,
    "start_time": "2022-03-31T08:38:52.207Z"
   },
   {
    "duration": 2779,
    "start_time": "2022-03-31T08:41:49.835Z"
   },
   {
    "duration": 615,
    "start_time": "2022-03-31T08:50:58.976Z"
   },
   {
    "duration": 4,
    "start_time": "2022-03-31T08:52:36.974Z"
   },
   {
    "duration": 150,
    "start_time": "2022-03-31T08:52:43.759Z"
   },
   {
    "duration": 1426,
    "start_time": "2022-03-31T08:53:17.330Z"
   },
   {
    "duration": 42,
    "start_time": "2022-03-31T08:53:18.757Z"
   },
   {
    "duration": 15,
    "start_time": "2022-03-31T08:53:18.801Z"
   },
   {
    "duration": 13,
    "start_time": "2022-03-31T08:53:18.818Z"
   },
   {
    "duration": 7,
    "start_time": "2022-03-31T08:53:18.832Z"
   },
   {
    "duration": 26,
    "start_time": "2022-03-31T08:53:18.840Z"
   },
   {
    "duration": 186,
    "start_time": "2022-03-31T08:53:18.867Z"
   },
   {
    "duration": 5,
    "start_time": "2022-03-31T08:54:49.717Z"
   },
   {
    "duration": 5,
    "start_time": "2022-03-31T08:57:22.782Z"
   },
   {
    "duration": 5,
    "start_time": "2022-03-31T08:57:41.573Z"
   },
   {
    "duration": 170,
    "start_time": "2022-03-31T08:58:45.861Z"
   },
   {
    "duration": 153,
    "start_time": "2022-03-31T08:59:44.714Z"
   },
   {
    "duration": 5,
    "start_time": "2022-03-31T09:00:29.632Z"
   },
   {
    "duration": 5,
    "start_time": "2022-03-31T09:00:45.470Z"
   },
   {
    "duration": 165,
    "start_time": "2022-03-31T09:00:59.300Z"
   },
   {
    "duration": 174,
    "start_time": "2022-03-31T09:04:46.561Z"
   },
   {
    "duration": 1393,
    "start_time": "2022-03-31T09:06:09.601Z"
   },
   {
    "duration": 42,
    "start_time": "2022-03-31T09:06:10.996Z"
   },
   {
    "duration": 15,
    "start_time": "2022-03-31T09:06:11.040Z"
   },
   {
    "duration": 17,
    "start_time": "2022-03-31T09:06:11.056Z"
   },
   {
    "duration": 13,
    "start_time": "2022-03-31T09:06:11.075Z"
   },
   {
    "duration": 13,
    "start_time": "2022-03-31T09:06:11.089Z"
   },
   {
    "duration": 187,
    "start_time": "2022-03-31T09:06:11.103Z"
   },
   {
    "duration": 5,
    "start_time": "2022-03-31T09:06:11.291Z"
   },
   {
    "duration": 177,
    "start_time": "2022-03-31T09:06:11.298Z"
   },
   {
    "duration": 4,
    "start_time": "2022-03-31T09:06:11.477Z"
   },
   {
    "duration": 180,
    "start_time": "2022-03-31T09:06:11.483Z"
   },
   {
    "duration": 4,
    "start_time": "2022-03-31T09:06:11.665Z"
   },
   {
    "duration": 5,
    "start_time": "2022-03-31T09:06:56.930Z"
   },
   {
    "duration": 229,
    "start_time": "2022-03-31T09:07:35.385Z"
   },
   {
    "duration": 233,
    "start_time": "2022-03-31T09:08:29.753Z"
   },
   {
    "duration": 228,
    "start_time": "2022-03-31T09:08:35.924Z"
   },
   {
    "duration": 1485,
    "start_time": "2022-03-31T09:08:48.935Z"
   },
   {
    "duration": 38,
    "start_time": "2022-03-31T09:08:50.422Z"
   },
   {
    "duration": 16,
    "start_time": "2022-03-31T09:08:50.461Z"
   },
   {
    "duration": 17,
    "start_time": "2022-03-31T09:08:50.479Z"
   },
   {
    "duration": 7,
    "start_time": "2022-03-31T09:08:50.497Z"
   },
   {
    "duration": 12,
    "start_time": "2022-03-31T09:08:50.505Z"
   },
   {
    "duration": 201,
    "start_time": "2022-03-31T09:08:50.518Z"
   },
   {
    "duration": 5,
    "start_time": "2022-03-31T09:08:50.721Z"
   },
   {
    "duration": 178,
    "start_time": "2022-03-31T09:08:50.728Z"
   },
   {
    "duration": 5,
    "start_time": "2022-03-31T09:08:50.909Z"
   },
   {
    "duration": 190,
    "start_time": "2022-03-31T09:08:50.915Z"
   },
   {
    "duration": 5,
    "start_time": "2022-03-31T09:08:51.107Z"
   },
   {
    "duration": 247,
    "start_time": "2022-03-31T09:08:51.113Z"
   },
   {
    "duration": 215,
    "start_time": "2022-03-31T09:09:38.152Z"
   },
   {
    "duration": 5,
    "start_time": "2022-03-31T09:10:04.978Z"
   },
   {
    "duration": 181,
    "start_time": "2022-03-31T09:11:19.358Z"
   },
   {
    "duration": 5,
    "start_time": "2022-03-31T09:11:58.618Z"
   },
   {
    "duration": 265,
    "start_time": "2022-03-31T09:12:32.082Z"
   },
   {
    "duration": 6,
    "start_time": "2022-03-31T09:13:00.629Z"
   },
   {
    "duration": 6,
    "start_time": "2022-03-31T09:16:48.981Z"
   },
   {
    "duration": 5,
    "start_time": "2022-03-31T09:33:34.267Z"
   },
   {
    "duration": 5,
    "start_time": "2022-03-31T09:34:56.220Z"
   },
   {
    "duration": 12,
    "start_time": "2022-03-31T09:35:14.790Z"
   },
   {
    "duration": 13,
    "start_time": "2022-03-31T09:35:31.652Z"
   },
   {
    "duration": 15,
    "start_time": "2022-03-31T09:35:43.238Z"
   },
   {
    "duration": 85,
    "start_time": "2022-03-31T09:37:43.395Z"
   },
   {
    "duration": 8,
    "start_time": "2022-03-31T09:37:50.332Z"
   },
   {
    "duration": 5,
    "start_time": "2022-03-31T09:43:44.894Z"
   },
   {
    "duration": 5,
    "start_time": "2022-03-31T09:43:45.867Z"
   },
   {
    "duration": 12,
    "start_time": "2022-03-31T09:43:46.928Z"
   },
   {
    "duration": 10,
    "start_time": "2022-03-31T09:43:48.024Z"
   },
   {
    "duration": 15,
    "start_time": "2022-03-31T09:43:48.828Z"
   },
   {
    "duration": 11,
    "start_time": "2022-03-31T09:44:07.459Z"
   },
   {
    "duration": 12,
    "start_time": "2022-03-31T09:45:04.256Z"
   },
   {
    "duration": 98,
    "start_time": "2022-03-31T09:48:11.354Z"
   },
   {
    "duration": 8,
    "start_time": "2022-03-31T09:48:20.764Z"
   },
   {
    "duration": 2455,
    "start_time": "2022-03-31T09:48:43.195Z"
   },
   {
    "duration": 10,
    "start_time": "2022-03-31T09:48:55.107Z"
   },
   {
    "duration": 3,
    "start_time": "2022-03-31T09:53:36.727Z"
   },
   {
    "duration": 6,
    "start_time": "2022-03-31T09:53:36.732Z"
   },
   {
    "duration": 51,
    "start_time": "2022-03-31T12:15:20.059Z"
   },
   {
    "duration": 1605,
    "start_time": "2022-03-31T12:15:44.747Z"
   },
   {
    "duration": 58,
    "start_time": "2022-03-31T12:15:46.354Z"
   },
   {
    "duration": 13,
    "start_time": "2022-03-31T12:15:46.413Z"
   },
   {
    "duration": 13,
    "start_time": "2022-03-31T12:15:46.428Z"
   },
   {
    "duration": 6,
    "start_time": "2022-03-31T12:15:46.442Z"
   },
   {
    "duration": 10,
    "start_time": "2022-03-31T12:15:46.449Z"
   },
   {
    "duration": 292,
    "start_time": "2022-03-31T12:15:46.461Z"
   },
   {
    "duration": 4,
    "start_time": "2022-03-31T12:15:46.754Z"
   },
   {
    "duration": 175,
    "start_time": "2022-03-31T12:15:46.760Z"
   },
   {
    "duration": 4,
    "start_time": "2022-03-31T12:15:46.938Z"
   },
   {
    "duration": 187,
    "start_time": "2022-03-31T12:15:46.943Z"
   },
   {
    "duration": 4,
    "start_time": "2022-03-31T12:15:47.131Z"
   },
   {
    "duration": 107,
    "start_time": "2022-03-31T12:15:47.136Z"
   },
   {
    "duration": 0,
    "start_time": "2022-03-31T12:15:47.245Z"
   },
   {
    "duration": 0,
    "start_time": "2022-03-31T12:15:47.246Z"
   },
   {
    "duration": 0,
    "start_time": "2022-03-31T12:15:47.247Z"
   },
   {
    "duration": 0,
    "start_time": "2022-03-31T12:15:47.248Z"
   },
   {
    "duration": 0,
    "start_time": "2022-03-31T12:15:47.248Z"
   },
   {
    "duration": 0,
    "start_time": "2022-03-31T12:15:47.249Z"
   },
   {
    "duration": 0,
    "start_time": "2022-03-31T12:15:47.250Z"
   },
   {
    "duration": 0,
    "start_time": "2022-03-31T12:15:47.251Z"
   },
   {
    "duration": 0,
    "start_time": "2022-03-31T12:15:47.252Z"
   },
   {
    "duration": 0,
    "start_time": "2022-03-31T12:15:47.252Z"
   },
   {
    "duration": 0,
    "start_time": "2022-03-31T12:15:47.253Z"
   },
   {
    "duration": 0,
    "start_time": "2022-03-31T12:15:47.254Z"
   },
   {
    "duration": 0,
    "start_time": "2022-03-31T12:15:47.255Z"
   },
   {
    "duration": 0,
    "start_time": "2022-03-31T12:15:47.256Z"
   },
   {
    "duration": 0,
    "start_time": "2022-03-31T12:15:47.257Z"
   },
   {
    "duration": 0,
    "start_time": "2022-03-31T12:15:47.258Z"
   },
   {
    "duration": 0,
    "start_time": "2022-03-31T12:15:47.258Z"
   },
   {
    "duration": 0,
    "start_time": "2022-03-31T12:15:47.282Z"
   },
   {
    "duration": 0,
    "start_time": "2022-03-31T12:15:47.286Z"
   },
   {
    "duration": 8,
    "start_time": "2022-03-31T12:16:27.309Z"
   },
   {
    "duration": 22,
    "start_time": "2022-03-31T12:16:46.670Z"
   },
   {
    "duration": 1328,
    "start_time": "2022-03-31T12:16:51.920Z"
   },
   {
    "duration": 40,
    "start_time": "2022-03-31T12:16:53.249Z"
   },
   {
    "duration": 14,
    "start_time": "2022-03-31T12:16:53.291Z"
   },
   {
    "duration": 15,
    "start_time": "2022-03-31T12:16:53.308Z"
   },
   {
    "duration": 7,
    "start_time": "2022-03-31T12:16:53.325Z"
   },
   {
    "duration": 15,
    "start_time": "2022-03-31T12:16:53.334Z"
   },
   {
    "duration": 192,
    "start_time": "2022-03-31T12:16:53.351Z"
   },
   {
    "duration": 4,
    "start_time": "2022-03-31T12:16:53.545Z"
   },
   {
    "duration": 167,
    "start_time": "2022-03-31T12:16:53.551Z"
   },
   {
    "duration": 4,
    "start_time": "2022-03-31T12:16:53.720Z"
   },
   {
    "duration": 170,
    "start_time": "2022-03-31T12:16:53.726Z"
   },
   {
    "duration": 5,
    "start_time": "2022-03-31T12:16:53.897Z"
   },
   {
    "duration": 104,
    "start_time": "2022-03-31T12:16:53.903Z"
   },
   {
    "duration": 0,
    "start_time": "2022-03-31T12:16:54.008Z"
   },
   {
    "duration": 0,
    "start_time": "2022-03-31T12:16:54.010Z"
   },
   {
    "duration": 0,
    "start_time": "2022-03-31T12:16:54.010Z"
   },
   {
    "duration": 0,
    "start_time": "2022-03-31T12:16:54.011Z"
   },
   {
    "duration": 0,
    "start_time": "2022-03-31T12:16:54.012Z"
   },
   {
    "duration": 0,
    "start_time": "2022-03-31T12:16:54.013Z"
   },
   {
    "duration": 0,
    "start_time": "2022-03-31T12:16:54.014Z"
   },
   {
    "duration": 0,
    "start_time": "2022-03-31T12:16:54.015Z"
   },
   {
    "duration": 0,
    "start_time": "2022-03-31T12:16:54.016Z"
   },
   {
    "duration": 0,
    "start_time": "2022-03-31T12:16:54.017Z"
   },
   {
    "duration": 0,
    "start_time": "2022-03-31T12:16:54.017Z"
   },
   {
    "duration": 0,
    "start_time": "2022-03-31T12:16:54.019Z"
   },
   {
    "duration": 0,
    "start_time": "2022-03-31T12:16:54.020Z"
   },
   {
    "duration": 0,
    "start_time": "2022-03-31T12:16:54.021Z"
   },
   {
    "duration": 0,
    "start_time": "2022-03-31T12:16:54.021Z"
   },
   {
    "duration": 0,
    "start_time": "2022-03-31T12:16:54.022Z"
   },
   {
    "duration": 0,
    "start_time": "2022-03-31T12:16:54.023Z"
   },
   {
    "duration": 0,
    "start_time": "2022-03-31T12:16:54.024Z"
   },
   {
    "duration": 0,
    "start_time": "2022-03-31T12:16:54.025Z"
   },
   {
    "duration": 8,
    "start_time": "2022-03-31T12:17:29.942Z"
   },
   {
    "duration": 11,
    "start_time": "2022-03-31T12:17:38.148Z"
   },
   {
    "duration": 1428,
    "start_time": "2022-03-31T12:17:45.871Z"
   },
   {
    "duration": 40,
    "start_time": "2022-03-31T12:17:47.301Z"
   },
   {
    "duration": 15,
    "start_time": "2022-03-31T12:17:47.343Z"
   },
   {
    "duration": 26,
    "start_time": "2022-03-31T12:17:47.361Z"
   },
   {
    "duration": 12,
    "start_time": "2022-03-31T12:17:47.388Z"
   },
   {
    "duration": 17,
    "start_time": "2022-03-31T12:17:47.401Z"
   },
   {
    "duration": 177,
    "start_time": "2022-03-31T12:17:47.420Z"
   },
   {
    "duration": 5,
    "start_time": "2022-03-31T12:17:47.599Z"
   },
   {
    "duration": 272,
    "start_time": "2022-03-31T12:17:47.605Z"
   },
   {
    "duration": 5,
    "start_time": "2022-03-31T12:17:47.883Z"
   },
   {
    "duration": 176,
    "start_time": "2022-03-31T12:17:47.890Z"
   },
   {
    "duration": 14,
    "start_time": "2022-03-31T12:17:48.067Z"
   },
   {
    "duration": 106,
    "start_time": "2022-03-31T12:17:48.082Z"
   },
   {
    "duration": 0,
    "start_time": "2022-03-31T12:17:48.190Z"
   },
   {
    "duration": 0,
    "start_time": "2022-03-31T12:17:48.191Z"
   },
   {
    "duration": 0,
    "start_time": "2022-03-31T12:17:48.192Z"
   },
   {
    "duration": 0,
    "start_time": "2022-03-31T12:17:48.193Z"
   },
   {
    "duration": 0,
    "start_time": "2022-03-31T12:17:48.194Z"
   },
   {
    "duration": 0,
    "start_time": "2022-03-31T12:17:48.194Z"
   },
   {
    "duration": 0,
    "start_time": "2022-03-31T12:17:48.195Z"
   },
   {
    "duration": 0,
    "start_time": "2022-03-31T12:17:48.196Z"
   },
   {
    "duration": 0,
    "start_time": "2022-03-31T12:17:48.197Z"
   },
   {
    "duration": 0,
    "start_time": "2022-03-31T12:17:48.198Z"
   },
   {
    "duration": 0,
    "start_time": "2022-03-31T12:17:48.199Z"
   },
   {
    "duration": 0,
    "start_time": "2022-03-31T12:17:48.200Z"
   },
   {
    "duration": 0,
    "start_time": "2022-03-31T12:17:48.201Z"
   },
   {
    "duration": 0,
    "start_time": "2022-03-31T12:17:48.202Z"
   },
   {
    "duration": 0,
    "start_time": "2022-03-31T12:17:48.203Z"
   },
   {
    "duration": 0,
    "start_time": "2022-03-31T12:17:48.204Z"
   },
   {
    "duration": 0,
    "start_time": "2022-03-31T12:17:48.204Z"
   },
   {
    "duration": 0,
    "start_time": "2022-03-31T12:17:48.205Z"
   },
   {
    "duration": 0,
    "start_time": "2022-03-31T12:17:48.206Z"
   },
   {
    "duration": 237,
    "start_time": "2022-03-31T12:18:10.636Z"
   },
   {
    "duration": 4,
    "start_time": "2022-03-31T12:18:19.322Z"
   },
   {
    "duration": 177,
    "start_time": "2022-03-31T12:18:21.398Z"
   },
   {
    "duration": 4,
    "start_time": "2022-03-31T12:18:24.494Z"
   },
   {
    "duration": 165,
    "start_time": "2022-03-31T12:18:29.702Z"
   },
   {
    "duration": 4,
    "start_time": "2022-03-31T12:18:32.564Z"
   },
   {
    "duration": 3,
    "start_time": "2022-03-31T12:18:35.400Z"
   },
   {
    "duration": 5,
    "start_time": "2022-03-31T12:18:37.118Z"
   },
   {
    "duration": 10,
    "start_time": "2022-03-31T12:18:37.560Z"
   },
   {
    "duration": 10,
    "start_time": "2022-03-31T12:18:37.942Z"
   },
   {
    "duration": 69,
    "start_time": "2022-03-31T12:18:40.893Z"
   },
   {
    "duration": 6,
    "start_time": "2022-03-31T12:18:43.425Z"
   },
   {
    "duration": 7,
    "start_time": "2022-03-31T12:18:44.646Z"
   },
   {
    "duration": 8,
    "start_time": "2022-03-31T12:18:46.440Z"
   },
   {
    "duration": 7,
    "start_time": "2022-03-31T12:18:47.446Z"
   },
   {
    "duration": 8,
    "start_time": "2022-03-31T12:18:48.547Z"
   },
   {
    "duration": 2,
    "start_time": "2022-03-31T12:18:50.891Z"
   },
   {
    "duration": 13,
    "start_time": "2022-03-31T12:18:52.429Z"
   },
   {
    "duration": 2,
    "start_time": "2022-03-31T12:19:04.198Z"
   },
   {
    "duration": 12,
    "start_time": "2022-03-31T12:19:05.901Z"
   },
   {
    "duration": 10,
    "start_time": "2022-03-31T12:19:53.701Z"
   },
   {
    "duration": 4,
    "start_time": "2022-03-31T12:21:04.164Z"
   },
   {
    "duration": 4,
    "start_time": "2022-03-31T12:21:12.928Z"
   },
   {
    "duration": 11,
    "start_time": "2022-03-31T12:21:19.734Z"
   },
   {
    "duration": 3,
    "start_time": "2022-03-31T12:22:05.545Z"
   },
   {
    "duration": 11,
    "start_time": "2022-03-31T12:22:07.091Z"
   },
   {
    "duration": 14,
    "start_time": "2022-03-31T12:22:36.758Z"
   },
   {
    "duration": 13,
    "start_time": "2022-03-31T12:22:45.810Z"
   },
   {
    "duration": 2,
    "start_time": "2022-03-31T12:22:55.164Z"
   },
   {
    "duration": 11,
    "start_time": "2022-03-31T12:22:55.955Z"
   },
   {
    "duration": 18,
    "start_time": "2022-03-31T12:22:58.545Z"
   },
   {
    "duration": 8,
    "start_time": "2022-03-31T12:23:05.118Z"
   },
   {
    "duration": 1522,
    "start_time": "2022-03-31T12:23:17.751Z"
   },
   {
    "duration": 41,
    "start_time": "2022-03-31T12:23:19.276Z"
   },
   {
    "duration": 16,
    "start_time": "2022-03-31T12:23:19.318Z"
   },
   {
    "duration": 12,
    "start_time": "2022-03-31T12:23:19.336Z"
   },
   {
    "duration": 7,
    "start_time": "2022-03-31T12:23:19.349Z"
   },
   {
    "duration": 26,
    "start_time": "2022-03-31T12:23:19.358Z"
   },
   {
    "duration": 177,
    "start_time": "2022-03-31T12:23:19.385Z"
   },
   {
    "duration": 4,
    "start_time": "2022-03-31T12:23:19.564Z"
   },
   {
    "duration": 173,
    "start_time": "2022-03-31T12:23:19.569Z"
   },
   {
    "duration": 4,
    "start_time": "2022-03-31T12:23:19.745Z"
   },
   {
    "duration": 174,
    "start_time": "2022-03-31T12:23:19.750Z"
   },
   {
    "duration": 4,
    "start_time": "2022-03-31T12:23:19.925Z"
   },
   {
    "duration": 263,
    "start_time": "2022-03-31T12:23:19.930Z"
   },
   {
    "duration": 4,
    "start_time": "2022-03-31T12:23:20.195Z"
   },
   {
    "duration": 163,
    "start_time": "2022-03-31T12:23:20.200Z"
   },
   {
    "duration": 4,
    "start_time": "2022-03-31T12:23:20.364Z"
   },
   {
    "duration": 164,
    "start_time": "2022-03-31T12:23:20.370Z"
   },
   {
    "duration": 5,
    "start_time": "2022-03-31T12:23:20.535Z"
   },
   {
    "duration": 7,
    "start_time": "2022-03-31T12:23:20.541Z"
   },
   {
    "duration": 6,
    "start_time": "2022-03-31T12:23:20.549Z"
   },
   {
    "duration": 28,
    "start_time": "2022-03-31T12:23:20.556Z"
   },
   {
    "duration": 74,
    "start_time": "2022-03-31T12:23:20.586Z"
   },
   {
    "duration": 21,
    "start_time": "2022-03-31T12:23:20.662Z"
   },
   {
    "duration": 9,
    "start_time": "2022-03-31T12:23:20.685Z"
   },
   {
    "duration": 9,
    "start_time": "2022-03-31T12:23:20.695Z"
   },
   {
    "duration": 6,
    "start_time": "2022-03-31T12:23:20.705Z"
   },
   {
    "duration": 8,
    "start_time": "2022-03-31T12:23:20.712Z"
   },
   {
    "duration": 14,
    "start_time": "2022-03-31T12:23:20.723Z"
   },
   {
    "duration": 6,
    "start_time": "2022-03-31T12:23:20.738Z"
   },
   {
    "duration": 115,
    "start_time": "2022-03-31T12:23:20.745Z"
   },
   {
    "duration": 0,
    "start_time": "2022-03-31T12:23:20.861Z"
   },
   {
    "duration": 0,
    "start_time": "2022-03-31T12:23:20.862Z"
   },
   {
    "duration": 11,
    "start_time": "2022-03-31T12:24:12.529Z"
   },
   {
    "duration": 3,
    "start_time": "2022-03-31T12:24:15.290Z"
   },
   {
    "duration": 1443,
    "start_time": "2022-03-31T12:24:22.057Z"
   },
   {
    "duration": 40,
    "start_time": "2022-03-31T12:24:23.502Z"
   },
   {
    "duration": 14,
    "start_time": "2022-03-31T12:24:23.543Z"
   },
   {
    "duration": 11,
    "start_time": "2022-03-31T12:24:23.559Z"
   },
   {
    "duration": 6,
    "start_time": "2022-03-31T12:24:23.580Z"
   },
   {
    "duration": 11,
    "start_time": "2022-03-31T12:24:23.587Z"
   },
   {
    "duration": 175,
    "start_time": "2022-03-31T12:24:23.599Z"
   },
   {
    "duration": 7,
    "start_time": "2022-03-31T12:24:23.776Z"
   },
   {
    "duration": 164,
    "start_time": "2022-03-31T12:24:23.784Z"
   },
   {
    "duration": 4,
    "start_time": "2022-03-31T12:24:23.951Z"
   },
   {
    "duration": 169,
    "start_time": "2022-03-31T12:24:23.956Z"
   },
   {
    "duration": 4,
    "start_time": "2022-03-31T12:24:24.127Z"
   },
   {
    "duration": 240,
    "start_time": "2022-03-31T12:24:24.133Z"
   },
   {
    "duration": 5,
    "start_time": "2022-03-31T12:24:24.375Z"
   },
   {
    "duration": 170,
    "start_time": "2022-03-31T12:24:24.381Z"
   },
   {
    "duration": 4,
    "start_time": "2022-03-31T12:24:24.553Z"
   },
   {
    "duration": 167,
    "start_time": "2022-03-31T12:24:24.559Z"
   },
   {
    "duration": 4,
    "start_time": "2022-03-31T12:24:24.728Z"
   },
   {
    "duration": 6,
    "start_time": "2022-03-31T12:24:24.733Z"
   },
   {
    "duration": 8,
    "start_time": "2022-03-31T12:24:24.740Z"
   },
   {
    "duration": 11,
    "start_time": "2022-03-31T12:24:24.750Z"
   },
   {
    "duration": 83,
    "start_time": "2022-03-31T12:24:24.762Z"
   },
   {
    "duration": 10,
    "start_time": "2022-03-31T12:24:24.846Z"
   },
   {
    "duration": 6,
    "start_time": "2022-03-31T12:24:24.858Z"
   },
   {
    "duration": 4,
    "start_time": "2022-03-31T12:24:24.880Z"
   },
   {
    "duration": 4,
    "start_time": "2022-03-31T12:24:24.885Z"
   },
   {
    "duration": 7,
    "start_time": "2022-03-31T12:24:24.891Z"
   },
   {
    "duration": 11,
    "start_time": "2022-03-31T12:24:24.901Z"
   },
   {
    "duration": 2,
    "start_time": "2022-03-31T12:24:24.913Z"
   },
   {
    "duration": 114,
    "start_time": "2022-03-31T12:24:24.917Z"
   },
   {
    "duration": 0,
    "start_time": "2022-03-31T12:24:25.032Z"
   },
   {
    "duration": 0,
    "start_time": "2022-03-31T12:24:25.033Z"
   },
   {
    "duration": 15,
    "start_time": "2022-03-31T12:25:12.180Z"
   },
   {
    "duration": 3,
    "start_time": "2022-03-31T12:26:10.439Z"
   },
   {
    "duration": 12,
    "start_time": "2022-03-31T12:26:13.361Z"
   },
   {
    "duration": 3,
    "start_time": "2022-03-31T12:27:27.288Z"
   },
   {
    "duration": 14,
    "start_time": "2022-03-31T12:27:28.313Z"
   },
   {
    "duration": 19,
    "start_time": "2022-03-31T12:27:34.452Z"
   },
   {
    "duration": 8,
    "start_time": "2022-03-31T12:27:35.761Z"
   },
   {
    "duration": 5,
    "start_time": "2022-03-31T12:27:51.507Z"
   },
   {
    "duration": 4,
    "start_time": "2022-03-31T12:27:57.657Z"
   },
   {
    "duration": 5,
    "start_time": "2022-03-31T12:28:06.614Z"
   },
   {
    "duration": 5,
    "start_time": "2022-03-31T12:28:09.029Z"
   },
   {
    "duration": 2,
    "start_time": "2022-03-31T12:28:40.739Z"
   },
   {
    "duration": 14,
    "start_time": "2022-03-31T12:28:43.164Z"
   },
   {
    "duration": 3,
    "start_time": "2022-03-31T12:29:01.305Z"
   },
   {
    "duration": 11,
    "start_time": "2022-03-31T12:29:03.110Z"
   },
   {
    "duration": 3,
    "start_time": "2022-03-31T12:30:04.846Z"
   },
   {
    "duration": 11,
    "start_time": "2022-03-31T12:30:07.479Z"
   },
   {
    "duration": 11,
    "start_time": "2022-03-31T12:30:16.677Z"
   },
   {
    "duration": 18,
    "start_time": "2022-03-31T12:30:20.698Z"
   },
   {
    "duration": 8,
    "start_time": "2022-03-31T12:30:51.973Z"
   },
   {
    "duration": 3,
    "start_time": "2022-03-31T12:31:20.273Z"
   },
   {
    "duration": 4,
    "start_time": "2022-03-31T12:32:09.301Z"
   },
   {
    "duration": 9,
    "start_time": "2022-03-31T12:32:26.933Z"
   },
   {
    "duration": 10,
    "start_time": "2022-03-31T12:32:36.818Z"
   },
   {
    "duration": 9,
    "start_time": "2022-03-31T12:32:59.934Z"
   },
   {
    "duration": 9,
    "start_time": "2022-03-31T12:33:51.025Z"
   },
   {
    "duration": 9,
    "start_time": "2022-03-31T12:34:29.495Z"
   },
   {
    "duration": 9,
    "start_time": "2022-03-31T12:34:37.047Z"
   },
   {
    "duration": 4145,
    "start_time": "2022-03-31T12:35:06.908Z"
   },
   {
    "duration": 41,
    "start_time": "2022-03-31T12:35:11.054Z"
   },
   {
    "duration": 16,
    "start_time": "2022-03-31T12:35:11.097Z"
   },
   {
    "duration": 12,
    "start_time": "2022-03-31T12:35:11.114Z"
   },
   {
    "duration": 6,
    "start_time": "2022-03-31T12:35:11.128Z"
   },
   {
    "duration": 12,
    "start_time": "2022-03-31T12:35:11.135Z"
   },
   {
    "duration": 197,
    "start_time": "2022-03-31T12:35:11.149Z"
   },
   {
    "duration": 4,
    "start_time": "2022-03-31T12:35:11.348Z"
   },
   {
    "duration": 172,
    "start_time": "2022-03-31T12:35:11.353Z"
   },
   {
    "duration": 5,
    "start_time": "2022-03-31T12:35:11.527Z"
   },
   {
    "duration": 174,
    "start_time": "2022-03-31T12:35:11.533Z"
   },
   {
    "duration": 4,
    "start_time": "2022-03-31T12:35:11.709Z"
   },
   {
    "duration": 251,
    "start_time": "2022-03-31T12:35:11.714Z"
   },
   {
    "duration": 4,
    "start_time": "2022-03-31T12:35:11.967Z"
   },
   {
    "duration": 170,
    "start_time": "2022-03-31T12:35:11.973Z"
   },
   {
    "duration": 5,
    "start_time": "2022-03-31T12:35:12.144Z"
   },
   {
    "duration": 172,
    "start_time": "2022-03-31T12:35:12.150Z"
   },
   {
    "duration": 5,
    "start_time": "2022-03-31T12:35:12.323Z"
   },
   {
    "duration": 5,
    "start_time": "2022-03-31T12:35:12.329Z"
   },
   {
    "duration": 7,
    "start_time": "2022-03-31T12:35:12.335Z"
   },
   {
    "duration": 11,
    "start_time": "2022-03-31T12:35:12.344Z"
   },
   {
    "duration": 90,
    "start_time": "2022-03-31T12:35:12.357Z"
   },
   {
    "duration": 10,
    "start_time": "2022-03-31T12:35:12.448Z"
   },
   {
    "duration": 7,
    "start_time": "2022-03-31T12:35:12.460Z"
   },
   {
    "duration": 7,
    "start_time": "2022-03-31T12:35:12.480Z"
   },
   {
    "duration": 101,
    "start_time": "2022-03-31T12:35:12.488Z"
   },
   {
    "duration": 0,
    "start_time": "2022-03-31T12:35:12.590Z"
   },
   {
    "duration": 0,
    "start_time": "2022-03-31T12:35:12.591Z"
   },
   {
    "duration": 0,
    "start_time": "2022-03-31T12:35:12.592Z"
   },
   {
    "duration": 0,
    "start_time": "2022-03-31T12:35:12.593Z"
   },
   {
    "duration": 0,
    "start_time": "2022-03-31T12:35:12.594Z"
   },
   {
    "duration": 0,
    "start_time": "2022-03-31T12:35:12.595Z"
   },
   {
    "duration": 9,
    "start_time": "2022-03-31T12:36:56.618Z"
   },
   {
    "duration": 10,
    "start_time": "2022-03-31T12:40:27.408Z"
   },
   {
    "duration": 9,
    "start_time": "2022-03-31T12:41:56.551Z"
   },
   {
    "duration": 3,
    "start_time": "2022-03-31T12:42:02.431Z"
   },
   {
    "duration": 13,
    "start_time": "2022-03-31T12:42:03.741Z"
   },
   {
    "duration": 1359,
    "start_time": "2022-03-31T12:42:09.091Z"
   },
   {
    "duration": 50,
    "start_time": "2022-03-31T12:42:10.451Z"
   },
   {
    "duration": 15,
    "start_time": "2022-03-31T12:42:10.503Z"
   },
   {
    "duration": 11,
    "start_time": "2022-03-31T12:42:10.520Z"
   },
   {
    "duration": 6,
    "start_time": "2022-03-31T12:42:10.532Z"
   },
   {
    "duration": 9,
    "start_time": "2022-03-31T12:42:10.540Z"
   },
   {
    "duration": 188,
    "start_time": "2022-03-31T12:42:10.550Z"
   },
   {
    "duration": 5,
    "start_time": "2022-03-31T12:42:10.740Z"
   },
   {
    "duration": 171,
    "start_time": "2022-03-31T12:42:10.746Z"
   },
   {
    "duration": 5,
    "start_time": "2022-03-31T12:42:10.921Z"
   },
   {
    "duration": 180,
    "start_time": "2022-03-31T12:42:10.927Z"
   },
   {
    "duration": 5,
    "start_time": "2022-03-31T12:42:11.109Z"
   },
   {
    "duration": 249,
    "start_time": "2022-03-31T12:42:11.116Z"
   },
   {
    "duration": 5,
    "start_time": "2022-03-31T12:42:11.367Z"
   },
   {
    "duration": 176,
    "start_time": "2022-03-31T12:42:11.374Z"
   },
   {
    "duration": 5,
    "start_time": "2022-03-31T12:42:11.552Z"
   },
   {
    "duration": 165,
    "start_time": "2022-03-31T12:42:11.558Z"
   },
   {
    "duration": 4,
    "start_time": "2022-03-31T12:42:11.725Z"
   },
   {
    "duration": 18,
    "start_time": "2022-03-31T12:42:11.730Z"
   },
   {
    "duration": 12,
    "start_time": "2022-03-31T12:42:11.749Z"
   },
   {
    "duration": 10,
    "start_time": "2022-03-31T12:42:11.763Z"
   },
   {
    "duration": 78,
    "start_time": "2022-03-31T12:42:11.774Z"
   },
   {
    "duration": 10,
    "start_time": "2022-03-31T12:42:11.854Z"
   },
   {
    "duration": 15,
    "start_time": "2022-03-31T12:42:11.865Z"
   },
   {
    "duration": 22,
    "start_time": "2022-03-31T12:42:11.881Z"
   },
   {
    "duration": 98,
    "start_time": "2022-03-31T12:42:11.905Z"
   },
   {
    "duration": 0,
    "start_time": "2022-03-31T12:42:12.005Z"
   },
   {
    "duration": 0,
    "start_time": "2022-03-31T12:42:12.006Z"
   },
   {
    "duration": 0,
    "start_time": "2022-03-31T12:42:12.007Z"
   },
   {
    "duration": 0,
    "start_time": "2022-03-31T12:42:12.007Z"
   },
   {
    "duration": 0,
    "start_time": "2022-03-31T12:42:12.008Z"
   },
   {
    "duration": 0,
    "start_time": "2022-03-31T12:42:12.009Z"
   },
   {
    "duration": 11,
    "start_time": "2022-03-31T12:42:44.666Z"
   },
   {
    "duration": 9,
    "start_time": "2022-03-31T12:44:07.474Z"
   },
   {
    "duration": 1456,
    "start_time": "2022-03-31T12:44:26.299Z"
   },
   {
    "duration": 40,
    "start_time": "2022-03-31T12:44:27.757Z"
   },
   {
    "duration": 15,
    "start_time": "2022-03-31T12:44:27.799Z"
   },
   {
    "duration": 14,
    "start_time": "2022-03-31T12:44:27.815Z"
   },
   {
    "duration": 7,
    "start_time": "2022-03-31T12:44:27.832Z"
   },
   {
    "duration": 11,
    "start_time": "2022-03-31T12:44:27.841Z"
   },
   {
    "duration": 196,
    "start_time": "2022-03-31T12:44:27.854Z"
   },
   {
    "duration": 5,
    "start_time": "2022-03-31T12:44:28.052Z"
   },
   {
    "duration": 195,
    "start_time": "2022-03-31T12:44:28.059Z"
   },
   {
    "duration": 5,
    "start_time": "2022-03-31T12:44:28.255Z"
   },
   {
    "duration": 191,
    "start_time": "2022-03-31T12:44:28.262Z"
   },
   {
    "duration": 4,
    "start_time": "2022-03-31T12:44:28.455Z"
   },
   {
    "duration": 240,
    "start_time": "2022-03-31T12:44:28.461Z"
   },
   {
    "duration": 4,
    "start_time": "2022-03-31T12:44:28.704Z"
   },
   {
    "duration": 165,
    "start_time": "2022-03-31T12:44:28.710Z"
   },
   {
    "duration": 5,
    "start_time": "2022-03-31T12:44:28.876Z"
   },
   {
    "duration": 165,
    "start_time": "2022-03-31T12:44:28.882Z"
   },
   {
    "duration": 5,
    "start_time": "2022-03-31T12:44:29.049Z"
   },
   {
    "duration": 5,
    "start_time": "2022-03-31T12:44:29.056Z"
   },
   {
    "duration": 18,
    "start_time": "2022-03-31T12:44:29.063Z"
   },
   {
    "duration": 10,
    "start_time": "2022-03-31T12:44:29.082Z"
   },
   {
    "duration": 88,
    "start_time": "2022-03-31T12:44:29.093Z"
   },
   {
    "duration": 11,
    "start_time": "2022-03-31T12:44:29.182Z"
   },
   {
    "duration": 8,
    "start_time": "2022-03-31T12:44:29.194Z"
   },
   {
    "duration": 9,
    "start_time": "2022-03-31T12:44:29.204Z"
   },
   {
    "duration": 111,
    "start_time": "2022-03-31T12:44:29.215Z"
   },
   {
    "duration": 0,
    "start_time": "2022-03-31T12:44:29.328Z"
   },
   {
    "duration": 0,
    "start_time": "2022-03-31T12:44:29.329Z"
   },
   {
    "duration": 0,
    "start_time": "2022-03-31T12:44:29.330Z"
   },
   {
    "duration": 0,
    "start_time": "2022-03-31T12:44:29.331Z"
   },
   {
    "duration": 0,
    "start_time": "2022-03-31T12:44:29.331Z"
   },
   {
    "duration": 0,
    "start_time": "2022-03-31T12:44:29.332Z"
   },
   {
    "duration": 8,
    "start_time": "2022-03-31T12:49:38.485Z"
   },
   {
    "duration": 184,
    "start_time": "2022-03-31T12:51:15.746Z"
   },
   {
    "duration": 8,
    "start_time": "2022-03-31T12:51:39.318Z"
   },
   {
    "duration": 10,
    "start_time": "2022-03-31T12:51:42.762Z"
   },
   {
    "duration": 10,
    "start_time": "2022-03-31T12:51:53.364Z"
   },
   {
    "duration": 182,
    "start_time": "2022-03-31T12:52:06.677Z"
   },
   {
    "duration": 1441,
    "start_time": "2022-03-31T12:52:12.938Z"
   },
   {
    "duration": 51,
    "start_time": "2022-03-31T12:52:14.381Z"
   },
   {
    "duration": 15,
    "start_time": "2022-03-31T12:52:14.433Z"
   },
   {
    "duration": 15,
    "start_time": "2022-03-31T12:52:14.450Z"
   },
   {
    "duration": 6,
    "start_time": "2022-03-31T12:52:14.467Z"
   },
   {
    "duration": 10,
    "start_time": "2022-03-31T12:52:14.474Z"
   },
   {
    "duration": 174,
    "start_time": "2022-03-31T12:52:14.486Z"
   },
   {
    "duration": 5,
    "start_time": "2022-03-31T12:52:14.661Z"
   },
   {
    "duration": 165,
    "start_time": "2022-03-31T12:52:14.667Z"
   },
   {
    "duration": 4,
    "start_time": "2022-03-31T12:52:14.835Z"
   },
   {
    "duration": 178,
    "start_time": "2022-03-31T12:52:14.841Z"
   },
   {
    "duration": 4,
    "start_time": "2022-03-31T12:52:15.021Z"
   },
   {
    "duration": 239,
    "start_time": "2022-03-31T12:52:15.026Z"
   },
   {
    "duration": 4,
    "start_time": "2022-03-31T12:52:15.267Z"
   },
   {
    "duration": 168,
    "start_time": "2022-03-31T12:52:15.272Z"
   },
   {
    "duration": 4,
    "start_time": "2022-03-31T12:52:15.442Z"
   },
   {
    "duration": 165,
    "start_time": "2022-03-31T12:52:15.447Z"
   },
   {
    "duration": 5,
    "start_time": "2022-03-31T12:52:15.613Z"
   },
   {
    "duration": 15,
    "start_time": "2022-03-31T12:52:15.619Z"
   },
   {
    "duration": 8,
    "start_time": "2022-03-31T12:52:15.636Z"
   },
   {
    "duration": 13,
    "start_time": "2022-03-31T12:52:15.645Z"
   },
   {
    "duration": 75,
    "start_time": "2022-03-31T12:52:15.660Z"
   },
   {
    "duration": 10,
    "start_time": "2022-03-31T12:52:15.737Z"
   },
   {
    "duration": 9,
    "start_time": "2022-03-31T12:52:15.748Z"
   },
   {
    "duration": 24,
    "start_time": "2022-03-31T12:52:15.759Z"
   },
   {
    "duration": 268,
    "start_time": "2022-03-31T12:52:15.785Z"
   },
   {
    "duration": 0,
    "start_time": "2022-03-31T12:52:16.055Z"
   },
   {
    "duration": 0,
    "start_time": "2022-03-31T12:52:16.056Z"
   },
   {
    "duration": 1,
    "start_time": "2022-03-31T12:52:16.057Z"
   },
   {
    "duration": 0,
    "start_time": "2022-03-31T12:52:16.058Z"
   },
   {
    "duration": 0,
    "start_time": "2022-03-31T12:52:16.059Z"
   },
   {
    "duration": 0,
    "start_time": "2022-03-31T12:52:16.060Z"
   },
   {
    "duration": 10,
    "start_time": "2022-03-31T12:52:31.618Z"
   },
   {
    "duration": 48,
    "start_time": "2022-04-01T08:06:24.312Z"
   },
   {
    "duration": 1557,
    "start_time": "2022-04-01T08:06:31.569Z"
   },
   {
    "duration": 50,
    "start_time": "2022-04-01T08:06:33.128Z"
   },
   {
    "duration": 17,
    "start_time": "2022-04-01T08:06:33.180Z"
   },
   {
    "duration": 13,
    "start_time": "2022-04-01T08:06:33.199Z"
   },
   {
    "duration": 7,
    "start_time": "2022-04-01T08:06:33.213Z"
   },
   {
    "duration": 12,
    "start_time": "2022-04-01T08:06:33.233Z"
   },
   {
    "duration": 201,
    "start_time": "2022-04-01T08:06:33.246Z"
   },
   {
    "duration": 5,
    "start_time": "2022-04-01T08:06:33.449Z"
   },
   {
    "duration": 180,
    "start_time": "2022-04-01T08:06:33.455Z"
   },
   {
    "duration": 5,
    "start_time": "2022-04-01T08:06:33.637Z"
   },
   {
    "duration": 192,
    "start_time": "2022-04-01T08:06:33.643Z"
   },
   {
    "duration": 4,
    "start_time": "2022-04-01T08:06:33.837Z"
   },
   {
    "duration": 251,
    "start_time": "2022-04-01T08:06:33.843Z"
   },
   {
    "duration": 5,
    "start_time": "2022-04-01T08:06:34.095Z"
   },
   {
    "duration": 179,
    "start_time": "2022-04-01T08:06:34.101Z"
   },
   {
    "duration": 5,
    "start_time": "2022-04-01T08:06:34.281Z"
   },
   {
    "duration": 247,
    "start_time": "2022-04-01T08:06:34.287Z"
   },
   {
    "duration": 4,
    "start_time": "2022-04-01T08:06:34.536Z"
   },
   {
    "duration": 6,
    "start_time": "2022-04-01T08:06:34.542Z"
   },
   {
    "duration": 6,
    "start_time": "2022-04-01T08:06:34.550Z"
   },
   {
    "duration": 12,
    "start_time": "2022-04-01T08:06:34.557Z"
   },
   {
    "duration": 10,
    "start_time": "2022-04-01T08:06:34.571Z"
   },
   {
    "duration": 11,
    "start_time": "2022-04-01T08:06:34.583Z"
   },
   {
    "duration": 37,
    "start_time": "2022-04-01T08:06:34.596Z"
   },
   {
    "duration": 12,
    "start_time": "2022-04-01T08:06:34.635Z"
   },
   {
    "duration": 8,
    "start_time": "2022-04-01T08:06:34.648Z"
   },
   {
    "duration": 7,
    "start_time": "2022-04-01T08:06:34.657Z"
   },
   {
    "duration": 7,
    "start_time": "2022-04-01T08:06:34.667Z"
   },
   {
    "duration": 2,
    "start_time": "2022-04-01T08:06:34.676Z"
   },
   {
    "duration": 136,
    "start_time": "2022-04-01T08:06:34.680Z"
   },
   {
    "duration": 0,
    "start_time": "2022-04-01T08:06:34.818Z"
   },
   {
    "duration": 0,
    "start_time": "2022-04-01T08:06:34.819Z"
   },
   {
    "duration": 2,
    "start_time": "2022-04-01T08:06:40.731Z"
   },
   {
    "duration": 12,
    "start_time": "2022-04-01T08:06:42.948Z"
   },
   {
    "duration": 8,
    "start_time": "2022-04-01T08:07:37.567Z"
   },
   {
    "duration": 3,
    "start_time": "2022-04-01T08:07:46.014Z"
   },
   {
    "duration": 13,
    "start_time": "2022-04-01T08:07:48.960Z"
   },
   {
    "duration": 21,
    "start_time": "2022-04-01T08:08:17.572Z"
   },
   {
    "duration": 10,
    "start_time": "2022-04-01T08:08:22.858Z"
   },
   {
    "duration": 10,
    "start_time": "2022-04-01T08:11:53.330Z"
   },
   {
    "duration": 2,
    "start_time": "2022-04-01T08:12:06.304Z"
   },
   {
    "duration": 2,
    "start_time": "2022-04-01T08:12:13.473Z"
   },
   {
    "duration": 12,
    "start_time": "2022-04-01T08:12:15.950Z"
   },
   {
    "duration": 3,
    "start_time": "2022-04-01T08:12:26.850Z"
   },
   {
    "duration": 13,
    "start_time": "2022-04-01T08:12:29.255Z"
   },
   {
    "duration": 12,
    "start_time": "2022-04-01T08:13:21.417Z"
   },
   {
    "duration": 12,
    "start_time": "2022-04-01T08:13:56.487Z"
   },
   {
    "duration": 18,
    "start_time": "2022-04-01T08:13:59.245Z"
   },
   {
    "duration": 17,
    "start_time": "2022-04-01T08:17:00.608Z"
   },
   {
    "duration": 18,
    "start_time": "2022-04-01T08:18:53.314Z"
   },
   {
    "duration": 11,
    "start_time": "2022-04-01T08:25:14.887Z"
   },
   {
    "duration": 31,
    "start_time": "2022-04-01T08:25:43.614Z"
   },
   {
    "duration": 13,
    "start_time": "2022-04-01T08:26:11.667Z"
   },
   {
    "duration": 13,
    "start_time": "2022-04-01T08:26:19.457Z"
   },
   {
    "duration": 10,
    "start_time": "2022-04-01T08:26:21.930Z"
   },
   {
    "duration": 19,
    "start_time": "2022-04-01T08:26:28.180Z"
   },
   {
    "duration": 19,
    "start_time": "2022-04-01T08:26:55.646Z"
   },
   {
    "duration": 10,
    "start_time": "2022-04-01T08:28:23.928Z"
   },
   {
    "duration": 12,
    "start_time": "2022-04-01T08:28:26.760Z"
   },
   {
    "duration": 20,
    "start_time": "2022-04-01T08:28:30.220Z"
   },
   {
    "duration": 11,
    "start_time": "2022-04-01T08:29:10.937Z"
   },
   {
    "duration": 13,
    "start_time": "2022-04-01T08:29:15.082Z"
   },
   {
    "duration": 20,
    "start_time": "2022-04-01T08:29:18.506Z"
   },
   {
    "duration": 19,
    "start_time": "2022-04-01T08:29:55.218Z"
   },
   {
    "duration": 20,
    "start_time": "2022-04-01T08:30:10.922Z"
   },
   {
    "duration": 9,
    "start_time": "2022-04-01T08:32:35.778Z"
   },
   {
    "duration": 19,
    "start_time": "2022-04-01T08:37:38.798Z"
   },
   {
    "duration": 13,
    "start_time": "2022-04-01T08:41:19.328Z"
   },
   {
    "duration": 12,
    "start_time": "2022-04-01T08:45:10.349Z"
   },
   {
    "duration": 3,
    "start_time": "2022-04-01T08:48:46.152Z"
   },
   {
    "duration": 4,
    "start_time": "2022-04-01T08:48:58.321Z"
   },
   {
    "duration": 3,
    "start_time": "2022-04-01T08:49:05.545Z"
   },
   {
    "duration": 5,
    "start_time": "2022-04-01T08:51:26.553Z"
   },
   {
    "duration": 9,
    "start_time": "2022-04-01T08:51:49.441Z"
   },
   {
    "duration": 13,
    "start_time": "2022-04-01T08:51:51.090Z"
   },
   {
    "duration": 12,
    "start_time": "2022-04-01T08:51:51.837Z"
   },
   {
    "duration": 12,
    "start_time": "2022-04-01T08:51:52.415Z"
   },
   {
    "duration": 12,
    "start_time": "2022-04-01T08:51:53.087Z"
   },
   {
    "duration": 3,
    "start_time": "2022-04-01T08:51:53.671Z"
   },
   {
    "duration": 18,
    "start_time": "2022-04-01T08:51:55.158Z"
   },
   {
    "duration": 19,
    "start_time": "2022-04-01T08:51:58.015Z"
   },
   {
    "duration": 1376,
    "start_time": "2022-04-01T08:52:10.279Z"
   },
   {
    "duration": 39,
    "start_time": "2022-04-01T08:52:11.657Z"
   },
   {
    "duration": 38,
    "start_time": "2022-04-01T08:52:11.698Z"
   },
   {
    "duration": 21,
    "start_time": "2022-04-01T08:52:11.740Z"
   },
   {
    "duration": 11,
    "start_time": "2022-04-01T08:52:11.763Z"
   },
   {
    "duration": 18,
    "start_time": "2022-04-01T08:52:11.776Z"
   },
   {
    "duration": 352,
    "start_time": "2022-04-01T08:52:11.796Z"
   },
   {
    "duration": 6,
    "start_time": "2022-04-01T08:52:12.150Z"
   },
   {
    "duration": 312,
    "start_time": "2022-04-01T08:52:12.159Z"
   },
   {
    "duration": 6,
    "start_time": "2022-04-01T08:52:12.475Z"
   },
   {
    "duration": 329,
    "start_time": "2022-04-01T08:52:12.483Z"
   },
   {
    "duration": 6,
    "start_time": "2022-04-01T08:52:12.815Z"
   },
   {
    "duration": 422,
    "start_time": "2022-04-01T08:52:12.832Z"
   },
   {
    "duration": 6,
    "start_time": "2022-04-01T08:52:13.257Z"
   },
   {
    "duration": 186,
    "start_time": "2022-04-01T08:52:13.266Z"
   },
   {
    "duration": 5,
    "start_time": "2022-04-01T08:52:13.454Z"
   },
   {
    "duration": 189,
    "start_time": "2022-04-01T08:52:13.460Z"
   },
   {
    "duration": 5,
    "start_time": "2022-04-01T08:52:13.651Z"
   },
   {
    "duration": 6,
    "start_time": "2022-04-01T08:52:13.657Z"
   },
   {
    "duration": 7,
    "start_time": "2022-04-01T08:52:13.664Z"
   },
   {
    "duration": 13,
    "start_time": "2022-04-01T08:52:13.672Z"
   },
   {
    "duration": 112,
    "start_time": "2022-04-01T08:52:13.686Z"
   },
   {
    "duration": 14,
    "start_time": "2022-04-01T08:52:13.800Z"
   },
   {
    "duration": 19,
    "start_time": "2022-04-01T08:52:13.816Z"
   },
   {
    "duration": 12,
    "start_time": "2022-04-01T08:52:13.837Z"
   },
   {
    "duration": 8,
    "start_time": "2022-04-01T08:52:13.850Z"
   },
   {
    "duration": 9,
    "start_time": "2022-04-01T08:52:13.859Z"
   },
   {
    "duration": 7,
    "start_time": "2022-04-01T08:52:13.871Z"
   },
   {
    "duration": 3,
    "start_time": "2022-04-01T08:52:13.879Z"
   },
   {
    "duration": 50,
    "start_time": "2022-04-01T08:52:13.884Z"
   },
   {
    "duration": 118,
    "start_time": "2022-04-01T08:52:13.936Z"
   },
   {
    "duration": 0,
    "start_time": "2022-04-01T08:52:14.056Z"
   },
   {
    "duration": 3,
    "start_time": "2022-04-01T08:52:43.269Z"
   },
   {
    "duration": 14,
    "start_time": "2022-04-01T08:52:44.229Z"
   },
   {
    "duration": 15,
    "start_time": "2022-04-01T08:52:56.596Z"
   },
   {
    "duration": 20,
    "start_time": "2022-04-01T08:53:00.495Z"
   },
   {
    "duration": 19,
    "start_time": "2022-04-01T08:55:05.666Z"
   },
   {
    "duration": 20,
    "start_time": "2022-04-01T08:55:08.541Z"
   },
   {
    "duration": 16,
    "start_time": "2022-04-01T08:55:47.933Z"
   },
   {
    "duration": 202,
    "start_time": "2022-04-01T08:58:54.421Z"
   },
   {
    "duration": 203,
    "start_time": "2022-04-01T08:59:21.594Z"
   },
   {
    "duration": 18,
    "start_time": "2022-04-01T08:59:47.221Z"
   },
   {
    "duration": 51,
    "start_time": "2022-04-01T09:00:40.655Z"
   },
   {
    "duration": 9,
    "start_time": "2022-04-01T09:02:04.188Z"
   },
   {
    "duration": 8,
    "start_time": "2022-04-01T09:02:10.368Z"
   },
   {
    "duration": 9,
    "start_time": "2022-04-01T09:02:16.026Z"
   },
   {
    "duration": 1978,
    "start_time": "2022-04-01T09:02:57.189Z"
   },
   {
    "duration": 1441,
    "start_time": "2022-04-01T09:03:22.334Z"
   },
   {
    "duration": 42,
    "start_time": "2022-04-01T09:03:23.777Z"
   },
   {
    "duration": 21,
    "start_time": "2022-04-01T09:03:23.822Z"
   },
   {
    "duration": 12,
    "start_time": "2022-04-01T09:03:23.845Z"
   },
   {
    "duration": 7,
    "start_time": "2022-04-01T09:03:23.859Z"
   },
   {
    "duration": 13,
    "start_time": "2022-04-01T09:03:23.867Z"
   },
   {
    "duration": 207,
    "start_time": "2022-04-01T09:03:23.882Z"
   },
   {
    "duration": 5,
    "start_time": "2022-04-01T09:03:24.092Z"
   },
   {
    "duration": 185,
    "start_time": "2022-04-01T09:03:24.099Z"
   },
   {
    "duration": 5,
    "start_time": "2022-04-01T09:03:24.288Z"
   },
   {
    "duration": 185,
    "start_time": "2022-04-01T09:03:24.295Z"
   },
   {
    "duration": 5,
    "start_time": "2022-04-01T09:03:24.483Z"
   },
   {
    "duration": 256,
    "start_time": "2022-04-01T09:03:24.490Z"
   },
   {
    "duration": 5,
    "start_time": "2022-04-01T09:03:24.748Z"
   },
   {
    "duration": 191,
    "start_time": "2022-04-01T09:03:24.755Z"
   },
   {
    "duration": 6,
    "start_time": "2022-04-01T09:03:24.948Z"
   },
   {
    "duration": 192,
    "start_time": "2022-04-01T09:03:24.956Z"
   },
   {
    "duration": 6,
    "start_time": "2022-04-01T09:03:25.150Z"
   },
   {
    "duration": 6,
    "start_time": "2022-04-01T09:03:25.158Z"
   },
   {
    "duration": 6,
    "start_time": "2022-04-01T09:03:25.166Z"
   },
   {
    "duration": 13,
    "start_time": "2022-04-01T09:03:25.174Z"
   },
   {
    "duration": 120,
    "start_time": "2022-04-01T09:03:25.189Z"
   },
   {
    "duration": 22,
    "start_time": "2022-04-01T09:03:25.311Z"
   },
   {
    "duration": 8,
    "start_time": "2022-04-01T09:03:25.335Z"
   },
   {
    "duration": 16,
    "start_time": "2022-04-01T09:03:25.345Z"
   },
   {
    "duration": 9,
    "start_time": "2022-04-01T09:03:25.364Z"
   },
   {
    "duration": 2429,
    "start_time": "2022-04-01T09:03:25.375Z"
   },
   {
    "duration": 0,
    "start_time": "2022-04-01T09:03:27.806Z"
   },
   {
    "duration": 0,
    "start_time": "2022-04-01T09:03:27.808Z"
   },
   {
    "duration": 0,
    "start_time": "2022-04-01T09:03:27.809Z"
   },
   {
    "duration": 0,
    "start_time": "2022-04-01T09:03:27.811Z"
   },
   {
    "duration": 0,
    "start_time": "2022-04-01T09:03:27.812Z"
   },
   {
    "duration": 0,
    "start_time": "2022-04-01T09:03:27.813Z"
   },
   {
    "duration": 2364,
    "start_time": "2022-04-01T09:03:45.041Z"
   },
   {
    "duration": 2095,
    "start_time": "2022-04-01T09:03:52.317Z"
   },
   {
    "duration": 206,
    "start_time": "2022-04-01T09:05:05.459Z"
   },
   {
    "duration": 68,
    "start_time": "2022-04-01T09:05:09.121Z"
   },
   {
    "duration": 1412,
    "start_time": "2022-04-01T09:05:23.992Z"
   },
   {
    "duration": 41,
    "start_time": "2022-04-01T09:05:25.406Z"
   },
   {
    "duration": 16,
    "start_time": "2022-04-01T09:05:25.449Z"
   },
   {
    "duration": 14,
    "start_time": "2022-04-01T09:05:25.468Z"
   },
   {
    "duration": 8,
    "start_time": "2022-04-01T09:05:25.485Z"
   },
   {
    "duration": 46,
    "start_time": "2022-04-01T09:05:25.495Z"
   },
   {
    "duration": 204,
    "start_time": "2022-04-01T09:05:25.543Z"
   },
   {
    "duration": 6,
    "start_time": "2022-04-01T09:05:25.749Z"
   },
   {
    "duration": 191,
    "start_time": "2022-04-01T09:05:25.756Z"
   },
   {
    "duration": 5,
    "start_time": "2022-04-01T09:05:25.951Z"
   },
   {
    "duration": 197,
    "start_time": "2022-04-01T09:05:25.958Z"
   },
   {
    "duration": 5,
    "start_time": "2022-04-01T09:05:26.158Z"
   },
   {
    "duration": 256,
    "start_time": "2022-04-01T09:05:26.165Z"
   },
   {
    "duration": 9,
    "start_time": "2022-04-01T09:05:26.424Z"
   },
   {
    "duration": 197,
    "start_time": "2022-04-01T09:05:26.435Z"
   },
   {
    "duration": 5,
    "start_time": "2022-04-01T09:05:26.635Z"
   },
   {
    "duration": 182,
    "start_time": "2022-04-01T09:05:26.641Z"
   },
   {
    "duration": 9,
    "start_time": "2022-04-01T09:05:26.824Z"
   },
   {
    "duration": 6,
    "start_time": "2022-04-01T09:05:26.835Z"
   },
   {
    "duration": 7,
    "start_time": "2022-04-01T09:05:26.843Z"
   },
   {
    "duration": 14,
    "start_time": "2022-04-01T09:05:26.851Z"
   },
   {
    "duration": 115,
    "start_time": "2022-04-01T09:05:26.866Z"
   },
   {
    "duration": 14,
    "start_time": "2022-04-01T09:05:26.982Z"
   },
   {
    "duration": 8,
    "start_time": "2022-04-01T09:05:26.997Z"
   },
   {
    "duration": 229,
    "start_time": "2022-04-01T09:05:27.007Z"
   },
   {
    "duration": 67,
    "start_time": "2022-04-01T09:05:27.239Z"
   },
   {
    "duration": 26,
    "start_time": "2022-04-01T09:05:27.308Z"
   },
   {
    "duration": 9,
    "start_time": "2022-04-01T09:05:27.338Z"
   },
   {
    "duration": 3,
    "start_time": "2022-04-01T09:05:27.349Z"
   },
   {
    "duration": 17,
    "start_time": "2022-04-01T09:05:27.354Z"
   },
   {
    "duration": 140,
    "start_time": "2022-04-01T09:05:27.373Z"
   },
   {
    "duration": 0,
    "start_time": "2022-04-01T09:05:27.514Z"
   },
   {
    "duration": 31,
    "start_time": "2022-04-01T09:05:34.766Z"
   },
   {
    "duration": 20,
    "start_time": "2022-04-01T09:05:47.403Z"
   },
   {
    "duration": 9,
    "start_time": "2022-04-01T09:06:04.588Z"
   },
   {
    "duration": 6,
    "start_time": "2022-04-01T09:06:22.023Z"
   },
   {
    "duration": 8,
    "start_time": "2022-04-01T09:06:24.838Z"
   },
   {
    "duration": 8,
    "start_time": "2022-04-01T09:06:41.570Z"
   },
   {
    "duration": 8,
    "start_time": "2022-04-01T09:06:46.540Z"
   },
   {
    "duration": 8,
    "start_time": "2022-04-01T09:06:49.644Z"
   },
   {
    "duration": 19,
    "start_time": "2022-04-01T09:06:53.778Z"
   },
   {
    "duration": 20,
    "start_time": "2022-04-01T09:06:57.398Z"
   },
   {
    "duration": 18,
    "start_time": "2022-04-01T09:08:07.059Z"
   },
   {
    "duration": 20,
    "start_time": "2022-04-01T09:08:45.031Z"
   },
   {
    "duration": 19,
    "start_time": "2022-04-01T09:09:03.202Z"
   },
   {
    "duration": 19,
    "start_time": "2022-04-01T09:10:51.066Z"
   },
   {
    "duration": 21,
    "start_time": "2022-04-01T09:21:19.938Z"
   },
   {
    "duration": 9,
    "start_time": "2022-04-01T09:22:24.332Z"
   },
   {
    "duration": 4,
    "start_time": "2022-04-01T09:22:48.189Z"
   },
   {
    "duration": 19,
    "start_time": "2022-04-01T09:22:57.701Z"
   },
   {
    "duration": 26,
    "start_time": "2022-04-01T09:23:03.262Z"
   },
   {
    "duration": 28,
    "start_time": "2022-04-01T09:23:21.020Z"
   },
   {
    "duration": 13,
    "start_time": "2022-04-01T09:23:57.580Z"
   },
   {
    "duration": 10,
    "start_time": "2022-04-01T09:23:58.470Z"
   },
   {
    "duration": 28,
    "start_time": "2022-04-01T09:24:07.081Z"
   },
   {
    "duration": 1295,
    "start_time": "2022-04-01T09:24:15.411Z"
   },
   {
    "duration": 2573,
    "start_time": "2022-04-01T09:24:36.654Z"
   },
   {
    "duration": 10961,
    "start_time": "2022-04-01T09:24:53.972Z"
   },
   {
    "duration": 11,
    "start_time": "2022-04-01T09:25:04.935Z"
   },
   {
    "duration": 20,
    "start_time": "2022-04-01T09:25:07.175Z"
   },
   {
    "duration": 1898,
    "start_time": "2022-04-01T09:27:18.063Z"
   },
   {
    "duration": 10,
    "start_time": "2022-04-01T09:27:30.649Z"
   },
   {
    "duration": 5,
    "start_time": "2022-04-01T09:30:30.396Z"
   },
   {
    "duration": 11,
    "start_time": "2022-04-01T09:32:21.874Z"
   },
   {
    "duration": 4,
    "start_time": "2022-04-01T09:32:51.938Z"
   },
   {
    "duration": 4,
    "start_time": "2022-04-01T09:33:21.025Z"
   },
   {
    "duration": 7,
    "start_time": "2022-04-01T09:33:29.089Z"
   },
   {
    "duration": 5,
    "start_time": "2022-04-01T09:33:52.070Z"
   },
   {
    "duration": 4,
    "start_time": "2022-04-01T09:34:01.462Z"
   },
   {
    "duration": 1415,
    "start_time": "2022-04-01T09:34:09.670Z"
   },
   {
    "duration": 40,
    "start_time": "2022-04-01T09:34:11.087Z"
   },
   {
    "duration": 17,
    "start_time": "2022-04-01T09:34:11.132Z"
   },
   {
    "duration": 13,
    "start_time": "2022-04-01T09:34:11.151Z"
   },
   {
    "duration": 8,
    "start_time": "2022-04-01T09:34:11.166Z"
   },
   {
    "duration": 13,
    "start_time": "2022-04-01T09:34:11.176Z"
   },
   {
    "duration": 220,
    "start_time": "2022-04-01T09:34:11.191Z"
   },
   {
    "duration": 5,
    "start_time": "2022-04-01T09:34:11.413Z"
   },
   {
    "duration": 179,
    "start_time": "2022-04-01T09:34:11.420Z"
   },
   {
    "duration": 6,
    "start_time": "2022-04-01T09:34:11.602Z"
   },
   {
    "duration": 190,
    "start_time": "2022-04-01T09:34:11.609Z"
   },
   {
    "duration": 5,
    "start_time": "2022-04-01T09:34:11.801Z"
   },
   {
    "duration": 266,
    "start_time": "2022-04-01T09:34:11.807Z"
   },
   {
    "duration": 6,
    "start_time": "2022-04-01T09:34:12.075Z"
   },
   {
    "duration": 181,
    "start_time": "2022-04-01T09:34:12.083Z"
   },
   {
    "duration": 5,
    "start_time": "2022-04-01T09:34:12.266Z"
   },
   {
    "duration": 184,
    "start_time": "2022-04-01T09:34:12.273Z"
   },
   {
    "duration": 4,
    "start_time": "2022-04-01T09:34:12.459Z"
   },
   {
    "duration": 5,
    "start_time": "2022-04-01T09:34:12.465Z"
   },
   {
    "duration": 8,
    "start_time": "2022-04-01T09:34:12.472Z"
   },
   {
    "duration": 13,
    "start_time": "2022-04-01T09:34:12.481Z"
   },
   {
    "duration": 111,
    "start_time": "2022-04-01T09:34:12.496Z"
   },
   {
    "duration": 12,
    "start_time": "2022-04-01T09:34:12.608Z"
   },
   {
    "duration": 15,
    "start_time": "2022-04-01T09:34:12.622Z"
   },
   {
    "duration": 13,
    "start_time": "2022-04-01T09:34:12.638Z"
   },
   {
    "duration": 8,
    "start_time": "2022-04-01T09:34:12.652Z"
   },
   {
    "duration": 7,
    "start_time": "2022-04-01T09:34:12.662Z"
   },
   {
    "duration": 8,
    "start_time": "2022-04-01T09:34:12.672Z"
   },
   {
    "duration": 2,
    "start_time": "2022-04-01T09:34:12.682Z"
   },
   {
    "duration": 48,
    "start_time": "2022-04-01T09:34:12.686Z"
   },
   {
    "duration": 11,
    "start_time": "2022-04-01T09:34:12.735Z"
   },
   {
    "duration": 115,
    "start_time": "2022-04-01T09:34:12.748Z"
   },
   {
    "duration": 0,
    "start_time": "2022-04-01T09:34:12.865Z"
   },
   {
    "duration": 0,
    "start_time": "2022-04-01T09:34:12.866Z"
   },
   {
    "duration": 0,
    "start_time": "2022-04-01T09:34:12.867Z"
   },
   {
    "duration": 9,
    "start_time": "2022-04-01T09:34:26.802Z"
   },
   {
    "duration": 6,
    "start_time": "2022-04-01T09:34:38.204Z"
   },
   {
    "duration": 10,
    "start_time": "2022-04-01T09:36:42.260Z"
   },
   {
    "duration": 20,
    "start_time": "2022-04-01T09:36:49.732Z"
   },
   {
    "duration": 6,
    "start_time": "2022-04-01T09:36:52.821Z"
   },
   {
    "duration": 9,
    "start_time": "2022-04-01T09:38:48.156Z"
   },
   {
    "duration": 1908,
    "start_time": "2022-04-01T09:38:54.877Z"
   },
   {
    "duration": 35,
    "start_time": "2022-04-01T09:38:56.787Z"
   },
   {
    "duration": 35,
    "start_time": "2022-04-01T09:39:23.573Z"
   },
   {
    "duration": 38,
    "start_time": "2022-04-01T09:39:26.959Z"
   },
   {
    "duration": 6,
    "start_time": "2022-04-01T09:39:31.527Z"
   },
   {
    "duration": 34,
    "start_time": "2022-04-01T09:39:52.078Z"
   },
   {
    "duration": 6,
    "start_time": "2022-04-01T09:40:38.384Z"
   },
   {
    "duration": 11,
    "start_time": "2022-04-01T09:46:38.638Z"
   },
   {
    "duration": 11,
    "start_time": "2022-04-01T09:46:49.205Z"
   },
   {
    "duration": 11,
    "start_time": "2022-04-01T09:46:52.034Z"
   },
   {
    "duration": 10,
    "start_time": "2022-04-01T09:47:51.434Z"
   },
   {
    "duration": 1935,
    "start_time": "2022-04-01T09:48:49.805Z"
   },
   {
    "duration": 1944,
    "start_time": "2022-04-01T09:48:57.808Z"
   },
   {
    "duration": 386,
    "start_time": "2022-04-01T09:50:45.585Z"
   },
   {
    "duration": 10,
    "start_time": "2022-04-01T09:50:53.607Z"
   },
   {
    "duration": 556,
    "start_time": "2022-04-01T09:51:24.522Z"
   },
   {
    "duration": 22,
    "start_time": "2022-04-01T09:54:33.733Z"
   },
   {
    "duration": 2040,
    "start_time": "2022-04-01T09:54:46.787Z"
   },
   {
    "duration": 8,
    "start_time": "2022-04-01T09:54:56.171Z"
   },
   {
    "duration": 15,
    "start_time": "2022-04-01T09:55:01.534Z"
   },
   {
    "duration": 2346,
    "start_time": "2022-04-01T09:55:20.176Z"
   },
   {
    "duration": 2685,
    "start_time": "2022-04-01T09:55:30.466Z"
   },
   {
    "duration": 10743,
    "start_time": "2022-04-01T09:55:41.582Z"
   },
   {
    "duration": 5873,
    "start_time": "2022-04-01T09:56:01.769Z"
   },
   {
    "duration": 5693,
    "start_time": "2022-04-01T09:56:21.141Z"
   },
   {
    "duration": 10287,
    "start_time": "2022-04-01T09:56:44.720Z"
   },
   {
    "duration": 6,
    "start_time": "2022-04-01T09:57:22.638Z"
   },
   {
    "duration": 1522,
    "start_time": "2022-04-01T09:58:05.795Z"
   },
   {
    "duration": 3965,
    "start_time": "2022-04-01T09:58:33.688Z"
   },
   {
    "duration": 17879,
    "start_time": "2022-04-01T09:59:08.555Z"
   },
   {
    "duration": 15,
    "start_time": "2022-04-01T10:00:02.543Z"
   },
   {
    "duration": 11,
    "start_time": "2022-04-01T10:00:07.706Z"
   },
   {
    "duration": 11,
    "start_time": "2022-04-01T10:00:12.437Z"
   },
   {
    "duration": 6470,
    "start_time": "2022-04-01T10:00:44.583Z"
   },
   {
    "duration": 104,
    "start_time": "2022-04-01T10:00:51.054Z"
   },
   {
    "duration": 11128,
    "start_time": "2022-04-01T10:01:09.350Z"
   },
   {
    "duration": 5549,
    "start_time": "2022-04-01T10:01:58.210Z"
   },
   {
    "duration": 3939,
    "start_time": "2022-04-01T10:02:10.156Z"
   },
   {
    "duration": 14933,
    "start_time": "2022-04-01T10:02:24.317Z"
   },
   {
    "duration": 20687,
    "start_time": "2022-04-01T10:03:00.619Z"
   },
   {
    "duration": 84350,
    "start_time": "2022-04-01T10:03:39.587Z"
   },
   {
    "duration": 121,
    "start_time": "2022-04-01T10:05:18.714Z"
   },
   {
    "duration": 12,
    "start_time": "2022-04-01T10:06:12.661Z"
   },
   {
    "duration": 12,
    "start_time": "2022-04-01T10:06:51.377Z"
   },
   {
    "duration": 11,
    "start_time": "2022-04-01T10:07:03.976Z"
   },
   {
    "duration": 12,
    "start_time": "2022-04-01T10:07:27.791Z"
   },
   {
    "duration": 1399,
    "start_time": "2022-04-01T10:07:35.263Z"
   },
   {
    "duration": 37,
    "start_time": "2022-04-01T10:07:36.663Z"
   },
   {
    "duration": 17,
    "start_time": "2022-04-01T10:07:36.701Z"
   },
   {
    "duration": 24,
    "start_time": "2022-04-01T10:07:36.720Z"
   },
   {
    "duration": 8,
    "start_time": "2022-04-01T10:07:36.746Z"
   },
   {
    "duration": 21,
    "start_time": "2022-04-01T10:07:36.756Z"
   },
   {
    "duration": 309,
    "start_time": "2022-04-01T10:07:36.779Z"
   },
   {
    "duration": 6,
    "start_time": "2022-04-01T10:07:37.089Z"
   },
   {
    "duration": 184,
    "start_time": "2022-04-01T10:07:37.096Z"
   },
   {
    "duration": 4,
    "start_time": "2022-04-01T10:07:37.283Z"
   },
   {
    "duration": 181,
    "start_time": "2022-04-01T10:07:37.289Z"
   },
   {
    "duration": 4,
    "start_time": "2022-04-01T10:07:37.472Z"
   },
   {
    "duration": 248,
    "start_time": "2022-04-01T10:07:37.477Z"
   },
   {
    "duration": 6,
    "start_time": "2022-04-01T10:07:37.727Z"
   },
   {
    "duration": 180,
    "start_time": "2022-04-01T10:07:37.734Z"
   },
   {
    "duration": 5,
    "start_time": "2022-04-01T10:07:37.915Z"
   },
   {
    "duration": 177,
    "start_time": "2022-04-01T10:07:37.921Z"
   },
   {
    "duration": 5,
    "start_time": "2022-04-01T10:07:38.100Z"
   },
   {
    "duration": 22,
    "start_time": "2022-04-01T10:07:38.106Z"
   },
   {
    "duration": 7,
    "start_time": "2022-04-01T10:07:38.133Z"
   },
   {
    "duration": 11,
    "start_time": "2022-04-01T10:07:38.142Z"
   },
   {
    "duration": 17,
    "start_time": "2022-04-01T10:07:38.155Z"
   },
   {
    "duration": 92,
    "start_time": "2022-04-01T10:07:38.174Z"
   },
   {
    "duration": 12,
    "start_time": "2022-04-01T10:07:38.267Z"
   },
   {
    "duration": 8,
    "start_time": "2022-04-01T10:07:38.282Z"
   },
   {
    "duration": 12,
    "start_time": "2022-04-01T10:07:38.292Z"
   },
   {
    "duration": 29,
    "start_time": "2022-04-01T10:07:38.306Z"
   },
   {
    "duration": 7,
    "start_time": "2022-04-01T10:07:38.338Z"
   },
   {
    "duration": 9,
    "start_time": "2022-04-01T10:07:38.347Z"
   },
   {
    "duration": 3,
    "start_time": "2022-04-01T10:07:38.357Z"
   },
   {
    "duration": 17,
    "start_time": "2022-04-01T10:07:38.361Z"
   },
   {
    "duration": 10,
    "start_time": "2022-04-01T10:07:38.379Z"
   },
   {
    "duration": 5,
    "start_time": "2022-04-01T10:07:38.390Z"
   },
   {
    "duration": 43,
    "start_time": "2022-04-01T10:07:38.397Z"
   },
   {
    "duration": 5,
    "start_time": "2022-04-01T10:07:38.441Z"
   },
   {
    "duration": 115,
    "start_time": "2022-04-01T10:07:38.448Z"
   },
   {
    "duration": 0,
    "start_time": "2022-04-01T10:07:38.565Z"
   },
   {
    "duration": 0,
    "start_time": "2022-04-01T10:07:38.566Z"
   },
   {
    "duration": 0,
    "start_time": "2022-04-01T10:07:38.567Z"
   },
   {
    "duration": 0,
    "start_time": "2022-04-01T10:07:38.568Z"
   },
   {
    "duration": 0,
    "start_time": "2022-04-01T10:07:38.569Z"
   },
   {
    "duration": 11,
    "start_time": "2022-04-01T10:08:20.864Z"
   },
   {
    "duration": 11,
    "start_time": "2022-04-01T10:09:02.957Z"
   },
   {
    "duration": 127,
    "start_time": "2022-04-01T10:09:33.871Z"
   },
   {
    "duration": 11,
    "start_time": "2022-04-01T10:09:41.441Z"
   },
   {
    "duration": 12,
    "start_time": "2022-04-01T10:09:46.938Z"
   },
   {
    "duration": 12,
    "start_time": "2022-04-01T10:10:36.392Z"
   },
   {
    "duration": 1393,
    "start_time": "2022-04-01T10:10:42.551Z"
   },
   {
    "duration": 43,
    "start_time": "2022-04-01T10:10:43.946Z"
   },
   {
    "duration": 15,
    "start_time": "2022-04-01T10:10:43.991Z"
   },
   {
    "duration": 12,
    "start_time": "2022-04-01T10:10:44.008Z"
   },
   {
    "duration": 8,
    "start_time": "2022-04-01T10:10:44.033Z"
   },
   {
    "duration": 13,
    "start_time": "2022-04-01T10:10:44.042Z"
   },
   {
    "duration": 201,
    "start_time": "2022-04-01T10:10:44.057Z"
   },
   {
    "duration": 5,
    "start_time": "2022-04-01T10:10:44.260Z"
   },
   {
    "duration": 185,
    "start_time": "2022-04-01T10:10:44.266Z"
   },
   {
    "duration": 5,
    "start_time": "2022-04-01T10:10:44.453Z"
   },
   {
    "duration": 196,
    "start_time": "2022-04-01T10:10:44.460Z"
   },
   {
    "duration": 5,
    "start_time": "2022-04-01T10:10:44.658Z"
   },
   {
    "duration": 265,
    "start_time": "2022-04-01T10:10:44.665Z"
   },
   {
    "duration": 5,
    "start_time": "2022-04-01T10:10:44.934Z"
   },
   {
    "duration": 207,
    "start_time": "2022-04-01T10:10:44.941Z"
   },
   {
    "duration": 6,
    "start_time": "2022-04-01T10:10:45.150Z"
   },
   {
    "duration": 190,
    "start_time": "2022-04-01T10:10:45.158Z"
   },
   {
    "duration": 6,
    "start_time": "2022-04-01T10:10:45.350Z"
   },
   {
    "duration": 6,
    "start_time": "2022-04-01T10:10:45.358Z"
   },
   {
    "duration": 13,
    "start_time": "2022-04-01T10:10:45.365Z"
   },
   {
    "duration": 8,
    "start_time": "2022-04-01T10:10:45.380Z"
   },
   {
    "duration": 12,
    "start_time": "2022-04-01T10:10:45.389Z"
   },
   {
    "duration": 115,
    "start_time": "2022-04-01T10:10:45.403Z"
   },
   {
    "duration": 12,
    "start_time": "2022-04-01T10:10:45.532Z"
   },
   {
    "duration": 6,
    "start_time": "2022-04-01T10:10:45.546Z"
   },
   {
    "duration": 13,
    "start_time": "2022-04-01T10:10:45.554Z"
   },
   {
    "duration": 8,
    "start_time": "2022-04-01T10:10:45.569Z"
   },
   {
    "duration": 8,
    "start_time": "2022-04-01T10:10:45.578Z"
   },
   {
    "duration": 8,
    "start_time": "2022-04-01T10:10:45.588Z"
   },
   {
    "duration": 35,
    "start_time": "2022-04-01T10:10:45.598Z"
   },
   {
    "duration": 13,
    "start_time": "2022-04-01T10:10:45.634Z"
   },
   {
    "duration": 11,
    "start_time": "2022-04-01T10:10:45.649Z"
   },
   {
    "duration": 5,
    "start_time": "2022-04-01T10:10:45.662Z"
   },
   {
    "duration": 11,
    "start_time": "2022-04-01T10:10:45.669Z"
   },
   {
    "duration": 5,
    "start_time": "2022-04-01T10:10:45.682Z"
   },
   {
    "duration": 140,
    "start_time": "2022-04-01T10:10:45.689Z"
   },
   {
    "duration": 0,
    "start_time": "2022-04-01T10:10:45.831Z"
   },
   {
    "duration": 0,
    "start_time": "2022-04-01T10:10:45.832Z"
   },
   {
    "duration": 0,
    "start_time": "2022-04-01T10:10:45.833Z"
   },
   {
    "duration": 0,
    "start_time": "2022-04-01T10:10:45.834Z"
   },
   {
    "duration": 0,
    "start_time": "2022-04-01T10:10:45.835Z"
   },
   {
    "duration": 9,
    "start_time": "2022-04-01T10:11:32.545Z"
   },
   {
    "duration": 10,
    "start_time": "2022-04-01T10:11:36.560Z"
   },
   {
    "duration": 12,
    "start_time": "2022-04-01T10:12:37.553Z"
   },
   {
    "duration": 22,
    "start_time": "2022-04-01T10:12:44.009Z"
   },
   {
    "duration": 1428,
    "start_time": "2022-04-01T10:18:43.943Z"
   },
   {
    "duration": 43,
    "start_time": "2022-04-01T10:18:45.373Z"
   },
   {
    "duration": 25,
    "start_time": "2022-04-01T10:18:45.420Z"
   },
   {
    "duration": 13,
    "start_time": "2022-04-01T10:18:45.446Z"
   },
   {
    "duration": 8,
    "start_time": "2022-04-01T10:18:45.461Z"
   },
   {
    "duration": 16,
    "start_time": "2022-04-01T10:18:45.470Z"
   },
   {
    "duration": 217,
    "start_time": "2022-04-01T10:18:45.488Z"
   },
   {
    "duration": 6,
    "start_time": "2022-04-01T10:18:45.706Z"
   },
   {
    "duration": 190,
    "start_time": "2022-04-01T10:18:45.714Z"
   },
   {
    "duration": 5,
    "start_time": "2022-04-01T10:18:45.906Z"
   },
   {
    "duration": 191,
    "start_time": "2022-04-01T10:18:45.913Z"
   },
   {
    "duration": 5,
    "start_time": "2022-04-01T10:18:46.106Z"
   },
   {
    "duration": 247,
    "start_time": "2022-04-01T10:18:46.113Z"
   },
   {
    "duration": 6,
    "start_time": "2022-04-01T10:18:46.361Z"
   },
   {
    "duration": 203,
    "start_time": "2022-04-01T10:18:46.369Z"
   },
   {
    "duration": 4,
    "start_time": "2022-04-01T10:18:46.574Z"
   },
   {
    "duration": 183,
    "start_time": "2022-04-01T10:18:46.580Z"
   },
   {
    "duration": 5,
    "start_time": "2022-04-01T10:18:46.765Z"
   },
   {
    "duration": 7,
    "start_time": "2022-04-01T10:18:46.771Z"
   },
   {
    "duration": 6,
    "start_time": "2022-04-01T10:18:46.779Z"
   },
   {
    "duration": 6,
    "start_time": "2022-04-01T10:18:46.787Z"
   },
   {
    "duration": 43,
    "start_time": "2022-04-01T10:18:46.794Z"
   },
   {
    "duration": 98,
    "start_time": "2022-04-01T10:18:46.839Z"
   },
   {
    "duration": 15,
    "start_time": "2022-04-01T10:18:46.938Z"
   },
   {
    "duration": 7,
    "start_time": "2022-04-01T10:18:46.955Z"
   },
   {
    "duration": 12,
    "start_time": "2022-04-01T10:18:46.964Z"
   },
   {
    "duration": 11,
    "start_time": "2022-04-01T10:18:46.979Z"
   },
   {
    "duration": 46,
    "start_time": "2022-04-01T10:18:46.992Z"
   },
   {
    "duration": 8,
    "start_time": "2022-04-01T10:18:47.039Z"
   },
   {
    "duration": 3,
    "start_time": "2022-04-01T10:18:47.049Z"
   },
   {
    "duration": 15,
    "start_time": "2022-04-01T10:18:47.053Z"
   },
   {
    "duration": 10,
    "start_time": "2022-04-01T10:18:47.070Z"
   },
   {
    "duration": 7,
    "start_time": "2022-04-01T10:18:47.082Z"
   },
   {
    "duration": 51,
    "start_time": "2022-04-01T10:18:47.090Z"
   },
   {
    "duration": 6,
    "start_time": "2022-04-01T10:18:47.142Z"
   },
   {
    "duration": 84221,
    "start_time": "2022-04-01T10:18:47.150Z"
   },
   {
    "duration": 75,
    "start_time": "2022-04-01T10:20:11.373Z"
   },
   {
    "duration": 0,
    "start_time": "2022-04-01T10:20:12.457Z"
   },
   {
    "duration": 0,
    "start_time": "2022-04-01T10:20:12.458Z"
   },
   {
    "duration": 0,
    "start_time": "2022-04-01T10:20:12.459Z"
   },
   {
    "duration": 0,
    "start_time": "2022-04-01T10:20:12.460Z"
   },
   {
    "duration": 8095,
    "start_time": "2022-04-01T10:20:29.526Z"
   },
   {
    "duration": 11049,
    "start_time": "2022-04-01T10:20:51.634Z"
   },
   {
    "duration": 10549,
    "start_time": "2022-04-01T10:21:10.826Z"
   },
   {
    "duration": 10434,
    "start_time": "2022-04-01T10:21:30.778Z"
   },
   {
    "duration": 5615,
    "start_time": "2022-04-01T10:21:47.958Z"
   },
   {
    "duration": 9728,
    "start_time": "2022-04-01T10:21:59.210Z"
   },
   {
    "duration": 13,
    "start_time": "2022-04-01T10:26:24.320Z"
   },
   {
    "duration": 12,
    "start_time": "2022-04-01T10:27:09.581Z"
   },
   {
    "duration": 122261,
    "start_time": "2022-04-01T10:29:23.773Z"
   },
   {
    "duration": 47,
    "start_time": "2022-04-01T10:31:26.036Z"
   },
   {
    "duration": 10,
    "start_time": "2022-04-01T10:31:44.048Z"
   },
   {
    "duration": 22,
    "start_time": "2022-04-01T10:31:45.711Z"
   },
   {
    "duration": 383,
    "start_time": "2022-04-01T10:31:47.240Z"
   },
   {
    "duration": 160,
    "start_time": "2022-04-01T10:32:13.994Z"
   },
   {
    "duration": 26,
    "start_time": "2022-04-01T10:37:37.411Z"
   },
   {
    "duration": 0,
    "start_time": "2022-04-01T10:37:37.439Z"
   },
   {
    "duration": 0,
    "start_time": "2022-04-01T10:37:37.441Z"
   },
   {
    "duration": 0,
    "start_time": "2022-04-01T10:37:37.442Z"
   },
   {
    "duration": 319137,
    "start_time": "2022-04-01T10:38:33.706Z"
   },
   {
    "duration": 17,
    "start_time": "2022-04-01T10:43:52.844Z"
   },
   {
    "duration": 0,
    "start_time": "2022-04-01T10:43:52.863Z"
   },
   {
    "duration": 12,
    "start_time": "2022-04-01T10:48:34.334Z"
   },
   {
    "duration": 1422,
    "start_time": "2022-04-01T10:49:00.238Z"
   },
   {
    "duration": 38,
    "start_time": "2022-04-01T10:49:01.662Z"
   },
   {
    "duration": 16,
    "start_time": "2022-04-01T10:49:01.702Z"
   },
   {
    "duration": 14,
    "start_time": "2022-04-01T10:49:01.734Z"
   },
   {
    "duration": 8,
    "start_time": "2022-04-01T10:49:01.749Z"
   },
   {
    "duration": 14,
    "start_time": "2022-04-01T10:49:01.759Z"
   },
   {
    "duration": 211,
    "start_time": "2022-04-01T10:49:01.775Z"
   },
   {
    "duration": 6,
    "start_time": "2022-04-01T10:49:01.987Z"
   },
   {
    "duration": 199,
    "start_time": "2022-04-01T10:49:01.994Z"
   },
   {
    "duration": 5,
    "start_time": "2022-04-01T10:49:02.196Z"
   },
   {
    "duration": 188,
    "start_time": "2022-04-01T10:49:02.202Z"
   },
   {
    "duration": 5,
    "start_time": "2022-04-01T10:49:02.392Z"
   },
   {
    "duration": 242,
    "start_time": "2022-04-01T10:49:02.398Z"
   },
   {
    "duration": 5,
    "start_time": "2022-04-01T10:49:02.642Z"
   },
   {
    "duration": 208,
    "start_time": "2022-04-01T10:49:02.649Z"
   },
   {
    "duration": 5,
    "start_time": "2022-04-01T10:49:02.859Z"
   },
   {
    "duration": 183,
    "start_time": "2022-04-01T10:49:02.865Z"
   },
   {
    "duration": 5,
    "start_time": "2022-04-01T10:49:03.050Z"
   },
   {
    "duration": 6,
    "start_time": "2022-04-01T10:49:03.056Z"
   },
   {
    "duration": 5,
    "start_time": "2022-04-01T10:49:03.064Z"
   },
   {
    "duration": 6,
    "start_time": "2022-04-01T10:49:03.070Z"
   },
   {
    "duration": 12,
    "start_time": "2022-04-01T10:49:03.078Z"
   },
   {
    "duration": 101,
    "start_time": "2022-04-01T10:49:03.132Z"
   },
   {
    "duration": 14,
    "start_time": "2022-04-01T10:49:03.235Z"
   },
   {
    "duration": 8,
    "start_time": "2022-04-01T10:49:03.250Z"
   },
   {
    "duration": 12,
    "start_time": "2022-04-01T10:49:03.259Z"
   },
   {
    "duration": 8,
    "start_time": "2022-04-01T10:49:03.272Z"
   },
   {
    "duration": 13,
    "start_time": "2022-04-01T10:49:03.283Z"
   },
   {
    "duration": 41,
    "start_time": "2022-04-01T10:49:03.297Z"
   },
   {
    "duration": 2,
    "start_time": "2022-04-01T10:49:03.340Z"
   },
   {
    "duration": 15,
    "start_time": "2022-04-01T10:49:03.344Z"
   },
   {
    "duration": 10,
    "start_time": "2022-04-01T10:49:03.361Z"
   },
   {
    "duration": 6,
    "start_time": "2022-04-01T10:49:03.373Z"
   },
   {
    "duration": 52,
    "start_time": "2022-04-01T10:49:03.380Z"
   },
   {
    "duration": 8,
    "start_time": "2022-04-01T10:49:03.434Z"
   },
   {
    "duration": 1435,
    "start_time": "2022-04-01T10:52:19.118Z"
   },
   {
    "duration": 39,
    "start_time": "2022-04-01T10:52:20.555Z"
   },
   {
    "duration": 16,
    "start_time": "2022-04-01T10:52:20.599Z"
   },
   {
    "duration": 15,
    "start_time": "2022-04-01T10:52:20.634Z"
   },
   {
    "duration": 9,
    "start_time": "2022-04-01T10:52:20.651Z"
   },
   {
    "duration": 18,
    "start_time": "2022-04-01T10:52:20.662Z"
   },
   {
    "duration": 210,
    "start_time": "2022-04-01T10:52:20.681Z"
   },
   {
    "duration": 5,
    "start_time": "2022-04-01T10:52:20.892Z"
   },
   {
    "duration": 190,
    "start_time": "2022-04-01T10:52:20.900Z"
   },
   {
    "duration": 5,
    "start_time": "2022-04-01T10:52:21.092Z"
   },
   {
    "duration": 203,
    "start_time": "2022-04-01T10:52:21.099Z"
   },
   {
    "duration": 6,
    "start_time": "2022-04-01T10:52:21.304Z"
   },
   {
    "duration": 265,
    "start_time": "2022-04-01T10:52:21.312Z"
   },
   {
    "duration": 5,
    "start_time": "2022-04-01T10:52:21.579Z"
   },
   {
    "duration": 199,
    "start_time": "2022-04-01T10:52:21.586Z"
   },
   {
    "duration": 5,
    "start_time": "2022-04-01T10:52:21.787Z"
   },
   {
    "duration": 186,
    "start_time": "2022-04-01T10:52:21.794Z"
   },
   {
    "duration": 5,
    "start_time": "2022-04-01T10:52:21.981Z"
   },
   {
    "duration": 8,
    "start_time": "2022-04-01T10:52:21.988Z"
   },
   {
    "duration": 6,
    "start_time": "2022-04-01T10:52:21.998Z"
   },
   {
    "duration": 5,
    "start_time": "2022-04-01T10:52:22.034Z"
   },
   {
    "duration": 15,
    "start_time": "2022-04-01T10:52:22.041Z"
   },
   {
    "duration": 116,
    "start_time": "2022-04-01T10:52:22.058Z"
   },
   {
    "duration": 14,
    "start_time": "2022-04-01T10:52:22.177Z"
   },
   {
    "duration": 6,
    "start_time": "2022-04-01T10:52:22.192Z"
   },
   {
    "duration": 34,
    "start_time": "2022-04-01T10:52:22.200Z"
   },
   {
    "duration": 9,
    "start_time": "2022-04-01T10:52:22.237Z"
   },
   {
    "duration": 8,
    "start_time": "2022-04-01T10:52:22.247Z"
   },
   {
    "duration": 8,
    "start_time": "2022-04-01T10:52:22.256Z"
   },
   {
    "duration": 2,
    "start_time": "2022-04-01T10:52:22.266Z"
   },
   {
    "duration": 13,
    "start_time": "2022-04-01T10:52:22.270Z"
   },
   {
    "duration": 50,
    "start_time": "2022-04-01T10:52:22.285Z"
   },
   {
    "duration": 6,
    "start_time": "2022-04-01T10:52:22.337Z"
   },
   {
    "duration": 11,
    "start_time": "2022-04-01T10:52:22.345Z"
   },
   {
    "duration": 6,
    "start_time": "2022-04-01T10:52:22.358Z"
   },
   {
    "duration": 304976,
    "start_time": "2022-04-01T10:52:22.366Z"
   },
   {
    "duration": 28,
    "start_time": "2022-04-01T10:57:27.344Z"
   },
   {
    "duration": 10,
    "start_time": "2022-04-01T10:57:27.374Z"
   },
   {
    "duration": 53,
    "start_time": "2022-04-01T10:57:27.385Z"
   },
   {
    "duration": 232,
    "start_time": "2022-04-01T10:57:27.440Z"
   },
   {
    "duration": 131,
    "start_time": "2022-04-01T10:57:27.674Z"
   },
   {
    "duration": 0,
    "start_time": "2022-04-01T10:57:27.807Z"
   },
   {
    "duration": 46,
    "start_time": "2022-04-02T18:29:54.718Z"
   },
   {
    "duration": 1592,
    "start_time": "2022-04-02T18:29:59.426Z"
   },
   {
    "duration": 41,
    "start_time": "2022-04-02T18:30:01.021Z"
   },
   {
    "duration": 17,
    "start_time": "2022-04-02T18:30:01.064Z"
   },
   {
    "duration": 14,
    "start_time": "2022-04-02T18:30:01.083Z"
   },
   {
    "duration": 8,
    "start_time": "2022-04-02T18:30:01.098Z"
   },
   {
    "duration": 12,
    "start_time": "2022-04-02T18:30:01.134Z"
   },
   {
    "duration": 198,
    "start_time": "2022-04-02T18:30:01.148Z"
   },
   {
    "duration": 6,
    "start_time": "2022-04-02T18:30:01.348Z"
   },
   {
    "duration": 191,
    "start_time": "2022-04-02T18:30:01.355Z"
   },
   {
    "duration": 5,
    "start_time": "2022-04-02T18:30:01.549Z"
   },
   {
    "duration": 377,
    "start_time": "2022-04-02T18:30:01.556Z"
   },
   {
    "duration": 5,
    "start_time": "2022-04-02T18:30:01.935Z"
   },
   {
    "duration": 513,
    "start_time": "2022-04-02T18:30:01.941Z"
   },
   {
    "duration": 5,
    "start_time": "2022-04-02T18:30:02.456Z"
   },
   {
    "duration": 383,
    "start_time": "2022-04-02T18:30:02.463Z"
   },
   {
    "duration": 5,
    "start_time": "2022-04-02T18:30:02.848Z"
   },
   {
    "duration": 346,
    "start_time": "2022-04-02T18:30:02.855Z"
   },
   {
    "duration": 4,
    "start_time": "2022-04-02T18:30:03.203Z"
   },
   {
    "duration": 6,
    "start_time": "2022-04-02T18:30:03.209Z"
   },
   {
    "duration": 4,
    "start_time": "2022-04-02T18:30:03.232Z"
   },
   {
    "duration": 7,
    "start_time": "2022-04-02T18:30:03.238Z"
   },
   {
    "duration": 11,
    "start_time": "2022-04-02T18:30:03.247Z"
   },
   {
    "duration": 11,
    "start_time": "2022-04-02T18:30:03.259Z"
   },
   {
    "duration": 12,
    "start_time": "2022-04-02T18:30:03.272Z"
   },
   {
    "duration": 7,
    "start_time": "2022-04-02T18:30:03.285Z"
   },
   {
    "duration": 44,
    "start_time": "2022-04-02T18:30:03.294Z"
   },
   {
    "duration": 8,
    "start_time": "2022-04-02T18:30:03.340Z"
   },
   {
    "duration": 7,
    "start_time": "2022-04-02T18:30:03.351Z"
   },
   {
    "duration": 7,
    "start_time": "2022-04-02T18:30:03.360Z"
   },
   {
    "duration": 4,
    "start_time": "2022-04-02T18:30:03.369Z"
   },
   {
    "duration": 22,
    "start_time": "2022-04-02T18:30:03.375Z"
   },
   {
    "duration": 40,
    "start_time": "2022-04-02T18:30:03.399Z"
   },
   {
    "duration": 6,
    "start_time": "2022-04-02T18:30:03.440Z"
   },
   {
    "duration": 11,
    "start_time": "2022-04-02T18:30:03.447Z"
   },
   {
    "duration": 6,
    "start_time": "2022-04-02T18:30:03.459Z"
   },
   {
    "duration": 1676,
    "start_time": "2022-04-02T18:31:20.532Z"
   },
   {
    "duration": 54,
    "start_time": "2022-04-02T18:31:22.210Z"
   },
   {
    "duration": 16,
    "start_time": "2022-04-02T18:31:22.266Z"
   },
   {
    "duration": 14,
    "start_time": "2022-04-02T18:31:22.284Z"
   },
   {
    "duration": 37,
    "start_time": "2022-04-02T18:31:22.299Z"
   },
   {
    "duration": 13,
    "start_time": "2022-04-02T18:31:22.337Z"
   },
   {
    "duration": 203,
    "start_time": "2022-04-02T18:31:22.351Z"
   },
   {
    "duration": 5,
    "start_time": "2022-04-02T18:31:22.556Z"
   },
   {
    "duration": 191,
    "start_time": "2022-04-02T18:31:22.562Z"
   },
   {
    "duration": 4,
    "start_time": "2022-04-02T18:31:22.756Z"
   },
   {
    "duration": 194,
    "start_time": "2022-04-02T18:31:22.762Z"
   },
   {
    "duration": 5,
    "start_time": "2022-04-02T18:31:22.958Z"
   },
   {
    "duration": 284,
    "start_time": "2022-04-02T18:31:22.965Z"
   },
   {
    "duration": 5,
    "start_time": "2022-04-02T18:31:23.251Z"
   },
   {
    "duration": 190,
    "start_time": "2022-04-02T18:31:23.257Z"
   },
   {
    "duration": 5,
    "start_time": "2022-04-02T18:31:23.448Z"
   },
   {
    "duration": 190,
    "start_time": "2022-04-02T18:31:23.455Z"
   },
   {
    "duration": 4,
    "start_time": "2022-04-02T18:31:23.647Z"
   },
   {
    "duration": 9,
    "start_time": "2022-04-02T18:31:23.653Z"
   },
   {
    "duration": 6,
    "start_time": "2022-04-02T18:31:23.664Z"
   },
   {
    "duration": 8,
    "start_time": "2022-04-02T18:31:23.671Z"
   },
   {
    "duration": 13,
    "start_time": "2022-04-02T18:31:23.680Z"
   },
   {
    "duration": 113,
    "start_time": "2022-04-02T18:31:23.694Z"
   },
   {
    "duration": 11,
    "start_time": "2022-04-02T18:31:23.809Z"
   },
   {
    "duration": 7,
    "start_time": "2022-04-02T18:31:23.833Z"
   },
   {
    "duration": 12,
    "start_time": "2022-04-02T18:31:23.842Z"
   },
   {
    "duration": 9,
    "start_time": "2022-04-02T18:31:23.855Z"
   },
   {
    "duration": 8,
    "start_time": "2022-04-02T18:31:23.867Z"
   },
   {
    "duration": 7,
    "start_time": "2022-04-02T18:31:23.877Z"
   },
   {
    "duration": 3,
    "start_time": "2022-04-02T18:31:23.886Z"
   },
   {
    "duration": 51,
    "start_time": "2022-04-02T18:31:23.890Z"
   },
   {
    "duration": 10,
    "start_time": "2022-04-02T18:31:23.942Z"
   },
   {
    "duration": 7,
    "start_time": "2022-04-02T18:31:23.954Z"
   },
   {
    "duration": 14,
    "start_time": "2022-04-02T18:31:23.962Z"
   },
   {
    "duration": 6,
    "start_time": "2022-04-02T18:31:23.977Z"
   },
   {
    "duration": 1461,
    "start_time": "2022-04-02T18:37:54.033Z"
   },
   {
    "duration": 56,
    "start_time": "2022-04-02T18:37:55.496Z"
   },
   {
    "duration": 17,
    "start_time": "2022-04-02T18:37:55.554Z"
   },
   {
    "duration": 15,
    "start_time": "2022-04-02T18:37:55.574Z"
   },
   {
    "duration": 7,
    "start_time": "2022-04-02T18:37:55.591Z"
   },
   {
    "duration": 43,
    "start_time": "2022-04-02T18:37:55.600Z"
   },
   {
    "duration": 231,
    "start_time": "2022-04-02T18:37:55.644Z"
   },
   {
    "duration": 6,
    "start_time": "2022-04-02T18:37:55.877Z"
   },
   {
    "duration": 209,
    "start_time": "2022-04-02T18:37:55.885Z"
   },
   {
    "duration": 5,
    "start_time": "2022-04-02T18:37:56.097Z"
   },
   {
    "duration": 214,
    "start_time": "2022-04-02T18:37:56.104Z"
   },
   {
    "duration": 4,
    "start_time": "2022-04-02T18:37:56.320Z"
   },
   {
    "duration": 281,
    "start_time": "2022-04-02T18:37:56.333Z"
   },
   {
    "duration": 4,
    "start_time": "2022-04-02T18:37:56.616Z"
   },
   {
    "duration": 214,
    "start_time": "2022-04-02T18:37:56.622Z"
   },
   {
    "duration": 9,
    "start_time": "2022-04-02T18:37:56.838Z"
   },
   {
    "duration": 252,
    "start_time": "2022-04-02T18:37:56.851Z"
   },
   {
    "duration": 6,
    "start_time": "2022-04-02T18:37:57.106Z"
   },
   {
    "duration": 27,
    "start_time": "2022-04-02T18:37:57.114Z"
   },
   {
    "duration": 39,
    "start_time": "2022-04-02T18:37:57.147Z"
   },
   {
    "duration": 30,
    "start_time": "2022-04-02T18:37:57.189Z"
   },
   {
    "duration": 87,
    "start_time": "2022-04-02T18:37:57.221Z"
   },
   {
    "duration": 155,
    "start_time": "2022-04-02T18:37:57.310Z"
   },
   {
    "duration": 21,
    "start_time": "2022-04-02T18:37:57.467Z"
   },
   {
    "duration": 23,
    "start_time": "2022-04-02T18:37:57.494Z"
   },
   {
    "duration": 55,
    "start_time": "2022-04-02T18:37:57.520Z"
   },
   {
    "duration": 16,
    "start_time": "2022-04-02T18:37:57.584Z"
   },
   {
    "duration": 22,
    "start_time": "2022-04-02T18:37:57.605Z"
   },
   {
    "duration": 10,
    "start_time": "2022-04-02T18:37:57.629Z"
   },
   {
    "duration": 19,
    "start_time": "2022-04-02T18:37:57.641Z"
   },
   {
    "duration": 37,
    "start_time": "2022-04-02T18:37:57.663Z"
   },
   {
    "duration": 52,
    "start_time": "2022-04-02T18:37:57.702Z"
   },
   {
    "duration": 45,
    "start_time": "2022-04-02T18:37:57.756Z"
   },
   {
    "duration": 90,
    "start_time": "2022-04-02T18:37:57.804Z"
   },
   {
    "duration": 38,
    "start_time": "2022-04-02T18:37:57.903Z"
   },
   {
    "duration": 391779,
    "start_time": "2022-04-02T18:37:57.944Z"
   },
   {
    "duration": 0,
    "start_time": "2022-04-02T18:44:29.725Z"
   },
   {
    "duration": 0,
    "start_time": "2022-04-02T18:44:29.725Z"
   },
   {
    "duration": 0,
    "start_time": "2022-04-02T18:44:29.726Z"
   },
   {
    "duration": 0,
    "start_time": "2022-04-02T18:44:29.727Z"
   },
   {
    "duration": 0,
    "start_time": "2022-04-02T18:44:29.728Z"
   },
   {
    "duration": 0,
    "start_time": "2022-04-02T18:44:29.728Z"
   },
   {
    "duration": 0,
    "start_time": "2022-04-02T18:44:29.729Z"
   },
   {
    "duration": 0,
    "start_time": "2022-04-02T18:44:29.733Z"
   },
   {
    "duration": 18,
    "start_time": "2022-04-02T18:44:52.550Z"
   },
   {
    "duration": 20,
    "start_time": "2022-04-02T18:44:53.431Z"
   },
   {
    "duration": 18,
    "start_time": "2022-04-02T18:45:25.665Z"
   },
   {
    "duration": 18,
    "start_time": "2022-04-02T18:45:30.953Z"
   },
   {
    "duration": 1411,
    "start_time": "2022-04-02T18:45:36.330Z"
   },
   {
    "duration": 39,
    "start_time": "2022-04-02T18:45:37.743Z"
   },
   {
    "duration": 16,
    "start_time": "2022-04-02T18:45:37.783Z"
   },
   {
    "duration": 35,
    "start_time": "2022-04-02T18:45:37.800Z"
   },
   {
    "duration": 7,
    "start_time": "2022-04-02T18:45:37.837Z"
   },
   {
    "duration": 11,
    "start_time": "2022-04-02T18:45:37.846Z"
   },
   {
    "duration": 211,
    "start_time": "2022-04-02T18:45:37.859Z"
   },
   {
    "duration": 5,
    "start_time": "2022-04-02T18:45:38.072Z"
   },
   {
    "duration": 197,
    "start_time": "2022-04-02T18:45:38.078Z"
   },
   {
    "duration": 5,
    "start_time": "2022-04-02T18:45:38.277Z"
   },
   {
    "duration": 186,
    "start_time": "2022-04-02T18:45:38.284Z"
   },
   {
    "duration": 5,
    "start_time": "2022-04-02T18:45:38.471Z"
   },
   {
    "duration": 238,
    "start_time": "2022-04-02T18:45:38.478Z"
   },
   {
    "duration": 15,
    "start_time": "2022-04-02T18:45:38.720Z"
   },
   {
    "duration": 186,
    "start_time": "2022-04-02T18:45:38.736Z"
   },
   {
    "duration": 11,
    "start_time": "2022-04-02T18:45:38.924Z"
   },
   {
    "duration": 177,
    "start_time": "2022-04-02T18:45:38.936Z"
   },
   {
    "duration": 5,
    "start_time": "2022-04-02T18:45:39.114Z"
   },
   {
    "duration": 15,
    "start_time": "2022-04-02T18:45:39.121Z"
   },
   {
    "duration": 6,
    "start_time": "2022-04-02T18:45:39.138Z"
   },
   {
    "duration": 6,
    "start_time": "2022-04-02T18:45:39.145Z"
   },
   {
    "duration": 11,
    "start_time": "2022-04-02T18:45:39.153Z"
   },
   {
    "duration": 118,
    "start_time": "2022-04-02T18:45:39.165Z"
   },
   {
    "duration": 11,
    "start_time": "2022-04-02T18:45:39.285Z"
   },
   {
    "duration": 7,
    "start_time": "2022-04-02T18:45:39.298Z"
   },
   {
    "duration": 29,
    "start_time": "2022-04-02T18:45:39.306Z"
   },
   {
    "duration": 8,
    "start_time": "2022-04-02T18:45:39.337Z"
   },
   {
    "duration": 9,
    "start_time": "2022-04-02T18:45:39.346Z"
   },
   {
    "duration": 7,
    "start_time": "2022-04-02T18:45:39.357Z"
   },
   {
    "duration": 2,
    "start_time": "2022-04-02T18:45:39.366Z"
   },
   {
    "duration": 154,
    "start_time": "2022-04-02T18:45:39.369Z"
   },
   {
    "duration": 0,
    "start_time": "2022-04-02T18:45:39.524Z"
   },
   {
    "duration": 0,
    "start_time": "2022-04-02T18:45:39.525Z"
   },
   {
    "duration": 0,
    "start_time": "2022-04-02T18:45:39.526Z"
   },
   {
    "duration": 0,
    "start_time": "2022-04-02T18:45:39.526Z"
   },
   {
    "duration": 0,
    "start_time": "2022-04-02T18:45:39.527Z"
   },
   {
    "duration": 0,
    "start_time": "2022-04-02T18:45:39.527Z"
   },
   {
    "duration": 0,
    "start_time": "2022-04-02T18:45:39.532Z"
   },
   {
    "duration": 0,
    "start_time": "2022-04-02T18:45:39.534Z"
   },
   {
    "duration": 0,
    "start_time": "2022-04-02T18:45:39.535Z"
   },
   {
    "duration": 0,
    "start_time": "2022-04-02T18:45:39.535Z"
   },
   {
    "duration": 0,
    "start_time": "2022-04-02T18:45:39.536Z"
   },
   {
    "duration": 1405,
    "start_time": "2022-04-02T18:46:22.658Z"
   },
   {
    "duration": 38,
    "start_time": "2022-04-02T18:46:24.066Z"
   },
   {
    "duration": 28,
    "start_time": "2022-04-02T18:46:24.106Z"
   },
   {
    "duration": 13,
    "start_time": "2022-04-02T18:46:24.136Z"
   },
   {
    "duration": 7,
    "start_time": "2022-04-02T18:46:24.153Z"
   },
   {
    "duration": 13,
    "start_time": "2022-04-02T18:46:24.162Z"
   },
   {
    "duration": 217,
    "start_time": "2022-04-02T18:46:24.176Z"
   },
   {
    "duration": 6,
    "start_time": "2022-04-02T18:46:24.395Z"
   },
   {
    "duration": 194,
    "start_time": "2022-04-02T18:46:24.403Z"
   },
   {
    "duration": 6,
    "start_time": "2022-04-02T18:46:24.598Z"
   },
   {
    "duration": 184,
    "start_time": "2022-04-02T18:46:24.605Z"
   },
   {
    "duration": 5,
    "start_time": "2022-04-02T18:46:24.790Z"
   },
   {
    "duration": 280,
    "start_time": "2022-04-02T18:46:24.797Z"
   },
   {
    "duration": 7,
    "start_time": "2022-04-02T18:46:25.082Z"
   },
   {
    "duration": 181,
    "start_time": "2022-04-02T18:46:25.090Z"
   },
   {
    "duration": 5,
    "start_time": "2022-04-02T18:46:25.272Z"
   },
   {
    "duration": 184,
    "start_time": "2022-04-02T18:46:25.279Z"
   },
   {
    "duration": 4,
    "start_time": "2022-04-02T18:46:25.465Z"
   },
   {
    "duration": 7,
    "start_time": "2022-04-02T18:46:25.471Z"
   },
   {
    "duration": 6,
    "start_time": "2022-04-02T18:46:25.479Z"
   },
   {
    "duration": 6,
    "start_time": "2022-04-02T18:46:25.486Z"
   },
   {
    "duration": 12,
    "start_time": "2022-04-02T18:46:25.493Z"
   },
   {
    "duration": 88,
    "start_time": "2022-04-02T18:46:25.533Z"
   },
   {
    "duration": 19,
    "start_time": "2022-04-02T18:46:25.623Z"
   },
   {
    "duration": 7,
    "start_time": "2022-04-02T18:46:25.643Z"
   },
   {
    "duration": 11,
    "start_time": "2022-04-02T18:46:25.652Z"
   },
   {
    "duration": 8,
    "start_time": "2022-04-02T18:46:25.665Z"
   },
   {
    "duration": 7,
    "start_time": "2022-04-02T18:46:25.675Z"
   },
   {
    "duration": 10,
    "start_time": "2022-04-02T18:46:25.684Z"
   },
   {
    "duration": 3,
    "start_time": "2022-04-02T18:46:25.733Z"
   },
   {
    "duration": 121,
    "start_time": "2022-04-02T18:46:25.737Z"
   },
   {
    "duration": 0,
    "start_time": "2022-04-02T18:46:25.860Z"
   },
   {
    "duration": 0,
    "start_time": "2022-04-02T18:46:25.861Z"
   },
   {
    "duration": 0,
    "start_time": "2022-04-02T18:46:25.862Z"
   },
   {
    "duration": 0,
    "start_time": "2022-04-02T18:46:25.863Z"
   },
   {
    "duration": 0,
    "start_time": "2022-04-02T18:46:25.864Z"
   },
   {
    "duration": 0,
    "start_time": "2022-04-02T18:46:25.865Z"
   },
   {
    "duration": 0,
    "start_time": "2022-04-02T18:46:25.866Z"
   },
   {
    "duration": 0,
    "start_time": "2022-04-02T18:46:25.867Z"
   },
   {
    "duration": 0,
    "start_time": "2022-04-02T18:46:25.868Z"
   },
   {
    "duration": 0,
    "start_time": "2022-04-02T18:46:25.869Z"
   },
   {
    "duration": 0,
    "start_time": "2022-04-02T18:46:25.870Z"
   },
   {
    "duration": 8,
    "start_time": "2022-04-02T18:46:52.966Z"
   },
   {
    "duration": 8,
    "start_time": "2022-04-02T18:46:56.194Z"
   },
   {
    "duration": 7,
    "start_time": "2022-04-02T18:46:58.199Z"
   },
   {
    "duration": 18,
    "start_time": "2022-04-02T18:47:00.920Z"
   },
   {
    "duration": 18,
    "start_time": "2022-04-02T18:47:04.639Z"
   },
   {
    "duration": 5,
    "start_time": "2022-04-02T18:49:37.564Z"
   },
   {
    "duration": 5,
    "start_time": "2022-04-02T18:49:39.331Z"
   },
   {
    "duration": 13,
    "start_time": "2022-04-02T18:49:40.010Z"
   },
   {
    "duration": 11,
    "start_time": "2022-04-02T18:49:40.647Z"
   },
   {
    "duration": 12,
    "start_time": "2022-04-02T18:49:41.141Z"
   },
   {
    "duration": 7,
    "start_time": "2022-04-02T18:49:41.669Z"
   },
   {
    "duration": 9,
    "start_time": "2022-04-02T18:49:42.359Z"
   },
   {
    "duration": 8,
    "start_time": "2022-04-02T18:49:43.202Z"
   },
   {
    "duration": 7,
    "start_time": "2022-04-02T18:49:44.097Z"
   },
   {
    "duration": 7,
    "start_time": "2022-04-02T18:49:45.137Z"
   },
   {
    "duration": 3,
    "start_time": "2022-04-02T18:49:45.997Z"
   },
   {
    "duration": 18,
    "start_time": "2022-04-02T18:49:46.775Z"
   },
   {
    "duration": 18,
    "start_time": "2022-04-02T18:49:49.656Z"
   },
   {
    "duration": 12,
    "start_time": "2022-04-02T18:50:16.463Z"
   },
   {
    "duration": 20,
    "start_time": "2022-04-02T18:50:18.541Z"
   },
   {
    "duration": 13,
    "start_time": "2022-04-02T18:50:19.053Z"
   },
   {
    "duration": 22,
    "start_time": "2022-04-02T18:50:20.209Z"
   },
   {
    "duration": 8,
    "start_time": "2022-04-02T18:51:40.299Z"
   },
   {
    "duration": 3,
    "start_time": "2022-04-02T18:51:41.151Z"
   },
   {
    "duration": 18,
    "start_time": "2022-04-02T18:51:42.403Z"
   },
   {
    "duration": 1413,
    "start_time": "2022-04-02T18:51:50.323Z"
   },
   {
    "duration": 39,
    "start_time": "2022-04-02T18:51:51.738Z"
   },
   {
    "duration": 16,
    "start_time": "2022-04-02T18:51:51.779Z"
   },
   {
    "duration": 13,
    "start_time": "2022-04-02T18:51:51.797Z"
   },
   {
    "duration": 8,
    "start_time": "2022-04-02T18:51:51.832Z"
   },
   {
    "duration": 11,
    "start_time": "2022-04-02T18:51:51.842Z"
   },
   {
    "duration": 202,
    "start_time": "2022-04-02T18:51:51.855Z"
   },
   {
    "duration": 5,
    "start_time": "2022-04-02T18:51:52.058Z"
   },
   {
    "duration": 181,
    "start_time": "2022-04-02T18:51:52.065Z"
   },
   {
    "duration": 5,
    "start_time": "2022-04-02T18:51:52.247Z"
   },
   {
    "duration": 186,
    "start_time": "2022-04-02T18:51:52.253Z"
   },
   {
    "duration": 5,
    "start_time": "2022-04-02T18:51:52.441Z"
   },
   {
    "duration": 265,
    "start_time": "2022-04-02T18:51:52.448Z"
   },
   {
    "duration": 6,
    "start_time": "2022-04-02T18:51:52.718Z"
   },
   {
    "duration": 183,
    "start_time": "2022-04-02T18:51:52.733Z"
   },
   {
    "duration": 4,
    "start_time": "2022-04-02T18:51:52.918Z"
   },
   {
    "duration": 178,
    "start_time": "2022-04-02T18:51:52.933Z"
   },
   {
    "duration": 6,
    "start_time": "2022-04-02T18:51:53.113Z"
   },
   {
    "duration": 7,
    "start_time": "2022-04-02T18:51:53.132Z"
   },
   {
    "duration": 6,
    "start_time": "2022-04-02T18:51:53.141Z"
   },
   {
    "duration": 6,
    "start_time": "2022-04-02T18:51:53.149Z"
   },
   {
    "duration": 11,
    "start_time": "2022-04-02T18:51:53.157Z"
   },
   {
    "duration": 112,
    "start_time": "2022-04-02T18:51:53.170Z"
   },
   {
    "duration": 11,
    "start_time": "2022-04-02T18:51:53.284Z"
   },
   {
    "duration": 6,
    "start_time": "2022-04-02T18:51:53.297Z"
   },
   {
    "duration": 11,
    "start_time": "2022-04-02T18:51:53.305Z"
   },
   {
    "duration": 8,
    "start_time": "2022-04-02T18:51:53.333Z"
   },
   {
    "duration": 7,
    "start_time": "2022-04-02T18:51:53.343Z"
   },
   {
    "duration": 7,
    "start_time": "2022-04-02T18:51:53.351Z"
   },
   {
    "duration": 3,
    "start_time": "2022-04-02T18:51:53.360Z"
   },
   {
    "duration": 144,
    "start_time": "2022-04-02T18:51:53.364Z"
   },
   {
    "duration": 0,
    "start_time": "2022-04-02T18:51:53.510Z"
   },
   {
    "duration": 0,
    "start_time": "2022-04-02T18:51:53.512Z"
   },
   {
    "duration": 0,
    "start_time": "2022-04-02T18:51:53.512Z"
   },
   {
    "duration": 0,
    "start_time": "2022-04-02T18:51:53.514Z"
   },
   {
    "duration": 0,
    "start_time": "2022-04-02T18:51:53.514Z"
   },
   {
    "duration": 0,
    "start_time": "2022-04-02T18:51:53.515Z"
   },
   {
    "duration": 0,
    "start_time": "2022-04-02T18:51:53.516Z"
   },
   {
    "duration": 0,
    "start_time": "2022-04-02T18:51:53.533Z"
   },
   {
    "duration": 0,
    "start_time": "2022-04-02T18:51:53.534Z"
   },
   {
    "duration": 0,
    "start_time": "2022-04-02T18:51:53.535Z"
   },
   {
    "duration": 1411,
    "start_time": "2022-04-02T18:52:19.407Z"
   },
   {
    "duration": 39,
    "start_time": "2022-04-02T18:52:20.820Z"
   },
   {
    "duration": 16,
    "start_time": "2022-04-02T18:52:20.860Z"
   },
   {
    "duration": 13,
    "start_time": "2022-04-02T18:52:20.878Z"
   },
   {
    "duration": 7,
    "start_time": "2022-04-02T18:52:20.892Z"
   },
   {
    "duration": 40,
    "start_time": "2022-04-02T18:52:20.901Z"
   },
   {
    "duration": 190,
    "start_time": "2022-04-02T18:52:20.942Z"
   },
   {
    "duration": 5,
    "start_time": "2022-04-02T18:52:21.134Z"
   },
   {
    "duration": 180,
    "start_time": "2022-04-02T18:52:21.141Z"
   },
   {
    "duration": 8,
    "start_time": "2022-04-02T18:52:21.324Z"
   },
   {
    "duration": 182,
    "start_time": "2022-04-02T18:52:21.334Z"
   },
   {
    "duration": 5,
    "start_time": "2022-04-02T18:52:21.518Z"
   },
   {
    "duration": 261,
    "start_time": "2022-04-02T18:52:21.533Z"
   },
   {
    "duration": 5,
    "start_time": "2022-04-02T18:52:21.796Z"
   },
   {
    "duration": 183,
    "start_time": "2022-04-02T18:52:21.802Z"
   },
   {
    "duration": 5,
    "start_time": "2022-04-02T18:52:21.986Z"
   },
   {
    "duration": 183,
    "start_time": "2022-04-02T18:52:21.993Z"
   },
   {
    "duration": 5,
    "start_time": "2022-04-02T18:52:22.178Z"
   },
   {
    "duration": 9,
    "start_time": "2022-04-02T18:52:22.184Z"
   },
   {
    "duration": 7,
    "start_time": "2022-04-02T18:52:22.195Z"
   },
   {
    "duration": 9,
    "start_time": "2022-04-02T18:52:22.204Z"
   },
   {
    "duration": 29,
    "start_time": "2022-04-02T18:52:22.214Z"
   },
   {
    "duration": 100,
    "start_time": "2022-04-02T18:52:22.245Z"
   },
   {
    "duration": 13,
    "start_time": "2022-04-02T18:52:22.347Z"
   },
   {
    "duration": 7,
    "start_time": "2022-04-02T18:52:22.362Z"
   },
   {
    "duration": 11,
    "start_time": "2022-04-02T18:52:22.370Z"
   },
   {
    "duration": 8,
    "start_time": "2022-04-02T18:52:22.383Z"
   },
   {
    "duration": 8,
    "start_time": "2022-04-02T18:52:22.394Z"
   },
   {
    "duration": 29,
    "start_time": "2022-04-02T18:52:22.404Z"
   },
   {
    "duration": 120,
    "start_time": "2022-04-02T18:52:22.435Z"
   },
   {
    "duration": 0,
    "start_time": "2022-04-02T18:52:22.557Z"
   },
   {
    "duration": 0,
    "start_time": "2022-04-02T18:52:22.558Z"
   },
   {
    "duration": 0,
    "start_time": "2022-04-02T18:52:22.559Z"
   },
   {
    "duration": 0,
    "start_time": "2022-04-02T18:52:22.560Z"
   },
   {
    "duration": 0,
    "start_time": "2022-04-02T18:52:22.561Z"
   },
   {
    "duration": 0,
    "start_time": "2022-04-02T18:52:22.562Z"
   },
   {
    "duration": 0,
    "start_time": "2022-04-02T18:52:22.563Z"
   },
   {
    "duration": 0,
    "start_time": "2022-04-02T18:52:22.564Z"
   },
   {
    "duration": 0,
    "start_time": "2022-04-02T18:52:22.565Z"
   },
   {
    "duration": 0,
    "start_time": "2022-04-02T18:52:22.566Z"
   },
   {
    "duration": 5,
    "start_time": "2022-04-02T18:53:15.658Z"
   },
   {
    "duration": 4,
    "start_time": "2022-04-02T18:53:26.738Z"
   },
   {
    "duration": 9,
    "start_time": "2022-04-02T18:54:29.627Z"
   },
   {
    "duration": 9,
    "start_time": "2022-04-02T18:54:46.144Z"
   },
   {
    "duration": 8,
    "start_time": "2022-04-02T18:54:58.865Z"
   },
   {
    "duration": 3,
    "start_time": "2022-04-02T18:55:01.086Z"
   },
   {
    "duration": 20,
    "start_time": "2022-04-02T18:55:01.826Z"
   },
   {
    "duration": 3950,
    "start_time": "2022-04-03T13:55:30.396Z"
   },
   {
    "duration": 40,
    "start_time": "2022-04-03T13:55:34.348Z"
   },
   {
    "duration": 29,
    "start_time": "2022-04-03T13:55:34.390Z"
   },
   {
    "duration": 15,
    "start_time": "2022-04-03T13:55:34.422Z"
   },
   {
    "duration": 7,
    "start_time": "2022-04-03T13:55:34.439Z"
   },
   {
    "duration": 12,
    "start_time": "2022-04-03T13:55:34.448Z"
   },
   {
    "duration": 228,
    "start_time": "2022-04-03T13:55:34.462Z"
   },
   {
    "duration": 16,
    "start_time": "2022-04-03T13:55:34.693Z"
   },
   {
    "duration": 193,
    "start_time": "2022-04-03T13:55:34.711Z"
   },
   {
    "duration": 5,
    "start_time": "2022-04-03T13:55:34.911Z"
   },
   {
    "duration": 211,
    "start_time": "2022-04-03T13:55:34.917Z"
   },
   {
    "duration": 4,
    "start_time": "2022-04-03T13:55:35.130Z"
   },
   {
    "duration": 261,
    "start_time": "2022-04-03T13:55:35.136Z"
   },
   {
    "duration": 12,
    "start_time": "2022-04-03T13:55:35.398Z"
   },
   {
    "duration": 223,
    "start_time": "2022-04-03T13:55:35.412Z"
   },
   {
    "duration": 4,
    "start_time": "2022-04-03T13:55:35.637Z"
   },
   {
    "duration": 200,
    "start_time": "2022-04-03T13:55:35.643Z"
   },
   {
    "duration": 5,
    "start_time": "2022-04-03T13:55:35.845Z"
   },
   {
    "duration": 7,
    "start_time": "2022-04-03T13:55:35.852Z"
   },
   {
    "duration": 5,
    "start_time": "2022-04-03T13:55:35.861Z"
   },
   {
    "duration": 8,
    "start_time": "2022-04-03T13:55:35.868Z"
   },
   {
    "duration": 41,
    "start_time": "2022-04-03T13:55:35.878Z"
   },
   {
    "duration": 92,
    "start_time": "2022-04-03T13:55:35.921Z"
   },
   {
    "duration": 10,
    "start_time": "2022-04-03T13:55:36.015Z"
   },
   {
    "duration": 7,
    "start_time": "2022-04-03T13:55:36.027Z"
   },
   {
    "duration": 13,
    "start_time": "2022-04-03T13:55:36.036Z"
   },
   {
    "duration": 9,
    "start_time": "2022-04-03T13:55:36.052Z"
   },
   {
    "duration": 15,
    "start_time": "2022-04-03T13:55:36.064Z"
   },
   {
    "duration": 35,
    "start_time": "2022-04-03T13:55:36.081Z"
   },
   {
    "duration": 5,
    "start_time": "2022-04-03T13:55:36.118Z"
   },
   {
    "duration": 146,
    "start_time": "2022-04-03T13:55:36.125Z"
   },
   {
    "duration": 0,
    "start_time": "2022-04-03T13:55:36.273Z"
   },
   {
    "duration": 0,
    "start_time": "2022-04-03T13:55:36.274Z"
   },
   {
    "duration": 0,
    "start_time": "2022-04-03T13:55:36.276Z"
   },
   {
    "duration": 0,
    "start_time": "2022-04-03T13:55:36.277Z"
   },
   {
    "duration": 0,
    "start_time": "2022-04-03T13:55:36.279Z"
   },
   {
    "duration": 0,
    "start_time": "2022-04-03T13:55:36.280Z"
   },
   {
    "duration": 0,
    "start_time": "2022-04-03T13:55:36.282Z"
   },
   {
    "duration": 0,
    "start_time": "2022-04-03T13:55:36.283Z"
   },
   {
    "duration": 0,
    "start_time": "2022-04-03T13:55:36.285Z"
   },
   {
    "duration": 0,
    "start_time": "2022-04-03T13:55:36.286Z"
   },
   {
    "duration": 125,
    "start_time": "2022-04-04T08:18:25.286Z"
   },
   {
    "duration": 68,
    "start_time": "2022-04-04T08:18:45.291Z"
   },
   {
    "duration": 2697,
    "start_time": "2022-04-04T08:18:51.620Z"
   },
   {
    "duration": 61,
    "start_time": "2022-04-04T08:18:54.321Z"
   },
   {
    "duration": 175,
    "start_time": "2022-04-04T08:18:54.385Z"
   },
   {
    "duration": 0,
    "start_time": "2022-04-04T08:18:54.564Z"
   },
   {
    "duration": 0,
    "start_time": "2022-04-04T08:18:54.575Z"
   },
   {
    "duration": 0,
    "start_time": "2022-04-04T08:18:54.577Z"
   },
   {
    "duration": 0,
    "start_time": "2022-04-04T08:18:54.578Z"
   },
   {
    "duration": 0,
    "start_time": "2022-04-04T08:18:54.580Z"
   },
   {
    "duration": 0,
    "start_time": "2022-04-04T08:18:54.582Z"
   },
   {
    "duration": 0,
    "start_time": "2022-04-04T08:18:54.583Z"
   },
   {
    "duration": 0,
    "start_time": "2022-04-04T08:18:54.585Z"
   },
   {
    "duration": 0,
    "start_time": "2022-04-04T08:18:54.587Z"
   },
   {
    "duration": 0,
    "start_time": "2022-04-04T08:18:54.588Z"
   },
   {
    "duration": 0,
    "start_time": "2022-04-04T08:18:54.590Z"
   },
   {
    "duration": 0,
    "start_time": "2022-04-04T08:18:54.591Z"
   },
   {
    "duration": 0,
    "start_time": "2022-04-04T08:18:54.592Z"
   },
   {
    "duration": 0,
    "start_time": "2022-04-04T08:18:54.594Z"
   },
   {
    "duration": 0,
    "start_time": "2022-04-04T08:18:54.596Z"
   },
   {
    "duration": 0,
    "start_time": "2022-04-04T08:18:54.598Z"
   },
   {
    "duration": 0,
    "start_time": "2022-04-04T08:18:54.600Z"
   },
   {
    "duration": 0,
    "start_time": "2022-04-04T08:18:54.603Z"
   },
   {
    "duration": 0,
    "start_time": "2022-04-04T08:18:54.605Z"
   },
   {
    "duration": 0,
    "start_time": "2022-04-04T08:18:54.606Z"
   },
   {
    "duration": 0,
    "start_time": "2022-04-04T08:18:54.608Z"
   },
   {
    "duration": 0,
    "start_time": "2022-04-04T08:18:54.609Z"
   },
   {
    "duration": 0,
    "start_time": "2022-04-04T08:18:54.610Z"
   },
   {
    "duration": 0,
    "start_time": "2022-04-04T08:18:54.612Z"
   },
   {
    "duration": 0,
    "start_time": "2022-04-04T08:18:54.614Z"
   },
   {
    "duration": 1,
    "start_time": "2022-04-04T08:18:54.615Z"
   },
   {
    "duration": 0,
    "start_time": "2022-04-04T08:18:54.618Z"
   },
   {
    "duration": 0,
    "start_time": "2022-04-04T08:18:54.620Z"
   },
   {
    "duration": 0,
    "start_time": "2022-04-04T08:18:54.674Z"
   },
   {
    "duration": 0,
    "start_time": "2022-04-04T08:18:54.677Z"
   },
   {
    "duration": 0,
    "start_time": "2022-04-04T08:18:54.681Z"
   },
   {
    "duration": 0,
    "start_time": "2022-04-04T08:18:54.683Z"
   },
   {
    "duration": 0,
    "start_time": "2022-04-04T08:18:54.685Z"
   },
   {
    "duration": 0,
    "start_time": "2022-04-04T08:18:54.687Z"
   },
   {
    "duration": 0,
    "start_time": "2022-04-04T08:18:54.689Z"
   },
   {
    "duration": 0,
    "start_time": "2022-04-04T08:18:54.690Z"
   },
   {
    "duration": 0,
    "start_time": "2022-04-04T08:18:54.692Z"
   },
   {
    "duration": 0,
    "start_time": "2022-04-04T08:18:54.693Z"
   },
   {
    "duration": 6,
    "start_time": "2022-04-04T08:23:04.941Z"
   },
   {
    "duration": 37,
    "start_time": "2022-04-04T08:23:11.351Z"
   },
   {
    "duration": 36,
    "start_time": "2022-04-04T08:23:19.532Z"
   },
   {
    "duration": 305,
    "start_time": "2022-04-04T08:31:15.678Z"
   },
   {
    "duration": 7,
    "start_time": "2022-04-04T08:32:05.590Z"
   },
   {
    "duration": 12,
    "start_time": "2022-04-04T08:34:37.263Z"
   },
   {
    "duration": 12,
    "start_time": "2022-04-04T08:34:59.839Z"
   },
   {
    "duration": 19,
    "start_time": "2022-04-04T08:35:37.349Z"
   },
   {
    "duration": 11,
    "start_time": "2022-04-04T08:35:39.737Z"
   },
   {
    "duration": 20,
    "start_time": "2022-04-04T08:36:14.346Z"
   },
   {
    "duration": 1855,
    "start_time": "2022-04-04T08:36:25.550Z"
   },
   {
    "duration": 53,
    "start_time": "2022-04-04T08:36:27.409Z"
   },
   {
    "duration": 39,
    "start_time": "2022-04-04T08:36:27.464Z"
   },
   {
    "duration": 18,
    "start_time": "2022-04-04T08:36:27.506Z"
   },
   {
    "duration": 9,
    "start_time": "2022-04-04T08:36:27.526Z"
   },
   {
    "duration": 193,
    "start_time": "2022-04-04T08:36:27.537Z"
   },
   {
    "duration": 0,
    "start_time": "2022-04-04T08:36:27.734Z"
   },
   {
    "duration": 0,
    "start_time": "2022-04-04T08:36:27.737Z"
   },
   {
    "duration": 0,
    "start_time": "2022-04-04T08:36:27.738Z"
   },
   {
    "duration": 0,
    "start_time": "2022-04-04T08:36:27.740Z"
   },
   {
    "duration": 0,
    "start_time": "2022-04-04T08:36:27.741Z"
   },
   {
    "duration": 0,
    "start_time": "2022-04-04T08:36:27.743Z"
   },
   {
    "duration": 0,
    "start_time": "2022-04-04T08:36:27.744Z"
   },
   {
    "duration": 0,
    "start_time": "2022-04-04T08:36:27.746Z"
   },
   {
    "duration": 0,
    "start_time": "2022-04-04T08:36:27.747Z"
   },
   {
    "duration": 0,
    "start_time": "2022-04-04T08:36:27.749Z"
   },
   {
    "duration": 0,
    "start_time": "2022-04-04T08:36:27.774Z"
   },
   {
    "duration": 0,
    "start_time": "2022-04-04T08:36:27.775Z"
   },
   {
    "duration": 0,
    "start_time": "2022-04-04T08:36:27.777Z"
   },
   {
    "duration": 0,
    "start_time": "2022-04-04T08:36:27.778Z"
   },
   {
    "duration": 0,
    "start_time": "2022-04-04T08:36:27.779Z"
   },
   {
    "duration": 0,
    "start_time": "2022-04-04T08:36:27.780Z"
   },
   {
    "duration": 0,
    "start_time": "2022-04-04T08:36:27.781Z"
   },
   {
    "duration": 0,
    "start_time": "2022-04-04T08:36:27.782Z"
   },
   {
    "duration": 0,
    "start_time": "2022-04-04T08:36:27.783Z"
   },
   {
    "duration": 0,
    "start_time": "2022-04-04T08:36:27.785Z"
   },
   {
    "duration": 0,
    "start_time": "2022-04-04T08:36:27.787Z"
   },
   {
    "duration": 0,
    "start_time": "2022-04-04T08:36:27.788Z"
   },
   {
    "duration": 0,
    "start_time": "2022-04-04T08:36:27.789Z"
   },
   {
    "duration": 0,
    "start_time": "2022-04-04T08:36:27.791Z"
   },
   {
    "duration": 0,
    "start_time": "2022-04-04T08:36:27.792Z"
   },
   {
    "duration": 0,
    "start_time": "2022-04-04T08:36:27.794Z"
   },
   {
    "duration": 0,
    "start_time": "2022-04-04T08:36:27.795Z"
   },
   {
    "duration": 0,
    "start_time": "2022-04-04T08:36:27.797Z"
   },
   {
    "duration": 0,
    "start_time": "2022-04-04T08:36:27.798Z"
   },
   {
    "duration": 0,
    "start_time": "2022-04-04T08:36:27.799Z"
   },
   {
    "duration": 0,
    "start_time": "2022-04-04T08:36:27.801Z"
   },
   {
    "duration": 0,
    "start_time": "2022-04-04T08:36:27.802Z"
   },
   {
    "duration": 1,
    "start_time": "2022-04-04T08:36:27.803Z"
   },
   {
    "duration": 0,
    "start_time": "2022-04-04T08:36:27.805Z"
   },
   {
    "duration": 0,
    "start_time": "2022-04-04T08:36:27.806Z"
   },
   {
    "duration": 11,
    "start_time": "2022-04-04T08:37:29.084Z"
   },
   {
    "duration": 11,
    "start_time": "2022-04-04T08:43:07.040Z"
   },
   {
    "duration": 11,
    "start_time": "2022-04-04T08:45:07.039Z"
   },
   {
    "duration": 2011,
    "start_time": "2022-04-04T08:45:31.463Z"
   },
   {
    "duration": 54,
    "start_time": "2022-04-04T08:45:33.477Z"
   },
   {
    "duration": 46,
    "start_time": "2022-04-04T08:45:33.533Z"
   },
   {
    "duration": 18,
    "start_time": "2022-04-04T08:45:33.582Z"
   },
   {
    "duration": 9,
    "start_time": "2022-04-04T08:45:33.602Z"
   },
   {
    "duration": 8,
    "start_time": "2022-04-04T08:45:33.614Z"
   },
   {
    "duration": 55,
    "start_time": "2022-04-04T08:45:33.625Z"
   },
   {
    "duration": 336,
    "start_time": "2022-04-04T08:45:33.682Z"
   },
   {
    "duration": 8,
    "start_time": "2022-04-04T08:45:34.021Z"
   },
   {
    "duration": 322,
    "start_time": "2022-04-04T08:45:34.034Z"
   },
   {
    "duration": 7,
    "start_time": "2022-04-04T08:45:34.358Z"
   },
   {
    "duration": 314,
    "start_time": "2022-04-04T08:45:34.374Z"
   },
   {
    "duration": 6,
    "start_time": "2022-04-04T08:45:34.690Z"
   },
   {
    "duration": 416,
    "start_time": "2022-04-04T08:45:34.698Z"
   },
   {
    "duration": 7,
    "start_time": "2022-04-04T08:45:35.117Z"
   },
   {
    "duration": 371,
    "start_time": "2022-04-04T08:45:35.127Z"
   },
   {
    "duration": 6,
    "start_time": "2022-04-04T08:45:35.500Z"
   },
   {
    "duration": 334,
    "start_time": "2022-04-04T08:45:35.509Z"
   },
   {
    "duration": 7,
    "start_time": "2022-04-04T08:45:35.845Z"
   },
   {
    "duration": 29,
    "start_time": "2022-04-04T08:45:35.854Z"
   },
   {
    "duration": 346,
    "start_time": "2022-04-04T08:45:35.885Z"
   },
   {
    "duration": 6,
    "start_time": "2022-04-04T08:45:36.234Z"
   },
   {
    "duration": 110,
    "start_time": "2022-04-04T08:45:36.242Z"
   },
   {
    "duration": 161,
    "start_time": "2022-04-04T08:45:36.355Z"
   },
   {
    "duration": 0,
    "start_time": "2022-04-04T08:45:36.519Z"
   },
   {
    "duration": 0,
    "start_time": "2022-04-04T08:45:36.520Z"
   },
   {
    "duration": 0,
    "start_time": "2022-04-04T08:45:36.522Z"
   },
   {
    "duration": 0,
    "start_time": "2022-04-04T08:45:36.523Z"
   },
   {
    "duration": 0,
    "start_time": "2022-04-04T08:45:36.525Z"
   },
   {
    "duration": 1,
    "start_time": "2022-04-04T08:45:36.526Z"
   },
   {
    "duration": 0,
    "start_time": "2022-04-04T08:45:36.528Z"
   },
   {
    "duration": 0,
    "start_time": "2022-04-04T08:45:36.530Z"
   },
   {
    "duration": 0,
    "start_time": "2022-04-04T08:45:36.531Z"
   },
   {
    "duration": 0,
    "start_time": "2022-04-04T08:45:36.532Z"
   },
   {
    "duration": 0,
    "start_time": "2022-04-04T08:45:36.533Z"
   },
   {
    "duration": 0,
    "start_time": "2022-04-04T08:45:36.535Z"
   },
   {
    "duration": 0,
    "start_time": "2022-04-04T08:45:36.537Z"
   },
   {
    "duration": 0,
    "start_time": "2022-04-04T08:45:36.538Z"
   },
   {
    "duration": 0,
    "start_time": "2022-04-04T08:45:36.540Z"
   },
   {
    "duration": 0,
    "start_time": "2022-04-04T08:45:36.574Z"
   },
   {
    "duration": 0,
    "start_time": "2022-04-04T08:45:36.576Z"
   },
   {
    "duration": 26,
    "start_time": "2022-04-04T08:46:38.378Z"
   },
   {
    "duration": 47,
    "start_time": "2022-04-04T08:48:08.271Z"
   },
   {
    "duration": 19,
    "start_time": "2022-04-04T08:48:13.441Z"
   },
   {
    "duration": 23,
    "start_time": "2022-04-04T08:48:21.026Z"
   },
   {
    "duration": 10,
    "start_time": "2022-04-04T08:48:50.762Z"
   },
   {
    "duration": 17,
    "start_time": "2022-04-04T08:53:23.138Z"
   },
   {
    "duration": 25,
    "start_time": "2022-04-04T08:55:01.163Z"
   },
   {
    "duration": 15,
    "start_time": "2022-04-04T08:55:12.519Z"
   },
   {
    "duration": 15,
    "start_time": "2022-04-04T08:55:38.652Z"
   },
   {
    "duration": 13,
    "start_time": "2022-04-04T08:56:05.416Z"
   },
   {
    "duration": 12,
    "start_time": "2022-04-04T08:56:18.123Z"
   },
   {
    "duration": 12,
    "start_time": "2022-04-04T08:56:19.929Z"
   },
   {
    "duration": 4,
    "start_time": "2022-04-04T08:56:22.111Z"
   },
   {
    "duration": 29,
    "start_time": "2022-04-04T08:56:23.556Z"
   },
   {
    "duration": 1885,
    "start_time": "2022-04-04T08:56:39.746Z"
   },
   {
    "duration": 56,
    "start_time": "2022-04-04T08:56:41.634Z"
   },
   {
    "duration": 35,
    "start_time": "2022-04-04T08:56:41.692Z"
   },
   {
    "duration": 18,
    "start_time": "2022-04-04T08:56:41.729Z"
   },
   {
    "duration": 31,
    "start_time": "2022-04-04T08:56:41.750Z"
   },
   {
    "duration": 27,
    "start_time": "2022-04-04T08:56:41.783Z"
   },
   {
    "duration": 11,
    "start_time": "2022-04-04T08:56:41.812Z"
   },
   {
    "duration": 53,
    "start_time": "2022-04-04T08:56:41.825Z"
   },
   {
    "duration": 326,
    "start_time": "2022-04-04T08:56:41.881Z"
   },
   {
    "duration": 6,
    "start_time": "2022-04-04T08:56:42.209Z"
   },
   {
    "duration": 324,
    "start_time": "2022-04-04T08:56:42.218Z"
   },
   {
    "duration": 6,
    "start_time": "2022-04-04T08:56:42.545Z"
   },
   {
    "duration": 334,
    "start_time": "2022-04-04T08:56:42.553Z"
   },
   {
    "duration": 6,
    "start_time": "2022-04-04T08:56:42.891Z"
   },
   {
    "duration": 427,
    "start_time": "2022-04-04T08:56:42.899Z"
   },
   {
    "duration": 7,
    "start_time": "2022-04-04T08:56:43.329Z"
   },
   {
    "duration": 310,
    "start_time": "2022-04-04T08:56:43.338Z"
   },
   {
    "duration": 7,
    "start_time": "2022-04-04T08:56:43.651Z"
   },
   {
    "duration": 311,
    "start_time": "2022-04-04T08:56:43.675Z"
   },
   {
    "duration": 7,
    "start_time": "2022-04-04T08:56:43.989Z"
   },
   {
    "duration": 10,
    "start_time": "2022-04-04T08:56:43.999Z"
   },
   {
    "duration": 345,
    "start_time": "2022-04-04T08:56:44.011Z"
   },
   {
    "duration": 5,
    "start_time": "2022-04-04T08:56:44.358Z"
   },
   {
    "duration": 11,
    "start_time": "2022-04-04T08:56:44.374Z"
   },
   {
    "duration": 101,
    "start_time": "2022-04-04T08:56:44.387Z"
   },
   {
    "duration": 18,
    "start_time": "2022-04-04T08:56:44.490Z"
   },
   {
    "duration": 3,
    "start_time": "2022-04-04T08:56:44.510Z"
   },
   {
    "duration": 20,
    "start_time": "2022-04-04T08:56:44.516Z"
   },
   {
    "duration": 41,
    "start_time": "2022-04-04T08:56:44.539Z"
   },
   {
    "duration": 4,
    "start_time": "2022-04-04T08:56:44.583Z"
   },
   {
    "duration": 197,
    "start_time": "2022-04-04T08:56:44.590Z"
   },
   {
    "duration": 0,
    "start_time": "2022-04-04T08:56:44.790Z"
   },
   {
    "duration": 0,
    "start_time": "2022-04-04T08:56:44.791Z"
   },
   {
    "duration": 0,
    "start_time": "2022-04-04T08:56:44.793Z"
   },
   {
    "duration": 0,
    "start_time": "2022-04-04T08:56:44.794Z"
   },
   {
    "duration": 0,
    "start_time": "2022-04-04T08:56:44.795Z"
   },
   {
    "duration": 0,
    "start_time": "2022-04-04T08:56:44.797Z"
   },
   {
    "duration": 0,
    "start_time": "2022-04-04T08:56:44.799Z"
   },
   {
    "duration": 0,
    "start_time": "2022-04-04T08:56:44.800Z"
   },
   {
    "duration": 0,
    "start_time": "2022-04-04T08:56:44.802Z"
   },
   {
    "duration": 0,
    "start_time": "2022-04-04T08:56:44.803Z"
   },
   {
    "duration": 16,
    "start_time": "2022-04-04T08:57:28.575Z"
   },
   {
    "duration": 28,
    "start_time": "2022-04-04T08:57:33.264Z"
   },
   {
    "duration": 16,
    "start_time": "2022-04-04T08:57:35.120Z"
   },
   {
    "duration": 1826,
    "start_time": "2022-04-04T08:57:45.901Z"
   },
   {
    "duration": 56,
    "start_time": "2022-04-04T08:57:47.730Z"
   },
   {
    "duration": 35,
    "start_time": "2022-04-04T08:57:47.789Z"
   },
   {
    "duration": 18,
    "start_time": "2022-04-04T08:57:47.827Z"
   },
   {
    "duration": 32,
    "start_time": "2022-04-04T08:57:47.847Z"
   },
   {
    "duration": 34,
    "start_time": "2022-04-04T08:57:47.881Z"
   },
   {
    "duration": 14,
    "start_time": "2022-04-04T08:57:47.918Z"
   },
   {
    "duration": 31,
    "start_time": "2022-04-04T08:57:47.934Z"
   },
   {
    "duration": 318,
    "start_time": "2022-04-04T08:57:47.974Z"
   },
   {
    "duration": 6,
    "start_time": "2022-04-04T08:57:48.296Z"
   },
   {
    "duration": 324,
    "start_time": "2022-04-04T08:57:48.305Z"
   },
   {
    "duration": 6,
    "start_time": "2022-04-04T08:57:48.631Z"
   },
   {
    "duration": 329,
    "start_time": "2022-04-04T08:57:48.639Z"
   },
   {
    "duration": 6,
    "start_time": "2022-04-04T08:57:48.974Z"
   },
   {
    "duration": 435,
    "start_time": "2022-04-04T08:57:48.983Z"
   },
   {
    "duration": 6,
    "start_time": "2022-04-04T08:57:49.421Z"
   },
   {
    "duration": 324,
    "start_time": "2022-04-04T08:57:49.429Z"
   },
   {
    "duration": 18,
    "start_time": "2022-04-04T08:57:49.756Z"
   },
   {
    "duration": 311,
    "start_time": "2022-04-04T08:57:49.776Z"
   },
   {
    "duration": 8,
    "start_time": "2022-04-04T08:57:50.089Z"
   },
   {
    "duration": 8,
    "start_time": "2022-04-04T08:57:50.099Z"
   },
   {
    "duration": 332,
    "start_time": "2022-04-04T08:57:50.109Z"
   },
   {
    "duration": 6,
    "start_time": "2022-04-04T08:57:50.443Z"
   },
   {
    "duration": 28,
    "start_time": "2022-04-04T08:57:50.451Z"
   },
   {
    "duration": 99,
    "start_time": "2022-04-04T08:57:50.481Z"
   },
   {
    "duration": 15,
    "start_time": "2022-04-04T08:57:50.582Z"
   },
   {
    "duration": 9,
    "start_time": "2022-04-04T08:57:50.599Z"
   },
   {
    "duration": 11,
    "start_time": "2022-04-04T08:57:50.613Z"
   },
   {
    "duration": 46,
    "start_time": "2022-04-04T08:57:50.627Z"
   },
   {
    "duration": 4,
    "start_time": "2022-04-04T08:57:50.676Z"
   },
   {
    "duration": 211,
    "start_time": "2022-04-04T08:57:50.683Z"
   },
   {
    "duration": 1,
    "start_time": "2022-04-04T08:57:50.897Z"
   },
   {
    "duration": 0,
    "start_time": "2022-04-04T08:57:50.899Z"
   },
   {
    "duration": 0,
    "start_time": "2022-04-04T08:57:50.901Z"
   },
   {
    "duration": 0,
    "start_time": "2022-04-04T08:57:50.904Z"
   },
   {
    "duration": 0,
    "start_time": "2022-04-04T08:57:50.906Z"
   },
   {
    "duration": 0,
    "start_time": "2022-04-04T08:57:50.908Z"
   },
   {
    "duration": 0,
    "start_time": "2022-04-04T08:57:50.910Z"
   },
   {
    "duration": 0,
    "start_time": "2022-04-04T08:57:50.912Z"
   },
   {
    "duration": 0,
    "start_time": "2022-04-04T08:57:50.915Z"
   },
   {
    "duration": 0,
    "start_time": "2022-04-04T08:57:50.917Z"
   },
   {
    "duration": 28,
    "start_time": "2022-04-04T08:59:39.727Z"
   },
   {
    "duration": 16,
    "start_time": "2022-04-04T08:59:44.125Z"
   },
   {
    "duration": 31,
    "start_time": "2022-04-04T08:59:52.137Z"
   },
   {
    "duration": 15,
    "start_time": "2022-04-04T08:59:57.193Z"
   },
   {
    "duration": 27,
    "start_time": "2022-04-04T09:00:00.645Z"
   },
   {
    "duration": 28,
    "start_time": "2022-04-04T09:00:03.885Z"
   },
   {
    "duration": 5,
    "start_time": "2022-04-04T09:03:05.435Z"
   },
   {
    "duration": 46,
    "start_time": "2022-04-04T09:03:36.592Z"
   },
   {
    "duration": 34,
    "start_time": "2022-04-04T09:05:38.372Z"
   },
   {
    "duration": 16,
    "start_time": "2022-04-04T09:06:25.357Z"
   },
   {
    "duration": 9,
    "start_time": "2022-04-04T09:06:40.258Z"
   },
   {
    "duration": 25,
    "start_time": "2022-04-04T09:09:46.053Z"
   },
   {
    "duration": 9,
    "start_time": "2022-04-04T09:10:06.899Z"
   },
   {
    "duration": 11,
    "start_time": "2022-04-04T09:10:28.039Z"
   },
   {
    "duration": 18,
    "start_time": "2022-04-04T09:10:40.835Z"
   },
   {
    "duration": 11,
    "start_time": "2022-04-04T09:29:28.827Z"
   },
   {
    "duration": 87,
    "start_time": "2022-04-04T09:29:49.961Z"
   },
   {
    "duration": 84328,
    "start_time": "2022-04-04T09:29:56.342Z"
   },
   {
    "duration": 6,
    "start_time": "2022-04-04T09:32:35.835Z"
   },
   {
    "duration": 1928,
    "start_time": "2022-04-04T09:32:40.083Z"
   },
   {
    "duration": 52,
    "start_time": "2022-04-04T09:32:42.014Z"
   },
   {
    "duration": 35,
    "start_time": "2022-04-04T09:32:42.073Z"
   },
   {
    "duration": 17,
    "start_time": "2022-04-04T09:32:42.111Z"
   },
   {
    "duration": 9,
    "start_time": "2022-04-04T09:32:42.130Z"
   },
   {
    "duration": 38,
    "start_time": "2022-04-04T09:32:42.141Z"
   },
   {
    "duration": 13,
    "start_time": "2022-04-04T09:32:42.181Z"
   },
   {
    "duration": 19,
    "start_time": "2022-04-04T09:32:42.196Z"
   },
   {
    "duration": 350,
    "start_time": "2022-04-04T09:32:42.217Z"
   },
   {
    "duration": 6,
    "start_time": "2022-04-04T09:32:42.573Z"
   },
   {
    "duration": 321,
    "start_time": "2022-04-04T09:32:42.581Z"
   },
   {
    "duration": 6,
    "start_time": "2022-04-04T09:32:42.905Z"
   },
   {
    "duration": 328,
    "start_time": "2022-04-04T09:32:42.913Z"
   },
   {
    "duration": 7,
    "start_time": "2022-04-04T09:32:43.243Z"
   },
   {
    "duration": 426,
    "start_time": "2022-04-04T09:32:43.252Z"
   },
   {
    "duration": 7,
    "start_time": "2022-04-04T09:32:43.680Z"
   },
   {
    "duration": 416,
    "start_time": "2022-04-04T09:32:43.689Z"
   },
   {
    "duration": 6,
    "start_time": "2022-04-04T09:32:44.107Z"
   },
   {
    "duration": 314,
    "start_time": "2022-04-04T09:32:44.115Z"
   },
   {
    "duration": 7,
    "start_time": "2022-04-04T09:32:44.431Z"
   },
   {
    "duration": 12,
    "start_time": "2022-04-04T09:32:44.439Z"
   },
   {
    "duration": 325,
    "start_time": "2022-04-04T09:32:44.453Z"
   },
   {
    "duration": 7,
    "start_time": "2022-04-04T09:32:44.780Z"
   },
   {
    "duration": 25,
    "start_time": "2022-04-04T09:32:44.789Z"
   },
   {
    "duration": 17,
    "start_time": "2022-04-04T09:32:44.817Z"
   },
   {
    "duration": 15,
    "start_time": "2022-04-04T09:32:44.837Z"
   },
   {
    "duration": 3,
    "start_time": "2022-04-04T09:32:44.874Z"
   },
   {
    "duration": 14,
    "start_time": "2022-04-04T09:32:44.882Z"
   },
   {
    "duration": 10,
    "start_time": "2022-04-04T09:32:44.898Z"
   },
   {
    "duration": 4,
    "start_time": "2022-04-04T09:32:44.910Z"
   },
   {
    "duration": 217,
    "start_time": "2022-04-04T09:32:44.917Z"
   },
   {
    "duration": 0,
    "start_time": "2022-04-04T09:32:45.137Z"
   },
   {
    "duration": 0,
    "start_time": "2022-04-04T09:32:45.140Z"
   },
   {
    "duration": 0,
    "start_time": "2022-04-04T09:32:45.142Z"
   },
   {
    "duration": 0,
    "start_time": "2022-04-04T09:32:45.144Z"
   },
   {
    "duration": 1,
    "start_time": "2022-04-04T09:32:45.146Z"
   },
   {
    "duration": 0,
    "start_time": "2022-04-04T09:32:45.174Z"
   },
   {
    "duration": 0,
    "start_time": "2022-04-04T09:32:45.176Z"
   },
   {
    "duration": 0,
    "start_time": "2022-04-04T09:32:45.178Z"
   },
   {
    "duration": 0,
    "start_time": "2022-04-04T09:32:45.181Z"
   },
   {
    "duration": 0,
    "start_time": "2022-04-04T09:32:45.183Z"
   },
   {
    "duration": 87773,
    "start_time": "2022-04-04T09:33:38.086Z"
   },
   {
    "duration": 89,
    "start_time": "2022-04-04T09:40:16.164Z"
   },
   {
    "duration": 11,
    "start_time": "2022-04-04T09:41:07.671Z"
   },
   {
    "duration": 6,
    "start_time": "2022-04-04T09:47:15.745Z"
   },
   {
    "duration": 388,
    "start_time": "2022-04-04T09:50:26.069Z"
   },
   {
    "duration": 8,
    "start_time": "2022-04-04T09:50:31.029Z"
   },
   {
    "duration": 6,
    "start_time": "2022-04-04T09:51:41.939Z"
   },
   {
    "duration": 313,
    "start_time": "2022-04-04T09:52:29.910Z"
   },
   {
    "duration": 7,
    "start_time": "2022-04-04T09:53:14.527Z"
   },
   {
    "duration": 286,
    "start_time": "2022-04-04T09:54:08.752Z"
   },
   {
    "duration": 7,
    "start_time": "2022-04-04T09:54:41.028Z"
   },
   {
    "duration": 3,
    "start_time": "2022-04-04T10:05:19.437Z"
   },
   {
    "duration": 17,
    "start_time": "2022-04-04T10:05:20.214Z"
   },
   {
    "duration": 18,
    "start_time": "2022-04-04T10:05:21.903Z"
   },
   {
    "duration": 10,
    "start_time": "2022-04-04T10:05:33.608Z"
   },
   {
    "duration": 15,
    "start_time": "2022-04-04T10:05:35.733Z"
   },
   {
    "duration": 9,
    "start_time": "2022-04-04T10:05:37.620Z"
   },
   {
    "duration": 0,
    "start_time": "2022-04-04T10:41:26.001Z"
   },
   {
    "duration": 0,
    "start_time": "2022-04-04T10:41:26.003Z"
   },
   {
    "duration": 0,
    "start_time": "2022-04-04T10:41:26.005Z"
   },
   {
    "duration": 0,
    "start_time": "2022-04-04T10:41:26.007Z"
   },
   {
    "duration": 0,
    "start_time": "2022-04-04T10:41:26.024Z"
   },
   {
    "duration": 0,
    "start_time": "2022-04-04T10:41:26.025Z"
   },
   {
    "duration": 0,
    "start_time": "2022-04-04T10:41:26.026Z"
   },
   {
    "duration": 9998,
    "start_time": "2022-04-04T10:41:29.059Z"
   },
   {
    "duration": 37660,
    "start_time": "2022-04-04T10:41:56.123Z"
   },
   {
    "duration": 9947,
    "start_time": "2022-04-04T10:43:07.087Z"
   },
   {
    "duration": 8,
    "start_time": "2022-04-04T10:46:37.994Z"
   },
   {
    "duration": 393,
    "start_time": "2022-04-04T10:47:55.482Z"
   },
   {
    "duration": 10,
    "start_time": "2022-04-04T10:51:24.119Z"
   },
   {
    "duration": 5,
    "start_time": "2022-04-04T10:52:39.882Z"
   },
   {
    "duration": 5,
    "start_time": "2022-04-04T10:53:00.310Z"
   },
   {
    "duration": 11,
    "start_time": "2022-04-04T11:00:23.455Z"
   },
   {
    "duration": 11,
    "start_time": "2022-04-04T11:02:31.674Z"
   },
   {
    "duration": 4,
    "start_time": "2022-04-04T11:04:31.385Z"
   },
   {
    "duration": 4,
    "start_time": "2022-04-04T11:04:52.029Z"
   },
   {
    "duration": 16,
    "start_time": "2022-04-04T11:08:05.781Z"
   },
   {
    "duration": 24,
    "start_time": "2022-04-04T11:10:04.731Z"
   },
   {
    "duration": 9,
    "start_time": "2022-04-04T11:17:49.390Z"
   },
   {
    "duration": 15,
    "start_time": "2022-04-04T11:24:08.223Z"
   },
   {
    "duration": 15,
    "start_time": "2022-04-04T11:24:16.499Z"
   },
   {
    "duration": 8,
    "start_time": "2022-04-04T11:28:54.952Z"
   },
   {
    "duration": 15,
    "start_time": "2022-04-04T11:28:58.207Z"
   },
   {
    "duration": 15,
    "start_time": "2022-04-04T11:29:00.612Z"
   },
   {
    "duration": 17,
    "start_time": "2022-04-04T11:29:03.948Z"
   },
   {
    "duration": 10067,
    "start_time": "2022-04-04T11:31:32.602Z"
   },
   {
    "duration": 16,
    "start_time": "2022-04-04T11:38:40.121Z"
   },
   {
    "duration": 16,
    "start_time": "2022-04-04T11:40:46.230Z"
   },
   {
    "duration": 15,
    "start_time": "2022-04-04T11:41:00.853Z"
   },
   {
    "duration": 9,
    "start_time": "2022-04-04T11:41:02.806Z"
   },
   {
    "duration": 9,
    "start_time": "2022-04-04T11:49:03.726Z"
   },
   {
    "duration": 12,
    "start_time": "2022-04-04T11:49:54.854Z"
   },
   {
    "duration": 26,
    "start_time": "2022-04-04T11:55:05.923Z"
   },
   {
    "duration": 15,
    "start_time": "2022-04-04T11:57:25.784Z"
   },
   {
    "duration": 15,
    "start_time": "2022-04-04T11:58:30.381Z"
   },
   {
    "duration": 39,
    "start_time": "2022-04-04T12:03:35.925Z"
   },
   {
    "duration": 39,
    "start_time": "2022-04-04T12:03:52.079Z"
   },
   {
    "duration": 382,
    "start_time": "2022-04-04T12:06:36.966Z"
   },
   {
    "duration": 4,
    "start_time": "2022-04-04T12:07:52.867Z"
   },
   {
    "duration": 25,
    "start_time": "2022-04-04T12:11:52.849Z"
   },
   {
    "duration": 25,
    "start_time": "2022-04-04T12:11:59.873Z"
   },
   {
    "duration": 16,
    "start_time": "2022-04-04T12:12:39.801Z"
   },
   {
    "duration": 88,
    "start_time": "2022-04-04T12:16:50.337Z"
   },
   {
    "duration": 23,
    "start_time": "2022-04-04T12:21:43.956Z"
   },
   {
    "duration": 16,
    "start_time": "2022-04-04T12:23:19.565Z"
   },
   {
    "duration": 15,
    "start_time": "2022-04-04T12:23:53.798Z"
   },
   {
    "duration": 2077,
    "start_time": "2022-04-04T18:21:44.315Z"
   },
   {
    "duration": 60,
    "start_time": "2022-04-04T18:21:46.395Z"
   },
   {
    "duration": 46,
    "start_time": "2022-04-04T18:21:46.458Z"
   },
   {
    "duration": 18,
    "start_time": "2022-04-04T18:21:46.508Z"
   },
   {
    "duration": 11,
    "start_time": "2022-04-04T18:21:46.528Z"
   },
   {
    "duration": 43,
    "start_time": "2022-04-04T18:21:46.541Z"
   },
   {
    "duration": 11,
    "start_time": "2022-04-04T18:21:46.586Z"
   },
   {
    "duration": 18,
    "start_time": "2022-04-04T18:21:46.600Z"
   },
   {
    "duration": 360,
    "start_time": "2022-04-04T18:21:46.620Z"
   },
   {
    "duration": 6,
    "start_time": "2022-04-04T18:21:46.984Z"
   },
   {
    "duration": 316,
    "start_time": "2022-04-04T18:21:46.992Z"
   },
   {
    "duration": 7,
    "start_time": "2022-04-04T18:21:47.310Z"
   },
   {
    "duration": 337,
    "start_time": "2022-04-04T18:21:47.320Z"
   },
   {
    "duration": 7,
    "start_time": "2022-04-04T18:21:47.661Z"
   },
   {
    "duration": 415,
    "start_time": "2022-04-04T18:21:47.685Z"
   },
   {
    "duration": 9,
    "start_time": "2022-04-04T18:21:48.103Z"
   },
   {
    "duration": 402,
    "start_time": "2022-04-04T18:21:48.115Z"
   },
   {
    "duration": 7,
    "start_time": "2022-04-04T18:21:48.519Z"
   },
   {
    "duration": 309,
    "start_time": "2022-04-04T18:21:48.528Z"
   },
   {
    "duration": 6,
    "start_time": "2022-04-04T18:21:48.840Z"
   },
   {
    "duration": 13,
    "start_time": "2022-04-04T18:21:48.848Z"
   },
   {
    "duration": 333,
    "start_time": "2022-04-04T18:21:48.864Z"
   },
   {
    "duration": 6,
    "start_time": "2022-04-04T18:21:49.199Z"
   },
   {
    "duration": 18,
    "start_time": "2022-04-04T18:21:49.208Z"
   },
   {
    "duration": 6,
    "start_time": "2022-04-04T18:21:49.228Z"
   },
   {
    "duration": 9,
    "start_time": "2022-04-04T18:21:49.236Z"
   },
   {
    "duration": 43,
    "start_time": "2022-04-04T18:21:49.247Z"
   },
   {
    "duration": 11,
    "start_time": "2022-04-04T18:21:49.295Z"
   },
   {
    "duration": 4,
    "start_time": "2022-04-04T18:21:49.308Z"
   },
   {
    "duration": 18,
    "start_time": "2022-04-04T18:21:49.314Z"
   },
   {
    "duration": 52,
    "start_time": "2022-04-04T18:21:49.334Z"
   },
   {
    "duration": 8,
    "start_time": "2022-04-04T18:21:49.389Z"
   },
   {
    "duration": 19,
    "start_time": "2022-04-04T18:21:49.399Z"
   },
   {
    "duration": 8,
    "start_time": "2022-04-04T18:21:49.420Z"
   },
   {
    "duration": 216,
    "start_time": "2022-04-04T18:21:49.430Z"
   },
   {
    "duration": 0,
    "start_time": "2022-04-04T18:21:49.649Z"
   },
   {
    "duration": 0,
    "start_time": "2022-04-04T18:21:49.651Z"
   },
   {
    "duration": 0,
    "start_time": "2022-04-04T18:21:49.652Z"
   },
   {
    "duration": 0,
    "start_time": "2022-04-04T18:21:49.654Z"
   },
   {
    "duration": 0,
    "start_time": "2022-04-04T18:21:49.655Z"
   },
   {
    "duration": 0,
    "start_time": "2022-04-04T18:21:49.657Z"
   },
   {
    "duration": 0,
    "start_time": "2022-04-04T18:21:49.659Z"
   },
   {
    "duration": 0,
    "start_time": "2022-04-04T18:21:49.661Z"
   },
   {
    "duration": 2022,
    "start_time": "2022-04-04T19:12:45.186Z"
   },
   {
    "duration": 55,
    "start_time": "2022-04-04T19:12:47.211Z"
   },
   {
    "duration": 48,
    "start_time": "2022-04-04T19:12:47.268Z"
   },
   {
    "duration": 18,
    "start_time": "2022-04-04T19:12:47.318Z"
   },
   {
    "duration": 10,
    "start_time": "2022-04-04T19:12:47.339Z"
   },
   {
    "duration": 38,
    "start_time": "2022-04-04T19:12:47.351Z"
   },
   {
    "duration": 27,
    "start_time": "2022-04-04T19:12:47.391Z"
   },
   {
    "duration": 23,
    "start_time": "2022-04-04T19:12:47.421Z"
   },
   {
    "duration": 334,
    "start_time": "2022-04-04T19:12:47.446Z"
   },
   {
    "duration": 7,
    "start_time": "2022-04-04T19:12:47.783Z"
   },
   {
    "duration": 322,
    "start_time": "2022-04-04T19:12:47.792Z"
   },
   {
    "duration": 7,
    "start_time": "2022-04-04T19:12:48.116Z"
   },
   {
    "duration": 330,
    "start_time": "2022-04-04T19:12:48.125Z"
   },
   {
    "duration": 6,
    "start_time": "2022-04-04T19:12:48.459Z"
   },
   {
    "duration": 438,
    "start_time": "2022-04-04T19:12:48.467Z"
   },
   {
    "duration": 6,
    "start_time": "2022-04-04T19:12:48.907Z"
   },
   {
    "duration": 401,
    "start_time": "2022-04-04T19:12:48.916Z"
   },
   {
    "duration": 6,
    "start_time": "2022-04-04T19:12:49.319Z"
   },
   {
    "duration": 312,
    "start_time": "2022-04-04T19:12:49.327Z"
   },
   {
    "duration": 6,
    "start_time": "2022-04-04T19:12:49.641Z"
   },
   {
    "duration": 19,
    "start_time": "2022-04-04T19:12:49.649Z"
   },
   {
    "duration": 16,
    "start_time": "2022-04-04T19:12:49.670Z"
   },
   {
    "duration": 12,
    "start_time": "2022-04-04T19:12:49.688Z"
   },
   {
    "duration": 338,
    "start_time": "2022-04-04T19:12:49.702Z"
   },
   {
    "duration": 29,
    "start_time": "2022-04-04T19:13:45.611Z"
   },
   {
    "duration": 11,
    "start_time": "2022-04-04T19:13:54.095Z"
   },
   {
    "duration": 5,
    "start_time": "2022-04-04T19:13:56.823Z"
   },
   {
    "duration": 5,
    "start_time": "2022-04-04T19:13:57.652Z"
   },
   {
    "duration": 11,
    "start_time": "2022-04-04T19:13:59.826Z"
   },
   {
    "duration": 11,
    "start_time": "2022-04-04T19:16:57.169Z"
   },
   {
    "duration": 6,
    "start_time": "2022-04-04T19:17:00.627Z"
   },
   {
    "duration": 6,
    "start_time": "2022-04-04T19:17:01.149Z"
   },
   {
    "duration": 11,
    "start_time": "2022-04-04T19:17:02.579Z"
   },
   {
    "duration": 12,
    "start_time": "2022-04-04T19:17:03.508Z"
   },
   {
    "duration": 3,
    "start_time": "2022-04-04T19:17:04.550Z"
   },
   {
    "duration": 18,
    "start_time": "2022-04-04T19:17:05.493Z"
   },
   {
    "duration": 18,
    "start_time": "2022-04-04T19:17:05.930Z"
   },
   {
    "duration": 9,
    "start_time": "2022-04-04T19:17:21.283Z"
   },
   {
    "duration": 17,
    "start_time": "2022-04-04T19:17:23.741Z"
   },
   {
    "duration": 4,
    "start_time": "2022-04-04T19:18:51.965Z"
   },
   {
    "duration": 163,
    "start_time": "2022-04-04T19:18:53.300Z"
   },
   {
    "duration": 17,
    "start_time": "2022-04-04T19:18:53.824Z"
   },
   {
    "duration": 5,
    "start_time": "2022-04-04T19:19:43.937Z"
   },
   {
    "duration": 16,
    "start_time": "2022-04-04T19:19:44.914Z"
   },
   {
    "duration": 4,
    "start_time": "2022-04-04T19:20:20.839Z"
   },
   {
    "duration": 13,
    "start_time": "2022-04-04T19:20:22.328Z"
   },
   {
    "duration": 25,
    "start_time": "2022-04-04T19:20:39.426Z"
   },
   {
    "duration": 10,
    "start_time": "2022-04-04T19:20:42.991Z"
   },
   {
    "duration": 5,
    "start_time": "2022-04-04T19:20:44.981Z"
   },
   {
    "duration": 5,
    "start_time": "2022-04-04T19:20:45.482Z"
   },
   {
    "duration": 12,
    "start_time": "2022-04-04T19:20:46.846Z"
   },
   {
    "duration": 11,
    "start_time": "2022-04-04T19:20:47.982Z"
   },
   {
    "duration": 4,
    "start_time": "2022-04-04T19:20:57.685Z"
   },
   {
    "duration": 16,
    "start_time": "2022-04-04T19:20:59.180Z"
   },
   {
    "duration": 3,
    "start_time": "2022-04-04T19:21:22.744Z"
   },
   {
    "duration": 14,
    "start_time": "2022-04-04T19:21:23.718Z"
   },
   {
    "duration": 27,
    "start_time": "2022-04-04T19:21:33.818Z"
   },
   {
    "duration": 11,
    "start_time": "2022-04-04T19:21:34.643Z"
   },
   {
    "duration": 6,
    "start_time": "2022-04-04T19:21:36.450Z"
   },
   {
    "duration": 6,
    "start_time": "2022-04-04T19:21:36.950Z"
   },
   {
    "duration": 12,
    "start_time": "2022-04-04T19:21:38.326Z"
   },
   {
    "duration": 11,
    "start_time": "2022-04-04T19:21:39.438Z"
   },
   {
    "duration": 4,
    "start_time": "2022-04-04T19:21:40.492Z"
   },
   {
    "duration": 17,
    "start_time": "2022-04-04T19:21:41.700Z"
   },
   {
    "duration": 20,
    "start_time": "2022-04-04T19:21:42.570Z"
   },
   {
    "duration": 9,
    "start_time": "2022-04-04T19:21:47.000Z"
   },
   {
    "duration": 22,
    "start_time": "2022-04-04T19:21:48.902Z"
   },
   {
    "duration": 8,
    "start_time": "2022-04-04T19:21:56.225Z"
   },
   {
    "duration": 23,
    "start_time": "2022-04-04T19:23:37.961Z"
   },
   {
    "duration": 11,
    "start_time": "2022-04-04T19:23:38.547Z"
   },
   {
    "duration": 7,
    "start_time": "2022-04-04T19:23:40.590Z"
   },
   {
    "duration": 6,
    "start_time": "2022-04-04T19:23:41.070Z"
   },
   {
    "duration": 11,
    "start_time": "2022-04-04T19:23:42.564Z"
   },
   {
    "duration": 11,
    "start_time": "2022-04-04T19:23:43.426Z"
   },
   {
    "duration": 4,
    "start_time": "2022-04-04T19:23:44.357Z"
   },
   {
    "duration": 27,
    "start_time": "2022-04-04T19:23:45.763Z"
   },
   {
    "duration": 2078,
    "start_time": "2022-04-04T19:24:20.344Z"
   },
   {
    "duration": 61,
    "start_time": "2022-04-04T19:24:22.424Z"
   },
   {
    "duration": 36,
    "start_time": "2022-04-04T19:24:22.487Z"
   },
   {
    "duration": 20,
    "start_time": "2022-04-04T19:24:22.526Z"
   },
   {
    "duration": 41,
    "start_time": "2022-04-04T19:24:22.548Z"
   },
   {
    "duration": 14,
    "start_time": "2022-04-04T19:24:22.591Z"
   },
   {
    "duration": 13,
    "start_time": "2022-04-04T19:24:22.608Z"
   },
   {
    "duration": 21,
    "start_time": "2022-04-04T19:24:22.623Z"
   },
   {
    "duration": 372,
    "start_time": "2022-04-04T19:24:22.646Z"
   },
   {
    "duration": 7,
    "start_time": "2022-04-04T19:24:23.025Z"
   },
   {
    "duration": 367,
    "start_time": "2022-04-04T19:24:23.035Z"
   },
   {
    "duration": 7,
    "start_time": "2022-04-04T19:24:23.405Z"
   },
   {
    "duration": 342,
    "start_time": "2022-04-04T19:24:23.414Z"
   },
   {
    "duration": 7,
    "start_time": "2022-04-04T19:24:23.759Z"
   },
   {
    "duration": 445,
    "start_time": "2022-04-04T19:24:23.768Z"
   },
   {
    "duration": 7,
    "start_time": "2022-04-04T19:24:24.215Z"
   },
   {
    "duration": 414,
    "start_time": "2022-04-04T19:24:24.224Z"
   },
   {
    "duration": 8,
    "start_time": "2022-04-04T19:24:24.641Z"
   },
   {
    "duration": 322,
    "start_time": "2022-04-04T19:24:24.651Z"
   },
   {
    "duration": 12,
    "start_time": "2022-04-04T19:24:24.975Z"
   },
   {
    "duration": 46,
    "start_time": "2022-04-04T19:24:24.989Z"
   },
   {
    "duration": 21,
    "start_time": "2022-04-04T19:24:25.037Z"
   },
   {
    "duration": 27,
    "start_time": "2022-04-04T19:24:25.061Z"
   },
   {
    "duration": 47,
    "start_time": "2022-04-04T19:24:25.090Z"
   },
   {
    "duration": 13,
    "start_time": "2022-04-04T19:24:25.140Z"
   },
   {
    "duration": 18,
    "start_time": "2022-04-04T19:24:25.155Z"
   },
   {
    "duration": 18,
    "start_time": "2022-04-04T19:24:25.176Z"
   },
   {
    "duration": 16,
    "start_time": "2022-04-04T19:24:25.201Z"
   },
   {
    "duration": 33,
    "start_time": "2022-04-04T19:24:25.220Z"
   },
   {
    "duration": 13,
    "start_time": "2022-04-04T19:24:25.256Z"
   },
   {
    "duration": 43,
    "start_time": "2022-04-04T19:24:25.272Z"
   },
   {
    "duration": 31,
    "start_time": "2022-04-04T19:24:25.317Z"
   },
   {
    "duration": 10,
    "start_time": "2022-04-04T19:24:25.351Z"
   },
   {
    "duration": 47,
    "start_time": "2022-04-04T19:24:25.364Z"
   },
   {
    "duration": 25,
    "start_time": "2022-04-04T19:24:25.414Z"
   },
   {
    "duration": 2178,
    "start_time": "2022-04-04T19:24:25.442Z"
   },
   {
    "duration": 23,
    "start_time": "2022-04-04T19:24:27.622Z"
   },
   {
    "duration": 42,
    "start_time": "2022-04-04T19:24:27.647Z"
   },
   {
    "duration": 52,
    "start_time": "2022-04-04T19:24:27.691Z"
   },
   {
    "duration": 591,
    "start_time": "2022-04-04T19:24:27.745Z"
   },
   {
    "duration": 188,
    "start_time": "2022-04-04T19:24:28.338Z"
   },
   {
    "duration": 0,
    "start_time": "2022-04-04T19:24:28.529Z"
   },
   {
    "duration": 0,
    "start_time": "2022-04-04T19:24:28.530Z"
   },
   {
    "duration": 0,
    "start_time": "2022-04-04T19:24:28.532Z"
   },
   {
    "duration": 416,
    "start_time": "2022-04-05T08:53:03.815Z"
   },
   {
    "duration": 73,
    "start_time": "2022-04-05T08:55:09.846Z"
   },
   {
    "duration": 2541,
    "start_time": "2022-04-05T08:55:17.738Z"
   },
   {
    "duration": 70,
    "start_time": "2022-04-05T08:55:20.282Z"
   },
   {
    "duration": 36,
    "start_time": "2022-04-05T08:55:20.355Z"
   },
   {
    "duration": 19,
    "start_time": "2022-04-05T08:55:20.394Z"
   },
   {
    "duration": 36,
    "start_time": "2022-04-05T08:55:20.415Z"
   },
   {
    "duration": 9,
    "start_time": "2022-04-05T08:55:20.455Z"
   },
   {
    "duration": 22,
    "start_time": "2022-04-05T08:55:20.466Z"
   },
   {
    "duration": 58,
    "start_time": "2022-04-05T08:55:20.490Z"
   },
   {
    "duration": 628,
    "start_time": "2022-04-05T08:55:20.552Z"
   },
   {
    "duration": 7,
    "start_time": "2022-04-05T08:55:21.184Z"
   },
   {
    "duration": 335,
    "start_time": "2022-04-05T08:55:21.193Z"
   },
   {
    "duration": 17,
    "start_time": "2022-04-05T08:55:21.530Z"
   },
   {
    "duration": 383,
    "start_time": "2022-04-05T08:55:21.549Z"
   },
   {
    "duration": 7,
    "start_time": "2022-04-05T08:55:21.942Z"
   },
   {
    "duration": 824,
    "start_time": "2022-04-05T08:55:21.952Z"
   },
   {
    "duration": 9,
    "start_time": "2022-04-05T08:55:22.779Z"
   },
   {
    "duration": 334,
    "start_time": "2022-04-05T08:55:22.790Z"
   },
   {
    "duration": 17,
    "start_time": "2022-04-05T08:55:23.126Z"
   },
   {
    "duration": 308,
    "start_time": "2022-04-05T08:55:23.145Z"
   },
   {
    "duration": 6,
    "start_time": "2022-04-05T08:55:23.456Z"
   },
   {
    "duration": 16,
    "start_time": "2022-04-05T08:55:23.464Z"
   },
   {
    "duration": 8,
    "start_time": "2022-04-05T08:55:23.483Z"
   },
   {
    "duration": 10,
    "start_time": "2022-04-05T08:55:23.493Z"
   },
   {
    "duration": 30,
    "start_time": "2022-04-05T08:55:23.543Z"
   },
   {
    "duration": 13,
    "start_time": "2022-04-05T08:55:23.576Z"
   },
   {
    "duration": 7,
    "start_time": "2022-04-05T08:55:23.592Z"
   },
   {
    "duration": 44,
    "start_time": "2022-04-05T08:55:23.602Z"
   },
   {
    "duration": 14,
    "start_time": "2022-04-05T08:55:23.652Z"
   },
   {
    "duration": 17,
    "start_time": "2022-04-05T08:55:23.669Z"
   },
   {
    "duration": 4,
    "start_time": "2022-04-05T08:55:23.689Z"
   },
   {
    "duration": 68,
    "start_time": "2022-04-05T08:55:23.696Z"
   },
   {
    "duration": 23,
    "start_time": "2022-04-05T08:55:23.767Z"
   },
   {
    "duration": 19,
    "start_time": "2022-04-05T08:55:23.793Z"
   },
   {
    "duration": 36,
    "start_time": "2022-04-05T08:55:23.814Z"
   },
   {
    "duration": 23,
    "start_time": "2022-04-05T08:55:23.852Z"
   },
   {
    "duration": 10,
    "start_time": "2022-04-05T08:55:23.877Z"
   },
   {
    "duration": 3274,
    "start_time": "2022-04-05T08:55:23.889Z"
   },
   {
    "duration": 78,
    "start_time": "2022-04-05T08:55:27.165Z"
   },
   {
    "duration": 19,
    "start_time": "2022-04-05T08:55:27.245Z"
   },
   {
    "duration": 104,
    "start_time": "2022-04-05T08:55:27.266Z"
   },
   {
    "duration": 1101,
    "start_time": "2022-04-05T08:55:27.372Z"
   },
   {
    "duration": 374,
    "start_time": "2022-04-05T08:55:28.476Z"
   },
   {
    "duration": 0,
    "start_time": "2022-04-05T08:55:28.852Z"
   },
   {
    "duration": 0,
    "start_time": "2022-04-05T08:55:28.854Z"
   },
   {
    "duration": 0,
    "start_time": "2022-04-05T08:55:28.855Z"
   },
   {
    "duration": 4,
    "start_time": "2022-04-05T08:57:14.703Z"
   },
   {
    "duration": 16,
    "start_time": "2022-04-05T09:00:27.899Z"
   },
   {
    "duration": 2143,
    "start_time": "2022-04-05T09:00:50.978Z"
   },
   {
    "duration": 58,
    "start_time": "2022-04-05T09:00:53.124Z"
   },
   {
    "duration": 36,
    "start_time": "2022-04-05T09:00:53.185Z"
   },
   {
    "duration": 18,
    "start_time": "2022-04-05T09:00:53.244Z"
   },
   {
    "duration": 10,
    "start_time": "2022-04-05T09:00:53.266Z"
   },
   {
    "duration": 21,
    "start_time": "2022-04-05T09:00:53.279Z"
   },
   {
    "duration": 44,
    "start_time": "2022-04-05T09:00:53.303Z"
   },
   {
    "duration": 23,
    "start_time": "2022-04-05T09:00:53.350Z"
   },
   {
    "duration": 361,
    "start_time": "2022-04-05T09:00:53.376Z"
   },
   {
    "duration": 8,
    "start_time": "2022-04-05T09:00:53.743Z"
   },
   {
    "duration": 357,
    "start_time": "2022-04-05T09:00:53.754Z"
   },
   {
    "duration": 7,
    "start_time": "2022-04-05T09:00:54.113Z"
   },
   {
    "duration": 362,
    "start_time": "2022-04-05T09:00:54.122Z"
   },
   {
    "duration": 6,
    "start_time": "2022-04-05T09:00:54.489Z"
   },
   {
    "duration": 455,
    "start_time": "2022-04-05T09:00:54.497Z"
   },
   {
    "duration": 9,
    "start_time": "2022-04-05T09:00:54.954Z"
   },
   {
    "duration": 418,
    "start_time": "2022-04-05T09:00:54.966Z"
   },
   {
    "duration": 7,
    "start_time": "2022-04-05T09:00:55.386Z"
   },
   {
    "duration": 328,
    "start_time": "2022-04-05T09:00:55.395Z"
   },
   {
    "duration": 18,
    "start_time": "2022-04-05T09:00:55.725Z"
   },
   {
    "duration": 17,
    "start_time": "2022-04-05T09:00:55.745Z"
   },
   {
    "duration": 18,
    "start_time": "2022-04-05T09:00:55.764Z"
   },
   {
    "duration": 19,
    "start_time": "2022-04-05T09:00:55.784Z"
   },
   {
    "duration": 67,
    "start_time": "2022-04-05T09:00:55.806Z"
   },
   {
    "duration": 13,
    "start_time": "2022-04-05T09:00:55.875Z"
   },
   {
    "duration": 6,
    "start_time": "2022-04-05T09:00:55.891Z"
   },
   {
    "duration": 9,
    "start_time": "2022-04-05T09:00:55.899Z"
   },
   {
    "duration": 12,
    "start_time": "2022-04-05T09:00:55.942Z"
   },
   {
    "duration": 14,
    "start_time": "2022-04-05T09:00:55.956Z"
   },
   {
    "duration": 5,
    "start_time": "2022-04-05T09:00:55.972Z"
   },
   {
    "duration": 66,
    "start_time": "2022-04-05T09:00:55.979Z"
   },
   {
    "duration": 100,
    "start_time": "2022-04-05T09:00:56.048Z"
   },
   {
    "duration": 107,
    "start_time": "2022-04-05T09:00:56.150Z"
   },
   {
    "duration": 204,
    "start_time": "2022-04-05T09:00:56.260Z"
   },
   {
    "duration": 13,
    "start_time": "2022-04-05T09:00:56.467Z"
   },
   {
    "duration": 1994,
    "start_time": "2022-04-05T09:00:56.483Z"
   },
   {
    "duration": 28,
    "start_time": "2022-04-05T09:00:58.480Z"
   },
   {
    "duration": 68,
    "start_time": "2022-04-05T09:00:58.511Z"
   },
   {
    "duration": 148,
    "start_time": "2022-04-05T09:00:58.647Z"
   },
   {
    "duration": 571,
    "start_time": "2022-04-05T09:00:58.798Z"
   },
   {
    "duration": 21,
    "start_time": "2022-04-05T09:00:59.375Z"
   },
   {
    "duration": 2352,
    "start_time": "2022-04-05T09:07:03.135Z"
   },
   {
    "duration": 108,
    "start_time": "2022-04-05T09:07:05.492Z"
   },
   {
    "duration": 47,
    "start_time": "2022-04-05T09:07:05.604Z"
   },
   {
    "duration": 30,
    "start_time": "2022-04-05T09:07:05.654Z"
   },
   {
    "duration": 15,
    "start_time": "2022-04-05T09:07:05.686Z"
   },
   {
    "duration": 48,
    "start_time": "2022-04-05T09:07:05.704Z"
   },
   {
    "duration": 15,
    "start_time": "2022-04-05T09:07:05.755Z"
   },
   {
    "duration": 25,
    "start_time": "2022-04-05T09:07:05.773Z"
   },
   {
    "duration": 403,
    "start_time": "2022-04-05T09:07:05.800Z"
   },
   {
    "duration": 7,
    "start_time": "2022-04-05T09:07:06.210Z"
   },
   {
    "duration": 458,
    "start_time": "2022-04-05T09:07:06.219Z"
   },
   {
    "duration": 8,
    "start_time": "2022-04-05T09:07:06.680Z"
   },
   {
    "duration": 347,
    "start_time": "2022-04-05T09:07:06.690Z"
   },
   {
    "duration": 9,
    "start_time": "2022-04-05T09:07:07.043Z"
   },
   {
    "duration": 555,
    "start_time": "2022-04-05T09:07:07.057Z"
   },
   {
    "duration": 8,
    "start_time": "2022-04-05T09:07:07.615Z"
   },
   {
    "duration": 525,
    "start_time": "2022-04-05T09:07:07.627Z"
   },
   {
    "duration": 9,
    "start_time": "2022-04-05T09:07:08.155Z"
   },
   {
    "duration": 340,
    "start_time": "2022-04-05T09:07:08.167Z"
   },
   {
    "duration": 6,
    "start_time": "2022-04-05T09:07:08.509Z"
   },
   {
    "duration": 33,
    "start_time": "2022-04-05T09:07:08.517Z"
   },
   {
    "duration": 15,
    "start_time": "2022-04-05T09:07:08.554Z"
   },
   {
    "duration": 24,
    "start_time": "2022-04-05T09:07:08.573Z"
   },
   {
    "duration": 67,
    "start_time": "2022-04-05T09:07:08.601Z"
   },
   {
    "duration": 19,
    "start_time": "2022-04-05T09:07:08.671Z"
   },
   {
    "duration": 21,
    "start_time": "2022-04-05T09:07:08.692Z"
   },
   {
    "duration": 38,
    "start_time": "2022-04-05T09:07:08.716Z"
   },
   {
    "duration": 27,
    "start_time": "2022-04-05T09:07:08.760Z"
   },
   {
    "duration": 32,
    "start_time": "2022-04-05T09:07:08.791Z"
   },
   {
    "duration": 18,
    "start_time": "2022-04-05T09:07:08.827Z"
   },
   {
    "duration": 85,
    "start_time": "2022-04-05T09:07:08.847Z"
   },
   {
    "duration": 119,
    "start_time": "2022-04-05T09:07:08.935Z"
   },
   {
    "duration": 96,
    "start_time": "2022-04-05T09:07:09.058Z"
   },
   {
    "duration": 237,
    "start_time": "2022-04-05T09:07:09.157Z"
   },
   {
    "duration": 11,
    "start_time": "2022-04-05T09:07:09.397Z"
   },
   {
    "duration": 1998,
    "start_time": "2022-04-05T09:07:09.410Z"
   },
   {
    "duration": 56,
    "start_time": "2022-04-05T09:07:11.410Z"
   },
   {
    "duration": 174,
    "start_time": "2022-04-05T09:07:11.471Z"
   },
   {
    "duration": 103,
    "start_time": "2022-04-05T09:07:11.648Z"
   },
   {
    "duration": 877,
    "start_time": "2022-04-05T09:07:11.754Z"
   },
   {
    "duration": 41,
    "start_time": "2022-04-05T09:07:12.635Z"
   },
   {
    "duration": 2367,
    "start_time": "2022-04-05T09:12:55.002Z"
   },
   {
    "duration": 74,
    "start_time": "2022-04-05T09:12:57.372Z"
   },
   {
    "duration": 38,
    "start_time": "2022-04-05T09:12:57.450Z"
   },
   {
    "duration": 19,
    "start_time": "2022-04-05T09:12:57.491Z"
   },
   {
    "duration": 41,
    "start_time": "2022-04-05T09:12:57.513Z"
   },
   {
    "duration": 11,
    "start_time": "2022-04-05T09:12:57.556Z"
   },
   {
    "duration": 15,
    "start_time": "2022-04-05T09:12:57.569Z"
   },
   {
    "duration": 75,
    "start_time": "2022-04-05T09:12:57.588Z"
   },
   {
    "duration": 387,
    "start_time": "2022-04-05T09:12:57.666Z"
   },
   {
    "duration": 9,
    "start_time": "2022-04-05T09:12:58.056Z"
   },
   {
    "duration": 332,
    "start_time": "2022-04-05T09:12:58.067Z"
   },
   {
    "duration": 7,
    "start_time": "2022-04-05T09:12:58.401Z"
   },
   {
    "duration": 341,
    "start_time": "2022-04-05T09:12:58.411Z"
   },
   {
    "duration": 8,
    "start_time": "2022-04-05T09:12:58.756Z"
   },
   {
    "duration": 430,
    "start_time": "2022-04-05T09:12:58.766Z"
   },
   {
    "duration": 9,
    "start_time": "2022-04-05T09:12:59.198Z"
   },
   {
    "duration": 437,
    "start_time": "2022-04-05T09:12:59.210Z"
   },
   {
    "duration": 9,
    "start_time": "2022-04-05T09:12:59.650Z"
   },
   {
    "duration": 322,
    "start_time": "2022-04-05T09:12:59.661Z"
   },
   {
    "duration": 7,
    "start_time": "2022-04-05T09:12:59.986Z"
   },
   {
    "duration": 24,
    "start_time": "2022-04-05T09:12:59.995Z"
   },
   {
    "duration": 23,
    "start_time": "2022-04-05T09:13:00.023Z"
   },
   {
    "duration": 23,
    "start_time": "2022-04-05T09:13:00.049Z"
   },
   {
    "duration": 39,
    "start_time": "2022-04-05T09:13:00.074Z"
   },
   {
    "duration": 12,
    "start_time": "2022-04-05T09:13:00.115Z"
   },
   {
    "duration": 18,
    "start_time": "2022-04-05T09:13:00.129Z"
   },
   {
    "duration": 9,
    "start_time": "2022-04-05T09:13:00.150Z"
   },
   {
    "duration": 15,
    "start_time": "2022-04-05T09:13:00.161Z"
   },
   {
    "duration": 14,
    "start_time": "2022-04-05T09:13:00.180Z"
   },
   {
    "duration": 49,
    "start_time": "2022-04-05T09:13:00.196Z"
   },
   {
    "duration": 56,
    "start_time": "2022-04-05T09:13:00.248Z"
   },
   {
    "duration": 148,
    "start_time": "2022-04-05T09:13:00.306Z"
   },
   {
    "duration": 20,
    "start_time": "2022-04-05T09:13:00.542Z"
   },
   {
    "duration": 121,
    "start_time": "2022-04-05T09:13:00.645Z"
   },
   {
    "duration": 14,
    "start_time": "2022-04-05T09:13:00.769Z"
   },
   {
    "duration": 3137,
    "start_time": "2022-04-05T09:13:00.785Z"
   },
   {
    "duration": 56,
    "start_time": "2022-04-05T09:13:03.926Z"
   },
   {
    "duration": 158,
    "start_time": "2022-04-05T09:13:03.985Z"
   },
   {
    "duration": 143,
    "start_time": "2022-04-05T09:13:04.149Z"
   },
   {
    "duration": 640,
    "start_time": "2022-04-05T09:13:04.295Z"
   },
   {
    "duration": 31,
    "start_time": "2022-04-05T09:13:04.947Z"
   },
   {
    "duration": 3435,
    "start_time": "2022-04-05T09:14:07.340Z"
   },
   {
    "duration": 99,
    "start_time": "2022-04-05T09:14:10.779Z"
   },
   {
    "duration": 63,
    "start_time": "2022-04-05T09:14:10.881Z"
   },
   {
    "duration": 28,
    "start_time": "2022-04-05T09:14:10.948Z"
   },
   {
    "duration": 16,
    "start_time": "2022-04-05T09:14:10.980Z"
   },
   {
    "duration": 47,
    "start_time": "2022-04-05T09:14:10.999Z"
   },
   {
    "duration": 14,
    "start_time": "2022-04-05T09:14:11.048Z"
   },
   {
    "duration": 29,
    "start_time": "2022-04-05T09:14:11.065Z"
   },
   {
    "duration": 619,
    "start_time": "2022-04-05T09:14:11.098Z"
   },
   {
    "duration": 22,
    "start_time": "2022-04-05T09:14:11.725Z"
   },
   {
    "duration": 434,
    "start_time": "2022-04-05T09:14:11.750Z"
   },
   {
    "duration": 8,
    "start_time": "2022-04-05T09:14:12.187Z"
   },
   {
    "duration": 331,
    "start_time": "2022-04-05T09:14:12.197Z"
   },
   {
    "duration": 17,
    "start_time": "2022-04-05T09:14:12.530Z"
   },
   {
    "duration": 561,
    "start_time": "2022-04-05T09:14:12.551Z"
   },
   {
    "duration": 6,
    "start_time": "2022-04-05T09:14:13.115Z"
   },
   {
    "duration": 702,
    "start_time": "2022-04-05T09:14:13.125Z"
   },
   {
    "duration": 9,
    "start_time": "2022-04-05T09:14:13.842Z"
   },
   {
    "duration": 527,
    "start_time": "2022-04-05T09:14:13.854Z"
   },
   {
    "duration": 8,
    "start_time": "2022-04-05T09:14:14.385Z"
   },
   {
    "duration": 24,
    "start_time": "2022-04-05T09:14:14.396Z"
   },
   {
    "duration": 21,
    "start_time": "2022-04-05T09:14:14.424Z"
   },
   {
    "duration": 11,
    "start_time": "2022-04-05T09:14:14.448Z"
   },
   {
    "duration": 80,
    "start_time": "2022-04-05T09:14:14.463Z"
   },
   {
    "duration": 13,
    "start_time": "2022-04-05T09:14:14.547Z"
   },
   {
    "duration": 7,
    "start_time": "2022-04-05T09:14:14.563Z"
   },
   {
    "duration": 10,
    "start_time": "2022-04-05T09:14:14.572Z"
   },
   {
    "duration": 54,
    "start_time": "2022-04-05T09:14:14.589Z"
   },
   {
    "duration": 12,
    "start_time": "2022-04-05T09:14:14.646Z"
   },
   {
    "duration": 5,
    "start_time": "2022-04-05T09:14:14.660Z"
   },
   {
    "duration": 39,
    "start_time": "2022-04-05T09:14:14.668Z"
   },
   {
    "duration": 233,
    "start_time": "2022-04-05T09:14:14.710Z"
   },
   {
    "duration": 101,
    "start_time": "2022-04-05T09:14:14.945Z"
   },
   {
    "duration": 139,
    "start_time": "2022-04-05T09:14:15.051Z"
   },
   {
    "duration": 13,
    "start_time": "2022-04-05T09:14:15.192Z"
   },
   {
    "duration": 2135,
    "start_time": "2022-04-05T09:14:15.208Z"
   },
   {
    "duration": 29,
    "start_time": "2022-04-05T09:14:17.346Z"
   },
   {
    "duration": 83,
    "start_time": "2022-04-05T09:14:17.378Z"
   },
   {
    "duration": 224,
    "start_time": "2022-04-05T09:14:17.465Z"
   },
   {
    "duration": 488,
    "start_time": "2022-04-05T09:14:17.692Z"
   },
   {
    "duration": 27,
    "start_time": "2022-04-05T09:14:18.183Z"
   },
   {
    "duration": 3311,
    "start_time": "2022-04-05T09:22:03.145Z"
   },
   {
    "duration": 72,
    "start_time": "2022-04-05T09:22:06.459Z"
   },
   {
    "duration": 37,
    "start_time": "2022-04-05T09:22:06.534Z"
   },
   {
    "duration": 21,
    "start_time": "2022-04-05T09:22:06.575Z"
   },
   {
    "duration": 12,
    "start_time": "2022-04-05T09:22:06.599Z"
   },
   {
    "duration": 11,
    "start_time": "2022-04-05T09:22:06.644Z"
   },
   {
    "duration": 12,
    "start_time": "2022-04-05T09:22:06.658Z"
   },
   {
    "duration": 20,
    "start_time": "2022-04-05T09:22:06.672Z"
   },
   {
    "duration": 484,
    "start_time": "2022-04-05T09:22:06.694Z"
   },
   {
    "duration": 8,
    "start_time": "2022-04-05T09:22:07.184Z"
   },
   {
    "duration": 330,
    "start_time": "2022-04-05T09:22:07.194Z"
   },
   {
    "duration": 18,
    "start_time": "2022-04-05T09:22:07.526Z"
   },
   {
    "duration": 319,
    "start_time": "2022-04-05T09:22:07.547Z"
   },
   {
    "duration": 7,
    "start_time": "2022-04-05T09:22:07.868Z"
   },
   {
    "duration": 434,
    "start_time": "2022-04-05T09:22:07.878Z"
   },
   {
    "duration": 7,
    "start_time": "2022-04-05T09:22:08.314Z"
   },
   {
    "duration": 419,
    "start_time": "2022-04-05T09:22:08.324Z"
   },
   {
    "duration": 6,
    "start_time": "2022-04-05T09:22:08.745Z"
   },
   {
    "duration": 307,
    "start_time": "2022-04-05T09:22:08.753Z"
   },
   {
    "duration": 6,
    "start_time": "2022-04-05T09:22:09.063Z"
   },
   {
    "duration": 19,
    "start_time": "2022-04-05T09:22:09.071Z"
   },
   {
    "duration": 9,
    "start_time": "2022-04-05T09:22:09.092Z"
   },
   {
    "duration": 19,
    "start_time": "2022-04-05T09:22:09.103Z"
   },
   {
    "duration": 52,
    "start_time": "2022-04-05T09:22:09.124Z"
   },
   {
    "duration": 19,
    "start_time": "2022-04-05T09:22:09.179Z"
   },
   {
    "duration": 7,
    "start_time": "2022-04-05T09:22:09.202Z"
   },
   {
    "duration": 33,
    "start_time": "2022-04-05T09:22:09.211Z"
   },
   {
    "duration": 18,
    "start_time": "2022-04-05T09:22:09.250Z"
   },
   {
    "duration": 16,
    "start_time": "2022-04-05T09:22:09.270Z"
   },
   {
    "duration": 8,
    "start_time": "2022-04-05T09:22:09.289Z"
   },
   {
    "duration": 58,
    "start_time": "2022-04-05T09:22:09.299Z"
   },
   {
    "duration": 186,
    "start_time": "2022-04-05T09:22:09.361Z"
   },
   {
    "duration": 104,
    "start_time": "2022-04-05T09:22:09.550Z"
   },
   {
    "duration": 122,
    "start_time": "2022-04-05T09:22:09.658Z"
   },
   {
    "duration": 13,
    "start_time": "2022-04-05T09:22:09.783Z"
   },
   {
    "duration": 1914,
    "start_time": "2022-04-05T09:22:09.798Z"
   },
   {
    "duration": 40,
    "start_time": "2022-04-05T09:22:11.715Z"
   },
   {
    "duration": 97,
    "start_time": "2022-04-05T09:22:11.758Z"
   },
   {
    "duration": 137,
    "start_time": "2022-04-05T09:22:11.947Z"
   },
   {
    "duration": 471,
    "start_time": "2022-04-05T09:22:12.087Z"
   },
   {
    "duration": 32,
    "start_time": "2022-04-05T09:22:12.560Z"
   },
   {
    "duration": 4170,
    "start_time": "2022-04-05T09:22:12.596Z"
   },
   {
    "duration": 26,
    "start_time": "2022-04-05T09:22:16.770Z"
   },
   {
    "duration": 1716,
    "start_time": "2022-04-05T09:22:16.799Z"
   },
   {
    "duration": 614,
    "start_time": "2022-04-05T09:29:01.359Z"
   },
   {
    "duration": 158,
    "start_time": "2022-04-05T09:29:40.661Z"
   },
   {
    "duration": 154,
    "start_time": "2022-04-05T09:30:03.366Z"
   },
   {
    "duration": 490,
    "start_time": "2022-04-05T09:31:14.060Z"
   },
   {
    "duration": 460,
    "start_time": "2022-04-05T09:31:28.730Z"
   },
   {
    "duration": 2842,
    "start_time": "2022-04-05T09:32:16.129Z"
   },
   {
    "duration": 978,
    "start_time": "2022-04-05T09:33:08.263Z"
   },
   {
    "duration": 2031,
    "start_time": "2022-04-05T09:33:35.948Z"
   },
   {
    "duration": 58,
    "start_time": "2022-04-05T09:33:37.982Z"
   },
   {
    "duration": 35,
    "start_time": "2022-04-05T09:33:38.042Z"
   },
   {
    "duration": 18,
    "start_time": "2022-04-05T09:33:38.080Z"
   },
   {
    "duration": 10,
    "start_time": "2022-04-05T09:33:38.100Z"
   },
   {
    "duration": 37,
    "start_time": "2022-04-05T09:33:38.112Z"
   },
   {
    "duration": 10,
    "start_time": "2022-04-05T09:33:38.152Z"
   },
   {
    "duration": 18,
    "start_time": "2022-04-05T09:33:38.164Z"
   },
   {
    "duration": 350,
    "start_time": "2022-04-05T09:33:38.184Z"
   },
   {
    "duration": 8,
    "start_time": "2022-04-05T09:33:38.538Z"
   },
   {
    "duration": 316,
    "start_time": "2022-04-05T09:33:38.548Z"
   },
   {
    "duration": 7,
    "start_time": "2022-04-05T09:33:38.867Z"
   },
   {
    "duration": 322,
    "start_time": "2022-04-05T09:33:38.876Z"
   },
   {
    "duration": 6,
    "start_time": "2022-04-05T09:33:39.201Z"
   },
   {
    "duration": 410,
    "start_time": "2022-04-05T09:33:39.209Z"
   },
   {
    "duration": 8,
    "start_time": "2022-04-05T09:33:39.622Z"
   },
   {
    "duration": 387,
    "start_time": "2022-04-05T09:33:39.632Z"
   },
   {
    "duration": 23,
    "start_time": "2022-04-05T09:33:40.021Z"
   },
   {
    "duration": 288,
    "start_time": "2022-04-05T09:33:40.047Z"
   },
   {
    "duration": 9,
    "start_time": "2022-04-05T09:33:40.337Z"
   },
   {
    "duration": 13,
    "start_time": "2022-04-05T09:33:40.348Z"
   },
   {
    "duration": 4,
    "start_time": "2022-04-05T09:33:40.363Z"
   },
   {
    "duration": 9,
    "start_time": "2022-04-05T09:33:40.369Z"
   },
   {
    "duration": 79,
    "start_time": "2022-04-05T09:33:40.380Z"
   },
   {
    "duration": 12,
    "start_time": "2022-04-05T09:33:40.462Z"
   },
   {
    "duration": 5,
    "start_time": "2022-04-05T09:33:40.477Z"
   },
   {
    "duration": 10,
    "start_time": "2022-04-05T09:33:40.485Z"
   },
   {
    "duration": 44,
    "start_time": "2022-04-05T09:33:40.500Z"
   },
   {
    "duration": 11,
    "start_time": "2022-04-05T09:33:40.546Z"
   },
   {
    "duration": 13,
    "start_time": "2022-04-05T09:33:40.559Z"
   },
   {
    "duration": 41,
    "start_time": "2022-04-05T09:33:40.574Z"
   },
   {
    "duration": 61,
    "start_time": "2022-04-05T09:33:40.617Z"
   },
   {
    "duration": 104,
    "start_time": "2022-04-05T09:33:40.743Z"
   },
   {
    "duration": 116,
    "start_time": "2022-04-05T09:33:40.850Z"
   },
   {
    "duration": 10,
    "start_time": "2022-04-05T09:33:40.969Z"
   },
   {
    "duration": 1815,
    "start_time": "2022-04-05T09:33:40.981Z"
   },
   {
    "duration": 26,
    "start_time": "2022-04-05T09:33:42.798Z"
   },
   {
    "duration": 102,
    "start_time": "2022-04-05T09:33:42.843Z"
   },
   {
    "duration": 147,
    "start_time": "2022-04-05T09:33:42.949Z"
   },
   {
    "duration": 464,
    "start_time": "2022-04-05T09:33:43.098Z"
   },
   {
    "duration": 23,
    "start_time": "2022-04-05T09:33:43.565Z"
   },
   {
    "duration": 2729,
    "start_time": "2022-04-05T09:33:43.590Z"
   },
   {
    "duration": 24,
    "start_time": "2022-04-05T09:33:46.321Z"
   },
   {
    "duration": 939,
    "start_time": "2022-04-05T09:33:46.347Z"
   },
   {
    "duration": 484,
    "start_time": "2022-04-05T09:33:47.288Z"
   },
   {
    "duration": 2730,
    "start_time": "2022-04-05T09:33:47.774Z"
   },
   {
    "duration": 1141,
    "start_time": "2022-04-05T09:33:50.507Z"
   },
   {
    "duration": 5840,
    "start_time": "2022-04-05T09:34:44.686Z"
   },
   {
    "duration": 19708,
    "start_time": "2022-04-05T09:34:58.944Z"
   },
   {
    "duration": 2297,
    "start_time": "2022-04-05T09:37:36.298Z"
   },
   {
    "duration": 59,
    "start_time": "2022-04-05T09:37:38.598Z"
   },
   {
    "duration": 35,
    "start_time": "2022-04-05T09:37:38.659Z"
   },
   {
    "duration": 18,
    "start_time": "2022-04-05T09:37:38.697Z"
   },
   {
    "duration": 11,
    "start_time": "2022-04-05T09:37:38.744Z"
   },
   {
    "duration": 8,
    "start_time": "2022-04-05T09:37:38.757Z"
   },
   {
    "duration": 11,
    "start_time": "2022-04-05T09:37:38.767Z"
   },
   {
    "duration": 65,
    "start_time": "2022-04-05T09:37:38.781Z"
   },
   {
    "duration": 430,
    "start_time": "2022-04-05T09:37:38.849Z"
   },
   {
    "duration": 8,
    "start_time": "2022-04-05T09:37:39.286Z"
   },
   {
    "duration": 322,
    "start_time": "2022-04-05T09:37:39.296Z"
   },
   {
    "duration": 7,
    "start_time": "2022-04-05T09:37:39.621Z"
   },
   {
    "duration": 425,
    "start_time": "2022-04-05T09:37:39.644Z"
   },
   {
    "duration": 8,
    "start_time": "2022-04-05T09:37:40.072Z"
   },
   {
    "duration": 421,
    "start_time": "2022-04-05T09:37:40.083Z"
   },
   {
    "duration": 6,
    "start_time": "2022-04-05T09:37:40.506Z"
   },
   {
    "duration": 381,
    "start_time": "2022-04-05T09:37:40.515Z"
   },
   {
    "duration": 7,
    "start_time": "2022-04-05T09:37:40.898Z"
   },
   {
    "duration": 407,
    "start_time": "2022-04-05T09:37:40.907Z"
   },
   {
    "duration": 8,
    "start_time": "2022-04-05T09:37:41.317Z"
   },
   {
    "duration": 8,
    "start_time": "2022-04-05T09:37:41.343Z"
   },
   {
    "duration": 4,
    "start_time": "2022-04-05T09:37:41.354Z"
   },
   {
    "duration": 12,
    "start_time": "2022-04-05T09:37:41.360Z"
   },
   {
    "duration": 32,
    "start_time": "2022-04-05T09:37:41.375Z"
   },
   {
    "duration": 40,
    "start_time": "2022-04-05T09:37:41.410Z"
   },
   {
    "duration": 6,
    "start_time": "2022-04-05T09:37:41.453Z"
   },
   {
    "duration": 10,
    "start_time": "2022-04-05T09:37:41.461Z"
   },
   {
    "duration": 13,
    "start_time": "2022-04-05T09:37:41.478Z"
   },
   {
    "duration": 52,
    "start_time": "2022-04-05T09:37:41.494Z"
   },
   {
    "duration": 4,
    "start_time": "2022-04-05T09:37:41.548Z"
   },
   {
    "duration": 42,
    "start_time": "2022-04-05T09:37:41.554Z"
   },
   {
    "duration": 155,
    "start_time": "2022-04-05T09:37:41.598Z"
   },
   {
    "duration": 102,
    "start_time": "2022-04-05T09:37:41.756Z"
   },
   {
    "duration": 121,
    "start_time": "2022-04-05T09:37:41.942Z"
   },
   {
    "duration": 14,
    "start_time": "2022-04-05T09:37:42.065Z"
   },
   {
    "duration": 2039,
    "start_time": "2022-04-05T09:37:42.082Z"
   },
   {
    "duration": 34,
    "start_time": "2022-04-05T09:37:44.123Z"
   },
   {
    "duration": 88,
    "start_time": "2022-04-05T09:37:44.160Z"
   },
   {
    "duration": 146,
    "start_time": "2022-04-05T09:37:44.251Z"
   },
   {
    "duration": 465,
    "start_time": "2022-04-05T09:37:44.400Z"
   },
   {
    "duration": 21,
    "start_time": "2022-04-05T09:37:44.868Z"
   },
   {
    "duration": 109183,
    "start_time": "2022-04-05T09:37:44.892Z"
   },
   {
    "duration": 15,
    "start_time": "2022-04-05T09:39:34.078Z"
   },
   {
    "duration": 959,
    "start_time": "2022-04-05T09:39:34.096Z"
   },
   {
    "duration": 452,
    "start_time": "2022-04-05T09:39:35.057Z"
   },
   {
    "duration": 2839,
    "start_time": "2022-04-05T09:39:35.511Z"
   },
   {
    "duration": 1053,
    "start_time": "2022-04-05T09:39:38.353Z"
   },
   {
    "duration": 19310,
    "start_time": "2022-04-05T09:47:48.407Z"
   },
   {
    "duration": 988,
    "start_time": "2022-04-05T09:48:07.719Z"
   },
   {
    "duration": 7042,
    "start_time": "2022-04-05T09:48:20.197Z"
   },
   {
    "duration": 163146,
    "start_time": "2022-04-05T09:48:37.503Z"
   },
   {
    "duration": 30041,
    "start_time": "2022-04-05T09:51:20.652Z"
   },
   {
    "duration": 10183,
    "start_time": "2022-04-05T09:51:50.695Z"
   },
   {
    "duration": 1766,
    "start_time": "2022-04-05T09:52:02.556Z"
   },
   {
    "duration": 1953,
    "start_time": "2022-04-05T09:52:18.914Z"
   },
   {
    "duration": 95778,
    "start_time": "2022-04-05T09:54:45.966Z"
   },
   {
    "duration": 93280,
    "start_time": "2022-04-05T09:56:21.748Z"
   },
   {
    "duration": 2623,
    "start_time": "2022-04-05T09:59:04.025Z"
   },
   {
    "duration": 67306,
    "start_time": "2022-04-05T09:59:26.962Z"
   },
   {
    "duration": 18887,
    "start_time": "2022-04-05T10:01:03.564Z"
   },
   {
    "duration": 69047,
    "start_time": "2022-04-05T10:02:48.470Z"
   },
   {
    "duration": 475,
    "start_time": "2022-04-05T10:05:00.712Z"
   },
   {
    "duration": 246,
    "start_time": "2022-04-05T10:07:43.056Z"
   },
   {
    "duration": 330,
    "start_time": "2022-04-05T10:07:56.015Z"
   },
   {
    "duration": 2282,
    "start_time": "2022-04-05T17:40:02.870Z"
   },
   {
    "duration": 56,
    "start_time": "2022-04-05T17:40:05.154Z"
   },
   {
    "duration": 35,
    "start_time": "2022-04-05T17:40:05.212Z"
   },
   {
    "duration": 36,
    "start_time": "2022-04-05T17:40:05.251Z"
   },
   {
    "duration": 13,
    "start_time": "2022-04-05T17:40:05.289Z"
   },
   {
    "duration": 9,
    "start_time": "2022-04-05T17:40:05.305Z"
   },
   {
    "duration": 13,
    "start_time": "2022-04-05T17:40:05.317Z"
   },
   {
    "duration": 66,
    "start_time": "2022-04-05T17:40:05.333Z"
   },
   {
    "duration": 344,
    "start_time": "2022-04-05T17:40:05.402Z"
   },
   {
    "duration": 7,
    "start_time": "2022-04-05T17:40:05.751Z"
   },
   {
    "duration": 304,
    "start_time": "2022-04-05T17:40:05.761Z"
   },
   {
    "duration": 7,
    "start_time": "2022-04-05T17:40:06.067Z"
   },
   {
    "duration": 311,
    "start_time": "2022-04-05T17:40:06.083Z"
   },
   {
    "duration": 7,
    "start_time": "2022-04-05T17:40:06.396Z"
   },
   {
    "duration": 402,
    "start_time": "2022-04-05T17:40:06.405Z"
   },
   {
    "duration": 6,
    "start_time": "2022-04-05T17:40:06.809Z"
   },
   {
    "duration": 364,
    "start_time": "2022-04-05T17:40:06.818Z"
   },
   {
    "duration": 6,
    "start_time": "2022-04-05T17:40:07.184Z"
   },
   {
    "duration": 290,
    "start_time": "2022-04-05T17:40:07.192Z"
   },
   {
    "duration": 7,
    "start_time": "2022-04-05T17:40:07.485Z"
   },
   {
    "duration": 10,
    "start_time": "2022-04-05T17:40:07.495Z"
   },
   {
    "duration": 4,
    "start_time": "2022-04-05T17:40:07.508Z"
   },
   {
    "duration": 9,
    "start_time": "2022-04-05T17:40:07.514Z"
   },
   {
    "duration": 72,
    "start_time": "2022-04-05T17:40:07.525Z"
   },
   {
    "duration": 12,
    "start_time": "2022-04-05T17:40:07.600Z"
   },
   {
    "duration": 7,
    "start_time": "2022-04-05T17:40:07.614Z"
   },
   {
    "duration": 6,
    "start_time": "2022-04-05T17:40:07.624Z"
   },
   {
    "duration": 54,
    "start_time": "2022-04-05T17:40:07.637Z"
   },
   {
    "duration": 10,
    "start_time": "2022-04-05T17:40:07.693Z"
   },
   {
    "duration": 3,
    "start_time": "2022-04-05T17:40:07.706Z"
   },
   {
    "duration": 35,
    "start_time": "2022-04-05T17:40:07.711Z"
   },
   {
    "duration": 136,
    "start_time": "2022-04-05T17:40:07.748Z"
   },
   {
    "duration": 107,
    "start_time": "2022-04-05T17:40:07.887Z"
   },
   {
    "duration": 119,
    "start_time": "2022-04-05T17:40:08.084Z"
   },
   {
    "duration": 10,
    "start_time": "2022-04-05T17:40:08.206Z"
   },
   {
    "duration": 1716,
    "start_time": "2022-04-05T17:40:08.218Z"
   },
   {
    "duration": 25,
    "start_time": "2022-04-05T17:40:09.936Z"
   },
   {
    "duration": 49,
    "start_time": "2022-04-05T17:40:09.963Z"
   },
   {
    "duration": 147,
    "start_time": "2022-04-05T17:40:10.084Z"
   },
   {
    "duration": 431,
    "start_time": "2022-04-05T17:40:10.233Z"
   },
   {
    "duration": 24,
    "start_time": "2022-04-05T17:40:10.666Z"
   },
   {
    "duration": 60557,
    "start_time": "2022-04-05T17:40:10.692Z"
   },
   {
    "duration": 31,
    "start_time": "2022-04-05T17:41:11.251Z"
   },
   {
    "duration": 16722,
    "start_time": "2022-04-05T17:41:11.284Z"
   },
   {
    "duration": 340,
    "start_time": "2022-04-05T17:41:28.009Z"
   },
   {
    "duration": 126,
    "start_time": "2022-04-05T17:44:44.504Z"
   },
   {
    "duration": 128,
    "start_time": "2022-04-05T17:46:11.220Z"
   },
   {
    "duration": 120,
    "start_time": "2022-04-05T17:46:55.084Z"
   },
   {
    "duration": 143,
    "start_time": "2022-04-05T17:47:05.002Z"
   },
   {
    "duration": 1414,
    "start_time": "2022-04-05T17:47:29.555Z"
   },
   {
    "duration": 41,
    "start_time": "2022-04-05T17:47:30.971Z"
   },
   {
    "duration": 22,
    "start_time": "2022-04-05T17:47:31.013Z"
   },
   {
    "duration": 11,
    "start_time": "2022-04-05T17:47:31.037Z"
   },
   {
    "duration": 9,
    "start_time": "2022-04-05T17:47:31.050Z"
   },
   {
    "duration": 19,
    "start_time": "2022-04-05T17:47:31.060Z"
   },
   {
    "duration": 26,
    "start_time": "2022-04-05T17:47:31.081Z"
   },
   {
    "duration": 31,
    "start_time": "2022-04-05T17:47:31.108Z"
   },
   {
    "duration": 181,
    "start_time": "2022-04-05T17:47:31.141Z"
   },
   {
    "duration": 7,
    "start_time": "2022-04-05T17:47:31.324Z"
   },
   {
    "duration": 167,
    "start_time": "2022-04-05T17:47:31.333Z"
   },
   {
    "duration": 4,
    "start_time": "2022-04-05T17:47:31.502Z"
   },
   {
    "duration": 167,
    "start_time": "2022-04-05T17:47:31.508Z"
   },
   {
    "duration": 4,
    "start_time": "2022-04-05T17:47:31.678Z"
   },
   {
    "duration": 227,
    "start_time": "2022-04-05T17:47:31.683Z"
   },
   {
    "duration": 4,
    "start_time": "2022-04-05T17:47:31.912Z"
   },
   {
    "duration": 221,
    "start_time": "2022-04-05T17:47:31.917Z"
   },
   {
    "duration": 5,
    "start_time": "2022-04-05T17:47:32.140Z"
   },
   {
    "duration": 156,
    "start_time": "2022-04-05T17:47:32.147Z"
   },
   {
    "duration": 5,
    "start_time": "2022-04-05T17:47:32.305Z"
   },
   {
    "duration": 20,
    "start_time": "2022-04-05T17:47:32.312Z"
   },
   {
    "duration": 3,
    "start_time": "2022-04-05T17:47:32.334Z"
   },
   {
    "duration": 7,
    "start_time": "2022-04-05T17:47:32.339Z"
   },
   {
    "duration": 17,
    "start_time": "2022-04-05T17:47:32.347Z"
   },
   {
    "duration": 102,
    "start_time": "2022-04-05T17:47:37.085Z"
   },
   {
    "duration": 11,
    "start_time": "2022-04-05T17:48:48.793Z"
   },
   {
    "duration": 5,
    "start_time": "2022-04-05T17:48:55.065Z"
   },
   {
    "duration": 4,
    "start_time": "2022-04-05T17:48:55.713Z"
   },
   {
    "duration": 7,
    "start_time": "2022-04-05T17:48:59.295Z"
   },
   {
    "duration": 8,
    "start_time": "2022-04-05T17:49:00.353Z"
   },
   {
    "duration": 3,
    "start_time": "2022-04-05T17:49:02.569Z"
   },
   {
    "duration": 23,
    "start_time": "2022-04-05T17:49:22.500Z"
   },
   {
    "duration": 12,
    "start_time": "2022-04-05T17:49:43.485Z"
   },
   {
    "duration": 22,
    "start_time": "2022-04-05T17:49:56.915Z"
   },
   {
    "duration": 8,
    "start_time": "2022-04-05T17:50:06.251Z"
   },
   {
    "duration": 19,
    "start_time": "2022-04-05T17:50:09.891Z"
   },
   {
    "duration": 7,
    "start_time": "2022-04-05T17:50:19.379Z"
   },
   {
    "duration": 1077,
    "start_time": "2022-04-05T17:50:23.915Z"
   },
   {
    "duration": 16,
    "start_time": "2022-04-05T17:50:41.036Z"
   },
   {
    "duration": 25,
    "start_time": "2022-04-05T17:50:59.090Z"
   },
   {
    "duration": 37,
    "start_time": "2022-04-05T17:51:04.629Z"
   },
   {
    "duration": 261,
    "start_time": "2022-04-05T17:51:09.554Z"
   },
   {
    "duration": 12,
    "start_time": "2022-04-05T17:51:14.516Z"
   },
   {
    "duration": 37691,
    "start_time": "2022-04-05T17:51:28.803Z"
   },
   {
    "duration": 11,
    "start_time": "2022-04-05T17:52:15.482Z"
   },
   {
    "duration": 10772,
    "start_time": "2022-04-05T17:52:15.950Z"
   },
   {
    "duration": 192,
    "start_time": "2022-04-05T17:52:31.921Z"
   },
   {
    "duration": 50,
    "start_time": "2022-04-06T12:07:11.073Z"
   },
   {
    "duration": 1582,
    "start_time": "2022-04-06T12:07:18.324Z"
   },
   {
    "duration": 41,
    "start_time": "2022-04-06T12:07:19.908Z"
   },
   {
    "duration": 24,
    "start_time": "2022-04-06T12:07:19.951Z"
   },
   {
    "duration": 13,
    "start_time": "2022-04-06T12:07:19.977Z"
   },
   {
    "duration": 8,
    "start_time": "2022-04-06T12:07:20.008Z"
   },
   {
    "duration": 8,
    "start_time": "2022-04-06T12:07:20.017Z"
   },
   {
    "duration": 11,
    "start_time": "2022-04-06T12:07:20.027Z"
   },
   {
    "duration": 12,
    "start_time": "2022-04-06T12:07:20.040Z"
   },
   {
    "duration": 220,
    "start_time": "2022-04-06T12:07:20.054Z"
   },
   {
    "duration": 5,
    "start_time": "2022-04-06T12:07:20.277Z"
   },
   {
    "duration": 203,
    "start_time": "2022-04-06T12:07:20.284Z"
   },
   {
    "duration": 5,
    "start_time": "2022-04-06T12:07:20.488Z"
   },
   {
    "duration": 200,
    "start_time": "2022-04-06T12:07:20.495Z"
   },
   {
    "duration": 16,
    "start_time": "2022-04-06T12:07:20.696Z"
   },
   {
    "duration": 288,
    "start_time": "2022-04-06T12:07:20.713Z"
   },
   {
    "duration": 6,
    "start_time": "2022-04-06T12:07:21.003Z"
   },
   {
    "duration": 272,
    "start_time": "2022-04-06T12:07:21.010Z"
   },
   {
    "duration": 4,
    "start_time": "2022-04-06T12:07:21.284Z"
   },
   {
    "duration": 198,
    "start_time": "2022-04-06T12:07:21.290Z"
   },
   {
    "duration": 5,
    "start_time": "2022-04-06T12:07:21.489Z"
   },
   {
    "duration": 14,
    "start_time": "2022-04-06T12:07:21.495Z"
   },
   {
    "duration": 2,
    "start_time": "2022-04-06T12:07:21.511Z"
   },
   {
    "duration": 6,
    "start_time": "2022-04-06T12:07:21.515Z"
   },
   {
    "duration": 19,
    "start_time": "2022-04-06T12:07:21.523Z"
   },
   {
    "duration": 11,
    "start_time": "2022-04-06T12:07:21.543Z"
   },
   {
    "duration": 3,
    "start_time": "2022-04-06T12:07:21.556Z"
   },
   {
    "duration": 6,
    "start_time": "2022-04-06T12:07:21.560Z"
   },
   {
    "duration": 41,
    "start_time": "2022-04-06T12:07:21.569Z"
   },
   {
    "duration": 9,
    "start_time": "2022-04-06T12:07:21.611Z"
   },
   {
    "duration": 2,
    "start_time": "2022-04-06T12:07:21.622Z"
   },
   {
    "duration": 30,
    "start_time": "2022-04-06T12:07:21.626Z"
   },
   {
    "duration": 12,
    "start_time": "2022-04-06T12:07:21.658Z"
   },
   {
    "duration": 56,
    "start_time": "2022-04-06T12:07:21.672Z"
   },
   {
    "duration": 180,
    "start_time": "2022-04-06T12:07:21.730Z"
   },
   {
    "duration": 113,
    "start_time": "2022-04-06T12:07:21.912Z"
   },
   {
    "duration": 8,
    "start_time": "2022-04-06T12:07:22.026Z"
   },
   {
    "duration": 1261,
    "start_time": "2022-04-06T12:07:22.035Z"
   },
   {
    "duration": 26,
    "start_time": "2022-04-06T12:07:23.298Z"
   },
   {
    "duration": 84,
    "start_time": "2022-04-06T12:07:23.325Z"
   },
   {
    "duration": 135,
    "start_time": "2022-04-06T12:07:23.412Z"
   },
   {
    "duration": 329,
    "start_time": "2022-04-06T12:07:23.549Z"
   },
   {
    "duration": 14,
    "start_time": "2022-04-06T12:07:23.881Z"
   },
   {
    "duration": 43813,
    "start_time": "2022-04-06T12:07:23.896Z"
   },
   {
    "duration": 11,
    "start_time": "2022-04-06T12:08:07.710Z"
   },
   {
    "duration": 12882,
    "start_time": "2022-04-06T12:08:07.723Z"
   },
   {
    "duration": 238,
    "start_time": "2022-04-06T12:08:20.606Z"
   },
   {
    "duration": 13,
    "start_time": "2022-04-06T12:11:39.713Z"
   },
   {
    "duration": 8,
    "start_time": "2022-04-06T12:17:11.330Z"
   },
   {
    "duration": 8,
    "start_time": "2022-04-06T12:18:05.099Z"
   },
   {
    "duration": 22,
    "start_time": "2022-04-06T12:18:53.567Z"
   },
   {
    "duration": 258,
    "start_time": "2022-04-06T12:21:05.205Z"
   },
   {
    "duration": 22,
    "start_time": "2022-04-06T12:23:32.557Z"
   },
   {
    "duration": 16,
    "start_time": "2022-04-06T12:26:44.888Z"
   },
   {
    "duration": 14,
    "start_time": "2022-04-06T12:28:56.893Z"
   },
   {
    "duration": 9,
    "start_time": "2022-04-06T12:30:31.278Z"
   },
   {
    "duration": 45,
    "start_time": "2022-04-06T12:31:56.212Z"
   },
   {
    "duration": 7,
    "start_time": "2022-04-06T12:31:58.193Z"
   },
   {
    "duration": 21,
    "start_time": "2022-04-06T12:33:02.970Z"
   },
   {
    "duration": 23,
    "start_time": "2022-04-06T12:33:27.042Z"
   },
   {
    "duration": 90,
    "start_time": "2022-04-06T12:34:20.319Z"
   },
   {
    "duration": 8,
    "start_time": "2022-04-06T12:34:40.015Z"
   },
   {
    "duration": 8,
    "start_time": "2022-04-06T12:34:51.261Z"
   },
   {
    "duration": 22,
    "start_time": "2022-04-06T12:35:41.779Z"
   },
   {
    "duration": 17,
    "start_time": "2022-04-06T12:37:30.142Z"
   },
   {
    "duration": 69,
    "start_time": "2022-04-06T12:43:07.400Z"
   }
  ],
  "kernelspec": {
   "display_name": "Python 3 (ipykernel)",
   "language": "python",
   "name": "python3"
  },
  "language_info": {
   "codemirror_mode": {
    "name": "ipython",
    "version": 3
   },
   "file_extension": ".py",
   "mimetype": "text/x-python",
   "name": "python",
   "nbconvert_exporter": "python",
   "pygments_lexer": "ipython3",
   "version": "3.9.12"
  },
  "toc": {
   "base_numbering": 1,
   "nav_menu": {},
   "number_sections": true,
   "sideBar": true,
   "skip_h1_title": true,
   "title_cell": "Содержание",
   "title_sidebar": "Contents",
   "toc_cell": true,
   "toc_position": {
    "height": "calc(100% - 180px)",
    "left": "10px",
    "top": "150px",
    "width": "238.396px"
   },
   "toc_section_display": true,
   "toc_window_display": true
  }
 },
 "nbformat": 4,
 "nbformat_minor": 2
}
