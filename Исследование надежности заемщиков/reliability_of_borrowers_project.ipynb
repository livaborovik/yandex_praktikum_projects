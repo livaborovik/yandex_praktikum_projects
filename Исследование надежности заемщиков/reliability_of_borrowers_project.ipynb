{
 "cells": [
  {
   "cell_type": "markdown",
   "metadata": {},
   "source": [
    "# Исследование надёжности заёмщиков"
   ]
  },
  {
   "cell_type": "markdown",
   "metadata": {},
   "source": [
    "**Цель исследования** - изучение влияния различных факторов (наличие и количество детей или их отсутствие, семейное положение, уровень совокупного дохода, цель кредитования) на возможность погашения кредита в срок, необходимое для использования полученных результатов при построении модели кредитного скоринга."
   ]
  },
  {
   "cell_type": "markdown",
   "metadata": {},
   "source": [
    "**Задачи исследования**:\n",
    "\n",
    "1. Изучить предоставленные банком данные о платежеспособности клиентов.\n",
    "2. Подготовить данные к проведению исследования.\n",
    "3. Оценить влияние различных факторов на возможность погашения кредита в срок.\n",
    "4. Дать рекомендации по улучшению построения модели кредитного сокринга."
   ]
  },
  {
   "cell_type": "markdown",
   "metadata": {},
   "source": [
    "## Шаг 1. Откройте файл с данными и изучите общую информацию"
   ]
  },
  {
   "cell_type": "code",
   "execution_count": 1,
   "metadata": {},
   "outputs": [
    {
     "name": "stdout",
     "output_type": "stream",
     "text": [
      "<class 'pandas.core.frame.DataFrame'>\n",
      "RangeIndex: 21525 entries, 0 to 21524\n",
      "Data columns (total 12 columns):\n",
      "children            21525 non-null int64\n",
      "days_employed       19351 non-null float64\n",
      "dob_years           21525 non-null int64\n",
      "education           21525 non-null object\n",
      "education_id        21525 non-null int64\n",
      "family_status       21525 non-null object\n",
      "family_status_id    21525 non-null int64\n",
      "gender              21525 non-null object\n",
      "income_type         21525 non-null object\n",
      "debt                21525 non-null int64\n",
      "total_income        19351 non-null float64\n",
      "purpose             21525 non-null object\n",
      "dtypes: float64(2), int64(5), object(5)\n",
      "memory usage: 2.0+ MB\n"
     ]
    },
    {
     "data": {
      "text/html": [
       "<div>\n",
       "<style scoped>\n",
       "    .dataframe tbody tr th:only-of-type {\n",
       "        vertical-align: middle;\n",
       "    }\n",
       "\n",
       "    .dataframe tbody tr th {\n",
       "        vertical-align: top;\n",
       "    }\n",
       "\n",
       "    .dataframe thead th {\n",
       "        text-align: right;\n",
       "    }\n",
       "</style>\n",
       "<table border=\"1\" class=\"dataframe\">\n",
       "  <thead>\n",
       "    <tr style=\"text-align: right;\">\n",
       "      <th></th>\n",
       "      <th>children</th>\n",
       "      <th>days_employed</th>\n",
       "      <th>dob_years</th>\n",
       "      <th>education</th>\n",
       "      <th>education_id</th>\n",
       "      <th>family_status</th>\n",
       "      <th>family_status_id</th>\n",
       "      <th>gender</th>\n",
       "      <th>income_type</th>\n",
       "      <th>debt</th>\n",
       "      <th>total_income</th>\n",
       "      <th>purpose</th>\n",
       "    </tr>\n",
       "  </thead>\n",
       "  <tbody>\n",
       "    <tr>\n",
       "      <td>0</td>\n",
       "      <td>1</td>\n",
       "      <td>-8437.673028</td>\n",
       "      <td>42</td>\n",
       "      <td>высшее</td>\n",
       "      <td>0</td>\n",
       "      <td>женат / замужем</td>\n",
       "      <td>0</td>\n",
       "      <td>F</td>\n",
       "      <td>сотрудник</td>\n",
       "      <td>0</td>\n",
       "      <td>253875.639453</td>\n",
       "      <td>покупка жилья</td>\n",
       "    </tr>\n",
       "    <tr>\n",
       "      <td>1</td>\n",
       "      <td>1</td>\n",
       "      <td>-4024.803754</td>\n",
       "      <td>36</td>\n",
       "      <td>среднее</td>\n",
       "      <td>1</td>\n",
       "      <td>женат / замужем</td>\n",
       "      <td>0</td>\n",
       "      <td>F</td>\n",
       "      <td>сотрудник</td>\n",
       "      <td>0</td>\n",
       "      <td>112080.014102</td>\n",
       "      <td>приобретение автомобиля</td>\n",
       "    </tr>\n",
       "    <tr>\n",
       "      <td>2</td>\n",
       "      <td>0</td>\n",
       "      <td>-5623.422610</td>\n",
       "      <td>33</td>\n",
       "      <td>Среднее</td>\n",
       "      <td>1</td>\n",
       "      <td>женат / замужем</td>\n",
       "      <td>0</td>\n",
       "      <td>M</td>\n",
       "      <td>сотрудник</td>\n",
       "      <td>0</td>\n",
       "      <td>145885.952297</td>\n",
       "      <td>покупка жилья</td>\n",
       "    </tr>\n",
       "    <tr>\n",
       "      <td>3</td>\n",
       "      <td>3</td>\n",
       "      <td>-4124.747207</td>\n",
       "      <td>32</td>\n",
       "      <td>среднее</td>\n",
       "      <td>1</td>\n",
       "      <td>женат / замужем</td>\n",
       "      <td>0</td>\n",
       "      <td>M</td>\n",
       "      <td>сотрудник</td>\n",
       "      <td>0</td>\n",
       "      <td>267628.550329</td>\n",
       "      <td>дополнительное образование</td>\n",
       "    </tr>\n",
       "    <tr>\n",
       "      <td>4</td>\n",
       "      <td>0</td>\n",
       "      <td>340266.072047</td>\n",
       "      <td>53</td>\n",
       "      <td>среднее</td>\n",
       "      <td>1</td>\n",
       "      <td>гражданский брак</td>\n",
       "      <td>1</td>\n",
       "      <td>F</td>\n",
       "      <td>пенсионер</td>\n",
       "      <td>0</td>\n",
       "      <td>158616.077870</td>\n",
       "      <td>сыграть свадьбу</td>\n",
       "    </tr>\n",
       "    <tr>\n",
       "      <td>5</td>\n",
       "      <td>0</td>\n",
       "      <td>-926.185831</td>\n",
       "      <td>27</td>\n",
       "      <td>высшее</td>\n",
       "      <td>0</td>\n",
       "      <td>гражданский брак</td>\n",
       "      <td>1</td>\n",
       "      <td>M</td>\n",
       "      <td>компаньон</td>\n",
       "      <td>0</td>\n",
       "      <td>255763.565419</td>\n",
       "      <td>покупка жилья</td>\n",
       "    </tr>\n",
       "    <tr>\n",
       "      <td>6</td>\n",
       "      <td>0</td>\n",
       "      <td>-2879.202052</td>\n",
       "      <td>43</td>\n",
       "      <td>высшее</td>\n",
       "      <td>0</td>\n",
       "      <td>женат / замужем</td>\n",
       "      <td>0</td>\n",
       "      <td>F</td>\n",
       "      <td>компаньон</td>\n",
       "      <td>0</td>\n",
       "      <td>240525.971920</td>\n",
       "      <td>операции с жильем</td>\n",
       "    </tr>\n",
       "    <tr>\n",
       "      <td>7</td>\n",
       "      <td>0</td>\n",
       "      <td>-152.779569</td>\n",
       "      <td>50</td>\n",
       "      <td>СРЕДНЕЕ</td>\n",
       "      <td>1</td>\n",
       "      <td>женат / замужем</td>\n",
       "      <td>0</td>\n",
       "      <td>M</td>\n",
       "      <td>сотрудник</td>\n",
       "      <td>0</td>\n",
       "      <td>135823.934197</td>\n",
       "      <td>образование</td>\n",
       "    </tr>\n",
       "    <tr>\n",
       "      <td>8</td>\n",
       "      <td>2</td>\n",
       "      <td>-6929.865299</td>\n",
       "      <td>35</td>\n",
       "      <td>ВЫСШЕЕ</td>\n",
       "      <td>0</td>\n",
       "      <td>гражданский брак</td>\n",
       "      <td>1</td>\n",
       "      <td>F</td>\n",
       "      <td>сотрудник</td>\n",
       "      <td>0</td>\n",
       "      <td>95856.832424</td>\n",
       "      <td>на проведение свадьбы</td>\n",
       "    </tr>\n",
       "    <tr>\n",
       "      <td>9</td>\n",
       "      <td>0</td>\n",
       "      <td>-2188.756445</td>\n",
       "      <td>41</td>\n",
       "      <td>среднее</td>\n",
       "      <td>1</td>\n",
       "      <td>женат / замужем</td>\n",
       "      <td>0</td>\n",
       "      <td>M</td>\n",
       "      <td>сотрудник</td>\n",
       "      <td>0</td>\n",
       "      <td>144425.938277</td>\n",
       "      <td>покупка жилья для семьи</td>\n",
       "    </tr>\n",
       "  </tbody>\n",
       "</table>\n",
       "</div>"
      ],
      "text/plain": [
       "   children  days_employed  dob_years education  education_id  \\\n",
       "0         1   -8437.673028         42    высшее             0   \n",
       "1         1   -4024.803754         36   среднее             1   \n",
       "2         0   -5623.422610         33   Среднее             1   \n",
       "3         3   -4124.747207         32   среднее             1   \n",
       "4         0  340266.072047         53   среднее             1   \n",
       "5         0    -926.185831         27    высшее             0   \n",
       "6         0   -2879.202052         43    высшее             0   \n",
       "7         0    -152.779569         50   СРЕДНЕЕ             1   \n",
       "8         2   -6929.865299         35    ВЫСШЕЕ             0   \n",
       "9         0   -2188.756445         41   среднее             1   \n",
       "\n",
       "      family_status  family_status_id gender income_type  debt   total_income  \\\n",
       "0   женат / замужем                 0      F   сотрудник     0  253875.639453   \n",
       "1   женат / замужем                 0      F   сотрудник     0  112080.014102   \n",
       "2   женат / замужем                 0      M   сотрудник     0  145885.952297   \n",
       "3   женат / замужем                 0      M   сотрудник     0  267628.550329   \n",
       "4  гражданский брак                 1      F   пенсионер     0  158616.077870   \n",
       "5  гражданский брак                 1      M   компаньон     0  255763.565419   \n",
       "6   женат / замужем                 0      F   компаньон     0  240525.971920   \n",
       "7   женат / замужем                 0      M   сотрудник     0  135823.934197   \n",
       "8  гражданский брак                 1      F   сотрудник     0   95856.832424   \n",
       "9   женат / замужем                 0      M   сотрудник     0  144425.938277   \n",
       "\n",
       "                      purpose  \n",
       "0               покупка жилья  \n",
       "1     приобретение автомобиля  \n",
       "2               покупка жилья  \n",
       "3  дополнительное образование  \n",
       "4             сыграть свадьбу  \n",
       "5               покупка жилья  \n",
       "6           операции с жильем  \n",
       "7                 образование  \n",
       "8       на проведение свадьбы  \n",
       "9     покупка жилья для семьи  "
      ]
     },
     "execution_count": 1,
     "metadata": {},
     "output_type": "execute_result"
    }
   ],
   "source": [
    "#импортируем библиотеку Pandas и открываем файл\n",
    "\n",
    "import pandas as pd\n",
    "data = pd.read_csv('/datasets/data.csv')\n",
    "\n",
    "#просмотрим информацию о таблице\n",
    "data.info()\n",
    "\n",
    "#выведем на экран 10 первых значений для изучения данных\n",
    "\n",
    "data.head(10)\n"
   ]
  },
  {
   "cell_type": "markdown",
   "metadata": {},
   "source": [
    "**Вывод**"
   ]
  },
  {
   "cell_type": "markdown",
   "metadata": {},
   "source": [
    "Изучив информацию о таблице, видно, что во всех столбцах встречаются пропущенные значения (как категориальные, так и количественные). В столбце days_employed помимо пропущенных значений встречаются отрицательные значения, которые из-за отсутствия округления, трудно визуально воспринимать. Более того, в столбце days_employed возможно некорректная единица измерения. Но, поскольку этот столбец в дальнейшем не будет участвовать в расчетах, можно не придавать этому особого значения. В столбце total_income также трудно воспринимать значения из-за отсутствия округления. Пропуски могут быть вызваны разными факторами: первоначальное предоставление некорректных данных, человеческий фактор, технологические проблемы при выгрузке данных. Для проведения расчетов необходимо провести предобработку данных.\n"
   ]
  },
  {
   "cell_type": "markdown",
   "metadata": {},
   "source": [
    "## Шаг 2. Предобработка данных"
   ]
  },
  {
   "cell_type": "markdown",
   "metadata": {},
   "source": [
    "### Обработка пропусков"
   ]
  },
  {
   "cell_type": "markdown",
   "metadata": {},
   "source": [
    "Для дальнейших расчетов нам необходимы следующие столбцы: children, family-status,family_status_id,income_type,total_income. В столбце days_employed заполним пропуски, удалять их не нужно, поскольку в строках других столбцов может быть важная для исследования информация. "
   ]
  },
  {
   "cell_type": "code",
   "execution_count": 2,
   "metadata": {
    "scrolled": true
   },
   "outputs": [
    {
     "data": {
      "text/html": [
       "<div>\n",
       "<style scoped>\n",
       "    .dataframe tbody tr th:only-of-type {\n",
       "        vertical-align: middle;\n",
       "    }\n",
       "\n",
       "    .dataframe tbody tr th {\n",
       "        vertical-align: top;\n",
       "    }\n",
       "\n",
       "    .dataframe thead th {\n",
       "        text-align: right;\n",
       "    }\n",
       "</style>\n",
       "<table border=\"1\" class=\"dataframe\">\n",
       "  <thead>\n",
       "    <tr style=\"text-align: right;\">\n",
       "      <th></th>\n",
       "      <th>children</th>\n",
       "      <th>days_employed</th>\n",
       "      <th>dob_years</th>\n",
       "      <th>education</th>\n",
       "      <th>education_id</th>\n",
       "      <th>family_status</th>\n",
       "      <th>family_status_id</th>\n",
       "      <th>gender</th>\n",
       "      <th>income_type</th>\n",
       "      <th>debt</th>\n",
       "      <th>total_income</th>\n",
       "      <th>purpose</th>\n",
       "    </tr>\n",
       "  </thead>\n",
       "  <tbody>\n",
       "    <tr>\n",
       "      <td>12</td>\n",
       "      <td>0</td>\n",
       "      <td>NaN</td>\n",
       "      <td>65</td>\n",
       "      <td>среднее</td>\n",
       "      <td>1</td>\n",
       "      <td>гражданский брак</td>\n",
       "      <td>1</td>\n",
       "      <td>M</td>\n",
       "      <td>пенсионер</td>\n",
       "      <td>0</td>\n",
       "      <td>NaN</td>\n",
       "      <td>сыграть свадьбу</td>\n",
       "    </tr>\n",
       "    <tr>\n",
       "      <td>26</td>\n",
       "      <td>0</td>\n",
       "      <td>NaN</td>\n",
       "      <td>41</td>\n",
       "      <td>среднее</td>\n",
       "      <td>1</td>\n",
       "      <td>женат / замужем</td>\n",
       "      <td>0</td>\n",
       "      <td>M</td>\n",
       "      <td>госслужащий</td>\n",
       "      <td>0</td>\n",
       "      <td>NaN</td>\n",
       "      <td>образование</td>\n",
       "    </tr>\n",
       "    <tr>\n",
       "      <td>29</td>\n",
       "      <td>0</td>\n",
       "      <td>NaN</td>\n",
       "      <td>63</td>\n",
       "      <td>среднее</td>\n",
       "      <td>1</td>\n",
       "      <td>Не женат / не замужем</td>\n",
       "      <td>4</td>\n",
       "      <td>F</td>\n",
       "      <td>пенсионер</td>\n",
       "      <td>0</td>\n",
       "      <td>NaN</td>\n",
       "      <td>строительство жилой недвижимости</td>\n",
       "    </tr>\n",
       "    <tr>\n",
       "      <td>41</td>\n",
       "      <td>0</td>\n",
       "      <td>NaN</td>\n",
       "      <td>50</td>\n",
       "      <td>среднее</td>\n",
       "      <td>1</td>\n",
       "      <td>женат / замужем</td>\n",
       "      <td>0</td>\n",
       "      <td>F</td>\n",
       "      <td>госслужащий</td>\n",
       "      <td>0</td>\n",
       "      <td>NaN</td>\n",
       "      <td>сделка с подержанным автомобилем</td>\n",
       "    </tr>\n",
       "    <tr>\n",
       "      <td>55</td>\n",
       "      <td>0</td>\n",
       "      <td>NaN</td>\n",
       "      <td>54</td>\n",
       "      <td>среднее</td>\n",
       "      <td>1</td>\n",
       "      <td>гражданский брак</td>\n",
       "      <td>1</td>\n",
       "      <td>F</td>\n",
       "      <td>пенсионер</td>\n",
       "      <td>1</td>\n",
       "      <td>NaN</td>\n",
       "      <td>сыграть свадьбу</td>\n",
       "    </tr>\n",
       "    <tr>\n",
       "      <td>...</td>\n",
       "      <td>...</td>\n",
       "      <td>...</td>\n",
       "      <td>...</td>\n",
       "      <td>...</td>\n",
       "      <td>...</td>\n",
       "      <td>...</td>\n",
       "      <td>...</td>\n",
       "      <td>...</td>\n",
       "      <td>...</td>\n",
       "      <td>...</td>\n",
       "      <td>...</td>\n",
       "      <td>...</td>\n",
       "    </tr>\n",
       "    <tr>\n",
       "      <td>21489</td>\n",
       "      <td>2</td>\n",
       "      <td>NaN</td>\n",
       "      <td>47</td>\n",
       "      <td>Среднее</td>\n",
       "      <td>1</td>\n",
       "      <td>женат / замужем</td>\n",
       "      <td>0</td>\n",
       "      <td>M</td>\n",
       "      <td>компаньон</td>\n",
       "      <td>0</td>\n",
       "      <td>NaN</td>\n",
       "      <td>сделка с автомобилем</td>\n",
       "    </tr>\n",
       "    <tr>\n",
       "      <td>21495</td>\n",
       "      <td>1</td>\n",
       "      <td>NaN</td>\n",
       "      <td>50</td>\n",
       "      <td>среднее</td>\n",
       "      <td>1</td>\n",
       "      <td>гражданский брак</td>\n",
       "      <td>1</td>\n",
       "      <td>F</td>\n",
       "      <td>сотрудник</td>\n",
       "      <td>0</td>\n",
       "      <td>NaN</td>\n",
       "      <td>свадьба</td>\n",
       "    </tr>\n",
       "    <tr>\n",
       "      <td>21497</td>\n",
       "      <td>0</td>\n",
       "      <td>NaN</td>\n",
       "      <td>48</td>\n",
       "      <td>ВЫСШЕЕ</td>\n",
       "      <td>0</td>\n",
       "      <td>женат / замужем</td>\n",
       "      <td>0</td>\n",
       "      <td>F</td>\n",
       "      <td>компаньон</td>\n",
       "      <td>0</td>\n",
       "      <td>NaN</td>\n",
       "      <td>строительство недвижимости</td>\n",
       "    </tr>\n",
       "    <tr>\n",
       "      <td>21502</td>\n",
       "      <td>1</td>\n",
       "      <td>NaN</td>\n",
       "      <td>42</td>\n",
       "      <td>среднее</td>\n",
       "      <td>1</td>\n",
       "      <td>женат / замужем</td>\n",
       "      <td>0</td>\n",
       "      <td>F</td>\n",
       "      <td>сотрудник</td>\n",
       "      <td>0</td>\n",
       "      <td>NaN</td>\n",
       "      <td>строительство жилой недвижимости</td>\n",
       "    </tr>\n",
       "    <tr>\n",
       "      <td>21510</td>\n",
       "      <td>2</td>\n",
       "      <td>NaN</td>\n",
       "      <td>28</td>\n",
       "      <td>среднее</td>\n",
       "      <td>1</td>\n",
       "      <td>женат / замужем</td>\n",
       "      <td>0</td>\n",
       "      <td>F</td>\n",
       "      <td>сотрудник</td>\n",
       "      <td>0</td>\n",
       "      <td>NaN</td>\n",
       "      <td>приобретение автомобиля</td>\n",
       "    </tr>\n",
       "  </tbody>\n",
       "</table>\n",
       "<p>2174 rows × 12 columns</p>\n",
       "</div>"
      ],
      "text/plain": [
       "       children  days_employed  dob_years education  education_id  \\\n",
       "12            0            NaN         65   среднее             1   \n",
       "26            0            NaN         41   среднее             1   \n",
       "29            0            NaN         63   среднее             1   \n",
       "41            0            NaN         50   среднее             1   \n",
       "55            0            NaN         54   среднее             1   \n",
       "...         ...            ...        ...       ...           ...   \n",
       "21489         2            NaN         47   Среднее             1   \n",
       "21495         1            NaN         50   среднее             1   \n",
       "21497         0            NaN         48    ВЫСШЕЕ             0   \n",
       "21502         1            NaN         42   среднее             1   \n",
       "21510         2            NaN         28   среднее             1   \n",
       "\n",
       "               family_status  family_status_id gender  income_type  debt  \\\n",
       "12          гражданский брак                 1      M    пенсионер     0   \n",
       "26           женат / замужем                 0      M  госслужащий     0   \n",
       "29     Не женат / не замужем                 4      F    пенсионер     0   \n",
       "41           женат / замужем                 0      F  госслужащий     0   \n",
       "55          гражданский брак                 1      F    пенсионер     1   \n",
       "...                      ...               ...    ...          ...   ...   \n",
       "21489        женат / замужем                 0      M    компаньон     0   \n",
       "21495       гражданский брак                 1      F    сотрудник     0   \n",
       "21497        женат / замужем                 0      F    компаньон     0   \n",
       "21502        женат / замужем                 0      F    сотрудник     0   \n",
       "21510        женат / замужем                 0      F    сотрудник     0   \n",
       "\n",
       "       total_income                           purpose  \n",
       "12              NaN                   сыграть свадьбу  \n",
       "26              NaN                       образование  \n",
       "29              NaN  строительство жилой недвижимости  \n",
       "41              NaN  сделка с подержанным автомобилем  \n",
       "55              NaN                   сыграть свадьбу  \n",
       "...             ...                               ...  \n",
       "21489           NaN              сделка с автомобилем  \n",
       "21495           NaN                           свадьба  \n",
       "21497           NaN        строительство недвижимости  \n",
       "21502           NaN  строительство жилой недвижимости  \n",
       "21510           NaN           приобретение автомобиля  \n",
       "\n",
       "[2174 rows x 12 columns]"
      ]
     },
     "execution_count": 2,
     "metadata": {},
     "output_type": "execute_result"
    }
   ],
   "source": [
    "#для определения пропущенных значений в столбце days_employed используем методы loc и isna()\n",
    "\n",
    "data.loc[data['days_employed'].isna()]"
   ]
  },
  {
   "cell_type": "code",
   "execution_count": 3,
   "metadata": {},
   "outputs": [
    {
     "data": {
      "text/plain": [
       "0"
      ]
     },
     "execution_count": 3,
     "metadata": {},
     "output_type": "execute_result"
    }
   ],
   "source": [
    "#с помощью метода fillna() заполним пропущенные значения в столбце days_employed на нулевое значение, \n",
    "#т.к. этот столбец не участвует в расчете влияния на срок погашения кредита\n",
    "\n",
    "data['days_employed'] = data['days_employed'].fillna(0)\n",
    "\n",
    "#посчитаем количество пропущенных значений в столбце days_employed с помощью функции len()\n",
    "\n",
    "len(data[data['days_employed'].isna()])\n",
    "\n"
   ]
  },
  {
   "cell_type": "code",
   "execution_count": 4,
   "metadata": {},
   "outputs": [
    {
     "data": {
      "text/html": [
       "<div>\n",
       "<style scoped>\n",
       "    .dataframe tbody tr th:only-of-type {\n",
       "        vertical-align: middle;\n",
       "    }\n",
       "\n",
       "    .dataframe tbody tr th {\n",
       "        vertical-align: top;\n",
       "    }\n",
       "\n",
       "    .dataframe thead th {\n",
       "        text-align: right;\n",
       "    }\n",
       "</style>\n",
       "<table border=\"1\" class=\"dataframe\">\n",
       "  <thead>\n",
       "    <tr style=\"text-align: right;\">\n",
       "      <th></th>\n",
       "      <th>children</th>\n",
       "      <th>days_employed</th>\n",
       "      <th>dob_years</th>\n",
       "      <th>education</th>\n",
       "      <th>education_id</th>\n",
       "      <th>family_status</th>\n",
       "      <th>family_status_id</th>\n",
       "      <th>gender</th>\n",
       "      <th>income_type</th>\n",
       "      <th>debt</th>\n",
       "      <th>total_income</th>\n",
       "      <th>purpose</th>\n",
       "    </tr>\n",
       "  </thead>\n",
       "  <tbody>\n",
       "    <tr>\n",
       "      <td>12</td>\n",
       "      <td>0</td>\n",
       "      <td>0.0</td>\n",
       "      <td>65</td>\n",
       "      <td>среднее</td>\n",
       "      <td>1</td>\n",
       "      <td>гражданский брак</td>\n",
       "      <td>1</td>\n",
       "      <td>M</td>\n",
       "      <td>пенсионер</td>\n",
       "      <td>0</td>\n",
       "      <td>NaN</td>\n",
       "      <td>сыграть свадьбу</td>\n",
       "    </tr>\n",
       "    <tr>\n",
       "      <td>26</td>\n",
       "      <td>0</td>\n",
       "      <td>0.0</td>\n",
       "      <td>41</td>\n",
       "      <td>среднее</td>\n",
       "      <td>1</td>\n",
       "      <td>женат / замужем</td>\n",
       "      <td>0</td>\n",
       "      <td>M</td>\n",
       "      <td>госслужащий</td>\n",
       "      <td>0</td>\n",
       "      <td>NaN</td>\n",
       "      <td>образование</td>\n",
       "    </tr>\n",
       "    <tr>\n",
       "      <td>29</td>\n",
       "      <td>0</td>\n",
       "      <td>0.0</td>\n",
       "      <td>63</td>\n",
       "      <td>среднее</td>\n",
       "      <td>1</td>\n",
       "      <td>Не женат / не замужем</td>\n",
       "      <td>4</td>\n",
       "      <td>F</td>\n",
       "      <td>пенсионер</td>\n",
       "      <td>0</td>\n",
       "      <td>NaN</td>\n",
       "      <td>строительство жилой недвижимости</td>\n",
       "    </tr>\n",
       "    <tr>\n",
       "      <td>41</td>\n",
       "      <td>0</td>\n",
       "      <td>0.0</td>\n",
       "      <td>50</td>\n",
       "      <td>среднее</td>\n",
       "      <td>1</td>\n",
       "      <td>женат / замужем</td>\n",
       "      <td>0</td>\n",
       "      <td>F</td>\n",
       "      <td>госслужащий</td>\n",
       "      <td>0</td>\n",
       "      <td>NaN</td>\n",
       "      <td>сделка с подержанным автомобилем</td>\n",
       "    </tr>\n",
       "    <tr>\n",
       "      <td>55</td>\n",
       "      <td>0</td>\n",
       "      <td>0.0</td>\n",
       "      <td>54</td>\n",
       "      <td>среднее</td>\n",
       "      <td>1</td>\n",
       "      <td>гражданский брак</td>\n",
       "      <td>1</td>\n",
       "      <td>F</td>\n",
       "      <td>пенсионер</td>\n",
       "      <td>1</td>\n",
       "      <td>NaN</td>\n",
       "      <td>сыграть свадьбу</td>\n",
       "    </tr>\n",
       "    <tr>\n",
       "      <td>...</td>\n",
       "      <td>...</td>\n",
       "      <td>...</td>\n",
       "      <td>...</td>\n",
       "      <td>...</td>\n",
       "      <td>...</td>\n",
       "      <td>...</td>\n",
       "      <td>...</td>\n",
       "      <td>...</td>\n",
       "      <td>...</td>\n",
       "      <td>...</td>\n",
       "      <td>...</td>\n",
       "      <td>...</td>\n",
       "    </tr>\n",
       "    <tr>\n",
       "      <td>21489</td>\n",
       "      <td>2</td>\n",
       "      <td>0.0</td>\n",
       "      <td>47</td>\n",
       "      <td>Среднее</td>\n",
       "      <td>1</td>\n",
       "      <td>женат / замужем</td>\n",
       "      <td>0</td>\n",
       "      <td>M</td>\n",
       "      <td>компаньон</td>\n",
       "      <td>0</td>\n",
       "      <td>NaN</td>\n",
       "      <td>сделка с автомобилем</td>\n",
       "    </tr>\n",
       "    <tr>\n",
       "      <td>21495</td>\n",
       "      <td>1</td>\n",
       "      <td>0.0</td>\n",
       "      <td>50</td>\n",
       "      <td>среднее</td>\n",
       "      <td>1</td>\n",
       "      <td>гражданский брак</td>\n",
       "      <td>1</td>\n",
       "      <td>F</td>\n",
       "      <td>сотрудник</td>\n",
       "      <td>0</td>\n",
       "      <td>NaN</td>\n",
       "      <td>свадьба</td>\n",
       "    </tr>\n",
       "    <tr>\n",
       "      <td>21497</td>\n",
       "      <td>0</td>\n",
       "      <td>0.0</td>\n",
       "      <td>48</td>\n",
       "      <td>ВЫСШЕЕ</td>\n",
       "      <td>0</td>\n",
       "      <td>женат / замужем</td>\n",
       "      <td>0</td>\n",
       "      <td>F</td>\n",
       "      <td>компаньон</td>\n",
       "      <td>0</td>\n",
       "      <td>NaN</td>\n",
       "      <td>строительство недвижимости</td>\n",
       "    </tr>\n",
       "    <tr>\n",
       "      <td>21502</td>\n",
       "      <td>1</td>\n",
       "      <td>0.0</td>\n",
       "      <td>42</td>\n",
       "      <td>среднее</td>\n",
       "      <td>1</td>\n",
       "      <td>женат / замужем</td>\n",
       "      <td>0</td>\n",
       "      <td>F</td>\n",
       "      <td>сотрудник</td>\n",
       "      <td>0</td>\n",
       "      <td>NaN</td>\n",
       "      <td>строительство жилой недвижимости</td>\n",
       "    </tr>\n",
       "    <tr>\n",
       "      <td>21510</td>\n",
       "      <td>2</td>\n",
       "      <td>0.0</td>\n",
       "      <td>28</td>\n",
       "      <td>среднее</td>\n",
       "      <td>1</td>\n",
       "      <td>женат / замужем</td>\n",
       "      <td>0</td>\n",
       "      <td>F</td>\n",
       "      <td>сотрудник</td>\n",
       "      <td>0</td>\n",
       "      <td>NaN</td>\n",
       "      <td>приобретение автомобиля</td>\n",
       "    </tr>\n",
       "  </tbody>\n",
       "</table>\n",
       "<p>2174 rows × 12 columns</p>\n",
       "</div>"
      ],
      "text/plain": [
       "       children  days_employed  dob_years education  education_id  \\\n",
       "12            0            0.0         65   среднее             1   \n",
       "26            0            0.0         41   среднее             1   \n",
       "29            0            0.0         63   среднее             1   \n",
       "41            0            0.0         50   среднее             1   \n",
       "55            0            0.0         54   среднее             1   \n",
       "...         ...            ...        ...       ...           ...   \n",
       "21489         2            0.0         47   Среднее             1   \n",
       "21495         1            0.0         50   среднее             1   \n",
       "21497         0            0.0         48    ВЫСШЕЕ             0   \n",
       "21502         1            0.0         42   среднее             1   \n",
       "21510         2            0.0         28   среднее             1   \n",
       "\n",
       "               family_status  family_status_id gender  income_type  debt  \\\n",
       "12          гражданский брак                 1      M    пенсионер     0   \n",
       "26           женат / замужем                 0      M  госслужащий     0   \n",
       "29     Не женат / не замужем                 4      F    пенсионер     0   \n",
       "41           женат / замужем                 0      F  госслужащий     0   \n",
       "55          гражданский брак                 1      F    пенсионер     1   \n",
       "...                      ...               ...    ...          ...   ...   \n",
       "21489        женат / замужем                 0      M    компаньон     0   \n",
       "21495       гражданский брак                 1      F    сотрудник     0   \n",
       "21497        женат / замужем                 0      F    компаньон     0   \n",
       "21502        женат / замужем                 0      F    сотрудник     0   \n",
       "21510        женат / замужем                 0      F    сотрудник     0   \n",
       "\n",
       "       total_income                           purpose  \n",
       "12              NaN                   сыграть свадьбу  \n",
       "26              NaN                       образование  \n",
       "29              NaN  строительство жилой недвижимости  \n",
       "41              NaN  сделка с подержанным автомобилем  \n",
       "55              NaN                   сыграть свадьбу  \n",
       "...             ...                               ...  \n",
       "21489           NaN              сделка с автомобилем  \n",
       "21495           NaN                           свадьба  \n",
       "21497           NaN        строительство недвижимости  \n",
       "21502           NaN  строительство жилой недвижимости  \n",
       "21510           NaN           приобретение автомобиля  \n",
       "\n",
       "[2174 rows x 12 columns]"
      ]
     },
     "execution_count": 4,
     "metadata": {},
     "output_type": "execute_result"
    }
   ],
   "source": [
    "#для определения пропущенных значений в столбце total_income используем методы loc и isna()\n",
    "\n",
    "data.loc[data['total_income'].isna()]"
   ]
  },
  {
   "cell_type": "markdown",
   "metadata": {},
   "source": [
    "Поскольку столбец total_income содержит количественные значения, которые участвуют в оценке платежеспособности клиентов банка, мы не можем заполнить пропущенные строки нулевым значением или пустой строкой. Пропущенные значения общего дохода заполним медианным значением по категориям плательщиков, поскольку среднее значение можеть сильно исказить результаты исследования."
   ]
  },
  {
   "cell_type": "code",
   "execution_count": 5,
   "metadata": {
    "scrolled": true
   },
   "outputs": [
    {
     "data": {
      "text/plain": [
       "0"
      ]
     },
     "execution_count": 5,
     "metadata": {},
     "output_type": "execute_result"
    }
   ],
   "source": [
    "#сгруппируем данные total_income по категориям income_type и заменим пропуски на медианные значения \n",
    "#с помощью метода transform(). Результат сохраним в переменной data['total_income']\n",
    "\n",
    "data['total_income'] = data.groupby('income_type')['total_income'].transform(lambda x: x.fillna(x.median()))\n",
    "\n",
    "#посчитаем количество пропущенных значений в столбце income_total\n",
    "\n",
    "len(data[data['total_income'].isna()])\n"
   ]
  },
  {
   "cell_type": "markdown",
   "metadata": {},
   "source": [
    "Столбец children содержит данные о количестве детей и содержит пропущенные значения. Вероятно, не все клиенты банка хотели указывать данные о наличии детей. Это могло быть причиной возникновения пропущенных значений. Для дальнейших расчетов заменим пропуски средним значением количества детей по категориям клиентов."
   ]
  },
  {
   "cell_type": "code",
   "execution_count": 6,
   "metadata": {},
   "outputs": [
    {
     "data": {
      "text/plain": [
       "0"
      ]
     },
     "execution_count": 6,
     "metadata": {},
     "output_type": "execute_result"
    }
   ],
   "source": [
    "#находим среднее количество детей по категориям income_type\n",
    "\n",
    "children_med_by_type = data.groupby('income_type')['children'].mean()\n",
    "\n",
    "#заменим пропущенные значения в столбце children средним значением\n",
    "\n",
    "data['children'].fillna(children_med_by_type, inplace = True)\n",
    "\n",
    "#проверим количество пропущенных значений в столбце children\n",
    "\n",
    "len(data[data['children'].isna()])\n"
   ]
  },
  {
   "cell_type": "markdown",
   "metadata": {},
   "source": [
    "Пропущенные значения в столбцах family_status и family_status_id являются категориальными. Мы не можем заполнить их каким-либо значением по умолчанию, поскольку точно не знаем какое значение выбрать. Возможно, причиной пропусков стало то, что информация о семейном статусе личная и для клиента банка не очевидная, чтобы указывать её в анкете на получение кредита. В любом случае, какая-то часть выборки не будет учитываться из-за пропущенных значений в этих двух столбцах, поэтому заполним их нулевым значением."
   ]
  },
  {
   "cell_type": "code",
   "execution_count": 7,
   "metadata": {},
   "outputs": [
    {
     "data": {
      "text/plain": [
       "0"
      ]
     },
     "execution_count": 7,
     "metadata": {},
     "output_type": "execute_result"
    }
   ],
   "source": [
    "#заполним пропущенные значения в столбце family_status нулевым значением\n",
    "\n",
    "data['family_status'] = data['family_status'].fillna(0)\n",
    "\n",
    "#посчитаем количество пропущенных строк\n",
    "\n",
    "len(data[data['family_status'].isna()])"
   ]
  },
  {
   "cell_type": "code",
   "execution_count": 8,
   "metadata": {},
   "outputs": [
    {
     "data": {
      "text/plain": [
       "0"
      ]
     },
     "execution_count": 8,
     "metadata": {},
     "output_type": "execute_result"
    }
   ],
   "source": [
    "#заполним пропущенные значения в столбце family_status_id нулевым значением\n",
    "\n",
    "data['family_status_id'] = data['family_status_id'].fillna(0)\n",
    "\n",
    "#посчитаем количество пропущенных строк\n",
    "\n",
    "len(data[data['family_status_id'].isna()])"
   ]
  },
  {
   "cell_type": "code",
   "execution_count": 9,
   "metadata": {},
   "outputs": [
    {
     "data": {
      "text/html": [
       "<div>\n",
       "<style scoped>\n",
       "    .dataframe tbody tr th:only-of-type {\n",
       "        vertical-align: middle;\n",
       "    }\n",
       "\n",
       "    .dataframe tbody tr th {\n",
       "        vertical-align: top;\n",
       "    }\n",
       "\n",
       "    .dataframe thead th {\n",
       "        text-align: right;\n",
       "    }\n",
       "</style>\n",
       "<table border=\"1\" class=\"dataframe\">\n",
       "  <thead>\n",
       "    <tr style=\"text-align: right;\">\n",
       "      <th></th>\n",
       "      <th>children</th>\n",
       "      <th>days_employed</th>\n",
       "      <th>dob_years</th>\n",
       "      <th>education</th>\n",
       "      <th>education_id</th>\n",
       "      <th>family_status</th>\n",
       "      <th>family_status_id</th>\n",
       "      <th>gender</th>\n",
       "      <th>income_type</th>\n",
       "      <th>debt</th>\n",
       "      <th>total_income</th>\n",
       "      <th>purpose</th>\n",
       "    </tr>\n",
       "  </thead>\n",
       "  <tbody>\n",
       "    <tr>\n",
       "      <td>0</td>\n",
       "      <td>1</td>\n",
       "      <td>-8437.673028</td>\n",
       "      <td>42</td>\n",
       "      <td>высшее</td>\n",
       "      <td>0</td>\n",
       "      <td>женат / замужем</td>\n",
       "      <td>0</td>\n",
       "      <td>F</td>\n",
       "      <td>сотрудник</td>\n",
       "      <td>0</td>\n",
       "      <td>253875.639453</td>\n",
       "      <td>покупка жилья</td>\n",
       "    </tr>\n",
       "    <tr>\n",
       "      <td>1</td>\n",
       "      <td>1</td>\n",
       "      <td>-4024.803754</td>\n",
       "      <td>36</td>\n",
       "      <td>среднее</td>\n",
       "      <td>1</td>\n",
       "      <td>женат / замужем</td>\n",
       "      <td>0</td>\n",
       "      <td>F</td>\n",
       "      <td>сотрудник</td>\n",
       "      <td>0</td>\n",
       "      <td>112080.014102</td>\n",
       "      <td>приобретение автомобиля</td>\n",
       "    </tr>\n",
       "    <tr>\n",
       "      <td>2</td>\n",
       "      <td>0</td>\n",
       "      <td>-5623.422610</td>\n",
       "      <td>33</td>\n",
       "      <td>Среднее</td>\n",
       "      <td>1</td>\n",
       "      <td>женат / замужем</td>\n",
       "      <td>0</td>\n",
       "      <td>M</td>\n",
       "      <td>сотрудник</td>\n",
       "      <td>0</td>\n",
       "      <td>145885.952297</td>\n",
       "      <td>покупка жилья</td>\n",
       "    </tr>\n",
       "    <tr>\n",
       "      <td>3</td>\n",
       "      <td>3</td>\n",
       "      <td>-4124.747207</td>\n",
       "      <td>32</td>\n",
       "      <td>среднее</td>\n",
       "      <td>1</td>\n",
       "      <td>женат / замужем</td>\n",
       "      <td>0</td>\n",
       "      <td>M</td>\n",
       "      <td>сотрудник</td>\n",
       "      <td>0</td>\n",
       "      <td>267628.550329</td>\n",
       "      <td>дополнительное образование</td>\n",
       "    </tr>\n",
       "    <tr>\n",
       "      <td>4</td>\n",
       "      <td>0</td>\n",
       "      <td>340266.072047</td>\n",
       "      <td>53</td>\n",
       "      <td>среднее</td>\n",
       "      <td>1</td>\n",
       "      <td>гражданский брак</td>\n",
       "      <td>1</td>\n",
       "      <td>F</td>\n",
       "      <td>пенсионер</td>\n",
       "      <td>0</td>\n",
       "      <td>158616.077870</td>\n",
       "      <td>сыграть свадьбу</td>\n",
       "    </tr>\n",
       "    <tr>\n",
       "      <td>5</td>\n",
       "      <td>0</td>\n",
       "      <td>-926.185831</td>\n",
       "      <td>27</td>\n",
       "      <td>высшее</td>\n",
       "      <td>0</td>\n",
       "      <td>гражданский брак</td>\n",
       "      <td>1</td>\n",
       "      <td>M</td>\n",
       "      <td>компаньон</td>\n",
       "      <td>0</td>\n",
       "      <td>255763.565419</td>\n",
       "      <td>покупка жилья</td>\n",
       "    </tr>\n",
       "    <tr>\n",
       "      <td>6</td>\n",
       "      <td>0</td>\n",
       "      <td>-2879.202052</td>\n",
       "      <td>43</td>\n",
       "      <td>высшее</td>\n",
       "      <td>0</td>\n",
       "      <td>женат / замужем</td>\n",
       "      <td>0</td>\n",
       "      <td>F</td>\n",
       "      <td>компаньон</td>\n",
       "      <td>0</td>\n",
       "      <td>240525.971920</td>\n",
       "      <td>операции с жильем</td>\n",
       "    </tr>\n",
       "    <tr>\n",
       "      <td>7</td>\n",
       "      <td>0</td>\n",
       "      <td>-152.779569</td>\n",
       "      <td>50</td>\n",
       "      <td>СРЕДНЕЕ</td>\n",
       "      <td>1</td>\n",
       "      <td>женат / замужем</td>\n",
       "      <td>0</td>\n",
       "      <td>M</td>\n",
       "      <td>сотрудник</td>\n",
       "      <td>0</td>\n",
       "      <td>135823.934197</td>\n",
       "      <td>образование</td>\n",
       "    </tr>\n",
       "    <tr>\n",
       "      <td>8</td>\n",
       "      <td>2</td>\n",
       "      <td>-6929.865299</td>\n",
       "      <td>35</td>\n",
       "      <td>ВЫСШЕЕ</td>\n",
       "      <td>0</td>\n",
       "      <td>гражданский брак</td>\n",
       "      <td>1</td>\n",
       "      <td>F</td>\n",
       "      <td>сотрудник</td>\n",
       "      <td>0</td>\n",
       "      <td>95856.832424</td>\n",
       "      <td>на проведение свадьбы</td>\n",
       "    </tr>\n",
       "    <tr>\n",
       "      <td>9</td>\n",
       "      <td>0</td>\n",
       "      <td>-2188.756445</td>\n",
       "      <td>41</td>\n",
       "      <td>среднее</td>\n",
       "      <td>1</td>\n",
       "      <td>женат / замужем</td>\n",
       "      <td>0</td>\n",
       "      <td>M</td>\n",
       "      <td>сотрудник</td>\n",
       "      <td>0</td>\n",
       "      <td>144425.938277</td>\n",
       "      <td>покупка жилья для семьи</td>\n",
       "    </tr>\n",
       "  </tbody>\n",
       "</table>\n",
       "</div>"
      ],
      "text/plain": [
       "   children  days_employed  dob_years education  education_id  \\\n",
       "0         1   -8437.673028         42    высшее             0   \n",
       "1         1   -4024.803754         36   среднее             1   \n",
       "2         0   -5623.422610         33   Среднее             1   \n",
       "3         3   -4124.747207         32   среднее             1   \n",
       "4         0  340266.072047         53   среднее             1   \n",
       "5         0    -926.185831         27    высшее             0   \n",
       "6         0   -2879.202052         43    высшее             0   \n",
       "7         0    -152.779569         50   СРЕДНЕЕ             1   \n",
       "8         2   -6929.865299         35    ВЫСШЕЕ             0   \n",
       "9         0   -2188.756445         41   среднее             1   \n",
       "\n",
       "      family_status  family_status_id gender income_type  debt   total_income  \\\n",
       "0   женат / замужем                 0      F   сотрудник     0  253875.639453   \n",
       "1   женат / замужем                 0      F   сотрудник     0  112080.014102   \n",
       "2   женат / замужем                 0      M   сотрудник     0  145885.952297   \n",
       "3   женат / замужем                 0      M   сотрудник     0  267628.550329   \n",
       "4  гражданский брак                 1      F   пенсионер     0  158616.077870   \n",
       "5  гражданский брак                 1      M   компаньон     0  255763.565419   \n",
       "6   женат / замужем                 0      F   компаньон     0  240525.971920   \n",
       "7   женат / замужем                 0      M   сотрудник     0  135823.934197   \n",
       "8  гражданский брак                 1      F   сотрудник     0   95856.832424   \n",
       "9   женат / замужем                 0      M   сотрудник     0  144425.938277   \n",
       "\n",
       "                      purpose  \n",
       "0               покупка жилья  \n",
       "1     приобретение автомобиля  \n",
       "2               покупка жилья  \n",
       "3  дополнительное образование  \n",
       "4             сыграть свадьбу  \n",
       "5               покупка жилья  \n",
       "6           операции с жильем  \n",
       "7                 образование  \n",
       "8       на проведение свадьбы  \n",
       "9     покупка жилья для семьи  "
      ]
     },
     "execution_count": 9,
     "metadata": {},
     "output_type": "execute_result"
    }
   ],
   "source": [
    "#выведем на экран 10 первых строк, чтобы убедиться, что пропусков в столбцах больше нет\n",
    "\n",
    "data.head(10)"
   ]
  },
  {
   "cell_type": "code",
   "execution_count": 10,
   "metadata": {},
   "outputs": [
    {
     "data": {
      "text/html": [
       "<div>\n",
       "<style scoped>\n",
       "    .dataframe tbody tr th:only-of-type {\n",
       "        vertical-align: middle;\n",
       "    }\n",
       "\n",
       "    .dataframe tbody tr th {\n",
       "        vertical-align: top;\n",
       "    }\n",
       "\n",
       "    .dataframe thead th {\n",
       "        text-align: right;\n",
       "    }\n",
       "</style>\n",
       "<table border=\"1\" class=\"dataframe\">\n",
       "  <thead>\n",
       "    <tr style=\"text-align: right;\">\n",
       "      <th></th>\n",
       "      <th>children</th>\n",
       "      <th>days_employed</th>\n",
       "      <th>dob_years</th>\n",
       "      <th>education</th>\n",
       "      <th>education_id</th>\n",
       "      <th>family_status</th>\n",
       "      <th>family_status_id</th>\n",
       "      <th>gender</th>\n",
       "      <th>income_type</th>\n",
       "      <th>debt</th>\n",
       "      <th>total_income</th>\n",
       "      <th>purpose</th>\n",
       "    </tr>\n",
       "  </thead>\n",
       "  <tbody>\n",
       "    <tr>\n",
       "      <td>21515</td>\n",
       "      <td>1</td>\n",
       "      <td>-467.685130</td>\n",
       "      <td>28</td>\n",
       "      <td>среднее</td>\n",
       "      <td>1</td>\n",
       "      <td>женат / замужем</td>\n",
       "      <td>0</td>\n",
       "      <td>F</td>\n",
       "      <td>сотрудник</td>\n",
       "      <td>1</td>\n",
       "      <td>109486.327999</td>\n",
       "      <td>заняться образованием</td>\n",
       "    </tr>\n",
       "    <tr>\n",
       "      <td>21516</td>\n",
       "      <td>0</td>\n",
       "      <td>-914.391429</td>\n",
       "      <td>42</td>\n",
       "      <td>высшее</td>\n",
       "      <td>0</td>\n",
       "      <td>женат / замужем</td>\n",
       "      <td>0</td>\n",
       "      <td>F</td>\n",
       "      <td>компаньон</td>\n",
       "      <td>0</td>\n",
       "      <td>322807.776603</td>\n",
       "      <td>покупка своего жилья</td>\n",
       "    </tr>\n",
       "    <tr>\n",
       "      <td>21517</td>\n",
       "      <td>0</td>\n",
       "      <td>-404.679034</td>\n",
       "      <td>42</td>\n",
       "      <td>высшее</td>\n",
       "      <td>0</td>\n",
       "      <td>гражданский брак</td>\n",
       "      <td>1</td>\n",
       "      <td>F</td>\n",
       "      <td>компаньон</td>\n",
       "      <td>0</td>\n",
       "      <td>178059.553491</td>\n",
       "      <td>на покупку своего автомобиля</td>\n",
       "    </tr>\n",
       "    <tr>\n",
       "      <td>21518</td>\n",
       "      <td>0</td>\n",
       "      <td>373995.710838</td>\n",
       "      <td>59</td>\n",
       "      <td>СРЕДНЕЕ</td>\n",
       "      <td>1</td>\n",
       "      <td>женат / замужем</td>\n",
       "      <td>0</td>\n",
       "      <td>F</td>\n",
       "      <td>пенсионер</td>\n",
       "      <td>0</td>\n",
       "      <td>153864.650328</td>\n",
       "      <td>сделка с автомобилем</td>\n",
       "    </tr>\n",
       "    <tr>\n",
       "      <td>21519</td>\n",
       "      <td>1</td>\n",
       "      <td>-2351.431934</td>\n",
       "      <td>37</td>\n",
       "      <td>ученая степень</td>\n",
       "      <td>4</td>\n",
       "      <td>в разводе</td>\n",
       "      <td>3</td>\n",
       "      <td>M</td>\n",
       "      <td>сотрудник</td>\n",
       "      <td>0</td>\n",
       "      <td>115949.039788</td>\n",
       "      <td>покупка коммерческой недвижимости</td>\n",
       "    </tr>\n",
       "    <tr>\n",
       "      <td>21520</td>\n",
       "      <td>1</td>\n",
       "      <td>-4529.316663</td>\n",
       "      <td>43</td>\n",
       "      <td>среднее</td>\n",
       "      <td>1</td>\n",
       "      <td>гражданский брак</td>\n",
       "      <td>1</td>\n",
       "      <td>F</td>\n",
       "      <td>компаньон</td>\n",
       "      <td>0</td>\n",
       "      <td>224791.862382</td>\n",
       "      <td>операции с жильем</td>\n",
       "    </tr>\n",
       "    <tr>\n",
       "      <td>21521</td>\n",
       "      <td>0</td>\n",
       "      <td>343937.404131</td>\n",
       "      <td>67</td>\n",
       "      <td>среднее</td>\n",
       "      <td>1</td>\n",
       "      <td>женат / замужем</td>\n",
       "      <td>0</td>\n",
       "      <td>F</td>\n",
       "      <td>пенсионер</td>\n",
       "      <td>0</td>\n",
       "      <td>155999.806512</td>\n",
       "      <td>сделка с автомобилем</td>\n",
       "    </tr>\n",
       "    <tr>\n",
       "      <td>21522</td>\n",
       "      <td>1</td>\n",
       "      <td>-2113.346888</td>\n",
       "      <td>38</td>\n",
       "      <td>среднее</td>\n",
       "      <td>1</td>\n",
       "      <td>гражданский брак</td>\n",
       "      <td>1</td>\n",
       "      <td>M</td>\n",
       "      <td>сотрудник</td>\n",
       "      <td>1</td>\n",
       "      <td>89672.561153</td>\n",
       "      <td>недвижимость</td>\n",
       "    </tr>\n",
       "    <tr>\n",
       "      <td>21523</td>\n",
       "      <td>3</td>\n",
       "      <td>-3112.481705</td>\n",
       "      <td>38</td>\n",
       "      <td>среднее</td>\n",
       "      <td>1</td>\n",
       "      <td>женат / замужем</td>\n",
       "      <td>0</td>\n",
       "      <td>M</td>\n",
       "      <td>сотрудник</td>\n",
       "      <td>1</td>\n",
       "      <td>244093.050500</td>\n",
       "      <td>на покупку своего автомобиля</td>\n",
       "    </tr>\n",
       "    <tr>\n",
       "      <td>21524</td>\n",
       "      <td>2</td>\n",
       "      <td>-1984.507589</td>\n",
       "      <td>40</td>\n",
       "      <td>среднее</td>\n",
       "      <td>1</td>\n",
       "      <td>женат / замужем</td>\n",
       "      <td>0</td>\n",
       "      <td>F</td>\n",
       "      <td>сотрудник</td>\n",
       "      <td>0</td>\n",
       "      <td>82047.418899</td>\n",
       "      <td>на покупку автомобиля</td>\n",
       "    </tr>\n",
       "  </tbody>\n",
       "</table>\n",
       "</div>"
      ],
      "text/plain": [
       "       children  days_employed  dob_years       education  education_id  \\\n",
       "21515         1    -467.685130         28         среднее             1   \n",
       "21516         0    -914.391429         42          высшее             0   \n",
       "21517         0    -404.679034         42          высшее             0   \n",
       "21518         0  373995.710838         59         СРЕДНЕЕ             1   \n",
       "21519         1   -2351.431934         37  ученая степень             4   \n",
       "21520         1   -4529.316663         43         среднее             1   \n",
       "21521         0  343937.404131         67         среднее             1   \n",
       "21522         1   -2113.346888         38         среднее             1   \n",
       "21523         3   -3112.481705         38         среднее             1   \n",
       "21524         2   -1984.507589         40         среднее             1   \n",
       "\n",
       "          family_status  family_status_id gender income_type  debt  \\\n",
       "21515   женат / замужем                 0      F   сотрудник     1   \n",
       "21516   женат / замужем                 0      F   компаньон     0   \n",
       "21517  гражданский брак                 1      F   компаньон     0   \n",
       "21518   женат / замужем                 0      F   пенсионер     0   \n",
       "21519         в разводе                 3      M   сотрудник     0   \n",
       "21520  гражданский брак                 1      F   компаньон     0   \n",
       "21521   женат / замужем                 0      F   пенсионер     0   \n",
       "21522  гражданский брак                 1      M   сотрудник     1   \n",
       "21523   женат / замужем                 0      M   сотрудник     1   \n",
       "21524   женат / замужем                 0      F   сотрудник     0   \n",
       "\n",
       "        total_income                            purpose  \n",
       "21515  109486.327999              заняться образованием  \n",
       "21516  322807.776603               покупка своего жилья  \n",
       "21517  178059.553491       на покупку своего автомобиля  \n",
       "21518  153864.650328               сделка с автомобилем  \n",
       "21519  115949.039788  покупка коммерческой недвижимости  \n",
       "21520  224791.862382                  операции с жильем  \n",
       "21521  155999.806512               сделка с автомобилем  \n",
       "21522   89672.561153                       недвижимость  \n",
       "21523  244093.050500       на покупку своего автомобиля  \n",
       "21524   82047.418899              на покупку автомобиля  "
      ]
     },
     "execution_count": 10,
     "metadata": {},
     "output_type": "execute_result"
    }
   ],
   "source": [
    "#выведем на экран 10 последних строк, чтобы убедиться, что пропусков в столбцах больше нет\n",
    "\n",
    "data.tail(10)"
   ]
  },
  {
   "cell_type": "markdown",
   "metadata": {},
   "source": [
    "**Вывод**\n",
    "\n",
    "В зависимости от типа значений (категориальные или количественные) пропущенные значения были заменены в столбцах, которые необходимы для проведения исследования. Для заполнения пропущенных количественных значений, влияющих на результаты исследования (столбцы total_income, children) был применены методы их замены на медианные значения (столбец со значением общего дохода) и средние значения (количество детей) в разрезе категорий клиентов банка. В столбцах с пропущенными категориальными значениями (family_status, family_status_id), они были заполнены нулевым значением, поскольку мы не знаем точно о том, какое значение из указанных столбцов для заполнения подошло бы лучше. Данные в таблице готовы для дальнейшей предобработки."
   ]
  },
  {
   "cell_type": "markdown",
   "metadata": {},
   "source": [
    "### Замена типа данных"
   ]
  },
  {
   "cell_type": "markdown",
   "metadata": {},
   "source": [
    "Из данных о таблице видно, что столбец days_employed содержит данные типа string, хотя по факту это вещественные числа с отрицательным значением. Необходимо привести данные столбца к нужному типу данных и корректным значениям."
   ]
  },
  {
   "cell_type": "code",
   "execution_count": 11,
   "metadata": {
    "scrolled": true
   },
   "outputs": [
    {
     "name": "stdout",
     "output_type": "stream",
     "text": [
      "<class 'pandas.core.frame.DataFrame'>\n",
      "RangeIndex: 21525 entries, 0 to 21524\n",
      "Data columns (total 12 columns):\n",
      "children            21525 non-null int64\n",
      "days_employed       21525 non-null float64\n",
      "dob_years           21525 non-null int64\n",
      "education           21525 non-null object\n",
      "education_id        21525 non-null int64\n",
      "family_status       21525 non-null object\n",
      "family_status_id    21525 non-null int64\n",
      "gender              21525 non-null object\n",
      "income_type         21525 non-null object\n",
      "debt                21525 non-null int64\n",
      "total_income        21525 non-null float64\n",
      "purpose             21525 non-null object\n",
      "dtypes: float64(2), int64(5), object(5)\n",
      "memory usage: 2.0+ MB\n"
     ]
    }
   ],
   "source": [
    "#преобразуем значения string во float с помощью метода to_numeric\n",
    "\n",
    "data['days_employed'] = pd.to_numeric(data['days_employed']) \n",
    "\n",
    "#проверим изменился ли тип данных\n",
    "\n",
    "data.info()"
   ]
  },
  {
   "cell_type": "code",
   "execution_count": 12,
   "metadata": {
    "scrolled": true
   },
   "outputs": [
    {
     "data": {
      "text/html": [
       "<div>\n",
       "<style scoped>\n",
       "    .dataframe tbody tr th:only-of-type {\n",
       "        vertical-align: middle;\n",
       "    }\n",
       "\n",
       "    .dataframe tbody tr th {\n",
       "        vertical-align: top;\n",
       "    }\n",
       "\n",
       "    .dataframe thead th {\n",
       "        text-align: right;\n",
       "    }\n",
       "</style>\n",
       "<table border=\"1\" class=\"dataframe\">\n",
       "  <thead>\n",
       "    <tr style=\"text-align: right;\">\n",
       "      <th></th>\n",
       "      <th>children</th>\n",
       "      <th>days_employed</th>\n",
       "      <th>dob_years</th>\n",
       "      <th>education</th>\n",
       "      <th>education_id</th>\n",
       "      <th>family_status</th>\n",
       "      <th>family_status_id</th>\n",
       "      <th>gender</th>\n",
       "      <th>income_type</th>\n",
       "      <th>debt</th>\n",
       "      <th>total_income</th>\n",
       "      <th>purpose</th>\n",
       "    </tr>\n",
       "  </thead>\n",
       "  <tbody>\n",
       "    <tr>\n",
       "      <td>0</td>\n",
       "      <td>1</td>\n",
       "      <td>8437</td>\n",
       "      <td>42</td>\n",
       "      <td>высшее</td>\n",
       "      <td>0</td>\n",
       "      <td>женат / замужем</td>\n",
       "      <td>0</td>\n",
       "      <td>F</td>\n",
       "      <td>сотрудник</td>\n",
       "      <td>0</td>\n",
       "      <td>253875.639453</td>\n",
       "      <td>покупка жилья</td>\n",
       "    </tr>\n",
       "    <tr>\n",
       "      <td>1</td>\n",
       "      <td>1</td>\n",
       "      <td>4024</td>\n",
       "      <td>36</td>\n",
       "      <td>среднее</td>\n",
       "      <td>1</td>\n",
       "      <td>женат / замужем</td>\n",
       "      <td>0</td>\n",
       "      <td>F</td>\n",
       "      <td>сотрудник</td>\n",
       "      <td>0</td>\n",
       "      <td>112080.014102</td>\n",
       "      <td>приобретение автомобиля</td>\n",
       "    </tr>\n",
       "    <tr>\n",
       "      <td>2</td>\n",
       "      <td>0</td>\n",
       "      <td>5623</td>\n",
       "      <td>33</td>\n",
       "      <td>Среднее</td>\n",
       "      <td>1</td>\n",
       "      <td>женат / замужем</td>\n",
       "      <td>0</td>\n",
       "      <td>M</td>\n",
       "      <td>сотрудник</td>\n",
       "      <td>0</td>\n",
       "      <td>145885.952297</td>\n",
       "      <td>покупка жилья</td>\n",
       "    </tr>\n",
       "    <tr>\n",
       "      <td>3</td>\n",
       "      <td>3</td>\n",
       "      <td>4124</td>\n",
       "      <td>32</td>\n",
       "      <td>среднее</td>\n",
       "      <td>1</td>\n",
       "      <td>женат / замужем</td>\n",
       "      <td>0</td>\n",
       "      <td>M</td>\n",
       "      <td>сотрудник</td>\n",
       "      <td>0</td>\n",
       "      <td>267628.550329</td>\n",
       "      <td>дополнительное образование</td>\n",
       "    </tr>\n",
       "    <tr>\n",
       "      <td>4</td>\n",
       "      <td>0</td>\n",
       "      <td>340266</td>\n",
       "      <td>53</td>\n",
       "      <td>среднее</td>\n",
       "      <td>1</td>\n",
       "      <td>гражданский брак</td>\n",
       "      <td>1</td>\n",
       "      <td>F</td>\n",
       "      <td>пенсионер</td>\n",
       "      <td>0</td>\n",
       "      <td>158616.077870</td>\n",
       "      <td>сыграть свадьбу</td>\n",
       "    </tr>\n",
       "    <tr>\n",
       "      <td>5</td>\n",
       "      <td>0</td>\n",
       "      <td>926</td>\n",
       "      <td>27</td>\n",
       "      <td>высшее</td>\n",
       "      <td>0</td>\n",
       "      <td>гражданский брак</td>\n",
       "      <td>1</td>\n",
       "      <td>M</td>\n",
       "      <td>компаньон</td>\n",
       "      <td>0</td>\n",
       "      <td>255763.565419</td>\n",
       "      <td>покупка жилья</td>\n",
       "    </tr>\n",
       "    <tr>\n",
       "      <td>6</td>\n",
       "      <td>0</td>\n",
       "      <td>2879</td>\n",
       "      <td>43</td>\n",
       "      <td>высшее</td>\n",
       "      <td>0</td>\n",
       "      <td>женат / замужем</td>\n",
       "      <td>0</td>\n",
       "      <td>F</td>\n",
       "      <td>компаньон</td>\n",
       "      <td>0</td>\n",
       "      <td>240525.971920</td>\n",
       "      <td>операции с жильем</td>\n",
       "    </tr>\n",
       "    <tr>\n",
       "      <td>7</td>\n",
       "      <td>0</td>\n",
       "      <td>152</td>\n",
       "      <td>50</td>\n",
       "      <td>СРЕДНЕЕ</td>\n",
       "      <td>1</td>\n",
       "      <td>женат / замужем</td>\n",
       "      <td>0</td>\n",
       "      <td>M</td>\n",
       "      <td>сотрудник</td>\n",
       "      <td>0</td>\n",
       "      <td>135823.934197</td>\n",
       "      <td>образование</td>\n",
       "    </tr>\n",
       "    <tr>\n",
       "      <td>8</td>\n",
       "      <td>2</td>\n",
       "      <td>6929</td>\n",
       "      <td>35</td>\n",
       "      <td>ВЫСШЕЕ</td>\n",
       "      <td>0</td>\n",
       "      <td>гражданский брак</td>\n",
       "      <td>1</td>\n",
       "      <td>F</td>\n",
       "      <td>сотрудник</td>\n",
       "      <td>0</td>\n",
       "      <td>95856.832424</td>\n",
       "      <td>на проведение свадьбы</td>\n",
       "    </tr>\n",
       "    <tr>\n",
       "      <td>9</td>\n",
       "      <td>0</td>\n",
       "      <td>2188</td>\n",
       "      <td>41</td>\n",
       "      <td>среднее</td>\n",
       "      <td>1</td>\n",
       "      <td>женат / замужем</td>\n",
       "      <td>0</td>\n",
       "      <td>M</td>\n",
       "      <td>сотрудник</td>\n",
       "      <td>0</td>\n",
       "      <td>144425.938277</td>\n",
       "      <td>покупка жилья для семьи</td>\n",
       "    </tr>\n",
       "  </tbody>\n",
       "</table>\n",
       "</div>"
      ],
      "text/plain": [
       "   children  days_employed  dob_years education  education_id  \\\n",
       "0         1           8437         42    высшее             0   \n",
       "1         1           4024         36   среднее             1   \n",
       "2         0           5623         33   Среднее             1   \n",
       "3         3           4124         32   среднее             1   \n",
       "4         0         340266         53   среднее             1   \n",
       "5         0            926         27    высшее             0   \n",
       "6         0           2879         43    высшее             0   \n",
       "7         0            152         50   СРЕДНЕЕ             1   \n",
       "8         2           6929         35    ВЫСШЕЕ             0   \n",
       "9         0           2188         41   среднее             1   \n",
       "\n",
       "      family_status  family_status_id gender income_type  debt   total_income  \\\n",
       "0   женат / замужем                 0      F   сотрудник     0  253875.639453   \n",
       "1   женат / замужем                 0      F   сотрудник     0  112080.014102   \n",
       "2   женат / замужем                 0      M   сотрудник     0  145885.952297   \n",
       "3   женат / замужем                 0      M   сотрудник     0  267628.550329   \n",
       "4  гражданский брак                 1      F   пенсионер     0  158616.077870   \n",
       "5  гражданский брак                 1      M   компаньон     0  255763.565419   \n",
       "6   женат / замужем                 0      F   компаньон     0  240525.971920   \n",
       "7   женат / замужем                 0      M   сотрудник     0  135823.934197   \n",
       "8  гражданский брак                 1      F   сотрудник     0   95856.832424   \n",
       "9   женат / замужем                 0      M   сотрудник     0  144425.938277   \n",
       "\n",
       "                      purpose  \n",
       "0               покупка жилья  \n",
       "1     приобретение автомобиля  \n",
       "2               покупка жилья  \n",
       "3  дополнительное образование  \n",
       "4             сыграть свадьбу  \n",
       "5               покупка жилья  \n",
       "6           операции с жильем  \n",
       "7                 образование  \n",
       "8       на проведение свадьбы  \n",
       "9     покупка жилья для семьи  "
      ]
     },
     "execution_count": 12,
     "metadata": {},
     "output_type": "execute_result"
    }
   ],
   "source": [
    "#заменим отрицательные значения в столбце days_employed положительными с помощью функции abs()\n",
    "# и изменим данные с float на int. Результат сохраним в переменной data['days_employed']\n",
    "\n",
    "data['days_employed'] = data['days_employed'].abs().astype('int')\n",
    "\n",
    "#выведем первые 10 строк на экран\n",
    "\n",
    "data.head(10)"
   ]
  },
  {
   "cell_type": "code",
   "execution_count": 13,
   "metadata": {},
   "outputs": [
    {
     "data": {
      "text/html": [
       "<div>\n",
       "<style scoped>\n",
       "    .dataframe tbody tr th:only-of-type {\n",
       "        vertical-align: middle;\n",
       "    }\n",
       "\n",
       "    .dataframe tbody tr th {\n",
       "        vertical-align: top;\n",
       "    }\n",
       "\n",
       "    .dataframe thead th {\n",
       "        text-align: right;\n",
       "    }\n",
       "</style>\n",
       "<table border=\"1\" class=\"dataframe\">\n",
       "  <thead>\n",
       "    <tr style=\"text-align: right;\">\n",
       "      <th></th>\n",
       "      <th>children</th>\n",
       "      <th>days_employed</th>\n",
       "      <th>dob_years</th>\n",
       "      <th>education</th>\n",
       "      <th>education_id</th>\n",
       "      <th>family_status</th>\n",
       "      <th>family_status_id</th>\n",
       "      <th>gender</th>\n",
       "      <th>income_type</th>\n",
       "      <th>debt</th>\n",
       "      <th>total_income</th>\n",
       "      <th>purpose</th>\n",
       "    </tr>\n",
       "  </thead>\n",
       "  <tbody>\n",
       "    <tr>\n",
       "      <td>0</td>\n",
       "      <td>1</td>\n",
       "      <td>8437</td>\n",
       "      <td>42</td>\n",
       "      <td>высшее</td>\n",
       "      <td>0</td>\n",
       "      <td>женат / замужем</td>\n",
       "      <td>0</td>\n",
       "      <td>F</td>\n",
       "      <td>сотрудник</td>\n",
       "      <td>0</td>\n",
       "      <td>253875</td>\n",
       "      <td>покупка жилья</td>\n",
       "    </tr>\n",
       "    <tr>\n",
       "      <td>1</td>\n",
       "      <td>1</td>\n",
       "      <td>4024</td>\n",
       "      <td>36</td>\n",
       "      <td>среднее</td>\n",
       "      <td>1</td>\n",
       "      <td>женат / замужем</td>\n",
       "      <td>0</td>\n",
       "      <td>F</td>\n",
       "      <td>сотрудник</td>\n",
       "      <td>0</td>\n",
       "      <td>112080</td>\n",
       "      <td>приобретение автомобиля</td>\n",
       "    </tr>\n",
       "    <tr>\n",
       "      <td>2</td>\n",
       "      <td>0</td>\n",
       "      <td>5623</td>\n",
       "      <td>33</td>\n",
       "      <td>Среднее</td>\n",
       "      <td>1</td>\n",
       "      <td>женат / замужем</td>\n",
       "      <td>0</td>\n",
       "      <td>M</td>\n",
       "      <td>сотрудник</td>\n",
       "      <td>0</td>\n",
       "      <td>145885</td>\n",
       "      <td>покупка жилья</td>\n",
       "    </tr>\n",
       "    <tr>\n",
       "      <td>3</td>\n",
       "      <td>3</td>\n",
       "      <td>4124</td>\n",
       "      <td>32</td>\n",
       "      <td>среднее</td>\n",
       "      <td>1</td>\n",
       "      <td>женат / замужем</td>\n",
       "      <td>0</td>\n",
       "      <td>M</td>\n",
       "      <td>сотрудник</td>\n",
       "      <td>0</td>\n",
       "      <td>267628</td>\n",
       "      <td>дополнительное образование</td>\n",
       "    </tr>\n",
       "    <tr>\n",
       "      <td>4</td>\n",
       "      <td>0</td>\n",
       "      <td>340266</td>\n",
       "      <td>53</td>\n",
       "      <td>среднее</td>\n",
       "      <td>1</td>\n",
       "      <td>гражданский брак</td>\n",
       "      <td>1</td>\n",
       "      <td>F</td>\n",
       "      <td>пенсионер</td>\n",
       "      <td>0</td>\n",
       "      <td>158616</td>\n",
       "      <td>сыграть свадьбу</td>\n",
       "    </tr>\n",
       "    <tr>\n",
       "      <td>5</td>\n",
       "      <td>0</td>\n",
       "      <td>926</td>\n",
       "      <td>27</td>\n",
       "      <td>высшее</td>\n",
       "      <td>0</td>\n",
       "      <td>гражданский брак</td>\n",
       "      <td>1</td>\n",
       "      <td>M</td>\n",
       "      <td>компаньон</td>\n",
       "      <td>0</td>\n",
       "      <td>255763</td>\n",
       "      <td>покупка жилья</td>\n",
       "    </tr>\n",
       "    <tr>\n",
       "      <td>6</td>\n",
       "      <td>0</td>\n",
       "      <td>2879</td>\n",
       "      <td>43</td>\n",
       "      <td>высшее</td>\n",
       "      <td>0</td>\n",
       "      <td>женат / замужем</td>\n",
       "      <td>0</td>\n",
       "      <td>F</td>\n",
       "      <td>компаньон</td>\n",
       "      <td>0</td>\n",
       "      <td>240525</td>\n",
       "      <td>операции с жильем</td>\n",
       "    </tr>\n",
       "    <tr>\n",
       "      <td>7</td>\n",
       "      <td>0</td>\n",
       "      <td>152</td>\n",
       "      <td>50</td>\n",
       "      <td>СРЕДНЕЕ</td>\n",
       "      <td>1</td>\n",
       "      <td>женат / замужем</td>\n",
       "      <td>0</td>\n",
       "      <td>M</td>\n",
       "      <td>сотрудник</td>\n",
       "      <td>0</td>\n",
       "      <td>135823</td>\n",
       "      <td>образование</td>\n",
       "    </tr>\n",
       "    <tr>\n",
       "      <td>8</td>\n",
       "      <td>2</td>\n",
       "      <td>6929</td>\n",
       "      <td>35</td>\n",
       "      <td>ВЫСШЕЕ</td>\n",
       "      <td>0</td>\n",
       "      <td>гражданский брак</td>\n",
       "      <td>1</td>\n",
       "      <td>F</td>\n",
       "      <td>сотрудник</td>\n",
       "      <td>0</td>\n",
       "      <td>95856</td>\n",
       "      <td>на проведение свадьбы</td>\n",
       "    </tr>\n",
       "    <tr>\n",
       "      <td>9</td>\n",
       "      <td>0</td>\n",
       "      <td>2188</td>\n",
       "      <td>41</td>\n",
       "      <td>среднее</td>\n",
       "      <td>1</td>\n",
       "      <td>женат / замужем</td>\n",
       "      <td>0</td>\n",
       "      <td>M</td>\n",
       "      <td>сотрудник</td>\n",
       "      <td>0</td>\n",
       "      <td>144425</td>\n",
       "      <td>покупка жилья для семьи</td>\n",
       "    </tr>\n",
       "  </tbody>\n",
       "</table>\n",
       "</div>"
      ],
      "text/plain": [
       "   children  days_employed  dob_years education  education_id  \\\n",
       "0         1           8437         42    высшее             0   \n",
       "1         1           4024         36   среднее             1   \n",
       "2         0           5623         33   Среднее             1   \n",
       "3         3           4124         32   среднее             1   \n",
       "4         0         340266         53   среднее             1   \n",
       "5         0            926         27    высшее             0   \n",
       "6         0           2879         43    высшее             0   \n",
       "7         0            152         50   СРЕДНЕЕ             1   \n",
       "8         2           6929         35    ВЫСШЕЕ             0   \n",
       "9         0           2188         41   среднее             1   \n",
       "\n",
       "      family_status  family_status_id gender income_type  debt  total_income  \\\n",
       "0   женат / замужем                 0      F   сотрудник     0        253875   \n",
       "1   женат / замужем                 0      F   сотрудник     0        112080   \n",
       "2   женат / замужем                 0      M   сотрудник     0        145885   \n",
       "3   женат / замужем                 0      M   сотрудник     0        267628   \n",
       "4  гражданский брак                 1      F   пенсионер     0        158616   \n",
       "5  гражданский брак                 1      M   компаньон     0        255763   \n",
       "6   женат / замужем                 0      F   компаньон     0        240525   \n",
       "7   женат / замужем                 0      M   сотрудник     0        135823   \n",
       "8  гражданский брак                 1      F   сотрудник     0         95856   \n",
       "9   женат / замужем                 0      M   сотрудник     0        144425   \n",
       "\n",
       "                      purpose  \n",
       "0               покупка жилья  \n",
       "1     приобретение автомобиля  \n",
       "2               покупка жилья  \n",
       "3  дополнительное образование  \n",
       "4             сыграть свадьбу  \n",
       "5               покупка жилья  \n",
       "6           операции с жильем  \n",
       "7                 образование  \n",
       "8       на проведение свадьбы  \n",
       "9     покупка жилья для семьи  "
      ]
     },
     "execution_count": 13,
     "metadata": {},
     "output_type": "execute_result"
    }
   ],
   "source": [
    "#изменим данные с float на int. Результат сохраним в переменной data['total_income']\n",
    "\n",
    "data['total_income'] = data['total_income'].astype('int')\n",
    "\n",
    "#выведем первые 10 строк на экран\n",
    "\n",
    "data.head(10)"
   ]
  },
  {
   "cell_type": "markdown",
   "metadata": {},
   "source": [
    "**Вывод**"
   ]
  },
  {
   "cell_type": "markdown",
   "metadata": {},
   "source": [
    "Среди предоставленных банком данных о платежеспособности клиентов в разрезе значений трудового стажа были замечены следующие ошибки в данных:\n",
    "1. Несоответствие типа данных со значениями;\n",
    "2. Отрицательные значения.\n",
    "\n",
    "Также среди значений о трудовом стаже и совокупном доходе были замечены вещественные числа, которые визуально усложняют восприятие данных. С помощью методов, доступных в библиотеке pandas, значения в столбцах с некорректными данными были приведены в надлежащий вид, необходимый для проведения дальнейшей предобработки.\n"
   ]
  },
  {
   "cell_type": "markdown",
   "metadata": {},
   "source": [
    "### Обработка дубликатов"
   ]
  },
  {
   "cell_type": "code",
   "execution_count": 14,
   "metadata": {},
   "outputs": [
    {
     "data": {
      "text/plain": [
       "54"
      ]
     },
     "execution_count": 14,
     "metadata": {},
     "output_type": "execute_result"
    }
   ],
   "source": [
    "#посчитаем количество дубликатов в таблице\n",
    "\n",
    "data.duplicated().sum()"
   ]
  },
  {
   "cell_type": "markdown",
   "metadata": {},
   "source": [
    "Из результата применения методов duplicated() и sum() видно, что датафрейм содержит дубликаты. Причинами их появления могут быть ошибки ввода данных, пропуск данных, наличие сокращений или аббревиатур, использование сочетания верхниго и нижнего регистра. Чтобы убедиться, что дубликаты удалены, необходимо просмотреть уникальные значения в столбцах, которые нам нужны для проведения исследования: children,family_status,family_status_id."
   ]
  },
  {
   "cell_type": "code",
   "execution_count": 15,
   "metadata": {},
   "outputs": [
    {
     "data": {
      "text/plain": [
       " 0     14149\n",
       " 1      4818\n",
       " 2      2055\n",
       " 3       330\n",
       " 20       76\n",
       "-1        47\n",
       " 4        41\n",
       " 5         9\n",
       "Name: children, dtype: int64"
      ]
     },
     "execution_count": 15,
     "metadata": {},
     "output_type": "execute_result"
    }
   ],
   "source": [
    "#изучим уникальные значения и частоту их встречаемости в столбце children\n",
    "\n",
    "data['children'].value_counts()"
   ]
  },
  {
   "cell_type": "markdown",
   "metadata": {},
   "source": [
    "Из результата применения метода value_counts() видно,что в столбце children встречаются аномальные значения: -1 и 20. Можно предположить, что это должны были быть значения 1 и 20, но точно мы этого не знаем, поэтому удалим эти строки. В целом, удаление строк с аномальными значениями не отразится критично на результатах исследования, т.к. их удельный вес в выборке мал (не достигает 1%). Для удаления строк будем использовать фильтр, т.к. нам известны только значения, которые нужно удалить, но нет данных о строках, в которых они находятся."
   ]
  },
  {
   "cell_type": "code",
   "execution_count": 16,
   "metadata": {},
   "outputs": [
    {
     "data": {
      "text/plain": [
       "0    14149\n",
       "1     4818\n",
       "2     2055\n",
       "3      330\n",
       "4       41\n",
       "5        9\n",
       "Name: children, dtype: int64"
      ]
     },
     "execution_count": 16,
     "metadata": {},
     "output_type": "execute_result"
    }
   ],
   "source": [
    "#отфильтруем (удалим) строки со значением 20 в столбце children\n",
    "\n",
    "data = data.loc[data['children']!=20]\n",
    "\n",
    "#отфильтруем (удалим) строки со значением -1 в столбце children\n",
    "\n",
    "data = data.loc[data['children']!=-1]\n",
    "\n",
    "#просмотрим уникальные значения столбца children\n",
    "\n",
    "data['children'].value_counts()"
   ]
  },
  {
   "cell_type": "code",
   "execution_count": 17,
   "metadata": {},
   "outputs": [
    {
     "data": {
      "text/plain": [
       "женат / замужем          12302\n",
       "гражданский брак          4160\n",
       "Не женат / не замужем     2799\n",
       "в разводе                 1189\n",
       "вдовец / вдова             952\n",
       "Name: family_status, dtype: int64"
      ]
     },
     "execution_count": 17,
     "metadata": {},
     "output_type": "execute_result"
    }
   ],
   "source": [
    "#просмотрим уникальные значения в столбце family_status\n",
    "\n",
    "data['family_status'].value_counts()"
   ]
  },
  {
   "cell_type": "code",
   "execution_count": 18,
   "metadata": {},
   "outputs": [
    {
     "data": {
      "text/plain": [
       "0    12302\n",
       "1     4160\n",
       "4     2799\n",
       "3     1189\n",
       "2      952\n",
       "Name: family_status_id, dtype: int64"
      ]
     },
     "execution_count": 18,
     "metadata": {},
     "output_type": "execute_result"
    }
   ],
   "source": [
    "#просмотрим уникальные значения в столбце family_status_id\n",
    "\n",
    "data['family_status_id'].value_counts()"
   ]
  },
  {
   "cell_type": "code",
   "execution_count": 19,
   "metadata": {},
   "outputs": [],
   "source": [
    "#удалим дубликаты в таблице\n",
    "\n",
    "data = data.drop_duplicates().reset_index(drop = True)"
   ]
  },
  {
   "cell_type": "code",
   "execution_count": 20,
   "metadata": {},
   "outputs": [
    {
     "data": {
      "text/plain": [
       "0"
      ]
     },
     "execution_count": 20,
     "metadata": {},
     "output_type": "execute_result"
    }
   ],
   "source": [
    "#убедимся, что в таблице нет дубликатов\n",
    "\n",
    "data.duplicated().sum()"
   ]
  },
  {
   "cell_type": "markdown",
   "metadata": {},
   "source": [
    "**Вывод**\n",
    "\n",
    "При проведении проверки данных, были обнаружены дубликаты, которые были удалены. Также при проверке данных в столбце с информацией о количестве детей были обнаружены некорректные данные: отрицательное (-1) и аномальное (20) значения. Поскольку строки с некорректными значениями занимают порядка 1% из выборки, они были также удалены. "
   ]
  },
  {
   "cell_type": "markdown",
   "metadata": {},
   "source": [
    "### Лемматизация"
   ]
  },
  {
   "cell_type": "markdown",
   "metadata": {},
   "source": [
    "По условиям задачи необходимо провести лемматизацию значений в стролбце purpose. Для привидения слова к словарной форме используется библиотека pymystem3 и метод lemmatize(). Результат лемматизации необходим для понимания целей взятия клиентами банка кредита, для того, чтобы по целям можно было сформировать определенные категории."
   ]
  },
  {
   "cell_type": "code",
   "execution_count": 21,
   "metadata": {},
   "outputs": [],
   "source": [
    "#импортирцем библиотеку pymystem3 \n",
    "\n",
    "from pymystem3 import Mystem\n",
    "m = Mystem()"
   ]
  },
  {
   "cell_type": "code",
   "execution_count": 22,
   "metadata": {},
   "outputs": [
    {
     "data": {
      "text/plain": [
       "array(['покупка жилья', 'приобретение автомобиля',\n",
       "       'дополнительное образование', 'сыграть свадьбу',\n",
       "       'операции с жильем', 'образование', 'на проведение свадьбы',\n",
       "       'покупка жилья для семьи', 'покупка недвижимости',\n",
       "       'покупка коммерческой недвижимости', 'покупка жилой недвижимости',\n",
       "       'строительство собственной недвижимости', 'недвижимость',\n",
       "       'строительство недвижимости', 'на покупку подержанного автомобиля',\n",
       "       'на покупку своего автомобиля',\n",
       "       'операции с коммерческой недвижимостью',\n",
       "       'строительство жилой недвижимости', 'жилье',\n",
       "       'операции со своей недвижимостью', 'автомобили',\n",
       "       'заняться образованием', 'сделка с подержанным автомобилем',\n",
       "       'получение образования', 'автомобиль', 'свадьба',\n",
       "       'получение дополнительного образования', 'покупка своего жилья',\n",
       "       'операции с недвижимостью', 'получение высшего образования',\n",
       "       'свой автомобиль', 'сделка с автомобилем',\n",
       "       'профильное образование', 'высшее образование',\n",
       "       'покупка жилья для сдачи', 'на покупку автомобиля', 'ремонт жилью',\n",
       "       'заняться высшим образованием'], dtype=object)"
      ]
     },
     "execution_count": 22,
     "metadata": {},
     "output_type": "execute_result"
    }
   ],
   "source": [
    "#просматриваем список уникальных значений в столбце purpose. Результат сохраняем в переменной purpose\n",
    "\n",
    "purpose = data['purpose'].unique()\n",
    "\n",
    "#выводим список уникальных значений на экран\n",
    "\n",
    "purpose"
   ]
  },
  {
   "cell_type": "code",
   "execution_count": 23,
   "metadata": {},
   "outputs": [
    {
     "data": {
      "text/plain": [
       "['\"',\n",
       " 'покупка',\n",
       " ' ',\n",
       " 'жилье',\n",
       " ', ',\n",
       " 'приобретение',\n",
       " ' ',\n",
       " 'автомобиль',\n",
       " ',\\n',\n",
       " '       ',\n",
       " 'дополнительный',\n",
       " ' ',\n",
       " 'образование',\n",
       " ', ',\n",
       " 'сыграть',\n",
       " ' ',\n",
       " 'свадьба',\n",
       " ',\\n',\n",
       " '       ',\n",
       " 'операция',\n",
       " ' ',\n",
       " 'с',\n",
       " ' ',\n",
       " 'жилье',\n",
       " ', ',\n",
       " 'образование',\n",
       " ', ',\n",
       " 'на',\n",
       " ' ',\n",
       " 'проведение',\n",
       " ' ',\n",
       " 'свадьба',\n",
       " ',\\n',\n",
       " '       ',\n",
       " 'покупка',\n",
       " ' ',\n",
       " 'жилье',\n",
       " ' ',\n",
       " 'для',\n",
       " ' ',\n",
       " 'семья',\n",
       " ', ',\n",
       " 'покупка',\n",
       " ' ',\n",
       " 'недвижимость',\n",
       " ',\\n',\n",
       " '       ',\n",
       " 'покупка',\n",
       " ' ',\n",
       " 'коммерческий',\n",
       " ' ',\n",
       " 'недвижимость',\n",
       " ', ',\n",
       " 'покупка',\n",
       " ' ',\n",
       " 'жилой',\n",
       " ' ',\n",
       " 'недвижимость',\n",
       " ',\\n',\n",
       " '       ',\n",
       " 'строительство',\n",
       " ' ',\n",
       " 'собственный',\n",
       " ' ',\n",
       " 'недвижимость',\n",
       " ', ',\n",
       " 'недвижимость',\n",
       " ',\\n',\n",
       " '       ',\n",
       " 'строительство',\n",
       " ' ',\n",
       " 'недвижимость',\n",
       " ', ',\n",
       " 'на',\n",
       " ' ',\n",
       " 'покупка',\n",
       " ' ',\n",
       " 'подержать',\n",
       " ' ',\n",
       " 'автомобиль',\n",
       " ',\\n',\n",
       " '       ',\n",
       " 'на',\n",
       " ' ',\n",
       " 'покупка',\n",
       " ' ',\n",
       " 'свой',\n",
       " ' ',\n",
       " 'автомобиль',\n",
       " ',\\n',\n",
       " '       ',\n",
       " 'операция',\n",
       " ' ',\n",
       " 'с',\n",
       " ' ',\n",
       " 'коммерческий',\n",
       " ' ',\n",
       " 'недвижимость',\n",
       " ',\\n',\n",
       " '       ',\n",
       " 'строительство',\n",
       " ' ',\n",
       " 'жилой',\n",
       " ' ',\n",
       " 'недвижимость',\n",
       " ', ',\n",
       " 'жилье',\n",
       " ',\\n',\n",
       " '       ',\n",
       " 'операция',\n",
       " ' ',\n",
       " 'со',\n",
       " ' ',\n",
       " 'свой',\n",
       " ' ',\n",
       " 'недвижимость',\n",
       " ', ',\n",
       " 'автомобиль',\n",
       " ',\\n',\n",
       " '       ',\n",
       " 'заниматься',\n",
       " ' ',\n",
       " 'образование',\n",
       " ', ',\n",
       " 'сделка',\n",
       " ' ',\n",
       " 'с',\n",
       " ' ',\n",
       " 'подержанный',\n",
       " ' ',\n",
       " 'автомобиль',\n",
       " ',\\n',\n",
       " '       ',\n",
       " 'получение',\n",
       " ' ',\n",
       " 'образование',\n",
       " ', ',\n",
       " 'автомобиль',\n",
       " ', ',\n",
       " 'свадьба',\n",
       " ',\\n',\n",
       " '       ',\n",
       " 'получение',\n",
       " ' ',\n",
       " 'дополнительный',\n",
       " ' ',\n",
       " 'образование',\n",
       " ', ',\n",
       " 'покупка',\n",
       " ' ',\n",
       " 'свой',\n",
       " ' ',\n",
       " 'жилье',\n",
       " ',\\n',\n",
       " '       ',\n",
       " 'операция',\n",
       " ' ',\n",
       " 'с',\n",
       " ' ',\n",
       " 'недвижимость',\n",
       " ', ',\n",
       " 'получение',\n",
       " ' ',\n",
       " 'высокий',\n",
       " ' ',\n",
       " 'образование',\n",
       " ',\\n',\n",
       " '       ',\n",
       " 'свой',\n",
       " ' ',\n",
       " 'автомобиль',\n",
       " ', ',\n",
       " 'сделка',\n",
       " ' ',\n",
       " 'с',\n",
       " ' ',\n",
       " 'автомобиль',\n",
       " ',\\n',\n",
       " '       ',\n",
       " 'профильный',\n",
       " ' ',\n",
       " 'образование',\n",
       " ', ',\n",
       " 'высокий',\n",
       " ' ',\n",
       " 'образование',\n",
       " ',\\n',\n",
       " '       ',\n",
       " 'покупка',\n",
       " ' ',\n",
       " 'жилье',\n",
       " ' ',\n",
       " 'для',\n",
       " ' ',\n",
       " 'сдача',\n",
       " ', ',\n",
       " 'на',\n",
       " ' ',\n",
       " 'покупка',\n",
       " ' ',\n",
       " 'автомобиль',\n",
       " ', ',\n",
       " 'ремонт',\n",
       " ' ',\n",
       " 'жилье',\n",
       " ',\\n',\n",
       " '       ',\n",
       " 'заниматься',\n",
       " ' ',\n",
       " 'высокий',\n",
       " ' ',\n",
       " 'образование',\n",
       " '\\n']"
      ]
     },
     "execution_count": 23,
     "metadata": {},
     "output_type": "execute_result"
    }
   ],
   "source": [
    "#преобразуем значения столбца purpose в строку для проведения лемматизации. Результат сохраняем в переменной purpose_list\n",
    "\n",
    "purpose_list = \"\"\"\"покупка жилья, приобретение автомобиля,\n",
    "       дополнительное образование, сыграть свадьбу,\n",
    "       операции с жильем, образование, на проведение свадьбы,\n",
    "       покупка жилья для семьи, покупка недвижимости,\n",
    "       покупка коммерческой недвижимости, покупка жилой недвижимости,\n",
    "       строительство собственной недвижимости, недвижимость,\n",
    "       строительство недвижимости, на покупку подержанного автомобиля,\n",
    "       на покупку своего автомобиля,\n",
    "       операции с коммерческой недвижимостью,\n",
    "       строительство жилой недвижимости, жилье,\n",
    "       операции со своей недвижимостью, автомобили,\n",
    "       заняться образованием, сделка с подержанным автомобилем,\n",
    "       получение образования, автомобиль, свадьба,\n",
    "       получение дополнительного образования, покупка своего жилья,\n",
    "       операции с недвижимостью, получение высшего образования,\n",
    "       свой автомобиль, сделка с автомобилем,\n",
    "       профильное образование, высшее образование,\n",
    "       покупка жилья для сдачи, на покупку автомобиля, ремонт жилью,\n",
    "       заняться высшим образованием\"\"\"\n",
    "\n",
    "#передаем переменной lemmas значения списка purpose_list для лемматизации\n",
    "\n",
    "lemmas = m.lemmatize(purpose_list)\n",
    "\n",
    "#выводим результат лемматизации на экран\n",
    "\n",
    "lemmas"
   ]
  },
  {
   "cell_type": "code",
   "execution_count": 24,
   "metadata": {},
   "outputs": [
    {
     "data": {
      "text/plain": [
       "Counter({'\"': 1,\n",
       "         'покупка': 10,\n",
       "         ' ': 59,\n",
       "         'жилье': 7,\n",
       "         ', ': 19,\n",
       "         'приобретение': 1,\n",
       "         'автомобиль': 9,\n",
       "         ',\\n': 18,\n",
       "         '       ': 18,\n",
       "         'дополнительный': 2,\n",
       "         'образование': 9,\n",
       "         'сыграть': 1,\n",
       "         'свадьба': 3,\n",
       "         'операция': 4,\n",
       "         'с': 5,\n",
       "         'на': 4,\n",
       "         'проведение': 1,\n",
       "         'для': 2,\n",
       "         'семья': 1,\n",
       "         'недвижимость': 10,\n",
       "         'коммерческий': 2,\n",
       "         'жилой': 2,\n",
       "         'строительство': 3,\n",
       "         'собственный': 1,\n",
       "         'подержать': 1,\n",
       "         'свой': 4,\n",
       "         'со': 1,\n",
       "         'заниматься': 2,\n",
       "         'сделка': 2,\n",
       "         'подержанный': 1,\n",
       "         'получение': 3,\n",
       "         'высокий': 3,\n",
       "         'профильный': 1,\n",
       "         'сдача': 1,\n",
       "         'ремонт': 1,\n",
       "         '\\n': 1})"
      ]
     },
     "execution_count": 24,
     "metadata": {},
     "output_type": "execute_result"
    }
   ],
   "source": [
    "#для подсчета частоты встречаемости лемм импортируем Counter\n",
    "\n",
    "from collections import Counter\n",
    "\n",
    "#выводим результат подсчета на экран\n",
    "\n",
    "Counter(lemmas)"
   ]
  },
  {
   "cell_type": "markdown",
   "metadata": {},
   "source": [
    "Исходя из определения лемм видно, что есть 4 основные цели получения кредита, связанных с покупкой недвижимости или жилья, покупкой автомобиля, получения образования, организации свадьбы. На основе этих данных напишем функцию для замены значений в столбце согласно выбранным категориям."
   ]
  },
  {
   "cell_type": "code",
   "execution_count": 25,
   "metadata": {},
   "outputs": [],
   "source": [
    "#объявляем функцию lemma_function\n",
    "\n",
    "def lemma_function(purpose):\n",
    "    lemma = m.lemmatize(purpose) #сохраняем результат лемматизации в переменную lemma\n",
    "    if ('недвижимость' in lemma) or ('жилье' in lemma): #объявляем условие \n",
    "        lem_name = 'недвижимость' #если значение соответствует лемме, сохраняем результат в переменной lem_name\n",
    "        return lem_name           # и возвращаем результат с помощью функции return\n",
    "    \n",
    "    elif 'автомобиль' in lemma:\n",
    "        lem_name = 'автомобиль'\n",
    "        return lem_name\n",
    "    \n",
    "    elif 'образование' in lemma:\n",
    "        lem_name = 'образование'\n",
    "        return lem_name\n",
    "    \n",
    "    elif 'свадьба' in lemma:\n",
    "        lem_name = 'свадьба'\n",
    "        return lem_name\n",
    "    \n",
    "    else:\n",
    "        return 'другое'\n",
    "    "
   ]
  },
  {
   "cell_type": "code",
   "execution_count": 26,
   "metadata": {},
   "outputs": [
    {
     "data": {
      "text/plain": [
       "'образование'"
      ]
     },
     "execution_count": 26,
     "metadata": {},
     "output_type": "execute_result"
    }
   ],
   "source": [
    "#проверим работу функции lemma_function\n",
    "\n",
    "lemma_function('образование')"
   ]
  },
  {
   "cell_type": "code",
   "execution_count": 27,
   "metadata": {},
   "outputs": [
    {
     "data": {
      "text/plain": [
       "'недвижимость'"
      ]
     },
     "execution_count": 27,
     "metadata": {},
     "output_type": "execute_result"
    }
   ],
   "source": [
    "lemma_function('недвижимость')"
   ]
  },
  {
   "cell_type": "code",
   "execution_count": 28,
   "metadata": {},
   "outputs": [
    {
     "data": {
      "text/html": [
       "<div>\n",
       "<style scoped>\n",
       "    .dataframe tbody tr th:only-of-type {\n",
       "        vertical-align: middle;\n",
       "    }\n",
       "\n",
       "    .dataframe tbody tr th {\n",
       "        vertical-align: top;\n",
       "    }\n",
       "\n",
       "    .dataframe thead th {\n",
       "        text-align: right;\n",
       "    }\n",
       "</style>\n",
       "<table border=\"1\" class=\"dataframe\">\n",
       "  <thead>\n",
       "    <tr style=\"text-align: right;\">\n",
       "      <th></th>\n",
       "      <th>children</th>\n",
       "      <th>days_employed</th>\n",
       "      <th>dob_years</th>\n",
       "      <th>education</th>\n",
       "      <th>education_id</th>\n",
       "      <th>family_status</th>\n",
       "      <th>family_status_id</th>\n",
       "      <th>gender</th>\n",
       "      <th>income_type</th>\n",
       "      <th>debt</th>\n",
       "      <th>total_income</th>\n",
       "      <th>purpose</th>\n",
       "    </tr>\n",
       "  </thead>\n",
       "  <tbody>\n",
       "    <tr>\n",
       "      <td>0</td>\n",
       "      <td>1</td>\n",
       "      <td>8437</td>\n",
       "      <td>42</td>\n",
       "      <td>высшее</td>\n",
       "      <td>0</td>\n",
       "      <td>женат / замужем</td>\n",
       "      <td>0</td>\n",
       "      <td>F</td>\n",
       "      <td>сотрудник</td>\n",
       "      <td>0</td>\n",
       "      <td>253875</td>\n",
       "      <td>недвижимость</td>\n",
       "    </tr>\n",
       "    <tr>\n",
       "      <td>1</td>\n",
       "      <td>1</td>\n",
       "      <td>4024</td>\n",
       "      <td>36</td>\n",
       "      <td>среднее</td>\n",
       "      <td>1</td>\n",
       "      <td>женат / замужем</td>\n",
       "      <td>0</td>\n",
       "      <td>F</td>\n",
       "      <td>сотрудник</td>\n",
       "      <td>0</td>\n",
       "      <td>112080</td>\n",
       "      <td>автомобиль</td>\n",
       "    </tr>\n",
       "    <tr>\n",
       "      <td>2</td>\n",
       "      <td>0</td>\n",
       "      <td>5623</td>\n",
       "      <td>33</td>\n",
       "      <td>Среднее</td>\n",
       "      <td>1</td>\n",
       "      <td>женат / замужем</td>\n",
       "      <td>0</td>\n",
       "      <td>M</td>\n",
       "      <td>сотрудник</td>\n",
       "      <td>0</td>\n",
       "      <td>145885</td>\n",
       "      <td>недвижимость</td>\n",
       "    </tr>\n",
       "    <tr>\n",
       "      <td>3</td>\n",
       "      <td>3</td>\n",
       "      <td>4124</td>\n",
       "      <td>32</td>\n",
       "      <td>среднее</td>\n",
       "      <td>1</td>\n",
       "      <td>женат / замужем</td>\n",
       "      <td>0</td>\n",
       "      <td>M</td>\n",
       "      <td>сотрудник</td>\n",
       "      <td>0</td>\n",
       "      <td>267628</td>\n",
       "      <td>образование</td>\n",
       "    </tr>\n",
       "    <tr>\n",
       "      <td>4</td>\n",
       "      <td>0</td>\n",
       "      <td>340266</td>\n",
       "      <td>53</td>\n",
       "      <td>среднее</td>\n",
       "      <td>1</td>\n",
       "      <td>гражданский брак</td>\n",
       "      <td>1</td>\n",
       "      <td>F</td>\n",
       "      <td>пенсионер</td>\n",
       "      <td>0</td>\n",
       "      <td>158616</td>\n",
       "      <td>свадьба</td>\n",
       "    </tr>\n",
       "    <tr>\n",
       "      <td>5</td>\n",
       "      <td>0</td>\n",
       "      <td>926</td>\n",
       "      <td>27</td>\n",
       "      <td>высшее</td>\n",
       "      <td>0</td>\n",
       "      <td>гражданский брак</td>\n",
       "      <td>1</td>\n",
       "      <td>M</td>\n",
       "      <td>компаньон</td>\n",
       "      <td>0</td>\n",
       "      <td>255763</td>\n",
       "      <td>недвижимость</td>\n",
       "    </tr>\n",
       "    <tr>\n",
       "      <td>6</td>\n",
       "      <td>0</td>\n",
       "      <td>2879</td>\n",
       "      <td>43</td>\n",
       "      <td>высшее</td>\n",
       "      <td>0</td>\n",
       "      <td>женат / замужем</td>\n",
       "      <td>0</td>\n",
       "      <td>F</td>\n",
       "      <td>компаньон</td>\n",
       "      <td>0</td>\n",
       "      <td>240525</td>\n",
       "      <td>недвижимость</td>\n",
       "    </tr>\n",
       "    <tr>\n",
       "      <td>7</td>\n",
       "      <td>0</td>\n",
       "      <td>152</td>\n",
       "      <td>50</td>\n",
       "      <td>СРЕДНЕЕ</td>\n",
       "      <td>1</td>\n",
       "      <td>женат / замужем</td>\n",
       "      <td>0</td>\n",
       "      <td>M</td>\n",
       "      <td>сотрудник</td>\n",
       "      <td>0</td>\n",
       "      <td>135823</td>\n",
       "      <td>образование</td>\n",
       "    </tr>\n",
       "    <tr>\n",
       "      <td>8</td>\n",
       "      <td>2</td>\n",
       "      <td>6929</td>\n",
       "      <td>35</td>\n",
       "      <td>ВЫСШЕЕ</td>\n",
       "      <td>0</td>\n",
       "      <td>гражданский брак</td>\n",
       "      <td>1</td>\n",
       "      <td>F</td>\n",
       "      <td>сотрудник</td>\n",
       "      <td>0</td>\n",
       "      <td>95856</td>\n",
       "      <td>свадьба</td>\n",
       "    </tr>\n",
       "    <tr>\n",
       "      <td>9</td>\n",
       "      <td>0</td>\n",
       "      <td>2188</td>\n",
       "      <td>41</td>\n",
       "      <td>среднее</td>\n",
       "      <td>1</td>\n",
       "      <td>женат / замужем</td>\n",
       "      <td>0</td>\n",
       "      <td>M</td>\n",
       "      <td>сотрудник</td>\n",
       "      <td>0</td>\n",
       "      <td>144425</td>\n",
       "      <td>недвижимость</td>\n",
       "    </tr>\n",
       "  </tbody>\n",
       "</table>\n",
       "</div>"
      ],
      "text/plain": [
       "   children  days_employed  dob_years education  education_id  \\\n",
       "0         1           8437         42    высшее             0   \n",
       "1         1           4024         36   среднее             1   \n",
       "2         0           5623         33   Среднее             1   \n",
       "3         3           4124         32   среднее             1   \n",
       "4         0         340266         53   среднее             1   \n",
       "5         0            926         27    высшее             0   \n",
       "6         0           2879         43    высшее             0   \n",
       "7         0            152         50   СРЕДНЕЕ             1   \n",
       "8         2           6929         35    ВЫСШЕЕ             0   \n",
       "9         0           2188         41   среднее             1   \n",
       "\n",
       "      family_status  family_status_id gender income_type  debt  total_income  \\\n",
       "0   женат / замужем                 0      F   сотрудник     0        253875   \n",
       "1   женат / замужем                 0      F   сотрудник     0        112080   \n",
       "2   женат / замужем                 0      M   сотрудник     0        145885   \n",
       "3   женат / замужем                 0      M   сотрудник     0        267628   \n",
       "4  гражданский брак                 1      F   пенсионер     0        158616   \n",
       "5  гражданский брак                 1      M   компаньон     0        255763   \n",
       "6   женат / замужем                 0      F   компаньон     0        240525   \n",
       "7   женат / замужем                 0      M   сотрудник     0        135823   \n",
       "8  гражданский брак                 1      F   сотрудник     0         95856   \n",
       "9   женат / замужем                 0      M   сотрудник     0        144425   \n",
       "\n",
       "        purpose  \n",
       "0  недвижимость  \n",
       "1    автомобиль  \n",
       "2  недвижимость  \n",
       "3   образование  \n",
       "4       свадьба  \n",
       "5  недвижимость  \n",
       "6  недвижимость  \n",
       "7   образование  \n",
       "8       свадьба  \n",
       "9  недвижимость  "
      ]
     },
     "execution_count": 28,
     "metadata": {},
     "output_type": "execute_result"
    }
   ],
   "source": [
    "#применяем функцию lemma_function к значениям в столбце purpose\n",
    "\n",
    "purpose = data['purpose'].apply(lemma_function)\n",
    "\n",
    "#заменяем значения в столбце purpose на лемматизированные\n",
    "\n",
    "data['purpose'] = purpose\n",
    "\n",
    "#выведем первые 10 строк таблицы на экран\n",
    "\n",
    "data.head(10)"
   ]
  },
  {
   "cell_type": "markdown",
   "metadata": {},
   "source": [
    "**Вывод**"
   ]
  },
  {
   "cell_type": "markdown",
   "metadata": {},
   "source": [
    "В результате изучения данных о целях кредитования, при проведении лемматизации выяснилось, что все цели можно поделить на 4 категории: операции с недвижимостью или жильем, получение образования, финансирование проведения свадьбы и приобретение автомобиля (или иные операции с автомобилем). "
   ]
  },
  {
   "cell_type": "markdown",
   "metadata": {},
   "source": [
    "### Категоризация данных"
   ]
  },
  {
   "cell_type": "markdown",
   "metadata": {},
   "source": [
    "Поскольку нам нужно найти зависимость между погашением кредита в срок и такими факторами, как наличие детей, семейное положение, уровень дохода и цель кредитования, необходимо категоризировать следующие столбцы: family_status, family_status_id, children, total_income, purpose. Для группировки значений будем использовать метод groupby(), для подсчета значений в столбцах метод count() в сочетании с методом agg()."
   ]
  },
  {
   "cell_type": "code",
   "execution_count": 29,
   "metadata": {},
   "outputs": [
    {
     "data": {
      "text/html": [
       "<div>\n",
       "<style scoped>\n",
       "    .dataframe tbody tr th:only-of-type {\n",
       "        vertical-align: middle;\n",
       "    }\n",
       "\n",
       "    .dataframe tbody tr th {\n",
       "        vertical-align: top;\n",
       "    }\n",
       "\n",
       "    .dataframe thead th {\n",
       "        text-align: right;\n",
       "    }\n",
       "</style>\n",
       "<table border=\"1\" class=\"dataframe\">\n",
       "  <thead>\n",
       "    <tr style=\"text-align: right;\">\n",
       "      <th></th>\n",
       "      <th></th>\n",
       "      <th></th>\n",
       "      <th>debt</th>\n",
       "    </tr>\n",
       "    <tr>\n",
       "      <th>family_status_id</th>\n",
       "      <th>family_status</th>\n",
       "      <th>debt</th>\n",
       "      <th></th>\n",
       "    </tr>\n",
       "  </thead>\n",
       "  <tbody>\n",
       "    <tr>\n",
       "      <td rowspan=\"2\" valign=\"top\">0</td>\n",
       "      <td rowspan=\"2\" valign=\"top\">женат / замужем</td>\n",
       "      <td>0</td>\n",
       "      <td>11339</td>\n",
       "    </tr>\n",
       "    <tr>\n",
       "      <td>1</td>\n",
       "      <td>927</td>\n",
       "    </tr>\n",
       "    <tr>\n",
       "      <td rowspan=\"2\" valign=\"top\">1</td>\n",
       "      <td rowspan=\"2\" valign=\"top\">гражданский брак</td>\n",
       "      <td>0</td>\n",
       "      <td>3761</td>\n",
       "    </tr>\n",
       "    <tr>\n",
       "      <td>1</td>\n",
       "      <td>385</td>\n",
       "    </tr>\n",
       "    <tr>\n",
       "      <td rowspan=\"2\" valign=\"top\">2</td>\n",
       "      <td rowspan=\"2\" valign=\"top\">вдовец / вдова</td>\n",
       "      <td>0</td>\n",
       "      <td>888</td>\n",
       "    </tr>\n",
       "    <tr>\n",
       "      <td>1</td>\n",
       "      <td>63</td>\n",
       "    </tr>\n",
       "    <tr>\n",
       "      <td rowspan=\"2\" valign=\"top\">3</td>\n",
       "      <td rowspan=\"2\" valign=\"top\">в разводе</td>\n",
       "      <td>0</td>\n",
       "      <td>1105</td>\n",
       "    </tr>\n",
       "    <tr>\n",
       "      <td>1</td>\n",
       "      <td>84</td>\n",
       "    </tr>\n",
       "    <tr>\n",
       "      <td rowspan=\"2\" valign=\"top\">4</td>\n",
       "      <td rowspan=\"2\" valign=\"top\">Не женат / не замужем</td>\n",
       "      <td>0</td>\n",
       "      <td>2523</td>\n",
       "    </tr>\n",
       "    <tr>\n",
       "      <td>1</td>\n",
       "      <td>273</td>\n",
       "    </tr>\n",
       "  </tbody>\n",
       "</table>\n",
       "</div>"
      ],
      "text/plain": [
       "                                              debt\n",
       "family_status_id family_status         debt       \n",
       "0                женат / замужем       0     11339\n",
       "                                       1       927\n",
       "1                гражданский брак      0      3761\n",
       "                                       1       385\n",
       "2                вдовец / вдова        0       888\n",
       "                                       1        63\n",
       "3                в разводе             0      1105\n",
       "                                       1        84\n",
       "4                Не женат / не замужем 0      2523\n",
       "                                       1       273"
      ]
     },
     "execution_count": 29,
     "metadata": {},
     "output_type": "execute_result"
    }
   ],
   "source": [
    "#сгруппируем данные о задолженности по столбцам family_status_id, family_status \n",
    "#и посчитаем количество должников по категориям. Результат сохраним в новой таблице data_family\n",
    "\n",
    "data_family = data.groupby(['family_status_id','family_status','debt']).agg({'debt':'count'})\n",
    "\n",
    "\n",
    "#выведем таблицу на экран\n",
    "\n",
    "data_family"
   ]
  },
  {
   "cell_type": "code",
   "execution_count": 30,
   "metadata": {},
   "outputs": [
    {
     "data": {
      "text/plain": [
       "family_status_id  family_status          debt\n",
       "0                 женат / замужем        0       92.442524\n",
       "                                         1        7.557476\n",
       "1                 гражданский брак       0       90.713941\n",
       "                                         1        9.286059\n",
       "2                 вдовец / вдова         0       93.375394\n",
       "                                         1        6.624606\n",
       "3                 в разводе              0       92.935240\n",
       "                                         1        7.064760\n",
       "4                 Не женат / не замужем  0       90.236052\n",
       "                                         1        9.763948\n",
       "Name: debt, dtype: float64"
      ]
     },
     "execution_count": 30,
     "metadata": {},
     "output_type": "execute_result"
    }
   ],
   "source": [
    "#посчитаем процент вероятности возврата кредита в срок в зависимости от семейного положения \n",
    "\n",
    "data_family = (data_family['debt'] / (data_family.groupby('family_status_id')['debt'].transform('sum')))*100 \n",
    "\n",
    "#выведем таблицу на экран\n",
    "\n",
    "data_family"
   ]
  },
  {
   "cell_type": "markdown",
   "metadata": {},
   "source": [
    "**Вывод**\n",
    "\n",
    "Исходя из данных о наличии задолженности в разрезе семейного положения клиентов банка, можно сказать, что вероятность погашения кредита в срок среди тех, кто женат или замужем, вдовцов/вдов и тех, кто в разводе, выше, чем среди тех, кто холост или не замужем и тех, кто живет в гражданском браке."
   ]
  },
  {
   "cell_type": "code",
   "execution_count": 31,
   "metadata": {},
   "outputs": [
    {
     "data": {
      "text/html": [
       "<div>\n",
       "<style scoped>\n",
       "    .dataframe tbody tr th:only-of-type {\n",
       "        vertical-align: middle;\n",
       "    }\n",
       "\n",
       "    .dataframe tbody tr th {\n",
       "        vertical-align: top;\n",
       "    }\n",
       "\n",
       "    .dataframe thead th {\n",
       "        text-align: right;\n",
       "    }\n",
       "</style>\n",
       "<table border=\"1\" class=\"dataframe\">\n",
       "  <thead>\n",
       "    <tr style=\"text-align: right;\">\n",
       "      <th></th>\n",
       "      <th></th>\n",
       "      <th>debt</th>\n",
       "    </tr>\n",
       "    <tr>\n",
       "      <th>children</th>\n",
       "      <th>debt</th>\n",
       "      <th></th>\n",
       "    </tr>\n",
       "  </thead>\n",
       "  <tbody>\n",
       "    <tr>\n",
       "      <td rowspan=\"2\" valign=\"top\">0</td>\n",
       "      <td>0</td>\n",
       "      <td>13044</td>\n",
       "    </tr>\n",
       "    <tr>\n",
       "      <td>1</td>\n",
       "      <td>1063</td>\n",
       "    </tr>\n",
       "    <tr>\n",
       "      <td rowspan=\"2\" valign=\"top\">1</td>\n",
       "      <td>0</td>\n",
       "      <td>4365</td>\n",
       "    </tr>\n",
       "    <tr>\n",
       "      <td>1</td>\n",
       "      <td>444</td>\n",
       "    </tr>\n",
       "    <tr>\n",
       "      <td rowspan=\"2\" valign=\"top\">2</td>\n",
       "      <td>0</td>\n",
       "      <td>1858</td>\n",
       "    </tr>\n",
       "    <tr>\n",
       "      <td>1</td>\n",
       "      <td>194</td>\n",
       "    </tr>\n",
       "    <tr>\n",
       "      <td rowspan=\"2\" valign=\"top\">3</td>\n",
       "      <td>0</td>\n",
       "      <td>303</td>\n",
       "    </tr>\n",
       "    <tr>\n",
       "      <td>1</td>\n",
       "      <td>27</td>\n",
       "    </tr>\n",
       "    <tr>\n",
       "      <td rowspan=\"2\" valign=\"top\">4</td>\n",
       "      <td>0</td>\n",
       "      <td>37</td>\n",
       "    </tr>\n",
       "    <tr>\n",
       "      <td>1</td>\n",
       "      <td>4</td>\n",
       "    </tr>\n",
       "    <tr>\n",
       "      <td>5</td>\n",
       "      <td>0</td>\n",
       "      <td>9</td>\n",
       "    </tr>\n",
       "  </tbody>\n",
       "</table>\n",
       "</div>"
      ],
      "text/plain": [
       "                debt\n",
       "children debt       \n",
       "0        0     13044\n",
       "         1      1063\n",
       "1        0      4365\n",
       "         1       444\n",
       "2        0      1858\n",
       "         1       194\n",
       "3        0       303\n",
       "         1        27\n",
       "4        0        37\n",
       "         1         4\n",
       "5        0         9"
      ]
     },
     "execution_count": 31,
     "metadata": {},
     "output_type": "execute_result"
    }
   ],
   "source": [
    "#сгруппируем данные о задолженности по столбцу children и посчитаем количество должников по категориям. \n",
    "#Результат сохраним в новой таблице data_children\n",
    "\n",
    "data_children = data.groupby(['children','debt']).agg({'debt':'count'})\n",
    "\n",
    "#выведем на экран новую таблицу data_children\n",
    "\n",
    "data_children"
   ]
  },
  {
   "cell_type": "code",
   "execution_count": 32,
   "metadata": {},
   "outputs": [
    {
     "data": {
      "text/plain": [
       "children  debt\n",
       "0         0        92.464734\n",
       "          1         7.535266\n",
       "1         0        90.767311\n",
       "          1         9.232689\n",
       "2         0        90.545809\n",
       "          1         9.454191\n",
       "3         0        91.818182\n",
       "          1         8.181818\n",
       "4         0        90.243902\n",
       "          1         9.756098\n",
       "5         0       100.000000\n",
       "Name: debt, dtype: float64"
      ]
     },
     "execution_count": 32,
     "metadata": {},
     "output_type": "execute_result"
    }
   ],
   "source": [
    "#посчитаем процент вероятности возврата кредита в срок в зависимости от наличия, \n",
    "#количества или отсутствия детей\n",
    "\n",
    "data_children = (data_children['debt'] / (data_children.groupby('children')['debt'].transform('sum')))*100 \n",
    "\n",
    "#выведем таблицу на экран\n",
    "\n",
    "data_children"
   ]
  },
  {
   "cell_type": "markdown",
   "metadata": {},
   "source": [
    "**Вывод**\n",
    "\n",
    "Исходя из группировки данных о задолженности в зависимости от наличия детей видно, что и при наличии 1-4 детей и при их отсутствии, доля тех, кто погашает кредит в срок 90,2 - 92,5%. При наличии пятерых детей вероятность погашения кредита в срок максимальная, однако в выборке отсутствует информация о непогашенных в срок кредитах у клиентов с наличием пяти детей. В целом, можно сказать, что наличие или отсутствие детей не влияет на возможность погашения кредита в срок, поскольку наличие 3 и более детей встречается гораздо реже, чем 1-2 ребенка или их отсутствие."
   ]
  },
  {
   "cell_type": "markdown",
   "metadata": {},
   "source": [
    "Для оценки влияния уровня дохода на погашение кредита в срок, нам необходимо категоризировать данные о совокупном доходе. Для этого найдем максимальное и минимальное значения в столбце total_income."
   ]
  },
  {
   "cell_type": "code",
   "execution_count": 33,
   "metadata": {},
   "outputs": [
    {
     "data": {
      "text/plain": [
       "2265604"
      ]
     },
     "execution_count": 33,
     "metadata": {},
     "output_type": "execute_result"
    }
   ],
   "source": [
    "#находим максимальное значение совокупного дохода\n",
    "\n",
    "data['total_income'].max()"
   ]
  },
  {
   "cell_type": "code",
   "execution_count": 34,
   "metadata": {},
   "outputs": [
    {
     "data": {
      "text/plain": [
       "20667"
      ]
     },
     "execution_count": 34,
     "metadata": {},
     "output_type": "execute_result"
    }
   ],
   "source": [
    "#находим минимальное значение совокупного дохода\n",
    "\n",
    "data['total_income'].min()"
   ]
  },
  {
   "cell_type": "markdown",
   "metadata": {},
   "source": [
    "Разбежка между минимальным и максимальным значениями совокупного дохода внушительная. Возможно данные некорректны и необходимо уточнить у разработчиков соответствуют ли значения действительности. Предположим, что данные корректны. Для дальнейшей оценки влияния уровня дохода на срок погашения кредита разделим уровень доходов на несколько категорий: низкий, средний, высокий и очень высокий доход. Для этого напишем функцию income_id."
   ]
  },
  {
   "cell_type": "code",
   "execution_count": 35,
   "metadata": {},
   "outputs": [],
   "source": [
    "def income_id(total_income): #объявляем функцию income_id\n",
    "    if 20000 <= total_income <= 99999: #объявляем условие\n",
    "        return 'низкий' #возвращаем значение, если оно удовлетворяет условию\n",
    "    \n",
    "    elif 100000 <= total_income <= 200000:\n",
    "        return 'средний'\n",
    "    \n",
    "    elif 200001 <= total_income <= 500000:\n",
    "        return 'высокий'\n",
    "    else:\n",
    "        return 'очень высокий'"
   ]
  },
  {
   "cell_type": "code",
   "execution_count": 36,
   "metadata": {},
   "outputs": [
    {
     "data": {
      "text/plain": [
       "'низкий'"
      ]
     },
     "execution_count": 36,
     "metadata": {},
     "output_type": "execute_result"
    }
   ],
   "source": [
    "#объявим функцию income_id для проверки корректности работы\n",
    "\n",
    "income_id(75000)"
   ]
  },
  {
   "cell_type": "code",
   "execution_count": 37,
   "metadata": {},
   "outputs": [
    {
     "data": {
      "text/plain": [
       "'очень высокий'"
      ]
     },
     "execution_count": 37,
     "metadata": {},
     "output_type": "execute_result"
    }
   ],
   "source": [
    "income_id(750000)"
   ]
  },
  {
   "cell_type": "code",
   "execution_count": 38,
   "metadata": {},
   "outputs": [
    {
     "data": {
      "text/html": [
       "<div>\n",
       "<style scoped>\n",
       "    .dataframe tbody tr th:only-of-type {\n",
       "        vertical-align: middle;\n",
       "    }\n",
       "\n",
       "    .dataframe tbody tr th {\n",
       "        vertical-align: top;\n",
       "    }\n",
       "\n",
       "    .dataframe thead th {\n",
       "        text-align: right;\n",
       "    }\n",
       "</style>\n",
       "<table border=\"1\" class=\"dataframe\">\n",
       "  <thead>\n",
       "    <tr style=\"text-align: right;\">\n",
       "      <th></th>\n",
       "      <th>children</th>\n",
       "      <th>days_employed</th>\n",
       "      <th>dob_years</th>\n",
       "      <th>education</th>\n",
       "      <th>education_id</th>\n",
       "      <th>family_status</th>\n",
       "      <th>family_status_id</th>\n",
       "      <th>gender</th>\n",
       "      <th>income_type</th>\n",
       "      <th>debt</th>\n",
       "      <th>total_income</th>\n",
       "      <th>purpose</th>\n",
       "      <th>income_id</th>\n",
       "    </tr>\n",
       "  </thead>\n",
       "  <tbody>\n",
       "    <tr>\n",
       "      <td>0</td>\n",
       "      <td>1</td>\n",
       "      <td>8437</td>\n",
       "      <td>42</td>\n",
       "      <td>высшее</td>\n",
       "      <td>0</td>\n",
       "      <td>женат / замужем</td>\n",
       "      <td>0</td>\n",
       "      <td>F</td>\n",
       "      <td>сотрудник</td>\n",
       "      <td>0</td>\n",
       "      <td>253875</td>\n",
       "      <td>недвижимость</td>\n",
       "      <td>высокий</td>\n",
       "    </tr>\n",
       "    <tr>\n",
       "      <td>1</td>\n",
       "      <td>1</td>\n",
       "      <td>4024</td>\n",
       "      <td>36</td>\n",
       "      <td>среднее</td>\n",
       "      <td>1</td>\n",
       "      <td>женат / замужем</td>\n",
       "      <td>0</td>\n",
       "      <td>F</td>\n",
       "      <td>сотрудник</td>\n",
       "      <td>0</td>\n",
       "      <td>112080</td>\n",
       "      <td>автомобиль</td>\n",
       "      <td>средний</td>\n",
       "    </tr>\n",
       "    <tr>\n",
       "      <td>2</td>\n",
       "      <td>0</td>\n",
       "      <td>5623</td>\n",
       "      <td>33</td>\n",
       "      <td>Среднее</td>\n",
       "      <td>1</td>\n",
       "      <td>женат / замужем</td>\n",
       "      <td>0</td>\n",
       "      <td>M</td>\n",
       "      <td>сотрудник</td>\n",
       "      <td>0</td>\n",
       "      <td>145885</td>\n",
       "      <td>недвижимость</td>\n",
       "      <td>средний</td>\n",
       "    </tr>\n",
       "    <tr>\n",
       "      <td>3</td>\n",
       "      <td>3</td>\n",
       "      <td>4124</td>\n",
       "      <td>32</td>\n",
       "      <td>среднее</td>\n",
       "      <td>1</td>\n",
       "      <td>женат / замужем</td>\n",
       "      <td>0</td>\n",
       "      <td>M</td>\n",
       "      <td>сотрудник</td>\n",
       "      <td>0</td>\n",
       "      <td>267628</td>\n",
       "      <td>образование</td>\n",
       "      <td>высокий</td>\n",
       "    </tr>\n",
       "    <tr>\n",
       "      <td>4</td>\n",
       "      <td>0</td>\n",
       "      <td>340266</td>\n",
       "      <td>53</td>\n",
       "      <td>среднее</td>\n",
       "      <td>1</td>\n",
       "      <td>гражданский брак</td>\n",
       "      <td>1</td>\n",
       "      <td>F</td>\n",
       "      <td>пенсионер</td>\n",
       "      <td>0</td>\n",
       "      <td>158616</td>\n",
       "      <td>свадьба</td>\n",
       "      <td>средний</td>\n",
       "    </tr>\n",
       "    <tr>\n",
       "      <td>5</td>\n",
       "      <td>0</td>\n",
       "      <td>926</td>\n",
       "      <td>27</td>\n",
       "      <td>высшее</td>\n",
       "      <td>0</td>\n",
       "      <td>гражданский брак</td>\n",
       "      <td>1</td>\n",
       "      <td>M</td>\n",
       "      <td>компаньон</td>\n",
       "      <td>0</td>\n",
       "      <td>255763</td>\n",
       "      <td>недвижимость</td>\n",
       "      <td>высокий</td>\n",
       "    </tr>\n",
       "    <tr>\n",
       "      <td>6</td>\n",
       "      <td>0</td>\n",
       "      <td>2879</td>\n",
       "      <td>43</td>\n",
       "      <td>высшее</td>\n",
       "      <td>0</td>\n",
       "      <td>женат / замужем</td>\n",
       "      <td>0</td>\n",
       "      <td>F</td>\n",
       "      <td>компаньон</td>\n",
       "      <td>0</td>\n",
       "      <td>240525</td>\n",
       "      <td>недвижимость</td>\n",
       "      <td>высокий</td>\n",
       "    </tr>\n",
       "    <tr>\n",
       "      <td>7</td>\n",
       "      <td>0</td>\n",
       "      <td>152</td>\n",
       "      <td>50</td>\n",
       "      <td>СРЕДНЕЕ</td>\n",
       "      <td>1</td>\n",
       "      <td>женат / замужем</td>\n",
       "      <td>0</td>\n",
       "      <td>M</td>\n",
       "      <td>сотрудник</td>\n",
       "      <td>0</td>\n",
       "      <td>135823</td>\n",
       "      <td>образование</td>\n",
       "      <td>средний</td>\n",
       "    </tr>\n",
       "    <tr>\n",
       "      <td>8</td>\n",
       "      <td>2</td>\n",
       "      <td>6929</td>\n",
       "      <td>35</td>\n",
       "      <td>ВЫСШЕЕ</td>\n",
       "      <td>0</td>\n",
       "      <td>гражданский брак</td>\n",
       "      <td>1</td>\n",
       "      <td>F</td>\n",
       "      <td>сотрудник</td>\n",
       "      <td>0</td>\n",
       "      <td>95856</td>\n",
       "      <td>свадьба</td>\n",
       "      <td>низкий</td>\n",
       "    </tr>\n",
       "    <tr>\n",
       "      <td>9</td>\n",
       "      <td>0</td>\n",
       "      <td>2188</td>\n",
       "      <td>41</td>\n",
       "      <td>среднее</td>\n",
       "      <td>1</td>\n",
       "      <td>женат / замужем</td>\n",
       "      <td>0</td>\n",
       "      <td>M</td>\n",
       "      <td>сотрудник</td>\n",
       "      <td>0</td>\n",
       "      <td>144425</td>\n",
       "      <td>недвижимость</td>\n",
       "      <td>средний</td>\n",
       "    </tr>\n",
       "  </tbody>\n",
       "</table>\n",
       "</div>"
      ],
      "text/plain": [
       "   children  days_employed  dob_years education  education_id  \\\n",
       "0         1           8437         42    высшее             0   \n",
       "1         1           4024         36   среднее             1   \n",
       "2         0           5623         33   Среднее             1   \n",
       "3         3           4124         32   среднее             1   \n",
       "4         0         340266         53   среднее             1   \n",
       "5         0            926         27    высшее             0   \n",
       "6         0           2879         43    высшее             0   \n",
       "7         0            152         50   СРЕДНЕЕ             1   \n",
       "8         2           6929         35    ВЫСШЕЕ             0   \n",
       "9         0           2188         41   среднее             1   \n",
       "\n",
       "      family_status  family_status_id gender income_type  debt  total_income  \\\n",
       "0   женат / замужем                 0      F   сотрудник     0        253875   \n",
       "1   женат / замужем                 0      F   сотрудник     0        112080   \n",
       "2   женат / замужем                 0      M   сотрудник     0        145885   \n",
       "3   женат / замужем                 0      M   сотрудник     0        267628   \n",
       "4  гражданский брак                 1      F   пенсионер     0        158616   \n",
       "5  гражданский брак                 1      M   компаньон     0        255763   \n",
       "6   женат / замужем                 0      F   компаньон     0        240525   \n",
       "7   женат / замужем                 0      M   сотрудник     0        135823   \n",
       "8  гражданский брак                 1      F   сотрудник     0         95856   \n",
       "9   женат / замужем                 0      M   сотрудник     0        144425   \n",
       "\n",
       "        purpose income_id  \n",
       "0  недвижимость   высокий  \n",
       "1    автомобиль   средний  \n",
       "2  недвижимость   средний  \n",
       "3   образование   высокий  \n",
       "4       свадьба   средний  \n",
       "5  недвижимость   высокий  \n",
       "6  недвижимость   высокий  \n",
       "7   образование   средний  \n",
       "8       свадьба    низкий  \n",
       "9  недвижимость   средний  "
      ]
     },
     "execution_count": 38,
     "metadata": {},
     "output_type": "execute_result"
    }
   ],
   "source": [
    "#применим функцию income_id к значениям в столбце total_income с помощью метода apply()\n",
    "\n",
    "income_id = data['total_income'].apply(income_id)\n",
    "\n",
    "#создадим новый столбец income_id с результатами работы функции income_id \n",
    "\n",
    "data['income_id'] = income_id\n",
    "\n",
    "#выведем первые 10 строк таблицы на экран\n",
    "\n",
    "data.head(10)"
   ]
  },
  {
   "cell_type": "code",
   "execution_count": 39,
   "metadata": {},
   "outputs": [
    {
     "data": {
      "text/html": [
       "<div>\n",
       "<style scoped>\n",
       "    .dataframe tbody tr th:only-of-type {\n",
       "        vertical-align: middle;\n",
       "    }\n",
       "\n",
       "    .dataframe tbody tr th {\n",
       "        vertical-align: top;\n",
       "    }\n",
       "\n",
       "    .dataframe thead th {\n",
       "        text-align: right;\n",
       "    }\n",
       "</style>\n",
       "<table border=\"1\" class=\"dataframe\">\n",
       "  <thead>\n",
       "    <tr style=\"text-align: right;\">\n",
       "      <th></th>\n",
       "      <th></th>\n",
       "      <th>debt</th>\n",
       "    </tr>\n",
       "    <tr>\n",
       "      <th>income_id</th>\n",
       "      <th>debt</th>\n",
       "      <th></th>\n",
       "    </tr>\n",
       "  </thead>\n",
       "  <tbody>\n",
       "    <tr>\n",
       "      <td rowspan=\"2\" valign=\"top\">высокий</td>\n",
       "      <td>0</td>\n",
       "      <td>4475</td>\n",
       "    </tr>\n",
       "    <tr>\n",
       "      <td>1</td>\n",
       "      <td>342</td>\n",
       "    </tr>\n",
       "    <tr>\n",
       "      <td rowspan=\"2\" valign=\"top\">низкий</td>\n",
       "      <td>0</td>\n",
       "      <td>4090</td>\n",
       "    </tr>\n",
       "    <tr>\n",
       "      <td>1</td>\n",
       "      <td>354</td>\n",
       "    </tr>\n",
       "    <tr>\n",
       "      <td rowspan=\"2\" valign=\"top\">очень высокий</td>\n",
       "      <td>0</td>\n",
       "      <td>208</td>\n",
       "    </tr>\n",
       "    <tr>\n",
       "      <td>1</td>\n",
       "      <td>14</td>\n",
       "    </tr>\n",
       "    <tr>\n",
       "      <td rowspan=\"2\" valign=\"top\">средний</td>\n",
       "      <td>0</td>\n",
       "      <td>10843</td>\n",
       "    </tr>\n",
       "    <tr>\n",
       "      <td>1</td>\n",
       "      <td>1022</td>\n",
       "    </tr>\n",
       "  </tbody>\n",
       "</table>\n",
       "</div>"
      ],
      "text/plain": [
       "                     debt\n",
       "income_id     debt       \n",
       "высокий       0      4475\n",
       "              1       342\n",
       "низкий        0      4090\n",
       "              1       354\n",
       "очень высокий 0       208\n",
       "              1        14\n",
       "средний       0     10843\n",
       "              1      1022"
      ]
     },
     "execution_count": 39,
     "metadata": {},
     "output_type": "execute_result"
    }
   ],
   "source": [
    "#сгруппируем данные о задолженности по столбцу income_id и посчитаем количество должников по категориям. \n",
    "#Результат сохраним в новой таблице data_income\n",
    "\n",
    "data_income = data.groupby(['income_id','debt']).agg({'debt':'count'})\n",
    "\n",
    "#выведем таблицу на экран\n",
    "\n",
    "data_income"
   ]
  },
  {
   "cell_type": "code",
   "execution_count": 40,
   "metadata": {},
   "outputs": [
    {
     "data": {
      "text/plain": [
       "income_id      debt\n",
       "высокий        0       92.900145\n",
       "               1        7.099855\n",
       "низкий         0       92.034203\n",
       "               1        7.965797\n",
       "очень высокий  0       93.693694\n",
       "               1        6.306306\n",
       "средний        0       91.386431\n",
       "               1        8.613569\n",
       "Name: debt, dtype: float64"
      ]
     },
     "execution_count": 40,
     "metadata": {},
     "output_type": "execute_result"
    }
   ],
   "source": [
    "#посчитаем процент вероятности возврата кредита в срок в зависимости от уровня дохода\n",
    "\n",
    "data_income = (data_income['debt'] / (data_income.groupby('income_id')['debt'].transform('sum')))*100 \n",
    "\n",
    "#выведем таблицу на экран\n",
    "\n",
    "data_income"
   ]
  },
  {
   "cell_type": "markdown",
   "metadata": {},
   "source": [
    "**Вывод**\n",
    "\n",
    "Исходя из группировки данных по уровню дохода видно, что вероятность невозврата кредита в срок у клиентов со средним уровнем дохода - 8,6%. У остальных категорий этот показатель чуть ниже (7,1 - 8%). Поскольку данные о совокупном доходе требуют уточнения, в данном контексте исследование может выдавать некорректный результат."
   ]
  },
  {
   "cell_type": "code",
   "execution_count": 41,
   "metadata": {},
   "outputs": [
    {
     "data": {
      "text/html": [
       "<div>\n",
       "<style scoped>\n",
       "    .dataframe tbody tr th:only-of-type {\n",
       "        vertical-align: middle;\n",
       "    }\n",
       "\n",
       "    .dataframe tbody tr th {\n",
       "        vertical-align: top;\n",
       "    }\n",
       "\n",
       "    .dataframe thead th {\n",
       "        text-align: right;\n",
       "    }\n",
       "</style>\n",
       "<table border=\"1\" class=\"dataframe\">\n",
       "  <thead>\n",
       "    <tr style=\"text-align: right;\">\n",
       "      <th></th>\n",
       "      <th></th>\n",
       "      <th>debt</th>\n",
       "    </tr>\n",
       "    <tr>\n",
       "      <th>purpose</th>\n",
       "      <th>debt</th>\n",
       "      <th></th>\n",
       "    </tr>\n",
       "  </thead>\n",
       "  <tbody>\n",
       "    <tr>\n",
       "      <td rowspan=\"2\" valign=\"top\">автомобиль</td>\n",
       "      <td>0</td>\n",
       "      <td>3881</td>\n",
       "    </tr>\n",
       "    <tr>\n",
       "      <td>1</td>\n",
       "      <td>400</td>\n",
       "    </tr>\n",
       "    <tr>\n",
       "      <td rowspan=\"2\" valign=\"top\">недвижимость</td>\n",
       "      <td>0</td>\n",
       "      <td>9974</td>\n",
       "    </tr>\n",
       "    <tr>\n",
       "      <td>1</td>\n",
       "      <td>780</td>\n",
       "    </tr>\n",
       "    <tr>\n",
       "      <td rowspan=\"2\" valign=\"top\">образование</td>\n",
       "      <td>0</td>\n",
       "      <td>3620</td>\n",
       "    </tr>\n",
       "    <tr>\n",
       "      <td>1</td>\n",
       "      <td>369</td>\n",
       "    </tr>\n",
       "    <tr>\n",
       "      <td rowspan=\"2\" valign=\"top\">свадьба</td>\n",
       "      <td>0</td>\n",
       "      <td>2141</td>\n",
       "    </tr>\n",
       "    <tr>\n",
       "      <td>1</td>\n",
       "      <td>183</td>\n",
       "    </tr>\n",
       "  </tbody>\n",
       "</table>\n",
       "</div>"
      ],
      "text/plain": [
       "                   debt\n",
       "purpose      debt      \n",
       "автомобиль   0     3881\n",
       "             1      400\n",
       "недвижимость 0     9974\n",
       "             1      780\n",
       "образование  0     3620\n",
       "             1      369\n",
       "свадьба      0     2141\n",
       "             1      183"
      ]
     },
     "execution_count": 41,
     "metadata": {},
     "output_type": "execute_result"
    }
   ],
   "source": [
    "#сгруппируем данные о задолженности по столбцу purpose и посчитаем количество должников по категориям. \n",
    "#Результат сохраним в новой таблице data_purpose\n",
    "\n",
    "data_purpose = data.groupby(['purpose','debt']).agg({'debt':'count'})\n",
    "\n",
    "#выведем таблицу data_purpose на экран\n",
    "\n",
    "data_purpose"
   ]
  },
  {
   "cell_type": "code",
   "execution_count": 42,
   "metadata": {},
   "outputs": [
    {
     "data": {
      "text/plain": [
       "purpose       debt\n",
       "автомобиль    0       90.656389\n",
       "              1        9.343611\n",
       "недвижимость  0       92.746885\n",
       "              1        7.253115\n",
       "образование   0       90.749561\n",
       "              1        9.250439\n",
       "свадьба       0       92.125645\n",
       "              1        7.874355\n",
       "Name: debt, dtype: float64"
      ]
     },
     "execution_count": 42,
     "metadata": {},
     "output_type": "execute_result"
    }
   ],
   "source": [
    "#посчитаем процент вероятности возврата кредита в срок в зависимости от целей кредитования\n",
    "\n",
    "data_purpose = (data_purpose['debt'] / (data_purpose.groupby('purpose')['debt'].transform('sum')))*100 \n",
    "\n",
    "#выведем таблицу на экран\n",
    "\n",
    "data_purpose"
   ]
  },
  {
   "cell_type": "markdown",
   "metadata": {},
   "source": [
    "**Вывод**"
   ]
  },
  {
   "cell_type": "markdown",
   "metadata": {},
   "source": [
    "Из результата группировки наличия задолженности в зависимости от целей кредитования видно, что вероятность возврата кредита в срок при его получении для операций с недвижимостью и проведения свадьбы составляет 92,1 - 92,7%. Вероятность возврата кредита в срок при его получении для покупки автомобиля или получения образования, ниже - 90,7%."
   ]
  },
  {
   "cell_type": "markdown",
   "metadata": {},
   "source": [
    "## Шаг 3. Ответьте на вопросы"
   ]
  },
  {
   "cell_type": "markdown",
   "metadata": {},
   "source": [
    "- Есть ли зависимость между наличием детей и возвратом кредита в срок?"
   ]
  },
  {
   "cell_type": "markdown",
   "metadata": {},
   "source": [
    "Нет, наличие или отсутствие детей не оказывает существенного влияния на вероятность возврата кредита в срок."
   ]
  },
  {
   "cell_type": "markdown",
   "metadata": {},
   "source": [
    "**Вывод**\n",
    "\n",
    "Исходя из группировки данных о задолженности в зависимости от наличия детей видно, что и при наличии 1-4 детей и при их отсутствии, доля тех, кто погашает кредит в срок 90,2 - 92,5%. При наличии пятерых детей вероятность погашения кредита в срок максимальная, однако в выборке отсутствует информация о непогашенных в срок кредитах у клиентов с наличием пяти детей. В целом, можно сказать, что наличие или отсутствие детей не влияет на возможность погашения кредита в срок, поскольку наличие 3 и более детей встречается гораздо реже, чем 1-2 ребенка или их отсутствие."
   ]
  },
  {
   "cell_type": "markdown",
   "metadata": {},
   "source": [
    "- Есть ли зависимость между семейным положением и возвратом кредита в срок?"
   ]
  },
  {
   "cell_type": "markdown",
   "metadata": {},
   "source": [
    "Есть некоторая зависимость."
   ]
  },
  {
   "cell_type": "markdown",
   "metadata": {},
   "source": [
    "**Вывод**\n",
    "\n",
    "Исходя из данных о наличии задолженности в разрезе семейного положения клиентов банка, можно сказать, что вероятность погашения кредита в срок среди тех, кто женат или замужем, вдовцов/вдов и тех, кто в разводе, выше, чем среди тех, кто холост или не замужем и тех, кто живет в гражданском браке."
   ]
  },
  {
   "cell_type": "markdown",
   "metadata": {},
   "source": [
    "- Есть ли зависимость между уровнем дохода и возвратом кредита в срок?"
   ]
  },
  {
   "cell_type": "markdown",
   "metadata": {},
   "source": [
    "Если считать, что данные корректны, то есть."
   ]
  },
  {
   "cell_type": "markdown",
   "metadata": {},
   "source": [
    "**Вывод**"
   ]
  },
  {
   "cell_type": "markdown",
   "metadata": {},
   "source": [
    "Исходя из группировки данных по уровню дохода видно, что вероятность невозврата кредита в срок у клиентов со средним уровнем дохода - 8,6%. У остальных категорий этот показатель чуть ниже (7,1 - 8%). Поскольку данные о совокупном доходе требуют уточнения, в данном контексте исследование может выдавать некорректный результат."
   ]
  },
  {
   "cell_type": "markdown",
   "metadata": {},
   "source": [
    "- Как разные цели кредита влияют на его возврат в срок?"
   ]
  },
  {
   "cell_type": "markdown",
   "metadata": {},
   "source": [
    "Есть отличия "
   ]
  },
  {
   "cell_type": "markdown",
   "metadata": {},
   "source": [
    "**Вывод**"
   ]
  },
  {
   "cell_type": "markdown",
   "metadata": {},
   "source": [
    "Из результата группировки наличия задолженности в зависимости от целей кредитования видно, что вероятность возврата кредита в срок при его получении для операций с недвижимостью и проведения свадьбы составляет 92,1 - 92,7%. Вероятность возврата кредита в срок при его получении для покупки автомобиля или получения образования, ниже - 90,7%."
   ]
  },
  {
   "cell_type": "markdown",
   "metadata": {},
   "source": [
    "## Шаг 4. Общий вывод"
   ]
  },
  {
   "cell_type": "markdown",
   "metadata": {},
   "source": [
    "Исходя из предоставленных банком данных о платежеспособности клиентов и их изучения в разрезе влияния различных факторов на вероятность погашения кредита в срок, при построении модели кредитного скоринга необходимо учитывать следующее:\n",
    "\n",
    "1. В зависимости от семейного положения клиента, вероятность погашения кредита в срок выше среди тех, кто женат или замужем, является вдовцом или вдовой и тех, кто находится в разводе, чем среди тех, кто холост или не замужем или состоит в гражданском браке: 92,4 - 93,4% против 90,2 - 90,7%.\n",
    "\n",
    "\n",
    "2. В разрезе от наличия, количества или отсутствия детей, самая высокая вероятность возврата кредита в срок среди тех, кто не имеет детей - 92,5%. Среди клиентов, у которых есть 1-4 детей вероятность возврата кредита чуть ниже и составляет  - 90,7 - 91,8%. Максимальное значение вероятности возврата кредита среди клиентов, имеющих детей, было зафиксировано среди тех, у кого 5 детей, однако данные скорее всего некорректные, поскольку нет значений о невозврате кредита этой категорией клиентов. На клиентов, у которых 3 и более детей ориентироваться не стоит, поскольку эта категория встречается гораздо реже, чем те клиенты, у которых 1-2 ребенка или дети отсутствуют.\n",
    "\n",
    "\n",
    "3. В зависимости от уровня совокупного дохода, самая низкая вероятность возврата кредита в срок у клиентов со средним уровнем дохода - 8,6%. По всем остальным категориям этот показатель колеблется на уровне 7,1 - 8,0%. Поскольку в данных о совокупном доходе сложно выделить категории из-за большой разбежки между минимальным и максимальным значением, категории были выделены вручную, что может исказить результат исследования. \n",
    "\n",
    "\n",
    "4. Цели кредитования тоже оказывают некоторое влияние на срок возврата кредита. Доля клиентов, вероятность возврата кредита в срок которых максимальная - 92, 1 - 92,7%, берут кредит для покупки недвижимости или проведения свадьбы. Среди тех, кто получает кредит с целью получения образования или покупки автомобиля, верятность возврата кредита в срок чуть ниже и составляет 90,7%.\n"
   ]
  }
 ],
 "metadata": {
  "ExecuteTimeLog": [
   {
    "duration": 852,
    "start_time": "2021-12-13T08:51:34.688Z"
   },
   {
    "duration": 863,
    "start_time": "2021-12-13T08:51:52.231Z"
   },
   {
    "duration": 84,
    "start_time": "2021-12-13T08:52:12.147Z"
   },
   {
    "duration": 63,
    "start_time": "2021-12-13T08:52:13.947Z"
   },
   {
    "duration": 75,
    "start_time": "2021-12-13T08:52:30.474Z"
   },
   {
    "duration": 63,
    "start_time": "2021-12-13T08:53:43.607Z"
   },
   {
    "duration": 60,
    "start_time": "2021-12-13T08:53:53.247Z"
   },
   {
    "duration": 70,
    "start_time": "2021-12-13T08:53:54.867Z"
   },
   {
    "duration": 101,
    "start_time": "2021-12-13T08:54:06.868Z"
   },
   {
    "duration": 21,
    "start_time": "2021-12-13T09:00:15.554Z"
   },
   {
    "duration": 15,
    "start_time": "2021-12-13T09:04:54.341Z"
   },
   {
    "duration": 10,
    "start_time": "2021-12-13T09:06:56.626Z"
   },
   {
    "duration": 107,
    "start_time": "2021-12-13T09:10:08.283Z"
   },
   {
    "duration": 9814,
    "start_time": "2021-12-13T09:10:08.352Z"
   },
   {
    "duration": 44,
    "start_time": "2021-12-13T09:13:23.123Z"
   },
   {
    "duration": 8,
    "start_time": "2021-12-13T09:19:02.700Z"
   },
   {
    "duration": 34,
    "start_time": "2021-12-13T09:19:37.089Z"
   },
   {
    "duration": 37,
    "start_time": "2021-12-13T09:20:09.795Z"
   },
   {
    "duration": 37,
    "start_time": "2021-12-13T09:20:31.442Z"
   },
   {
    "duration": 10,
    "start_time": "2021-12-13T09:29:14.446Z"
   },
   {
    "duration": 8,
    "start_time": "2021-12-13T09:29:32.159Z"
   },
   {
    "duration": 38,
    "start_time": "2021-12-13T09:31:11.878Z"
   },
   {
    "duration": 7,
    "start_time": "2021-12-13T09:31:36.305Z"
   },
   {
    "duration": 7253,
    "start_time": "2021-12-13T09:33:08.703Z"
   },
   {
    "duration": 5847,
    "start_time": "2021-12-13T09:33:26.848Z"
   },
   {
    "duration": 871,
    "start_time": "2021-12-13T09:33:40.419Z"
   },
   {
    "duration": 39,
    "start_time": "2021-12-13T09:33:41.293Z"
   },
   {
    "duration": 16,
    "start_time": "2021-12-13T09:33:41.335Z"
   },
   {
    "duration": 4925,
    "start_time": "2021-12-13T09:33:41.354Z"
   },
   {
    "duration": 10312,
    "start_time": "2021-12-13T09:33:53.425Z"
   },
   {
    "duration": 861,
    "start_time": "2021-12-13T09:34:06.973Z"
   },
   {
    "duration": 35,
    "start_time": "2021-12-13T09:34:07.836Z"
   },
   {
    "duration": 13,
    "start_time": "2021-12-13T09:34:07.874Z"
   },
   {
    "duration": 4775,
    "start_time": "2021-12-13T09:34:07.890Z"
   },
   {
    "duration": 74,
    "start_time": "2021-12-13T10:23:28.931Z"
   },
   {
    "duration": 8,
    "start_time": "2021-12-13T10:26:03.673Z"
   },
   {
    "duration": 916,
    "start_time": "2021-12-13T10:26:21.800Z"
   },
   {
    "duration": 48,
    "start_time": "2021-12-13T10:26:22.719Z"
   },
   {
    "duration": 8,
    "start_time": "2021-12-13T10:26:22.769Z"
   },
   {
    "duration": 67,
    "start_time": "2021-12-13T10:26:22.779Z"
   },
   {
    "duration": 6,
    "start_time": "2021-12-13T10:26:49.295Z"
   },
   {
    "duration": 40,
    "start_time": "2021-12-13T10:26:57.935Z"
   },
   {
    "duration": 35,
    "start_time": "2021-12-13T10:28:13.769Z"
   },
   {
    "duration": 938,
    "start_time": "2021-12-13T10:32:43.115Z"
   },
   {
    "duration": 43,
    "start_time": "2021-12-13T10:32:44.055Z"
   },
   {
    "duration": 35,
    "start_time": "2021-12-13T10:32:44.122Z"
   },
   {
    "duration": 60,
    "start_time": "2021-12-13T10:32:44.160Z"
   },
   {
    "duration": 8,
    "start_time": "2021-12-13T10:34:19.059Z"
   },
   {
    "duration": 13,
    "start_time": "2021-12-13T10:34:38.048Z"
   },
   {
    "duration": 808,
    "start_time": "2021-12-13T10:35:17.357Z"
   },
   {
    "duration": 43,
    "start_time": "2021-12-13T10:35:18.167Z"
   },
   {
    "duration": 40,
    "start_time": "2021-12-13T10:35:18.223Z"
   },
   {
    "duration": 56,
    "start_time": "2021-12-13T10:35:18.266Z"
   },
   {
    "duration": 18,
    "start_time": "2021-12-13T10:36:14.272Z"
   },
   {
    "duration": 823,
    "start_time": "2021-12-13T10:36:37.163Z"
   },
   {
    "duration": 53,
    "start_time": "2021-12-13T10:36:37.989Z"
   },
   {
    "duration": 16,
    "start_time": "2021-12-13T10:36:38.045Z"
   },
   {
    "duration": 64,
    "start_time": "2021-12-13T10:36:38.064Z"
   },
   {
    "duration": 413,
    "start_time": "2021-12-13T10:40:37.698Z"
   },
   {
    "duration": 938,
    "start_time": "2021-12-13T10:40:44.264Z"
   },
   {
    "duration": 8,
    "start_time": "2021-12-13T10:40:45.204Z"
   },
   {
    "duration": 490,
    "start_time": "2021-12-13T10:40:45.215Z"
   },
   {
    "duration": 10380,
    "start_time": "2021-12-13T10:40:35.328Z"
   },
   {
    "duration": 853,
    "start_time": "2021-12-13T10:41:07.210Z"
   },
   {
    "duration": 64,
    "start_time": "2021-12-13T10:41:08.066Z"
   },
   {
    "duration": 18,
    "start_time": "2021-12-13T10:41:08.136Z"
   },
   {
    "duration": 36,
    "start_time": "2021-12-13T10:41:08.156Z"
   },
   {
    "duration": 9,
    "start_time": "2021-12-13T10:45:38.948Z"
   },
   {
    "duration": 10,
    "start_time": "2021-12-13T10:45:50.916Z"
   },
   {
    "duration": 420,
    "start_time": "2021-12-13T10:45:59.572Z"
   },
   {
    "duration": 13,
    "start_time": "2021-12-13T10:46:06.376Z"
   },
   {
    "duration": 5,
    "start_time": "2021-12-13T10:59:35.902Z"
   },
   {
    "duration": 5,
    "start_time": "2021-12-13T10:59:38.130Z"
   },
   {
    "duration": 58,
    "start_time": "2021-12-13T11:00:45.130Z"
   },
   {
    "duration": 26,
    "start_time": "2021-12-13T11:01:06.152Z"
   },
   {
    "duration": 28,
    "start_time": "2021-12-13T11:01:17.500Z"
   },
   {
    "duration": 21,
    "start_time": "2021-12-13T11:05:00.913Z"
   },
   {
    "duration": 23,
    "start_time": "2021-12-13T11:13:02.912Z"
   },
   {
    "duration": 122,
    "start_time": "2021-12-13T11:18:52.267Z"
   },
   {
    "duration": 413,
    "start_time": "2021-12-13T11:19:26.563Z"
   },
   {
    "duration": 374,
    "start_time": "2021-12-13T11:19:53.882Z"
   },
   {
    "duration": 378,
    "start_time": "2021-12-13T11:21:49.920Z"
   },
   {
    "duration": 851,
    "start_time": "2021-12-13T11:21:59.758Z"
   },
   {
    "duration": 46,
    "start_time": "2021-12-13T11:22:00.612Z"
   },
   {
    "duration": 16,
    "start_time": "2021-12-13T11:22:00.660Z"
   },
   {
    "duration": 56,
    "start_time": "2021-12-13T11:22:00.678Z"
   },
   {
    "duration": 418,
    "start_time": "2021-12-13T11:22:00.737Z"
   },
   {
    "duration": 8,
    "start_time": "2021-12-13T12:02:24.680Z"
   },
   {
    "duration": 37,
    "start_time": "2021-12-13T12:02:41.961Z"
   },
   {
    "duration": 11,
    "start_time": "2021-12-13T12:02:59.111Z"
   },
   {
    "duration": 18,
    "start_time": "2021-12-13T12:03:31.096Z"
   },
   {
    "duration": 71,
    "start_time": "2021-12-13T12:03:53.330Z"
   },
   {
    "duration": 52,
    "start_time": "2021-12-13T12:04:11.835Z"
   },
   {
    "duration": 16,
    "start_time": "2021-12-13T12:04:23.364Z"
   },
   {
    "duration": 21,
    "start_time": "2021-12-13T12:06:24.281Z"
   },
   {
    "duration": 14,
    "start_time": "2021-12-13T12:11:58.178Z"
   },
   {
    "duration": 12,
    "start_time": "2021-12-13T12:12:16.188Z"
   },
   {
    "duration": 13,
    "start_time": "2021-12-13T12:12:53.727Z"
   },
   {
    "duration": 33,
    "start_time": "2021-12-13T12:13:00.453Z"
   },
   {
    "duration": 15,
    "start_time": "2021-12-13T12:13:12.116Z"
   },
   {
    "duration": 22,
    "start_time": "2021-12-13T12:14:00.491Z"
   },
   {
    "duration": 37,
    "start_time": "2021-12-13T12:14:05.200Z"
   },
   {
    "duration": 2318,
    "start_time": "2021-12-13T12:14:18.653Z"
   },
   {
    "duration": 833,
    "start_time": "2021-12-13T12:14:49.024Z"
   },
   {
    "duration": 41,
    "start_time": "2021-12-13T12:14:49.860Z"
   },
   {
    "duration": 38,
    "start_time": "2021-12-13T12:14:49.903Z"
   },
   {
    "duration": 37,
    "start_time": "2021-12-13T12:14:49.944Z"
   },
   {
    "duration": 398,
    "start_time": "2021-12-13T12:14:49.983Z"
   },
   {
    "duration": 22,
    "start_time": "2021-12-13T12:15:42.229Z"
   },
   {
    "duration": 22,
    "start_time": "2021-12-13T12:15:55.032Z"
   },
   {
    "duration": 6,
    "start_time": "2021-12-13T12:16:07.347Z"
   },
   {
    "duration": 38,
    "start_time": "2021-12-13T12:16:18.511Z"
   },
   {
    "duration": 286,
    "start_time": "2021-12-13T12:16:26.750Z"
   },
   {
    "duration": 652,
    "start_time": "2021-12-14T11:12:24.338Z"
   },
   {
    "duration": 73,
    "start_time": "2021-12-14T11:12:38.823Z"
   },
   {
    "duration": 64,
    "start_time": "2021-12-14T11:15:15.743Z"
   },
   {
    "duration": 67,
    "start_time": "2021-12-14T11:16:11.598Z"
   },
   {
    "duration": 689,
    "start_time": "2021-12-14T11:26:36.540Z"
   },
   {
    "duration": 23,
    "start_time": "2021-12-14T11:26:37.230Z"
   },
   {
    "duration": 6,
    "start_time": "2021-12-14T11:26:37.255Z"
   },
   {
    "duration": 45,
    "start_time": "2021-12-14T11:26:37.263Z"
   },
   {
    "duration": 362,
    "start_time": "2021-12-14T11:58:20.882Z"
   },
   {
    "duration": 9,
    "start_time": "2021-12-14T11:58:38.875Z"
   },
   {
    "duration": 314,
    "start_time": "2021-12-14T12:06:01.324Z"
   },
   {
    "duration": 727,
    "start_time": "2021-12-14T12:06:08.237Z"
   },
   {
    "duration": 107,
    "start_time": "2021-12-14T12:06:37.537Z"
   },
   {
    "duration": 314,
    "start_time": "2021-12-14T12:06:41.656Z"
   },
   {
    "duration": 15,
    "start_time": "2021-12-14T12:07:02.121Z"
   },
   {
    "duration": 9,
    "start_time": "2021-12-14T12:07:27.344Z"
   },
   {
    "duration": 12,
    "start_time": "2021-12-14T12:07:43.085Z"
   },
   {
    "duration": 7,
    "start_time": "2021-12-14T12:08:11.421Z"
   },
   {
    "duration": 81,
    "start_time": "2021-12-14T12:13:12.201Z"
   },
   {
    "duration": 7,
    "start_time": "2021-12-14T12:13:20.270Z"
   },
   {
    "duration": 688,
    "start_time": "2021-12-14T12:13:43.907Z"
   },
   {
    "duration": 23,
    "start_time": "2021-12-14T12:13:44.596Z"
   },
   {
    "duration": 14,
    "start_time": "2021-12-14T12:13:44.622Z"
   },
   {
    "duration": 21,
    "start_time": "2021-12-14T12:13:44.638Z"
   },
   {
    "duration": 99,
    "start_time": "2021-12-14T12:13:44.661Z"
   },
   {
    "duration": 7,
    "start_time": "2021-12-14T12:13:44.762Z"
   },
   {
    "duration": 5,
    "start_time": "2021-12-14T12:13:52.163Z"
   },
   {
    "duration": 17,
    "start_time": "2021-12-14T12:14:43.029Z"
   },
   {
    "duration": 8,
    "start_time": "2021-12-14T12:15:00.746Z"
   },
   {
    "duration": 2495,
    "start_time": "2021-12-14T12:17:05.927Z"
   },
   {
    "duration": 27,
    "start_time": "2021-12-14T12:17:08.424Z"
   },
   {
    "duration": 15,
    "start_time": "2021-12-14T12:17:08.454Z"
   },
   {
    "duration": 49,
    "start_time": "2021-12-14T12:17:08.471Z"
   },
   {
    "duration": 3,
    "start_time": "2021-12-14T12:17:08.521Z"
   },
   {
    "duration": 9,
    "start_time": "2021-12-14T12:17:08.526Z"
   },
   {
    "duration": 6,
    "start_time": "2021-12-14T12:17:15.965Z"
   },
   {
    "duration": 7,
    "start_time": "2021-12-14T12:20:02.227Z"
   },
   {
    "duration": 19,
    "start_time": "2021-12-14T12:23:28.150Z"
   },
   {
    "duration": 11,
    "start_time": "2021-12-14T12:23:57.902Z"
   },
   {
    "duration": 3,
    "start_time": "2021-12-14T12:25:11.190Z"
   },
   {
    "duration": 23,
    "start_time": "2021-12-14T12:25:13.590Z"
   },
   {
    "duration": 713,
    "start_time": "2021-12-14T12:25:51.588Z"
   },
   {
    "duration": 20,
    "start_time": "2021-12-14T12:25:52.303Z"
   },
   {
    "duration": 11,
    "start_time": "2021-12-14T12:25:52.326Z"
   },
   {
    "duration": 22,
    "start_time": "2021-12-14T12:25:52.339Z"
   },
   {
    "duration": 98,
    "start_time": "2021-12-14T12:25:52.363Z"
   },
   {
    "duration": 9,
    "start_time": "2021-12-14T12:25:52.464Z"
   },
   {
    "duration": 68,
    "start_time": "2021-12-14T12:27:04.987Z"
   },
   {
    "duration": 75,
    "start_time": "2021-12-14T12:27:12.992Z"
   },
   {
    "duration": 10,
    "start_time": "2021-12-14T13:40:10.650Z"
   },
   {
    "duration": 11,
    "start_time": "2021-12-14T13:47:07.160Z"
   },
   {
    "duration": 5,
    "start_time": "2021-12-14T14:20:23.463Z"
   },
   {
    "duration": 3,
    "start_time": "2021-12-14T14:20:32.687Z"
   },
   {
    "duration": 9,
    "start_time": "2021-12-14T14:21:51.371Z"
   },
   {
    "duration": 12,
    "start_time": "2021-12-14T14:22:43.404Z"
   },
   {
    "duration": 111,
    "start_time": "2021-12-14T14:28:30.806Z"
   },
   {
    "duration": 5,
    "start_time": "2021-12-14T14:31:02.193Z"
   },
   {
    "duration": 5,
    "start_time": "2021-12-14T14:31:05.143Z"
   },
   {
    "duration": 8601,
    "start_time": "2021-12-14T14:31:39.870Z"
   },
   {
    "duration": 497,
    "start_time": "2021-12-14T14:31:47.976Z"
   },
   {
    "duration": 11,
    "start_time": "2021-12-14T14:31:49.886Z"
   },
   {
    "duration": 2437,
    "start_time": "2021-12-14T14:32:47.709Z"
   },
   {
    "duration": 4,
    "start_time": "2021-12-14T14:33:14.744Z"
   },
   {
    "duration": 8,
    "start_time": "2021-12-14T14:33:34.774Z"
   },
   {
    "duration": 7,
    "start_time": "2021-12-14T14:33:59.636Z"
   },
   {
    "duration": 9,
    "start_time": "2021-12-14T14:34:41.441Z"
   },
   {
    "duration": 10,
    "start_time": "2021-12-14T14:34:51.978Z"
   },
   {
    "duration": 8,
    "start_time": "2021-12-14T14:35:08.345Z"
   },
   {
    "duration": 826,
    "start_time": "2021-12-14T14:35:27.190Z"
   },
   {
    "duration": 23,
    "start_time": "2021-12-14T14:35:28.018Z"
   },
   {
    "duration": 12,
    "start_time": "2021-12-14T14:35:28.043Z"
   },
   {
    "duration": 21,
    "start_time": "2021-12-14T14:35:28.057Z"
   },
   {
    "duration": 104,
    "start_time": "2021-12-14T14:35:28.079Z"
   },
   {
    "duration": 22,
    "start_time": "2021-12-14T14:35:28.185Z"
   },
   {
    "duration": 11,
    "start_time": "2021-12-14T14:35:28.208Z"
   },
   {
    "duration": 7,
    "start_time": "2021-12-14T14:35:28.221Z"
   },
   {
    "duration": 7,
    "start_time": "2021-12-14T14:37:30.011Z"
   },
   {
    "duration": 8,
    "start_time": "2021-12-14T14:37:33.551Z"
   },
   {
    "duration": 9,
    "start_time": "2021-12-14T14:37:41.343Z"
   },
   {
    "duration": 13,
    "start_time": "2021-12-14T14:38:17.580Z"
   },
   {
    "duration": 7,
    "start_time": "2021-12-14T14:38:30.768Z"
   },
   {
    "duration": 6,
    "start_time": "2021-12-14T14:38:54.340Z"
   },
   {
    "duration": 13,
    "start_time": "2021-12-14T14:39:50.754Z"
   },
   {
    "duration": 10,
    "start_time": "2021-12-14T14:42:02.500Z"
   },
   {
    "duration": 8,
    "start_time": "2021-12-14T14:42:57.238Z"
   },
   {
    "duration": 7,
    "start_time": "2021-12-14T14:43:01.763Z"
   },
   {
    "duration": 120,
    "start_time": "2021-12-14T14:43:46.516Z"
   },
   {
    "duration": 8,
    "start_time": "2021-12-14T14:43:58.247Z"
   },
   {
    "duration": 10,
    "start_time": "2021-12-14T14:44:27.933Z"
   },
   {
    "duration": 11,
    "start_time": "2021-12-14T14:44:29.999Z"
   },
   {
    "duration": 11,
    "start_time": "2021-12-14T14:44:34.816Z"
   },
   {
    "duration": 702,
    "start_time": "2021-12-14T14:45:21.315Z"
   },
   {
    "duration": 23,
    "start_time": "2021-12-14T14:45:22.018Z"
   },
   {
    "duration": 12,
    "start_time": "2021-12-14T14:45:22.043Z"
   },
   {
    "duration": 22,
    "start_time": "2021-12-14T14:45:22.057Z"
   },
   {
    "duration": 103,
    "start_time": "2021-12-14T14:45:22.081Z"
   },
   {
    "duration": 22,
    "start_time": "2021-12-14T14:45:22.185Z"
   },
   {
    "duration": 12,
    "start_time": "2021-12-14T14:45:22.209Z"
   },
   {
    "duration": 510,
    "start_time": "2021-12-14T14:45:30.633Z"
   },
   {
    "duration": 520,
    "start_time": "2021-12-14T14:45:53.672Z"
   },
   {
    "duration": 8,
    "start_time": "2021-12-14T14:46:02.226Z"
   },
   {
    "duration": 430,
    "start_time": "2021-12-14T14:47:18.829Z"
   },
   {
    "duration": 114,
    "start_time": "2021-12-14T14:47:35.729Z"
   },
   {
    "duration": 6,
    "start_time": "2021-12-14T14:47:48.179Z"
   },
   {
    "duration": 13,
    "start_time": "2021-12-14T14:48:37.886Z"
   },
   {
    "duration": 12,
    "start_time": "2021-12-14T14:49:50.926Z"
   },
   {
    "duration": 10,
    "start_time": "2021-12-14T14:51:02.217Z"
   },
   {
    "duration": 10,
    "start_time": "2021-12-14T14:51:55.518Z"
   },
   {
    "duration": 6,
    "start_time": "2021-12-14T14:52:57.956Z"
   },
   {
    "duration": 4,
    "start_time": "2021-12-14T14:53:03.535Z"
   },
   {
    "duration": 5,
    "start_time": "2021-12-14T14:53:05.529Z"
   },
   {
    "duration": 8,
    "start_time": "2021-12-14T14:53:26.962Z"
   },
   {
    "duration": 6,
    "start_time": "2021-12-14T14:53:42.152Z"
   },
   {
    "duration": 6,
    "start_time": "2021-12-14T14:55:45.694Z"
   },
   {
    "duration": 7,
    "start_time": "2021-12-14T14:56:06.419Z"
   },
   {
    "duration": 696,
    "start_time": "2021-12-14T14:56:15.568Z"
   },
   {
    "duration": 22,
    "start_time": "2021-12-14T14:56:16.266Z"
   },
   {
    "duration": 19,
    "start_time": "2021-12-14T14:56:16.290Z"
   },
   {
    "duration": 21,
    "start_time": "2021-12-14T14:56:16.311Z"
   },
   {
    "duration": 8,
    "start_time": "2021-12-14T14:56:16.334Z"
   },
   {
    "duration": 9,
    "start_time": "2021-12-14T14:56:16.344Z"
   },
   {
    "duration": 15,
    "start_time": "2021-12-14T14:56:16.354Z"
   },
   {
    "duration": 40,
    "start_time": "2021-12-14T14:56:16.371Z"
   },
   {
    "duration": 28,
    "start_time": "2021-12-14T14:56:16.413Z"
   },
   {
    "duration": 12,
    "start_time": "2021-12-14T14:56:16.443Z"
   },
   {
    "duration": 16,
    "start_time": "2021-12-14T14:56:16.456Z"
   },
   {
    "duration": 9,
    "start_time": "2021-12-14T14:56:37.002Z"
   },
   {
    "duration": 8,
    "start_time": "2021-12-14T14:56:51.827Z"
   },
   {
    "duration": 11,
    "start_time": "2021-12-14T14:56:55.118Z"
   },
   {
    "duration": 9,
    "start_time": "2021-12-14T14:56:56.994Z"
   },
   {
    "duration": 10,
    "start_time": "2021-12-14T14:56:59.240Z"
   },
   {
    "duration": 10,
    "start_time": "2021-12-14T14:57:07.460Z"
   },
   {
    "duration": 10,
    "start_time": "2021-12-14T14:57:16.955Z"
   },
   {
    "duration": 729,
    "start_time": "2021-12-14T14:57:24.174Z"
   },
   {
    "duration": 21,
    "start_time": "2021-12-14T14:57:24.905Z"
   },
   {
    "duration": 10,
    "start_time": "2021-12-14T14:57:24.928Z"
   },
   {
    "duration": 20,
    "start_time": "2021-12-14T14:57:24.940Z"
   },
   {
    "duration": 9,
    "start_time": "2021-12-14T14:57:24.962Z"
   },
   {
    "duration": 38,
    "start_time": "2021-12-14T14:57:24.973Z"
   },
   {
    "duration": 12,
    "start_time": "2021-12-14T14:57:25.012Z"
   },
   {
    "duration": 8,
    "start_time": "2021-12-14T14:57:25.026Z"
   },
   {
    "duration": 6,
    "start_time": "2021-12-14T14:57:25.035Z"
   },
   {
    "duration": 13,
    "start_time": "2021-12-14T14:57:25.043Z"
   },
   {
    "duration": 17,
    "start_time": "2021-12-14T14:57:25.058Z"
   },
   {
    "duration": 10,
    "start_time": "2021-12-14T14:57:46.463Z"
   },
   {
    "duration": 10,
    "start_time": "2021-12-14T14:57:51.015Z"
   },
   {
    "duration": 75,
    "start_time": "2021-12-14T14:58:00.625Z"
   },
   {
    "duration": 11,
    "start_time": "2021-12-14T14:58:04.276Z"
   },
   {
    "duration": 11,
    "start_time": "2021-12-14T14:58:29.212Z"
   },
   {
    "duration": 6,
    "start_time": "2021-12-14T14:58:58.595Z"
   },
   {
    "duration": 6,
    "start_time": "2021-12-14T14:59:30.699Z"
   },
   {
    "duration": 7,
    "start_time": "2021-12-14T14:59:34.574Z"
   },
   {
    "duration": 80,
    "start_time": "2021-12-14T15:00:30.721Z"
   },
   {
    "duration": 7,
    "start_time": "2021-12-14T15:00:34.819Z"
   },
   {
    "duration": 7,
    "start_time": "2021-12-14T15:01:15.453Z"
   },
   {
    "duration": 72,
    "start_time": "2021-12-14T15:02:15.958Z"
   },
   {
    "duration": 731,
    "start_time": "2021-12-14T15:15:57.106Z"
   },
   {
    "duration": 20,
    "start_time": "2021-12-14T15:15:57.839Z"
   },
   {
    "duration": 10,
    "start_time": "2021-12-14T15:15:57.861Z"
   },
   {
    "duration": 39,
    "start_time": "2021-12-14T15:15:57.873Z"
   },
   {
    "duration": 74,
    "start_time": "2021-12-14T15:15:57.914Z"
   },
   {
    "duration": 23,
    "start_time": "2021-12-14T15:15:57.989Z"
   },
   {
    "duration": 7,
    "start_time": "2021-12-14T15:15:58.013Z"
   },
   {
    "duration": 6,
    "start_time": "2021-12-14T15:15:58.022Z"
   },
   {
    "duration": 15,
    "start_time": "2021-12-14T15:15:58.030Z"
   },
   {
    "duration": 12,
    "start_time": "2021-12-14T15:15:58.047Z"
   },
   {
    "duration": 404,
    "start_time": "2021-12-14T15:33:45.849Z"
   },
   {
    "duration": 1511,
    "start_time": "2021-12-14T15:36:00.785Z"
   },
   {
    "duration": 347,
    "start_time": "2021-12-14T15:47:12.552Z"
   },
   {
    "duration": 343,
    "start_time": "2021-12-14T15:47:27.147Z"
   },
   {
    "duration": 357,
    "start_time": "2021-12-14T15:47:35.288Z"
   },
   {
    "duration": 336,
    "start_time": "2021-12-14T15:48:03.509Z"
   },
   {
    "duration": 356,
    "start_time": "2021-12-14T15:49:30.777Z"
   },
   {
    "duration": 665,
    "start_time": "2021-12-14T15:49:37.423Z"
   },
   {
    "duration": 20,
    "start_time": "2021-12-14T15:49:38.091Z"
   },
   {
    "duration": 10,
    "start_time": "2021-12-14T15:49:38.113Z"
   },
   {
    "duration": 21,
    "start_time": "2021-12-14T15:49:38.125Z"
   },
   {
    "duration": 92,
    "start_time": "2021-12-14T15:49:38.147Z"
   },
   {
    "duration": 11,
    "start_time": "2021-12-14T15:49:38.240Z"
   },
   {
    "duration": 7,
    "start_time": "2021-12-14T15:49:38.252Z"
   },
   {
    "duration": 5,
    "start_time": "2021-12-14T15:49:38.262Z"
   },
   {
    "duration": 39,
    "start_time": "2021-12-14T15:49:38.269Z"
   },
   {
    "duration": 13,
    "start_time": "2021-12-14T15:49:38.309Z"
   },
   {
    "duration": 407,
    "start_time": "2021-12-14T15:49:38.324Z"
   },
   {
    "duration": 343,
    "start_time": "2021-12-14T15:49:49.979Z"
   },
   {
    "duration": 353,
    "start_time": "2021-12-14T15:50:05.004Z"
   },
   {
    "duration": 1366,
    "start_time": "2021-12-14T15:54:42.123Z"
   },
   {
    "duration": 1334,
    "start_time": "2021-12-14T15:54:56.420Z"
   },
   {
    "duration": 692,
    "start_time": "2021-12-14T15:58:49.909Z"
   },
   {
    "duration": 22,
    "start_time": "2021-12-14T15:58:50.603Z"
   },
   {
    "duration": 13,
    "start_time": "2021-12-14T15:58:50.627Z"
   },
   {
    "duration": 20,
    "start_time": "2021-12-14T15:58:50.642Z"
   },
   {
    "duration": 101,
    "start_time": "2021-12-14T15:58:50.664Z"
   },
   {
    "duration": 11,
    "start_time": "2021-12-14T15:58:50.767Z"
   },
   {
    "duration": 7,
    "start_time": "2021-12-14T15:58:50.779Z"
   },
   {
    "duration": 22,
    "start_time": "2021-12-14T15:58:50.788Z"
   },
   {
    "duration": 12,
    "start_time": "2021-12-14T15:58:50.811Z"
   },
   {
    "duration": 13,
    "start_time": "2021-12-14T15:58:50.824Z"
   },
   {
    "duration": 1366,
    "start_time": "2021-12-14T15:58:50.839Z"
   },
   {
    "duration": 516,
    "start_time": "2021-12-14T15:58:51.691Z"
   },
   {
    "duration": 356,
    "start_time": "2021-12-14T15:59:56.886Z"
   },
   {
    "duration": 1411,
    "start_time": "2021-12-14T16:00:08.131Z"
   },
   {
    "duration": 695,
    "start_time": "2021-12-14T16:00:16.711Z"
   },
   {
    "duration": 21,
    "start_time": "2021-12-14T16:00:17.408Z"
   },
   {
    "duration": 12,
    "start_time": "2021-12-14T16:00:17.431Z"
   },
   {
    "duration": 22,
    "start_time": "2021-12-14T16:00:17.444Z"
   },
   {
    "duration": 103,
    "start_time": "2021-12-14T16:00:17.467Z"
   },
   {
    "duration": 10,
    "start_time": "2021-12-14T16:00:17.571Z"
   },
   {
    "duration": 7,
    "start_time": "2021-12-14T16:00:17.583Z"
   },
   {
    "duration": 18,
    "start_time": "2021-12-14T16:00:17.592Z"
   },
   {
    "duration": 13,
    "start_time": "2021-12-14T16:00:17.611Z"
   },
   {
    "duration": 11,
    "start_time": "2021-12-14T16:00:17.625Z"
   },
   {
    "duration": 1378,
    "start_time": "2021-12-14T16:00:17.638Z"
   },
   {
    "duration": 572,
    "start_time": "2021-12-14T16:00:18.446Z"
   },
   {
    "duration": 1364,
    "start_time": "2021-12-14T16:00:52.447Z"
   },
   {
    "duration": 347,
    "start_time": "2021-12-14T16:01:08.515Z"
   },
   {
    "duration": 11,
    "start_time": "2021-12-14T16:01:42.735Z"
   },
   {
    "duration": 375,
    "start_time": "2021-12-14T16:03:28.761Z"
   },
   {
    "duration": 367,
    "start_time": "2021-12-14T16:03:42.453Z"
   },
   {
    "duration": 17,
    "start_time": "2021-12-14T16:04:43.730Z"
   },
   {
    "duration": 13,
    "start_time": "2021-12-14T16:08:04.467Z"
   },
   {
    "duration": 355,
    "start_time": "2021-12-14T16:08:54.438Z"
   },
   {
    "duration": 348,
    "start_time": "2021-12-14T16:09:08.632Z"
   },
   {
    "duration": 3,
    "start_time": "2021-12-14T16:09:23.492Z"
   },
   {
    "duration": 4,
    "start_time": "2021-12-14T16:09:27.073Z"
   },
   {
    "duration": 712,
    "start_time": "2021-12-14T16:09:35.973Z"
   },
   {
    "duration": 21,
    "start_time": "2021-12-14T16:09:36.687Z"
   },
   {
    "duration": 11,
    "start_time": "2021-12-14T16:09:36.710Z"
   },
   {
    "duration": 20,
    "start_time": "2021-12-14T16:09:36.723Z"
   },
   {
    "duration": 91,
    "start_time": "2021-12-14T16:09:36.745Z"
   },
   {
    "duration": 11,
    "start_time": "2021-12-14T16:09:36.837Z"
   },
   {
    "duration": 7,
    "start_time": "2021-12-14T16:09:36.850Z"
   },
   {
    "duration": 7,
    "start_time": "2021-12-14T16:09:36.860Z"
   },
   {
    "duration": 38,
    "start_time": "2021-12-14T16:09:36.869Z"
   },
   {
    "duration": 12,
    "start_time": "2021-12-14T16:09:36.909Z"
   },
   {
    "duration": 15,
    "start_time": "2021-12-14T16:09:36.922Z"
   },
   {
    "duration": 3,
    "start_time": "2021-12-14T16:09:36.939Z"
   },
   {
    "duration": 416,
    "start_time": "2021-12-14T16:09:36.944Z"
   },
   {
    "duration": 81,
    "start_time": "2021-12-14T16:11:04.260Z"
   },
   {
    "duration": 82,
    "start_time": "2021-12-14T16:11:12.694Z"
   },
   {
    "duration": 75,
    "start_time": "2021-12-14T16:11:42.215Z"
   },
   {
    "duration": 75,
    "start_time": "2021-12-14T16:12:02.768Z"
   },
   {
    "duration": 79,
    "start_time": "2021-12-14T16:12:16.184Z"
   },
   {
    "duration": 15,
    "start_time": "2021-12-14T16:14:02.545Z"
   },
   {
    "duration": 16,
    "start_time": "2021-12-14T16:14:16.633Z"
   },
   {
    "duration": 16,
    "start_time": "2021-12-14T16:14:19.303Z"
   },
   {
    "duration": 17,
    "start_time": "2021-12-14T16:14:27.872Z"
   },
   {
    "duration": 740,
    "start_time": "2021-12-14T16:14:32.756Z"
   },
   {
    "duration": 23,
    "start_time": "2021-12-14T16:14:33.498Z"
   },
   {
    "duration": 10,
    "start_time": "2021-12-14T16:14:33.523Z"
   },
   {
    "duration": 20,
    "start_time": "2021-12-14T16:14:33.535Z"
   },
   {
    "duration": 15,
    "start_time": "2021-12-14T16:14:33.557Z"
   },
   {
    "duration": 34,
    "start_time": "2021-12-14T16:14:33.574Z"
   },
   {
    "duration": 8,
    "start_time": "2021-12-14T16:14:33.610Z"
   },
   {
    "duration": 6,
    "start_time": "2021-12-14T16:14:33.621Z"
   },
   {
    "duration": 15,
    "start_time": "2021-12-14T16:14:33.629Z"
   },
   {
    "duration": 15,
    "start_time": "2021-12-14T16:14:33.646Z"
   },
   {
    "duration": 50,
    "start_time": "2021-12-14T16:14:33.663Z"
   },
   {
    "duration": 4,
    "start_time": "2021-12-14T16:14:33.715Z"
   },
   {
    "duration": 464,
    "start_time": "2021-12-14T16:14:33.721Z"
   },
   {
    "duration": 17,
    "start_time": "2021-12-14T16:15:00.889Z"
   },
   {
    "duration": 16,
    "start_time": "2021-12-14T16:15:03.662Z"
   },
   {
    "duration": 17,
    "start_time": "2021-12-14T16:15:08.790Z"
   },
   {
    "duration": 16,
    "start_time": "2021-12-14T16:15:45.165Z"
   },
   {
    "duration": 11,
    "start_time": "2021-12-14T16:16:32.045Z"
   },
   {
    "duration": 12,
    "start_time": "2021-12-14T16:16:39.067Z"
   },
   {
    "duration": 12,
    "start_time": "2021-12-14T16:16:44.158Z"
   },
   {
    "duration": 4,
    "start_time": "2021-12-14T16:17:11.850Z"
   },
   {
    "duration": 4,
    "start_time": "2021-12-14T16:17:20.583Z"
   },
   {
    "duration": 653,
    "start_time": "2021-12-14T16:17:26.867Z"
   },
   {
    "duration": 21,
    "start_time": "2021-12-14T16:17:27.522Z"
   },
   {
    "duration": 11,
    "start_time": "2021-12-14T16:17:27.544Z"
   },
   {
    "duration": 21,
    "start_time": "2021-12-14T16:17:27.557Z"
   },
   {
    "duration": 33,
    "start_time": "2021-12-14T16:17:27.579Z"
   },
   {
    "duration": 10,
    "start_time": "2021-12-14T16:17:27.614Z"
   },
   {
    "duration": 7,
    "start_time": "2021-12-14T16:17:27.625Z"
   },
   {
    "duration": 8,
    "start_time": "2021-12-14T16:17:27.634Z"
   },
   {
    "duration": 17,
    "start_time": "2021-12-14T16:17:27.644Z"
   },
   {
    "duration": 44,
    "start_time": "2021-12-14T16:17:27.663Z"
   },
   {
    "duration": 14,
    "start_time": "2021-12-14T16:17:27.708Z"
   },
   {
    "duration": 3,
    "start_time": "2021-12-14T16:17:27.724Z"
   },
   {
    "duration": 21,
    "start_time": "2021-12-14T16:17:49.018Z"
   },
   {
    "duration": 403,
    "start_time": "2021-12-14T16:18:06.974Z"
   },
   {
    "duration": 23,
    "start_time": "2021-12-14T16:18:19.275Z"
   },
   {
    "duration": 432,
    "start_time": "2021-12-14T16:19:08.926Z"
   },
   {
    "duration": 345,
    "start_time": "2021-12-14T16:19:12.692Z"
   },
   {
    "duration": 349,
    "start_time": "2021-12-14T16:19:46.389Z"
   },
   {
    "duration": 362,
    "start_time": "2021-12-14T16:19:59.217Z"
   },
   {
    "duration": 861,
    "start_time": "2021-12-15T10:47:27.407Z"
   },
   {
    "duration": 38,
    "start_time": "2021-12-15T10:47:28.271Z"
   },
   {
    "duration": 16,
    "start_time": "2021-12-15T10:47:28.312Z"
   },
   {
    "duration": 70,
    "start_time": "2021-12-15T10:47:28.331Z"
   },
   {
    "duration": 16,
    "start_time": "2021-12-15T10:47:28.404Z"
   },
   {
    "duration": 19,
    "start_time": "2021-12-15T10:47:28.422Z"
   },
   {
    "duration": 34,
    "start_time": "2021-12-15T10:47:28.443Z"
   },
   {
    "duration": 17,
    "start_time": "2021-12-15T10:47:28.483Z"
   },
   {
    "duration": 30,
    "start_time": "2021-12-15T10:47:28.504Z"
   },
   {
    "duration": 50,
    "start_time": "2021-12-15T10:47:28.537Z"
   },
   {
    "duration": 32,
    "start_time": "2021-12-15T10:47:28.590Z"
   },
   {
    "duration": 441,
    "start_time": "2021-12-15T10:47:28.625Z"
   },
   {
    "duration": 6800,
    "start_time": "2021-12-15T10:47:22.270Z"
   },
   {
    "duration": 152,
    "start_time": "2021-12-15T10:48:04.568Z"
   },
   {
    "duration": 282,
    "start_time": "2021-12-15T10:48:31.578Z"
   },
   {
    "duration": 33,
    "start_time": "2021-12-15T10:48:38.299Z"
   },
   {
    "duration": 844,
    "start_time": "2021-12-15T10:49:01.702Z"
   },
   {
    "duration": 48,
    "start_time": "2021-12-15T10:49:02.548Z"
   },
   {
    "duration": 16,
    "start_time": "2021-12-15T10:49:02.599Z"
   },
   {
    "duration": 61,
    "start_time": "2021-12-15T10:49:02.618Z"
   },
   {
    "duration": 131,
    "start_time": "2021-12-15T10:49:02.681Z"
   },
   {
    "duration": 15,
    "start_time": "2021-12-15T10:49:02.815Z"
   },
   {
    "duration": 10,
    "start_time": "2021-12-15T10:49:02.832Z"
   },
   {
    "duration": 11,
    "start_time": "2021-12-15T10:49:02.867Z"
   },
   {
    "duration": 21,
    "start_time": "2021-12-15T10:49:02.883Z"
   },
   {
    "duration": 25,
    "start_time": "2021-12-15T10:49:02.907Z"
   },
   {
    "duration": 52,
    "start_time": "2021-12-15T10:49:02.935Z"
   },
   {
    "duration": 385,
    "start_time": "2021-12-15T10:49:02.989Z"
   },
   {
    "duration": 6726,
    "start_time": "2021-12-15T10:48:56.651Z"
   },
   {
    "duration": 8,
    "start_time": "2021-12-15T10:49:28.158Z"
   },
   {
    "duration": 783,
    "start_time": "2021-12-15T10:49:42.589Z"
   },
   {
    "duration": 9,
    "start_time": "2021-12-15T10:50:21.917Z"
   },
   {
    "duration": 32,
    "start_time": "2021-12-15T10:52:40.999Z"
   },
   {
    "duration": 33,
    "start_time": "2021-12-15T10:52:45.830Z"
   },
   {
    "duration": 131,
    "start_time": "2021-12-15T10:53:42.729Z"
   },
   {
    "duration": 105,
    "start_time": "2021-12-15T10:54:02.688Z"
   },
   {
    "duration": 130,
    "start_time": "2021-12-15T10:54:07.868Z"
   },
   {
    "duration": 130,
    "start_time": "2021-12-15T10:54:34.589Z"
   },
   {
    "duration": 23,
    "start_time": "2021-12-15T10:55:33.040Z"
   },
   {
    "duration": 303,
    "start_time": "2021-12-15T10:55:40.893Z"
   },
   {
    "duration": 123,
    "start_time": "2021-12-15T10:56:09.297Z"
   },
   {
    "duration": 865,
    "start_time": "2021-12-15T10:56:16.158Z"
   },
   {
    "duration": 48,
    "start_time": "2021-12-15T10:56:17.025Z"
   },
   {
    "duration": 9,
    "start_time": "2021-12-15T10:56:17.077Z"
   },
   {
    "duration": 34,
    "start_time": "2021-12-15T10:56:17.089Z"
   },
   {
    "duration": 154,
    "start_time": "2021-12-15T10:56:17.126Z"
   },
   {
    "duration": 14,
    "start_time": "2021-12-15T10:56:17.283Z"
   },
   {
    "duration": 10,
    "start_time": "2021-12-15T10:56:17.299Z"
   },
   {
    "duration": 10,
    "start_time": "2021-12-15T10:56:17.312Z"
   },
   {
    "duration": 59,
    "start_time": "2021-12-15T10:56:17.324Z"
   },
   {
    "duration": 20,
    "start_time": "2021-12-15T10:56:17.385Z"
   },
   {
    "duration": 18,
    "start_time": "2021-12-15T10:56:17.407Z"
   },
   {
    "duration": 66,
    "start_time": "2021-12-15T10:56:17.427Z"
   },
   {
    "duration": 33,
    "start_time": "2021-12-15T10:56:17.495Z"
   },
   {
    "duration": 101,
    "start_time": "2021-12-15T10:57:29.586Z"
   },
   {
    "duration": 937,
    "start_time": "2021-12-15T10:57:37.672Z"
   },
   {
    "duration": 36,
    "start_time": "2021-12-15T10:57:38.612Z"
   },
   {
    "duration": 13,
    "start_time": "2021-12-15T10:57:38.672Z"
   },
   {
    "duration": 37,
    "start_time": "2021-12-15T10:57:38.688Z"
   },
   {
    "duration": 1093,
    "start_time": "2021-12-15T10:58:30.409Z"
   },
   {
    "duration": 33,
    "start_time": "2021-12-15T10:58:31.505Z"
   },
   {
    "duration": 30,
    "start_time": "2021-12-15T10:58:31.541Z"
   },
   {
    "duration": 39,
    "start_time": "2021-12-15T10:58:31.576Z"
   },
   {
    "duration": 169,
    "start_time": "2021-12-15T10:58:31.618Z"
   },
   {
    "duration": 17,
    "start_time": "2021-12-15T10:58:31.794Z"
   },
   {
    "duration": 11,
    "start_time": "2021-12-15T10:58:31.813Z"
   },
   {
    "duration": 45,
    "start_time": "2021-12-15T10:58:31.827Z"
   },
   {
    "duration": 23,
    "start_time": "2021-12-15T10:58:31.875Z"
   },
   {
    "duration": 20,
    "start_time": "2021-12-15T10:58:31.900Z"
   },
   {
    "duration": 56,
    "start_time": "2021-12-15T10:58:31.922Z"
   },
   {
    "duration": 54,
    "start_time": "2021-12-15T10:58:31.980Z"
   },
   {
    "duration": 62,
    "start_time": "2021-12-15T10:58:32.037Z"
   },
   {
    "duration": 35,
    "start_time": "2021-12-15T11:02:41.169Z"
   },
   {
    "duration": 49,
    "start_time": "2021-12-15T11:04:35.949Z"
   },
   {
    "duration": 918,
    "start_time": "2021-12-15T11:05:50.671Z"
   },
   {
    "duration": 38,
    "start_time": "2021-12-15T11:05:51.592Z"
   },
   {
    "duration": 8,
    "start_time": "2021-12-15T11:05:51.634Z"
   },
   {
    "duration": 61,
    "start_time": "2021-12-15T11:05:51.644Z"
   },
   {
    "duration": 75,
    "start_time": "2021-12-15T11:05:51.707Z"
   },
   {
    "duration": 16,
    "start_time": "2021-12-15T11:05:51.784Z"
   },
   {
    "duration": 15,
    "start_time": "2021-12-15T11:05:51.803Z"
   },
   {
    "duration": 11,
    "start_time": "2021-12-15T11:05:51.821Z"
   },
   {
    "duration": 53,
    "start_time": "2021-12-15T11:05:51.835Z"
   },
   {
    "duration": 21,
    "start_time": "2021-12-15T11:05:51.891Z"
   },
   {
    "duration": 18,
    "start_time": "2021-12-15T11:05:51.914Z"
   },
   {
    "duration": 64,
    "start_time": "2021-12-15T11:05:51.934Z"
   },
   {
    "duration": 34,
    "start_time": "2021-12-15T11:05:52.000Z"
   },
   {
    "duration": 27,
    "start_time": "2021-12-15T11:07:04.941Z"
   },
   {
    "duration": 20,
    "start_time": "2021-12-15T11:08:43.612Z"
   },
   {
    "duration": 21,
    "start_time": "2021-12-15T11:09:01.295Z"
   },
   {
    "duration": 402,
    "start_time": "2021-12-15T11:14:42.060Z"
   },
   {
    "duration": 25,
    "start_time": "2021-12-15T11:14:53.739Z"
   },
   {
    "duration": 8,
    "start_time": "2021-12-15T11:18:14.239Z"
   },
   {
    "duration": 10,
    "start_time": "2021-12-15T11:22:27.777Z"
   },
   {
    "duration": 8,
    "start_time": "2021-12-15T11:23:21.779Z"
   },
   {
    "duration": 81,
    "start_time": "2021-12-15T11:24:16.899Z"
   },
   {
    "duration": 8,
    "start_time": "2021-12-15T11:24:22.283Z"
   },
   {
    "duration": 9,
    "start_time": "2021-12-15T11:24:33.541Z"
   },
   {
    "duration": 41,
    "start_time": "2021-12-15T11:26:26.752Z"
   },
   {
    "duration": 44,
    "start_time": "2021-12-15T11:26:30.464Z"
   },
   {
    "duration": 44,
    "start_time": "2021-12-15T11:26:34.452Z"
   },
   {
    "duration": 32,
    "start_time": "2021-12-15T11:26:45.810Z"
   },
   {
    "duration": 49,
    "start_time": "2021-12-15T11:27:27.615Z"
   },
   {
    "duration": 33,
    "start_time": "2021-12-15T11:27:31.179Z"
   },
   {
    "duration": 865,
    "start_time": "2021-12-15T11:27:37.892Z"
   },
   {
    "duration": 44,
    "start_time": "2021-12-15T11:27:38.760Z"
   },
   {
    "duration": 10,
    "start_time": "2021-12-15T11:27:38.808Z"
   },
   {
    "duration": 65,
    "start_time": "2021-12-15T11:27:38.822Z"
   },
   {
    "duration": 29,
    "start_time": "2021-12-15T11:27:38.890Z"
   },
   {
    "duration": 54,
    "start_time": "2021-12-15T11:27:38.922Z"
   },
   {
    "duration": 13,
    "start_time": "2021-12-15T11:27:38.978Z"
   },
   {
    "duration": 22,
    "start_time": "2021-12-15T11:27:38.995Z"
   },
   {
    "duration": 46,
    "start_time": "2021-12-15T11:27:39.019Z"
   },
   {
    "duration": 31,
    "start_time": "2021-12-15T11:27:39.068Z"
   },
   {
    "duration": 38,
    "start_time": "2021-12-15T11:27:39.102Z"
   },
   {
    "duration": 39,
    "start_time": "2021-12-15T11:27:39.143Z"
   },
   {
    "duration": 21,
    "start_time": "2021-12-15T11:27:39.184Z"
   },
   {
    "duration": 43,
    "start_time": "2021-12-15T11:27:39.207Z"
   },
   {
    "duration": 20,
    "start_time": "2021-12-15T11:27:39.253Z"
   },
   {
    "duration": 18,
    "start_time": "2021-12-15T11:27:39.276Z"
   },
   {
    "duration": 16,
    "start_time": "2021-12-15T11:27:39.296Z"
   },
   {
    "duration": 18,
    "start_time": "2021-12-15T11:27:39.314Z"
   },
   {
    "duration": 91,
    "start_time": "2021-12-15T11:27:39.335Z"
   },
   {
    "duration": 24,
    "start_time": "2021-12-15T11:27:39.429Z"
   },
   {
    "duration": 69,
    "start_time": "2021-12-15T11:28:32.317Z"
   },
   {
    "duration": 25,
    "start_time": "2021-12-15T11:28:34.704Z"
   },
   {
    "duration": 1175,
    "start_time": "2021-12-15T11:28:49.399Z"
   },
   {
    "duration": 37,
    "start_time": "2021-12-15T11:28:50.579Z"
   },
   {
    "duration": 50,
    "start_time": "2021-12-15T11:28:50.624Z"
   },
   {
    "duration": 40,
    "start_time": "2021-12-15T11:28:50.677Z"
   },
   {
    "duration": 48,
    "start_time": "2021-12-15T11:28:50.721Z"
   },
   {
    "duration": 24,
    "start_time": "2021-12-15T11:28:50.772Z"
   },
   {
    "duration": 14,
    "start_time": "2021-12-15T11:28:50.799Z"
   },
   {
    "duration": 15,
    "start_time": "2021-12-15T11:28:50.816Z"
   },
   {
    "duration": 36,
    "start_time": "2021-12-15T11:28:50.867Z"
   },
   {
    "duration": 31,
    "start_time": "2021-12-15T11:28:50.906Z"
   },
   {
    "duration": 48,
    "start_time": "2021-12-15T11:28:50.940Z"
   },
   {
    "duration": 24,
    "start_time": "2021-12-15T11:28:50.992Z"
   },
   {
    "duration": 60,
    "start_time": "2021-12-15T11:28:51.019Z"
   },
   {
    "duration": 37,
    "start_time": "2021-12-15T11:28:51.083Z"
   },
   {
    "duration": 9,
    "start_time": "2021-12-15T11:28:51.123Z"
   },
   {
    "duration": 42,
    "start_time": "2021-12-15T11:28:51.135Z"
   },
   {
    "duration": 13,
    "start_time": "2021-12-15T11:28:51.181Z"
   },
   {
    "duration": 11,
    "start_time": "2021-12-15T11:28:51.198Z"
   },
   {
    "duration": 117,
    "start_time": "2021-12-15T11:28:51.212Z"
   },
   {
    "duration": 44,
    "start_time": "2021-12-15T11:28:51.332Z"
   },
   {
    "duration": 9,
    "start_time": "2021-12-15T11:29:37.632Z"
   },
   {
    "duration": 8,
    "start_time": "2021-12-15T11:29:51.517Z"
   },
   {
    "duration": 9,
    "start_time": "2021-12-15T11:29:57.626Z"
   },
   {
    "duration": 472,
    "start_time": "2021-12-15T11:34:28.735Z"
   },
   {
    "duration": 331,
    "start_time": "2021-12-15T11:34:42.091Z"
   },
   {
    "duration": 295,
    "start_time": "2021-12-15T11:35:46.990Z"
   },
   {
    "duration": 7,
    "start_time": "2021-12-15T11:36:04.576Z"
   },
   {
    "duration": 267,
    "start_time": "2021-12-15T11:36:06.994Z"
   },
   {
    "duration": 6555,
    "start_time": "2021-12-15T11:37:40.752Z"
   },
   {
    "duration": 266,
    "start_time": "2021-12-15T11:37:57.327Z"
   },
   {
    "duration": 45,
    "start_time": "2021-12-15T11:38:10.959Z"
   },
   {
    "duration": 860,
    "start_time": "2021-12-15T11:38:52.200Z"
   },
   {
    "duration": 39,
    "start_time": "2021-12-15T11:38:53.063Z"
   },
   {
    "duration": 9,
    "start_time": "2021-12-15T11:38:53.105Z"
   },
   {
    "duration": 75,
    "start_time": "2021-12-15T11:38:53.117Z"
   },
   {
    "duration": 25,
    "start_time": "2021-12-15T11:38:53.195Z"
   },
   {
    "duration": 15,
    "start_time": "2021-12-15T11:38:53.222Z"
   },
   {
    "duration": 37,
    "start_time": "2021-12-15T11:38:53.240Z"
   },
   {
    "duration": 16,
    "start_time": "2021-12-15T11:38:53.283Z"
   },
   {
    "duration": 38,
    "start_time": "2021-12-15T11:38:53.302Z"
   },
   {
    "duration": 36,
    "start_time": "2021-12-15T11:38:53.342Z"
   },
   {
    "duration": 39,
    "start_time": "2021-12-15T11:38:53.381Z"
   },
   {
    "duration": 23,
    "start_time": "2021-12-15T11:38:53.422Z"
   },
   {
    "duration": 36,
    "start_time": "2021-12-15T11:38:53.447Z"
   },
   {
    "duration": 38,
    "start_time": "2021-12-15T11:38:53.485Z"
   },
   {
    "duration": 8,
    "start_time": "2021-12-15T11:38:53.526Z"
   },
   {
    "duration": 27,
    "start_time": "2021-12-15T11:38:53.536Z"
   },
   {
    "duration": 46,
    "start_time": "2021-12-15T11:38:53.565Z"
   },
   {
    "duration": 402,
    "start_time": "2021-12-15T11:38:53.613Z"
   },
   {
    "duration": 9,
    "start_time": "2021-12-15T11:39:08.505Z"
   },
   {
    "duration": 16,
    "start_time": "2021-12-15T11:42:17.658Z"
   },
   {
    "duration": 346,
    "start_time": "2021-12-15T11:43:00.276Z"
   },
   {
    "duration": 15,
    "start_time": "2021-12-15T11:43:08.234Z"
   },
   {
    "duration": 9,
    "start_time": "2021-12-15T11:44:11.059Z"
   },
   {
    "duration": 10,
    "start_time": "2021-12-15T11:44:19.012Z"
   },
   {
    "duration": 13,
    "start_time": "2021-12-15T11:45:33.473Z"
   },
   {
    "duration": 7,
    "start_time": "2021-12-15T11:46:05.529Z"
   },
   {
    "duration": 12,
    "start_time": "2021-12-15T11:55:42.791Z"
   },
   {
    "duration": 12,
    "start_time": "2021-12-15T11:57:51.576Z"
   },
   {
    "duration": 279,
    "start_time": "2021-12-15T11:58:20.369Z"
   },
   {
    "duration": 13,
    "start_time": "2021-12-15T11:58:37.117Z"
   },
   {
    "duration": 13,
    "start_time": "2021-12-15T11:58:50.817Z"
   },
   {
    "duration": 844,
    "start_time": "2021-12-15T11:59:23.315Z"
   },
   {
    "duration": 39,
    "start_time": "2021-12-15T11:59:24.162Z"
   },
   {
    "duration": 8,
    "start_time": "2021-12-15T11:59:24.204Z"
   },
   {
    "duration": 66,
    "start_time": "2021-12-15T11:59:24.214Z"
   },
   {
    "duration": 26,
    "start_time": "2021-12-15T11:59:24.283Z"
   },
   {
    "duration": 15,
    "start_time": "2021-12-15T11:59:24.312Z"
   },
   {
    "duration": 46,
    "start_time": "2021-12-15T11:59:24.330Z"
   },
   {
    "duration": 9,
    "start_time": "2021-12-15T11:59:24.380Z"
   },
   {
    "duration": 42,
    "start_time": "2021-12-15T11:59:24.392Z"
   },
   {
    "duration": 32,
    "start_time": "2021-12-15T11:59:24.437Z"
   },
   {
    "duration": 20,
    "start_time": "2021-12-15T11:59:24.475Z"
   },
   {
    "duration": 21,
    "start_time": "2021-12-15T11:59:24.498Z"
   },
   {
    "duration": 60,
    "start_time": "2021-12-15T11:59:24.522Z"
   },
   {
    "duration": 25,
    "start_time": "2021-12-15T11:59:24.584Z"
   },
   {
    "duration": 7,
    "start_time": "2021-12-15T11:59:24.611Z"
   },
   {
    "duration": 71,
    "start_time": "2021-12-15T11:59:24.620Z"
   },
   {
    "duration": 10,
    "start_time": "2021-12-15T11:59:24.693Z"
   },
   {
    "duration": 9,
    "start_time": "2021-12-15T11:59:24.706Z"
   },
   {
    "duration": 3,
    "start_time": "2021-12-15T11:59:24.717Z"
   },
   {
    "duration": 54,
    "start_time": "2021-12-15T11:59:24.722Z"
   },
   {
    "duration": 23,
    "start_time": "2021-12-15T11:59:24.778Z"
   },
   {
    "duration": 9,
    "start_time": "2021-12-15T11:59:34.847Z"
   },
   {
    "duration": 862,
    "start_time": "2021-12-15T11:59:41.484Z"
   },
   {
    "duration": 48,
    "start_time": "2021-12-15T11:59:42.349Z"
   },
   {
    "duration": 9,
    "start_time": "2021-12-15T11:59:42.401Z"
   },
   {
    "duration": 73,
    "start_time": "2021-12-15T11:59:42.413Z"
   },
   {
    "duration": 24,
    "start_time": "2021-12-15T11:59:42.489Z"
   },
   {
    "duration": 15,
    "start_time": "2021-12-15T11:59:42.515Z"
   },
   {
    "duration": 37,
    "start_time": "2021-12-15T11:59:42.532Z"
   },
   {
    "duration": 10,
    "start_time": "2021-12-15T11:59:42.574Z"
   },
   {
    "duration": 24,
    "start_time": "2021-12-15T11:59:42.588Z"
   },
   {
    "duration": 19,
    "start_time": "2021-12-15T11:59:42.615Z"
   },
   {
    "duration": 46,
    "start_time": "2021-12-15T11:59:42.637Z"
   },
   {
    "duration": 27,
    "start_time": "2021-12-15T11:59:42.685Z"
   },
   {
    "duration": 21,
    "start_time": "2021-12-15T11:59:42.714Z"
   },
   {
    "duration": 56,
    "start_time": "2021-12-15T11:59:42.737Z"
   },
   {
    "duration": 11,
    "start_time": "2021-12-15T11:59:42.795Z"
   },
   {
    "duration": 68,
    "start_time": "2021-12-15T11:59:42.808Z"
   },
   {
    "duration": 11,
    "start_time": "2021-12-15T11:59:42.879Z"
   },
   {
    "duration": 12,
    "start_time": "2021-12-15T11:59:42.892Z"
   },
   {
    "duration": 15,
    "start_time": "2021-12-15T11:59:42.906Z"
   },
   {
    "duration": 19,
    "start_time": "2021-12-15T11:59:42.924Z"
   },
   {
    "duration": 33,
    "start_time": "2021-12-15T11:59:42.967Z"
   },
   {
    "duration": 25,
    "start_time": "2021-12-15T11:59:47.176Z"
   },
   {
    "duration": 12,
    "start_time": "2021-12-15T12:00:16.340Z"
   },
   {
    "duration": 843,
    "start_time": "2021-12-15T12:00:23.523Z"
   },
   {
    "duration": 34,
    "start_time": "2021-12-15T12:00:24.372Z"
   },
   {
    "duration": 40,
    "start_time": "2021-12-15T12:00:24.409Z"
   },
   {
    "duration": 40,
    "start_time": "2021-12-15T12:00:24.452Z"
   },
   {
    "duration": 26,
    "start_time": "2021-12-15T12:00:24.494Z"
   },
   {
    "duration": 14,
    "start_time": "2021-12-15T12:00:24.523Z"
   },
   {
    "duration": 12,
    "start_time": "2021-12-15T12:00:24.576Z"
   },
   {
    "duration": 9,
    "start_time": "2021-12-15T12:00:24.591Z"
   },
   {
    "duration": 21,
    "start_time": "2021-12-15T12:00:24.604Z"
   },
   {
    "duration": 59,
    "start_time": "2021-12-15T12:00:24.628Z"
   },
   {
    "duration": 16,
    "start_time": "2021-12-15T12:00:24.690Z"
   },
   {
    "duration": 24,
    "start_time": "2021-12-15T12:00:24.709Z"
   },
   {
    "duration": 23,
    "start_time": "2021-12-15T12:00:24.766Z"
   },
   {
    "duration": 29,
    "start_time": "2021-12-15T12:00:24.791Z"
   },
   {
    "duration": 8,
    "start_time": "2021-12-15T12:00:24.823Z"
   },
   {
    "duration": 41,
    "start_time": "2021-12-15T12:00:24.833Z"
   },
   {
    "duration": 21,
    "start_time": "2021-12-15T12:00:24.878Z"
   },
   {
    "duration": 8,
    "start_time": "2021-12-15T12:00:24.901Z"
   },
   {
    "duration": 8,
    "start_time": "2021-12-15T12:00:24.912Z"
   },
   {
    "duration": 62,
    "start_time": "2021-12-15T12:00:24.922Z"
   },
   {
    "duration": 23,
    "start_time": "2021-12-15T12:00:24.986Z"
   },
   {
    "duration": 53,
    "start_time": "2021-12-15T12:00:46.113Z"
   },
   {
    "duration": 21,
    "start_time": "2021-12-15T12:00:49.510Z"
   },
   {
    "duration": 24,
    "start_time": "2021-12-15T12:00:50.918Z"
   },
   {
    "duration": 8,
    "start_time": "2021-12-15T12:01:26.556Z"
   },
   {
    "duration": 19,
    "start_time": "2021-12-15T12:01:39.158Z"
   },
   {
    "duration": 31,
    "start_time": "2021-12-15T12:01:41.245Z"
   },
   {
    "duration": 23,
    "start_time": "2021-12-15T12:01:44.079Z"
   },
   {
    "duration": 22,
    "start_time": "2021-12-15T12:02:39.850Z"
   },
   {
    "duration": 13,
    "start_time": "2021-12-15T12:02:43.639Z"
   },
   {
    "duration": 8,
    "start_time": "2021-12-15T12:02:45.655Z"
   },
   {
    "duration": 9,
    "start_time": "2021-12-15T12:02:47.163Z"
   },
   {
    "duration": 23,
    "start_time": "2021-12-15T12:02:48.923Z"
   },
   {
    "duration": 51,
    "start_time": "2021-12-15T12:03:10.175Z"
   },
   {
    "duration": 23,
    "start_time": "2021-12-15T12:03:13.180Z"
   },
   {
    "duration": 24,
    "start_time": "2021-12-15T12:03:30.722Z"
   },
   {
    "duration": 25,
    "start_time": "2021-12-15T12:03:33.844Z"
   },
   {
    "duration": 850,
    "start_time": "2021-12-15T12:03:38.919Z"
   },
   {
    "duration": 39,
    "start_time": "2021-12-15T12:03:39.772Z"
   },
   {
    "duration": 11,
    "start_time": "2021-12-15T12:03:39.815Z"
   },
   {
    "duration": 75,
    "start_time": "2021-12-15T12:03:39.830Z"
   },
   {
    "duration": 28,
    "start_time": "2021-12-15T12:03:39.909Z"
   },
   {
    "duration": 36,
    "start_time": "2021-12-15T12:03:39.941Z"
   },
   {
    "duration": 15,
    "start_time": "2021-12-15T12:03:39.981Z"
   },
   {
    "duration": 13,
    "start_time": "2021-12-15T12:03:40.002Z"
   },
   {
    "duration": 66,
    "start_time": "2021-12-15T12:03:40.018Z"
   },
   {
    "duration": 24,
    "start_time": "2021-12-15T12:03:40.087Z"
   },
   {
    "duration": 31,
    "start_time": "2021-12-15T12:03:40.114Z"
   },
   {
    "duration": 38,
    "start_time": "2021-12-15T12:03:40.148Z"
   },
   {
    "duration": 21,
    "start_time": "2021-12-15T12:03:40.188Z"
   },
   {
    "duration": 51,
    "start_time": "2021-12-15T12:03:40.212Z"
   },
   {
    "duration": 12,
    "start_time": "2021-12-15T12:03:40.272Z"
   },
   {
    "duration": 23,
    "start_time": "2021-12-15T12:03:40.286Z"
   },
   {
    "duration": 27,
    "start_time": "2021-12-15T12:03:40.311Z"
   },
   {
    "duration": 34,
    "start_time": "2021-12-15T12:03:40.341Z"
   },
   {
    "duration": 65,
    "start_time": "2021-12-15T12:03:40.378Z"
   },
   {
    "duration": 27,
    "start_time": "2021-12-15T12:03:40.446Z"
   },
   {
    "duration": 45,
    "start_time": "2021-12-15T12:04:16.410Z"
   },
   {
    "duration": 22,
    "start_time": "2021-12-15T12:04:19.436Z"
   },
   {
    "duration": 26,
    "start_time": "2021-12-15T12:04:21.762Z"
   },
   {
    "duration": 44,
    "start_time": "2021-12-15T12:05:19.178Z"
   },
   {
    "duration": 21,
    "start_time": "2021-12-15T12:05:25.010Z"
   },
   {
    "duration": 60,
    "start_time": "2021-12-15T12:05:58.359Z"
   },
   {
    "duration": 13,
    "start_time": "2021-12-15T12:06:04.635Z"
   },
   {
    "duration": 24,
    "start_time": "2021-12-15T12:06:19.178Z"
   },
   {
    "duration": 7,
    "start_time": "2021-12-15T12:06:21.727Z"
   },
   {
    "duration": 22,
    "start_time": "2021-12-15T12:06:46.220Z"
   },
   {
    "duration": 23,
    "start_time": "2021-12-15T12:08:35.532Z"
   },
   {
    "duration": 9,
    "start_time": "2021-12-15T12:09:07.089Z"
   },
   {
    "duration": 29,
    "start_time": "2021-12-15T12:09:08.965Z"
   },
   {
    "duration": 25,
    "start_time": "2021-12-15T12:09:15.175Z"
   },
   {
    "duration": 58,
    "start_time": "2021-12-15T12:10:43.162Z"
   },
   {
    "duration": 24,
    "start_time": "2021-12-15T12:10:49.938Z"
   },
   {
    "duration": 23,
    "start_time": "2021-12-15T12:10:51.702Z"
   },
   {
    "duration": 22,
    "start_time": "2021-12-15T12:12:51.109Z"
   },
   {
    "duration": 892,
    "start_time": "2021-12-15T12:16:56.297Z"
   },
   {
    "duration": 35,
    "start_time": "2021-12-15T12:16:57.191Z"
   },
   {
    "duration": 22,
    "start_time": "2021-12-15T12:16:57.229Z"
   },
   {
    "duration": 45,
    "start_time": "2021-12-15T12:16:57.267Z"
   },
   {
    "duration": 42,
    "start_time": "2021-12-15T12:16:57.314Z"
   },
   {
    "duration": 24,
    "start_time": "2021-12-15T12:16:57.359Z"
   },
   {
    "duration": 20,
    "start_time": "2021-12-15T12:16:57.385Z"
   },
   {
    "duration": 17,
    "start_time": "2021-12-15T12:16:57.409Z"
   },
   {
    "duration": 48,
    "start_time": "2021-12-15T12:16:57.428Z"
   },
   {
    "duration": 28,
    "start_time": "2021-12-15T12:16:57.478Z"
   },
   {
    "duration": 37,
    "start_time": "2021-12-15T12:16:57.508Z"
   },
   {
    "duration": 21,
    "start_time": "2021-12-15T12:16:57.547Z"
   },
   {
    "duration": 33,
    "start_time": "2021-12-15T12:16:57.576Z"
   },
   {
    "duration": 37,
    "start_time": "2021-12-15T12:16:57.611Z"
   },
   {
    "duration": 31,
    "start_time": "2021-12-15T12:16:57.651Z"
   },
   {
    "duration": 8,
    "start_time": "2021-12-15T12:16:57.685Z"
   },
   {
    "duration": 32,
    "start_time": "2021-12-15T12:16:57.695Z"
   },
   {
    "duration": 24,
    "start_time": "2021-12-15T12:16:57.729Z"
   },
   {
    "duration": 44,
    "start_time": "2021-12-15T12:16:57.756Z"
   },
   {
    "duration": 26,
    "start_time": "2021-12-15T12:28:40.774Z"
   },
   {
    "duration": 8,
    "start_time": "2021-12-15T12:28:53.129Z"
   },
   {
    "duration": 9,
    "start_time": "2021-12-15T12:29:19.840Z"
   },
   {
    "duration": 18,
    "start_time": "2021-12-15T12:36:35.492Z"
   },
   {
    "duration": 18,
    "start_time": "2021-12-15T12:37:44.313Z"
   },
   {
    "duration": 4,
    "start_time": "2021-12-15T12:39:14.054Z"
   },
   {
    "duration": 25,
    "start_time": "2021-12-15T12:39:15.497Z"
   },
   {
    "duration": 22,
    "start_time": "2021-12-15T12:39:39.506Z"
   },
   {
    "duration": 24,
    "start_time": "2021-12-15T12:41:01.507Z"
   },
   {
    "duration": 858,
    "start_time": "2021-12-15T12:41:07.628Z"
   },
   {
    "duration": 38,
    "start_time": "2021-12-15T12:41:08.489Z"
   },
   {
    "duration": 44,
    "start_time": "2021-12-15T12:41:08.530Z"
   },
   {
    "duration": 36,
    "start_time": "2021-12-15T12:41:08.577Z"
   },
   {
    "duration": 26,
    "start_time": "2021-12-15T12:41:08.615Z"
   },
   {
    "duration": 42,
    "start_time": "2021-12-15T12:41:08.644Z"
   },
   {
    "duration": 14,
    "start_time": "2021-12-15T12:41:08.689Z"
   },
   {
    "duration": 13,
    "start_time": "2021-12-15T12:41:08.708Z"
   },
   {
    "duration": 57,
    "start_time": "2021-12-15T12:41:08.725Z"
   },
   {
    "duration": 29,
    "start_time": "2021-12-15T12:41:08.784Z"
   },
   {
    "duration": 21,
    "start_time": "2021-12-15T12:41:08.816Z"
   },
   {
    "duration": 44,
    "start_time": "2021-12-15T12:41:08.839Z"
   },
   {
    "duration": 20,
    "start_time": "2021-12-15T12:41:08.886Z"
   },
   {
    "duration": 40,
    "start_time": "2021-12-15T12:41:08.908Z"
   },
   {
    "duration": 28,
    "start_time": "2021-12-15T12:41:08.951Z"
   },
   {
    "duration": 19,
    "start_time": "2021-12-15T12:41:08.982Z"
   },
   {
    "duration": 10,
    "start_time": "2021-12-15T12:41:09.004Z"
   },
   {
    "duration": 18,
    "start_time": "2021-12-15T12:41:09.016Z"
   },
   {
    "duration": 61,
    "start_time": "2021-12-15T12:41:09.037Z"
   },
   {
    "duration": 22,
    "start_time": "2021-12-15T12:41:09.100Z"
   },
   {
    "duration": 372,
    "start_time": "2021-12-15T13:10:32.782Z"
   },
   {
    "duration": 9,
    "start_time": "2021-12-15T13:25:05.586Z"
   },
   {
    "duration": 826,
    "start_time": "2021-12-15T13:25:14.924Z"
   },
   {
    "duration": 48,
    "start_time": "2021-12-15T13:25:15.753Z"
   },
   {
    "duration": 7,
    "start_time": "2021-12-15T13:25:15.804Z"
   },
   {
    "duration": 67,
    "start_time": "2021-12-15T13:25:15.814Z"
   },
   {
    "duration": 27,
    "start_time": "2021-12-15T13:25:15.884Z"
   },
   {
    "duration": 14,
    "start_time": "2021-12-15T13:25:15.913Z"
   },
   {
    "duration": 9,
    "start_time": "2021-12-15T13:25:15.929Z"
   },
   {
    "duration": 15,
    "start_time": "2021-12-15T13:25:15.968Z"
   },
   {
    "duration": 19,
    "start_time": "2021-12-15T13:25:15.987Z"
   },
   {
    "duration": 22,
    "start_time": "2021-12-15T13:25:16.009Z"
   },
   {
    "duration": 53,
    "start_time": "2021-12-15T13:25:16.033Z"
   },
   {
    "duration": 33,
    "start_time": "2021-12-15T13:25:16.089Z"
   },
   {
    "duration": 63,
    "start_time": "2021-12-15T13:25:16.125Z"
   },
   {
    "duration": 55,
    "start_time": "2021-12-15T13:25:16.191Z"
   },
   {
    "duration": 9,
    "start_time": "2021-12-15T13:25:16.249Z"
   },
   {
    "duration": 30,
    "start_time": "2021-12-15T13:25:16.260Z"
   },
   {
    "duration": 9,
    "start_time": "2021-12-15T13:25:16.293Z"
   },
   {
    "duration": 17,
    "start_time": "2021-12-15T13:25:16.305Z"
   },
   {
    "duration": 51,
    "start_time": "2021-12-15T13:25:16.324Z"
   },
   {
    "duration": 27,
    "start_time": "2021-12-15T13:25:16.377Z"
   },
   {
    "duration": 12,
    "start_time": "2021-12-15T13:25:16.407Z"
   },
   {
    "duration": 137,
    "start_time": "2021-12-15T13:27:22.399Z"
   },
   {
    "duration": 92,
    "start_time": "2021-12-15T13:27:35.603Z"
   },
   {
    "duration": 353,
    "start_time": "2021-12-15T13:30:59.352Z"
   },
   {
    "duration": 336,
    "start_time": "2021-12-15T13:32:10.147Z"
   },
   {
    "duration": 95,
    "start_time": "2021-12-15T13:40:13.588Z"
   },
   {
    "duration": 86,
    "start_time": "2021-12-15T13:40:21.264Z"
   },
   {
    "duration": 5,
    "start_time": "2021-12-15T13:41:11.788Z"
   },
   {
    "duration": 7,
    "start_time": "2021-12-15T13:41:22.546Z"
   },
   {
    "duration": 1637,
    "start_time": "2021-12-15T13:44:05.199Z"
   },
   {
    "duration": 868,
    "start_time": "2021-12-15T13:44:11.577Z"
   },
   {
    "duration": 54,
    "start_time": "2021-12-15T13:44:12.449Z"
   },
   {
    "duration": 10,
    "start_time": "2021-12-15T13:44:12.507Z"
   },
   {
    "duration": 68,
    "start_time": "2021-12-15T13:44:12.520Z"
   },
   {
    "duration": 25,
    "start_time": "2021-12-15T13:44:12.591Z"
   },
   {
    "duration": 22,
    "start_time": "2021-12-15T13:44:12.619Z"
   },
   {
    "duration": 32,
    "start_time": "2021-12-15T13:44:12.644Z"
   },
   {
    "duration": 23,
    "start_time": "2021-12-15T13:44:12.681Z"
   },
   {
    "duration": 44,
    "start_time": "2021-12-15T13:44:12.708Z"
   },
   {
    "duration": 58,
    "start_time": "2021-12-15T13:44:12.754Z"
   },
   {
    "duration": 24,
    "start_time": "2021-12-15T13:44:12.814Z"
   },
   {
    "duration": 50,
    "start_time": "2021-12-15T13:44:12.841Z"
   },
   {
    "duration": 32,
    "start_time": "2021-12-15T13:44:12.894Z"
   },
   {
    "duration": 63,
    "start_time": "2021-12-15T13:44:12.929Z"
   },
   {
    "duration": 7,
    "start_time": "2021-12-15T13:44:12.995Z"
   },
   {
    "duration": 36,
    "start_time": "2021-12-15T13:44:13.004Z"
   },
   {
    "duration": 20,
    "start_time": "2021-12-15T13:44:13.042Z"
   },
   {
    "duration": 46,
    "start_time": "2021-12-15T13:44:13.065Z"
   },
   {
    "duration": 50,
    "start_time": "2021-12-15T13:44:13.114Z"
   },
   {
    "duration": 25,
    "start_time": "2021-12-15T13:44:13.172Z"
   },
   {
    "duration": 14,
    "start_time": "2021-12-15T13:44:13.200Z"
   },
   {
    "duration": 12,
    "start_time": "2021-12-15T13:44:13.216Z"
   },
   {
    "duration": 2746,
    "start_time": "2021-12-15T13:44:13.232Z"
   },
   {
    "duration": 358,
    "start_time": "2021-12-15T13:45:32.639Z"
   },
   {
    "duration": 290,
    "start_time": "2021-12-15T13:45:42.140Z"
   },
   {
    "duration": 293,
    "start_time": "2021-12-15T13:46:20.606Z"
   },
   {
    "duration": 265,
    "start_time": "2021-12-15T13:46:38.628Z"
   },
   {
    "duration": 6,
    "start_time": "2021-12-15T13:47:22.632Z"
   },
   {
    "duration": 257,
    "start_time": "2021-12-15T13:47:50.955Z"
   },
   {
    "duration": 1314,
    "start_time": "2021-12-15T13:49:15.718Z"
   },
   {
    "duration": 1314,
    "start_time": "2021-12-15T13:49:27.457Z"
   },
   {
    "duration": 998,
    "start_time": "2021-12-15T13:49:34.566Z"
   },
   {
    "duration": 37,
    "start_time": "2021-12-15T13:49:35.567Z"
   },
   {
    "duration": 8,
    "start_time": "2021-12-15T13:49:35.607Z"
   },
   {
    "duration": 162,
    "start_time": "2021-12-15T13:49:35.618Z"
   },
   {
    "duration": 59,
    "start_time": "2021-12-15T13:49:35.783Z"
   },
   {
    "duration": 25,
    "start_time": "2021-12-15T13:49:35.845Z"
   },
   {
    "duration": 29,
    "start_time": "2021-12-15T13:49:35.875Z"
   },
   {
    "duration": 73,
    "start_time": "2021-12-15T13:49:35.908Z"
   },
   {
    "duration": 44,
    "start_time": "2021-12-15T13:49:35.985Z"
   },
   {
    "duration": 65,
    "start_time": "2021-12-15T13:49:36.031Z"
   },
   {
    "duration": 44,
    "start_time": "2021-12-15T13:49:36.099Z"
   },
   {
    "duration": 70,
    "start_time": "2021-12-15T13:49:36.146Z"
   },
   {
    "duration": 35,
    "start_time": "2021-12-15T13:49:36.219Z"
   },
   {
    "duration": 42,
    "start_time": "2021-12-15T13:49:36.256Z"
   },
   {
    "duration": 15,
    "start_time": "2021-12-15T13:49:36.300Z"
   },
   {
    "duration": 46,
    "start_time": "2021-12-15T13:49:36.317Z"
   },
   {
    "duration": 28,
    "start_time": "2021-12-15T13:49:36.366Z"
   },
   {
    "duration": 48,
    "start_time": "2021-12-15T13:49:36.396Z"
   },
   {
    "duration": 61,
    "start_time": "2021-12-15T13:49:36.447Z"
   },
   {
    "duration": 28,
    "start_time": "2021-12-15T13:49:36.511Z"
   },
   {
    "duration": 21,
    "start_time": "2021-12-15T13:49:36.541Z"
   },
   {
    "duration": 23,
    "start_time": "2021-12-15T13:49:36.565Z"
   },
   {
    "duration": 2542,
    "start_time": "2021-12-15T13:49:36.592Z"
   },
   {
    "duration": 388,
    "start_time": "2021-12-15T13:49:39.137Z"
   },
   {
    "duration": -62,
    "start_time": "2021-12-15T13:49:39.590Z"
   },
   {
    "duration": 855,
    "start_time": "2021-12-15T13:49:44.801Z"
   },
   {
    "duration": 44,
    "start_time": "2021-12-15T13:49:45.660Z"
   },
   {
    "duration": 9,
    "start_time": "2021-12-15T13:49:45.707Z"
   },
   {
    "duration": 62,
    "start_time": "2021-12-15T13:49:45.719Z"
   },
   {
    "duration": 26,
    "start_time": "2021-12-15T13:49:45.784Z"
   },
   {
    "duration": 16,
    "start_time": "2021-12-15T13:49:45.813Z"
   },
   {
    "duration": 45,
    "start_time": "2021-12-15T13:49:45.832Z"
   },
   {
    "duration": 13,
    "start_time": "2021-12-15T13:49:45.881Z"
   },
   {
    "duration": 21,
    "start_time": "2021-12-15T13:49:45.897Z"
   },
   {
    "duration": 19,
    "start_time": "2021-12-15T13:49:45.921Z"
   },
   {
    "duration": 42,
    "start_time": "2021-12-15T13:49:45.943Z"
   },
   {
    "duration": 24,
    "start_time": "2021-12-15T13:49:45.988Z"
   },
   {
    "duration": 63,
    "start_time": "2021-12-15T13:49:46.014Z"
   },
   {
    "duration": 31,
    "start_time": "2021-12-15T13:49:46.079Z"
   },
   {
    "duration": 9,
    "start_time": "2021-12-15T13:49:46.113Z"
   },
   {
    "duration": 45,
    "start_time": "2021-12-15T13:49:46.125Z"
   },
   {
    "duration": 13,
    "start_time": "2021-12-15T13:49:46.172Z"
   },
   {
    "duration": 12,
    "start_time": "2021-12-15T13:49:46.187Z"
   },
   {
    "duration": 29,
    "start_time": "2021-12-15T13:49:46.201Z"
   },
   {
    "duration": 50,
    "start_time": "2021-12-15T13:49:46.232Z"
   },
   {
    "duration": 13,
    "start_time": "2021-12-15T13:49:46.284Z"
   },
   {
    "duration": 10,
    "start_time": "2021-12-15T13:49:46.299Z"
   },
   {
    "duration": 2571,
    "start_time": "2021-12-15T13:49:46.313Z"
   },
   {
    "duration": 363,
    "start_time": "2021-12-15T13:49:48.887Z"
   },
   {
    "duration": 1575,
    "start_time": "2021-12-15T13:50:32.003Z"
   },
   {
    "duration": 40,
    "start_time": "2021-12-15T13:50:53.475Z"
   },
   {
    "duration": 329,
    "start_time": "2021-12-15T13:51:01.389Z"
   },
   {
    "duration": 864,
    "start_time": "2021-12-15T13:55:40.676Z"
   },
   {
    "duration": 48,
    "start_time": "2021-12-15T13:55:41.542Z"
   },
   {
    "duration": 10,
    "start_time": "2021-12-15T13:55:41.596Z"
   },
   {
    "duration": 79,
    "start_time": "2021-12-15T13:55:41.608Z"
   },
   {
    "duration": 60,
    "start_time": "2021-12-15T13:55:41.691Z"
   },
   {
    "duration": 130,
    "start_time": "2021-12-15T13:55:41.754Z"
   },
   {
    "duration": 134,
    "start_time": "2021-12-15T13:55:41.889Z"
   },
   {
    "duration": 57,
    "start_time": "2021-12-15T13:55:42.028Z"
   },
   {
    "duration": 29,
    "start_time": "2021-12-15T13:55:42.088Z"
   },
   {
    "duration": 26,
    "start_time": "2021-12-15T13:55:42.120Z"
   },
   {
    "duration": 23,
    "start_time": "2021-12-15T13:55:42.148Z"
   },
   {
    "duration": 31,
    "start_time": "2021-12-15T13:55:42.174Z"
   },
   {
    "duration": 21,
    "start_time": "2021-12-15T13:55:42.207Z"
   },
   {
    "duration": 59,
    "start_time": "2021-12-15T13:55:42.231Z"
   },
   {
    "duration": 9,
    "start_time": "2021-12-15T13:55:42.293Z"
   },
   {
    "duration": 24,
    "start_time": "2021-12-15T13:55:42.306Z"
   },
   {
    "duration": 49,
    "start_time": "2021-12-15T13:55:42.333Z"
   },
   {
    "duration": 10,
    "start_time": "2021-12-15T13:55:42.384Z"
   },
   {
    "duration": 31,
    "start_time": "2021-12-15T13:55:42.397Z"
   },
   {
    "duration": 50,
    "start_time": "2021-12-15T13:55:42.431Z"
   },
   {
    "duration": 14,
    "start_time": "2021-12-15T13:55:42.483Z"
   },
   {
    "duration": 5,
    "start_time": "2021-12-15T13:55:42.501Z"
   },
   {
    "duration": 2630,
    "start_time": "2021-12-15T13:55:42.509Z"
   },
   {
    "duration": 364,
    "start_time": "2021-12-15T13:55:45.142Z"
   },
   {
    "duration": 272,
    "start_time": "2021-12-15T13:56:29.820Z"
   },
   {
    "duration": 6,
    "start_time": "2021-12-15T13:58:39.651Z"
   },
   {
    "duration": 1029,
    "start_time": "2021-12-15T14:13:40.115Z"
   },
   {
    "duration": 36,
    "start_time": "2021-12-15T14:14:03.403Z"
   },
   {
    "duration": 1148,
    "start_time": "2021-12-15T14:14:09.385Z"
   },
   {
    "duration": 6,
    "start_time": "2021-12-15T14:14:39.011Z"
   },
   {
    "duration": 5,
    "start_time": "2021-12-15T14:15:00.156Z"
   },
   {
    "duration": 4,
    "start_time": "2021-12-15T14:15:37.944Z"
   },
   {
    "duration": 880,
    "start_time": "2021-12-15T14:15:53.433Z"
   },
   {
    "duration": 52,
    "start_time": "2021-12-15T14:15:54.317Z"
   },
   {
    "duration": 33,
    "start_time": "2021-12-15T14:15:54.376Z"
   },
   {
    "duration": 68,
    "start_time": "2021-12-15T14:15:54.412Z"
   },
   {
    "duration": 25,
    "start_time": "2021-12-15T14:15:54.483Z"
   },
   {
    "duration": 36,
    "start_time": "2021-12-15T14:15:54.511Z"
   },
   {
    "duration": 31,
    "start_time": "2021-12-15T14:15:54.550Z"
   },
   {
    "duration": 16,
    "start_time": "2021-12-15T14:15:54.584Z"
   },
   {
    "duration": 36,
    "start_time": "2021-12-15T14:15:54.604Z"
   },
   {
    "duration": 51,
    "start_time": "2021-12-15T14:15:54.643Z"
   },
   {
    "duration": 42,
    "start_time": "2021-12-15T14:15:54.698Z"
   },
   {
    "duration": 34,
    "start_time": "2021-12-15T14:15:54.743Z"
   },
   {
    "duration": 22,
    "start_time": "2021-12-15T14:15:54.779Z"
   },
   {
    "duration": 26,
    "start_time": "2021-12-15T14:15:54.803Z"
   },
   {
    "duration": 39,
    "start_time": "2021-12-15T14:15:54.831Z"
   },
   {
    "duration": 20,
    "start_time": "2021-12-15T14:15:54.873Z"
   },
   {
    "duration": 15,
    "start_time": "2021-12-15T14:15:54.896Z"
   },
   {
    "duration": 25,
    "start_time": "2021-12-15T14:15:54.914Z"
   },
   {
    "duration": 86,
    "start_time": "2021-12-15T14:15:54.941Z"
   },
   {
    "duration": 43,
    "start_time": "2021-12-15T14:15:55.029Z"
   },
   {
    "duration": 15,
    "start_time": "2021-12-15T14:15:55.075Z"
   },
   {
    "duration": 1009,
    "start_time": "2021-12-15T14:15:55.092Z"
   },
   {
    "duration": 4,
    "start_time": "2021-12-15T14:15:56.106Z"
   },
   {
    "duration": 30,
    "start_time": "2021-12-15T14:15:56.113Z"
   },
   {
    "duration": 1586,
    "start_time": "2021-12-15T14:15:56.145Z"
   },
   {
    "duration": 90,
    "start_time": "2021-12-15T14:18:37.143Z"
   },
   {
    "duration": 85,
    "start_time": "2021-12-15T14:19:14.297Z"
   },
   {
    "duration": 87,
    "start_time": "2021-12-15T14:21:22.176Z"
   },
   {
    "duration": 845,
    "start_time": "2021-12-15T14:21:40.406Z"
   },
   {
    "duration": 50,
    "start_time": "2021-12-15T14:21:41.254Z"
   },
   {
    "duration": 9,
    "start_time": "2021-12-15T14:21:41.308Z"
   },
   {
    "duration": 61,
    "start_time": "2021-12-15T14:21:41.320Z"
   },
   {
    "duration": 28,
    "start_time": "2021-12-15T14:21:41.384Z"
   },
   {
    "duration": 15,
    "start_time": "2021-12-15T14:21:41.415Z"
   },
   {
    "duration": 55,
    "start_time": "2021-12-15T14:21:41.433Z"
   },
   {
    "duration": 22,
    "start_time": "2021-12-15T14:21:41.492Z"
   },
   {
    "duration": 23,
    "start_time": "2021-12-15T14:21:41.517Z"
   },
   {
    "duration": 39,
    "start_time": "2021-12-15T14:21:41.543Z"
   },
   {
    "duration": 18,
    "start_time": "2021-12-15T14:21:41.584Z"
   },
   {
    "duration": 21,
    "start_time": "2021-12-15T14:21:41.604Z"
   },
   {
    "duration": 21,
    "start_time": "2021-12-15T14:21:41.628Z"
   },
   {
    "duration": 26,
    "start_time": "2021-12-15T14:21:41.669Z"
   },
   {
    "duration": 8,
    "start_time": "2021-12-15T14:21:41.697Z"
   },
   {
    "duration": 21,
    "start_time": "2021-12-15T14:21:41.707Z"
   },
   {
    "duration": 48,
    "start_time": "2021-12-15T14:21:41.731Z"
   },
   {
    "duration": 10,
    "start_time": "2021-12-15T14:21:41.782Z"
   },
   {
    "duration": 35,
    "start_time": "2021-12-15T14:21:41.795Z"
   },
   {
    "duration": 52,
    "start_time": "2021-12-15T14:21:41.833Z"
   },
   {
    "duration": 14,
    "start_time": "2021-12-15T14:21:41.888Z"
   },
   {
    "duration": 98,
    "start_time": "2021-12-15T14:21:41.905Z"
   },
   {
    "duration": 55,
    "start_time": "2021-12-15T14:21:41.951Z"
   },
   {
    "duration": 52,
    "start_time": "2021-12-15T14:21:41.956Z"
   },
   {
    "duration": 19,
    "start_time": "2021-12-15T14:21:41.990Z"
   },
   {
    "duration": 1035,
    "start_time": "2021-12-15T14:23:18.920Z"
   },
   {
    "duration": 85,
    "start_time": "2021-12-15T14:23:36.597Z"
   },
   {
    "duration": 17,
    "start_time": "2021-12-15T14:23:41.348Z"
   },
   {
    "duration": 90,
    "start_time": "2021-12-15T14:27:56.408Z"
   },
   {
    "duration": 146,
    "start_time": "2021-12-15T14:28:08.321Z"
   },
   {
    "duration": 90,
    "start_time": "2021-12-15T14:28:22.002Z"
   },
   {
    "duration": 23,
    "start_time": "2021-12-15T14:29:34.455Z"
   },
   {
    "duration": 83,
    "start_time": "2021-12-15T14:29:43.270Z"
   },
   {
    "duration": 105,
    "start_time": "2021-12-15T14:29:49.815Z"
   },
   {
    "duration": 873,
    "start_time": "2021-12-15T14:29:55.310Z"
   },
   {
    "duration": 34,
    "start_time": "2021-12-15T14:29:56.186Z"
   },
   {
    "duration": 16,
    "start_time": "2021-12-15T14:29:56.223Z"
   },
   {
    "duration": 52,
    "start_time": "2021-12-15T14:29:56.242Z"
   },
   {
    "duration": 26,
    "start_time": "2021-12-15T14:29:56.297Z"
   },
   {
    "duration": 45,
    "start_time": "2021-12-15T14:29:56.325Z"
   },
   {
    "duration": 18,
    "start_time": "2021-12-15T14:29:56.373Z"
   },
   {
    "duration": 20,
    "start_time": "2021-12-15T14:29:56.397Z"
   },
   {
    "duration": 36,
    "start_time": "2021-12-15T14:29:56.421Z"
   },
   {
    "duration": 53,
    "start_time": "2021-12-15T14:29:56.461Z"
   },
   {
    "duration": 31,
    "start_time": "2021-12-15T14:29:56.517Z"
   },
   {
    "duration": 23,
    "start_time": "2021-12-15T14:29:56.550Z"
   },
   {
    "duration": 39,
    "start_time": "2021-12-15T14:29:56.575Z"
   },
   {
    "duration": 37,
    "start_time": "2021-12-15T14:29:56.616Z"
   },
   {
    "duration": 11,
    "start_time": "2021-12-15T14:29:56.655Z"
   },
   {
    "duration": 35,
    "start_time": "2021-12-15T14:29:56.672Z"
   },
   {
    "duration": 30,
    "start_time": "2021-12-15T14:29:56.710Z"
   },
   {
    "duration": 36,
    "start_time": "2021-12-15T14:29:56.742Z"
   },
   {
    "duration": 45,
    "start_time": "2021-12-15T14:29:56.780Z"
   },
   {
    "duration": 24,
    "start_time": "2021-12-15T14:29:56.828Z"
   },
   {
    "duration": 14,
    "start_time": "2021-12-15T14:29:56.854Z"
   },
   {
    "duration": 994,
    "start_time": "2021-12-15T14:29:56.876Z"
   },
   {
    "duration": 91,
    "start_time": "2021-12-15T14:29:57.876Z"
   },
   {
    "duration": 35,
    "start_time": "2021-12-15T14:29:57.934Z"
   },
   {
    "duration": 32,
    "start_time": "2021-12-15T14:29:57.939Z"
   },
   {
    "duration": 4,
    "start_time": "2021-12-15T14:30:23.740Z"
   },
   {
    "duration": 5,
    "start_time": "2021-12-15T14:30:52.993Z"
   },
   {
    "duration": 1573,
    "start_time": "2021-12-15T14:32:10.432Z"
   },
   {
    "duration": 28,
    "start_time": "2021-12-15T14:54:49.922Z"
   },
   {
    "duration": 8,
    "start_time": "2021-12-15T14:55:51.779Z"
   },
   {
    "duration": 1022,
    "start_time": "2021-12-15T14:56:01.437Z"
   },
   {
    "duration": 40,
    "start_time": "2021-12-15T14:56:02.462Z"
   },
   {
    "duration": 18,
    "start_time": "2021-12-15T14:56:02.506Z"
   },
   {
    "duration": 64,
    "start_time": "2021-12-15T14:56:02.528Z"
   },
   {
    "duration": 39,
    "start_time": "2021-12-15T14:56:02.595Z"
   },
   {
    "duration": 46,
    "start_time": "2021-12-15T14:56:02.637Z"
   },
   {
    "duration": 10,
    "start_time": "2021-12-15T14:56:02.686Z"
   },
   {
    "duration": 41,
    "start_time": "2021-12-15T14:56:02.701Z"
   },
   {
    "duration": 49,
    "start_time": "2021-12-15T14:56:02.746Z"
   },
   {
    "duration": 26,
    "start_time": "2021-12-15T14:56:02.797Z"
   },
   {
    "duration": 46,
    "start_time": "2021-12-15T14:56:02.825Z"
   },
   {
    "duration": 37,
    "start_time": "2021-12-15T14:56:02.874Z"
   },
   {
    "duration": 31,
    "start_time": "2021-12-15T14:56:02.914Z"
   },
   {
    "duration": 53,
    "start_time": "2021-12-15T14:56:02.948Z"
   },
   {
    "duration": 9,
    "start_time": "2021-12-15T14:56:03.004Z"
   },
   {
    "duration": 39,
    "start_time": "2021-12-15T14:56:03.016Z"
   },
   {
    "duration": 12,
    "start_time": "2021-12-15T14:56:03.058Z"
   },
   {
    "duration": 13,
    "start_time": "2021-12-15T14:56:03.075Z"
   },
   {
    "duration": 48,
    "start_time": "2021-12-15T14:56:03.091Z"
   },
   {
    "duration": 33,
    "start_time": "2021-12-15T14:56:03.142Z"
   },
   {
    "duration": 6,
    "start_time": "2021-12-15T14:56:03.178Z"
   },
   {
    "duration": 32,
    "start_time": "2021-12-15T14:56:03.187Z"
   },
   {
    "duration": 1191,
    "start_time": "2021-12-15T14:56:03.226Z"
   },
   {
    "duration": 4,
    "start_time": "2021-12-15T14:56:04.421Z"
   },
   {
    "duration": 25,
    "start_time": "2021-12-15T14:56:04.428Z"
   },
   {
    "duration": 1886,
    "start_time": "2021-12-15T14:56:04.456Z"
   },
   {
    "duration": 7,
    "start_time": "2021-12-15T15:04:03.885Z"
   },
   {
    "duration": 1641,
    "start_time": "2021-12-15T15:09:29.689Z"
   },
   {
    "duration": 1655,
    "start_time": "2021-12-15T15:10:13.922Z"
   },
   {
    "duration": 1692,
    "start_time": "2021-12-15T15:10:24.993Z"
   },
   {
    "duration": 850,
    "start_time": "2021-12-15T15:11:26.506Z"
   },
   {
    "duration": 42,
    "start_time": "2021-12-15T15:11:27.358Z"
   },
   {
    "duration": 9,
    "start_time": "2021-12-15T15:11:27.402Z"
   },
   {
    "duration": 63,
    "start_time": "2021-12-15T15:11:27.413Z"
   },
   {
    "duration": 27,
    "start_time": "2021-12-15T15:11:27.479Z"
   },
   {
    "duration": 20,
    "start_time": "2021-12-15T15:11:27.508Z"
   },
   {
    "duration": 34,
    "start_time": "2021-12-15T15:11:27.531Z"
   },
   {
    "duration": 38,
    "start_time": "2021-12-15T15:11:27.569Z"
   },
   {
    "duration": 21,
    "start_time": "2021-12-15T15:11:27.611Z"
   },
   {
    "duration": 22,
    "start_time": "2021-12-15T15:11:27.635Z"
   },
   {
    "duration": 32,
    "start_time": "2021-12-15T15:11:27.660Z"
   },
   {
    "duration": 24,
    "start_time": "2021-12-15T15:11:27.694Z"
   },
   {
    "duration": 25,
    "start_time": "2021-12-15T15:11:27.721Z"
   },
   {
    "duration": 47,
    "start_time": "2021-12-15T15:11:27.749Z"
   },
   {
    "duration": 8,
    "start_time": "2021-12-15T15:11:27.799Z"
   },
   {
    "duration": 24,
    "start_time": "2021-12-15T15:11:27.810Z"
   },
   {
    "duration": 33,
    "start_time": "2021-12-15T15:11:27.837Z"
   },
   {
    "duration": 13,
    "start_time": "2021-12-15T15:11:27.873Z"
   },
   {
    "duration": 37,
    "start_time": "2021-12-15T15:11:27.889Z"
   },
   {
    "duration": 52,
    "start_time": "2021-12-15T15:11:27.928Z"
   },
   {
    "duration": 8,
    "start_time": "2021-12-15T15:11:27.983Z"
   },
   {
    "duration": 22,
    "start_time": "2021-12-15T15:11:27.994Z"
   },
   {
    "duration": 1016,
    "start_time": "2021-12-15T15:11:28.020Z"
   },
   {
    "duration": 7,
    "start_time": "2021-12-15T15:11:29.039Z"
   },
   {
    "duration": 25,
    "start_time": "2021-12-15T15:11:29.048Z"
   },
   {
    "duration": 1653,
    "start_time": "2021-12-15T15:11:29.076Z"
   },
   {
    "duration": 1549,
    "start_time": "2021-12-15T15:12:30.992Z"
   },
   {
    "duration": 1556,
    "start_time": "2021-12-15T15:13:25.575Z"
   },
   {
    "duration": 1561,
    "start_time": "2021-12-15T15:14:17.581Z"
   },
   {
    "duration": 18,
    "start_time": "2021-12-15T15:26:19.002Z"
   },
   {
    "duration": 20,
    "start_time": "2021-12-15T15:26:34.893Z"
   },
   {
    "duration": 7,
    "start_time": "2021-12-15T15:27:33.861Z"
   },
   {
    "duration": 5,
    "start_time": "2021-12-15T15:27:41.830Z"
   },
   {
    "duration": 381,
    "start_time": "2021-12-15T16:14:50.194Z"
   },
   {
    "duration": 292,
    "start_time": "2021-12-15T16:16:31.111Z"
   },
   {
    "duration": 303,
    "start_time": "2021-12-15T16:17:21.756Z"
   },
   {
    "duration": 282,
    "start_time": "2021-12-15T16:17:39.480Z"
   },
   {
    "duration": 17,
    "start_time": "2021-12-15T16:17:48.711Z"
   },
   {
    "duration": 10,
    "start_time": "2021-12-15T16:17:53.935Z"
   },
   {
    "duration": 19,
    "start_time": "2021-12-15T16:18:01.791Z"
   },
   {
    "duration": 18,
    "start_time": "2021-12-15T16:20:15.947Z"
   },
   {
    "duration": 6,
    "start_time": "2021-12-15T16:31:00.764Z"
   },
   {
    "duration": 5,
    "start_time": "2021-12-15T16:32:41.381Z"
   },
   {
    "duration": 8,
    "start_time": "2021-12-15T16:32:44.593Z"
   },
   {
    "duration": 6,
    "start_time": "2021-12-15T16:33:22.020Z"
   },
   {
    "duration": 948,
    "start_time": "2021-12-15T16:33:36.612Z"
   },
   {
    "duration": 41,
    "start_time": "2021-12-15T16:33:37.563Z"
   },
   {
    "duration": 8,
    "start_time": "2021-12-15T16:33:37.607Z"
   },
   {
    "duration": 77,
    "start_time": "2021-12-15T16:33:37.618Z"
   },
   {
    "duration": 33,
    "start_time": "2021-12-15T16:33:37.698Z"
   },
   {
    "duration": 47,
    "start_time": "2021-12-15T16:33:37.734Z"
   },
   {
    "duration": 47,
    "start_time": "2021-12-15T16:33:37.783Z"
   },
   {
    "duration": 40,
    "start_time": "2021-12-15T16:33:37.834Z"
   },
   {
    "duration": 54,
    "start_time": "2021-12-15T16:33:37.877Z"
   },
   {
    "duration": 67,
    "start_time": "2021-12-15T16:33:37.934Z"
   },
   {
    "duration": 100,
    "start_time": "2021-12-15T16:33:38.005Z"
   },
   {
    "duration": 52,
    "start_time": "2021-12-15T16:33:38.108Z"
   },
   {
    "duration": 39,
    "start_time": "2021-12-15T16:33:38.163Z"
   },
   {
    "duration": 47,
    "start_time": "2021-12-15T16:33:38.205Z"
   },
   {
    "duration": 10,
    "start_time": "2021-12-15T16:33:38.255Z"
   },
   {
    "duration": 34,
    "start_time": "2021-12-15T16:33:38.269Z"
   },
   {
    "duration": 15,
    "start_time": "2021-12-15T16:33:38.305Z"
   },
   {
    "duration": 21,
    "start_time": "2021-12-15T16:33:38.323Z"
   },
   {
    "duration": 62,
    "start_time": "2021-12-15T16:33:38.347Z"
   },
   {
    "duration": 21,
    "start_time": "2021-12-15T16:33:38.412Z"
   },
   {
    "duration": 18,
    "start_time": "2021-12-15T16:33:38.436Z"
   },
   {
    "duration": 16,
    "start_time": "2021-12-15T16:33:38.457Z"
   },
   {
    "duration": 998,
    "start_time": "2021-12-15T16:33:38.482Z"
   },
   {
    "duration": 7,
    "start_time": "2021-12-15T16:33:39.483Z"
   },
   {
    "duration": 14,
    "start_time": "2021-12-15T16:33:39.493Z"
   },
   {
    "duration": 1631,
    "start_time": "2021-12-15T16:33:39.509Z"
   },
   {
    "duration": 44,
    "start_time": "2021-12-15T16:33:41.143Z"
   },
   {
    "duration": 13,
    "start_time": "2021-12-15T16:33:41.190Z"
   },
   {
    "duration": 46,
    "start_time": "2021-12-15T16:33:41.205Z"
   },
   {
    "duration": 6,
    "start_time": "2021-12-15T16:34:21.627Z"
   },
   {
    "duration": 5,
    "start_time": "2021-12-15T16:34:23.838Z"
   },
   {
    "duration": 6,
    "start_time": "2021-12-15T16:34:51.895Z"
   },
   {
    "duration": 858,
    "start_time": "2021-12-15T16:34:58.227Z"
   },
   {
    "duration": 39,
    "start_time": "2021-12-15T16:34:59.088Z"
   },
   {
    "duration": 8,
    "start_time": "2021-12-15T16:34:59.130Z"
   },
   {
    "duration": 94,
    "start_time": "2021-12-15T16:34:59.141Z"
   },
   {
    "duration": 86,
    "start_time": "2021-12-15T16:34:59.239Z"
   },
   {
    "duration": 32,
    "start_time": "2021-12-15T16:34:59.328Z"
   },
   {
    "duration": 22,
    "start_time": "2021-12-15T16:34:59.363Z"
   },
   {
    "duration": 17,
    "start_time": "2021-12-15T16:34:59.389Z"
   },
   {
    "duration": 34,
    "start_time": "2021-12-15T16:34:59.409Z"
   },
   {
    "duration": 35,
    "start_time": "2021-12-15T16:34:59.446Z"
   },
   {
    "duration": 35,
    "start_time": "2021-12-15T16:34:59.483Z"
   },
   {
    "duration": 41,
    "start_time": "2021-12-15T16:34:59.521Z"
   },
   {
    "duration": 28,
    "start_time": "2021-12-15T16:34:59.564Z"
   },
   {
    "duration": 24,
    "start_time": "2021-12-15T16:34:59.595Z"
   },
   {
    "duration": 8,
    "start_time": "2021-12-15T16:34:59.622Z"
   },
   {
    "duration": 48,
    "start_time": "2021-12-15T16:34:59.632Z"
   },
   {
    "duration": 10,
    "start_time": "2021-12-15T16:34:59.682Z"
   },
   {
    "duration": 38,
    "start_time": "2021-12-15T16:34:59.695Z"
   },
   {
    "duration": 75,
    "start_time": "2021-12-15T16:34:59.735Z"
   },
   {
    "duration": 23,
    "start_time": "2021-12-15T16:34:59.812Z"
   },
   {
    "duration": 9,
    "start_time": "2021-12-15T16:34:59.838Z"
   },
   {
    "duration": 33,
    "start_time": "2021-12-15T16:34:59.849Z"
   },
   {
    "duration": 1037,
    "start_time": "2021-12-15T16:34:59.888Z"
   },
   {
    "duration": 8,
    "start_time": "2021-12-15T16:35:00.929Z"
   },
   {
    "duration": 42,
    "start_time": "2021-12-15T16:35:00.939Z"
   },
   {
    "duration": 1630,
    "start_time": "2021-12-15T16:35:00.984Z"
   },
   {
    "duration": 19,
    "start_time": "2021-12-15T16:35:02.617Z"
   },
   {
    "duration": 46,
    "start_time": "2021-12-15T16:35:02.638Z"
   },
   {
    "duration": 50,
    "start_time": "2021-12-15T16:35:02.686Z"
   },
   {
    "duration": 14,
    "start_time": "2021-12-15T16:35:53.741Z"
   },
   {
    "duration": 22,
    "start_time": "2021-12-15T16:38:24.556Z"
   },
   {
    "duration": 13,
    "start_time": "2021-12-15T16:38:56.125Z"
   },
   {
    "duration": 23,
    "start_time": "2021-12-15T16:39:03.170Z"
   },
   {
    "duration": 7,
    "start_time": "2021-12-15T16:39:32.389Z"
   },
   {
    "duration": 6,
    "start_time": "2021-12-15T16:39:36.860Z"
   },
   {
    "duration": 8,
    "start_time": "2021-12-15T16:40:32.219Z"
   },
   {
    "duration": 908,
    "start_time": "2021-12-15T16:40:40.646Z"
   },
   {
    "duration": 44,
    "start_time": "2021-12-15T16:40:41.557Z"
   },
   {
    "duration": 9,
    "start_time": "2021-12-15T16:40:41.604Z"
   },
   {
    "duration": 71,
    "start_time": "2021-12-15T16:40:41.616Z"
   },
   {
    "duration": 27,
    "start_time": "2021-12-15T16:40:41.692Z"
   },
   {
    "duration": 14,
    "start_time": "2021-12-15T16:40:41.722Z"
   },
   {
    "duration": 40,
    "start_time": "2021-12-15T16:40:41.739Z"
   },
   {
    "duration": 17,
    "start_time": "2021-12-15T16:40:41.786Z"
   },
   {
    "duration": 22,
    "start_time": "2021-12-15T16:40:41.807Z"
   },
   {
    "duration": 71,
    "start_time": "2021-12-15T16:40:41.832Z"
   },
   {
    "duration": 17,
    "start_time": "2021-12-15T16:40:41.905Z"
   },
   {
    "duration": 22,
    "start_time": "2021-12-15T16:40:41.925Z"
   },
   {
    "duration": 47,
    "start_time": "2021-12-15T16:40:41.950Z"
   },
   {
    "duration": 49,
    "start_time": "2021-12-15T16:40:42.000Z"
   },
   {
    "duration": 8,
    "start_time": "2021-12-15T16:40:42.051Z"
   },
   {
    "duration": 34,
    "start_time": "2021-12-15T16:40:42.061Z"
   },
   {
    "duration": 11,
    "start_time": "2021-12-15T16:40:42.097Z"
   },
   {
    "duration": 27,
    "start_time": "2021-12-15T16:40:42.110Z"
   },
   {
    "duration": 41,
    "start_time": "2021-12-15T16:40:42.140Z"
   },
   {
    "duration": 27,
    "start_time": "2021-12-15T16:40:42.185Z"
   },
   {
    "duration": 8,
    "start_time": "2021-12-15T16:40:42.215Z"
   },
   {
    "duration": 13,
    "start_time": "2021-12-15T16:40:42.225Z"
   },
   {
    "duration": 1087,
    "start_time": "2021-12-15T16:40:42.243Z"
   },
   {
    "duration": 7,
    "start_time": "2021-12-15T16:40:43.332Z"
   },
   {
    "duration": 28,
    "start_time": "2021-12-15T16:40:43.341Z"
   },
   {
    "duration": 1647,
    "start_time": "2021-12-15T16:40:43.374Z"
   },
   {
    "duration": 9,
    "start_time": "2021-12-15T16:40:45.023Z"
   },
   {
    "duration": 13,
    "start_time": "2021-12-15T16:40:45.035Z"
   },
   {
    "duration": 42,
    "start_time": "2021-12-15T16:40:45.051Z"
   },
   {
    "duration": 21,
    "start_time": "2021-12-15T16:41:30.221Z"
   },
   {
    "duration": 90,
    "start_time": "2021-12-15T16:42:03.807Z"
   },
   {
    "duration": 35,
    "start_time": "2021-12-15T16:42:13.484Z"
   },
   {
    "duration": 27,
    "start_time": "2021-12-15T16:42:24.159Z"
   },
   {
    "duration": 11,
    "start_time": "2021-12-15T16:42:36.673Z"
   },
   {
    "duration": 895,
    "start_time": "2021-12-15T16:42:45.387Z"
   },
   {
    "duration": 35,
    "start_time": "2021-12-15T16:42:46.285Z"
   },
   {
    "duration": 9,
    "start_time": "2021-12-15T16:42:46.323Z"
   },
   {
    "duration": 73,
    "start_time": "2021-12-15T16:42:46.335Z"
   },
   {
    "duration": 26,
    "start_time": "2021-12-15T16:42:46.410Z"
   },
   {
    "duration": 51,
    "start_time": "2021-12-15T16:42:46.439Z"
   },
   {
    "duration": 11,
    "start_time": "2021-12-15T16:42:46.496Z"
   },
   {
    "duration": 12,
    "start_time": "2021-12-15T16:42:46.511Z"
   },
   {
    "duration": 23,
    "start_time": "2021-12-15T16:42:46.526Z"
   },
   {
    "duration": 37,
    "start_time": "2021-12-15T16:42:46.551Z"
   },
   {
    "duration": 18,
    "start_time": "2021-12-15T16:42:46.591Z"
   },
   {
    "duration": 21,
    "start_time": "2021-12-15T16:42:46.612Z"
   },
   {
    "duration": 57,
    "start_time": "2021-12-15T16:42:46.636Z"
   },
   {
    "duration": 26,
    "start_time": "2021-12-15T16:42:46.696Z"
   },
   {
    "duration": 8,
    "start_time": "2021-12-15T16:42:46.724Z"
   },
   {
    "duration": 60,
    "start_time": "2021-12-15T16:42:46.734Z"
   },
   {
    "duration": 12,
    "start_time": "2021-12-15T16:42:46.796Z"
   },
   {
    "duration": 23,
    "start_time": "2021-12-15T16:42:46.810Z"
   },
   {
    "duration": 39,
    "start_time": "2021-12-15T16:42:46.835Z"
   },
   {
    "duration": 29,
    "start_time": "2021-12-15T16:42:46.879Z"
   },
   {
    "duration": 9,
    "start_time": "2021-12-15T16:42:46.911Z"
   },
   {
    "duration": 21,
    "start_time": "2021-12-15T16:42:46.922Z"
   },
   {
    "duration": 1074,
    "start_time": "2021-12-15T16:42:46.947Z"
   },
   {
    "duration": 7,
    "start_time": "2021-12-15T16:42:48.024Z"
   },
   {
    "duration": 15,
    "start_time": "2021-12-15T16:42:48.033Z"
   },
   {
    "duration": 1653,
    "start_time": "2021-12-15T16:42:48.050Z"
   },
   {
    "duration": 9,
    "start_time": "2021-12-15T16:42:49.706Z"
   },
   {
    "duration": 11,
    "start_time": "2021-12-15T16:42:49.718Z"
   },
   {
    "duration": 54,
    "start_time": "2021-12-15T16:42:49.732Z"
   },
   {
    "duration": 93,
    "start_time": "2021-12-15T16:44:39.432Z"
   },
   {
    "duration": 10,
    "start_time": "2021-12-15T16:44:59.989Z"
   },
   {
    "duration": 13,
    "start_time": "2021-12-15T16:45:10.580Z"
   },
   {
    "duration": 8,
    "start_time": "2021-12-15T16:45:53.120Z"
   },
   {
    "duration": 875,
    "start_time": "2021-12-15T16:46:02.094Z"
   },
   {
    "duration": 40,
    "start_time": "2021-12-15T16:46:02.972Z"
   },
   {
    "duration": 8,
    "start_time": "2021-12-15T16:46:03.015Z"
   },
   {
    "duration": 66,
    "start_time": "2021-12-15T16:46:03.026Z"
   },
   {
    "duration": 28,
    "start_time": "2021-12-15T16:46:03.095Z"
   },
   {
    "duration": 52,
    "start_time": "2021-12-15T16:46:03.126Z"
   },
   {
    "duration": 11,
    "start_time": "2021-12-15T16:46:03.180Z"
   },
   {
    "duration": 12,
    "start_time": "2021-12-15T16:46:03.193Z"
   },
   {
    "duration": 19,
    "start_time": "2021-12-15T16:46:03.210Z"
   },
   {
    "duration": 26,
    "start_time": "2021-12-15T16:46:03.267Z"
   },
   {
    "duration": 18,
    "start_time": "2021-12-15T16:46:03.296Z"
   },
   {
    "duration": 60,
    "start_time": "2021-12-15T16:46:03.317Z"
   },
   {
    "duration": 23,
    "start_time": "2021-12-15T16:46:03.380Z"
   },
   {
    "duration": 25,
    "start_time": "2021-12-15T16:46:03.405Z"
   },
   {
    "duration": 41,
    "start_time": "2021-12-15T16:46:03.433Z"
   },
   {
    "duration": 22,
    "start_time": "2021-12-15T16:46:03.477Z"
   },
   {
    "duration": 10,
    "start_time": "2021-12-15T16:46:03.502Z"
   },
   {
    "duration": 10,
    "start_time": "2021-12-15T16:46:03.515Z"
   },
   {
    "duration": 68,
    "start_time": "2021-12-15T16:46:03.527Z"
   },
   {
    "duration": 25,
    "start_time": "2021-12-15T16:46:03.598Z"
   },
   {
    "duration": 44,
    "start_time": "2021-12-15T16:46:03.626Z"
   },
   {
    "duration": 11,
    "start_time": "2021-12-15T16:46:03.672Z"
   },
   {
    "duration": 1043,
    "start_time": "2021-12-15T16:46:03.686Z"
   },
   {
    "duration": 7,
    "start_time": "2021-12-15T16:46:04.731Z"
   },
   {
    "duration": 7,
    "start_time": "2021-12-15T16:46:04.740Z"
   },
   {
    "duration": 1558,
    "start_time": "2021-12-15T16:46:04.749Z"
   },
   {
    "duration": 8,
    "start_time": "2021-12-15T16:46:06.312Z"
   },
   {
    "duration": 6,
    "start_time": "2021-12-15T16:46:06.323Z"
   },
   {
    "duration": 42,
    "start_time": "2021-12-15T16:46:06.331Z"
   },
   {
    "duration": 16,
    "start_time": "2021-12-15T16:47:17.127Z"
   },
   {
    "duration": 5,
    "start_time": "2021-12-15T16:47:31.436Z"
   },
   {
    "duration": 15,
    "start_time": "2021-12-15T16:48:20.480Z"
   },
   {
    "duration": 6,
    "start_time": "2021-12-15T16:49:02.442Z"
   },
   {
    "duration": 9,
    "start_time": "2021-12-15T16:49:13.082Z"
   },
   {
    "duration": 6,
    "start_time": "2021-12-15T16:49:54.623Z"
   },
   {
    "duration": 908,
    "start_time": "2021-12-15T16:52:36.503Z"
   },
   {
    "duration": 35,
    "start_time": "2021-12-15T16:52:37.414Z"
   },
   {
    "duration": 10,
    "start_time": "2021-12-15T16:52:37.468Z"
   },
   {
    "duration": 36,
    "start_time": "2021-12-15T16:52:37.481Z"
   },
   {
    "duration": 65,
    "start_time": "2021-12-15T16:52:37.519Z"
   },
   {
    "duration": 16,
    "start_time": "2021-12-15T16:52:37.587Z"
   },
   {
    "duration": 11,
    "start_time": "2021-12-15T16:52:37.605Z"
   },
   {
    "duration": 8,
    "start_time": "2021-12-15T16:52:37.620Z"
   },
   {
    "duration": 57,
    "start_time": "2021-12-15T16:52:37.631Z"
   },
   {
    "duration": 21,
    "start_time": "2021-12-15T16:52:37.691Z"
   },
   {
    "duration": 18,
    "start_time": "2021-12-15T16:52:37.714Z"
   },
   {
    "duration": 59,
    "start_time": "2021-12-15T16:52:37.735Z"
   },
   {
    "duration": 21,
    "start_time": "2021-12-15T16:52:37.797Z"
   },
   {
    "duration": 49,
    "start_time": "2021-12-15T16:52:37.820Z"
   },
   {
    "duration": 13,
    "start_time": "2021-12-15T16:52:37.872Z"
   },
   {
    "duration": 18,
    "start_time": "2021-12-15T16:52:37.888Z"
   },
   {
    "duration": 8,
    "start_time": "2021-12-15T16:52:37.909Z"
   },
   {
    "duration": 51,
    "start_time": "2021-12-15T16:52:37.920Z"
   },
   {
    "duration": 32,
    "start_time": "2021-12-15T16:52:37.973Z"
   },
   {
    "duration": 23,
    "start_time": "2021-12-15T16:52:38.008Z"
   },
   {
    "duration": 35,
    "start_time": "2021-12-15T16:52:38.034Z"
   },
   {
    "duration": 12,
    "start_time": "2021-12-15T16:52:38.071Z"
   },
   {
    "duration": 1148,
    "start_time": "2021-12-15T16:52:38.088Z"
   },
   {
    "duration": 7,
    "start_time": "2021-12-15T16:52:39.239Z"
   },
   {
    "duration": 26,
    "start_time": "2021-12-15T16:52:39.248Z"
   },
   {
    "duration": 1636,
    "start_time": "2021-12-15T16:52:39.276Z"
   },
   {
    "duration": 10,
    "start_time": "2021-12-15T16:52:40.915Z"
   },
   {
    "duration": 20,
    "start_time": "2021-12-15T16:52:40.928Z"
   },
   {
    "duration": 40,
    "start_time": "2021-12-15T16:52:40.951Z"
   },
   {
    "duration": 9,
    "start_time": "2021-12-15T16:57:47.872Z"
   },
   {
    "duration": 5,
    "start_time": "2021-12-15T16:58:14.608Z"
   },
   {
    "duration": 904,
    "start_time": "2021-12-15T16:58:28.086Z"
   },
   {
    "duration": 35,
    "start_time": "2021-12-15T16:58:28.994Z"
   },
   {
    "duration": 8,
    "start_time": "2021-12-15T16:58:29.033Z"
   },
   {
    "duration": 74,
    "start_time": "2021-12-15T16:58:29.044Z"
   },
   {
    "duration": 26,
    "start_time": "2021-12-15T16:58:29.121Z"
   },
   {
    "duration": 30,
    "start_time": "2021-12-15T16:58:29.150Z"
   },
   {
    "duration": 17,
    "start_time": "2021-12-15T16:58:29.182Z"
   },
   {
    "duration": 10,
    "start_time": "2021-12-15T16:58:29.203Z"
   },
   {
    "duration": 27,
    "start_time": "2021-12-15T16:58:29.217Z"
   },
   {
    "duration": 72,
    "start_time": "2021-12-15T16:58:29.247Z"
   },
   {
    "duration": 34,
    "start_time": "2021-12-15T16:58:29.322Z"
   },
   {
    "duration": 46,
    "start_time": "2021-12-15T16:58:29.359Z"
   },
   {
    "duration": 22,
    "start_time": "2021-12-15T16:58:29.408Z"
   },
   {
    "duration": 43,
    "start_time": "2021-12-15T16:58:29.433Z"
   },
   {
    "duration": 17,
    "start_time": "2021-12-15T16:58:29.478Z"
   },
   {
    "duration": 33,
    "start_time": "2021-12-15T16:58:29.497Z"
   },
   {
    "duration": 23,
    "start_time": "2021-12-15T16:58:29.533Z"
   },
   {
    "duration": 35,
    "start_time": "2021-12-15T16:58:29.559Z"
   },
   {
    "duration": 39,
    "start_time": "2021-12-15T16:58:29.597Z"
   },
   {
    "duration": 42,
    "start_time": "2021-12-15T16:58:29.638Z"
   },
   {
    "duration": 13,
    "start_time": "2021-12-15T16:58:29.682Z"
   },
   {
    "duration": 14,
    "start_time": "2021-12-15T16:58:29.697Z"
   },
   {
    "duration": 1108,
    "start_time": "2021-12-15T16:58:29.716Z"
   },
   {
    "duration": 7,
    "start_time": "2021-12-15T16:58:30.829Z"
   },
   {
    "duration": 43,
    "start_time": "2021-12-15T16:58:30.839Z"
   },
   {
    "duration": 1709,
    "start_time": "2021-12-15T16:58:30.884Z"
   },
   {
    "duration": 11,
    "start_time": "2021-12-15T16:58:32.596Z"
   },
   {
    "duration": 6,
    "start_time": "2021-12-15T16:58:32.610Z"
   },
   {
    "duration": 62,
    "start_time": "2021-12-15T16:58:32.619Z"
   },
   {
    "duration": 6,
    "start_time": "2021-12-15T16:59:54.416Z"
   },
   {
    "duration": 6,
    "start_time": "2021-12-15T17:00:03.140Z"
   },
   {
    "duration": 848,
    "start_time": "2021-12-15T17:00:16.131Z"
   },
   {
    "duration": 36,
    "start_time": "2021-12-15T17:00:16.982Z"
   },
   {
    "duration": 7,
    "start_time": "2021-12-15T17:00:17.021Z"
   },
   {
    "duration": 71,
    "start_time": "2021-12-15T17:00:17.031Z"
   },
   {
    "duration": 29,
    "start_time": "2021-12-15T17:00:17.105Z"
   },
   {
    "duration": 41,
    "start_time": "2021-12-15T17:00:17.137Z"
   },
   {
    "duration": 16,
    "start_time": "2021-12-15T17:00:17.181Z"
   },
   {
    "duration": 35,
    "start_time": "2021-12-15T17:00:17.201Z"
   },
   {
    "duration": 55,
    "start_time": "2021-12-15T17:00:17.240Z"
   },
   {
    "duration": 51,
    "start_time": "2021-12-15T17:00:17.297Z"
   },
   {
    "duration": 47,
    "start_time": "2021-12-15T17:00:17.351Z"
   },
   {
    "duration": 44,
    "start_time": "2021-12-15T17:00:17.401Z"
   },
   {
    "duration": 32,
    "start_time": "2021-12-15T17:00:17.448Z"
   },
   {
    "duration": 32,
    "start_time": "2021-12-15T17:00:17.483Z"
   },
   {
    "duration": 17,
    "start_time": "2021-12-15T17:00:17.517Z"
   },
   {
    "duration": 39,
    "start_time": "2021-12-15T17:00:17.537Z"
   },
   {
    "duration": 23,
    "start_time": "2021-12-15T17:00:17.579Z"
   },
   {
    "duration": 34,
    "start_time": "2021-12-15T17:00:17.604Z"
   },
   {
    "duration": 43,
    "start_time": "2021-12-15T17:00:17.640Z"
   },
   {
    "duration": 27,
    "start_time": "2021-12-15T17:00:17.686Z"
   },
   {
    "duration": 14,
    "start_time": "2021-12-15T17:00:17.715Z"
   },
   {
    "duration": 48,
    "start_time": "2021-12-15T17:00:17.732Z"
   },
   {
    "duration": 1100,
    "start_time": "2021-12-15T17:00:17.784Z"
   },
   {
    "duration": 8,
    "start_time": "2021-12-15T17:00:18.888Z"
   },
   {
    "duration": 27,
    "start_time": "2021-12-15T17:00:18.898Z"
   },
   {
    "duration": 1679,
    "start_time": "2021-12-15T17:00:18.927Z"
   },
   {
    "duration": 9,
    "start_time": "2021-12-15T17:00:20.609Z"
   },
   {
    "duration": 19,
    "start_time": "2021-12-15T17:00:20.621Z"
   },
   {
    "duration": 17,
    "start_time": "2021-12-15T17:00:20.642Z"
   },
   {
    "duration": 35,
    "start_time": "2021-12-15T17:00:20.661Z"
   },
   {
    "duration": 904,
    "start_time": "2021-12-15T17:05:33.160Z"
   },
   {
    "duration": 38,
    "start_time": "2021-12-15T17:05:34.067Z"
   },
   {
    "duration": 8,
    "start_time": "2021-12-15T17:05:34.108Z"
   },
   {
    "duration": 62,
    "start_time": "2021-12-15T17:05:34.119Z"
   },
   {
    "duration": 28,
    "start_time": "2021-12-15T17:05:34.184Z"
   },
   {
    "duration": 17,
    "start_time": "2021-12-15T17:05:34.215Z"
   },
   {
    "duration": 47,
    "start_time": "2021-12-15T17:05:34.235Z"
   },
   {
    "duration": 13,
    "start_time": "2021-12-15T17:05:34.284Z"
   },
   {
    "duration": 29,
    "start_time": "2021-12-15T17:05:34.301Z"
   },
   {
    "duration": 48,
    "start_time": "2021-12-15T17:05:34.333Z"
   },
   {
    "duration": 34,
    "start_time": "2021-12-15T17:05:34.383Z"
   },
   {
    "duration": 28,
    "start_time": "2021-12-15T17:05:34.419Z"
   },
   {
    "duration": 27,
    "start_time": "2021-12-15T17:05:34.450Z"
   },
   {
    "duration": 34,
    "start_time": "2021-12-15T17:05:34.479Z"
   },
   {
    "duration": 8,
    "start_time": "2021-12-15T17:05:34.516Z"
   },
   {
    "duration": 48,
    "start_time": "2021-12-15T17:05:34.527Z"
   },
   {
    "duration": 13,
    "start_time": "2021-12-15T17:05:34.578Z"
   },
   {
    "duration": 28,
    "start_time": "2021-12-15T17:05:34.594Z"
   },
   {
    "duration": 53,
    "start_time": "2021-12-15T17:05:34.624Z"
   },
   {
    "duration": 27,
    "start_time": "2021-12-15T17:05:34.680Z"
   },
   {
    "duration": 6,
    "start_time": "2021-12-15T17:05:34.709Z"
   },
   {
    "duration": 37,
    "start_time": "2021-12-15T17:05:34.717Z"
   },
   {
    "duration": 1027,
    "start_time": "2021-12-15T17:05:34.756Z"
   },
   {
    "duration": 7,
    "start_time": "2021-12-15T17:05:35.785Z"
   },
   {
    "duration": 22,
    "start_time": "2021-12-15T17:05:35.794Z"
   },
   {
    "duration": 1630,
    "start_time": "2021-12-15T17:05:35.818Z"
   },
   {
    "duration": 9,
    "start_time": "2021-12-15T17:05:37.469Z"
   },
   {
    "duration": 15,
    "start_time": "2021-12-15T17:05:37.482Z"
   },
   {
    "duration": 18,
    "start_time": "2021-12-15T17:05:37.500Z"
   },
   {
    "duration": 25,
    "start_time": "2021-12-15T17:05:37.520Z"
   },
   {
    "duration": 6,
    "start_time": "2021-12-15T17:05:55.069Z"
   },
   {
    "duration": 995,
    "start_time": "2021-12-15T17:16:47.055Z"
   },
   {
    "duration": 55,
    "start_time": "2021-12-15T17:16:48.053Z"
   },
   {
    "duration": 11,
    "start_time": "2021-12-15T17:16:48.112Z"
   },
   {
    "duration": 78,
    "start_time": "2021-12-15T17:16:48.126Z"
   },
   {
    "duration": 36,
    "start_time": "2021-12-15T17:16:48.207Z"
   },
   {
    "duration": 48,
    "start_time": "2021-12-15T17:16:48.246Z"
   },
   {
    "duration": 12,
    "start_time": "2021-12-15T17:16:48.297Z"
   },
   {
    "duration": 12,
    "start_time": "2021-12-15T17:16:48.314Z"
   },
   {
    "duration": 55,
    "start_time": "2021-12-15T17:16:48.331Z"
   },
   {
    "duration": 25,
    "start_time": "2021-12-15T17:16:48.389Z"
   },
   {
    "duration": 53,
    "start_time": "2021-12-15T17:16:48.417Z"
   },
   {
    "duration": 24,
    "start_time": "2021-12-15T17:16:48.472Z"
   },
   {
    "duration": 21,
    "start_time": "2021-12-15T17:16:48.499Z"
   },
   {
    "duration": 58,
    "start_time": "2021-12-15T17:16:48.523Z"
   },
   {
    "duration": 11,
    "start_time": "2021-12-15T17:16:48.584Z"
   },
   {
    "duration": 20,
    "start_time": "2021-12-15T17:16:48.598Z"
   },
   {
    "duration": 58,
    "start_time": "2021-12-15T17:16:48.621Z"
   },
   {
    "duration": 19,
    "start_time": "2021-12-15T17:16:48.682Z"
   },
   {
    "duration": 30,
    "start_time": "2021-12-15T17:16:48.704Z"
   },
   {
    "duration": 51,
    "start_time": "2021-12-15T17:16:48.737Z"
   },
   {
    "duration": 7,
    "start_time": "2021-12-15T17:16:48.791Z"
   },
   {
    "duration": 14,
    "start_time": "2021-12-15T17:16:48.801Z"
   },
   {
    "duration": 1124,
    "start_time": "2021-12-15T17:16:48.821Z"
   },
   {
    "duration": 22,
    "start_time": "2021-12-15T17:16:49.948Z"
   },
   {
    "duration": 8,
    "start_time": "2021-12-15T17:16:49.973Z"
   },
   {
    "duration": 1663,
    "start_time": "2021-12-15T17:16:49.984Z"
   },
   {
    "duration": 33,
    "start_time": "2021-12-15T17:16:51.650Z"
   },
   {
    "duration": 7,
    "start_time": "2021-12-15T17:16:51.686Z"
   },
   {
    "duration": 50,
    "start_time": "2021-12-15T17:16:51.696Z"
   },
   {
    "duration": 35,
    "start_time": "2021-12-15T17:16:51.749Z"
   },
   {
    "duration": 909,
    "start_time": "2021-12-15T17:20:21.555Z"
   },
   {
    "duration": 45,
    "start_time": "2021-12-15T17:20:22.466Z"
   },
   {
    "duration": 20,
    "start_time": "2021-12-15T17:20:22.514Z"
   },
   {
    "duration": 74,
    "start_time": "2021-12-15T17:20:22.537Z"
   },
   {
    "duration": 54,
    "start_time": "2021-12-15T17:20:22.614Z"
   },
   {
    "duration": 19,
    "start_time": "2021-12-15T17:20:22.673Z"
   },
   {
    "duration": 14,
    "start_time": "2021-12-15T17:20:22.696Z"
   },
   {
    "duration": 24,
    "start_time": "2021-12-15T17:20:22.716Z"
   },
   {
    "duration": 46,
    "start_time": "2021-12-15T17:20:22.743Z"
   },
   {
    "duration": 50,
    "start_time": "2021-12-15T17:20:22.792Z"
   },
   {
    "duration": 44,
    "start_time": "2021-12-15T17:20:22.844Z"
   },
   {
    "duration": 39,
    "start_time": "2021-12-15T17:20:22.891Z"
   },
   {
    "duration": 22,
    "start_time": "2021-12-15T17:20:22.933Z"
   },
   {
    "duration": 43,
    "start_time": "2021-12-15T17:20:22.958Z"
   },
   {
    "duration": 13,
    "start_time": "2021-12-15T17:20:23.004Z"
   },
   {
    "duration": 41,
    "start_time": "2021-12-15T17:20:23.020Z"
   },
   {
    "duration": 22,
    "start_time": "2021-12-15T17:20:23.064Z"
   },
   {
    "duration": 37,
    "start_time": "2021-12-15T17:20:23.092Z"
   },
   {
    "duration": 53,
    "start_time": "2021-12-15T17:20:23.132Z"
   },
   {
    "duration": 32,
    "start_time": "2021-12-15T17:20:23.188Z"
   },
   {
    "duration": 9,
    "start_time": "2021-12-15T17:20:23.223Z"
   },
   {
    "duration": 33,
    "start_time": "2021-12-15T17:20:23.234Z"
   },
   {
    "duration": 1040,
    "start_time": "2021-12-15T17:20:23.272Z"
   },
   {
    "duration": 9,
    "start_time": "2021-12-15T17:20:24.315Z"
   },
   {
    "duration": 8,
    "start_time": "2021-12-15T17:20:24.327Z"
   },
   {
    "duration": 1753,
    "start_time": "2021-12-15T17:20:24.339Z"
   },
   {
    "duration": 9,
    "start_time": "2021-12-15T17:20:26.095Z"
   },
   {
    "duration": 16,
    "start_time": "2021-12-15T17:20:26.106Z"
   },
   {
    "duration": 12,
    "start_time": "2021-12-15T17:20:26.125Z"
   },
   {
    "duration": 41,
    "start_time": "2021-12-15T17:20:26.139Z"
   },
   {
    "duration": 933,
    "start_time": "2021-12-15T17:29:56.255Z"
   },
   {
    "duration": 35,
    "start_time": "2021-12-15T17:29:57.191Z"
   },
   {
    "duration": 7,
    "start_time": "2021-12-15T17:29:57.230Z"
   },
   {
    "duration": 60,
    "start_time": "2021-12-15T17:29:57.240Z"
   },
   {
    "duration": 39,
    "start_time": "2021-12-15T17:29:57.303Z"
   },
   {
    "duration": 35,
    "start_time": "2021-12-15T17:29:57.345Z"
   },
   {
    "duration": 11,
    "start_time": "2021-12-15T17:29:57.383Z"
   },
   {
    "duration": 24,
    "start_time": "2021-12-15T17:29:57.397Z"
   },
   {
    "duration": 54,
    "start_time": "2021-12-15T17:29:57.425Z"
   },
   {
    "duration": 26,
    "start_time": "2021-12-15T17:29:57.483Z"
   },
   {
    "duration": 16,
    "start_time": "2021-12-15T17:29:57.512Z"
   },
   {
    "duration": 51,
    "start_time": "2021-12-15T17:29:57.530Z"
   },
   {
    "duration": 24,
    "start_time": "2021-12-15T17:29:57.585Z"
   },
   {
    "duration": 55,
    "start_time": "2021-12-15T17:29:57.612Z"
   },
   {
    "duration": 14,
    "start_time": "2021-12-15T17:29:57.671Z"
   },
   {
    "duration": 28,
    "start_time": "2021-12-15T17:29:57.688Z"
   },
   {
    "duration": 10,
    "start_time": "2021-12-15T17:29:57.718Z"
   },
   {
    "duration": 43,
    "start_time": "2021-12-15T17:29:57.731Z"
   },
   {
    "duration": 48,
    "start_time": "2021-12-15T17:29:57.779Z"
   },
   {
    "duration": 23,
    "start_time": "2021-12-15T17:29:57.830Z"
   },
   {
    "duration": 18,
    "start_time": "2021-12-15T17:29:57.856Z"
   },
   {
    "duration": 15,
    "start_time": "2021-12-15T17:29:57.877Z"
   },
   {
    "duration": 1101,
    "start_time": "2021-12-15T17:29:57.897Z"
   },
   {
    "duration": 11,
    "start_time": "2021-12-15T17:29:59.002Z"
   },
   {
    "duration": 7,
    "start_time": "2021-12-15T17:29:59.016Z"
   },
   {
    "duration": 1823,
    "start_time": "2021-12-15T17:29:59.026Z"
   },
   {
    "duration": 30,
    "start_time": "2021-12-15T17:30:00.851Z"
   },
   {
    "duration": 24,
    "start_time": "2021-12-15T17:30:00.883Z"
   },
   {
    "duration": 50,
    "start_time": "2021-12-15T17:30:00.910Z"
   },
   {
    "duration": 45,
    "start_time": "2021-12-15T17:30:00.963Z"
   },
   {
    "duration": 18,
    "start_time": "2021-12-15T17:31:15.097Z"
   },
   {
    "duration": 6,
    "start_time": "2021-12-15T17:37:55.998Z"
   },
   {
    "duration": 5,
    "start_time": "2021-12-15T17:38:46.091Z"
   },
   {
    "duration": 8,
    "start_time": "2021-12-15T17:38:52.627Z"
   },
   {
    "duration": 12,
    "start_time": "2021-12-15T17:41:18.303Z"
   },
   {
    "duration": 19,
    "start_time": "2021-12-15T17:41:29.957Z"
   },
   {
    "duration": 13,
    "start_time": "2021-12-15T17:41:40.743Z"
   },
   {
    "duration": 8,
    "start_time": "2021-12-15T17:42:27.867Z"
   },
   {
    "duration": 9,
    "start_time": "2021-12-15T17:42:33.957Z"
   },
   {
    "duration": 8,
    "start_time": "2021-12-15T17:42:39.236Z"
   },
   {
    "duration": 19,
    "start_time": "2021-12-15T17:43:12.706Z"
   },
   {
    "duration": 8,
    "start_time": "2021-12-15T17:43:26.686Z"
   },
   {
    "duration": 17,
    "start_time": "2021-12-15T17:43:36.251Z"
   },
   {
    "duration": 16,
    "start_time": "2021-12-15T18:17:48.913Z"
   },
   {
    "duration": 7,
    "start_time": "2021-12-15T18:18:03.494Z"
   },
   {
    "duration": 129,
    "start_time": "2021-12-15T18:25:35.393Z"
   },
   {
    "duration": 161,
    "start_time": "2021-12-15T18:27:47.074Z"
   },
   {
    "duration": 18,
    "start_time": "2021-12-15T18:30:53.790Z"
   },
   {
    "duration": 15,
    "start_time": "2021-12-15T18:31:16.442Z"
   },
   {
    "duration": 16,
    "start_time": "2021-12-15T18:31:21.805Z"
   },
   {
    "duration": 73,
    "start_time": "2021-12-15T18:31:50.857Z"
   },
   {
    "duration": 25,
    "start_time": "2021-12-15T18:33:12.667Z"
   },
   {
    "duration": 14,
    "start_time": "2021-12-15T18:34:39.041Z"
   },
   {
    "duration": 14,
    "start_time": "2021-12-15T18:34:45.336Z"
   },
   {
    "duration": 16,
    "start_time": "2021-12-15T18:34:51.748Z"
   },
   {
    "duration": 18,
    "start_time": "2021-12-15T18:35:20.693Z"
   },
   {
    "duration": 20,
    "start_time": "2021-12-15T18:35:26.893Z"
   },
   {
    "duration": 15,
    "start_time": "2021-12-15T18:36:02.769Z"
   },
   {
    "duration": 30,
    "start_time": "2021-12-15T18:36:24.957Z"
   },
   {
    "duration": 16,
    "start_time": "2021-12-15T18:37:03.210Z"
   },
   {
    "duration": 18,
    "start_time": "2021-12-15T18:37:32.236Z"
   },
   {
    "duration": 45,
    "start_time": "2021-12-15T18:38:40.170Z"
   },
   {
    "duration": 147,
    "start_time": "2021-12-15T18:39:14.421Z"
   },
   {
    "duration": 18,
    "start_time": "2021-12-15T18:39:31.045Z"
   },
   {
    "duration": 33,
    "start_time": "2021-12-15T18:41:43.275Z"
   },
   {
    "duration": 409,
    "start_time": "2021-12-15T18:45:03.741Z"
   },
   {
    "duration": 88,
    "start_time": "2021-12-15T18:45:42.355Z"
   },
   {
    "duration": 13,
    "start_time": "2021-12-15T18:46:09.082Z"
   },
   {
    "duration": 25,
    "start_time": "2021-12-15T18:46:45.270Z"
   },
   {
    "duration": 103,
    "start_time": "2021-12-15T18:46:47.035Z"
   },
   {
    "duration": 8,
    "start_time": "2021-12-15T18:46:51.206Z"
   },
   {
    "duration": 246,
    "start_time": "2021-12-15T18:49:26.917Z"
   },
   {
    "duration": 336,
    "start_time": "2021-12-15T18:50:27.631Z"
   },
   {
    "duration": 444,
    "start_time": "2021-12-15T18:50:47.874Z"
   },
   {
    "duration": 293,
    "start_time": "2021-12-15T18:54:36.357Z"
   },
   {
    "duration": 17,
    "start_time": "2021-12-15T18:56:14.819Z"
   },
   {
    "duration": 12,
    "start_time": "2021-12-15T18:57:59.095Z"
   },
   {
    "duration": 24,
    "start_time": "2021-12-15T18:58:11.408Z"
   },
   {
    "duration": 19,
    "start_time": "2021-12-15T19:07:27.173Z"
   },
   {
    "duration": 283,
    "start_time": "2021-12-15T19:08:22.612Z"
   },
   {
    "duration": 24,
    "start_time": "2021-12-15T19:11:08.391Z"
   },
   {
    "duration": 281,
    "start_time": "2021-12-15T19:11:32.131Z"
   },
   {
    "duration": 266,
    "start_time": "2021-12-15T19:12:15.356Z"
   },
   {
    "duration": 16,
    "start_time": "2021-12-15T19:13:33.585Z"
   },
   {
    "duration": 19,
    "start_time": "2021-12-15T19:15:05.834Z"
   },
   {
    "duration": 294,
    "start_time": "2021-12-15T19:15:35.379Z"
   },
   {
    "duration": 28,
    "start_time": "2021-12-15T19:16:19.259Z"
   },
   {
    "duration": 319,
    "start_time": "2021-12-15T19:17:39.464Z"
   },
   {
    "duration": 21,
    "start_time": "2021-12-15T19:17:51.188Z"
   },
   {
    "duration": 16,
    "start_time": "2021-12-15T19:18:05.600Z"
   },
   {
    "duration": 19,
    "start_time": "2021-12-15T19:18:16.344Z"
   },
   {
    "duration": 16,
    "start_time": "2021-12-15T19:18:31.941Z"
   },
   {
    "duration": 255,
    "start_time": "2021-12-15T19:18:38.117Z"
   },
   {
    "duration": 277,
    "start_time": "2021-12-15T19:19:51.218Z"
   },
   {
    "duration": 17,
    "start_time": "2021-12-15T19:20:47.087Z"
   },
   {
    "duration": 278,
    "start_time": "2021-12-15T19:20:50.675Z"
   },
   {
    "duration": 879,
    "start_time": "2021-12-15T19:23:00.203Z"
   },
   {
    "duration": 36,
    "start_time": "2021-12-15T19:23:01.084Z"
   },
   {
    "duration": 53,
    "start_time": "2021-12-15T19:23:01.123Z"
   },
   {
    "duration": 126,
    "start_time": "2021-12-15T19:23:01.180Z"
   },
   {
    "duration": 42,
    "start_time": "2021-12-15T19:23:01.309Z"
   },
   {
    "duration": 47,
    "start_time": "2021-12-15T19:23:01.353Z"
   },
   {
    "duration": 84,
    "start_time": "2021-12-15T19:23:01.402Z"
   },
   {
    "duration": 34,
    "start_time": "2021-12-15T19:23:01.489Z"
   },
   {
    "duration": 63,
    "start_time": "2021-12-15T19:23:01.529Z"
   },
   {
    "duration": 85,
    "start_time": "2021-12-15T19:23:01.595Z"
   },
   {
    "duration": 54,
    "start_time": "2021-12-15T19:23:01.683Z"
   },
   {
    "duration": 33,
    "start_time": "2021-12-15T19:23:01.740Z"
   },
   {
    "duration": 40,
    "start_time": "2021-12-15T19:23:01.776Z"
   },
   {
    "duration": 39,
    "start_time": "2021-12-15T19:23:01.818Z"
   },
   {
    "duration": 13,
    "start_time": "2021-12-15T19:23:01.872Z"
   },
   {
    "duration": 29,
    "start_time": "2021-12-15T19:23:01.887Z"
   },
   {
    "duration": 14,
    "start_time": "2021-12-15T19:23:01.919Z"
   },
   {
    "duration": 44,
    "start_time": "2021-12-15T19:23:01.936Z"
   },
   {
    "duration": 55,
    "start_time": "2021-12-15T19:23:01.983Z"
   },
   {
    "duration": 23,
    "start_time": "2021-12-15T19:23:02.041Z"
   },
   {
    "duration": 41,
    "start_time": "2021-12-15T19:23:02.067Z"
   },
   {
    "duration": 22,
    "start_time": "2021-12-15T19:23:02.111Z"
   },
   {
    "duration": 1074,
    "start_time": "2021-12-15T19:23:02.136Z"
   },
   {
    "duration": 7,
    "start_time": "2021-12-15T19:23:03.213Z"
   },
   {
    "duration": 9,
    "start_time": "2021-12-15T19:23:03.223Z"
   },
   {
    "duration": 1878,
    "start_time": "2021-12-15T19:23:03.235Z"
   },
   {
    "duration": 20,
    "start_time": "2021-12-15T19:23:05.117Z"
   },
   {
    "duration": 39,
    "start_time": "2021-12-15T19:23:05.141Z"
   },
   {
    "duration": 371,
    "start_time": "2021-12-15T19:23:05.183Z"
   },
   {
    "duration": 409,
    "start_time": "2021-12-15T19:23:56.691Z"
   },
   {
    "duration": 285,
    "start_time": "2021-12-15T19:24:05.161Z"
   },
   {
    "duration": 271,
    "start_time": "2021-12-15T19:26:12.894Z"
   },
   {
    "duration": 849,
    "start_time": "2021-12-15T19:27:16.413Z"
   },
   {
    "duration": 36,
    "start_time": "2021-12-15T19:27:17.267Z"
   },
   {
    "duration": 17,
    "start_time": "2021-12-15T19:27:17.306Z"
   },
   {
    "duration": 75,
    "start_time": "2021-12-15T19:27:17.326Z"
   },
   {
    "duration": 27,
    "start_time": "2021-12-15T19:27:17.403Z"
   },
   {
    "duration": 23,
    "start_time": "2021-12-15T19:27:17.433Z"
   },
   {
    "duration": 22,
    "start_time": "2021-12-15T19:27:17.469Z"
   },
   {
    "duration": 58,
    "start_time": "2021-12-15T19:27:17.497Z"
   },
   {
    "duration": 41,
    "start_time": "2021-12-15T19:27:17.559Z"
   },
   {
    "duration": 31,
    "start_time": "2021-12-15T19:27:17.603Z"
   },
   {
    "duration": 42,
    "start_time": "2021-12-15T19:27:17.637Z"
   },
   {
    "duration": 23,
    "start_time": "2021-12-15T19:27:17.681Z"
   },
   {
    "duration": 38,
    "start_time": "2021-12-15T19:27:17.706Z"
   },
   {
    "duration": 43,
    "start_time": "2021-12-15T19:27:17.746Z"
   },
   {
    "duration": 12,
    "start_time": "2021-12-15T19:27:17.792Z"
   },
   {
    "duration": 19,
    "start_time": "2021-12-15T19:27:17.806Z"
   },
   {
    "duration": 21,
    "start_time": "2021-12-15T19:27:17.828Z"
   },
   {
    "duration": 29,
    "start_time": "2021-12-15T19:27:17.851Z"
   },
   {
    "duration": 32,
    "start_time": "2021-12-15T19:27:17.883Z"
   },
   {
    "duration": 23,
    "start_time": "2021-12-15T19:27:17.918Z"
   },
   {
    "duration": 36,
    "start_time": "2021-12-15T19:27:17.943Z"
   },
   {
    "duration": 8,
    "start_time": "2021-12-15T19:27:17.981Z"
   },
   {
    "duration": 1020,
    "start_time": "2021-12-15T19:27:17.993Z"
   },
   {
    "duration": 6,
    "start_time": "2021-12-15T19:27:19.016Z"
   },
   {
    "duration": 47,
    "start_time": "2021-12-15T19:27:19.025Z"
   },
   {
    "duration": 1768,
    "start_time": "2021-12-15T19:27:19.074Z"
   },
   {
    "duration": 40,
    "start_time": "2021-12-15T19:27:20.845Z"
   },
   {
    "duration": 27,
    "start_time": "2021-12-15T19:27:20.888Z"
   },
   {
    "duration": 530,
    "start_time": "2021-12-15T19:27:20.917Z"
   },
   {
    "duration": 289,
    "start_time": "2021-12-15T19:27:28.476Z"
   },
   {
    "duration": 30,
    "start_time": "2021-12-15T19:27:50.861Z"
   },
   {
    "duration": 266,
    "start_time": "2021-12-15T19:28:00.952Z"
   },
   {
    "duration": 26,
    "start_time": "2021-12-15T19:29:00.386Z"
   },
   {
    "duration": 223,
    "start_time": "2021-12-15T19:31:07.058Z"
   },
   {
    "duration": 229,
    "start_time": "2021-12-15T19:31:15.549Z"
   },
   {
    "duration": 238,
    "start_time": "2021-12-15T19:31:54.155Z"
   },
   {
    "duration": 10893,
    "start_time": "2021-12-15T19:32:05.593Z"
   },
   {
    "duration": 231,
    "start_time": "2021-12-15T19:32:27.925Z"
   },
   {
    "duration": 905,
    "start_time": "2021-12-15T19:32:31.536Z"
   },
   {
    "duration": 55,
    "start_time": "2021-12-15T19:32:32.444Z"
   },
   {
    "duration": 9,
    "start_time": "2021-12-15T19:32:32.502Z"
   },
   {
    "duration": 71,
    "start_time": "2021-12-15T19:32:32.514Z"
   },
   {
    "duration": 31,
    "start_time": "2021-12-15T19:32:32.588Z"
   },
   {
    "duration": 14,
    "start_time": "2021-12-15T19:32:32.622Z"
   },
   {
    "duration": 39,
    "start_time": "2021-12-15T19:32:32.639Z"
   },
   {
    "duration": 16,
    "start_time": "2021-12-15T19:32:32.687Z"
   },
   {
    "duration": 24,
    "start_time": "2021-12-15T19:32:32.707Z"
   },
   {
    "duration": 41,
    "start_time": "2021-12-15T19:32:32.734Z"
   },
   {
    "duration": 27,
    "start_time": "2021-12-15T19:32:32.778Z"
   },
   {
    "duration": 21,
    "start_time": "2021-12-15T19:32:32.808Z"
   },
   {
    "duration": 51,
    "start_time": "2021-12-15T19:32:32.832Z"
   },
   {
    "duration": 32,
    "start_time": "2021-12-15T19:32:32.886Z"
   },
   {
    "duration": 8,
    "start_time": "2021-12-15T19:32:32.920Z"
   },
   {
    "duration": 56,
    "start_time": "2021-12-15T19:32:32.931Z"
   },
   {
    "duration": 14,
    "start_time": "2021-12-15T19:32:32.989Z"
   },
   {
    "duration": 11,
    "start_time": "2021-12-15T19:32:33.005Z"
   },
   {
    "duration": 56,
    "start_time": "2021-12-15T19:32:33.018Z"
   },
   {
    "duration": 28,
    "start_time": "2021-12-15T19:32:33.076Z"
   },
   {
    "duration": 8,
    "start_time": "2021-12-15T19:32:33.106Z"
   },
   {
    "duration": 8,
    "start_time": "2021-12-15T19:32:33.117Z"
   },
   {
    "duration": 1085,
    "start_time": "2021-12-15T19:32:33.129Z"
   },
   {
    "duration": 6,
    "start_time": "2021-12-15T19:32:34.217Z"
   },
   {
    "duration": 27,
    "start_time": "2021-12-15T19:32:34.226Z"
   },
   {
    "duration": 1699,
    "start_time": "2021-12-15T19:32:34.256Z"
   },
   {
    "duration": 38,
    "start_time": "2021-12-15T19:32:35.957Z"
   },
   {
    "duration": 7056,
    "start_time": "2021-12-15T19:32:36.000Z"
   },
   {
    "duration": 181,
    "start_time": "2021-12-15T19:32:42.878Z"
   },
   {
    "duration": 180,
    "start_time": "2021-12-15T19:32:42.880Z"
   },
   {
    "duration": 25,
    "start_time": "2021-12-15T19:33:51.482Z"
   },
   {
    "duration": 252,
    "start_time": "2021-12-15T19:37:20.314Z"
   },
   {
    "duration": 21,
    "start_time": "2021-12-15T19:43:03.475Z"
   },
   {
    "duration": 20,
    "start_time": "2021-12-15T19:43:14.887Z"
   },
   {
    "duration": 15,
    "start_time": "2021-12-15T19:47:30.446Z"
   },
   {
    "duration": 21,
    "start_time": "2021-12-15T19:47:39.316Z"
   },
   {
    "duration": 285,
    "start_time": "2021-12-15T19:47:49.164Z"
   },
   {
    "duration": 878,
    "start_time": "2021-12-15T19:53:38.188Z"
   },
   {
    "duration": 39,
    "start_time": "2021-12-15T19:53:39.069Z"
   },
   {
    "duration": 7,
    "start_time": "2021-12-15T19:53:39.111Z"
   },
   {
    "duration": 65,
    "start_time": "2021-12-15T19:53:39.121Z"
   },
   {
    "duration": 26,
    "start_time": "2021-12-15T19:53:39.188Z"
   },
   {
    "duration": 15,
    "start_time": "2021-12-15T19:53:39.216Z"
   },
   {
    "duration": 50,
    "start_time": "2021-12-15T19:53:39.233Z"
   },
   {
    "duration": 8,
    "start_time": "2021-12-15T19:53:39.288Z"
   },
   {
    "duration": 29,
    "start_time": "2021-12-15T19:53:39.300Z"
   },
   {
    "duration": 46,
    "start_time": "2021-12-15T19:53:39.331Z"
   },
   {
    "duration": 26,
    "start_time": "2021-12-15T19:53:39.380Z"
   },
   {
    "duration": 37,
    "start_time": "2021-12-15T19:53:39.409Z"
   },
   {
    "duration": 26,
    "start_time": "2021-12-15T19:53:39.449Z"
   },
   {
    "duration": 29,
    "start_time": "2021-12-15T19:53:39.477Z"
   },
   {
    "duration": 7,
    "start_time": "2021-12-15T19:53:39.508Z"
   },
   {
    "duration": 54,
    "start_time": "2021-12-15T19:53:39.518Z"
   },
   {
    "duration": 13,
    "start_time": "2021-12-15T19:53:39.575Z"
   },
   {
    "duration": 16,
    "start_time": "2021-12-15T19:53:39.590Z"
   },
   {
    "duration": 27,
    "start_time": "2021-12-15T19:53:39.609Z"
   },
   {
    "duration": 55,
    "start_time": "2021-12-15T19:53:39.638Z"
   },
   {
    "duration": 15,
    "start_time": "2021-12-15T19:53:39.695Z"
   },
   {
    "duration": 8,
    "start_time": "2021-12-15T19:53:39.712Z"
   },
   {
    "duration": 1079,
    "start_time": "2021-12-15T19:53:39.725Z"
   },
   {
    "duration": 6,
    "start_time": "2021-12-15T19:53:40.807Z"
   },
   {
    "duration": 11,
    "start_time": "2021-12-15T19:53:40.815Z"
   },
   {
    "duration": 1703,
    "start_time": "2021-12-15T19:53:40.829Z"
   },
   {
    "duration": 47,
    "start_time": "2021-12-15T19:53:42.535Z"
   },
   {
    "duration": 17,
    "start_time": "2021-12-15T19:53:42.584Z"
   },
   {
    "duration": 357,
    "start_time": "2021-12-15T19:53:42.603Z"
   },
   {
    "duration": 329,
    "start_time": "2021-12-15T20:05:19.233Z"
   },
   {
    "duration": 20,
    "start_time": "2021-12-15T20:10:31.668Z"
   },
   {
    "duration": 272,
    "start_time": "2021-12-15T20:10:33.941Z"
   },
   {
    "duration": 251,
    "start_time": "2021-12-15T20:18:43.202Z"
   },
   {
    "duration": 17,
    "start_time": "2021-12-15T20:18:50.070Z"
   },
   {
    "duration": 848,
    "start_time": "2021-12-15T21:12:41.716Z"
   },
   {
    "duration": 42,
    "start_time": "2021-12-15T21:12:42.567Z"
   },
   {
    "duration": 10,
    "start_time": "2021-12-15T21:12:42.613Z"
   },
   {
    "duration": 72,
    "start_time": "2021-12-15T21:12:42.626Z"
   },
   {
    "duration": 26,
    "start_time": "2021-12-15T21:12:42.701Z"
   },
   {
    "duration": 16,
    "start_time": "2021-12-15T21:12:42.729Z"
   },
   {
    "duration": 29,
    "start_time": "2021-12-15T21:12:42.747Z"
   },
   {
    "duration": 9,
    "start_time": "2021-12-15T21:12:42.780Z"
   },
   {
    "duration": 20,
    "start_time": "2021-12-15T21:12:42.792Z"
   },
   {
    "duration": 62,
    "start_time": "2021-12-15T21:12:42.814Z"
   },
   {
    "duration": 18,
    "start_time": "2021-12-15T21:12:42.878Z"
   },
   {
    "duration": 23,
    "start_time": "2021-12-15T21:12:42.899Z"
   },
   {
    "duration": 57,
    "start_time": "2021-12-15T21:12:42.924Z"
   },
   {
    "duration": 27,
    "start_time": "2021-12-15T21:12:42.983Z"
   },
   {
    "duration": 8,
    "start_time": "2021-12-15T21:12:43.012Z"
   },
   {
    "duration": 62,
    "start_time": "2021-12-15T21:12:43.023Z"
   },
   {
    "duration": 11,
    "start_time": "2021-12-15T21:12:43.088Z"
   },
   {
    "duration": 14,
    "start_time": "2021-12-15T21:12:43.101Z"
   },
   {
    "duration": 66,
    "start_time": "2021-12-15T21:12:43.118Z"
   },
   {
    "duration": 24,
    "start_time": "2021-12-15T21:12:43.186Z"
   },
   {
    "duration": 8,
    "start_time": "2021-12-15T21:12:43.212Z"
   },
   {
    "duration": 9,
    "start_time": "2021-12-15T21:12:43.222Z"
   },
   {
    "duration": 1047,
    "start_time": "2021-12-15T21:12:43.236Z"
   },
   {
    "duration": 7,
    "start_time": "2021-12-15T21:12:44.286Z"
   },
   {
    "duration": 7,
    "start_time": "2021-12-15T21:12:44.295Z"
   },
   {
    "duration": 1667,
    "start_time": "2021-12-15T21:12:44.305Z"
   },
   {
    "duration": 22,
    "start_time": "2021-12-15T21:12:45.980Z"
   },
   {
    "duration": 13,
    "start_time": "2021-12-15T21:12:46.005Z"
   },
   {
    "duration": 235,
    "start_time": "2021-12-15T21:12:46.154Z"
   },
   {
    "duration": 846,
    "start_time": "2021-12-15T21:14:24.211Z"
   },
   {
    "duration": 40,
    "start_time": "2021-12-15T21:14:25.066Z"
   },
   {
    "duration": 8,
    "start_time": "2021-12-15T21:14:25.109Z"
   },
   {
    "duration": 66,
    "start_time": "2021-12-15T21:14:25.120Z"
   },
   {
    "duration": 27,
    "start_time": "2021-12-15T21:14:25.189Z"
   },
   {
    "duration": 14,
    "start_time": "2021-12-15T21:14:25.219Z"
   },
   {
    "duration": 39,
    "start_time": "2021-12-15T21:14:25.236Z"
   },
   {
    "duration": 8,
    "start_time": "2021-12-15T21:14:25.282Z"
   },
   {
    "duration": 21,
    "start_time": "2021-12-15T21:14:25.293Z"
   },
   {
    "duration": 67,
    "start_time": "2021-12-15T21:14:25.316Z"
   },
   {
    "duration": 21,
    "start_time": "2021-12-15T21:14:25.386Z"
   },
   {
    "duration": 21,
    "start_time": "2021-12-15T21:14:25.409Z"
   },
   {
    "duration": 47,
    "start_time": "2021-12-15T21:14:25.433Z"
   },
   {
    "duration": 25,
    "start_time": "2021-12-15T21:14:25.483Z"
   },
   {
    "duration": 9,
    "start_time": "2021-12-15T21:14:25.511Z"
   },
   {
    "duration": 57,
    "start_time": "2021-12-15T21:14:25.523Z"
   },
   {
    "duration": 11,
    "start_time": "2021-12-15T21:14:25.582Z"
   },
   {
    "duration": 14,
    "start_time": "2021-12-15T21:14:25.595Z"
   },
   {
    "duration": 33,
    "start_time": "2021-12-15T21:14:25.612Z"
   },
   {
    "duration": 45,
    "start_time": "2021-12-15T21:14:25.647Z"
   },
   {
    "duration": 6,
    "start_time": "2021-12-15T21:14:25.694Z"
   },
   {
    "duration": 18,
    "start_time": "2021-12-15T21:14:25.702Z"
   },
   {
    "duration": 1031,
    "start_time": "2021-12-15T21:14:25.725Z"
   },
   {
    "duration": 11,
    "start_time": "2021-12-15T21:14:26.759Z"
   },
   {
    "duration": 17,
    "start_time": "2021-12-15T21:14:26.773Z"
   },
   {
    "duration": 1601,
    "start_time": "2021-12-15T21:14:26.793Z"
   },
   {
    "duration": 22,
    "start_time": "2021-12-15T21:14:28.396Z"
   },
   {
    "duration": 15,
    "start_time": "2021-12-15T21:14:28.421Z"
   },
   {
    "duration": 404,
    "start_time": "2021-12-15T21:14:28.438Z"
   },
   {
    "duration": 839,
    "start_time": "2021-12-15T21:18:18.398Z"
   },
   {
    "duration": 47,
    "start_time": "2021-12-15T21:18:19.240Z"
   },
   {
    "duration": 8,
    "start_time": "2021-12-15T21:18:19.290Z"
   },
   {
    "duration": 66,
    "start_time": "2021-12-15T21:18:19.301Z"
   },
   {
    "duration": 31,
    "start_time": "2021-12-15T21:18:19.370Z"
   },
   {
    "duration": 15,
    "start_time": "2021-12-15T21:18:19.403Z"
   },
   {
    "duration": 11,
    "start_time": "2021-12-15T21:18:19.420Z"
   },
   {
    "duration": 12,
    "start_time": "2021-12-15T21:18:19.468Z"
   },
   {
    "duration": 20,
    "start_time": "2021-12-15T21:18:19.483Z"
   },
   {
    "duration": 24,
    "start_time": "2021-12-15T21:18:19.505Z"
   },
   {
    "duration": 57,
    "start_time": "2021-12-15T21:18:19.532Z"
   },
   {
    "duration": 22,
    "start_time": "2021-12-15T21:18:19.592Z"
   },
   {
    "duration": 53,
    "start_time": "2021-12-15T21:18:19.617Z"
   },
   {
    "duration": 29,
    "start_time": "2021-12-15T21:18:19.674Z"
   },
   {
    "duration": 8,
    "start_time": "2021-12-15T21:18:19.705Z"
   },
   {
    "duration": 57,
    "start_time": "2021-12-15T21:18:19.716Z"
   },
   {
    "duration": 12,
    "start_time": "2021-12-15T21:18:19.776Z"
   },
   {
    "duration": 11,
    "start_time": "2021-12-15T21:18:19.790Z"
   },
   {
    "duration": 38,
    "start_time": "2021-12-15T21:18:19.803Z"
   },
   {
    "duration": 47,
    "start_time": "2021-12-15T21:18:19.843Z"
   },
   {
    "duration": 9,
    "start_time": "2021-12-15T21:18:19.892Z"
   },
   {
    "duration": 7,
    "start_time": "2021-12-15T21:18:19.904Z"
   },
   {
    "duration": 1026,
    "start_time": "2021-12-15T21:18:19.915Z"
   },
   {
    "duration": 30,
    "start_time": "2021-12-15T21:18:20.944Z"
   },
   {
    "duration": 6,
    "start_time": "2021-12-15T21:18:20.976Z"
   },
   {
    "duration": 1652,
    "start_time": "2021-12-15T21:18:20.984Z"
   },
   {
    "duration": 41,
    "start_time": "2021-12-15T21:18:22.639Z"
   },
   {
    "duration": 16,
    "start_time": "2021-12-15T21:18:22.683Z"
   },
   {
    "duration": 619,
    "start_time": "2021-12-15T21:18:22.701Z"
   },
   {
    "duration": 838,
    "start_time": "2021-12-15T21:20:55.396Z"
   },
   {
    "duration": 53,
    "start_time": "2021-12-15T21:20:56.237Z"
   },
   {
    "duration": 8,
    "start_time": "2021-12-15T21:20:56.293Z"
   },
   {
    "duration": 61,
    "start_time": "2021-12-15T21:20:56.304Z"
   },
   {
    "duration": 26,
    "start_time": "2021-12-15T21:20:56.370Z"
   },
   {
    "duration": 30,
    "start_time": "2021-12-15T21:20:56.399Z"
   },
   {
    "duration": 31,
    "start_time": "2021-12-15T21:20:56.432Z"
   },
   {
    "duration": 24,
    "start_time": "2021-12-15T21:20:56.467Z"
   },
   {
    "duration": 44,
    "start_time": "2021-12-15T21:20:56.494Z"
   },
   {
    "duration": 51,
    "start_time": "2021-12-15T21:20:56.541Z"
   },
   {
    "duration": 26,
    "start_time": "2021-12-15T21:20:56.594Z"
   },
   {
    "duration": 38,
    "start_time": "2021-12-15T21:20:56.622Z"
   },
   {
    "duration": 30,
    "start_time": "2021-12-15T21:20:56.663Z"
   },
   {
    "duration": 32,
    "start_time": "2021-12-15T21:20:56.696Z"
   },
   {
    "duration": 11,
    "start_time": "2021-12-15T21:20:56.730Z"
   },
   {
    "duration": 52,
    "start_time": "2021-12-15T21:20:56.743Z"
   },
   {
    "duration": 22,
    "start_time": "2021-12-15T21:20:56.798Z"
   },
   {
    "duration": 33,
    "start_time": "2021-12-15T21:20:56.823Z"
   },
   {
    "duration": 59,
    "start_time": "2021-12-15T21:20:56.858Z"
   },
   {
    "duration": 30,
    "start_time": "2021-12-15T21:20:56.919Z"
   },
   {
    "duration": 22,
    "start_time": "2021-12-15T21:20:56.951Z"
   },
   {
    "duration": 31,
    "start_time": "2021-12-15T21:20:56.976Z"
   },
   {
    "duration": 1013,
    "start_time": "2021-12-15T21:20:57.012Z"
   },
   {
    "duration": 8,
    "start_time": "2021-12-15T21:20:58.029Z"
   },
   {
    "duration": 35,
    "start_time": "2021-12-15T21:20:58.040Z"
   },
   {
    "duration": 1603,
    "start_time": "2021-12-15T21:20:58.078Z"
   },
   {
    "duration": 21,
    "start_time": "2021-12-15T21:20:59.684Z"
   },
   {
    "duration": 18,
    "start_time": "2021-12-15T21:20:59.708Z"
   },
   {
    "duration": 367,
    "start_time": "2021-12-15T21:20:59.728Z"
   },
   {
    "duration": 277,
    "start_time": "2021-12-15T21:22:11.603Z"
   },
   {
    "duration": 913,
    "start_time": "2021-12-15T21:23:00.913Z"
   },
   {
    "duration": 52,
    "start_time": "2021-12-15T21:23:01.829Z"
   },
   {
    "duration": 8,
    "start_time": "2021-12-15T21:23:01.885Z"
   },
   {
    "duration": 47,
    "start_time": "2021-12-15T21:23:01.896Z"
   },
   {
    "duration": 47,
    "start_time": "2021-12-15T21:23:01.945Z"
   },
   {
    "duration": 18,
    "start_time": "2021-12-15T21:23:01.995Z"
   },
   {
    "duration": 12,
    "start_time": "2021-12-15T21:23:02.016Z"
   },
   {
    "duration": 10,
    "start_time": "2021-12-15T21:23:02.069Z"
   },
   {
    "duration": 24,
    "start_time": "2021-12-15T21:23:02.085Z"
   },
   {
    "duration": 22,
    "start_time": "2021-12-15T21:23:02.112Z"
   },
   {
    "duration": 22,
    "start_time": "2021-12-15T21:23:02.171Z"
   },
   {
    "duration": 25,
    "start_time": "2021-12-15T21:23:02.196Z"
   },
   {
    "duration": 63,
    "start_time": "2021-12-15T21:23:02.224Z"
   },
   {
    "duration": 27,
    "start_time": "2021-12-15T21:23:02.290Z"
   },
   {
    "duration": 9,
    "start_time": "2021-12-15T21:23:02.320Z"
   },
   {
    "duration": 52,
    "start_time": "2021-12-15T21:23:02.331Z"
   },
   {
    "duration": 10,
    "start_time": "2021-12-15T21:23:02.385Z"
   },
   {
    "duration": 12,
    "start_time": "2021-12-15T21:23:02.397Z"
   },
   {
    "duration": 60,
    "start_time": "2021-12-15T21:23:02.412Z"
   },
   {
    "duration": 25,
    "start_time": "2021-12-15T21:23:02.480Z"
   },
   {
    "duration": 6,
    "start_time": "2021-12-15T21:23:02.508Z"
   },
   {
    "duration": 13,
    "start_time": "2021-12-15T21:23:02.516Z"
   },
   {
    "duration": 1032,
    "start_time": "2021-12-15T21:23:02.534Z"
   },
   {
    "duration": 10,
    "start_time": "2021-12-15T21:23:03.574Z"
   },
   {
    "duration": 6,
    "start_time": "2021-12-15T21:23:03.586Z"
   },
   {
    "duration": 1656,
    "start_time": "2021-12-15T21:23:03.595Z"
   },
   {
    "duration": 36,
    "start_time": "2021-12-15T21:23:05.253Z"
   },
   {
    "duration": 15,
    "start_time": "2021-12-15T21:23:05.292Z"
   },
   {
    "duration": 373,
    "start_time": "2021-12-15T21:23:05.310Z"
   },
   {
    "duration": 17,
    "start_time": "2021-12-15T21:30:43.741Z"
   },
   {
    "duration": 319,
    "start_time": "2021-12-15T21:31:05.846Z"
   },
   {
    "duration": 293,
    "start_time": "2021-12-15T21:31:32.911Z"
   },
   {
    "duration": 8,
    "start_time": "2021-12-15T21:31:49.135Z"
   },
   {
    "duration": 13,
    "start_time": "2021-12-15T21:32:00.805Z"
   },
   {
    "duration": 17,
    "start_time": "2021-12-15T21:32:27.674Z"
   },
   {
    "duration": 15,
    "start_time": "2021-12-15T21:32:35.263Z"
   },
   {
    "duration": 84,
    "start_time": "2021-12-15T21:32:52.347Z"
   },
   {
    "duration": 319,
    "start_time": "2021-12-15T21:32:56.259Z"
   },
   {
    "duration": 14,
    "start_time": "2021-12-15T21:34:21.484Z"
   },
   {
    "duration": 7344,
    "start_time": "2021-12-15T21:38:05.256Z"
   },
   {
    "duration": 7700,
    "start_time": "2021-12-15T21:38:17.676Z"
   },
   {
    "duration": 18,
    "start_time": "2021-12-15T21:38:38.235Z"
   },
   {
    "duration": 7019,
    "start_time": "2021-12-15T21:38:41.157Z"
   },
   {
    "duration": 98,
    "start_time": "2021-12-15T21:39:08.227Z"
   },
   {
    "duration": 15,
    "start_time": "2021-12-15T21:39:14.207Z"
   },
   {
    "duration": 257,
    "start_time": "2021-12-15T21:39:51.271Z"
   },
   {
    "duration": 866,
    "start_time": "2021-12-15T21:40:03.093Z"
   },
   {
    "duration": 42,
    "start_time": "2021-12-15T21:40:03.962Z"
   },
   {
    "duration": 8,
    "start_time": "2021-12-15T21:40:04.007Z"
   },
   {
    "duration": 71,
    "start_time": "2021-12-15T21:40:04.017Z"
   },
   {
    "duration": 28,
    "start_time": "2021-12-15T21:40:04.091Z"
   },
   {
    "duration": 16,
    "start_time": "2021-12-15T21:40:04.121Z"
   },
   {
    "duration": 29,
    "start_time": "2021-12-15T21:40:04.140Z"
   },
   {
    "duration": 12,
    "start_time": "2021-12-15T21:40:04.173Z"
   },
   {
    "duration": 19,
    "start_time": "2021-12-15T21:40:04.188Z"
   },
   {
    "duration": 21,
    "start_time": "2021-12-15T21:40:04.210Z"
   },
   {
    "duration": 60,
    "start_time": "2021-12-15T21:40:04.234Z"
   },
   {
    "duration": 24,
    "start_time": "2021-12-15T21:40:04.297Z"
   },
   {
    "duration": 60,
    "start_time": "2021-12-15T21:40:04.324Z"
   },
   {
    "duration": 26,
    "start_time": "2021-12-15T21:40:04.386Z"
   },
   {
    "duration": 8,
    "start_time": "2021-12-15T21:40:04.414Z"
   },
   {
    "duration": 55,
    "start_time": "2021-12-15T21:40:04.425Z"
   },
   {
    "duration": 10,
    "start_time": "2021-12-15T21:40:04.482Z"
   },
   {
    "duration": 10,
    "start_time": "2021-12-15T21:40:04.495Z"
   },
   {
    "duration": 66,
    "start_time": "2021-12-15T21:40:04.508Z"
   },
   {
    "duration": 32,
    "start_time": "2021-12-15T21:40:04.577Z"
   },
   {
    "duration": 10,
    "start_time": "2021-12-15T21:40:04.611Z"
   },
   {
    "duration": 9,
    "start_time": "2021-12-15T21:40:04.624Z"
   },
   {
    "duration": 1047,
    "start_time": "2021-12-15T21:40:04.637Z"
   },
   {
    "duration": 7,
    "start_time": "2021-12-15T21:40:05.687Z"
   },
   {
    "duration": 27,
    "start_time": "2021-12-15T21:40:05.697Z"
   },
   {
    "duration": 1601,
    "start_time": "2021-12-15T21:40:05.727Z"
   },
   {
    "duration": 52,
    "start_time": "2021-12-15T21:40:07.331Z"
   },
   {
    "duration": 376,
    "start_time": "2021-12-15T21:40:07.386Z"
   },
   {
    "duration": 248,
    "start_time": "2021-12-15T21:40:07.517Z"
   },
   {
    "duration": 244,
    "start_time": "2021-12-15T21:40:07.522Z"
   },
   {
    "duration": 18,
    "start_time": "2021-12-15T21:40:31.622Z"
   },
   {
    "duration": 16,
    "start_time": "2021-12-15T21:41:03.774Z"
   },
   {
    "duration": 24,
    "start_time": "2021-12-15T21:42:13.267Z"
   },
   {
    "duration": 24,
    "start_time": "2021-12-15T21:42:18.394Z"
   },
   {
    "duration": 20,
    "start_time": "2021-12-15T21:43:41.295Z"
   },
   {
    "duration": 259,
    "start_time": "2021-12-15T21:43:54.468Z"
   },
   {
    "duration": 30,
    "start_time": "2021-12-15T21:44:13.872Z"
   },
   {
    "duration": 849,
    "start_time": "2021-12-15T21:44:42.532Z"
   },
   {
    "duration": 35,
    "start_time": "2021-12-15T21:44:43.384Z"
   },
   {
    "duration": 8,
    "start_time": "2021-12-15T21:44:43.422Z"
   },
   {
    "duration": 69,
    "start_time": "2021-12-15T21:44:43.433Z"
   },
   {
    "duration": 26,
    "start_time": "2021-12-15T21:44:43.506Z"
   },
   {
    "duration": 53,
    "start_time": "2021-12-15T21:44:43.535Z"
   },
   {
    "duration": 16,
    "start_time": "2021-12-15T21:44:43.590Z"
   },
   {
    "duration": 8,
    "start_time": "2021-12-15T21:44:43.609Z"
   },
   {
    "duration": 46,
    "start_time": "2021-12-15T21:44:43.621Z"
   },
   {
    "duration": 25,
    "start_time": "2021-12-15T21:44:43.669Z"
   },
   {
    "duration": 16,
    "start_time": "2021-12-15T21:44:43.698Z"
   },
   {
    "duration": 65,
    "start_time": "2021-12-15T21:44:43.716Z"
   },
   {
    "duration": 24,
    "start_time": "2021-12-15T21:44:43.784Z"
   },
   {
    "duration": 25,
    "start_time": "2021-12-15T21:44:43.811Z"
   },
   {
    "duration": 18,
    "start_time": "2021-12-15T21:44:43.867Z"
   },
   {
    "duration": 20,
    "start_time": "2021-12-15T21:44:43.888Z"
   },
   {
    "duration": 12,
    "start_time": "2021-12-15T21:44:43.911Z"
   },
   {
    "duration": 55,
    "start_time": "2021-12-15T21:44:43.926Z"
   },
   {
    "duration": 28,
    "start_time": "2021-12-15T21:44:43.984Z"
   },
   {
    "duration": 22,
    "start_time": "2021-12-15T21:44:44.014Z"
   },
   {
    "duration": 31,
    "start_time": "2021-12-15T21:44:44.038Z"
   },
   {
    "duration": 11,
    "start_time": "2021-12-15T21:44:44.072Z"
   },
   {
    "duration": 1020,
    "start_time": "2021-12-15T21:44:44.088Z"
   },
   {
    "duration": 7,
    "start_time": "2021-12-15T21:44:45.111Z"
   },
   {
    "duration": 18,
    "start_time": "2021-12-15T21:44:45.120Z"
   },
   {
    "duration": 1685,
    "start_time": "2021-12-15T21:44:45.140Z"
   },
   {
    "duration": 19,
    "start_time": "2021-12-15T21:44:46.827Z"
   },
   {
    "duration": 54,
    "start_time": "2021-12-15T21:44:46.848Z"
   },
   {
    "duration": 438,
    "start_time": "2021-12-15T21:44:46.905Z"
   },
   {
    "duration": 295,
    "start_time": "2021-12-15T21:44:47.050Z"
   },
   {
    "duration": 276,
    "start_time": "2021-12-15T21:45:25.164Z"
   },
   {
    "duration": 23,
    "start_time": "2021-12-15T21:45:39.471Z"
   },
   {
    "duration": 6438,
    "start_time": "2021-12-15T21:45:44.207Z"
   },
   {
    "duration": 7313,
    "start_time": "2021-12-15T21:46:10.747Z"
   },
   {
    "duration": 18,
    "start_time": "2021-12-15T21:46:37.871Z"
   },
   {
    "duration": 6706,
    "start_time": "2021-12-15T21:46:42.950Z"
   },
   {
    "duration": 20,
    "start_time": "2021-12-15T21:47:01.923Z"
   },
   {
    "duration": 104,
    "start_time": "2021-12-15T21:47:26.165Z"
   },
   {
    "duration": 23,
    "start_time": "2021-12-15T21:47:54.870Z"
   },
   {
    "duration": 22,
    "start_time": "2021-12-15T21:48:04.812Z"
   },
   {
    "duration": 24,
    "start_time": "2021-12-15T21:48:08.703Z"
   },
   {
    "duration": 14,
    "start_time": "2021-12-15T21:49:42.730Z"
   },
   {
    "duration": 90,
    "start_time": "2021-12-15T21:51:03.524Z"
   },
   {
    "duration": 31,
    "start_time": "2021-12-15T21:51:10.902Z"
   },
   {
    "duration": 5,
    "start_time": "2021-12-15T21:51:35.027Z"
   },
   {
    "duration": 6,
    "start_time": "2021-12-15T21:51:49.328Z"
   },
   {
    "duration": 279,
    "start_time": "2021-12-15T22:02:19.982Z"
   },
   {
    "duration": 258,
    "start_time": "2021-12-15T22:03:22.889Z"
   },
   {
    "duration": 880,
    "start_time": "2021-12-15T22:03:31.440Z"
   },
   {
    "duration": 54,
    "start_time": "2021-12-15T22:03:32.322Z"
   },
   {
    "duration": 10,
    "start_time": "2021-12-15T22:03:32.380Z"
   },
   {
    "duration": 47,
    "start_time": "2021-12-15T22:03:32.393Z"
   },
   {
    "duration": 42,
    "start_time": "2021-12-15T22:03:32.443Z"
   },
   {
    "duration": 15,
    "start_time": "2021-12-15T22:03:32.488Z"
   },
   {
    "duration": 47,
    "start_time": "2021-12-15T22:03:32.506Z"
   },
   {
    "duration": 25,
    "start_time": "2021-12-15T22:03:32.557Z"
   },
   {
    "duration": 46,
    "start_time": "2021-12-15T22:03:32.585Z"
   },
   {
    "duration": 31,
    "start_time": "2021-12-15T22:03:32.633Z"
   },
   {
    "duration": 28,
    "start_time": "2021-12-15T22:03:32.667Z"
   },
   {
    "duration": 22,
    "start_time": "2021-12-15T22:03:32.697Z"
   },
   {
    "duration": 47,
    "start_time": "2021-12-15T22:03:32.722Z"
   },
   {
    "duration": 28,
    "start_time": "2021-12-15T22:03:32.771Z"
   },
   {
    "duration": 8,
    "start_time": "2021-12-15T22:03:32.802Z"
   },
   {
    "duration": 20,
    "start_time": "2021-12-15T22:03:32.813Z"
   },
   {
    "duration": 41,
    "start_time": "2021-12-15T22:03:32.836Z"
   },
   {
    "duration": 8,
    "start_time": "2021-12-15T22:03:32.881Z"
   },
   {
    "duration": 30,
    "start_time": "2021-12-15T22:03:32.892Z"
   },
   {
    "duration": 58,
    "start_time": "2021-12-15T22:03:32.924Z"
   },
   {
    "duration": 9,
    "start_time": "2021-12-15T22:03:32.984Z"
   },
   {
    "duration": 8,
    "start_time": "2021-12-15T22:03:32.996Z"
   },
   {
    "duration": 1018,
    "start_time": "2021-12-15T22:03:33.008Z"
   },
   {
    "duration": 6,
    "start_time": "2021-12-15T22:03:34.029Z"
   },
   {
    "duration": 11,
    "start_time": "2021-12-15T22:03:34.037Z"
   },
   {
    "duration": 1620,
    "start_time": "2021-12-15T22:03:34.067Z"
   },
   {
    "duration": 20,
    "start_time": "2021-12-15T22:03:35.690Z"
   },
   {
    "duration": 34,
    "start_time": "2021-12-15T22:03:35.713Z"
   },
   {
    "duration": 28,
    "start_time": "2021-12-15T22:03:35.750Z"
   },
   {
    "duration": 37,
    "start_time": "2021-12-15T22:03:35.781Z"
   },
   {
    "duration": 106,
    "start_time": "2021-12-15T22:03:35.820Z"
   },
   {
    "duration": 316,
    "start_time": "2021-12-15T22:03:35.612Z"
   },
   {
    "duration": 114,
    "start_time": "2021-12-15T22:05:16.340Z"
   },
   {
    "duration": 90,
    "start_time": "2021-12-15T22:05:38.443Z"
   },
   {
    "duration": 5,
    "start_time": "2021-12-15T22:05:50.564Z"
   },
   {
    "duration": 1725,
    "start_time": "2021-12-15T22:05:54.480Z"
   },
   {
    "duration": 5,
    "start_time": "2021-12-15T22:06:23.625Z"
   },
   {
    "duration": 5,
    "start_time": "2021-12-15T22:06:38.566Z"
   },
   {
    "duration": 4,
    "start_time": "2021-12-15T22:06:47.422Z"
   },
   {
    "duration": 872,
    "start_time": "2021-12-15T22:06:55.592Z"
   },
   {
    "duration": 38,
    "start_time": "2021-12-15T22:06:56.466Z"
   },
   {
    "duration": 14,
    "start_time": "2021-12-15T22:06:56.507Z"
   },
   {
    "duration": 58,
    "start_time": "2021-12-15T22:06:56.524Z"
   },
   {
    "duration": 27,
    "start_time": "2021-12-15T22:06:56.584Z"
   },
   {
    "duration": 17,
    "start_time": "2021-12-15T22:06:56.614Z"
   },
   {
    "duration": 48,
    "start_time": "2021-12-15T22:06:56.633Z"
   },
   {
    "duration": 9,
    "start_time": "2021-12-15T22:06:56.685Z"
   },
   {
    "duration": 20,
    "start_time": "2021-12-15T22:06:56.696Z"
   },
   {
    "duration": 63,
    "start_time": "2021-12-15T22:06:56.719Z"
   },
   {
    "duration": 18,
    "start_time": "2021-12-15T22:06:56.785Z"
   },
   {
    "duration": 25,
    "start_time": "2021-12-15T22:06:56.806Z"
   },
   {
    "duration": 55,
    "start_time": "2021-12-15T22:06:56.834Z"
   },
   {
    "duration": 23,
    "start_time": "2021-12-15T22:06:56.891Z"
   },
   {
    "duration": 8,
    "start_time": "2021-12-15T22:06:56.917Z"
   },
   {
    "duration": 57,
    "start_time": "2021-12-15T22:06:56.927Z"
   },
   {
    "duration": 10,
    "start_time": "2021-12-15T22:06:56.986Z"
   },
   {
    "duration": 9,
    "start_time": "2021-12-15T22:06:56.999Z"
   },
   {
    "duration": 59,
    "start_time": "2021-12-15T22:06:57.011Z"
   },
   {
    "duration": 28,
    "start_time": "2021-12-15T22:06:57.072Z"
   },
   {
    "duration": 8,
    "start_time": "2021-12-15T22:06:57.103Z"
   },
   {
    "duration": 10,
    "start_time": "2021-12-15T22:06:57.114Z"
   },
   {
    "duration": 1029,
    "start_time": "2021-12-15T22:06:57.129Z"
   },
   {
    "duration": 9,
    "start_time": "2021-12-15T22:06:58.167Z"
   },
   {
    "duration": 9,
    "start_time": "2021-12-15T22:06:58.179Z"
   },
   {
    "duration": 1632,
    "start_time": "2021-12-15T22:06:58.191Z"
   },
   {
    "duration": 45,
    "start_time": "2021-12-15T22:06:59.826Z"
   },
   {
    "duration": 16,
    "start_time": "2021-12-15T22:06:59.876Z"
   },
   {
    "duration": 6,
    "start_time": "2021-12-15T22:06:59.894Z"
   },
   {
    "duration": 6,
    "start_time": "2021-12-15T22:06:59.902Z"
   },
   {
    "duration": 8,
    "start_time": "2021-12-15T22:06:59.910Z"
   },
   {
    "duration": 9,
    "start_time": "2021-12-15T22:06:59.920Z"
   },
   {
    "duration": 1818,
    "start_time": "2021-12-15T22:06:59.966Z"
   },
   {
    "duration": 5,
    "start_time": "2021-12-15T22:07:17.817Z"
   },
   {
    "duration": 14,
    "start_time": "2021-12-15T22:07:19.671Z"
   },
   {
    "duration": 5,
    "start_time": "2021-12-15T22:08:10.651Z"
   },
   {
    "duration": 6,
    "start_time": "2021-12-15T22:08:20.243Z"
   },
   {
    "duration": 6,
    "start_time": "2021-12-15T22:08:24.445Z"
   },
   {
    "duration": 837,
    "start_time": "2021-12-15T22:08:39.036Z"
   },
   {
    "duration": 36,
    "start_time": "2021-12-15T22:08:39.877Z"
   },
   {
    "duration": 9,
    "start_time": "2021-12-15T22:08:39.916Z"
   },
   {
    "duration": 76,
    "start_time": "2021-12-15T22:08:39.929Z"
   },
   {
    "duration": 28,
    "start_time": "2021-12-15T22:08:40.008Z"
   },
   {
    "duration": 40,
    "start_time": "2021-12-15T22:08:40.039Z"
   },
   {
    "duration": 19,
    "start_time": "2021-12-15T22:08:40.081Z"
   },
   {
    "duration": 25,
    "start_time": "2021-12-15T22:08:40.103Z"
   },
   {
    "duration": 48,
    "start_time": "2021-12-15T22:08:40.132Z"
   },
   {
    "duration": 31,
    "start_time": "2021-12-15T22:08:40.183Z"
   },
   {
    "duration": 34,
    "start_time": "2021-12-15T22:08:40.216Z"
   },
   {
    "duration": 43,
    "start_time": "2021-12-15T22:08:40.253Z"
   },
   {
    "duration": 21,
    "start_time": "2021-12-15T22:08:40.299Z"
   },
   {
    "duration": 27,
    "start_time": "2021-12-15T22:08:40.323Z"
   },
   {
    "duration": 27,
    "start_time": "2021-12-15T22:08:40.353Z"
   },
   {
    "duration": 17,
    "start_time": "2021-12-15T22:08:40.384Z"
   },
   {
    "duration": 11,
    "start_time": "2021-12-15T22:08:40.404Z"
   },
   {
    "duration": 59,
    "start_time": "2021-12-15T22:08:40.418Z"
   },
   {
    "duration": 28,
    "start_time": "2021-12-15T22:08:40.481Z"
   },
   {
    "duration": 25,
    "start_time": "2021-12-15T22:08:40.512Z"
   },
   {
    "duration": 33,
    "start_time": "2021-12-15T22:08:40.539Z"
   },
   {
    "duration": 10,
    "start_time": "2021-12-15T22:08:40.574Z"
   },
   {
    "duration": 1037,
    "start_time": "2021-12-15T22:08:40.587Z"
   },
   {
    "duration": 9,
    "start_time": "2021-12-15T22:08:41.628Z"
   },
   {
    "duration": 33,
    "start_time": "2021-12-15T22:08:41.641Z"
   },
   {
    "duration": 1559,
    "start_time": "2021-12-15T22:08:41.676Z"
   },
   {
    "duration": 38,
    "start_time": "2021-12-15T22:08:43.240Z"
   },
   {
    "duration": 17,
    "start_time": "2021-12-15T22:08:43.283Z"
   },
   {
    "duration": 15,
    "start_time": "2021-12-15T22:08:43.303Z"
   },
   {
    "duration": 21,
    "start_time": "2021-12-15T22:08:43.322Z"
   },
   {
    "duration": 6,
    "start_time": "2021-12-15T22:08:43.374Z"
   },
   {
    "duration": 31,
    "start_time": "2021-12-15T22:08:43.383Z"
   },
   {
    "duration": 1459,
    "start_time": "2021-12-15T22:08:43.417Z"
   },
   {
    "duration": 18,
    "start_time": "2021-12-15T22:09:29.736Z"
   },
   {
    "duration": 329,
    "start_time": "2021-12-15T22:09:57.482Z"
   },
   {
    "duration": 3601,
    "start_time": "2021-12-15T22:10:10.336Z"
   },
   {
    "duration": 3336,
    "start_time": "2021-12-15T22:10:18.567Z"
   },
   {
    "duration": 857,
    "start_time": "2021-12-15T22:10:29.008Z"
   },
   {
    "duration": 52,
    "start_time": "2021-12-15T22:10:29.871Z"
   },
   {
    "duration": 8,
    "start_time": "2021-12-15T22:10:29.927Z"
   },
   {
    "duration": 66,
    "start_time": "2021-12-15T22:10:29.938Z"
   },
   {
    "duration": 41,
    "start_time": "2021-12-15T22:10:30.007Z"
   },
   {
    "duration": 27,
    "start_time": "2021-12-15T22:10:30.051Z"
   },
   {
    "duration": 18,
    "start_time": "2021-12-15T22:10:30.081Z"
   },
   {
    "duration": 28,
    "start_time": "2021-12-15T22:10:30.101Z"
   },
   {
    "duration": 35,
    "start_time": "2021-12-15T22:10:30.136Z"
   },
   {
    "duration": 34,
    "start_time": "2021-12-15T22:10:30.175Z"
   },
   {
    "duration": 33,
    "start_time": "2021-12-15T22:10:30.213Z"
   },
   {
    "duration": 36,
    "start_time": "2021-12-15T22:10:30.249Z"
   },
   {
    "duration": 29,
    "start_time": "2021-12-15T22:10:30.292Z"
   },
   {
    "duration": 25,
    "start_time": "2021-12-15T22:10:30.324Z"
   },
   {
    "duration": 29,
    "start_time": "2021-12-15T22:10:30.351Z"
   },
   {
    "duration": 32,
    "start_time": "2021-12-15T22:10:30.382Z"
   },
   {
    "duration": 21,
    "start_time": "2021-12-15T22:10:30.416Z"
   },
   {
    "duration": 25,
    "start_time": "2021-12-15T22:10:30.439Z"
   },
   {
    "duration": 47,
    "start_time": "2021-12-15T22:10:30.467Z"
   },
   {
    "duration": 24,
    "start_time": "2021-12-15T22:10:30.517Z"
   },
   {
    "duration": 13,
    "start_time": "2021-12-15T22:10:30.544Z"
   },
   {
    "duration": 22,
    "start_time": "2021-12-15T22:10:30.560Z"
   },
   {
    "duration": 1022,
    "start_time": "2021-12-15T22:10:30.585Z"
   },
   {
    "duration": 7,
    "start_time": "2021-12-15T22:10:31.610Z"
   },
   {
    "duration": 36,
    "start_time": "2021-12-15T22:10:31.619Z"
   },
   {
    "duration": 1644,
    "start_time": "2021-12-15T22:10:31.657Z"
   },
   {
    "duration": 20,
    "start_time": "2021-12-15T22:10:33.306Z"
   },
   {
    "duration": 47,
    "start_time": "2021-12-15T22:10:33.329Z"
   },
   {
    "duration": 6,
    "start_time": "2021-12-15T22:10:33.378Z"
   },
   {
    "duration": 8,
    "start_time": "2021-12-15T22:10:33.386Z"
   },
   {
    "duration": 5,
    "start_time": "2021-12-15T22:10:33.396Z"
   },
   {
    "duration": 9,
    "start_time": "2021-12-15T22:10:33.404Z"
   },
   {
    "duration": 20,
    "start_time": "2021-12-15T22:10:33.415Z"
   },
   {
    "duration": 364,
    "start_time": "2021-12-15T22:11:23.623Z"
   },
   {
    "duration": 262,
    "start_time": "2021-12-15T22:11:49.705Z"
   },
   {
    "duration": 3352,
    "start_time": "2021-12-15T22:12:55.912Z"
   },
   {
    "duration": 4141,
    "start_time": "2021-12-15T22:13:03.253Z"
   },
   {
    "duration": 796,
    "start_time": "2021-12-15T22:13:17.013Z"
   },
   {
    "duration": 36,
    "start_time": "2021-12-15T22:13:17.812Z"
   },
   {
    "duration": 24,
    "start_time": "2021-12-15T22:13:17.851Z"
   },
   {
    "duration": 52,
    "start_time": "2021-12-15T22:13:17.878Z"
   },
   {
    "duration": 45,
    "start_time": "2021-12-15T22:13:17.934Z"
   },
   {
    "duration": 18,
    "start_time": "2021-12-15T22:13:17.982Z"
   },
   {
    "duration": 43,
    "start_time": "2021-12-15T22:13:18.003Z"
   },
   {
    "duration": 42,
    "start_time": "2021-12-15T22:13:18.050Z"
   },
   {
    "duration": 54,
    "start_time": "2021-12-15T22:13:18.096Z"
   },
   {
    "duration": 32,
    "start_time": "2021-12-15T22:13:18.152Z"
   },
   {
    "duration": 47,
    "start_time": "2021-12-15T22:13:18.186Z"
   },
   {
    "duration": 39,
    "start_time": "2021-12-15T22:13:18.236Z"
   },
   {
    "duration": 31,
    "start_time": "2021-12-15T22:13:18.277Z"
   },
   {
    "duration": 44,
    "start_time": "2021-12-15T22:13:18.311Z"
   },
   {
    "duration": 36,
    "start_time": "2021-12-15T22:13:18.358Z"
   },
   {
    "duration": 40,
    "start_time": "2021-12-15T22:13:18.398Z"
   },
   {
    "duration": 25,
    "start_time": "2021-12-15T22:13:18.441Z"
   },
   {
    "duration": 38,
    "start_time": "2021-12-15T22:13:18.469Z"
   },
   {
    "duration": 53,
    "start_time": "2021-12-15T22:13:18.510Z"
   },
   {
    "duration": 33,
    "start_time": "2021-12-15T22:13:18.565Z"
   },
   {
    "duration": 15,
    "start_time": "2021-12-15T22:13:18.601Z"
   },
   {
    "duration": 31,
    "start_time": "2021-12-15T22:13:18.619Z"
   },
   {
    "duration": 970,
    "start_time": "2021-12-15T22:13:18.656Z"
   },
   {
    "duration": 8,
    "start_time": "2021-12-15T22:13:19.629Z"
   },
   {
    "duration": 49,
    "start_time": "2021-12-15T22:13:19.639Z"
   },
   {
    "duration": 1510,
    "start_time": "2021-12-15T22:13:19.690Z"
   },
   {
    "duration": 21,
    "start_time": "2021-12-15T22:13:21.202Z"
   },
   {
    "duration": 23,
    "start_time": "2021-12-15T22:13:21.226Z"
   },
   {
    "duration": 27,
    "start_time": "2021-12-15T22:13:21.251Z"
   },
   {
    "duration": 16,
    "start_time": "2021-12-15T22:13:21.280Z"
   },
   {
    "duration": 13,
    "start_time": "2021-12-15T22:13:21.298Z"
   },
   {
    "duration": 38,
    "start_time": "2021-12-15T22:13:21.313Z"
   },
   {
    "duration": 43,
    "start_time": "2021-12-15T22:13:21.353Z"
   },
   {
    "duration": 11,
    "start_time": "2021-12-15T22:13:21.399Z"
   },
   {
    "duration": 16,
    "start_time": "2021-12-15T22:13:56.675Z"
   },
   {
    "duration": 875,
    "start_time": "2021-12-15T22:15:05.712Z"
   },
   {
    "duration": 34,
    "start_time": "2021-12-15T22:15:06.590Z"
   },
   {
    "duration": 10,
    "start_time": "2021-12-15T22:15:06.627Z"
   },
   {
    "duration": 60,
    "start_time": "2021-12-15T22:15:06.639Z"
   },
   {
    "duration": 25,
    "start_time": "2021-12-15T22:15:06.702Z"
   },
   {
    "duration": 44,
    "start_time": "2021-12-15T22:15:06.729Z"
   },
   {
    "duration": 9,
    "start_time": "2021-12-15T22:15:06.775Z"
   },
   {
    "duration": 10,
    "start_time": "2021-12-15T22:15:06.788Z"
   },
   {
    "duration": 20,
    "start_time": "2021-12-15T22:15:06.801Z"
   },
   {
    "duration": 59,
    "start_time": "2021-12-15T22:15:06.824Z"
   },
   {
    "duration": 17,
    "start_time": "2021-12-15T22:15:06.885Z"
   },
   {
    "duration": 22,
    "start_time": "2021-12-15T22:15:06.904Z"
   },
   {
    "duration": 53,
    "start_time": "2021-12-15T22:15:06.928Z"
   },
   {
    "duration": 25,
    "start_time": "2021-12-15T22:15:06.985Z"
   },
   {
    "duration": 10,
    "start_time": "2021-12-15T22:15:07.013Z"
   },
   {
    "duration": 57,
    "start_time": "2021-12-15T22:15:07.026Z"
   },
   {
    "duration": 10,
    "start_time": "2021-12-15T22:15:07.086Z"
   },
   {
    "duration": 10,
    "start_time": "2021-12-15T22:15:07.099Z"
   },
   {
    "duration": 70,
    "start_time": "2021-12-15T22:15:07.112Z"
   },
   {
    "duration": 23,
    "start_time": "2021-12-15T22:15:07.185Z"
   },
   {
    "duration": 8,
    "start_time": "2021-12-15T22:15:07.211Z"
   },
   {
    "duration": 9,
    "start_time": "2021-12-15T22:15:07.221Z"
   },
   {
    "duration": 979,
    "start_time": "2021-12-15T22:15:07.270Z"
   },
   {
    "duration": 24,
    "start_time": "2021-12-15T22:15:08.253Z"
   },
   {
    "duration": 10,
    "start_time": "2021-12-15T22:15:08.280Z"
   },
   {
    "duration": 1550,
    "start_time": "2021-12-15T22:15:08.292Z"
   },
   {
    "duration": 22,
    "start_time": "2021-12-15T22:15:09.867Z"
   },
   {
    "duration": 24,
    "start_time": "2021-12-15T22:15:09.892Z"
   },
   {
    "duration": 8,
    "start_time": "2021-12-15T22:15:09.919Z"
   },
   {
    "duration": 40,
    "start_time": "2021-12-15T22:15:09.930Z"
   },
   {
    "duration": 5,
    "start_time": "2021-12-15T22:15:09.973Z"
   },
   {
    "duration": 17,
    "start_time": "2021-12-15T22:15:09.980Z"
   },
   {
    "duration": 43,
    "start_time": "2021-12-15T22:15:09.999Z"
   },
   {
    "duration": 35,
    "start_time": "2021-12-15T22:15:10.044Z"
   },
   {
    "duration": 875,
    "start_time": "2021-12-15T22:16:59.164Z"
   },
   {
    "duration": 44,
    "start_time": "2021-12-15T22:17:00.042Z"
   },
   {
    "duration": 10,
    "start_time": "2021-12-15T22:17:00.089Z"
   },
   {
    "duration": 66,
    "start_time": "2021-12-15T22:17:00.101Z"
   },
   {
    "duration": 35,
    "start_time": "2021-12-15T22:17:00.170Z"
   },
   {
    "duration": 20,
    "start_time": "2021-12-15T22:17:00.208Z"
   },
   {
    "duration": 40,
    "start_time": "2021-12-15T22:17:00.231Z"
   },
   {
    "duration": 12,
    "start_time": "2021-12-15T22:17:00.275Z"
   },
   {
    "duration": 22,
    "start_time": "2021-12-15T22:17:00.291Z"
   },
   {
    "duration": 54,
    "start_time": "2021-12-15T22:17:00.315Z"
   },
   {
    "duration": 19,
    "start_time": "2021-12-15T22:17:00.372Z"
   },
   {
    "duration": 22,
    "start_time": "2021-12-15T22:17:00.394Z"
   },
   {
    "duration": 51,
    "start_time": "2021-12-15T22:17:00.418Z"
   },
   {
    "duration": 24,
    "start_time": "2021-12-15T22:17:00.471Z"
   },
   {
    "duration": 7,
    "start_time": "2021-12-15T22:17:00.498Z"
   },
   {
    "duration": 31,
    "start_time": "2021-12-15T22:17:00.508Z"
   },
   {
    "duration": 30,
    "start_time": "2021-12-15T22:17:00.542Z"
   },
   {
    "duration": 28,
    "start_time": "2021-12-15T22:17:00.575Z"
   },
   {
    "duration": 46,
    "start_time": "2021-12-15T22:17:00.605Z"
   },
   {
    "duration": 23,
    "start_time": "2021-12-15T22:17:00.654Z"
   },
   {
    "duration": 9,
    "start_time": "2021-12-15T22:17:00.679Z"
   },
   {
    "duration": 24,
    "start_time": "2021-12-15T22:17:00.690Z"
   },
   {
    "duration": 980,
    "start_time": "2021-12-15T22:17:00.719Z"
   },
   {
    "duration": 7,
    "start_time": "2021-12-15T22:17:01.703Z"
   },
   {
    "duration": 41,
    "start_time": "2021-12-15T22:17:01.712Z"
   },
   {
    "duration": 1639,
    "start_time": "2021-12-15T22:17:01.755Z"
   },
   {
    "duration": 19,
    "start_time": "2021-12-15T22:17:03.397Z"
   },
   {
    "duration": 44,
    "start_time": "2021-12-15T22:17:03.419Z"
   },
   {
    "duration": 24,
    "start_time": "2021-12-15T22:17:03.465Z"
   },
   {
    "duration": 33,
    "start_time": "2021-12-15T22:17:03.491Z"
   },
   {
    "duration": 29,
    "start_time": "2021-12-15T22:17:03.526Z"
   },
   {
    "duration": 32,
    "start_time": "2021-12-15T22:17:03.557Z"
   },
   {
    "duration": 66,
    "start_time": "2021-12-15T22:17:03.591Z"
   },
   {
    "duration": 18,
    "start_time": "2021-12-15T22:17:03.660Z"
   },
   {
    "duration": 5,
    "start_time": "2021-12-15T22:17:57.545Z"
   },
   {
    "duration": 976,
    "start_time": "2021-12-15T22:19:34.289Z"
   },
   {
    "duration": 36,
    "start_time": "2021-12-15T22:19:35.268Z"
   },
   {
    "duration": 14,
    "start_time": "2021-12-15T22:19:35.308Z"
   },
   {
    "duration": 65,
    "start_time": "2021-12-15T22:19:35.325Z"
   },
   {
    "duration": 25,
    "start_time": "2021-12-15T22:19:35.392Z"
   },
   {
    "duration": 16,
    "start_time": "2021-12-15T22:19:35.420Z"
   },
   {
    "duration": 43,
    "start_time": "2021-12-15T22:19:35.438Z"
   },
   {
    "duration": 11,
    "start_time": "2021-12-15T22:19:35.485Z"
   },
   {
    "duration": 22,
    "start_time": "2021-12-15T22:19:35.499Z"
   },
   {
    "duration": 51,
    "start_time": "2021-12-15T22:19:35.523Z"
   },
   {
    "duration": 43,
    "start_time": "2021-12-15T22:19:35.576Z"
   },
   {
    "duration": 35,
    "start_time": "2021-12-15T22:19:35.621Z"
   },
   {
    "duration": 26,
    "start_time": "2021-12-15T22:19:35.658Z"
   },
   {
    "duration": 51,
    "start_time": "2021-12-15T22:19:35.686Z"
   },
   {
    "duration": 8,
    "start_time": "2021-12-15T22:19:35.740Z"
   },
   {
    "duration": 32,
    "start_time": "2021-12-15T22:19:35.751Z"
   },
   {
    "duration": 20,
    "start_time": "2021-12-15T22:19:35.785Z"
   },
   {
    "duration": 25,
    "start_time": "2021-12-15T22:19:35.808Z"
   },
   {
    "duration": 38,
    "start_time": "2021-12-15T22:19:35.835Z"
   },
   {
    "duration": 25,
    "start_time": "2021-12-15T22:19:35.875Z"
   },
   {
    "duration": 10,
    "start_time": "2021-12-15T22:19:35.903Z"
   },
   {
    "duration": 29,
    "start_time": "2021-12-15T22:19:35.915Z"
   },
   {
    "duration": 1417,
    "start_time": "2021-12-15T22:19:35.966Z"
   },
   {
    "duration": 9,
    "start_time": "2021-12-15T22:19:37.388Z"
   },
   {
    "duration": 10,
    "start_time": "2021-12-15T22:19:37.399Z"
   },
   {
    "duration": 1525,
    "start_time": "2021-12-15T22:19:37.411Z"
   },
   {
    "duration": 49,
    "start_time": "2021-12-15T22:19:38.939Z"
   },
   {
    "duration": 16,
    "start_time": "2021-12-15T22:19:38.991Z"
   },
   {
    "duration": 7,
    "start_time": "2021-12-15T22:19:39.009Z"
   },
   {
    "duration": 6,
    "start_time": "2021-12-15T22:19:39.018Z"
   },
   {
    "duration": 41,
    "start_time": "2021-12-15T22:19:39.027Z"
   },
   {
    "duration": 17,
    "start_time": "2021-12-15T22:19:39.071Z"
   },
   {
    "duration": 51,
    "start_time": "2021-12-15T22:19:39.091Z"
   },
   {
    "duration": 38,
    "start_time": "2021-12-15T22:19:39.145Z"
   },
   {
    "duration": 884,
    "start_time": "2021-12-15T22:21:01.895Z"
   },
   {
    "duration": 36,
    "start_time": "2021-12-15T22:21:02.782Z"
   },
   {
    "duration": 35,
    "start_time": "2021-12-15T22:21:02.821Z"
   },
   {
    "duration": 56,
    "start_time": "2021-12-15T22:21:02.860Z"
   },
   {
    "duration": 27,
    "start_time": "2021-12-15T22:21:02.918Z"
   },
   {
    "duration": 22,
    "start_time": "2021-12-15T22:21:02.947Z"
   },
   {
    "duration": 11,
    "start_time": "2021-12-15T22:21:02.971Z"
   },
   {
    "duration": 32,
    "start_time": "2021-12-15T22:21:02.988Z"
   },
   {
    "duration": 44,
    "start_time": "2021-12-15T22:21:03.025Z"
   },
   {
    "duration": 35,
    "start_time": "2021-12-15T22:21:03.071Z"
   },
   {
    "duration": 31,
    "start_time": "2021-12-15T22:21:03.109Z"
   },
   {
    "duration": 52,
    "start_time": "2021-12-15T22:21:03.143Z"
   },
   {
    "duration": 22,
    "start_time": "2021-12-15T22:21:03.197Z"
   },
   {
    "duration": 29,
    "start_time": "2021-12-15T22:21:03.223Z"
   },
   {
    "duration": 7,
    "start_time": "2021-12-15T22:21:03.267Z"
   },
   {
    "duration": 27,
    "start_time": "2021-12-15T22:21:03.277Z"
   },
   {
    "duration": 10,
    "start_time": "2021-12-15T22:21:03.307Z"
   },
   {
    "duration": 32,
    "start_time": "2021-12-15T22:21:03.319Z"
   },
   {
    "duration": 40,
    "start_time": "2021-12-15T22:21:03.354Z"
   },
   {
    "duration": 26,
    "start_time": "2021-12-15T22:21:03.396Z"
   },
   {
    "duration": 21,
    "start_time": "2021-12-15T22:21:03.425Z"
   },
   {
    "duration": 25,
    "start_time": "2021-12-15T22:21:03.448Z"
   },
   {
    "duration": 1105,
    "start_time": "2021-12-15T22:21:03.477Z"
   },
   {
    "duration": 10,
    "start_time": "2021-12-15T22:21:04.586Z"
   },
   {
    "duration": 53,
    "start_time": "2021-12-15T22:21:04.599Z"
   },
   {
    "duration": 1649,
    "start_time": "2021-12-15T22:21:04.654Z"
   },
   {
    "duration": 21,
    "start_time": "2021-12-15T22:21:06.305Z"
   },
   {
    "duration": 43,
    "start_time": "2021-12-15T22:21:06.328Z"
   },
   {
    "duration": 6,
    "start_time": "2021-12-15T22:21:06.373Z"
   },
   {
    "duration": 9,
    "start_time": "2021-12-15T22:21:06.382Z"
   },
   {
    "duration": 6,
    "start_time": "2021-12-15T22:21:06.394Z"
   },
   {
    "duration": 9,
    "start_time": "2021-12-15T22:21:06.402Z"
   },
   {
    "duration": 91,
    "start_time": "2021-12-15T22:21:06.414Z"
   },
   {
    "duration": 19,
    "start_time": "2021-12-15T22:21:06.507Z"
   },
   {
    "duration": 961,
    "start_time": "2021-12-15T22:22:10.255Z"
   },
   {
    "duration": 51,
    "start_time": "2021-12-15T22:22:11.219Z"
   },
   {
    "duration": 28,
    "start_time": "2021-12-15T22:22:11.273Z"
   },
   {
    "duration": 72,
    "start_time": "2021-12-15T22:22:11.304Z"
   },
   {
    "duration": 26,
    "start_time": "2021-12-15T22:22:11.378Z"
   },
   {
    "duration": 29,
    "start_time": "2021-12-15T22:22:11.406Z"
   },
   {
    "duration": 24,
    "start_time": "2021-12-15T22:22:11.437Z"
   },
   {
    "duration": 40,
    "start_time": "2021-12-15T22:22:11.464Z"
   },
   {
    "duration": 31,
    "start_time": "2021-12-15T22:22:11.507Z"
   },
   {
    "duration": 27,
    "start_time": "2021-12-15T22:22:11.541Z"
   },
   {
    "duration": 34,
    "start_time": "2021-12-15T22:22:11.570Z"
   },
   {
    "duration": 47,
    "start_time": "2021-12-15T22:22:11.606Z"
   },
   {
    "duration": 27,
    "start_time": "2021-12-15T22:22:11.656Z"
   },
   {
    "duration": 36,
    "start_time": "2021-12-15T22:22:11.686Z"
   },
   {
    "duration": 16,
    "start_time": "2021-12-15T22:22:11.725Z"
   },
   {
    "duration": 44,
    "start_time": "2021-12-15T22:22:11.744Z"
   },
   {
    "duration": 14,
    "start_time": "2021-12-15T22:22:11.790Z"
   },
   {
    "duration": 22,
    "start_time": "2021-12-15T22:22:11.806Z"
   },
   {
    "duration": 47,
    "start_time": "2021-12-15T22:22:11.831Z"
   },
   {
    "duration": 32,
    "start_time": "2021-12-15T22:22:11.881Z"
   },
   {
    "duration": 8,
    "start_time": "2021-12-15T22:22:11.916Z"
   },
   {
    "duration": 22,
    "start_time": "2021-12-15T22:22:11.927Z"
   },
   {
    "duration": 978,
    "start_time": "2021-12-15T22:22:11.968Z"
   },
   {
    "duration": 18,
    "start_time": "2021-12-15T22:22:12.950Z"
   },
   {
    "duration": 29,
    "start_time": "2021-12-15T22:22:12.972Z"
   },
   {
    "duration": 1523,
    "start_time": "2021-12-15T22:22:13.003Z"
   },
   {
    "duration": 40,
    "start_time": "2021-12-15T22:22:14.529Z"
   },
   {
    "duration": 14,
    "start_time": "2021-12-15T22:22:14.572Z"
   },
   {
    "duration": 6,
    "start_time": "2021-12-15T22:22:14.589Z"
   },
   {
    "duration": 10,
    "start_time": "2021-12-15T22:22:14.598Z"
   },
   {
    "duration": 15,
    "start_time": "2021-12-15T22:22:14.610Z"
   },
   {
    "duration": 40,
    "start_time": "2021-12-15T22:22:14.628Z"
   },
   {
    "duration": 41,
    "start_time": "2021-12-15T22:22:14.671Z"
   },
   {
    "duration": 19,
    "start_time": "2021-12-15T22:22:14.714Z"
   },
   {
    "duration": 847,
    "start_time": "2021-12-15T22:23:10.964Z"
   },
   {
    "duration": 33,
    "start_time": "2021-12-15T22:23:11.814Z"
   },
   {
    "duration": 11,
    "start_time": "2021-12-15T22:23:11.870Z"
   },
   {
    "duration": 36,
    "start_time": "2021-12-15T22:23:11.884Z"
   },
   {
    "duration": 63,
    "start_time": "2021-12-15T22:23:11.923Z"
   },
   {
    "duration": 22,
    "start_time": "2021-12-15T22:23:11.990Z"
   },
   {
    "duration": 15,
    "start_time": "2021-12-15T22:23:12.017Z"
   },
   {
    "duration": 37,
    "start_time": "2021-12-15T22:23:12.036Z"
   },
   {
    "duration": 23,
    "start_time": "2021-12-15T22:23:12.075Z"
   },
   {
    "duration": 40,
    "start_time": "2021-12-15T22:23:12.102Z"
   },
   {
    "duration": 45,
    "start_time": "2021-12-15T22:23:12.145Z"
   },
   {
    "duration": 35,
    "start_time": "2021-12-15T22:23:12.193Z"
   },
   {
    "duration": 53,
    "start_time": "2021-12-15T22:23:12.232Z"
   },
   {
    "duration": 37,
    "start_time": "2021-12-15T22:23:12.287Z"
   },
   {
    "duration": 8,
    "start_time": "2021-12-15T22:23:12.327Z"
   },
   {
    "duration": 45,
    "start_time": "2021-12-15T22:23:12.338Z"
   },
   {
    "duration": 15,
    "start_time": "2021-12-15T22:23:12.386Z"
   },
   {
    "duration": 21,
    "start_time": "2021-12-15T22:23:12.403Z"
   },
   {
    "duration": 59,
    "start_time": "2021-12-15T22:23:12.426Z"
   },
   {
    "duration": 22,
    "start_time": "2021-12-15T22:23:12.488Z"
   },
   {
    "duration": 10,
    "start_time": "2021-12-15T22:23:12.514Z"
   },
   {
    "duration": 34,
    "start_time": "2021-12-15T22:23:12.533Z"
   },
   {
    "duration": 990,
    "start_time": "2021-12-15T22:23:12.571Z"
   },
   {
    "duration": 7,
    "start_time": "2021-12-15T22:23:13.568Z"
   },
   {
    "duration": 7,
    "start_time": "2021-12-15T22:23:13.578Z"
   },
   {
    "duration": 1692,
    "start_time": "2021-12-15T22:23:13.588Z"
   },
   {
    "duration": 20,
    "start_time": "2021-12-15T22:23:15.283Z"
   },
   {
    "duration": 15,
    "start_time": "2021-12-15T22:23:15.305Z"
   },
   {
    "duration": 6,
    "start_time": "2021-12-15T22:23:15.323Z"
   },
   {
    "duration": 42,
    "start_time": "2021-12-15T22:23:15.331Z"
   },
   {
    "duration": 7,
    "start_time": "2021-12-15T22:23:15.376Z"
   },
   {
    "duration": 8,
    "start_time": "2021-12-15T22:23:15.385Z"
   },
   {
    "duration": 73,
    "start_time": "2021-12-15T22:23:15.395Z"
   },
   {
    "duration": 18,
    "start_time": "2021-12-15T22:23:15.471Z"
   },
   {
    "duration": 16,
    "start_time": "2021-12-15T22:24:56.664Z"
   },
   {
    "duration": 9,
    "start_time": "2021-12-15T22:25:55.183Z"
   },
   {
    "duration": 440,
    "start_time": "2021-12-15T22:29:47.700Z"
   },
   {
    "duration": 1176,
    "start_time": "2021-12-15T22:30:01.393Z"
   },
   {
    "duration": 53,
    "start_time": "2021-12-15T22:30:02.572Z"
   },
   {
    "duration": 11,
    "start_time": "2021-12-15T22:30:02.629Z"
   },
   {
    "duration": 54,
    "start_time": "2021-12-15T22:30:02.669Z"
   },
   {
    "duration": 63,
    "start_time": "2021-12-15T22:30:02.726Z"
   },
   {
    "duration": 21,
    "start_time": "2021-12-15T22:30:02.792Z"
   },
   {
    "duration": 15,
    "start_time": "2021-12-15T22:30:02.816Z"
   },
   {
    "duration": 38,
    "start_time": "2021-12-15T22:30:02.836Z"
   },
   {
    "duration": 35,
    "start_time": "2021-12-15T22:30:02.877Z"
   },
   {
    "duration": 26,
    "start_time": "2021-12-15T22:30:02.914Z"
   },
   {
    "duration": 38,
    "start_time": "2021-12-15T22:30:02.943Z"
   },
   {
    "duration": 23,
    "start_time": "2021-12-15T22:30:02.983Z"
   },
   {
    "duration": 64,
    "start_time": "2021-12-15T22:30:03.009Z"
   },
   {
    "duration": 26,
    "start_time": "2021-12-15T22:30:03.076Z"
   },
   {
    "duration": 8,
    "start_time": "2021-12-15T22:30:03.105Z"
   },
   {
    "duration": 55,
    "start_time": "2021-12-15T22:30:03.116Z"
   },
   {
    "duration": 24,
    "start_time": "2021-12-15T22:30:03.173Z"
   },
   {
    "duration": 13,
    "start_time": "2021-12-15T22:30:03.199Z"
   },
   {
    "duration": 28,
    "start_time": "2021-12-15T22:30:03.215Z"
   },
   {
    "duration": 41,
    "start_time": "2021-12-15T22:30:03.246Z"
   },
   {
    "duration": 5,
    "start_time": "2021-12-15T22:30:03.290Z"
   },
   {
    "duration": 11,
    "start_time": "2021-12-15T22:30:03.298Z"
   },
   {
    "duration": 1003,
    "start_time": "2021-12-15T22:30:03.314Z"
   },
   {
    "duration": 7,
    "start_time": "2021-12-15T22:30:04.320Z"
   },
   {
    "duration": 6,
    "start_time": "2021-12-15T22:30:04.330Z"
   },
   {
    "duration": 1781,
    "start_time": "2021-12-15T22:30:04.367Z"
   },
   {
    "duration": 30,
    "start_time": "2021-12-15T22:30:06.166Z"
   },
   {
    "duration": 39,
    "start_time": "2021-12-15T22:30:06.199Z"
   },
   {
    "duration": 19,
    "start_time": "2021-12-15T22:30:06.241Z"
   },
   {
    "duration": 38,
    "start_time": "2021-12-15T22:30:06.268Z"
   },
   {
    "duration": 12,
    "start_time": "2021-12-15T22:30:06.309Z"
   },
   {
    "duration": 23,
    "start_time": "2021-12-15T22:30:06.323Z"
   },
   {
    "duration": 71,
    "start_time": "2021-12-15T22:30:06.349Z"
   },
   {
    "duration": 32,
    "start_time": "2021-12-15T22:30:06.423Z"
   },
   {
    "duration": 1394,
    "start_time": "2021-12-15T22:34:49.249Z"
   },
   {
    "duration": 63,
    "start_time": "2021-12-15T22:34:50.646Z"
   },
   {
    "duration": 33,
    "start_time": "2021-12-15T22:34:50.713Z"
   },
   {
    "duration": 51,
    "start_time": "2021-12-15T22:34:50.748Z"
   },
   {
    "duration": 25,
    "start_time": "2021-12-15T22:34:50.801Z"
   },
   {
    "duration": 15,
    "start_time": "2021-12-15T22:34:50.828Z"
   },
   {
    "duration": 11,
    "start_time": "2021-12-15T22:34:50.868Z"
   },
   {
    "duration": 18,
    "start_time": "2021-12-15T22:34:50.882Z"
   },
   {
    "duration": 23,
    "start_time": "2021-12-15T22:34:50.903Z"
   },
   {
    "duration": 47,
    "start_time": "2021-12-15T22:34:50.928Z"
   },
   {
    "duration": 16,
    "start_time": "2021-12-15T22:34:50.978Z"
   },
   {
    "duration": 35,
    "start_time": "2021-12-15T22:34:50.997Z"
   },
   {
    "duration": 58,
    "start_time": "2021-12-15T22:34:51.035Z"
   },
   {
    "duration": 33,
    "start_time": "2021-12-15T22:34:51.096Z"
   },
   {
    "duration": 37,
    "start_time": "2021-12-15T22:34:51.132Z"
   },
   {
    "duration": 22,
    "start_time": "2021-12-15T22:34:51.171Z"
   },
   {
    "duration": 13,
    "start_time": "2021-12-15T22:34:51.196Z"
   },
   {
    "duration": 11,
    "start_time": "2021-12-15T22:34:51.212Z"
   },
   {
    "duration": 73,
    "start_time": "2021-12-15T22:34:51.226Z"
   },
   {
    "duration": 32,
    "start_time": "2021-12-15T22:34:51.302Z"
   },
   {
    "duration": 31,
    "start_time": "2021-12-15T22:34:51.337Z"
   },
   {
    "duration": 10,
    "start_time": "2021-12-15T22:34:51.371Z"
   },
   {
    "duration": 968,
    "start_time": "2021-12-15T22:34:51.387Z"
   },
   {
    "duration": 7,
    "start_time": "2021-12-15T22:34:52.368Z"
   },
   {
    "duration": 31,
    "start_time": "2021-12-15T22:34:52.378Z"
   },
   {
    "duration": 1659,
    "start_time": "2021-12-15T22:34:52.412Z"
   },
   {
    "duration": 21,
    "start_time": "2021-12-15T22:34:54.074Z"
   },
   {
    "duration": 18,
    "start_time": "2021-12-15T22:34:54.097Z"
   },
   {
    "duration": 8,
    "start_time": "2021-12-15T22:34:54.120Z"
   },
   {
    "duration": 6,
    "start_time": "2021-12-15T22:34:54.167Z"
   },
   {
    "duration": 6,
    "start_time": "2021-12-15T22:34:54.176Z"
   },
   {
    "duration": 7,
    "start_time": "2021-12-15T22:34:54.185Z"
   },
   {
    "duration": 77,
    "start_time": "2021-12-15T22:34:54.195Z"
   },
   {
    "duration": 19,
    "start_time": "2021-12-15T22:34:54.275Z"
   },
   {
    "duration": 895,
    "start_time": "2021-12-16T13:58:20.081Z"
   },
   {
    "duration": 34,
    "start_time": "2021-12-16T13:58:20.980Z"
   },
   {
    "duration": 10,
    "start_time": "2021-12-16T13:58:21.017Z"
   },
   {
    "duration": 70,
    "start_time": "2021-12-16T13:58:21.030Z"
   },
   {
    "duration": 28,
    "start_time": "2021-12-16T13:58:21.103Z"
   },
   {
    "duration": 49,
    "start_time": "2021-12-16T13:58:21.134Z"
   },
   {
    "duration": 12,
    "start_time": "2021-12-16T13:58:21.185Z"
   },
   {
    "duration": 9,
    "start_time": "2021-12-16T13:58:21.201Z"
   },
   {
    "duration": 23,
    "start_time": "2021-12-16T13:58:21.213Z"
   },
   {
    "duration": 49,
    "start_time": "2021-12-16T13:58:21.238Z"
   },
   {
    "duration": 24,
    "start_time": "2021-12-16T13:58:21.289Z"
   },
   {
    "duration": 22,
    "start_time": "2021-12-16T13:58:21.315Z"
   },
   {
    "duration": 50,
    "start_time": "2021-12-16T13:58:21.340Z"
   },
   {
    "duration": 24,
    "start_time": "2021-12-16T13:58:21.392Z"
   },
   {
    "duration": 7,
    "start_time": "2021-12-16T13:58:21.419Z"
   },
   {
    "duration": 55,
    "start_time": "2021-12-16T13:58:21.428Z"
   },
   {
    "duration": 14,
    "start_time": "2021-12-16T13:58:21.485Z"
   },
   {
    "duration": 11,
    "start_time": "2021-12-16T13:58:21.502Z"
   },
   {
    "duration": 70,
    "start_time": "2021-12-16T13:58:21.516Z"
   },
   {
    "duration": 23,
    "start_time": "2021-12-16T13:58:21.589Z"
   },
   {
    "duration": 9,
    "start_time": "2021-12-16T13:58:21.615Z"
   },
   {
    "duration": 8,
    "start_time": "2021-12-16T13:58:21.626Z"
   },
   {
    "duration": 975,
    "start_time": "2021-12-16T13:58:21.667Z"
   },
   {
    "duration": 8,
    "start_time": "2021-12-16T13:58:22.646Z"
   },
   {
    "duration": 10,
    "start_time": "2021-12-16T13:58:22.667Z"
   },
   {
    "duration": 1658,
    "start_time": "2021-12-16T13:58:22.680Z"
   },
   {
    "duration": 35,
    "start_time": "2021-12-16T13:58:24.340Z"
   },
   {
    "duration": 16,
    "start_time": "2021-12-16T13:58:24.377Z"
   },
   {
    "duration": 6,
    "start_time": "2021-12-16T13:58:24.395Z"
   },
   {
    "duration": 10,
    "start_time": "2021-12-16T13:58:24.403Z"
   },
   {
    "duration": 7,
    "start_time": "2021-12-16T13:58:24.415Z"
   },
   {
    "duration": 57,
    "start_time": "2021-12-16T13:58:24.424Z"
   },
   {
    "duration": 43,
    "start_time": "2021-12-16T13:58:24.484Z"
   },
   {
    "duration": 37,
    "start_time": "2021-12-16T13:58:24.530Z"
   },
   {
    "duration": 852,
    "start_time": "2021-12-16T13:59:41.695Z"
   },
   {
    "duration": 49,
    "start_time": "2021-12-16T13:59:42.550Z"
   },
   {
    "duration": 8,
    "start_time": "2021-12-16T13:59:42.602Z"
   },
   {
    "duration": 59,
    "start_time": "2021-12-16T13:59:42.612Z"
   },
   {
    "duration": 28,
    "start_time": "2021-12-16T13:59:42.673Z"
   },
   {
    "duration": 15,
    "start_time": "2021-12-16T13:59:42.704Z"
   },
   {
    "duration": 45,
    "start_time": "2021-12-16T13:59:42.722Z"
   },
   {
    "duration": 10,
    "start_time": "2021-12-16T13:59:42.773Z"
   },
   {
    "duration": 29,
    "start_time": "2021-12-16T13:59:42.787Z"
   },
   {
    "duration": 42,
    "start_time": "2021-12-16T13:59:42.819Z"
   },
   {
    "duration": 25,
    "start_time": "2021-12-16T13:59:42.863Z"
   },
   {
    "duration": 26,
    "start_time": "2021-12-16T13:59:42.890Z"
   },
   {
    "duration": 24,
    "start_time": "2021-12-16T13:59:42.918Z"
   },
   {
    "duration": 44,
    "start_time": "2021-12-16T13:59:42.944Z"
   },
   {
    "duration": 7,
    "start_time": "2021-12-16T13:59:42.991Z"
   },
   {
    "duration": 30,
    "start_time": "2021-12-16T13:59:43.000Z"
   },
   {
    "duration": 16,
    "start_time": "2021-12-16T13:59:43.033Z"
   },
   {
    "duration": 14,
    "start_time": "2021-12-16T13:59:43.068Z"
   },
   {
    "duration": 45,
    "start_time": "2021-12-16T13:59:43.084Z"
   },
   {
    "duration": 23,
    "start_time": "2021-12-16T13:59:43.131Z"
   },
   {
    "duration": 12,
    "start_time": "2021-12-16T13:59:43.156Z"
   },
   {
    "duration": 13,
    "start_time": "2021-12-16T13:59:43.172Z"
   },
   {
    "duration": 987,
    "start_time": "2021-12-16T13:59:43.191Z"
   },
   {
    "duration": 7,
    "start_time": "2021-12-16T13:59:44.193Z"
   },
   {
    "duration": 11,
    "start_time": "2021-12-16T13:59:44.202Z"
   },
   {
    "duration": 1600,
    "start_time": "2021-12-16T13:59:44.215Z"
   },
   {
    "duration": 19,
    "start_time": "2021-12-16T13:59:45.817Z"
   },
   {
    "duration": 42,
    "start_time": "2021-12-16T13:59:45.839Z"
   },
   {
    "duration": 6,
    "start_time": "2021-12-16T13:59:45.883Z"
   },
   {
    "duration": 16,
    "start_time": "2021-12-16T13:59:45.891Z"
   },
   {
    "duration": 16,
    "start_time": "2021-12-16T13:59:45.909Z"
   },
   {
    "duration": 7,
    "start_time": "2021-12-16T13:59:45.927Z"
   },
   {
    "duration": 63,
    "start_time": "2021-12-16T13:59:45.936Z"
   },
   {
    "duration": 20,
    "start_time": "2021-12-16T13:59:46.001Z"
   },
   {
    "duration": 15,
    "start_time": "2021-12-16T14:02:51.526Z"
   },
   {
    "duration": 6,
    "start_time": "2021-12-16T14:04:07.305Z"
   },
   {
    "duration": 132,
    "start_time": "2021-12-16T14:05:11.923Z"
   },
   {
    "duration": 102,
    "start_time": "2021-12-16T14:05:28.287Z"
   },
   {
    "duration": 6,
    "start_time": "2021-12-16T14:05:34.430Z"
   },
   {
    "duration": 6,
    "start_time": "2021-12-16T14:05:44.271Z"
   },
   {
    "duration": 4,
    "start_time": "2021-12-16T14:05:46.340Z"
   },
   {
    "duration": 3,
    "start_time": "2021-12-16T14:05:58.788Z"
   },
   {
    "duration": 4,
    "start_time": "2021-12-16T14:06:04.733Z"
   },
   {
    "duration": 856,
    "start_time": "2021-12-16T14:07:13.271Z"
   },
   {
    "duration": 56,
    "start_time": "2021-12-16T14:07:14.131Z"
   },
   {
    "duration": 8,
    "start_time": "2021-12-16T14:07:14.190Z"
   },
   {
    "duration": 58,
    "start_time": "2021-12-16T14:07:14.200Z"
   },
   {
    "duration": 29,
    "start_time": "2021-12-16T14:07:14.260Z"
   },
   {
    "duration": 17,
    "start_time": "2021-12-16T14:07:14.291Z"
   },
   {
    "duration": 43,
    "start_time": "2021-12-16T14:07:14.311Z"
   },
   {
    "duration": 35,
    "start_time": "2021-12-16T14:07:14.356Z"
   },
   {
    "duration": 47,
    "start_time": "2021-12-16T14:07:14.396Z"
   },
   {
    "duration": 47,
    "start_time": "2021-12-16T14:07:14.447Z"
   },
   {
    "duration": 30,
    "start_time": "2021-12-16T14:07:14.496Z"
   },
   {
    "duration": 37,
    "start_time": "2021-12-16T14:07:14.528Z"
   },
   {
    "duration": 39,
    "start_time": "2021-12-16T14:07:14.567Z"
   },
   {
    "duration": 58,
    "start_time": "2021-12-16T14:07:14.608Z"
   },
   {
    "duration": 9,
    "start_time": "2021-12-16T14:07:14.674Z"
   },
   {
    "duration": 44,
    "start_time": "2021-12-16T14:07:14.685Z"
   },
   {
    "duration": 29,
    "start_time": "2021-12-16T14:07:14.732Z"
   },
   {
    "duration": 28,
    "start_time": "2021-12-16T14:07:14.763Z"
   },
   {
    "duration": 47,
    "start_time": "2021-12-16T14:07:14.793Z"
   },
   {
    "duration": 33,
    "start_time": "2021-12-16T14:07:14.843Z"
   },
   {
    "duration": 9,
    "start_time": "2021-12-16T14:07:14.878Z"
   },
   {
    "duration": 37,
    "start_time": "2021-12-16T14:07:14.889Z"
   },
   {
    "duration": 1015,
    "start_time": "2021-12-16T14:07:14.929Z"
   },
   {
    "duration": 7,
    "start_time": "2021-12-16T14:07:15.947Z"
   },
   {
    "duration": 9,
    "start_time": "2021-12-16T14:07:15.970Z"
   },
   {
    "duration": 13,
    "start_time": "2021-12-16T14:07:15.982Z"
   },
   {
    "duration": 1595,
    "start_time": "2021-12-16T14:07:16.001Z"
   },
   {
    "duration": 21,
    "start_time": "2021-12-16T14:07:17.598Z"
   },
   {
    "duration": 15,
    "start_time": "2021-12-16T14:07:17.621Z"
   },
   {
    "duration": 37,
    "start_time": "2021-12-16T14:07:17.638Z"
   },
   {
    "duration": 8,
    "start_time": "2021-12-16T14:07:17.678Z"
   },
   {
    "duration": 5,
    "start_time": "2021-12-16T14:07:17.688Z"
   },
   {
    "duration": 8,
    "start_time": "2021-12-16T14:07:17.696Z"
   },
   {
    "duration": 94,
    "start_time": "2021-12-16T14:07:17.706Z"
   },
   {
    "duration": 20,
    "start_time": "2021-12-16T14:07:17.802Z"
   },
   {
    "duration": 14,
    "start_time": "2021-12-16T14:07:17.824Z"
   },
   {
    "duration": 882,
    "start_time": "2021-12-16T14:07:39.179Z"
   },
   {
    "duration": 41,
    "start_time": "2021-12-16T14:07:40.063Z"
   },
   {
    "duration": 67,
    "start_time": "2021-12-16T14:07:40.108Z"
   },
   {
    "duration": 44,
    "start_time": "2021-12-16T14:07:40.178Z"
   },
   {
    "duration": 24,
    "start_time": "2021-12-16T14:07:40.224Z"
   },
   {
    "duration": 37,
    "start_time": "2021-12-16T14:07:40.251Z"
   },
   {
    "duration": 21,
    "start_time": "2021-12-16T14:07:40.291Z"
   },
   {
    "duration": 9,
    "start_time": "2021-12-16T14:07:40.318Z"
   },
   {
    "duration": 51,
    "start_time": "2021-12-16T14:07:40.331Z"
   },
   {
    "duration": 19,
    "start_time": "2021-12-16T14:07:40.384Z"
   },
   {
    "duration": 17,
    "start_time": "2021-12-16T14:07:40.406Z"
   },
   {
    "duration": 49,
    "start_time": "2021-12-16T14:07:40.426Z"
   },
   {
    "duration": 21,
    "start_time": "2021-12-16T14:07:40.478Z"
   },
   {
    "duration": 26,
    "start_time": "2021-12-16T14:07:40.502Z"
   },
   {
    "duration": 38,
    "start_time": "2021-12-16T14:07:40.531Z"
   },
   {
    "duration": 20,
    "start_time": "2021-12-16T14:07:40.571Z"
   },
   {
    "duration": 10,
    "start_time": "2021-12-16T14:07:40.595Z"
   },
   {
    "duration": 18,
    "start_time": "2021-12-16T14:07:40.607Z"
   },
   {
    "duration": 66,
    "start_time": "2021-12-16T14:07:40.627Z"
   },
   {
    "duration": 24,
    "start_time": "2021-12-16T14:07:40.695Z"
   },
   {
    "duration": 8,
    "start_time": "2021-12-16T14:07:40.721Z"
   },
   {
    "duration": 7,
    "start_time": "2021-12-16T14:07:40.732Z"
   },
   {
    "duration": 1111,
    "start_time": "2021-12-16T14:07:40.744Z"
   },
   {
    "duration": 13,
    "start_time": "2021-12-16T14:07:41.858Z"
   },
   {
    "duration": 10,
    "start_time": "2021-12-16T14:07:41.874Z"
   },
   {
    "duration": 12,
    "start_time": "2021-12-16T14:07:41.887Z"
   },
   {
    "duration": 1592,
    "start_time": "2021-12-16T14:07:41.901Z"
   },
   {
    "duration": 19,
    "start_time": "2021-12-16T14:07:43.496Z"
   },
   {
    "duration": 14,
    "start_time": "2021-12-16T14:07:43.518Z"
   },
   {
    "duration": 35,
    "start_time": "2021-12-16T14:07:43.534Z"
   },
   {
    "duration": 13,
    "start_time": "2021-12-16T14:07:43.571Z"
   },
   {
    "duration": 5,
    "start_time": "2021-12-16T14:07:43.587Z"
   },
   {
    "duration": 10,
    "start_time": "2021-12-16T14:07:43.595Z"
   },
   {
    "duration": 77,
    "start_time": "2021-12-16T14:07:43.607Z"
   },
   {
    "duration": 19,
    "start_time": "2021-12-16T14:07:43.687Z"
   },
   {
    "duration": 14,
    "start_time": "2021-12-16T14:07:43.708Z"
   },
   {
    "duration": 864,
    "start_time": "2021-12-16T14:08:25.688Z"
   },
   {
    "duration": 43,
    "start_time": "2021-12-16T14:08:26.555Z"
   },
   {
    "duration": 10,
    "start_time": "2021-12-16T14:08:26.602Z"
   },
   {
    "duration": 71,
    "start_time": "2021-12-16T14:08:26.616Z"
   },
   {
    "duration": 26,
    "start_time": "2021-12-16T14:08:26.689Z"
   },
   {
    "duration": 15,
    "start_time": "2021-12-16T14:08:26.717Z"
   },
   {
    "duration": 42,
    "start_time": "2021-12-16T14:08:26.734Z"
   },
   {
    "duration": 11,
    "start_time": "2021-12-16T14:08:26.782Z"
   },
   {
    "duration": 20,
    "start_time": "2021-12-16T14:08:26.797Z"
   },
   {
    "duration": 62,
    "start_time": "2021-12-16T14:08:26.819Z"
   },
   {
    "duration": 16,
    "start_time": "2021-12-16T14:08:26.884Z"
   },
   {
    "duration": 22,
    "start_time": "2021-12-16T14:08:26.902Z"
   },
   {
    "duration": 57,
    "start_time": "2021-12-16T14:08:26.927Z"
   },
   {
    "duration": 25,
    "start_time": "2021-12-16T14:08:26.986Z"
   },
   {
    "duration": 7,
    "start_time": "2021-12-16T14:08:27.013Z"
   },
   {
    "duration": 20,
    "start_time": "2021-12-16T14:08:27.022Z"
   },
   {
    "duration": 12,
    "start_time": "2021-12-16T14:08:27.067Z"
   },
   {
    "duration": 19,
    "start_time": "2021-12-16T14:08:27.083Z"
   },
   {
    "duration": 34,
    "start_time": "2021-12-16T14:08:27.104Z"
   },
   {
    "duration": 43,
    "start_time": "2021-12-16T14:08:27.140Z"
   },
   {
    "duration": 9,
    "start_time": "2021-12-16T14:08:27.185Z"
   },
   {
    "duration": 28,
    "start_time": "2021-12-16T14:08:27.197Z"
   },
   {
    "duration": 994,
    "start_time": "2021-12-16T14:08:27.232Z"
   },
   {
    "duration": 7,
    "start_time": "2021-12-16T14:08:28.230Z"
   },
   {
    "duration": 27,
    "start_time": "2021-12-16T14:08:28.240Z"
   },
   {
    "duration": 24,
    "start_time": "2021-12-16T14:08:28.269Z"
   },
   {
    "duration": 1686,
    "start_time": "2021-12-16T14:08:28.296Z"
   },
   {
    "duration": 19,
    "start_time": "2021-12-16T14:08:29.985Z"
   },
   {
    "duration": 42,
    "start_time": "2021-12-16T14:08:30.007Z"
   },
   {
    "duration": 35,
    "start_time": "2021-12-16T14:08:30.051Z"
   },
   {
    "duration": 66,
    "start_time": "2021-12-16T14:08:30.088Z"
   },
   {
    "duration": 24,
    "start_time": "2021-12-16T14:08:30.156Z"
   },
   {
    "duration": 35,
    "start_time": "2021-12-16T14:08:30.182Z"
   },
   {
    "duration": 74,
    "start_time": "2021-12-16T14:08:30.220Z"
   },
   {
    "duration": 22,
    "start_time": "2021-12-16T14:08:30.297Z"
   },
   {
    "duration": 30,
    "start_time": "2021-12-16T14:08:30.322Z"
   },
   {
    "duration": 842,
    "start_time": "2021-12-16T14:09:01.733Z"
   },
   {
    "duration": 37,
    "start_time": "2021-12-16T14:09:02.580Z"
   },
   {
    "duration": 10,
    "start_time": "2021-12-16T14:09:02.621Z"
   },
   {
    "duration": 66,
    "start_time": "2021-12-16T14:09:02.635Z"
   },
   {
    "duration": 28,
    "start_time": "2021-12-16T14:09:02.703Z"
   },
   {
    "duration": 41,
    "start_time": "2021-12-16T14:09:02.734Z"
   },
   {
    "duration": 12,
    "start_time": "2021-12-16T14:09:02.777Z"
   },
   {
    "duration": 18,
    "start_time": "2021-12-16T14:09:02.792Z"
   },
   {
    "duration": 25,
    "start_time": "2021-12-16T14:09:02.813Z"
   },
   {
    "duration": 46,
    "start_time": "2021-12-16T14:09:02.840Z"
   },
   {
    "duration": 16,
    "start_time": "2021-12-16T14:09:02.889Z"
   },
   {
    "duration": 21,
    "start_time": "2021-12-16T14:09:02.908Z"
   },
   {
    "duration": 62,
    "start_time": "2021-12-16T14:09:02.931Z"
   },
   {
    "duration": 25,
    "start_time": "2021-12-16T14:09:02.996Z"
   },
   {
    "duration": 8,
    "start_time": "2021-12-16T14:09:03.023Z"
   },
   {
    "duration": 62,
    "start_time": "2021-12-16T14:09:03.033Z"
   },
   {
    "duration": 12,
    "start_time": "2021-12-16T14:09:03.098Z"
   },
   {
    "duration": 11,
    "start_time": "2021-12-16T14:09:03.113Z"
   },
   {
    "duration": 60,
    "start_time": "2021-12-16T14:09:03.127Z"
   },
   {
    "duration": 25,
    "start_time": "2021-12-16T14:09:03.190Z"
   },
   {
    "duration": 8,
    "start_time": "2021-12-16T14:09:03.218Z"
   },
   {
    "duration": 39,
    "start_time": "2021-12-16T14:09:03.228Z"
   },
   {
    "duration": 987,
    "start_time": "2021-12-16T14:09:03.280Z"
   },
   {
    "duration": 8,
    "start_time": "2021-12-16T14:09:04.271Z"
   },
   {
    "duration": 6,
    "start_time": "2021-12-16T14:09:04.281Z"
   },
   {
    "duration": 818,
    "start_time": "2021-12-16T14:09:04.289Z"
   },
   {
    "duration": 6471,
    "start_time": "2021-12-16T14:08:58.638Z"
   },
   {
    "duration": 6467,
    "start_time": "2021-12-16T14:08:58.644Z"
   },
   {
    "duration": 6465,
    "start_time": "2021-12-16T14:08:58.648Z"
   },
   {
    "duration": 6462,
    "start_time": "2021-12-16T14:08:58.652Z"
   },
   {
    "duration": 6460,
    "start_time": "2021-12-16T14:08:58.655Z"
   },
   {
    "duration": 6460,
    "start_time": "2021-12-16T14:08:58.657Z"
   },
   {
    "duration": 6460,
    "start_time": "2021-12-16T14:08:58.658Z"
   },
   {
    "duration": 6458,
    "start_time": "2021-12-16T14:08:58.662Z"
   },
   {
    "duration": 6451,
    "start_time": "2021-12-16T14:08:58.670Z"
   },
   {
    "duration": 6439,
    "start_time": "2021-12-16T14:08:58.683Z"
   },
   {
    "duration": 989,
    "start_time": "2021-12-16T14:09:21.904Z"
   },
   {
    "duration": 35,
    "start_time": "2021-12-16T14:09:22.896Z"
   },
   {
    "duration": 9,
    "start_time": "2021-12-16T14:09:22.934Z"
   },
   {
    "duration": 58,
    "start_time": "2021-12-16T14:09:22.945Z"
   },
   {
    "duration": 27,
    "start_time": "2021-12-16T14:09:23.006Z"
   },
   {
    "duration": 47,
    "start_time": "2021-12-16T14:09:23.036Z"
   },
   {
    "duration": 12,
    "start_time": "2021-12-16T14:09:23.085Z"
   },
   {
    "duration": 27,
    "start_time": "2021-12-16T14:09:23.103Z"
   },
   {
    "duration": 42,
    "start_time": "2021-12-16T14:09:23.134Z"
   },
   {
    "duration": 34,
    "start_time": "2021-12-16T14:09:23.179Z"
   },
   {
    "duration": 43,
    "start_time": "2021-12-16T14:09:23.215Z"
   },
   {
    "duration": 33,
    "start_time": "2021-12-16T14:09:23.261Z"
   },
   {
    "duration": 33,
    "start_time": "2021-12-16T14:09:23.296Z"
   },
   {
    "duration": 30,
    "start_time": "2021-12-16T14:09:23.331Z"
   },
   {
    "duration": 19,
    "start_time": "2021-12-16T14:09:23.363Z"
   },
   {
    "duration": 28,
    "start_time": "2021-12-16T14:09:23.385Z"
   },
   {
    "duration": 13,
    "start_time": "2021-12-16T14:09:23.415Z"
   },
   {
    "duration": 17,
    "start_time": "2021-12-16T14:09:23.430Z"
   },
   {
    "duration": 54,
    "start_time": "2021-12-16T14:09:23.449Z"
   },
   {
    "duration": 22,
    "start_time": "2021-12-16T14:09:23.505Z"
   },
   {
    "duration": 15,
    "start_time": "2021-12-16T14:09:23.529Z"
   },
   {
    "duration": 28,
    "start_time": "2021-12-16T14:09:23.546Z"
   },
   {
    "duration": 1037,
    "start_time": "2021-12-16T14:09:23.583Z"
   },
   {
    "duration": 7,
    "start_time": "2021-12-16T14:09:24.623Z"
   },
   {
    "duration": 27,
    "start_time": "2021-12-16T14:09:24.634Z"
   },
   {
    "duration": 25,
    "start_time": "2021-12-16T14:09:24.663Z"
   },
   {
    "duration": 1749,
    "start_time": "2021-12-16T14:09:24.690Z"
   },
   {
    "duration": 39,
    "start_time": "2021-12-16T14:09:26.442Z"
   },
   {
    "duration": 14,
    "start_time": "2021-12-16T14:09:26.484Z"
   },
   {
    "duration": 6,
    "start_time": "2021-12-16T14:09:26.500Z"
   },
   {
    "duration": 6,
    "start_time": "2021-12-16T14:09:26.509Z"
   },
   {
    "duration": 6,
    "start_time": "2021-12-16T14:09:26.518Z"
   },
   {
    "duration": 49,
    "start_time": "2021-12-16T14:09:26.527Z"
   },
   {
    "duration": 56,
    "start_time": "2021-12-16T14:09:26.581Z"
   },
   {
    "duration": 33,
    "start_time": "2021-12-16T14:09:26.639Z"
   },
   {
    "duration": 16,
    "start_time": "2021-12-16T14:09:26.675Z"
   },
   {
    "duration": 896,
    "start_time": "2021-12-16T14:10:10.329Z"
   },
   {
    "duration": 49,
    "start_time": "2021-12-16T14:10:11.228Z"
   },
   {
    "duration": 9,
    "start_time": "2021-12-16T14:10:11.280Z"
   },
   {
    "duration": 53,
    "start_time": "2021-12-16T14:10:11.291Z"
   },
   {
    "duration": 45,
    "start_time": "2021-12-16T14:10:11.347Z"
   },
   {
    "duration": 17,
    "start_time": "2021-12-16T14:10:11.395Z"
   },
   {
    "duration": 40,
    "start_time": "2021-12-16T14:10:11.414Z"
   },
   {
    "duration": 30,
    "start_time": "2021-12-16T14:10:11.458Z"
   },
   {
    "duration": 36,
    "start_time": "2021-12-16T14:10:11.492Z"
   },
   {
    "duration": 49,
    "start_time": "2021-12-16T14:10:11.530Z"
   },
   {
    "duration": 34,
    "start_time": "2021-12-16T14:10:11.582Z"
   },
   {
    "duration": 33,
    "start_time": "2021-12-16T14:10:11.619Z"
   },
   {
    "duration": 32,
    "start_time": "2021-12-16T14:10:11.655Z"
   },
   {
    "duration": 47,
    "start_time": "2021-12-16T14:10:11.690Z"
   },
   {
    "duration": 14,
    "start_time": "2021-12-16T14:10:11.739Z"
   },
   {
    "duration": 37,
    "start_time": "2021-12-16T14:10:11.756Z"
   },
   {
    "duration": 26,
    "start_time": "2021-12-16T14:10:11.796Z"
   },
   {
    "duration": 44,
    "start_time": "2021-12-16T14:10:11.824Z"
   },
   {
    "duration": 33,
    "start_time": "2021-12-16T14:10:11.873Z"
   },
   {
    "duration": 26,
    "start_time": "2021-12-16T14:10:11.909Z"
   },
   {
    "duration": 25,
    "start_time": "2021-12-16T14:10:11.938Z"
   },
   {
    "duration": 36,
    "start_time": "2021-12-16T14:10:11.965Z"
   },
   {
    "duration": 1014,
    "start_time": "2021-12-16T14:10:12.006Z"
   },
   {
    "duration": 7,
    "start_time": "2021-12-16T14:10:13.023Z"
   },
   {
    "duration": 44,
    "start_time": "2021-12-16T14:10:13.032Z"
   },
   {
    "duration": 36,
    "start_time": "2021-12-16T14:10:13.079Z"
   },
   {
    "duration": 1628,
    "start_time": "2021-12-16T14:10:13.117Z"
   },
   {
    "duration": 38,
    "start_time": "2021-12-16T14:10:14.748Z"
   },
   {
    "duration": 15,
    "start_time": "2021-12-16T14:10:14.789Z"
   },
   {
    "duration": 9,
    "start_time": "2021-12-16T14:10:14.807Z"
   },
   {
    "duration": 17,
    "start_time": "2021-12-16T14:10:14.818Z"
   },
   {
    "duration": 34,
    "start_time": "2021-12-16T14:10:14.837Z"
   },
   {
    "duration": 10,
    "start_time": "2021-12-16T14:10:14.874Z"
   },
   {
    "duration": 44,
    "start_time": "2021-12-16T14:10:14.886Z"
   },
   {
    "duration": 48,
    "start_time": "2021-12-16T14:10:14.933Z"
   },
   {
    "duration": 17,
    "start_time": "2021-12-16T14:10:14.983Z"
   },
   {
    "duration": 87,
    "start_time": "2021-12-16T14:10:43.627Z"
   },
   {
    "duration": 99,
    "start_time": "2021-12-16T14:11:02.662Z"
   },
   {
    "duration": 136,
    "start_time": "2021-12-16T14:11:10.401Z"
   },
   {
    "duration": 900,
    "start_time": "2021-12-16T14:12:12.794Z"
   },
   {
    "duration": 38,
    "start_time": "2021-12-16T14:12:13.697Z"
   },
   {
    "duration": 39,
    "start_time": "2021-12-16T14:12:13.738Z"
   },
   {
    "duration": 39,
    "start_time": "2021-12-16T14:12:13.780Z"
   },
   {
    "duration": 29,
    "start_time": "2021-12-16T14:12:13.821Z"
   },
   {
    "duration": 36,
    "start_time": "2021-12-16T14:12:13.852Z"
   },
   {
    "duration": 20,
    "start_time": "2021-12-16T14:12:13.890Z"
   },
   {
    "duration": 29,
    "start_time": "2021-12-16T14:12:13.914Z"
   },
   {
    "duration": 29,
    "start_time": "2021-12-16T14:12:13.946Z"
   },
   {
    "duration": 33,
    "start_time": "2021-12-16T14:12:13.980Z"
   },
   {
    "duration": 43,
    "start_time": "2021-12-16T14:12:14.015Z"
   },
   {
    "duration": 31,
    "start_time": "2021-12-16T14:12:14.061Z"
   },
   {
    "duration": 20,
    "start_time": "2021-12-16T14:12:14.095Z"
   },
   {
    "duration": 54,
    "start_time": "2021-12-16T14:12:14.118Z"
   },
   {
    "duration": 22,
    "start_time": "2021-12-16T14:12:14.175Z"
   },
   {
    "duration": 41,
    "start_time": "2021-12-16T14:12:14.200Z"
   },
   {
    "duration": 22,
    "start_time": "2021-12-16T14:12:14.244Z"
   },
   {
    "duration": 37,
    "start_time": "2021-12-16T14:12:14.271Z"
   },
   {
    "duration": 46,
    "start_time": "2021-12-16T14:12:14.310Z"
   },
   {
    "duration": 25,
    "start_time": "2021-12-16T14:12:14.359Z"
   },
   {
    "duration": 10,
    "start_time": "2021-12-16T14:12:14.387Z"
   },
   {
    "duration": 42,
    "start_time": "2021-12-16T14:12:14.399Z"
   },
   {
    "duration": 992,
    "start_time": "2021-12-16T14:12:14.446Z"
   },
   {
    "duration": 7,
    "start_time": "2021-12-16T14:12:15.442Z"
   },
   {
    "duration": 28,
    "start_time": "2021-12-16T14:12:15.467Z"
   },
   {
    "duration": 54,
    "start_time": "2021-12-16T14:12:15.498Z"
   },
   {
    "duration": 1694,
    "start_time": "2021-12-16T14:12:15.555Z"
   },
   {
    "duration": 35,
    "start_time": "2021-12-16T14:12:17.252Z"
   },
   {
    "duration": 22,
    "start_time": "2021-12-16T14:12:17.289Z"
   },
   {
    "duration": 24,
    "start_time": "2021-12-16T14:12:17.313Z"
   },
   {
    "duration": 35,
    "start_time": "2021-12-16T14:12:17.339Z"
   },
   {
    "duration": 25,
    "start_time": "2021-12-16T14:12:17.376Z"
   },
   {
    "duration": 45,
    "start_time": "2021-12-16T14:12:17.403Z"
   },
   {
    "duration": 79,
    "start_time": "2021-12-16T14:12:17.450Z"
   },
   {
    "duration": 28,
    "start_time": "2021-12-16T14:12:17.531Z"
   },
   {
    "duration": 29,
    "start_time": "2021-12-16T14:12:17.561Z"
   },
   {
    "duration": 877,
    "start_time": "2021-12-16T14:12:35.499Z"
   },
   {
    "duration": 35,
    "start_time": "2021-12-16T14:12:36.383Z"
   },
   {
    "duration": 9,
    "start_time": "2021-12-16T14:12:36.421Z"
   },
   {
    "duration": 75,
    "start_time": "2021-12-16T14:12:36.433Z"
   },
   {
    "duration": 30,
    "start_time": "2021-12-16T14:12:36.510Z"
   },
   {
    "duration": 19,
    "start_time": "2021-12-16T14:12:36.542Z"
   },
   {
    "duration": 19,
    "start_time": "2021-12-16T14:12:36.563Z"
   },
   {
    "duration": 30,
    "start_time": "2021-12-16T14:12:36.588Z"
   },
   {
    "duration": 40,
    "start_time": "2021-12-16T14:12:36.621Z"
   },
   {
    "duration": 51,
    "start_time": "2021-12-16T14:12:36.663Z"
   },
   {
    "duration": 36,
    "start_time": "2021-12-16T14:12:36.717Z"
   },
   {
    "duration": 35,
    "start_time": "2021-12-16T14:12:36.755Z"
   },
   {
    "duration": 29,
    "start_time": "2021-12-16T14:12:36.792Z"
   },
   {
    "duration": 38,
    "start_time": "2021-12-16T14:12:36.824Z"
   },
   {
    "duration": 27,
    "start_time": "2021-12-16T14:12:36.865Z"
   },
   {
    "duration": 37,
    "start_time": "2021-12-16T14:12:36.894Z"
   },
   {
    "duration": 16,
    "start_time": "2021-12-16T14:12:36.933Z"
   },
   {
    "duration": 28,
    "start_time": "2021-12-16T14:12:36.951Z"
   },
   {
    "duration": 45,
    "start_time": "2021-12-16T14:12:36.982Z"
   },
   {
    "duration": 44,
    "start_time": "2021-12-16T14:12:37.030Z"
   },
   {
    "duration": 6,
    "start_time": "2021-12-16T14:12:37.077Z"
   },
   {
    "duration": 23,
    "start_time": "2021-12-16T14:12:37.086Z"
   },
   {
    "duration": 1128,
    "start_time": "2021-12-16T14:12:37.114Z"
   },
   {
    "duration": 8,
    "start_time": "2021-12-16T14:12:38.246Z"
   },
   {
    "duration": 28,
    "start_time": "2021-12-16T14:12:38.269Z"
   },
   {
    "duration": 28,
    "start_time": "2021-12-16T14:12:38.300Z"
   },
   {
    "duration": 1619,
    "start_time": "2021-12-16T14:12:38.331Z"
   },
   {
    "duration": 25,
    "start_time": "2021-12-16T14:12:39.968Z"
   },
   {
    "duration": 18,
    "start_time": "2021-12-16T14:12:39.996Z"
   },
   {
    "duration": 5,
    "start_time": "2021-12-16T14:12:40.017Z"
   },
   {
    "duration": 15,
    "start_time": "2021-12-16T14:12:40.024Z"
   },
   {
    "duration": 22,
    "start_time": "2021-12-16T14:12:40.068Z"
   },
   {
    "duration": 31,
    "start_time": "2021-12-16T14:12:40.093Z"
   },
   {
    "duration": 62,
    "start_time": "2021-12-16T14:12:40.127Z"
   },
   {
    "duration": 20,
    "start_time": "2021-12-16T14:12:40.193Z"
   },
   {
    "duration": 18,
    "start_time": "2021-12-16T14:12:40.216Z"
   },
   {
    "duration": 843,
    "start_time": "2021-12-16T14:13:08.410Z"
   },
   {
    "duration": 42,
    "start_time": "2021-12-16T14:13:09.255Z"
   },
   {
    "duration": 9,
    "start_time": "2021-12-16T14:13:09.301Z"
   },
   {
    "duration": 68,
    "start_time": "2021-12-16T14:13:09.312Z"
   },
   {
    "duration": 36,
    "start_time": "2021-12-16T14:13:09.383Z"
   },
   {
    "duration": 14,
    "start_time": "2021-12-16T14:13:09.422Z"
   },
   {
    "duration": 39,
    "start_time": "2021-12-16T14:13:09.438Z"
   },
   {
    "duration": 30,
    "start_time": "2021-12-16T14:13:09.481Z"
   },
   {
    "duration": 43,
    "start_time": "2021-12-16T14:13:09.514Z"
   },
   {
    "duration": 42,
    "start_time": "2021-12-16T14:13:09.559Z"
   },
   {
    "duration": 40,
    "start_time": "2021-12-16T14:13:09.603Z"
   },
   {
    "duration": 29,
    "start_time": "2021-12-16T14:13:09.645Z"
   },
   {
    "duration": 23,
    "start_time": "2021-12-16T14:13:09.680Z"
   },
   {
    "duration": 51,
    "start_time": "2021-12-16T14:13:09.705Z"
   },
   {
    "duration": 14,
    "start_time": "2021-12-16T14:13:09.758Z"
   },
   {
    "duration": 33,
    "start_time": "2021-12-16T14:13:09.774Z"
   },
   {
    "duration": 18,
    "start_time": "2021-12-16T14:13:09.809Z"
   },
   {
    "duration": 30,
    "start_time": "2021-12-16T14:13:09.830Z"
   },
   {
    "duration": 46,
    "start_time": "2021-12-16T14:13:09.863Z"
   },
   {
    "duration": 25,
    "start_time": "2021-12-16T14:13:09.911Z"
   },
   {
    "duration": 18,
    "start_time": "2021-12-16T14:13:09.939Z"
   },
   {
    "duration": 29,
    "start_time": "2021-12-16T14:13:09.959Z"
   },
   {
    "duration": 1003,
    "start_time": "2021-12-16T14:13:09.993Z"
   },
   {
    "duration": 7,
    "start_time": "2021-12-16T14:13:10.999Z"
   },
   {
    "duration": 33,
    "start_time": "2021-12-16T14:13:11.008Z"
   },
   {
    "duration": 50,
    "start_time": "2021-12-16T14:13:11.044Z"
   },
   {
    "duration": 1642,
    "start_time": "2021-12-16T14:13:11.096Z"
   },
   {
    "duration": 39,
    "start_time": "2021-12-16T14:13:12.741Z"
   },
   {
    "duration": 34,
    "start_time": "2021-12-16T14:13:12.783Z"
   },
   {
    "duration": 9,
    "start_time": "2021-12-16T14:13:12.820Z"
   },
   {
    "duration": 29,
    "start_time": "2021-12-16T14:13:12.831Z"
   },
   {
    "duration": 26,
    "start_time": "2021-12-16T14:13:12.862Z"
   },
   {
    "duration": 26,
    "start_time": "2021-12-16T14:13:12.891Z"
   },
   {
    "duration": 69,
    "start_time": "2021-12-16T14:13:12.919Z"
   },
   {
    "duration": 20,
    "start_time": "2021-12-16T14:13:12.991Z"
   },
   {
    "duration": 17,
    "start_time": "2021-12-16T14:13:13.014Z"
   },
   {
    "duration": 2648,
    "start_time": "2021-12-16T14:14:34.614Z"
   },
   {
    "duration": 36,
    "start_time": "2021-12-16T14:14:37.272Z"
   },
   {
    "duration": 8,
    "start_time": "2021-12-16T14:14:37.312Z"
   },
   {
    "duration": 97,
    "start_time": "2021-12-16T14:14:37.323Z"
   },
   {
    "duration": 38,
    "start_time": "2021-12-16T14:14:37.423Z"
   },
   {
    "duration": 32,
    "start_time": "2021-12-16T14:14:37.464Z"
   },
   {
    "duration": 50,
    "start_time": "2021-12-16T14:14:37.499Z"
   },
   {
    "duration": 55,
    "start_time": "2021-12-16T14:14:37.554Z"
   },
   {
    "duration": 36,
    "start_time": "2021-12-16T14:14:37.611Z"
   },
   {
    "duration": 66,
    "start_time": "2021-12-16T14:14:37.650Z"
   },
   {
    "duration": 48,
    "start_time": "2021-12-16T14:14:37.720Z"
   },
   {
    "duration": 105,
    "start_time": "2021-12-16T14:14:37.770Z"
   },
   {
    "duration": 45,
    "start_time": "2021-12-16T14:14:37.878Z"
   },
   {
    "duration": 55,
    "start_time": "2021-12-16T14:14:37.926Z"
   },
   {
    "duration": 38,
    "start_time": "2021-12-16T14:14:37.984Z"
   },
   {
    "duration": 47,
    "start_time": "2021-12-16T14:14:38.025Z"
   },
   {
    "duration": 26,
    "start_time": "2021-12-16T14:14:38.075Z"
   },
   {
    "duration": 39,
    "start_time": "2021-12-16T14:14:38.104Z"
   },
   {
    "duration": 47,
    "start_time": "2021-12-16T14:14:38.146Z"
   },
   {
    "duration": 28,
    "start_time": "2021-12-16T14:14:38.196Z"
   },
   {
    "duration": 13,
    "start_time": "2021-12-16T14:14:38.227Z"
   },
   {
    "duration": 26,
    "start_time": "2021-12-16T14:14:38.243Z"
   },
   {
    "duration": 1004,
    "start_time": "2021-12-16T14:14:38.279Z"
   },
   {
    "duration": 9,
    "start_time": "2021-12-16T14:14:39.287Z"
   },
   {
    "duration": 60,
    "start_time": "2021-12-16T14:14:39.299Z"
   },
   {
    "duration": 27,
    "start_time": "2021-12-16T14:14:39.362Z"
   },
   {
    "duration": 1614,
    "start_time": "2021-12-16T14:14:39.392Z"
   },
   {
    "duration": 19,
    "start_time": "2021-12-16T14:14:41.008Z"
   },
   {
    "duration": 31,
    "start_time": "2021-12-16T14:14:41.030Z"
   },
   {
    "duration": 9,
    "start_time": "2021-12-16T14:14:41.070Z"
   },
   {
    "duration": 9,
    "start_time": "2021-12-16T14:14:41.081Z"
   },
   {
    "duration": 20,
    "start_time": "2021-12-16T14:14:41.093Z"
   },
   {
    "duration": 16,
    "start_time": "2021-12-16T14:14:41.116Z"
   },
   {
    "duration": 54,
    "start_time": "2021-12-16T14:14:41.135Z"
   },
   {
    "duration": 19,
    "start_time": "2021-12-16T14:14:41.192Z"
   },
   {
    "duration": 15,
    "start_time": "2021-12-16T14:14:41.213Z"
   },
   {
    "duration": 842,
    "start_time": "2021-12-16T14:20:44.419Z"
   },
   {
    "duration": 37,
    "start_time": "2021-12-16T14:20:45.270Z"
   },
   {
    "duration": 9,
    "start_time": "2021-12-16T14:20:45.310Z"
   },
   {
    "duration": 67,
    "start_time": "2021-12-16T14:20:45.322Z"
   },
   {
    "duration": 27,
    "start_time": "2021-12-16T14:20:45.391Z"
   },
   {
    "duration": 15,
    "start_time": "2021-12-16T14:20:45.421Z"
   },
   {
    "duration": 13,
    "start_time": "2021-12-16T14:20:45.467Z"
   },
   {
    "duration": 23,
    "start_time": "2021-12-16T14:20:45.488Z"
   },
   {
    "duration": 28,
    "start_time": "2021-12-16T14:20:45.515Z"
   },
   {
    "duration": 44,
    "start_time": "2021-12-16T14:20:45.546Z"
   },
   {
    "duration": 16,
    "start_time": "2021-12-16T14:20:45.592Z"
   },
   {
    "duration": 24,
    "start_time": "2021-12-16T14:20:45.611Z"
   },
   {
    "duration": 61,
    "start_time": "2021-12-16T14:20:45.639Z"
   },
   {
    "duration": 26,
    "start_time": "2021-12-16T14:20:45.702Z"
   },
   {
    "duration": 8,
    "start_time": "2021-12-16T14:20:45.731Z"
   },
   {
    "duration": 44,
    "start_time": "2021-12-16T14:20:45.742Z"
   },
   {
    "duration": 13,
    "start_time": "2021-12-16T14:20:45.789Z"
   },
   {
    "duration": 14,
    "start_time": "2021-12-16T14:20:45.804Z"
   },
   {
    "duration": 60,
    "start_time": "2021-12-16T14:20:45.821Z"
   },
   {
    "duration": 23,
    "start_time": "2021-12-16T14:20:45.884Z"
   },
   {
    "duration": 9,
    "start_time": "2021-12-16T14:20:45.910Z"
   },
   {
    "duration": 8,
    "start_time": "2021-12-16T14:20:45.922Z"
   },
   {
    "duration": 1021,
    "start_time": "2021-12-16T14:20:45.970Z"
   },
   {
    "duration": 8,
    "start_time": "2021-12-16T14:20:46.996Z"
   },
   {
    "duration": 8,
    "start_time": "2021-12-16T14:20:47.007Z"
   },
   {
    "duration": 7,
    "start_time": "2021-12-16T14:20:47.018Z"
   },
   {
    "duration": 4210,
    "start_time": "2021-12-16T14:20:47.027Z"
   },
   {
    "duration": 43,
    "start_time": "2021-12-16T14:20:51.241Z"
   },
   {
    "duration": 16,
    "start_time": "2021-12-16T14:20:51.286Z"
   },
   {
    "duration": 6,
    "start_time": "2021-12-16T14:20:51.305Z"
   },
   {
    "duration": 9,
    "start_time": "2021-12-16T14:20:51.314Z"
   },
   {
    "duration": 43,
    "start_time": "2021-12-16T14:20:51.326Z"
   },
   {
    "duration": 21,
    "start_time": "2021-12-16T14:20:51.371Z"
   },
   {
    "duration": 86,
    "start_time": "2021-12-16T14:20:51.395Z"
   },
   {
    "duration": 22,
    "start_time": "2021-12-16T14:20:51.484Z"
   },
   {
    "duration": 15,
    "start_time": "2021-12-16T14:20:51.508Z"
   },
   {
    "duration": 5,
    "start_time": "2021-12-16T14:21:45.793Z"
   },
   {
    "duration": 5,
    "start_time": "2021-12-16T14:22:21.094Z"
   },
   {
    "duration": 6,
    "start_time": "2021-12-16T14:22:41.974Z"
   },
   {
    "duration": 420,
    "start_time": "2021-12-16T14:46:45.646Z"
   },
   {
    "duration": 306,
    "start_time": "2021-12-16T14:47:14.840Z"
   },
   {
    "duration": 1095,
    "start_time": "2021-12-16T14:47:21.543Z"
   },
   {
    "duration": 57,
    "start_time": "2021-12-16T14:47:22.642Z"
   },
   {
    "duration": 12,
    "start_time": "2021-12-16T14:47:22.703Z"
   },
   {
    "duration": 80,
    "start_time": "2021-12-16T14:47:22.719Z"
   },
   {
    "duration": 40,
    "start_time": "2021-12-16T14:47:22.802Z"
   },
   {
    "duration": 42,
    "start_time": "2021-12-16T14:47:22.845Z"
   },
   {
    "duration": 19,
    "start_time": "2021-12-16T14:47:22.891Z"
   },
   {
    "duration": 31,
    "start_time": "2021-12-16T14:47:22.916Z"
   },
   {
    "duration": 43,
    "start_time": "2021-12-16T14:47:22.951Z"
   },
   {
    "duration": 40,
    "start_time": "2021-12-16T14:47:22.997Z"
   },
   {
    "duration": 38,
    "start_time": "2021-12-16T14:47:23.041Z"
   },
   {
    "duration": 33,
    "start_time": "2021-12-16T14:47:23.084Z"
   },
   {
    "duration": 33,
    "start_time": "2021-12-16T14:47:23.120Z"
   },
   {
    "duration": 48,
    "start_time": "2021-12-16T14:47:23.156Z"
   },
   {
    "duration": 20,
    "start_time": "2021-12-16T14:47:23.208Z"
   },
   {
    "duration": 45,
    "start_time": "2021-12-16T14:47:23.231Z"
   },
   {
    "duration": 30,
    "start_time": "2021-12-16T14:47:23.279Z"
   },
   {
    "duration": 30,
    "start_time": "2021-12-16T14:47:23.312Z"
   },
   {
    "duration": 32,
    "start_time": "2021-12-16T14:47:23.345Z"
   },
   {
    "duration": 26,
    "start_time": "2021-12-16T14:47:23.380Z"
   },
   {
    "duration": 6,
    "start_time": "2021-12-16T14:47:23.409Z"
   },
   {
    "duration": 18,
    "start_time": "2021-12-16T14:47:23.417Z"
   },
   {
    "duration": 1384,
    "start_time": "2021-12-16T14:47:23.441Z"
   },
   {
    "duration": 8,
    "start_time": "2021-12-16T14:47:24.828Z"
   },
   {
    "duration": 32,
    "start_time": "2021-12-16T14:47:24.838Z"
   },
   {
    "duration": 22,
    "start_time": "2021-12-16T14:47:24.874Z"
   },
   {
    "duration": 18,
    "start_time": "2021-12-16T14:47:24.900Z"
   },
   {
    "duration": 4121,
    "start_time": "2021-12-16T14:47:24.921Z"
   },
   {
    "duration": 36,
    "start_time": "2021-12-16T14:47:29.044Z"
   },
   {
    "duration": 395,
    "start_time": "2021-12-16T14:47:29.083Z"
   },
   {
    "duration": 6458,
    "start_time": "2021-12-16T14:47:23.023Z"
   },
   {
    "duration": 6452,
    "start_time": "2021-12-16T14:47:23.031Z"
   },
   {
    "duration": 6450,
    "start_time": "2021-12-16T14:47:23.035Z"
   },
   {
    "duration": 6446,
    "start_time": "2021-12-16T14:47:23.041Z"
   },
   {
    "duration": 6443,
    "start_time": "2021-12-16T14:47:23.046Z"
   },
   {
    "duration": 6440,
    "start_time": "2021-12-16T14:47:23.051Z"
   },
   {
    "duration": 6442,
    "start_time": "2021-12-16T14:47:23.054Z"
   },
   {
    "duration": 6440,
    "start_time": "2021-12-16T14:47:23.059Z"
   },
   {
    "duration": 6438,
    "start_time": "2021-12-16T14:47:23.063Z"
   },
   {
    "duration": 274,
    "start_time": "2021-12-16T14:47:45.514Z"
   },
   {
    "duration": 1054,
    "start_time": "2021-12-16T14:48:13.620Z"
   },
   {
    "duration": 38,
    "start_time": "2021-12-16T14:48:14.677Z"
   },
   {
    "duration": 10,
    "start_time": "2021-12-16T14:48:14.721Z"
   },
   {
    "duration": 56,
    "start_time": "2021-12-16T14:48:14.768Z"
   },
   {
    "duration": 60,
    "start_time": "2021-12-16T14:48:14.827Z"
   },
   {
    "duration": 16,
    "start_time": "2021-12-16T14:48:14.890Z"
   },
   {
    "duration": 11,
    "start_time": "2021-12-16T14:48:14.910Z"
   },
   {
    "duration": 47,
    "start_time": "2021-12-16T14:48:14.924Z"
   },
   {
    "duration": 27,
    "start_time": "2021-12-16T14:48:14.973Z"
   },
   {
    "duration": 28,
    "start_time": "2021-12-16T14:48:15.003Z"
   },
   {
    "duration": 49,
    "start_time": "2021-12-16T14:48:15.034Z"
   },
   {
    "duration": 24,
    "start_time": "2021-12-16T14:48:15.088Z"
   },
   {
    "duration": 25,
    "start_time": "2021-12-16T14:48:15.115Z"
   },
   {
    "duration": 68,
    "start_time": "2021-12-16T14:48:15.143Z"
   },
   {
    "duration": 10,
    "start_time": "2021-12-16T14:48:15.215Z"
   },
   {
    "duration": 43,
    "start_time": "2021-12-16T14:48:15.228Z"
   },
   {
    "duration": 16,
    "start_time": "2021-12-16T14:48:15.273Z"
   },
   {
    "duration": 13,
    "start_time": "2021-12-16T14:48:15.292Z"
   },
   {
    "duration": 28,
    "start_time": "2021-12-16T14:48:15.308Z"
   },
   {
    "duration": 31,
    "start_time": "2021-12-16T14:48:15.367Z"
   },
   {
    "duration": 6,
    "start_time": "2021-12-16T14:48:15.401Z"
   },
   {
    "duration": 23,
    "start_time": "2021-12-16T14:48:15.412Z"
   },
   {
    "duration": 1097,
    "start_time": "2021-12-16T14:48:15.438Z"
   },
   {
    "duration": 7,
    "start_time": "2021-12-16T14:48:16.538Z"
   },
   {
    "duration": 9,
    "start_time": "2021-12-16T14:48:16.547Z"
   },
   {
    "duration": 26,
    "start_time": "2021-12-16T14:48:16.559Z"
   },
   {
    "duration": 7,
    "start_time": "2021-12-16T14:48:16.587Z"
   },
   {
    "duration": 4655,
    "start_time": "2021-12-16T14:48:16.597Z"
   },
   {
    "duration": 39,
    "start_time": "2021-12-16T14:48:21.255Z"
   },
   {
    "duration": 388,
    "start_time": "2021-12-16T14:48:21.297Z"
   },
   {
    "duration": 6525,
    "start_time": "2021-12-16T14:48:15.164Z"
   },
   {
    "duration": 6504,
    "start_time": "2021-12-16T14:48:15.187Z"
   },
   {
    "duration": 6490,
    "start_time": "2021-12-16T14:48:15.202Z"
   },
   {
    "duration": 6485,
    "start_time": "2021-12-16T14:48:15.208Z"
   },
   {
    "duration": 6485,
    "start_time": "2021-12-16T14:48:15.210Z"
   },
   {
    "duration": 6483,
    "start_time": "2021-12-16T14:48:15.213Z"
   },
   {
    "duration": 6482,
    "start_time": "2021-12-16T14:48:15.216Z"
   },
   {
    "duration": 6481,
    "start_time": "2021-12-16T14:48:15.219Z"
   },
   {
    "duration": 6481,
    "start_time": "2021-12-16T14:48:15.221Z"
   },
   {
    "duration": 277,
    "start_time": "2021-12-16T14:48:38.107Z"
   },
   {
    "duration": 261,
    "start_time": "2021-12-16T14:48:40.996Z"
   },
   {
    "duration": 273,
    "start_time": "2021-12-16T14:48:43.842Z"
   },
   {
    "duration": 5,
    "start_time": "2021-12-16T14:49:13.098Z"
   },
   {
    "duration": 6,
    "start_time": "2021-12-16T14:49:15.812Z"
   },
   {
    "duration": 5,
    "start_time": "2021-12-16T14:49:17.659Z"
   },
   {
    "duration": 38,
    "start_time": "2021-12-16T14:52:08.672Z"
   },
   {
    "duration": 26,
    "start_time": "2021-12-16T14:52:58.457Z"
   },
   {
    "duration": 15,
    "start_time": "2021-12-16T14:53:17.638Z"
   },
   {
    "duration": 21,
    "start_time": "2021-12-16T14:53:20.654Z"
   },
   {
    "duration": 1068,
    "start_time": "2021-12-16T14:55:57.594Z"
   },
   {
    "duration": 846,
    "start_time": "2021-12-16T14:56:09.724Z"
   },
   {
    "duration": 35,
    "start_time": "2021-12-16T14:56:10.573Z"
   },
   {
    "duration": 8,
    "start_time": "2021-12-16T14:56:10.611Z"
   },
   {
    "duration": 69,
    "start_time": "2021-12-16T14:56:10.621Z"
   },
   {
    "duration": 27,
    "start_time": "2021-12-16T14:56:10.693Z"
   },
   {
    "duration": 18,
    "start_time": "2021-12-16T14:56:10.723Z"
   },
   {
    "duration": 37,
    "start_time": "2021-12-16T14:56:10.743Z"
   },
   {
    "duration": 8,
    "start_time": "2021-12-16T14:56:10.785Z"
   },
   {
    "duration": 26,
    "start_time": "2021-12-16T14:56:10.795Z"
   },
   {
    "duration": 59,
    "start_time": "2021-12-16T14:56:10.824Z"
   },
   {
    "duration": 19,
    "start_time": "2021-12-16T14:56:10.886Z"
   },
   {
    "duration": 22,
    "start_time": "2021-12-16T14:56:10.908Z"
   },
   {
    "duration": 51,
    "start_time": "2021-12-16T14:56:10.934Z"
   },
   {
    "duration": 26,
    "start_time": "2021-12-16T14:56:10.988Z"
   },
   {
    "duration": 11,
    "start_time": "2021-12-16T14:56:11.017Z"
   },
   {
    "duration": 51,
    "start_time": "2021-12-16T14:56:11.031Z"
   },
   {
    "duration": 10,
    "start_time": "2021-12-16T14:56:11.085Z"
   },
   {
    "duration": 14,
    "start_time": "2021-12-16T14:56:11.097Z"
   },
   {
    "duration": 56,
    "start_time": "2021-12-16T14:56:11.114Z"
   },
   {
    "duration": 27,
    "start_time": "2021-12-16T14:56:11.172Z"
   },
   {
    "duration": 7,
    "start_time": "2021-12-16T14:56:11.202Z"
   },
   {
    "duration": 8,
    "start_time": "2021-12-16T14:56:11.212Z"
   },
   {
    "duration": 1017,
    "start_time": "2021-12-16T14:56:11.225Z"
   },
   {
    "duration": 7,
    "start_time": "2021-12-16T14:56:12.245Z"
   },
   {
    "duration": 15,
    "start_time": "2021-12-16T14:56:12.254Z"
   },
   {
    "duration": 51,
    "start_time": "2021-12-16T14:56:12.272Z"
   },
   {
    "duration": 23,
    "start_time": "2021-12-16T14:56:12.325Z"
   },
   {
    "duration": 3851,
    "start_time": "2021-12-16T14:56:12.351Z"
   },
   {
    "duration": 19,
    "start_time": "2021-12-16T14:56:16.204Z"
   },
   {
    "duration": 25,
    "start_time": "2021-12-16T14:56:16.226Z"
   },
   {
    "duration": 49,
    "start_time": "2021-12-16T14:56:16.253Z"
   },
   {
    "duration": 41,
    "start_time": "2021-12-16T14:56:16.305Z"
   },
   {
    "duration": 28,
    "start_time": "2021-12-16T14:56:16.349Z"
   },
   {
    "duration": 40,
    "start_time": "2021-12-16T14:56:16.380Z"
   },
   {
    "duration": 26,
    "start_time": "2021-12-16T14:56:16.423Z"
   },
   {
    "duration": 61,
    "start_time": "2021-12-16T14:56:16.452Z"
   },
   {
    "duration": 40,
    "start_time": "2021-12-16T14:56:16.515Z"
   },
   {
    "duration": 52,
    "start_time": "2021-12-16T14:56:16.557Z"
   },
   {
    "duration": 20,
    "start_time": "2021-12-16T14:56:43.774Z"
   },
   {
    "duration": 69,
    "start_time": "2021-12-16T15:04:22.514Z"
   },
   {
    "duration": 20,
    "start_time": "2021-12-16T15:05:05.751Z"
   },
   {
    "duration": 14,
    "start_time": "2021-12-16T15:05:30.718Z"
   },
   {
    "duration": 21,
    "start_time": "2021-12-16T15:06:41.472Z"
   },
   {
    "duration": 386,
    "start_time": "2021-12-16T15:56:09.300Z"
   },
   {
    "duration": 887,
    "start_time": "2021-12-16T15:56:24.161Z"
   },
   {
    "duration": 58,
    "start_time": "2021-12-16T15:56:25.051Z"
   },
   {
    "duration": 15,
    "start_time": "2021-12-16T15:56:25.113Z"
   },
   {
    "duration": 53,
    "start_time": "2021-12-16T15:56:25.131Z"
   },
   {
    "duration": 29,
    "start_time": "2021-12-16T15:56:25.188Z"
   },
   {
    "duration": 14,
    "start_time": "2021-12-16T15:56:25.220Z"
   },
   {
    "duration": 46,
    "start_time": "2021-12-16T15:56:25.237Z"
   },
   {
    "duration": 8,
    "start_time": "2021-12-16T15:56:25.288Z"
   },
   {
    "duration": 20,
    "start_time": "2021-12-16T15:56:25.299Z"
   },
   {
    "duration": 63,
    "start_time": "2021-12-16T15:56:25.321Z"
   },
   {
    "duration": 19,
    "start_time": "2021-12-16T15:56:25.386Z"
   },
   {
    "duration": 24,
    "start_time": "2021-12-16T15:56:25.408Z"
   },
   {
    "duration": 56,
    "start_time": "2021-12-16T15:56:25.435Z"
   },
   {
    "duration": 24,
    "start_time": "2021-12-16T15:56:25.494Z"
   },
   {
    "duration": 9,
    "start_time": "2021-12-16T15:56:25.521Z"
   },
   {
    "duration": 53,
    "start_time": "2021-12-16T15:56:25.533Z"
   },
   {
    "duration": 18,
    "start_time": "2021-12-16T15:56:25.588Z"
   },
   {
    "duration": 24,
    "start_time": "2021-12-16T15:56:25.608Z"
   },
   {
    "duration": 48,
    "start_time": "2021-12-16T15:56:25.635Z"
   },
   {
    "duration": 27,
    "start_time": "2021-12-16T15:56:25.686Z"
   },
   {
    "duration": 14,
    "start_time": "2021-12-16T15:56:25.716Z"
   },
   {
    "duration": 14,
    "start_time": "2021-12-16T15:56:25.733Z"
   },
   {
    "duration": 1035,
    "start_time": "2021-12-16T15:56:25.752Z"
   },
   {
    "duration": 8,
    "start_time": "2021-12-16T15:56:26.791Z"
   },
   {
    "duration": 16,
    "start_time": "2021-12-16T15:56:26.802Z"
   },
   {
    "duration": 24,
    "start_time": "2021-12-16T15:56:26.821Z"
   },
   {
    "duration": 17,
    "start_time": "2021-12-16T15:56:26.848Z"
   },
   {
    "duration": 3931,
    "start_time": "2021-12-16T15:56:26.874Z"
   },
   {
    "duration": 23,
    "start_time": "2021-12-16T15:56:30.808Z"
   },
   {
    "duration": 561,
    "start_time": "2021-12-16T15:56:30.834Z"
   },
   {
    "duration": 6525,
    "start_time": "2021-12-16T15:56:24.873Z"
   },
   {
    "duration": 6520,
    "start_time": "2021-12-16T15:56:24.881Z"
   },
   {
    "duration": 6464,
    "start_time": "2021-12-16T15:56:24.938Z"
   },
   {
    "duration": 6454,
    "start_time": "2021-12-16T15:56:24.950Z"
   },
   {
    "duration": 6447,
    "start_time": "2021-12-16T15:56:24.958Z"
   },
   {
    "duration": 6443,
    "start_time": "2021-12-16T15:56:24.964Z"
   },
   {
    "duration": 6440,
    "start_time": "2021-12-16T15:56:24.968Z"
   },
   {
    "duration": 6433,
    "start_time": "2021-12-16T15:56:24.977Z"
   },
   {
    "duration": 6429,
    "start_time": "2021-12-16T15:56:24.982Z"
   },
   {
    "duration": 326,
    "start_time": "2021-12-16T15:56:52.767Z"
   },
   {
    "duration": 23,
    "start_time": "2021-12-16T15:57:00.125Z"
   },
   {
    "duration": 556,
    "start_time": "2021-12-16T15:57:30.788Z"
   },
   {
    "duration": 917,
    "start_time": "2021-12-16T15:57:40.670Z"
   },
   {
    "duration": 37,
    "start_time": "2021-12-16T15:57:41.590Z"
   },
   {
    "duration": 9,
    "start_time": "2021-12-16T15:57:41.630Z"
   },
   {
    "duration": 59,
    "start_time": "2021-12-16T15:57:41.642Z"
   },
   {
    "duration": 29,
    "start_time": "2021-12-16T15:57:41.704Z"
   },
   {
    "duration": 48,
    "start_time": "2021-12-16T15:57:41.736Z"
   },
   {
    "duration": 10,
    "start_time": "2021-12-16T15:57:41.786Z"
   },
   {
    "duration": 30,
    "start_time": "2021-12-16T15:57:41.800Z"
   },
   {
    "duration": 20,
    "start_time": "2021-12-16T15:57:41.833Z"
   },
   {
    "duration": 30,
    "start_time": "2021-12-16T15:57:41.856Z"
   },
   {
    "duration": 17,
    "start_time": "2021-12-16T15:57:41.889Z"
   },
   {
    "duration": 63,
    "start_time": "2021-12-16T15:57:41.909Z"
   },
   {
    "duration": 20,
    "start_time": "2021-12-16T15:57:41.976Z"
   },
   {
    "duration": 24,
    "start_time": "2021-12-16T15:57:41.998Z"
   },
   {
    "duration": 8,
    "start_time": "2021-12-16T15:57:42.024Z"
   },
   {
    "duration": 50,
    "start_time": "2021-12-16T15:57:42.034Z"
   },
   {
    "duration": 11,
    "start_time": "2021-12-16T15:57:42.086Z"
   },
   {
    "duration": 30,
    "start_time": "2021-12-16T15:57:42.099Z"
   },
   {
    "duration": 47,
    "start_time": "2021-12-16T15:57:42.132Z"
   },
   {
    "duration": 23,
    "start_time": "2021-12-16T15:57:42.182Z"
   },
   {
    "duration": 7,
    "start_time": "2021-12-16T15:57:42.208Z"
   },
   {
    "duration": 33,
    "start_time": "2021-12-16T15:57:42.217Z"
   },
   {
    "duration": 1004,
    "start_time": "2021-12-16T15:57:42.257Z"
   },
   {
    "duration": 7,
    "start_time": "2021-12-16T15:57:43.270Z"
   },
   {
    "duration": 11,
    "start_time": "2021-12-16T15:57:43.281Z"
   },
   {
    "duration": 14,
    "start_time": "2021-12-16T15:57:43.294Z"
   },
   {
    "duration": 7,
    "start_time": "2021-12-16T15:57:43.311Z"
   },
   {
    "duration": 4266,
    "start_time": "2021-12-16T15:57:43.321Z"
   },
   {
    "duration": 531,
    "start_time": "2021-12-16T15:57:47.590Z"
   },
   {
    "duration": 8854,
    "start_time": "2021-12-16T15:57:48.124Z"
   },
   {
    "duration": 6579,
    "start_time": "2021-12-16T15:57:50.404Z"
   },
   {
    "duration": 6567,
    "start_time": "2021-12-16T15:57:50.418Z"
   },
   {
    "duration": 6558,
    "start_time": "2021-12-16T15:57:50.428Z"
   },
   {
    "duration": 6546,
    "start_time": "2021-12-16T15:57:50.441Z"
   },
   {
    "duration": 6546,
    "start_time": "2021-12-16T15:57:50.443Z"
   },
   {
    "duration": 6545,
    "start_time": "2021-12-16T15:57:50.445Z"
   },
   {
    "duration": 6533,
    "start_time": "2021-12-16T15:57:50.458Z"
   },
   {
    "duration": 6531,
    "start_time": "2021-12-16T15:57:50.461Z"
   },
   {
    "duration": 6531,
    "start_time": "2021-12-16T15:57:50.463Z"
   },
   {
    "duration": 22,
    "start_time": "2021-12-16T15:58:08.563Z"
   },
   {
    "duration": 307,
    "start_time": "2021-12-16T15:58:15.990Z"
   },
   {
    "duration": 15,
    "start_time": "2021-12-16T15:58:26.067Z"
   },
   {
    "duration": 6981,
    "start_time": "2021-12-16T15:59:52.111Z"
   },
   {
    "duration": 7148,
    "start_time": "2021-12-16T16:00:24.037Z"
   },
   {
    "duration": 6524,
    "start_time": "2021-12-16T16:00:41.820Z"
   },
   {
    "duration": 861,
    "start_time": "2021-12-16T16:00:51.030Z"
   },
   {
    "duration": 38,
    "start_time": "2021-12-16T16:00:51.895Z"
   },
   {
    "duration": 39,
    "start_time": "2021-12-16T16:00:51.936Z"
   },
   {
    "duration": 39,
    "start_time": "2021-12-16T16:00:51.978Z"
   },
   {
    "duration": 66,
    "start_time": "2021-12-16T16:00:52.020Z"
   },
   {
    "duration": 16,
    "start_time": "2021-12-16T16:00:52.089Z"
   },
   {
    "duration": 10,
    "start_time": "2021-12-16T16:00:52.107Z"
   },
   {
    "duration": 17,
    "start_time": "2021-12-16T16:00:52.120Z"
   },
   {
    "duration": 44,
    "start_time": "2021-12-16T16:00:52.141Z"
   },
   {
    "duration": 21,
    "start_time": "2021-12-16T16:00:52.188Z"
   },
   {
    "duration": 19,
    "start_time": "2021-12-16T16:00:52.212Z"
   },
   {
    "duration": 63,
    "start_time": "2021-12-16T16:00:52.234Z"
   },
   {
    "duration": 22,
    "start_time": "2021-12-16T16:00:52.299Z"
   },
   {
    "duration": 56,
    "start_time": "2021-12-16T16:00:52.324Z"
   },
   {
    "duration": 8,
    "start_time": "2021-12-16T16:00:52.382Z"
   },
   {
    "duration": 21,
    "start_time": "2021-12-16T16:00:52.392Z"
   },
   {
    "duration": 9,
    "start_time": "2021-12-16T16:00:52.416Z"
   },
   {
    "duration": 19,
    "start_time": "2021-12-16T16:00:52.427Z"
   },
   {
    "duration": 33,
    "start_time": "2021-12-16T16:00:52.472Z"
   },
   {
    "duration": 26,
    "start_time": "2021-12-16T16:00:52.508Z"
   },
   {
    "duration": 43,
    "start_time": "2021-12-16T16:00:52.537Z"
   },
   {
    "duration": 19,
    "start_time": "2021-12-16T16:00:52.582Z"
   },
   {
    "duration": 1031,
    "start_time": "2021-12-16T16:00:52.607Z"
   },
   {
    "duration": 10,
    "start_time": "2021-12-16T16:00:53.641Z"
   },
   {
    "duration": 31,
    "start_time": "2021-12-16T16:00:53.668Z"
   },
   {
    "duration": 40,
    "start_time": "2021-12-16T16:00:53.701Z"
   },
   {
    "duration": 45,
    "start_time": "2021-12-16T16:00:53.744Z"
   },
   {
    "duration": 4016,
    "start_time": "2021-12-16T16:00:53.791Z"
   },
   {
    "duration": 20,
    "start_time": "2021-12-16T16:00:57.810Z"
   },
   {
    "duration": 41,
    "start_time": "2021-12-16T16:00:57.834Z"
   },
   {
    "duration": 20,
    "start_time": "2021-12-16T16:00:57.877Z"
   },
   {
    "duration": 6,
    "start_time": "2021-12-16T16:00:57.900Z"
   },
   {
    "duration": 7,
    "start_time": "2021-12-16T16:00:57.908Z"
   },
   {
    "duration": 5,
    "start_time": "2021-12-16T16:00:57.917Z"
   },
   {
    "duration": 50,
    "start_time": "2021-12-16T16:00:57.925Z"
   },
   {
    "duration": 8,
    "start_time": "2021-12-16T16:00:57.979Z"
   },
   {
    "duration": 32,
    "start_time": "2021-12-16T16:00:57.990Z"
   },
   {
    "duration": 67,
    "start_time": "2021-12-16T16:00:58.024Z"
   },
   {
    "duration": 18,
    "start_time": "2021-12-16T16:00:58.095Z"
   },
   {
    "duration": 2365,
    "start_time": "2021-12-16T16:02:27.796Z"
   },
   {
    "duration": 54,
    "start_time": "2021-12-16T16:02:30.164Z"
   },
   {
    "duration": 11,
    "start_time": "2021-12-16T16:02:30.222Z"
   },
   {
    "duration": 57,
    "start_time": "2021-12-16T16:02:30.271Z"
   },
   {
    "duration": 55,
    "start_time": "2021-12-16T16:02:30.332Z"
   },
   {
    "duration": 16,
    "start_time": "2021-12-16T16:02:30.389Z"
   },
   {
    "duration": 20,
    "start_time": "2021-12-16T16:02:30.407Z"
   },
   {
    "duration": 29,
    "start_time": "2021-12-16T16:02:30.431Z"
   },
   {
    "duration": 27,
    "start_time": "2021-12-16T16:02:30.467Z"
   },
   {
    "duration": 20,
    "start_time": "2021-12-16T16:02:30.497Z"
   },
   {
    "duration": 30,
    "start_time": "2021-12-16T16:02:30.520Z"
   },
   {
    "duration": 28,
    "start_time": "2021-12-16T16:02:30.568Z"
   },
   {
    "duration": 29,
    "start_time": "2021-12-16T16:02:30.599Z"
   },
   {
    "duration": 54,
    "start_time": "2021-12-16T16:02:30.631Z"
   },
   {
    "duration": 11,
    "start_time": "2021-12-16T16:02:30.689Z"
   },
   {
    "duration": 34,
    "start_time": "2021-12-16T16:02:30.703Z"
   },
   {
    "duration": 35,
    "start_time": "2021-12-16T16:02:30.740Z"
   },
   {
    "duration": 12,
    "start_time": "2021-12-16T16:02:30.777Z"
   },
   {
    "duration": 40,
    "start_time": "2021-12-16T16:02:30.792Z"
   },
   {
    "duration": 50,
    "start_time": "2021-12-16T16:02:30.834Z"
   },
   {
    "duration": 7,
    "start_time": "2021-12-16T16:02:30.886Z"
   },
   {
    "duration": 20,
    "start_time": "2021-12-16T16:02:30.896Z"
   },
   {
    "duration": 1060,
    "start_time": "2021-12-16T16:02:30.923Z"
   },
   {
    "duration": 8,
    "start_time": "2021-12-16T16:02:31.986Z"
   },
   {
    "duration": 23,
    "start_time": "2021-12-16T16:02:31.997Z"
   },
   {
    "duration": 17,
    "start_time": "2021-12-16T16:02:32.023Z"
   },
   {
    "duration": 18,
    "start_time": "2021-12-16T16:02:32.042Z"
   },
   {
    "duration": 4279,
    "start_time": "2021-12-16T16:02:32.063Z"
   },
   {
    "duration": 48,
    "start_time": "2021-12-16T16:02:36.344Z"
   },
   {
    "duration": 20,
    "start_time": "2021-12-16T16:02:36.395Z"
   },
   {
    "duration": 28,
    "start_time": "2021-12-16T16:02:36.417Z"
   },
   {
    "duration": 6887,
    "start_time": "2021-12-16T16:02:36.447Z"
   },
   {
    "duration": 6511,
    "start_time": "2021-12-16T16:02:36.826Z"
   },
   {
    "duration": 6498,
    "start_time": "2021-12-16T16:02:36.840Z"
   },
   {
    "duration": 6496,
    "start_time": "2021-12-16T16:02:36.844Z"
   },
   {
    "duration": 6495,
    "start_time": "2021-12-16T16:02:36.846Z"
   },
   {
    "duration": 6494,
    "start_time": "2021-12-16T16:02:36.849Z"
   },
   {
    "duration": 6494,
    "start_time": "2021-12-16T16:02:36.851Z"
   },
   {
    "duration": 6493,
    "start_time": "2021-12-16T16:02:36.853Z"
   },
   {
    "duration": 6493,
    "start_time": "2021-12-16T16:02:36.855Z"
   },
   {
    "duration": 900,
    "start_time": "2021-12-16T16:03:05.278Z"
   },
   {
    "duration": 37,
    "start_time": "2021-12-16T16:03:06.181Z"
   },
   {
    "duration": 11,
    "start_time": "2021-12-16T16:03:06.222Z"
   },
   {
    "duration": 71,
    "start_time": "2021-12-16T16:03:06.236Z"
   },
   {
    "duration": 26,
    "start_time": "2021-12-16T16:03:06.309Z"
   },
   {
    "duration": 46,
    "start_time": "2021-12-16T16:03:06.337Z"
   },
   {
    "duration": 11,
    "start_time": "2021-12-16T16:03:06.386Z"
   },
   {
    "duration": 13,
    "start_time": "2021-12-16T16:03:06.403Z"
   },
   {
    "duration": 52,
    "start_time": "2021-12-16T16:03:06.421Z"
   },
   {
    "duration": 35,
    "start_time": "2021-12-16T16:03:06.476Z"
   },
   {
    "duration": 22,
    "start_time": "2021-12-16T16:03:06.513Z"
   },
   {
    "duration": 48,
    "start_time": "2021-12-16T16:03:06.538Z"
   },
   {
    "duration": 21,
    "start_time": "2021-12-16T16:03:06.588Z"
   },
   {
    "duration": 26,
    "start_time": "2021-12-16T16:03:06.611Z"
   },
   {
    "duration": 37,
    "start_time": "2021-12-16T16:03:06.639Z"
   },
   {
    "duration": 38,
    "start_time": "2021-12-16T16:03:06.679Z"
   },
   {
    "duration": 19,
    "start_time": "2021-12-16T16:03:06.720Z"
   },
   {
    "duration": 37,
    "start_time": "2021-12-16T16:03:06.741Z"
   },
   {
    "duration": 36,
    "start_time": "2021-12-16T16:03:06.781Z"
   },
   {
    "duration": 23,
    "start_time": "2021-12-16T16:03:06.819Z"
   },
   {
    "duration": 16,
    "start_time": "2021-12-16T16:03:06.844Z"
   },
   {
    "duration": 16,
    "start_time": "2021-12-16T16:03:06.863Z"
   },
   {
    "duration": 1018,
    "start_time": "2021-12-16T16:03:06.886Z"
   },
   {
    "duration": 8,
    "start_time": "2021-12-16T16:03:07.908Z"
   },
   {
    "duration": 47,
    "start_time": "2021-12-16T16:03:07.918Z"
   },
   {
    "duration": 29,
    "start_time": "2021-12-16T16:03:07.968Z"
   },
   {
    "duration": 29,
    "start_time": "2021-12-16T16:03:08.000Z"
   },
   {
    "duration": 4052,
    "start_time": "2021-12-16T16:03:08.032Z"
   },
   {
    "duration": 23,
    "start_time": "2021-12-16T16:03:12.086Z"
   },
   {
    "duration": 21,
    "start_time": "2021-12-16T16:03:12.112Z"
   },
   {
    "duration": 50,
    "start_time": "2021-12-16T16:03:12.136Z"
   },
   {
    "duration": 6826,
    "start_time": "2021-12-16T16:03:12.189Z"
   },
   {
    "duration": 6538,
    "start_time": "2021-12-16T16:03:12.479Z"
   },
   {
    "duration": 6533,
    "start_time": "2021-12-16T16:03:12.486Z"
   },
   {
    "duration": 6531,
    "start_time": "2021-12-16T16:03:12.490Z"
   },
   {
    "duration": 6528,
    "start_time": "2021-12-16T16:03:12.494Z"
   },
   {
    "duration": 6527,
    "start_time": "2021-12-16T16:03:12.497Z"
   },
   {
    "duration": 6525,
    "start_time": "2021-12-16T16:03:12.500Z"
   },
   {
    "duration": 6523,
    "start_time": "2021-12-16T16:03:12.504Z"
   },
   {
    "duration": 6521,
    "start_time": "2021-12-16T16:03:12.507Z"
   },
   {
    "duration": 19,
    "start_time": "2021-12-16T16:04:13.577Z"
   },
   {
    "duration": 875,
    "start_time": "2021-12-16T16:04:29.037Z"
   },
   {
    "duration": 66,
    "start_time": "2021-12-16T16:04:29.915Z"
   },
   {
    "duration": 32,
    "start_time": "2021-12-16T16:04:29.989Z"
   },
   {
    "duration": 65,
    "start_time": "2021-12-16T16:04:30.024Z"
   },
   {
    "duration": 27,
    "start_time": "2021-12-16T16:04:30.092Z"
   },
   {
    "duration": 47,
    "start_time": "2021-12-16T16:04:30.122Z"
   },
   {
    "duration": 31,
    "start_time": "2021-12-16T16:04:30.172Z"
   },
   {
    "duration": 38,
    "start_time": "2021-12-16T16:04:30.208Z"
   },
   {
    "duration": 50,
    "start_time": "2021-12-16T16:04:30.250Z"
   },
   {
    "duration": 26,
    "start_time": "2021-12-16T16:04:30.303Z"
   },
   {
    "duration": 61,
    "start_time": "2021-12-16T16:04:30.331Z"
   },
   {
    "duration": 42,
    "start_time": "2021-12-16T16:04:30.395Z"
   },
   {
    "duration": 52,
    "start_time": "2021-12-16T16:04:30.440Z"
   },
   {
    "duration": 42,
    "start_time": "2021-12-16T16:04:30.495Z"
   },
   {
    "duration": 10,
    "start_time": "2021-12-16T16:04:30.540Z"
   },
   {
    "duration": 46,
    "start_time": "2021-12-16T16:04:30.553Z"
   },
   {
    "duration": 11,
    "start_time": "2021-12-16T16:04:30.601Z"
   },
   {
    "duration": 35,
    "start_time": "2021-12-16T16:04:30.614Z"
   },
   {
    "duration": 58,
    "start_time": "2021-12-16T16:04:30.652Z"
   },
   {
    "duration": 24,
    "start_time": "2021-12-16T16:04:30.712Z"
   },
   {
    "duration": 12,
    "start_time": "2021-12-16T16:04:30.738Z"
   },
   {
    "duration": 26,
    "start_time": "2021-12-16T16:04:30.752Z"
   },
   {
    "duration": 1029,
    "start_time": "2021-12-16T16:04:30.787Z"
   },
   {
    "duration": 7,
    "start_time": "2021-12-16T16:04:31.820Z"
   },
   {
    "duration": 12,
    "start_time": "2021-12-16T16:04:31.829Z"
   },
   {
    "duration": 30,
    "start_time": "2021-12-16T16:04:31.844Z"
   },
   {
    "duration": 9,
    "start_time": "2021-12-16T16:04:31.879Z"
   },
   {
    "duration": 4264,
    "start_time": "2021-12-16T16:04:31.892Z"
   },
   {
    "duration": 34,
    "start_time": "2021-12-16T16:04:36.158Z"
   },
   {
    "duration": 18,
    "start_time": "2021-12-16T16:04:36.195Z"
   },
   {
    "duration": 20,
    "start_time": "2021-12-16T16:04:36.215Z"
   },
   {
    "duration": 52,
    "start_time": "2021-12-16T16:04:36.237Z"
   },
   {
    "duration": 8,
    "start_time": "2021-12-16T16:04:36.292Z"
   },
   {
    "duration": 12,
    "start_time": "2021-12-16T16:04:36.303Z"
   },
   {
    "duration": 8,
    "start_time": "2021-12-16T16:04:36.318Z"
   },
   {
    "duration": 42,
    "start_time": "2021-12-16T16:04:36.329Z"
   },
   {
    "duration": 17,
    "start_time": "2021-12-16T16:04:36.373Z"
   },
   {
    "duration": 35,
    "start_time": "2021-12-16T16:04:36.393Z"
   },
   {
    "duration": 55,
    "start_time": "2021-12-16T16:04:36.431Z"
   },
   {
    "duration": 17,
    "start_time": "2021-12-16T16:04:36.491Z"
   },
   {
    "duration": 382,
    "start_time": "2021-12-16T16:07:56.745Z"
   },
   {
    "duration": 358,
    "start_time": "2021-12-16T16:08:22.926Z"
   },
   {
    "duration": 901,
    "start_time": "2021-12-16T16:08:28.857Z"
   },
   {
    "duration": 40,
    "start_time": "2021-12-16T16:08:29.766Z"
   },
   {
    "duration": 8,
    "start_time": "2021-12-16T16:08:29.809Z"
   },
   {
    "duration": 66,
    "start_time": "2021-12-16T16:08:29.820Z"
   },
   {
    "duration": 30,
    "start_time": "2021-12-16T16:08:29.888Z"
   },
   {
    "duration": 18,
    "start_time": "2021-12-16T16:08:29.920Z"
   },
   {
    "duration": 43,
    "start_time": "2021-12-16T16:08:29.940Z"
   },
   {
    "duration": 10,
    "start_time": "2021-12-16T16:08:29.987Z"
   },
   {
    "duration": 30,
    "start_time": "2021-12-16T16:08:30.001Z"
   },
   {
    "duration": 52,
    "start_time": "2021-12-16T16:08:30.033Z"
   },
   {
    "duration": 66,
    "start_time": "2021-12-16T16:08:30.088Z"
   },
   {
    "duration": 30,
    "start_time": "2021-12-16T16:08:30.157Z"
   },
   {
    "duration": 23,
    "start_time": "2021-12-16T16:08:30.189Z"
   },
   {
    "duration": 53,
    "start_time": "2021-12-16T16:08:30.214Z"
   },
   {
    "duration": 12,
    "start_time": "2021-12-16T16:08:30.270Z"
   },
   {
    "duration": 24,
    "start_time": "2021-12-16T16:08:30.290Z"
   },
   {
    "duration": 10,
    "start_time": "2021-12-16T16:08:30.316Z"
   },
   {
    "duration": 45,
    "start_time": "2021-12-16T16:08:30.329Z"
   },
   {
    "duration": 43,
    "start_time": "2021-12-16T16:08:30.377Z"
   },
   {
    "duration": 24,
    "start_time": "2021-12-16T16:08:30.423Z"
   },
   {
    "duration": 21,
    "start_time": "2021-12-16T16:08:30.450Z"
   },
   {
    "duration": 32,
    "start_time": "2021-12-16T16:08:30.474Z"
   },
   {
    "duration": 1026,
    "start_time": "2021-12-16T16:08:30.514Z"
   },
   {
    "duration": 8,
    "start_time": "2021-12-16T16:08:31.544Z"
   },
   {
    "duration": 7,
    "start_time": "2021-12-16T16:08:31.570Z"
   },
   {
    "duration": 20,
    "start_time": "2021-12-16T16:08:31.582Z"
   },
   {
    "duration": 15,
    "start_time": "2021-12-16T16:08:31.605Z"
   },
   {
    "duration": 4070,
    "start_time": "2021-12-16T16:08:31.623Z"
   },
   {
    "duration": 22,
    "start_time": "2021-12-16T16:08:35.696Z"
   },
   {
    "duration": 67,
    "start_time": "2021-12-16T16:08:35.721Z"
   },
   {
    "duration": 61,
    "start_time": "2021-12-16T16:08:35.791Z"
   },
   {
    "duration": 38,
    "start_time": "2021-12-16T16:08:35.854Z"
   },
   {
    "duration": 25,
    "start_time": "2021-12-16T16:08:35.895Z"
   },
   {
    "duration": 33,
    "start_time": "2021-12-16T16:08:35.923Z"
   },
   {
    "duration": 25,
    "start_time": "2021-12-16T16:08:35.958Z"
   },
   {
    "duration": 22,
    "start_time": "2021-12-16T16:08:35.985Z"
   },
   {
    "duration": 34,
    "start_time": "2021-12-16T16:08:36.010Z"
   },
   {
    "duration": 52,
    "start_time": "2021-12-16T16:08:36.046Z"
   },
   {
    "duration": 21,
    "start_time": "2021-12-16T16:08:36.102Z"
   },
   {
    "duration": 423,
    "start_time": "2021-12-16T16:08:36.125Z"
   },
   {
    "duration": 6556,
    "start_time": "2021-12-16T16:08:29.995Z"
   },
   {
    "duration": 14,
    "start_time": "2021-12-16T16:09:11.871Z"
   },
   {
    "duration": 287,
    "start_time": "2021-12-16T16:14:04.871Z"
   },
   {
    "duration": 931,
    "start_time": "2021-12-16T16:14:11.281Z"
   },
   {
    "duration": 32,
    "start_time": "2021-12-16T16:14:12.215Z"
   },
   {
    "duration": 23,
    "start_time": "2021-12-16T16:14:12.251Z"
   },
   {
    "duration": 49,
    "start_time": "2021-12-16T16:14:12.277Z"
   },
   {
    "duration": 60,
    "start_time": "2021-12-16T16:14:12.329Z"
   },
   {
    "duration": 15,
    "start_time": "2021-12-16T16:14:12.392Z"
   },
   {
    "duration": 31,
    "start_time": "2021-12-16T16:14:12.410Z"
   },
   {
    "duration": 33,
    "start_time": "2021-12-16T16:14:12.445Z"
   },
   {
    "duration": 40,
    "start_time": "2021-12-16T16:14:12.482Z"
   },
   {
    "duration": 50,
    "start_time": "2021-12-16T16:14:12.524Z"
   },
   {
    "duration": 20,
    "start_time": "2021-12-16T16:14:12.577Z"
   },
   {
    "duration": 40,
    "start_time": "2021-12-16T16:14:12.599Z"
   },
   {
    "duration": 50,
    "start_time": "2021-12-16T16:14:12.642Z"
   },
   {
    "duration": 39,
    "start_time": "2021-12-16T16:14:12.695Z"
   },
   {
    "duration": 11,
    "start_time": "2021-12-16T16:14:12.737Z"
   },
   {
    "duration": 27,
    "start_time": "2021-12-16T16:14:12.775Z"
   },
   {
    "duration": 22,
    "start_time": "2021-12-16T16:14:12.806Z"
   },
   {
    "duration": 27,
    "start_time": "2021-12-16T16:14:12.831Z"
   },
   {
    "duration": 49,
    "start_time": "2021-12-16T16:14:12.861Z"
   },
   {
    "duration": 31,
    "start_time": "2021-12-16T16:14:12.913Z"
   },
   {
    "duration": 16,
    "start_time": "2021-12-16T16:14:12.947Z"
   },
   {
    "duration": 24,
    "start_time": "2021-12-16T16:14:12.965Z"
   },
   {
    "duration": 1041,
    "start_time": "2021-12-16T16:14:12.995Z"
   },
   {
    "duration": 6,
    "start_time": "2021-12-16T16:14:14.039Z"
   },
   {
    "duration": 40,
    "start_time": "2021-12-16T16:14:14.048Z"
   },
   {
    "duration": 31,
    "start_time": "2021-12-16T16:14:14.091Z"
   },
   {
    "duration": 38,
    "start_time": "2021-12-16T16:14:14.125Z"
   },
   {
    "duration": 4738,
    "start_time": "2021-12-16T16:14:14.169Z"
   },
   {
    "duration": 21,
    "start_time": "2021-12-16T16:14:18.909Z"
   },
   {
    "duration": 41,
    "start_time": "2021-12-16T16:14:18.932Z"
   },
   {
    "duration": 20,
    "start_time": "2021-12-16T16:14:18.976Z"
   },
   {
    "duration": 14,
    "start_time": "2021-12-16T16:14:18.998Z"
   },
   {
    "duration": 8,
    "start_time": "2021-12-16T16:14:19.015Z"
   },
   {
    "duration": 46,
    "start_time": "2021-12-16T16:14:19.025Z"
   },
   {
    "duration": 25,
    "start_time": "2021-12-16T16:14:19.080Z"
   },
   {
    "duration": 35,
    "start_time": "2021-12-16T16:14:19.108Z"
   },
   {
    "duration": 34,
    "start_time": "2021-12-16T16:14:19.145Z"
   },
   {
    "duration": 103,
    "start_time": "2021-12-16T16:14:19.182Z"
   },
   {
    "duration": 44,
    "start_time": "2021-12-16T16:14:19.288Z"
   },
   {
    "duration": 44,
    "start_time": "2021-12-16T16:14:19.335Z"
   },
   {
    "duration": 49,
    "start_time": "2021-12-16T16:14:19.382Z"
   },
   {
    "duration": 7507,
    "start_time": "2021-12-16T16:14:19.435Z"
   },
   {
    "duration": 985,
    "start_time": "2021-12-16T16:14:52.580Z"
   },
   {
    "duration": 42,
    "start_time": "2021-12-16T16:14:53.568Z"
   },
   {
    "duration": 7,
    "start_time": "2021-12-16T16:14:53.614Z"
   },
   {
    "duration": 61,
    "start_time": "2021-12-16T16:14:53.624Z"
   },
   {
    "duration": 27,
    "start_time": "2021-12-16T16:14:53.687Z"
   },
   {
    "duration": 21,
    "start_time": "2021-12-16T16:14:53.716Z"
   },
   {
    "duration": 39,
    "start_time": "2021-12-16T16:14:53.739Z"
   },
   {
    "duration": 20,
    "start_time": "2021-12-16T16:14:53.783Z"
   },
   {
    "duration": 40,
    "start_time": "2021-12-16T16:14:53.805Z"
   },
   {
    "duration": 48,
    "start_time": "2021-12-16T16:14:53.848Z"
   },
   {
    "duration": 33,
    "start_time": "2021-12-16T16:14:53.899Z"
   },
   {
    "duration": 29,
    "start_time": "2021-12-16T16:14:53.934Z"
   },
   {
    "duration": 26,
    "start_time": "2021-12-16T16:14:53.966Z"
   },
   {
    "duration": 26,
    "start_time": "2021-12-16T16:14:53.995Z"
   },
   {
    "duration": 20,
    "start_time": "2021-12-16T16:14:54.023Z"
   },
   {
    "duration": 35,
    "start_time": "2021-12-16T16:14:54.046Z"
   },
   {
    "duration": 16,
    "start_time": "2021-12-16T16:14:54.084Z"
   },
   {
    "duration": 27,
    "start_time": "2021-12-16T16:14:54.103Z"
   },
   {
    "duration": 45,
    "start_time": "2021-12-16T16:14:54.133Z"
   },
   {
    "duration": 36,
    "start_time": "2021-12-16T16:14:54.181Z"
   },
   {
    "duration": 15,
    "start_time": "2021-12-16T16:14:54.220Z"
   },
   {
    "duration": 44,
    "start_time": "2021-12-16T16:14:54.237Z"
   },
   {
    "duration": 1020,
    "start_time": "2021-12-16T16:14:54.288Z"
   },
   {
    "duration": 8,
    "start_time": "2021-12-16T16:14:55.313Z"
   },
   {
    "duration": 53,
    "start_time": "2021-12-16T16:14:55.324Z"
   },
   {
    "duration": 36,
    "start_time": "2021-12-16T16:14:55.379Z"
   },
   {
    "duration": 32,
    "start_time": "2021-12-16T16:14:55.417Z"
   },
   {
    "duration": 3862,
    "start_time": "2021-12-16T16:14:55.452Z"
   },
   {
    "duration": 22,
    "start_time": "2021-12-16T16:14:59.317Z"
   },
   {
    "duration": 48,
    "start_time": "2021-12-16T16:14:59.342Z"
   },
   {
    "duration": 20,
    "start_time": "2021-12-16T16:14:59.393Z"
   },
   {
    "duration": 15,
    "start_time": "2021-12-16T16:14:59.416Z"
   },
   {
    "duration": 45,
    "start_time": "2021-12-16T16:14:59.434Z"
   },
   {
    "duration": 23,
    "start_time": "2021-12-16T16:14:59.481Z"
   },
   {
    "duration": 24,
    "start_time": "2021-12-16T16:14:59.507Z"
   },
   {
    "duration": 43,
    "start_time": "2021-12-16T16:14:59.534Z"
   },
   {
    "duration": 21,
    "start_time": "2021-12-16T16:14:59.582Z"
   },
   {
    "duration": 49,
    "start_time": "2021-12-16T16:14:59.605Z"
   },
   {
    "duration": 40,
    "start_time": "2021-12-16T16:14:59.657Z"
   },
   {
    "duration": 16,
    "start_time": "2021-12-16T16:14:59.700Z"
   },
   {
    "duration": 44,
    "start_time": "2021-12-16T16:14:59.718Z"
   },
   {
    "duration": 25,
    "start_time": "2021-12-16T16:14:59.765Z"
   },
   {
    "duration": 883,
    "start_time": "2021-12-16T16:16:10.699Z"
   },
   {
    "duration": 40,
    "start_time": "2021-12-16T16:16:11.584Z"
   },
   {
    "duration": 33,
    "start_time": "2021-12-16T16:16:11.627Z"
   },
   {
    "duration": 71,
    "start_time": "2021-12-16T16:16:11.663Z"
   },
   {
    "duration": 36,
    "start_time": "2021-12-16T16:16:11.736Z"
   },
   {
    "duration": 18,
    "start_time": "2021-12-16T16:16:11.775Z"
   },
   {
    "duration": 28,
    "start_time": "2021-12-16T16:16:11.796Z"
   },
   {
    "duration": 18,
    "start_time": "2021-12-16T16:16:11.828Z"
   },
   {
    "duration": 52,
    "start_time": "2021-12-16T16:16:11.849Z"
   },
   {
    "duration": 62,
    "start_time": "2021-12-16T16:16:11.903Z"
   },
   {
    "duration": 27,
    "start_time": "2021-12-16T16:16:11.972Z"
   },
   {
    "duration": 38,
    "start_time": "2021-12-16T16:16:12.001Z"
   },
   {
    "duration": 35,
    "start_time": "2021-12-16T16:16:12.041Z"
   },
   {
    "duration": 49,
    "start_time": "2021-12-16T16:16:12.079Z"
   },
   {
    "duration": 24,
    "start_time": "2021-12-16T16:16:12.130Z"
   },
   {
    "duration": 64,
    "start_time": "2021-12-16T16:16:12.156Z"
   },
   {
    "duration": 25,
    "start_time": "2021-12-16T16:16:12.223Z"
   },
   {
    "duration": 61,
    "start_time": "2021-12-16T16:16:12.250Z"
   },
   {
    "duration": 41,
    "start_time": "2021-12-16T16:16:12.314Z"
   },
   {
    "duration": 25,
    "start_time": "2021-12-16T16:16:12.357Z"
   },
   {
    "duration": 6,
    "start_time": "2021-12-16T16:16:12.385Z"
   },
   {
    "duration": 25,
    "start_time": "2021-12-16T16:16:12.394Z"
   },
   {
    "duration": 984,
    "start_time": "2021-12-16T16:16:12.424Z"
   },
   {
    "duration": 7,
    "start_time": "2021-12-16T16:16:13.411Z"
   },
   {
    "duration": 16,
    "start_time": "2021-12-16T16:16:13.421Z"
   },
   {
    "duration": 39,
    "start_time": "2021-12-16T16:16:13.439Z"
   },
   {
    "duration": 14,
    "start_time": "2021-12-16T16:16:13.480Z"
   },
   {
    "duration": 3989,
    "start_time": "2021-12-16T16:16:13.497Z"
   },
   {
    "duration": 21,
    "start_time": "2021-12-16T16:16:17.489Z"
   },
   {
    "duration": 64,
    "start_time": "2021-12-16T16:16:17.512Z"
   },
   {
    "duration": 20,
    "start_time": "2021-12-16T16:16:17.578Z"
   },
   {
    "duration": 12,
    "start_time": "2021-12-16T16:16:17.601Z"
   },
   {
    "duration": 8,
    "start_time": "2021-12-16T16:16:17.671Z"
   },
   {
    "duration": 14,
    "start_time": "2021-12-16T16:16:17.682Z"
   },
   {
    "duration": 5,
    "start_time": "2021-12-16T16:16:17.699Z"
   },
   {
    "duration": 7,
    "start_time": "2021-12-16T16:16:17.707Z"
   },
   {
    "duration": 57,
    "start_time": "2021-12-16T16:16:17.716Z"
   },
   {
    "duration": 33,
    "start_time": "2021-12-16T16:16:17.775Z"
   },
   {
    "duration": 71,
    "start_time": "2021-12-16T16:16:17.810Z"
   },
   {
    "duration": 12,
    "start_time": "2021-12-16T16:16:17.884Z"
   },
   {
    "duration": 19,
    "start_time": "2021-12-16T16:16:17.899Z"
   },
   {
    "duration": 12,
    "start_time": "2021-12-16T16:16:17.920Z"
   },
   {
    "duration": 17,
    "start_time": "2021-12-16T16:16:35.990Z"
   },
   {
    "duration": 13,
    "start_time": "2021-12-16T16:16:39.592Z"
   },
   {
    "duration": 16,
    "start_time": "2021-12-16T16:16:58.754Z"
   },
   {
    "duration": 915,
    "start_time": "2021-12-16T16:56:19.362Z"
   },
   {
    "duration": 36,
    "start_time": "2021-12-16T16:56:20.280Z"
   },
   {
    "duration": 33,
    "start_time": "2021-12-16T16:56:20.319Z"
   },
   {
    "duration": 53,
    "start_time": "2021-12-16T16:56:20.355Z"
   },
   {
    "duration": 26,
    "start_time": "2021-12-16T16:56:20.410Z"
   },
   {
    "duration": 43,
    "start_time": "2021-12-16T16:56:20.439Z"
   },
   {
    "duration": 12,
    "start_time": "2021-12-16T16:56:20.489Z"
   },
   {
    "duration": 10,
    "start_time": "2021-12-16T16:56:20.506Z"
   },
   {
    "duration": 42,
    "start_time": "2021-12-16T16:56:20.519Z"
   },
   {
    "duration": 59,
    "start_time": "2021-12-16T16:56:20.563Z"
   },
   {
    "duration": 50,
    "start_time": "2021-12-16T16:56:20.625Z"
   },
   {
    "duration": 39,
    "start_time": "2021-12-16T16:56:20.678Z"
   },
   {
    "duration": 27,
    "start_time": "2021-12-16T16:56:20.720Z"
   },
   {
    "duration": 48,
    "start_time": "2021-12-16T16:56:20.750Z"
   },
   {
    "duration": 21,
    "start_time": "2021-12-16T16:56:20.801Z"
   },
   {
    "duration": 37,
    "start_time": "2021-12-16T16:56:20.824Z"
   },
   {
    "duration": 13,
    "start_time": "2021-12-16T16:56:20.864Z"
   },
   {
    "duration": 25,
    "start_time": "2021-12-16T16:56:20.880Z"
   },
   {
    "duration": 43,
    "start_time": "2021-12-16T16:56:20.908Z"
   },
   {
    "duration": 26,
    "start_time": "2021-12-16T16:56:20.953Z"
   },
   {
    "duration": 6,
    "start_time": "2021-12-16T16:56:20.982Z"
   },
   {
    "duration": 34,
    "start_time": "2021-12-16T16:56:20.990Z"
   },
   {
    "duration": 1000,
    "start_time": "2021-12-16T16:56:21.029Z"
   },
   {
    "duration": 7,
    "start_time": "2021-12-16T16:56:22.033Z"
   },
   {
    "duration": 36,
    "start_time": "2021-12-16T16:56:22.042Z"
   },
   {
    "duration": 11,
    "start_time": "2021-12-16T16:56:22.080Z"
   },
   {
    "duration": 29,
    "start_time": "2021-12-16T16:56:22.093Z"
   },
   {
    "duration": 3793,
    "start_time": "2021-12-16T16:56:22.125Z"
   },
   {
    "duration": 21,
    "start_time": "2021-12-16T16:56:25.920Z"
   },
   {
    "duration": 43,
    "start_time": "2021-12-16T16:56:25.944Z"
   },
   {
    "duration": 16,
    "start_time": "2021-12-16T16:56:25.989Z"
   },
   {
    "duration": 24,
    "start_time": "2021-12-16T16:56:26.007Z"
   },
   {
    "duration": 13,
    "start_time": "2021-12-16T16:56:26.033Z"
   },
   {
    "duration": 29,
    "start_time": "2021-12-16T16:56:26.049Z"
   },
   {
    "duration": 5,
    "start_time": "2021-12-16T16:56:26.081Z"
   },
   {
    "duration": 13,
    "start_time": "2021-12-16T16:56:26.090Z"
   },
   {
    "duration": 20,
    "start_time": "2021-12-16T16:56:26.106Z"
   },
   {
    "duration": 45,
    "start_time": "2021-12-16T16:56:26.129Z"
   },
   {
    "duration": 41,
    "start_time": "2021-12-16T16:56:26.176Z"
   },
   {
    "duration": 12,
    "start_time": "2021-12-16T16:56:26.219Z"
   },
   {
    "duration": 31,
    "start_time": "2021-12-16T16:56:26.233Z"
   },
   {
    "duration": 17,
    "start_time": "2021-12-16T16:56:26.267Z"
   },
   {
    "duration": 654,
    "start_time": "2021-12-17T07:38:58.555Z"
   },
   {
    "duration": 20,
    "start_time": "2021-12-17T07:38:59.211Z"
   },
   {
    "duration": 6,
    "start_time": "2021-12-17T07:38:59.234Z"
   },
   {
    "duration": 41,
    "start_time": "2021-12-17T07:38:59.242Z"
   },
   {
    "duration": 17,
    "start_time": "2021-12-17T07:38:59.285Z"
   },
   {
    "duration": 11,
    "start_time": "2021-12-17T07:38:59.303Z"
   },
   {
    "duration": 7,
    "start_time": "2021-12-17T07:38:59.315Z"
   },
   {
    "duration": 7,
    "start_time": "2021-12-17T07:38:59.325Z"
   },
   {
    "duration": 12,
    "start_time": "2021-12-17T07:38:59.364Z"
   },
   {
    "duration": 13,
    "start_time": "2021-12-17T07:38:59.378Z"
   },
   {
    "duration": 11,
    "start_time": "2021-12-17T07:38:59.393Z"
   },
   {
    "duration": 12,
    "start_time": "2021-12-17T07:38:59.406Z"
   },
   {
    "duration": 12,
    "start_time": "2021-12-17T07:38:59.419Z"
   },
   {
    "duration": 15,
    "start_time": "2021-12-17T07:38:59.464Z"
   },
   {
    "duration": 6,
    "start_time": "2021-12-17T07:38:59.481Z"
   },
   {
    "duration": 12,
    "start_time": "2021-12-17T07:38:59.488Z"
   },
   {
    "duration": 7,
    "start_time": "2021-12-17T07:38:59.502Z"
   },
   {
    "duration": 8,
    "start_time": "2021-12-17T07:38:59.511Z"
   },
   {
    "duration": 52,
    "start_time": "2021-12-17T07:38:59.521Z"
   },
   {
    "duration": 14,
    "start_time": "2021-12-17T07:38:59.575Z"
   },
   {
    "duration": 5,
    "start_time": "2021-12-17T07:38:59.591Z"
   },
   {
    "duration": 6,
    "start_time": "2021-12-17T07:38:59.598Z"
   },
   {
    "duration": 664,
    "start_time": "2021-12-17T07:38:59.607Z"
   },
   {
    "duration": 5,
    "start_time": "2021-12-17T07:39:00.273Z"
   },
   {
    "duration": 8,
    "start_time": "2021-12-17T07:39:00.280Z"
   },
   {
    "duration": 11,
    "start_time": "2021-12-17T07:39:00.290Z"
   },
   {
    "duration": 10,
    "start_time": "2021-12-17T07:39:00.303Z"
   },
   {
    "duration": 3003,
    "start_time": "2021-12-17T07:39:00.314Z"
   },
   {
    "duration": 14,
    "start_time": "2021-12-17T07:39:03.319Z"
   },
   {
    "duration": 15,
    "start_time": "2021-12-17T07:39:03.334Z"
   },
   {
    "duration": 11,
    "start_time": "2021-12-17T07:39:03.363Z"
   },
   {
    "duration": 8,
    "start_time": "2021-12-17T07:39:03.375Z"
   },
   {
    "duration": 5,
    "start_time": "2021-12-17T07:39:03.384Z"
   },
   {
    "duration": 7,
    "start_time": "2021-12-17T07:39:03.391Z"
   },
   {
    "duration": 5,
    "start_time": "2021-12-17T07:39:03.399Z"
   },
   {
    "duration": 11,
    "start_time": "2021-12-17T07:39:03.406Z"
   },
   {
    "duration": 7,
    "start_time": "2021-12-17T07:39:03.418Z"
   },
   {
    "duration": 51,
    "start_time": "2021-12-17T07:39:03.427Z"
   },
   {
    "duration": 13,
    "start_time": "2021-12-17T07:39:03.481Z"
   },
   {
    "duration": 8,
    "start_time": "2021-12-17T07:39:03.496Z"
   },
   {
    "duration": 16,
    "start_time": "2021-12-17T07:39:03.506Z"
   },
   {
    "duration": 7,
    "start_time": "2021-12-17T07:39:03.524Z"
   }
  ],
  "kernelspec": {
   "display_name": "Python 3 (ipykernel)",
   "language": "python",
   "name": "python3"
  },
  "language_info": {
   "codemirror_mode": {
    "name": "ipython",
    "version": 3
   },
   "file_extension": ".py",
   "mimetype": "text/x-python",
   "name": "python",
   "nbconvert_exporter": "python",
   "pygments_lexer": "ipython3",
   "version": "3.9.12"
  },
  "toc": {
   "base_numbering": 1,
   "nav_menu": {},
   "number_sections": true,
   "sideBar": true,
   "skip_h1_title": true,
   "title_cell": "Table of Contents",
   "title_sidebar": "Contents",
   "toc_cell": false,
   "toc_position": {},
   "toc_section_display": true,
   "toc_window_display": false
  }
 },
 "nbformat": 4,
 "nbformat_minor": 2
}
