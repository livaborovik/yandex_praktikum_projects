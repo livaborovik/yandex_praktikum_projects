{
 "cells": [
  {
   "cell_type": "markdown",
   "metadata": {},
   "source": [
    "# Определение перспективного тарифа для телеком-компании"
   ]
  },
  {
   "cell_type": "markdown",
   "metadata": {},
   "source": [
    "## Описание проекта"
   ]
  },
  {
   "cell_type": "markdown",
   "metadata": {},
   "source": [
    "***Цель исследования*** - определение оптимального тарифа телеком-оператора для прогнозирования выручки, а также корректировки условий тарифов.\n",
    "\n",
    "***Задачи исследования***:\n",
    "\n",
    "1. Изучение количества потребляемых телекоммуникационных услуг в общем и в разрезе тарифов;\n",
    "2. Определение перспективного тарифа по объему выручки;\n",
    "3. Разработка рекомендаций для руководства телеком-компании с учетом полученных данных.\n",
    "\n",
    "***Описание тарифов***\n",
    "\n",
    "***Тариф «Смарт»***\n",
    "\n",
    "Ежемесячная плата: 550 рублей \n",
    "\n",
    "Включено 500 минут разговора, 50 сообщений и 15 Гб интернет-трафика \n",
    "\n",
    "Стоимость услуг сверх тарифного пакета: 1. минута разговора: 3 рубля («Мегалайн» всегда округляет вверх значения минут и мегабайтов. Если пользователь проговорил всего 1 секунду, в тарифе засчитывается целая минута); 2. сообщение: 3 рубля; 3. 1 Гб интернет-трафика: 200 рублей. \n",
    "\n",
    "***Тариф «Ультра»***\n",
    "\n",
    "Ежемесячная плата: 1950 рублей \n",
    "\n",
    "Включено 3000 минут разговора, 1000 сообщений и 30 Гб интернет-трафика \n",
    "\n",
    "Стоимость услуг сверх тарифного пакета: 1. минута разговора: 1 рубль; 2. сообщение: 1 рубль; 3. 1 Гб интернет-трафика: 150 рублей. \n",
    "\n",
    "***Примечание:*** \n",
    "\n",
    "«Мегалайн» всегда округляет секунды до минут, а мегабайты — до гигабайт. Каждый звонок округляется отдельно: даже если он длился всего 1 секунду, будет засчитан как 1 минута. \n",
    "\n",
    "Для веб-трафика отдельные сессии не считаются. Вместо этого общая сумма за месяц округляется в бо́льшую сторону. Если абонент использует 1025 мегабайт в этом месяце, с него возьмут плату за 2 гигабайта. \n",
    "\n",
    "***Описание данных***\n",
    "\n",
    "***Таблица users (информация о пользователях):*** \n",
    "\n",
    "user_id — уникальный идентификатор пользователя \n",
    "\n",
    "first_name — имя пользователя \n",
    "\n",
    "last_name — фамилия пользователя \n",
    "\n",
    "age — возраст пользователя (годы) \n",
    "\n",
    "reg_date — дата подключения тарифа (день, месяц, год) \n",
    "\n",
    "churn_date —  дата прекращения пользования тарифом (если значение пропущено, то тариф ещё действовал на момент выгрузки данных)\n",
    "\n",
    "city — город проживания пользователя \n",
    "\n",
    "tarif — название тарифного плана \n",
    "\n",
    "***Таблица calls (информация о звонках):***\n",
    "\n",
    "id — уникальный номер звонка \n",
    "\n",
    "call_date — дата звонка \n",
    "\n",
    "duration — длительность звонка в минутах \n",
    "\n",
    "user_id — идентификатор пользователя, сделавшего звонок \n",
    "\n",
    "***Таблица messages (информация о сообщениях):*** \n",
    "\n",
    "id — уникальный номер сообщения \n",
    "\n",
    "message_date — дата сообщения \n",
    "\n",
    "user_id — идентификатор пользователя, отправившего сообщение \n",
    "\n",
    "***Таблица internet (информация об интернет-сессиях):*** \n",
    "\n",
    "id — уникальный номер сессии \n",
    "\n",
    "mb_used — объём потраченного за сессию интернет-трафика (в мегабайтах) \n",
    "\n",
    "session_date — дата интернет-сессии \n",
    "\n",
    "user_id — идентификатор пользователя \n",
    "\n",
    "***Таблица tariffs (информация о тарифах):***\n",
    "\n",
    "tariff_name — название тарифа \n",
    "\n",
    "rub_monthly_fee — ежемесячная абонентская плата в рублях \n",
    "\n",
    "minutes_included — количество минут разговора в месяц, включённых в абонентскую плату \n",
    "\n",
    "messages_included — количество сообщений в месяц, включённых в абонентскую плату \n",
    "\n",
    "mb_per_month_included — объём интернет-трафика, включённого в абонентскую плату (в мегабайтах) \n",
    "\n",
    "rub_per_minute — стоимость минуты разговора сверх тарифного пакета (например, если в тарифе 100 минут разговора в месяц, то со 101 минуты будет взиматься плата) \n",
    "\n",
    "rub_per_message — стоимость отправки сообщения сверх тарифного пакета \n",
    "\n",
    "rub_per_gb — стоимость дополнительного гигабайта интернет-трафика сверх тарифного пакета (1 гигабайт = 1024 мегабайта) "
   ]
  },
  {
   "cell_type": "markdown",
   "metadata": {},
   "source": [
    "## Изучение данных из файла"
   ]
  },
  {
   "cell_type": "markdown",
   "metadata": {},
   "source": [
    "Для того, чтобы понять, какие данные необходимо исследовать, необходимо открыть файлы и понять, что там содержится."
   ]
  },
  {
   "cell_type": "code",
   "execution_count": 1,
   "metadata": {},
   "outputs": [],
   "source": [
    "#импортируем все необходимые библиотеки\n",
    "\n",
    "import pandas as pd\n",
    "import numpy as np\n",
    "import matplotlib.pyplot as plt\n",
    "from scipy import stats as st"
   ]
  },
  {
   "cell_type": "code",
   "execution_count": 2,
   "metadata": {},
   "outputs": [
    {
     "data": {
      "text/html": [
       "<div>\n",
       "<style scoped>\n",
       "    .dataframe tbody tr th:only-of-type {\n",
       "        vertical-align: middle;\n",
       "    }\n",
       "\n",
       "    .dataframe tbody tr th {\n",
       "        vertical-align: top;\n",
       "    }\n",
       "\n",
       "    .dataframe thead th {\n",
       "        text-align: right;\n",
       "    }\n",
       "</style>\n",
       "<table border=\"1\" class=\"dataframe\">\n",
       "  <thead>\n",
       "    <tr style=\"text-align: right;\">\n",
       "      <th></th>\n",
       "      <th>id</th>\n",
       "      <th>call_date</th>\n",
       "      <th>duration</th>\n",
       "      <th>user_id</th>\n",
       "    </tr>\n",
       "  </thead>\n",
       "  <tbody>\n",
       "    <tr>\n",
       "      <td>0</td>\n",
       "      <td>1000_0</td>\n",
       "      <td>2018-07-25</td>\n",
       "      <td>0.00</td>\n",
       "      <td>1000</td>\n",
       "    </tr>\n",
       "    <tr>\n",
       "      <td>1</td>\n",
       "      <td>1000_1</td>\n",
       "      <td>2018-08-17</td>\n",
       "      <td>0.00</td>\n",
       "      <td>1000</td>\n",
       "    </tr>\n",
       "    <tr>\n",
       "      <td>2</td>\n",
       "      <td>1000_2</td>\n",
       "      <td>2018-06-11</td>\n",
       "      <td>2.85</td>\n",
       "      <td>1000</td>\n",
       "    </tr>\n",
       "    <tr>\n",
       "      <td>3</td>\n",
       "      <td>1000_3</td>\n",
       "      <td>2018-09-21</td>\n",
       "      <td>13.80</td>\n",
       "      <td>1000</td>\n",
       "    </tr>\n",
       "    <tr>\n",
       "      <td>4</td>\n",
       "      <td>1000_4</td>\n",
       "      <td>2018-12-15</td>\n",
       "      <td>5.18</td>\n",
       "      <td>1000</td>\n",
       "    </tr>\n",
       "    <tr>\n",
       "      <td>5</td>\n",
       "      <td>1000_5</td>\n",
       "      <td>2018-11-02</td>\n",
       "      <td>0.00</td>\n",
       "      <td>1000</td>\n",
       "    </tr>\n",
       "    <tr>\n",
       "      <td>6</td>\n",
       "      <td>1000_6</td>\n",
       "      <td>2018-10-18</td>\n",
       "      <td>0.00</td>\n",
       "      <td>1000</td>\n",
       "    </tr>\n",
       "    <tr>\n",
       "      <td>7</td>\n",
       "      <td>1000_7</td>\n",
       "      <td>2018-08-22</td>\n",
       "      <td>18.31</td>\n",
       "      <td>1000</td>\n",
       "    </tr>\n",
       "    <tr>\n",
       "      <td>8</td>\n",
       "      <td>1000_8</td>\n",
       "      <td>2018-09-15</td>\n",
       "      <td>18.44</td>\n",
       "      <td>1000</td>\n",
       "    </tr>\n",
       "    <tr>\n",
       "      <td>9</td>\n",
       "      <td>1000_9</td>\n",
       "      <td>2018-08-15</td>\n",
       "      <td>0.00</td>\n",
       "      <td>1000</td>\n",
       "    </tr>\n",
       "  </tbody>\n",
       "</table>\n",
       "</div>"
      ],
      "text/plain": [
       "       id   call_date  duration  user_id\n",
       "0  1000_0  2018-07-25      0.00     1000\n",
       "1  1000_1  2018-08-17      0.00     1000\n",
       "2  1000_2  2018-06-11      2.85     1000\n",
       "3  1000_3  2018-09-21     13.80     1000\n",
       "4  1000_4  2018-12-15      5.18     1000\n",
       "5  1000_5  2018-11-02      0.00     1000\n",
       "6  1000_6  2018-10-18      0.00     1000\n",
       "7  1000_7  2018-08-22     18.31     1000\n",
       "8  1000_8  2018-09-15     18.44     1000\n",
       "9  1000_9  2018-08-15      0.00     1000"
      ]
     },
     "execution_count": 2,
     "metadata": {},
     "output_type": "execute_result"
    }
   ],
   "source": [
    "#прочитаем датасет calls\n",
    "\n",
    "data_calls = pd.read_csv('/datasets/calls.csv', sep = ',')\n",
    "\n",
    "#выведем датасет на экран\n",
    "\n",
    "data_calls.head(10)"
   ]
  },
  {
   "cell_type": "code",
   "execution_count": 3,
   "metadata": {},
   "outputs": [
    {
     "name": "stdout",
     "output_type": "stream",
     "text": [
      "<class 'pandas.core.frame.DataFrame'>\n",
      "RangeIndex: 202607 entries, 0 to 202606\n",
      "Data columns (total 4 columns):\n",
      "id           202607 non-null object\n",
      "call_date    202607 non-null object\n",
      "duration     202607 non-null float64\n",
      "user_id      202607 non-null int64\n",
      "dtypes: float64(1), int64(1), object(2)\n",
      "memory usage: 6.2+ MB\n"
     ]
    }
   ],
   "source": [
    "#изучим общую информацию о датасете\n",
    "\n",
    "data_calls.info()"
   ]
  },
  {
   "cell_type": "markdown",
   "metadata": {},
   "source": [
    "Исходя из общих данных о датасете видно, что есть несоответствия типов данных: в столбце 'call_date' - object вместо datetime64."
   ]
  },
  {
   "cell_type": "code",
   "execution_count": 4,
   "metadata": {},
   "outputs": [
    {
     "data": {
      "text/html": [
       "<div>\n",
       "<style scoped>\n",
       "    .dataframe tbody tr th:only-of-type {\n",
       "        vertical-align: middle;\n",
       "    }\n",
       "\n",
       "    .dataframe tbody tr th {\n",
       "        vertical-align: top;\n",
       "    }\n",
       "\n",
       "    .dataframe thead th {\n",
       "        text-align: right;\n",
       "    }\n",
       "</style>\n",
       "<table border=\"1\" class=\"dataframe\">\n",
       "  <thead>\n",
       "    <tr style=\"text-align: right;\">\n",
       "      <th></th>\n",
       "      <th>Unnamed: 0</th>\n",
       "      <th>id</th>\n",
       "      <th>mb_used</th>\n",
       "      <th>session_date</th>\n",
       "      <th>user_id</th>\n",
       "    </tr>\n",
       "  </thead>\n",
       "  <tbody>\n",
       "    <tr>\n",
       "      <td>0</td>\n",
       "      <td>0</td>\n",
       "      <td>1000_0</td>\n",
       "      <td>112.95</td>\n",
       "      <td>2018-11-25</td>\n",
       "      <td>1000</td>\n",
       "    </tr>\n",
       "    <tr>\n",
       "      <td>1</td>\n",
       "      <td>1</td>\n",
       "      <td>1000_1</td>\n",
       "      <td>1052.81</td>\n",
       "      <td>2018-09-07</td>\n",
       "      <td>1000</td>\n",
       "    </tr>\n",
       "    <tr>\n",
       "      <td>2</td>\n",
       "      <td>2</td>\n",
       "      <td>1000_2</td>\n",
       "      <td>1197.26</td>\n",
       "      <td>2018-06-25</td>\n",
       "      <td>1000</td>\n",
       "    </tr>\n",
       "    <tr>\n",
       "      <td>3</td>\n",
       "      <td>3</td>\n",
       "      <td>1000_3</td>\n",
       "      <td>550.27</td>\n",
       "      <td>2018-08-22</td>\n",
       "      <td>1000</td>\n",
       "    </tr>\n",
       "    <tr>\n",
       "      <td>4</td>\n",
       "      <td>4</td>\n",
       "      <td>1000_4</td>\n",
       "      <td>302.56</td>\n",
       "      <td>2018-09-24</td>\n",
       "      <td>1000</td>\n",
       "    </tr>\n",
       "    <tr>\n",
       "      <td>5</td>\n",
       "      <td>5</td>\n",
       "      <td>1000_5</td>\n",
       "      <td>399.97</td>\n",
       "      <td>2018-10-02</td>\n",
       "      <td>1000</td>\n",
       "    </tr>\n",
       "    <tr>\n",
       "      <td>6</td>\n",
       "      <td>6</td>\n",
       "      <td>1000_6</td>\n",
       "      <td>540.08</td>\n",
       "      <td>2018-09-07</td>\n",
       "      <td>1000</td>\n",
       "    </tr>\n",
       "    <tr>\n",
       "      <td>7</td>\n",
       "      <td>7</td>\n",
       "      <td>1000_7</td>\n",
       "      <td>415.70</td>\n",
       "      <td>2018-07-11</td>\n",
       "      <td>1000</td>\n",
       "    </tr>\n",
       "    <tr>\n",
       "      <td>8</td>\n",
       "      <td>8</td>\n",
       "      <td>1000_8</td>\n",
       "      <td>505.40</td>\n",
       "      <td>2018-10-08</td>\n",
       "      <td>1000</td>\n",
       "    </tr>\n",
       "    <tr>\n",
       "      <td>9</td>\n",
       "      <td>9</td>\n",
       "      <td>1000_9</td>\n",
       "      <td>345.54</td>\n",
       "      <td>2018-09-03</td>\n",
       "      <td>1000</td>\n",
       "    </tr>\n",
       "  </tbody>\n",
       "</table>\n",
       "</div>"
      ],
      "text/plain": [
       "   Unnamed: 0      id  mb_used session_date  user_id\n",
       "0           0  1000_0   112.95   2018-11-25     1000\n",
       "1           1  1000_1  1052.81   2018-09-07     1000\n",
       "2           2  1000_2  1197.26   2018-06-25     1000\n",
       "3           3  1000_3   550.27   2018-08-22     1000\n",
       "4           4  1000_4   302.56   2018-09-24     1000\n",
       "5           5  1000_5   399.97   2018-10-02     1000\n",
       "6           6  1000_6   540.08   2018-09-07     1000\n",
       "7           7  1000_7   415.70   2018-07-11     1000\n",
       "8           8  1000_8   505.40   2018-10-08     1000\n",
       "9           9  1000_9   345.54   2018-09-03     1000"
      ]
     },
     "execution_count": 4,
     "metadata": {},
     "output_type": "execute_result"
    }
   ],
   "source": [
    "#прочитаем датасет internet\n",
    "\n",
    "data_internet = pd.read_csv('/datasets/internet.csv', sep = ',')\n",
    "\n",
    "#выведем датасет на экран\n",
    "\n",
    "data_internet.head(10)"
   ]
  },
  {
   "cell_type": "code",
   "execution_count": 5,
   "metadata": {},
   "outputs": [
    {
     "name": "stdout",
     "output_type": "stream",
     "text": [
      "<class 'pandas.core.frame.DataFrame'>\n",
      "RangeIndex: 149396 entries, 0 to 149395\n",
      "Data columns (total 5 columns):\n",
      "Unnamed: 0      149396 non-null int64\n",
      "id              149396 non-null object\n",
      "mb_used         149396 non-null float64\n",
      "session_date    149396 non-null object\n",
      "user_id         149396 non-null int64\n",
      "dtypes: float64(1), int64(2), object(2)\n",
      "memory usage: 5.7+ MB\n"
     ]
    }
   ],
   "source": [
    "#изучим общую информацию о датасете\n",
    "\n",
    "data_internet.info()"
   ]
  },
  {
   "cell_type": "markdown",
   "metadata": {},
   "source": [
    "В датасете с данными об использовании трафика также есть несответствие данных типу: в столбце 'session_date' - object вместо datetime."
   ]
  },
  {
   "cell_type": "code",
   "execution_count": 6,
   "metadata": {},
   "outputs": [
    {
     "data": {
      "text/html": [
       "<div>\n",
       "<style scoped>\n",
       "    .dataframe tbody tr th:only-of-type {\n",
       "        vertical-align: middle;\n",
       "    }\n",
       "\n",
       "    .dataframe tbody tr th {\n",
       "        vertical-align: top;\n",
       "    }\n",
       "\n",
       "    .dataframe thead th {\n",
       "        text-align: right;\n",
       "    }\n",
       "</style>\n",
       "<table border=\"1\" class=\"dataframe\">\n",
       "  <thead>\n",
       "    <tr style=\"text-align: right;\">\n",
       "      <th></th>\n",
       "      <th>id</th>\n",
       "      <th>message_date</th>\n",
       "      <th>user_id</th>\n",
       "    </tr>\n",
       "  </thead>\n",
       "  <tbody>\n",
       "    <tr>\n",
       "      <td>0</td>\n",
       "      <td>1000_0</td>\n",
       "      <td>2018-06-27</td>\n",
       "      <td>1000</td>\n",
       "    </tr>\n",
       "    <tr>\n",
       "      <td>1</td>\n",
       "      <td>1000_1</td>\n",
       "      <td>2018-10-08</td>\n",
       "      <td>1000</td>\n",
       "    </tr>\n",
       "    <tr>\n",
       "      <td>2</td>\n",
       "      <td>1000_2</td>\n",
       "      <td>2018-08-04</td>\n",
       "      <td>1000</td>\n",
       "    </tr>\n",
       "    <tr>\n",
       "      <td>3</td>\n",
       "      <td>1000_3</td>\n",
       "      <td>2018-06-16</td>\n",
       "      <td>1000</td>\n",
       "    </tr>\n",
       "    <tr>\n",
       "      <td>4</td>\n",
       "      <td>1000_4</td>\n",
       "      <td>2018-12-05</td>\n",
       "      <td>1000</td>\n",
       "    </tr>\n",
       "    <tr>\n",
       "      <td>5</td>\n",
       "      <td>1000_5</td>\n",
       "      <td>2018-06-20</td>\n",
       "      <td>1000</td>\n",
       "    </tr>\n",
       "    <tr>\n",
       "      <td>6</td>\n",
       "      <td>1000_6</td>\n",
       "      <td>2018-11-19</td>\n",
       "      <td>1000</td>\n",
       "    </tr>\n",
       "    <tr>\n",
       "      <td>7</td>\n",
       "      <td>1000_7</td>\n",
       "      <td>2018-10-29</td>\n",
       "      <td>1000</td>\n",
       "    </tr>\n",
       "    <tr>\n",
       "      <td>8</td>\n",
       "      <td>1000_8</td>\n",
       "      <td>2018-06-25</td>\n",
       "      <td>1000</td>\n",
       "    </tr>\n",
       "    <tr>\n",
       "      <td>9</td>\n",
       "      <td>1000_9</td>\n",
       "      <td>2018-12-18</td>\n",
       "      <td>1000</td>\n",
       "    </tr>\n",
       "  </tbody>\n",
       "</table>\n",
       "</div>"
      ],
      "text/plain": [
       "       id message_date  user_id\n",
       "0  1000_0   2018-06-27     1000\n",
       "1  1000_1   2018-10-08     1000\n",
       "2  1000_2   2018-08-04     1000\n",
       "3  1000_3   2018-06-16     1000\n",
       "4  1000_4   2018-12-05     1000\n",
       "5  1000_5   2018-06-20     1000\n",
       "6  1000_6   2018-11-19     1000\n",
       "7  1000_7   2018-10-29     1000\n",
       "8  1000_8   2018-06-25     1000\n",
       "9  1000_9   2018-12-18     1000"
      ]
     },
     "execution_count": 6,
     "metadata": {},
     "output_type": "execute_result"
    }
   ],
   "source": [
    "#прочитаем датасет messages\n",
    "\n",
    "data_messages = pd.read_csv('/datasets/messages.csv', sep = ',')\n",
    "\n",
    "#выведем датасет на экран\n",
    "\n",
    "data_messages.head(10)"
   ]
  },
  {
   "cell_type": "code",
   "execution_count": 7,
   "metadata": {},
   "outputs": [
    {
     "name": "stdout",
     "output_type": "stream",
     "text": [
      "<class 'pandas.core.frame.DataFrame'>\n",
      "RangeIndex: 123036 entries, 0 to 123035\n",
      "Data columns (total 3 columns):\n",
      "id              123036 non-null object\n",
      "message_date    123036 non-null object\n",
      "user_id         123036 non-null int64\n",
      "dtypes: int64(1), object(2)\n",
      "memory usage: 2.8+ MB\n"
     ]
    }
   ],
   "source": [
    "#изучим общую информацию о датасете\n",
    "\n",
    "data_messages.info()"
   ]
  },
  {
   "cell_type": "markdown",
   "metadata": {},
   "source": [
    "В датасете data_messages также есть несответствие данных типу: в столбце 'message_date' - object вместо datetime64."
   ]
  },
  {
   "cell_type": "code",
   "execution_count": 8,
   "metadata": {},
   "outputs": [
    {
     "data": {
      "text/html": [
       "<div>\n",
       "<style scoped>\n",
       "    .dataframe tbody tr th:only-of-type {\n",
       "        vertical-align: middle;\n",
       "    }\n",
       "\n",
       "    .dataframe tbody tr th {\n",
       "        vertical-align: top;\n",
       "    }\n",
       "\n",
       "    .dataframe thead th {\n",
       "        text-align: right;\n",
       "    }\n",
       "</style>\n",
       "<table border=\"1\" class=\"dataframe\">\n",
       "  <thead>\n",
       "    <tr style=\"text-align: right;\">\n",
       "      <th></th>\n",
       "      <th>messages_included</th>\n",
       "      <th>mb_per_month_included</th>\n",
       "      <th>minutes_included</th>\n",
       "      <th>rub_monthly_fee</th>\n",
       "      <th>rub_per_gb</th>\n",
       "      <th>rub_per_message</th>\n",
       "      <th>rub_per_minute</th>\n",
       "      <th>tariff_name</th>\n",
       "    </tr>\n",
       "  </thead>\n",
       "  <tbody>\n",
       "    <tr>\n",
       "      <td>0</td>\n",
       "      <td>50</td>\n",
       "      <td>15360</td>\n",
       "      <td>500</td>\n",
       "      <td>550</td>\n",
       "      <td>200</td>\n",
       "      <td>3</td>\n",
       "      <td>3</td>\n",
       "      <td>smart</td>\n",
       "    </tr>\n",
       "    <tr>\n",
       "      <td>1</td>\n",
       "      <td>1000</td>\n",
       "      <td>30720</td>\n",
       "      <td>3000</td>\n",
       "      <td>1950</td>\n",
       "      <td>150</td>\n",
       "      <td>1</td>\n",
       "      <td>1</td>\n",
       "      <td>ultra</td>\n",
       "    </tr>\n",
       "  </tbody>\n",
       "</table>\n",
       "</div>"
      ],
      "text/plain": [
       "   messages_included  mb_per_month_included  minutes_included  \\\n",
       "0                 50                  15360               500   \n",
       "1               1000                  30720              3000   \n",
       "\n",
       "   rub_monthly_fee  rub_per_gb  rub_per_message  rub_per_minute tariff_name  \n",
       "0              550         200                3               3       smart  \n",
       "1             1950         150                1               1       ultra  "
      ]
     },
     "execution_count": 8,
     "metadata": {},
     "output_type": "execute_result"
    }
   ],
   "source": [
    "#прочитаем датасет tariffs\n",
    "\n",
    "data_tariffs = pd.read_csv('/datasets/tariffs.csv', sep = ',')\n",
    "\n",
    "#выведем датасет на экран\n",
    "\n",
    "data_tariffs"
   ]
  },
  {
   "cell_type": "code",
   "execution_count": 9,
   "metadata": {},
   "outputs": [
    {
     "name": "stdout",
     "output_type": "stream",
     "text": [
      "<class 'pandas.core.frame.DataFrame'>\n",
      "RangeIndex: 2 entries, 0 to 1\n",
      "Data columns (total 8 columns):\n",
      "messages_included        2 non-null int64\n",
      "mb_per_month_included    2 non-null int64\n",
      "minutes_included         2 non-null int64\n",
      "rub_monthly_fee          2 non-null int64\n",
      "rub_per_gb               2 non-null int64\n",
      "rub_per_message          2 non-null int64\n",
      "rub_per_minute           2 non-null int64\n",
      "tariff_name              2 non-null object\n",
      "dtypes: int64(7), object(1)\n",
      "memory usage: 256.0+ bytes\n"
     ]
    }
   ],
   "source": [
    "#изучим общую информацию о датасете\n",
    "\n",
    "data_tariffs.info()"
   ]
  },
  {
   "cell_type": "markdown",
   "metadata": {},
   "source": [
    "В датасете data_tariffs не обнаружено несоответствие типов данных."
   ]
  },
  {
   "cell_type": "code",
   "execution_count": 10,
   "metadata": {},
   "outputs": [
    {
     "data": {
      "text/html": [
       "<div>\n",
       "<style scoped>\n",
       "    .dataframe tbody tr th:only-of-type {\n",
       "        vertical-align: middle;\n",
       "    }\n",
       "\n",
       "    .dataframe tbody tr th {\n",
       "        vertical-align: top;\n",
       "    }\n",
       "\n",
       "    .dataframe thead th {\n",
       "        text-align: right;\n",
       "    }\n",
       "</style>\n",
       "<table border=\"1\" class=\"dataframe\">\n",
       "  <thead>\n",
       "    <tr style=\"text-align: right;\">\n",
       "      <th></th>\n",
       "      <th>user_id</th>\n",
       "      <th>age</th>\n",
       "      <th>churn_date</th>\n",
       "      <th>city</th>\n",
       "      <th>first_name</th>\n",
       "      <th>last_name</th>\n",
       "      <th>reg_date</th>\n",
       "      <th>tariff</th>\n",
       "    </tr>\n",
       "  </thead>\n",
       "  <tbody>\n",
       "    <tr>\n",
       "      <td>0</td>\n",
       "      <td>1000</td>\n",
       "      <td>52</td>\n",
       "      <td>NaN</td>\n",
       "      <td>Краснодар</td>\n",
       "      <td>Рафаил</td>\n",
       "      <td>Верещагин</td>\n",
       "      <td>2018-05-25</td>\n",
       "      <td>ultra</td>\n",
       "    </tr>\n",
       "    <tr>\n",
       "      <td>1</td>\n",
       "      <td>1001</td>\n",
       "      <td>41</td>\n",
       "      <td>NaN</td>\n",
       "      <td>Москва</td>\n",
       "      <td>Иван</td>\n",
       "      <td>Ежов</td>\n",
       "      <td>2018-11-01</td>\n",
       "      <td>smart</td>\n",
       "    </tr>\n",
       "    <tr>\n",
       "      <td>2</td>\n",
       "      <td>1002</td>\n",
       "      <td>59</td>\n",
       "      <td>NaN</td>\n",
       "      <td>Стерлитамак</td>\n",
       "      <td>Евгений</td>\n",
       "      <td>Абрамович</td>\n",
       "      <td>2018-06-17</td>\n",
       "      <td>smart</td>\n",
       "    </tr>\n",
       "    <tr>\n",
       "      <td>3</td>\n",
       "      <td>1003</td>\n",
       "      <td>23</td>\n",
       "      <td>NaN</td>\n",
       "      <td>Москва</td>\n",
       "      <td>Белла</td>\n",
       "      <td>Белякова</td>\n",
       "      <td>2018-08-17</td>\n",
       "      <td>ultra</td>\n",
       "    </tr>\n",
       "    <tr>\n",
       "      <td>4</td>\n",
       "      <td>1004</td>\n",
       "      <td>68</td>\n",
       "      <td>NaN</td>\n",
       "      <td>Новокузнецк</td>\n",
       "      <td>Татьяна</td>\n",
       "      <td>Авдеенко</td>\n",
       "      <td>2018-05-14</td>\n",
       "      <td>ultra</td>\n",
       "    </tr>\n",
       "    <tr>\n",
       "      <td>5</td>\n",
       "      <td>1005</td>\n",
       "      <td>67</td>\n",
       "      <td>NaN</td>\n",
       "      <td>Набережные Челны</td>\n",
       "      <td>Афанасий</td>\n",
       "      <td>Горлов</td>\n",
       "      <td>2018-01-25</td>\n",
       "      <td>smart</td>\n",
       "    </tr>\n",
       "    <tr>\n",
       "      <td>6</td>\n",
       "      <td>1006</td>\n",
       "      <td>21</td>\n",
       "      <td>NaN</td>\n",
       "      <td>Ульяновск</td>\n",
       "      <td>Леонид</td>\n",
       "      <td>Ермолаев</td>\n",
       "      <td>2018-02-26</td>\n",
       "      <td>smart</td>\n",
       "    </tr>\n",
       "    <tr>\n",
       "      <td>7</td>\n",
       "      <td>1007</td>\n",
       "      <td>65</td>\n",
       "      <td>NaN</td>\n",
       "      <td>Москва</td>\n",
       "      <td>Юна</td>\n",
       "      <td>Березина</td>\n",
       "      <td>2018-04-19</td>\n",
       "      <td>smart</td>\n",
       "    </tr>\n",
       "    <tr>\n",
       "      <td>8</td>\n",
       "      <td>1008</td>\n",
       "      <td>63</td>\n",
       "      <td>NaN</td>\n",
       "      <td>Челябинск</td>\n",
       "      <td>Рустэм</td>\n",
       "      <td>Пономарёв</td>\n",
       "      <td>2018-12-19</td>\n",
       "      <td>smart</td>\n",
       "    </tr>\n",
       "    <tr>\n",
       "      <td>9</td>\n",
       "      <td>1009</td>\n",
       "      <td>24</td>\n",
       "      <td>NaN</td>\n",
       "      <td>Пермь</td>\n",
       "      <td>Василиса</td>\n",
       "      <td>Блинова</td>\n",
       "      <td>2018-03-22</td>\n",
       "      <td>smart</td>\n",
       "    </tr>\n",
       "  </tbody>\n",
       "</table>\n",
       "</div>"
      ],
      "text/plain": [
       "   user_id  age churn_date              city first_name  last_name  \\\n",
       "0     1000   52        NaN         Краснодар     Рафаил  Верещагин   \n",
       "1     1001   41        NaN            Москва       Иван       Ежов   \n",
       "2     1002   59        NaN       Стерлитамак    Евгений  Абрамович   \n",
       "3     1003   23        NaN            Москва      Белла   Белякова   \n",
       "4     1004   68        NaN       Новокузнецк    Татьяна   Авдеенко   \n",
       "5     1005   67        NaN  Набережные Челны   Афанасий     Горлов   \n",
       "6     1006   21        NaN         Ульяновск     Леонид   Ермолаев   \n",
       "7     1007   65        NaN            Москва        Юна   Березина   \n",
       "8     1008   63        NaN         Челябинск     Рустэм  Пономарёв   \n",
       "9     1009   24        NaN             Пермь   Василиса    Блинова   \n",
       "\n",
       "     reg_date tariff  \n",
       "0  2018-05-25  ultra  \n",
       "1  2018-11-01  smart  \n",
       "2  2018-06-17  smart  \n",
       "3  2018-08-17  ultra  \n",
       "4  2018-05-14  ultra  \n",
       "5  2018-01-25  smart  \n",
       "6  2018-02-26  smart  \n",
       "7  2018-04-19  smart  \n",
       "8  2018-12-19  smart  \n",
       "9  2018-03-22  smart  "
      ]
     },
     "execution_count": 10,
     "metadata": {},
     "output_type": "execute_result"
    }
   ],
   "source": [
    "#прочитаем датасет users\n",
    "\n",
    "data_users = pd.read_csv('/datasets/users.csv', sep = ',')\n",
    "\n",
    "#выведем датасет на экран\n",
    "\n",
    "data_users.head(10)"
   ]
  },
  {
   "cell_type": "code",
   "execution_count": 11,
   "metadata": {},
   "outputs": [
    {
     "name": "stdout",
     "output_type": "stream",
     "text": [
      "<class 'pandas.core.frame.DataFrame'>\n",
      "RangeIndex: 500 entries, 0 to 499\n",
      "Data columns (total 8 columns):\n",
      "user_id       500 non-null int64\n",
      "age           500 non-null int64\n",
      "churn_date    38 non-null object\n",
      "city          500 non-null object\n",
      "first_name    500 non-null object\n",
      "last_name     500 non-null object\n",
      "reg_date      500 non-null object\n",
      "tariff        500 non-null object\n",
      "dtypes: int64(2), object(6)\n",
      "memory usage: 31.4+ KB\n"
     ]
    }
   ],
   "source": [
    "#изучим общую информацию о датасете\n",
    "\n",
    "data_users.info()"
   ]
  },
  {
   "cell_type": "markdown",
   "metadata": {},
   "source": [
    "Из данных о датасете мы видим, что есть пропущенные значения, а также несоответствие типам данных в столбцах с данными о датах."
   ]
  },
  {
   "cell_type": "markdown",
   "metadata": {},
   "source": [
    "### Вывод"
   ]
  },
  {
   "cell_type": "markdown",
   "metadata": {},
   "source": [
    "Исходя из изученных данных видно, что во всех предоставленных датасетах, кроме data_users, встречается несоответствие типу данных значений в столбцах с данными о дате, а именно object вместо datetime. Эти недостатки необходимо устранить в ходе предобработки данных."
   ]
  },
  {
   "cell_type": "markdown",
   "metadata": {},
   "source": [
    "## Предобработка данных"
   ]
  },
  {
   "cell_type": "markdown",
   "metadata": {},
   "source": [
    "### Поиск пропусков и дубликатов"
   ]
  },
  {
   "cell_type": "markdown",
   "metadata": {},
   "source": [
    "Для того, чтобы приступить к исследованию, необходимо понять, есть ли в данных пропуски и дубликаты, привести данные к нужным типам данных."
   ]
  },
  {
   "cell_type": "code",
   "execution_count": 12,
   "metadata": {},
   "outputs": [
    {
     "name": "stdout",
     "output_type": "stream",
     "text": [
      "Количество пропусков:id           0\n",
      "call_date    0\n",
      "duration     0\n",
      "user_id      0\n",
      "dtype: int64\n",
      "Доля пропусков:id           0.0\n",
      "call_date    0.0\n",
      "duration     0.0\n",
      "user_id      0.0\n",
      "dtype: float64\n",
      "Количество дубликатов:0\n",
      "Доля дубликатов:0.0\n"
     ]
    }
   ],
   "source": [
    "#объявим функцию для поиска и оценки количества и доли пропусков и дубликатов\n",
    "\n",
    "def data_isna(data): #объявляем функцию data_isna\n",
    "    print(f'Количество пропусков:{data.isna().sum()}') #с помощью методов isna() и sum() посчитаем количество пропусков\n",
    "    print(f'Доля пропусков:{data.isna().sum()*100/len(data)}') #с помощью методов isna(),sum() и количества строк посчитаем долю пропусков\n",
    "    print(f'Количество дубликатов:{data.duplicated().sum()}') #посчитаем количество дубликатов\n",
    "    print(f'Доля дубликатов:{data.duplicated().sum()*100/len(data)}') #посчитаем долю дубликатов\n",
    "#изучим количество пропусков и дубликатов в датасете data_calls\n",
    "\n",
    "data_isna(data_calls)"
   ]
  },
  {
   "cell_type": "code",
   "execution_count": 13,
   "metadata": {},
   "outputs": [
    {
     "name": "stdout",
     "output_type": "stream",
     "text": [
      "Количество пропусков:Unnamed: 0      0\n",
      "id              0\n",
      "mb_used         0\n",
      "session_date    0\n",
      "user_id         0\n",
      "dtype: int64\n",
      "Доля пропусков:Unnamed: 0      0.0\n",
      "id              0.0\n",
      "mb_used         0.0\n",
      "session_date    0.0\n",
      "user_id         0.0\n",
      "dtype: float64\n",
      "Количество дубликатов:0\n",
      "Доля дубликатов:0.0\n"
     ]
    }
   ],
   "source": [
    "#изучим количество пропусков и дубликатов в датасете data_internet\n",
    "\n",
    "data_isna(data_internet)"
   ]
  },
  {
   "cell_type": "code",
   "execution_count": 14,
   "metadata": {},
   "outputs": [
    {
     "name": "stdout",
     "output_type": "stream",
     "text": [
      "Количество пропусков:id              0\n",
      "message_date    0\n",
      "user_id         0\n",
      "dtype: int64\n",
      "Доля пропусков:id              0.0\n",
      "message_date    0.0\n",
      "user_id         0.0\n",
      "dtype: float64\n",
      "Количество дубликатов:0\n",
      "Доля дубликатов:0.0\n"
     ]
    }
   ],
   "source": [
    "#изучим количество пропусков и дубликатов в датасете data_messages\n",
    "\n",
    "data_isna(data_messages)"
   ]
  },
  {
   "cell_type": "code",
   "execution_count": 15,
   "metadata": {},
   "outputs": [
    {
     "name": "stdout",
     "output_type": "stream",
     "text": [
      "Количество пропусков:messages_included        0\n",
      "mb_per_month_included    0\n",
      "minutes_included         0\n",
      "rub_monthly_fee          0\n",
      "rub_per_gb               0\n",
      "rub_per_message          0\n",
      "rub_per_minute           0\n",
      "tariff_name              0\n",
      "dtype: int64\n",
      "Доля пропусков:messages_included        0.0\n",
      "mb_per_month_included    0.0\n",
      "minutes_included         0.0\n",
      "rub_monthly_fee          0.0\n",
      "rub_per_gb               0.0\n",
      "rub_per_message          0.0\n",
      "rub_per_minute           0.0\n",
      "tariff_name              0.0\n",
      "dtype: float64\n",
      "Количество дубликатов:0\n",
      "Доля дубликатов:0.0\n"
     ]
    }
   ],
   "source": [
    "#изучим количество пропусков и дубликатов в датасете data_tariffs\n",
    "\n",
    "data_isna(data_tariffs)"
   ]
  },
  {
   "cell_type": "code",
   "execution_count": 16,
   "metadata": {},
   "outputs": [
    {
     "name": "stdout",
     "output_type": "stream",
     "text": [
      "Количество пропусков:user_id         0\n",
      "age             0\n",
      "churn_date    462\n",
      "city            0\n",
      "first_name      0\n",
      "last_name       0\n",
      "reg_date        0\n",
      "tariff          0\n",
      "dtype: int64\n",
      "Доля пропусков:user_id        0.0\n",
      "age            0.0\n",
      "churn_date    92.4\n",
      "city           0.0\n",
      "first_name     0.0\n",
      "last_name      0.0\n",
      "reg_date       0.0\n",
      "tariff         0.0\n",
      "dtype: float64\n",
      "Количество дубликатов:0\n",
      "Доля дубликатов:0.0\n"
     ]
    }
   ],
   "source": [
    "#изучим количество пропусков и дубликатов в датасете data_users\n",
    "\n",
    "data_isna(data_users)"
   ]
  },
  {
   "cell_type": "markdown",
   "metadata": {},
   "source": [
    "Изучив данные о пропусках и дубликатах, видно, что пропуски присутствуют только в датасете data_users в столбце с данными о дате прекращения пользования тарифом, но по условиям задания, если значение пропущено, то тариф ещё действовал на момент выгрузки данных, поэтому пропуски обрабатывать не нужно. Дубликаты не были обнаружены ни в одном из датасетов."
   ]
  },
  {
   "cell_type": "markdown",
   "metadata": {},
   "source": [
    "### Изменение типов данных"
   ]
  },
  {
   "cell_type": "code",
   "execution_count": 17,
   "metadata": {},
   "outputs": [],
   "source": [
    "#объявим функцию для замены типа данных str в столбцах датасетов на datetime\n",
    "\n",
    "def datetime_function(data:pd.DataFrame,colname:str): #объявим функцию datetime_function\n",
    "    data[colname] = pd.to_datetime(data[colname],format ='%Y-%m-%dT%H:%M:%S') #c помощью метода to_datetime заменим тип данных с object64 на datetime64\n",
    "    return data[colname] #вернем результат работы функции\n",
    "    "
   ]
  },
  {
   "cell_type": "code",
   "execution_count": 18,
   "metadata": {},
   "outputs": [
    {
     "data": {
      "text/plain": [
       "0        2018-07-25\n",
       "1        2018-08-17\n",
       "2        2018-06-11\n",
       "3        2018-09-21\n",
       "4        2018-12-15\n",
       "            ...    \n",
       "202602   2018-12-26\n",
       "202603   2018-10-18\n",
       "202604   2018-11-10\n",
       "202605   2018-10-06\n",
       "202606   2018-12-14\n",
       "Name: call_date, Length: 202607, dtype: datetime64[ns]"
      ]
     },
     "execution_count": 18,
     "metadata": {},
     "output_type": "execute_result"
    }
   ],
   "source": [
    "#заменим тип данных в столбце 'call_date' датасета data_calls\n",
    "\n",
    "datetime_function(data_calls,'call_date')"
   ]
  },
  {
   "cell_type": "code",
   "execution_count": 19,
   "metadata": {},
   "outputs": [
    {
     "data": {
      "text/plain": [
       "0        2018-11-25\n",
       "1        2018-09-07\n",
       "2        2018-06-25\n",
       "3        2018-08-22\n",
       "4        2018-09-24\n",
       "            ...    \n",
       "149391   2018-10-03\n",
       "149392   2018-12-14\n",
       "149393   2018-10-27\n",
       "149394   2018-11-26\n",
       "149395   2018-10-26\n",
       "Name: session_date, Length: 149396, dtype: datetime64[ns]"
      ]
     },
     "execution_count": 19,
     "metadata": {},
     "output_type": "execute_result"
    }
   ],
   "source": [
    "#заменим тип данных в столбце 'session_date' датасета data_internet\n",
    "\n",
    "datetime_function(data_internet,'session_date')"
   ]
  },
  {
   "cell_type": "code",
   "execution_count": 20,
   "metadata": {},
   "outputs": [
    {
     "data": {
      "text/plain": [
       "0        2018-06-27\n",
       "1        2018-10-08\n",
       "2        2018-08-04\n",
       "3        2018-06-16\n",
       "4        2018-12-05\n",
       "            ...    \n",
       "123031   2018-12-12\n",
       "123032   2018-09-28\n",
       "123033   2018-09-27\n",
       "123034   2018-11-15\n",
       "123035   2018-11-16\n",
       "Name: message_date, Length: 123036, dtype: datetime64[ns]"
      ]
     },
     "execution_count": 20,
     "metadata": {},
     "output_type": "execute_result"
    }
   ],
   "source": [
    "#заменим тип данных в столбце 'message_date' датасета data_messages\n",
    "\n",
    "datetime_function(data_messages,'message_date')"
   ]
  },
  {
   "cell_type": "code",
   "execution_count": 21,
   "metadata": {},
   "outputs": [
    {
     "data": {
      "text/plain": [
       "0     2018-05-25\n",
       "1     2018-11-01\n",
       "2     2018-06-17\n",
       "3     2018-08-17\n",
       "4     2018-05-14\n",
       "         ...    \n",
       "495   2018-08-28\n",
       "496   2018-01-27\n",
       "497   2018-10-09\n",
       "498   2018-07-19\n",
       "499   2018-09-27\n",
       "Name: reg_date, Length: 500, dtype: datetime64[ns]"
      ]
     },
     "execution_count": 21,
     "metadata": {},
     "output_type": "execute_result"
    }
   ],
   "source": [
    "#заменим тип данных в столбце 'reg_date' датасета data_users\n",
    "\n",
    "datetime_function(data_users,'reg_date')"
   ]
  },
  {
   "cell_type": "markdown",
   "metadata": {},
   "source": [
    "### Вывод"
   ]
  },
  {
   "cell_type": "markdown",
   "metadata": {},
   "source": [
    "В ходе предобработки были обнаружены пропущенные значения в датасете data_users в столбце со значениями даты прекращения действия тарифа. Однако, исходя из примечаний к проекту видно, что эти значения говорят о том, что на момент выгрузки тариф еще был активен, поэтому эти пропуски не были обработаны. Также были значения, содержащие данные о дате, были приведены к необходимому типу данных - к datetime."
   ]
  },
  {
   "cell_type": "markdown",
   "metadata": {},
   "source": [
    "## Подготовка данных к проведению исследования"
   ]
  },
  {
   "cell_type": "markdown",
   "metadata": {},
   "source": [
    "### Добавление необходимых данных, приведение единиц измерения к нужному типу"
   ]
  },
  {
   "cell_type": "markdown",
   "metadata": {},
   "source": [
    "Для дальнейшего проведения анализа нам необходимо добавить столбцы, содержащие данные о месяце. "
   ]
  },
  {
   "cell_type": "code",
   "execution_count": 22,
   "metadata": {},
   "outputs": [],
   "source": [
    "#объявим функцию для добавления столбца 'month'\n",
    "\n",
    "def month_function(data:pd.DataFrame,colname:str): #объявим функцию month_function\n",
    "    data['month'] = data[colname].dt.month #создадим новый столбец 'month' с результатом работы метода dt.month\n",
    "    return data['month'] #вернем результат работы функции"
   ]
  },
  {
   "cell_type": "code",
   "execution_count": 23,
   "metadata": {},
   "outputs": [
    {
     "data": {
      "text/plain": [
       "0          7\n",
       "1          8\n",
       "2          6\n",
       "3          9\n",
       "4         12\n",
       "          ..\n",
       "202602    12\n",
       "202603    10\n",
       "202604    11\n",
       "202605    10\n",
       "202606    12\n",
       "Name: month, Length: 202607, dtype: int64"
      ]
     },
     "execution_count": 23,
     "metadata": {},
     "output_type": "execute_result"
    }
   ],
   "source": [
    "#создадим новый столбец 'month' в датасете data_calls\n",
    "\n",
    "month_function(data_calls,'call_date')"
   ]
  },
  {
   "cell_type": "code",
   "execution_count": 24,
   "metadata": {},
   "outputs": [
    {
     "data": {
      "text/plain": [
       "0         11\n",
       "1          9\n",
       "2          6\n",
       "3          8\n",
       "4          9\n",
       "          ..\n",
       "149391    10\n",
       "149392    12\n",
       "149393    10\n",
       "149394    11\n",
       "149395    10\n",
       "Name: month, Length: 149396, dtype: int64"
      ]
     },
     "execution_count": 24,
     "metadata": {},
     "output_type": "execute_result"
    }
   ],
   "source": [
    "#создадим новый столбец 'month' в датасете data_internet\n",
    "\n",
    "month_function(data_internet,'session_date')"
   ]
  },
  {
   "cell_type": "code",
   "execution_count": 25,
   "metadata": {},
   "outputs": [
    {
     "data": {
      "text/plain": [
       "0          6\n",
       "1         10\n",
       "2          8\n",
       "3          6\n",
       "4         12\n",
       "          ..\n",
       "123031    12\n",
       "123032     9\n",
       "123033     9\n",
       "123034    11\n",
       "123035    11\n",
       "Name: month, Length: 123036, dtype: int64"
      ]
     },
     "execution_count": 25,
     "metadata": {},
     "output_type": "execute_result"
    }
   ],
   "source": [
    "#создадим новый столбец 'month' в датасете data_messages\n",
    "\n",
    "month_function(data_messages,'message_date')"
   ]
  },
  {
   "cell_type": "code",
   "execution_count": 26,
   "metadata": {},
   "outputs": [
    {
     "data": {
      "text/plain": [
       "0       5\n",
       "1      11\n",
       "2       6\n",
       "3       8\n",
       "4       5\n",
       "       ..\n",
       "495     8\n",
       "496     1\n",
       "497    10\n",
       "498     7\n",
       "499     9\n",
       "Name: month, Length: 500, dtype: int64"
      ]
     },
     "execution_count": 26,
     "metadata": {},
     "output_type": "execute_result"
    }
   ],
   "source": [
    "#создадим новый столбец 'month' в датасете data_users\n",
    "\n",
    "month_function(data_users,'reg_date')"
   ]
  },
  {
   "cell_type": "markdown",
   "metadata": {},
   "source": [
    "Для корректности дальнейших расчетов необходимо привести данные о звонках и используемом трафике в соответствие с условиями тарифов: округлить секунды звонков до минут, а Мегабайты трафика до Гигабайт."
   ]
  },
  {
   "cell_type": "code",
   "execution_count": 27,
   "metadata": {},
   "outputs": [
    {
     "data": {
      "text/plain": [
       "0     1\n",
       "1     1\n",
       "2     3\n",
       "3    14\n",
       "4     6\n",
       "5     1\n",
       "6     1\n",
       "7    19\n",
       "8    19\n",
       "9     1\n",
       "Name: duration, dtype: int64"
      ]
     },
     "execution_count": 27,
     "metadata": {},
     "output_type": "execute_result"
    }
   ],
   "source": [
    "#округлим в большую сторону длительность звонков\n",
    "\n",
    "data_calls['duration'] = data_calls['duration'].apply(np.ceil).replace(0,1).astype(int)\n",
    "\n",
    "#выведем первые 10 строк столбца 'duration' на экран\n",
    "\n",
    "data_calls['duration'].head(10)"
   ]
  },
  {
   "cell_type": "code",
   "execution_count": 28,
   "metadata": {},
   "outputs": [
    {
     "data": {
      "text/plain": [
       "0    0.11\n",
       "1    1.03\n",
       "2    1.17\n",
       "3    0.54\n",
       "4    0.30\n",
       "5    0.39\n",
       "6    0.53\n",
       "7    0.41\n",
       "8    0.49\n",
       "9    0.34\n",
       "Name: gb_used, dtype: float64"
      ]
     },
     "execution_count": 28,
     "metadata": {},
     "output_type": "execute_result"
    }
   ],
   "source": [
    "#округлим в большую сторону использование трафика и переведем мегабайты в гигабайты и для удобства \n",
    "#округлим до сотых. Результат сохраним в новом столбце 'gb_used'\n",
    "\n",
    "data_internet['gb_used'] = ((data_internet['mb_used'].apply(np.ceil).replace(0,1)) / 1024).round(2)\n",
    "\n",
    "#выведем первые 10 строк столбца 'gb_used' на экран\n",
    "\n",
    "data_internet['gb_used'].head(10)"
   ]
  },
  {
   "cell_type": "code",
   "execution_count": 29,
   "metadata": {},
   "outputs": [
    {
     "data": {
      "text/plain": [
       "0    15.0\n",
       "1    30.0\n",
       "Name: gb_per_month_included, dtype: float64"
      ]
     },
     "execution_count": 29,
     "metadata": {},
     "output_type": "execute_result"
    }
   ],
   "source": [
    "#округлим в большую сторону включенный трафик и переведем мегабайты в гигабайты и для удобства \n",
    "#округлим до сотых. Результат сохраним в новом столбце 'gb_per_month_included'\n",
    "\n",
    "data_tariffs['gb_per_month_included'] = ((data_tariffs['mb_per_month_included'].apply(np.ceil).replace(0,1)) / 1024).round(2)\n",
    "\n",
    "#выведем столбец 'gb_per_month_included' на экран\n",
    "\n",
    "data_tariffs['gb_per_month_included']"
   ]
  },
  {
   "cell_type": "markdown",
   "metadata": {},
   "source": [
    "### Расчет количества израсходованных телекоммуникационных услуг"
   ]
  },
  {
   "cell_type": "markdown",
   "metadata": {},
   "source": [
    "Далее для каждого пользователя нам нужно посчитать:\n",
    "- количество сделанных звонков и израсходованных минут разговора по месяцам;\n",
    "- количество отправленных сообщений по месяцам;\n",
    "- объем израсходованного интернет-трафика по месяцам;\n",
    "- помесячную выручку с каждого пользователя."
   ]
  },
  {
   "cell_type": "code",
   "execution_count": 30,
   "metadata": {},
   "outputs": [
    {
     "data": {
      "text/html": [
       "<div>\n",
       "<style scoped>\n",
       "    .dataframe tbody tr th:only-of-type {\n",
       "        vertical-align: middle;\n",
       "    }\n",
       "\n",
       "    .dataframe tbody tr th {\n",
       "        vertical-align: top;\n",
       "    }\n",
       "\n",
       "    .dataframe thead th {\n",
       "        text-align: right;\n",
       "    }\n",
       "</style>\n",
       "<table border=\"1\" class=\"dataframe\">\n",
       "  <thead>\n",
       "    <tr style=\"text-align: right;\">\n",
       "      <th></th>\n",
       "      <th>user_id</th>\n",
       "      <th>month</th>\n",
       "      <th>count</th>\n",
       "      <th>sum</th>\n",
       "    </tr>\n",
       "  </thead>\n",
       "  <tbody>\n",
       "    <tr>\n",
       "      <td>0</td>\n",
       "      <td>1000</td>\n",
       "      <td>5</td>\n",
       "      <td>22</td>\n",
       "      <td>164</td>\n",
       "    </tr>\n",
       "    <tr>\n",
       "      <td>1</td>\n",
       "      <td>1000</td>\n",
       "      <td>6</td>\n",
       "      <td>43</td>\n",
       "      <td>187</td>\n",
       "    </tr>\n",
       "    <tr>\n",
       "      <td>2</td>\n",
       "      <td>1000</td>\n",
       "      <td>7</td>\n",
       "      <td>47</td>\n",
       "      <td>346</td>\n",
       "    </tr>\n",
       "    <tr>\n",
       "      <td>3</td>\n",
       "      <td>1000</td>\n",
       "      <td>8</td>\n",
       "      <td>52</td>\n",
       "      <td>418</td>\n",
       "    </tr>\n",
       "    <tr>\n",
       "      <td>4</td>\n",
       "      <td>1000</td>\n",
       "      <td>9</td>\n",
       "      <td>58</td>\n",
       "      <td>478</td>\n",
       "    </tr>\n",
       "    <tr>\n",
       "      <td>5</td>\n",
       "      <td>1000</td>\n",
       "      <td>10</td>\n",
       "      <td>57</td>\n",
       "      <td>363</td>\n",
       "    </tr>\n",
       "    <tr>\n",
       "      <td>6</td>\n",
       "      <td>1000</td>\n",
       "      <td>11</td>\n",
       "      <td>43</td>\n",
       "      <td>344</td>\n",
       "    </tr>\n",
       "    <tr>\n",
       "      <td>7</td>\n",
       "      <td>1000</td>\n",
       "      <td>12</td>\n",
       "      <td>46</td>\n",
       "      <td>341</td>\n",
       "    </tr>\n",
       "    <tr>\n",
       "      <td>8</td>\n",
       "      <td>1001</td>\n",
       "      <td>11</td>\n",
       "      <td>59</td>\n",
       "      <td>444</td>\n",
       "    </tr>\n",
       "    <tr>\n",
       "      <td>9</td>\n",
       "      <td>1001</td>\n",
       "      <td>12</td>\n",
       "      <td>63</td>\n",
       "      <td>430</td>\n",
       "    </tr>\n",
       "  </tbody>\n",
       "</table>\n",
       "</div>"
      ],
      "text/plain": [
       "   user_id  month  count  sum\n",
       "0     1000      5     22  164\n",
       "1     1000      6     43  187\n",
       "2     1000      7     47  346\n",
       "3     1000      8     52  418\n",
       "4     1000      9     58  478\n",
       "5     1000     10     57  363\n",
       "6     1000     11     43  344\n",
       "7     1000     12     46  341\n",
       "8     1001     11     59  444\n",
       "9     1001     12     63  430"
      ]
     },
     "execution_count": 30,
     "metadata": {},
     "output_type": "execute_result"
    }
   ],
   "source": [
    "#с помощью сводной таблицы посчитаем количество сделанных звонков и израсходованных минут разговора\n",
    "#по месяцам\n",
    "\n",
    "data_calls_total = data_calls.pivot_table(index=['user_id', 'month'], values='duration',\n",
    "                                          aggfunc=('sum', 'count')).reset_index()\n",
    "\n",
    "#выведем первые 10 строк датасета на экран\n",
    "\n",
    "data_calls_total.head(10)"
   ]
  },
  {
   "cell_type": "code",
   "execution_count": 31,
   "metadata": {},
   "outputs": [
    {
     "data": {
      "text/html": [
       "<div>\n",
       "<style scoped>\n",
       "    .dataframe tbody tr th:only-of-type {\n",
       "        vertical-align: middle;\n",
       "    }\n",
       "\n",
       "    .dataframe tbody tr th {\n",
       "        vertical-align: top;\n",
       "    }\n",
       "\n",
       "    .dataframe thead th {\n",
       "        text-align: right;\n",
       "    }\n",
       "</style>\n",
       "<table border=\"1\" class=\"dataframe\">\n",
       "  <thead>\n",
       "    <tr style=\"text-align: right;\">\n",
       "      <th></th>\n",
       "      <th>user_id</th>\n",
       "      <th>month</th>\n",
       "      <th>id</th>\n",
       "    </tr>\n",
       "  </thead>\n",
       "  <tbody>\n",
       "    <tr>\n",
       "      <td>0</td>\n",
       "      <td>1000</td>\n",
       "      <td>5</td>\n",
       "      <td>22</td>\n",
       "    </tr>\n",
       "    <tr>\n",
       "      <td>1</td>\n",
       "      <td>1000</td>\n",
       "      <td>6</td>\n",
       "      <td>60</td>\n",
       "    </tr>\n",
       "    <tr>\n",
       "      <td>2</td>\n",
       "      <td>1000</td>\n",
       "      <td>7</td>\n",
       "      <td>75</td>\n",
       "    </tr>\n",
       "    <tr>\n",
       "      <td>3</td>\n",
       "      <td>1000</td>\n",
       "      <td>8</td>\n",
       "      <td>81</td>\n",
       "    </tr>\n",
       "    <tr>\n",
       "      <td>4</td>\n",
       "      <td>1000</td>\n",
       "      <td>9</td>\n",
       "      <td>57</td>\n",
       "    </tr>\n",
       "    <tr>\n",
       "      <td>5</td>\n",
       "      <td>1000</td>\n",
       "      <td>10</td>\n",
       "      <td>73</td>\n",
       "    </tr>\n",
       "    <tr>\n",
       "      <td>6</td>\n",
       "      <td>1000</td>\n",
       "      <td>11</td>\n",
       "      <td>58</td>\n",
       "    </tr>\n",
       "    <tr>\n",
       "      <td>7</td>\n",
       "      <td>1000</td>\n",
       "      <td>12</td>\n",
       "      <td>70</td>\n",
       "    </tr>\n",
       "    <tr>\n",
       "      <td>8</td>\n",
       "      <td>1002</td>\n",
       "      <td>6</td>\n",
       "      <td>4</td>\n",
       "    </tr>\n",
       "    <tr>\n",
       "      <td>9</td>\n",
       "      <td>1002</td>\n",
       "      <td>7</td>\n",
       "      <td>11</td>\n",
       "    </tr>\n",
       "  </tbody>\n",
       "</table>\n",
       "</div>"
      ],
      "text/plain": [
       "   user_id  month  id\n",
       "0     1000      5  22\n",
       "1     1000      6  60\n",
       "2     1000      7  75\n",
       "3     1000      8  81\n",
       "4     1000      9  57\n",
       "5     1000     10  73\n",
       "6     1000     11  58\n",
       "7     1000     12  70\n",
       "8     1002      6   4\n",
       "9     1002      7  11"
      ]
     },
     "execution_count": 31,
     "metadata": {},
     "output_type": "execute_result"
    }
   ],
   "source": [
    "#с помощью сводной таблицы посчитаем количество отправленных сообщений по месяцам\n",
    "\n",
    "data_messages_total = data_messages.pivot_table(index=['user_id', 'month'], values='id',\n",
    "                                                aggfunc='count').reset_index()\n",
    "\n",
    "#выведем первые 10 строк датасета на экран\n",
    "\n",
    "data_messages_total.head(10)"
   ]
  },
  {
   "cell_type": "code",
   "execution_count": 32,
   "metadata": {},
   "outputs": [
    {
     "data": {
      "text/html": [
       "<div>\n",
       "<style scoped>\n",
       "    .dataframe tbody tr th:only-of-type {\n",
       "        vertical-align: middle;\n",
       "    }\n",
       "\n",
       "    .dataframe tbody tr th {\n",
       "        vertical-align: top;\n",
       "    }\n",
       "\n",
       "    .dataframe thead th {\n",
       "        text-align: right;\n",
       "    }\n",
       "</style>\n",
       "<table border=\"1\" class=\"dataframe\">\n",
       "  <thead>\n",
       "    <tr style=\"text-align: right;\">\n",
       "      <th></th>\n",
       "      <th>user_id</th>\n",
       "      <th>month</th>\n",
       "      <th>gb_used</th>\n",
       "    </tr>\n",
       "  </thead>\n",
       "  <tbody>\n",
       "    <tr>\n",
       "      <td>0</td>\n",
       "      <td>1000</td>\n",
       "      <td>5</td>\n",
       "      <td>2.20</td>\n",
       "    </tr>\n",
       "    <tr>\n",
       "      <td>1</td>\n",
       "      <td>1000</td>\n",
       "      <td>6</td>\n",
       "      <td>22.69</td>\n",
       "    </tr>\n",
       "    <tr>\n",
       "      <td>2</td>\n",
       "      <td>1000</td>\n",
       "      <td>7</td>\n",
       "      <td>13.71</td>\n",
       "    </tr>\n",
       "    <tr>\n",
       "      <td>3</td>\n",
       "      <td>1000</td>\n",
       "      <td>8</td>\n",
       "      <td>13.75</td>\n",
       "    </tr>\n",
       "    <tr>\n",
       "      <td>4</td>\n",
       "      <td>1000</td>\n",
       "      <td>9</td>\n",
       "      <td>14.27</td>\n",
       "    </tr>\n",
       "    <tr>\n",
       "      <td>5</td>\n",
       "      <td>1000</td>\n",
       "      <td>10</td>\n",
       "      <td>14.37</td>\n",
       "    </tr>\n",
       "    <tr>\n",
       "      <td>6</td>\n",
       "      <td>1000</td>\n",
       "      <td>11</td>\n",
       "      <td>14.41</td>\n",
       "    </tr>\n",
       "    <tr>\n",
       "      <td>7</td>\n",
       "      <td>1000</td>\n",
       "      <td>12</td>\n",
       "      <td>9.56</td>\n",
       "    </tr>\n",
       "    <tr>\n",
       "      <td>8</td>\n",
       "      <td>1001</td>\n",
       "      <td>11</td>\n",
       "      <td>17.99</td>\n",
       "    </tr>\n",
       "    <tr>\n",
       "      <td>9</td>\n",
       "      <td>1001</td>\n",
       "      <td>12</td>\n",
       "      <td>13.73</td>\n",
       "    </tr>\n",
       "  </tbody>\n",
       "</table>\n",
       "</div>"
      ],
      "text/plain": [
       "   user_id  month  gb_used\n",
       "0     1000      5     2.20\n",
       "1     1000      6    22.69\n",
       "2     1000      7    13.71\n",
       "3     1000      8    13.75\n",
       "4     1000      9    14.27\n",
       "5     1000     10    14.37\n",
       "6     1000     11    14.41\n",
       "7     1000     12     9.56\n",
       "8     1001     11    17.99\n",
       "9     1001     12    13.73"
      ]
     },
     "execution_count": 32,
     "metadata": {},
     "output_type": "execute_result"
    }
   ],
   "source": [
    "#с помощью сводной таблицы посчитаем количество израсходованного интернет-трафика по месяцам\n",
    "\n",
    "data_internet_total = data_internet.pivot_table(index=['user_id', 'month'], values='gb_used',\n",
    "                                                aggfunc='sum').reset_index()\n",
    "\n",
    "#выведем первые 10 строк датасета на экран\n",
    "\n",
    "data_internet_total.head(10)"
   ]
  },
  {
   "cell_type": "code",
   "execution_count": 33,
   "metadata": {},
   "outputs": [
    {
     "data": {
      "text/html": [
       "<div>\n",
       "<style scoped>\n",
       "    .dataframe tbody tr th:only-of-type {\n",
       "        vertical-align: middle;\n",
       "    }\n",
       "\n",
       "    .dataframe tbody tr th {\n",
       "        vertical-align: top;\n",
       "    }\n",
       "\n",
       "    .dataframe thead th {\n",
       "        text-align: right;\n",
       "    }\n",
       "</style>\n",
       "<table border=\"1\" class=\"dataframe\">\n",
       "  <thead>\n",
       "    <tr style=\"text-align: right;\">\n",
       "      <th></th>\n",
       "      <th>user_id</th>\n",
       "      <th>month</th>\n",
       "      <th>count</th>\n",
       "      <th>sum</th>\n",
       "      <th>id</th>\n",
       "    </tr>\n",
       "  </thead>\n",
       "  <tbody>\n",
       "    <tr>\n",
       "      <td>0</td>\n",
       "      <td>1000</td>\n",
       "      <td>5</td>\n",
       "      <td>22.0</td>\n",
       "      <td>164.0</td>\n",
       "      <td>22.0</td>\n",
       "    </tr>\n",
       "    <tr>\n",
       "      <td>1</td>\n",
       "      <td>1000</td>\n",
       "      <td>6</td>\n",
       "      <td>43.0</td>\n",
       "      <td>187.0</td>\n",
       "      <td>60.0</td>\n",
       "    </tr>\n",
       "    <tr>\n",
       "      <td>2</td>\n",
       "      <td>1000</td>\n",
       "      <td>7</td>\n",
       "      <td>47.0</td>\n",
       "      <td>346.0</td>\n",
       "      <td>75.0</td>\n",
       "    </tr>\n",
       "    <tr>\n",
       "      <td>3</td>\n",
       "      <td>1000</td>\n",
       "      <td>8</td>\n",
       "      <td>52.0</td>\n",
       "      <td>418.0</td>\n",
       "      <td>81.0</td>\n",
       "    </tr>\n",
       "    <tr>\n",
       "      <td>4</td>\n",
       "      <td>1000</td>\n",
       "      <td>9</td>\n",
       "      <td>58.0</td>\n",
       "      <td>478.0</td>\n",
       "      <td>57.0</td>\n",
       "    </tr>\n",
       "    <tr>\n",
       "      <td>5</td>\n",
       "      <td>1000</td>\n",
       "      <td>10</td>\n",
       "      <td>57.0</td>\n",
       "      <td>363.0</td>\n",
       "      <td>73.0</td>\n",
       "    </tr>\n",
       "    <tr>\n",
       "      <td>6</td>\n",
       "      <td>1000</td>\n",
       "      <td>11</td>\n",
       "      <td>43.0</td>\n",
       "      <td>344.0</td>\n",
       "      <td>58.0</td>\n",
       "    </tr>\n",
       "    <tr>\n",
       "      <td>7</td>\n",
       "      <td>1000</td>\n",
       "      <td>12</td>\n",
       "      <td>46.0</td>\n",
       "      <td>341.0</td>\n",
       "      <td>70.0</td>\n",
       "    </tr>\n",
       "    <tr>\n",
       "      <td>8</td>\n",
       "      <td>1001</td>\n",
       "      <td>11</td>\n",
       "      <td>59.0</td>\n",
       "      <td>444.0</td>\n",
       "      <td>NaN</td>\n",
       "    </tr>\n",
       "    <tr>\n",
       "      <td>9</td>\n",
       "      <td>1001</td>\n",
       "      <td>12</td>\n",
       "      <td>63.0</td>\n",
       "      <td>430.0</td>\n",
       "      <td>NaN</td>\n",
       "    </tr>\n",
       "  </tbody>\n",
       "</table>\n",
       "</div>"
      ],
      "text/plain": [
       "   user_id  month  count    sum    id\n",
       "0     1000      5   22.0  164.0  22.0\n",
       "1     1000      6   43.0  187.0  60.0\n",
       "2     1000      7   47.0  346.0  75.0\n",
       "3     1000      8   52.0  418.0  81.0\n",
       "4     1000      9   58.0  478.0  57.0\n",
       "5     1000     10   57.0  363.0  73.0\n",
       "6     1000     11   43.0  344.0  58.0\n",
       "7     1000     12   46.0  341.0  70.0\n",
       "8     1001     11   59.0  444.0   NaN\n",
       "9     1001     12   63.0  430.0   NaN"
      ]
     },
     "execution_count": 33,
     "metadata": {},
     "output_type": "execute_result"
    }
   ],
   "source": [
    "#создадим новую таблицу calls_messages_data, содержащую информацию о звонках и сообщениях\n",
    "\n",
    "calls_messages_data = data_calls_total.merge(data_messages_total, \n",
    "                                             on=['user_id','month'], how = 'outer')\n",
    "\n",
    "#выведем первые 10 строк датасета на экран\n",
    "\n",
    "calls_messages_data.head(10)"
   ]
  },
  {
   "cell_type": "code",
   "execution_count": 34,
   "metadata": {},
   "outputs": [
    {
     "name": "stdout",
     "output_type": "stream",
     "text": [
      "Количество пропусков:user_id      0\n",
      "month        0\n",
      "count       39\n",
      "sum         39\n",
      "id         496\n",
      "dtype: int64\n",
      "Доля пропусков:user_id     0.000000\n",
      "month       0.000000\n",
      "count       1.213819\n",
      "sum         1.213819\n",
      "id         15.437286\n",
      "dtype: float64\n",
      "Количество дубликатов:0\n",
      "Доля дубликатов:0.0\n"
     ]
    }
   ],
   "source": [
    "#проверим количество и рассчитаем долю пропусков в датасете после объединения\n",
    "\n",
    "data_isna(calls_messages_data)"
   ]
  },
  {
   "cell_type": "markdown",
   "metadata": {},
   "source": [
    "Из представленных данных видно, что в ходе объединения двух датасетов образовались пропуски значений. Для того, чтобы пропуски учитывались в дальнейшем при расчетах, заменим их на нулевые значения."
   ]
  },
  {
   "cell_type": "code",
   "execution_count": 35,
   "metadata": {},
   "outputs": [
    {
     "name": "stdout",
     "output_type": "stream",
     "text": [
      "Количество пропусков:user_id    0\n",
      "month      0\n",
      "count      0\n",
      "sum        0\n",
      "id         0\n",
      "dtype: int64\n",
      "Доля пропусков:user_id    0.0\n",
      "month      0.0\n",
      "count      0.0\n",
      "sum        0.0\n",
      "id         0.0\n",
      "dtype: float64\n",
      "Количество дубликатов:0\n",
      "Доля дубликатов:0.0\n"
     ]
    }
   ],
   "source": [
    "#заменим пропуски в столбцах датасета calls_messages_data на нулевые значения\n",
    "\n",
    "calls_messages_data = calls_messages_data.fillna({'count': 0,\n",
    "                                                 'sum': 0,\n",
    "                                                 'id': 0})\n",
    "#подсчитаем количество и долю пропусков\n",
    "\n",
    "data_isna(calls_messages_data)"
   ]
  },
  {
   "cell_type": "code",
   "execution_count": 36,
   "metadata": {},
   "outputs": [
    {
     "data": {
      "text/html": [
       "<div>\n",
       "<style scoped>\n",
       "    .dataframe tbody tr th:only-of-type {\n",
       "        vertical-align: middle;\n",
       "    }\n",
       "\n",
       "    .dataframe tbody tr th {\n",
       "        vertical-align: top;\n",
       "    }\n",
       "\n",
       "    .dataframe thead th {\n",
       "        text-align: right;\n",
       "    }\n",
       "</style>\n",
       "<table border=\"1\" class=\"dataframe\">\n",
       "  <thead>\n",
       "    <tr style=\"text-align: right;\">\n",
       "      <th></th>\n",
       "      <th>user_id</th>\n",
       "      <th>month</th>\n",
       "      <th>count</th>\n",
       "      <th>sum</th>\n",
       "      <th>id</th>\n",
       "      <th>gb_used</th>\n",
       "    </tr>\n",
       "  </thead>\n",
       "  <tbody>\n",
       "    <tr>\n",
       "      <td>0</td>\n",
       "      <td>1000</td>\n",
       "      <td>5</td>\n",
       "      <td>22.0</td>\n",
       "      <td>164.0</td>\n",
       "      <td>22.0</td>\n",
       "      <td>2.20</td>\n",
       "    </tr>\n",
       "    <tr>\n",
       "      <td>1</td>\n",
       "      <td>1000</td>\n",
       "      <td>6</td>\n",
       "      <td>43.0</td>\n",
       "      <td>187.0</td>\n",
       "      <td>60.0</td>\n",
       "      <td>22.69</td>\n",
       "    </tr>\n",
       "    <tr>\n",
       "      <td>2</td>\n",
       "      <td>1000</td>\n",
       "      <td>7</td>\n",
       "      <td>47.0</td>\n",
       "      <td>346.0</td>\n",
       "      <td>75.0</td>\n",
       "      <td>13.71</td>\n",
       "    </tr>\n",
       "    <tr>\n",
       "      <td>3</td>\n",
       "      <td>1000</td>\n",
       "      <td>8</td>\n",
       "      <td>52.0</td>\n",
       "      <td>418.0</td>\n",
       "      <td>81.0</td>\n",
       "      <td>13.75</td>\n",
       "    </tr>\n",
       "    <tr>\n",
       "      <td>4</td>\n",
       "      <td>1000</td>\n",
       "      <td>9</td>\n",
       "      <td>58.0</td>\n",
       "      <td>478.0</td>\n",
       "      <td>57.0</td>\n",
       "      <td>14.27</td>\n",
       "    </tr>\n",
       "    <tr>\n",
       "      <td>5</td>\n",
       "      <td>1000</td>\n",
       "      <td>10</td>\n",
       "      <td>57.0</td>\n",
       "      <td>363.0</td>\n",
       "      <td>73.0</td>\n",
       "      <td>14.37</td>\n",
       "    </tr>\n",
       "    <tr>\n",
       "      <td>6</td>\n",
       "      <td>1000</td>\n",
       "      <td>11</td>\n",
       "      <td>43.0</td>\n",
       "      <td>344.0</td>\n",
       "      <td>58.0</td>\n",
       "      <td>14.41</td>\n",
       "    </tr>\n",
       "    <tr>\n",
       "      <td>7</td>\n",
       "      <td>1000</td>\n",
       "      <td>12</td>\n",
       "      <td>46.0</td>\n",
       "      <td>341.0</td>\n",
       "      <td>70.0</td>\n",
       "      <td>9.56</td>\n",
       "    </tr>\n",
       "    <tr>\n",
       "      <td>8</td>\n",
       "      <td>1001</td>\n",
       "      <td>11</td>\n",
       "      <td>59.0</td>\n",
       "      <td>444.0</td>\n",
       "      <td>0.0</td>\n",
       "      <td>17.99</td>\n",
       "    </tr>\n",
       "    <tr>\n",
       "      <td>9</td>\n",
       "      <td>1001</td>\n",
       "      <td>12</td>\n",
       "      <td>63.0</td>\n",
       "      <td>430.0</td>\n",
       "      <td>0.0</td>\n",
       "      <td>13.73</td>\n",
       "    </tr>\n",
       "  </tbody>\n",
       "</table>\n",
       "</div>"
      ],
      "text/plain": [
       "   user_id  month  count    sum    id  gb_used\n",
       "0     1000      5   22.0  164.0  22.0     2.20\n",
       "1     1000      6   43.0  187.0  60.0    22.69\n",
       "2     1000      7   47.0  346.0  75.0    13.71\n",
       "3     1000      8   52.0  418.0  81.0    13.75\n",
       "4     1000      9   58.0  478.0  57.0    14.27\n",
       "5     1000     10   57.0  363.0  73.0    14.37\n",
       "6     1000     11   43.0  344.0  58.0    14.41\n",
       "7     1000     12   46.0  341.0  70.0     9.56\n",
       "8     1001     11   59.0  444.0   0.0    17.99\n",
       "9     1001     12   63.0  430.0   0.0    13.73"
      ]
     },
     "execution_count": 36,
     "metadata": {},
     "output_type": "execute_result"
    }
   ],
   "source": [
    "#объединим таблицу с данными о звонках и сообщениях с датафреймом, содержащим данные об израсходованном \n",
    "#интернет-трафике. Данные поместим в новую таблицу services_data\n",
    "\n",
    "services_data = calls_messages_data.merge(data_internet_total, on=['user_id','month'],\n",
    "                                          how = 'outer')\n",
    "\n",
    "#выведем первые 10 строк датасета на экран\n",
    "\n",
    "services_data.head(10)"
   ]
  },
  {
   "cell_type": "code",
   "execution_count": 37,
   "metadata": {},
   "outputs": [
    {
     "name": "stdout",
     "output_type": "stream",
     "text": [
      "Количество пропусков:user_id     0\n",
      "month       0\n",
      "count       1\n",
      "sum         1\n",
      "id          1\n",
      "gb_used    11\n",
      "dtype: int64\n",
      "Доля пропусков:user_id    0.000000\n",
      "month      0.000000\n",
      "count      0.031114\n",
      "sum        0.031114\n",
      "id         0.031114\n",
      "gb_used    0.342253\n",
      "dtype: float64\n",
      "Количество дубликатов:0\n",
      "Доля дубликатов:0.0\n"
     ]
    }
   ],
   "source": [
    "#проверим количество и рассчитаем долю пропусков в датасете после объединения\n",
    "\n",
    "data_isna(services_data)"
   ]
  },
  {
   "cell_type": "code",
   "execution_count": 38,
   "metadata": {},
   "outputs": [
    {
     "name": "stdout",
     "output_type": "stream",
     "text": [
      "Количество пропусков:user_id    0\n",
      "month      0\n",
      "count      0\n",
      "sum        0\n",
      "id         0\n",
      "gb_used    0\n",
      "dtype: int64\n",
      "Доля пропусков:user_id    0.0\n",
      "month      0.0\n",
      "count      0.0\n",
      "sum        0.0\n",
      "id         0.0\n",
      "gb_used    0.0\n",
      "dtype: float64\n",
      "Количество дубликатов:0\n",
      "Доля дубликатов:0.0\n"
     ]
    }
   ],
   "source": [
    "#заменим пропуски в столбцах датасета services_data на нулевые значения\n",
    "\n",
    "services_data = services_data.fillna({'count': 0,\n",
    "                                      'sum': 0,\n",
    "                                      'id': 0,\n",
    "                                      'gb_used':0})\n",
    "\n",
    "#подсчитаем количество и долю пропусков\n",
    "\n",
    "data_isna(services_data)"
   ]
  },
  {
   "cell_type": "code",
   "execution_count": 39,
   "metadata": {},
   "outputs": [
    {
     "data": {
      "text/html": [
       "<div>\n",
       "<style scoped>\n",
       "    .dataframe tbody tr th:only-of-type {\n",
       "        vertical-align: middle;\n",
       "    }\n",
       "\n",
       "    .dataframe tbody tr th {\n",
       "        vertical-align: top;\n",
       "    }\n",
       "\n",
       "    .dataframe thead th {\n",
       "        text-align: right;\n",
       "    }\n",
       "</style>\n",
       "<table border=\"1\" class=\"dataframe\">\n",
       "  <thead>\n",
       "    <tr style=\"text-align: right;\">\n",
       "      <th></th>\n",
       "      <th>user_id</th>\n",
       "      <th>month_x</th>\n",
       "      <th>count</th>\n",
       "      <th>sum</th>\n",
       "      <th>id</th>\n",
       "      <th>gb_used</th>\n",
       "      <th>age</th>\n",
       "      <th>churn_date</th>\n",
       "      <th>city</th>\n",
       "      <th>first_name</th>\n",
       "      <th>...</th>\n",
       "      <th>month_y</th>\n",
       "      <th>messages_included</th>\n",
       "      <th>mb_per_month_included</th>\n",
       "      <th>minutes_included</th>\n",
       "      <th>rub_monthly_fee</th>\n",
       "      <th>rub_per_gb</th>\n",
       "      <th>rub_per_message</th>\n",
       "      <th>rub_per_minute</th>\n",
       "      <th>tariff_name</th>\n",
       "      <th>gb_per_month_included</th>\n",
       "    </tr>\n",
       "  </thead>\n",
       "  <tbody>\n",
       "    <tr>\n",
       "      <td>0</td>\n",
       "      <td>1000</td>\n",
       "      <td>5</td>\n",
       "      <td>22.0</td>\n",
       "      <td>164.0</td>\n",
       "      <td>22.0</td>\n",
       "      <td>2.20</td>\n",
       "      <td>52</td>\n",
       "      <td>NaN</td>\n",
       "      <td>Краснодар</td>\n",
       "      <td>Рафаил</td>\n",
       "      <td>...</td>\n",
       "      <td>5</td>\n",
       "      <td>1000</td>\n",
       "      <td>30720</td>\n",
       "      <td>3000</td>\n",
       "      <td>1950</td>\n",
       "      <td>150</td>\n",
       "      <td>1</td>\n",
       "      <td>1</td>\n",
       "      <td>ultra</td>\n",
       "      <td>30.0</td>\n",
       "    </tr>\n",
       "    <tr>\n",
       "      <td>1</td>\n",
       "      <td>1000</td>\n",
       "      <td>6</td>\n",
       "      <td>43.0</td>\n",
       "      <td>187.0</td>\n",
       "      <td>60.0</td>\n",
       "      <td>22.69</td>\n",
       "      <td>52</td>\n",
       "      <td>NaN</td>\n",
       "      <td>Краснодар</td>\n",
       "      <td>Рафаил</td>\n",
       "      <td>...</td>\n",
       "      <td>5</td>\n",
       "      <td>1000</td>\n",
       "      <td>30720</td>\n",
       "      <td>3000</td>\n",
       "      <td>1950</td>\n",
       "      <td>150</td>\n",
       "      <td>1</td>\n",
       "      <td>1</td>\n",
       "      <td>ultra</td>\n",
       "      <td>30.0</td>\n",
       "    </tr>\n",
       "    <tr>\n",
       "      <td>2</td>\n",
       "      <td>1000</td>\n",
       "      <td>7</td>\n",
       "      <td>47.0</td>\n",
       "      <td>346.0</td>\n",
       "      <td>75.0</td>\n",
       "      <td>13.71</td>\n",
       "      <td>52</td>\n",
       "      <td>NaN</td>\n",
       "      <td>Краснодар</td>\n",
       "      <td>Рафаил</td>\n",
       "      <td>...</td>\n",
       "      <td>5</td>\n",
       "      <td>1000</td>\n",
       "      <td>30720</td>\n",
       "      <td>3000</td>\n",
       "      <td>1950</td>\n",
       "      <td>150</td>\n",
       "      <td>1</td>\n",
       "      <td>1</td>\n",
       "      <td>ultra</td>\n",
       "      <td>30.0</td>\n",
       "    </tr>\n",
       "    <tr>\n",
       "      <td>3</td>\n",
       "      <td>1000</td>\n",
       "      <td>8</td>\n",
       "      <td>52.0</td>\n",
       "      <td>418.0</td>\n",
       "      <td>81.0</td>\n",
       "      <td>13.75</td>\n",
       "      <td>52</td>\n",
       "      <td>NaN</td>\n",
       "      <td>Краснодар</td>\n",
       "      <td>Рафаил</td>\n",
       "      <td>...</td>\n",
       "      <td>5</td>\n",
       "      <td>1000</td>\n",
       "      <td>30720</td>\n",
       "      <td>3000</td>\n",
       "      <td>1950</td>\n",
       "      <td>150</td>\n",
       "      <td>1</td>\n",
       "      <td>1</td>\n",
       "      <td>ultra</td>\n",
       "      <td>30.0</td>\n",
       "    </tr>\n",
       "    <tr>\n",
       "      <td>4</td>\n",
       "      <td>1000</td>\n",
       "      <td>9</td>\n",
       "      <td>58.0</td>\n",
       "      <td>478.0</td>\n",
       "      <td>57.0</td>\n",
       "      <td>14.27</td>\n",
       "      <td>52</td>\n",
       "      <td>NaN</td>\n",
       "      <td>Краснодар</td>\n",
       "      <td>Рафаил</td>\n",
       "      <td>...</td>\n",
       "      <td>5</td>\n",
       "      <td>1000</td>\n",
       "      <td>30720</td>\n",
       "      <td>3000</td>\n",
       "      <td>1950</td>\n",
       "      <td>150</td>\n",
       "      <td>1</td>\n",
       "      <td>1</td>\n",
       "      <td>ultra</td>\n",
       "      <td>30.0</td>\n",
       "    </tr>\n",
       "    <tr>\n",
       "      <td>5</td>\n",
       "      <td>1000</td>\n",
       "      <td>10</td>\n",
       "      <td>57.0</td>\n",
       "      <td>363.0</td>\n",
       "      <td>73.0</td>\n",
       "      <td>14.37</td>\n",
       "      <td>52</td>\n",
       "      <td>NaN</td>\n",
       "      <td>Краснодар</td>\n",
       "      <td>Рафаил</td>\n",
       "      <td>...</td>\n",
       "      <td>5</td>\n",
       "      <td>1000</td>\n",
       "      <td>30720</td>\n",
       "      <td>3000</td>\n",
       "      <td>1950</td>\n",
       "      <td>150</td>\n",
       "      <td>1</td>\n",
       "      <td>1</td>\n",
       "      <td>ultra</td>\n",
       "      <td>30.0</td>\n",
       "    </tr>\n",
       "    <tr>\n",
       "      <td>6</td>\n",
       "      <td>1000</td>\n",
       "      <td>11</td>\n",
       "      <td>43.0</td>\n",
       "      <td>344.0</td>\n",
       "      <td>58.0</td>\n",
       "      <td>14.41</td>\n",
       "      <td>52</td>\n",
       "      <td>NaN</td>\n",
       "      <td>Краснодар</td>\n",
       "      <td>Рафаил</td>\n",
       "      <td>...</td>\n",
       "      <td>5</td>\n",
       "      <td>1000</td>\n",
       "      <td>30720</td>\n",
       "      <td>3000</td>\n",
       "      <td>1950</td>\n",
       "      <td>150</td>\n",
       "      <td>1</td>\n",
       "      <td>1</td>\n",
       "      <td>ultra</td>\n",
       "      <td>30.0</td>\n",
       "    </tr>\n",
       "    <tr>\n",
       "      <td>7</td>\n",
       "      <td>1000</td>\n",
       "      <td>12</td>\n",
       "      <td>46.0</td>\n",
       "      <td>341.0</td>\n",
       "      <td>70.0</td>\n",
       "      <td>9.56</td>\n",
       "      <td>52</td>\n",
       "      <td>NaN</td>\n",
       "      <td>Краснодар</td>\n",
       "      <td>Рафаил</td>\n",
       "      <td>...</td>\n",
       "      <td>5</td>\n",
       "      <td>1000</td>\n",
       "      <td>30720</td>\n",
       "      <td>3000</td>\n",
       "      <td>1950</td>\n",
       "      <td>150</td>\n",
       "      <td>1</td>\n",
       "      <td>1</td>\n",
       "      <td>ultra</td>\n",
       "      <td>30.0</td>\n",
       "    </tr>\n",
       "    <tr>\n",
       "      <td>8</td>\n",
       "      <td>1001</td>\n",
       "      <td>11</td>\n",
       "      <td>59.0</td>\n",
       "      <td>444.0</td>\n",
       "      <td>0.0</td>\n",
       "      <td>17.99</td>\n",
       "      <td>41</td>\n",
       "      <td>NaN</td>\n",
       "      <td>Москва</td>\n",
       "      <td>Иван</td>\n",
       "      <td>...</td>\n",
       "      <td>11</td>\n",
       "      <td>50</td>\n",
       "      <td>15360</td>\n",
       "      <td>500</td>\n",
       "      <td>550</td>\n",
       "      <td>200</td>\n",
       "      <td>3</td>\n",
       "      <td>3</td>\n",
       "      <td>smart</td>\n",
       "      <td>15.0</td>\n",
       "    </tr>\n",
       "    <tr>\n",
       "      <td>9</td>\n",
       "      <td>1001</td>\n",
       "      <td>12</td>\n",
       "      <td>63.0</td>\n",
       "      <td>430.0</td>\n",
       "      <td>0.0</td>\n",
       "      <td>13.73</td>\n",
       "      <td>41</td>\n",
       "      <td>NaN</td>\n",
       "      <td>Москва</td>\n",
       "      <td>Иван</td>\n",
       "      <td>...</td>\n",
       "      <td>11</td>\n",
       "      <td>50</td>\n",
       "      <td>15360</td>\n",
       "      <td>500</td>\n",
       "      <td>550</td>\n",
       "      <td>200</td>\n",
       "      <td>3</td>\n",
       "      <td>3</td>\n",
       "      <td>smart</td>\n",
       "      <td>15.0</td>\n",
       "    </tr>\n",
       "  </tbody>\n",
       "</table>\n",
       "<p>10 rows × 23 columns</p>\n",
       "</div>"
      ],
      "text/plain": [
       "   user_id  month_x  count    sum    id  gb_used  age churn_date       city  \\\n",
       "0     1000        5   22.0  164.0  22.0     2.20   52        NaN  Краснодар   \n",
       "1     1000        6   43.0  187.0  60.0    22.69   52        NaN  Краснодар   \n",
       "2     1000        7   47.0  346.0  75.0    13.71   52        NaN  Краснодар   \n",
       "3     1000        8   52.0  418.0  81.0    13.75   52        NaN  Краснодар   \n",
       "4     1000        9   58.0  478.0  57.0    14.27   52        NaN  Краснодар   \n",
       "5     1000       10   57.0  363.0  73.0    14.37   52        NaN  Краснодар   \n",
       "6     1000       11   43.0  344.0  58.0    14.41   52        NaN  Краснодар   \n",
       "7     1000       12   46.0  341.0  70.0     9.56   52        NaN  Краснодар   \n",
       "8     1001       11   59.0  444.0   0.0    17.99   41        NaN     Москва   \n",
       "9     1001       12   63.0  430.0   0.0    13.73   41        NaN     Москва   \n",
       "\n",
       "  first_name  ... month_y messages_included mb_per_month_included  \\\n",
       "0     Рафаил  ...       5              1000                 30720   \n",
       "1     Рафаил  ...       5              1000                 30720   \n",
       "2     Рафаил  ...       5              1000                 30720   \n",
       "3     Рафаил  ...       5              1000                 30720   \n",
       "4     Рафаил  ...       5              1000                 30720   \n",
       "5     Рафаил  ...       5              1000                 30720   \n",
       "6     Рафаил  ...       5              1000                 30720   \n",
       "7     Рафаил  ...       5              1000                 30720   \n",
       "8       Иван  ...      11                50                 15360   \n",
       "9       Иван  ...      11                50                 15360   \n",
       "\n",
       "   minutes_included  rub_monthly_fee  rub_per_gb  rub_per_message  \\\n",
       "0              3000             1950         150                1   \n",
       "1              3000             1950         150                1   \n",
       "2              3000             1950         150                1   \n",
       "3              3000             1950         150                1   \n",
       "4              3000             1950         150                1   \n",
       "5              3000             1950         150                1   \n",
       "6              3000             1950         150                1   \n",
       "7              3000             1950         150                1   \n",
       "8               500              550         200                3   \n",
       "9               500              550         200                3   \n",
       "\n",
       "   rub_per_minute  tariff_name  gb_per_month_included  \n",
       "0               1        ultra                   30.0  \n",
       "1               1        ultra                   30.0  \n",
       "2               1        ultra                   30.0  \n",
       "3               1        ultra                   30.0  \n",
       "4               1        ultra                   30.0  \n",
       "5               1        ultra                   30.0  \n",
       "6               1        ultra                   30.0  \n",
       "7               1        ultra                   30.0  \n",
       "8               3        smart                   15.0  \n",
       "9               3        smart                   15.0  \n",
       "\n",
       "[10 rows x 23 columns]"
      ]
     },
     "execution_count": 39,
     "metadata": {},
     "output_type": "execute_result"
    }
   ],
   "source": [
    "#объединим полученные данные с данными о пользователях. Результат поместим в новый датасет total_data\n",
    "\n",
    "total_data = services_data.merge(data_users, on=['user_id'],how = 'left')\n",
    "\n",
    "#добавим в датасет информацию о тарифах\n",
    "\n",
    "total_data = total_data.merge(data_tariffs, left_on='tariff', right_on='tariff_name', \n",
    "                              how = 'left')\n",
    "\n",
    "#выведем первые 10 строк датасета на экран\n",
    "\n",
    "total_data.head(10)"
   ]
  },
  {
   "cell_type": "markdown",
   "metadata": {},
   "source": [
    "Для того, чтобы не запутаться со значениями в ходе проведения анализа, необходимо переименовать столбцы 'month_x','count','sum', 'id','month_y' в более подходящие названия.\n",
    "                                     "
   ]
  },
  {
   "cell_type": "code",
   "execution_count": 40,
   "metadata": {},
   "outputs": [
    {
     "data": {
      "text/html": [
       "<div>\n",
       "<style scoped>\n",
       "    .dataframe tbody tr th:only-of-type {\n",
       "        vertical-align: middle;\n",
       "    }\n",
       "\n",
       "    .dataframe tbody tr th {\n",
       "        vertical-align: top;\n",
       "    }\n",
       "\n",
       "    .dataframe thead th {\n",
       "        text-align: right;\n",
       "    }\n",
       "</style>\n",
       "<table border=\"1\" class=\"dataframe\">\n",
       "  <thead>\n",
       "    <tr style=\"text-align: right;\">\n",
       "      <th></th>\n",
       "      <th>user_id</th>\n",
       "      <th>month</th>\n",
       "      <th>calls_count</th>\n",
       "      <th>total_calls_duration</th>\n",
       "      <th>messages_count</th>\n",
       "      <th>gb_used</th>\n",
       "      <th>age</th>\n",
       "      <th>churn_date</th>\n",
       "      <th>city</th>\n",
       "      <th>first_name</th>\n",
       "      <th>...</th>\n",
       "      <th>reg_month</th>\n",
       "      <th>messages_included</th>\n",
       "      <th>mb_per_month_included</th>\n",
       "      <th>minutes_included</th>\n",
       "      <th>rub_monthly_fee</th>\n",
       "      <th>rub_per_gb</th>\n",
       "      <th>rub_per_message</th>\n",
       "      <th>rub_per_minute</th>\n",
       "      <th>tariff_name</th>\n",
       "      <th>gb_per_month_included</th>\n",
       "    </tr>\n",
       "  </thead>\n",
       "  <tbody>\n",
       "    <tr>\n",
       "      <td>0</td>\n",
       "      <td>1000</td>\n",
       "      <td>5</td>\n",
       "      <td>22.0</td>\n",
       "      <td>164.0</td>\n",
       "      <td>22.0</td>\n",
       "      <td>2.20</td>\n",
       "      <td>52</td>\n",
       "      <td>NaN</td>\n",
       "      <td>Краснодар</td>\n",
       "      <td>Рафаил</td>\n",
       "      <td>...</td>\n",
       "      <td>5</td>\n",
       "      <td>1000</td>\n",
       "      <td>30720</td>\n",
       "      <td>3000</td>\n",
       "      <td>1950</td>\n",
       "      <td>150</td>\n",
       "      <td>1</td>\n",
       "      <td>1</td>\n",
       "      <td>ultra</td>\n",
       "      <td>30.0</td>\n",
       "    </tr>\n",
       "    <tr>\n",
       "      <td>1</td>\n",
       "      <td>1000</td>\n",
       "      <td>6</td>\n",
       "      <td>43.0</td>\n",
       "      <td>187.0</td>\n",
       "      <td>60.0</td>\n",
       "      <td>22.69</td>\n",
       "      <td>52</td>\n",
       "      <td>NaN</td>\n",
       "      <td>Краснодар</td>\n",
       "      <td>Рафаил</td>\n",
       "      <td>...</td>\n",
       "      <td>5</td>\n",
       "      <td>1000</td>\n",
       "      <td>30720</td>\n",
       "      <td>3000</td>\n",
       "      <td>1950</td>\n",
       "      <td>150</td>\n",
       "      <td>1</td>\n",
       "      <td>1</td>\n",
       "      <td>ultra</td>\n",
       "      <td>30.0</td>\n",
       "    </tr>\n",
       "    <tr>\n",
       "      <td>2</td>\n",
       "      <td>1000</td>\n",
       "      <td>7</td>\n",
       "      <td>47.0</td>\n",
       "      <td>346.0</td>\n",
       "      <td>75.0</td>\n",
       "      <td>13.71</td>\n",
       "      <td>52</td>\n",
       "      <td>NaN</td>\n",
       "      <td>Краснодар</td>\n",
       "      <td>Рафаил</td>\n",
       "      <td>...</td>\n",
       "      <td>5</td>\n",
       "      <td>1000</td>\n",
       "      <td>30720</td>\n",
       "      <td>3000</td>\n",
       "      <td>1950</td>\n",
       "      <td>150</td>\n",
       "      <td>1</td>\n",
       "      <td>1</td>\n",
       "      <td>ultra</td>\n",
       "      <td>30.0</td>\n",
       "    </tr>\n",
       "    <tr>\n",
       "      <td>3</td>\n",
       "      <td>1000</td>\n",
       "      <td>8</td>\n",
       "      <td>52.0</td>\n",
       "      <td>418.0</td>\n",
       "      <td>81.0</td>\n",
       "      <td>13.75</td>\n",
       "      <td>52</td>\n",
       "      <td>NaN</td>\n",
       "      <td>Краснодар</td>\n",
       "      <td>Рафаил</td>\n",
       "      <td>...</td>\n",
       "      <td>5</td>\n",
       "      <td>1000</td>\n",
       "      <td>30720</td>\n",
       "      <td>3000</td>\n",
       "      <td>1950</td>\n",
       "      <td>150</td>\n",
       "      <td>1</td>\n",
       "      <td>1</td>\n",
       "      <td>ultra</td>\n",
       "      <td>30.0</td>\n",
       "    </tr>\n",
       "    <tr>\n",
       "      <td>4</td>\n",
       "      <td>1000</td>\n",
       "      <td>9</td>\n",
       "      <td>58.0</td>\n",
       "      <td>478.0</td>\n",
       "      <td>57.0</td>\n",
       "      <td>14.27</td>\n",
       "      <td>52</td>\n",
       "      <td>NaN</td>\n",
       "      <td>Краснодар</td>\n",
       "      <td>Рафаил</td>\n",
       "      <td>...</td>\n",
       "      <td>5</td>\n",
       "      <td>1000</td>\n",
       "      <td>30720</td>\n",
       "      <td>3000</td>\n",
       "      <td>1950</td>\n",
       "      <td>150</td>\n",
       "      <td>1</td>\n",
       "      <td>1</td>\n",
       "      <td>ultra</td>\n",
       "      <td>30.0</td>\n",
       "    </tr>\n",
       "    <tr>\n",
       "      <td>5</td>\n",
       "      <td>1000</td>\n",
       "      <td>10</td>\n",
       "      <td>57.0</td>\n",
       "      <td>363.0</td>\n",
       "      <td>73.0</td>\n",
       "      <td>14.37</td>\n",
       "      <td>52</td>\n",
       "      <td>NaN</td>\n",
       "      <td>Краснодар</td>\n",
       "      <td>Рафаил</td>\n",
       "      <td>...</td>\n",
       "      <td>5</td>\n",
       "      <td>1000</td>\n",
       "      <td>30720</td>\n",
       "      <td>3000</td>\n",
       "      <td>1950</td>\n",
       "      <td>150</td>\n",
       "      <td>1</td>\n",
       "      <td>1</td>\n",
       "      <td>ultra</td>\n",
       "      <td>30.0</td>\n",
       "    </tr>\n",
       "    <tr>\n",
       "      <td>6</td>\n",
       "      <td>1000</td>\n",
       "      <td>11</td>\n",
       "      <td>43.0</td>\n",
       "      <td>344.0</td>\n",
       "      <td>58.0</td>\n",
       "      <td>14.41</td>\n",
       "      <td>52</td>\n",
       "      <td>NaN</td>\n",
       "      <td>Краснодар</td>\n",
       "      <td>Рафаил</td>\n",
       "      <td>...</td>\n",
       "      <td>5</td>\n",
       "      <td>1000</td>\n",
       "      <td>30720</td>\n",
       "      <td>3000</td>\n",
       "      <td>1950</td>\n",
       "      <td>150</td>\n",
       "      <td>1</td>\n",
       "      <td>1</td>\n",
       "      <td>ultra</td>\n",
       "      <td>30.0</td>\n",
       "    </tr>\n",
       "    <tr>\n",
       "      <td>7</td>\n",
       "      <td>1000</td>\n",
       "      <td>12</td>\n",
       "      <td>46.0</td>\n",
       "      <td>341.0</td>\n",
       "      <td>70.0</td>\n",
       "      <td>9.56</td>\n",
       "      <td>52</td>\n",
       "      <td>NaN</td>\n",
       "      <td>Краснодар</td>\n",
       "      <td>Рафаил</td>\n",
       "      <td>...</td>\n",
       "      <td>5</td>\n",
       "      <td>1000</td>\n",
       "      <td>30720</td>\n",
       "      <td>3000</td>\n",
       "      <td>1950</td>\n",
       "      <td>150</td>\n",
       "      <td>1</td>\n",
       "      <td>1</td>\n",
       "      <td>ultra</td>\n",
       "      <td>30.0</td>\n",
       "    </tr>\n",
       "    <tr>\n",
       "      <td>8</td>\n",
       "      <td>1001</td>\n",
       "      <td>11</td>\n",
       "      <td>59.0</td>\n",
       "      <td>444.0</td>\n",
       "      <td>0.0</td>\n",
       "      <td>17.99</td>\n",
       "      <td>41</td>\n",
       "      <td>NaN</td>\n",
       "      <td>Москва</td>\n",
       "      <td>Иван</td>\n",
       "      <td>...</td>\n",
       "      <td>11</td>\n",
       "      <td>50</td>\n",
       "      <td>15360</td>\n",
       "      <td>500</td>\n",
       "      <td>550</td>\n",
       "      <td>200</td>\n",
       "      <td>3</td>\n",
       "      <td>3</td>\n",
       "      <td>smart</td>\n",
       "      <td>15.0</td>\n",
       "    </tr>\n",
       "    <tr>\n",
       "      <td>9</td>\n",
       "      <td>1001</td>\n",
       "      <td>12</td>\n",
       "      <td>63.0</td>\n",
       "      <td>430.0</td>\n",
       "      <td>0.0</td>\n",
       "      <td>13.73</td>\n",
       "      <td>41</td>\n",
       "      <td>NaN</td>\n",
       "      <td>Москва</td>\n",
       "      <td>Иван</td>\n",
       "      <td>...</td>\n",
       "      <td>11</td>\n",
       "      <td>50</td>\n",
       "      <td>15360</td>\n",
       "      <td>500</td>\n",
       "      <td>550</td>\n",
       "      <td>200</td>\n",
       "      <td>3</td>\n",
       "      <td>3</td>\n",
       "      <td>smart</td>\n",
       "      <td>15.0</td>\n",
       "    </tr>\n",
       "  </tbody>\n",
       "</table>\n",
       "<p>10 rows × 23 columns</p>\n",
       "</div>"
      ],
      "text/plain": [
       "   user_id  month  calls_count  total_calls_duration  messages_count  gb_used  \\\n",
       "0     1000      5         22.0                 164.0            22.0     2.20   \n",
       "1     1000      6         43.0                 187.0            60.0    22.69   \n",
       "2     1000      7         47.0                 346.0            75.0    13.71   \n",
       "3     1000      8         52.0                 418.0            81.0    13.75   \n",
       "4     1000      9         58.0                 478.0            57.0    14.27   \n",
       "5     1000     10         57.0                 363.0            73.0    14.37   \n",
       "6     1000     11         43.0                 344.0            58.0    14.41   \n",
       "7     1000     12         46.0                 341.0            70.0     9.56   \n",
       "8     1001     11         59.0                 444.0             0.0    17.99   \n",
       "9     1001     12         63.0                 430.0             0.0    13.73   \n",
       "\n",
       "   age churn_date       city first_name  ... reg_month messages_included  \\\n",
       "0   52        NaN  Краснодар     Рафаил  ...         5              1000   \n",
       "1   52        NaN  Краснодар     Рафаил  ...         5              1000   \n",
       "2   52        NaN  Краснодар     Рафаил  ...         5              1000   \n",
       "3   52        NaN  Краснодар     Рафаил  ...         5              1000   \n",
       "4   52        NaN  Краснодар     Рафаил  ...         5              1000   \n",
       "5   52        NaN  Краснодар     Рафаил  ...         5              1000   \n",
       "6   52        NaN  Краснодар     Рафаил  ...         5              1000   \n",
       "7   52        NaN  Краснодар     Рафаил  ...         5              1000   \n",
       "8   41        NaN     Москва       Иван  ...        11                50   \n",
       "9   41        NaN     Москва       Иван  ...        11                50   \n",
       "\n",
       "  mb_per_month_included  minutes_included  rub_monthly_fee  rub_per_gb  \\\n",
       "0                 30720              3000             1950         150   \n",
       "1                 30720              3000             1950         150   \n",
       "2                 30720              3000             1950         150   \n",
       "3                 30720              3000             1950         150   \n",
       "4                 30720              3000             1950         150   \n",
       "5                 30720              3000             1950         150   \n",
       "6                 30720              3000             1950         150   \n",
       "7                 30720              3000             1950         150   \n",
       "8                 15360               500              550         200   \n",
       "9                 15360               500              550         200   \n",
       "\n",
       "   rub_per_message  rub_per_minute  tariff_name  gb_per_month_included  \n",
       "0                1               1        ultra                   30.0  \n",
       "1                1               1        ultra                   30.0  \n",
       "2                1               1        ultra                   30.0  \n",
       "3                1               1        ultra                   30.0  \n",
       "4                1               1        ultra                   30.0  \n",
       "5                1               1        ultra                   30.0  \n",
       "6                1               1        ultra                   30.0  \n",
       "7                1               1        ultra                   30.0  \n",
       "8                3               3        smart                   15.0  \n",
       "9                3               3        smart                   15.0  \n",
       "\n",
       "[10 rows x 23 columns]"
      ]
     },
     "execution_count": 40,
     "metadata": {},
     "output_type": "execute_result"
    }
   ],
   "source": [
    "#переименуем столбцы\n",
    "\n",
    "total_data = total_data.rename(columns={'month_x':'month',\n",
    "                                       'count':'calls_count',\n",
    "                                       'sum':'total_calls_duration',\n",
    "                                       'id':'messages_count',\n",
    "                                       'month_y':'reg_month'})\n",
    "\n",
    "#выведем первые 10 строк датасета на экран\n",
    "\n",
    "total_data.head(10)"
   ]
  },
  {
   "cell_type": "code",
   "execution_count": 41,
   "metadata": {},
   "outputs": [
    {
     "name": "stdout",
     "output_type": "stream",
     "text": [
      "Количество пропусков:user_id                     0\n",
      "month                       0\n",
      "calls_count                 0\n",
      "total_calls_duration        0\n",
      "messages_count              0\n",
      "gb_used                     0\n",
      "age                         0\n",
      "churn_date               3027\n",
      "city                        0\n",
      "first_name                  0\n",
      "last_name                   0\n",
      "reg_date                    0\n",
      "tariff                      0\n",
      "reg_month                   0\n",
      "messages_included           0\n",
      "mb_per_month_included       0\n",
      "minutes_included            0\n",
      "rub_monthly_fee             0\n",
      "rub_per_gb                  0\n",
      "rub_per_message             0\n",
      "rub_per_minute              0\n",
      "tariff_name                 0\n",
      "gb_per_month_included       0\n",
      "dtype: int64\n",
      "Доля пропусков:user_id                   0.000000\n",
      "month                     0.000000\n",
      "calls_count               0.000000\n",
      "total_calls_duration      0.000000\n",
      "messages_count            0.000000\n",
      "gb_used                   0.000000\n",
      "age                       0.000000\n",
      "churn_date               94.181705\n",
      "city                      0.000000\n",
      "first_name                0.000000\n",
      "last_name                 0.000000\n",
      "reg_date                  0.000000\n",
      "tariff                    0.000000\n",
      "reg_month                 0.000000\n",
      "messages_included         0.000000\n",
      "mb_per_month_included     0.000000\n",
      "minutes_included          0.000000\n",
      "rub_monthly_fee           0.000000\n",
      "rub_per_gb                0.000000\n",
      "rub_per_message           0.000000\n",
      "rub_per_minute            0.000000\n",
      "tariff_name               0.000000\n",
      "gb_per_month_included     0.000000\n",
      "dtype: float64\n",
      "Количество дубликатов:0\n",
      "Доля дубликатов:0.0\n"
     ]
    }
   ],
   "source": [
    "#подсчитаем количество и долю пропусков в датасете\n",
    "\n",
    "data_isna(total_data)"
   ]
  },
  {
   "cell_type": "markdown",
   "metadata": {},
   "source": [
    "### Поиск аномальных значений"
   ]
  },
  {
   "cell_type": "markdown",
   "metadata": {},
   "source": [
    "Для того, чтобы корректно рассчитать средние показатели, проверим как обстоят дела с аномальными значениями в столбцах c количественными переменными, которые нужны для проведения анализа: 'calls_count', 'messages_count', 'gb_used'."
   ]
  },
  {
   "cell_type": "code",
   "execution_count": 42,
   "metadata": {},
   "outputs": [
    {
     "data": {
      "image/png": "[encoded data removed]",
      "text/plain": [
       "<Figure size 432x288 with 1 Axes>"
      ]
     },
     "metadata": {
      "needs_background": "light"
     },
     "output_type": "display_data"
    }
   ],
   "source": [
    "#построим график \"ящик с усами\"\n",
    "\n",
    "total_data.boxplot(column = 'calls_count')\n",
    "\n",
    "#выведем график на экран\n",
    "\n",
    "plt.show()"
   ]
  },
  {
   "cell_type": "code",
   "execution_count": 43,
   "metadata": {},
   "outputs": [
    {
     "data": {
      "image/png": "[encoded data removed]",
      "text/plain": [
       "<Figure size 432x288 with 1 Axes>"
      ]
     },
     "metadata": {
      "needs_background": "light"
     },
     "output_type": "display_data"
    }
   ],
   "source": [
    "#построим график \"ящик с усами\"\n",
    "\n",
    "total_data.boxplot(column = 'messages_count')\n",
    "\n",
    "#выведем график на экран\n",
    "\n",
    "plt.show()"
   ]
  },
  {
   "cell_type": "code",
   "execution_count": 44,
   "metadata": {},
   "outputs": [
    {
     "data": {
      "image/png": "[encoded data removed]",
      "text/plain": [
       "<Figure size 432x288 with 1 Axes>"
      ]
     },
     "metadata": {
      "needs_background": "light"
     },
     "output_type": "display_data"
    }
   ],
   "source": [
    "#построим график \"ящик с усами\"\n",
    "\n",
    "total_data.boxplot(column = 'gb_used')\n",
    "\n",
    "#выведем график на экран\n",
    "\n",
    "plt.show()"
   ]
  },
  {
   "cell_type": "markdown",
   "metadata": {},
   "source": [
    "### Расчет помесячной выручки с каждого пользователя"
   ]
  },
  {
   "cell_type": "markdown",
   "metadata": {},
   "source": [
    "Для дальнейшего проведения исследования необходимо рассчитать помесячную выручку с каждого пользователя. Для расчета выручки удобнее всего использовать функцию."
   ]
  },
  {
   "cell_type": "code",
   "execution_count": 45,
   "metadata": {},
   "outputs": [],
   "source": [
    "#с помощью функции user_revenue_function рассчитаем помесячную выручку\n",
    "\n",
    "def user_revenue_function(row): #объявим функцию user_revenue_function   \n",
    "    if row['tariff_name'] == 'smart': #создадим необходимые условия\n",
    "        calls_included = data_tariffs['minutes_included'][0]\n",
    "        extra_calls_price = data_tariffs['rub_per_minute'][0]\n",
    "        messages_included = data_tariffs['messages_included'][0]\n",
    "        extra_messages_price = data_tariffs['rub_per_message'][0]\n",
    "        gb_included = data_tariffs['gb_per_month_included'][0]\n",
    "        extra_gb_price = data_tariffs['rub_per_gb'][0]\n",
    "        tariff_price = data_tariffs['rub_monthly_fee'][0]\n",
    "        \n",
    "        if row['calls_count'] > calls_included: \n",
    "            calls_extra = (row['calls_count'] - calls_included) * extra_calls_price\n",
    "        else:\n",
    "            calls_extra = 0\n",
    "        if row['messages_count'] > messages_included:\n",
    "            messages_extra = (row['messages_count'] - messages_included) * extra_messages_price\n",
    "        else:\n",
    "            messages_extra = 0\n",
    "        if row['gb_used'] >  gb_included:\n",
    "            gb_used_extra = (row['gb_used'] -  gb_included) * extra_gb_price\n",
    "        else:\n",
    "            gb_used_extra = 0\n",
    "    \n",
    "        return tariff_price + calls_extra + messages_extra + gb_used_extra #вернем результат работы функции\n",
    "    \n",
    "    if row['tariff_name'] == 'ultra': #создадим необходимые условия\n",
    "        calls_included = data_tariffs['minutes_included'][1]\n",
    "        extra_calls_price = data_tariffs['rub_per_minute'][1]\n",
    "        messages_included = data_tariffs['messages_included'][1]\n",
    "        extra_messages_price = data_tariffs['rub_per_message'][1]\n",
    "        gb_included = data_tariffs['gb_per_month_included'][1]\n",
    "        extra_gb_price = data_tariffs['rub_per_gb'][1]\n",
    "        tariff_price = data_tariffs['rub_monthly_fee'][1]\n",
    "        \n",
    "        if row['calls_count'] > calls_included:\n",
    "            calls_extra = (row['calls_count'] - calls_included) * extra_calls_price\n",
    "        else:\n",
    "            calls_extra = 0\n",
    "        if row['messages_count'] > messages_included:\n",
    "            messages_extra = (row['messages_count'] - messages_included) * extra_messages_price \n",
    "        else:\n",
    "            messages_extra = 0\n",
    "        if row['gb_used'] > gb_included:\n",
    "            gb_used_extra = (row['gb_used'] - gb_included) * extra_gb_price\n",
    "        else:\n",
    "            gb_used_extra = 0\n",
    "    \n",
    "        return tariff_price + calls_extra + messages_extra + gb_used_extra #вернем результат работы"
   ]
  },
  {
   "cell_type": "code",
   "execution_count": 46,
   "metadata": {},
   "outputs": [
    {
     "data": {
      "text/html": [
       "<div>\n",
       "<style scoped>\n",
       "    .dataframe tbody tr th:only-of-type {\n",
       "        vertical-align: middle;\n",
       "    }\n",
       "\n",
       "    .dataframe tbody tr th {\n",
       "        vertical-align: top;\n",
       "    }\n",
       "\n",
       "    .dataframe thead th {\n",
       "        text-align: right;\n",
       "    }\n",
       "</style>\n",
       "<table border=\"1\" class=\"dataframe\">\n",
       "  <thead>\n",
       "    <tr style=\"text-align: right;\">\n",
       "      <th></th>\n",
       "      <th>user_id</th>\n",
       "      <th>month</th>\n",
       "      <th>calls_count</th>\n",
       "      <th>total_calls_duration</th>\n",
       "      <th>messages_count</th>\n",
       "      <th>gb_used</th>\n",
       "      <th>age</th>\n",
       "      <th>churn_date</th>\n",
       "      <th>city</th>\n",
       "      <th>first_name</th>\n",
       "      <th>...</th>\n",
       "      <th>messages_included</th>\n",
       "      <th>mb_per_month_included</th>\n",
       "      <th>minutes_included</th>\n",
       "      <th>rub_monthly_fee</th>\n",
       "      <th>rub_per_gb</th>\n",
       "      <th>rub_per_message</th>\n",
       "      <th>rub_per_minute</th>\n",
       "      <th>tariff_name</th>\n",
       "      <th>gb_per_month_included</th>\n",
       "      <th>user_revenue</th>\n",
       "    </tr>\n",
       "  </thead>\n",
       "  <tbody>\n",
       "    <tr>\n",
       "      <td>0</td>\n",
       "      <td>1000</td>\n",
       "      <td>5</td>\n",
       "      <td>22.0</td>\n",
       "      <td>164.0</td>\n",
       "      <td>22.0</td>\n",
       "      <td>2.20</td>\n",
       "      <td>52</td>\n",
       "      <td>NaN</td>\n",
       "      <td>Краснодар</td>\n",
       "      <td>Рафаил</td>\n",
       "      <td>...</td>\n",
       "      <td>1000</td>\n",
       "      <td>30720</td>\n",
       "      <td>3000</td>\n",
       "      <td>1950</td>\n",
       "      <td>150</td>\n",
       "      <td>1</td>\n",
       "      <td>1</td>\n",
       "      <td>ultra</td>\n",
       "      <td>30.0</td>\n",
       "      <td>1950.0</td>\n",
       "    </tr>\n",
       "    <tr>\n",
       "      <td>1</td>\n",
       "      <td>1000</td>\n",
       "      <td>6</td>\n",
       "      <td>43.0</td>\n",
       "      <td>187.0</td>\n",
       "      <td>60.0</td>\n",
       "      <td>22.69</td>\n",
       "      <td>52</td>\n",
       "      <td>NaN</td>\n",
       "      <td>Краснодар</td>\n",
       "      <td>Рафаил</td>\n",
       "      <td>...</td>\n",
       "      <td>1000</td>\n",
       "      <td>30720</td>\n",
       "      <td>3000</td>\n",
       "      <td>1950</td>\n",
       "      <td>150</td>\n",
       "      <td>1</td>\n",
       "      <td>1</td>\n",
       "      <td>ultra</td>\n",
       "      <td>30.0</td>\n",
       "      <td>1950.0</td>\n",
       "    </tr>\n",
       "    <tr>\n",
       "      <td>2</td>\n",
       "      <td>1000</td>\n",
       "      <td>7</td>\n",
       "      <td>47.0</td>\n",
       "      <td>346.0</td>\n",
       "      <td>75.0</td>\n",
       "      <td>13.71</td>\n",
       "      <td>52</td>\n",
       "      <td>NaN</td>\n",
       "      <td>Краснодар</td>\n",
       "      <td>Рафаил</td>\n",
       "      <td>...</td>\n",
       "      <td>1000</td>\n",
       "      <td>30720</td>\n",
       "      <td>3000</td>\n",
       "      <td>1950</td>\n",
       "      <td>150</td>\n",
       "      <td>1</td>\n",
       "      <td>1</td>\n",
       "      <td>ultra</td>\n",
       "      <td>30.0</td>\n",
       "      <td>1950.0</td>\n",
       "    </tr>\n",
       "    <tr>\n",
       "      <td>3</td>\n",
       "      <td>1000</td>\n",
       "      <td>8</td>\n",
       "      <td>52.0</td>\n",
       "      <td>418.0</td>\n",
       "      <td>81.0</td>\n",
       "      <td>13.75</td>\n",
       "      <td>52</td>\n",
       "      <td>NaN</td>\n",
       "      <td>Краснодар</td>\n",
       "      <td>Рафаил</td>\n",
       "      <td>...</td>\n",
       "      <td>1000</td>\n",
       "      <td>30720</td>\n",
       "      <td>3000</td>\n",
       "      <td>1950</td>\n",
       "      <td>150</td>\n",
       "      <td>1</td>\n",
       "      <td>1</td>\n",
       "      <td>ultra</td>\n",
       "      <td>30.0</td>\n",
       "      <td>1950.0</td>\n",
       "    </tr>\n",
       "    <tr>\n",
       "      <td>4</td>\n",
       "      <td>1000</td>\n",
       "      <td>9</td>\n",
       "      <td>58.0</td>\n",
       "      <td>478.0</td>\n",
       "      <td>57.0</td>\n",
       "      <td>14.27</td>\n",
       "      <td>52</td>\n",
       "      <td>NaN</td>\n",
       "      <td>Краснодар</td>\n",
       "      <td>Рафаил</td>\n",
       "      <td>...</td>\n",
       "      <td>1000</td>\n",
       "      <td>30720</td>\n",
       "      <td>3000</td>\n",
       "      <td>1950</td>\n",
       "      <td>150</td>\n",
       "      <td>1</td>\n",
       "      <td>1</td>\n",
       "      <td>ultra</td>\n",
       "      <td>30.0</td>\n",
       "      <td>1950.0</td>\n",
       "    </tr>\n",
       "    <tr>\n",
       "      <td>5</td>\n",
       "      <td>1000</td>\n",
       "      <td>10</td>\n",
       "      <td>57.0</td>\n",
       "      <td>363.0</td>\n",
       "      <td>73.0</td>\n",
       "      <td>14.37</td>\n",
       "      <td>52</td>\n",
       "      <td>NaN</td>\n",
       "      <td>Краснодар</td>\n",
       "      <td>Рафаил</td>\n",
       "      <td>...</td>\n",
       "      <td>1000</td>\n",
       "      <td>30720</td>\n",
       "      <td>3000</td>\n",
       "      <td>1950</td>\n",
       "      <td>150</td>\n",
       "      <td>1</td>\n",
       "      <td>1</td>\n",
       "      <td>ultra</td>\n",
       "      <td>30.0</td>\n",
       "      <td>1950.0</td>\n",
       "    </tr>\n",
       "    <tr>\n",
       "      <td>6</td>\n",
       "      <td>1000</td>\n",
       "      <td>11</td>\n",
       "      <td>43.0</td>\n",
       "      <td>344.0</td>\n",
       "      <td>58.0</td>\n",
       "      <td>14.41</td>\n",
       "      <td>52</td>\n",
       "      <td>NaN</td>\n",
       "      <td>Краснодар</td>\n",
       "      <td>Рафаил</td>\n",
       "      <td>...</td>\n",
       "      <td>1000</td>\n",
       "      <td>30720</td>\n",
       "      <td>3000</td>\n",
       "      <td>1950</td>\n",
       "      <td>150</td>\n",
       "      <td>1</td>\n",
       "      <td>1</td>\n",
       "      <td>ultra</td>\n",
       "      <td>30.0</td>\n",
       "      <td>1950.0</td>\n",
       "    </tr>\n",
       "    <tr>\n",
       "      <td>7</td>\n",
       "      <td>1000</td>\n",
       "      <td>12</td>\n",
       "      <td>46.0</td>\n",
       "      <td>341.0</td>\n",
       "      <td>70.0</td>\n",
       "      <td>9.56</td>\n",
       "      <td>52</td>\n",
       "      <td>NaN</td>\n",
       "      <td>Краснодар</td>\n",
       "      <td>Рафаил</td>\n",
       "      <td>...</td>\n",
       "      <td>1000</td>\n",
       "      <td>30720</td>\n",
       "      <td>3000</td>\n",
       "      <td>1950</td>\n",
       "      <td>150</td>\n",
       "      <td>1</td>\n",
       "      <td>1</td>\n",
       "      <td>ultra</td>\n",
       "      <td>30.0</td>\n",
       "      <td>1950.0</td>\n",
       "    </tr>\n",
       "    <tr>\n",
       "      <td>8</td>\n",
       "      <td>1001</td>\n",
       "      <td>11</td>\n",
       "      <td>59.0</td>\n",
       "      <td>444.0</td>\n",
       "      <td>0.0</td>\n",
       "      <td>17.99</td>\n",
       "      <td>41</td>\n",
       "      <td>NaN</td>\n",
       "      <td>Москва</td>\n",
       "      <td>Иван</td>\n",
       "      <td>...</td>\n",
       "      <td>50</td>\n",
       "      <td>15360</td>\n",
       "      <td>500</td>\n",
       "      <td>550</td>\n",
       "      <td>200</td>\n",
       "      <td>3</td>\n",
       "      <td>3</td>\n",
       "      <td>smart</td>\n",
       "      <td>15.0</td>\n",
       "      <td>1148.0</td>\n",
       "    </tr>\n",
       "    <tr>\n",
       "      <td>9</td>\n",
       "      <td>1001</td>\n",
       "      <td>12</td>\n",
       "      <td>63.0</td>\n",
       "      <td>430.0</td>\n",
       "      <td>0.0</td>\n",
       "      <td>13.73</td>\n",
       "      <td>41</td>\n",
       "      <td>NaN</td>\n",
       "      <td>Москва</td>\n",
       "      <td>Иван</td>\n",
       "      <td>...</td>\n",
       "      <td>50</td>\n",
       "      <td>15360</td>\n",
       "      <td>500</td>\n",
       "      <td>550</td>\n",
       "      <td>200</td>\n",
       "      <td>3</td>\n",
       "      <td>3</td>\n",
       "      <td>smart</td>\n",
       "      <td>15.0</td>\n",
       "      <td>550.0</td>\n",
       "    </tr>\n",
       "    <tr>\n",
       "      <td>10</td>\n",
       "      <td>1002</td>\n",
       "      <td>6</td>\n",
       "      <td>15.0</td>\n",
       "      <td>118.0</td>\n",
       "      <td>4.0</td>\n",
       "      <td>10.61</td>\n",
       "      <td>59</td>\n",
       "      <td>NaN</td>\n",
       "      <td>Стерлитамак</td>\n",
       "      <td>Евгений</td>\n",
       "      <td>...</td>\n",
       "      <td>50</td>\n",
       "      <td>15360</td>\n",
       "      <td>500</td>\n",
       "      <td>550</td>\n",
       "      <td>200</td>\n",
       "      <td>3</td>\n",
       "      <td>3</td>\n",
       "      <td>smart</td>\n",
       "      <td>15.0</td>\n",
       "      <td>550.0</td>\n",
       "    </tr>\n",
       "    <tr>\n",
       "      <td>11</td>\n",
       "      <td>1002</td>\n",
       "      <td>7</td>\n",
       "      <td>26.0</td>\n",
       "      <td>219.0</td>\n",
       "      <td>11.0</td>\n",
       "      <td>17.15</td>\n",
       "      <td>59</td>\n",
       "      <td>NaN</td>\n",
       "      <td>Стерлитамак</td>\n",
       "      <td>Евгений</td>\n",
       "      <td>...</td>\n",
       "      <td>50</td>\n",
       "      <td>15360</td>\n",
       "      <td>500</td>\n",
       "      <td>550</td>\n",
       "      <td>200</td>\n",
       "      <td>3</td>\n",
       "      <td>3</td>\n",
       "      <td>smart</td>\n",
       "      <td>15.0</td>\n",
       "      <td>980.0</td>\n",
       "    </tr>\n",
       "    <tr>\n",
       "      <td>12</td>\n",
       "      <td>1002</td>\n",
       "      <td>8</td>\n",
       "      <td>42.0</td>\n",
       "      <td>294.0</td>\n",
       "      <td>13.0</td>\n",
       "      <td>19.89</td>\n",
       "      <td>59</td>\n",
       "      <td>NaN</td>\n",
       "      <td>Стерлитамак</td>\n",
       "      <td>Евгений</td>\n",
       "      <td>...</td>\n",
       "      <td>50</td>\n",
       "      <td>15360</td>\n",
       "      <td>500</td>\n",
       "      <td>550</td>\n",
       "      <td>200</td>\n",
       "      <td>3</td>\n",
       "      <td>3</td>\n",
       "      <td>smart</td>\n",
       "      <td>15.0</td>\n",
       "      <td>1528.0</td>\n",
       "    </tr>\n",
       "    <tr>\n",
       "      <td>13</td>\n",
       "      <td>1002</td>\n",
       "      <td>9</td>\n",
       "      <td>36.0</td>\n",
       "      <td>217.0</td>\n",
       "      <td>4.0</td>\n",
       "      <td>16.34</td>\n",
       "      <td>59</td>\n",
       "      <td>NaN</td>\n",
       "      <td>Стерлитамак</td>\n",
       "      <td>Евгений</td>\n",
       "      <td>...</td>\n",
       "      <td>50</td>\n",
       "      <td>15360</td>\n",
       "      <td>500</td>\n",
       "      <td>550</td>\n",
       "      <td>200</td>\n",
       "      <td>3</td>\n",
       "      <td>3</td>\n",
       "      <td>smart</td>\n",
       "      <td>15.0</td>\n",
       "      <td>818.0</td>\n",
       "    </tr>\n",
       "    <tr>\n",
       "      <td>14</td>\n",
       "      <td>1002</td>\n",
       "      <td>10</td>\n",
       "      <td>33.0</td>\n",
       "      <td>221.0</td>\n",
       "      <td>10.0</td>\n",
       "      <td>13.60</td>\n",
       "      <td>59</td>\n",
       "      <td>NaN</td>\n",
       "      <td>Стерлитамак</td>\n",
       "      <td>Евгений</td>\n",
       "      <td>...</td>\n",
       "      <td>50</td>\n",
       "      <td>15360</td>\n",
       "      <td>500</td>\n",
       "      <td>550</td>\n",
       "      <td>200</td>\n",
       "      <td>3</td>\n",
       "      <td>3</td>\n",
       "      <td>smart</td>\n",
       "      <td>15.0</td>\n",
       "      <td>550.0</td>\n",
       "    </tr>\n",
       "    <tr>\n",
       "      <td>15</td>\n",
       "      <td>1002</td>\n",
       "      <td>11</td>\n",
       "      <td>32.0</td>\n",
       "      <td>250.0</td>\n",
       "      <td>16.0</td>\n",
       "      <td>18.20</td>\n",
       "      <td>59</td>\n",
       "      <td>NaN</td>\n",
       "      <td>Стерлитамак</td>\n",
       "      <td>Евгений</td>\n",
       "      <td>...</td>\n",
       "      <td>50</td>\n",
       "      <td>15360</td>\n",
       "      <td>500</td>\n",
       "      <td>550</td>\n",
       "      <td>200</td>\n",
       "      <td>3</td>\n",
       "      <td>3</td>\n",
       "      <td>smart</td>\n",
       "      <td>15.0</td>\n",
       "      <td>1190.0</td>\n",
       "    </tr>\n",
       "    <tr>\n",
       "      <td>16</td>\n",
       "      <td>1002</td>\n",
       "      <td>12</td>\n",
       "      <td>33.0</td>\n",
       "      <td>242.0</td>\n",
       "      <td>12.0</td>\n",
       "      <td>17.69</td>\n",
       "      <td>59</td>\n",
       "      <td>NaN</td>\n",
       "      <td>Стерлитамак</td>\n",
       "      <td>Евгений</td>\n",
       "      <td>...</td>\n",
       "      <td>50</td>\n",
       "      <td>15360</td>\n",
       "      <td>500</td>\n",
       "      <td>550</td>\n",
       "      <td>200</td>\n",
       "      <td>3</td>\n",
       "      <td>3</td>\n",
       "      <td>smart</td>\n",
       "      <td>15.0</td>\n",
       "      <td>1088.0</td>\n",
       "    </tr>\n",
       "    <tr>\n",
       "      <td>17</td>\n",
       "      <td>1003</td>\n",
       "      <td>8</td>\n",
       "      <td>55.0</td>\n",
       "      <td>392.0</td>\n",
       "      <td>37.0</td>\n",
       "      <td>8.37</td>\n",
       "      <td>23</td>\n",
       "      <td>NaN</td>\n",
       "      <td>Москва</td>\n",
       "      <td>Белла</td>\n",
       "      <td>...</td>\n",
       "      <td>1000</td>\n",
       "      <td>30720</td>\n",
       "      <td>3000</td>\n",
       "      <td>1950</td>\n",
       "      <td>150</td>\n",
       "      <td>1</td>\n",
       "      <td>1</td>\n",
       "      <td>ultra</td>\n",
       "      <td>30.0</td>\n",
       "      <td>1950.0</td>\n",
       "    </tr>\n",
       "    <tr>\n",
       "      <td>18</td>\n",
       "      <td>1003</td>\n",
       "      <td>9</td>\n",
       "      <td>134.0</td>\n",
       "      <td>990.0</td>\n",
       "      <td>91.0</td>\n",
       "      <td>12.20</td>\n",
       "      <td>23</td>\n",
       "      <td>NaN</td>\n",
       "      <td>Москва</td>\n",
       "      <td>Белла</td>\n",
       "      <td>...</td>\n",
       "      <td>1000</td>\n",
       "      <td>30720</td>\n",
       "      <td>3000</td>\n",
       "      <td>1950</td>\n",
       "      <td>150</td>\n",
       "      <td>1</td>\n",
       "      <td>1</td>\n",
       "      <td>ultra</td>\n",
       "      <td>30.0</td>\n",
       "      <td>1950.0</td>\n",
       "    </tr>\n",
       "    <tr>\n",
       "      <td>19</td>\n",
       "      <td>1003</td>\n",
       "      <td>10</td>\n",
       "      <td>108.0</td>\n",
       "      <td>866.0</td>\n",
       "      <td>83.0</td>\n",
       "      <td>14.42</td>\n",
       "      <td>23</td>\n",
       "      <td>NaN</td>\n",
       "      <td>Москва</td>\n",
       "      <td>Белла</td>\n",
       "      <td>...</td>\n",
       "      <td>1000</td>\n",
       "      <td>30720</td>\n",
       "      <td>3000</td>\n",
       "      <td>1950</td>\n",
       "      <td>150</td>\n",
       "      <td>1</td>\n",
       "      <td>1</td>\n",
       "      <td>ultra</td>\n",
       "      <td>30.0</td>\n",
       "      <td>1950.0</td>\n",
       "    </tr>\n",
       "  </tbody>\n",
       "</table>\n",
       "<p>20 rows × 24 columns</p>\n",
       "</div>"
      ],
      "text/plain": [
       "    user_id  month  calls_count  total_calls_duration  messages_count  \\\n",
       "0      1000      5         22.0                 164.0            22.0   \n",
       "1      1000      6         43.0                 187.0            60.0   \n",
       "2      1000      7         47.0                 346.0            75.0   \n",
       "3      1000      8         52.0                 418.0            81.0   \n",
       "4      1000      9         58.0                 478.0            57.0   \n",
       "5      1000     10         57.0                 363.0            73.0   \n",
       "6      1000     11         43.0                 344.0            58.0   \n",
       "7      1000     12         46.0                 341.0            70.0   \n",
       "8      1001     11         59.0                 444.0             0.0   \n",
       "9      1001     12         63.0                 430.0             0.0   \n",
       "10     1002      6         15.0                 118.0             4.0   \n",
       "11     1002      7         26.0                 219.0            11.0   \n",
       "12     1002      8         42.0                 294.0            13.0   \n",
       "13     1002      9         36.0                 217.0             4.0   \n",
       "14     1002     10         33.0                 221.0            10.0   \n",
       "15     1002     11         32.0                 250.0            16.0   \n",
       "16     1002     12         33.0                 242.0            12.0   \n",
       "17     1003      8         55.0                 392.0            37.0   \n",
       "18     1003      9        134.0                 990.0            91.0   \n",
       "19     1003     10        108.0                 866.0            83.0   \n",
       "\n",
       "    gb_used  age churn_date         city first_name  ... messages_included  \\\n",
       "0      2.20   52        NaN    Краснодар     Рафаил  ...              1000   \n",
       "1     22.69   52        NaN    Краснодар     Рафаил  ...              1000   \n",
       "2     13.71   52        NaN    Краснодар     Рафаил  ...              1000   \n",
       "3     13.75   52        NaN    Краснодар     Рафаил  ...              1000   \n",
       "4     14.27   52        NaN    Краснодар     Рафаил  ...              1000   \n",
       "5     14.37   52        NaN    Краснодар     Рафаил  ...              1000   \n",
       "6     14.41   52        NaN    Краснодар     Рафаил  ...              1000   \n",
       "7      9.56   52        NaN    Краснодар     Рафаил  ...              1000   \n",
       "8     17.99   41        NaN       Москва       Иван  ...                50   \n",
       "9     13.73   41        NaN       Москва       Иван  ...                50   \n",
       "10    10.61   59        NaN  Стерлитамак    Евгений  ...                50   \n",
       "11    17.15   59        NaN  Стерлитамак    Евгений  ...                50   \n",
       "12    19.89   59        NaN  Стерлитамак    Евгений  ...                50   \n",
       "13    16.34   59        NaN  Стерлитамак    Евгений  ...                50   \n",
       "14    13.60   59        NaN  Стерлитамак    Евгений  ...                50   \n",
       "15    18.20   59        NaN  Стерлитамак    Евгений  ...                50   \n",
       "16    17.69   59        NaN  Стерлитамак    Евгений  ...                50   \n",
       "17     8.37   23        NaN       Москва      Белла  ...              1000   \n",
       "18    12.20   23        NaN       Москва      Белла  ...              1000   \n",
       "19    14.42   23        NaN       Москва      Белла  ...              1000   \n",
       "\n",
       "   mb_per_month_included minutes_included  rub_monthly_fee  rub_per_gb  \\\n",
       "0                  30720             3000             1950         150   \n",
       "1                  30720             3000             1950         150   \n",
       "2                  30720             3000             1950         150   \n",
       "3                  30720             3000             1950         150   \n",
       "4                  30720             3000             1950         150   \n",
       "5                  30720             3000             1950         150   \n",
       "6                  30720             3000             1950         150   \n",
       "7                  30720             3000             1950         150   \n",
       "8                  15360              500              550         200   \n",
       "9                  15360              500              550         200   \n",
       "10                 15360              500              550         200   \n",
       "11                 15360              500              550         200   \n",
       "12                 15360              500              550         200   \n",
       "13                 15360              500              550         200   \n",
       "14                 15360              500              550         200   \n",
       "15                 15360              500              550         200   \n",
       "16                 15360              500              550         200   \n",
       "17                 30720             3000             1950         150   \n",
       "18                 30720             3000             1950         150   \n",
       "19                 30720             3000             1950         150   \n",
       "\n",
       "    rub_per_message  rub_per_minute  tariff_name  gb_per_month_included  \\\n",
       "0                 1               1        ultra                   30.0   \n",
       "1                 1               1        ultra                   30.0   \n",
       "2                 1               1        ultra                   30.0   \n",
       "3                 1               1        ultra                   30.0   \n",
       "4                 1               1        ultra                   30.0   \n",
       "5                 1               1        ultra                   30.0   \n",
       "6                 1               1        ultra                   30.0   \n",
       "7                 1               1        ultra                   30.0   \n",
       "8                 3               3        smart                   15.0   \n",
       "9                 3               3        smart                   15.0   \n",
       "10                3               3        smart                   15.0   \n",
       "11                3               3        smart                   15.0   \n",
       "12                3               3        smart                   15.0   \n",
       "13                3               3        smart                   15.0   \n",
       "14                3               3        smart                   15.0   \n",
       "15                3               3        smart                   15.0   \n",
       "16                3               3        smart                   15.0   \n",
       "17                1               1        ultra                   30.0   \n",
       "18                1               1        ultra                   30.0   \n",
       "19                1               1        ultra                   30.0   \n",
       "\n",
       "    user_revenue  \n",
       "0         1950.0  \n",
       "1         1950.0  \n",
       "2         1950.0  \n",
       "3         1950.0  \n",
       "4         1950.0  \n",
       "5         1950.0  \n",
       "6         1950.0  \n",
       "7         1950.0  \n",
       "8         1148.0  \n",
       "9          550.0  \n",
       "10         550.0  \n",
       "11         980.0  \n",
       "12        1528.0  \n",
       "13         818.0  \n",
       "14         550.0  \n",
       "15        1190.0  \n",
       "16        1088.0  \n",
       "17        1950.0  \n",
       "18        1950.0  \n",
       "19        1950.0  \n",
       "\n",
       "[20 rows x 24 columns]"
      ]
     },
     "execution_count": 46,
     "metadata": {},
     "output_type": "execute_result"
    }
   ],
   "source": [
    "#применим результат работы функции user_revenue_function ко всему датасету total_data. Результат сохраним\n",
    "#в новом столбце 'user_revenue'\n",
    "\n",
    "total_data['user_revenue'] = total_data.apply(user_revenue_function, axis = 1)\n",
    "\n",
    "#выведем последние 20 строк датасета на экран для проверки\n",
    "\n",
    "total_data.head(20)"
   ]
  },
  {
   "cell_type": "markdown",
   "metadata": {},
   "source": [
    "### Вывод"
   ]
  },
  {
   "cell_type": "markdown",
   "metadata": {},
   "source": [
    "В ходе подготовки данных к проведению исследования были сделаны следующие шаги:\n",
    "\n",
    "1. В датасеты, содержащие информацию о звонках, сообщениях и израсходованном интернет-трафике были добавлены данные о месяце предоставления услуг;\n",
    "\n",
    "2. В соответствиями с условиями тарифов \"Смарт\" и \"Ультра\" была округлена длительность звонков с секунд до минут и объем израсходованного интернет-трафика с Мегабайт до Гигабайт;\n",
    "\n",
    "3. Рассчитана помесячная выручка с каждого пользователя.\n",
    "\n",
    "При изучении длительности звонков, количества сообщений и израсходованного интернет-трафика были обнаружены аномальные значения, например: длительность звонков свыше 150 минут в месяц, количество отправленных сообщений больше 125 в месяц, объем израсходованного трафика - больше 48 Гб. Однако, я не считаю эти значения выбросами, поскольку на самом деле отдельно взятые пользователи могут таким образом расходовать услуги и нет оснований отбрасывать эти значения.\n",
    "\n",
    "В целом, данные готовы к дальнейшему проведению исследования."
   ]
  },
  {
   "cell_type": "markdown",
   "metadata": {},
   "source": [
    "## Проведение исследования"
   ]
  },
  {
   "cell_type": "markdown",
   "metadata": {},
   "source": [
    "### Изучение поведения клиентов оператора"
   ]
  },
  {
   "cell_type": "markdown",
   "metadata": {},
   "source": [
    "В ходе проведения исследования необходимо изучить поведение клиентов оператора, изучить данные о количестве используемых услуг, а также рассчитать описательные статистики. На мой взгляд, изучение поведения логично начать с количества пользователей, выбирающих тот или иной тариф."
   ]
  },
  {
   "cell_type": "code",
   "execution_count": 47,
   "metadata": {},
   "outputs": [
    {
     "data": {
      "text/plain": [
       "smart    2229\n",
       "ultra     985\n",
       "Name: tariff, dtype: int64"
      ]
     },
     "execution_count": 47,
     "metadata": {},
     "output_type": "execute_result"
    }
   ],
   "source": [
    "#посчитаем количество пользователей исходя из выбранного тарифа. Результат сохраним в переменной\n",
    "#smart_ultra\n",
    "\n",
    "smart_ultra = total_data['tariff'].value_counts()\n",
    "\n",
    "#выведем данные на экран\n",
    "\n",
    "smart_ultra"
   ]
  },
  {
   "cell_type": "markdown",
   "metadata": {},
   "source": [
    "Исходя из полученных данных видно, что тариф \"Смарт\" выбирают в 2 раза чаще, чем тариф \"Ультра\". Возможно это связано со стоимостью (550 руб. против 1950 руб. соответственно) или с тем, что большинству пользователей достаточно того объема услуг, который предоставляется при выборе тарифа \"Смарт\".\n",
    "\n",
    "Далее подробно изучим данные о длительности звонков, количестве сообщений и объеме израсходованного трафика."
   ]
  },
  {
   "cell_type": "code",
   "execution_count": 48,
   "metadata": {},
   "outputs": [
    {
     "data": {
      "text/plain": [
       "count    3214.000000\n",
       "mean      463.570006\n",
       "std       247.918544\n",
       "min         0.000000\n",
       "25%       291.000000\n",
       "50%       456.000000\n",
       "75%       605.000000\n",
       "max      1727.000000\n",
       "Name: total_calls_duration, dtype: float64"
      ]
     },
     "execution_count": 48,
     "metadata": {},
     "output_type": "execute_result"
    }
   ],
   "source": [
    "#изучим данные об общей длительности звонков в месяц\n",
    "\n",
    "total_data['total_calls_duration'].describe()"
   ]
  },
  {
   "cell_type": "markdown",
   "metadata": {},
   "source": [
    "Из представленной информации видно, что пользователи телеком-оператора любят поболтать. Об этом свидетельствует средняя длительность звонков - 463 минуты в месяц. Медианное значение чуть меньше среднего (456 минут и 463 минут соответственно), что говорит о небольшой положительной скошенности. Для того, чтобы в этом убедиться, необходимо построить гистограмму. Также поражает максимальное значение - 1727 минут разговоров в месяц. Возможно, на самом деле есть пользователь, который может позволить себе столько разговаривать. Учитывая специфику исследования, не будем считать это значение выбросом. Построим гистограмму в разрезе тарифов, чтобы оценить количество потраченных минут разговора.\n",
    "\n",
    "Для анализа показателей по тарифам сделаем две выборке: по тарифу \"Смарт\" и по тарифу \"Ультра\"."
   ]
  },
  {
   "cell_type": "code",
   "execution_count": 49,
   "metadata": {},
   "outputs": [
    {
     "data": {
      "text/html": [
       "<div>\n",
       "<style scoped>\n",
       "    .dataframe tbody tr th:only-of-type {\n",
       "        vertical-align: middle;\n",
       "    }\n",
       "\n",
       "    .dataframe tbody tr th {\n",
       "        vertical-align: top;\n",
       "    }\n",
       "\n",
       "    .dataframe thead th {\n",
       "        text-align: right;\n",
       "    }\n",
       "</style>\n",
       "<table border=\"1\" class=\"dataframe\">\n",
       "  <thead>\n",
       "    <tr style=\"text-align: right;\">\n",
       "      <th></th>\n",
       "      <th>user_id</th>\n",
       "      <th>month</th>\n",
       "      <th>calls_count</th>\n",
       "      <th>total_calls_duration</th>\n",
       "      <th>messages_count</th>\n",
       "      <th>gb_used</th>\n",
       "      <th>age</th>\n",
       "      <th>churn_date</th>\n",
       "      <th>city</th>\n",
       "      <th>first_name</th>\n",
       "      <th>...</th>\n",
       "      <th>messages_included</th>\n",
       "      <th>mb_per_month_included</th>\n",
       "      <th>minutes_included</th>\n",
       "      <th>rub_monthly_fee</th>\n",
       "      <th>rub_per_gb</th>\n",
       "      <th>rub_per_message</th>\n",
       "      <th>rub_per_minute</th>\n",
       "      <th>tariff_name</th>\n",
       "      <th>gb_per_month_included</th>\n",
       "      <th>user_revenue</th>\n",
       "    </tr>\n",
       "  </thead>\n",
       "  <tbody>\n",
       "    <tr>\n",
       "      <td>8</td>\n",
       "      <td>1001</td>\n",
       "      <td>11</td>\n",
       "      <td>59.0</td>\n",
       "      <td>444.0</td>\n",
       "      <td>0.0</td>\n",
       "      <td>17.99</td>\n",
       "      <td>41</td>\n",
       "      <td>NaN</td>\n",
       "      <td>Москва</td>\n",
       "      <td>Иван</td>\n",
       "      <td>...</td>\n",
       "      <td>50</td>\n",
       "      <td>15360</td>\n",
       "      <td>500</td>\n",
       "      <td>550</td>\n",
       "      <td>200</td>\n",
       "      <td>3</td>\n",
       "      <td>3</td>\n",
       "      <td>smart</td>\n",
       "      <td>15.0</td>\n",
       "      <td>1148.0</td>\n",
       "    </tr>\n",
       "    <tr>\n",
       "      <td>9</td>\n",
       "      <td>1001</td>\n",
       "      <td>12</td>\n",
       "      <td>63.0</td>\n",
       "      <td>430.0</td>\n",
       "      <td>0.0</td>\n",
       "      <td>13.73</td>\n",
       "      <td>41</td>\n",
       "      <td>NaN</td>\n",
       "      <td>Москва</td>\n",
       "      <td>Иван</td>\n",
       "      <td>...</td>\n",
       "      <td>50</td>\n",
       "      <td>15360</td>\n",
       "      <td>500</td>\n",
       "      <td>550</td>\n",
       "      <td>200</td>\n",
       "      <td>3</td>\n",
       "      <td>3</td>\n",
       "      <td>smart</td>\n",
       "      <td>15.0</td>\n",
       "      <td>550.0</td>\n",
       "    </tr>\n",
       "    <tr>\n",
       "      <td>10</td>\n",
       "      <td>1002</td>\n",
       "      <td>6</td>\n",
       "      <td>15.0</td>\n",
       "      <td>118.0</td>\n",
       "      <td>4.0</td>\n",
       "      <td>10.61</td>\n",
       "      <td>59</td>\n",
       "      <td>NaN</td>\n",
       "      <td>Стерлитамак</td>\n",
       "      <td>Евгений</td>\n",
       "      <td>...</td>\n",
       "      <td>50</td>\n",
       "      <td>15360</td>\n",
       "      <td>500</td>\n",
       "      <td>550</td>\n",
       "      <td>200</td>\n",
       "      <td>3</td>\n",
       "      <td>3</td>\n",
       "      <td>smart</td>\n",
       "      <td>15.0</td>\n",
       "      <td>550.0</td>\n",
       "    </tr>\n",
       "    <tr>\n",
       "      <td>11</td>\n",
       "      <td>1002</td>\n",
       "      <td>7</td>\n",
       "      <td>26.0</td>\n",
       "      <td>219.0</td>\n",
       "      <td>11.0</td>\n",
       "      <td>17.15</td>\n",
       "      <td>59</td>\n",
       "      <td>NaN</td>\n",
       "      <td>Стерлитамак</td>\n",
       "      <td>Евгений</td>\n",
       "      <td>...</td>\n",
       "      <td>50</td>\n",
       "      <td>15360</td>\n",
       "      <td>500</td>\n",
       "      <td>550</td>\n",
       "      <td>200</td>\n",
       "      <td>3</td>\n",
       "      <td>3</td>\n",
       "      <td>smart</td>\n",
       "      <td>15.0</td>\n",
       "      <td>980.0</td>\n",
       "    </tr>\n",
       "    <tr>\n",
       "      <td>12</td>\n",
       "      <td>1002</td>\n",
       "      <td>8</td>\n",
       "      <td>42.0</td>\n",
       "      <td>294.0</td>\n",
       "      <td>13.0</td>\n",
       "      <td>19.89</td>\n",
       "      <td>59</td>\n",
       "      <td>NaN</td>\n",
       "      <td>Стерлитамак</td>\n",
       "      <td>Евгений</td>\n",
       "      <td>...</td>\n",
       "      <td>50</td>\n",
       "      <td>15360</td>\n",
       "      <td>500</td>\n",
       "      <td>550</td>\n",
       "      <td>200</td>\n",
       "      <td>3</td>\n",
       "      <td>3</td>\n",
       "      <td>smart</td>\n",
       "      <td>15.0</td>\n",
       "      <td>1528.0</td>\n",
       "    </tr>\n",
       "    <tr>\n",
       "      <td>13</td>\n",
       "      <td>1002</td>\n",
       "      <td>9</td>\n",
       "      <td>36.0</td>\n",
       "      <td>217.0</td>\n",
       "      <td>4.0</td>\n",
       "      <td>16.34</td>\n",
       "      <td>59</td>\n",
       "      <td>NaN</td>\n",
       "      <td>Стерлитамак</td>\n",
       "      <td>Евгений</td>\n",
       "      <td>...</td>\n",
       "      <td>50</td>\n",
       "      <td>15360</td>\n",
       "      <td>500</td>\n",
       "      <td>550</td>\n",
       "      <td>200</td>\n",
       "      <td>3</td>\n",
       "      <td>3</td>\n",
       "      <td>smart</td>\n",
       "      <td>15.0</td>\n",
       "      <td>818.0</td>\n",
       "    </tr>\n",
       "    <tr>\n",
       "      <td>14</td>\n",
       "      <td>1002</td>\n",
       "      <td>10</td>\n",
       "      <td>33.0</td>\n",
       "      <td>221.0</td>\n",
       "      <td>10.0</td>\n",
       "      <td>13.60</td>\n",
       "      <td>59</td>\n",
       "      <td>NaN</td>\n",
       "      <td>Стерлитамак</td>\n",
       "      <td>Евгений</td>\n",
       "      <td>...</td>\n",
       "      <td>50</td>\n",
       "      <td>15360</td>\n",
       "      <td>500</td>\n",
       "      <td>550</td>\n",
       "      <td>200</td>\n",
       "      <td>3</td>\n",
       "      <td>3</td>\n",
       "      <td>smart</td>\n",
       "      <td>15.0</td>\n",
       "      <td>550.0</td>\n",
       "    </tr>\n",
       "    <tr>\n",
       "      <td>15</td>\n",
       "      <td>1002</td>\n",
       "      <td>11</td>\n",
       "      <td>32.0</td>\n",
       "      <td>250.0</td>\n",
       "      <td>16.0</td>\n",
       "      <td>18.20</td>\n",
       "      <td>59</td>\n",
       "      <td>NaN</td>\n",
       "      <td>Стерлитамак</td>\n",
       "      <td>Евгений</td>\n",
       "      <td>...</td>\n",
       "      <td>50</td>\n",
       "      <td>15360</td>\n",
       "      <td>500</td>\n",
       "      <td>550</td>\n",
       "      <td>200</td>\n",
       "      <td>3</td>\n",
       "      <td>3</td>\n",
       "      <td>smart</td>\n",
       "      <td>15.0</td>\n",
       "      <td>1190.0</td>\n",
       "    </tr>\n",
       "    <tr>\n",
       "      <td>16</td>\n",
       "      <td>1002</td>\n",
       "      <td>12</td>\n",
       "      <td>33.0</td>\n",
       "      <td>242.0</td>\n",
       "      <td>12.0</td>\n",
       "      <td>17.69</td>\n",
       "      <td>59</td>\n",
       "      <td>NaN</td>\n",
       "      <td>Стерлитамак</td>\n",
       "      <td>Евгений</td>\n",
       "      <td>...</td>\n",
       "      <td>50</td>\n",
       "      <td>15360</td>\n",
       "      <td>500</td>\n",
       "      <td>550</td>\n",
       "      <td>200</td>\n",
       "      <td>3</td>\n",
       "      <td>3</td>\n",
       "      <td>smart</td>\n",
       "      <td>15.0</td>\n",
       "      <td>1088.0</td>\n",
       "    </tr>\n",
       "    <tr>\n",
       "      <td>30</td>\n",
       "      <td>1005</td>\n",
       "      <td>1</td>\n",
       "      <td>15.0</td>\n",
       "      <td>99.0</td>\n",
       "      <td>7.0</td>\n",
       "      <td>2.66</td>\n",
       "      <td>67</td>\n",
       "      <td>NaN</td>\n",
       "      <td>Набережные Челны</td>\n",
       "      <td>Афанасий</td>\n",
       "      <td>...</td>\n",
       "      <td>50</td>\n",
       "      <td>15360</td>\n",
       "      <td>500</td>\n",
       "      <td>550</td>\n",
       "      <td>200</td>\n",
       "      <td>3</td>\n",
       "      <td>3</td>\n",
       "      <td>smart</td>\n",
       "      <td>15.0</td>\n",
       "      <td>550.0</td>\n",
       "    </tr>\n",
       "  </tbody>\n",
       "</table>\n",
       "<p>10 rows × 24 columns</p>\n",
       "</div>"
      ],
      "text/plain": [
       "    user_id  month  calls_count  total_calls_duration  messages_count  \\\n",
       "8      1001     11         59.0                 444.0             0.0   \n",
       "9      1001     12         63.0                 430.0             0.0   \n",
       "10     1002      6         15.0                 118.0             4.0   \n",
       "11     1002      7         26.0                 219.0            11.0   \n",
       "12     1002      8         42.0                 294.0            13.0   \n",
       "13     1002      9         36.0                 217.0             4.0   \n",
       "14     1002     10         33.0                 221.0            10.0   \n",
       "15     1002     11         32.0                 250.0            16.0   \n",
       "16     1002     12         33.0                 242.0            12.0   \n",
       "30     1005      1         15.0                  99.0             7.0   \n",
       "\n",
       "    gb_used  age churn_date              city first_name  ...  \\\n",
       "8     17.99   41        NaN            Москва       Иван  ...   \n",
       "9     13.73   41        NaN            Москва       Иван  ...   \n",
       "10    10.61   59        NaN       Стерлитамак    Евгений  ...   \n",
       "11    17.15   59        NaN       Стерлитамак    Евгений  ...   \n",
       "12    19.89   59        NaN       Стерлитамак    Евгений  ...   \n",
       "13    16.34   59        NaN       Стерлитамак    Евгений  ...   \n",
       "14    13.60   59        NaN       Стерлитамак    Евгений  ...   \n",
       "15    18.20   59        NaN       Стерлитамак    Евгений  ...   \n",
       "16    17.69   59        NaN       Стерлитамак    Евгений  ...   \n",
       "30     2.66   67        NaN  Набережные Челны   Афанасий  ...   \n",
       "\n",
       "   messages_included mb_per_month_included minutes_included  rub_monthly_fee  \\\n",
       "8                 50                 15360              500              550   \n",
       "9                 50                 15360              500              550   \n",
       "10                50                 15360              500              550   \n",
       "11                50                 15360              500              550   \n",
       "12                50                 15360              500              550   \n",
       "13                50                 15360              500              550   \n",
       "14                50                 15360              500              550   \n",
       "15                50                 15360              500              550   \n",
       "16                50                 15360              500              550   \n",
       "30                50                 15360              500              550   \n",
       "\n",
       "    rub_per_gb  rub_per_message  rub_per_minute  tariff_name  \\\n",
       "8          200                3               3        smart   \n",
       "9          200                3               3        smart   \n",
       "10         200                3               3        smart   \n",
       "11         200                3               3        smart   \n",
       "12         200                3               3        smart   \n",
       "13         200                3               3        smart   \n",
       "14         200                3               3        smart   \n",
       "15         200                3               3        smart   \n",
       "16         200                3               3        smart   \n",
       "30         200                3               3        smart   \n",
       "\n",
       "    gb_per_month_included  user_revenue  \n",
       "8                    15.0        1148.0  \n",
       "9                    15.0         550.0  \n",
       "10                   15.0         550.0  \n",
       "11                   15.0         980.0  \n",
       "12                   15.0        1528.0  \n",
       "13                   15.0         818.0  \n",
       "14                   15.0         550.0  \n",
       "15                   15.0        1190.0  \n",
       "16                   15.0        1088.0  \n",
       "30                   15.0         550.0  \n",
       "\n",
       "[10 rows x 24 columns]"
      ]
     },
     "execution_count": 49,
     "metadata": {},
     "output_type": "execute_result"
    }
   ],
   "source": [
    "#сделаем срез данных по тарифу \"Смарт\"\n",
    "\n",
    "total_data_smart = total_data.query('tariff == \"smart\"')\n",
    "\n",
    "#выведем первые 10 строк на экран\n",
    "\n",
    "total_data_smart.head(10)"
   ]
  },
  {
   "cell_type": "code",
   "execution_count": 50,
   "metadata": {
    "scrolled": true
   },
   "outputs": [
    {
     "data": {
      "image/png": "[encoded data removed]",
      "text/plain": [
       "<Figure size 432x288 with 1 Axes>"
      ]
     },
     "metadata": {
      "needs_background": "light"
     },
     "output_type": "display_data"
    }
   ],
   "source": [
    "#построим гистограмму распределения общей длительности звонков в месяц по тарифу \"Смарт\"\n",
    "\n",
    "total_data_smart['total_calls_duration'].hist(bins=30,range=(0,1727)) \n",
    "plt.title('Продолжительность звонков в месяц по тарифу Smart') #добавим подпись для графика\n",
    "plt.xlabel('Минуты') #добавим подписи осей\n",
    "plt.ylabel('Количество абонентов')\n",
    "\n",
    "#выведем график на экран\n",
    "\n",
    "plt.show()\n"
   ]
  },
  {
   "cell_type": "markdown",
   "metadata": {},
   "source": [
    "Как и предполагалось исходя из значений описательных статистик, график имеет положительную скошенность. Стоит отметить, что большинство пользователей разговаривает от 190 до 625 минут в месяц. "
   ]
  },
  {
   "cell_type": "code",
   "execution_count": 51,
   "metadata": {},
   "outputs": [
    {
     "data": {
      "text/html": [
       "<div>\n",
       "<style scoped>\n",
       "    .dataframe tbody tr th:only-of-type {\n",
       "        vertical-align: middle;\n",
       "    }\n",
       "\n",
       "    .dataframe tbody tr th {\n",
       "        vertical-align: top;\n",
       "    }\n",
       "\n",
       "    .dataframe thead th {\n",
       "        text-align: right;\n",
       "    }\n",
       "</style>\n",
       "<table border=\"1\" class=\"dataframe\">\n",
       "  <thead>\n",
       "    <tr style=\"text-align: right;\">\n",
       "      <th></th>\n",
       "      <th>count</th>\n",
       "      <th>total_duration</th>\n",
       "      <th>mean</th>\n",
       "      <th>variance</th>\n",
       "      <th>standard_duration</th>\n",
       "    </tr>\n",
       "    <tr>\n",
       "      <th>tariff</th>\n",
       "      <th></th>\n",
       "      <th></th>\n",
       "      <th></th>\n",
       "      <th></th>\n",
       "      <th></th>\n",
       "    </tr>\n",
       "  </thead>\n",
       "  <tbody>\n",
       "    <tr>\n",
       "      <td>smart</td>\n",
       "      <td>2229</td>\n",
       "      <td>957246.0</td>\n",
       "      <td>429.0</td>\n",
       "      <td>37975.0</td>\n",
       "      <td>195.0</td>\n",
       "    </tr>\n",
       "  </tbody>\n",
       "</table>\n",
       "</div>"
      ],
      "text/plain": [
       "        count  total_duration   mean  variance  standard_duration\n",
       "tariff                                                           \n",
       "smart    2229        957246.0  429.0   37975.0              195.0"
      ]
     },
     "execution_count": 51,
     "metadata": {},
     "output_type": "execute_result"
    }
   ],
   "source": [
    "#сделаем срез данных о длительности звонков пользователей с тарифом \"Смарт\". Рассчитаем основные показатели:\n",
    "#количество, общую продолжительность разговоров, среднее значение, дисперсию и стандартное отклонение.\n",
    "#Полученные значения округлим до целых\n",
    "\n",
    "data_smart_calls = total_data.query('tariff == \"smart\"').pivot_table(index = ['tariff'],\n",
    "                              values='total_calls_duration',\n",
    "                              aggfunc=['count','sum','mean','var','std']).round()\n",
    "\n",
    "#добавим столбцы с полученными значениями в датасет data_smart_calls\n",
    "\n",
    "data_smart_calls.columns = ['count','total_duration','mean','variance','standard_duration']\n",
    "\n",
    "#выведем полученные значения на экран\n",
    "\n",
    "data_smart_calls"
   ]
  },
  {
   "cell_type": "markdown",
   "metadata": {},
   "source": [
    "Исходя из расчета видно, что в среднем пользователи тарифа \"Смарт\" разговаривают 429 минут в месяц и укладываются в бесплатные минуты, предоставленные в рамках тарифа. Показатель дисперсии говорит нам о том, что данные имеют сильный разброс. Это же можно сказать и учитывая показатель среднего отклонения."
   ]
  },
  {
   "cell_type": "code",
   "execution_count": 52,
   "metadata": {},
   "outputs": [
    {
     "data": {
      "text/html": [
       "<div>\n",
       "<style scoped>\n",
       "    .dataframe tbody tr th:only-of-type {\n",
       "        vertical-align: middle;\n",
       "    }\n",
       "\n",
       "    .dataframe tbody tr th {\n",
       "        vertical-align: top;\n",
       "    }\n",
       "\n",
       "    .dataframe thead th {\n",
       "        text-align: right;\n",
       "    }\n",
       "</style>\n",
       "<table border=\"1\" class=\"dataframe\">\n",
       "  <thead>\n",
       "    <tr style=\"text-align: right;\">\n",
       "      <th></th>\n",
       "      <th>user_id</th>\n",
       "      <th>month</th>\n",
       "      <th>calls_count</th>\n",
       "      <th>total_calls_duration</th>\n",
       "      <th>messages_count</th>\n",
       "      <th>gb_used</th>\n",
       "      <th>age</th>\n",
       "      <th>churn_date</th>\n",
       "      <th>city</th>\n",
       "      <th>first_name</th>\n",
       "      <th>...</th>\n",
       "      <th>messages_included</th>\n",
       "      <th>mb_per_month_included</th>\n",
       "      <th>minutes_included</th>\n",
       "      <th>rub_monthly_fee</th>\n",
       "      <th>rub_per_gb</th>\n",
       "      <th>rub_per_message</th>\n",
       "      <th>rub_per_minute</th>\n",
       "      <th>tariff_name</th>\n",
       "      <th>gb_per_month_included</th>\n",
       "      <th>user_revenue</th>\n",
       "    </tr>\n",
       "  </thead>\n",
       "  <tbody>\n",
       "    <tr>\n",
       "      <td>3188</td>\n",
       "      <td>1106</td>\n",
       "      <td>10</td>\n",
       "      <td>0.0</td>\n",
       "      <td>0.0</td>\n",
       "      <td>33.0</td>\n",
       "      <td>13.70</td>\n",
       "      <td>67</td>\n",
       "      <td>NaN</td>\n",
       "      <td>Калуга</td>\n",
       "      <td>Исаак</td>\n",
       "      <td>...</td>\n",
       "      <td>1000</td>\n",
       "      <td>30720</td>\n",
       "      <td>3000</td>\n",
       "      <td>1950</td>\n",
       "      <td>150</td>\n",
       "      <td>1</td>\n",
       "      <td>1</td>\n",
       "      <td>ultra</td>\n",
       "      <td>30.0</td>\n",
       "      <td>1950.0</td>\n",
       "    </tr>\n",
       "    <tr>\n",
       "      <td>3189</td>\n",
       "      <td>1106</td>\n",
       "      <td>11</td>\n",
       "      <td>0.0</td>\n",
       "      <td>0.0</td>\n",
       "      <td>29.0</td>\n",
       "      <td>20.83</td>\n",
       "      <td>67</td>\n",
       "      <td>NaN</td>\n",
       "      <td>Калуга</td>\n",
       "      <td>Исаак</td>\n",
       "      <td>...</td>\n",
       "      <td>1000</td>\n",
       "      <td>30720</td>\n",
       "      <td>3000</td>\n",
       "      <td>1950</td>\n",
       "      <td>150</td>\n",
       "      <td>1</td>\n",
       "      <td>1</td>\n",
       "      <td>ultra</td>\n",
       "      <td>30.0</td>\n",
       "      <td>1950.0</td>\n",
       "    </tr>\n",
       "    <tr>\n",
       "      <td>3190</td>\n",
       "      <td>1106</td>\n",
       "      <td>12</td>\n",
       "      <td>0.0</td>\n",
       "      <td>0.0</td>\n",
       "      <td>24.0</td>\n",
       "      <td>18.28</td>\n",
       "      <td>67</td>\n",
       "      <td>NaN</td>\n",
       "      <td>Калуга</td>\n",
       "      <td>Исаак</td>\n",
       "      <td>...</td>\n",
       "      <td>1000</td>\n",
       "      <td>30720</td>\n",
       "      <td>3000</td>\n",
       "      <td>1950</td>\n",
       "      <td>150</td>\n",
       "      <td>1</td>\n",
       "      <td>1</td>\n",
       "      <td>ultra</td>\n",
       "      <td>30.0</td>\n",
       "      <td>1950.0</td>\n",
       "    </tr>\n",
       "    <tr>\n",
       "      <td>3191</td>\n",
       "      <td>1231</td>\n",
       "      <td>5</td>\n",
       "      <td>0.0</td>\n",
       "      <td>0.0</td>\n",
       "      <td>55.0</td>\n",
       "      <td>10.61</td>\n",
       "      <td>63</td>\n",
       "      <td>NaN</td>\n",
       "      <td>Чебоксары</td>\n",
       "      <td>Касьян</td>\n",
       "      <td>...</td>\n",
       "      <td>1000</td>\n",
       "      <td>30720</td>\n",
       "      <td>3000</td>\n",
       "      <td>1950</td>\n",
       "      <td>150</td>\n",
       "      <td>1</td>\n",
       "      <td>1</td>\n",
       "      <td>ultra</td>\n",
       "      <td>30.0</td>\n",
       "      <td>1950.0</td>\n",
       "    </tr>\n",
       "    <tr>\n",
       "      <td>3192</td>\n",
       "      <td>1231</td>\n",
       "      <td>6</td>\n",
       "      <td>0.0</td>\n",
       "      <td>0.0</td>\n",
       "      <td>201.0</td>\n",
       "      <td>27.19</td>\n",
       "      <td>63</td>\n",
       "      <td>NaN</td>\n",
       "      <td>Чебоксары</td>\n",
       "      <td>Касьян</td>\n",
       "      <td>...</td>\n",
       "      <td>1000</td>\n",
       "      <td>30720</td>\n",
       "      <td>3000</td>\n",
       "      <td>1950</td>\n",
       "      <td>150</td>\n",
       "      <td>1</td>\n",
       "      <td>1</td>\n",
       "      <td>ultra</td>\n",
       "      <td>30.0</td>\n",
       "      <td>1950.0</td>\n",
       "    </tr>\n",
       "    <tr>\n",
       "      <td>3193</td>\n",
       "      <td>1231</td>\n",
       "      <td>7</td>\n",
       "      <td>0.0</td>\n",
       "      <td>0.0</td>\n",
       "      <td>211.0</td>\n",
       "      <td>27.09</td>\n",
       "      <td>63</td>\n",
       "      <td>NaN</td>\n",
       "      <td>Чебоксары</td>\n",
       "      <td>Касьян</td>\n",
       "      <td>...</td>\n",
       "      <td>1000</td>\n",
       "      <td>30720</td>\n",
       "      <td>3000</td>\n",
       "      <td>1950</td>\n",
       "      <td>150</td>\n",
       "      <td>1</td>\n",
       "      <td>1</td>\n",
       "      <td>ultra</td>\n",
       "      <td>30.0</td>\n",
       "      <td>1950.0</td>\n",
       "    </tr>\n",
       "    <tr>\n",
       "      <td>3194</td>\n",
       "      <td>1231</td>\n",
       "      <td>8</td>\n",
       "      <td>0.0</td>\n",
       "      <td>0.0</td>\n",
       "      <td>180.0</td>\n",
       "      <td>31.34</td>\n",
       "      <td>63</td>\n",
       "      <td>NaN</td>\n",
       "      <td>Чебоксары</td>\n",
       "      <td>Касьян</td>\n",
       "      <td>...</td>\n",
       "      <td>1000</td>\n",
       "      <td>30720</td>\n",
       "      <td>3000</td>\n",
       "      <td>1950</td>\n",
       "      <td>150</td>\n",
       "      <td>1</td>\n",
       "      <td>1</td>\n",
       "      <td>ultra</td>\n",
       "      <td>30.0</td>\n",
       "      <td>2151.0</td>\n",
       "    </tr>\n",
       "    <tr>\n",
       "      <td>3195</td>\n",
       "      <td>1231</td>\n",
       "      <td>9</td>\n",
       "      <td>0.0</td>\n",
       "      <td>0.0</td>\n",
       "      <td>188.0</td>\n",
       "      <td>32.45</td>\n",
       "      <td>63</td>\n",
       "      <td>NaN</td>\n",
       "      <td>Чебоксары</td>\n",
       "      <td>Касьян</td>\n",
       "      <td>...</td>\n",
       "      <td>1000</td>\n",
       "      <td>30720</td>\n",
       "      <td>3000</td>\n",
       "      <td>1950</td>\n",
       "      <td>150</td>\n",
       "      <td>1</td>\n",
       "      <td>1</td>\n",
       "      <td>ultra</td>\n",
       "      <td>30.0</td>\n",
       "      <td>2317.5</td>\n",
       "    </tr>\n",
       "    <tr>\n",
       "      <td>3196</td>\n",
       "      <td>1231</td>\n",
       "      <td>10</td>\n",
       "      <td>0.0</td>\n",
       "      <td>0.0</td>\n",
       "      <td>185.0</td>\n",
       "      <td>30.31</td>\n",
       "      <td>63</td>\n",
       "      <td>NaN</td>\n",
       "      <td>Чебоксары</td>\n",
       "      <td>Касьян</td>\n",
       "      <td>...</td>\n",
       "      <td>1000</td>\n",
       "      <td>30720</td>\n",
       "      <td>3000</td>\n",
       "      <td>1950</td>\n",
       "      <td>150</td>\n",
       "      <td>1</td>\n",
       "      <td>1</td>\n",
       "      <td>ultra</td>\n",
       "      <td>30.0</td>\n",
       "      <td>1996.5</td>\n",
       "    </tr>\n",
       "    <tr>\n",
       "      <td>3197</td>\n",
       "      <td>1231</td>\n",
       "      <td>11</td>\n",
       "      <td>0.0</td>\n",
       "      <td>0.0</td>\n",
       "      <td>173.0</td>\n",
       "      <td>26.79</td>\n",
       "      <td>63</td>\n",
       "      <td>NaN</td>\n",
       "      <td>Чебоксары</td>\n",
       "      <td>Касьян</td>\n",
       "      <td>...</td>\n",
       "      <td>1000</td>\n",
       "      <td>30720</td>\n",
       "      <td>3000</td>\n",
       "      <td>1950</td>\n",
       "      <td>150</td>\n",
       "      <td>1</td>\n",
       "      <td>1</td>\n",
       "      <td>ultra</td>\n",
       "      <td>30.0</td>\n",
       "      <td>1950.0</td>\n",
       "    </tr>\n",
       "    <tr>\n",
       "      <td>3198</td>\n",
       "      <td>1231</td>\n",
       "      <td>12</td>\n",
       "      <td>0.0</td>\n",
       "      <td>0.0</td>\n",
       "      <td>191.0</td>\n",
       "      <td>31.71</td>\n",
       "      <td>63</td>\n",
       "      <td>NaN</td>\n",
       "      <td>Чебоксары</td>\n",
       "      <td>Касьян</td>\n",
       "      <td>...</td>\n",
       "      <td>1000</td>\n",
       "      <td>30720</td>\n",
       "      <td>3000</td>\n",
       "      <td>1950</td>\n",
       "      <td>150</td>\n",
       "      <td>1</td>\n",
       "      <td>1</td>\n",
       "      <td>ultra</td>\n",
       "      <td>30.0</td>\n",
       "      <td>2206.5</td>\n",
       "    </tr>\n",
       "    <tr>\n",
       "      <td>3199</td>\n",
       "      <td>1328</td>\n",
       "      <td>10</td>\n",
       "      <td>0.0</td>\n",
       "      <td>0.0</td>\n",
       "      <td>6.0</td>\n",
       "      <td>21.91</td>\n",
       "      <td>44</td>\n",
       "      <td>NaN</td>\n",
       "      <td>Мурманск</td>\n",
       "      <td>Рауль</td>\n",
       "      <td>...</td>\n",
       "      <td>1000</td>\n",
       "      <td>30720</td>\n",
       "      <td>3000</td>\n",
       "      <td>1950</td>\n",
       "      <td>150</td>\n",
       "      <td>1</td>\n",
       "      <td>1</td>\n",
       "      <td>ultra</td>\n",
       "      <td>30.0</td>\n",
       "      <td>1950.0</td>\n",
       "    </tr>\n",
       "    <tr>\n",
       "      <td>3200</td>\n",
       "      <td>1328</td>\n",
       "      <td>11</td>\n",
       "      <td>0.0</td>\n",
       "      <td>0.0</td>\n",
       "      <td>8.0</td>\n",
       "      <td>34.72</td>\n",
       "      <td>44</td>\n",
       "      <td>NaN</td>\n",
       "      <td>Мурманск</td>\n",
       "      <td>Рауль</td>\n",
       "      <td>...</td>\n",
       "      <td>1000</td>\n",
       "      <td>30720</td>\n",
       "      <td>3000</td>\n",
       "      <td>1950</td>\n",
       "      <td>150</td>\n",
       "      <td>1</td>\n",
       "      <td>1</td>\n",
       "      <td>ultra</td>\n",
       "      <td>30.0</td>\n",
       "      <td>2658.0</td>\n",
       "    </tr>\n",
       "    <tr>\n",
       "      <td>3201</td>\n",
       "      <td>1328</td>\n",
       "      <td>12</td>\n",
       "      <td>0.0</td>\n",
       "      <td>0.0</td>\n",
       "      <td>7.0</td>\n",
       "      <td>38.53</td>\n",
       "      <td>44</td>\n",
       "      <td>NaN</td>\n",
       "      <td>Мурманск</td>\n",
       "      <td>Рауль</td>\n",
       "      <td>...</td>\n",
       "      <td>1000</td>\n",
       "      <td>30720</td>\n",
       "      <td>3000</td>\n",
       "      <td>1950</td>\n",
       "      <td>150</td>\n",
       "      <td>1</td>\n",
       "      <td>1</td>\n",
       "      <td>ultra</td>\n",
       "      <td>30.0</td>\n",
       "      <td>3229.5</td>\n",
       "    </tr>\n",
       "    <tr>\n",
       "      <td>3203</td>\n",
       "      <td>1473</td>\n",
       "      <td>8</td>\n",
       "      <td>0.0</td>\n",
       "      <td>0.0</td>\n",
       "      <td>17.0</td>\n",
       "      <td>12.62</td>\n",
       "      <td>18</td>\n",
       "      <td>NaN</td>\n",
       "      <td>Красноярск</td>\n",
       "      <td>Николай</td>\n",
       "      <td>...</td>\n",
       "      <td>1000</td>\n",
       "      <td>30720</td>\n",
       "      <td>3000</td>\n",
       "      <td>1950</td>\n",
       "      <td>150</td>\n",
       "      <td>1</td>\n",
       "      <td>1</td>\n",
       "      <td>ultra</td>\n",
       "      <td>30.0</td>\n",
       "      <td>1950.0</td>\n",
       "    </tr>\n",
       "    <tr>\n",
       "      <td>3204</td>\n",
       "      <td>1473</td>\n",
       "      <td>9</td>\n",
       "      <td>0.0</td>\n",
       "      <td>0.0</td>\n",
       "      <td>19.0</td>\n",
       "      <td>16.92</td>\n",
       "      <td>18</td>\n",
       "      <td>NaN</td>\n",
       "      <td>Красноярск</td>\n",
       "      <td>Николай</td>\n",
       "      <td>...</td>\n",
       "      <td>1000</td>\n",
       "      <td>30720</td>\n",
       "      <td>3000</td>\n",
       "      <td>1950</td>\n",
       "      <td>150</td>\n",
       "      <td>1</td>\n",
       "      <td>1</td>\n",
       "      <td>ultra</td>\n",
       "      <td>30.0</td>\n",
       "      <td>1950.0</td>\n",
       "    </tr>\n",
       "    <tr>\n",
       "      <td>3205</td>\n",
       "      <td>1473</td>\n",
       "      <td>10</td>\n",
       "      <td>0.0</td>\n",
       "      <td>0.0</td>\n",
       "      <td>20.0</td>\n",
       "      <td>13.38</td>\n",
       "      <td>18</td>\n",
       "      <td>NaN</td>\n",
       "      <td>Красноярск</td>\n",
       "      <td>Николай</td>\n",
       "      <td>...</td>\n",
       "      <td>1000</td>\n",
       "      <td>30720</td>\n",
       "      <td>3000</td>\n",
       "      <td>1950</td>\n",
       "      <td>150</td>\n",
       "      <td>1</td>\n",
       "      <td>1</td>\n",
       "      <td>ultra</td>\n",
       "      <td>30.0</td>\n",
       "      <td>1950.0</td>\n",
       "    </tr>\n",
       "    <tr>\n",
       "      <td>3206</td>\n",
       "      <td>1473</td>\n",
       "      <td>11</td>\n",
       "      <td>0.0</td>\n",
       "      <td>0.0</td>\n",
       "      <td>14.0</td>\n",
       "      <td>21.20</td>\n",
       "      <td>18</td>\n",
       "      <td>NaN</td>\n",
       "      <td>Красноярск</td>\n",
       "      <td>Николай</td>\n",
       "      <td>...</td>\n",
       "      <td>1000</td>\n",
       "      <td>30720</td>\n",
       "      <td>3000</td>\n",
       "      <td>1950</td>\n",
       "      <td>150</td>\n",
       "      <td>1</td>\n",
       "      <td>1</td>\n",
       "      <td>ultra</td>\n",
       "      <td>30.0</td>\n",
       "      <td>1950.0</td>\n",
       "    </tr>\n",
       "    <tr>\n",
       "      <td>3207</td>\n",
       "      <td>1473</td>\n",
       "      <td>12</td>\n",
       "      <td>0.0</td>\n",
       "      <td>0.0</td>\n",
       "      <td>20.0</td>\n",
       "      <td>18.01</td>\n",
       "      <td>18</td>\n",
       "      <td>NaN</td>\n",
       "      <td>Красноярск</td>\n",
       "      <td>Николай</td>\n",
       "      <td>...</td>\n",
       "      <td>1000</td>\n",
       "      <td>30720</td>\n",
       "      <td>3000</td>\n",
       "      <td>1950</td>\n",
       "      <td>150</td>\n",
       "      <td>1</td>\n",
       "      <td>1</td>\n",
       "      <td>ultra</td>\n",
       "      <td>30.0</td>\n",
       "      <td>1950.0</td>\n",
       "    </tr>\n",
       "    <tr>\n",
       "      <td>3213</td>\n",
       "      <td>1476</td>\n",
       "      <td>4</td>\n",
       "      <td>0.0</td>\n",
       "      <td>0.0</td>\n",
       "      <td>0.0</td>\n",
       "      <td>0.52</td>\n",
       "      <td>50</td>\n",
       "      <td>NaN</td>\n",
       "      <td>Москва</td>\n",
       "      <td>Валентина</td>\n",
       "      <td>...</td>\n",
       "      <td>1000</td>\n",
       "      <td>30720</td>\n",
       "      <td>3000</td>\n",
       "      <td>1950</td>\n",
       "      <td>150</td>\n",
       "      <td>1</td>\n",
       "      <td>1</td>\n",
       "      <td>ultra</td>\n",
       "      <td>30.0</td>\n",
       "      <td>1950.0</td>\n",
       "    </tr>\n",
       "  </tbody>\n",
       "</table>\n",
       "<p>20 rows × 24 columns</p>\n",
       "</div>"
      ],
      "text/plain": [
       "      user_id  month  calls_count  total_calls_duration  messages_count  \\\n",
       "3188     1106     10          0.0                   0.0            33.0   \n",
       "3189     1106     11          0.0                   0.0            29.0   \n",
       "3190     1106     12          0.0                   0.0            24.0   \n",
       "3191     1231      5          0.0                   0.0            55.0   \n",
       "3192     1231      6          0.0                   0.0           201.0   \n",
       "3193     1231      7          0.0                   0.0           211.0   \n",
       "3194     1231      8          0.0                   0.0           180.0   \n",
       "3195     1231      9          0.0                   0.0           188.0   \n",
       "3196     1231     10          0.0                   0.0           185.0   \n",
       "3197     1231     11          0.0                   0.0           173.0   \n",
       "3198     1231     12          0.0                   0.0           191.0   \n",
       "3199     1328     10          0.0                   0.0             6.0   \n",
       "3200     1328     11          0.0                   0.0             8.0   \n",
       "3201     1328     12          0.0                   0.0             7.0   \n",
       "3203     1473      8          0.0                   0.0            17.0   \n",
       "3204     1473      9          0.0                   0.0            19.0   \n",
       "3205     1473     10          0.0                   0.0            20.0   \n",
       "3206     1473     11          0.0                   0.0            14.0   \n",
       "3207     1473     12          0.0                   0.0            20.0   \n",
       "3213     1476      4          0.0                   0.0             0.0   \n",
       "\n",
       "      gb_used  age churn_date        city first_name  ... messages_included  \\\n",
       "3188    13.70   67        NaN      Калуга      Исаак  ...              1000   \n",
       "3189    20.83   67        NaN      Калуга      Исаак  ...              1000   \n",
       "3190    18.28   67        NaN      Калуга      Исаак  ...              1000   \n",
       "3191    10.61   63        NaN   Чебоксары     Касьян  ...              1000   \n",
       "3192    27.19   63        NaN   Чебоксары     Касьян  ...              1000   \n",
       "3193    27.09   63        NaN   Чебоксары     Касьян  ...              1000   \n",
       "3194    31.34   63        NaN   Чебоксары     Касьян  ...              1000   \n",
       "3195    32.45   63        NaN   Чебоксары     Касьян  ...              1000   \n",
       "3196    30.31   63        NaN   Чебоксары     Касьян  ...              1000   \n",
       "3197    26.79   63        NaN   Чебоксары     Касьян  ...              1000   \n",
       "3198    31.71   63        NaN   Чебоксары     Касьян  ...              1000   \n",
       "3199    21.91   44        NaN    Мурманск      Рауль  ...              1000   \n",
       "3200    34.72   44        NaN    Мурманск      Рауль  ...              1000   \n",
       "3201    38.53   44        NaN    Мурманск      Рауль  ...              1000   \n",
       "3203    12.62   18        NaN  Красноярск    Николай  ...              1000   \n",
       "3204    16.92   18        NaN  Красноярск    Николай  ...              1000   \n",
       "3205    13.38   18        NaN  Красноярск    Николай  ...              1000   \n",
       "3206    21.20   18        NaN  Красноярск    Николай  ...              1000   \n",
       "3207    18.01   18        NaN  Красноярск    Николай  ...              1000   \n",
       "3213     0.52   50        NaN      Москва  Валентина  ...              1000   \n",
       "\n",
       "     mb_per_month_included minutes_included  rub_monthly_fee  rub_per_gb  \\\n",
       "3188                 30720             3000             1950         150   \n",
       "3189                 30720             3000             1950         150   \n",
       "3190                 30720             3000             1950         150   \n",
       "3191                 30720             3000             1950         150   \n",
       "3192                 30720             3000             1950         150   \n",
       "3193                 30720             3000             1950         150   \n",
       "3194                 30720             3000             1950         150   \n",
       "3195                 30720             3000             1950         150   \n",
       "3196                 30720             3000             1950         150   \n",
       "3197                 30720             3000             1950         150   \n",
       "3198                 30720             3000             1950         150   \n",
       "3199                 30720             3000             1950         150   \n",
       "3200                 30720             3000             1950         150   \n",
       "3201                 30720             3000             1950         150   \n",
       "3203                 30720             3000             1950         150   \n",
       "3204                 30720             3000             1950         150   \n",
       "3205                 30720             3000             1950         150   \n",
       "3206                 30720             3000             1950         150   \n",
       "3207                 30720             3000             1950         150   \n",
       "3213                 30720             3000             1950         150   \n",
       "\n",
       "      rub_per_message  rub_per_minute  tariff_name  gb_per_month_included  \\\n",
       "3188                1               1        ultra                   30.0   \n",
       "3189                1               1        ultra                   30.0   \n",
       "3190                1               1        ultra                   30.0   \n",
       "3191                1               1        ultra                   30.0   \n",
       "3192                1               1        ultra                   30.0   \n",
       "3193                1               1        ultra                   30.0   \n",
       "3194                1               1        ultra                   30.0   \n",
       "3195                1               1        ultra                   30.0   \n",
       "3196                1               1        ultra                   30.0   \n",
       "3197                1               1        ultra                   30.0   \n",
       "3198                1               1        ultra                   30.0   \n",
       "3199                1               1        ultra                   30.0   \n",
       "3200                1               1        ultra                   30.0   \n",
       "3201                1               1        ultra                   30.0   \n",
       "3203                1               1        ultra                   30.0   \n",
       "3204                1               1        ultra                   30.0   \n",
       "3205                1               1        ultra                   30.0   \n",
       "3206                1               1        ultra                   30.0   \n",
       "3207                1               1        ultra                   30.0   \n",
       "3213                1               1        ultra                   30.0   \n",
       "\n",
       "      user_revenue  \n",
       "3188        1950.0  \n",
       "3189        1950.0  \n",
       "3190        1950.0  \n",
       "3191        1950.0  \n",
       "3192        1950.0  \n",
       "3193        1950.0  \n",
       "3194        2151.0  \n",
       "3195        2317.5  \n",
       "3196        1996.5  \n",
       "3197        1950.0  \n",
       "3198        2206.5  \n",
       "3199        1950.0  \n",
       "3200        2658.0  \n",
       "3201        3229.5  \n",
       "3203        1950.0  \n",
       "3204        1950.0  \n",
       "3205        1950.0  \n",
       "3206        1950.0  \n",
       "3207        1950.0  \n",
       "3213        1950.0  \n",
       "\n",
       "[20 rows x 24 columns]"
      ]
     },
     "execution_count": 52,
     "metadata": {},
     "output_type": "execute_result"
    }
   ],
   "source": [
    "#сделаем срез данных по тарифу \"Ультра\"\n",
    "\n",
    "total_data_ultra = total_data.query('tariff == \"ultra\"')\n",
    "\n",
    "#выведем первые 10 строк на экран\n",
    "\n",
    "total_data_ultra.tail(20)"
   ]
  },
  {
   "cell_type": "code",
   "execution_count": 53,
   "metadata": {},
   "outputs": [
    {
     "data": {
      "image/png": "[encoded data removed]",
      "text/plain": [
       "<Figure size 432x288 with 1 Axes>"
      ]
     },
     "metadata": {
      "needs_background": "light"
     },
     "output_type": "display_data"
    }
   ],
   "source": [
    "#построим гистограмму распределения общей длительности звонков в месяц по тарифу \"Ультра\"\n",
    "\n",
    "total_data_ultra['total_calls_duration'].hist(bins=30,range=(0,1727)) \n",
    "plt.title('Продолжительность звонков в месяц по тарифу Ultra') #добавим подпись для графика\n",
    "plt.xlabel('Минуты') #добавим подписи осей\n",
    "plt.ylabel('Количество абонентов')\n",
    "\n",
    "#выведем график на экран\n",
    "\n",
    "plt.show()"
   ]
  },
  {
   "cell_type": "code",
   "execution_count": 54,
   "metadata": {},
   "outputs": [
    {
     "data": {
      "text/html": [
       "<div>\n",
       "<style scoped>\n",
       "    .dataframe tbody tr th:only-of-type {\n",
       "        vertical-align: middle;\n",
       "    }\n",
       "\n",
       "    .dataframe tbody tr th {\n",
       "        vertical-align: top;\n",
       "    }\n",
       "\n",
       "    .dataframe thead th {\n",
       "        text-align: right;\n",
       "    }\n",
       "</style>\n",
       "<table border=\"1\" class=\"dataframe\">\n",
       "  <thead>\n",
       "    <tr style=\"text-align: right;\">\n",
       "      <th></th>\n",
       "      <th>count</th>\n",
       "      <th>total_duration</th>\n",
       "      <th>mean</th>\n",
       "      <th>variance</th>\n",
       "      <th>standard_duration</th>\n",
       "    </tr>\n",
       "    <tr>\n",
       "      <th>tariff</th>\n",
       "      <th></th>\n",
       "      <th></th>\n",
       "      <th></th>\n",
       "      <th></th>\n",
       "      <th></th>\n",
       "    </tr>\n",
       "  </thead>\n",
       "  <tbody>\n",
       "    <tr>\n",
       "      <td>ultra</td>\n",
       "      <td>985</td>\n",
       "      <td>532668.0</td>\n",
       "      <td>541.0</td>\n",
       "      <td>106106.0</td>\n",
       "      <td>326.0</td>\n",
       "    </tr>\n",
       "  </tbody>\n",
       "</table>\n",
       "</div>"
      ],
      "text/plain": [
       "        count  total_duration   mean  variance  standard_duration\n",
       "tariff                                                           \n",
       "ultra     985        532668.0  541.0  106106.0              326.0"
      ]
     },
     "execution_count": 54,
     "metadata": {},
     "output_type": "execute_result"
    }
   ],
   "source": [
    "#сделаем срез данных о длительности звонков пользователей с тарифом \"Ультра\". Рассчитаем основные показатели:\n",
    "#количество, общую продолжительность разговоров, среднее значение, дисперсию и стандартное отклонение.\n",
    "#Полученные значения округлим до целых\n",
    "\n",
    "data_ultra_calls = total_data.query('tariff == \"ultra\"').pivot_table(index = ['tariff'],values='total_calls_duration',\n",
    "                              aggfunc=['count','sum','mean','var','std']).round()\n",
    "\n",
    "#добавим столбцы с полученными значениями в датасет data_ultra_calls\n",
    "\n",
    "data_ultra_calls.columns = ['count','total_duration','mean','variance','standard_duration']\n",
    "\n",
    "#выведем полученные значения на экран\n",
    "\n",
    "data_ultra_calls"
   ]
  },
  {
   "cell_type": "markdown",
   "metadata": {},
   "source": [
    "Пользователи тарифа \"Ультра\" в среднем разговаривают 541 минуту в месяц и также укладываются в минуты, предоставленные по условиям тарифа. С распределением значений все сложнее, его нельзя назвать нормальным, поскольку есть пользователи, которые практически не используют звонки, но большинство пользователей укладываются в диапазон 230-875 минут разговора в месяц."
   ]
  },
  {
   "cell_type": "code",
   "execution_count": 55,
   "metadata": {},
   "outputs": [
    {
     "data": {
      "text/plain": [
       "count    3214.000000\n",
       "mean       38.281269\n",
       "std        36.148326\n",
       "min         0.000000\n",
       "25%         9.000000\n",
       "50%        30.000000\n",
       "75%        57.000000\n",
       "max       224.000000\n",
       "Name: messages_count, dtype: float64"
      ]
     },
     "execution_count": 55,
     "metadata": {},
     "output_type": "execute_result"
    }
   ],
   "source": [
    "#изучим данные об общем количестве отправленных сообщений\n",
    "\n",
    "total_data['messages_count'].describe()"
   ]
  },
  {
   "cell_type": "markdown",
   "metadata": {},
   "source": [
    "Исходя из имеющихся данных, видно, что в среднем пользователи оператора отправляют 38 сообщений в месяц. Максимальное значение отправленных СМС - 224. Аномалией это значение считать не будем, поскольку отправить более 200 СМС вполне реально."
   ]
  },
  {
   "cell_type": "code",
   "execution_count": 56,
   "metadata": {},
   "outputs": [
    {
     "data": {
      "image/png": "[encoded data removed]",
      "text/plain": [
       "<Figure size 432x288 with 1 Axes>"
      ]
     },
     "metadata": {
      "needs_background": "light"
     },
     "output_type": "display_data"
    }
   ],
   "source": [
    "#построим гистограмму распределения общего количества отправленных сообщений в месяц по тарифу \"Смарт\"\n",
    "\n",
    "total_data_smart['messages_count'].hist(bins=30,range=(0,224))\n",
    "plt.title('Количество отправленных сообщений в месяц по тарифу Smart') #добавим подпись для графика\n",
    "plt.xlabel('Штук') #добавим подписи осей\n",
    "plt.ylabel('Количество абонентов')\n",
    "\n",
    "#выведем график на экран\n",
    "\n",
    "plt.show()"
   ]
  },
  {
   "cell_type": "markdown",
   "metadata": {},
   "source": [
    "Как и предполагалось, график имеет положительную ассиметрию. Можно заметить, что отправка сообщений не очень популярна среди пользователей тарифа \"Смарт\". На большинство пользователей приходится от 0 до 50 отправленных сообщений в месяц. "
   ]
  },
  {
   "cell_type": "code",
   "execution_count": 57,
   "metadata": {},
   "outputs": [
    {
     "data": {
      "text/html": [
       "<div>\n",
       "<style scoped>\n",
       "    .dataframe tbody tr th:only-of-type {\n",
       "        vertical-align: middle;\n",
       "    }\n",
       "\n",
       "    .dataframe tbody tr th {\n",
       "        vertical-align: top;\n",
       "    }\n",
       "\n",
       "    .dataframe thead th {\n",
       "        text-align: right;\n",
       "    }\n",
       "</style>\n",
       "<table border=\"1\" class=\"dataframe\">\n",
       "  <thead>\n",
       "    <tr style=\"text-align: right;\">\n",
       "      <th></th>\n",
       "      <th>count</th>\n",
       "      <th>mean</th>\n",
       "      <th>variance</th>\n",
       "      <th>standard_duration</th>\n",
       "    </tr>\n",
       "    <tr>\n",
       "      <th>tariff</th>\n",
       "      <th></th>\n",
       "      <th></th>\n",
       "      <th></th>\n",
       "      <th></th>\n",
       "    </tr>\n",
       "  </thead>\n",
       "  <tbody>\n",
       "    <tr>\n",
       "      <td>smart</td>\n",
       "      <td>2229</td>\n",
       "      <td>33.0</td>\n",
       "      <td>797.0</td>\n",
       "      <td>28.0</td>\n",
       "    </tr>\n",
       "  </tbody>\n",
       "</table>\n",
       "</div>"
      ],
      "text/plain": [
       "        count  mean  variance  standard_duration\n",
       "tariff                                          \n",
       "smart    2229  33.0     797.0               28.0"
      ]
     },
     "execution_count": 57,
     "metadata": {},
     "output_type": "execute_result"
    }
   ],
   "source": [
    "#сделаем срез данных о количестве отправленных сообщений пользователей с тарифом \"Смарт\". \n",
    "#Рассчитаем основные показатели:количество, общее количество сообщений, среднее значение, \n",
    "#дисперсию и стандартное отклонение.Полученные значения округлим до целых\n",
    "\n",
    "data_smart_messages = total_data.query('tariff == \"smart\"').pivot_table(index = ['tariff'],\n",
    "                      values='messages_count',aggfunc=['count','mean','var','std']).round()\n",
    "\n",
    "#добавим в полученный датасет новые столбцы \n",
    "\n",
    "data_smart_messages.columns = ['count','mean','variance','standard_duration']\n",
    "\n",
    "#выведем полученные значения на экран\n",
    "\n",
    "data_smart_messages"
   ]
  },
  {
   "cell_type": "markdown",
   "metadata": {},
   "source": [
    "Исходя из полученных данных видно, что в среднем пользователи тарифа \"Смарт\" отправляют 33 сообщения, что входит в рамки количества СМС, предоставляемых по условиям тарифа."
   ]
  },
  {
   "cell_type": "code",
   "execution_count": 58,
   "metadata": {},
   "outputs": [
    {
     "data": {
      "image/png": "[encoded data removed]",
      "text/plain": [
       "<Figure size 432x288 with 1 Axes>"
      ]
     },
     "metadata": {
      "needs_background": "light"
     },
     "output_type": "display_data"
    }
   ],
   "source": [
    "#построим гистограмму распределения общего количества отправленных сообщений в месяц по тарифу \"Ультра\"\n",
    "\n",
    "total_data_ultra['messages_count'].hist(bins=30,range=(0,224))\n",
    "plt.title('Количество отправленных сообщений в месяц по тарифу Ultra') #добавим подпись для графика\n",
    "plt.xlabel('Штук') #добавим подписи осей\n",
    "plt.ylabel('Количество абонентов')\n",
    "\n",
    "#выведем график на экран\n",
    "\n",
    "plt.show()"
   ]
  },
  {
   "cell_type": "markdown",
   "metadata": {},
   "source": [
    "По тарифу \"Ультра\" на большинство пользователей приходится от 0 до 50 отправленных сообщений в месяц, как и по тарифу \"Смарт\". Распределение значений здесь разбросано в диапазоне сильнее, шире."
   ]
  },
  {
   "cell_type": "code",
   "execution_count": 59,
   "metadata": {},
   "outputs": [
    {
     "data": {
      "text/html": [
       "<div>\n",
       "<style scoped>\n",
       "    .dataframe tbody tr th:only-of-type {\n",
       "        vertical-align: middle;\n",
       "    }\n",
       "\n",
       "    .dataframe tbody tr th {\n",
       "        vertical-align: top;\n",
       "    }\n",
       "\n",
       "    .dataframe thead th {\n",
       "        text-align: right;\n",
       "    }\n",
       "</style>\n",
       "<table border=\"1\" class=\"dataframe\">\n",
       "  <thead>\n",
       "    <tr style=\"text-align: right;\">\n",
       "      <th></th>\n",
       "      <th>count</th>\n",
       "      <th>mean</th>\n",
       "      <th>variance</th>\n",
       "      <th>standard_duration</th>\n",
       "    </tr>\n",
       "    <tr>\n",
       "      <th>tariff</th>\n",
       "      <th></th>\n",
       "      <th></th>\n",
       "      <th></th>\n",
       "      <th></th>\n",
       "    </tr>\n",
       "  </thead>\n",
       "  <tbody>\n",
       "    <tr>\n",
       "      <td>ultra</td>\n",
       "      <td>985</td>\n",
       "      <td>49.0</td>\n",
       "      <td>2285.0</td>\n",
       "      <td>48.0</td>\n",
       "    </tr>\n",
       "  </tbody>\n",
       "</table>\n",
       "</div>"
      ],
      "text/plain": [
       "        count  mean  variance  standard_duration\n",
       "tariff                                          \n",
       "ultra     985  49.0    2285.0               48.0"
      ]
     },
     "execution_count": 59,
     "metadata": {},
     "output_type": "execute_result"
    }
   ],
   "source": [
    "#сделаем срез данных о количестве отправленных сообщений пользователей с тарифом \"Ультра\". \n",
    "#Рассчитаем основные показатели:количество, общее количество сообщений, среднее значение, \n",
    "#дисперсию и стандартное отклонение.Полученные значения округлим до целых\n",
    "\n",
    "data_ultra_messages = total_data.query('tariff == \"ultra\"').pivot_table(index = ['tariff'],\n",
    "                      values='messages_count',aggfunc=['count','mean','var','std']).round()\n",
    "\n",
    "#добавим в полученный датасет новые столбцы \n",
    "\n",
    "data_ultra_messages.columns = ['count','mean','variance','standard_duration']\n",
    "\n",
    "#выведем полученные значения на экран\n",
    "\n",
    "data_ultra_messages"
   ]
  },
  {
   "cell_type": "markdown",
   "metadata": {},
   "source": [
    "Из данных видно, что пользователи тарифа \"Ультра\" в среднем отправляют 49 сообщений в месяц, что на 16 сообщени1 больше, чем пользователи тарифа \"Смарт\". Это может быть вызвано большим количеством включенных в тариф бесплатным СМС. Как и в ситуации с тарифом \"Смарт\" данные шире разбросаны."
   ]
  },
  {
   "cell_type": "code",
   "execution_count": 60,
   "metadata": {},
   "outputs": [
    {
     "data": {
      "text/plain": [
       "count    3214.000000\n",
       "mean       16.823687\n",
       "std         7.401779\n",
       "min         0.000000\n",
       "25%        12.215000\n",
       "50%        16.555000\n",
       "75%        20.950000\n",
       "max        48.650000\n",
       "Name: gb_used, dtype: float64"
      ]
     },
     "execution_count": 60,
     "metadata": {},
     "output_type": "execute_result"
    }
   ],
   "source": [
    "#изучим данные об использованном интернет-трафике\n",
    "\n",
    "total_data['gb_used'].describe()"
   ]
  },
  {
   "cell_type": "markdown",
   "metadata": {},
   "source": [
    "Исходя из представленных данных видно, в среднем пользователи тратят почти 17 Гб интернет-трафика в месяц. Аномальное значение 48 Гб редкое, но, на мой взгляд, вполне возможное. Поскольку медианное значение и среднее практически равны, то данные будут распределены нормально. Построим гистограмму, чтобы в этом убедиться."
   ]
  },
  {
   "cell_type": "code",
   "execution_count": 61,
   "metadata": {},
   "outputs": [
    {
     "data": {
      "image/png": "[encoded data removed]",
      "text/plain": [
       "<Figure size 432x288 with 1 Axes>"
      ]
     },
     "metadata": {
      "needs_background": "light"
     },
     "output_type": "display_data"
    }
   ],
   "source": [
    "#построим гистограмму распределения общего количества израсходованного интернет-трафика в месяц\n",
    "#по тарифу \"Смарт\"\n",
    "\n",
    "total_data_smart['gb_used'].hist(bins=30,range=(0,48))\n",
    "plt.title('Количество использованного интернет-трафика в месяц по тарифу Smart') #добавим подпись для графика\n",
    "plt.xlabel('Гб') #добавим подписи осей\n",
    "plt.ylabel('Количество абонентов')\n",
    "\n",
    "#выведем график на экран\n",
    "\n",
    "plt.show()"
   ]
  },
  {
   "cell_type": "markdown",
   "metadata": {},
   "source": [
    "Как и предполагалось, распределение по количеству израсходованного интернет-трафика можно назвать нормальным. В целом график вполне симметричен и унимодален. Большинство значений использованного интернет-трафика по тарифу \"Смарт\" находятся в пределах от 8 до 23 Гб, что превышает объем включенного интернет-трафика.\n",
    "\n",
    "Изучим данные в разрезе тарифов \"Смарт\" и \"Ультра\"."
   ]
  },
  {
   "cell_type": "code",
   "execution_count": 62,
   "metadata": {},
   "outputs": [
    {
     "data": {
      "text/html": [
       "<div>\n",
       "<style scoped>\n",
       "    .dataframe tbody tr th:only-of-type {\n",
       "        vertical-align: middle;\n",
       "    }\n",
       "\n",
       "    .dataframe tbody tr th {\n",
       "        vertical-align: top;\n",
       "    }\n",
       "\n",
       "    .dataframe thead th {\n",
       "        text-align: right;\n",
       "    }\n",
       "</style>\n",
       "<table border=\"1\" class=\"dataframe\">\n",
       "  <thead>\n",
       "    <tr style=\"text-align: right;\">\n",
       "      <th></th>\n",
       "      <th>count</th>\n",
       "      <th>sum</th>\n",
       "      <th>mean</th>\n",
       "      <th>variance</th>\n",
       "      <th>standard_duration</th>\n",
       "    </tr>\n",
       "    <tr>\n",
       "      <th>tariff</th>\n",
       "      <th></th>\n",
       "      <th></th>\n",
       "      <th></th>\n",
       "      <th></th>\n",
       "      <th></th>\n",
       "    </tr>\n",
       "  </thead>\n",
       "  <tbody>\n",
       "    <tr>\n",
       "      <td>smart</td>\n",
       "      <td>2229</td>\n",
       "      <td>35326.0</td>\n",
       "      <td>16.0</td>\n",
       "      <td>33.0</td>\n",
       "      <td>6.0</td>\n",
       "    </tr>\n",
       "  </tbody>\n",
       "</table>\n",
       "</div>"
      ],
      "text/plain": [
       "        count      sum  mean  variance  standard_duration\n",
       "tariff                                                   \n",
       "smart    2229  35326.0  16.0      33.0                6.0"
      ]
     },
     "execution_count": 62,
     "metadata": {},
     "output_type": "execute_result"
    }
   ],
   "source": [
    "#сделаем срез данных о объеме израсходованного трафика пользователей с тарифом \"Смарт\". \n",
    "#Рассчитаем основные показатели:объем трафика, среднее значение, дисперсию и стандартное отклонение.\n",
    "#Полученные значения округлим до целых\n",
    "\n",
    "data_smart_gb_used = total_data.query('tariff == \"smart\"').pivot_table(index = ['tariff'],\n",
    "                     values='gb_used',aggfunc=['count','sum','mean','var','std']).round()\n",
    "\n",
    "#добавим в полученный датасет новые столбцы\n",
    "\n",
    "data_smart_gb_used.columns = ['count','sum','mean','variance','standard_duration']\n",
    "\n",
    "#выведем полученные значения на экран\n",
    "\n",
    "data_smart_gb_used"
   ]
  },
  {
   "cell_type": "markdown",
   "metadata": {},
   "source": [
    "В целом, средний объем израсходованного трафика пользователей тарифа \"Смарт\" соответствует среднему по генеральной совокупности. Данные распределены нормально."
   ]
  },
  {
   "cell_type": "code",
   "execution_count": 63,
   "metadata": {},
   "outputs": [
    {
     "data": {
      "image/png": "[encoded data removed]",
      "text/plain": [
       "<Figure size 432x288 with 1 Axes>"
      ]
     },
     "metadata": {
      "needs_background": "light"
     },
     "output_type": "display_data"
    }
   ],
   "source": [
    "#построим гистограмму распределения общего количества израсходованного интернет-трафика в месяц по тарифу \"Ультра\"\n",
    "\n",
    "total_data_ultra['gb_used'].hist(bins=30,range=(0,48))\n",
    "plt.title('Количество использованного интернет-трафика в месяц по тарифу Ultra') #добавим подпись для графика\n",
    "plt.xlabel('Гб') #добавим подписи осей\n",
    "plt.ylabel('Количество абонентов')\n",
    "\n",
    "#выведем график на экран\n",
    "\n",
    "plt.show()"
   ]
  },
  {
   "cell_type": "markdown",
   "metadata": {},
   "source": [
    "Распределение значений израсходованного интернет-трафика по тарифу \"Ультра\" нельзя назвать нормальным, поскольку оно не умодально и не имеет ярко выраженной симметричности. Большинство пользователей тарифа расходуют от 0 до 34 Гб трафика, что несколько превышает включенный в тариф объем интернет-трафика."
   ]
  },
  {
   "cell_type": "code",
   "execution_count": 64,
   "metadata": {},
   "outputs": [
    {
     "data": {
      "text/html": [
       "<div>\n",
       "<style scoped>\n",
       "    .dataframe tbody tr th:only-of-type {\n",
       "        vertical-align: middle;\n",
       "    }\n",
       "\n",
       "    .dataframe tbody tr th {\n",
       "        vertical-align: top;\n",
       "    }\n",
       "\n",
       "    .dataframe thead th {\n",
       "        text-align: right;\n",
       "    }\n",
       "</style>\n",
       "<table border=\"1\" class=\"dataframe\">\n",
       "  <thead>\n",
       "    <tr style=\"text-align: right;\">\n",
       "      <th></th>\n",
       "      <th>count</th>\n",
       "      <th>sum</th>\n",
       "      <th>mean</th>\n",
       "      <th>variance</th>\n",
       "      <th>standard_duration</th>\n",
       "    </tr>\n",
       "    <tr>\n",
       "      <th>tariff</th>\n",
       "      <th></th>\n",
       "      <th></th>\n",
       "      <th></th>\n",
       "      <th></th>\n",
       "      <th></th>\n",
       "    </tr>\n",
       "  </thead>\n",
       "  <tbody>\n",
       "    <tr>\n",
       "      <td>ultra</td>\n",
       "      <td>985</td>\n",
       "      <td>18745.0</td>\n",
       "      <td>19.0</td>\n",
       "      <td>97.0</td>\n",
       "      <td>10.0</td>\n",
       "    </tr>\n",
       "  </tbody>\n",
       "</table>\n",
       "</div>"
      ],
      "text/plain": [
       "        count      sum  mean  variance  standard_duration\n",
       "tariff                                                   \n",
       "ultra     985  18745.0  19.0      97.0               10.0"
      ]
     },
     "execution_count": 64,
     "metadata": {},
     "output_type": "execute_result"
    }
   ],
   "source": [
    "#сделаем срез данных о объеме израсходованного трафика пользователей с тарифом \"Ультра\". \n",
    "#Рассчитаем основные показатели:объем трафика, среднее значение, дисперсию и стандартное отклонение.\n",
    "#Полученные значения округлим до целых\n",
    "\n",
    "data_ultra_gb_used = total_data.query('tariff == \"ultra\"').pivot_table(index = ['tariff'],\n",
    "                     values='gb_used',aggfunc=['count','sum','mean','var','std']).round()\n",
    "\n",
    "#добавим в полученный датасет новые столбцы\n",
    "\n",
    "data_ultra_gb_used.columns = ['count','sum','mean','variance','standard_duration']\n",
    "\n",
    "#выведем полученные значения на экран\n",
    "\n",
    "data_ultra_gb_used"
   ]
  },
  {
   "cell_type": "markdown",
   "metadata": {},
   "source": [
    "Пользователи тарифа \"Ультра\" в среднем расходуют на 3 Гб больше трафика, чем пользователи тарифа \"Смарт\". Возможно это связано с тем, что больший объем трафика включен в качестве бесплатного по условиям тарифа."
   ]
  },
  {
   "cell_type": "markdown",
   "metadata": {},
   "source": [
    "### Вывод"
   ]
  },
  {
   "cell_type": "markdown",
   "metadata": {},
   "source": [
    "В целом, в среднем как пользователи тарифа \"Смарт\", так и пользователи тарифа \"Ультра\" не расходуют в полном объеме включенные в пакеты услуг минуты разговора и сообщений. Однако стоит отметить что:\n",
    "\n",
    "- пользователи тарифа \"Смарт\" в среднем используют практически все минуты, предоставленные по условиям пакета, а именно 429 минуту из 500. Пользователи тарифа \"Ультра\", наоборот, используют в среднем лишь 541 минут из включенных 3000 мин;\n",
    "\n",
    "- пользователи тарифа \"Смарт\" также используют и большую часть включенных в тариф сообщений - 33 из 50. Пользователи тарифа \"Ультра\" не являются любителями отправлять СМС, о чем говорят цифры: в среднем они расходуют всего 49 СМС из 1000, включенных в пакет;\n",
    "\n",
    "- что касается объема израсходованного интернет-трафика, то среди пользователей тарифа \"Смарт\" в среднем наблюдается превышение объема использованного трафика на 1 Гб, пользователи тарифа \"Ультра\" в среднем укладываются в установленный лимит в 30 Гб.\n",
    "\n",
    "Исходя из этого, следует, что пользователи тарифа \"Смарт\" более рациональны, поскольку не переплачивают за услуги, которыми не пользуются."
   ]
  },
  {
   "cell_type": "markdown",
   "metadata": {},
   "source": [
    "## Проверка гипотез"
   ]
  },
  {
   "cell_type": "markdown",
   "metadata": {},
   "source": [
    "Для оценки и выбора оптимального тарифа для телеком-оператора необходимо проверить следующие гипотезы:\n",
    "\n",
    "- средняя выручка пользователей тарифов \"Ультра\" и \"Смарт\" различаются;\n",
    "- средняя выручка пользователей из Москвы отличается от выручки пользователей из других регионов.\n",
    "\n",
    "Для проверки первой гипотезы нам необходимо сформулировать нулевую гипотезу и альтернативную:\n",
    "\n",
    "Но - средняя выручка пользователей тарифов \"Ультра\" и \"Смарт\" не различается;\n",
    "\n",
    "Н1 - средняя выручка пользователей тарифов \"Ультра\" и \"Смарт\" различается.\n",
    "\n",
    "Поскольку у нас представлены две независимые выборки данных, то будем использовать метод t-теста Стьюдента, который вернет нам разницу распределения значений средней выручки двух независимых выборок.\n",
    "\n",
    "Поскольку есть принятые допустимые уровни статистической значимости (5% и 1%), то выберем один из них, например, 5%."
   ]
  },
  {
   "cell_type": "code",
   "execution_count": 65,
   "metadata": {},
   "outputs": [],
   "source": [
    "#зададим уровень статистической значимости\n",
    "\n",
    "alpha = .05"
   ]
  },
  {
   "cell_type": "code",
   "execution_count": 66,
   "metadata": {},
   "outputs": [
    {
     "name": "stdout",
     "output_type": "stream",
     "text": [
      "p-значение: 1.9191028917744757e-284\n",
      "Отвергаем нулевую гипотезу\n",
      "\n",
      "Средняя выручка в месяц с пользователя тарифа Smart - 1109.0\n",
      "Средняя выручка в месяц с пользователя тарифа Ultra - 2061.0\n"
     ]
    }
   ],
   "source": [
    "#проведем проверку первой гипотезы, используя метод st.ttest_ind. В качестве аргументов передадим\n",
    "#данные выборок, распределение значений которых необходимо изучить\n",
    "\n",
    "results = st.ttest_ind(\n",
    "    total_data_smart['user_revenue'],\n",
    "    total_data_ultra['user_revenue']\n",
    ")\n",
    "\n",
    "print('p-значение:', results.pvalue) #выводим на экран значение p-value\n",
    "\n",
    "if (results.pvalue < alpha): #сравниваем значение p-value  заданный уровень статистической значимости\n",
    "    print(\"Отвергаем нулевую гипотезу\")\n",
    "else:\n",
    "    print(\"Не получилось отвергнуть нулевую гипотезу\")\n",
    "    \n",
    "print()    \n",
    "print('Средняя выручка в месяц с пользователя тарифа Smart -', total_data_smart['user_revenue'].mean().round())\n",
    "print('Средняя выручка в месяц с пользователя тарифа Ultra -', total_data_ultra['user_revenue'].mean().round())"
   ]
  },
  {
   "cell_type": "markdown",
   "metadata": {},
   "source": [
    "Как видно из проверки гипотезы, значение p-value превышает 0.05, что дает нам возможность отвергнуть нулевую гипотезу. Рассчитанные средние показатели выручки дают нам понять, что выручка пользователей тарифа \"Ультра\" почти в 2 раза выше, несмотря на стоимость пользования тарифным планом."
   ]
  },
  {
   "cell_type": "markdown",
   "metadata": {},
   "source": [
    "Сформулируем нулевую и альтернативную гипотезы для проверки второй гипотезы:\n",
    "\n",
    "Но - средняя выручка пользователей из Москвы не различается;\n",
    "\n",
    "Н1 - средняя выручка пользователей из Москвы различается.\n",
    "\n",
    "Поскольку у нас нет данных о выручке пользователей по городам, сделаем два среза данных: по пользователям из Москвы и из других регионов.\n"
   ]
  },
  {
   "cell_type": "code",
   "execution_count": 67,
   "metadata": {},
   "outputs": [
    {
     "data": {
      "text/html": [
       "<div>\n",
       "<style scoped>\n",
       "    .dataframe tbody tr th:only-of-type {\n",
       "        vertical-align: middle;\n",
       "    }\n",
       "\n",
       "    .dataframe tbody tr th {\n",
       "        vertical-align: top;\n",
       "    }\n",
       "\n",
       "    .dataframe thead th {\n",
       "        text-align: right;\n",
       "    }\n",
       "</style>\n",
       "<table border=\"1\" class=\"dataframe\">\n",
       "  <thead>\n",
       "    <tr style=\"text-align: right;\">\n",
       "      <th></th>\n",
       "      <th>user_id</th>\n",
       "      <th>month</th>\n",
       "      <th>calls_count</th>\n",
       "      <th>total_calls_duration</th>\n",
       "      <th>messages_count</th>\n",
       "      <th>gb_used</th>\n",
       "      <th>age</th>\n",
       "      <th>churn_date</th>\n",
       "      <th>city</th>\n",
       "      <th>first_name</th>\n",
       "      <th>...</th>\n",
       "      <th>messages_included</th>\n",
       "      <th>mb_per_month_included</th>\n",
       "      <th>minutes_included</th>\n",
       "      <th>rub_monthly_fee</th>\n",
       "      <th>rub_per_gb</th>\n",
       "      <th>rub_per_message</th>\n",
       "      <th>rub_per_minute</th>\n",
       "      <th>tariff_name</th>\n",
       "      <th>gb_per_month_included</th>\n",
       "      <th>user_revenue</th>\n",
       "    </tr>\n",
       "  </thead>\n",
       "  <tbody>\n",
       "    <tr>\n",
       "      <td>8</td>\n",
       "      <td>1001</td>\n",
       "      <td>11</td>\n",
       "      <td>59.0</td>\n",
       "      <td>444.0</td>\n",
       "      <td>0.0</td>\n",
       "      <td>17.99</td>\n",
       "      <td>41</td>\n",
       "      <td>NaN</td>\n",
       "      <td>Москва</td>\n",
       "      <td>Иван</td>\n",
       "      <td>...</td>\n",
       "      <td>50</td>\n",
       "      <td>15360</td>\n",
       "      <td>500</td>\n",
       "      <td>550</td>\n",
       "      <td>200</td>\n",
       "      <td>3</td>\n",
       "      <td>3</td>\n",
       "      <td>smart</td>\n",
       "      <td>15.0</td>\n",
       "      <td>1148.0</td>\n",
       "    </tr>\n",
       "    <tr>\n",
       "      <td>9</td>\n",
       "      <td>1001</td>\n",
       "      <td>12</td>\n",
       "      <td>63.0</td>\n",
       "      <td>430.0</td>\n",
       "      <td>0.0</td>\n",
       "      <td>13.73</td>\n",
       "      <td>41</td>\n",
       "      <td>NaN</td>\n",
       "      <td>Москва</td>\n",
       "      <td>Иван</td>\n",
       "      <td>...</td>\n",
       "      <td>50</td>\n",
       "      <td>15360</td>\n",
       "      <td>500</td>\n",
       "      <td>550</td>\n",
       "      <td>200</td>\n",
       "      <td>3</td>\n",
       "      <td>3</td>\n",
       "      <td>smart</td>\n",
       "      <td>15.0</td>\n",
       "      <td>550.0</td>\n",
       "    </tr>\n",
       "    <tr>\n",
       "      <td>17</td>\n",
       "      <td>1003</td>\n",
       "      <td>8</td>\n",
       "      <td>55.0</td>\n",
       "      <td>392.0</td>\n",
       "      <td>37.0</td>\n",
       "      <td>8.37</td>\n",
       "      <td>23</td>\n",
       "      <td>NaN</td>\n",
       "      <td>Москва</td>\n",
       "      <td>Белла</td>\n",
       "      <td>...</td>\n",
       "      <td>1000</td>\n",
       "      <td>30720</td>\n",
       "      <td>3000</td>\n",
       "      <td>1950</td>\n",
       "      <td>150</td>\n",
       "      <td>1</td>\n",
       "      <td>1</td>\n",
       "      <td>ultra</td>\n",
       "      <td>30.0</td>\n",
       "      <td>1950.0</td>\n",
       "    </tr>\n",
       "    <tr>\n",
       "      <td>18</td>\n",
       "      <td>1003</td>\n",
       "      <td>9</td>\n",
       "      <td>134.0</td>\n",
       "      <td>990.0</td>\n",
       "      <td>91.0</td>\n",
       "      <td>12.20</td>\n",
       "      <td>23</td>\n",
       "      <td>NaN</td>\n",
       "      <td>Москва</td>\n",
       "      <td>Белла</td>\n",
       "      <td>...</td>\n",
       "      <td>1000</td>\n",
       "      <td>30720</td>\n",
       "      <td>3000</td>\n",
       "      <td>1950</td>\n",
       "      <td>150</td>\n",
       "      <td>1</td>\n",
       "      <td>1</td>\n",
       "      <td>ultra</td>\n",
       "      <td>30.0</td>\n",
       "      <td>1950.0</td>\n",
       "    </tr>\n",
       "    <tr>\n",
       "      <td>19</td>\n",
       "      <td>1003</td>\n",
       "      <td>10</td>\n",
       "      <td>108.0</td>\n",
       "      <td>866.0</td>\n",
       "      <td>83.0</td>\n",
       "      <td>14.42</td>\n",
       "      <td>23</td>\n",
       "      <td>NaN</td>\n",
       "      <td>Москва</td>\n",
       "      <td>Белла</td>\n",
       "      <td>...</td>\n",
       "      <td>1000</td>\n",
       "      <td>30720</td>\n",
       "      <td>3000</td>\n",
       "      <td>1950</td>\n",
       "      <td>150</td>\n",
       "      <td>1</td>\n",
       "      <td>1</td>\n",
       "      <td>ultra</td>\n",
       "      <td>30.0</td>\n",
       "      <td>1950.0</td>\n",
       "    </tr>\n",
       "    <tr>\n",
       "      <td>20</td>\n",
       "      <td>1003</td>\n",
       "      <td>11</td>\n",
       "      <td>115.0</td>\n",
       "      <td>844.0</td>\n",
       "      <td>94.0</td>\n",
       "      <td>11.10</td>\n",
       "      <td>23</td>\n",
       "      <td>NaN</td>\n",
       "      <td>Москва</td>\n",
       "      <td>Белла</td>\n",
       "      <td>...</td>\n",
       "      <td>1000</td>\n",
       "      <td>30720</td>\n",
       "      <td>3000</td>\n",
       "      <td>1950</td>\n",
       "      <td>150</td>\n",
       "      <td>1</td>\n",
       "      <td>1</td>\n",
       "      <td>ultra</td>\n",
       "      <td>30.0</td>\n",
       "      <td>1950.0</td>\n",
       "    </tr>\n",
       "    <tr>\n",
       "      <td>21</td>\n",
       "      <td>1003</td>\n",
       "      <td>12</td>\n",
       "      <td>108.0</td>\n",
       "      <td>822.0</td>\n",
       "      <td>75.0</td>\n",
       "      <td>9.88</td>\n",
       "      <td>23</td>\n",
       "      <td>NaN</td>\n",
       "      <td>Москва</td>\n",
       "      <td>Белла</td>\n",
       "      <td>...</td>\n",
       "      <td>1000</td>\n",
       "      <td>30720</td>\n",
       "      <td>3000</td>\n",
       "      <td>1950</td>\n",
       "      <td>150</td>\n",
       "      <td>1</td>\n",
       "      <td>1</td>\n",
       "      <td>ultra</td>\n",
       "      <td>30.0</td>\n",
       "      <td>1950.0</td>\n",
       "    </tr>\n",
       "    <tr>\n",
       "      <td>53</td>\n",
       "      <td>1007</td>\n",
       "      <td>4</td>\n",
       "      <td>25.0</td>\n",
       "      <td>202.0</td>\n",
       "      <td>11.0</td>\n",
       "      <td>7.84</td>\n",
       "      <td>65</td>\n",
       "      <td>NaN</td>\n",
       "      <td>Москва</td>\n",
       "      <td>Юна</td>\n",
       "      <td>...</td>\n",
       "      <td>50</td>\n",
       "      <td>15360</td>\n",
       "      <td>500</td>\n",
       "      <td>550</td>\n",
       "      <td>200</td>\n",
       "      <td>3</td>\n",
       "      <td>3</td>\n",
       "      <td>smart</td>\n",
       "      <td>15.0</td>\n",
       "      <td>550.0</td>\n",
       "    </tr>\n",
       "    <tr>\n",
       "      <td>54</td>\n",
       "      <td>1007</td>\n",
       "      <td>5</td>\n",
       "      <td>67.0</td>\n",
       "      <td>490.0</td>\n",
       "      <td>39.0</td>\n",
       "      <td>17.32</td>\n",
       "      <td>65</td>\n",
       "      <td>NaN</td>\n",
       "      <td>Москва</td>\n",
       "      <td>Юна</td>\n",
       "      <td>...</td>\n",
       "      <td>50</td>\n",
       "      <td>15360</td>\n",
       "      <td>500</td>\n",
       "      <td>550</td>\n",
       "      <td>200</td>\n",
       "      <td>3</td>\n",
       "      <td>3</td>\n",
       "      <td>smart</td>\n",
       "      <td>15.0</td>\n",
       "      <td>1014.0</td>\n",
       "    </tr>\n",
       "    <tr>\n",
       "      <td>55</td>\n",
       "      <td>1007</td>\n",
       "      <td>6</td>\n",
       "      <td>68.0</td>\n",
       "      <td>558.0</td>\n",
       "      <td>26.0</td>\n",
       "      <td>13.36</td>\n",
       "      <td>65</td>\n",
       "      <td>NaN</td>\n",
       "      <td>Москва</td>\n",
       "      <td>Юна</td>\n",
       "      <td>...</td>\n",
       "      <td>50</td>\n",
       "      <td>15360</td>\n",
       "      <td>500</td>\n",
       "      <td>550</td>\n",
       "      <td>200</td>\n",
       "      <td>3</td>\n",
       "      <td>3</td>\n",
       "      <td>smart</td>\n",
       "      <td>15.0</td>\n",
       "      <td>550.0</td>\n",
       "    </tr>\n",
       "    <tr>\n",
       "      <td>56</td>\n",
       "      <td>1007</td>\n",
       "      <td>7</td>\n",
       "      <td>69.0</td>\n",
       "      <td>589.0</td>\n",
       "      <td>26.0</td>\n",
       "      <td>15.32</td>\n",
       "      <td>65</td>\n",
       "      <td>NaN</td>\n",
       "      <td>Москва</td>\n",
       "      <td>Юна</td>\n",
       "      <td>...</td>\n",
       "      <td>50</td>\n",
       "      <td>15360</td>\n",
       "      <td>500</td>\n",
       "      <td>550</td>\n",
       "      <td>200</td>\n",
       "      <td>3</td>\n",
       "      <td>3</td>\n",
       "      <td>smart</td>\n",
       "      <td>15.0</td>\n",
       "      <td>614.0</td>\n",
       "    </tr>\n",
       "    <tr>\n",
       "      <td>57</td>\n",
       "      <td>1007</td>\n",
       "      <td>8</td>\n",
       "      <td>74.0</td>\n",
       "      <td>483.0</td>\n",
       "      <td>27.0</td>\n",
       "      <td>20.23</td>\n",
       "      <td>65</td>\n",
       "      <td>NaN</td>\n",
       "      <td>Москва</td>\n",
       "      <td>Юна</td>\n",
       "      <td>...</td>\n",
       "      <td>50</td>\n",
       "      <td>15360</td>\n",
       "      <td>500</td>\n",
       "      <td>550</td>\n",
       "      <td>200</td>\n",
       "      <td>3</td>\n",
       "      <td>3</td>\n",
       "      <td>smart</td>\n",
       "      <td>15.0</td>\n",
       "      <td>1596.0</td>\n",
       "    </tr>\n",
       "    <tr>\n",
       "      <td>58</td>\n",
       "      <td>1007</td>\n",
       "      <td>9</td>\n",
       "      <td>87.0</td>\n",
       "      <td>674.0</td>\n",
       "      <td>31.0</td>\n",
       "      <td>12.32</td>\n",
       "      <td>65</td>\n",
       "      <td>NaN</td>\n",
       "      <td>Москва</td>\n",
       "      <td>Юна</td>\n",
       "      <td>...</td>\n",
       "      <td>50</td>\n",
       "      <td>15360</td>\n",
       "      <td>500</td>\n",
       "      <td>550</td>\n",
       "      <td>200</td>\n",
       "      <td>3</td>\n",
       "      <td>3</td>\n",
       "      <td>smart</td>\n",
       "      <td>15.0</td>\n",
       "      <td>550.0</td>\n",
       "    </tr>\n",
       "    <tr>\n",
       "      <td>59</td>\n",
       "      <td>1007</td>\n",
       "      <td>10</td>\n",
       "      <td>69.0</td>\n",
       "      <td>481.0</td>\n",
       "      <td>18.0</td>\n",
       "      <td>14.06</td>\n",
       "      <td>65</td>\n",
       "      <td>NaN</td>\n",
       "      <td>Москва</td>\n",
       "      <td>Юна</td>\n",
       "      <td>...</td>\n",
       "      <td>50</td>\n",
       "      <td>15360</td>\n",
       "      <td>500</td>\n",
       "      <td>550</td>\n",
       "      <td>200</td>\n",
       "      <td>3</td>\n",
       "      <td>3</td>\n",
       "      <td>smart</td>\n",
       "      <td>15.0</td>\n",
       "      <td>550.0</td>\n",
       "    </tr>\n",
       "    <tr>\n",
       "      <td>60</td>\n",
       "      <td>1007</td>\n",
       "      <td>11</td>\n",
       "      <td>81.0</td>\n",
       "      <td>594.0</td>\n",
       "      <td>21.0</td>\n",
       "      <td>16.00</td>\n",
       "      <td>65</td>\n",
       "      <td>NaN</td>\n",
       "      <td>Москва</td>\n",
       "      <td>Юна</td>\n",
       "      <td>...</td>\n",
       "      <td>50</td>\n",
       "      <td>15360</td>\n",
       "      <td>500</td>\n",
       "      <td>550</td>\n",
       "      <td>200</td>\n",
       "      <td>3</td>\n",
       "      <td>3</td>\n",
       "      <td>smart</td>\n",
       "      <td>15.0</td>\n",
       "      <td>750.0</td>\n",
       "    </tr>\n",
       "    <tr>\n",
       "      <td>61</td>\n",
       "      <td>1007</td>\n",
       "      <td>12</td>\n",
       "      <td>72.0</td>\n",
       "      <td>439.0</td>\n",
       "      <td>26.0</td>\n",
       "      <td>12.24</td>\n",
       "      <td>65</td>\n",
       "      <td>NaN</td>\n",
       "      <td>Москва</td>\n",
       "      <td>Юна</td>\n",
       "      <td>...</td>\n",
       "      <td>50</td>\n",
       "      <td>15360</td>\n",
       "      <td>500</td>\n",
       "      <td>550</td>\n",
       "      <td>200</td>\n",
       "      <td>3</td>\n",
       "      <td>3</td>\n",
       "      <td>smart</td>\n",
       "      <td>15.0</td>\n",
       "      <td>550.0</td>\n",
       "    </tr>\n",
       "    <tr>\n",
       "      <td>198</td>\n",
       "      <td>1031</td>\n",
       "      <td>11</td>\n",
       "      <td>86.0</td>\n",
       "      <td>682.0</td>\n",
       "      <td>25.0</td>\n",
       "      <td>11.04</td>\n",
       "      <td>66</td>\n",
       "      <td>NaN</td>\n",
       "      <td>Москва</td>\n",
       "      <td>Лаврентий</td>\n",
       "      <td>...</td>\n",
       "      <td>50</td>\n",
       "      <td>15360</td>\n",
       "      <td>500</td>\n",
       "      <td>550</td>\n",
       "      <td>200</td>\n",
       "      <td>3</td>\n",
       "      <td>3</td>\n",
       "      <td>smart</td>\n",
       "      <td>15.0</td>\n",
       "      <td>550.0</td>\n",
       "    </tr>\n",
       "    <tr>\n",
       "      <td>199</td>\n",
       "      <td>1031</td>\n",
       "      <td>12</td>\n",
       "      <td>76.0</td>\n",
       "      <td>578.0</td>\n",
       "      <td>27.0</td>\n",
       "      <td>9.55</td>\n",
       "      <td>66</td>\n",
       "      <td>NaN</td>\n",
       "      <td>Москва</td>\n",
       "      <td>Лаврентий</td>\n",
       "      <td>...</td>\n",
       "      <td>50</td>\n",
       "      <td>15360</td>\n",
       "      <td>500</td>\n",
       "      <td>550</td>\n",
       "      <td>200</td>\n",
       "      <td>3</td>\n",
       "      <td>3</td>\n",
       "      <td>smart</td>\n",
       "      <td>15.0</td>\n",
       "      <td>550.0</td>\n",
       "    </tr>\n",
       "    <tr>\n",
       "      <td>212</td>\n",
       "      <td>1033</td>\n",
       "      <td>7</td>\n",
       "      <td>35.0</td>\n",
       "      <td>316.0</td>\n",
       "      <td>36.0</td>\n",
       "      <td>11.37</td>\n",
       "      <td>71</td>\n",
       "      <td>NaN</td>\n",
       "      <td>Москва</td>\n",
       "      <td>Лия</td>\n",
       "      <td>...</td>\n",
       "      <td>50</td>\n",
       "      <td>15360</td>\n",
       "      <td>500</td>\n",
       "      <td>550</td>\n",
       "      <td>200</td>\n",
       "      <td>3</td>\n",
       "      <td>3</td>\n",
       "      <td>smart</td>\n",
       "      <td>15.0</td>\n",
       "      <td>550.0</td>\n",
       "    </tr>\n",
       "    <tr>\n",
       "      <td>213</td>\n",
       "      <td>1033</td>\n",
       "      <td>8</td>\n",
       "      <td>52.0</td>\n",
       "      <td>355.0</td>\n",
       "      <td>77.0</td>\n",
       "      <td>21.58</td>\n",
       "      <td>71</td>\n",
       "      <td>NaN</td>\n",
       "      <td>Москва</td>\n",
       "      <td>Лия</td>\n",
       "      <td>...</td>\n",
       "      <td>50</td>\n",
       "      <td>15360</td>\n",
       "      <td>500</td>\n",
       "      <td>550</td>\n",
       "      <td>200</td>\n",
       "      <td>3</td>\n",
       "      <td>3</td>\n",
       "      <td>smart</td>\n",
       "      <td>15.0</td>\n",
       "      <td>1947.0</td>\n",
       "    </tr>\n",
       "  </tbody>\n",
       "</table>\n",
       "<p>20 rows × 24 columns</p>\n",
       "</div>"
      ],
      "text/plain": [
       "     user_id  month  calls_count  total_calls_duration  messages_count  \\\n",
       "8       1001     11         59.0                 444.0             0.0   \n",
       "9       1001     12         63.0                 430.0             0.0   \n",
       "17      1003      8         55.0                 392.0            37.0   \n",
       "18      1003      9        134.0                 990.0            91.0   \n",
       "19      1003     10        108.0                 866.0            83.0   \n",
       "20      1003     11        115.0                 844.0            94.0   \n",
       "21      1003     12        108.0                 822.0            75.0   \n",
       "53      1007      4         25.0                 202.0            11.0   \n",
       "54      1007      5         67.0                 490.0            39.0   \n",
       "55      1007      6         68.0                 558.0            26.0   \n",
       "56      1007      7         69.0                 589.0            26.0   \n",
       "57      1007      8         74.0                 483.0            27.0   \n",
       "58      1007      9         87.0                 674.0            31.0   \n",
       "59      1007     10         69.0                 481.0            18.0   \n",
       "60      1007     11         81.0                 594.0            21.0   \n",
       "61      1007     12         72.0                 439.0            26.0   \n",
       "198     1031     11         86.0                 682.0            25.0   \n",
       "199     1031     12         76.0                 578.0            27.0   \n",
       "212     1033      7         35.0                 316.0            36.0   \n",
       "213     1033      8         52.0                 355.0            77.0   \n",
       "\n",
       "     gb_used  age churn_date    city first_name  ... messages_included  \\\n",
       "8      17.99   41        NaN  Москва       Иван  ...                50   \n",
       "9      13.73   41        NaN  Москва       Иван  ...                50   \n",
       "17      8.37   23        NaN  Москва      Белла  ...              1000   \n",
       "18     12.20   23        NaN  Москва      Белла  ...              1000   \n",
       "19     14.42   23        NaN  Москва      Белла  ...              1000   \n",
       "20     11.10   23        NaN  Москва      Белла  ...              1000   \n",
       "21      9.88   23        NaN  Москва      Белла  ...              1000   \n",
       "53      7.84   65        NaN  Москва        Юна  ...                50   \n",
       "54     17.32   65        NaN  Москва        Юна  ...                50   \n",
       "55     13.36   65        NaN  Москва        Юна  ...                50   \n",
       "56     15.32   65        NaN  Москва        Юна  ...                50   \n",
       "57     20.23   65        NaN  Москва        Юна  ...                50   \n",
       "58     12.32   65        NaN  Москва        Юна  ...                50   \n",
       "59     14.06   65        NaN  Москва        Юна  ...                50   \n",
       "60     16.00   65        NaN  Москва        Юна  ...                50   \n",
       "61     12.24   65        NaN  Москва        Юна  ...                50   \n",
       "198    11.04   66        NaN  Москва  Лаврентий  ...                50   \n",
       "199     9.55   66        NaN  Москва  Лаврентий  ...                50   \n",
       "212    11.37   71        NaN  Москва        Лия  ...                50   \n",
       "213    21.58   71        NaN  Москва        Лия  ...                50   \n",
       "\n",
       "    mb_per_month_included minutes_included  rub_monthly_fee  rub_per_gb  \\\n",
       "8                   15360              500              550         200   \n",
       "9                   15360              500              550         200   \n",
       "17                  30720             3000             1950         150   \n",
       "18                  30720             3000             1950         150   \n",
       "19                  30720             3000             1950         150   \n",
       "20                  30720             3000             1950         150   \n",
       "21                  30720             3000             1950         150   \n",
       "53                  15360              500              550         200   \n",
       "54                  15360              500              550         200   \n",
       "55                  15360              500              550         200   \n",
       "56                  15360              500              550         200   \n",
       "57                  15360              500              550         200   \n",
       "58                  15360              500              550         200   \n",
       "59                  15360              500              550         200   \n",
       "60                  15360              500              550         200   \n",
       "61                  15360              500              550         200   \n",
       "198                 15360              500              550         200   \n",
       "199                 15360              500              550         200   \n",
       "212                 15360              500              550         200   \n",
       "213                 15360              500              550         200   \n",
       "\n",
       "     rub_per_message  rub_per_minute  tariff_name  gb_per_month_included  \\\n",
       "8                  3               3        smart                   15.0   \n",
       "9                  3               3        smart                   15.0   \n",
       "17                 1               1        ultra                   30.0   \n",
       "18                 1               1        ultra                   30.0   \n",
       "19                 1               1        ultra                   30.0   \n",
       "20                 1               1        ultra                   30.0   \n",
       "21                 1               1        ultra                   30.0   \n",
       "53                 3               3        smart                   15.0   \n",
       "54                 3               3        smart                   15.0   \n",
       "55                 3               3        smart                   15.0   \n",
       "56                 3               3        smart                   15.0   \n",
       "57                 3               3        smart                   15.0   \n",
       "58                 3               3        smart                   15.0   \n",
       "59                 3               3        smart                   15.0   \n",
       "60                 3               3        smart                   15.0   \n",
       "61                 3               3        smart                   15.0   \n",
       "198                3               3        smart                   15.0   \n",
       "199                3               3        smart                   15.0   \n",
       "212                3               3        smart                   15.0   \n",
       "213                3               3        smart                   15.0   \n",
       "\n",
       "     user_revenue  \n",
       "8          1148.0  \n",
       "9           550.0  \n",
       "17         1950.0  \n",
       "18         1950.0  \n",
       "19         1950.0  \n",
       "20         1950.0  \n",
       "21         1950.0  \n",
       "53          550.0  \n",
       "54         1014.0  \n",
       "55          550.0  \n",
       "56          614.0  \n",
       "57         1596.0  \n",
       "58          550.0  \n",
       "59          550.0  \n",
       "60          750.0  \n",
       "61          550.0  \n",
       "198         550.0  \n",
       "199         550.0  \n",
       "212         550.0  \n",
       "213        1947.0  \n",
       "\n",
       "[20 rows x 24 columns]"
      ]
     },
     "execution_count": 67,
     "metadata": {},
     "output_type": "execute_result"
    }
   ],
   "source": [
    "#отфильтруем данные по выручке пользователей из Москвы. Результат сохраним в новом датасете \n",
    "#total_data_moscow\n",
    "\n",
    "total_data_moscow = total_data.query('city == \"Москва\"')\n",
    "\n",
    "#выведем первые 10 строк датасета на экран\n",
    "\n",
    "total_data_moscow.head(20)"
   ]
  },
  {
   "cell_type": "code",
   "execution_count": 68,
   "metadata": {},
   "outputs": [
    {
     "data": {
      "text/html": [
       "<div>\n",
       "<style scoped>\n",
       "    .dataframe tbody tr th:only-of-type {\n",
       "        vertical-align: middle;\n",
       "    }\n",
       "\n",
       "    .dataframe tbody tr th {\n",
       "        vertical-align: top;\n",
       "    }\n",
       "\n",
       "    .dataframe thead th {\n",
       "        text-align: right;\n",
       "    }\n",
       "</style>\n",
       "<table border=\"1\" class=\"dataframe\">\n",
       "  <thead>\n",
       "    <tr style=\"text-align: right;\">\n",
       "      <th></th>\n",
       "      <th>user_id</th>\n",
       "      <th>month</th>\n",
       "      <th>calls_count</th>\n",
       "      <th>total_calls_duration</th>\n",
       "      <th>messages_count</th>\n",
       "      <th>gb_used</th>\n",
       "      <th>age</th>\n",
       "      <th>churn_date</th>\n",
       "      <th>city</th>\n",
       "      <th>first_name</th>\n",
       "      <th>...</th>\n",
       "      <th>messages_included</th>\n",
       "      <th>mb_per_month_included</th>\n",
       "      <th>minutes_included</th>\n",
       "      <th>rub_monthly_fee</th>\n",
       "      <th>rub_per_gb</th>\n",
       "      <th>rub_per_message</th>\n",
       "      <th>rub_per_minute</th>\n",
       "      <th>tariff_name</th>\n",
       "      <th>gb_per_month_included</th>\n",
       "      <th>user_revenue</th>\n",
       "    </tr>\n",
       "  </thead>\n",
       "  <tbody>\n",
       "    <tr>\n",
       "      <td>0</td>\n",
       "      <td>1000</td>\n",
       "      <td>5</td>\n",
       "      <td>22.0</td>\n",
       "      <td>164.0</td>\n",
       "      <td>22.0</td>\n",
       "      <td>2.20</td>\n",
       "      <td>52</td>\n",
       "      <td>NaN</td>\n",
       "      <td>Краснодар</td>\n",
       "      <td>Рафаил</td>\n",
       "      <td>...</td>\n",
       "      <td>1000</td>\n",
       "      <td>30720</td>\n",
       "      <td>3000</td>\n",
       "      <td>1950</td>\n",
       "      <td>150</td>\n",
       "      <td>1</td>\n",
       "      <td>1</td>\n",
       "      <td>ultra</td>\n",
       "      <td>30.0</td>\n",
       "      <td>1950.0</td>\n",
       "    </tr>\n",
       "    <tr>\n",
       "      <td>1</td>\n",
       "      <td>1000</td>\n",
       "      <td>6</td>\n",
       "      <td>43.0</td>\n",
       "      <td>187.0</td>\n",
       "      <td>60.0</td>\n",
       "      <td>22.69</td>\n",
       "      <td>52</td>\n",
       "      <td>NaN</td>\n",
       "      <td>Краснодар</td>\n",
       "      <td>Рафаил</td>\n",
       "      <td>...</td>\n",
       "      <td>1000</td>\n",
       "      <td>30720</td>\n",
       "      <td>3000</td>\n",
       "      <td>1950</td>\n",
       "      <td>150</td>\n",
       "      <td>1</td>\n",
       "      <td>1</td>\n",
       "      <td>ultra</td>\n",
       "      <td>30.0</td>\n",
       "      <td>1950.0</td>\n",
       "    </tr>\n",
       "    <tr>\n",
       "      <td>2</td>\n",
       "      <td>1000</td>\n",
       "      <td>7</td>\n",
       "      <td>47.0</td>\n",
       "      <td>346.0</td>\n",
       "      <td>75.0</td>\n",
       "      <td>13.71</td>\n",
       "      <td>52</td>\n",
       "      <td>NaN</td>\n",
       "      <td>Краснодар</td>\n",
       "      <td>Рафаил</td>\n",
       "      <td>...</td>\n",
       "      <td>1000</td>\n",
       "      <td>30720</td>\n",
       "      <td>3000</td>\n",
       "      <td>1950</td>\n",
       "      <td>150</td>\n",
       "      <td>1</td>\n",
       "      <td>1</td>\n",
       "      <td>ultra</td>\n",
       "      <td>30.0</td>\n",
       "      <td>1950.0</td>\n",
       "    </tr>\n",
       "    <tr>\n",
       "      <td>3</td>\n",
       "      <td>1000</td>\n",
       "      <td>8</td>\n",
       "      <td>52.0</td>\n",
       "      <td>418.0</td>\n",
       "      <td>81.0</td>\n",
       "      <td>13.75</td>\n",
       "      <td>52</td>\n",
       "      <td>NaN</td>\n",
       "      <td>Краснодар</td>\n",
       "      <td>Рафаил</td>\n",
       "      <td>...</td>\n",
       "      <td>1000</td>\n",
       "      <td>30720</td>\n",
       "      <td>3000</td>\n",
       "      <td>1950</td>\n",
       "      <td>150</td>\n",
       "      <td>1</td>\n",
       "      <td>1</td>\n",
       "      <td>ultra</td>\n",
       "      <td>30.0</td>\n",
       "      <td>1950.0</td>\n",
       "    </tr>\n",
       "    <tr>\n",
       "      <td>4</td>\n",
       "      <td>1000</td>\n",
       "      <td>9</td>\n",
       "      <td>58.0</td>\n",
       "      <td>478.0</td>\n",
       "      <td>57.0</td>\n",
       "      <td>14.27</td>\n",
       "      <td>52</td>\n",
       "      <td>NaN</td>\n",
       "      <td>Краснодар</td>\n",
       "      <td>Рафаил</td>\n",
       "      <td>...</td>\n",
       "      <td>1000</td>\n",
       "      <td>30720</td>\n",
       "      <td>3000</td>\n",
       "      <td>1950</td>\n",
       "      <td>150</td>\n",
       "      <td>1</td>\n",
       "      <td>1</td>\n",
       "      <td>ultra</td>\n",
       "      <td>30.0</td>\n",
       "      <td>1950.0</td>\n",
       "    </tr>\n",
       "    <tr>\n",
       "      <td>5</td>\n",
       "      <td>1000</td>\n",
       "      <td>10</td>\n",
       "      <td>57.0</td>\n",
       "      <td>363.0</td>\n",
       "      <td>73.0</td>\n",
       "      <td>14.37</td>\n",
       "      <td>52</td>\n",
       "      <td>NaN</td>\n",
       "      <td>Краснодар</td>\n",
       "      <td>Рафаил</td>\n",
       "      <td>...</td>\n",
       "      <td>1000</td>\n",
       "      <td>30720</td>\n",
       "      <td>3000</td>\n",
       "      <td>1950</td>\n",
       "      <td>150</td>\n",
       "      <td>1</td>\n",
       "      <td>1</td>\n",
       "      <td>ultra</td>\n",
       "      <td>30.0</td>\n",
       "      <td>1950.0</td>\n",
       "    </tr>\n",
       "    <tr>\n",
       "      <td>6</td>\n",
       "      <td>1000</td>\n",
       "      <td>11</td>\n",
       "      <td>43.0</td>\n",
       "      <td>344.0</td>\n",
       "      <td>58.0</td>\n",
       "      <td>14.41</td>\n",
       "      <td>52</td>\n",
       "      <td>NaN</td>\n",
       "      <td>Краснодар</td>\n",
       "      <td>Рафаил</td>\n",
       "      <td>...</td>\n",
       "      <td>1000</td>\n",
       "      <td>30720</td>\n",
       "      <td>3000</td>\n",
       "      <td>1950</td>\n",
       "      <td>150</td>\n",
       "      <td>1</td>\n",
       "      <td>1</td>\n",
       "      <td>ultra</td>\n",
       "      <td>30.0</td>\n",
       "      <td>1950.0</td>\n",
       "    </tr>\n",
       "    <tr>\n",
       "      <td>7</td>\n",
       "      <td>1000</td>\n",
       "      <td>12</td>\n",
       "      <td>46.0</td>\n",
       "      <td>341.0</td>\n",
       "      <td>70.0</td>\n",
       "      <td>9.56</td>\n",
       "      <td>52</td>\n",
       "      <td>NaN</td>\n",
       "      <td>Краснодар</td>\n",
       "      <td>Рафаил</td>\n",
       "      <td>...</td>\n",
       "      <td>1000</td>\n",
       "      <td>30720</td>\n",
       "      <td>3000</td>\n",
       "      <td>1950</td>\n",
       "      <td>150</td>\n",
       "      <td>1</td>\n",
       "      <td>1</td>\n",
       "      <td>ultra</td>\n",
       "      <td>30.0</td>\n",
       "      <td>1950.0</td>\n",
       "    </tr>\n",
       "    <tr>\n",
       "      <td>10</td>\n",
       "      <td>1002</td>\n",
       "      <td>6</td>\n",
       "      <td>15.0</td>\n",
       "      <td>118.0</td>\n",
       "      <td>4.0</td>\n",
       "      <td>10.61</td>\n",
       "      <td>59</td>\n",
       "      <td>NaN</td>\n",
       "      <td>Стерлитамак</td>\n",
       "      <td>Евгений</td>\n",
       "      <td>...</td>\n",
       "      <td>50</td>\n",
       "      <td>15360</td>\n",
       "      <td>500</td>\n",
       "      <td>550</td>\n",
       "      <td>200</td>\n",
       "      <td>3</td>\n",
       "      <td>3</td>\n",
       "      <td>smart</td>\n",
       "      <td>15.0</td>\n",
       "      <td>550.0</td>\n",
       "    </tr>\n",
       "    <tr>\n",
       "      <td>11</td>\n",
       "      <td>1002</td>\n",
       "      <td>7</td>\n",
       "      <td>26.0</td>\n",
       "      <td>219.0</td>\n",
       "      <td>11.0</td>\n",
       "      <td>17.15</td>\n",
       "      <td>59</td>\n",
       "      <td>NaN</td>\n",
       "      <td>Стерлитамак</td>\n",
       "      <td>Евгений</td>\n",
       "      <td>...</td>\n",
       "      <td>50</td>\n",
       "      <td>15360</td>\n",
       "      <td>500</td>\n",
       "      <td>550</td>\n",
       "      <td>200</td>\n",
       "      <td>3</td>\n",
       "      <td>3</td>\n",
       "      <td>smart</td>\n",
       "      <td>15.0</td>\n",
       "      <td>980.0</td>\n",
       "    </tr>\n",
       "  </tbody>\n",
       "</table>\n",
       "<p>10 rows × 24 columns</p>\n",
       "</div>"
      ],
      "text/plain": [
       "    user_id  month  calls_count  total_calls_duration  messages_count  \\\n",
       "0      1000      5         22.0                 164.0            22.0   \n",
       "1      1000      6         43.0                 187.0            60.0   \n",
       "2      1000      7         47.0                 346.0            75.0   \n",
       "3      1000      8         52.0                 418.0            81.0   \n",
       "4      1000      9         58.0                 478.0            57.0   \n",
       "5      1000     10         57.0                 363.0            73.0   \n",
       "6      1000     11         43.0                 344.0            58.0   \n",
       "7      1000     12         46.0                 341.0            70.0   \n",
       "10     1002      6         15.0                 118.0             4.0   \n",
       "11     1002      7         26.0                 219.0            11.0   \n",
       "\n",
       "    gb_used  age churn_date         city first_name  ... messages_included  \\\n",
       "0      2.20   52        NaN    Краснодар     Рафаил  ...              1000   \n",
       "1     22.69   52        NaN    Краснодар     Рафаил  ...              1000   \n",
       "2     13.71   52        NaN    Краснодар     Рафаил  ...              1000   \n",
       "3     13.75   52        NaN    Краснодар     Рафаил  ...              1000   \n",
       "4     14.27   52        NaN    Краснодар     Рафаил  ...              1000   \n",
       "5     14.37   52        NaN    Краснодар     Рафаил  ...              1000   \n",
       "6     14.41   52        NaN    Краснодар     Рафаил  ...              1000   \n",
       "7      9.56   52        NaN    Краснодар     Рафаил  ...              1000   \n",
       "10    10.61   59        NaN  Стерлитамак    Евгений  ...                50   \n",
       "11    17.15   59        NaN  Стерлитамак    Евгений  ...                50   \n",
       "\n",
       "   mb_per_month_included minutes_included  rub_monthly_fee  rub_per_gb  \\\n",
       "0                  30720             3000             1950         150   \n",
       "1                  30720             3000             1950         150   \n",
       "2                  30720             3000             1950         150   \n",
       "3                  30720             3000             1950         150   \n",
       "4                  30720             3000             1950         150   \n",
       "5                  30720             3000             1950         150   \n",
       "6                  30720             3000             1950         150   \n",
       "7                  30720             3000             1950         150   \n",
       "10                 15360              500              550         200   \n",
       "11                 15360              500              550         200   \n",
       "\n",
       "    rub_per_message  rub_per_minute  tariff_name  gb_per_month_included  \\\n",
       "0                 1               1        ultra                   30.0   \n",
       "1                 1               1        ultra                   30.0   \n",
       "2                 1               1        ultra                   30.0   \n",
       "3                 1               1        ultra                   30.0   \n",
       "4                 1               1        ultra                   30.0   \n",
       "5                 1               1        ultra                   30.0   \n",
       "6                 1               1        ultra                   30.0   \n",
       "7                 1               1        ultra                   30.0   \n",
       "10                3               3        smart                   15.0   \n",
       "11                3               3        smart                   15.0   \n",
       "\n",
       "    user_revenue  \n",
       "0         1950.0  \n",
       "1         1950.0  \n",
       "2         1950.0  \n",
       "3         1950.0  \n",
       "4         1950.0  \n",
       "5         1950.0  \n",
       "6         1950.0  \n",
       "7         1950.0  \n",
       "10         550.0  \n",
       "11         980.0  \n",
       "\n",
       "[10 rows x 24 columns]"
      ]
     },
     "execution_count": 68,
     "metadata": {},
     "output_type": "execute_result"
    }
   ],
   "source": [
    "#отфильтруем данные по выручке пользователей из других регионов. Результат сохраним в новом датасете \n",
    "#total_data_regions\n",
    "\n",
    "total_data_regions = total_data.query('city != \"Москва\"')\n",
    "\n",
    "#выведем первые 10 строк датасета на экран\n",
    "\n",
    "total_data_regions.head(10)"
   ]
  },
  {
   "cell_type": "code",
   "execution_count": 69,
   "metadata": {},
   "outputs": [
    {
     "name": "stdout",
     "output_type": "stream",
     "text": [
      "p-значение: 0.24326220384871397\n",
      "Не получилось отвергнуть нулевую гипотезу\n",
      "\n",
      "Средняя выручка в месяц с пользователя из Москвы: 1433.0\n",
      "Средняя выручка в месяц с пользователя из региона: 1393.0\n"
     ]
    }
   ],
   "source": [
    "#проведем проверку первой гипотезы, используя метод st.ttest_ind. В качестве аргументов передадим\n",
    "#данные выборок, распределение значений которых необходимо изучить\n",
    "\n",
    "results = st.ttest_ind(\n",
    "    total_data_moscow['user_revenue'],\n",
    "    total_data_regions['user_revenue']\n",
    ")\n",
    "\n",
    "print('p-значение:', results.pvalue) #выводим на экран значение p-value\n",
    "\n",
    "if (results.pvalue < alpha): #сравниваем значение p-value  заданный уровень статистической значимости\n",
    "    print(\"Отвергаем нулевую гипотезу\")\n",
    "else:\n",
    "    print(\"Не получилось отвергнуть нулевую гипотезу\")\n",
    "    \n",
    "print()    \n",
    "print('Средняя выручка в месяц с пользователя из Москвы:', total_data_moscow['user_revenue'].mean().round())\n",
    "print('Средняя выручка в месяц с пользователя из региона:', total_data_regions['user_revenue'].mean().round())"
   ]
  },
  {
   "cell_type": "markdown",
   "metadata": {},
   "source": [
    "Как видно из проверки гипотезы, значение p-value не превышает 0.05, что не дает нам возможности отвергнуть нулевую гипотезу. Рассчитанные средние показатели выручки дают нам понять, что выручка пользователей из Москвы больше всего на 40 рублей, чем пользователей из регионов."
   ]
  },
  {
   "cell_type": "markdown",
   "metadata": {},
   "source": [
    "### Вывод"
   ]
  },
  {
   "cell_type": "markdown",
   "metadata": {},
   "source": [
    "В целом, в среднем помесячная выручка по пользователям тарифа \"Ультра\" почти вдвое выше, чем по пользователям тарифа \"Смарт\" (2061 руб. и 1109 руб. соответственно). Вероятно, это связано с тем, что стоимость услуг тарифа \"Ультра\" значительно выше, чем тарифа \"Смарт\". Также результаты расчетов подтверждают гипотезу о том, что средняя помесячная выручка с пользователя из Москвы на 40 руб. выше, чем того, кто живет в регионах."
   ]
  },
  {
   "cell_type": "markdown",
   "metadata": {},
   "source": [
    "## Общий вывод"
   ]
  },
  {
   "cell_type": "markdown",
   "metadata": {},
   "source": [
    "В ходе проведения исследования были замечены следующие закономерности:\n",
    "    \n",
    "1. Пользователи тарифа \"Смарт\" в целом рационально используют предоставленные тарифом услуги: выговаривают в среднем в месяц 429 минуты из включенных 500, отправляют 33 сообщений из 50. Однако, в среднем наблюдается перерасход интернет-трафика на 1 Гб, что формирует дополнительную выручку телеком-компании.\n",
    "\n",
    "2. Пользователи тарифа \"Ультра\" не используют по максимуму возможности своего тарифа: тратят 541 минуту из 3000 включенных, 49 СМС из 1000 и 19 Гб из 30.\n",
    "\n",
    "3. Что касается средней помесячной выручки, то она ожидаемо выше у пользователей тарифа \"Ультра\" и составляет 2061 руб. против 1109 руб. у пользователей тарифа \"Смарт\". Тут стоит отметить, что несмотря на это, пользователей тарифа \"Ультра\" у телеком-компании вдвое меньше, чем пользователей тарифа \"Смарт\" - 951 и 2223 соответственно. Если бы мы оценивали совокупную выручку со всех пользователей, то этот показатель был бы примерно равен по двум тарифам.\n",
    "\n",
    "4. Также из результатов исследования следует, что пользователь из Москвы в среднем приносит телеком компании на 40 рублей больше выручки в месяц, чем пользователь услуг из региона.\n",
    "\n",
    "Несмотря на то, что средняя помесячная выручка выше у тарифа \"Ультра\", учитывая количество пользователей этого тарифа, нельзя однозначно сделать вывод, что этот тариф оптимальнее. На мой взгляд, как в регионах, так и в Москве, необходимо продвигать оба тарифа."
   ]
  }
 ],
 "metadata": {
  "ExecuteTimeLog": [
   {
    "duration": 1600,
    "start_time": "2022-01-21T11:13:55.869Z"
   },
   {
    "duration": 27,
    "start_time": "2022-01-21T11:15:10.859Z"
   },
   {
    "duration": 179,
    "start_time": "2022-01-21T11:24:38.221Z"
   },
   {
    "duration": 24,
    "start_time": "2022-01-21T11:25:03.188Z"
   },
   {
    "duration": 122,
    "start_time": "2022-01-21T11:27:24.521Z"
   },
   {
    "duration": 19,
    "start_time": "2022-01-21T11:27:41.479Z"
   },
   {
    "duration": 27,
    "start_time": "2022-01-21T11:30:42.339Z"
   },
   {
    "duration": 10,
    "start_time": "2022-01-21T11:31:16.201Z"
   },
   {
    "duration": 53,
    "start_time": "2022-01-21T11:32:53.384Z"
   },
   {
    "duration": 9,
    "start_time": "2022-01-21T11:33:21.835Z"
   },
   {
    "duration": 5,
    "start_time": "2022-01-21T11:43:56.824Z"
   },
   {
    "duration": 5,
    "start_time": "2022-01-21T11:44:14.948Z"
   },
   {
    "duration": 843,
    "start_time": "2022-01-21T11:44:54.760Z"
   },
   {
    "duration": 1557,
    "start_time": "2022-01-21T11:45:09.280Z"
   },
   {
    "duration": 48,
    "start_time": "2022-01-21T11:45:10.841Z"
   },
   {
    "duration": 239,
    "start_time": "2022-01-21T11:45:10.893Z"
   },
   {
    "duration": 37,
    "start_time": "2022-01-21T11:45:11.136Z"
   },
   {
    "duration": 136,
    "start_time": "2022-01-21T11:45:11.176Z"
   },
   {
    "duration": 19,
    "start_time": "2022-01-21T11:45:11.315Z"
   },
   {
    "duration": 34,
    "start_time": "2022-01-21T11:45:11.337Z"
   },
   {
    "duration": 12,
    "start_time": "2022-01-21T11:45:11.373Z"
   },
   {
    "duration": 56,
    "start_time": "2022-01-21T11:45:11.388Z"
   },
   {
    "duration": 13,
    "start_time": "2022-01-21T11:45:11.447Z"
   },
   {
    "duration": 4,
    "start_time": "2022-01-21T11:45:11.463Z"
   },
   {
    "duration": 858,
    "start_time": "2022-01-21T11:45:11.469Z"
   },
   {
    "duration": 33,
    "start_time": "2022-01-21T11:52:19.441Z"
   },
   {
    "duration": 4,
    "start_time": "2022-01-21T11:54:17.153Z"
   },
   {
    "duration": 36,
    "start_time": "2022-01-21T11:54:27.240Z"
   },
   {
    "duration": 5,
    "start_time": "2022-01-21T11:54:58.502Z"
   },
   {
    "duration": 35,
    "start_time": "2022-01-21T11:55:00.317Z"
   },
   {
    "duration": 35,
    "start_time": "2022-01-21T11:55:02.777Z"
   },
   {
    "duration": 4,
    "start_time": "2022-01-21T11:55:24.958Z"
   },
   {
    "duration": 27,
    "start_time": "2022-01-21T11:55:26.197Z"
   },
   {
    "duration": 4,
    "start_time": "2022-01-21T11:58:06.266Z"
   },
   {
    "duration": 26,
    "start_time": "2022-01-21T11:58:09.467Z"
   },
   {
    "duration": 5,
    "start_time": "2022-01-21T12:00:14.150Z"
   },
   {
    "duration": 151,
    "start_time": "2022-01-21T12:00:17.148Z"
   },
   {
    "duration": 5,
    "start_time": "2022-01-21T12:01:02.769Z"
   },
   {
    "duration": 851,
    "start_time": "2022-01-21T12:01:04.389Z"
   },
   {
    "duration": 4,
    "start_time": "2022-01-21T12:01:53.182Z"
   },
   {
    "duration": 1001,
    "start_time": "2022-01-21T12:01:54.366Z"
   },
   {
    "duration": 5,
    "start_time": "2022-01-21T12:02:11.866Z"
   },
   {
    "duration": 150,
    "start_time": "2022-01-21T12:03:15.031Z"
   },
   {
    "duration": 155,
    "start_time": "2022-01-21T12:03:35.467Z"
   },
   {
    "duration": 104,
    "start_time": "2022-01-21T12:03:45.186Z"
   },
   {
    "duration": 79,
    "start_time": "2022-01-21T12:04:03.763Z"
   },
   {
    "duration": 1567,
    "start_time": "2022-01-21T12:04:13.359Z"
   },
   {
    "duration": 36,
    "start_time": "2022-01-21T12:04:14.928Z"
   },
   {
    "duration": 193,
    "start_time": "2022-01-21T12:04:14.967Z"
   },
   {
    "duration": 22,
    "start_time": "2022-01-21T12:04:15.163Z"
   },
   {
    "duration": 134,
    "start_time": "2022-01-21T12:04:15.188Z"
   },
   {
    "duration": 34,
    "start_time": "2022-01-21T12:04:15.325Z"
   },
   {
    "duration": 27,
    "start_time": "2022-01-21T12:04:15.361Z"
   },
   {
    "duration": 9,
    "start_time": "2022-01-21T12:04:15.391Z"
   },
   {
    "duration": 55,
    "start_time": "2022-01-21T12:04:15.402Z"
   },
   {
    "duration": 8,
    "start_time": "2022-01-21T12:04:15.460Z"
   },
   {
    "duration": 162,
    "start_time": "2022-01-21T12:04:15.470Z"
   },
   {
    "duration": 124,
    "start_time": "2022-01-21T12:04:15.635Z"
   },
   {
    "duration": 69,
    "start_time": "2022-01-21T12:04:15.761Z"
   },
   {
    "duration": 10,
    "start_time": "2022-01-21T12:04:59.664Z"
   },
   {
    "duration": 12,
    "start_time": "2022-01-21T12:05:15.903Z"
   },
   {
    "duration": 499,
    "start_time": "2022-01-21T12:05:54.123Z"
   },
   {
    "duration": 384,
    "start_time": "2022-01-21T12:05:59.171Z"
   },
   {
    "duration": 1618,
    "start_time": "2022-01-21T12:06:15.123Z"
   },
   {
    "duration": 36,
    "start_time": "2022-01-21T12:06:16.744Z"
   },
   {
    "duration": 191,
    "start_time": "2022-01-21T12:06:16.784Z"
   },
   {
    "duration": 24,
    "start_time": "2022-01-21T12:06:16.979Z"
   },
   {
    "duration": 143,
    "start_time": "2022-01-21T12:06:17.007Z"
   },
   {
    "duration": 22,
    "start_time": "2022-01-21T12:06:17.153Z"
   },
   {
    "duration": 26,
    "start_time": "2022-01-21T12:06:17.178Z"
   },
   {
    "duration": 14,
    "start_time": "2022-01-21T12:06:17.206Z"
   },
   {
    "duration": 50,
    "start_time": "2022-01-21T12:06:17.224Z"
   },
   {
    "duration": 9,
    "start_time": "2022-01-21T12:06:17.276Z"
   },
   {
    "duration": 173,
    "start_time": "2022-01-21T12:06:17.287Z"
   },
   {
    "duration": 128,
    "start_time": "2022-01-21T12:06:17.463Z"
   },
   {
    "duration": 82,
    "start_time": "2022-01-21T12:06:17.593Z"
   },
   {
    "duration": 10,
    "start_time": "2022-01-21T12:06:17.678Z"
   },
   {
    "duration": 4,
    "start_time": "2022-01-21T12:06:17.691Z"
   },
   {
    "duration": 678,
    "start_time": "2022-01-21T12:06:17.697Z"
   },
   {
    "duration": 9,
    "start_time": "2022-01-21T12:06:26.356Z"
   },
   {
    "duration": 8,
    "start_time": "2022-01-21T12:06:45.808Z"
   },
   {
    "duration": 170,
    "start_time": "2022-01-21T12:07:28.882Z"
   },
   {
    "duration": 1586,
    "start_time": "2022-01-21T12:07:37.249Z"
   },
   {
    "duration": 35,
    "start_time": "2022-01-21T12:07:38.838Z"
   },
   {
    "duration": 184,
    "start_time": "2022-01-21T12:07:38.876Z"
   },
   {
    "duration": 22,
    "start_time": "2022-01-21T12:07:39.063Z"
   },
   {
    "duration": 133,
    "start_time": "2022-01-21T12:07:39.087Z"
   },
   {
    "duration": 37,
    "start_time": "2022-01-21T12:07:39.223Z"
   },
   {
    "duration": 26,
    "start_time": "2022-01-21T12:07:39.263Z"
   },
   {
    "duration": 8,
    "start_time": "2022-01-21T12:07:39.291Z"
   },
   {
    "duration": 45,
    "start_time": "2022-01-21T12:07:39.302Z"
   },
   {
    "duration": 13,
    "start_time": "2022-01-21T12:07:39.350Z"
   },
   {
    "duration": 200,
    "start_time": "2022-01-21T12:07:39.365Z"
   },
   {
    "duration": 143,
    "start_time": "2022-01-21T12:07:39.567Z"
   },
   {
    "duration": 92,
    "start_time": "2022-01-21T12:07:39.712Z"
   },
   {
    "duration": 11,
    "start_time": "2022-01-21T12:07:39.806Z"
   },
   {
    "duration": 6,
    "start_time": "2022-01-21T12:07:39.819Z"
   },
   {
    "duration": 33,
    "start_time": "2022-01-21T12:07:39.827Z"
   },
   {
    "duration": 14,
    "start_time": "2022-01-21T12:07:53.419Z"
   },
   {
    "duration": 203,
    "start_time": "2022-01-21T12:10:07.945Z"
   },
   {
    "duration": 172,
    "start_time": "2022-01-21T12:10:23.662Z"
   },
   {
    "duration": 536,
    "start_time": "2022-01-21T12:47:19.061Z"
   },
   {
    "duration": 354,
    "start_time": "2022-01-21T12:47:28.536Z"
   },
   {
    "duration": 110,
    "start_time": "2022-01-21T12:47:32.729Z"
   },
   {
    "duration": 4,
    "start_time": "2022-01-21T12:47:45.400Z"
   },
   {
    "duration": 9309,
    "start_time": "2022-01-21T12:47:47.253Z"
   },
   {
    "duration": 365,
    "start_time": "2022-01-21T12:50:11.208Z"
   },
   {
    "duration": -72,
    "start_time": "2022-01-21T12:50:37.641Z"
   },
   {
    "duration": 571,
    "start_time": "2022-01-21T12:50:42.384Z"
   },
   {
    "duration": 112,
    "start_time": "2022-01-21T12:51:07.991Z"
   },
   {
    "duration": 1545,
    "start_time": "2022-01-21T12:51:08.201Z"
   },
   {
    "duration": 35,
    "start_time": "2022-01-21T12:51:09.749Z"
   },
   {
    "duration": 194,
    "start_time": "2022-01-21T12:51:09.787Z"
   },
   {
    "duration": 21,
    "start_time": "2022-01-21T12:51:09.984Z"
   },
   {
    "duration": 142,
    "start_time": "2022-01-21T12:51:10.008Z"
   },
   {
    "duration": 25,
    "start_time": "2022-01-21T12:51:10.153Z"
   },
   {
    "duration": 26,
    "start_time": "2022-01-21T12:51:10.180Z"
   },
   {
    "duration": 8,
    "start_time": "2022-01-21T12:51:10.210Z"
   },
   {
    "duration": 48,
    "start_time": "2022-01-21T12:51:10.221Z"
   },
   {
    "duration": 8,
    "start_time": "2022-01-21T12:51:10.271Z"
   },
   {
    "duration": 203,
    "start_time": "2022-01-21T12:51:10.282Z"
   },
   {
    "duration": 142,
    "start_time": "2022-01-21T12:51:10.488Z"
   },
   {
    "duration": 89,
    "start_time": "2022-01-21T12:51:10.632Z"
   },
   {
    "duration": 11,
    "start_time": "2022-01-21T12:51:10.723Z"
   },
   {
    "duration": 34,
    "start_time": "2022-01-21T12:51:10.736Z"
   },
   {
    "duration": 137,
    "start_time": "2022-01-21T12:51:10.772Z"
   },
   {
    "duration": -38,
    "start_time": "2022-01-21T12:51:10.951Z"
   },
   {
    "duration": 115,
    "start_time": "2022-01-21T12:51:28.221Z"
   },
   {
    "duration": 485,
    "start_time": "2022-01-21T12:51:29.977Z"
   },
   {
    "duration": 123,
    "start_time": "2022-01-21T12:51:56.371Z"
   },
   {
    "duration": 364,
    "start_time": "2022-01-21T12:51:59.750Z"
   },
   {
    "duration": 298,
    "start_time": "2022-01-21T12:52:04.567Z"
   },
   {
    "duration": 400,
    "start_time": "2022-01-21T12:52:07.179Z"
   },
   {
    "duration": 353,
    "start_time": "2022-01-21T12:52:14.008Z"
   },
   {
    "duration": 452,
    "start_time": "2022-01-21T12:52:16.683Z"
   },
   {
    "duration": 430,
    "start_time": "2022-01-21T12:52:27.064Z"
   },
   {
    "duration": 394,
    "start_time": "2022-01-21T12:53:47.688Z"
   },
   {
    "duration": 11760,
    "start_time": "2022-01-21T12:53:57.322Z"
   },
   {
    "duration": 42,
    "start_time": "2022-01-21T12:54:42.469Z"
   },
   {
    "duration": 43,
    "start_time": "2022-01-21T12:54:50.093Z"
   },
   {
    "duration": 41,
    "start_time": "2022-01-21T12:54:52.188Z"
   },
   {
    "duration": 39,
    "start_time": "2022-01-21T12:57:48.201Z"
   },
   {
    "duration": 64,
    "start_time": "2022-01-21T12:58:00.562Z"
   },
   {
    "duration": 602,
    "start_time": "2022-01-21T13:00:49.380Z"
   },
   {
    "duration": 4,
    "start_time": "2022-01-21T13:00:56.442Z"
   },
   {
    "duration": 387,
    "start_time": "2022-01-21T13:01:22.885Z"
   },
   {
    "duration": -46,
    "start_time": "2022-01-21T13:01:46.299Z"
   },
   {
    "duration": -60,
    "start_time": "2022-01-21T13:01:46.315Z"
   },
   {
    "duration": 10503,
    "start_time": "2022-01-21T13:01:52.655Z"
   },
   {
    "duration": 4,
    "start_time": "2022-01-21T13:03:25.525Z"
   },
   {
    "duration": 40,
    "start_time": "2022-01-21T13:03:27.643Z"
   },
   {
    "duration": 11,
    "start_time": "2022-01-21T13:04:37.755Z"
   },
   {
    "duration": 5,
    "start_time": "2022-01-21T13:05:02.191Z"
   },
   {
    "duration": 13,
    "start_time": "2022-01-21T13:05:03.315Z"
   },
   {
    "duration": 13,
    "start_time": "2022-01-21T13:06:27.456Z"
   },
   {
    "duration": 37,
    "start_time": "2022-01-21T13:07:31.082Z"
   },
   {
    "duration": 4,
    "start_time": "2022-01-21T13:16:07.079Z"
   },
   {
    "duration": 31,
    "start_time": "2022-01-21T13:16:53.743Z"
   },
   {
    "duration": 10,
    "start_time": "2022-01-21T13:19:25.666Z"
   },
   {
    "duration": 1706,
    "start_time": "2022-01-21T13:21:00.729Z"
   },
   {
    "duration": 35,
    "start_time": "2022-01-21T13:21:02.438Z"
   },
   {
    "duration": 183,
    "start_time": "2022-01-21T13:21:02.476Z"
   },
   {
    "duration": 22,
    "start_time": "2022-01-21T13:21:02.662Z"
   },
   {
    "duration": 130,
    "start_time": "2022-01-21T13:21:02.686Z"
   },
   {
    "duration": 18,
    "start_time": "2022-01-21T13:21:02.819Z"
   },
   {
    "duration": 33,
    "start_time": "2022-01-21T13:21:02.839Z"
   },
   {
    "duration": 8,
    "start_time": "2022-01-21T13:21:02.876Z"
   },
   {
    "duration": 48,
    "start_time": "2022-01-21T13:21:02.887Z"
   },
   {
    "duration": 8,
    "start_time": "2022-01-21T13:21:02.937Z"
   },
   {
    "duration": 332,
    "start_time": "2022-01-21T13:21:02.947Z"
   },
   {
    "duration": 228,
    "start_time": "2022-01-21T13:21:03.281Z"
   },
   {
    "duration": 152,
    "start_time": "2022-01-21T13:21:03.512Z"
   },
   {
    "duration": 14,
    "start_time": "2022-01-21T13:21:03.667Z"
   },
   {
    "duration": 19,
    "start_time": "2022-01-21T13:21:03.683Z"
   },
   {
    "duration": 4,
    "start_time": "2022-01-21T13:21:03.704Z"
   },
   {
    "duration": 81,
    "start_time": "2022-01-21T13:21:03.711Z"
   },
   {
    "duration": 35,
    "start_time": "2022-01-21T13:21:03.795Z"
   },
   {
    "duration": 50,
    "start_time": "2022-01-21T13:21:03.832Z"
   },
   {
    "duration": 9,
    "start_time": "2022-01-21T13:21:03.884Z"
   },
   {
    "duration": 4,
    "start_time": "2022-01-21T13:30:21.074Z"
   },
   {
    "duration": 1089,
    "start_time": "2022-01-21T13:30:45.714Z"
   },
   {
    "duration": 4,
    "start_time": "2022-01-21T13:30:50.288Z"
   },
   {
    "duration": 1085,
    "start_time": "2022-01-21T13:30:51.376Z"
   },
   {
    "duration": 4,
    "start_time": "2022-01-21T13:31:44.586Z"
   },
   {
    "duration": -89,
    "start_time": "2022-01-21T13:31:49.039Z"
   },
   {
    "duration": 6,
    "start_time": "2022-01-21T13:31:49.308Z"
   },
   {
    "duration": 4,
    "start_time": "2022-01-21T13:31:56.239Z"
   },
   {
    "duration": 3898,
    "start_time": "2022-01-21T13:31:58.016Z"
   },
   {
    "duration": 5,
    "start_time": "2022-01-21T13:32:16.441Z"
   },
   {
    "duration": 35,
    "start_time": "2022-01-21T13:32:18.537Z"
   },
   {
    "duration": 5,
    "start_time": "2022-01-21T13:32:33.621Z"
   },
   {
    "duration": 957,
    "start_time": "2022-01-21T13:32:35.217Z"
   },
   {
    "duration": 4,
    "start_time": "2022-01-21T13:33:40.154Z"
   },
   {
    "duration": 897,
    "start_time": "2022-01-21T13:33:42.904Z"
   },
   {
    "duration": 31,
    "start_time": "2022-01-21T13:35:23.849Z"
   },
   {
    "duration": 34,
    "start_time": "2022-01-21T13:35:35.543Z"
   },
   {
    "duration": 4,
    "start_time": "2022-01-21T13:36:33.476Z"
   },
   {
    "duration": 33,
    "start_time": "2022-01-21T13:36:36.313Z"
   },
   {
    "duration": 20,
    "start_time": "2022-01-21T13:36:52.544Z"
   },
   {
    "duration": 27,
    "start_time": "2022-01-21T13:40:06.363Z"
   },
   {
    "duration": 25,
    "start_time": "2022-01-21T13:40:43.954Z"
   },
   {
    "duration": 9,
    "start_time": "2022-01-21T13:41:14.173Z"
   },
   {
    "duration": 12,
    "start_time": "2022-01-21T13:58:39.908Z"
   },
   {
    "duration": 10,
    "start_time": "2022-01-21T13:58:57.824Z"
   },
   {
    "duration": 9,
    "start_time": "2022-01-21T14:00:17.192Z"
   },
   {
    "duration": 11,
    "start_time": "2022-01-21T14:00:28.222Z"
   },
   {
    "duration": 10,
    "start_time": "2022-01-21T14:04:46.902Z"
   },
   {
    "duration": 11,
    "start_time": "2022-01-21T14:05:04.650Z"
   },
   {
    "duration": 126,
    "start_time": "2022-01-21T14:05:59.846Z"
   },
   {
    "duration": 112,
    "start_time": "2022-01-21T14:06:26.304Z"
   },
   {
    "duration": 10,
    "start_time": "2022-01-21T14:06:34.871Z"
   },
   {
    "duration": 12,
    "start_time": "2022-01-21T14:06:53.212Z"
   },
   {
    "duration": 12,
    "start_time": "2022-01-21T14:07:30.110Z"
   },
   {
    "duration": 12,
    "start_time": "2022-01-21T14:07:39.845Z"
   },
   {
    "duration": 69,
    "start_time": "2022-01-21T14:09:44.490Z"
   },
   {
    "duration": 82,
    "start_time": "2022-01-21T14:09:54.398Z"
   },
   {
    "duration": 3,
    "start_time": "2022-01-21T14:13:20.769Z"
   },
   {
    "duration": 1644,
    "start_time": "2022-01-21T14:14:23.389Z"
   },
   {
    "duration": 38,
    "start_time": "2022-01-21T14:14:25.037Z"
   },
   {
    "duration": 189,
    "start_time": "2022-01-21T14:14:25.078Z"
   },
   {
    "duration": 22,
    "start_time": "2022-01-21T14:14:25.270Z"
   },
   {
    "duration": 134,
    "start_time": "2022-01-21T14:14:25.294Z"
   },
   {
    "duration": 28,
    "start_time": "2022-01-21T14:14:25.431Z"
   },
   {
    "duration": 26,
    "start_time": "2022-01-21T14:14:25.462Z"
   },
   {
    "duration": 8,
    "start_time": "2022-01-21T14:14:25.493Z"
   },
   {
    "duration": 49,
    "start_time": "2022-01-21T14:14:25.504Z"
   },
   {
    "duration": 8,
    "start_time": "2022-01-21T14:14:25.556Z"
   },
   {
    "duration": 323,
    "start_time": "2022-01-21T14:14:25.567Z"
   },
   {
    "duration": 248,
    "start_time": "2022-01-21T14:14:25.893Z"
   },
   {
    "duration": 159,
    "start_time": "2022-01-21T14:14:26.144Z"
   },
   {
    "duration": 15,
    "start_time": "2022-01-21T14:14:26.306Z"
   },
   {
    "duration": 42,
    "start_time": "2022-01-21T14:14:26.324Z"
   },
   {
    "duration": 4,
    "start_time": "2022-01-21T14:14:26.368Z"
   },
   {
    "duration": 47,
    "start_time": "2022-01-21T14:14:26.374Z"
   },
   {
    "duration": 55,
    "start_time": "2022-01-21T14:14:26.423Z"
   },
   {
    "duration": 28,
    "start_time": "2022-01-21T14:14:26.480Z"
   },
   {
    "duration": 9,
    "start_time": "2022-01-21T14:14:26.511Z"
   },
   {
    "duration": 39,
    "start_time": "2022-01-21T14:14:26.522Z"
   },
   {
    "duration": 37,
    "start_time": "2022-01-21T14:14:26.563Z"
   },
   {
    "duration": 28,
    "start_time": "2022-01-21T14:14:26.605Z"
   },
   {
    "duration": 45,
    "start_time": "2022-01-21T14:14:26.635Z"
   },
   {
    "duration": 8,
    "start_time": "2022-01-21T14:14:26.683Z"
   },
   {
    "duration": 18,
    "start_time": "2022-01-21T14:14:26.694Z"
   },
   {
    "duration": 44,
    "start_time": "2022-01-21T14:14:26.715Z"
   },
   {
    "duration": 4,
    "start_time": "2022-01-21T14:14:26.762Z"
   },
   {
    "duration": 119,
    "start_time": "2022-01-21T14:14:26.768Z"
   },
   {
    "duration": 10570,
    "start_time": "2022-01-21T14:14:26.890Z"
   },
   {
    "duration": 9970,
    "start_time": "2022-01-21T14:14:37.837Z"
   },
   {
    "duration": 1561,
    "start_time": "2022-01-21T14:15:13.471Z"
   },
   {
    "duration": 32,
    "start_time": "2022-01-21T14:15:15.035Z"
   },
   {
    "duration": 180,
    "start_time": "2022-01-21T14:15:15.070Z"
   },
   {
    "duration": 22,
    "start_time": "2022-01-21T14:15:15.258Z"
   },
   {
    "duration": 125,
    "start_time": "2022-01-21T14:15:15.282Z"
   },
   {
    "duration": 18,
    "start_time": "2022-01-21T14:15:15.410Z"
   },
   {
    "duration": 36,
    "start_time": "2022-01-21T14:15:15.431Z"
   },
   {
    "duration": 8,
    "start_time": "2022-01-21T14:15:15.471Z"
   },
   {
    "duration": 45,
    "start_time": "2022-01-21T14:15:15.482Z"
   },
   {
    "duration": 9,
    "start_time": "2022-01-21T14:15:15.529Z"
   },
   {
    "duration": 311,
    "start_time": "2022-01-21T14:15:15.540Z"
   },
   {
    "duration": 233,
    "start_time": "2022-01-21T14:15:15.853Z"
   },
   {
    "duration": 148,
    "start_time": "2022-01-21T14:15:16.088Z"
   },
   {
    "duration": 24,
    "start_time": "2022-01-21T14:15:16.239Z"
   },
   {
    "duration": 24,
    "start_time": "2022-01-21T14:15:16.266Z"
   },
   {
    "duration": 5,
    "start_time": "2022-01-21T14:15:16.293Z"
   },
   {
    "duration": 76,
    "start_time": "2022-01-21T14:15:16.301Z"
   },
   {
    "duration": 37,
    "start_time": "2022-01-21T14:15:16.380Z"
   },
   {
    "duration": 53,
    "start_time": "2022-01-21T14:15:16.419Z"
   },
   {
    "duration": 10,
    "start_time": "2022-01-21T14:15:16.475Z"
   },
   {
    "duration": 6,
    "start_time": "2022-01-21T14:15:16.487Z"
   },
   {
    "duration": 75,
    "start_time": "2022-01-21T14:15:16.495Z"
   },
   {
    "duration": 28,
    "start_time": "2022-01-21T14:15:16.575Z"
   },
   {
    "duration": 24,
    "start_time": "2022-01-21T14:15:16.606Z"
   },
   {
    "duration": 32,
    "start_time": "2022-01-21T14:15:16.632Z"
   },
   {
    "duration": 13,
    "start_time": "2022-01-21T14:15:16.666Z"
   },
   {
    "duration": 12,
    "start_time": "2022-01-21T14:15:16.681Z"
   },
   {
    "duration": 125,
    "start_time": "2022-01-21T14:15:16.696Z"
   },
   {
    "duration": 525,
    "start_time": "2022-01-21T14:15:16.824Z"
   },
   {
    "duration": 4,
    "start_time": "2022-01-21T14:15:25.772Z"
   },
   {
    "duration": 9263,
    "start_time": "2022-01-21T14:15:26.660Z"
   },
   {
    "duration": 295,
    "start_time": "2022-01-21T14:15:50.378Z"
   },
   {
    "duration": 350,
    "start_time": "2022-01-21T14:22:36.397Z"
   },
   {
    "duration": 139,
    "start_time": "2022-01-21T14:24:32.741Z"
   },
   {
    "duration": 85,
    "start_time": "2022-01-21T14:24:42.488Z"
   },
   {
    "duration": 116,
    "start_time": "2022-01-21T14:25:58.970Z"
   },
   {
    "duration": 91,
    "start_time": "2022-01-21T14:26:04.418Z"
   },
   {
    "duration": 101,
    "start_time": "2022-01-21T14:26:23.036Z"
   },
   {
    "duration": 82,
    "start_time": "2022-01-21T14:26:51.668Z"
   },
   {
    "duration": 83,
    "start_time": "2022-01-21T14:27:20.885Z"
   },
   {
    "duration": 50,
    "start_time": "2022-01-21T14:27:35.449Z"
   },
   {
    "duration": 359,
    "start_time": "2022-01-21T14:28:14.121Z"
   },
   {
    "duration": 519,
    "start_time": "2022-01-21T14:28:45.225Z"
   },
   {
    "duration": 20,
    "start_time": "2022-01-21T14:29:37.165Z"
   },
   {
    "duration": 327,
    "start_time": "2022-01-21T14:29:52.952Z"
   },
   {
    "duration": 333,
    "start_time": "2022-01-21T14:30:32.608Z"
   },
   {
    "duration": 297,
    "start_time": "2022-01-21T14:39:54.774Z"
   },
   {
    "duration": 4,
    "start_time": "2022-01-21T14:39:58.812Z"
   },
   {
    "duration": 305,
    "start_time": "2022-01-21T14:40:00.257Z"
   },
   {
    "duration": 1906,
    "start_time": "2022-01-21T14:41:46.034Z"
   },
   {
    "duration": 1753,
    "start_time": "2022-01-21T14:41:49.869Z"
   },
   {
    "duration": 41,
    "start_time": "2022-01-21T14:42:55.603Z"
   },
   {
    "duration": 38,
    "start_time": "2022-01-21T14:43:46.517Z"
   },
   {
    "duration": 41,
    "start_time": "2022-01-21T14:45:36.483Z"
   },
   {
    "duration": 362,
    "start_time": "2022-01-21T14:49:57.745Z"
   },
   {
    "duration": 75,
    "start_time": "2022-01-21T15:16:49.137Z"
   },
   {
    "duration": 42,
    "start_time": "2022-01-21T15:17:21.339Z"
   },
   {
    "duration": 34,
    "start_time": "2022-01-21T15:17:34.079Z"
   },
   {
    "duration": 5465,
    "start_time": "2022-01-21T15:20:15.057Z"
   },
   {
    "duration": 1669,
    "start_time": "2022-01-21T15:20:25.223Z"
   },
   {
    "duration": 29,
    "start_time": "2022-01-21T15:20:26.895Z"
   },
   {
    "duration": 206,
    "start_time": "2022-01-21T15:20:26.927Z"
   },
   {
    "duration": 31,
    "start_time": "2022-01-21T15:20:27.137Z"
   },
   {
    "duration": 143,
    "start_time": "2022-01-21T15:20:27.171Z"
   },
   {
    "duration": 19,
    "start_time": "2022-01-21T15:20:27.316Z"
   },
   {
    "duration": 34,
    "start_time": "2022-01-21T15:20:27.338Z"
   },
   {
    "duration": 8,
    "start_time": "2022-01-21T15:20:27.376Z"
   },
   {
    "duration": 44,
    "start_time": "2022-01-21T15:20:27.388Z"
   },
   {
    "duration": 8,
    "start_time": "2022-01-21T15:20:27.434Z"
   },
   {
    "duration": 328,
    "start_time": "2022-01-21T15:20:27.460Z"
   },
   {
    "duration": 227,
    "start_time": "2022-01-21T15:20:27.791Z"
   },
   {
    "duration": 146,
    "start_time": "2022-01-21T15:20:28.020Z"
   },
   {
    "duration": 13,
    "start_time": "2022-01-21T15:20:28.169Z"
   },
   {
    "duration": 20,
    "start_time": "2022-01-21T15:20:28.184Z"
   },
   {
    "duration": 4,
    "start_time": "2022-01-21T15:20:28.206Z"
   },
   {
    "duration": 84,
    "start_time": "2022-01-21T15:20:28.212Z"
   },
   {
    "duration": 63,
    "start_time": "2022-01-21T15:20:28.299Z"
   },
   {
    "duration": 28,
    "start_time": "2022-01-21T15:20:28.365Z"
   },
   {
    "duration": 9,
    "start_time": "2022-01-21T15:20:28.395Z"
   },
   {
    "duration": 5,
    "start_time": "2022-01-21T15:20:28.406Z"
   },
   {
    "duration": 72,
    "start_time": "2022-01-21T15:20:28.413Z"
   },
   {
    "duration": 27,
    "start_time": "2022-01-21T15:20:28.490Z"
   },
   {
    "duration": 48,
    "start_time": "2022-01-21T15:20:28.520Z"
   },
   {
    "duration": 9,
    "start_time": "2022-01-21T15:20:28.571Z"
   },
   {
    "duration": 16,
    "start_time": "2022-01-21T15:20:28.583Z"
   },
   {
    "duration": 12,
    "start_time": "2022-01-21T15:20:28.601Z"
   },
   {
    "duration": 127,
    "start_time": "2022-01-21T15:20:28.616Z"
   },
   {
    "duration": 54,
    "start_time": "2022-01-21T15:20:28.746Z"
   },
   {
    "duration": 56,
    "start_time": "2022-01-21T15:20:28.803Z"
   },
   {
    "duration": 1681,
    "start_time": "2022-01-21T15:20:28.861Z"
   },
   {
    "duration": 1410,
    "start_time": "2022-01-21T15:21:42.295Z"
   },
   {
    "duration": 1480,
    "start_time": "2022-01-21T15:21:45.204Z"
   },
   {
    "duration": 378,
    "start_time": "2022-01-21T15:22:22.575Z"
   },
   {
    "duration": 448,
    "start_time": "2022-01-21T15:25:06.893Z"
   },
   {
    "duration": 355,
    "start_time": "2022-01-21T15:28:43.484Z"
   },
   {
    "duration": 1789,
    "start_time": "2022-01-21T15:28:50.737Z"
   },
   {
    "duration": 42,
    "start_time": "2022-01-21T15:28:52.530Z"
   },
   {
    "duration": 188,
    "start_time": "2022-01-21T15:28:52.576Z"
   },
   {
    "duration": 24,
    "start_time": "2022-01-21T15:28:52.768Z"
   },
   {
    "duration": 144,
    "start_time": "2022-01-21T15:28:52.796Z"
   },
   {
    "duration": 29,
    "start_time": "2022-01-21T15:28:52.944Z"
   },
   {
    "duration": 29,
    "start_time": "2022-01-21T15:28:52.976Z"
   },
   {
    "duration": 8,
    "start_time": "2022-01-21T15:28:53.011Z"
   },
   {
    "duration": 80,
    "start_time": "2022-01-21T15:28:53.023Z"
   },
   {
    "duration": 8,
    "start_time": "2022-01-21T15:28:53.106Z"
   },
   {
    "duration": 306,
    "start_time": "2022-01-21T15:28:53.117Z"
   },
   {
    "duration": 234,
    "start_time": "2022-01-21T15:28:53.426Z"
   },
   {
    "duration": 144,
    "start_time": "2022-01-21T15:28:53.662Z"
   },
   {
    "duration": 14,
    "start_time": "2022-01-21T15:28:53.809Z"
   },
   {
    "duration": 38,
    "start_time": "2022-01-21T15:28:53.825Z"
   },
   {
    "duration": 4,
    "start_time": "2022-01-21T15:28:53.866Z"
   },
   {
    "duration": 45,
    "start_time": "2022-01-21T15:28:53.872Z"
   },
   {
    "duration": 63,
    "start_time": "2022-01-21T15:28:53.919Z"
   },
   {
    "duration": 29,
    "start_time": "2022-01-21T15:28:53.985Z"
   },
   {
    "duration": 9,
    "start_time": "2022-01-21T15:28:54.016Z"
   },
   {
    "duration": 32,
    "start_time": "2022-01-21T15:28:54.027Z"
   },
   {
    "duration": 38,
    "start_time": "2022-01-21T15:28:54.061Z"
   },
   {
    "duration": 26,
    "start_time": "2022-01-21T15:28:54.103Z"
   },
   {
    "duration": 44,
    "start_time": "2022-01-21T15:28:54.131Z"
   },
   {
    "duration": 8,
    "start_time": "2022-01-21T15:28:54.178Z"
   },
   {
    "duration": 12,
    "start_time": "2022-01-21T15:28:54.188Z"
   },
   {
    "duration": 10,
    "start_time": "2022-01-21T15:28:54.202Z"
   },
   {
    "duration": 122,
    "start_time": "2022-01-21T15:28:54.214Z"
   },
   {
    "duration": 52,
    "start_time": "2022-01-21T15:28:54.338Z"
   },
   {
    "duration": 39,
    "start_time": "2022-01-21T15:28:54.392Z"
   },
   {
    "duration": 980,
    "start_time": "2022-01-21T15:28:54.433Z"
   },
   {
    "duration": 426,
    "start_time": "2022-01-21T15:29:08.132Z"
   },
   {
    "duration": 35,
    "start_time": "2022-01-21T15:30:04.169Z"
   },
   {
    "duration": 380,
    "start_time": "2022-01-21T15:30:09.216Z"
   },
   {
    "duration": 1660,
    "start_time": "2022-01-21T15:30:18.275Z"
   },
   {
    "duration": 35,
    "start_time": "2022-01-21T15:30:19.938Z"
   },
   {
    "duration": 191,
    "start_time": "2022-01-21T15:30:19.976Z"
   },
   {
    "duration": 23,
    "start_time": "2022-01-21T15:30:20.169Z"
   },
   {
    "duration": 136,
    "start_time": "2022-01-21T15:30:20.194Z"
   },
   {
    "duration": 27,
    "start_time": "2022-01-21T15:30:20.332Z"
   },
   {
    "duration": 28,
    "start_time": "2022-01-21T15:30:20.361Z"
   },
   {
    "duration": 8,
    "start_time": "2022-01-21T15:30:20.393Z"
   },
   {
    "duration": 59,
    "start_time": "2022-01-21T15:30:20.404Z"
   },
   {
    "duration": 8,
    "start_time": "2022-01-21T15:30:20.465Z"
   },
   {
    "duration": 321,
    "start_time": "2022-01-21T15:30:20.476Z"
   },
   {
    "duration": 241,
    "start_time": "2022-01-21T15:30:20.800Z"
   },
   {
    "duration": 156,
    "start_time": "2022-01-21T15:30:21.044Z"
   },
   {
    "duration": 14,
    "start_time": "2022-01-21T15:30:21.202Z"
   },
   {
    "duration": 41,
    "start_time": "2022-01-21T15:30:21.218Z"
   },
   {
    "duration": 4,
    "start_time": "2022-01-21T15:30:21.262Z"
   },
   {
    "duration": 51,
    "start_time": "2022-01-21T15:30:21.269Z"
   },
   {
    "duration": 57,
    "start_time": "2022-01-21T15:30:21.322Z"
   },
   {
    "duration": 34,
    "start_time": "2022-01-21T15:30:21.383Z"
   },
   {
    "duration": 9,
    "start_time": "2022-01-21T15:30:21.420Z"
   },
   {
    "duration": 5,
    "start_time": "2022-01-21T15:30:21.459Z"
   },
   {
    "duration": 41,
    "start_time": "2022-01-21T15:30:21.467Z"
   },
   {
    "duration": 52,
    "start_time": "2022-01-21T15:30:21.513Z"
   },
   {
    "duration": 23,
    "start_time": "2022-01-21T15:30:21.568Z"
   },
   {
    "duration": 7,
    "start_time": "2022-01-21T15:30:21.593Z"
   },
   {
    "duration": 15,
    "start_time": "2022-01-21T15:30:21.602Z"
   },
   {
    "duration": 42,
    "start_time": "2022-01-21T15:30:21.619Z"
   },
   {
    "duration": 81,
    "start_time": "2022-01-21T15:30:21.664Z"
   },
   {
    "duration": 42,
    "start_time": "2022-01-21T15:30:21.759Z"
   },
   {
    "duration": 71,
    "start_time": "2022-01-21T15:30:21.804Z"
   },
   {
    "duration": 559,
    "start_time": "2022-01-21T15:30:21.879Z"
   },
   {
    "duration": 46,
    "start_time": "2022-01-21T15:36:15.017Z"
   },
   {
    "duration": 360,
    "start_time": "2022-01-21T15:39:02.374Z"
   },
   {
    "duration": 372,
    "start_time": "2022-01-21T15:39:35.605Z"
   },
   {
    "duration": 382,
    "start_time": "2022-01-21T15:40:10.584Z"
   },
   {
    "duration": 356,
    "start_time": "2022-01-21T15:40:59.305Z"
   },
   {
    "duration": 361,
    "start_time": "2022-01-21T15:41:18.497Z"
   },
   {
    "duration": 650,
    "start_time": "2022-01-21T15:43:41.196Z"
   },
   {
    "duration": 356,
    "start_time": "2022-01-21T15:44:22.533Z"
   },
   {
    "duration": 43,
    "start_time": "2022-01-21T15:45:07.147Z"
   },
   {
    "duration": 37,
    "start_time": "2022-01-21T15:45:25.606Z"
   },
   {
    "duration": 37,
    "start_time": "2022-01-21T15:45:41.387Z"
   },
   {
    "duration": 1294,
    "start_time": "2022-01-22T11:20:02.839Z"
   },
   {
    "duration": 1384,
    "start_time": "2022-01-22T11:20:12.082Z"
   },
   {
    "duration": 50,
    "start_time": "2022-01-22T11:31:36.114Z"
   },
   {
    "duration": 1706,
    "start_time": "2022-01-22T12:07:33.744Z"
   },
   {
    "duration": 31,
    "start_time": "2022-01-22T12:07:35.453Z"
   },
   {
    "duration": 184,
    "start_time": "2022-01-22T12:07:35.487Z"
   },
   {
    "duration": 21,
    "start_time": "2022-01-22T12:07:35.674Z"
   },
   {
    "duration": 134,
    "start_time": "2022-01-22T12:07:35.698Z"
   },
   {
    "duration": 30,
    "start_time": "2022-01-22T12:07:35.835Z"
   },
   {
    "duration": 27,
    "start_time": "2022-01-22T12:07:35.867Z"
   },
   {
    "duration": 28,
    "start_time": "2022-01-22T12:07:35.898Z"
   },
   {
    "duration": 48,
    "start_time": "2022-01-22T12:07:35.929Z"
   },
   {
    "duration": 9,
    "start_time": "2022-01-22T12:07:35.980Z"
   },
   {
    "duration": 331,
    "start_time": "2022-01-22T12:07:35.991Z"
   },
   {
    "duration": 225,
    "start_time": "2022-01-22T12:07:36.325Z"
   },
   {
    "duration": 145,
    "start_time": "2022-01-22T12:07:36.553Z"
   },
   {
    "duration": 15,
    "start_time": "2022-01-22T12:07:36.701Z"
   },
   {
    "duration": 46,
    "start_time": "2022-01-22T12:07:36.719Z"
   },
   {
    "duration": 5,
    "start_time": "2022-01-22T12:07:36.769Z"
   },
   {
    "duration": 45,
    "start_time": "2022-01-22T12:07:36.776Z"
   },
   {
    "duration": 62,
    "start_time": "2022-01-22T12:07:36.823Z"
   },
   {
    "duration": 27,
    "start_time": "2022-01-22T12:07:36.887Z"
   },
   {
    "duration": 10,
    "start_time": "2022-01-22T12:07:36.916Z"
   },
   {
    "duration": 36,
    "start_time": "2022-01-22T12:07:36.928Z"
   },
   {
    "duration": 35,
    "start_time": "2022-01-22T12:07:36.967Z"
   },
   {
    "duration": 29,
    "start_time": "2022-01-22T12:07:37.008Z"
   },
   {
    "duration": 42,
    "start_time": "2022-01-22T12:07:37.040Z"
   },
   {
    "duration": 8,
    "start_time": "2022-01-22T12:07:37.085Z"
   },
   {
    "duration": 15,
    "start_time": "2022-01-22T12:07:37.095Z"
   },
   {
    "duration": 11,
    "start_time": "2022-01-22T12:07:37.113Z"
   },
   {
    "duration": 132,
    "start_time": "2022-01-22T12:07:37.126Z"
   },
   {
    "duration": 5456,
    "start_time": "2022-01-22T12:07:31.804Z"
   },
   {
    "duration": 5455,
    "start_time": "2022-01-22T12:07:31.807Z"
   },
   {
    "duration": 5452,
    "start_time": "2022-01-22T12:07:31.811Z"
   },
   {
    "duration": 114,
    "start_time": "2022-01-22T12:08:03.703Z"
   },
   {
    "duration": 98,
    "start_time": "2022-01-22T12:08:22.301Z"
   },
   {
    "duration": 99,
    "start_time": "2022-01-22T12:08:30.443Z"
   },
   {
    "duration": 56,
    "start_time": "2022-01-22T12:08:46.344Z"
   },
   {
    "duration": 1501,
    "start_time": "2022-01-22T12:08:56.526Z"
   },
   {
    "duration": 26,
    "start_time": "2022-01-22T12:08:58.029Z"
   },
   {
    "duration": 180,
    "start_time": "2022-01-22T12:08:58.066Z"
   },
   {
    "duration": 30,
    "start_time": "2022-01-22T12:08:58.249Z"
   },
   {
    "duration": 135,
    "start_time": "2022-01-22T12:08:58.282Z"
   },
   {
    "duration": 20,
    "start_time": "2022-01-22T12:08:58.420Z"
   },
   {
    "duration": 35,
    "start_time": "2022-01-22T12:08:58.442Z"
   },
   {
    "duration": 9,
    "start_time": "2022-01-22T12:08:58.483Z"
   },
   {
    "duration": 47,
    "start_time": "2022-01-22T12:08:58.495Z"
   },
   {
    "duration": 21,
    "start_time": "2022-01-22T12:08:58.544Z"
   },
   {
    "duration": 324,
    "start_time": "2022-01-22T12:08:58.567Z"
   },
   {
    "duration": 231,
    "start_time": "2022-01-22T12:08:58.894Z"
   },
   {
    "duration": 143,
    "start_time": "2022-01-22T12:08:59.127Z"
   },
   {
    "duration": 16,
    "start_time": "2022-01-22T12:08:59.273Z"
   },
   {
    "duration": 32,
    "start_time": "2022-01-22T12:08:59.291Z"
   },
   {
    "duration": 11,
    "start_time": "2022-01-22T12:08:59.325Z"
   },
   {
    "duration": 61,
    "start_time": "2022-01-22T12:08:59.339Z"
   },
   {
    "duration": 33,
    "start_time": "2022-01-22T12:08:59.403Z"
   },
   {
    "duration": 52,
    "start_time": "2022-01-22T12:08:59.439Z"
   },
   {
    "duration": 10,
    "start_time": "2022-01-22T12:08:59.494Z"
   },
   {
    "duration": 11,
    "start_time": "2022-01-22T12:08:59.507Z"
   },
   {
    "duration": 68,
    "start_time": "2022-01-22T12:08:59.520Z"
   },
   {
    "duration": 29,
    "start_time": "2022-01-22T12:08:59.594Z"
   },
   {
    "duration": 44,
    "start_time": "2022-01-22T12:08:59.626Z"
   },
   {
    "duration": 8,
    "start_time": "2022-01-22T12:08:59.672Z"
   },
   {
    "duration": 15,
    "start_time": "2022-01-22T12:08:59.682Z"
   },
   {
    "duration": 14,
    "start_time": "2022-01-22T12:08:59.700Z"
   },
   {
    "duration": 99,
    "start_time": "2022-01-22T12:08:59.717Z"
   },
   {
    "duration": 63,
    "start_time": "2022-01-22T12:08:59.819Z"
   },
   {
    "duration": 42,
    "start_time": "2022-01-22T12:08:59.885Z"
   },
   {
    "duration": 68,
    "start_time": "2022-01-22T12:08:59.929Z"
   },
   {
    "duration": 28,
    "start_time": "2022-01-22T12:09:43.349Z"
   },
   {
    "duration": 29,
    "start_time": "2022-01-22T12:09:59.221Z"
   },
   {
    "duration": 1600,
    "start_time": "2022-01-22T12:10:32.134Z"
   },
   {
    "duration": 31,
    "start_time": "2022-01-22T12:10:33.737Z"
   },
   {
    "duration": 188,
    "start_time": "2022-01-22T12:10:33.771Z"
   },
   {
    "duration": 22,
    "start_time": "2022-01-22T12:10:33.966Z"
   },
   {
    "duration": 136,
    "start_time": "2022-01-22T12:10:33.990Z"
   },
   {
    "duration": 17,
    "start_time": "2022-01-22T12:10:34.128Z"
   },
   {
    "duration": 42,
    "start_time": "2022-01-22T12:10:34.148Z"
   },
   {
    "duration": 11,
    "start_time": "2022-01-22T12:10:34.196Z"
   },
   {
    "duration": 46,
    "start_time": "2022-01-22T12:10:34.211Z"
   },
   {
    "duration": 9,
    "start_time": "2022-01-22T12:10:34.261Z"
   },
   {
    "duration": 329,
    "start_time": "2022-01-22T12:10:34.272Z"
   },
   {
    "duration": 227,
    "start_time": "2022-01-22T12:10:34.603Z"
   },
   {
    "duration": 155,
    "start_time": "2022-01-22T12:10:34.833Z"
   },
   {
    "duration": 14,
    "start_time": "2022-01-22T12:10:34.991Z"
   },
   {
    "duration": 21,
    "start_time": "2022-01-22T12:10:35.008Z"
   },
   {
    "duration": 4,
    "start_time": "2022-01-22T12:10:35.032Z"
   },
   {
    "duration": 74,
    "start_time": "2022-01-22T12:10:35.038Z"
   },
   {
    "duration": 60,
    "start_time": "2022-01-22T12:10:35.115Z"
   },
   {
    "duration": 29,
    "start_time": "2022-01-22T12:10:35.177Z"
   },
   {
    "duration": 9,
    "start_time": "2022-01-22T12:10:35.208Z"
   },
   {
    "duration": 45,
    "start_time": "2022-01-22T12:10:35.220Z"
   },
   {
    "duration": 34,
    "start_time": "2022-01-22T12:10:35.268Z"
   },
   {
    "duration": 57,
    "start_time": "2022-01-22T12:10:35.307Z"
   },
   {
    "duration": 23,
    "start_time": "2022-01-22T12:10:35.367Z"
   },
   {
    "duration": 7,
    "start_time": "2022-01-22T12:10:35.393Z"
   },
   {
    "duration": 19,
    "start_time": "2022-01-22T12:10:35.403Z"
   },
   {
    "duration": 47,
    "start_time": "2022-01-22T12:10:35.425Z"
   },
   {
    "duration": 58,
    "start_time": "2022-01-22T12:10:35.474Z"
   },
   {
    "duration": 66,
    "start_time": "2022-01-22T12:10:35.535Z"
   },
   {
    "duration": 40,
    "start_time": "2022-01-22T12:10:35.603Z"
   },
   {
    "duration": 597,
    "start_time": "2022-01-22T12:10:35.646Z"
   },
   {
    "duration": 27,
    "start_time": "2022-01-22T12:10:54.610Z"
   },
   {
    "duration": 44,
    "start_time": "2022-01-22T12:11:56.755Z"
   },
   {
    "duration": 38,
    "start_time": "2022-01-22T12:15:23.710Z"
   },
   {
    "duration": 50,
    "start_time": "2022-01-22T12:15:34.109Z"
   },
   {
    "duration": 333,
    "start_time": "2022-01-22T12:16:22.852Z"
   },
   {
    "duration": 52,
    "start_time": "2022-01-22T12:16:30.192Z"
   },
   {
    "duration": 26,
    "start_time": "2022-01-22T12:28:14.298Z"
   },
   {
    "duration": 58,
    "start_time": "2022-01-22T12:29:28.650Z"
   },
   {
    "duration": 34,
    "start_time": "2022-01-22T12:31:42.175Z"
   },
   {
    "duration": 288,
    "start_time": "2022-01-22T12:38:56.943Z"
   },
   {
    "duration": 1521,
    "start_time": "2022-01-22T12:39:06.906Z"
   },
   {
    "duration": 43,
    "start_time": "2022-01-22T12:39:08.430Z"
   },
   {
    "duration": 178,
    "start_time": "2022-01-22T12:39:08.479Z"
   },
   {
    "duration": 22,
    "start_time": "2022-01-22T12:39:08.664Z"
   },
   {
    "duration": 128,
    "start_time": "2022-01-22T12:39:08.689Z"
   },
   {
    "duration": 18,
    "start_time": "2022-01-22T12:39:08.819Z"
   },
   {
    "duration": 27,
    "start_time": "2022-01-22T12:39:08.841Z"
   },
   {
    "duration": 12,
    "start_time": "2022-01-22T12:39:08.872Z"
   },
   {
    "duration": 48,
    "start_time": "2022-01-22T12:39:08.887Z"
   },
   {
    "duration": 9,
    "start_time": "2022-01-22T12:39:08.937Z"
   },
   {
    "duration": 317,
    "start_time": "2022-01-22T12:39:08.948Z"
   },
   {
    "duration": 256,
    "start_time": "2022-01-22T12:39:09.267Z"
   },
   {
    "duration": 187,
    "start_time": "2022-01-22T12:39:09.525Z"
   },
   {
    "duration": 15,
    "start_time": "2022-01-22T12:39:09.715Z"
   },
   {
    "duration": 54,
    "start_time": "2022-01-22T12:39:09.734Z"
   },
   {
    "duration": 6,
    "start_time": "2022-01-22T12:39:09.791Z"
   },
   {
    "duration": 183,
    "start_time": "2022-01-22T12:39:09.800Z"
   },
   {
    "duration": 88,
    "start_time": "2022-01-22T12:39:09.985Z"
   },
   {
    "duration": 93,
    "start_time": "2022-01-22T12:39:10.077Z"
   },
   {
    "duration": 13,
    "start_time": "2022-01-22T12:39:10.173Z"
   },
   {
    "duration": 6,
    "start_time": "2022-01-22T12:39:10.190Z"
   },
   {
    "duration": 95,
    "start_time": "2022-01-22T12:39:10.203Z"
   },
   {
    "duration": 75,
    "start_time": "2022-01-22T12:39:10.302Z"
   },
   {
    "duration": 31,
    "start_time": "2022-01-22T12:39:10.380Z"
   },
   {
    "duration": 10,
    "start_time": "2022-01-22T12:39:10.414Z"
   },
   {
    "duration": 15,
    "start_time": "2022-01-22T12:39:10.465Z"
   },
   {
    "duration": 14,
    "start_time": "2022-01-22T12:39:10.484Z"
   },
   {
    "duration": 96,
    "start_time": "2022-01-22T12:39:10.501Z"
   },
   {
    "duration": 43,
    "start_time": "2022-01-22T12:39:10.600Z"
   },
   {
    "duration": 44,
    "start_time": "2022-01-22T12:39:10.666Z"
   },
   {
    "duration": 87,
    "start_time": "2022-01-22T12:39:10.714Z"
   },
   {
    "duration": 26,
    "start_time": "2022-01-22T12:39:10.804Z"
   },
   {
    "duration": 5,
    "start_time": "2022-01-22T12:39:10.832Z"
   },
   {
    "duration": 680,
    "start_time": "2022-01-22T12:39:35.871Z"
   },
   {
    "duration": 573,
    "start_time": "2022-01-22T12:39:44.074Z"
   },
   {
    "duration": 5,
    "start_time": "2022-01-22T12:39:50.432Z"
   },
   {
    "duration": 458,
    "start_time": "2022-01-22T12:49:10.329Z"
   },
   {
    "duration": 5406,
    "start_time": "2022-01-22T12:49:32.900Z"
   },
   {
    "duration": 131,
    "start_time": "2022-01-22T12:53:40.168Z"
   },
   {
    "duration": 173,
    "start_time": "2022-01-22T12:54:12.340Z"
   },
   {
    "duration": 152,
    "start_time": "2022-01-22T12:54:28.337Z"
   },
   {
    "duration": 103,
    "start_time": "2022-01-22T12:55:56.360Z"
   },
   {
    "duration": 161,
    "start_time": "2022-01-22T12:57:35.523Z"
   },
   {
    "duration": 71,
    "start_time": "2022-01-23T11:10:23.814Z"
   },
   {
    "duration": 643,
    "start_time": "2022-01-23T11:15:42.621Z"
   },
   {
    "duration": 1202,
    "start_time": "2022-01-23T11:15:43.611Z"
   },
   {
    "duration": 20,
    "start_time": "2022-01-23T11:15:44.815Z"
   },
   {
    "duration": 127,
    "start_time": "2022-01-23T11:15:44.837Z"
   },
   {
    "duration": 17,
    "start_time": "2022-01-23T11:15:44.966Z"
   },
   {
    "duration": 95,
    "start_time": "2022-01-23T11:15:44.985Z"
   },
   {
    "duration": 13,
    "start_time": "2022-01-23T11:15:45.082Z"
   },
   {
    "duration": 22,
    "start_time": "2022-01-23T11:15:45.097Z"
   },
   {
    "duration": 6,
    "start_time": "2022-01-23T11:15:45.121Z"
   },
   {
    "duration": 33,
    "start_time": "2022-01-23T11:15:45.129Z"
   },
   {
    "duration": 5,
    "start_time": "2022-01-23T11:15:45.164Z"
   },
   {
    "duration": 210,
    "start_time": "2022-01-23T11:15:45.170Z"
   },
   {
    "duration": 145,
    "start_time": "2022-01-23T11:15:45.382Z"
   },
   {
    "duration": 94,
    "start_time": "2022-01-23T11:15:45.528Z"
   },
   {
    "duration": 8,
    "start_time": "2022-01-23T11:15:45.624Z"
   },
   {
    "duration": 11,
    "start_time": "2022-01-23T11:15:45.634Z"
   },
   {
    "duration": 4,
    "start_time": "2022-01-23T11:15:45.647Z"
   },
   {
    "duration": 61,
    "start_time": "2022-01-23T11:15:45.652Z"
   },
   {
    "duration": 24,
    "start_time": "2022-01-23T11:15:45.715Z"
   },
   {
    "duration": 19,
    "start_time": "2022-01-23T11:15:45.740Z"
   },
   {
    "duration": 7,
    "start_time": "2022-01-23T11:15:45.760Z"
   },
   {
    "duration": 4,
    "start_time": "2022-01-23T11:15:45.769Z"
   },
   {
    "duration": 56,
    "start_time": "2022-01-23T11:15:45.775Z"
   },
   {
    "duration": 18,
    "start_time": "2022-01-23T11:15:45.834Z"
   },
   {
    "duration": 17,
    "start_time": "2022-01-23T11:15:45.854Z"
   },
   {
    "duration": 6,
    "start_time": "2022-01-23T11:15:45.873Z"
   },
   {
    "duration": 37,
    "start_time": "2022-01-23T11:15:45.881Z"
   },
   {
    "duration": 9,
    "start_time": "2022-01-23T11:15:45.920Z"
   },
   {
    "duration": 40,
    "start_time": "2022-01-23T11:15:45.931Z"
   },
   {
    "duration": 59,
    "start_time": "2022-01-23T11:15:45.973Z"
   },
   {
    "duration": 28,
    "start_time": "2022-01-23T11:15:46.034Z"
   },
   {
    "duration": 27,
    "start_time": "2022-01-23T11:15:46.064Z"
   },
   {
    "duration": 16,
    "start_time": "2022-01-23T11:15:46.113Z"
   },
   {
    "duration": 60,
    "start_time": "2022-01-23T11:15:46.131Z"
   },
   {
    "duration": 11960,
    "start_time": "2022-01-23T11:15:34.233Z"
   },
   {
    "duration": 239,
    "start_time": "2022-01-23T11:15:47.230Z"
   },
   {
    "duration": 78,
    "start_time": "2022-01-23T11:17:20.105Z"
   },
   {
    "duration": 68,
    "start_time": "2022-01-23T11:17:31.678Z"
   },
   {
    "duration": 232,
    "start_time": "2022-01-23T11:17:33.786Z"
   },
   {
    "duration": 69,
    "start_time": "2022-01-23T11:18:38.474Z"
   },
   {
    "duration": 69,
    "start_time": "2022-01-23T11:18:42.008Z"
   },
   {
    "duration": 190,
    "start_time": "2022-01-23T11:20:34.391Z"
   },
   {
    "duration": 5567,
    "start_time": "2022-01-23T11:21:43.506Z"
   },
   {
    "duration": 11908,
    "start_time": "2022-01-23T11:21:37.167Z"
   },
   {
    "duration": 79,
    "start_time": "2022-01-23T11:22:21.504Z"
   },
   {
    "duration": 69,
    "start_time": "2022-01-23T11:22:26.733Z"
   },
   {
    "duration": 6988,
    "start_time": "2022-01-23T11:22:28.483Z"
   },
   {
    "duration": 71,
    "start_time": "2022-01-23T11:22:54.401Z"
   },
   {
    "duration": 69,
    "start_time": "2022-01-23T11:22:57.773Z"
   },
   {
    "duration": 1546,
    "start_time": "2022-01-24T11:36:13.966Z"
   },
   {
    "duration": 53,
    "start_time": "2022-01-24T11:36:15.515Z"
   },
   {
    "duration": 231,
    "start_time": "2022-01-24T11:36:15.572Z"
   },
   {
    "duration": 35,
    "start_time": "2022-01-24T11:36:15.805Z"
   },
   {
    "duration": 176,
    "start_time": "2022-01-24T11:36:15.843Z"
   },
   {
    "duration": 27,
    "start_time": "2022-01-24T11:36:16.021Z"
   },
   {
    "duration": 25,
    "start_time": "2022-01-24T11:36:16.050Z"
   },
   {
    "duration": 8,
    "start_time": "2022-01-24T11:36:16.080Z"
   },
   {
    "duration": 49,
    "start_time": "2022-01-24T11:36:16.091Z"
   },
   {
    "duration": 9,
    "start_time": "2022-01-24T11:36:16.143Z"
   },
   {
    "duration": 324,
    "start_time": "2022-01-24T11:36:16.155Z"
   },
   {
    "duration": 232,
    "start_time": "2022-01-24T11:36:16.482Z"
   },
   {
    "duration": 152,
    "start_time": "2022-01-24T11:36:16.717Z"
   },
   {
    "duration": 13,
    "start_time": "2022-01-24T11:36:16.871Z"
   },
   {
    "duration": 45,
    "start_time": "2022-01-24T11:36:16.887Z"
   },
   {
    "duration": 5,
    "start_time": "2022-01-24T11:36:16.934Z"
   },
   {
    "duration": 53,
    "start_time": "2022-01-24T11:36:16.941Z"
   },
   {
    "duration": 55,
    "start_time": "2022-01-24T11:36:16.997Z"
   },
   {
    "duration": 28,
    "start_time": "2022-01-24T11:36:17.054Z"
   },
   {
    "duration": 8,
    "start_time": "2022-01-24T11:36:17.084Z"
   },
   {
    "duration": 39,
    "start_time": "2022-01-24T11:36:17.094Z"
   },
   {
    "duration": 42,
    "start_time": "2022-01-24T11:36:17.135Z"
   },
   {
    "duration": 52,
    "start_time": "2022-01-24T11:36:17.182Z"
   },
   {
    "duration": 25,
    "start_time": "2022-01-24T11:36:17.236Z"
   },
   {
    "duration": 8,
    "start_time": "2022-01-24T11:36:17.263Z"
   },
   {
    "duration": 16,
    "start_time": "2022-01-24T11:36:17.274Z"
   },
   {
    "duration": 44,
    "start_time": "2022-01-24T11:36:17.293Z"
   },
   {
    "duration": 58,
    "start_time": "2022-01-24T11:36:17.339Z"
   },
   {
    "duration": 88,
    "start_time": "2022-01-24T11:36:17.400Z"
   },
   {
    "duration": 63,
    "start_time": "2022-01-24T11:36:17.491Z"
   },
   {
    "duration": 75,
    "start_time": "2022-01-24T11:36:17.557Z"
   },
   {
    "duration": 37,
    "start_time": "2022-01-24T11:36:17.635Z"
   },
   {
    "duration": 11,
    "start_time": "2022-01-24T11:36:17.675Z"
   },
   {
    "duration": 7693,
    "start_time": "2022-01-24T11:36:24.592Z"
   },
   {
    "duration": 18305,
    "start_time": "2022-01-24T11:36:13.983Z"
   },
   {
    "duration": 510,
    "start_time": "2022-01-24T11:36:52.891Z"
   },
   {
    "duration": 528,
    "start_time": "2022-01-24T11:36:57.687Z"
   },
   {
    "duration": 8,
    "start_time": "2022-01-24T11:36:59.050Z"
   },
   {
    "duration": 536,
    "start_time": "2022-01-24T11:37:54.823Z"
   },
   {
    "duration": 6,
    "start_time": "2022-01-24T11:38:33.824Z"
   },
   {
    "duration": 9,
    "start_time": "2022-01-24T11:38:50.831Z"
   },
   {
    "duration": 501,
    "start_time": "2022-01-24T11:38:54.037Z"
   },
   {
    "duration": 501,
    "start_time": "2022-01-24T11:39:26.036Z"
   },
   {
    "duration": 506,
    "start_time": "2022-01-24T11:40:06.075Z"
   },
   {
    "duration": 543,
    "start_time": "2022-01-24T11:40:34.245Z"
   },
   {
    "duration": 1632,
    "start_time": "2022-01-24T11:40:44.539Z"
   },
   {
    "duration": 27,
    "start_time": "2022-01-24T11:40:46.174Z"
   },
   {
    "duration": 193,
    "start_time": "2022-01-24T11:40:46.204Z"
   },
   {
    "duration": 34,
    "start_time": "2022-01-24T11:40:46.400Z"
   },
   {
    "duration": 129,
    "start_time": "2022-01-24T11:40:46.437Z"
   },
   {
    "duration": 28,
    "start_time": "2022-01-24T11:40:46.569Z"
   },
   {
    "duration": 34,
    "start_time": "2022-01-24T11:40:46.600Z"
   },
   {
    "duration": 13,
    "start_time": "2022-01-24T11:40:46.638Z"
   },
   {
    "duration": 43,
    "start_time": "2022-01-24T11:40:46.654Z"
   },
   {
    "duration": 9,
    "start_time": "2022-01-24T11:40:46.700Z"
   },
   {
    "duration": 330,
    "start_time": "2022-01-24T11:40:46.712Z"
   },
   {
    "duration": 233,
    "start_time": "2022-01-24T11:40:47.045Z"
   },
   {
    "duration": 141,
    "start_time": "2022-01-24T11:40:47.281Z"
   },
   {
    "duration": 14,
    "start_time": "2022-01-24T11:40:47.444Z"
   },
   {
    "duration": 26,
    "start_time": "2022-01-24T11:40:47.460Z"
   },
   {
    "duration": 5,
    "start_time": "2022-01-24T11:40:47.488Z"
   },
   {
    "duration": 59,
    "start_time": "2022-01-24T11:40:47.495Z"
   },
   {
    "duration": 37,
    "start_time": "2022-01-24T11:40:47.556Z"
   },
   {
    "duration": 57,
    "start_time": "2022-01-24T11:40:47.596Z"
   },
   {
    "duration": 10,
    "start_time": "2022-01-24T11:40:47.655Z"
   },
   {
    "duration": 7,
    "start_time": "2022-01-24T11:40:47.668Z"
   },
   {
    "duration": 68,
    "start_time": "2022-01-24T11:40:47.678Z"
   },
   {
    "duration": 33,
    "start_time": "2022-01-24T11:40:47.753Z"
   },
   {
    "duration": 55,
    "start_time": "2022-01-24T11:40:47.789Z"
   },
   {
    "duration": 7,
    "start_time": "2022-01-24T11:40:47.847Z"
   },
   {
    "duration": 18,
    "start_time": "2022-01-24T11:40:47.857Z"
   },
   {
    "duration": 14,
    "start_time": "2022-01-24T11:40:47.878Z"
   },
   {
    "duration": 111,
    "start_time": "2022-01-24T11:40:47.895Z"
   },
   {
    "duration": 69,
    "start_time": "2022-01-24T11:40:48.009Z"
   },
   {
    "duration": 54,
    "start_time": "2022-01-24T11:40:48.082Z"
   },
   {
    "duration": 45,
    "start_time": "2022-01-24T11:40:48.139Z"
   },
   {
    "duration": 54,
    "start_time": "2022-01-24T11:40:48.187Z"
   },
   {
    "duration": 9,
    "start_time": "2022-01-24T11:40:48.243Z"
   },
   {
    "duration": 677,
    "start_time": "2022-01-24T11:40:48.254Z"
   },
   {
    "duration": 8,
    "start_time": "2022-01-24T11:41:22.563Z"
   },
   {
    "duration": 414,
    "start_time": "2022-01-24T11:41:25.798Z"
   },
   {
    "duration": 442,
    "start_time": "2022-01-24T12:03:10.487Z"
   },
   {
    "duration": 12,
    "start_time": "2022-01-24T12:08:08.479Z"
   },
   {
    "duration": 6,
    "start_time": "2022-01-24T12:10:22.355Z"
   },
   {
    "duration": 311,
    "start_time": "2022-01-24T12:10:38.555Z"
   },
   {
    "duration": 246,
    "start_time": "2022-01-24T12:14:03.023Z"
   },
   {
    "duration": 458,
    "start_time": "2022-01-24T12:14:12.217Z"
   },
   {
    "duration": 432,
    "start_time": "2022-01-24T12:14:20.610Z"
   },
   {
    "duration": 12,
    "start_time": "2022-01-24T12:15:02.946Z"
   },
   {
    "duration": 7,
    "start_time": "2022-01-24T12:20:03.582Z"
   },
   {
    "duration": 8,
    "start_time": "2022-01-24T12:20:08.902Z"
   },
   {
    "duration": 9,
    "start_time": "2022-01-24T12:20:30.118Z"
   },
   {
    "duration": 268,
    "start_time": "2022-01-24T12:23:23.589Z"
   },
   {
    "duration": 1722,
    "start_time": "2022-01-24T12:23:36.444Z"
   },
   {
    "duration": 27,
    "start_time": "2022-01-24T12:23:38.169Z"
   },
   {
    "duration": 238,
    "start_time": "2022-01-24T12:23:38.198Z"
   },
   {
    "duration": 33,
    "start_time": "2022-01-24T12:23:38.440Z"
   },
   {
    "duration": 151,
    "start_time": "2022-01-24T12:23:38.476Z"
   },
   {
    "duration": 26,
    "start_time": "2022-01-24T12:23:38.633Z"
   },
   {
    "duration": 25,
    "start_time": "2022-01-24T12:23:38.662Z"
   },
   {
    "duration": 8,
    "start_time": "2022-01-24T12:23:38.691Z"
   },
   {
    "duration": 60,
    "start_time": "2022-01-24T12:23:38.703Z"
   },
   {
    "duration": 9,
    "start_time": "2022-01-24T12:23:38.766Z"
   },
   {
    "duration": 387,
    "start_time": "2022-01-24T12:23:38.778Z"
   },
   {
    "duration": 272,
    "start_time": "2022-01-24T12:23:39.168Z"
   },
   {
    "duration": 158,
    "start_time": "2022-01-24T12:23:39.445Z"
   },
   {
    "duration": 28,
    "start_time": "2022-01-24T12:23:39.605Z"
   },
   {
    "duration": 33,
    "start_time": "2022-01-24T12:23:39.642Z"
   },
   {
    "duration": 4,
    "start_time": "2022-01-24T12:23:39.678Z"
   },
   {
    "duration": 70,
    "start_time": "2022-01-24T12:23:39.684Z"
   },
   {
    "duration": 35,
    "start_time": "2022-01-24T12:23:39.757Z"
   },
   {
    "duration": 57,
    "start_time": "2022-01-24T12:23:39.795Z"
   },
   {
    "duration": 15,
    "start_time": "2022-01-24T12:23:39.855Z"
   },
   {
    "duration": 9,
    "start_time": "2022-01-24T12:23:39.873Z"
   },
   {
    "duration": 71,
    "start_time": "2022-01-24T12:23:39.885Z"
   },
   {
    "duration": 26,
    "start_time": "2022-01-24T12:23:39.961Z"
   },
   {
    "duration": 46,
    "start_time": "2022-01-24T12:23:39.989Z"
   },
   {
    "duration": 16,
    "start_time": "2022-01-24T12:23:40.038Z"
   },
   {
    "duration": 21,
    "start_time": "2022-01-24T12:23:40.058Z"
   },
   {
    "duration": 12,
    "start_time": "2022-01-24T12:23:40.082Z"
   },
   {
    "duration": 101,
    "start_time": "2022-01-24T12:23:40.097Z"
   },
   {
    "duration": 83,
    "start_time": "2022-01-24T12:23:40.201Z"
   },
   {
    "duration": 69,
    "start_time": "2022-01-24T12:23:40.286Z"
   },
   {
    "duration": 68,
    "start_time": "2022-01-24T12:23:40.360Z"
   },
   {
    "duration": 49,
    "start_time": "2022-01-24T12:23:40.437Z"
   },
   {
    "duration": 13,
    "start_time": "2022-01-24T12:23:40.489Z"
   },
   {
    "duration": 533,
    "start_time": "2022-01-24T12:23:40.505Z"
   },
   {
    "duration": 17,
    "start_time": "2022-01-24T12:23:41.042Z"
   },
   {
    "duration": 5,
    "start_time": "2022-01-24T12:23:41.062Z"
   },
   {
    "duration": 353,
    "start_time": "2022-01-24T12:23:41.069Z"
   },
   {
    "duration": 18,
    "start_time": "2022-01-24T12:23:41.425Z"
   },
   {
    "duration": 446,
    "start_time": "2022-01-24T12:23:41.446Z"
   },
   {
    "duration": 296,
    "start_time": "2022-01-24T12:24:23.120Z"
   },
   {
    "duration": 71,
    "start_time": "2022-01-24T12:24:53.283Z"
   },
   {
    "duration": 69,
    "start_time": "2022-01-24T12:27:19.354Z"
   },
   {
    "duration": 339,
    "start_time": "2022-01-24T12:27:50.537Z"
   },
   {
    "duration": 69,
    "start_time": "2022-01-24T12:28:57.884Z"
   },
   {
    "duration": 294,
    "start_time": "2022-01-24T12:29:13.286Z"
   },
   {
    "duration": 523,
    "start_time": "2022-01-24T12:29:53.748Z"
   },
   {
    "duration": 1575,
    "start_time": "2022-01-24T12:31:08.848Z"
   },
   {
    "duration": 28,
    "start_time": "2022-01-24T12:31:10.438Z"
   },
   {
    "duration": 183,
    "start_time": "2022-01-24T12:31:10.469Z"
   },
   {
    "duration": 22,
    "start_time": "2022-01-24T12:31:10.655Z"
   },
   {
    "duration": 138,
    "start_time": "2022-01-24T12:31:10.679Z"
   },
   {
    "duration": 23,
    "start_time": "2022-01-24T12:31:10.819Z"
   },
   {
    "duration": 24,
    "start_time": "2022-01-24T12:31:10.845Z"
   },
   {
    "duration": 11,
    "start_time": "2022-01-24T12:31:10.873Z"
   },
   {
    "duration": 59,
    "start_time": "2022-01-24T12:31:10.887Z"
   },
   {
    "duration": 9,
    "start_time": "2022-01-24T12:31:10.949Z"
   },
   {
    "duration": 330,
    "start_time": "2022-01-24T12:31:10.961Z"
   },
   {
    "duration": 277,
    "start_time": "2022-01-24T12:31:11.294Z"
   },
   {
    "duration": 170,
    "start_time": "2022-01-24T12:31:11.573Z"
   },
   {
    "duration": 16,
    "start_time": "2022-01-24T12:31:11.749Z"
   },
   {
    "duration": 17,
    "start_time": "2022-01-24T12:31:11.768Z"
   },
   {
    "duration": 4,
    "start_time": "2022-01-24T12:31:11.787Z"
   },
   {
    "duration": 87,
    "start_time": "2022-01-24T12:31:11.794Z"
   },
   {
    "duration": 50,
    "start_time": "2022-01-24T12:31:11.884Z"
   },
   {
    "duration": 31,
    "start_time": "2022-01-24T12:31:11.936Z"
   },
   {
    "duration": 8,
    "start_time": "2022-01-24T12:31:11.969Z"
   },
   {
    "duration": 10,
    "start_time": "2022-01-24T12:31:11.979Z"
   },
   {
    "duration": 67,
    "start_time": "2022-01-24T12:31:11.991Z"
   },
   {
    "duration": 27,
    "start_time": "2022-01-24T12:31:12.063Z"
   },
   {
    "duration": 45,
    "start_time": "2022-01-24T12:31:12.092Z"
   },
   {
    "duration": 12,
    "start_time": "2022-01-24T12:31:12.140Z"
   },
   {
    "duration": 25,
    "start_time": "2022-01-24T12:31:12.154Z"
   },
   {
    "duration": 13,
    "start_time": "2022-01-24T12:31:12.182Z"
   },
   {
    "duration": 94,
    "start_time": "2022-01-24T12:31:12.197Z"
   },
   {
    "duration": 74,
    "start_time": "2022-01-24T12:31:12.294Z"
   },
   {
    "duration": 51,
    "start_time": "2022-01-24T12:31:12.371Z"
   },
   {
    "duration": 59,
    "start_time": "2022-01-24T12:31:12.432Z"
   },
   {
    "duration": 71,
    "start_time": "2022-01-24T12:31:12.493Z"
   },
   {
    "duration": 9,
    "start_time": "2022-01-24T12:31:12.567Z"
   },
   {
    "duration": 481,
    "start_time": "2022-01-24T12:31:12.578Z"
   },
   {
    "duration": 13,
    "start_time": "2022-01-24T12:31:13.062Z"
   },
   {
    "duration": 4,
    "start_time": "2022-01-24T12:31:13.077Z"
   },
   {
    "duration": 311,
    "start_time": "2022-01-24T12:31:13.083Z"
   },
   {
    "duration": 10,
    "start_time": "2022-01-24T12:31:13.396Z"
   },
   {
    "duration": 81,
    "start_time": "2022-01-24T12:31:13.409Z"
   },
   {
    "duration": 6642,
    "start_time": "2022-01-24T12:31:13.493Z"
   },
   {
    "duration": 264,
    "start_time": "2022-01-24T12:31:29.754Z"
   },
   {
    "duration": 1095,
    "start_time": "2022-01-24T12:31:57.261Z"
   },
   {
    "duration": 281,
    "start_time": "2022-01-24T12:32:13.294Z"
   },
   {
    "duration": 67,
    "start_time": "2022-01-24T12:32:27.714Z"
   },
   {
    "duration": 74,
    "start_time": "2022-01-24T12:34:13.991Z"
   },
   {
    "duration": 14,
    "start_time": "2022-01-24T12:35:15.943Z"
   },
   {
    "duration": 277,
    "start_time": "2022-01-24T12:35:34.124Z"
   },
   {
    "duration": 18358,
    "start_time": "2022-01-24T12:36:55.785Z"
   },
   {
    "duration": 1978,
    "start_time": "2022-01-24T12:37:18.616Z"
   },
   {
    "duration": 41,
    "start_time": "2022-01-24T12:37:20.597Z"
   },
   {
    "duration": 192,
    "start_time": "2022-01-24T12:37:20.642Z"
   },
   {
    "duration": 27,
    "start_time": "2022-01-24T12:37:20.838Z"
   },
   {
    "duration": 139,
    "start_time": "2022-01-24T12:37:20.868Z"
   },
   {
    "duration": 28,
    "start_time": "2022-01-24T12:37:21.009Z"
   },
   {
    "duration": 26,
    "start_time": "2022-01-24T12:37:21.041Z"
   },
   {
    "duration": 10,
    "start_time": "2022-01-24T12:37:21.069Z"
   },
   {
    "duration": 52,
    "start_time": "2022-01-24T12:37:21.084Z"
   },
   {
    "duration": 11,
    "start_time": "2022-01-24T12:37:21.140Z"
   },
   {
    "duration": 349,
    "start_time": "2022-01-24T12:37:21.154Z"
   },
   {
    "duration": 278,
    "start_time": "2022-01-24T12:37:21.506Z"
   },
   {
    "duration": 170,
    "start_time": "2022-01-24T12:37:21.787Z"
   },
   {
    "duration": 14,
    "start_time": "2022-01-24T12:37:21.959Z"
   },
   {
    "duration": 24,
    "start_time": "2022-01-24T12:37:21.976Z"
   },
   {
    "duration": 36,
    "start_time": "2022-01-24T12:37:22.004Z"
   },
   {
    "duration": 113,
    "start_time": "2022-01-24T12:37:22.043Z"
   },
   {
    "duration": 58,
    "start_time": "2022-01-24T12:37:22.160Z"
   },
   {
    "duration": 59,
    "start_time": "2022-01-24T12:37:22.235Z"
   },
   {
    "duration": 9,
    "start_time": "2022-01-24T12:37:22.297Z"
   },
   {
    "duration": 11,
    "start_time": "2022-01-24T12:37:22.332Z"
   },
   {
    "duration": 44,
    "start_time": "2022-01-24T12:37:22.346Z"
   },
   {
    "duration": 50,
    "start_time": "2022-01-24T12:37:22.392Z"
   },
   {
    "duration": 26,
    "start_time": "2022-01-24T12:37:22.446Z"
   },
   {
    "duration": 9,
    "start_time": "2022-01-24T12:37:22.474Z"
   },
   {
    "duration": 57,
    "start_time": "2022-01-24T12:37:22.485Z"
   },
   {
    "duration": 13,
    "start_time": "2022-01-24T12:37:22.563Z"
   },
   {
    "duration": 77,
    "start_time": "2022-01-24T12:37:22.579Z"
   },
   {
    "duration": 46,
    "start_time": "2022-01-24T12:37:22.659Z"
   },
   {
    "duration": 63,
    "start_time": "2022-01-24T12:37:22.708Z"
   },
   {
    "duration": 67,
    "start_time": "2022-01-24T12:37:22.774Z"
   },
   {
    "duration": 32,
    "start_time": "2022-01-24T12:37:22.844Z"
   },
   {
    "duration": 10,
    "start_time": "2022-01-24T12:37:22.879Z"
   },
   {
    "duration": 531,
    "start_time": "2022-01-24T12:37:22.891Z"
   },
   {
    "duration": 29,
    "start_time": "2022-01-24T12:37:23.425Z"
   },
   {
    "duration": 8,
    "start_time": "2022-01-24T12:37:23.457Z"
   },
   {
    "duration": 322,
    "start_time": "2022-01-24T12:37:23.467Z"
   },
   {
    "duration": 9,
    "start_time": "2022-01-24T12:37:23.792Z"
   },
   {
    "duration": 92,
    "start_time": "2022-01-24T12:37:23.803Z"
   },
   {
    "duration": 86,
    "start_time": "2022-01-24T12:37:23.897Z"
   },
   {
    "duration": 6925,
    "start_time": "2022-01-24T12:37:23.986Z"
   },
   {
    "duration": 18334,
    "start_time": "2022-01-24T12:37:12.580Z"
   },
   {
    "duration": 18330,
    "start_time": "2022-01-24T12:37:12.585Z"
   },
   {
    "duration": 465,
    "start_time": "2022-01-24T12:38:08.022Z"
   },
   {
    "duration": 9,
    "start_time": "2022-01-24T12:38:28.681Z"
   },
   {
    "duration": 53,
    "start_time": "2022-01-24T12:39:54.107Z"
   },
   {
    "duration": 52,
    "start_time": "2022-01-24T12:40:53.578Z"
   },
   {
    "duration": 12,
    "start_time": "2022-01-24T12:41:15.978Z"
   },
   {
    "duration": 254,
    "start_time": "2022-01-24T12:41:40.454Z"
   },
   {
    "duration": 62,
    "start_time": "2022-01-24T12:44:23.103Z"
   },
   {
    "duration": 64,
    "start_time": "2022-01-24T12:45:08.080Z"
   },
   {
    "duration": 64,
    "start_time": "2022-01-24T12:45:19.577Z"
   },
   {
    "duration": 1539,
    "start_time": "2022-01-24T12:47:34.465Z"
   },
   {
    "duration": 32,
    "start_time": "2022-01-24T12:47:36.007Z"
   },
   {
    "duration": 198,
    "start_time": "2022-01-24T12:47:36.043Z"
   },
   {
    "duration": 21,
    "start_time": "2022-01-24T12:47:36.244Z"
   },
   {
    "duration": 144,
    "start_time": "2022-01-24T12:47:36.267Z"
   },
   {
    "duration": 24,
    "start_time": "2022-01-24T12:47:36.414Z"
   },
   {
    "duration": 24,
    "start_time": "2022-01-24T12:47:36.441Z"
   },
   {
    "duration": 11,
    "start_time": "2022-01-24T12:47:36.469Z"
   },
   {
    "duration": 54,
    "start_time": "2022-01-24T12:47:36.483Z"
   },
   {
    "duration": 8,
    "start_time": "2022-01-24T12:47:36.540Z"
   },
   {
    "duration": 349,
    "start_time": "2022-01-24T12:47:36.551Z"
   },
   {
    "duration": 249,
    "start_time": "2022-01-24T12:47:36.903Z"
   },
   {
    "duration": 147,
    "start_time": "2022-01-24T12:47:37.155Z"
   },
   {
    "duration": 27,
    "start_time": "2022-01-24T12:47:37.305Z"
   },
   {
    "duration": 18,
    "start_time": "2022-01-24T12:47:37.335Z"
   },
   {
    "duration": 6,
    "start_time": "2022-01-24T12:47:37.356Z"
   },
   {
    "duration": 84,
    "start_time": "2022-01-24T12:47:37.364Z"
   },
   {
    "duration": 38,
    "start_time": "2022-01-24T12:47:37.451Z"
   },
   {
    "duration": 59,
    "start_time": "2022-01-24T12:47:37.492Z"
   },
   {
    "duration": 11,
    "start_time": "2022-01-24T12:47:37.555Z"
   },
   {
    "duration": 7,
    "start_time": "2022-01-24T12:47:37.569Z"
   },
   {
    "duration": 66,
    "start_time": "2022-01-24T12:47:37.579Z"
   },
   {
    "duration": 27,
    "start_time": "2022-01-24T12:47:37.653Z"
   },
   {
    "duration": 50,
    "start_time": "2022-01-24T12:47:37.684Z"
   },
   {
    "duration": 11,
    "start_time": "2022-01-24T12:47:37.737Z"
   },
   {
    "duration": 27,
    "start_time": "2022-01-24T12:47:37.751Z"
   },
   {
    "duration": 12,
    "start_time": "2022-01-24T12:47:37.781Z"
   },
   {
    "duration": 90,
    "start_time": "2022-01-24T12:47:37.795Z"
   },
   {
    "duration": 60,
    "start_time": "2022-01-24T12:47:37.887Z"
   },
   {
    "duration": 40,
    "start_time": "2022-01-24T12:47:37.951Z"
   },
   {
    "duration": 74,
    "start_time": "2022-01-24T12:47:37.994Z"
   },
   {
    "duration": 28,
    "start_time": "2022-01-24T12:47:38.070Z"
   },
   {
    "duration": 9,
    "start_time": "2022-01-24T12:47:38.100Z"
   },
   {
    "duration": 513,
    "start_time": "2022-01-24T12:47:38.111Z"
   },
   {
    "duration": 12,
    "start_time": "2022-01-24T12:47:38.626Z"
   },
   {
    "duration": 15,
    "start_time": "2022-01-24T12:47:38.641Z"
   },
   {
    "duration": 4,
    "start_time": "2022-01-24T12:47:38.659Z"
   },
   {
    "duration": 1398,
    "start_time": "2022-01-24T12:47:38.666Z"
   },
   {
    "duration": 18039,
    "start_time": "2022-01-24T12:47:22.028Z"
   },
   {
    "duration": 18030,
    "start_time": "2022-01-24T12:47:22.039Z"
   },
   {
    "duration": 18031,
    "start_time": "2022-01-24T12:47:22.040Z"
   },
   {
    "duration": 18029,
    "start_time": "2022-01-24T12:47:22.044Z"
   },
   {
    "duration": 18016,
    "start_time": "2022-01-24T12:47:22.058Z"
   },
   {
    "duration": 18015,
    "start_time": "2022-01-24T12:47:22.061Z"
   },
   {
    "duration": 18004,
    "start_time": "2022-01-24T12:47:22.073Z"
   },
   {
    "duration": 18004,
    "start_time": "2022-01-24T12:47:22.075Z"
   },
   {
    "duration": 18003,
    "start_time": "2022-01-24T12:47:22.077Z"
   },
   {
    "duration": 17995,
    "start_time": "2022-01-24T12:47:22.087Z"
   },
   {
    "duration": 5,
    "start_time": "2022-01-24T12:47:52.707Z"
   },
   {
    "duration": 266,
    "start_time": "2022-01-24T12:47:55.351Z"
   },
   {
    "duration": 1566,
    "start_time": "2022-01-24T12:48:07.847Z"
   },
   {
    "duration": 30,
    "start_time": "2022-01-24T12:48:09.416Z"
   },
   {
    "duration": 190,
    "start_time": "2022-01-24T12:48:09.450Z"
   },
   {
    "duration": 22,
    "start_time": "2022-01-24T12:48:09.643Z"
   },
   {
    "duration": 133,
    "start_time": "2022-01-24T12:48:09.668Z"
   },
   {
    "duration": 29,
    "start_time": "2022-01-24T12:48:09.804Z"
   },
   {
    "duration": 24,
    "start_time": "2022-01-24T12:48:09.835Z"
   },
   {
    "duration": 12,
    "start_time": "2022-01-24T12:48:09.863Z"
   },
   {
    "duration": 46,
    "start_time": "2022-01-24T12:48:09.878Z"
   },
   {
    "duration": 8,
    "start_time": "2022-01-24T12:48:09.926Z"
   },
   {
    "duration": 321,
    "start_time": "2022-01-24T12:48:09.937Z"
   },
   {
    "duration": 240,
    "start_time": "2022-01-24T12:48:10.261Z"
   },
   {
    "duration": 153,
    "start_time": "2022-01-24T12:48:10.504Z"
   },
   {
    "duration": 13,
    "start_time": "2022-01-24T12:48:10.659Z"
   },
   {
    "duration": 18,
    "start_time": "2022-01-24T12:48:10.676Z"
   },
   {
    "duration": 35,
    "start_time": "2022-01-24T12:48:10.697Z"
   },
   {
    "duration": 51,
    "start_time": "2022-01-24T12:48:10.735Z"
   },
   {
    "duration": 53,
    "start_time": "2022-01-24T12:48:10.789Z"
   },
   {
    "duration": 29,
    "start_time": "2022-01-24T12:48:10.845Z"
   },
   {
    "duration": 9,
    "start_time": "2022-01-24T12:48:10.876Z"
   },
   {
    "duration": 5,
    "start_time": "2022-01-24T12:48:10.887Z"
   },
   {
    "duration": 67,
    "start_time": "2022-01-24T12:48:10.894Z"
   },
   {
    "duration": 28,
    "start_time": "2022-01-24T12:48:10.966Z"
   },
   {
    "duration": 45,
    "start_time": "2022-01-24T12:48:10.997Z"
   },
   {
    "duration": 8,
    "start_time": "2022-01-24T12:48:11.045Z"
   },
   {
    "duration": 19,
    "start_time": "2022-01-24T12:48:11.055Z"
   },
   {
    "duration": 10,
    "start_time": "2022-01-24T12:48:11.076Z"
   },
   {
    "duration": 92,
    "start_time": "2022-01-24T12:48:11.089Z"
   },
   {
    "duration": 55,
    "start_time": "2022-01-24T12:48:11.183Z"
   },
   {
    "duration": 43,
    "start_time": "2022-01-24T12:48:11.241Z"
   },
   {
    "duration": 86,
    "start_time": "2022-01-24T12:48:11.287Z"
   },
   {
    "duration": 27,
    "start_time": "2022-01-24T12:48:11.376Z"
   },
   {
    "duration": 31,
    "start_time": "2022-01-24T12:48:11.406Z"
   },
   {
    "duration": 441,
    "start_time": "2022-01-24T12:48:11.440Z"
   },
   {
    "duration": 10,
    "start_time": "2022-01-24T12:48:11.884Z"
   },
   {
    "duration": 16,
    "start_time": "2022-01-24T12:48:11.896Z"
   },
   {
    "duration": 4,
    "start_time": "2022-01-24T12:48:11.933Z"
   },
   {
    "duration": 292,
    "start_time": "2022-01-24T12:48:11.940Z"
   },
   {
    "duration": 64,
    "start_time": "2022-01-24T12:48:12.234Z"
   },
   {
    "duration": 84,
    "start_time": "2022-01-24T12:48:12.301Z"
   },
   {
    "duration": 13,
    "start_time": "2022-01-24T12:48:12.387Z"
   },
   {
    "duration": 303,
    "start_time": "2022-01-24T12:48:12.402Z"
   },
   {
    "duration": 65,
    "start_time": "2022-01-24T12:48:12.707Z"
   },
   {
    "duration": 69,
    "start_time": "2022-01-24T12:48:12.774Z"
   },
   {
    "duration": 11,
    "start_time": "2022-01-24T12:48:12.845Z"
   },
   {
    "duration": 279,
    "start_time": "2022-01-24T12:48:12.858Z"
   },
   {
    "duration": 59,
    "start_time": "2022-01-24T12:48:13.140Z"
   },
   {
    "duration": 90,
    "start_time": "2022-01-24T12:48:13.202Z"
   },
   {
    "duration": 232,
    "start_time": "2022-01-24T12:50:56.613Z"
   },
   {
    "duration": 192,
    "start_time": "2022-01-24T12:52:02.996Z"
   },
   {
    "duration": 196,
    "start_time": "2022-01-24T12:52:18.869Z"
   },
   {
    "duration": 1602,
    "start_time": "2022-01-24T12:52:30.701Z"
   },
   {
    "duration": 32,
    "start_time": "2022-01-24T12:52:32.305Z"
   },
   {
    "duration": 186,
    "start_time": "2022-01-24T12:52:32.340Z"
   },
   {
    "duration": 23,
    "start_time": "2022-01-24T12:52:32.532Z"
   },
   {
    "duration": 133,
    "start_time": "2022-01-24T12:52:32.558Z"
   },
   {
    "duration": 19,
    "start_time": "2022-01-24T12:52:32.693Z"
   },
   {
    "duration": 41,
    "start_time": "2022-01-24T12:52:32.714Z"
   },
   {
    "duration": 10,
    "start_time": "2022-01-24T12:52:32.759Z"
   },
   {
    "duration": 40,
    "start_time": "2022-01-24T12:52:32.772Z"
   },
   {
    "duration": 8,
    "start_time": "2022-01-24T12:52:32.815Z"
   },
   {
    "duration": 314,
    "start_time": "2022-01-24T12:52:32.832Z"
   },
   {
    "duration": 225,
    "start_time": "2022-01-24T12:52:33.149Z"
   },
   {
    "duration": 155,
    "start_time": "2022-01-24T12:52:33.377Z"
   },
   {
    "duration": 13,
    "start_time": "2022-01-24T12:52:33.535Z"
   },
   {
    "duration": 19,
    "start_time": "2022-01-24T12:52:33.551Z"
   },
   {
    "duration": 4,
    "start_time": "2022-01-24T12:52:33.572Z"
   },
   {
    "duration": 78,
    "start_time": "2022-01-24T12:52:33.578Z"
   },
   {
    "duration": 34,
    "start_time": "2022-01-24T12:52:33.659Z"
   },
   {
    "duration": 49,
    "start_time": "2022-01-24T12:52:33.696Z"
   },
   {
    "duration": 9,
    "start_time": "2022-01-24T12:52:33.747Z"
   },
   {
    "duration": 6,
    "start_time": "2022-01-24T12:52:33.758Z"
   },
   {
    "duration": 37,
    "start_time": "2022-01-24T12:52:33.766Z"
   },
   {
    "duration": 27,
    "start_time": "2022-01-24T12:52:33.837Z"
   },
   {
    "duration": 23,
    "start_time": "2022-01-24T12:52:33.867Z"
   },
   {
    "duration": 7,
    "start_time": "2022-01-24T12:52:33.893Z"
   },
   {
    "duration": 13,
    "start_time": "2022-01-24T12:52:33.933Z"
   },
   {
    "duration": 10,
    "start_time": "2022-01-24T12:52:33.949Z"
   },
   {
    "duration": 92,
    "start_time": "2022-01-24T12:52:33.961Z"
   },
   {
    "duration": 42,
    "start_time": "2022-01-24T12:52:34.055Z"
   },
   {
    "duration": 60,
    "start_time": "2022-01-24T12:52:34.099Z"
   },
   {
    "duration": 45,
    "start_time": "2022-01-24T12:52:34.161Z"
   },
   {
    "duration": 42,
    "start_time": "2022-01-24T12:52:34.208Z"
   },
   {
    "duration": 219,
    "start_time": "2022-01-24T12:52:34.253Z"
   },
   {
    "duration": 210,
    "start_time": "2022-01-24T12:52:34.474Z"
   },
   {
    "duration": 213,
    "start_time": "2022-01-24T12:52:34.687Z"
   },
   {
    "duration": 8,
    "start_time": "2022-01-24T12:52:34.903Z"
   },
   {
    "duration": 446,
    "start_time": "2022-01-24T12:52:34.913Z"
   },
   {
    "duration": 12,
    "start_time": "2022-01-24T12:52:35.362Z"
   },
   {
    "duration": 13,
    "start_time": "2022-01-24T12:52:35.377Z"
   },
   {
    "duration": 41,
    "start_time": "2022-01-24T12:52:35.393Z"
   },
   {
    "duration": 282,
    "start_time": "2022-01-24T12:52:35.437Z"
   },
   {
    "duration": 65,
    "start_time": "2022-01-24T12:52:35.723Z"
   },
   {
    "duration": 83,
    "start_time": "2022-01-24T12:52:35.791Z"
   },
   {
    "duration": 9,
    "start_time": "2022-01-24T12:52:35.877Z"
   },
   {
    "duration": 292,
    "start_time": "2022-01-24T12:52:35.889Z"
   },
   {
    "duration": 69,
    "start_time": "2022-01-24T12:52:36.184Z"
   },
   {
    "duration": 55,
    "start_time": "2022-01-24T12:52:36.255Z"
   },
   {
    "duration": 29,
    "start_time": "2022-01-24T12:52:36.312Z"
   },
   {
    "duration": 277,
    "start_time": "2022-01-24T12:52:36.344Z"
   },
   {
    "duration": 65,
    "start_time": "2022-01-24T12:52:36.623Z"
   },
   {
    "duration": 80,
    "start_time": "2022-01-24T12:52:36.690Z"
   },
   {
    "duration": 377,
    "start_time": "2022-01-24T12:55:35.578Z"
   },
   {
    "duration": 372,
    "start_time": "2022-01-24T12:55:47.941Z"
   },
   {
    "duration": 434,
    "start_time": "2022-01-24T12:56:59.778Z"
   },
   {
    "duration": 354,
    "start_time": "2022-01-24T12:57:57.113Z"
   },
   {
    "duration": 6998,
    "start_time": "2022-01-24T13:02:06.009Z"
   },
   {
    "duration": 5799,
    "start_time": "2022-01-24T13:02:19.306Z"
   },
   {
    "duration": 253,
    "start_time": "2022-01-24T13:03:28.902Z"
   },
   {
    "duration": 24,
    "start_time": "2022-01-24T13:11:17.278Z"
   },
   {
    "duration": 34,
    "start_time": "2022-01-24T13:11:36.984Z"
   },
   {
    "duration": 33,
    "start_time": "2022-01-24T13:12:08.283Z"
   },
   {
    "duration": 39,
    "start_time": "2022-01-24T13:12:39.915Z"
   },
   {
    "duration": 34,
    "start_time": "2022-01-24T13:12:57.740Z"
   },
   {
    "duration": 37,
    "start_time": "2022-01-24T13:13:17.030Z"
   },
   {
    "duration": 30,
    "start_time": "2022-01-24T13:13:38.287Z"
   },
   {
    "duration": 264,
    "start_time": "2022-01-24T13:14:23.846Z"
   },
   {
    "duration": 258,
    "start_time": "2022-01-24T13:14:34.779Z"
   },
   {
    "duration": 33,
    "start_time": "2022-01-24T13:14:51.078Z"
   },
   {
    "duration": 310,
    "start_time": "2022-01-24T13:15:30.750Z"
   },
   {
    "duration": 30,
    "start_time": "2022-01-24T13:15:40.078Z"
   },
   {
    "duration": 31,
    "start_time": "2022-01-24T13:16:05.101Z"
   },
   {
    "duration": 30,
    "start_time": "2022-01-24T13:16:26.805Z"
   },
   {
    "duration": 47,
    "start_time": "2022-01-24T13:16:40.075Z"
   },
   {
    "duration": 32,
    "start_time": "2022-01-24T13:16:47.302Z"
   },
   {
    "duration": 96,
    "start_time": "2022-01-24T13:19:03.501Z"
   },
   {
    "duration": 85,
    "start_time": "2022-01-24T13:19:09.453Z"
   },
   {
    "duration": 288,
    "start_time": "2022-01-24T13:19:16.573Z"
   },
   {
    "duration": 3,
    "start_time": "2022-01-24T13:19:36.628Z"
   },
   {
    "duration": 10,
    "start_time": "2022-01-24T13:19:38.067Z"
   },
   {
    "duration": 32,
    "start_time": "2022-01-24T13:20:23.173Z"
   },
   {
    "duration": 32,
    "start_time": "2022-01-24T13:20:28.529Z"
   },
   {
    "duration": 1600,
    "start_time": "2022-01-24T13:20:35.804Z"
   },
   {
    "duration": 36,
    "start_time": "2022-01-24T13:20:37.407Z"
   },
   {
    "duration": 194,
    "start_time": "2022-01-24T13:20:37.447Z"
   },
   {
    "duration": 23,
    "start_time": "2022-01-24T13:20:37.645Z"
   },
   {
    "duration": 141,
    "start_time": "2022-01-24T13:20:37.671Z"
   },
   {
    "duration": 23,
    "start_time": "2022-01-24T13:20:37.815Z"
   },
   {
    "duration": 31,
    "start_time": "2022-01-24T13:20:37.841Z"
   },
   {
    "duration": 11,
    "start_time": "2022-01-24T13:20:37.878Z"
   },
   {
    "duration": 49,
    "start_time": "2022-01-24T13:20:37.892Z"
   },
   {
    "duration": 8,
    "start_time": "2022-01-24T13:20:37.944Z"
   },
   {
    "duration": 341,
    "start_time": "2022-01-24T13:20:37.955Z"
   },
   {
    "duration": 235,
    "start_time": "2022-01-24T13:20:38.300Z"
   },
   {
    "duration": 140,
    "start_time": "2022-01-24T13:20:38.538Z"
   },
   {
    "duration": 13,
    "start_time": "2022-01-24T13:20:38.681Z"
   },
   {
    "duration": 41,
    "start_time": "2022-01-24T13:20:38.696Z"
   },
   {
    "duration": 4,
    "start_time": "2022-01-24T13:20:38.739Z"
   },
   {
    "duration": 49,
    "start_time": "2022-01-24T13:20:38.745Z"
   },
   {
    "duration": 57,
    "start_time": "2022-01-24T13:20:38.796Z"
   },
   {
    "duration": 27,
    "start_time": "2022-01-24T13:20:38.856Z"
   },
   {
    "duration": 8,
    "start_time": "2022-01-24T13:20:38.886Z"
   },
   {
    "duration": 4,
    "start_time": "2022-01-24T13:20:38.897Z"
   },
   {
    "duration": 38,
    "start_time": "2022-01-24T13:20:38.933Z"
   },
   {
    "duration": 27,
    "start_time": "2022-01-24T13:20:38.977Z"
   },
   {
    "duration": 44,
    "start_time": "2022-01-24T13:20:39.007Z"
   },
   {
    "duration": 9,
    "start_time": "2022-01-24T13:20:39.053Z"
   },
   {
    "duration": 19,
    "start_time": "2022-01-24T13:20:39.064Z"
   },
   {
    "duration": 12,
    "start_time": "2022-01-24T13:20:39.085Z"
   },
   {
    "duration": 57,
    "start_time": "2022-01-24T13:20:39.133Z"
   },
   {
    "duration": 63,
    "start_time": "2022-01-24T13:20:39.192Z"
   },
   {
    "duration": 39,
    "start_time": "2022-01-24T13:20:39.258Z"
   },
   {
    "duration": 63,
    "start_time": "2022-01-24T13:20:39.300Z"
   },
   {
    "duration": 27,
    "start_time": "2022-01-24T13:20:39.365Z"
   },
   {
    "duration": 238,
    "start_time": "2022-01-24T13:20:39.394Z"
   },
   {
    "duration": 215,
    "start_time": "2022-01-24T13:20:39.634Z"
   },
   {
    "duration": 213,
    "start_time": "2022-01-24T13:20:39.852Z"
   },
   {
    "duration": 8,
    "start_time": "2022-01-24T13:20:40.067Z"
   },
   {
    "duration": 431,
    "start_time": "2022-01-24T13:20:40.078Z"
   },
   {
    "duration": 39,
    "start_time": "2022-01-24T13:20:40.511Z"
   },
   {
    "duration": 32,
    "start_time": "2022-01-24T13:20:40.552Z"
   },
   {
    "duration": 9,
    "start_time": "2022-01-24T13:20:40.586Z"
   },
   {
    "duration": 39,
    "start_time": "2022-01-24T13:20:40.597Z"
   },
   {
    "duration": 369,
    "start_time": "2022-01-24T13:20:40.638Z"
   },
   {
    "duration": 72,
    "start_time": "2022-01-24T13:20:41.010Z"
   },
   {
    "duration": 76,
    "start_time": "2022-01-24T13:20:41.085Z"
   },
   {
    "duration": 11,
    "start_time": "2022-01-24T13:20:41.164Z"
   },
   {
    "duration": 363,
    "start_time": "2022-01-24T13:20:41.177Z"
   },
   {
    "duration": 51,
    "start_time": "2022-01-24T13:20:41.543Z"
   },
   {
    "duration": 73,
    "start_time": "2022-01-24T13:20:41.596Z"
   },
   {
    "duration": 10,
    "start_time": "2022-01-24T13:20:41.672Z"
   },
   {
    "duration": 378,
    "start_time": "2022-01-24T13:20:41.685Z"
   },
   {
    "duration": 83,
    "start_time": "2022-01-24T13:20:42.066Z"
   },
   {
    "duration": 60,
    "start_time": "2022-01-24T13:20:42.152Z"
   },
   {
    "duration": 20,
    "start_time": "2022-01-24T13:20:42.214Z"
   },
   {
    "duration": 14,
    "start_time": "2022-01-24T13:20:42.236Z"
   },
   {
    "duration": 13,
    "start_time": "2022-01-24T13:21:21.182Z"
   },
   {
    "duration": 28,
    "start_time": "2022-01-24T13:25:46.064Z"
   },
   {
    "duration": 699,
    "start_time": "2022-01-24T13:26:00.067Z"
   },
   {
    "duration": 155,
    "start_time": "2022-01-24T13:26:11.313Z"
   },
   {
    "duration": 1631,
    "start_time": "2022-01-24T13:26:29.097Z"
   },
   {
    "duration": 27,
    "start_time": "2022-01-24T13:26:30.733Z"
   },
   {
    "duration": 203,
    "start_time": "2022-01-24T13:26:30.763Z"
   },
   {
    "duration": 22,
    "start_time": "2022-01-24T13:26:30.968Z"
   },
   {
    "duration": 142,
    "start_time": "2022-01-24T13:26:30.993Z"
   },
   {
    "duration": 18,
    "start_time": "2022-01-24T13:26:31.138Z"
   },
   {
    "duration": 28,
    "start_time": "2022-01-24T13:26:31.159Z"
   },
   {
    "duration": 17,
    "start_time": "2022-01-24T13:26:31.191Z"
   },
   {
    "duration": 58,
    "start_time": "2022-01-24T13:26:31.211Z"
   },
   {
    "duration": 9,
    "start_time": "2022-01-24T13:26:31.272Z"
   },
   {
    "duration": 337,
    "start_time": "2022-01-24T13:26:31.284Z"
   },
   {
    "duration": 271,
    "start_time": "2022-01-24T13:26:31.631Z"
   },
   {
    "duration": 157,
    "start_time": "2022-01-24T13:26:31.905Z"
   },
   {
    "duration": 14,
    "start_time": "2022-01-24T13:26:32.065Z"
   },
   {
    "duration": 22,
    "start_time": "2022-01-24T13:26:32.081Z"
   },
   {
    "duration": 4,
    "start_time": "2022-01-24T13:26:32.105Z"
   },
   {
    "duration": 44,
    "start_time": "2022-01-24T13:26:32.132Z"
   },
   {
    "duration": 58,
    "start_time": "2022-01-24T13:26:32.178Z"
   },
   {
    "duration": 29,
    "start_time": "2022-01-24T13:26:32.239Z"
   },
   {
    "duration": 9,
    "start_time": "2022-01-24T13:26:32.270Z"
   },
   {
    "duration": 4,
    "start_time": "2022-01-24T13:26:32.282Z"
   },
   {
    "duration": 72,
    "start_time": "2022-01-24T13:26:32.289Z"
   },
   {
    "duration": 27,
    "start_time": "2022-01-24T13:26:32.366Z"
   },
   {
    "duration": 44,
    "start_time": "2022-01-24T13:26:32.397Z"
   },
   {
    "duration": 8,
    "start_time": "2022-01-24T13:26:32.444Z"
   },
   {
    "duration": 20,
    "start_time": "2022-01-24T13:26:32.454Z"
   },
   {
    "duration": 21,
    "start_time": "2022-01-24T13:26:32.476Z"
   },
   {
    "duration": 85,
    "start_time": "2022-01-24T13:26:32.499Z"
   },
   {
    "duration": 58,
    "start_time": "2022-01-24T13:26:32.586Z"
   },
   {
    "duration": 41,
    "start_time": "2022-01-24T13:26:32.647Z"
   },
   {
    "duration": 64,
    "start_time": "2022-01-24T13:26:32.691Z"
   },
   {
    "duration": 25,
    "start_time": "2022-01-24T13:26:32.757Z"
   },
   {
    "duration": 225,
    "start_time": "2022-01-24T13:26:32.785Z"
   },
   {
    "duration": 220,
    "start_time": "2022-01-24T13:26:33.012Z"
   },
   {
    "duration": 209,
    "start_time": "2022-01-24T13:26:33.235Z"
   },
   {
    "duration": 9,
    "start_time": "2022-01-24T13:26:33.447Z"
   },
   {
    "duration": 443,
    "start_time": "2022-01-24T13:26:33.458Z"
   },
   {
    "duration": 78,
    "start_time": "2022-01-24T13:26:33.904Z"
   },
   {
    "duration": 18373,
    "start_time": "2022-01-24T13:26:15.612Z"
   },
   {
    "duration": 18369,
    "start_time": "2022-01-24T13:26:15.618Z"
   },
   {
    "duration": 18363,
    "start_time": "2022-01-24T13:26:15.626Z"
   },
   {
    "duration": 18360,
    "start_time": "2022-01-24T13:26:15.632Z"
   },
   {
    "duration": 18358,
    "start_time": "2022-01-24T13:26:15.636Z"
   },
   {
    "duration": 18356,
    "start_time": "2022-01-24T13:26:15.640Z"
   },
   {
    "duration": 18352,
    "start_time": "2022-01-24T13:26:15.646Z"
   },
   {
    "duration": 18350,
    "start_time": "2022-01-24T13:26:15.650Z"
   },
   {
    "duration": 18346,
    "start_time": "2022-01-24T13:26:15.656Z"
   },
   {
    "duration": 18342,
    "start_time": "2022-01-24T13:26:15.661Z"
   },
   {
    "duration": 18338,
    "start_time": "2022-01-24T13:26:15.666Z"
   },
   {
    "duration": 18334,
    "start_time": "2022-01-24T13:26:15.671Z"
   },
   {
    "duration": 18331,
    "start_time": "2022-01-24T13:26:15.676Z"
   },
   {
    "duration": 18327,
    "start_time": "2022-01-24T13:26:15.681Z"
   },
   {
    "duration": 18325,
    "start_time": "2022-01-24T13:26:15.684Z"
   },
   {
    "duration": 18321,
    "start_time": "2022-01-24T13:26:15.689Z"
   },
   {
    "duration": 18319,
    "start_time": "2022-01-24T13:26:15.693Z"
   },
   {
    "duration": 18300,
    "start_time": "2022-01-24T13:26:15.713Z"
   },
   {
    "duration": 87,
    "start_time": "2022-01-24T13:27:10.797Z"
   },
   {
    "duration": 80,
    "start_time": "2022-01-24T13:27:17.507Z"
   },
   {
    "duration": 40,
    "start_time": "2022-01-24T13:27:42.642Z"
   },
   {
    "duration": 34,
    "start_time": "2022-01-24T13:27:53.594Z"
   },
   {
    "duration": 1604,
    "start_time": "2022-01-24T13:27:59.014Z"
   },
   {
    "duration": 30,
    "start_time": "2022-01-24T13:28:00.622Z"
   },
   {
    "duration": 196,
    "start_time": "2022-01-24T13:28:00.655Z"
   },
   {
    "duration": 22,
    "start_time": "2022-01-24T13:28:00.854Z"
   },
   {
    "duration": 135,
    "start_time": "2022-01-24T13:28:00.879Z"
   },
   {
    "duration": 28,
    "start_time": "2022-01-24T13:28:01.017Z"
   },
   {
    "duration": 27,
    "start_time": "2022-01-24T13:28:01.048Z"
   },
   {
    "duration": 10,
    "start_time": "2022-01-24T13:28:01.081Z"
   },
   {
    "duration": 54,
    "start_time": "2022-01-24T13:28:01.095Z"
   },
   {
    "duration": 11,
    "start_time": "2022-01-24T13:28:01.152Z"
   },
   {
    "duration": 335,
    "start_time": "2022-01-24T13:28:01.166Z"
   },
   {
    "duration": 250,
    "start_time": "2022-01-24T13:28:01.504Z"
   },
   {
    "duration": 172,
    "start_time": "2022-01-24T13:28:01.757Z"
   },
   {
    "duration": 14,
    "start_time": "2022-01-24T13:28:01.933Z"
   },
   {
    "duration": 24,
    "start_time": "2022-01-24T13:28:01.949Z"
   },
   {
    "duration": 6,
    "start_time": "2022-01-24T13:28:01.977Z"
   },
   {
    "duration": 80,
    "start_time": "2022-01-24T13:28:01.986Z"
   },
   {
    "duration": 38,
    "start_time": "2022-01-24T13:28:02.069Z"
   },
   {
    "duration": 50,
    "start_time": "2022-01-24T13:28:02.110Z"
   },
   {
    "duration": 8,
    "start_time": "2022-01-24T13:28:02.163Z"
   },
   {
    "duration": 12,
    "start_time": "2022-01-24T13:28:02.173Z"
   },
   {
    "duration": 61,
    "start_time": "2022-01-24T13:28:02.187Z"
   },
   {
    "duration": 25,
    "start_time": "2022-01-24T13:28:02.254Z"
   },
   {
    "duration": 22,
    "start_time": "2022-01-24T13:28:02.282Z"
   },
   {
    "duration": 32,
    "start_time": "2022-01-24T13:28:02.306Z"
   },
   {
    "duration": 15,
    "start_time": "2022-01-24T13:28:02.340Z"
   },
   {
    "duration": 11,
    "start_time": "2022-01-24T13:28:02.357Z"
   },
   {
    "duration": 89,
    "start_time": "2022-01-24T13:28:02.370Z"
   },
   {
    "duration": 42,
    "start_time": "2022-01-24T13:28:02.461Z"
   },
   {
    "duration": 55,
    "start_time": "2022-01-24T13:28:02.505Z"
   },
   {
    "duration": 43,
    "start_time": "2022-01-24T13:28:02.562Z"
   },
   {
    "duration": 48,
    "start_time": "2022-01-24T13:28:02.607Z"
   },
   {
    "duration": 225,
    "start_time": "2022-01-24T13:28:02.657Z"
   },
   {
    "duration": 215,
    "start_time": "2022-01-24T13:28:02.884Z"
   },
   {
    "duration": 221,
    "start_time": "2022-01-24T13:28:03.102Z"
   },
   {
    "duration": 8,
    "start_time": "2022-01-24T13:28:03.332Z"
   },
   {
    "duration": 485,
    "start_time": "2022-01-24T13:28:03.343Z"
   },
   {
    "duration": 41,
    "start_time": "2022-01-24T13:28:03.833Z"
   },
   {
    "duration": 54,
    "start_time": "2022-01-24T13:28:03.877Z"
   },
   {
    "duration": 31,
    "start_time": "2022-01-24T13:28:03.934Z"
   },
   {
    "duration": 101,
    "start_time": "2022-01-24T13:28:03.968Z"
   },
   {
    "duration": 18429,
    "start_time": "2022-01-24T13:27:45.643Z"
   },
   {
    "duration": 18407,
    "start_time": "2022-01-24T13:27:45.666Z"
   },
   {
    "duration": 18404,
    "start_time": "2022-01-24T13:27:45.671Z"
   },
   {
    "duration": 18403,
    "start_time": "2022-01-24T13:27:45.674Z"
   },
   {
    "duration": 18400,
    "start_time": "2022-01-24T13:27:45.678Z"
   },
   {
    "duration": 18397,
    "start_time": "2022-01-24T13:27:45.682Z"
   },
   {
    "duration": 18395,
    "start_time": "2022-01-24T13:27:45.686Z"
   },
   {
    "duration": 18382,
    "start_time": "2022-01-24T13:27:45.700Z"
   },
   {
    "duration": 18382,
    "start_time": "2022-01-24T13:27:45.703Z"
   },
   {
    "duration": 18381,
    "start_time": "2022-01-24T13:27:45.705Z"
   },
   {
    "duration": 18380,
    "start_time": "2022-01-24T13:27:45.707Z"
   },
   {
    "duration": 18380,
    "start_time": "2022-01-24T13:27:45.708Z"
   },
   {
    "duration": 18376,
    "start_time": "2022-01-24T13:27:45.713Z"
   },
   {
    "duration": 18375,
    "start_time": "2022-01-24T13:27:45.715Z"
   },
   {
    "duration": 18375,
    "start_time": "2022-01-24T13:27:45.717Z"
   },
   {
    "duration": 389,
    "start_time": "2022-01-24T13:29:27.915Z"
   },
   {
    "duration": 286,
    "start_time": "2022-01-24T13:30:17.870Z"
   },
   {
    "duration": 1535,
    "start_time": "2022-01-24T13:30:26.673Z"
   },
   {
    "duration": 29,
    "start_time": "2022-01-24T13:30:28.210Z"
   },
   {
    "duration": 180,
    "start_time": "2022-01-24T13:30:28.242Z"
   },
   {
    "duration": 26,
    "start_time": "2022-01-24T13:30:28.425Z"
   },
   {
    "duration": 132,
    "start_time": "2022-01-24T13:30:28.453Z"
   },
   {
    "duration": 19,
    "start_time": "2022-01-24T13:30:28.587Z"
   },
   {
    "duration": 31,
    "start_time": "2022-01-24T13:30:28.608Z"
   },
   {
    "duration": 8,
    "start_time": "2022-01-24T13:30:28.644Z"
   },
   {
    "duration": 44,
    "start_time": "2022-01-24T13:30:28.656Z"
   },
   {
    "duration": 8,
    "start_time": "2022-01-24T13:30:28.703Z"
   },
   {
    "duration": 317,
    "start_time": "2022-01-24T13:30:28.733Z"
   },
   {
    "duration": 219,
    "start_time": "2022-01-24T13:30:29.053Z"
   },
   {
    "duration": 165,
    "start_time": "2022-01-24T13:30:29.276Z"
   },
   {
    "duration": 14,
    "start_time": "2022-01-24T13:30:29.444Z"
   },
   {
    "duration": 20,
    "start_time": "2022-01-24T13:30:29.461Z"
   },
   {
    "duration": 4,
    "start_time": "2022-01-24T13:30:29.483Z"
   },
   {
    "duration": 82,
    "start_time": "2022-01-24T13:30:29.490Z"
   },
   {
    "duration": 33,
    "start_time": "2022-01-24T13:30:29.574Z"
   },
   {
    "duration": 45,
    "start_time": "2022-01-24T13:30:29.609Z"
   },
   {
    "duration": 8,
    "start_time": "2022-01-24T13:30:29.657Z"
   },
   {
    "duration": 5,
    "start_time": "2022-01-24T13:30:29.668Z"
   },
   {
    "duration": 71,
    "start_time": "2022-01-24T13:30:29.675Z"
   },
   {
    "duration": 27,
    "start_time": "2022-01-24T13:30:29.751Z"
   },
   {
    "duration": 23,
    "start_time": "2022-01-24T13:30:29.782Z"
   },
   {
    "duration": 30,
    "start_time": "2022-01-24T13:30:29.807Z"
   },
   {
    "duration": 18,
    "start_time": "2022-01-24T13:30:29.840Z"
   },
   {
    "duration": 11,
    "start_time": "2022-01-24T13:30:29.860Z"
   },
   {
    "duration": 85,
    "start_time": "2022-01-24T13:30:29.873Z"
   },
   {
    "duration": 42,
    "start_time": "2022-01-24T13:30:29.960Z"
   },
   {
    "duration": 62,
    "start_time": "2022-01-24T13:30:30.005Z"
   },
   {
    "duration": 79,
    "start_time": "2022-01-24T13:30:30.069Z"
   },
   {
    "duration": 32,
    "start_time": "2022-01-24T13:30:30.151Z"
   },
   {
    "duration": 241,
    "start_time": "2022-01-24T13:30:30.186Z"
   },
   {
    "duration": 214,
    "start_time": "2022-01-24T13:30:30.432Z"
   },
   {
    "duration": 217,
    "start_time": "2022-01-24T13:30:30.648Z"
   },
   {
    "duration": 9,
    "start_time": "2022-01-24T13:30:30.868Z"
   },
   {
    "duration": 496,
    "start_time": "2022-01-24T13:30:30.880Z"
   },
   {
    "duration": 34,
    "start_time": "2022-01-24T13:30:31.379Z"
   },
   {
    "duration": 54,
    "start_time": "2022-01-24T13:30:31.416Z"
   },
   {
    "duration": 65,
    "start_time": "2022-01-24T13:30:31.473Z"
   },
   {
    "duration": 87,
    "start_time": "2022-01-24T13:30:31.540Z"
   },
   {
    "duration": 18430,
    "start_time": "2022-01-24T13:30:13.199Z"
   },
   {
    "duration": 18422,
    "start_time": "2022-01-24T13:30:13.209Z"
   },
   {
    "duration": 18419,
    "start_time": "2022-01-24T13:30:13.214Z"
   },
   {
    "duration": 18417,
    "start_time": "2022-01-24T13:30:13.217Z"
   },
   {
    "duration": 18416,
    "start_time": "2022-01-24T13:30:13.220Z"
   },
   {
    "duration": 18415,
    "start_time": "2022-01-24T13:30:13.223Z"
   },
   {
    "duration": 18414,
    "start_time": "2022-01-24T13:30:13.227Z"
   },
   {
    "duration": 18413,
    "start_time": "2022-01-24T13:30:13.230Z"
   },
   {
    "duration": 18411,
    "start_time": "2022-01-24T13:30:13.233Z"
   },
   {
    "duration": 18410,
    "start_time": "2022-01-24T13:30:13.236Z"
   },
   {
    "duration": 18408,
    "start_time": "2022-01-24T13:30:13.239Z"
   },
   {
    "duration": 18406,
    "start_time": "2022-01-24T13:30:13.242Z"
   },
   {
    "duration": 18399,
    "start_time": "2022-01-24T13:30:13.251Z"
   },
   {
    "duration": 18397,
    "start_time": "2022-01-24T13:30:13.254Z"
   },
   {
    "duration": 18388,
    "start_time": "2022-01-24T13:30:13.264Z"
   },
   {
    "duration": 18388,
    "start_time": "2022-01-24T13:30:13.266Z"
   },
   {
    "duration": 34,
    "start_time": "2022-01-24T13:31:06.250Z"
   },
   {
    "duration": 421,
    "start_time": "2022-01-24T13:31:12.381Z"
   },
   {
    "duration": 1557,
    "start_time": "2022-01-24T13:31:18.570Z"
   },
   {
    "duration": 26,
    "start_time": "2022-01-24T13:31:20.130Z"
   },
   {
    "duration": 194,
    "start_time": "2022-01-24T13:31:20.159Z"
   },
   {
    "duration": 24,
    "start_time": "2022-01-24T13:31:20.356Z"
   },
   {
    "duration": 142,
    "start_time": "2022-01-24T13:31:20.382Z"
   },
   {
    "duration": 32,
    "start_time": "2022-01-24T13:31:20.526Z"
   },
   {
    "duration": 25,
    "start_time": "2022-01-24T13:31:20.561Z"
   },
   {
    "duration": 10,
    "start_time": "2022-01-24T13:31:20.590Z"
   },
   {
    "duration": 48,
    "start_time": "2022-01-24T13:31:20.603Z"
   },
   {
    "duration": 9,
    "start_time": "2022-01-24T13:31:20.653Z"
   },
   {
    "duration": 329,
    "start_time": "2022-01-24T13:31:20.664Z"
   },
   {
    "duration": 245,
    "start_time": "2022-01-24T13:31:20.995Z"
   },
   {
    "duration": 143,
    "start_time": "2022-01-24T13:31:21.243Z"
   },
   {
    "duration": 14,
    "start_time": "2022-01-24T13:31:21.389Z"
   },
   {
    "duration": 37,
    "start_time": "2022-01-24T13:31:21.405Z"
   },
   {
    "duration": 3,
    "start_time": "2022-01-24T13:31:21.445Z"
   },
   {
    "duration": 48,
    "start_time": "2022-01-24T13:31:21.451Z"
   },
   {
    "duration": 56,
    "start_time": "2022-01-24T13:31:21.501Z"
   },
   {
    "duration": 28,
    "start_time": "2022-01-24T13:31:21.560Z"
   },
   {
    "duration": 9,
    "start_time": "2022-01-24T13:31:21.590Z"
   },
   {
    "duration": 32,
    "start_time": "2022-01-24T13:31:21.601Z"
   },
   {
    "duration": 50,
    "start_time": "2022-01-24T13:31:21.636Z"
   },
   {
    "duration": 28,
    "start_time": "2022-01-24T13:31:21.691Z"
   },
   {
    "duration": 33,
    "start_time": "2022-01-24T13:31:21.722Z"
   },
   {
    "duration": 9,
    "start_time": "2022-01-24T13:31:21.758Z"
   },
   {
    "duration": 18,
    "start_time": "2022-01-24T13:31:21.769Z"
   },
   {
    "duration": 46,
    "start_time": "2022-01-24T13:31:21.790Z"
   },
   {
    "duration": 58,
    "start_time": "2022-01-24T13:31:21.839Z"
   },
   {
    "duration": 69,
    "start_time": "2022-01-24T13:31:21.900Z"
   },
   {
    "duration": 42,
    "start_time": "2022-01-24T13:31:21.971Z"
   },
   {
    "duration": 58,
    "start_time": "2022-01-24T13:31:22.016Z"
   },
   {
    "duration": 26,
    "start_time": "2022-01-24T13:31:22.077Z"
   },
   {
    "duration": 241,
    "start_time": "2022-01-24T13:31:22.106Z"
   },
   {
    "duration": 215,
    "start_time": "2022-01-24T13:31:22.350Z"
   },
   {
    "duration": 216,
    "start_time": "2022-01-24T13:31:22.568Z"
   },
   {
    "duration": 7,
    "start_time": "2022-01-24T13:31:22.787Z"
   },
   {
    "duration": 505,
    "start_time": "2022-01-24T13:31:22.797Z"
   },
   {
    "duration": 44,
    "start_time": "2022-01-24T13:31:23.304Z"
   },
   {
    "duration": 34,
    "start_time": "2022-01-24T13:31:23.351Z"
   },
   {
    "duration": 65,
    "start_time": "2022-01-24T13:31:23.388Z"
   },
   {
    "duration": 10,
    "start_time": "2022-01-24T13:31:23.456Z"
   },
   {
    "duration": 11,
    "start_time": "2022-01-24T13:31:23.468Z"
   },
   {
    "duration": 391,
    "start_time": "2022-01-24T13:31:23.482Z"
   },
   {
    "duration": 81,
    "start_time": "2022-01-24T13:31:23.877Z"
   },
   {
    "duration": 79,
    "start_time": "2022-01-24T13:31:23.961Z"
   },
   {
    "duration": 10,
    "start_time": "2022-01-24T13:31:24.043Z"
   },
   {
    "duration": 369,
    "start_time": "2022-01-24T13:31:24.056Z"
   },
   {
    "duration": 56,
    "start_time": "2022-01-24T13:31:24.428Z"
   },
   {
    "duration": 83,
    "start_time": "2022-01-24T13:31:24.487Z"
   },
   {
    "duration": 13,
    "start_time": "2022-01-24T13:31:24.572Z"
   },
   {
    "duration": 377,
    "start_time": "2022-01-24T13:31:24.588Z"
   },
   {
    "duration": 74,
    "start_time": "2022-01-24T13:31:24.968Z"
   },
   {
    "duration": 62,
    "start_time": "2022-01-24T13:31:25.045Z"
   },
   {
    "duration": 26,
    "start_time": "2022-01-24T13:31:25.110Z"
   },
   {
    "duration": 12,
    "start_time": "2022-01-24T13:31:25.139Z"
   },
   {
    "duration": 523,
    "start_time": "2022-01-24T13:31:25.154Z"
   },
   {
    "duration": 1540,
    "start_time": "2022-01-24T13:32:18.483Z"
   },
   {
    "duration": 35,
    "start_time": "2022-01-24T13:32:20.026Z"
   },
   {
    "duration": 211,
    "start_time": "2022-01-24T13:32:20.065Z"
   },
   {
    "duration": 25,
    "start_time": "2022-01-24T13:32:20.280Z"
   },
   {
    "duration": 143,
    "start_time": "2022-01-24T13:32:20.308Z"
   },
   {
    "duration": 20,
    "start_time": "2022-01-24T13:32:20.454Z"
   },
   {
    "duration": 25,
    "start_time": "2022-01-24T13:32:20.477Z"
   },
   {
    "duration": 10,
    "start_time": "2022-01-24T13:32:20.531Z"
   },
   {
    "duration": 44,
    "start_time": "2022-01-24T13:32:20.544Z"
   },
   {
    "duration": 8,
    "start_time": "2022-01-24T13:32:20.590Z"
   },
   {
    "duration": 332,
    "start_time": "2022-01-24T13:32:20.600Z"
   },
   {
    "duration": 233,
    "start_time": "2022-01-24T13:32:20.934Z"
   },
   {
    "duration": 141,
    "start_time": "2022-01-24T13:32:21.170Z"
   },
   {
    "duration": 30,
    "start_time": "2022-01-24T13:32:21.313Z"
   },
   {
    "duration": 20,
    "start_time": "2022-01-24T13:32:21.345Z"
   },
   {
    "duration": 4,
    "start_time": "2022-01-24T13:32:21.368Z"
   },
   {
    "duration": 70,
    "start_time": "2022-01-24T13:32:21.374Z"
   },
   {
    "duration": 34,
    "start_time": "2022-01-24T13:32:21.447Z"
   },
   {
    "duration": 50,
    "start_time": "2022-01-24T13:32:21.483Z"
   },
   {
    "duration": 10,
    "start_time": "2022-01-24T13:32:21.536Z"
   },
   {
    "duration": 5,
    "start_time": "2022-01-24T13:32:21.549Z"
   },
   {
    "duration": 40,
    "start_time": "2022-01-24T13:32:21.557Z"
   },
   {
    "duration": 48,
    "start_time": "2022-01-24T13:32:21.602Z"
   },
   {
    "duration": 25,
    "start_time": "2022-01-24T13:32:21.653Z"
   },
   {
    "duration": 8,
    "start_time": "2022-01-24T13:32:21.681Z"
   },
   {
    "duration": 46,
    "start_time": "2022-01-24T13:32:21.691Z"
   },
   {
    "duration": 11,
    "start_time": "2022-01-24T13:32:21.739Z"
   },
   {
    "duration": 81,
    "start_time": "2022-01-24T13:32:21.752Z"
   },
   {
    "duration": 43,
    "start_time": "2022-01-24T13:32:21.836Z"
   },
   {
    "duration": 59,
    "start_time": "2022-01-24T13:32:21.882Z"
   },
   {
    "duration": 44,
    "start_time": "2022-01-24T13:32:21.943Z"
   },
   {
    "duration": 46,
    "start_time": "2022-01-24T13:32:21.990Z"
   },
   {
    "duration": 221,
    "start_time": "2022-01-24T13:32:22.039Z"
   },
   {
    "duration": 209,
    "start_time": "2022-01-24T13:32:22.262Z"
   },
   {
    "duration": 220,
    "start_time": "2022-01-24T13:32:22.474Z"
   },
   {
    "duration": 9,
    "start_time": "2022-01-24T13:32:22.697Z"
   },
   {
    "duration": 474,
    "start_time": "2022-01-24T13:32:22.709Z"
   },
   {
    "duration": 51,
    "start_time": "2022-01-24T13:32:23.185Z"
   },
   {
    "duration": 31,
    "start_time": "2022-01-24T13:32:23.238Z"
   },
   {
    "duration": 35,
    "start_time": "2022-01-24T13:32:23.271Z"
   },
   {
    "duration": 29,
    "start_time": "2022-01-24T13:32:23.309Z"
   },
   {
    "duration": 24,
    "start_time": "2022-01-24T13:32:23.341Z"
   },
   {
    "duration": 370,
    "start_time": "2022-01-24T13:32:23.368Z"
   },
   {
    "duration": 67,
    "start_time": "2022-01-24T13:32:23.740Z"
   },
   {
    "duration": 83,
    "start_time": "2022-01-24T13:32:23.809Z"
   },
   {
    "duration": 11,
    "start_time": "2022-01-24T13:32:23.894Z"
   },
   {
    "duration": 372,
    "start_time": "2022-01-24T13:32:23.933Z"
   },
   {
    "duration": 69,
    "start_time": "2022-01-24T13:32:24.308Z"
   },
   {
    "duration": 71,
    "start_time": "2022-01-24T13:32:24.380Z"
   },
   {
    "duration": 11,
    "start_time": "2022-01-24T13:32:24.454Z"
   },
   {
    "duration": 381,
    "start_time": "2022-01-24T13:32:24.468Z"
   },
   {
    "duration": 62,
    "start_time": "2022-01-24T13:32:24.852Z"
   },
   {
    "duration": 62,
    "start_time": "2022-01-24T13:32:24.933Z"
   },
   {
    "duration": 4,
    "start_time": "2022-01-24T13:32:24.998Z"
   },
   {
    "duration": 34,
    "start_time": "2022-01-24T13:32:25.004Z"
   },
   {
    "duration": 26,
    "start_time": "2022-01-24T13:32:25.041Z"
   },
   {
    "duration": 18,
    "start_time": "2022-01-24T13:33:00.844Z"
   },
   {
    "duration": 1724,
    "start_time": "2022-01-24T15:00:31.575Z"
   },
   {
    "duration": 39,
    "start_time": "2022-01-24T15:00:33.303Z"
   },
   {
    "duration": 184,
    "start_time": "2022-01-24T15:00:33.345Z"
   },
   {
    "duration": 21,
    "start_time": "2022-01-24T15:00:33.533Z"
   },
   {
    "duration": 193,
    "start_time": "2022-01-24T15:00:33.556Z"
   },
   {
    "duration": 30,
    "start_time": "2022-01-24T15:00:33.752Z"
   },
   {
    "duration": 33,
    "start_time": "2022-01-24T15:00:33.785Z"
   },
   {
    "duration": 12,
    "start_time": "2022-01-24T15:00:33.836Z"
   },
   {
    "duration": 40,
    "start_time": "2022-01-24T15:00:33.853Z"
   },
   {
    "duration": 8,
    "start_time": "2022-01-24T15:00:33.895Z"
   },
   {
    "duration": 325,
    "start_time": "2022-01-24T15:00:33.905Z"
   },
   {
    "duration": 228,
    "start_time": "2022-01-24T15:00:34.233Z"
   },
   {
    "duration": 135,
    "start_time": "2022-01-24T15:00:34.463Z"
   },
   {
    "duration": 13,
    "start_time": "2022-01-24T15:00:34.601Z"
   },
   {
    "duration": 32,
    "start_time": "2022-01-24T15:00:34.617Z"
   },
   {
    "duration": 5,
    "start_time": "2022-01-24T15:00:34.652Z"
   },
   {
    "duration": 53,
    "start_time": "2022-01-24T15:00:34.660Z"
   },
   {
    "duration": 47,
    "start_time": "2022-01-24T15:00:34.716Z"
   },
   {
    "duration": 28,
    "start_time": "2022-01-24T15:00:34.765Z"
   },
   {
    "duration": 38,
    "start_time": "2022-01-24T15:00:34.796Z"
   },
   {
    "duration": 6,
    "start_time": "2022-01-24T15:00:34.837Z"
   },
   {
    "duration": 38,
    "start_time": "2022-01-24T15:00:34.845Z"
   },
   {
    "duration": 51,
    "start_time": "2022-01-24T15:00:34.889Z"
   },
   {
    "duration": 23,
    "start_time": "2022-01-24T15:00:34.944Z"
   },
   {
    "duration": 8,
    "start_time": "2022-01-24T15:00:34.969Z"
   },
   {
    "duration": 16,
    "start_time": "2022-01-24T15:00:34.980Z"
   },
   {
    "duration": 46,
    "start_time": "2022-01-24T15:00:34.998Z"
   },
   {
    "duration": 59,
    "start_time": "2022-01-24T15:00:35.046Z"
   },
   {
    "duration": 63,
    "start_time": "2022-01-24T15:00:35.108Z"
   },
   {
    "duration": 59,
    "start_time": "2022-01-24T15:00:35.173Z"
   },
   {
    "duration": 45,
    "start_time": "2022-01-24T15:00:35.235Z"
   },
   {
    "duration": 26,
    "start_time": "2022-01-24T15:00:35.282Z"
   },
   {
    "duration": 230,
    "start_time": "2022-01-24T15:00:35.332Z"
   },
   {
    "duration": 213,
    "start_time": "2022-01-24T15:00:35.564Z"
   },
   {
    "duration": 223,
    "start_time": "2022-01-24T15:00:35.780Z"
   },
   {
    "duration": 8,
    "start_time": "2022-01-24T15:00:36.005Z"
   },
   {
    "duration": 443,
    "start_time": "2022-01-24T15:00:36.015Z"
   },
   {
    "duration": 36,
    "start_time": "2022-01-24T15:00:36.461Z"
   },
   {
    "duration": 54,
    "start_time": "2022-01-24T15:00:36.500Z"
   },
   {
    "duration": 44,
    "start_time": "2022-01-24T15:00:36.557Z"
   },
   {
    "duration": 37,
    "start_time": "2022-01-24T15:00:36.604Z"
   },
   {
    "duration": 13,
    "start_time": "2022-01-24T15:00:36.643Z"
   },
   {
    "duration": 390,
    "start_time": "2022-01-24T15:00:36.658Z"
   },
   {
    "duration": 81,
    "start_time": "2022-01-24T15:00:37.052Z"
   },
   {
    "duration": 61,
    "start_time": "2022-01-24T15:00:37.136Z"
   },
   {
    "duration": 36,
    "start_time": "2022-01-24T15:00:37.199Z"
   },
   {
    "duration": 350,
    "start_time": "2022-01-24T15:00:37.237Z"
   },
   {
    "duration": 69,
    "start_time": "2022-01-24T15:00:37.590Z"
   },
   {
    "duration": 70,
    "start_time": "2022-01-24T15:00:37.662Z"
   },
   {
    "duration": 15,
    "start_time": "2022-01-24T15:00:37.735Z"
   },
   {
    "duration": 373,
    "start_time": "2022-01-24T15:00:37.752Z"
   },
   {
    "duration": 61,
    "start_time": "2022-01-24T15:00:38.127Z"
   },
   {
    "duration": 84,
    "start_time": "2022-01-24T15:00:38.191Z"
   },
   {
    "duration": 4,
    "start_time": "2022-01-24T15:00:38.278Z"
   },
   {
    "duration": 12,
    "start_time": "2022-01-24T15:00:38.285Z"
   },
   {
    "duration": 42,
    "start_time": "2022-01-24T15:00:38.300Z"
   },
   {
    "duration": 23,
    "start_time": "2022-01-24T15:00:38.345Z"
   },
   {
    "duration": 7362,
    "start_time": "2022-01-24T15:00:38.371Z"
   },
   {
    "duration": 85,
    "start_time": "2022-01-24T15:02:34.082Z"
   },
   {
    "duration": 10,
    "start_time": "2022-01-24T15:03:55.873Z"
   },
   {
    "duration": 10,
    "start_time": "2022-01-24T15:11:41.845Z"
   },
   {
    "duration": 17,
    "start_time": "2022-01-24T15:12:10.891Z"
   },
   {
    "duration": 51,
    "start_time": "2022-01-24T15:13:24.237Z"
   },
   {
    "duration": 48,
    "start_time": "2022-01-24T15:13:26.230Z"
   },
   {
    "duration": 36,
    "start_time": "2022-01-24T15:13:29.083Z"
   },
   {
    "duration": 22,
    "start_time": "2022-01-24T15:16:48.537Z"
   },
   {
    "duration": 23,
    "start_time": "2022-01-24T15:17:56.189Z"
   },
   {
    "duration": 20,
    "start_time": "2022-01-24T15:18:50.782Z"
   },
   {
    "duration": 35,
    "start_time": "2022-01-24T15:19:08.803Z"
   },
   {
    "duration": 42,
    "start_time": "2022-01-24T15:19:18.679Z"
   },
   {
    "duration": 48,
    "start_time": "2022-01-24T15:19:27.003Z"
   },
   {
    "duration": 31,
    "start_time": "2022-01-24T15:20:10.037Z"
   },
   {
    "duration": 27,
    "start_time": "2022-01-24T15:21:00.267Z"
   },
   {
    "duration": 336,
    "start_time": "2022-01-24T15:40:55.606Z"
   },
   {
    "duration": 443,
    "start_time": "2022-01-24T15:53:57.216Z"
   },
   {
    "duration": 88,
    "start_time": "2022-01-24T15:57:02.488Z"
   },
   {
    "duration": 72,
    "start_time": "2022-01-24T15:57:11.035Z"
   },
   {
    "duration": 32,
    "start_time": "2022-01-24T15:57:32.172Z"
   },
   {
    "duration": 29,
    "start_time": "2022-01-24T15:57:47.449Z"
   },
   {
    "duration": 11,
    "start_time": "2022-01-24T16:04:34.721Z"
   },
   {
    "duration": 378,
    "start_time": "2022-01-24T16:18:19.912Z"
   },
   {
    "duration": 37,
    "start_time": "2022-01-24T16:19:40.927Z"
   },
   {
    "duration": 11,
    "start_time": "2022-01-24T16:24:34.504Z"
   },
   {
    "duration": 528,
    "start_time": "2022-01-24T16:27:35.605Z"
   },
   {
    "duration": 13,
    "start_time": "2022-01-24T16:36:24.404Z"
   },
   {
    "duration": 376,
    "start_time": "2022-01-24T16:39:31.328Z"
   },
   {
    "duration": 357,
    "start_time": "2022-01-24T16:42:12.286Z"
   },
   {
    "duration": 62,
    "start_time": "2022-01-24T16:46:34.297Z"
   },
   {
    "duration": 63,
    "start_time": "2022-01-24T16:48:22.927Z"
   },
   {
    "duration": 19,
    "start_time": "2022-01-24T17:07:03.302Z"
   },
   {
    "duration": 10,
    "start_time": "2022-01-24T17:09:39.923Z"
   },
   {
    "duration": 1903,
    "start_time": "2022-01-24T17:18:24.648Z"
   },
   {
    "duration": 80,
    "start_time": "2022-01-24T17:18:26.554Z"
   },
   {
    "duration": 308,
    "start_time": "2022-01-24T17:18:26.638Z"
   },
   {
    "duration": 37,
    "start_time": "2022-01-24T17:18:26.950Z"
   },
   {
    "duration": 126,
    "start_time": "2022-01-24T17:18:26.990Z"
   },
   {
    "duration": 18,
    "start_time": "2022-01-24T17:18:27.118Z"
   },
   {
    "duration": 30,
    "start_time": "2022-01-24T17:18:27.139Z"
   },
   {
    "duration": 10,
    "start_time": "2022-01-24T17:18:27.174Z"
   },
   {
    "duration": 63,
    "start_time": "2022-01-24T17:18:27.187Z"
   },
   {
    "duration": 9,
    "start_time": "2022-01-24T17:18:27.253Z"
   },
   {
    "duration": 351,
    "start_time": "2022-01-24T17:18:27.264Z"
   },
   {
    "duration": 254,
    "start_time": "2022-01-24T17:18:27.618Z"
   },
   {
    "duration": 147,
    "start_time": "2022-01-24T17:18:27.875Z"
   },
   {
    "duration": 20,
    "start_time": "2022-01-24T17:18:28.024Z"
   },
   {
    "duration": 29,
    "start_time": "2022-01-24T17:18:28.046Z"
   },
   {
    "duration": 5,
    "start_time": "2022-01-24T17:18:28.078Z"
   },
   {
    "duration": 81,
    "start_time": "2022-01-24T17:18:28.085Z"
   },
   {
    "duration": 69,
    "start_time": "2022-01-24T17:18:28.169Z"
   },
   {
    "duration": 37,
    "start_time": "2022-01-24T17:18:28.241Z"
   },
   {
    "duration": 9,
    "start_time": "2022-01-24T17:18:28.281Z"
   },
   {
    "duration": 7,
    "start_time": "2022-01-24T17:18:28.292Z"
   },
   {
    "duration": 73,
    "start_time": "2022-01-24T17:18:28.302Z"
   },
   {
    "duration": 55,
    "start_time": "2022-01-24T17:18:28.385Z"
   },
   {
    "duration": 32,
    "start_time": "2022-01-24T17:18:28.444Z"
   },
   {
    "duration": 11,
    "start_time": "2022-01-24T17:18:28.479Z"
   },
   {
    "duration": 48,
    "start_time": "2022-01-24T17:18:28.493Z"
   },
   {
    "duration": 15,
    "start_time": "2022-01-24T17:18:28.545Z"
   },
   {
    "duration": 107,
    "start_time": "2022-01-24T17:18:28.564Z"
   },
   {
    "duration": 76,
    "start_time": "2022-01-24T17:18:28.674Z"
   },
   {
    "duration": 57,
    "start_time": "2022-01-24T17:18:28.753Z"
   },
   {
    "duration": 45,
    "start_time": "2022-01-24T17:18:28.813Z"
   },
   {
    "duration": 21,
    "start_time": "2022-01-24T17:18:28.861Z"
   },
   {
    "duration": 61,
    "start_time": "2022-01-24T17:18:28.885Z"
   },
   {
    "duration": 38,
    "start_time": "2022-01-24T17:18:28.949Z"
   },
   {
    "duration": 334,
    "start_time": "2022-01-24T17:18:28.990Z"
   },
   {
    "duration": 273,
    "start_time": "2022-01-24T17:18:29.331Z"
   },
   {
    "duration": 221,
    "start_time": "2022-01-24T17:18:29.606Z"
   },
   {
    "duration": 8,
    "start_time": "2022-01-24T17:18:29.833Z"
   },
   {
    "duration": 466,
    "start_time": "2022-01-24T17:18:29.844Z"
   },
   {
    "duration": 48,
    "start_time": "2022-01-24T17:18:30.313Z"
   },
   {
    "duration": 31,
    "start_time": "2022-01-24T17:18:30.364Z"
   },
   {
    "duration": 56,
    "start_time": "2022-01-24T17:18:30.398Z"
   },
   {
    "duration": 9,
    "start_time": "2022-01-24T17:18:30.457Z"
   },
   {
    "duration": 15,
    "start_time": "2022-01-24T17:18:30.468Z"
   },
   {
    "duration": 411,
    "start_time": "2022-01-24T17:18:30.485Z"
   },
   {
    "duration": 80,
    "start_time": "2022-01-24T17:18:30.899Z"
   },
   {
    "duration": 93,
    "start_time": "2022-01-24T17:18:30.982Z"
   },
   {
    "duration": 12,
    "start_time": "2022-01-24T17:18:31.077Z"
   },
   {
    "duration": 387,
    "start_time": "2022-01-24T17:18:31.092Z"
   },
   {
    "duration": 72,
    "start_time": "2022-01-24T17:18:31.483Z"
   },
   {
    "duration": 56,
    "start_time": "2022-01-24T17:18:31.558Z"
   },
   {
    "duration": 12,
    "start_time": "2022-01-24T17:18:31.633Z"
   },
   {
    "duration": 405,
    "start_time": "2022-01-24T17:18:31.648Z"
   },
   {
    "duration": 90,
    "start_time": "2022-01-24T17:18:32.057Z"
   },
   {
    "duration": 89,
    "start_time": "2022-01-24T17:18:32.149Z"
   },
   {
    "duration": 3,
    "start_time": "2022-01-24T17:18:32.240Z"
   },
   {
    "duration": 13,
    "start_time": "2022-01-24T17:18:32.245Z"
   },
   {
    "duration": 33,
    "start_time": "2022-01-24T17:18:32.260Z"
   },
   {
    "duration": 46,
    "start_time": "2022-01-24T17:18:32.295Z"
   },
   {
    "duration": 13,
    "start_time": "2022-01-24T17:18:32.344Z"
   },
   {
    "duration": 102,
    "start_time": "2022-01-24T18:02:12.209Z"
   },
   {
    "duration": 103,
    "start_time": "2022-01-24T18:29:27.078Z"
   },
   {
    "duration": 24,
    "start_time": "2022-01-24T18:29:39.985Z"
   },
   {
    "duration": 36,
    "start_time": "2022-01-24T18:30:54.429Z"
   },
   {
    "duration": 73,
    "start_time": "2022-01-24T18:31:17.122Z"
   },
   {
    "duration": 108,
    "start_time": "2022-01-24T18:32:25.683Z"
   },
   {
    "duration": 1579,
    "start_time": "2022-01-24T19:16:55.378Z"
   },
   {
    "duration": 29,
    "start_time": "2022-01-24T19:16:56.959Z"
   },
   {
    "duration": 318,
    "start_time": "2022-01-24T19:16:56.991Z"
   },
   {
    "duration": 33,
    "start_time": "2022-01-24T19:16:57.311Z"
   },
   {
    "duration": 256,
    "start_time": "2022-01-24T19:16:57.346Z"
   },
   {
    "duration": 128,
    "start_time": "2022-01-24T19:16:57.605Z"
   },
   {
    "duration": 162,
    "start_time": "2022-01-24T19:16:57.736Z"
   },
   {
    "duration": 213,
    "start_time": "2022-01-24T19:16:57.902Z"
   },
   {
    "duration": 178,
    "start_time": "2022-01-24T19:16:58.118Z"
   },
   {
    "duration": 107,
    "start_time": "2022-01-24T19:16:58.298Z"
   },
   {
    "duration": 486,
    "start_time": "2022-01-24T19:16:58.407Z"
   },
   {
    "duration": 317,
    "start_time": "2022-01-24T19:16:58.896Z"
   },
   {
    "duration": 161,
    "start_time": "2022-01-24T19:16:59.216Z"
   },
   {
    "duration": 58,
    "start_time": "2022-01-24T19:16:59.380Z"
   },
   {
    "duration": 205,
    "start_time": "2022-01-24T19:16:59.440Z"
   },
   {
    "duration": 450,
    "start_time": "2022-01-24T19:16:59.647Z"
   },
   {
    "duration": 522,
    "start_time": "2022-01-24T19:17:00.100Z"
   },
   {
    "duration": 179,
    "start_time": "2022-01-24T19:17:00.624Z"
   },
   {
    "duration": 200,
    "start_time": "2022-01-24T19:17:00.806Z"
   },
   {
    "duration": 167,
    "start_time": "2022-01-24T19:17:01.009Z"
   },
   {
    "duration": 75,
    "start_time": "2022-01-24T19:17:01.179Z"
   },
   {
    "duration": 733,
    "start_time": "2022-01-24T19:17:01.256Z"
   },
   {
    "duration": 688,
    "start_time": "2022-01-24T19:17:01.995Z"
   },
   {
    "duration": 189,
    "start_time": "2022-01-24T19:17:02.686Z"
   },
   {
    "duration": 43,
    "start_time": "2022-01-24T19:17:02.877Z"
   },
   {
    "duration": 202,
    "start_time": "2022-01-24T19:17:02.922Z"
   },
   {
    "duration": 166,
    "start_time": "2022-01-24T19:17:03.127Z"
   },
   {
    "duration": 208,
    "start_time": "2022-01-24T19:17:03.295Z"
   },
   {
    "duration": 197,
    "start_time": "2022-01-24T19:17:03.506Z"
   },
   {
    "duration": 124,
    "start_time": "2022-01-24T19:17:03.706Z"
   },
   {
    "duration": 91,
    "start_time": "2022-01-24T19:17:03.832Z"
   },
   {
    "duration": 203,
    "start_time": "2022-01-24T19:17:03.926Z"
   },
   {
    "duration": 94,
    "start_time": "2022-01-24T19:17:04.131Z"
   },
   {
    "duration": 29,
    "start_time": "2022-01-24T19:17:04.228Z"
   },
   {
    "duration": 492,
    "start_time": "2022-01-24T19:17:04.259Z"
   },
   {
    "duration": 231,
    "start_time": "2022-01-24T19:17:04.754Z"
   },
   {
    "duration": 238,
    "start_time": "2022-01-24T19:17:04.988Z"
   },
   {
    "duration": 13,
    "start_time": "2022-01-24T19:17:05.228Z"
   },
   {
    "duration": 602,
    "start_time": "2022-01-24T19:17:05.243Z"
   },
   {
    "duration": 41,
    "start_time": "2022-01-24T19:17:05.849Z"
   },
   {
    "duration": 266,
    "start_time": "2022-01-24T19:17:05.893Z"
   },
   {
    "duration": 176,
    "start_time": "2022-01-24T19:17:06.162Z"
   },
   {
    "duration": 63,
    "start_time": "2022-01-24T19:17:06.343Z"
   },
   {
    "duration": 52,
    "start_time": "2022-01-24T19:17:06.409Z"
   },
   {
    "duration": 426,
    "start_time": "2022-01-24T19:17:06.464Z"
   },
   {
    "duration": 89,
    "start_time": "2022-01-24T19:17:06.893Z"
   },
   {
    "duration": 254,
    "start_time": "2022-01-24T19:17:06.985Z"
   },
   {
    "duration": 130,
    "start_time": "2022-01-24T19:17:07.242Z"
   },
   {
    "duration": 493,
    "start_time": "2022-01-24T19:17:07.376Z"
   },
   {
    "duration": 77,
    "start_time": "2022-01-24T19:17:07.872Z"
   },
   {
    "duration": 196,
    "start_time": "2022-01-24T19:17:07.952Z"
   },
   {
    "duration": 59,
    "start_time": "2022-01-24T19:17:08.151Z"
   },
   {
    "duration": 630,
    "start_time": "2022-01-24T19:17:08.213Z"
   },
   {
    "duration": 91,
    "start_time": "2022-01-24T19:17:08.847Z"
   },
   {
    "duration": 327,
    "start_time": "2022-01-24T19:17:08.941Z"
   },
   {
    "duration": 401,
    "start_time": "2022-01-24T19:17:09.271Z"
   },
   {
    "duration": 243,
    "start_time": "2022-01-24T19:17:09.675Z"
   },
   {
    "duration": 677,
    "start_time": "2022-01-24T19:17:09.921Z"
   },
   {
    "duration": 303,
    "start_time": "2022-01-24T19:17:10.600Z"
   },
   {
    "duration": 295,
    "start_time": "2022-01-24T19:17:10.905Z"
   },
   {
    "duration": 88,
    "start_time": "2022-01-24T19:18:46.792Z"
   },
   {
    "duration": 55,
    "start_time": "2022-01-24T19:18:54.896Z"
   },
   {
    "duration": 24,
    "start_time": "2022-01-24T19:22:04.797Z"
   },
   {
    "duration": 55,
    "start_time": "2022-01-24T19:22:47.216Z"
   },
   {
    "duration": 34,
    "start_time": "2022-01-24T19:23:10.252Z"
   },
   {
    "duration": 32,
    "start_time": "2022-01-24T19:23:33.464Z"
   },
   {
    "duration": 85,
    "start_time": "2022-01-24T19:26:27.906Z"
   },
   {
    "duration": 65,
    "start_time": "2022-01-24T19:27:18.546Z"
   },
   {
    "duration": 103,
    "start_time": "2022-01-24T19:28:00.238Z"
   },
   {
    "duration": 56,
    "start_time": "2022-01-24T19:28:19.272Z"
   },
   {
    "duration": 57,
    "start_time": "2022-01-24T19:28:40.412Z"
   },
   {
    "duration": 65,
    "start_time": "2022-01-24T19:28:53.652Z"
   },
   {
    "duration": 77,
    "start_time": "2022-01-24T19:29:02.916Z"
   },
   {
    "duration": 13,
    "start_time": "2022-01-24T19:29:21.885Z"
   },
   {
    "duration": 476,
    "start_time": "2022-02-01T15:55:29.318Z"
   },
   {
    "duration": 629,
    "start_time": "2022-02-01T15:55:43.147Z"
   },
   {
    "duration": 1895,
    "start_time": "2022-02-01T15:55:51.558Z"
   },
   {
    "duration": 42,
    "start_time": "2022-02-01T15:55:53.459Z"
   },
   {
    "duration": 220,
    "start_time": "2022-02-01T15:55:53.505Z"
   },
   {
    "duration": 43,
    "start_time": "2022-02-01T15:55:53.728Z"
   },
   {
    "duration": 141,
    "start_time": "2022-02-01T15:55:53.774Z"
   },
   {
    "duration": 17,
    "start_time": "2022-02-01T15:55:53.918Z"
   },
   {
    "duration": 33,
    "start_time": "2022-02-01T15:55:53.938Z"
   },
   {
    "duration": 14,
    "start_time": "2022-02-01T15:55:53.975Z"
   },
   {
    "duration": 71,
    "start_time": "2022-02-01T15:55:53.995Z"
   },
   {
    "duration": 13,
    "start_time": "2022-02-01T15:55:54.071Z"
   },
   {
    "duration": 446,
    "start_time": "2022-02-01T15:55:54.087Z"
   },
   {
    "duration": 261,
    "start_time": "2022-02-01T15:55:54.535Z"
   },
   {
    "duration": 152,
    "start_time": "2022-02-01T15:55:54.799Z"
   },
   {
    "duration": 18,
    "start_time": "2022-02-01T15:55:54.953Z"
   },
   {
    "duration": 46,
    "start_time": "2022-02-01T15:55:54.973Z"
   },
   {
    "duration": 4,
    "start_time": "2022-02-01T15:55:55.022Z"
   },
   {
    "duration": 71,
    "start_time": "2022-02-01T15:55:55.028Z"
   },
   {
    "duration": 35,
    "start_time": "2022-02-01T15:55:55.101Z"
   },
   {
    "duration": 56,
    "start_time": "2022-02-01T15:55:55.138Z"
   },
   {
    "duration": 14,
    "start_time": "2022-02-01T15:55:55.197Z"
   },
   {
    "duration": 5,
    "start_time": "2022-02-01T15:55:55.214Z"
   },
   {
    "duration": 77,
    "start_time": "2022-02-01T15:55:55.222Z"
   },
   {
    "duration": 27,
    "start_time": "2022-02-01T15:55:55.306Z"
   },
   {
    "duration": 47,
    "start_time": "2022-02-01T15:55:55.337Z"
   },
   {
    "duration": 13,
    "start_time": "2022-02-01T15:55:55.387Z"
   },
   {
    "duration": 15,
    "start_time": "2022-02-01T15:55:55.403Z"
   },
   {
    "duration": 13,
    "start_time": "2022-02-01T15:55:55.421Z"
   },
   {
    "duration": 91,
    "start_time": "2022-02-01T15:55:55.437Z"
   },
   {
    "duration": 92,
    "start_time": "2022-02-01T15:55:55.531Z"
   },
   {
    "duration": 60,
    "start_time": "2022-02-01T15:55:55.627Z"
   },
   {
    "duration": 21,
    "start_time": "2022-02-01T15:55:55.689Z"
   },
   {
    "duration": 21,
    "start_time": "2022-02-01T15:55:55.713Z"
   },
   {
    "duration": 61,
    "start_time": "2022-02-01T15:55:55.736Z"
   },
   {
    "duration": 30,
    "start_time": "2022-02-01T15:55:55.799Z"
   },
   {
    "duration": 290,
    "start_time": "2022-02-01T15:55:55.831Z"
   },
   {
    "duration": 290,
    "start_time": "2022-02-01T15:55:56.124Z"
   },
   {
    "duration": 252,
    "start_time": "2022-02-01T15:55:56.416Z"
   },
   {
    "duration": 14,
    "start_time": "2022-02-01T15:55:56.671Z"
   },
   {
    "duration": 497,
    "start_time": "2022-02-01T15:55:56.694Z"
   },
   {
    "duration": 51,
    "start_time": "2022-02-01T15:55:57.194Z"
   },
   {
    "duration": 55,
    "start_time": "2022-02-01T15:55:57.261Z"
   },
   {
    "duration": 57,
    "start_time": "2022-02-01T15:55:57.319Z"
   },
   {
    "duration": 14,
    "start_time": "2022-02-01T15:55:57.380Z"
   },
   {
    "duration": 15,
    "start_time": "2022-02-01T15:55:57.396Z"
   },
   {
    "duration": 497,
    "start_time": "2022-02-01T15:55:57.418Z"
   },
   {
    "duration": 85,
    "start_time": "2022-02-01T15:55:57.918Z"
   },
   {
    "duration": 96,
    "start_time": "2022-02-01T15:55:58.006Z"
   },
   {
    "duration": 13,
    "start_time": "2022-02-01T15:55:58.104Z"
   },
   {
    "duration": 409,
    "start_time": "2022-02-01T15:55:58.120Z"
   },
   {
    "duration": 77,
    "start_time": "2022-02-01T15:55:58.532Z"
   },
   {
    "duration": 87,
    "start_time": "2022-02-01T15:55:58.612Z"
   },
   {
    "duration": 13,
    "start_time": "2022-02-01T15:55:58.701Z"
   },
   {
    "duration": 414,
    "start_time": "2022-02-01T15:55:58.717Z"
   },
   {
    "duration": 90,
    "start_time": "2022-02-01T15:55:59.133Z"
   },
   {
    "duration": 73,
    "start_time": "2022-02-01T15:55:59.225Z"
   },
   {
    "duration": 5,
    "start_time": "2022-02-01T15:55:59.301Z"
   },
   {
    "duration": 11,
    "start_time": "2022-02-01T15:55:59.309Z"
   },
   {
    "duration": 61,
    "start_time": "2022-02-01T15:55:59.323Z"
   },
   {
    "duration": 29,
    "start_time": "2022-02-01T15:55:59.395Z"
   },
   {
    "duration": 16,
    "start_time": "2022-02-01T15:55:59.427Z"
   },
   {
    "duration": 259,
    "start_time": "2022-02-01T15:56:19.646Z"
   },
   {
    "duration": 10,
    "start_time": "2022-02-01T15:57:42.324Z"
   },
   {
    "duration": 562,
    "start_time": "2022-02-01T15:58:35.033Z"
   },
   {
    "duration": 22,
    "start_time": "2022-02-01T15:58:48.101Z"
   },
   {
    "duration": 28,
    "start_time": "2022-02-01T15:58:58.275Z"
   },
   {
    "duration": 35,
    "start_time": "2022-02-01T15:59:34.590Z"
   },
   {
    "duration": 417,
    "start_time": "2022-02-01T16:03:42.431Z"
   },
   {
    "duration": 434,
    "start_time": "2022-02-01T16:04:24.486Z"
   },
   {
    "duration": 48,
    "start_time": "2022-02-01T16:05:31.974Z"
   },
   {
    "duration": 11,
    "start_time": "2022-02-01T16:17:57.323Z"
   },
   {
    "duration": 10,
    "start_time": "2022-02-01T16:18:01.712Z"
   },
   {
    "duration": 14,
    "start_time": "2022-02-01T16:18:43.014Z"
   },
   {
    "duration": 1701,
    "start_time": "2022-02-01T16:19:03.283Z"
   },
   {
    "duration": 31,
    "start_time": "2022-02-01T16:19:04.987Z"
   },
   {
    "duration": 211,
    "start_time": "2022-02-01T16:19:05.021Z"
   },
   {
    "duration": 36,
    "start_time": "2022-02-01T16:19:05.234Z"
   },
   {
    "duration": 143,
    "start_time": "2022-02-01T16:19:05.273Z"
   },
   {
    "duration": 28,
    "start_time": "2022-02-01T16:19:05.419Z"
   },
   {
    "duration": 42,
    "start_time": "2022-02-01T16:19:05.449Z"
   },
   {
    "duration": 13,
    "start_time": "2022-02-01T16:19:05.497Z"
   },
   {
    "duration": 82,
    "start_time": "2022-02-01T16:19:05.512Z"
   },
   {
    "duration": 8,
    "start_time": "2022-02-01T16:19:05.597Z"
   },
   {
    "duration": 327,
    "start_time": "2022-02-01T16:19:05.607Z"
   },
   {
    "duration": 320,
    "start_time": "2022-02-01T16:19:05.937Z"
   },
   {
    "duration": 183,
    "start_time": "2022-02-01T16:19:06.263Z"
   },
   {
    "duration": 32,
    "start_time": "2022-02-01T16:19:06.449Z"
   },
   {
    "duration": 36,
    "start_time": "2022-02-01T16:19:06.484Z"
   },
   {
    "duration": 5,
    "start_time": "2022-02-01T16:19:06.523Z"
   },
   {
    "duration": 61,
    "start_time": "2022-02-01T16:19:06.531Z"
   },
   {
    "duration": 36,
    "start_time": "2022-02-01T16:19:06.594Z"
   },
   {
    "duration": 48,
    "start_time": "2022-02-01T16:19:06.633Z"
   },
   {
    "duration": 12,
    "start_time": "2022-02-01T16:19:06.688Z"
   },
   {
    "duration": 5,
    "start_time": "2022-02-01T16:19:06.703Z"
   },
   {
    "duration": 70,
    "start_time": "2022-02-01T16:19:06.711Z"
   },
   {
    "duration": 28,
    "start_time": "2022-02-01T16:19:06.788Z"
   },
   {
    "duration": 44,
    "start_time": "2022-02-01T16:19:06.820Z"
   },
   {
    "duration": 12,
    "start_time": "2022-02-01T16:19:06.868Z"
   },
   {
    "duration": 35,
    "start_time": "2022-02-01T16:19:06.887Z"
   },
   {
    "duration": 14,
    "start_time": "2022-02-01T16:19:06.925Z"
   },
   {
    "duration": 78,
    "start_time": "2022-02-01T16:19:06.942Z"
   },
   {
    "duration": 74,
    "start_time": "2022-02-01T16:19:07.024Z"
   },
   {
    "duration": 42,
    "start_time": "2022-02-01T16:19:07.101Z"
   },
   {
    "duration": 39,
    "start_time": "2022-02-01T16:19:07.145Z"
   },
   {
    "duration": 42,
    "start_time": "2022-02-01T16:19:07.186Z"
   },
   {
    "duration": 61,
    "start_time": "2022-02-01T16:19:07.230Z"
   },
   {
    "duration": 37,
    "start_time": "2022-02-01T16:19:07.294Z"
   },
   {
    "duration": 247,
    "start_time": "2022-02-01T16:19:07.335Z"
   },
   {
    "duration": 222,
    "start_time": "2022-02-01T16:19:07.584Z"
   },
   {
    "duration": 235,
    "start_time": "2022-02-01T16:19:07.808Z"
   },
   {
    "duration": 26,
    "start_time": "2022-02-01T16:19:08.046Z"
   },
   {
    "duration": 375,
    "start_time": "2022-02-01T16:19:08.079Z"
   },
   {
    "duration": 47,
    "start_time": "2022-02-01T16:19:08.459Z"
   },
   {
    "duration": 61,
    "start_time": "2022-02-01T16:19:08.509Z"
   },
   {
    "duration": 42,
    "start_time": "2022-02-01T16:19:08.573Z"
   },
   {
    "duration": 10,
    "start_time": "2022-02-01T16:19:08.618Z"
   },
   {
    "duration": 30,
    "start_time": "2022-02-01T16:19:08.631Z"
   },
   {
    "duration": 527,
    "start_time": "2022-02-01T16:19:08.666Z"
   },
   {
    "duration": 79,
    "start_time": "2022-02-01T16:19:09.198Z"
   },
   {
    "duration": 98,
    "start_time": "2022-02-01T16:19:09.280Z"
   },
   {
    "duration": 16,
    "start_time": "2022-02-01T16:19:09.383Z"
   },
   {
    "duration": 389,
    "start_time": "2022-02-01T16:19:09.404Z"
   },
   {
    "duration": 71,
    "start_time": "2022-02-01T16:19:09.796Z"
   },
   {
    "duration": 62,
    "start_time": "2022-02-01T16:19:09.870Z"
   },
   {
    "duration": 40,
    "start_time": "2022-02-01T16:19:09.934Z"
   },
   {
    "duration": 518,
    "start_time": "2022-02-01T16:19:09.976Z"
   },
   {
    "duration": 105,
    "start_time": "2022-02-01T16:19:10.497Z"
   },
   {
    "duration": 89,
    "start_time": "2022-02-01T16:19:10.608Z"
   },
   {
    "duration": 4,
    "start_time": "2022-02-01T16:19:10.701Z"
   },
   {
    "duration": 13,
    "start_time": "2022-02-01T16:19:10.708Z"
   },
   {
    "duration": 57,
    "start_time": "2022-02-01T16:19:10.724Z"
   },
   {
    "duration": 19,
    "start_time": "2022-02-01T16:19:10.783Z"
   },
   {
    "duration": 18,
    "start_time": "2022-02-01T16:19:10.804Z"
   },
   {
    "duration": 353,
    "start_time": "2022-02-01T16:19:27.525Z"
   },
   {
    "duration": 10,
    "start_time": "2022-02-01T16:19:40.811Z"
   },
   {
    "duration": 30,
    "start_time": "2022-02-01T16:21:12.328Z"
   },
   {
    "duration": 31,
    "start_time": "2022-02-01T16:21:17.183Z"
   },
   {
    "duration": 48,
    "start_time": "2022-02-01T16:21:21.050Z"
   },
   {
    "duration": 31,
    "start_time": "2022-02-01T16:21:24.226Z"
   },
   {
    "duration": 2388,
    "start_time": "2022-02-01T16:22:17.820Z"
   },
   {
    "duration": 150,
    "start_time": "2022-02-01T16:22:20.211Z"
   },
   {
    "duration": 263,
    "start_time": "2022-02-01T16:22:20.368Z"
   },
   {
    "duration": 37,
    "start_time": "2022-02-01T16:22:20.634Z"
   },
   {
    "duration": 144,
    "start_time": "2022-02-01T16:22:20.674Z"
   },
   {
    "duration": 20,
    "start_time": "2022-02-01T16:22:20.820Z"
   },
   {
    "duration": 35,
    "start_time": "2022-02-01T16:22:20.843Z"
   },
   {
    "duration": 20,
    "start_time": "2022-02-01T16:22:20.883Z"
   },
   {
    "duration": 87,
    "start_time": "2022-02-01T16:22:20.907Z"
   },
   {
    "duration": 8,
    "start_time": "2022-02-01T16:22:20.997Z"
   },
   {
    "duration": 397,
    "start_time": "2022-02-01T16:22:21.008Z"
   },
   {
    "duration": 315,
    "start_time": "2022-02-01T16:22:21.408Z"
   },
   {
    "duration": 167,
    "start_time": "2022-02-01T16:22:21.725Z"
   },
   {
    "duration": 16,
    "start_time": "2022-02-01T16:22:21.895Z"
   },
   {
    "duration": 19,
    "start_time": "2022-02-01T16:22:21.914Z"
   },
   {
    "duration": 24,
    "start_time": "2022-02-01T16:22:21.935Z"
   },
   {
    "duration": 82,
    "start_time": "2022-02-01T16:22:21.962Z"
   },
   {
    "duration": 103,
    "start_time": "2022-02-01T16:22:22.059Z"
   },
   {
    "duration": 42,
    "start_time": "2022-02-01T16:22:22.165Z"
   },
   {
    "duration": 76,
    "start_time": "2022-02-01T16:22:22.209Z"
   },
   {
    "duration": 8,
    "start_time": "2022-02-01T16:22:22.288Z"
   },
   {
    "duration": 91,
    "start_time": "2022-02-01T16:22:22.299Z"
   },
   {
    "duration": 92,
    "start_time": "2022-02-01T16:22:22.401Z"
   },
   {
    "duration": 83,
    "start_time": "2022-02-01T16:22:22.497Z"
   },
   {
    "duration": 12,
    "start_time": "2022-02-01T16:22:22.582Z"
   },
   {
    "duration": 66,
    "start_time": "2022-02-01T16:22:22.598Z"
   },
   {
    "duration": 18,
    "start_time": "2022-02-01T16:22:22.667Z"
   },
   {
    "duration": 176,
    "start_time": "2022-02-01T16:22:22.688Z"
   },
   {
    "duration": 110,
    "start_time": "2022-02-01T16:22:22.866Z"
   },
   {
    "duration": 94,
    "start_time": "2022-02-01T16:22:22.979Z"
   },
   {
    "duration": 26,
    "start_time": "2022-02-01T16:22:23.076Z"
   },
   {
    "duration": 24,
    "start_time": "2022-02-01T16:22:23.104Z"
   },
   {
    "duration": 65,
    "start_time": "2022-02-01T16:22:23.131Z"
   },
   {
    "duration": 26,
    "start_time": "2022-02-01T16:22:23.199Z"
   },
   {
    "duration": 245,
    "start_time": "2022-02-01T16:22:23.228Z"
   },
   {
    "duration": 224,
    "start_time": "2022-02-01T16:22:23.476Z"
   },
   {
    "duration": 228,
    "start_time": "2022-02-01T16:22:23.702Z"
   },
   {
    "duration": 10,
    "start_time": "2022-02-01T16:22:23.932Z"
   },
   {
    "duration": 363,
    "start_time": "2022-02-01T16:22:23.944Z"
   },
   {
    "duration": 58,
    "start_time": "2022-02-01T16:22:24.309Z"
   },
   {
    "duration": 39,
    "start_time": "2022-02-01T16:22:24.370Z"
   },
   {
    "duration": 29,
    "start_time": "2022-02-01T16:22:24.412Z"
   },
   {
    "duration": 24,
    "start_time": "2022-02-01T16:22:24.444Z"
   },
   {
    "duration": 20,
    "start_time": "2022-02-01T16:22:24.471Z"
   },
   {
    "duration": 522,
    "start_time": "2022-02-01T16:22:24.493Z"
   },
   {
    "duration": 99,
    "start_time": "2022-02-01T16:22:25.018Z"
   },
   {
    "duration": 93,
    "start_time": "2022-02-01T16:22:25.120Z"
   },
   {
    "duration": 13,
    "start_time": "2022-02-01T16:22:25.215Z"
   },
   {
    "duration": 402,
    "start_time": "2022-02-01T16:22:25.231Z"
   },
   {
    "duration": 76,
    "start_time": "2022-02-01T16:22:25.635Z"
   },
   {
    "duration": 76,
    "start_time": "2022-02-01T16:22:25.714Z"
   },
   {
    "duration": 12,
    "start_time": "2022-02-01T16:22:25.793Z"
   },
   {
    "duration": 506,
    "start_time": "2022-02-01T16:22:25.808Z"
   },
   {
    "duration": 88,
    "start_time": "2022-02-01T16:22:26.316Z"
   },
   {
    "duration": 91,
    "start_time": "2022-02-01T16:22:26.407Z"
   },
   {
    "duration": 4,
    "start_time": "2022-02-01T16:22:26.501Z"
   },
   {
    "duration": 17,
    "start_time": "2022-02-01T16:22:26.508Z"
   },
   {
    "duration": 45,
    "start_time": "2022-02-01T16:22:26.527Z"
   },
   {
    "duration": 30,
    "start_time": "2022-02-01T16:22:26.575Z"
   },
   {
    "duration": 10133,
    "start_time": "2022-02-01T16:22:26.607Z"
   },
   {
    "duration": 156,
    "start_time": "2022-02-01T16:34:43.526Z"
   },
   {
    "duration": 188,
    "start_time": "2022-02-01T16:50:11.076Z"
   },
   {
    "duration": 11075,
    "start_time": "2022-02-01T16:50:24.328Z"
   },
   {
    "duration": 447,
    "start_time": "2022-02-03T11:22:37.566Z"
   },
   {
    "duration": 1230,
    "start_time": "2022-02-03T11:22:51.396Z"
   },
   {
    "duration": 18,
    "start_time": "2022-02-03T11:22:52.628Z"
   },
   {
    "duration": 137,
    "start_time": "2022-02-03T11:22:52.647Z"
   },
   {
    "duration": 15,
    "start_time": "2022-02-03T11:22:52.786Z"
   },
   {
    "duration": 88,
    "start_time": "2022-02-03T11:22:52.803Z"
   },
   {
    "duration": 13,
    "start_time": "2022-02-03T11:22:52.893Z"
   },
   {
    "duration": 22,
    "start_time": "2022-02-03T11:22:52.908Z"
   },
   {
    "duration": 7,
    "start_time": "2022-02-03T11:22:52.932Z"
   },
   {
    "duration": 52,
    "start_time": "2022-02-03T11:22:52.940Z"
   },
   {
    "duration": 4,
    "start_time": "2022-02-03T11:22:52.994Z"
   },
   {
    "duration": 196,
    "start_time": "2022-02-03T11:22:53.000Z"
   },
   {
    "duration": 124,
    "start_time": "2022-02-03T11:22:53.198Z"
   },
   {
    "duration": 75,
    "start_time": "2022-02-03T11:22:53.326Z"
   },
   {
    "duration": 7,
    "start_time": "2022-02-03T11:22:53.403Z"
   },
   {
    "duration": 23,
    "start_time": "2022-02-03T11:22:53.412Z"
   },
   {
    "duration": 3,
    "start_time": "2022-02-03T11:22:53.436Z"
   },
   {
    "duration": 29,
    "start_time": "2022-02-03T11:22:53.440Z"
   },
   {
    "duration": 20,
    "start_time": "2022-02-03T11:22:53.470Z"
   },
   {
    "duration": 38,
    "start_time": "2022-02-03T11:22:53.492Z"
   },
   {
    "duration": 6,
    "start_time": "2022-02-03T11:22:53.531Z"
   },
   {
    "duration": 3,
    "start_time": "2022-02-03T11:22:53.539Z"
   },
   {
    "duration": 23,
    "start_time": "2022-02-03T11:22:53.544Z"
   },
   {
    "duration": 17,
    "start_time": "2022-02-03T11:22:53.571Z"
   },
   {
    "duration": 47,
    "start_time": "2022-02-03T11:22:53.590Z"
   },
   {
    "duration": 4,
    "start_time": "2022-02-03T11:22:53.639Z"
   },
   {
    "duration": 11,
    "start_time": "2022-02-03T11:22:53.645Z"
   },
   {
    "duration": 7,
    "start_time": "2022-02-03T11:22:53.657Z"
   },
   {
    "duration": 36,
    "start_time": "2022-02-03T11:22:53.665Z"
   },
   {
    "duration": 54,
    "start_time": "2022-02-03T11:22:53.702Z"
   },
   {
    "duration": 26,
    "start_time": "2022-02-03T11:22:53.758Z"
   },
   {
    "duration": 13,
    "start_time": "2022-02-03T11:22:53.786Z"
   },
   {
    "duration": 37,
    "start_time": "2022-02-03T11:22:53.801Z"
   },
   {
    "duration": 408,
    "start_time": "2022-02-03T11:22:53.840Z"
   },
   {
    "duration": 7538,
    "start_time": "2022-02-03T11:22:46.712Z"
   },
   {
    "duration": 7436,
    "start_time": "2022-02-03T11:22:46.815Z"
   },
   {
    "duration": 7420,
    "start_time": "2022-02-03T11:22:46.831Z"
   },
   {
    "duration": 7406,
    "start_time": "2022-02-03T11:22:46.846Z"
   },
   {
    "duration": 7392,
    "start_time": "2022-02-03T11:22:46.861Z"
   },
   {
    "duration": 7384,
    "start_time": "2022-02-03T11:22:46.870Z"
   },
   {
    "duration": 7379,
    "start_time": "2022-02-03T11:22:46.876Z"
   },
   {
    "duration": 7372,
    "start_time": "2022-02-03T11:22:46.883Z"
   },
   {
    "duration": 7366,
    "start_time": "2022-02-03T11:22:46.890Z"
   },
   {
    "duration": 7360,
    "start_time": "2022-02-03T11:22:46.897Z"
   },
   {
    "duration": 7353,
    "start_time": "2022-02-03T11:22:46.905Z"
   },
   {
    "duration": 7347,
    "start_time": "2022-02-03T11:22:46.912Z"
   },
   {
    "duration": 7339,
    "start_time": "2022-02-03T11:22:46.921Z"
   },
   {
    "duration": 7332,
    "start_time": "2022-02-03T11:22:46.929Z"
   },
   {
    "duration": 7324,
    "start_time": "2022-02-03T11:22:46.938Z"
   },
   {
    "duration": 7316,
    "start_time": "2022-02-03T11:22:46.946Z"
   },
   {
    "duration": 7308,
    "start_time": "2022-02-03T11:22:46.955Z"
   },
   {
    "duration": 7279,
    "start_time": "2022-02-03T11:22:46.985Z"
   },
   {
    "duration": 7275,
    "start_time": "2022-02-03T11:22:46.989Z"
   },
   {
    "duration": 7271,
    "start_time": "2022-02-03T11:22:46.994Z"
   },
   {
    "duration": 7268,
    "start_time": "2022-02-03T11:22:46.998Z"
   },
   {
    "duration": 7263,
    "start_time": "2022-02-03T11:22:47.003Z"
   },
   {
    "duration": 7261,
    "start_time": "2022-02-03T11:22:47.006Z"
   },
   {
    "duration": 7256,
    "start_time": "2022-02-03T11:22:47.012Z"
   },
   {
    "duration": 7253,
    "start_time": "2022-02-03T11:22:47.016Z"
   },
   {
    "duration": 7250,
    "start_time": "2022-02-03T11:22:47.019Z"
   },
   {
    "duration": 7248,
    "start_time": "2022-02-03T11:22:47.022Z"
   },
   {
    "duration": 589,
    "start_time": "2022-02-03T11:24:05.306Z"
   },
   {
    "duration": 26,
    "start_time": "2022-02-03T11:25:35.748Z"
   },
   {
    "duration": 27,
    "start_time": "2022-02-03T11:25:59.738Z"
   },
   {
    "duration": 20,
    "start_time": "2022-02-03T11:28:04.498Z"
   },
   {
    "duration": 6,
    "start_time": "2022-02-03T11:33:38.444Z"
   },
   {
    "duration": 6,
    "start_time": "2022-02-03T11:34:18.980Z"
   },
   {
    "duration": 20,
    "start_time": "2022-02-03T11:34:31.451Z"
   },
   {
    "duration": 1256,
    "start_time": "2022-02-03T11:34:44.193Z"
   },
   {
    "duration": 17,
    "start_time": "2022-02-03T11:34:45.451Z"
   },
   {
    "duration": 121,
    "start_time": "2022-02-03T11:34:45.470Z"
   },
   {
    "duration": 14,
    "start_time": "2022-02-03T11:34:45.593Z"
   },
   {
    "duration": 85,
    "start_time": "2022-02-03T11:34:45.608Z"
   },
   {
    "duration": 13,
    "start_time": "2022-02-03T11:34:45.695Z"
   },
   {
    "duration": 22,
    "start_time": "2022-02-03T11:34:45.710Z"
   },
   {
    "duration": 7,
    "start_time": "2022-02-03T11:34:45.735Z"
   },
   {
    "duration": 38,
    "start_time": "2022-02-03T11:34:45.744Z"
   },
   {
    "duration": 5,
    "start_time": "2022-02-03T11:34:45.783Z"
   },
   {
    "duration": 212,
    "start_time": "2022-02-03T11:34:45.789Z"
   },
   {
    "duration": 142,
    "start_time": "2022-02-03T11:34:46.003Z"
   },
   {
    "duration": 98,
    "start_time": "2022-02-03T11:34:46.147Z"
   },
   {
    "duration": 9,
    "start_time": "2022-02-03T11:34:46.246Z"
   },
   {
    "duration": 16,
    "start_time": "2022-02-03T11:34:46.256Z"
   },
   {
    "duration": 2,
    "start_time": "2022-02-03T11:34:46.274Z"
   },
   {
    "duration": 29,
    "start_time": "2022-02-03T11:34:46.278Z"
   },
   {
    "duration": 34,
    "start_time": "2022-02-03T11:34:46.309Z"
   },
   {
    "duration": 18,
    "start_time": "2022-02-03T11:34:46.345Z"
   },
   {
    "duration": 5,
    "start_time": "2022-02-03T11:34:46.365Z"
   },
   {
    "duration": 3,
    "start_time": "2022-02-03T11:34:46.372Z"
   },
   {
    "duration": 62,
    "start_time": "2022-02-03T11:34:46.377Z"
   },
   {
    "duration": 18,
    "start_time": "2022-02-03T11:34:46.442Z"
   },
   {
    "duration": 66,
    "start_time": "2022-02-03T11:34:46.462Z"
   },
   {
    "duration": 6,
    "start_time": "2022-02-03T11:34:46.529Z"
   },
   {
    "duration": 12,
    "start_time": "2022-02-03T11:34:46.536Z"
   },
   {
    "duration": 7,
    "start_time": "2022-02-03T11:34:46.550Z"
   },
   {
    "duration": 6,
    "start_time": "2022-02-03T11:34:46.558Z"
   },
   {
    "duration": 91,
    "start_time": "2022-02-03T11:34:46.565Z"
   },
   {
    "duration": 87,
    "start_time": "2022-02-03T11:34:46.657Z"
   },
   {
    "duration": 82,
    "start_time": "2022-02-03T11:34:46.745Z"
   },
   {
    "duration": 14,
    "start_time": "2022-02-03T11:34:46.829Z"
   },
   {
    "duration": 14,
    "start_time": "2022-02-03T11:34:46.844Z"
   },
   {
    "duration": 80,
    "start_time": "2022-02-03T11:34:46.860Z"
   },
   {
    "duration": 19,
    "start_time": "2022-02-03T11:34:46.942Z"
   },
   {
    "duration": 127,
    "start_time": "2022-02-03T11:34:46.963Z"
   },
   {
    "duration": 119,
    "start_time": "2022-02-03T11:34:47.092Z"
   },
   {
    "duration": 116,
    "start_time": "2022-02-03T11:34:47.213Z"
   },
   {
    "duration": 6,
    "start_time": "2022-02-03T11:34:47.330Z"
   },
   {
    "duration": 139,
    "start_time": "2022-02-03T11:34:47.337Z"
   },
   {
    "duration": 17,
    "start_time": "2022-02-03T11:34:47.477Z"
   },
   {
    "duration": 34,
    "start_time": "2022-02-03T11:34:47.496Z"
   },
   {
    "duration": 17,
    "start_time": "2022-02-03T11:34:47.531Z"
   },
   {
    "duration": 5,
    "start_time": "2022-02-03T11:34:47.550Z"
   },
   {
    "duration": 9,
    "start_time": "2022-02-03T11:34:47.556Z"
   },
   {
    "duration": 225,
    "start_time": "2022-02-03T11:34:47.566Z"
   },
   {
    "duration": 41,
    "start_time": "2022-02-03T11:34:47.793Z"
   },
   {
    "duration": 34,
    "start_time": "2022-02-03T11:34:47.835Z"
   },
   {
    "duration": 6,
    "start_time": "2022-02-03T11:34:47.870Z"
   },
   {
    "duration": 207,
    "start_time": "2022-02-03T11:34:47.878Z"
   },
   {
    "duration": 44,
    "start_time": "2022-02-03T11:34:48.087Z"
   },
   {
    "duration": 30,
    "start_time": "2022-02-03T11:34:48.132Z"
   },
   {
    "duration": 8,
    "start_time": "2022-02-03T11:34:48.164Z"
   },
   {
    "duration": 220,
    "start_time": "2022-02-03T11:34:48.173Z"
   },
   {
    "duration": 45,
    "start_time": "2022-02-03T11:34:48.395Z"
   },
   {
    "duration": 34,
    "start_time": "2022-02-03T11:34:48.442Z"
   },
   {
    "duration": 3,
    "start_time": "2022-02-03T11:34:48.477Z"
   },
   {
    "duration": 7,
    "start_time": "2022-02-03T11:34:48.482Z"
   },
   {
    "duration": 13,
    "start_time": "2022-02-03T11:34:48.490Z"
   },
   {
    "duration": 9,
    "start_time": "2022-02-03T11:34:48.527Z"
   },
   {
    "duration": 10038,
    "start_time": "2022-02-03T11:34:48.538Z"
   },
   {
    "duration": 7,
    "start_time": "2022-02-03T11:39:54.888Z"
   },
   {
    "duration": 1327,
    "start_time": "2022-02-03T11:40:53.956Z"
   },
   {
    "duration": 19,
    "start_time": "2022-02-03T11:40:55.285Z"
   },
   {
    "duration": 127,
    "start_time": "2022-02-03T11:40:55.306Z"
   },
   {
    "duration": 15,
    "start_time": "2022-02-03T11:40:55.435Z"
   },
   {
    "duration": 91,
    "start_time": "2022-02-03T11:40:55.452Z"
   },
   {
    "duration": 13,
    "start_time": "2022-02-03T11:40:55.544Z"
   },
   {
    "duration": 21,
    "start_time": "2022-02-03T11:40:55.559Z"
   },
   {
    "duration": 5,
    "start_time": "2022-02-03T11:40:55.582Z"
   },
   {
    "duration": 37,
    "start_time": "2022-02-03T11:40:55.589Z"
   },
   {
    "duration": 6,
    "start_time": "2022-02-03T11:40:55.627Z"
   },
   {
    "duration": 277,
    "start_time": "2022-02-03T11:40:55.635Z"
   },
   {
    "duration": 134,
    "start_time": "2022-02-03T11:40:55.914Z"
   },
   {
    "duration": 97,
    "start_time": "2022-02-03T11:40:56.050Z"
   },
   {
    "duration": 9,
    "start_time": "2022-02-03T11:40:56.149Z"
   },
   {
    "duration": 15,
    "start_time": "2022-02-03T11:40:56.160Z"
   },
   {
    "duration": 2,
    "start_time": "2022-02-03T11:40:56.177Z"
   },
   {
    "duration": 47,
    "start_time": "2022-02-03T11:40:56.181Z"
   },
   {
    "duration": 21,
    "start_time": "2022-02-03T11:40:56.230Z"
   },
   {
    "duration": 18,
    "start_time": "2022-02-03T11:40:56.252Z"
   },
   {
    "duration": 5,
    "start_time": "2022-02-03T11:40:56.272Z"
   },
   {
    "duration": 6,
    "start_time": "2022-02-03T11:40:56.279Z"
   },
   {
    "duration": 57,
    "start_time": "2022-02-03T11:40:56.286Z"
   },
   {
    "duration": 21,
    "start_time": "2022-02-03T11:40:56.349Z"
   },
   {
    "duration": 19,
    "start_time": "2022-02-03T11:40:56.373Z"
   },
   {
    "duration": 7,
    "start_time": "2022-02-03T11:40:56.394Z"
   },
   {
    "duration": 12,
    "start_time": "2022-02-03T11:40:56.426Z"
   },
   {
    "duration": 9,
    "start_time": "2022-02-03T11:40:56.440Z"
   },
   {
    "duration": 6,
    "start_time": "2022-02-03T11:40:56.451Z"
   },
   {
    "duration": 74,
    "start_time": "2022-02-03T11:40:56.459Z"
   },
   {
    "duration": 43,
    "start_time": "2022-02-03T11:40:56.535Z"
   },
   {
    "duration": 52,
    "start_time": "2022-02-03T11:40:56.580Z"
   },
   {
    "duration": 20,
    "start_time": "2022-02-03T11:40:56.633Z"
   },
   {
    "duration": 15,
    "start_time": "2022-02-03T11:40:56.655Z"
   },
   {
    "duration": 63,
    "start_time": "2022-02-03T11:40:56.672Z"
   },
   {
    "duration": 32,
    "start_time": "2022-02-03T11:40:56.737Z"
   },
   {
    "duration": 140,
    "start_time": "2022-02-03T11:40:56.771Z"
   },
   {
    "duration": 114,
    "start_time": "2022-02-03T11:40:56.913Z"
   },
   {
    "duration": 186,
    "start_time": "2022-02-03T11:40:57.029Z"
   },
   {
    "duration": 18,
    "start_time": "2022-02-03T11:40:57.217Z"
   },
   {
    "duration": 12751,
    "start_time": "2022-02-03T11:40:57.237Z"
   },
   {
    "duration": 12658,
    "start_time": "2022-02-03T11:40:57.331Z"
   },
   {
    "duration": 12651,
    "start_time": "2022-02-03T11:40:57.339Z"
   },
   {
    "duration": 12645,
    "start_time": "2022-02-03T11:40:57.346Z"
   },
   {
    "duration": 12640,
    "start_time": "2022-02-03T11:40:57.352Z"
   },
   {
    "duration": 12635,
    "start_time": "2022-02-03T11:40:57.358Z"
   },
   {
    "duration": 12630,
    "start_time": "2022-02-03T11:40:57.363Z"
   },
   {
    "duration": 12626,
    "start_time": "2022-02-03T11:40:57.368Z"
   },
   {
    "duration": 12621,
    "start_time": "2022-02-03T11:40:57.374Z"
   },
   {
    "duration": 12607,
    "start_time": "2022-02-03T11:40:57.389Z"
   },
   {
    "duration": 12603,
    "start_time": "2022-02-03T11:40:57.394Z"
   },
   {
    "duration": 12597,
    "start_time": "2022-02-03T11:40:57.401Z"
   },
   {
    "duration": 12573,
    "start_time": "2022-02-03T11:40:57.426Z"
   },
   {
    "duration": 12560,
    "start_time": "2022-02-03T11:40:57.439Z"
   },
   {
    "duration": 12547,
    "start_time": "2022-02-03T11:40:57.453Z"
   },
   {
    "duration": 12534,
    "start_time": "2022-02-03T11:40:57.467Z"
   },
   {
    "duration": 12520,
    "start_time": "2022-02-03T11:40:57.482Z"
   },
   {
    "duration": 12514,
    "start_time": "2022-02-03T11:40:57.489Z"
   },
   {
    "duration": 12504,
    "start_time": "2022-02-03T11:40:57.500Z"
   },
   {
    "duration": 12499,
    "start_time": "2022-02-03T11:40:57.506Z"
   },
   {
    "duration": 12495,
    "start_time": "2022-02-03T11:40:57.511Z"
   },
   {
    "duration": 12491,
    "start_time": "2022-02-03T11:40:57.516Z"
   },
   {
    "duration": 5,
    "start_time": "2022-02-03T11:41:32.076Z"
   },
   {
    "duration": 1176,
    "start_time": "2022-02-03T11:41:45.660Z"
   },
   {
    "duration": 19,
    "start_time": "2022-02-03T11:41:46.837Z"
   },
   {
    "duration": 118,
    "start_time": "2022-02-03T11:41:46.858Z"
   },
   {
    "duration": 15,
    "start_time": "2022-02-03T11:41:46.977Z"
   },
   {
    "duration": 85,
    "start_time": "2022-02-03T11:41:46.994Z"
   },
   {
    "duration": 12,
    "start_time": "2022-02-03T11:41:47.081Z"
   },
   {
    "duration": 21,
    "start_time": "2022-02-03T11:41:47.095Z"
   },
   {
    "duration": 10,
    "start_time": "2022-02-03T11:41:47.118Z"
   },
   {
    "duration": 37,
    "start_time": "2022-02-03T11:41:47.130Z"
   },
   {
    "duration": 5,
    "start_time": "2022-02-03T11:41:47.168Z"
   },
   {
    "duration": 198,
    "start_time": "2022-02-03T11:41:47.175Z"
   },
   {
    "duration": 125,
    "start_time": "2022-02-03T11:41:47.374Z"
   },
   {
    "duration": 87,
    "start_time": "2022-02-03T11:41:47.501Z"
   },
   {
    "duration": 9,
    "start_time": "2022-02-03T11:41:47.590Z"
   },
   {
    "duration": 26,
    "start_time": "2022-02-03T11:41:47.601Z"
   },
   {
    "duration": 4,
    "start_time": "2022-02-03T11:41:47.628Z"
   },
   {
    "duration": 29,
    "start_time": "2022-02-03T11:41:47.633Z"
   },
   {
    "duration": 22,
    "start_time": "2022-02-03T11:41:47.663Z"
   },
   {
    "duration": 17,
    "start_time": "2022-02-03T11:41:47.687Z"
   },
   {
    "duration": 6,
    "start_time": "2022-02-03T11:41:47.727Z"
   },
   {
    "duration": 5,
    "start_time": "2022-02-03T11:41:47.734Z"
   },
   {
    "duration": 27,
    "start_time": "2022-02-03T11:41:47.740Z"
   },
   {
    "duration": 16,
    "start_time": "2022-02-03T11:41:47.770Z"
   },
   {
    "duration": 16,
    "start_time": "2022-02-03T11:41:47.788Z"
   },
   {
    "duration": 25,
    "start_time": "2022-02-03T11:41:47.805Z"
   },
   {
    "duration": 10,
    "start_time": "2022-02-03T11:41:47.832Z"
   },
   {
    "duration": 7,
    "start_time": "2022-02-03T11:41:47.844Z"
   },
   {
    "duration": 5,
    "start_time": "2022-02-03T11:41:47.852Z"
   },
   {
    "duration": 40,
    "start_time": "2022-02-03T11:41:47.859Z"
   },
   {
    "duration": 52,
    "start_time": "2022-02-03T11:41:47.900Z"
   },
   {
    "duration": 26,
    "start_time": "2022-02-03T11:41:47.953Z"
   },
   {
    "duration": 12,
    "start_time": "2022-02-03T11:41:47.980Z"
   },
   {
    "duration": 38,
    "start_time": "2022-02-03T11:41:47.994Z"
   },
   {
    "duration": 25,
    "start_time": "2022-02-03T11:41:48.033Z"
   },
   {
    "duration": 18,
    "start_time": "2022-02-03T11:41:48.060Z"
   },
   {
    "duration": 125,
    "start_time": "2022-02-03T11:41:48.080Z"
   },
   {
    "duration": 143,
    "start_time": "2022-02-03T11:41:48.206Z"
   },
   {
    "duration": 211,
    "start_time": "2022-02-03T11:41:48.350Z"
   },
   {
    "duration": 6,
    "start_time": "2022-02-03T11:41:48.562Z"
   },
   {
    "duration": 8645,
    "start_time": "2022-02-03T11:41:48.569Z"
   },
   {
    "duration": 12715,
    "start_time": "2022-02-03T11:41:44.501Z"
   },
   {
    "duration": 12706,
    "start_time": "2022-02-03T11:41:44.511Z"
   },
   {
    "duration": 12700,
    "start_time": "2022-02-03T11:41:44.518Z"
   },
   {
    "duration": 12694,
    "start_time": "2022-02-03T11:41:44.524Z"
   },
   {
    "duration": 12693,
    "start_time": "2022-02-03T11:41:44.527Z"
   },
   {
    "duration": 12689,
    "start_time": "2022-02-03T11:41:44.531Z"
   },
   {
    "duration": 12686,
    "start_time": "2022-02-03T11:41:44.535Z"
   },
   {
    "duration": 12683,
    "start_time": "2022-02-03T11:41:44.539Z"
   },
   {
    "duration": 12680,
    "start_time": "2022-02-03T11:41:44.543Z"
   },
   {
    "duration": 12678,
    "start_time": "2022-02-03T11:41:44.546Z"
   },
   {
    "duration": 12675,
    "start_time": "2022-02-03T11:41:44.550Z"
   },
   {
    "duration": 12672,
    "start_time": "2022-02-03T11:41:44.554Z"
   },
   {
    "duration": 12670,
    "start_time": "2022-02-03T11:41:44.557Z"
   },
   {
    "duration": 12667,
    "start_time": "2022-02-03T11:41:44.561Z"
   },
   {
    "duration": 12663,
    "start_time": "2022-02-03T11:41:44.565Z"
   },
   {
    "duration": 12661,
    "start_time": "2022-02-03T11:41:44.569Z"
   },
   {
    "duration": 12650,
    "start_time": "2022-02-03T11:41:44.581Z"
   },
   {
    "duration": 12646,
    "start_time": "2022-02-03T11:41:44.586Z"
   },
   {
    "duration": 12644,
    "start_time": "2022-02-03T11:41:44.589Z"
   },
   {
    "duration": 12641,
    "start_time": "2022-02-03T11:41:44.593Z"
   },
   {
    "duration": 12638,
    "start_time": "2022-02-03T11:41:44.597Z"
   },
   {
    "duration": 5,
    "start_time": "2022-02-03T11:42:25.634Z"
   },
   {
    "duration": 673,
    "start_time": "2022-02-03T11:42:28.426Z"
   },
   {
    "duration": 7,
    "start_time": "2022-02-03T11:42:37.155Z"
   },
   {
    "duration": 6,
    "start_time": "2022-02-03T11:42:51.345Z"
   },
   {
    "duration": 6,
    "start_time": "2022-02-03T11:43:20.930Z"
   },
   {
    "duration": 121,
    "start_time": "2022-02-03T11:47:00.799Z"
   },
   {
    "duration": 11,
    "start_time": "2022-02-03T11:47:55.840Z"
   },
   {
    "duration": 315,
    "start_time": "2022-02-03T11:48:00.336Z"
   },
   {
    "duration": 7,
    "start_time": "2022-02-03T11:49:23.464Z"
   },
   {
    "duration": 314,
    "start_time": "2022-02-03T11:49:27.627Z"
   },
   {
    "duration": 7,
    "start_time": "2022-02-03T11:50:36.239Z"
   },
   {
    "duration": 317,
    "start_time": "2022-02-03T11:50:39.025Z"
   },
   {
    "duration": 7,
    "start_time": "2022-02-03T11:51:32.873Z"
   },
   {
    "duration": 6,
    "start_time": "2022-02-03T11:52:46.344Z"
   },
   {
    "duration": 6,
    "start_time": "2022-02-03T11:56:41.960Z"
   },
   {
    "duration": 6,
    "start_time": "2022-02-03T12:16:42.989Z"
   },
   {
    "duration": 6,
    "start_time": "2022-02-03T12:16:45.703Z"
   },
   {
    "duration": 941,
    "start_time": "2022-02-03T12:17:42.958Z"
   },
   {
    "duration": 7,
    "start_time": "2022-02-03T12:18:12.310Z"
   },
   {
    "duration": 727,
    "start_time": "2022-02-03T12:18:16.270Z"
   },
   {
    "duration": 8,
    "start_time": "2022-02-03T12:19:06.979Z"
   },
   {
    "duration": 324,
    "start_time": "2022-02-03T12:19:10.595Z"
   },
   {
    "duration": 1206,
    "start_time": "2022-02-03T12:22:43.669Z"
   },
   {
    "duration": 18,
    "start_time": "2022-02-03T12:22:44.877Z"
   },
   {
    "duration": 122,
    "start_time": "2022-02-03T12:22:44.897Z"
   },
   {
    "duration": 15,
    "start_time": "2022-02-03T12:22:45.021Z"
   },
   {
    "duration": 86,
    "start_time": "2022-02-03T12:22:45.038Z"
   },
   {
    "duration": 12,
    "start_time": "2022-02-03T12:22:45.125Z"
   },
   {
    "duration": 20,
    "start_time": "2022-02-03T12:22:45.139Z"
   },
   {
    "duration": 8,
    "start_time": "2022-02-03T12:22:45.161Z"
   },
   {
    "duration": 51,
    "start_time": "2022-02-03T12:22:45.171Z"
   },
   {
    "duration": 5,
    "start_time": "2022-02-03T12:22:45.223Z"
   },
   {
    "duration": 200,
    "start_time": "2022-02-03T12:22:45.229Z"
   },
   {
    "duration": 129,
    "start_time": "2022-02-03T12:22:45.431Z"
   },
   {
    "duration": 88,
    "start_time": "2022-02-03T12:22:45.562Z"
   },
   {
    "duration": 9,
    "start_time": "2022-02-03T12:22:45.652Z"
   },
   {
    "duration": 12,
    "start_time": "2022-02-03T12:22:45.662Z"
   },
   {
    "duration": 3,
    "start_time": "2022-02-03T12:22:45.675Z"
   },
   {
    "duration": 52,
    "start_time": "2022-02-03T12:22:45.680Z"
   },
   {
    "duration": 20,
    "start_time": "2022-02-03T12:22:45.733Z"
   },
   {
    "duration": 16,
    "start_time": "2022-02-03T12:22:45.755Z"
   },
   {
    "duration": 5,
    "start_time": "2022-02-03T12:22:45.773Z"
   },
   {
    "duration": 3,
    "start_time": "2022-02-03T12:22:45.779Z"
   },
   {
    "duration": 44,
    "start_time": "2022-02-03T12:22:45.784Z"
   },
   {
    "duration": 17,
    "start_time": "2022-02-03T12:22:45.831Z"
   },
   {
    "duration": 15,
    "start_time": "2022-02-03T12:22:45.850Z"
   },
   {
    "duration": 5,
    "start_time": "2022-02-03T12:22:45.866Z"
   },
   {
    "duration": 9,
    "start_time": "2022-02-03T12:22:45.872Z"
   },
   {
    "duration": 7,
    "start_time": "2022-02-03T12:22:45.883Z"
   },
   {
    "duration": 38,
    "start_time": "2022-02-03T12:22:45.892Z"
   },
   {
    "duration": 40,
    "start_time": "2022-02-03T12:22:45.931Z"
   },
   {
    "duration": 27,
    "start_time": "2022-02-03T12:22:45.972Z"
   },
   {
    "duration": 43,
    "start_time": "2022-02-03T12:22:46.001Z"
   },
   {
    "duration": 12,
    "start_time": "2022-02-03T12:22:46.046Z"
   },
   {
    "duration": 14,
    "start_time": "2022-02-03T12:22:46.060Z"
   },
   {
    "duration": 24,
    "start_time": "2022-02-03T12:22:46.075Z"
   },
   {
    "duration": 43,
    "start_time": "2022-02-03T12:22:46.101Z"
   },
   {
    "duration": 117,
    "start_time": "2022-02-03T12:22:46.145Z"
   },
   {
    "duration": 113,
    "start_time": "2022-02-03T12:22:46.263Z"
   },
   {
    "duration": 118,
    "start_time": "2022-02-03T12:22:46.377Z"
   },
   {
    "duration": 6,
    "start_time": "2022-02-03T12:22:46.497Z"
   },
   {
    "duration": 323,
    "start_time": "2022-02-03T12:22:46.505Z"
   },
   {
    "duration": 17,
    "start_time": "2022-02-03T12:22:46.830Z"
   },
   {
    "duration": 18,
    "start_time": "2022-02-03T12:22:46.848Z"
   },
   {
    "duration": 16,
    "start_time": "2022-02-03T12:22:46.867Z"
   },
   {
    "duration": 5,
    "start_time": "2022-02-03T12:22:46.884Z"
   },
   {
    "duration": 38,
    "start_time": "2022-02-03T12:22:46.890Z"
   },
   {
    "duration": 198,
    "start_time": "2022-02-03T12:22:46.929Z"
   },
   {
    "duration": 34,
    "start_time": "2022-02-03T12:22:47.128Z"
   },
   {
    "duration": 32,
    "start_time": "2022-02-03T12:22:47.164Z"
   },
   {
    "duration": 6,
    "start_time": "2022-02-03T12:22:47.197Z"
   },
   {
    "duration": 203,
    "start_time": "2022-02-03T12:22:47.204Z"
   },
   {
    "duration": 38,
    "start_time": "2022-02-03T12:22:47.408Z"
   },
   {
    "duration": 30,
    "start_time": "2022-02-03T12:22:47.447Z"
   },
   {
    "duration": 6,
    "start_time": "2022-02-03T12:22:47.478Z"
   },
   {
    "duration": 212,
    "start_time": "2022-02-03T12:22:47.485Z"
   },
   {
    "duration": 41,
    "start_time": "2022-02-03T12:22:47.698Z"
   },
   {
    "duration": 33,
    "start_time": "2022-02-03T12:22:47.741Z"
   },
   {
    "duration": 2,
    "start_time": "2022-02-03T12:22:47.776Z"
   },
   {
    "duration": 7,
    "start_time": "2022-02-03T12:22:47.780Z"
   },
   {
    "duration": 12,
    "start_time": "2022-02-03T12:22:47.788Z"
   },
   {
    "duration": 35,
    "start_time": "2022-02-03T12:22:47.802Z"
   },
   {
    "duration": 8623,
    "start_time": "2022-02-03T12:22:47.839Z"
   },
   {
    "duration": 7,
    "start_time": "2022-02-03T12:25:37.532Z"
   },
   {
    "duration": 359,
    "start_time": "2022-02-03T12:25:40.905Z"
   },
   {
    "duration": 7,
    "start_time": "2022-02-03T12:26:12.701Z"
   },
   {
    "duration": 142,
    "start_time": "2022-02-03T12:27:30.158Z"
   },
   {
    "duration": 6,
    "start_time": "2022-02-03T12:28:27.891Z"
   },
   {
    "duration": 372,
    "start_time": "2022-02-03T12:28:30.913Z"
   },
   {
    "duration": 368,
    "start_time": "2022-02-03T12:30:14.560Z"
   },
   {
    "duration": 7,
    "start_time": "2022-02-03T12:31:08.684Z"
   },
   {
    "duration": 361,
    "start_time": "2022-02-03T12:31:12.991Z"
   },
   {
    "duration": 358,
    "start_time": "2022-02-03T12:36:46.888Z"
   },
   {
    "duration": 26,
    "start_time": "2022-02-03T12:37:19.833Z"
   },
   {
    "duration": 194,
    "start_time": "2022-02-03T12:37:57.168Z"
   },
   {
    "duration": 193,
    "start_time": "2022-02-03T12:39:03.420Z"
   },
   {
    "duration": 199,
    "start_time": "2022-02-03T12:41:44.693Z"
   },
   {
    "duration": 201,
    "start_time": "2022-02-03T12:41:53.175Z"
   },
   {
    "duration": 189,
    "start_time": "2022-02-03T12:42:34.120Z"
   },
   {
    "duration": 194,
    "start_time": "2022-02-03T12:43:19.390Z"
   },
   {
    "duration": 196,
    "start_time": "2022-02-03T12:43:44.408Z"
   },
   {
    "duration": 194,
    "start_time": "2022-02-03T12:44:11.375Z"
   },
   {
    "duration": 203,
    "start_time": "2022-02-03T12:49:38.798Z"
   },
   {
    "duration": 21,
    "start_time": "2022-02-03T12:50:11.651Z"
   },
   {
    "duration": 200,
    "start_time": "2022-02-03T12:50:28.876Z"
   },
   {
    "duration": 22,
    "start_time": "2022-02-03T12:51:06.768Z"
   },
   {
    "duration": 108,
    "start_time": "2022-02-03T12:51:21.222Z"
   },
   {
    "duration": 1252,
    "start_time": "2022-02-03T12:51:32.946Z"
   },
   {
    "duration": 17,
    "start_time": "2022-02-03T12:51:34.200Z"
   },
   {
    "duration": 123,
    "start_time": "2022-02-03T12:51:34.227Z"
   },
   {
    "duration": 15,
    "start_time": "2022-02-03T12:51:34.352Z"
   },
   {
    "duration": 93,
    "start_time": "2022-02-03T12:51:34.369Z"
   },
   {
    "duration": 12,
    "start_time": "2022-02-03T12:51:34.464Z"
   },
   {
    "duration": 24,
    "start_time": "2022-02-03T12:51:34.478Z"
   },
   {
    "duration": 9,
    "start_time": "2022-02-03T12:51:34.504Z"
   },
   {
    "duration": 55,
    "start_time": "2022-02-03T12:51:34.514Z"
   },
   {
    "duration": 6,
    "start_time": "2022-02-03T12:51:34.571Z"
   },
   {
    "duration": 260,
    "start_time": "2022-02-03T12:51:34.579Z"
   },
   {
    "duration": 123,
    "start_time": "2022-02-03T12:51:34.841Z"
   },
   {
    "duration": 80,
    "start_time": "2022-02-03T12:51:34.966Z"
   },
   {
    "duration": 10,
    "start_time": "2022-02-03T12:51:35.047Z"
   },
   {
    "duration": 14,
    "start_time": "2022-02-03T12:51:35.058Z"
   },
   {
    "duration": 5,
    "start_time": "2022-02-03T12:51:35.073Z"
   },
   {
    "duration": 31,
    "start_time": "2022-02-03T12:51:35.080Z"
   },
   {
    "duration": 22,
    "start_time": "2022-02-03T12:51:35.112Z"
   },
   {
    "duration": 18,
    "start_time": "2022-02-03T12:51:35.136Z"
   },
   {
    "duration": 5,
    "start_time": "2022-02-03T12:51:35.155Z"
   },
   {
    "duration": 6,
    "start_time": "2022-02-03T12:51:35.162Z"
   },
   {
    "duration": 25,
    "start_time": "2022-02-03T12:51:35.169Z"
   },
   {
    "duration": 16,
    "start_time": "2022-02-03T12:51:35.198Z"
   },
   {
    "duration": 15,
    "start_time": "2022-02-03T12:51:35.216Z"
   },
   {
    "duration": 4,
    "start_time": "2022-02-03T12:51:35.233Z"
   },
   {
    "duration": 13,
    "start_time": "2022-02-03T12:51:35.239Z"
   },
   {
    "duration": 8,
    "start_time": "2022-02-03T12:51:35.253Z"
   },
   {
    "duration": 5,
    "start_time": "2022-02-03T12:51:35.263Z"
   },
   {
    "duration": 44,
    "start_time": "2022-02-03T12:51:35.270Z"
   },
   {
    "duration": 33,
    "start_time": "2022-02-03T12:51:35.316Z"
   },
   {
    "duration": 29,
    "start_time": "2022-02-03T12:51:35.351Z"
   },
   {
    "duration": 13,
    "start_time": "2022-02-03T12:51:35.382Z"
   },
   {
    "duration": 14,
    "start_time": "2022-02-03T12:51:35.397Z"
   },
   {
    "duration": 34,
    "start_time": "2022-02-03T12:51:35.412Z"
   },
   {
    "duration": 19,
    "start_time": "2022-02-03T12:51:35.448Z"
   },
   {
    "duration": 122,
    "start_time": "2022-02-03T12:51:35.469Z"
   },
   {
    "duration": 109,
    "start_time": "2022-02-03T12:51:35.592Z"
   },
   {
    "duration": 111,
    "start_time": "2022-02-03T12:51:35.702Z"
   },
   {
    "duration": 7,
    "start_time": "2022-02-03T12:51:35.814Z"
   },
   {
    "duration": 380,
    "start_time": "2022-02-03T12:51:35.822Z"
   },
   {
    "duration": 24,
    "start_time": "2022-02-03T12:51:36.203Z"
   },
   {
    "duration": 17,
    "start_time": "2022-02-03T12:51:36.228Z"
   },
   {
    "duration": 16,
    "start_time": "2022-02-03T12:51:36.246Z"
   },
   {
    "duration": 5,
    "start_time": "2022-02-03T12:51:36.263Z"
   },
   {
    "duration": 11,
    "start_time": "2022-02-03T12:51:36.270Z"
   },
   {
    "duration": 20,
    "start_time": "2022-02-03T12:51:36.282Z"
   },
   {
    "duration": 301,
    "start_time": "2022-02-03T12:51:36.303Z"
   },
   {
    "duration": 34,
    "start_time": "2022-02-03T12:51:36.606Z"
   },
   {
    "duration": 18,
    "start_time": "2022-02-03T12:51:36.642Z"
   },
   {
    "duration": 367,
    "start_time": "2022-02-03T12:51:36.662Z"
   },
   {
    "duration": 36,
    "start_time": "2022-02-03T12:51:37.031Z"
   },
   {
    "duration": 6,
    "start_time": "2022-02-03T12:51:37.069Z"
   },
   {
    "duration": 258,
    "start_time": "2022-02-03T12:51:37.077Z"
   },
   {
    "duration": 30,
    "start_time": "2022-02-03T12:51:37.336Z"
   },
   {
    "duration": 270,
    "start_time": "2022-02-03T12:51:37.367Z"
   },
   {
    "duration": 31,
    "start_time": "2022-02-03T12:51:37.639Z"
   },
   {
    "duration": 10,
    "start_time": "2022-02-03T12:51:37.672Z"
   },
   {
    "duration": 197,
    "start_time": "2022-02-03T12:51:37.683Z"
   },
   {
    "duration": 36,
    "start_time": "2022-02-03T12:51:37.882Z"
   },
   {
    "duration": 335,
    "start_time": "2022-02-03T12:51:37.920Z"
   },
   {
    "duration": 88,
    "start_time": "2022-02-03T12:51:38.256Z"
   },
   {
    "duration": 3,
    "start_time": "2022-02-03T12:51:38.345Z"
   },
   {
    "duration": 140,
    "start_time": "2022-02-03T12:51:38.349Z"
   },
   {
    "duration": 12741,
    "start_time": "2022-02-03T12:51:25.749Z"
   },
   {
    "duration": 12738,
    "start_time": "2022-02-03T12:51:25.753Z"
   },
   {
    "duration": 12735,
    "start_time": "2022-02-03T12:51:25.757Z"
   },
   {
    "duration": 7,
    "start_time": "2022-02-03T12:52:09.952Z"
   },
   {
    "duration": 6,
    "start_time": "2022-02-03T12:54:09.097Z"
   },
   {
    "duration": 10,
    "start_time": "2022-02-03T12:56:30.369Z"
   },
   {
    "duration": 10,
    "start_time": "2022-02-03T12:56:51.516Z"
   },
   {
    "duration": 1177,
    "start_time": "2022-02-03T12:58:30.864Z"
   },
   {
    "duration": 19,
    "start_time": "2022-02-03T12:58:32.042Z"
   },
   {
    "duration": 122,
    "start_time": "2022-02-03T12:58:32.062Z"
   },
   {
    "duration": 14,
    "start_time": "2022-02-03T12:58:32.186Z"
   },
   {
    "duration": 85,
    "start_time": "2022-02-03T12:58:32.202Z"
   },
   {
    "duration": 12,
    "start_time": "2022-02-03T12:58:32.289Z"
   },
   {
    "duration": 23,
    "start_time": "2022-02-03T12:58:32.303Z"
   },
   {
    "duration": 7,
    "start_time": "2022-02-03T12:58:32.328Z"
   },
   {
    "duration": 84,
    "start_time": "2022-02-03T12:58:32.337Z"
   },
   {
    "duration": 5,
    "start_time": "2022-02-03T12:58:32.422Z"
   },
   {
    "duration": 216,
    "start_time": "2022-02-03T12:58:32.428Z"
   },
   {
    "duration": 137,
    "start_time": "2022-02-03T12:58:32.645Z"
   },
   {
    "duration": 105,
    "start_time": "2022-02-03T12:58:32.783Z"
   },
   {
    "duration": 9,
    "start_time": "2022-02-03T12:58:32.890Z"
   },
   {
    "duration": 27,
    "start_time": "2022-02-03T12:58:32.901Z"
   },
   {
    "duration": 3,
    "start_time": "2022-02-03T12:58:32.929Z"
   },
   {
    "duration": 31,
    "start_time": "2022-02-03T12:58:32.934Z"
   },
   {
    "duration": 20,
    "start_time": "2022-02-03T12:58:32.967Z"
   },
   {
    "duration": 18,
    "start_time": "2022-02-03T12:58:32.988Z"
   },
   {
    "duration": 6,
    "start_time": "2022-02-03T12:58:33.028Z"
   },
   {
    "duration": 9,
    "start_time": "2022-02-03T12:58:33.035Z"
   },
   {
    "duration": 29,
    "start_time": "2022-02-03T12:58:33.045Z"
   },
   {
    "duration": 18,
    "start_time": "2022-02-03T12:58:33.078Z"
   },
   {
    "duration": 32,
    "start_time": "2022-02-03T12:58:33.098Z"
   },
   {
    "duration": 7,
    "start_time": "2022-02-03T12:58:33.132Z"
   },
   {
    "duration": 14,
    "start_time": "2022-02-03T12:58:33.140Z"
   },
   {
    "duration": 8,
    "start_time": "2022-02-03T12:58:33.156Z"
   },
   {
    "duration": 7,
    "start_time": "2022-02-03T12:58:33.165Z"
   },
   {
    "duration": 66,
    "start_time": "2022-02-03T12:58:33.174Z"
   },
   {
    "duration": 31,
    "start_time": "2022-02-03T12:58:33.242Z"
   },
   {
    "duration": 30,
    "start_time": "2022-02-03T12:58:33.275Z"
   },
   {
    "duration": 15,
    "start_time": "2022-02-03T12:58:33.328Z"
   },
   {
    "duration": 15,
    "start_time": "2022-02-03T12:58:33.345Z"
   },
   {
    "duration": 27,
    "start_time": "2022-02-03T12:58:33.362Z"
   },
   {
    "duration": 51,
    "start_time": "2022-02-03T12:58:33.391Z"
   },
   {
    "duration": 126,
    "start_time": "2022-02-03T12:58:33.444Z"
   },
   {
    "duration": 121,
    "start_time": "2022-02-03T12:58:33.571Z"
   },
   {
    "duration": 117,
    "start_time": "2022-02-03T12:58:33.694Z"
   },
   {
    "duration": 7,
    "start_time": "2022-02-03T12:58:33.813Z"
   },
   {
    "duration": 386,
    "start_time": "2022-02-03T12:58:33.821Z"
   },
   {
    "duration": 27,
    "start_time": "2022-02-03T12:58:34.209Z"
   },
   {
    "duration": 18,
    "start_time": "2022-02-03T12:58:34.238Z"
   },
   {
    "duration": 16,
    "start_time": "2022-02-03T12:58:34.258Z"
   },
   {
    "duration": 5,
    "start_time": "2022-02-03T12:58:34.276Z"
   },
   {
    "duration": 12,
    "start_time": "2022-02-03T12:58:34.282Z"
   },
   {
    "duration": 50,
    "start_time": "2022-02-03T12:58:34.295Z"
   },
   {
    "duration": 207,
    "start_time": "2022-02-03T12:58:34.347Z"
   },
   {
    "duration": 34,
    "start_time": "2022-02-03T12:58:34.556Z"
   },
   {
    "duration": 19,
    "start_time": "2022-02-03T12:58:34.592Z"
   },
   {
    "duration": 230,
    "start_time": "2022-02-03T12:58:34.612Z"
   },
   {
    "duration": 34,
    "start_time": "2022-02-03T12:58:34.844Z"
   },
   {
    "duration": 6,
    "start_time": "2022-02-03T12:58:34.879Z"
   },
   {
    "duration": 203,
    "start_time": "2022-02-03T12:58:34.887Z"
   },
   {
    "duration": 39,
    "start_time": "2022-02-03T12:58:35.092Z"
   },
   {
    "duration": 206,
    "start_time": "2022-02-03T12:58:35.132Z"
   },
   {
    "duration": 29,
    "start_time": "2022-02-03T12:58:35.340Z"
   },
   {
    "duration": 7,
    "start_time": "2022-02-03T12:58:35.370Z"
   },
   {
    "duration": 213,
    "start_time": "2022-02-03T12:58:35.378Z"
   },
   {
    "duration": 43,
    "start_time": "2022-02-03T12:58:35.592Z"
   },
   {
    "duration": 263,
    "start_time": "2022-02-03T12:58:35.637Z"
   },
   {
    "duration": 43,
    "start_time": "2022-02-03T12:58:35.902Z"
   },
   {
    "duration": 2,
    "start_time": "2022-02-03T12:58:35.947Z"
   },
   {
    "duration": 13,
    "start_time": "2022-02-03T12:58:35.950Z"
   },
   {
    "duration": 14,
    "start_time": "2022-02-03T12:58:35.964Z"
   },
   {
    "duration": 10,
    "start_time": "2022-02-03T12:58:35.979Z"
   },
   {
    "duration": 7,
    "start_time": "2022-02-03T12:58:35.991Z"
   },
   {
    "duration": 7,
    "start_time": "2022-02-03T12:59:19.934Z"
   },
   {
    "duration": 6,
    "start_time": "2022-02-03T12:59:55.342Z"
   },
   {
    "duration": 7,
    "start_time": "2022-02-03T13:01:18.971Z"
   },
   {
    "duration": 370,
    "start_time": "2022-02-03T13:01:24.338Z"
   },
   {
    "duration": 7,
    "start_time": "2022-02-03T13:02:48.864Z"
   },
   {
    "duration": 310,
    "start_time": "2022-02-03T13:02:52.291Z"
   },
   {
    "duration": 6,
    "start_time": "2022-02-03T13:04:08.069Z"
   },
   {
    "duration": 316,
    "start_time": "2022-02-03T13:04:11.017Z"
   },
   {
    "duration": 7,
    "start_time": "2022-02-03T13:05:05.986Z"
   },
   {
    "duration": 1227,
    "start_time": "2022-02-03T13:05:10.717Z"
   },
   {
    "duration": 19,
    "start_time": "2022-02-03T13:05:11.946Z"
   },
   {
    "duration": 120,
    "start_time": "2022-02-03T13:05:11.967Z"
   },
   {
    "duration": 14,
    "start_time": "2022-02-03T13:05:12.089Z"
   },
   {
    "duration": 84,
    "start_time": "2022-02-03T13:05:12.105Z"
   },
   {
    "duration": 12,
    "start_time": "2022-02-03T13:05:12.191Z"
   },
   {
    "duration": 23,
    "start_time": "2022-02-03T13:05:12.205Z"
   },
   {
    "duration": 10,
    "start_time": "2022-02-03T13:05:12.229Z"
   },
   {
    "duration": 72,
    "start_time": "2022-02-03T13:05:12.241Z"
   },
   {
    "duration": 5,
    "start_time": "2022-02-03T13:05:12.315Z"
   },
   {
    "duration": 205,
    "start_time": "2022-02-03T13:05:12.322Z"
   },
   {
    "duration": 129,
    "start_time": "2022-02-03T13:05:12.529Z"
   },
   {
    "duration": 93,
    "start_time": "2022-02-03T13:05:12.659Z"
   },
   {
    "duration": 9,
    "start_time": "2022-02-03T13:05:12.754Z"
   },
   {
    "duration": 14,
    "start_time": "2022-02-03T13:05:12.765Z"
   },
   {
    "duration": 4,
    "start_time": "2022-02-03T13:05:12.781Z"
   },
   {
    "duration": 54,
    "start_time": "2022-02-03T13:05:12.787Z"
   },
   {
    "duration": 22,
    "start_time": "2022-02-03T13:05:12.843Z"
   },
   {
    "duration": 18,
    "start_time": "2022-02-03T13:05:12.866Z"
   },
   {
    "duration": 5,
    "start_time": "2022-02-03T13:05:12.886Z"
   },
   {
    "duration": 9,
    "start_time": "2022-02-03T13:05:12.893Z"
   },
   {
    "duration": 57,
    "start_time": "2022-02-03T13:05:12.904Z"
   },
   {
    "duration": 20,
    "start_time": "2022-02-03T13:05:12.963Z"
   },
   {
    "duration": 19,
    "start_time": "2022-02-03T13:05:12.985Z"
   },
   {
    "duration": 24,
    "start_time": "2022-02-03T13:05:13.006Z"
   },
   {
    "duration": 18,
    "start_time": "2022-02-03T13:05:13.031Z"
   },
   {
    "duration": 7,
    "start_time": "2022-02-03T13:05:13.053Z"
   },
   {
    "duration": 6,
    "start_time": "2022-02-03T13:05:13.062Z"
   },
   {
    "duration": 58,
    "start_time": "2022-02-03T13:05:13.069Z"
   },
   {
    "duration": 29,
    "start_time": "2022-02-03T13:05:13.129Z"
   },
   {
    "duration": 27,
    "start_time": "2022-02-03T13:05:13.159Z"
   },
   {
    "duration": 13,
    "start_time": "2022-02-03T13:05:13.187Z"
   },
   {
    "duration": 45,
    "start_time": "2022-02-03T13:05:13.201Z"
   },
   {
    "duration": 41,
    "start_time": "2022-02-03T13:05:13.248Z"
   },
   {
    "duration": 47,
    "start_time": "2022-02-03T13:05:13.291Z"
   },
   {
    "duration": 192,
    "start_time": "2022-02-03T13:05:13.340Z"
   },
   {
    "duration": 164,
    "start_time": "2022-02-03T13:05:13.534Z"
   },
   {
    "duration": 165,
    "start_time": "2022-02-03T13:05:13.700Z"
   },
   {
    "duration": 11,
    "start_time": "2022-02-03T13:05:13.867Z"
   },
   {
    "duration": 572,
    "start_time": "2022-02-03T13:05:13.880Z"
   },
   {
    "duration": 23,
    "start_time": "2022-02-03T13:05:14.454Z"
   },
   {
    "duration": 27,
    "start_time": "2022-02-03T13:05:14.479Z"
   },
   {
    "duration": 34,
    "start_time": "2022-02-03T13:05:14.507Z"
   },
   {
    "duration": 5,
    "start_time": "2022-02-03T13:05:14.542Z"
   },
   {
    "duration": 8,
    "start_time": "2022-02-03T13:05:14.548Z"
   },
   {
    "duration": 20,
    "start_time": "2022-02-03T13:05:14.557Z"
   },
   {
    "duration": 316,
    "start_time": "2022-02-03T13:05:14.578Z"
   },
   {
    "duration": 49,
    "start_time": "2022-02-03T13:05:14.895Z"
   },
   {
    "duration": 21,
    "start_time": "2022-02-03T13:05:14.945Z"
   },
   {
    "duration": 217,
    "start_time": "2022-02-03T13:05:14.968Z"
   },
   {
    "duration": 45,
    "start_time": "2022-02-03T13:05:15.187Z"
   },
   {
    "duration": 7,
    "start_time": "2022-02-03T13:05:15.233Z"
   },
   {
    "duration": 206,
    "start_time": "2022-02-03T13:05:15.241Z"
   },
   {
    "duration": 33,
    "start_time": "2022-02-03T13:05:15.448Z"
   },
   {
    "duration": 217,
    "start_time": "2022-02-03T13:05:15.483Z"
   },
   {
    "duration": 39,
    "start_time": "2022-02-03T13:05:15.702Z"
   },
   {
    "duration": 6,
    "start_time": "2022-02-03T13:05:15.743Z"
   },
   {
    "duration": 207,
    "start_time": "2022-02-03T13:05:15.751Z"
   },
   {
    "duration": 53,
    "start_time": "2022-02-03T13:05:15.959Z"
   },
   {
    "duration": 373,
    "start_time": "2022-02-03T13:05:16.014Z"
   },
   {
    "duration": 47,
    "start_time": "2022-02-03T13:05:16.389Z"
   },
   {
    "duration": 2,
    "start_time": "2022-02-03T13:05:16.437Z"
   },
   {
    "duration": 7,
    "start_time": "2022-02-03T13:05:16.441Z"
   },
   {
    "duration": 12,
    "start_time": "2022-02-03T13:05:16.449Z"
   },
   {
    "duration": 10,
    "start_time": "2022-02-03T13:05:16.462Z"
   },
   {
    "duration": 7,
    "start_time": "2022-02-03T13:05:16.474Z"
   },
   {
    "duration": 319,
    "start_time": "2022-02-03T13:07:03.976Z"
   },
   {
    "duration": 453,
    "start_time": "2022-02-03T13:07:24.063Z"
   },
   {
    "duration": 3,
    "start_time": "2022-02-03T13:08:00.885Z"
   },
   {
    "duration": 6,
    "start_time": "2022-02-03T13:08:35.817Z"
   },
   {
    "duration": 6,
    "start_time": "2022-02-03T13:08:48.997Z"
   },
   {
    "duration": 9,
    "start_time": "2022-02-03T13:09:45.306Z"
   },
   {
    "duration": 70,
    "start_time": "2022-02-03T13:10:20.695Z"
   },
   {
    "duration": 8,
    "start_time": "2022-02-03T13:10:53.008Z"
   },
   {
    "duration": 9,
    "start_time": "2022-02-03T13:10:59.343Z"
   },
   {
    "duration": 11,
    "start_time": "2022-02-03T13:11:31.587Z"
   },
   {
    "duration": 11,
    "start_time": "2022-02-03T13:12:11.644Z"
   },
   {
    "duration": 20,
    "start_time": "2022-02-03T13:12:38.915Z"
   },
   {
    "duration": 134,
    "start_time": "2022-02-03T13:15:49.748Z"
   },
   {
    "duration": 13,
    "start_time": "2022-02-03T13:15:53.632Z"
   },
   {
    "duration": 13,
    "start_time": "2022-02-03T13:17:18.576Z"
   },
   {
    "duration": 20,
    "start_time": "2022-02-03T13:17:47.094Z"
   },
   {
    "duration": 22,
    "start_time": "2022-02-03T13:19:24.410Z"
   },
   {
    "duration": 1000,
    "start_time": "2022-02-03T13:19:31.786Z"
   },
   {
    "duration": 141,
    "start_time": "2022-02-03T13:19:32.788Z"
   },
   {
    "duration": 18,
    "start_time": "2022-02-03T13:19:32.932Z"
   },
   {
    "duration": 124,
    "start_time": "2022-02-03T13:19:32.952Z"
   },
   {
    "duration": 16,
    "start_time": "2022-02-03T13:19:33.078Z"
   },
   {
    "duration": 86,
    "start_time": "2022-02-03T13:19:33.096Z"
   },
   {
    "duration": 13,
    "start_time": "2022-02-03T13:19:33.184Z"
   },
   {
    "duration": 21,
    "start_time": "2022-02-03T13:19:33.199Z"
   },
   {
    "duration": 9,
    "start_time": "2022-02-03T13:19:33.221Z"
   },
   {
    "duration": 79,
    "start_time": "2022-02-03T13:19:33.231Z"
   },
   {
    "duration": 5,
    "start_time": "2022-02-03T13:19:33.312Z"
   },
   {
    "duration": 197,
    "start_time": "2022-02-03T13:19:33.318Z"
   },
   {
    "duration": 122,
    "start_time": "2022-02-03T13:19:33.517Z"
   },
   {
    "duration": 91,
    "start_time": "2022-02-03T13:19:33.641Z"
   },
   {
    "duration": 8,
    "start_time": "2022-02-03T13:19:33.734Z"
   },
   {
    "duration": 12,
    "start_time": "2022-02-03T13:19:33.744Z"
   },
   {
    "duration": 3,
    "start_time": "2022-02-03T13:19:33.757Z"
   },
   {
    "duration": 29,
    "start_time": "2022-02-03T13:19:33.762Z"
   },
   {
    "duration": 42,
    "start_time": "2022-02-03T13:19:33.793Z"
   },
   {
    "duration": 19,
    "start_time": "2022-02-03T13:19:33.836Z"
   },
   {
    "duration": 6,
    "start_time": "2022-02-03T13:19:33.856Z"
   },
   {
    "duration": 5,
    "start_time": "2022-02-03T13:19:33.864Z"
   },
   {
    "duration": 23,
    "start_time": "2022-02-03T13:19:33.873Z"
   },
   {
    "duration": 20,
    "start_time": "2022-02-03T13:19:33.928Z"
   },
   {
    "duration": 20,
    "start_time": "2022-02-03T13:19:33.950Z"
   },
   {
    "duration": 7,
    "start_time": "2022-02-03T13:19:33.973Z"
   },
   {
    "duration": 116,
    "start_time": "2022-02-03T13:19:33.982Z"
   },
   {
    "duration": 86,
    "start_time": "2022-02-03T13:19:34.100Z"
   },
   {
    "duration": 50,
    "start_time": "2022-02-03T13:19:34.188Z"
   },
   {
    "duration": 197,
    "start_time": "2022-02-03T13:19:34.240Z"
   },
   {
    "duration": 38,
    "start_time": "2022-02-03T13:19:34.439Z"
   },
   {
    "duration": 27,
    "start_time": "2022-02-03T13:19:34.479Z"
   },
   {
    "duration": 19,
    "start_time": "2022-02-03T13:19:34.508Z"
   },
   {
    "duration": 11,
    "start_time": "2022-02-03T13:19:34.528Z"
   },
   {
    "duration": 10,
    "start_time": "2022-02-03T13:19:34.540Z"
   },
   {
    "duration": 12,
    "start_time": "2022-02-03T13:19:34.552Z"
   },
   {
    "duration": 9,
    "start_time": "2022-02-03T13:19:34.566Z"
   },
   {
    "duration": 15,
    "start_time": "2022-02-03T13:19:34.577Z"
   },
   {
    "duration": 53,
    "start_time": "2022-02-03T13:19:34.594Z"
   },
   {
    "duration": 20,
    "start_time": "2022-02-03T13:19:34.649Z"
   },
   {
    "duration": 19,
    "start_time": "2022-02-03T13:19:34.670Z"
   },
   {
    "duration": 44,
    "start_time": "2022-02-03T13:19:34.690Z"
   },
   {
    "duration": 126,
    "start_time": "2022-02-03T13:19:34.735Z"
   },
   {
    "duration": 110,
    "start_time": "2022-02-03T13:19:34.863Z"
   },
   {
    "duration": 122,
    "start_time": "2022-02-03T13:19:34.975Z"
   },
   {
    "duration": 6,
    "start_time": "2022-02-03T13:19:35.099Z"
   },
   {
    "duration": 318,
    "start_time": "2022-02-03T13:19:35.107Z"
   },
   {
    "duration": 18,
    "start_time": "2022-02-03T13:19:35.427Z"
   },
   {
    "duration": 17,
    "start_time": "2022-02-03T13:19:35.447Z"
   },
   {
    "duration": 17,
    "start_time": "2022-02-03T13:19:35.466Z"
   },
   {
    "duration": 6,
    "start_time": "2022-02-03T13:19:35.484Z"
   },
   {
    "duration": 37,
    "start_time": "2022-02-03T13:19:35.491Z"
   },
   {
    "duration": 19,
    "start_time": "2022-02-03T13:19:35.529Z"
   },
   {
    "duration": 204,
    "start_time": "2022-02-03T13:19:35.549Z"
   },
   {
    "duration": 34,
    "start_time": "2022-02-03T13:19:35.754Z"
   },
   {
    "duration": 20,
    "start_time": "2022-02-03T13:19:35.789Z"
   },
   {
    "duration": 219,
    "start_time": "2022-02-03T13:19:35.810Z"
   },
   {
    "duration": 34,
    "start_time": "2022-02-03T13:19:36.031Z"
   },
   {
    "duration": 6,
    "start_time": "2022-02-03T13:19:36.066Z"
   },
   {
    "duration": 208,
    "start_time": "2022-02-03T13:19:36.074Z"
   },
   {
    "duration": 32,
    "start_time": "2022-02-03T13:19:36.284Z"
   },
   {
    "duration": 200,
    "start_time": "2022-02-03T13:19:36.327Z"
   },
   {
    "duration": 30,
    "start_time": "2022-02-03T13:19:36.529Z"
   },
   {
    "duration": 6,
    "start_time": "2022-02-03T13:19:36.561Z"
   },
   {
    "duration": 398,
    "start_time": "2022-02-03T13:19:36.568Z"
   },
   {
    "duration": 35,
    "start_time": "2022-02-03T13:19:36.967Z"
   },
   {
    "duration": 257,
    "start_time": "2022-02-03T13:19:37.027Z"
   },
   {
    "duration": 43,
    "start_time": "2022-02-03T13:19:37.288Z"
   },
   {
    "duration": 2,
    "start_time": "2022-02-03T13:19:37.333Z"
   },
   {
    "duration": 7,
    "start_time": "2022-02-03T13:19:37.337Z"
   },
   {
    "duration": 11,
    "start_time": "2022-02-03T13:19:37.346Z"
   },
   {
    "duration": 11,
    "start_time": "2022-02-03T13:19:37.358Z"
   },
   {
    "duration": 5,
    "start_time": "2022-02-03T13:19:37.371Z"
   },
   {
    "duration": 21,
    "start_time": "2022-02-03T13:20:32.479Z"
   },
   {
    "duration": 25,
    "start_time": "2022-02-03T13:20:48.322Z"
   },
   {
    "duration": 24,
    "start_time": "2022-02-03T13:21:01.852Z"
   },
   {
    "duration": 20,
    "start_time": "2022-02-03T13:21:48.191Z"
   },
   {
    "duration": 26,
    "start_time": "2022-02-03T13:21:57.930Z"
   },
   {
    "duration": 7,
    "start_time": "2022-02-03T13:22:07.142Z"
   },
   {
    "duration": 1066,
    "start_time": "2022-02-03T13:22:16.324Z"
   },
   {
    "duration": 142,
    "start_time": "2022-02-03T13:22:17.391Z"
   },
   {
    "duration": 18,
    "start_time": "2022-02-03T13:22:17.535Z"
   },
   {
    "duration": 120,
    "start_time": "2022-02-03T13:22:17.555Z"
   },
   {
    "duration": 15,
    "start_time": "2022-02-03T13:22:17.677Z"
   },
   {
    "duration": 85,
    "start_time": "2022-02-03T13:22:17.693Z"
   },
   {
    "duration": 13,
    "start_time": "2022-02-03T13:22:17.780Z"
   },
   {
    "duration": 22,
    "start_time": "2022-02-03T13:22:17.795Z"
   },
   {
    "duration": 8,
    "start_time": "2022-02-03T13:22:17.819Z"
   },
   {
    "duration": 79,
    "start_time": "2022-02-03T13:22:17.828Z"
   },
   {
    "duration": 5,
    "start_time": "2022-02-03T13:22:17.909Z"
   },
   {
    "duration": 202,
    "start_time": "2022-02-03T13:22:17.916Z"
   },
   {
    "duration": 122,
    "start_time": "2022-02-03T13:22:18.119Z"
   },
   {
    "duration": 88,
    "start_time": "2022-02-03T13:22:18.243Z"
   },
   {
    "duration": 8,
    "start_time": "2022-02-03T13:22:18.333Z"
   },
   {
    "duration": 12,
    "start_time": "2022-02-03T13:22:18.343Z"
   },
   {
    "duration": 2,
    "start_time": "2022-02-03T13:22:18.357Z"
   },
   {
    "duration": 34,
    "start_time": "2022-02-03T13:22:18.361Z"
   },
   {
    "duration": 46,
    "start_time": "2022-02-03T13:22:18.396Z"
   },
   {
    "duration": 17,
    "start_time": "2022-02-03T13:22:18.444Z"
   },
   {
    "duration": 5,
    "start_time": "2022-02-03T13:22:18.463Z"
   },
   {
    "duration": 4,
    "start_time": "2022-02-03T13:22:18.469Z"
   },
   {
    "duration": 26,
    "start_time": "2022-02-03T13:22:18.476Z"
   },
   {
    "duration": 36,
    "start_time": "2022-02-03T13:22:18.504Z"
   },
   {
    "duration": 14,
    "start_time": "2022-02-03T13:22:18.542Z"
   },
   {
    "duration": 5,
    "start_time": "2022-02-03T13:22:18.558Z"
   },
   {
    "duration": 9,
    "start_time": "2022-02-03T13:22:18.564Z"
   },
   {
    "duration": 7,
    "start_time": "2022-02-03T13:22:18.575Z"
   },
   {
    "duration": 5,
    "start_time": "2022-02-03T13:22:18.584Z"
   },
   {
    "duration": 73,
    "start_time": "2022-02-03T13:22:18.590Z"
   },
   {
    "duration": 29,
    "start_time": "2022-02-03T13:22:18.664Z"
   },
   {
    "duration": 44,
    "start_time": "2022-02-03T13:22:18.694Z"
   },
   {
    "duration": 12,
    "start_time": "2022-02-03T13:22:18.740Z"
   },
   {
    "duration": 14,
    "start_time": "2022-02-03T13:22:18.754Z"
   },
   {
    "duration": 15,
    "start_time": "2022-02-03T13:22:18.769Z"
   },
   {
    "duration": 14,
    "start_time": "2022-02-03T13:22:18.785Z"
   },
   {
    "duration": 34,
    "start_time": "2022-02-03T13:22:18.801Z"
   },
   {
    "duration": 12,
    "start_time": "2022-02-03T13:22:18.836Z"
   },
   {
    "duration": 23,
    "start_time": "2022-02-03T13:22:18.849Z"
   },
   {
    "duration": 18,
    "start_time": "2022-02-03T13:22:18.874Z"
   },
   {
    "duration": 45,
    "start_time": "2022-02-03T13:22:18.893Z"
   },
   {
    "duration": 19,
    "start_time": "2022-02-03T13:22:18.940Z"
   },
   {
    "duration": 130,
    "start_time": "2022-02-03T13:22:18.960Z"
   },
   {
    "duration": 121,
    "start_time": "2022-02-03T13:22:19.092Z"
   },
   {
    "duration": 115,
    "start_time": "2022-02-03T13:22:19.215Z"
   },
   {
    "duration": 6,
    "start_time": "2022-02-03T13:22:19.332Z"
   },
   {
    "duration": 324,
    "start_time": "2022-02-03T13:22:19.340Z"
   },
   {
    "duration": 16,
    "start_time": "2022-02-03T13:22:19.666Z"
   },
   {
    "duration": 16,
    "start_time": "2022-02-03T13:22:19.684Z"
   },
   {
    "duration": 33,
    "start_time": "2022-02-03T13:22:19.702Z"
   },
   {
    "duration": 6,
    "start_time": "2022-02-03T13:22:19.737Z"
   },
   {
    "duration": 10,
    "start_time": "2022-02-03T13:22:19.745Z"
   },
   {
    "duration": 21,
    "start_time": "2022-02-03T13:22:19.757Z"
   },
   {
    "duration": 225,
    "start_time": "2022-02-03T13:22:19.780Z"
   },
   {
    "duration": 42,
    "start_time": "2022-02-03T13:22:20.006Z"
   },
   {
    "duration": 19,
    "start_time": "2022-02-03T13:22:20.049Z"
   },
   {
    "duration": 207,
    "start_time": "2022-02-03T13:22:20.070Z"
   },
   {
    "duration": 49,
    "start_time": "2022-02-03T13:22:20.279Z"
   },
   {
    "duration": 7,
    "start_time": "2022-02-03T13:22:20.329Z"
   },
   {
    "duration": 195,
    "start_time": "2022-02-03T13:22:20.337Z"
   },
   {
    "duration": 29,
    "start_time": "2022-02-03T13:22:20.533Z"
   },
   {
    "duration": 197,
    "start_time": "2022-02-03T13:22:20.564Z"
   },
   {
    "duration": 29,
    "start_time": "2022-02-03T13:22:20.762Z"
   },
   {
    "duration": 5,
    "start_time": "2022-02-03T13:22:20.793Z"
   },
   {
    "duration": 206,
    "start_time": "2022-02-03T13:22:20.800Z"
   },
   {
    "duration": 39,
    "start_time": "2022-02-03T13:22:21.007Z"
   },
   {
    "duration": 275,
    "start_time": "2022-02-03T13:22:21.048Z"
   },
   {
    "duration": 34,
    "start_time": "2022-02-03T13:22:21.330Z"
   },
   {
    "duration": 2,
    "start_time": "2022-02-03T13:22:21.365Z"
   },
   {
    "duration": 9,
    "start_time": "2022-02-03T13:22:21.369Z"
   },
   {
    "duration": 25,
    "start_time": "2022-02-03T13:22:21.379Z"
   },
   {
    "duration": 43,
    "start_time": "2022-02-03T13:22:21.405Z"
   },
   {
    "duration": 6,
    "start_time": "2022-02-03T13:22:21.449Z"
   },
   {
    "duration": 312,
    "start_time": "2022-02-03T13:23:42.772Z"
   },
   {
    "duration": 437,
    "start_time": "2022-02-03T13:24:09.856Z"
   },
   {
    "duration": 305,
    "start_time": "2022-02-03T13:24:29.148Z"
   },
   {
    "duration": 380,
    "start_time": "2022-02-03T13:24:44.108Z"
   },
   {
    "duration": 27,
    "start_time": "2022-02-03T13:25:05.924Z"
   },
   {
    "duration": 25,
    "start_time": "2022-02-03T13:25:17.848Z"
   },
   {
    "duration": 25,
    "start_time": "2022-02-03T13:25:46.469Z"
   },
   {
    "duration": 33,
    "start_time": "2022-02-03T13:25:56.430Z"
   },
   {
    "duration": 26,
    "start_time": "2022-02-03T13:26:09.898Z"
   },
   {
    "duration": 21,
    "start_time": "2022-02-03T13:26:16.523Z"
   },
   {
    "duration": 1112,
    "start_time": "2022-02-03T13:26:22.350Z"
   },
   {
    "duration": 144,
    "start_time": "2022-02-03T13:26:23.464Z"
   },
   {
    "duration": 17,
    "start_time": "2022-02-03T13:26:23.611Z"
   },
   {
    "duration": 120,
    "start_time": "2022-02-03T13:26:23.630Z"
   },
   {
    "duration": 17,
    "start_time": "2022-02-03T13:26:23.752Z"
   },
   {
    "duration": 85,
    "start_time": "2022-02-03T13:26:23.770Z"
   },
   {
    "duration": 13,
    "start_time": "2022-02-03T13:26:23.857Z"
   },
   {
    "duration": 21,
    "start_time": "2022-02-03T13:26:23.872Z"
   },
   {
    "duration": 6,
    "start_time": "2022-02-03T13:26:23.895Z"
   },
   {
    "duration": 59,
    "start_time": "2022-02-03T13:26:23.903Z"
   },
   {
    "duration": 5,
    "start_time": "2022-02-03T13:26:23.963Z"
   },
   {
    "duration": 218,
    "start_time": "2022-02-03T13:26:23.969Z"
   },
   {
    "duration": 127,
    "start_time": "2022-02-03T13:26:24.189Z"
   },
   {
    "duration": 92,
    "start_time": "2022-02-03T13:26:24.318Z"
   },
   {
    "duration": 21,
    "start_time": "2022-02-03T13:26:24.411Z"
   },
   {
    "duration": 12,
    "start_time": "2022-02-03T13:26:24.433Z"
   },
   {
    "duration": 3,
    "start_time": "2022-02-03T13:26:24.446Z"
   },
   {
    "duration": 29,
    "start_time": "2022-02-03T13:26:24.450Z"
   },
   {
    "duration": 48,
    "start_time": "2022-02-03T13:26:24.480Z"
   },
   {
    "duration": 18,
    "start_time": "2022-02-03T13:26:24.529Z"
   },
   {
    "duration": 5,
    "start_time": "2022-02-03T13:26:24.549Z"
   },
   {
    "duration": 4,
    "start_time": "2022-02-03T13:26:24.556Z"
   },
   {
    "duration": 22,
    "start_time": "2022-02-03T13:26:24.563Z"
   },
   {
    "duration": 41,
    "start_time": "2022-02-03T13:26:24.588Z"
   },
   {
    "duration": 15,
    "start_time": "2022-02-03T13:26:24.630Z"
   },
   {
    "duration": 4,
    "start_time": "2022-02-03T13:26:24.647Z"
   },
   {
    "duration": 9,
    "start_time": "2022-02-03T13:26:24.653Z"
   },
   {
    "duration": 8,
    "start_time": "2022-02-03T13:26:24.663Z"
   },
   {
    "duration": 6,
    "start_time": "2022-02-03T13:26:24.672Z"
   },
   {
    "duration": 73,
    "start_time": "2022-02-03T13:26:24.679Z"
   },
   {
    "duration": 28,
    "start_time": "2022-02-03T13:26:24.754Z"
   },
   {
    "duration": 27,
    "start_time": "2022-02-03T13:26:24.784Z"
   },
   {
    "duration": 13,
    "start_time": "2022-02-03T13:26:24.827Z"
   },
   {
    "duration": 11,
    "start_time": "2022-02-03T13:26:24.842Z"
   },
   {
    "duration": 11,
    "start_time": "2022-02-03T13:26:24.854Z"
   },
   {
    "duration": 12,
    "start_time": "2022-02-03T13:26:24.867Z"
   },
   {
    "duration": 10,
    "start_time": "2022-02-03T13:26:24.881Z"
   },
   {
    "duration": 45,
    "start_time": "2022-02-03T13:26:24.893Z"
   },
   {
    "duration": 25,
    "start_time": "2022-02-03T13:26:24.940Z"
   },
   {
    "duration": 18,
    "start_time": "2022-02-03T13:26:24.966Z"
   },
   {
    "duration": 42,
    "start_time": "2022-02-03T13:26:24.985Z"
   },
   {
    "duration": 23,
    "start_time": "2022-02-03T13:26:25.028Z"
   },
   {
    "duration": 131,
    "start_time": "2022-02-03T13:26:25.052Z"
   },
   {
    "duration": 116,
    "start_time": "2022-02-03T13:26:25.185Z"
   },
   {
    "duration": 118,
    "start_time": "2022-02-03T13:26:25.302Z"
   },
   {
    "duration": 8,
    "start_time": "2022-02-03T13:26:25.426Z"
   },
   {
    "duration": 327,
    "start_time": "2022-02-03T13:26:25.435Z"
   },
   {
    "duration": 18,
    "start_time": "2022-02-03T13:26:25.763Z"
   },
   {
    "duration": 17,
    "start_time": "2022-02-03T13:26:25.782Z"
   },
   {
    "duration": 36,
    "start_time": "2022-02-03T13:26:25.801Z"
   },
   {
    "duration": 5,
    "start_time": "2022-02-03T13:26:25.838Z"
   },
   {
    "duration": 9,
    "start_time": "2022-02-03T13:26:25.845Z"
   },
   {
    "duration": 18,
    "start_time": "2022-02-03T13:26:25.856Z"
   },
   {
    "duration": 214,
    "start_time": "2022-02-03T13:26:25.876Z"
   },
   {
    "duration": 43,
    "start_time": "2022-02-03T13:26:26.092Z"
   },
   {
    "duration": 22,
    "start_time": "2022-02-03T13:26:26.137Z"
   },
   {
    "duration": 214,
    "start_time": "2022-02-03T13:26:26.160Z"
   },
   {
    "duration": 36,
    "start_time": "2022-02-03T13:26:26.375Z"
   },
   {
    "duration": 18,
    "start_time": "2022-02-03T13:26:26.413Z"
   },
   {
    "duration": 194,
    "start_time": "2022-02-03T13:26:26.433Z"
   },
   {
    "duration": 30,
    "start_time": "2022-02-03T13:26:26.628Z"
   },
   {
    "duration": 199,
    "start_time": "2022-02-03T13:26:26.659Z"
   },
   {
    "duration": 31,
    "start_time": "2022-02-03T13:26:26.860Z"
   },
   {
    "duration": 7,
    "start_time": "2022-02-03T13:26:26.893Z"
   },
   {
    "duration": 217,
    "start_time": "2022-02-03T13:26:26.902Z"
   },
   {
    "duration": 38,
    "start_time": "2022-02-03T13:26:27.121Z"
   },
   {
    "duration": 271,
    "start_time": "2022-02-03T13:26:27.160Z"
   },
   {
    "duration": 34,
    "start_time": "2022-02-03T13:26:27.436Z"
   },
   {
    "duration": 2,
    "start_time": "2022-02-03T13:26:27.471Z"
   },
   {
    "duration": 10,
    "start_time": "2022-02-03T13:26:27.475Z"
   },
   {
    "duration": 42,
    "start_time": "2022-02-03T13:26:27.487Z"
   },
   {
    "duration": 21,
    "start_time": "2022-02-03T13:26:27.531Z"
   },
   {
    "duration": 6,
    "start_time": "2022-02-03T13:26:27.553Z"
   },
   {
    "duration": 11,
    "start_time": "2022-02-03T13:32:29.982Z"
   },
   {
    "duration": 13,
    "start_time": "2022-02-03T13:35:14.257Z"
   },
   {
    "duration": 20,
    "start_time": "2022-02-03T13:35:36.611Z"
   },
   {
    "duration": 19,
    "start_time": "2022-02-03T13:35:50.492Z"
   },
   {
    "duration": 1015,
    "start_time": "2022-02-03T13:36:05.579Z"
   },
   {
    "duration": 145,
    "start_time": "2022-02-03T13:36:06.596Z"
   },
   {
    "duration": 18,
    "start_time": "2022-02-03T13:36:06.743Z"
   },
   {
    "duration": 118,
    "start_time": "2022-02-03T13:36:06.763Z"
   },
   {
    "duration": 15,
    "start_time": "2022-02-03T13:36:06.883Z"
   },
   {
    "duration": 90,
    "start_time": "2022-02-03T13:36:06.899Z"
   },
   {
    "duration": 12,
    "start_time": "2022-02-03T13:36:06.990Z"
   },
   {
    "duration": 21,
    "start_time": "2022-02-03T13:36:07.004Z"
   },
   {
    "duration": 6,
    "start_time": "2022-02-03T13:36:07.027Z"
   },
   {
    "duration": 69,
    "start_time": "2022-02-03T13:36:07.035Z"
   },
   {
    "duration": 5,
    "start_time": "2022-02-03T13:36:07.106Z"
   },
   {
    "duration": 295,
    "start_time": "2022-02-03T13:36:07.113Z"
   },
   {
    "duration": 131,
    "start_time": "2022-02-03T13:36:07.409Z"
   },
   {
    "duration": 90,
    "start_time": "2022-02-03T13:36:07.541Z"
   },
   {
    "duration": 8,
    "start_time": "2022-02-03T13:36:07.633Z"
   },
   {
    "duration": 12,
    "start_time": "2022-02-03T13:36:07.643Z"
   },
   {
    "duration": 3,
    "start_time": "2022-02-03T13:36:07.656Z"
   },
   {
    "duration": 33,
    "start_time": "2022-02-03T13:36:07.661Z"
   },
   {
    "duration": 42,
    "start_time": "2022-02-03T13:36:07.695Z"
   },
   {
    "duration": 18,
    "start_time": "2022-02-03T13:36:07.738Z"
   },
   {
    "duration": 5,
    "start_time": "2022-02-03T13:36:07.757Z"
   },
   {
    "duration": 5,
    "start_time": "2022-02-03T13:36:07.764Z"
   },
   {
    "duration": 22,
    "start_time": "2022-02-03T13:36:07.773Z"
   },
   {
    "duration": 17,
    "start_time": "2022-02-03T13:36:07.827Z"
   },
   {
    "duration": 15,
    "start_time": "2022-02-03T13:36:07.845Z"
   },
   {
    "duration": 4,
    "start_time": "2022-02-03T13:36:07.862Z"
   },
   {
    "duration": 19,
    "start_time": "2022-02-03T13:36:07.868Z"
   },
   {
    "duration": 7,
    "start_time": "2022-02-03T13:36:07.888Z"
   },
   {
    "duration": 33,
    "start_time": "2022-02-03T13:36:07.897Z"
   },
   {
    "duration": 43,
    "start_time": "2022-02-03T13:36:07.931Z"
   },
   {
    "duration": 28,
    "start_time": "2022-02-03T13:36:07.976Z"
   },
   {
    "duration": 45,
    "start_time": "2022-02-03T13:36:08.006Z"
   },
   {
    "duration": 14,
    "start_time": "2022-02-03T13:36:08.052Z"
   },
   {
    "duration": 11,
    "start_time": "2022-02-03T13:36:08.067Z"
   },
   {
    "duration": 13,
    "start_time": "2022-02-03T13:36:08.079Z"
   },
   {
    "duration": 45,
    "start_time": "2022-02-03T13:36:08.094Z"
   },
   {
    "duration": 10,
    "start_time": "2022-02-03T13:36:08.141Z"
   },
   {
    "duration": 12,
    "start_time": "2022-02-03T13:36:08.153Z"
   },
   {
    "duration": 25,
    "start_time": "2022-02-03T13:36:08.166Z"
   },
   {
    "duration": 48,
    "start_time": "2022-02-03T13:36:08.192Z"
   },
   {
    "duration": 18,
    "start_time": "2022-02-03T13:36:08.242Z"
   },
   {
    "duration": 20,
    "start_time": "2022-02-03T13:36:08.262Z"
   },
   {
    "duration": 148,
    "start_time": "2022-02-03T13:36:08.284Z"
   },
   {
    "duration": 118,
    "start_time": "2022-02-03T13:36:08.433Z"
   },
   {
    "duration": 113,
    "start_time": "2022-02-03T13:36:08.553Z"
   },
   {
    "duration": 6,
    "start_time": "2022-02-03T13:36:08.668Z"
   },
   {
    "duration": 327,
    "start_time": "2022-02-03T13:36:08.675Z"
   },
   {
    "duration": 30,
    "start_time": "2022-02-03T13:36:09.003Z"
   },
   {
    "duration": 19,
    "start_time": "2022-02-03T13:36:09.034Z"
   },
   {
    "duration": 17,
    "start_time": "2022-02-03T13:36:09.055Z"
   },
   {
    "duration": 6,
    "start_time": "2022-02-03T13:36:09.074Z"
   },
   {
    "duration": 11,
    "start_time": "2022-02-03T13:36:09.082Z"
   },
   {
    "duration": 60,
    "start_time": "2022-02-03T13:36:09.095Z"
   },
   {
    "duration": 334,
    "start_time": "2022-02-03T13:36:09.157Z"
   },
   {
    "duration": 68,
    "start_time": "2022-02-03T13:36:09.493Z"
   },
   {
    "duration": 36,
    "start_time": "2022-02-03T13:36:09.563Z"
   },
   {
    "duration": 212,
    "start_time": "2022-02-03T13:36:09.601Z"
   },
   {
    "duration": 41,
    "start_time": "2022-02-03T13:36:09.815Z"
   },
   {
    "duration": 7,
    "start_time": "2022-02-03T13:36:09.858Z"
   },
   {
    "duration": 204,
    "start_time": "2022-02-03T13:36:09.867Z"
   },
   {
    "duration": 30,
    "start_time": "2022-02-03T13:36:10.073Z"
   },
   {
    "duration": 205,
    "start_time": "2022-02-03T13:36:10.105Z"
   },
   {
    "duration": 39,
    "start_time": "2022-02-03T13:36:10.312Z"
   },
   {
    "duration": 7,
    "start_time": "2022-02-03T13:36:10.352Z"
   },
   {
    "duration": 209,
    "start_time": "2022-02-03T13:36:10.360Z"
   },
   {
    "duration": 35,
    "start_time": "2022-02-03T13:36:10.571Z"
   },
   {
    "duration": 274,
    "start_time": "2022-02-03T13:36:10.607Z"
   },
   {
    "duration": 43,
    "start_time": "2022-02-03T13:36:10.885Z"
   },
   {
    "duration": 2,
    "start_time": "2022-02-03T13:36:10.930Z"
   },
   {
    "duration": 7,
    "start_time": "2022-02-03T13:36:10.934Z"
   },
   {
    "duration": 24,
    "start_time": "2022-02-03T13:36:10.942Z"
   },
   {
    "duration": 21,
    "start_time": "2022-02-03T13:36:10.968Z"
   },
   {
    "duration": 36,
    "start_time": "2022-02-03T13:36:10.991Z"
   },
   {
    "duration": 7,
    "start_time": "2022-02-03T14:07:15.891Z"
   },
   {
    "duration": 363,
    "start_time": "2022-02-03T14:07:20.215Z"
   },
   {
    "duration": 998,
    "start_time": "2022-02-03T14:11:26.389Z"
   },
   {
    "duration": 143,
    "start_time": "2022-02-03T14:11:27.389Z"
   },
   {
    "duration": 19,
    "start_time": "2022-02-03T14:11:27.535Z"
   },
   {
    "duration": 120,
    "start_time": "2022-02-03T14:11:27.556Z"
   },
   {
    "duration": 15,
    "start_time": "2022-02-03T14:11:27.678Z"
   },
   {
    "duration": 91,
    "start_time": "2022-02-03T14:11:27.695Z"
   },
   {
    "duration": 18,
    "start_time": "2022-02-03T14:11:27.788Z"
   },
   {
    "duration": 24,
    "start_time": "2022-02-03T14:11:27.808Z"
   },
   {
    "duration": 7,
    "start_time": "2022-02-03T14:11:27.834Z"
   },
   {
    "duration": 71,
    "start_time": "2022-02-03T14:11:27.842Z"
   },
   {
    "duration": 6,
    "start_time": "2022-02-03T14:11:27.914Z"
   },
   {
    "duration": 202,
    "start_time": "2022-02-03T14:11:27.921Z"
   },
   {
    "duration": 129,
    "start_time": "2022-02-03T14:11:28.127Z"
   },
   {
    "duration": 89,
    "start_time": "2022-02-03T14:11:28.258Z"
   },
   {
    "duration": 10,
    "start_time": "2022-02-03T14:11:28.348Z"
   },
   {
    "duration": 10,
    "start_time": "2022-02-03T14:11:28.359Z"
   },
   {
    "duration": 3,
    "start_time": "2022-02-03T14:11:28.371Z"
   },
   {
    "duration": 57,
    "start_time": "2022-02-03T14:11:28.376Z"
   },
   {
    "duration": 22,
    "start_time": "2022-02-03T14:11:28.434Z"
   },
   {
    "duration": 19,
    "start_time": "2022-02-03T14:11:28.458Z"
   },
   {
    "duration": 7,
    "start_time": "2022-02-03T14:11:28.478Z"
   },
   {
    "duration": 5,
    "start_time": "2022-02-03T14:11:28.486Z"
   },
   {
    "duration": 50,
    "start_time": "2022-02-03T14:11:28.495Z"
   },
   {
    "duration": 16,
    "start_time": "2022-02-03T14:11:28.548Z"
   },
   {
    "duration": 14,
    "start_time": "2022-02-03T14:11:28.566Z"
   },
   {
    "duration": 4,
    "start_time": "2022-02-03T14:11:28.582Z"
   },
   {
    "duration": 14,
    "start_time": "2022-02-03T14:11:28.587Z"
   },
   {
    "duration": 29,
    "start_time": "2022-02-03T14:11:28.603Z"
   },
   {
    "duration": 6,
    "start_time": "2022-02-03T14:11:28.633Z"
   },
   {
    "duration": 42,
    "start_time": "2022-02-03T14:11:28.640Z"
   },
   {
    "duration": 45,
    "start_time": "2022-02-03T14:11:28.683Z"
   },
   {
    "duration": 27,
    "start_time": "2022-02-03T14:11:28.730Z"
   },
   {
    "duration": 12,
    "start_time": "2022-02-03T14:11:28.758Z"
   },
   {
    "duration": 10,
    "start_time": "2022-02-03T14:11:28.772Z"
   },
   {
    "duration": 11,
    "start_time": "2022-02-03T14:11:28.783Z"
   },
   {
    "duration": 37,
    "start_time": "2022-02-03T14:11:28.796Z"
   },
   {
    "duration": 11,
    "start_time": "2022-02-03T14:11:28.834Z"
   },
   {
    "duration": 11,
    "start_time": "2022-02-03T14:11:28.846Z"
   },
   {
    "duration": 24,
    "start_time": "2022-02-03T14:11:28.858Z"
   },
   {
    "duration": 46,
    "start_time": "2022-02-03T14:11:28.884Z"
   },
   {
    "duration": 20,
    "start_time": "2022-02-03T14:11:28.931Z"
   },
   {
    "duration": 130,
    "start_time": "2022-02-03T14:11:28.953Z"
   },
   {
    "duration": 116,
    "start_time": "2022-02-03T14:11:29.085Z"
   },
   {
    "duration": 121,
    "start_time": "2022-02-03T14:11:29.203Z"
   },
   {
    "duration": 6,
    "start_time": "2022-02-03T14:11:29.326Z"
   },
   {
    "duration": 383,
    "start_time": "2022-02-03T14:11:29.334Z"
   },
   {
    "duration": 24,
    "start_time": "2022-02-03T14:11:29.719Z"
   },
   {
    "duration": 18,
    "start_time": "2022-02-03T14:11:29.744Z"
   },
   {
    "duration": 16,
    "start_time": "2022-02-03T14:11:29.763Z"
   },
   {
    "duration": 5,
    "start_time": "2022-02-03T14:11:29.780Z"
   },
   {
    "duration": 8,
    "start_time": "2022-02-03T14:11:29.786Z"
   },
   {
    "duration": 48,
    "start_time": "2022-02-03T14:11:29.795Z"
   },
   {
    "duration": 205,
    "start_time": "2022-02-03T14:11:29.844Z"
   },
   {
    "duration": 35,
    "start_time": "2022-02-03T14:11:30.051Z"
   },
   {
    "duration": 40,
    "start_time": "2022-02-03T14:11:30.088Z"
   },
   {
    "duration": 206,
    "start_time": "2022-02-03T14:11:30.130Z"
   },
   {
    "duration": 34,
    "start_time": "2022-02-03T14:11:30.337Z"
   },
   {
    "duration": 7,
    "start_time": "2022-02-03T14:11:30.372Z"
   },
   {
    "duration": 202,
    "start_time": "2022-02-03T14:11:30.380Z"
   },
   {
    "duration": 31,
    "start_time": "2022-02-03T14:11:30.584Z"
   },
   {
    "duration": 214,
    "start_time": "2022-02-03T14:11:30.616Z"
   },
   {
    "duration": 29,
    "start_time": "2022-02-03T14:11:30.832Z"
   },
   {
    "duration": 6,
    "start_time": "2022-02-03T14:11:30.863Z"
   },
   {
    "duration": 210,
    "start_time": "2022-02-03T14:11:30.871Z"
   },
   {
    "duration": 45,
    "start_time": "2022-02-03T14:11:31.083Z"
   },
   {
    "duration": 265,
    "start_time": "2022-02-03T14:11:31.130Z"
   },
   {
    "duration": 44,
    "start_time": "2022-02-03T14:11:31.397Z"
   },
   {
    "duration": 2,
    "start_time": "2022-02-03T14:11:31.446Z"
   },
   {
    "duration": 9,
    "start_time": "2022-02-03T14:11:31.450Z"
   },
   {
    "duration": 24,
    "start_time": "2022-02-03T14:11:31.460Z"
   },
   {
    "duration": 59,
    "start_time": "2022-02-03T14:11:31.486Z"
   },
   {
    "duration": 6,
    "start_time": "2022-02-03T14:11:31.546Z"
   },
   {
    "duration": 368,
    "start_time": "2022-02-03T14:12:07.284Z"
   },
   {
    "duration": 7,
    "start_time": "2022-02-03T14:12:23.131Z"
   },
   {
    "duration": 756,
    "start_time": "2022-02-03T14:12:25.830Z"
   },
   {
    "duration": 7,
    "start_time": "2022-02-03T14:12:40.037Z"
   },
   {
    "duration": 369,
    "start_time": "2022-02-03T14:12:43.431Z"
   },
   {
    "duration": 125,
    "start_time": "2022-02-03T14:12:58.463Z"
   },
   {
    "duration": 6,
    "start_time": "2022-02-03T14:13:09.689Z"
   },
   {
    "duration": 692,
    "start_time": "2022-02-03T14:13:13.091Z"
   },
   {
    "duration": 7,
    "start_time": "2022-02-03T14:13:26.601Z"
   },
   {
    "duration": 7,
    "start_time": "2022-02-03T14:13:29.413Z"
   },
   {
    "duration": 1082,
    "start_time": "2022-02-03T14:13:38.211Z"
   },
   {
    "duration": 147,
    "start_time": "2022-02-03T14:13:39.295Z"
   },
   {
    "duration": 19,
    "start_time": "2022-02-03T14:13:39.444Z"
   },
   {
    "duration": 121,
    "start_time": "2022-02-03T14:13:39.465Z"
   },
   {
    "duration": 16,
    "start_time": "2022-02-03T14:13:39.588Z"
   },
   {
    "duration": 88,
    "start_time": "2022-02-03T14:13:39.606Z"
   },
   {
    "duration": 14,
    "start_time": "2022-02-03T14:13:39.696Z"
   },
   {
    "duration": 21,
    "start_time": "2022-02-03T14:13:39.713Z"
   },
   {
    "duration": 4,
    "start_time": "2022-02-03T14:13:39.736Z"
   },
   {
    "duration": 48,
    "start_time": "2022-02-03T14:13:39.742Z"
   },
   {
    "duration": 5,
    "start_time": "2022-02-03T14:13:39.792Z"
   },
   {
    "duration": 197,
    "start_time": "2022-02-03T14:13:39.798Z"
   },
   {
    "duration": 135,
    "start_time": "2022-02-03T14:13:39.996Z"
   },
   {
    "duration": 94,
    "start_time": "2022-02-03T14:13:40.133Z"
   },
   {
    "duration": 9,
    "start_time": "2022-02-03T14:13:40.229Z"
   },
   {
    "duration": 12,
    "start_time": "2022-02-03T14:13:40.239Z"
   },
   {
    "duration": 3,
    "start_time": "2022-02-03T14:13:40.252Z"
   },
   {
    "duration": 31,
    "start_time": "2022-02-03T14:13:40.256Z"
   },
   {
    "duration": 42,
    "start_time": "2022-02-03T14:13:40.288Z"
   },
   {
    "duration": 17,
    "start_time": "2022-02-03T14:13:40.331Z"
   },
   {
    "duration": 5,
    "start_time": "2022-02-03T14:13:40.350Z"
   },
   {
    "duration": 6,
    "start_time": "2022-02-03T14:13:40.357Z"
   },
   {
    "duration": 21,
    "start_time": "2022-02-03T14:13:40.366Z"
   },
   {
    "duration": 41,
    "start_time": "2022-02-03T14:13:40.390Z"
   },
   {
    "duration": 16,
    "start_time": "2022-02-03T14:13:40.433Z"
   },
   {
    "duration": 5,
    "start_time": "2022-02-03T14:13:40.450Z"
   },
   {
    "duration": 14,
    "start_time": "2022-02-03T14:13:40.457Z"
   },
   {
    "duration": 7,
    "start_time": "2022-02-03T14:13:40.473Z"
   },
   {
    "duration": 5,
    "start_time": "2022-02-03T14:13:40.481Z"
   },
   {
    "duration": 66,
    "start_time": "2022-02-03T14:13:40.487Z"
   },
   {
    "duration": 28,
    "start_time": "2022-02-03T14:13:40.554Z"
   },
   {
    "duration": 28,
    "start_time": "2022-02-03T14:13:40.583Z"
   },
   {
    "duration": 25,
    "start_time": "2022-02-03T14:13:40.612Z"
   },
   {
    "duration": 10,
    "start_time": "2022-02-03T14:13:40.639Z"
   },
   {
    "duration": 11,
    "start_time": "2022-02-03T14:13:40.650Z"
   },
   {
    "duration": 13,
    "start_time": "2022-02-03T14:13:40.663Z"
   },
   {
    "duration": 10,
    "start_time": "2022-02-03T14:13:40.677Z"
   },
   {
    "duration": 48,
    "start_time": "2022-02-03T14:13:40.688Z"
   },
   {
    "duration": 23,
    "start_time": "2022-02-03T14:13:40.738Z"
   },
   {
    "duration": 17,
    "start_time": "2022-02-03T14:13:40.762Z"
   },
   {
    "duration": 17,
    "start_time": "2022-02-03T14:13:40.781Z"
   },
   {
    "duration": 138,
    "start_time": "2022-02-03T14:13:40.800Z"
   },
   {
    "duration": 107,
    "start_time": "2022-02-03T14:13:40.940Z"
   },
   {
    "duration": 121,
    "start_time": "2022-02-03T14:13:41.049Z"
   },
   {
    "duration": 7,
    "start_time": "2022-02-03T14:13:41.172Z"
   },
   {
    "duration": 368,
    "start_time": "2022-02-03T14:13:41.181Z"
   },
   {
    "duration": 19,
    "start_time": "2022-02-03T14:13:41.550Z"
   },
   {
    "duration": 17,
    "start_time": "2022-02-03T14:13:41.570Z"
   },
   {
    "duration": 41,
    "start_time": "2022-02-03T14:13:41.588Z"
   },
   {
    "duration": 4,
    "start_time": "2022-02-03T14:13:41.631Z"
   },
   {
    "duration": 8,
    "start_time": "2022-02-03T14:13:41.637Z"
   },
   {
    "duration": 19,
    "start_time": "2022-02-03T14:13:41.646Z"
   },
   {
    "duration": 212,
    "start_time": "2022-02-03T14:13:41.666Z"
   },
   {
    "duration": 35,
    "start_time": "2022-02-03T14:13:41.879Z"
   },
   {
    "duration": 32,
    "start_time": "2022-02-03T14:13:41.915Z"
   },
   {
    "duration": 210,
    "start_time": "2022-02-03T14:13:41.948Z"
   },
   {
    "duration": 35,
    "start_time": "2022-02-03T14:13:42.159Z"
   },
   {
    "duration": 6,
    "start_time": "2022-02-03T14:13:42.196Z"
   },
   {
    "duration": 202,
    "start_time": "2022-02-03T14:13:42.203Z"
   },
   {
    "duration": 39,
    "start_time": "2022-02-03T14:13:42.407Z"
   },
   {
    "duration": 191,
    "start_time": "2022-02-03T14:13:42.447Z"
   },
   {
    "duration": 30,
    "start_time": "2022-02-03T14:13:42.639Z"
   },
   {
    "duration": 6,
    "start_time": "2022-02-03T14:13:42.671Z"
   },
   {
    "duration": 205,
    "start_time": "2022-02-03T14:13:42.678Z"
   },
   {
    "duration": 43,
    "start_time": "2022-02-03T14:13:42.885Z"
   },
   {
    "duration": 252,
    "start_time": "2022-02-03T14:13:42.929Z"
   },
   {
    "duration": 33,
    "start_time": "2022-02-03T14:13:43.183Z"
   },
   {
    "duration": 7,
    "start_time": "2022-02-03T14:13:43.220Z"
   },
   {
    "duration": 7,
    "start_time": "2022-02-03T14:13:43.229Z"
   },
   {
    "duration": 24,
    "start_time": "2022-02-03T14:13:43.238Z"
   },
   {
    "duration": 19,
    "start_time": "2022-02-03T14:13:43.263Z"
   },
   {
    "duration": 5,
    "start_time": "2022-02-03T14:13:43.284Z"
   },
   {
    "duration": 7,
    "start_time": "2022-02-03T14:17:52.326Z"
   },
   {
    "duration": 376,
    "start_time": "2022-02-03T14:17:55.905Z"
   },
   {
    "duration": 7,
    "start_time": "2022-02-03T14:19:17.515Z"
   },
   {
    "duration": 361,
    "start_time": "2022-02-03T14:19:21.356Z"
   },
   {
    "duration": 7,
    "start_time": "2022-02-03T14:20:12.401Z"
   },
   {
    "duration": 368,
    "start_time": "2022-02-03T14:20:14.965Z"
   },
   {
    "duration": 7,
    "start_time": "2022-02-03T14:20:38.679Z"
   },
   {
    "duration": 466,
    "start_time": "2022-02-03T14:20:41.820Z"
   },
   {
    "duration": 6,
    "start_time": "2022-02-03T14:22:08.345Z"
   },
   {
    "duration": 3817,
    "start_time": "2022-02-03T14:22:14.545Z"
   },
   {
    "duration": 7,
    "start_time": "2022-02-03T14:23:19.524Z"
   },
   {
    "duration": 364,
    "start_time": "2022-02-03T14:23:23.199Z"
   },
   {
    "duration": 6,
    "start_time": "2022-02-03T14:25:27.635Z"
   },
   {
    "duration": 737,
    "start_time": "2022-02-03T14:25:30.538Z"
   },
   {
    "duration": 7,
    "start_time": "2022-02-03T14:27:46.561Z"
   },
   {
    "duration": 365,
    "start_time": "2022-02-03T14:27:51.005Z"
   },
   {
    "duration": 8,
    "start_time": "2022-02-03T14:30:59.998Z"
   },
   {
    "duration": 359,
    "start_time": "2022-02-03T14:31:03.156Z"
   },
   {
    "duration": 7,
    "start_time": "2022-02-03T14:31:54.516Z"
   },
   {
    "duration": 323,
    "start_time": "2022-02-03T14:31:56.994Z"
   },
   {
    "duration": 5,
    "start_time": "2022-02-03T14:32:11.093Z"
   },
   {
    "duration": 179,
    "start_time": "2022-02-03T14:32:45.176Z"
   },
   {
    "duration": 114,
    "start_time": "2022-02-03T14:32:50.850Z"
   },
   {
    "duration": 4,
    "start_time": "2022-02-03T14:32:55.046Z"
   },
   {
    "duration": 4,
    "start_time": "2022-02-03T14:33:07.718Z"
   },
   {
    "duration": 5,
    "start_time": "2022-02-03T14:33:12.720Z"
   },
   {
    "duration": 6,
    "start_time": "2022-02-03T14:33:48.655Z"
   },
   {
    "duration": 126,
    "start_time": "2022-02-03T14:33:51.428Z"
   },
   {
    "duration": 5,
    "start_time": "2022-02-03T14:37:09.759Z"
   },
   {
    "duration": 5,
    "start_time": "2022-02-03T14:37:49.154Z"
   },
   {
    "duration": 8,
    "start_time": "2022-02-03T14:38:00.750Z"
   },
   {
    "duration": 331,
    "start_time": "2022-02-03T14:38:05.416Z"
   },
   {
    "duration": 1014,
    "start_time": "2022-02-03T14:38:25.479Z"
   },
   {
    "duration": 143,
    "start_time": "2022-02-03T14:38:26.495Z"
   },
   {
    "duration": 18,
    "start_time": "2022-02-03T14:38:26.640Z"
   },
   {
    "duration": 119,
    "start_time": "2022-02-03T14:38:26.660Z"
   },
   {
    "duration": 14,
    "start_time": "2022-02-03T14:38:26.780Z"
   },
   {
    "duration": 84,
    "start_time": "2022-02-03T14:38:26.796Z"
   },
   {
    "duration": 12,
    "start_time": "2022-02-03T14:38:26.881Z"
   },
   {
    "duration": 20,
    "start_time": "2022-02-03T14:38:26.896Z"
   },
   {
    "duration": 10,
    "start_time": "2022-02-03T14:38:26.918Z"
   },
   {
    "duration": 58,
    "start_time": "2022-02-03T14:38:26.929Z"
   },
   {
    "duration": 5,
    "start_time": "2022-02-03T14:38:26.989Z"
   },
   {
    "duration": 203,
    "start_time": "2022-02-03T14:38:26.995Z"
   },
   {
    "duration": 135,
    "start_time": "2022-02-03T14:38:27.199Z"
   },
   {
    "duration": 77,
    "start_time": "2022-02-03T14:38:27.335Z"
   },
   {
    "duration": 20,
    "start_time": "2022-02-03T14:38:27.414Z"
   },
   {
    "duration": 12,
    "start_time": "2022-02-03T14:38:27.435Z"
   },
   {
    "duration": 3,
    "start_time": "2022-02-03T14:38:27.448Z"
   },
   {
    "duration": 32,
    "start_time": "2022-02-03T14:38:27.453Z"
   },
   {
    "duration": 41,
    "start_time": "2022-02-03T14:38:27.487Z"
   },
   {
    "duration": 18,
    "start_time": "2022-02-03T14:38:27.530Z"
   },
   {
    "duration": 7,
    "start_time": "2022-02-03T14:38:27.550Z"
   },
   {
    "duration": 2,
    "start_time": "2022-02-03T14:38:27.558Z"
   },
   {
    "duration": 22,
    "start_time": "2022-02-03T14:38:27.564Z"
   },
   {
    "duration": 45,
    "start_time": "2022-02-03T14:38:27.588Z"
   },
   {
    "duration": 15,
    "start_time": "2022-02-03T14:38:27.634Z"
   },
   {
    "duration": 5,
    "start_time": "2022-02-03T14:38:27.650Z"
   },
   {
    "duration": 16,
    "start_time": "2022-02-03T14:38:27.656Z"
   },
   {
    "duration": 7,
    "start_time": "2022-02-03T14:38:27.674Z"
   },
   {
    "duration": 5,
    "start_time": "2022-02-03T14:38:27.682Z"
   },
   {
    "duration": 64,
    "start_time": "2022-02-03T14:38:27.688Z"
   },
   {
    "duration": 28,
    "start_time": "2022-02-03T14:38:27.753Z"
   },
   {
    "duration": 26,
    "start_time": "2022-02-03T14:38:27.783Z"
   },
   {
    "duration": 11,
    "start_time": "2022-02-03T14:38:27.827Z"
   },
   {
    "duration": 9,
    "start_time": "2022-02-03T14:38:27.840Z"
   },
   {
    "duration": 12,
    "start_time": "2022-02-03T14:38:27.850Z"
   },
   {
    "duration": 13,
    "start_time": "2022-02-03T14:38:27.863Z"
   },
   {
    "duration": 10,
    "start_time": "2022-02-03T14:38:27.877Z"
   },
   {
    "duration": 46,
    "start_time": "2022-02-03T14:38:27.889Z"
   },
   {
    "duration": 23,
    "start_time": "2022-02-03T14:38:27.937Z"
   },
   {
    "duration": 18,
    "start_time": "2022-02-03T14:38:27.962Z"
   },
   {
    "duration": 18,
    "start_time": "2022-02-03T14:38:27.981Z"
   },
   {
    "duration": 140,
    "start_time": "2022-02-03T14:38:28.001Z"
   },
   {
    "duration": 107,
    "start_time": "2022-02-03T14:38:28.143Z"
   },
   {
    "duration": 114,
    "start_time": "2022-02-03T14:38:28.252Z"
   },
   {
    "duration": 6,
    "start_time": "2022-02-03T14:38:28.368Z"
   },
   {
    "duration": 336,
    "start_time": "2022-02-03T14:38:28.376Z"
   },
   {
    "duration": 5,
    "start_time": "2022-02-03T14:38:28.713Z"
   },
   {
    "duration": 6,
    "start_time": "2022-02-03T14:38:28.727Z"
   },
   {
    "duration": 20,
    "start_time": "2022-02-03T14:38:28.734Z"
   },
   {
    "duration": 206,
    "start_time": "2022-02-03T14:38:28.755Z"
   },
   {
    "duration": 34,
    "start_time": "2022-02-03T14:38:28.963Z"
   },
   {
    "duration": 38,
    "start_time": "2022-02-03T14:38:28.999Z"
   },
   {
    "duration": 212,
    "start_time": "2022-02-03T14:38:29.038Z"
   },
   {
    "duration": 34,
    "start_time": "2022-02-03T14:38:29.251Z"
   },
   {
    "duration": 6,
    "start_time": "2022-02-03T14:38:29.287Z"
   },
   {
    "duration": 200,
    "start_time": "2022-02-03T14:38:29.294Z"
   },
   {
    "duration": 34,
    "start_time": "2022-02-03T14:38:29.496Z"
   },
   {
    "duration": 188,
    "start_time": "2022-02-03T14:38:29.532Z"
   },
   {
    "duration": 34,
    "start_time": "2022-02-03T14:38:29.722Z"
   },
   {
    "duration": 6,
    "start_time": "2022-02-03T14:38:29.757Z"
   },
   {
    "duration": 202,
    "start_time": "2022-02-03T14:38:29.765Z"
   },
   {
    "duration": 35,
    "start_time": "2022-02-03T14:38:29.969Z"
   },
   {
    "duration": 269,
    "start_time": "2022-02-03T14:38:30.006Z"
   },
   {
    "duration": 34,
    "start_time": "2022-02-03T14:38:30.277Z"
   },
   {
    "duration": 2,
    "start_time": "2022-02-03T14:38:30.312Z"
   },
   {
    "duration": 6,
    "start_time": "2022-02-03T14:38:30.327Z"
   },
   {
    "duration": 51,
    "start_time": "2022-02-03T14:38:30.335Z"
   },
   {
    "duration": 19,
    "start_time": "2022-02-03T14:38:30.390Z"
   },
   {
    "duration": 7,
    "start_time": "2022-02-03T14:38:30.411Z"
   },
   {
    "duration": 201,
    "start_time": "2022-02-03T14:40:56.075Z"
   },
   {
    "duration": 193,
    "start_time": "2022-02-03T14:47:21.058Z"
   },
   {
    "duration": 1039,
    "start_time": "2022-02-03T14:54:39.499Z"
   },
   {
    "duration": 149,
    "start_time": "2022-02-03T14:54:40.540Z"
   },
   {
    "duration": 17,
    "start_time": "2022-02-03T14:54:40.691Z"
   },
   {
    "duration": 119,
    "start_time": "2022-02-03T14:54:40.710Z"
   },
   {
    "duration": 14,
    "start_time": "2022-02-03T14:54:40.831Z"
   },
   {
    "duration": 90,
    "start_time": "2022-02-03T14:54:40.847Z"
   },
   {
    "duration": 12,
    "start_time": "2022-02-03T14:54:40.939Z"
   },
   {
    "duration": 20,
    "start_time": "2022-02-03T14:54:40.952Z"
   },
   {
    "duration": 6,
    "start_time": "2022-02-03T14:54:40.974Z"
   },
   {
    "duration": 48,
    "start_time": "2022-02-03T14:54:40.982Z"
   },
   {
    "duration": 5,
    "start_time": "2022-02-03T14:54:41.031Z"
   },
   {
    "duration": 204,
    "start_time": "2022-02-03T14:54:41.037Z"
   },
   {
    "duration": 204,
    "start_time": "2022-02-03T14:54:41.243Z"
   },
   {
    "duration": 186,
    "start_time": "2022-02-03T14:54:41.448Z"
   },
   {
    "duration": 8,
    "start_time": "2022-02-03T14:54:41.635Z"
   },
   {
    "duration": 11,
    "start_time": "2022-02-03T14:54:41.645Z"
   },
   {
    "duration": 2,
    "start_time": "2022-02-03T14:54:41.658Z"
   },
   {
    "duration": 77,
    "start_time": "2022-02-03T14:54:41.661Z"
   },
   {
    "duration": 22,
    "start_time": "2022-02-03T14:54:41.739Z"
   },
   {
    "duration": 18,
    "start_time": "2022-02-03T14:54:41.762Z"
   },
   {
    "duration": 5,
    "start_time": "2022-02-03T14:54:41.781Z"
   },
   {
    "duration": 4,
    "start_time": "2022-02-03T14:54:41.788Z"
   },
   {
    "duration": 46,
    "start_time": "2022-02-03T14:54:41.793Z"
   },
   {
    "duration": 17,
    "start_time": "2022-02-03T14:54:41.840Z"
   },
   {
    "duration": 15,
    "start_time": "2022-02-03T14:54:41.858Z"
   },
   {
    "duration": 4,
    "start_time": "2022-02-03T14:54:41.875Z"
   },
   {
    "duration": 13,
    "start_time": "2022-02-03T14:54:41.883Z"
   },
   {
    "duration": 33,
    "start_time": "2022-02-03T14:54:41.897Z"
   },
   {
    "duration": 5,
    "start_time": "2022-02-03T14:54:41.931Z"
   },
   {
    "duration": 42,
    "start_time": "2022-02-03T14:54:41.938Z"
   },
   {
    "duration": 47,
    "start_time": "2022-02-03T14:54:41.982Z"
   },
   {
    "duration": 30,
    "start_time": "2022-02-03T14:54:42.030Z"
   },
   {
    "duration": 12,
    "start_time": "2022-02-03T14:54:42.061Z"
   },
   {
    "duration": 10,
    "start_time": "2022-02-03T14:54:42.075Z"
   },
   {
    "duration": 10,
    "start_time": "2022-02-03T14:54:42.086Z"
   },
   {
    "duration": 42,
    "start_time": "2022-02-03T14:54:42.097Z"
   },
   {
    "duration": 11,
    "start_time": "2022-02-03T14:54:42.141Z"
   },
   {
    "duration": 11,
    "start_time": "2022-02-03T14:54:42.153Z"
   },
   {
    "duration": 23,
    "start_time": "2022-02-03T14:54:42.166Z"
   },
   {
    "duration": 42,
    "start_time": "2022-02-03T14:54:42.191Z"
   },
   {
    "duration": 18,
    "start_time": "2022-02-03T14:54:42.235Z"
   },
   {
    "duration": 129,
    "start_time": "2022-02-03T14:54:42.254Z"
   },
   {
    "duration": 113,
    "start_time": "2022-02-03T14:54:42.384Z"
   },
   {
    "duration": 114,
    "start_time": "2022-02-03T14:54:42.498Z"
   },
   {
    "duration": 14,
    "start_time": "2022-02-03T14:54:42.613Z"
   },
   {
    "duration": 335,
    "start_time": "2022-02-03T14:54:42.628Z"
   },
   {
    "duration": 5,
    "start_time": "2022-02-03T14:54:42.965Z"
   },
   {
    "duration": 7,
    "start_time": "2022-02-03T14:54:42.972Z"
   },
   {
    "duration": 21,
    "start_time": "2022-02-03T14:54:42.980Z"
   },
   {
    "duration": 222,
    "start_time": "2022-02-03T14:54:43.003Z"
   },
   {
    "duration": 37,
    "start_time": "2022-02-03T14:54:43.227Z"
   },
   {
    "duration": 22,
    "start_time": "2022-02-03T14:54:43.265Z"
   },
   {
    "duration": 221,
    "start_time": "2022-02-03T14:54:43.289Z"
   },
   {
    "duration": 37,
    "start_time": "2022-02-03T14:54:43.512Z"
   },
   {
    "duration": 6,
    "start_time": "2022-02-03T14:54:43.550Z"
   },
   {
    "duration": 201,
    "start_time": "2022-02-03T14:54:43.557Z"
   },
   {
    "duration": 31,
    "start_time": "2022-02-03T14:54:43.760Z"
   },
   {
    "duration": 199,
    "start_time": "2022-02-03T14:54:43.793Z"
   },
   {
    "duration": 40,
    "start_time": "2022-02-03T14:54:43.993Z"
   },
   {
    "duration": 6,
    "start_time": "2022-02-03T14:54:44.034Z"
   },
   {
    "duration": 206,
    "start_time": "2022-02-03T14:54:44.042Z"
   },
   {
    "duration": 34,
    "start_time": "2022-02-03T14:54:44.250Z"
   },
   {
    "duration": 271,
    "start_time": "2022-02-03T14:54:44.286Z"
   },
   {
    "duration": 34,
    "start_time": "2022-02-03T14:54:44.559Z"
   },
   {
    "duration": 2,
    "start_time": "2022-02-03T14:54:44.594Z"
   },
   {
    "duration": 7,
    "start_time": "2022-02-03T14:54:44.598Z"
   },
   {
    "duration": 36,
    "start_time": "2022-02-03T14:54:44.607Z"
   },
   {
    "duration": 20,
    "start_time": "2022-02-03T14:54:44.644Z"
   },
   {
    "duration": 5,
    "start_time": "2022-02-03T14:54:44.665Z"
   },
   {
    "duration": 1054,
    "start_time": "2022-02-03T15:07:40.842Z"
   },
   {
    "duration": 150,
    "start_time": "2022-02-03T15:07:41.897Z"
   },
   {
    "duration": 18,
    "start_time": "2022-02-03T15:07:42.049Z"
   },
   {
    "duration": 118,
    "start_time": "2022-02-03T15:07:42.069Z"
   },
   {
    "duration": 15,
    "start_time": "2022-02-03T15:07:42.189Z"
   },
   {
    "duration": 90,
    "start_time": "2022-02-03T15:07:42.206Z"
   },
   {
    "duration": 13,
    "start_time": "2022-02-03T15:07:42.298Z"
   },
   {
    "duration": 20,
    "start_time": "2022-02-03T15:07:42.313Z"
   },
   {
    "duration": 6,
    "start_time": "2022-02-03T15:07:42.335Z"
   },
   {
    "duration": 54,
    "start_time": "2022-02-03T15:07:42.343Z"
   },
   {
    "duration": 4,
    "start_time": "2022-02-03T15:07:42.399Z"
   },
   {
    "duration": 216,
    "start_time": "2022-02-03T15:07:42.405Z"
   },
   {
    "duration": 127,
    "start_time": "2022-02-03T15:07:42.626Z"
   },
   {
    "duration": 90,
    "start_time": "2022-02-03T15:07:42.755Z"
   },
   {
    "duration": 9,
    "start_time": "2022-02-03T15:07:42.847Z"
   },
   {
    "duration": 15,
    "start_time": "2022-02-03T15:07:42.858Z"
   },
   {
    "duration": 12,
    "start_time": "2022-02-03T15:07:42.875Z"
   },
   {
    "duration": 36,
    "start_time": "2022-02-03T15:07:42.888Z"
   },
   {
    "duration": 20,
    "start_time": "2022-02-03T15:07:42.926Z"
   },
   {
    "duration": 19,
    "start_time": "2022-02-03T15:07:42.947Z"
   },
   {
    "duration": 6,
    "start_time": "2022-02-03T15:07:42.967Z"
   },
   {
    "duration": 7,
    "start_time": "2022-02-03T15:07:42.975Z"
   },
   {
    "duration": 43,
    "start_time": "2022-02-03T15:07:42.986Z"
   },
   {
    "duration": 16,
    "start_time": "2022-02-03T15:07:43.031Z"
   },
   {
    "duration": 21,
    "start_time": "2022-02-03T15:07:43.048Z"
   },
   {
    "duration": 5,
    "start_time": "2022-02-03T15:07:43.071Z"
   },
   {
    "duration": 13,
    "start_time": "2022-02-03T15:07:43.078Z"
   },
   {
    "duration": 14,
    "start_time": "2022-02-03T15:07:43.092Z"
   },
   {
    "duration": 21,
    "start_time": "2022-02-03T15:07:43.108Z"
   },
   {
    "duration": 42,
    "start_time": "2022-02-03T15:07:43.130Z"
   },
   {
    "duration": 30,
    "start_time": "2022-02-03T15:07:43.174Z"
   },
   {
    "duration": 49,
    "start_time": "2022-02-03T15:07:43.205Z"
   },
   {
    "duration": 13,
    "start_time": "2022-02-03T15:07:43.256Z"
   },
   {
    "duration": 10,
    "start_time": "2022-02-03T15:07:43.271Z"
   },
   {
    "duration": 12,
    "start_time": "2022-02-03T15:07:43.283Z"
   },
   {
    "duration": 47,
    "start_time": "2022-02-03T15:07:43.296Z"
   },
   {
    "duration": 11,
    "start_time": "2022-02-03T15:07:43.344Z"
   },
   {
    "duration": 12,
    "start_time": "2022-02-03T15:07:43.356Z"
   },
   {
    "duration": 25,
    "start_time": "2022-02-03T15:07:43.370Z"
   },
   {
    "duration": 44,
    "start_time": "2022-02-03T15:07:43.397Z"
   },
   {
    "duration": 18,
    "start_time": "2022-02-03T15:07:43.442Z"
   },
   {
    "duration": 131,
    "start_time": "2022-02-03T15:07:43.462Z"
   },
   {
    "duration": 116,
    "start_time": "2022-02-03T15:07:43.594Z"
   },
   {
    "duration": 115,
    "start_time": "2022-02-03T15:07:43.712Z"
   },
   {
    "duration": 7,
    "start_time": "2022-02-03T15:07:43.828Z"
   },
   {
    "duration": 342,
    "start_time": "2022-02-03T15:07:43.836Z"
   },
   {
    "duration": 5,
    "start_time": "2022-02-03T15:07:44.180Z"
   },
   {
    "duration": 8,
    "start_time": "2022-02-03T15:07:44.186Z"
   },
   {
    "duration": 33,
    "start_time": "2022-02-03T15:07:44.196Z"
   },
   {
    "duration": 200,
    "start_time": "2022-02-03T15:07:44.230Z"
   },
   {
    "duration": 35,
    "start_time": "2022-02-03T15:07:44.431Z"
   },
   {
    "duration": 21,
    "start_time": "2022-02-03T15:07:44.468Z"
   },
   {
    "duration": 217,
    "start_time": "2022-02-03T15:07:44.491Z"
   },
   {
    "duration": 40,
    "start_time": "2022-02-03T15:07:44.709Z"
   },
   {
    "duration": 7,
    "start_time": "2022-02-03T15:07:44.750Z"
   },
   {
    "duration": 200,
    "start_time": "2022-02-03T15:07:44.758Z"
   },
   {
    "duration": 32,
    "start_time": "2022-02-03T15:07:44.960Z"
   },
   {
    "duration": 200,
    "start_time": "2022-02-03T15:07:44.994Z"
   },
   {
    "duration": 37,
    "start_time": "2022-02-03T15:07:45.196Z"
   },
   {
    "duration": 5,
    "start_time": "2022-02-03T15:07:45.235Z"
   },
   {
    "duration": 199,
    "start_time": "2022-02-03T15:07:45.242Z"
   },
   {
    "duration": 36,
    "start_time": "2022-02-03T15:07:45.443Z"
   },
   {
    "duration": 273,
    "start_time": "2022-02-03T15:07:45.481Z"
   },
   {
    "duration": 34,
    "start_time": "2022-02-03T15:07:45.755Z"
   },
   {
    "duration": 2,
    "start_time": "2022-02-03T15:07:45.790Z"
   },
   {
    "duration": 7,
    "start_time": "2022-02-03T15:07:45.794Z"
   },
   {
    "duration": 42,
    "start_time": "2022-02-03T15:07:45.803Z"
   },
   {
    "duration": 19,
    "start_time": "2022-02-03T15:07:45.849Z"
   },
   {
    "duration": 6,
    "start_time": "2022-02-03T15:07:45.869Z"
   },
   {
    "duration": 6,
    "start_time": "2022-02-03T15:10:51.834Z"
   },
   {
    "duration": 1078,
    "start_time": "2022-02-03T15:27:27.777Z"
   },
   {
    "duration": 147,
    "start_time": "2022-02-03T15:27:28.857Z"
   },
   {
    "duration": 21,
    "start_time": "2022-02-03T15:27:29.006Z"
   },
   {
    "duration": 127,
    "start_time": "2022-02-03T15:27:29.028Z"
   },
   {
    "duration": 14,
    "start_time": "2022-02-03T15:27:29.157Z"
   },
   {
    "duration": 89,
    "start_time": "2022-02-03T15:27:29.173Z"
   },
   {
    "duration": 13,
    "start_time": "2022-02-03T15:27:29.264Z"
   },
   {
    "duration": 20,
    "start_time": "2022-02-03T15:27:29.279Z"
   },
   {
    "duration": 6,
    "start_time": "2022-02-03T15:27:29.301Z"
   },
   {
    "duration": 66,
    "start_time": "2022-02-03T15:27:29.308Z"
   },
   {
    "duration": 5,
    "start_time": "2022-02-03T15:27:29.376Z"
   },
   {
    "duration": 203,
    "start_time": "2022-02-03T15:27:29.382Z"
   },
   {
    "duration": 127,
    "start_time": "2022-02-03T15:27:29.587Z"
   },
   {
    "duration": 82,
    "start_time": "2022-02-03T15:27:29.715Z"
   },
   {
    "duration": 8,
    "start_time": "2022-02-03T15:27:29.799Z"
   },
   {
    "duration": 25,
    "start_time": "2022-02-03T15:27:29.808Z"
   },
   {
    "duration": 2,
    "start_time": "2022-02-03T15:27:29.834Z"
   },
   {
    "duration": 28,
    "start_time": "2022-02-03T15:27:29.838Z"
   },
   {
    "duration": 22,
    "start_time": "2022-02-03T15:27:29.867Z"
   },
   {
    "duration": 44,
    "start_time": "2022-02-03T15:27:29.890Z"
   },
   {
    "duration": 7,
    "start_time": "2022-02-03T15:27:29.935Z"
   },
   {
    "duration": 5,
    "start_time": "2022-02-03T15:27:29.943Z"
   },
   {
    "duration": 24,
    "start_time": "2022-02-03T15:27:29.952Z"
   },
   {
    "duration": 16,
    "start_time": "2022-02-03T15:27:29.980Z"
   },
   {
    "duration": 40,
    "start_time": "2022-02-03T15:27:29.998Z"
   },
   {
    "duration": 5,
    "start_time": "2022-02-03T15:27:30.039Z"
   },
   {
    "duration": 12,
    "start_time": "2022-02-03T15:27:30.046Z"
   },
   {
    "duration": 7,
    "start_time": "2022-02-03T15:27:30.060Z"
   },
   {
    "duration": 11,
    "start_time": "2022-02-03T15:27:30.068Z"
   },
   {
    "duration": 56,
    "start_time": "2022-02-03T15:27:30.080Z"
   },
   {
    "duration": 28,
    "start_time": "2022-02-03T15:27:30.137Z"
   },
   {
    "duration": 28,
    "start_time": "2022-02-03T15:27:30.166Z"
   },
   {
    "duration": 34,
    "start_time": "2022-02-03T15:27:30.196Z"
   },
   {
    "duration": 11,
    "start_time": "2022-02-03T15:27:30.231Z"
   },
   {
    "duration": 12,
    "start_time": "2022-02-03T15:27:30.244Z"
   },
   {
    "duration": 30,
    "start_time": "2022-02-03T15:27:30.258Z"
   },
   {
    "duration": 10,
    "start_time": "2022-02-03T15:27:30.290Z"
   },
   {
    "duration": 29,
    "start_time": "2022-02-03T15:27:30.301Z"
   },
   {
    "duration": 25,
    "start_time": "2022-02-03T15:27:30.331Z"
   },
   {
    "duration": 19,
    "start_time": "2022-02-03T15:27:30.357Z"
   },
   {
    "duration": 18,
    "start_time": "2022-02-03T15:27:30.378Z"
   },
   {
    "duration": 138,
    "start_time": "2022-02-03T15:27:30.397Z"
   },
   {
    "duration": 121,
    "start_time": "2022-02-03T15:27:30.536Z"
   },
   {
    "duration": 117,
    "start_time": "2022-02-03T15:27:30.659Z"
   },
   {
    "duration": 7,
    "start_time": "2022-02-03T15:27:30.778Z"
   },
   {
    "duration": 342,
    "start_time": "2022-02-03T15:27:30.786Z"
   },
   {
    "duration": 6,
    "start_time": "2022-02-03T15:27:31.129Z"
   },
   {
    "duration": 10,
    "start_time": "2022-02-03T15:27:31.136Z"
   },
   {
    "duration": 22,
    "start_time": "2022-02-03T15:27:31.147Z"
   },
   {
    "duration": 210,
    "start_time": "2022-02-03T15:27:31.171Z"
   },
   {
    "duration": 36,
    "start_time": "2022-02-03T15:27:31.383Z"
   },
   {
    "duration": 24,
    "start_time": "2022-02-03T15:27:31.427Z"
   },
   {
    "duration": 215,
    "start_time": "2022-02-03T15:27:31.452Z"
   },
   {
    "duration": 37,
    "start_time": "2022-02-03T15:27:31.668Z"
   },
   {
    "duration": 25,
    "start_time": "2022-02-03T15:27:31.706Z"
   },
   {
    "duration": 208,
    "start_time": "2022-02-03T15:27:31.733Z"
   },
   {
    "duration": 32,
    "start_time": "2022-02-03T15:27:31.943Z"
   },
   {
    "duration": 206,
    "start_time": "2022-02-03T15:27:31.979Z"
   },
   {
    "duration": 29,
    "start_time": "2022-02-03T15:27:32.187Z"
   },
   {
    "duration": 6,
    "start_time": "2022-02-03T15:27:32.227Z"
   },
   {
    "duration": 195,
    "start_time": "2022-02-03T15:27:32.234Z"
   },
   {
    "duration": 34,
    "start_time": "2022-02-03T15:27:32.431Z"
   },
   {
    "duration": 271,
    "start_time": "2022-02-03T15:27:32.467Z"
   },
   {
    "duration": 36,
    "start_time": "2022-02-03T15:27:32.740Z"
   },
   {
    "duration": 2,
    "start_time": "2022-02-03T15:27:32.778Z"
   },
   {
    "duration": 7,
    "start_time": "2022-02-03T15:27:32.781Z"
   },
   {
    "duration": 43,
    "start_time": "2022-02-03T15:27:32.790Z"
   },
   {
    "duration": 20,
    "start_time": "2022-02-03T15:27:32.837Z"
   },
   {
    "duration": 6,
    "start_time": "2022-02-03T15:27:32.859Z"
   }
  ],
  "kernelspec": {
   "display_name": "Python 3 (ipykernel)",
   "language": "python",
   "name": "python3"
  },
  "language_info": {
   "codemirror_mode": {
    "name": "ipython",
    "version": 3
   },
   "file_extension": ".py",
   "mimetype": "text/x-python",
   "name": "python",
   "nbconvert_exporter": "python",
   "pygments_lexer": "ipython3",
   "version": "3.9.12"
  },
  "toc": {
   "base_numbering": 1,
   "nav_menu": {},
   "number_sections": true,
   "sideBar": true,
   "skip_h1_title": true,
   "title_cell": "Table of Contents",
   "title_sidebar": "Contents",
   "toc_cell": false,
   "toc_position": {
    "height": "calc(100% - 180px)",
    "left": "10px",
    "top": "150px",
    "width": "238.396px"
   },
   "toc_section_display": true,
   "toc_window_display": true
  }
 },
 "nbformat": 4,
 "nbformat_minor": 2
}
