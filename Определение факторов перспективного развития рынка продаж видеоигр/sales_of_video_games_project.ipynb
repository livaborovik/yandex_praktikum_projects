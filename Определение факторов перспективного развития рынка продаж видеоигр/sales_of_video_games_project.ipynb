{
 "cells": [
  {
   "cell_type": "markdown",
   "metadata": {},
   "source": [
    "# Определение факторов перспективного развития рынка продаж видеоигр"
   ]
  },
  {
   "cell_type": "markdown",
   "metadata": {},
   "source": [
    "## Описание проекта"
   ]
  },
  {
   "cell_type": "markdown",
   "metadata": {},
   "source": [
    "***Цель исследования*** - определение факторов, влияющих на перспективное развитие рынка продаж видеоигр для планирования стратегии развития: определение популярного продукта, развитие менее популярных продуктов, планирование бюджета рекламных кампаний.\n",
    "\n",
    "***Задачи исследования***:\n",
    "\n",
    "1. Изучение рынка видеоигр в разрезе платформ, объема продаж;\n",
    "2. Определение факторов, влияющих на рост или падение продаж видеоигр;\n",
    "3. Разработка рекомендаций для руководства компании с учетом полученных данных.\n",
    "\n",
    "***Описание данных*** \n",
    "\n",
    "Name — название игры \n",
    "\n",
    "Platform — платформа \n",
    "\n",
    "Year_of_Release — год выпуска \n",
    "\n",
    "Genre — жанр игры \n",
    "\n",
    "NA_sales — продажи в Северной Америке (миллионы проданных копий) \n",
    "\n",
    "EU_sales — продажи в Европе (миллионы проданных копий) \n",
    "\n",
    "JP_sales — продажи в Японии (миллионы проданных копий) \n",
    "\n",
    "Other_sales — продажи в других странах (миллионы проданных копий) \n",
    "\n",
    "Critic_Score — оценка критиков (максимум 100) \n",
    "\n",
    "User_Score — оценка пользователей (максимум 10) \n",
    "\n",
    "Rating — рейтинг от организации ESRB (англ. Entertainment Software Rating Board). Эта ассоциация определяет рейтинг компьютерных игр и присваивает им подходящую возрастную категорию. \n",
    "\n",
    "Данные за 2016 год могут быть неполными. "
   ]
  },
  {
   "cell_type": "markdown",
   "metadata": {},
   "source": [
    "## Изучение данных из файла"
   ]
  },
  {
   "cell_type": "markdown",
   "metadata": {},
   "source": [
    "Для того, чтобы понять, какие данные необходимо исследовать, необходимо открыть файлы и понять, что там содержится."
   ]
  },
  {
   "cell_type": "code",
   "execution_count": 1,
   "metadata": {},
   "outputs": [],
   "source": [
    "#подключаем все необходимые пакеты\n",
    "\n",
    "import pandas as pd\n",
    "import numpy as np\n",
    "import matplotlib.pyplot as plt\n",
    "from scipy import stats as st\n",
    "import seaborn as sns"
   ]
  },
  {
   "cell_type": "code",
   "execution_count": 2,
   "metadata": {},
   "outputs": [
    {
     "data": {
      "text/html": [
       "<div>\n",
       "<style scoped>\n",
       "    .dataframe tbody tr th:only-of-type {\n",
       "        vertical-align: middle;\n",
       "    }\n",
       "\n",
       "    .dataframe tbody tr th {\n",
       "        vertical-align: top;\n",
       "    }\n",
       "\n",
       "    .dataframe thead th {\n",
       "        text-align: right;\n",
       "    }\n",
       "</style>\n",
       "<table border=\"1\" class=\"dataframe\">\n",
       "  <thead>\n",
       "    <tr style=\"text-align: right;\">\n",
       "      <th></th>\n",
       "      <th>Name</th>\n",
       "      <th>Platform</th>\n",
       "      <th>Year_of_Release</th>\n",
       "      <th>Genre</th>\n",
       "      <th>NA_sales</th>\n",
       "      <th>EU_sales</th>\n",
       "      <th>JP_sales</th>\n",
       "      <th>Other_sales</th>\n",
       "      <th>Critic_Score</th>\n",
       "      <th>User_Score</th>\n",
       "      <th>Rating</th>\n",
       "    </tr>\n",
       "  </thead>\n",
       "  <tbody>\n",
       "    <tr>\n",
       "      <td>0</td>\n",
       "      <td>Wii Sports</td>\n",
       "      <td>Wii</td>\n",
       "      <td>2006.0</td>\n",
       "      <td>Sports</td>\n",
       "      <td>41.36</td>\n",
       "      <td>28.96</td>\n",
       "      <td>3.77</td>\n",
       "      <td>8.45</td>\n",
       "      <td>76.0</td>\n",
       "      <td>8</td>\n",
       "      <td>E</td>\n",
       "    </tr>\n",
       "    <tr>\n",
       "      <td>1</td>\n",
       "      <td>Super Mario Bros.</td>\n",
       "      <td>NES</td>\n",
       "      <td>1985.0</td>\n",
       "      <td>Platform</td>\n",
       "      <td>29.08</td>\n",
       "      <td>3.58</td>\n",
       "      <td>6.81</td>\n",
       "      <td>0.77</td>\n",
       "      <td>NaN</td>\n",
       "      <td>NaN</td>\n",
       "      <td>NaN</td>\n",
       "    </tr>\n",
       "    <tr>\n",
       "      <td>2</td>\n",
       "      <td>Mario Kart Wii</td>\n",
       "      <td>Wii</td>\n",
       "      <td>2008.0</td>\n",
       "      <td>Racing</td>\n",
       "      <td>15.68</td>\n",
       "      <td>12.76</td>\n",
       "      <td>3.79</td>\n",
       "      <td>3.29</td>\n",
       "      <td>82.0</td>\n",
       "      <td>8.3</td>\n",
       "      <td>E</td>\n",
       "    </tr>\n",
       "    <tr>\n",
       "      <td>3</td>\n",
       "      <td>Wii Sports Resort</td>\n",
       "      <td>Wii</td>\n",
       "      <td>2009.0</td>\n",
       "      <td>Sports</td>\n",
       "      <td>15.61</td>\n",
       "      <td>10.93</td>\n",
       "      <td>3.28</td>\n",
       "      <td>2.95</td>\n",
       "      <td>80.0</td>\n",
       "      <td>8</td>\n",
       "      <td>E</td>\n",
       "    </tr>\n",
       "    <tr>\n",
       "      <td>4</td>\n",
       "      <td>Pokemon Red/Pokemon Blue</td>\n",
       "      <td>GB</td>\n",
       "      <td>1996.0</td>\n",
       "      <td>Role-Playing</td>\n",
       "      <td>11.27</td>\n",
       "      <td>8.89</td>\n",
       "      <td>10.22</td>\n",
       "      <td>1.00</td>\n",
       "      <td>NaN</td>\n",
       "      <td>NaN</td>\n",
       "      <td>NaN</td>\n",
       "    </tr>\n",
       "    <tr>\n",
       "      <td>5</td>\n",
       "      <td>Tetris</td>\n",
       "      <td>GB</td>\n",
       "      <td>1989.0</td>\n",
       "      <td>Puzzle</td>\n",
       "      <td>23.20</td>\n",
       "      <td>2.26</td>\n",
       "      <td>4.22</td>\n",
       "      <td>0.58</td>\n",
       "      <td>NaN</td>\n",
       "      <td>NaN</td>\n",
       "      <td>NaN</td>\n",
       "    </tr>\n",
       "    <tr>\n",
       "      <td>6</td>\n",
       "      <td>New Super Mario Bros.</td>\n",
       "      <td>DS</td>\n",
       "      <td>2006.0</td>\n",
       "      <td>Platform</td>\n",
       "      <td>11.28</td>\n",
       "      <td>9.14</td>\n",
       "      <td>6.50</td>\n",
       "      <td>2.88</td>\n",
       "      <td>89.0</td>\n",
       "      <td>8.5</td>\n",
       "      <td>E</td>\n",
       "    </tr>\n",
       "    <tr>\n",
       "      <td>7</td>\n",
       "      <td>Wii Play</td>\n",
       "      <td>Wii</td>\n",
       "      <td>2006.0</td>\n",
       "      <td>Misc</td>\n",
       "      <td>13.96</td>\n",
       "      <td>9.18</td>\n",
       "      <td>2.93</td>\n",
       "      <td>2.84</td>\n",
       "      <td>58.0</td>\n",
       "      <td>6.6</td>\n",
       "      <td>E</td>\n",
       "    </tr>\n",
       "    <tr>\n",
       "      <td>8</td>\n",
       "      <td>New Super Mario Bros. Wii</td>\n",
       "      <td>Wii</td>\n",
       "      <td>2009.0</td>\n",
       "      <td>Platform</td>\n",
       "      <td>14.44</td>\n",
       "      <td>6.94</td>\n",
       "      <td>4.70</td>\n",
       "      <td>2.24</td>\n",
       "      <td>87.0</td>\n",
       "      <td>8.4</td>\n",
       "      <td>E</td>\n",
       "    </tr>\n",
       "    <tr>\n",
       "      <td>9</td>\n",
       "      <td>Duck Hunt</td>\n",
       "      <td>NES</td>\n",
       "      <td>1984.0</td>\n",
       "      <td>Shooter</td>\n",
       "      <td>26.93</td>\n",
       "      <td>0.63</td>\n",
       "      <td>0.28</td>\n",
       "      <td>0.47</td>\n",
       "      <td>NaN</td>\n",
       "      <td>NaN</td>\n",
       "      <td>NaN</td>\n",
       "    </tr>\n",
       "  </tbody>\n",
       "</table>\n",
       "</div>"
      ],
      "text/plain": [
       "                        Name Platform  Year_of_Release         Genre  \\\n",
       "0                 Wii Sports      Wii           2006.0        Sports   \n",
       "1          Super Mario Bros.      NES           1985.0      Platform   \n",
       "2             Mario Kart Wii      Wii           2008.0        Racing   \n",
       "3          Wii Sports Resort      Wii           2009.0        Sports   \n",
       "4   Pokemon Red/Pokemon Blue       GB           1996.0  Role-Playing   \n",
       "5                     Tetris       GB           1989.0        Puzzle   \n",
       "6      New Super Mario Bros.       DS           2006.0      Platform   \n",
       "7                   Wii Play      Wii           2006.0          Misc   \n",
       "8  New Super Mario Bros. Wii      Wii           2009.0      Platform   \n",
       "9                  Duck Hunt      NES           1984.0       Shooter   \n",
       "\n",
       "   NA_sales  EU_sales  JP_sales  Other_sales  Critic_Score User_Score Rating  \n",
       "0     41.36     28.96      3.77         8.45          76.0          8      E  \n",
       "1     29.08      3.58      6.81         0.77           NaN        NaN    NaN  \n",
       "2     15.68     12.76      3.79         3.29          82.0        8.3      E  \n",
       "3     15.61     10.93      3.28         2.95          80.0          8      E  \n",
       "4     11.27      8.89     10.22         1.00           NaN        NaN    NaN  \n",
       "5     23.20      2.26      4.22         0.58           NaN        NaN    NaN  \n",
       "6     11.28      9.14      6.50         2.88          89.0        8.5      E  \n",
       "7     13.96      9.18      2.93         2.84          58.0        6.6      E  \n",
       "8     14.44      6.94      4.70         2.24          87.0        8.4      E  \n",
       "9     26.93      0.63      0.28         0.47           NaN        NaN    NaN  "
      ]
     },
     "execution_count": 2,
     "metadata": {},
     "output_type": "execute_result"
    }
   ],
   "source": [
    "#открываем датасет\n",
    "\n",
    "data = pd.read_csv('/datasets/games.csv', sep = ',')\n",
    "\n",
    "#выводим первые 10 строк датасета на экран \n",
    "\n",
    "data.head(10)"
   ]
  },
  {
   "cell_type": "code",
   "execution_count": 3,
   "metadata": {},
   "outputs": [
    {
     "name": "stdout",
     "output_type": "stream",
     "text": [
      "<class 'pandas.core.frame.DataFrame'>\n",
      "RangeIndex: 16715 entries, 0 to 16714\n",
      "Data columns (total 11 columns):\n",
      "Name               16713 non-null object\n",
      "Platform           16715 non-null object\n",
      "Year_of_Release    16446 non-null float64\n",
      "Genre              16713 non-null object\n",
      "NA_sales           16715 non-null float64\n",
      "EU_sales           16715 non-null float64\n",
      "JP_sales           16715 non-null float64\n",
      "Other_sales        16715 non-null float64\n",
      "Critic_Score       8137 non-null float64\n",
      "User_Score         10014 non-null object\n",
      "Rating             9949 non-null object\n",
      "dtypes: float64(6), object(5)\n",
      "memory usage: 1.4+ MB\n"
     ]
    }
   ],
   "source": [
    "#просмотрим общую информацию о датасете\n",
    "\n",
    "data.info()"
   ]
  },
  {
   "cell_type": "markdown",
   "metadata": {},
   "source": [
    "Поскольку название столбцов не отличается правилами хорошего стиля, переведем их в соответствие с учетом змеиного регистра."
   ]
  },
  {
   "cell_type": "code",
   "execution_count": 4,
   "metadata": {},
   "outputs": [
    {
     "data": {
      "text/html": [
       "<div>\n",
       "<style scoped>\n",
       "    .dataframe tbody tr th:only-of-type {\n",
       "        vertical-align: middle;\n",
       "    }\n",
       "\n",
       "    .dataframe tbody tr th {\n",
       "        vertical-align: top;\n",
       "    }\n",
       "\n",
       "    .dataframe thead th {\n",
       "        text-align: right;\n",
       "    }\n",
       "</style>\n",
       "<table border=\"1\" class=\"dataframe\">\n",
       "  <thead>\n",
       "    <tr style=\"text-align: right;\">\n",
       "      <th></th>\n",
       "      <th>name</th>\n",
       "      <th>platform</th>\n",
       "      <th>year_of_release</th>\n",
       "      <th>genre</th>\n",
       "      <th>na_sales</th>\n",
       "      <th>eu_sales</th>\n",
       "      <th>jp_sales</th>\n",
       "      <th>other_sales</th>\n",
       "      <th>critic_score</th>\n",
       "      <th>user_score</th>\n",
       "      <th>rating</th>\n",
       "    </tr>\n",
       "  </thead>\n",
       "  <tbody>\n",
       "    <tr>\n",
       "      <td>0</td>\n",
       "      <td>Wii Sports</td>\n",
       "      <td>Wii</td>\n",
       "      <td>2006.0</td>\n",
       "      <td>Sports</td>\n",
       "      <td>41.36</td>\n",
       "      <td>28.96</td>\n",
       "      <td>3.77</td>\n",
       "      <td>8.45</td>\n",
       "      <td>76.0</td>\n",
       "      <td>8</td>\n",
       "      <td>E</td>\n",
       "    </tr>\n",
       "    <tr>\n",
       "      <td>1</td>\n",
       "      <td>Super Mario Bros.</td>\n",
       "      <td>NES</td>\n",
       "      <td>1985.0</td>\n",
       "      <td>Platform</td>\n",
       "      <td>29.08</td>\n",
       "      <td>3.58</td>\n",
       "      <td>6.81</td>\n",
       "      <td>0.77</td>\n",
       "      <td>NaN</td>\n",
       "      <td>NaN</td>\n",
       "      <td>NaN</td>\n",
       "    </tr>\n",
       "    <tr>\n",
       "      <td>2</td>\n",
       "      <td>Mario Kart Wii</td>\n",
       "      <td>Wii</td>\n",
       "      <td>2008.0</td>\n",
       "      <td>Racing</td>\n",
       "      <td>15.68</td>\n",
       "      <td>12.76</td>\n",
       "      <td>3.79</td>\n",
       "      <td>3.29</td>\n",
       "      <td>82.0</td>\n",
       "      <td>8.3</td>\n",
       "      <td>E</td>\n",
       "    </tr>\n",
       "    <tr>\n",
       "      <td>3</td>\n",
       "      <td>Wii Sports Resort</td>\n",
       "      <td>Wii</td>\n",
       "      <td>2009.0</td>\n",
       "      <td>Sports</td>\n",
       "      <td>15.61</td>\n",
       "      <td>10.93</td>\n",
       "      <td>3.28</td>\n",
       "      <td>2.95</td>\n",
       "      <td>80.0</td>\n",
       "      <td>8</td>\n",
       "      <td>E</td>\n",
       "    </tr>\n",
       "    <tr>\n",
       "      <td>4</td>\n",
       "      <td>Pokemon Red/Pokemon Blue</td>\n",
       "      <td>GB</td>\n",
       "      <td>1996.0</td>\n",
       "      <td>Role-Playing</td>\n",
       "      <td>11.27</td>\n",
       "      <td>8.89</td>\n",
       "      <td>10.22</td>\n",
       "      <td>1.00</td>\n",
       "      <td>NaN</td>\n",
       "      <td>NaN</td>\n",
       "      <td>NaN</td>\n",
       "    </tr>\n",
       "    <tr>\n",
       "      <td>5</td>\n",
       "      <td>Tetris</td>\n",
       "      <td>GB</td>\n",
       "      <td>1989.0</td>\n",
       "      <td>Puzzle</td>\n",
       "      <td>23.20</td>\n",
       "      <td>2.26</td>\n",
       "      <td>4.22</td>\n",
       "      <td>0.58</td>\n",
       "      <td>NaN</td>\n",
       "      <td>NaN</td>\n",
       "      <td>NaN</td>\n",
       "    </tr>\n",
       "    <tr>\n",
       "      <td>6</td>\n",
       "      <td>New Super Mario Bros.</td>\n",
       "      <td>DS</td>\n",
       "      <td>2006.0</td>\n",
       "      <td>Platform</td>\n",
       "      <td>11.28</td>\n",
       "      <td>9.14</td>\n",
       "      <td>6.50</td>\n",
       "      <td>2.88</td>\n",
       "      <td>89.0</td>\n",
       "      <td>8.5</td>\n",
       "      <td>E</td>\n",
       "    </tr>\n",
       "    <tr>\n",
       "      <td>7</td>\n",
       "      <td>Wii Play</td>\n",
       "      <td>Wii</td>\n",
       "      <td>2006.0</td>\n",
       "      <td>Misc</td>\n",
       "      <td>13.96</td>\n",
       "      <td>9.18</td>\n",
       "      <td>2.93</td>\n",
       "      <td>2.84</td>\n",
       "      <td>58.0</td>\n",
       "      <td>6.6</td>\n",
       "      <td>E</td>\n",
       "    </tr>\n",
       "    <tr>\n",
       "      <td>8</td>\n",
       "      <td>New Super Mario Bros. Wii</td>\n",
       "      <td>Wii</td>\n",
       "      <td>2009.0</td>\n",
       "      <td>Platform</td>\n",
       "      <td>14.44</td>\n",
       "      <td>6.94</td>\n",
       "      <td>4.70</td>\n",
       "      <td>2.24</td>\n",
       "      <td>87.0</td>\n",
       "      <td>8.4</td>\n",
       "      <td>E</td>\n",
       "    </tr>\n",
       "    <tr>\n",
       "      <td>9</td>\n",
       "      <td>Duck Hunt</td>\n",
       "      <td>NES</td>\n",
       "      <td>1984.0</td>\n",
       "      <td>Shooter</td>\n",
       "      <td>26.93</td>\n",
       "      <td>0.63</td>\n",
       "      <td>0.28</td>\n",
       "      <td>0.47</td>\n",
       "      <td>NaN</td>\n",
       "      <td>NaN</td>\n",
       "      <td>NaN</td>\n",
       "    </tr>\n",
       "  </tbody>\n",
       "</table>\n",
       "</div>"
      ],
      "text/plain": [
       "                        name platform  year_of_release         genre  \\\n",
       "0                 Wii Sports      Wii           2006.0        Sports   \n",
       "1          Super Mario Bros.      NES           1985.0      Platform   \n",
       "2             Mario Kart Wii      Wii           2008.0        Racing   \n",
       "3          Wii Sports Resort      Wii           2009.0        Sports   \n",
       "4   Pokemon Red/Pokemon Blue       GB           1996.0  Role-Playing   \n",
       "5                     Tetris       GB           1989.0        Puzzle   \n",
       "6      New Super Mario Bros.       DS           2006.0      Platform   \n",
       "7                   Wii Play      Wii           2006.0          Misc   \n",
       "8  New Super Mario Bros. Wii      Wii           2009.0      Platform   \n",
       "9                  Duck Hunt      NES           1984.0       Shooter   \n",
       "\n",
       "   na_sales  eu_sales  jp_sales  other_sales  critic_score user_score rating  \n",
       "0     41.36     28.96      3.77         8.45          76.0          8      E  \n",
       "1     29.08      3.58      6.81         0.77           NaN        NaN    NaN  \n",
       "2     15.68     12.76      3.79         3.29          82.0        8.3      E  \n",
       "3     15.61     10.93      3.28         2.95          80.0          8      E  \n",
       "4     11.27      8.89     10.22         1.00           NaN        NaN    NaN  \n",
       "5     23.20      2.26      4.22         0.58           NaN        NaN    NaN  \n",
       "6     11.28      9.14      6.50         2.88          89.0        8.5      E  \n",
       "7     13.96      9.18      2.93         2.84          58.0        6.6      E  \n",
       "8     14.44      6.94      4.70         2.24          87.0        8.4      E  \n",
       "9     26.93      0.63      0.28         0.47           NaN        NaN    NaN  "
      ]
     },
     "execution_count": 4,
     "metadata": {},
     "output_type": "execute_result"
    }
   ],
   "source": [
    "#приводим название столбцов к змеиному регистру\n",
    "\n",
    "data = data.rename(columns=lambda x:x.lower())\n",
    "\n",
    "#выведем первые 10 строк датасета для проверки\n",
    "\n",
    "data.head(10)"
   ]
  },
  {
   "cell_type": "markdown",
   "metadata": {},
   "source": [
    "### Вывод"
   ]
  },
  {
   "cell_type": "markdown",
   "metadata": {},
   "source": [
    "Информация о датасете предварительно изучена, названия столбцов приведены к нижнему регистру. Можно переходить на этап предобработки данных."
   ]
  },
  {
   "cell_type": "markdown",
   "metadata": {},
   "source": [
    "## Предобработка данных"
   ]
  },
  {
   "cell_type": "markdown",
   "metadata": {},
   "source": [
    "### Поиск пропусков и дубликатов. Изменение типов данных"
   ]
  },
  {
   "cell_type": "code",
   "execution_count": 5,
   "metadata": {},
   "outputs": [
    {
     "name": "stdout",
     "output_type": "stream",
     "text": [
      "Количество пропусков:name                  2\n",
      "platform              0\n",
      "year_of_release     269\n",
      "genre                 2\n",
      "na_sales              0\n",
      "eu_sales              0\n",
      "jp_sales              0\n",
      "other_sales           0\n",
      "critic_score       8578\n",
      "user_score         6701\n",
      "rating             6766\n",
      "dtype: int64\n",
      "Доля пропусков:name                0.011965\n",
      "platform            0.000000\n",
      "year_of_release     1.609333\n",
      "genre               0.011965\n",
      "na_sales            0.000000\n",
      "eu_sales            0.000000\n",
      "jp_sales            0.000000\n",
      "other_sales         0.000000\n",
      "critic_score       51.319174\n",
      "user_score         40.089740\n",
      "rating             40.478612\n",
      "dtype: float64\n",
      "Количество дубликатов:0\n",
      "Доля дубликатов:0.0\n"
     ]
    }
   ],
   "source": [
    "#объявим функцию для поиска и оценки количества и доли пропусков и дубликатов\n",
    "\n",
    "def data_isna(data): #объявляем функцию data_isna\n",
    "    print(f'Количество пропусков:{data.isna().sum()}') #с помощью методов isna() и sum() посчитаем количество пропусков\n",
    "    print(f'Доля пропусков:{data.isna().sum()*100/len(data)}') #с помощью методов isna(),sum() и количества строк посчитаем долю пропусков\n",
    "    print(f'Количество дубликатов:{data.duplicated().sum()}') #посчитаем количество дубликатов\n",
    "    print(f'Доля дубликатов:{data.duplicated().sum()*100/len(data)}') #посчитаем долю дубликатов\n",
    "\n",
    "#изучим количество пропусков и дубликатов в датасете \n",
    "\n",
    "data_isna(data)"
   ]
  },
  {
   "cell_type": "markdown",
   "metadata": {},
   "source": [
    "Из представленных данных видно, что в столбцах как с категориальными, так и с количественными значениями пристутствуют пропуски. Прияины возникновения пропусков могут быть различные (некорректная выгрузка данных, намеренное непредоставление или отсутствие данных и др.)."
   ]
  },
  {
   "cell_type": "code",
   "execution_count": 6,
   "metadata": {},
   "outputs": [
    {
     "data": {
      "text/html": [
       "<div>\n",
       "<style scoped>\n",
       "    .dataframe tbody tr th:only-of-type {\n",
       "        vertical-align: middle;\n",
       "    }\n",
       "\n",
       "    .dataframe tbody tr th {\n",
       "        vertical-align: top;\n",
       "    }\n",
       "\n",
       "    .dataframe thead th {\n",
       "        text-align: right;\n",
       "    }\n",
       "</style>\n",
       "<table border=\"1\" class=\"dataframe\">\n",
       "  <thead>\n",
       "    <tr style=\"text-align: right;\">\n",
       "      <th></th>\n",
       "      <th>name</th>\n",
       "      <th>platform</th>\n",
       "      <th>year_of_release</th>\n",
       "      <th>genre</th>\n",
       "      <th>na_sales</th>\n",
       "      <th>eu_sales</th>\n",
       "      <th>jp_sales</th>\n",
       "      <th>other_sales</th>\n",
       "      <th>critic_score</th>\n",
       "      <th>user_score</th>\n",
       "      <th>rating</th>\n",
       "    </tr>\n",
       "  </thead>\n",
       "  <tbody>\n",
       "    <tr>\n",
       "      <td>659</td>\n",
       "      <td>NaN</td>\n",
       "      <td>GEN</td>\n",
       "      <td>1993.0</td>\n",
       "      <td>NaN</td>\n",
       "      <td>1.78</td>\n",
       "      <td>0.53</td>\n",
       "      <td>0.00</td>\n",
       "      <td>0.08</td>\n",
       "      <td>NaN</td>\n",
       "      <td>NaN</td>\n",
       "      <td>NaN</td>\n",
       "    </tr>\n",
       "    <tr>\n",
       "      <td>14244</td>\n",
       "      <td>NaN</td>\n",
       "      <td>GEN</td>\n",
       "      <td>1993.0</td>\n",
       "      <td>NaN</td>\n",
       "      <td>0.00</td>\n",
       "      <td>0.00</td>\n",
       "      <td>0.03</td>\n",
       "      <td>0.00</td>\n",
       "      <td>NaN</td>\n",
       "      <td>NaN</td>\n",
       "      <td>NaN</td>\n",
       "    </tr>\n",
       "  </tbody>\n",
       "</table>\n",
       "</div>"
      ],
      "text/plain": [
       "      name platform  year_of_release genre  na_sales  eu_sales  jp_sales  \\\n",
       "659    NaN      GEN           1993.0   NaN      1.78      0.53      0.00   \n",
       "14244  NaN      GEN           1993.0   NaN      0.00      0.00      0.03   \n",
       "\n",
       "       other_sales  critic_score user_score rating  \n",
       "659           0.08           NaN        NaN    NaN  \n",
       "14244         0.00           NaN        NaN    NaN  "
      ]
     },
     "execution_count": 6,
     "metadata": {},
     "output_type": "execute_result"
    }
   ],
   "source": [
    "#изучим пропуски в столбце 'name'\n",
    "\n",
    "data[data['name'].isna()]"
   ]
  },
  {
   "cell_type": "markdown",
   "metadata": {},
   "source": [
    "Как мы видим, в столбце 'name' всего два пропущенных значения. Пропуски могли возникнуть из-за любых причин, например, технологических (при выгрузке данных), из-за человеческого фактора (просто забыли указать наименование игры). В любом случае, можно удалить эти пропуски без опасения за искажение результатов исследования."
   ]
  },
  {
   "cell_type": "code",
   "execution_count": 7,
   "metadata": {},
   "outputs": [],
   "source": [
    "#удалим пропуски в столбце 'name'\n",
    "\n",
    "data = data.dropna(subset=['name']).reset_index(drop=True)"
   ]
  },
  {
   "cell_type": "code",
   "execution_count": 8,
   "metadata": {},
   "outputs": [
    {
     "data": {
      "text/plain": [
       "0"
      ]
     },
     "execution_count": 8,
     "metadata": {},
     "output_type": "execute_result"
    }
   ],
   "source": [
    "#проверим удалены ли пропуски\n",
    "\n",
    "data['name'].isna().sum()"
   ]
  },
  {
   "cell_type": "code",
   "execution_count": 9,
   "metadata": {},
   "outputs": [
    {
     "data": {
      "text/html": [
       "<div>\n",
       "<style scoped>\n",
       "    .dataframe tbody tr th:only-of-type {\n",
       "        vertical-align: middle;\n",
       "    }\n",
       "\n",
       "    .dataframe tbody tr th {\n",
       "        vertical-align: top;\n",
       "    }\n",
       "\n",
       "    .dataframe thead th {\n",
       "        text-align: right;\n",
       "    }\n",
       "</style>\n",
       "<table border=\"1\" class=\"dataframe\">\n",
       "  <thead>\n",
       "    <tr style=\"text-align: right;\">\n",
       "      <th></th>\n",
       "      <th>name</th>\n",
       "      <th>platform</th>\n",
       "      <th>year_of_release</th>\n",
       "      <th>genre</th>\n",
       "      <th>na_sales</th>\n",
       "      <th>eu_sales</th>\n",
       "      <th>jp_sales</th>\n",
       "      <th>other_sales</th>\n",
       "      <th>critic_score</th>\n",
       "      <th>user_score</th>\n",
       "      <th>rating</th>\n",
       "    </tr>\n",
       "  </thead>\n",
       "  <tbody>\n",
       "    <tr>\n",
       "      <td>183</td>\n",
       "      <td>Madden NFL 2004</td>\n",
       "      <td>PS2</td>\n",
       "      <td>NaN</td>\n",
       "      <td>Sports</td>\n",
       "      <td>4.26</td>\n",
       "      <td>0.26</td>\n",
       "      <td>0.01</td>\n",
       "      <td>0.71</td>\n",
       "      <td>94.0</td>\n",
       "      <td>8.5</td>\n",
       "      <td>E</td>\n",
       "    </tr>\n",
       "    <tr>\n",
       "      <td>377</td>\n",
       "      <td>FIFA Soccer 2004</td>\n",
       "      <td>PS2</td>\n",
       "      <td>NaN</td>\n",
       "      <td>Sports</td>\n",
       "      <td>0.59</td>\n",
       "      <td>2.36</td>\n",
       "      <td>0.04</td>\n",
       "      <td>0.51</td>\n",
       "      <td>84.0</td>\n",
       "      <td>6.4</td>\n",
       "      <td>E</td>\n",
       "    </tr>\n",
       "    <tr>\n",
       "      <td>456</td>\n",
       "      <td>LEGO Batman: The Videogame</td>\n",
       "      <td>Wii</td>\n",
       "      <td>NaN</td>\n",
       "      <td>Action</td>\n",
       "      <td>1.80</td>\n",
       "      <td>0.97</td>\n",
       "      <td>0.00</td>\n",
       "      <td>0.29</td>\n",
       "      <td>74.0</td>\n",
       "      <td>7.9</td>\n",
       "      <td>E10+</td>\n",
       "    </tr>\n",
       "    <tr>\n",
       "      <td>475</td>\n",
       "      <td>wwe Smackdown vs. Raw 2006</td>\n",
       "      <td>PS2</td>\n",
       "      <td>NaN</td>\n",
       "      <td>Fighting</td>\n",
       "      <td>1.57</td>\n",
       "      <td>1.02</td>\n",
       "      <td>0.00</td>\n",
       "      <td>0.41</td>\n",
       "      <td>NaN</td>\n",
       "      <td>NaN</td>\n",
       "      <td>NaN</td>\n",
       "    </tr>\n",
       "    <tr>\n",
       "      <td>609</td>\n",
       "      <td>Space Invaders</td>\n",
       "      <td>2600</td>\n",
       "      <td>NaN</td>\n",
       "      <td>Shooter</td>\n",
       "      <td>2.36</td>\n",
       "      <td>0.14</td>\n",
       "      <td>0.00</td>\n",
       "      <td>0.03</td>\n",
       "      <td>NaN</td>\n",
       "      <td>NaN</td>\n",
       "      <td>NaN</td>\n",
       "    </tr>\n",
       "    <tr>\n",
       "      <td>...</td>\n",
       "      <td>...</td>\n",
       "      <td>...</td>\n",
       "      <td>...</td>\n",
       "      <td>...</td>\n",
       "      <td>...</td>\n",
       "      <td>...</td>\n",
       "      <td>...</td>\n",
       "      <td>...</td>\n",
       "      <td>...</td>\n",
       "      <td>...</td>\n",
       "      <td>...</td>\n",
       "    </tr>\n",
       "    <tr>\n",
       "      <td>16371</td>\n",
       "      <td>PDC World Championship Darts 2008</td>\n",
       "      <td>PSP</td>\n",
       "      <td>NaN</td>\n",
       "      <td>Sports</td>\n",
       "      <td>0.01</td>\n",
       "      <td>0.00</td>\n",
       "      <td>0.00</td>\n",
       "      <td>0.00</td>\n",
       "      <td>43.0</td>\n",
       "      <td>tbd</td>\n",
       "      <td>E10+</td>\n",
       "    </tr>\n",
       "    <tr>\n",
       "      <td>16403</td>\n",
       "      <td>Freaky Flyers</td>\n",
       "      <td>GC</td>\n",
       "      <td>NaN</td>\n",
       "      <td>Racing</td>\n",
       "      <td>0.01</td>\n",
       "      <td>0.00</td>\n",
       "      <td>0.00</td>\n",
       "      <td>0.00</td>\n",
       "      <td>69.0</td>\n",
       "      <td>6.5</td>\n",
       "      <td>T</td>\n",
       "    </tr>\n",
       "    <tr>\n",
       "      <td>16446</td>\n",
       "      <td>Inversion</td>\n",
       "      <td>PC</td>\n",
       "      <td>NaN</td>\n",
       "      <td>Shooter</td>\n",
       "      <td>0.01</td>\n",
       "      <td>0.00</td>\n",
       "      <td>0.00</td>\n",
       "      <td>0.00</td>\n",
       "      <td>59.0</td>\n",
       "      <td>6.7</td>\n",
       "      <td>M</td>\n",
       "    </tr>\n",
       "    <tr>\n",
       "      <td>16456</td>\n",
       "      <td>Hakuouki: Shinsengumi Kitan</td>\n",
       "      <td>PS3</td>\n",
       "      <td>NaN</td>\n",
       "      <td>Adventure</td>\n",
       "      <td>0.01</td>\n",
       "      <td>0.00</td>\n",
       "      <td>0.00</td>\n",
       "      <td>0.00</td>\n",
       "      <td>NaN</td>\n",
       "      <td>NaN</td>\n",
       "      <td>NaN</td>\n",
       "    </tr>\n",
       "    <tr>\n",
       "      <td>16520</td>\n",
       "      <td>Virtua Quest</td>\n",
       "      <td>GC</td>\n",
       "      <td>NaN</td>\n",
       "      <td>Role-Playing</td>\n",
       "      <td>0.01</td>\n",
       "      <td>0.00</td>\n",
       "      <td>0.00</td>\n",
       "      <td>0.00</td>\n",
       "      <td>55.0</td>\n",
       "      <td>5.5</td>\n",
       "      <td>T</td>\n",
       "    </tr>\n",
       "  </tbody>\n",
       "</table>\n",
       "<p>269 rows × 11 columns</p>\n",
       "</div>"
      ],
      "text/plain": [
       "                                    name platform  year_of_release  \\\n",
       "183                      Madden NFL 2004      PS2              NaN   \n",
       "377                     FIFA Soccer 2004      PS2              NaN   \n",
       "456           LEGO Batman: The Videogame      Wii              NaN   \n",
       "475           wwe Smackdown vs. Raw 2006      PS2              NaN   \n",
       "609                       Space Invaders     2600              NaN   \n",
       "...                                  ...      ...              ...   \n",
       "16371  PDC World Championship Darts 2008      PSP              NaN   \n",
       "16403                      Freaky Flyers       GC              NaN   \n",
       "16446                          Inversion       PC              NaN   \n",
       "16456        Hakuouki: Shinsengumi Kitan      PS3              NaN   \n",
       "16520                       Virtua Quest       GC              NaN   \n",
       "\n",
       "              genre  na_sales  eu_sales  jp_sales  other_sales  critic_score  \\\n",
       "183          Sports      4.26      0.26      0.01         0.71          94.0   \n",
       "377          Sports      0.59      2.36      0.04         0.51          84.0   \n",
       "456          Action      1.80      0.97      0.00         0.29          74.0   \n",
       "475        Fighting      1.57      1.02      0.00         0.41           NaN   \n",
       "609         Shooter      2.36      0.14      0.00         0.03           NaN   \n",
       "...             ...       ...       ...       ...          ...           ...   \n",
       "16371        Sports      0.01      0.00      0.00         0.00          43.0   \n",
       "16403        Racing      0.01      0.00      0.00         0.00          69.0   \n",
       "16446       Shooter      0.01      0.00      0.00         0.00          59.0   \n",
       "16456     Adventure      0.01      0.00      0.00         0.00           NaN   \n",
       "16520  Role-Playing      0.01      0.00      0.00         0.00          55.0   \n",
       "\n",
       "      user_score rating  \n",
       "183          8.5      E  \n",
       "377          6.4      E  \n",
       "456          7.9   E10+  \n",
       "475          NaN    NaN  \n",
       "609          NaN    NaN  \n",
       "...          ...    ...  \n",
       "16371        tbd   E10+  \n",
       "16403        6.5      T  \n",
       "16446        6.7      M  \n",
       "16456        NaN    NaN  \n",
       "16520        5.5      T  \n",
       "\n",
       "[269 rows x 11 columns]"
      ]
     },
     "execution_count": 9,
     "metadata": {},
     "output_type": "execute_result"
    }
   ],
   "source": [
    "#изучим пропуски в столбце 'year_of_release'\n",
    "\n",
    "data[data['year_of_release'].isna()]"
   ]
  },
  {
   "cell_type": "markdown",
   "metadata": {},
   "source": [
    "Из представленных данных видно, что пропуски в столбце 'year_of_release' составляют более одного процента и могут повлиять на результаты исследования. Чтобы избежать это, заменим пропущенные значения медианным значением, поскольку это самое простое и понятное решение."
   ]
  },
  {
   "cell_type": "code",
   "execution_count": 10,
   "metadata": {},
   "outputs": [
    {
     "name": "stderr",
     "output_type": "stream",
     "text": [
      "/opt/conda/lib/python3.7/site-packages/numpy/lib/nanfunctions.py:1111: RuntimeWarning: Mean of empty slice\n",
      "  return np.nanmean(a, axis, out=out, keepdims=keepdims)\n"
     ]
    },
    {
     "data": {
      "text/html": [
       "<div>\n",
       "<style scoped>\n",
       "    .dataframe tbody tr th:only-of-type {\n",
       "        vertical-align: middle;\n",
       "    }\n",
       "\n",
       "    .dataframe tbody tr th {\n",
       "        vertical-align: top;\n",
       "    }\n",
       "\n",
       "    .dataframe thead th {\n",
       "        text-align: right;\n",
       "    }\n",
       "</style>\n",
       "<table border=\"1\" class=\"dataframe\">\n",
       "  <thead>\n",
       "    <tr style=\"text-align: right;\">\n",
       "      <th></th>\n",
       "      <th>name</th>\n",
       "      <th>platform</th>\n",
       "      <th>year_of_release</th>\n",
       "      <th>genre</th>\n",
       "      <th>na_sales</th>\n",
       "      <th>eu_sales</th>\n",
       "      <th>jp_sales</th>\n",
       "      <th>other_sales</th>\n",
       "      <th>critic_score</th>\n",
       "      <th>user_score</th>\n",
       "      <th>rating</th>\n",
       "    </tr>\n",
       "  </thead>\n",
       "  <tbody>\n",
       "    <tr>\n",
       "      <td>0</td>\n",
       "      <td>Wii Sports</td>\n",
       "      <td>Wii</td>\n",
       "      <td>2006.0</td>\n",
       "      <td>Sports</td>\n",
       "      <td>41.36</td>\n",
       "      <td>28.96</td>\n",
       "      <td>3.77</td>\n",
       "      <td>8.45</td>\n",
       "      <td>76.0</td>\n",
       "      <td>8</td>\n",
       "      <td>E</td>\n",
       "    </tr>\n",
       "    <tr>\n",
       "      <td>1</td>\n",
       "      <td>Super Mario Bros.</td>\n",
       "      <td>NES</td>\n",
       "      <td>1985.0</td>\n",
       "      <td>Platform</td>\n",
       "      <td>29.08</td>\n",
       "      <td>3.58</td>\n",
       "      <td>6.81</td>\n",
       "      <td>0.77</td>\n",
       "      <td>NaN</td>\n",
       "      <td>NaN</td>\n",
       "      <td>NaN</td>\n",
       "    </tr>\n",
       "    <tr>\n",
       "      <td>2</td>\n",
       "      <td>Mario Kart Wii</td>\n",
       "      <td>Wii</td>\n",
       "      <td>2008.0</td>\n",
       "      <td>Racing</td>\n",
       "      <td>15.68</td>\n",
       "      <td>12.76</td>\n",
       "      <td>3.79</td>\n",
       "      <td>3.29</td>\n",
       "      <td>82.0</td>\n",
       "      <td>8.3</td>\n",
       "      <td>E</td>\n",
       "    </tr>\n",
       "    <tr>\n",
       "      <td>3</td>\n",
       "      <td>Wii Sports Resort</td>\n",
       "      <td>Wii</td>\n",
       "      <td>2009.0</td>\n",
       "      <td>Sports</td>\n",
       "      <td>15.61</td>\n",
       "      <td>10.93</td>\n",
       "      <td>3.28</td>\n",
       "      <td>2.95</td>\n",
       "      <td>80.0</td>\n",
       "      <td>8</td>\n",
       "      <td>E</td>\n",
       "    </tr>\n",
       "    <tr>\n",
       "      <td>4</td>\n",
       "      <td>Pokemon Red/Pokemon Blue</td>\n",
       "      <td>GB</td>\n",
       "      <td>1996.0</td>\n",
       "      <td>Role-Playing</td>\n",
       "      <td>11.27</td>\n",
       "      <td>8.89</td>\n",
       "      <td>10.22</td>\n",
       "      <td>1.00</td>\n",
       "      <td>NaN</td>\n",
       "      <td>NaN</td>\n",
       "      <td>NaN</td>\n",
       "    </tr>\n",
       "    <tr>\n",
       "      <td>5</td>\n",
       "      <td>Tetris</td>\n",
       "      <td>GB</td>\n",
       "      <td>1989.0</td>\n",
       "      <td>Puzzle</td>\n",
       "      <td>23.20</td>\n",
       "      <td>2.26</td>\n",
       "      <td>4.22</td>\n",
       "      <td>0.58</td>\n",
       "      <td>NaN</td>\n",
       "      <td>NaN</td>\n",
       "      <td>NaN</td>\n",
       "    </tr>\n",
       "    <tr>\n",
       "      <td>6</td>\n",
       "      <td>New Super Mario Bros.</td>\n",
       "      <td>DS</td>\n",
       "      <td>2006.0</td>\n",
       "      <td>Platform</td>\n",
       "      <td>11.28</td>\n",
       "      <td>9.14</td>\n",
       "      <td>6.50</td>\n",
       "      <td>2.88</td>\n",
       "      <td>89.0</td>\n",
       "      <td>8.5</td>\n",
       "      <td>E</td>\n",
       "    </tr>\n",
       "    <tr>\n",
       "      <td>7</td>\n",
       "      <td>Wii Play</td>\n",
       "      <td>Wii</td>\n",
       "      <td>2006.0</td>\n",
       "      <td>Misc</td>\n",
       "      <td>13.96</td>\n",
       "      <td>9.18</td>\n",
       "      <td>2.93</td>\n",
       "      <td>2.84</td>\n",
       "      <td>58.0</td>\n",
       "      <td>6.6</td>\n",
       "      <td>E</td>\n",
       "    </tr>\n",
       "    <tr>\n",
       "      <td>8</td>\n",
       "      <td>New Super Mario Bros. Wii</td>\n",
       "      <td>Wii</td>\n",
       "      <td>2009.0</td>\n",
       "      <td>Platform</td>\n",
       "      <td>14.44</td>\n",
       "      <td>6.94</td>\n",
       "      <td>4.70</td>\n",
       "      <td>2.24</td>\n",
       "      <td>87.0</td>\n",
       "      <td>8.4</td>\n",
       "      <td>E</td>\n",
       "    </tr>\n",
       "    <tr>\n",
       "      <td>9</td>\n",
       "      <td>Duck Hunt</td>\n",
       "      <td>NES</td>\n",
       "      <td>1984.0</td>\n",
       "      <td>Shooter</td>\n",
       "      <td>26.93</td>\n",
       "      <td>0.63</td>\n",
       "      <td>0.28</td>\n",
       "      <td>0.47</td>\n",
       "      <td>NaN</td>\n",
       "      <td>NaN</td>\n",
       "      <td>NaN</td>\n",
       "    </tr>\n",
       "  </tbody>\n",
       "</table>\n",
       "</div>"
      ],
      "text/plain": [
       "                        name platform  year_of_release         genre  \\\n",
       "0                 Wii Sports      Wii           2006.0        Sports   \n",
       "1          Super Mario Bros.      NES           1985.0      Platform   \n",
       "2             Mario Kart Wii      Wii           2008.0        Racing   \n",
       "3          Wii Sports Resort      Wii           2009.0        Sports   \n",
       "4   Pokemon Red/Pokemon Blue       GB           1996.0  Role-Playing   \n",
       "5                     Tetris       GB           1989.0        Puzzle   \n",
       "6      New Super Mario Bros.       DS           2006.0      Platform   \n",
       "7                   Wii Play      Wii           2006.0          Misc   \n",
       "8  New Super Mario Bros. Wii      Wii           2009.0      Platform   \n",
       "9                  Duck Hunt      NES           1984.0       Shooter   \n",
       "\n",
       "   na_sales  eu_sales  jp_sales  other_sales  critic_score user_score rating  \n",
       "0     41.36     28.96      3.77         8.45          76.0          8      E  \n",
       "1     29.08      3.58      6.81         0.77           NaN        NaN    NaN  \n",
       "2     15.68     12.76      3.79         3.29          82.0        8.3      E  \n",
       "3     15.61     10.93      3.28         2.95          80.0          8      E  \n",
       "4     11.27      8.89     10.22         1.00           NaN        NaN    NaN  \n",
       "5     23.20      2.26      4.22         0.58           NaN        NaN    NaN  \n",
       "6     11.28      9.14      6.50         2.88          89.0        8.5      E  \n",
       "7     13.96      9.18      2.93         2.84          58.0        6.6      E  \n",
       "8     14.44      6.94      4.70         2.24          87.0        8.4      E  \n",
       "9     26.93      0.63      0.28         0.47           NaN        NaN    NaN  "
      ]
     },
     "execution_count": 10,
     "metadata": {},
     "output_type": "execute_result"
    }
   ],
   "source": [
    "#заменим данные в столбце 'year_of_release' медианным значением\n",
    "\n",
    "data['year_of_release'] = data.groupby('name').transform(lambda x: x.fillna(x.median()))\n",
    "\n",
    "#выведем первые 10 строк датасета на экран\n",
    "                                                         \n",
    "data.head(10)"
   ]
  },
  {
   "cell_type": "code",
   "execution_count": 11,
   "metadata": {},
   "outputs": [
    {
     "data": {
      "text/plain": [
       "146"
      ]
     },
     "execution_count": 11,
     "metadata": {},
     "output_type": "execute_result"
    }
   ],
   "source": [
    "#проверим количество пропусков в столбце 'year_of_release'\n",
    "\n",
    "data['year_of_release'].isna().sum()"
   ]
  },
  {
   "cell_type": "markdown",
   "metadata": {},
   "source": [
    "По каким-то причинам у нас осталось 146 пропущенных значений в столбце с данными о годе выпуска игр. Поскольку это совсем немного, удалим эти значения."
   ]
  },
  {
   "cell_type": "code",
   "execution_count": 12,
   "metadata": {},
   "outputs": [],
   "source": [
    "data = data.dropna(subset=['year_of_release']).reset_index(drop=True)"
   ]
  },
  {
   "cell_type": "code",
   "execution_count": 13,
   "metadata": {},
   "outputs": [
    {
     "data": {
      "text/plain": [
       "0"
      ]
     },
     "execution_count": 13,
     "metadata": {},
     "output_type": "execute_result"
    }
   ],
   "source": [
    "#проверим есть ли пропуски в столбце 'year_of_release'\n",
    "\n",
    "data['year_of_release'].isna().sum()"
   ]
  },
  {
   "cell_type": "code",
   "execution_count": 14,
   "metadata": {},
   "outputs": [],
   "source": [
    "#переведем данные о годе выпуска игр в целочисленный формат\n",
    "\n",
    "data['year_of_release'] = data['year_of_release'].astype('int')"
   ]
  },
  {
   "cell_type": "code",
   "execution_count": 15,
   "metadata": {},
   "outputs": [
    {
     "name": "stdout",
     "output_type": "stream",
     "text": [
      "<class 'pandas.core.frame.DataFrame'>\n",
      "RangeIndex: 16567 entries, 0 to 16566\n",
      "Data columns (total 11 columns):\n",
      "name               16567 non-null object\n",
      "platform           16567 non-null object\n",
      "year_of_release    16567 non-null int64\n",
      "genre              16567 non-null object\n",
      "na_sales           16567 non-null float64\n",
      "eu_sales           16567 non-null float64\n",
      "jp_sales           16567 non-null float64\n",
      "other_sales        16567 non-null float64\n",
      "critic_score       8075 non-null float64\n",
      "user_score         9934 non-null object\n",
      "rating             9868 non-null object\n",
      "dtypes: float64(5), int64(1), object(5)\n",
      "memory usage: 1.4+ MB\n"
     ]
    }
   ],
   "source": [
    "#проверим изменился ли формат данных\n",
    "\n",
    "data.info()"
   ]
  },
  {
   "cell_type": "code",
   "execution_count": 16,
   "metadata": {},
   "outputs": [
    {
     "data": {
      "text/html": [
       "<div>\n",
       "<style scoped>\n",
       "    .dataframe tbody tr th:only-of-type {\n",
       "        vertical-align: middle;\n",
       "    }\n",
       "\n",
       "    .dataframe tbody tr th {\n",
       "        vertical-align: top;\n",
       "    }\n",
       "\n",
       "    .dataframe thead th {\n",
       "        text-align: right;\n",
       "    }\n",
       "</style>\n",
       "<table border=\"1\" class=\"dataframe\">\n",
       "  <thead>\n",
       "    <tr style=\"text-align: right;\">\n",
       "      <th></th>\n",
       "      <th>name</th>\n",
       "      <th>platform</th>\n",
       "      <th>year_of_release</th>\n",
       "      <th>genre</th>\n",
       "      <th>na_sales</th>\n",
       "      <th>eu_sales</th>\n",
       "      <th>jp_sales</th>\n",
       "      <th>other_sales</th>\n",
       "      <th>critic_score</th>\n",
       "      <th>user_score</th>\n",
       "      <th>rating</th>\n",
       "    </tr>\n",
       "  </thead>\n",
       "  <tbody>\n",
       "    <tr>\n",
       "      <td>1</td>\n",
       "      <td>Super Mario Bros.</td>\n",
       "      <td>NES</td>\n",
       "      <td>1985</td>\n",
       "      <td>Platform</td>\n",
       "      <td>29.08</td>\n",
       "      <td>3.58</td>\n",
       "      <td>6.81</td>\n",
       "      <td>0.77</td>\n",
       "      <td>NaN</td>\n",
       "      <td>NaN</td>\n",
       "      <td>NaN</td>\n",
       "    </tr>\n",
       "    <tr>\n",
       "      <td>4</td>\n",
       "      <td>Pokemon Red/Pokemon Blue</td>\n",
       "      <td>GB</td>\n",
       "      <td>1996</td>\n",
       "      <td>Role-Playing</td>\n",
       "      <td>11.27</td>\n",
       "      <td>8.89</td>\n",
       "      <td>10.22</td>\n",
       "      <td>1.00</td>\n",
       "      <td>NaN</td>\n",
       "      <td>NaN</td>\n",
       "      <td>NaN</td>\n",
       "    </tr>\n",
       "    <tr>\n",
       "      <td>5</td>\n",
       "      <td>Tetris</td>\n",
       "      <td>GB</td>\n",
       "      <td>1989</td>\n",
       "      <td>Puzzle</td>\n",
       "      <td>23.20</td>\n",
       "      <td>2.26</td>\n",
       "      <td>4.22</td>\n",
       "      <td>0.58</td>\n",
       "      <td>NaN</td>\n",
       "      <td>NaN</td>\n",
       "      <td>NaN</td>\n",
       "    </tr>\n",
       "    <tr>\n",
       "      <td>9</td>\n",
       "      <td>Duck Hunt</td>\n",
       "      <td>NES</td>\n",
       "      <td>1984</td>\n",
       "      <td>Shooter</td>\n",
       "      <td>26.93</td>\n",
       "      <td>0.63</td>\n",
       "      <td>0.28</td>\n",
       "      <td>0.47</td>\n",
       "      <td>NaN</td>\n",
       "      <td>NaN</td>\n",
       "      <td>NaN</td>\n",
       "    </tr>\n",
       "    <tr>\n",
       "      <td>10</td>\n",
       "      <td>Nintendogs</td>\n",
       "      <td>DS</td>\n",
       "      <td>2005</td>\n",
       "      <td>Simulation</td>\n",
       "      <td>9.05</td>\n",
       "      <td>10.95</td>\n",
       "      <td>1.93</td>\n",
       "      <td>2.74</td>\n",
       "      <td>NaN</td>\n",
       "      <td>NaN</td>\n",
       "      <td>NaN</td>\n",
       "    </tr>\n",
       "    <tr>\n",
       "      <td>...</td>\n",
       "      <td>...</td>\n",
       "      <td>...</td>\n",
       "      <td>...</td>\n",
       "      <td>...</td>\n",
       "      <td>...</td>\n",
       "      <td>...</td>\n",
       "      <td>...</td>\n",
       "      <td>...</td>\n",
       "      <td>...</td>\n",
       "      <td>...</td>\n",
       "      <td>...</td>\n",
       "    </tr>\n",
       "    <tr>\n",
       "      <td>16562</td>\n",
       "      <td>Samurai Warriors: Sanada Maru</td>\n",
       "      <td>PS3</td>\n",
       "      <td>2016</td>\n",
       "      <td>Action</td>\n",
       "      <td>0.00</td>\n",
       "      <td>0.00</td>\n",
       "      <td>0.01</td>\n",
       "      <td>0.00</td>\n",
       "      <td>NaN</td>\n",
       "      <td>NaN</td>\n",
       "      <td>NaN</td>\n",
       "    </tr>\n",
       "    <tr>\n",
       "      <td>16563</td>\n",
       "      <td>LMA Manager 2007</td>\n",
       "      <td>X360</td>\n",
       "      <td>2006</td>\n",
       "      <td>Sports</td>\n",
       "      <td>0.00</td>\n",
       "      <td>0.01</td>\n",
       "      <td>0.00</td>\n",
       "      <td>0.00</td>\n",
       "      <td>NaN</td>\n",
       "      <td>NaN</td>\n",
       "      <td>NaN</td>\n",
       "    </tr>\n",
       "    <tr>\n",
       "      <td>16564</td>\n",
       "      <td>Haitaka no Psychedelica</td>\n",
       "      <td>PSV</td>\n",
       "      <td>2016</td>\n",
       "      <td>Adventure</td>\n",
       "      <td>0.00</td>\n",
       "      <td>0.00</td>\n",
       "      <td>0.01</td>\n",
       "      <td>0.00</td>\n",
       "      <td>NaN</td>\n",
       "      <td>NaN</td>\n",
       "      <td>NaN</td>\n",
       "    </tr>\n",
       "    <tr>\n",
       "      <td>16565</td>\n",
       "      <td>Spirits &amp; Spells</td>\n",
       "      <td>GBA</td>\n",
       "      <td>2003</td>\n",
       "      <td>Platform</td>\n",
       "      <td>0.01</td>\n",
       "      <td>0.00</td>\n",
       "      <td>0.00</td>\n",
       "      <td>0.00</td>\n",
       "      <td>NaN</td>\n",
       "      <td>NaN</td>\n",
       "      <td>NaN</td>\n",
       "    </tr>\n",
       "    <tr>\n",
       "      <td>16566</td>\n",
       "      <td>Winning Post 8 2016</td>\n",
       "      <td>PSV</td>\n",
       "      <td>2016</td>\n",
       "      <td>Simulation</td>\n",
       "      <td>0.00</td>\n",
       "      <td>0.00</td>\n",
       "      <td>0.01</td>\n",
       "      <td>0.00</td>\n",
       "      <td>NaN</td>\n",
       "      <td>NaN</td>\n",
       "      <td>NaN</td>\n",
       "    </tr>\n",
       "  </tbody>\n",
       "</table>\n",
       "<p>8492 rows × 11 columns</p>\n",
       "</div>"
      ],
      "text/plain": [
       "                                name platform  year_of_release         genre  \\\n",
       "1                  Super Mario Bros.      NES             1985      Platform   \n",
       "4           Pokemon Red/Pokemon Blue       GB             1996  Role-Playing   \n",
       "5                             Tetris       GB             1989        Puzzle   \n",
       "9                          Duck Hunt      NES             1984       Shooter   \n",
       "10                        Nintendogs       DS             2005    Simulation   \n",
       "...                              ...      ...              ...           ...   \n",
       "16562  Samurai Warriors: Sanada Maru      PS3             2016        Action   \n",
       "16563               LMA Manager 2007     X360             2006        Sports   \n",
       "16564        Haitaka no Psychedelica      PSV             2016     Adventure   \n",
       "16565               Spirits & Spells      GBA             2003      Platform   \n",
       "16566            Winning Post 8 2016      PSV             2016    Simulation   \n",
       "\n",
       "       na_sales  eu_sales  jp_sales  other_sales  critic_score user_score  \\\n",
       "1         29.08      3.58      6.81         0.77           NaN        NaN   \n",
       "4         11.27      8.89     10.22         1.00           NaN        NaN   \n",
       "5         23.20      2.26      4.22         0.58           NaN        NaN   \n",
       "9         26.93      0.63      0.28         0.47           NaN        NaN   \n",
       "10         9.05     10.95      1.93         2.74           NaN        NaN   \n",
       "...         ...       ...       ...          ...           ...        ...   \n",
       "16562      0.00      0.00      0.01         0.00           NaN        NaN   \n",
       "16563      0.00      0.01      0.00         0.00           NaN        NaN   \n",
       "16564      0.00      0.00      0.01         0.00           NaN        NaN   \n",
       "16565      0.01      0.00      0.00         0.00           NaN        NaN   \n",
       "16566      0.00      0.00      0.01         0.00           NaN        NaN   \n",
       "\n",
       "      rating  \n",
       "1        NaN  \n",
       "4        NaN  \n",
       "5        NaN  \n",
       "9        NaN  \n",
       "10       NaN  \n",
       "...      ...  \n",
       "16562    NaN  \n",
       "16563    NaN  \n",
       "16564    NaN  \n",
       "16565    NaN  \n",
       "16566    NaN  \n",
       "\n",
       "[8492 rows x 11 columns]"
      ]
     },
     "execution_count": 16,
     "metadata": {},
     "output_type": "execute_result"
    }
   ],
   "source": [
    "#изучим пропуски в столбце 'critic_score'\n",
    "\n",
    "data[data['critic_score'].isna()]"
   ]
  },
  {
   "cell_type": "code",
   "execution_count": 17,
   "metadata": {},
   "outputs": [
    {
     "data": {
      "text/html": [
       "<div>\n",
       "<style scoped>\n",
       "    .dataframe tbody tr th:only-of-type {\n",
       "        vertical-align: middle;\n",
       "    }\n",
       "\n",
       "    .dataframe tbody tr th {\n",
       "        vertical-align: top;\n",
       "    }\n",
       "\n",
       "    .dataframe thead th {\n",
       "        text-align: right;\n",
       "    }\n",
       "</style>\n",
       "<table border=\"1\" class=\"dataframe\">\n",
       "  <thead>\n",
       "    <tr style=\"text-align: right;\">\n",
       "      <th></th>\n",
       "      <th>name</th>\n",
       "      <th>platform</th>\n",
       "      <th>year_of_release</th>\n",
       "      <th>genre</th>\n",
       "      <th>na_sales</th>\n",
       "      <th>eu_sales</th>\n",
       "      <th>jp_sales</th>\n",
       "      <th>other_sales</th>\n",
       "      <th>critic_score</th>\n",
       "      <th>user_score</th>\n",
       "      <th>rating</th>\n",
       "    </tr>\n",
       "  </thead>\n",
       "  <tbody>\n",
       "    <tr>\n",
       "      <td>1</td>\n",
       "      <td>Super Mario Bros.</td>\n",
       "      <td>NES</td>\n",
       "      <td>1985</td>\n",
       "      <td>Platform</td>\n",
       "      <td>29.08</td>\n",
       "      <td>3.58</td>\n",
       "      <td>6.81</td>\n",
       "      <td>0.77</td>\n",
       "      <td>NaN</td>\n",
       "      <td>NaN</td>\n",
       "      <td>NaN</td>\n",
       "    </tr>\n",
       "    <tr>\n",
       "      <td>4</td>\n",
       "      <td>Pokemon Red/Pokemon Blue</td>\n",
       "      <td>GB</td>\n",
       "      <td>1996</td>\n",
       "      <td>Role-Playing</td>\n",
       "      <td>11.27</td>\n",
       "      <td>8.89</td>\n",
       "      <td>10.22</td>\n",
       "      <td>1.00</td>\n",
       "      <td>NaN</td>\n",
       "      <td>NaN</td>\n",
       "      <td>NaN</td>\n",
       "    </tr>\n",
       "    <tr>\n",
       "      <td>5</td>\n",
       "      <td>Tetris</td>\n",
       "      <td>GB</td>\n",
       "      <td>1989</td>\n",
       "      <td>Puzzle</td>\n",
       "      <td>23.20</td>\n",
       "      <td>2.26</td>\n",
       "      <td>4.22</td>\n",
       "      <td>0.58</td>\n",
       "      <td>NaN</td>\n",
       "      <td>NaN</td>\n",
       "      <td>NaN</td>\n",
       "    </tr>\n",
       "    <tr>\n",
       "      <td>9</td>\n",
       "      <td>Duck Hunt</td>\n",
       "      <td>NES</td>\n",
       "      <td>1984</td>\n",
       "      <td>Shooter</td>\n",
       "      <td>26.93</td>\n",
       "      <td>0.63</td>\n",
       "      <td>0.28</td>\n",
       "      <td>0.47</td>\n",
       "      <td>NaN</td>\n",
       "      <td>NaN</td>\n",
       "      <td>NaN</td>\n",
       "    </tr>\n",
       "    <tr>\n",
       "      <td>10</td>\n",
       "      <td>Nintendogs</td>\n",
       "      <td>DS</td>\n",
       "      <td>2005</td>\n",
       "      <td>Simulation</td>\n",
       "      <td>9.05</td>\n",
       "      <td>10.95</td>\n",
       "      <td>1.93</td>\n",
       "      <td>2.74</td>\n",
       "      <td>NaN</td>\n",
       "      <td>NaN</td>\n",
       "      <td>NaN</td>\n",
       "    </tr>\n",
       "    <tr>\n",
       "      <td>...</td>\n",
       "      <td>...</td>\n",
       "      <td>...</td>\n",
       "      <td>...</td>\n",
       "      <td>...</td>\n",
       "      <td>...</td>\n",
       "      <td>...</td>\n",
       "      <td>...</td>\n",
       "      <td>...</td>\n",
       "      <td>...</td>\n",
       "      <td>...</td>\n",
       "      <td>...</td>\n",
       "    </tr>\n",
       "    <tr>\n",
       "      <td>16562</td>\n",
       "      <td>Samurai Warriors: Sanada Maru</td>\n",
       "      <td>PS3</td>\n",
       "      <td>2016</td>\n",
       "      <td>Action</td>\n",
       "      <td>0.00</td>\n",
       "      <td>0.00</td>\n",
       "      <td>0.01</td>\n",
       "      <td>0.00</td>\n",
       "      <td>NaN</td>\n",
       "      <td>NaN</td>\n",
       "      <td>NaN</td>\n",
       "    </tr>\n",
       "    <tr>\n",
       "      <td>16563</td>\n",
       "      <td>LMA Manager 2007</td>\n",
       "      <td>X360</td>\n",
       "      <td>2006</td>\n",
       "      <td>Sports</td>\n",
       "      <td>0.00</td>\n",
       "      <td>0.01</td>\n",
       "      <td>0.00</td>\n",
       "      <td>0.00</td>\n",
       "      <td>NaN</td>\n",
       "      <td>NaN</td>\n",
       "      <td>NaN</td>\n",
       "    </tr>\n",
       "    <tr>\n",
       "      <td>16564</td>\n",
       "      <td>Haitaka no Psychedelica</td>\n",
       "      <td>PSV</td>\n",
       "      <td>2016</td>\n",
       "      <td>Adventure</td>\n",
       "      <td>0.00</td>\n",
       "      <td>0.00</td>\n",
       "      <td>0.01</td>\n",
       "      <td>0.00</td>\n",
       "      <td>NaN</td>\n",
       "      <td>NaN</td>\n",
       "      <td>NaN</td>\n",
       "    </tr>\n",
       "    <tr>\n",
       "      <td>16565</td>\n",
       "      <td>Spirits &amp; Spells</td>\n",
       "      <td>GBA</td>\n",
       "      <td>2003</td>\n",
       "      <td>Platform</td>\n",
       "      <td>0.01</td>\n",
       "      <td>0.00</td>\n",
       "      <td>0.00</td>\n",
       "      <td>0.00</td>\n",
       "      <td>NaN</td>\n",
       "      <td>NaN</td>\n",
       "      <td>NaN</td>\n",
       "    </tr>\n",
       "    <tr>\n",
       "      <td>16566</td>\n",
       "      <td>Winning Post 8 2016</td>\n",
       "      <td>PSV</td>\n",
       "      <td>2016</td>\n",
       "      <td>Simulation</td>\n",
       "      <td>0.00</td>\n",
       "      <td>0.00</td>\n",
       "      <td>0.01</td>\n",
       "      <td>0.00</td>\n",
       "      <td>NaN</td>\n",
       "      <td>NaN</td>\n",
       "      <td>NaN</td>\n",
       "    </tr>\n",
       "  </tbody>\n",
       "</table>\n",
       "<p>6633 rows × 11 columns</p>\n",
       "</div>"
      ],
      "text/plain": [
       "                                name platform  year_of_release         genre  \\\n",
       "1                  Super Mario Bros.      NES             1985      Platform   \n",
       "4           Pokemon Red/Pokemon Blue       GB             1996  Role-Playing   \n",
       "5                             Tetris       GB             1989        Puzzle   \n",
       "9                          Duck Hunt      NES             1984       Shooter   \n",
       "10                        Nintendogs       DS             2005    Simulation   \n",
       "...                              ...      ...              ...           ...   \n",
       "16562  Samurai Warriors: Sanada Maru      PS3             2016        Action   \n",
       "16563               LMA Manager 2007     X360             2006        Sports   \n",
       "16564        Haitaka no Psychedelica      PSV             2016     Adventure   \n",
       "16565               Spirits & Spells      GBA             2003      Platform   \n",
       "16566            Winning Post 8 2016      PSV             2016    Simulation   \n",
       "\n",
       "       na_sales  eu_sales  jp_sales  other_sales  critic_score user_score  \\\n",
       "1         29.08      3.58      6.81         0.77           NaN        NaN   \n",
       "4         11.27      8.89     10.22         1.00           NaN        NaN   \n",
       "5         23.20      2.26      4.22         0.58           NaN        NaN   \n",
       "9         26.93      0.63      0.28         0.47           NaN        NaN   \n",
       "10         9.05     10.95      1.93         2.74           NaN        NaN   \n",
       "...         ...       ...       ...          ...           ...        ...   \n",
       "16562      0.00      0.00      0.01         0.00           NaN        NaN   \n",
       "16563      0.00      0.01      0.00         0.00           NaN        NaN   \n",
       "16564      0.00      0.00      0.01         0.00           NaN        NaN   \n",
       "16565      0.01      0.00      0.00         0.00           NaN        NaN   \n",
       "16566      0.00      0.00      0.01         0.00           NaN        NaN   \n",
       "\n",
       "      rating  \n",
       "1        NaN  \n",
       "4        NaN  \n",
       "5        NaN  \n",
       "9        NaN  \n",
       "10       NaN  \n",
       "...      ...  \n",
       "16562    NaN  \n",
       "16563    NaN  \n",
       "16564    NaN  \n",
       "16565    NaN  \n",
       "16566    NaN  \n",
       "\n",
       "[6633 rows x 11 columns]"
      ]
     },
     "execution_count": 17,
     "metadata": {},
     "output_type": "execute_result"
    }
   ],
   "source": [
    "#изучим пропуски в столбце 'user_score'\n",
    "\n",
    "data[data['user_score'].isna()]"
   ]
  },
  {
   "cell_type": "markdown",
   "metadata": {},
   "source": [
    "Изучив данные в столбцах с оценками пользователей и критиков, мы видим, что в них есть большое количество пропущенных значений. Вероятнее всего, на некоторые игры просто не были проставлены оценки со стороны пользователей и критиков. Поскольку мы не можем как-то хотя бы приблизительно оценить какими значениями заполнить пропуски в этих столбцах, заменим пропущенные значения нулями."
   ]
  },
  {
   "cell_type": "code",
   "execution_count": 18,
   "metadata": {},
   "outputs": [
    {
     "data": {
      "text/plain": [
       "tbd    2394\n",
       "7.8     324\n",
       "8       288\n",
       "8.2     279\n",
       "8.3     253\n",
       "       ... \n",
       "9.6       2\n",
       "0.3       2\n",
       "1         2\n",
       "0         1\n",
       "9.7       1\n",
       "Name: user_score, Length: 96, dtype: int64"
      ]
     },
     "execution_count": 18,
     "metadata": {},
     "output_type": "execute_result"
    }
   ],
   "source": [
    "#изучим часть встречающиеся значения в столбце 'user_score'\n",
    "\n",
    "data['user_score'].value_counts()"
   ]
  },
  {
   "cell_type": "markdown",
   "metadata": {},
   "source": [
    "В столбце с оценками пользователей чаще всего попадается значений 'tbd' (to be defined), что по сути означает то, что значения не определены. Заменим эти значений на NaN."
   ]
  },
  {
   "cell_type": "code",
   "execution_count": 19,
   "metadata": {},
   "outputs": [],
   "source": [
    "#заменяем значения 'tbd' на NaN\n",
    "\n",
    "data = data.replace('tbd', np.nan)"
   ]
  },
  {
   "cell_type": "code",
   "execution_count": 20,
   "metadata": {},
   "outputs": [
    {
     "name": "stdout",
     "output_type": "stream",
     "text": [
      "<class 'pandas.core.frame.DataFrame'>\n",
      "RangeIndex: 16567 entries, 0 to 16566\n",
      "Data columns (total 11 columns):\n",
      "name               16567 non-null object\n",
      "platform           16567 non-null object\n",
      "year_of_release    16567 non-null int64\n",
      "genre              16567 non-null object\n",
      "na_sales           16567 non-null float64\n",
      "eu_sales           16567 non-null float64\n",
      "jp_sales           16567 non-null float64\n",
      "other_sales        16567 non-null float64\n",
      "critic_score       8075 non-null float64\n",
      "user_score         7540 non-null object\n",
      "rating             9868 non-null object\n",
      "dtypes: float64(5), int64(1), object(5)\n",
      "memory usage: 1.4+ MB\n"
     ]
    }
   ],
   "source": [
    "#проверим заменены ли значения\n",
    "\n",
    "data.info()"
   ]
  },
  {
   "cell_type": "code",
   "execution_count": 21,
   "metadata": {},
   "outputs": [
    {
     "data": {
      "text/plain": [
       "name                  0\n",
       "platform              0\n",
       "year_of_release       0\n",
       "genre                 0\n",
       "na_sales              0\n",
       "eu_sales              0\n",
       "jp_sales              0\n",
       "other_sales           0\n",
       "critic_score          0\n",
       "user_score            0\n",
       "rating             6699\n",
       "dtype: int64"
      ]
     },
     "execution_count": 21,
     "metadata": {},
     "output_type": "execute_result"
    }
   ],
   "source": [
    "#заменим пропущенные значения в столбцах 'critic_score' и 'user_score' нулевыми значениями\n",
    "\n",
    "data = data.fillna({'critic_score': 0,\n",
    "        'user_score': 0})\n",
    "\n",
    "#посмотрим остались ли пропуски\n",
    "\n",
    "data.isna().sum()"
   ]
  },
  {
   "cell_type": "code",
   "execution_count": 22,
   "metadata": {},
   "outputs": [
    {
     "name": "stdout",
     "output_type": "stream",
     "text": [
      "<class 'pandas.core.frame.DataFrame'>\n",
      "RangeIndex: 16567 entries, 0 to 16566\n",
      "Data columns (total 11 columns):\n",
      "name               16567 non-null object\n",
      "platform           16567 non-null object\n",
      "year_of_release    16567 non-null int64\n",
      "genre              16567 non-null object\n",
      "na_sales           16567 non-null float64\n",
      "eu_sales           16567 non-null float64\n",
      "jp_sales           16567 non-null float64\n",
      "other_sales        16567 non-null float64\n",
      "critic_score       16567 non-null float64\n",
      "user_score         16567 non-null float64\n",
      "rating             9868 non-null object\n",
      "dtypes: float64(6), int64(1), object(4)\n",
      "memory usage: 1.4+ MB\n"
     ]
    }
   ],
   "source": [
    "#приведем данные в столбце 'user_score' к вещественному типу\n",
    "\n",
    "data['user_score'] = data['user_score'].astype('float')\n",
    "\n",
    "#проверим изменилмя ли тип данных\n",
    "\n",
    "data.info()"
   ]
  },
  {
   "cell_type": "code",
   "execution_count": 23,
   "metadata": {},
   "outputs": [
    {
     "data": {
      "text/html": [
       "<div>\n",
       "<style scoped>\n",
       "    .dataframe tbody tr th:only-of-type {\n",
       "        vertical-align: middle;\n",
       "    }\n",
       "\n",
       "    .dataframe tbody tr th {\n",
       "        vertical-align: top;\n",
       "    }\n",
       "\n",
       "    .dataframe thead th {\n",
       "        text-align: right;\n",
       "    }\n",
       "</style>\n",
       "<table border=\"1\" class=\"dataframe\">\n",
       "  <thead>\n",
       "    <tr style=\"text-align: right;\">\n",
       "      <th></th>\n",
       "      <th>name</th>\n",
       "      <th>platform</th>\n",
       "      <th>year_of_release</th>\n",
       "      <th>genre</th>\n",
       "      <th>na_sales</th>\n",
       "      <th>eu_sales</th>\n",
       "      <th>jp_sales</th>\n",
       "      <th>other_sales</th>\n",
       "      <th>critic_score</th>\n",
       "      <th>user_score</th>\n",
       "      <th>rating</th>\n",
       "    </tr>\n",
       "  </thead>\n",
       "  <tbody>\n",
       "    <tr>\n",
       "      <td>1</td>\n",
       "      <td>Super Mario Bros.</td>\n",
       "      <td>NES</td>\n",
       "      <td>1985</td>\n",
       "      <td>Platform</td>\n",
       "      <td>29.08</td>\n",
       "      <td>3.58</td>\n",
       "      <td>6.81</td>\n",
       "      <td>0.77</td>\n",
       "      <td>0.0</td>\n",
       "      <td>0.0</td>\n",
       "      <td>NaN</td>\n",
       "    </tr>\n",
       "    <tr>\n",
       "      <td>4</td>\n",
       "      <td>Pokemon Red/Pokemon Blue</td>\n",
       "      <td>GB</td>\n",
       "      <td>1996</td>\n",
       "      <td>Role-Playing</td>\n",
       "      <td>11.27</td>\n",
       "      <td>8.89</td>\n",
       "      <td>10.22</td>\n",
       "      <td>1.00</td>\n",
       "      <td>0.0</td>\n",
       "      <td>0.0</td>\n",
       "      <td>NaN</td>\n",
       "    </tr>\n",
       "    <tr>\n",
       "      <td>5</td>\n",
       "      <td>Tetris</td>\n",
       "      <td>GB</td>\n",
       "      <td>1989</td>\n",
       "      <td>Puzzle</td>\n",
       "      <td>23.20</td>\n",
       "      <td>2.26</td>\n",
       "      <td>4.22</td>\n",
       "      <td>0.58</td>\n",
       "      <td>0.0</td>\n",
       "      <td>0.0</td>\n",
       "      <td>NaN</td>\n",
       "    </tr>\n",
       "    <tr>\n",
       "      <td>9</td>\n",
       "      <td>Duck Hunt</td>\n",
       "      <td>NES</td>\n",
       "      <td>1984</td>\n",
       "      <td>Shooter</td>\n",
       "      <td>26.93</td>\n",
       "      <td>0.63</td>\n",
       "      <td>0.28</td>\n",
       "      <td>0.47</td>\n",
       "      <td>0.0</td>\n",
       "      <td>0.0</td>\n",
       "      <td>NaN</td>\n",
       "    </tr>\n",
       "    <tr>\n",
       "      <td>10</td>\n",
       "      <td>Nintendogs</td>\n",
       "      <td>DS</td>\n",
       "      <td>2005</td>\n",
       "      <td>Simulation</td>\n",
       "      <td>9.05</td>\n",
       "      <td>10.95</td>\n",
       "      <td>1.93</td>\n",
       "      <td>2.74</td>\n",
       "      <td>0.0</td>\n",
       "      <td>0.0</td>\n",
       "      <td>NaN</td>\n",
       "    </tr>\n",
       "    <tr>\n",
       "      <td>...</td>\n",
       "      <td>...</td>\n",
       "      <td>...</td>\n",
       "      <td>...</td>\n",
       "      <td>...</td>\n",
       "      <td>...</td>\n",
       "      <td>...</td>\n",
       "      <td>...</td>\n",
       "      <td>...</td>\n",
       "      <td>...</td>\n",
       "      <td>...</td>\n",
       "      <td>...</td>\n",
       "    </tr>\n",
       "    <tr>\n",
       "      <td>16562</td>\n",
       "      <td>Samurai Warriors: Sanada Maru</td>\n",
       "      <td>PS3</td>\n",
       "      <td>2016</td>\n",
       "      <td>Action</td>\n",
       "      <td>0.00</td>\n",
       "      <td>0.00</td>\n",
       "      <td>0.01</td>\n",
       "      <td>0.00</td>\n",
       "      <td>0.0</td>\n",
       "      <td>0.0</td>\n",
       "      <td>NaN</td>\n",
       "    </tr>\n",
       "    <tr>\n",
       "      <td>16563</td>\n",
       "      <td>LMA Manager 2007</td>\n",
       "      <td>X360</td>\n",
       "      <td>2006</td>\n",
       "      <td>Sports</td>\n",
       "      <td>0.00</td>\n",
       "      <td>0.01</td>\n",
       "      <td>0.00</td>\n",
       "      <td>0.00</td>\n",
       "      <td>0.0</td>\n",
       "      <td>0.0</td>\n",
       "      <td>NaN</td>\n",
       "    </tr>\n",
       "    <tr>\n",
       "      <td>16564</td>\n",
       "      <td>Haitaka no Psychedelica</td>\n",
       "      <td>PSV</td>\n",
       "      <td>2016</td>\n",
       "      <td>Adventure</td>\n",
       "      <td>0.00</td>\n",
       "      <td>0.00</td>\n",
       "      <td>0.01</td>\n",
       "      <td>0.00</td>\n",
       "      <td>0.0</td>\n",
       "      <td>0.0</td>\n",
       "      <td>NaN</td>\n",
       "    </tr>\n",
       "    <tr>\n",
       "      <td>16565</td>\n",
       "      <td>Spirits &amp; Spells</td>\n",
       "      <td>GBA</td>\n",
       "      <td>2003</td>\n",
       "      <td>Platform</td>\n",
       "      <td>0.01</td>\n",
       "      <td>0.00</td>\n",
       "      <td>0.00</td>\n",
       "      <td>0.00</td>\n",
       "      <td>0.0</td>\n",
       "      <td>0.0</td>\n",
       "      <td>NaN</td>\n",
       "    </tr>\n",
       "    <tr>\n",
       "      <td>16566</td>\n",
       "      <td>Winning Post 8 2016</td>\n",
       "      <td>PSV</td>\n",
       "      <td>2016</td>\n",
       "      <td>Simulation</td>\n",
       "      <td>0.00</td>\n",
       "      <td>0.00</td>\n",
       "      <td>0.01</td>\n",
       "      <td>0.00</td>\n",
       "      <td>0.0</td>\n",
       "      <td>0.0</td>\n",
       "      <td>NaN</td>\n",
       "    </tr>\n",
       "  </tbody>\n",
       "</table>\n",
       "<p>6699 rows × 11 columns</p>\n",
       "</div>"
      ],
      "text/plain": [
       "                                name platform  year_of_release         genre  \\\n",
       "1                  Super Mario Bros.      NES             1985      Platform   \n",
       "4           Pokemon Red/Pokemon Blue       GB             1996  Role-Playing   \n",
       "5                             Tetris       GB             1989        Puzzle   \n",
       "9                          Duck Hunt      NES             1984       Shooter   \n",
       "10                        Nintendogs       DS             2005    Simulation   \n",
       "...                              ...      ...              ...           ...   \n",
       "16562  Samurai Warriors: Sanada Maru      PS3             2016        Action   \n",
       "16563               LMA Manager 2007     X360             2006        Sports   \n",
       "16564        Haitaka no Psychedelica      PSV             2016     Adventure   \n",
       "16565               Spirits & Spells      GBA             2003      Platform   \n",
       "16566            Winning Post 8 2016      PSV             2016    Simulation   \n",
       "\n",
       "       na_sales  eu_sales  jp_sales  other_sales  critic_score  user_score  \\\n",
       "1         29.08      3.58      6.81         0.77           0.0         0.0   \n",
       "4         11.27      8.89     10.22         1.00           0.0         0.0   \n",
       "5         23.20      2.26      4.22         0.58           0.0         0.0   \n",
       "9         26.93      0.63      0.28         0.47           0.0         0.0   \n",
       "10         9.05     10.95      1.93         2.74           0.0         0.0   \n",
       "...         ...       ...       ...          ...           ...         ...   \n",
       "16562      0.00      0.00      0.01         0.00           0.0         0.0   \n",
       "16563      0.00      0.01      0.00         0.00           0.0         0.0   \n",
       "16564      0.00      0.00      0.01         0.00           0.0         0.0   \n",
       "16565      0.01      0.00      0.00         0.00           0.0         0.0   \n",
       "16566      0.00      0.00      0.01         0.00           0.0         0.0   \n",
       "\n",
       "      rating  \n",
       "1        NaN  \n",
       "4        NaN  \n",
       "5        NaN  \n",
       "9        NaN  \n",
       "10       NaN  \n",
       "...      ...  \n",
       "16562    NaN  \n",
       "16563    NaN  \n",
       "16564    NaN  \n",
       "16565    NaN  \n",
       "16566    NaN  \n",
       "\n",
       "[6699 rows x 11 columns]"
      ]
     },
     "execution_count": 23,
     "metadata": {},
     "output_type": "execute_result"
    }
   ],
   "source": [
    "#изучим пропуски в столбце 'rating'\n",
    "\n",
    "data[data['rating'].isna()]"
   ]
  },
  {
   "cell_type": "markdown",
   "metadata": {},
   "source": [
    "В столбце 'rating' содержится большое количество пропусков - 6699 строк. Вероятнее всего, рейтинг просто не был проставлен. Поскольку мы не можем предположить, какими значениями заполнить пропуски в данном столбце, а также учитывая то, что они являются категориальными значениями, заменим пропуски значением 'unknown'."
   ]
  },
  {
   "cell_type": "code",
   "execution_count": 24,
   "metadata": {},
   "outputs": [
    {
     "data": {
      "text/plain": [
       "0          E\n",
       "1    unknown\n",
       "2          E\n",
       "3          E\n",
       "4    unknown\n",
       "5    unknown\n",
       "6          E\n",
       "7          E\n",
       "8          E\n",
       "9    unknown\n",
       "Name: rating, dtype: object"
      ]
     },
     "execution_count": 24,
     "metadata": {},
     "output_type": "execute_result"
    }
   ],
   "source": [
    "#заменим пропуски в столбце 'rating' значением 'unknown'\n",
    "\n",
    "data['rating'] = data['rating'].fillna('unknown')\n",
    "\n",
    "#проверим значения столбца 'rating'\n",
    "\n",
    "data['rating'].head(10)"
   ]
  },
  {
   "cell_type": "code",
   "execution_count": 25,
   "metadata": {},
   "outputs": [
    {
     "data": {
      "text/plain": [
       "name               0\n",
       "platform           0\n",
       "year_of_release    0\n",
       "genre              0\n",
       "na_sales           0\n",
       "eu_sales           0\n",
       "jp_sales           0\n",
       "other_sales        0\n",
       "critic_score       0\n",
       "user_score         0\n",
       "rating             0\n",
       "dtype: int64"
      ]
     },
     "execution_count": 25,
     "metadata": {},
     "output_type": "execute_result"
    }
   ],
   "source": [
    "#проверим наличие пропусков в датасете\n",
    "\n",
    "data.isna().sum()"
   ]
  },
  {
   "cell_type": "markdown",
   "metadata": {},
   "source": [
    "Для проведения исследования нам необходимо добавить данные о суммарных продажах игры в датасет, что и сделаем."
   ]
  },
  {
   "cell_type": "code",
   "execution_count": 26,
   "metadata": {},
   "outputs": [
    {
     "data": {
      "text/html": [
       "<div>\n",
       "<style scoped>\n",
       "    .dataframe tbody tr th:only-of-type {\n",
       "        vertical-align: middle;\n",
       "    }\n",
       "\n",
       "    .dataframe tbody tr th {\n",
       "        vertical-align: top;\n",
       "    }\n",
       "\n",
       "    .dataframe thead th {\n",
       "        text-align: right;\n",
       "    }\n",
       "</style>\n",
       "<table border=\"1\" class=\"dataframe\">\n",
       "  <thead>\n",
       "    <tr style=\"text-align: right;\">\n",
       "      <th></th>\n",
       "      <th>name</th>\n",
       "      <th>platform</th>\n",
       "      <th>year_of_release</th>\n",
       "      <th>genre</th>\n",
       "      <th>na_sales</th>\n",
       "      <th>eu_sales</th>\n",
       "      <th>jp_sales</th>\n",
       "      <th>other_sales</th>\n",
       "      <th>critic_score</th>\n",
       "      <th>user_score</th>\n",
       "      <th>rating</th>\n",
       "      <th>total_sales</th>\n",
       "    </tr>\n",
       "  </thead>\n",
       "  <tbody>\n",
       "    <tr>\n",
       "      <td>0</td>\n",
       "      <td>Wii Sports</td>\n",
       "      <td>Wii</td>\n",
       "      <td>2006</td>\n",
       "      <td>Sports</td>\n",
       "      <td>41.36</td>\n",
       "      <td>28.96</td>\n",
       "      <td>3.77</td>\n",
       "      <td>8.45</td>\n",
       "      <td>76.0</td>\n",
       "      <td>8.0</td>\n",
       "      <td>E</td>\n",
       "      <td>74.09</td>\n",
       "    </tr>\n",
       "    <tr>\n",
       "      <td>1</td>\n",
       "      <td>Super Mario Bros.</td>\n",
       "      <td>NES</td>\n",
       "      <td>1985</td>\n",
       "      <td>Platform</td>\n",
       "      <td>29.08</td>\n",
       "      <td>3.58</td>\n",
       "      <td>6.81</td>\n",
       "      <td>0.77</td>\n",
       "      <td>0.0</td>\n",
       "      <td>0.0</td>\n",
       "      <td>unknown</td>\n",
       "      <td>39.47</td>\n",
       "    </tr>\n",
       "    <tr>\n",
       "      <td>2</td>\n",
       "      <td>Mario Kart Wii</td>\n",
       "      <td>Wii</td>\n",
       "      <td>2008</td>\n",
       "      <td>Racing</td>\n",
       "      <td>15.68</td>\n",
       "      <td>12.76</td>\n",
       "      <td>3.79</td>\n",
       "      <td>3.29</td>\n",
       "      <td>82.0</td>\n",
       "      <td>8.3</td>\n",
       "      <td>E</td>\n",
       "      <td>32.23</td>\n",
       "    </tr>\n",
       "    <tr>\n",
       "      <td>3</td>\n",
       "      <td>Wii Sports Resort</td>\n",
       "      <td>Wii</td>\n",
       "      <td>2009</td>\n",
       "      <td>Sports</td>\n",
       "      <td>15.61</td>\n",
       "      <td>10.93</td>\n",
       "      <td>3.28</td>\n",
       "      <td>2.95</td>\n",
       "      <td>80.0</td>\n",
       "      <td>8.0</td>\n",
       "      <td>E</td>\n",
       "      <td>29.82</td>\n",
       "    </tr>\n",
       "    <tr>\n",
       "      <td>4</td>\n",
       "      <td>Pokemon Red/Pokemon Blue</td>\n",
       "      <td>GB</td>\n",
       "      <td>1996</td>\n",
       "      <td>Role-Playing</td>\n",
       "      <td>11.27</td>\n",
       "      <td>8.89</td>\n",
       "      <td>10.22</td>\n",
       "      <td>1.00</td>\n",
       "      <td>0.0</td>\n",
       "      <td>0.0</td>\n",
       "      <td>unknown</td>\n",
       "      <td>30.38</td>\n",
       "    </tr>\n",
       "    <tr>\n",
       "      <td>5</td>\n",
       "      <td>Tetris</td>\n",
       "      <td>GB</td>\n",
       "      <td>1989</td>\n",
       "      <td>Puzzle</td>\n",
       "      <td>23.20</td>\n",
       "      <td>2.26</td>\n",
       "      <td>4.22</td>\n",
       "      <td>0.58</td>\n",
       "      <td>0.0</td>\n",
       "      <td>0.0</td>\n",
       "      <td>unknown</td>\n",
       "      <td>29.68</td>\n",
       "    </tr>\n",
       "    <tr>\n",
       "      <td>6</td>\n",
       "      <td>New Super Mario Bros.</td>\n",
       "      <td>DS</td>\n",
       "      <td>2006</td>\n",
       "      <td>Platform</td>\n",
       "      <td>11.28</td>\n",
       "      <td>9.14</td>\n",
       "      <td>6.50</td>\n",
       "      <td>2.88</td>\n",
       "      <td>89.0</td>\n",
       "      <td>8.5</td>\n",
       "      <td>E</td>\n",
       "      <td>26.92</td>\n",
       "    </tr>\n",
       "    <tr>\n",
       "      <td>7</td>\n",
       "      <td>Wii Play</td>\n",
       "      <td>Wii</td>\n",
       "      <td>2006</td>\n",
       "      <td>Misc</td>\n",
       "      <td>13.96</td>\n",
       "      <td>9.18</td>\n",
       "      <td>2.93</td>\n",
       "      <td>2.84</td>\n",
       "      <td>58.0</td>\n",
       "      <td>6.6</td>\n",
       "      <td>E</td>\n",
       "      <td>26.07</td>\n",
       "    </tr>\n",
       "    <tr>\n",
       "      <td>8</td>\n",
       "      <td>New Super Mario Bros. Wii</td>\n",
       "      <td>Wii</td>\n",
       "      <td>2009</td>\n",
       "      <td>Platform</td>\n",
       "      <td>14.44</td>\n",
       "      <td>6.94</td>\n",
       "      <td>4.70</td>\n",
       "      <td>2.24</td>\n",
       "      <td>87.0</td>\n",
       "      <td>8.4</td>\n",
       "      <td>E</td>\n",
       "      <td>26.08</td>\n",
       "    </tr>\n",
       "    <tr>\n",
       "      <td>9</td>\n",
       "      <td>Duck Hunt</td>\n",
       "      <td>NES</td>\n",
       "      <td>1984</td>\n",
       "      <td>Shooter</td>\n",
       "      <td>26.93</td>\n",
       "      <td>0.63</td>\n",
       "      <td>0.28</td>\n",
       "      <td>0.47</td>\n",
       "      <td>0.0</td>\n",
       "      <td>0.0</td>\n",
       "      <td>unknown</td>\n",
       "      <td>27.84</td>\n",
       "    </tr>\n",
       "  </tbody>\n",
       "</table>\n",
       "</div>"
      ],
      "text/plain": [
       "                        name platform  year_of_release         genre  \\\n",
       "0                 Wii Sports      Wii             2006        Sports   \n",
       "1          Super Mario Bros.      NES             1985      Platform   \n",
       "2             Mario Kart Wii      Wii             2008        Racing   \n",
       "3          Wii Sports Resort      Wii             2009        Sports   \n",
       "4   Pokemon Red/Pokemon Blue       GB             1996  Role-Playing   \n",
       "5                     Tetris       GB             1989        Puzzle   \n",
       "6      New Super Mario Bros.       DS             2006      Platform   \n",
       "7                   Wii Play      Wii             2006          Misc   \n",
       "8  New Super Mario Bros. Wii      Wii             2009      Platform   \n",
       "9                  Duck Hunt      NES             1984       Shooter   \n",
       "\n",
       "   na_sales  eu_sales  jp_sales  other_sales  critic_score  user_score  \\\n",
       "0     41.36     28.96      3.77         8.45          76.0         8.0   \n",
       "1     29.08      3.58      6.81         0.77           0.0         0.0   \n",
       "2     15.68     12.76      3.79         3.29          82.0         8.3   \n",
       "3     15.61     10.93      3.28         2.95          80.0         8.0   \n",
       "4     11.27      8.89     10.22         1.00           0.0         0.0   \n",
       "5     23.20      2.26      4.22         0.58           0.0         0.0   \n",
       "6     11.28      9.14      6.50         2.88          89.0         8.5   \n",
       "7     13.96      9.18      2.93         2.84          58.0         6.6   \n",
       "8     14.44      6.94      4.70         2.24          87.0         8.4   \n",
       "9     26.93      0.63      0.28         0.47           0.0         0.0   \n",
       "\n",
       "    rating  total_sales  \n",
       "0        E        74.09  \n",
       "1  unknown        39.47  \n",
       "2        E        32.23  \n",
       "3        E        29.82  \n",
       "4  unknown        30.38  \n",
       "5  unknown        29.68  \n",
       "6        E        26.92  \n",
       "7        E        26.07  \n",
       "8        E        26.08  \n",
       "9  unknown        27.84  "
      ]
     },
     "execution_count": 26,
     "metadata": {},
     "output_type": "execute_result"
    }
   ],
   "source": [
    "#добавим в датасет данные о суммарных продажах\n",
    "\n",
    "data['total_sales'] = data['na_sales'] + data['eu_sales'] + data['jp_sales']\n",
    "\n",
    "#выведем первые 10 строк датасета на экран\n",
    "\n",
    "data.head(10)"
   ]
  },
  {
   "cell_type": "markdown",
   "metadata": {},
   "source": [
    "### Вывод"
   ]
  },
  {
   "cell_type": "markdown",
   "metadata": {},
   "source": [
    "В ходе проведения предобработки данных были обнаружены и обработаны пропуски в следующих столбцах:\n",
    "\n",
    "- 'name' - количество пропусков минимальное (2 строки), были удалены;\n",
    "- 'year_of_release' - более 1% пропусков, которые были заменены на медианное значение;\n",
    "- 'critic_score','user_score' - более 1% пропусков, которые были заменены на нулевые значения;\n",
    "- 'rating' - более 1% пропусков, заменены на значение 'unknown'.\n",
    "\n",
    "Дубликатов в датасете обнаружено не было. Данные предварительно обработаны и готовы к проведению исследования."
   ]
  },
  {
   "cell_type": "markdown",
   "metadata": {},
   "source": [
    "## Исследовательский анализ данных"
   ]
  },
  {
   "cell_type": "markdown",
   "metadata": {},
   "source": [
    "### Изучение продаж видеоигр по платформам, годам и регионам"
   ]
  },
  {
   "cell_type": "markdown",
   "metadata": {},
   "source": [
    "Для определения факторов, влияющих на рост или падение продаж видеоигр, необходимо изучить зависимость продаж от платформ, времени выпуска игр, регионов продаж, оценок пользователей и критиков и сделать соответствующие выводы."
   ]
  },
  {
   "cell_type": "code",
   "execution_count": 27,
   "metadata": {},
   "outputs": [
    {
     "data": {
      "text/html": [
       "<div>\n",
       "<style scoped>\n",
       "    .dataframe tbody tr th:only-of-type {\n",
       "        vertical-align: middle;\n",
       "    }\n",
       "\n",
       "    .dataframe tbody tr th {\n",
       "        vertical-align: top;\n",
       "    }\n",
       "\n",
       "    .dataframe thead th {\n",
       "        text-align: right;\n",
       "    }\n",
       "</style>\n",
       "<table border=\"1\" class=\"dataframe\">\n",
       "  <thead>\n",
       "    <tr style=\"text-align: right;\">\n",
       "      <th></th>\n",
       "      <th>year_of_release</th>\n",
       "      <th>platform</th>\n",
       "      <th>name</th>\n",
       "    </tr>\n",
       "  </thead>\n",
       "  <tbody>\n",
       "    <tr>\n",
       "      <td>0</td>\n",
       "      <td>1980</td>\n",
       "      <td>2600</td>\n",
       "      <td>9</td>\n",
       "    </tr>\n",
       "    <tr>\n",
       "      <td>1</td>\n",
       "      <td>1981</td>\n",
       "      <td>2600</td>\n",
       "      <td>46</td>\n",
       "    </tr>\n",
       "    <tr>\n",
       "      <td>2</td>\n",
       "      <td>1982</td>\n",
       "      <td>2600</td>\n",
       "      <td>36</td>\n",
       "    </tr>\n",
       "    <tr>\n",
       "      <td>3</td>\n",
       "      <td>1983</td>\n",
       "      <td>2600</td>\n",
       "      <td>11</td>\n",
       "    </tr>\n",
       "    <tr>\n",
       "      <td>4</td>\n",
       "      <td>1983</td>\n",
       "      <td>NES</td>\n",
       "      <td>6</td>\n",
       "    </tr>\n",
       "    <tr>\n",
       "      <td>5</td>\n",
       "      <td>1984</td>\n",
       "      <td>2600</td>\n",
       "      <td>1</td>\n",
       "    </tr>\n",
       "    <tr>\n",
       "      <td>6</td>\n",
       "      <td>1984</td>\n",
       "      <td>NES</td>\n",
       "      <td>13</td>\n",
       "    </tr>\n",
       "    <tr>\n",
       "      <td>7</td>\n",
       "      <td>1985</td>\n",
       "      <td>2600</td>\n",
       "      <td>1</td>\n",
       "    </tr>\n",
       "    <tr>\n",
       "      <td>8</td>\n",
       "      <td>1985</td>\n",
       "      <td>DS</td>\n",
       "      <td>1</td>\n",
       "    </tr>\n",
       "    <tr>\n",
       "      <td>9</td>\n",
       "      <td>1985</td>\n",
       "      <td>NES</td>\n",
       "      <td>11</td>\n",
       "    </tr>\n",
       "  </tbody>\n",
       "</table>\n",
       "</div>"
      ],
      "text/plain": [
       "   year_of_release platform  name\n",
       "0             1980     2600     9\n",
       "1             1981     2600    46\n",
       "2             1982     2600    36\n",
       "3             1983     2600    11\n",
       "4             1983      NES     6\n",
       "5             1984     2600     1\n",
       "6             1984      NES    13\n",
       "7             1985     2600     1\n",
       "8             1985       DS     1\n",
       "9             1985      NES    11"
      ]
     },
     "execution_count": 27,
     "metadata": {},
     "output_type": "execute_result"
    }
   ],
   "source": [
    "#сгруппируем данные по году выпуска игр, платформам и посчитаем количество выпущенных игр.\n",
    "#Результат сохраним в новом датасете data_games_platforms_by_year\n",
    "\n",
    "data_games_platforms_by_year = data.groupby(['year_of_release','platform'])['name'].count().reset_index()\n",
    "\n",
    "#выведем на экран первые 10 строк датасета\n",
    "\n",
    "data_games_platforms_by_year.head(10)"
   ]
  },
  {
   "cell_type": "markdown",
   "metadata": {},
   "source": [
    "Для корректности отображения информации переименуем столбец 'name' в новом датасете в 'number_of_games'."
   ]
  },
  {
   "cell_type": "code",
   "execution_count": 28,
   "metadata": {},
   "outputs": [
    {
     "data": {
      "text/html": [
       "<div>\n",
       "<style scoped>\n",
       "    .dataframe tbody tr th:only-of-type {\n",
       "        vertical-align: middle;\n",
       "    }\n",
       "\n",
       "    .dataframe tbody tr th {\n",
       "        vertical-align: top;\n",
       "    }\n",
       "\n",
       "    .dataframe thead th {\n",
       "        text-align: right;\n",
       "    }\n",
       "</style>\n",
       "<table border=\"1\" class=\"dataframe\">\n",
       "  <thead>\n",
       "    <tr style=\"text-align: right;\">\n",
       "      <th></th>\n",
       "      <th>year_of_release</th>\n",
       "      <th>platform</th>\n",
       "      <th>number_of_games</th>\n",
       "    </tr>\n",
       "  </thead>\n",
       "  <tbody>\n",
       "    <tr>\n",
       "      <td>0</td>\n",
       "      <td>1980</td>\n",
       "      <td>2600</td>\n",
       "      <td>9</td>\n",
       "    </tr>\n",
       "    <tr>\n",
       "      <td>1</td>\n",
       "      <td>1981</td>\n",
       "      <td>2600</td>\n",
       "      <td>46</td>\n",
       "    </tr>\n",
       "    <tr>\n",
       "      <td>2</td>\n",
       "      <td>1982</td>\n",
       "      <td>2600</td>\n",
       "      <td>36</td>\n",
       "    </tr>\n",
       "    <tr>\n",
       "      <td>3</td>\n",
       "      <td>1983</td>\n",
       "      <td>2600</td>\n",
       "      <td>11</td>\n",
       "    </tr>\n",
       "    <tr>\n",
       "      <td>4</td>\n",
       "      <td>1983</td>\n",
       "      <td>NES</td>\n",
       "      <td>6</td>\n",
       "    </tr>\n",
       "    <tr>\n",
       "      <td>5</td>\n",
       "      <td>1984</td>\n",
       "      <td>2600</td>\n",
       "      <td>1</td>\n",
       "    </tr>\n",
       "    <tr>\n",
       "      <td>6</td>\n",
       "      <td>1984</td>\n",
       "      <td>NES</td>\n",
       "      <td>13</td>\n",
       "    </tr>\n",
       "    <tr>\n",
       "      <td>7</td>\n",
       "      <td>1985</td>\n",
       "      <td>2600</td>\n",
       "      <td>1</td>\n",
       "    </tr>\n",
       "    <tr>\n",
       "      <td>8</td>\n",
       "      <td>1985</td>\n",
       "      <td>DS</td>\n",
       "      <td>1</td>\n",
       "    </tr>\n",
       "    <tr>\n",
       "      <td>9</td>\n",
       "      <td>1985</td>\n",
       "      <td>NES</td>\n",
       "      <td>11</td>\n",
       "    </tr>\n",
       "  </tbody>\n",
       "</table>\n",
       "</div>"
      ],
      "text/plain": [
       "   year_of_release platform  number_of_games\n",
       "0             1980     2600                9\n",
       "1             1981     2600               46\n",
       "2             1982     2600               36\n",
       "3             1983     2600               11\n",
       "4             1983      NES                6\n",
       "5             1984     2600                1\n",
       "6             1984      NES               13\n",
       "7             1985     2600                1\n",
       "8             1985       DS                1\n",
       "9             1985      NES               11"
      ]
     },
     "execution_count": 28,
     "metadata": {},
     "output_type": "execute_result"
    }
   ],
   "source": [
    "#переименуем столбец 'name'\n",
    "\n",
    "data_games_platforms_by_year = data_games_platforms_by_year.rename(columns={'name':'number_of_games'})\n",
    "\n",
    "#проверим изменения\n",
    "\n",
    "data_games_platforms_by_year.head(10)"
   ]
  },
  {
   "cell_type": "markdown",
   "metadata": {},
   "source": [
    "Для того, чтобы понять как распределяются продажи видеоигр по годам выпуска игр, необходимо визуализировать данные, т.е. построить график."
   ]
  },
  {
   "cell_type": "code",
   "execution_count": 29,
   "metadata": {},
   "outputs": [
    {
     "data": {
      "image/png": "[encoded data removed]",
      "text/plain": [
       "<Figure size 936x576 with 1 Axes>"
      ]
     },
     "metadata": {
      "needs_background": "light"
     },
     "output_type": "display_data"
    }
   ],
   "source": [
    "#построим столбчатый график для отображения количества выпущенных игр по годам\n",
    "\n",
    "plt.figure(figsize=(13,8))\n",
    "data_barplot = sns.barplot(x='year_of_release',y='number_of_games', #зададим параметры по осям\n",
    "                           data = data_games_platforms_by_year)\n",
    "\n",
    "plt.xlabel('Год выпуска'), #добавим подписи осей\n",
    "plt.ylabel('Количество, шт.'),\n",
    "plt.title('Количество выпущенных игр по годам') #добавим название графика\n",
    "plt.xticks(rotation = 90) #добавим угол наклона подписей по оси х\n",
    "                         \n",
    "#выведем график на экран\n",
    "\n",
    "plt.show()"
   ]
  },
  {
   "cell_type": "markdown",
   "metadata": {},
   "source": [
    "Поскольку график не очень информативен и понятен, для простоты восприятия данных возьмем данные с момента значительного роста продаж видеоигр - с 2002 года по 2016 год и построим новый график."
   ]
  },
  {
   "cell_type": "code",
   "execution_count": 30,
   "metadata": {},
   "outputs": [
    {
     "data": {
      "text/html": [
       "<div>\n",
       "<style scoped>\n",
       "    .dataframe tbody tr th:only-of-type {\n",
       "        vertical-align: middle;\n",
       "    }\n",
       "\n",
       "    .dataframe tbody tr th {\n",
       "        vertical-align: top;\n",
       "    }\n",
       "\n",
       "    .dataframe thead th {\n",
       "        text-align: right;\n",
       "    }\n",
       "</style>\n",
       "<table border=\"1\" class=\"dataframe\">\n",
       "  <thead>\n",
       "    <tr style=\"text-align: right;\">\n",
       "      <th></th>\n",
       "      <th>year_of_release</th>\n",
       "      <th>platform</th>\n",
       "      <th>number_of_games</th>\n",
       "    </tr>\n",
       "  </thead>\n",
       "  <tbody>\n",
       "    <tr>\n",
       "      <td>109</td>\n",
       "      <td>2002</td>\n",
       "      <td>DC</td>\n",
       "      <td>1</td>\n",
       "    </tr>\n",
       "    <tr>\n",
       "      <td>110</td>\n",
       "      <td>2002</td>\n",
       "      <td>GBA</td>\n",
       "      <td>198</td>\n",
       "    </tr>\n",
       "    <tr>\n",
       "      <td>111</td>\n",
       "      <td>2002</td>\n",
       "      <td>GC</td>\n",
       "      <td>154</td>\n",
       "    </tr>\n",
       "    <tr>\n",
       "      <td>112</td>\n",
       "      <td>2002</td>\n",
       "      <td>N64</td>\n",
       "      <td>1</td>\n",
       "    </tr>\n",
       "    <tr>\n",
       "      <td>113</td>\n",
       "      <td>2002</td>\n",
       "      <td>PC</td>\n",
       "      <td>19</td>\n",
       "    </tr>\n",
       "    <tr>\n",
       "      <td>114</td>\n",
       "      <td>2002</td>\n",
       "      <td>PS</td>\n",
       "      <td>20</td>\n",
       "    </tr>\n",
       "    <tr>\n",
       "      <td>115</td>\n",
       "      <td>2002</td>\n",
       "      <td>PS2</td>\n",
       "      <td>285</td>\n",
       "    </tr>\n",
       "    <tr>\n",
       "      <td>116</td>\n",
       "      <td>2002</td>\n",
       "      <td>XB</td>\n",
       "      <td>166</td>\n",
       "    </tr>\n",
       "    <tr>\n",
       "      <td>117</td>\n",
       "      <td>2003</td>\n",
       "      <td>GBA</td>\n",
       "      <td>150</td>\n",
       "    </tr>\n",
       "    <tr>\n",
       "      <td>118</td>\n",
       "      <td>2003</td>\n",
       "      <td>GC</td>\n",
       "      <td>149</td>\n",
       "    </tr>\n",
       "  </tbody>\n",
       "</table>\n",
       "</div>"
      ],
      "text/plain": [
       "     year_of_release platform  number_of_games\n",
       "109             2002       DC                1\n",
       "110             2002      GBA              198\n",
       "111             2002       GC              154\n",
       "112             2002      N64                1\n",
       "113             2002       PC               19\n",
       "114             2002       PS               20\n",
       "115             2002      PS2              285\n",
       "116             2002       XB              166\n",
       "117             2003      GBA              150\n",
       "118             2003       GC              149"
      ]
     },
     "execution_count": 30,
     "metadata": {},
     "output_type": "execute_result"
    }
   ],
   "source": [
    "#сделаем срез данных с 2002 по 2016 гг. Результат поместим в новый датасет data_games_2002_2016\n",
    "\n",
    "data_games_2002_2016 = data_games_platforms_by_year.query('year_of_release >= 2002 and year_of_release <= 2016')\n",
    "\n",
    "#выведем первые 10 строк датасета на экран\n",
    "\n",
    "data_games_2002_2016.head(10)"
   ]
  },
  {
   "cell_type": "code",
   "execution_count": 31,
   "metadata": {},
   "outputs": [
    {
     "data": {
      "image/png": "[encoded data removed]",
      "text/plain": [
       "<Figure size 432x288 with 1 Axes>"
      ]
     },
     "metadata": {
      "needs_background": "light"
     },
     "output_type": "display_data"
    }
   ],
   "source": [
    "#построим столбчатый график для отображения количества выпущенных игр с 2002 по 2016 гг.\n",
    "\n",
    "data_barplot = sns.barplot(x='year_of_release',y='number_of_games', #зададим параметры по осям\n",
    "                           data = data_games_2002_2016) #укажем из какого датасета брать данные\n",
    "\n",
    "plt.xlabel('Год выпуска'), #добавим подписи осей\n",
    "plt.ylabel('Количество, шт.'),\n",
    "plt.title('Количество выпущенных игр по годам') #добавим название графика\n",
    "plt.xticks(rotation = 90) #добавим угол наклона подписей по оси х\n",
    "                          \n",
    "#выведем график на экран\n",
    "\n",
    "plt.show()"
   ]
  },
  {
   "cell_type": "markdown",
   "metadata": {},
   "source": [
    "Исходя из графика мы видим, что распределение количества выпущенных игр по годам нельзя назвать нормальным, поскольку колокол несимметричен и распределение не является унимодальным. Пик выпуска видеоигр приходится на период с 2008 по 2011 год, после чего количество выпущенных игр значительно снижается и поддерживается примерно на одном уровне (70-75 шт.) вплоть до 2016 г."
   ]
  },
  {
   "cell_type": "code",
   "execution_count": 32,
   "metadata": {},
   "outputs": [
    {
     "data": {
      "text/html": [
       "<div>\n",
       "<style scoped>\n",
       "    .dataframe tbody tr th:only-of-type {\n",
       "        vertical-align: middle;\n",
       "    }\n",
       "\n",
       "    .dataframe tbody tr th {\n",
       "        vertical-align: top;\n",
       "    }\n",
       "\n",
       "    .dataframe thead th {\n",
       "        text-align: right;\n",
       "    }\n",
       "</style>\n",
       "<table border=\"1\" class=\"dataframe\">\n",
       "  <thead>\n",
       "    <tr style=\"text-align: right;\">\n",
       "      <th></th>\n",
       "      <th>platform</th>\n",
       "      <th>year_of_release</th>\n",
       "      <th>total_sales</th>\n",
       "    </tr>\n",
       "  </thead>\n",
       "  <tbody>\n",
       "    <tr>\n",
       "      <td>0</td>\n",
       "      <td>Wii</td>\n",
       "      <td>2009</td>\n",
       "      <td>189.43</td>\n",
       "    </tr>\n",
       "    <tr>\n",
       "      <td>1</td>\n",
       "      <td>PS2</td>\n",
       "      <td>2002</td>\n",
       "      <td>186.26</td>\n",
       "    </tr>\n",
       "    <tr>\n",
       "      <td>2</td>\n",
       "      <td>PS2</td>\n",
       "      <td>2004</td>\n",
       "      <td>172.79</td>\n",
       "    </tr>\n",
       "    <tr>\n",
       "      <td>3</td>\n",
       "      <td>PS2</td>\n",
       "      <td>2003</td>\n",
       "      <td>171.14</td>\n",
       "    </tr>\n",
       "    <tr>\n",
       "      <td>4</td>\n",
       "      <td>Wii</td>\n",
       "      <td>2008</td>\n",
       "      <td>162.17</td>\n",
       "    </tr>\n",
       "    <tr>\n",
       "      <td>5</td>\n",
       "      <td>PS</td>\n",
       "      <td>1998</td>\n",
       "      <td>160.44</td>\n",
       "    </tr>\n",
       "    <tr>\n",
       "      <td>6</td>\n",
       "      <td>X360</td>\n",
       "      <td>2010</td>\n",
       "      <td>156.28</td>\n",
       "    </tr>\n",
       "    <tr>\n",
       "      <td>7</td>\n",
       "      <td>PS2</td>\n",
       "      <td>2001</td>\n",
       "      <td>149.65</td>\n",
       "    </tr>\n",
       "    <tr>\n",
       "      <td>8</td>\n",
       "      <td>PS2</td>\n",
       "      <td>2005</td>\n",
       "      <td>141.73</td>\n",
       "    </tr>\n",
       "    <tr>\n",
       "      <td>9</td>\n",
       "      <td>Wii</td>\n",
       "      <td>2007</td>\n",
       "      <td>139.79</td>\n",
       "    </tr>\n",
       "    <tr>\n",
       "      <td>10</td>\n",
       "      <td>PS</td>\n",
       "      <td>1999</td>\n",
       "      <td>136.61</td>\n",
       "    </tr>\n",
       "    <tr>\n",
       "      <td>11</td>\n",
       "      <td>PS3</td>\n",
       "      <td>2011</td>\n",
       "      <td>136.21</td>\n",
       "    </tr>\n",
       "    <tr>\n",
       "      <td>12</td>\n",
       "      <td>DS</td>\n",
       "      <td>2007</td>\n",
       "      <td>136.12</td>\n",
       "    </tr>\n",
       "    <tr>\n",
       "      <td>13</td>\n",
       "      <td>DS</td>\n",
       "      <td>2008</td>\n",
       "      <td>134.42</td>\n",
       "    </tr>\n",
       "    <tr>\n",
       "      <td>14</td>\n",
       "      <td>X360</td>\n",
       "      <td>2011</td>\n",
       "      <td>132.38</td>\n",
       "    </tr>\n",
       "  </tbody>\n",
       "</table>\n",
       "</div>"
      ],
      "text/plain": [
       "   platform  year_of_release  total_sales\n",
       "0       Wii             2009       189.43\n",
       "1       PS2             2002       186.26\n",
       "2       PS2             2004       172.79\n",
       "3       PS2             2003       171.14\n",
       "4       Wii             2008       162.17\n",
       "5        PS             1998       160.44\n",
       "6      X360             2010       156.28\n",
       "7       PS2             2001       149.65\n",
       "8       PS2             2005       141.73\n",
       "9       Wii             2007       139.79\n",
       "10       PS             1999       136.61\n",
       "11      PS3             2011       136.21\n",
       "12       DS             2007       136.12\n",
       "13       DS             2008       134.42\n",
       "14     X360             2011       132.38"
      ]
     },
     "execution_count": 32,
     "metadata": {},
     "output_type": "execute_result"
    }
   ],
   "source": [
    "#сгруппируем данные по платформам. Посчитаем суммарные продажи в разрезе платформ и определим\n",
    "#наиболее прибыльные из них. Результат сохраним в датасете sales_by_platform\n",
    "\n",
    "sales_by_platform = data.groupby(['platform','year_of_release']).agg({'total_sales': 'sum'}).sort_values('total_sales', ascending=False).reset_index()\n",
    "\n",
    "#выведем данные на экран\n",
    "\n",
    "sales_by_platform.head(15)"
   ]
  },
  {
   "cell_type": "markdown",
   "metadata": {},
   "source": [
    "Исходя из данных мы видим, что первые 6 платформ являются лидерами по суммарным продажам видеоигр (1054.88 - 686.89 млн проданных копий). Начиная с платформы GBA суммарные продажи падают сразу в 2 раза до 306,4 млн копий."
   ]
  },
  {
   "cell_type": "code",
   "execution_count": 33,
   "metadata": {},
   "outputs": [
    {
     "data": {
      "image/png": "[encoded data removed]",
      "text/plain": [
       "<Figure size 432x288 with 1 Axes>"
      ]
     },
     "metadata": {
      "needs_background": "light"
     },
     "output_type": "display_data"
    }
   ],
   "source": [
    "#построим столбчатый график распределения суммарных продаж по платформам\n",
    "\n",
    "data_total_sales_platform= sns.barplot(x='platform',y='total_sales', #зададим параметры для осей\n",
    "                                       data = sales_by_platform) #укажем необходимый датасет\n",
    "\n",
    "plt.xlabel('Название платформы'), #добавим подписи осей\n",
    "plt.ylabel('Суммарые продажи, млн шт.'),\n",
    "plt.title('Суммарные продажи игр по платформам') #добавим название графика\n",
    "plt.xticks(rotation = 90) #добавим угол наклона подписей по оси х\n",
    "\n",
    "#выведем график на экран\n",
    "\n",
    "plt.show()"
   ]
  },
  {
   "cell_type": "markdown",
   "metadata": {},
   "source": [
    "Исходя из данных графика видно, что есть 6 прибыльных и популярных платформ, однако большинство из них уже нет в продаже, поэтому изучим данные, начиная с 2013 года."
   ]
  },
  {
   "cell_type": "code",
   "execution_count": 34,
   "metadata": {},
   "outputs": [
    {
     "data": {
      "image/png": "[encoded data removed]",
      "text/plain": [
       "<Figure size 936x576 with 1 Axes>"
      ]
     },
     "metadata": {
      "needs_background": "light"
     },
     "output_type": "display_data"
    }
   ],
   "source": [
    "#сделаем срез данных, начиная с 2013 года\n",
    "\n",
    "sales_by_platform = sales_by_platform.query('year_of_release >= 2013')\n",
    "\n",
    "#построим график продаж по платформам, начиная с 2013 года\n",
    "\n",
    "ax = sales_by_platform.pivot_table(\n",
    "    index='year_of_release',\n",
    "    columns='platform',\n",
    "    values='total_sales',\n",
    "    aggfunc='sum'\n",
    ").plot(figsize=(13, 8), title=\"Суммарные продажи по годам в разрезе платформ\")\n",
    "\n",
    "plt.xlabel('Название платформы, годы выпуска')\n",
    "plt.ylabel('Суммарые продажи, млн шт.')\n",
    "\n",
    "#выведем график на экран\n",
    "\n",
    "plt.show()"
   ]
  },
  {
   "cell_type": "markdown",
   "metadata": {},
   "source": [
    "Исхдя из данных графика видно, что часть продажа части платформ также идет на спад. В анализе будем использовать платформы нового поколения: PS4, XOne,PC, 3DS."
   ]
  },
  {
   "cell_type": "code",
   "execution_count": 35,
   "metadata": {},
   "outputs": [],
   "source": [
    "#добавим популярные платформы в список top_platforms\n",
    "\n",
    "top_platforms = ['PS4', 'XOne','PC', '3DS']"
   ]
  },
  {
   "cell_type": "code",
   "execution_count": 36,
   "metadata": {},
   "outputs": [
    {
     "data": {
      "text/html": [
       "<div>\n",
       "<style scoped>\n",
       "    .dataframe tbody tr th:only-of-type {\n",
       "        vertical-align: middle;\n",
       "    }\n",
       "\n",
       "    .dataframe tbody tr th {\n",
       "        vertical-align: top;\n",
       "    }\n",
       "\n",
       "    .dataframe thead th {\n",
       "        text-align: right;\n",
       "    }\n",
       "</style>\n",
       "<table border=\"1\" class=\"dataframe\">\n",
       "  <thead>\n",
       "    <tr style=\"text-align: right;\">\n",
       "      <th></th>\n",
       "      <th>name</th>\n",
       "      <th>platform</th>\n",
       "      <th>year_of_release</th>\n",
       "      <th>genre</th>\n",
       "      <th>na_sales</th>\n",
       "      <th>eu_sales</th>\n",
       "      <th>jp_sales</th>\n",
       "      <th>other_sales</th>\n",
       "      <th>critic_score</th>\n",
       "      <th>user_score</th>\n",
       "      <th>rating</th>\n",
       "      <th>total_sales</th>\n",
       "    </tr>\n",
       "  </thead>\n",
       "  <tbody>\n",
       "    <tr>\n",
       "      <td>31</td>\n",
       "      <td>Call of Duty: Black Ops 3</td>\n",
       "      <td>PS4</td>\n",
       "      <td>2015</td>\n",
       "      <td>Shooter</td>\n",
       "      <td>6.03</td>\n",
       "      <td>5.86</td>\n",
       "      <td>0.36</td>\n",
       "      <td>2.38</td>\n",
       "      <td>0.0</td>\n",
       "      <td>0.0</td>\n",
       "      <td>unknown</td>\n",
       "      <td>12.25</td>\n",
       "    </tr>\n",
       "    <tr>\n",
       "      <td>33</td>\n",
       "      <td>Pokemon X/Pokemon Y</td>\n",
       "      <td>3DS</td>\n",
       "      <td>2013</td>\n",
       "      <td>Role-Playing</td>\n",
       "      <td>5.28</td>\n",
       "      <td>4.19</td>\n",
       "      <td>4.35</td>\n",
       "      <td>0.78</td>\n",
       "      <td>0.0</td>\n",
       "      <td>0.0</td>\n",
       "      <td>unknown</td>\n",
       "      <td>13.82</td>\n",
       "    </tr>\n",
       "    <tr>\n",
       "      <td>40</td>\n",
       "      <td>Mario Kart 7</td>\n",
       "      <td>3DS</td>\n",
       "      <td>2011</td>\n",
       "      <td>Racing</td>\n",
       "      <td>5.03</td>\n",
       "      <td>4.02</td>\n",
       "      <td>2.69</td>\n",
       "      <td>0.91</td>\n",
       "      <td>85.0</td>\n",
       "      <td>8.2</td>\n",
       "      <td>E</td>\n",
       "      <td>11.74</td>\n",
       "    </tr>\n",
       "    <tr>\n",
       "      <td>42</td>\n",
       "      <td>Grand Theft Auto V</td>\n",
       "      <td>PS4</td>\n",
       "      <td>2014</td>\n",
       "      <td>Action</td>\n",
       "      <td>3.96</td>\n",
       "      <td>6.31</td>\n",
       "      <td>0.38</td>\n",
       "      <td>1.97</td>\n",
       "      <td>97.0</td>\n",
       "      <td>8.3</td>\n",
       "      <td>M</td>\n",
       "      <td>10.65</td>\n",
       "    </tr>\n",
       "    <tr>\n",
       "      <td>47</td>\n",
       "      <td>Pokemon Omega Ruby/Pokemon Alpha Sapphire</td>\n",
       "      <td>3DS</td>\n",
       "      <td>2014</td>\n",
       "      <td>Role-Playing</td>\n",
       "      <td>4.35</td>\n",
       "      <td>3.49</td>\n",
       "      <td>3.10</td>\n",
       "      <td>0.74</td>\n",
       "      <td>0.0</td>\n",
       "      <td>0.0</td>\n",
       "      <td>unknown</td>\n",
       "      <td>10.94</td>\n",
       "    </tr>\n",
       "    <tr>\n",
       "      <td>53</td>\n",
       "      <td>Super Mario 3D Land</td>\n",
       "      <td>3DS</td>\n",
       "      <td>2011</td>\n",
       "      <td>Platform</td>\n",
       "      <td>4.89</td>\n",
       "      <td>3.00</td>\n",
       "      <td>2.14</td>\n",
       "      <td>0.78</td>\n",
       "      <td>90.0</td>\n",
       "      <td>8.4</td>\n",
       "      <td>E</td>\n",
       "      <td>10.03</td>\n",
       "    </tr>\n",
       "    <tr>\n",
       "      <td>62</td>\n",
       "      <td>New Super Mario Bros. 2</td>\n",
       "      <td>3DS</td>\n",
       "      <td>2012</td>\n",
       "      <td>Platform</td>\n",
       "      <td>3.66</td>\n",
       "      <td>3.14</td>\n",
       "      <td>2.47</td>\n",
       "      <td>0.63</td>\n",
       "      <td>78.0</td>\n",
       "      <td>7.2</td>\n",
       "      <td>E</td>\n",
       "      <td>9.27</td>\n",
       "    </tr>\n",
       "    <tr>\n",
       "      <td>73</td>\n",
       "      <td>Animal Crossing: New Leaf</td>\n",
       "      <td>3DS</td>\n",
       "      <td>2012</td>\n",
       "      <td>Simulation</td>\n",
       "      <td>2.03</td>\n",
       "      <td>2.36</td>\n",
       "      <td>4.39</td>\n",
       "      <td>0.39</td>\n",
       "      <td>88.0</td>\n",
       "      <td>8.7</td>\n",
       "      <td>E</td>\n",
       "      <td>8.78</td>\n",
       "    </tr>\n",
       "    <tr>\n",
       "      <td>77</td>\n",
       "      <td>FIFA 16</td>\n",
       "      <td>PS4</td>\n",
       "      <td>2015</td>\n",
       "      <td>Sports</td>\n",
       "      <td>1.12</td>\n",
       "      <td>6.12</td>\n",
       "      <td>0.06</td>\n",
       "      <td>1.28</td>\n",
       "      <td>82.0</td>\n",
       "      <td>4.3</td>\n",
       "      <td>E</td>\n",
       "      <td>7.30</td>\n",
       "    </tr>\n",
       "    <tr>\n",
       "      <td>85</td>\n",
       "      <td>The Sims 3</td>\n",
       "      <td>PC</td>\n",
       "      <td>2009</td>\n",
       "      <td>Simulation</td>\n",
       "      <td>0.99</td>\n",
       "      <td>6.42</td>\n",
       "      <td>0.00</td>\n",
       "      <td>0.60</td>\n",
       "      <td>86.0</td>\n",
       "      <td>7.6</td>\n",
       "      <td>T</td>\n",
       "      <td>7.41</td>\n",
       "    </tr>\n",
       "  </tbody>\n",
       "</table>\n",
       "</div>"
      ],
      "text/plain": [
       "                                         name platform  year_of_release  \\\n",
       "31                  Call of Duty: Black Ops 3      PS4             2015   \n",
       "33                        Pokemon X/Pokemon Y      3DS             2013   \n",
       "40                               Mario Kart 7      3DS             2011   \n",
       "42                         Grand Theft Auto V      PS4             2014   \n",
       "47  Pokemon Omega Ruby/Pokemon Alpha Sapphire      3DS             2014   \n",
       "53                        Super Mario 3D Land      3DS             2011   \n",
       "62                    New Super Mario Bros. 2      3DS             2012   \n",
       "73                  Animal Crossing: New Leaf      3DS             2012   \n",
       "77                                    FIFA 16      PS4             2015   \n",
       "85                                 The Sims 3       PC             2009   \n",
       "\n",
       "           genre  na_sales  eu_sales  jp_sales  other_sales  critic_score  \\\n",
       "31       Shooter      6.03      5.86      0.36         2.38           0.0   \n",
       "33  Role-Playing      5.28      4.19      4.35         0.78           0.0   \n",
       "40        Racing      5.03      4.02      2.69         0.91          85.0   \n",
       "42        Action      3.96      6.31      0.38         1.97          97.0   \n",
       "47  Role-Playing      4.35      3.49      3.10         0.74           0.0   \n",
       "53      Platform      4.89      3.00      2.14         0.78          90.0   \n",
       "62      Platform      3.66      3.14      2.47         0.63          78.0   \n",
       "73    Simulation      2.03      2.36      4.39         0.39          88.0   \n",
       "77        Sports      1.12      6.12      0.06         1.28          82.0   \n",
       "85    Simulation      0.99      6.42      0.00         0.60          86.0   \n",
       "\n",
       "    user_score   rating  total_sales  \n",
       "31         0.0  unknown        12.25  \n",
       "33         0.0  unknown        13.82  \n",
       "40         8.2        E        11.74  \n",
       "42         8.3        M        10.65  \n",
       "47         0.0  unknown        10.94  \n",
       "53         8.4        E        10.03  \n",
       "62         7.2        E         9.27  \n",
       "73         8.7        E         8.78  \n",
       "77         4.3        E         7.30  \n",
       "85         7.6        T         7.41  "
      ]
     },
     "execution_count": 36,
     "metadata": {},
     "output_type": "execute_result"
    }
   ],
   "source": [
    "#сделаем срез данных по топовым платформам. Результат сохраним в датасет sales_by_platform_grouped\n",
    "\n",
    "sales_by_platform_grouped = data.query('platform in @top_platforms')\n",
    "\n",
    "#выведем первые 10 строк датасета на экран\n",
    "\n",
    "sales_by_platform_grouped.head(10)"
   ]
  },
  {
   "cell_type": "code",
   "execution_count": 37,
   "metadata": {},
   "outputs": [
    {
     "data": {
      "image/png": "[encoded data removed]",
      "text/plain": [
       "<Figure size 936x576 with 1 Axes>"
      ]
     },
     "metadata": {
      "needs_background": "light"
     },
     "output_type": "display_data"
    }
   ],
   "source": [
    "#построим график по продажам игр на топовых платформах\n",
    "\n",
    "ax = sales_by_platform_grouped.pivot_table(\n",
    "    index='year_of_release',\n",
    "    columns='platform',\n",
    "    values='total_sales',\n",
    "    aggfunc='sum'\n",
    ").plot(figsize=(13, 8), title=\"Суммарные продажи по годам в разрезе платформ\")\n",
    "\n",
    "plt.xlabel('Название платформы, годы выпуска')\n",
    "plt.ylabel('Суммарые продажи, млн шт.')\n",
    "\n",
    "#выведем график на экран\n",
    "\n",
    "plt.show()"
   ]
  },
  {
   "cell_type": "code",
   "execution_count": 38,
   "metadata": {},
   "outputs": [
    {
     "data": {
      "image/png": "[encoded data removed]",
      "text/plain": [
       "<Figure size 936x576 with 1 Axes>"
      ]
     },
     "metadata": {
      "needs_background": "light"
     },
     "output_type": "display_data"
    }
   ],
   "source": [
    "# Код ревьюера\n",
    "\n",
    "ax = sales_by_platform_grouped.pivot_table(\n",
    "    index='year_of_release',\n",
    "    columns='platform',\n",
    "    values='total_sales',\n",
    "    aggfunc='sum'\n",
    ").plot(figsize=(13, 8), title=\"Суммарные продажи по годам в разрезе платформ\")\n",
    "\n",
    "plt.xlabel('Название платформы, годы выпуска')\n",
    "plt.ylabel('Суммарые продажи, млн шт.')\n",
    "\n",
    "plt.show()"
   ]
  },
  {
   "cell_type": "markdown",
   "metadata": {},
   "source": [
    "Проанализировав продажи по самым популярным продажам видно, что продажи игр на всех платформах пошли на резкий спад, начиная с 2013-2015 года, за исклюение РС, у которой наблюдается спад, но не такой резкий. Из графика также видно, что в среднем платформы находятся на пике популярности по 3-4 года. С этим вероятнее всего и связан спад продаж. Однако, необходимо рассчитать среднюю 'продолжительность жизни' платформы."
   ]
  },
  {
   "cell_type": "code",
   "execution_count": 39,
   "metadata": {},
   "outputs": [
    {
     "data": {
      "text/plain": [
       "13.0"
      ]
     },
     "execution_count": 39,
     "metadata": {},
     "output_type": "execute_result"
    }
   ],
   "source": [
    "#рассчитаем среднюю продолжительность жизни платформы\n",
    "\n",
    "platform_life_circle = (sales_by_platform_grouped.groupby('platform')['year_of_release']\\\n",
    "                        .max() - sales_by_platform_grouped.groupby('platform')['year_of_release']\\\n",
    "                        .min()).mean().round()\n",
    "\n",
    "#выведем полученный результат на экран\n",
    "\n",
    "platform_life_circle "
   ]
  },
  {
   "cell_type": "markdown",
   "metadata": {},
   "source": [
    "На мой взгляд, 13 лет - достаточно долго для жизни платформы, поэтому возьмем срок в 3 года, что в принципе и видно на линейном графике, построенном выше."
   ]
  },
  {
   "cell_type": "code",
   "execution_count": 40,
   "metadata": {},
   "outputs": [
    {
     "data": {
      "text/html": [
       "<div>\n",
       "<style scoped>\n",
       "    .dataframe tbody tr th:only-of-type {\n",
       "        vertical-align: middle;\n",
       "    }\n",
       "\n",
       "    .dataframe tbody tr th {\n",
       "        vertical-align: top;\n",
       "    }\n",
       "\n",
       "    .dataframe thead th {\n",
       "        text-align: right;\n",
       "    }\n",
       "</style>\n",
       "<table border=\"1\" class=\"dataframe\">\n",
       "  <thead>\n",
       "    <tr style=\"text-align: right;\">\n",
       "      <th></th>\n",
       "      <th>name</th>\n",
       "      <th>platform</th>\n",
       "      <th>year_of_release</th>\n",
       "      <th>genre</th>\n",
       "      <th>na_sales</th>\n",
       "      <th>eu_sales</th>\n",
       "      <th>jp_sales</th>\n",
       "      <th>other_sales</th>\n",
       "      <th>critic_score</th>\n",
       "      <th>user_score</th>\n",
       "      <th>rating</th>\n",
       "      <th>total_sales</th>\n",
       "    </tr>\n",
       "  </thead>\n",
       "  <tbody>\n",
       "    <tr>\n",
       "      <td>31</td>\n",
       "      <td>Call of Duty: Black Ops 3</td>\n",
       "      <td>PS4</td>\n",
       "      <td>2015</td>\n",
       "      <td>Shooter</td>\n",
       "      <td>6.03</td>\n",
       "      <td>5.86</td>\n",
       "      <td>0.36</td>\n",
       "      <td>2.38</td>\n",
       "      <td>0.0</td>\n",
       "      <td>0.0</td>\n",
       "      <td>unknown</td>\n",
       "      <td>12.25</td>\n",
       "    </tr>\n",
       "    <tr>\n",
       "      <td>33</td>\n",
       "      <td>Pokemon X/Pokemon Y</td>\n",
       "      <td>3DS</td>\n",
       "      <td>2013</td>\n",
       "      <td>Role-Playing</td>\n",
       "      <td>5.28</td>\n",
       "      <td>4.19</td>\n",
       "      <td>4.35</td>\n",
       "      <td>0.78</td>\n",
       "      <td>0.0</td>\n",
       "      <td>0.0</td>\n",
       "      <td>unknown</td>\n",
       "      <td>13.82</td>\n",
       "    </tr>\n",
       "    <tr>\n",
       "      <td>42</td>\n",
       "      <td>Grand Theft Auto V</td>\n",
       "      <td>PS4</td>\n",
       "      <td>2014</td>\n",
       "      <td>Action</td>\n",
       "      <td>3.96</td>\n",
       "      <td>6.31</td>\n",
       "      <td>0.38</td>\n",
       "      <td>1.97</td>\n",
       "      <td>97.0</td>\n",
       "      <td>8.3</td>\n",
       "      <td>M</td>\n",
       "      <td>10.65</td>\n",
       "    </tr>\n",
       "    <tr>\n",
       "      <td>47</td>\n",
       "      <td>Pokemon Omega Ruby/Pokemon Alpha Sapphire</td>\n",
       "      <td>3DS</td>\n",
       "      <td>2014</td>\n",
       "      <td>Role-Playing</td>\n",
       "      <td>4.35</td>\n",
       "      <td>3.49</td>\n",
       "      <td>3.10</td>\n",
       "      <td>0.74</td>\n",
       "      <td>0.0</td>\n",
       "      <td>0.0</td>\n",
       "      <td>unknown</td>\n",
       "      <td>10.94</td>\n",
       "    </tr>\n",
       "    <tr>\n",
       "      <td>77</td>\n",
       "      <td>FIFA 16</td>\n",
       "      <td>PS4</td>\n",
       "      <td>2015</td>\n",
       "      <td>Sports</td>\n",
       "      <td>1.12</td>\n",
       "      <td>6.12</td>\n",
       "      <td>0.06</td>\n",
       "      <td>1.28</td>\n",
       "      <td>82.0</td>\n",
       "      <td>4.3</td>\n",
       "      <td>E</td>\n",
       "      <td>7.30</td>\n",
       "    </tr>\n",
       "    <tr>\n",
       "      <td>87</td>\n",
       "      <td>Star Wars Battlefront (2015)</td>\n",
       "      <td>PS4</td>\n",
       "      <td>2015</td>\n",
       "      <td>Shooter</td>\n",
       "      <td>2.99</td>\n",
       "      <td>3.49</td>\n",
       "      <td>0.22</td>\n",
       "      <td>1.28</td>\n",
       "      <td>0.0</td>\n",
       "      <td>0.0</td>\n",
       "      <td>unknown</td>\n",
       "      <td>6.70</td>\n",
       "    </tr>\n",
       "    <tr>\n",
       "      <td>92</td>\n",
       "      <td>Call of Duty: Advanced Warfare</td>\n",
       "      <td>PS4</td>\n",
       "      <td>2014</td>\n",
       "      <td>Shooter</td>\n",
       "      <td>2.81</td>\n",
       "      <td>3.48</td>\n",
       "      <td>0.14</td>\n",
       "      <td>1.23</td>\n",
       "      <td>83.0</td>\n",
       "      <td>5.7</td>\n",
       "      <td>M</td>\n",
       "      <td>6.43</td>\n",
       "    </tr>\n",
       "    <tr>\n",
       "      <td>94</td>\n",
       "      <td>FIFA 17</td>\n",
       "      <td>PS4</td>\n",
       "      <td>2016</td>\n",
       "      <td>Sports</td>\n",
       "      <td>0.66</td>\n",
       "      <td>5.75</td>\n",
       "      <td>0.08</td>\n",
       "      <td>1.11</td>\n",
       "      <td>85.0</td>\n",
       "      <td>5.0</td>\n",
       "      <td>E</td>\n",
       "      <td>6.49</td>\n",
       "    </tr>\n",
       "    <tr>\n",
       "      <td>96</td>\n",
       "      <td>Super Smash Bros. for Wii U and 3DS</td>\n",
       "      <td>3DS</td>\n",
       "      <td>2014</td>\n",
       "      <td>Fighting</td>\n",
       "      <td>3.27</td>\n",
       "      <td>1.37</td>\n",
       "      <td>2.43</td>\n",
       "      <td>0.48</td>\n",
       "      <td>0.0</td>\n",
       "      <td>0.0</td>\n",
       "      <td>unknown</td>\n",
       "      <td>7.07</td>\n",
       "    </tr>\n",
       "    <tr>\n",
       "      <td>99</td>\n",
       "      <td>Call of Duty: Black Ops 3</td>\n",
       "      <td>XOne</td>\n",
       "      <td>2015</td>\n",
       "      <td>Shooter</td>\n",
       "      <td>4.59</td>\n",
       "      <td>2.11</td>\n",
       "      <td>0.01</td>\n",
       "      <td>0.68</td>\n",
       "      <td>0.0</td>\n",
       "      <td>0.0</td>\n",
       "      <td>unknown</td>\n",
       "      <td>6.71</td>\n",
       "    </tr>\n",
       "  </tbody>\n",
       "</table>\n",
       "</div>"
      ],
      "text/plain": [
       "                                         name platform  year_of_release  \\\n",
       "31                  Call of Duty: Black Ops 3      PS4             2015   \n",
       "33                        Pokemon X/Pokemon Y      3DS             2013   \n",
       "42                         Grand Theft Auto V      PS4             2014   \n",
       "47  Pokemon Omega Ruby/Pokemon Alpha Sapphire      3DS             2014   \n",
       "77                                    FIFA 16      PS4             2015   \n",
       "87               Star Wars Battlefront (2015)      PS4             2015   \n",
       "92             Call of Duty: Advanced Warfare      PS4             2014   \n",
       "94                                    FIFA 17      PS4             2016   \n",
       "96        Super Smash Bros. for Wii U and 3DS      3DS             2014   \n",
       "99                  Call of Duty: Black Ops 3     XOne             2015   \n",
       "\n",
       "           genre  na_sales  eu_sales  jp_sales  other_sales  critic_score  \\\n",
       "31       Shooter      6.03      5.86      0.36         2.38           0.0   \n",
       "33  Role-Playing      5.28      4.19      4.35         0.78           0.0   \n",
       "42        Action      3.96      6.31      0.38         1.97          97.0   \n",
       "47  Role-Playing      4.35      3.49      3.10         0.74           0.0   \n",
       "77        Sports      1.12      6.12      0.06         1.28          82.0   \n",
       "87       Shooter      2.99      3.49      0.22         1.28           0.0   \n",
       "92       Shooter      2.81      3.48      0.14         1.23          83.0   \n",
       "94        Sports      0.66      5.75      0.08         1.11          85.0   \n",
       "96      Fighting      3.27      1.37      2.43         0.48           0.0   \n",
       "99       Shooter      4.59      2.11      0.01         0.68           0.0   \n",
       "\n",
       "    user_score   rating  total_sales  \n",
       "31         0.0  unknown        12.25  \n",
       "33         0.0  unknown        13.82  \n",
       "42         8.3        M        10.65  \n",
       "47         0.0  unknown        10.94  \n",
       "77         4.3        E         7.30  \n",
       "87         0.0  unknown         6.70  \n",
       "92         5.7        M         6.43  \n",
       "94         5.0        E         6.49  \n",
       "96         0.0  unknown         7.07  \n",
       "99         0.0  unknown         6.71  "
      ]
     },
     "execution_count": 40,
     "metadata": {},
     "output_type": "execute_result"
    }
   ],
   "source": [
    "#сделаем срез для анализа с учетом года выпуска игр и самых популярных платформ. Результат сохраним\n",
    "#в новом датасете sales_top_three_platforms\n",
    "\n",
    "sales_top_platforms =  sales_by_platform_grouped\\\n",
    "                            .query('year_of_release >= 2013 and platform in @top_platforms')\n",
    "    \n",
    "#выведем первые 10 строк датасета на экран\n",
    "\n",
    "sales_top_platforms.head(10)"
   ]
  },
  {
   "cell_type": "markdown",
   "metadata": {},
   "source": [
    "Для того, чтобы изучить суммарные продажи по трем популярным платформам, построим график \"ящик с усами\"."
   ]
  },
  {
   "cell_type": "code",
   "execution_count": 41,
   "metadata": {},
   "outputs": [
    {
     "data": {
      "image/png": "[encoded data removed]",
      "text/plain": [
       "<Figure size 648x648 with 4 Axes>"
      ]
     },
     "metadata": {
      "needs_background": "light"
     },
     "output_type": "display_data"
    }
   ],
   "source": [
    "#построим график \"ящик с усами\" для трех популярных платформ\n",
    "\n",
    "sales_top_platforms.groupby('platform').boxplot(column = 'total_sales', figsize = (9,9))\n",
    "\n",
    "#выведем график на экран\n",
    "\n",
    "plt.show()"
   ]
  },
  {
   "cell_type": "markdown",
   "metadata": {},
   "source": [
    "График \"ящик с усами\" получился визуально не очень понятный для восприятия, однако можно отметить, что в случае всех трех платформ существуют аномальные значения суммарных продаж, т.е. выбросы. Для того, чтобы лучше изучить данные, посмотрим описательные статистики."
   ]
  },
  {
   "cell_type": "code",
   "execution_count": 42,
   "metadata": {},
   "outputs": [
    {
     "data": {
      "text/html": [
       "<div>\n",
       "<style scoped>\n",
       "    .dataframe tbody tr th:only-of-type {\n",
       "        vertical-align: middle;\n",
       "    }\n",
       "\n",
       "    .dataframe tbody tr th {\n",
       "        vertical-align: top;\n",
       "    }\n",
       "\n",
       "    .dataframe thead th {\n",
       "        text-align: right;\n",
       "    }\n",
       "</style>\n",
       "<table border=\"1\" class=\"dataframe\">\n",
       "  <thead>\n",
       "    <tr style=\"text-align: right;\">\n",
       "      <th></th>\n",
       "      <th>platform</th>\n",
       "      <th>count</th>\n",
       "      <th>mean</th>\n",
       "      <th>std</th>\n",
       "      <th>min</th>\n",
       "      <th>25%</th>\n",
       "      <th>50%</th>\n",
       "      <th>75%</th>\n",
       "      <th>max</th>\n",
       "    </tr>\n",
       "  </thead>\n",
       "  <tbody>\n",
       "    <tr>\n",
       "      <td>0</td>\n",
       "      <td>3DS</td>\n",
       "      <td>303.0</td>\n",
       "      <td>0.452046</td>\n",
       "      <td>1.307354</td>\n",
       "      <td>0.01</td>\n",
       "      <td>0.04</td>\n",
       "      <td>0.09</td>\n",
       "      <td>0.2650</td>\n",
       "      <td>13.82</td>\n",
       "    </tr>\n",
       "    <tr>\n",
       "      <td>1</td>\n",
       "      <td>PC</td>\n",
       "      <td>192.0</td>\n",
       "      <td>0.192865</td>\n",
       "      <td>0.320712</td>\n",
       "      <td>0.01</td>\n",
       "      <td>0.03</td>\n",
       "      <td>0.07</td>\n",
       "      <td>0.2100</td>\n",
       "      <td>2.82</td>\n",
       "    </tr>\n",
       "    <tr>\n",
       "      <td>2</td>\n",
       "      <td>PS4</td>\n",
       "      <td>392.0</td>\n",
       "      <td>0.678036</td>\n",
       "      <td>1.355221</td>\n",
       "      <td>0.01</td>\n",
       "      <td>0.05</td>\n",
       "      <td>0.17</td>\n",
       "      <td>0.6125</td>\n",
       "      <td>12.25</td>\n",
       "    </tr>\n",
       "    <tr>\n",
       "      <td>3</td>\n",
       "      <td>XOne</td>\n",
       "      <td>247.0</td>\n",
       "      <td>0.587247</td>\n",
       "      <td>0.942412</td>\n",
       "      <td>0.01</td>\n",
       "      <td>0.05</td>\n",
       "      <td>0.20</td>\n",
       "      <td>0.6250</td>\n",
       "      <td>6.71</td>\n",
       "    </tr>\n",
       "  </tbody>\n",
       "</table>\n",
       "</div>"
      ],
      "text/plain": [
       "  platform  count      mean       std   min   25%   50%     75%    max\n",
       "0      3DS  303.0  0.452046  1.307354  0.01  0.04  0.09  0.2650  13.82\n",
       "1       PC  192.0  0.192865  0.320712  0.01  0.03  0.07  0.2100   2.82\n",
       "2      PS4  392.0  0.678036  1.355221  0.01  0.05  0.17  0.6125  12.25\n",
       "3     XOne  247.0  0.587247  0.942412  0.01  0.05  0.20  0.6250   6.71"
      ]
     },
     "execution_count": 42,
     "metadata": {},
     "output_type": "execute_result"
    }
   ],
   "source": [
    "#посмотрим характеристики сцммарных продаж по платформам\n",
    "\n",
    "sales_top_platforms.groupby('platform')['total_sales'].describe().reset_index()"
   ]
  },
  {
   "cell_type": "markdown",
   "metadata": {},
   "source": [
    "Как мы видим, среднее значение по суммарным продажам платформ 3DS,PS4,XOne примерно одинаковое (0,45, 0,67 и 0,59 млн копийй соответственно).Отличительной особенностью данных является показатель стандартного отклонения по платформам 3DS и PS4, который значительно превышает значение этого показателя по двум другим платформам (1,31 и 1,36 млн копий соответственно). Это говорит о том, что значения суммарных продаж по этим платформам имеют более широкий разброс. \n",
    "\n",
    "В ходе проведения исследования нам необходимо найти зависимость между отзывами пользователей и критиков и суммарными продажами видеоигр в разрезе платформ."
   ]
  },
  {
   "cell_type": "code",
   "execution_count": 43,
   "metadata": {},
   "outputs": [
    {
     "data": {
      "image/png": "[encoded data removed]",
      "text/plain": [
       "<Figure size 648x648 with 1 Axes>"
      ]
     },
     "metadata": {
      "needs_background": "light"
     },
     "output_type": "display_data"
    }
   ],
   "source": [
    "#сделаем срез данных по платформе PS4. Исключим нудевые оценки пользователей и критиков из среза\n",
    "\n",
    "sales_ps4 = sales_top_platforms.query('platform == \"PS4\" and user_score !=0 and critic_score !=0')\n",
    "\n",
    "#построим диаграмму рассеяния зависимости отзывов пользователей на продажу игр на платформе PC\n",
    "\n",
    "sales_ps4.plot(kind = 'scatter', x = 'user_score', y = 'total_sales', figsize=(9,9), #зададим все необходимые параметры\n",
    "          alpha = 0.7, title = 'Влияние отзывов пользователей на продажу игр на платформе PS4')\n",
    "     \n",
    "\n",
    "\n",
    "plt.xlabel('Отзывы пользователей'), #добавим полписи осей\n",
    "plt.ylabel('Суммарые продажи, млн шт.'),\n",
    "plt.xticks(rotation = 90) #добавим угол наклона подписей по оси х\n",
    "\n",
    "#выведем график на экран\n",
    "\n",
    "plt.show()"
   ]
  },
  {
   "cell_type": "markdown",
   "metadata": {},
   "source": [
    "Из графика мы видим, что большинство значений суммарных продаж стремится к нулю. Корреляция между отзывами пользователей и продажами видеоигр слабая, однако это можно подтвердить рассчитав коэффициент корреляции. Стоит помнить о том, что у нас было большое количество пропущенных значений в столбце со значениями оценок пользователей, что также могло сказаться на результате анализа этого показателя. "
   ]
  },
  {
   "cell_type": "code",
   "execution_count": 44,
   "metadata": {},
   "outputs": [
    {
     "name": "stdout",
     "output_type": "stream",
     "text": [
      "Коэффициент корреляции между отзывами пользователей и продажами игр на платформе PS4: -0.03\n"
     ]
    }
   ],
   "source": [
    "#посчитаем коэффициент корреляции между отзывами пользователей и суммарными продажами видеоигр на \n",
    "#платформе PS4\n",
    "\n",
    "print('Коэффициент корреляции между отзывами пользователей и продажами игр на платформе PS4:',sales_ps4['total_sales'].corr(sales_ps4['user_score']).round(2))"
   ]
  },
  {
   "cell_type": "markdown",
   "metadata": {},
   "source": [
    "Как и следовало ожидать, корреляция между отзывами пользователей и суммарными продажами видеоигр на \n",
    "платформе PC слабая."
   ]
  },
  {
   "cell_type": "code",
   "execution_count": 45,
   "metadata": {},
   "outputs": [
    {
     "data": {
      "image/png": "[encoded data removed]",
      "text/plain": [
       "<Figure size 648x648 with 1 Axes>"
      ]
     },
     "metadata": {
      "needs_background": "light"
     },
     "output_type": "display_data"
    }
   ],
   "source": [
    "#построим диаграмму рассеяния зависимости отзывов критиков на продажу игр на платформе PS4\n",
    "\n",
    "sales_ps4.plot(kind = 'scatter', x = 'critic_score', y = 'total_sales', #зададим все необходимые параметры\n",
    "                                       figsize=(9,9), alpha = 0.7, \n",
    "                                       title = 'Влияние отзывов критиков на продажу игр на платформе PS4')\n",
    "     \n",
    "\n",
    "\n",
    "plt.xlabel('Отзывы критиков'), #добавим подписи осей\n",
    "plt.ylabel('Суммарые продажи, млн шт.'),\n",
    "plt.xticks(rotation = 90) #добавим угол наклона подписей по оси х\n",
    "\n",
    "#выведем график на экран\n",
    "\n",
    "plt.show()"
   ]
  },
  {
   "cell_type": "markdown",
   "metadata": {},
   "source": [
    "Из графика видно, что ситуация с отзывами критиков аналогична той, что сложилась с отзывами пользователей: корреляция будет слабой. Посчитаем коэффициент корреляции."
   ]
  },
  {
   "cell_type": "code",
   "execution_count": 46,
   "metadata": {},
   "outputs": [
    {
     "name": "stdout",
     "output_type": "stream",
     "text": [
      "Коэффициент корреляции между отзывами критиков и продажами игр на платформе PS4: 0.41\n"
     ]
    }
   ],
   "source": [
    "#посчитаем коэффициент корреляции между отзывами критиков и суммарными продажами видеоигр на \n",
    "#платформе PS4\n",
    "\n",
    "print('Коэффициент корреляции между отзывами критиков и продажами игр на платформе PS4:',sales_ps4['total_sales'].corr(sales_ps4['critic_score']).round(2))"
   ]
  },
  {
   "cell_type": "markdown",
   "metadata": {},
   "source": [
    "Как и ожидалось, взасимосвязь отзывов критиков и суммарных продаж на платформе PS4 слабая, но в отличии от корреляции суммарных продаж и отзывов пользователей, она положительная.\n",
    "В ходе исследования необходимо проверить, как отзывы пользователей и критиков влияют на продажи видеоигр на других платформах, поскольку ситуация с продажами на платформе PS4 может быть исключительной."
   ]
  },
  {
   "cell_type": "code",
   "execution_count": 47,
   "metadata": {},
   "outputs": [
    {
     "data": {
      "image/png": "[encoded data removed]",
      "text/plain": [
       "<Figure size 648x648 with 1 Axes>"
      ]
     },
     "metadata": {
      "needs_background": "light"
     },
     "output_type": "display_data"
    }
   ],
   "source": [
    "#сделаем срез данных по платфрме XOne. Исключим из анализа нулевые значения рейтингов\n",
    "\n",
    "sales_xone = sales_top_platforms.query('platform == \"XOne\" and user_score !=0 and critic_score !=0')\n",
    "\n",
    "#построим диаграмму рассеяния зависимости отзывов пользователей на продажу игр на платформе XOne\n",
    "\n",
    "sales_xone.plot(kind = 'scatter', x = 'user_score', y = 'total_sales', figsize=(9,9), #зададим все необходимые параметры\n",
    "          alpha = 0.7, title = 'Влияние отзывов пользователей на продажу игр на платформе XOne')\n",
    "     \n",
    "\n",
    "\n",
    "plt.xlabel('Отзывы пользователей'), #добавим подписи осей\n",
    "plt.ylabel('Суммарые продажи, млн шт.'),\n",
    "plt.xticks(rotation = 90) #добавим угол наклона подписей на оси х\n",
    "\n",
    "#выведем график на экран\n",
    "\n",
    "plt.show()"
   ]
  },
  {
   "cell_type": "code",
   "execution_count": 48,
   "metadata": {},
   "outputs": [
    {
     "name": "stdout",
     "output_type": "stream",
     "text": [
      "Коэффициент корреляции между отзывами пользователей и продажами игр на платформе XOne: -0.09\n"
     ]
    }
   ],
   "source": [
    "#посчитаем коэффициент корреляции между отзывами пользователей и суммарными продажами видеоигр на \n",
    "#платформе XOne\n",
    "\n",
    "print('Коэффициент корреляции между отзывами пользователей и продажами игр на платформе XOne:',sales_xone['total_sales'].corr(sales_xone['user_score']).round(2))"
   ]
  },
  {
   "cell_type": "markdown",
   "metadata": {},
   "source": [
    "Как мы видим из визуализированных данных и коэффициента корреляции, зависимость между отзывами пользователей и суммарными продажами видеоигр на платформе XOne ниже, чем на платформе PS4, но также отрицательна и составляет всего -0,09."
   ]
  },
  {
   "cell_type": "code",
   "execution_count": 49,
   "metadata": {},
   "outputs": [
    {
     "data": {
      "image/png": "[encoded data removed]",
      "text/plain": [
       "<Figure size 648x648 with 1 Axes>"
      ]
     },
     "metadata": {
      "needs_background": "light"
     },
     "output_type": "display_data"
    }
   ],
   "source": [
    "#построим диаграмму рассеяния зависимости отзывов критиков на продажу игр на платформе XOne\n",
    "\n",
    "sales_xone.plot(kind = 'scatter', x = 'critic_score', y = 'total_sales', figsize=(9,9), #зададим все необходимые параметры\n",
    "          alpha = 0.7, title = 'Влияние отзывов критиков на продажу игр на платформе XOne')\n",
    "     \n",
    "\n",
    "\n",
    "plt.xlabel('Отзывы критиков'), #добавим подписи осей\n",
    "plt.ylabel('Суммарые продажи, млн шт.'),\n",
    "plt.xticks(rotation = 90) #добавим угол наклона подписей на оси х\n",
    "\n",
    "#выведем график на экран\n",
    "\n",
    "plt.show()"
   ]
  },
  {
   "cell_type": "code",
   "execution_count": 50,
   "metadata": {},
   "outputs": [
    {
     "name": "stdout",
     "output_type": "stream",
     "text": [
      "Коэффициент корреляции между отзывами критиков и продажами игр на платформе XOne: 0.41\n"
     ]
    }
   ],
   "source": [
    "#посчитаем коэффициент корреляции между отзывами критиков и суммарными продажами видеоигр на \n",
    "#платформе XOne\n",
    "\n",
    "print('Коэффициент корреляции между отзывами критиков и продажами игр на платформе XOne:',sales_xone['total_sales'].corr(sales_xone['critic_score']).round(2))"
   ]
  },
  {
   "cell_type": "markdown",
   "metadata": {},
   "source": [
    "Из данных графика и значения коэффициента корреляции видно, что зависимость отзывов критиков и суммарных продаж слабая."
   ]
  },
  {
   "cell_type": "code",
   "execution_count": 51,
   "metadata": {},
   "outputs": [
    {
     "data": {
      "image/png": "[encoded data removed]",
      "text/plain": [
       "<Figure size 648x648 with 1 Axes>"
      ]
     },
     "metadata": {
      "needs_background": "light"
     },
     "output_type": "display_data"
    }
   ],
   "source": [
    "#сделаем срез данных по платфрме PC. Исключим нулевые значения рейтингов\n",
    "\n",
    "sales_pc = sales_top_platforms.query('platform == \"PC\" and user_score !=0 and critic_score !=0')\n",
    "\n",
    "#построим диаграмму рассеяния зависимости отзывов пользователей на продажу игр на платформе PC\n",
    "\n",
    "sales_pc.plot(kind = 'scatter', x = 'user_score', y = 'total_sales', figsize=(9,9), #зададим все необходимые параметры\n",
    "          alpha = 0.7, title = 'Влияние отзывов пользователей на продажу игр на платформе PC')\n",
    "     \n",
    "\n",
    "\n",
    "plt.xlabel('Отзывы пользователей'), #добавим подписи осей\n",
    "plt.ylabel('Суммарые продажи, млн шт.'),\n",
    "plt.xticks(rotation = 90) #добавим угол наклона по оси х\n",
    "\n",
    "#выведем график на экран\n",
    "\n",
    "plt.show()"
   ]
  },
  {
   "cell_type": "code",
   "execution_count": 52,
   "metadata": {},
   "outputs": [
    {
     "name": "stdout",
     "output_type": "stream",
     "text": [
      "Коэффициент корреляции между отзывами пользователей и продажами игр на платформе PC: -0.1\n"
     ]
    }
   ],
   "source": [
    "#посчитаем коэффициент корреляции между отзывами пользователей и суммарными продажами видеоигр на \n",
    "#платформе PC\n",
    "\n",
    "print('Коэффициент корреляции между отзывами пользователей и продажами игр на платформе PC:',sales_pc['total_sales'].corr(sales_pc['user_score']).round(2))"
   ]
  },
  {
   "cell_type": "markdown",
   "metadata": {},
   "source": [
    "Из данных графика и значения коэффициента корреляции видно, что зависимость отзывов пользователей и суммарных продаж слабая. Возможно, это связано с нелийненым характером зависимости."
   ]
  },
  {
   "cell_type": "code",
   "execution_count": 53,
   "metadata": {},
   "outputs": [
    {
     "data": {
      "image/png": "[encoded data removed]",
      "text/plain": [
       "<Figure size 648x648 with 1 Axes>"
      ]
     },
     "metadata": {
      "needs_background": "light"
     },
     "output_type": "display_data"
    }
   ],
   "source": [
    "#построим диаграмму рассеяния зависимости отзывов критиков на продажу игр на платформе PC\n",
    "\n",
    "sales_pc.plot(kind = 'scatter', x = 'critic_score', y = 'total_sales', figsize=(9,9), #зададим все необходимые параметры\n",
    "          alpha = 0.7, title = 'Влияние отзывов критиков на продажу игр на платформе PC')\n",
    "     \n",
    "\n",
    "\n",
    "plt.xlabel('Отзывы критиков'), #добавим подписи осей\n",
    "plt.ylabel('Суммарые продажи, млн шт.'),\n",
    "plt.xticks(rotation = 90) #добавим угол наклона по оси х\n",
    "\n",
    "#выведем график на экран\n",
    "\n",
    "plt.show()"
   ]
  },
  {
   "cell_type": "code",
   "execution_count": 54,
   "metadata": {},
   "outputs": [
    {
     "name": "stdout",
     "output_type": "stream",
     "text": [
      "Коэффициент корреляции между отзывами критиков и продажами игр на платформе PC: 0.2\n"
     ]
    }
   ],
   "source": [
    "#посчитаем коэффициент корреляции между отзывами критиков и суммарными продажами видеоигр на \n",
    "#платформе PC\n",
    "\n",
    "print('Коэффициент корреляции между отзывами критиков и продажами игр на платформе PC:',sales_pc['total_sales'].corr(sales_pc['critic_score']).round(2))"
   ]
  },
  {
   "cell_type": "code",
   "execution_count": 55,
   "metadata": {},
   "outputs": [
    {
     "data": {
      "image/png": "[encoded data removed]",
      "text/plain": [
       "<Figure size 648x648 with 1 Axes>"
      ]
     },
     "metadata": {
      "needs_background": "light"
     },
     "output_type": "display_data"
    }
   ],
   "source": [
    "#сделаем срез данных по платфрме 3DS. Исключим нулевые значения рейтингов\n",
    "\n",
    "sales_3ds = sales_top_platforms.query('platform == \"3DS\" and user_score !=0 and critic_score !=0')\n",
    "\n",
    "#построим диаграмму рассеяния зависимости отзывов пользователей на продажу игр на платформе PC\n",
    "\n",
    "sales_3ds.plot(kind = 'scatter', x = 'user_score', y = 'total_sales', figsize=(9,9), #зададим все необходимые параметры\n",
    "          alpha = 0.7, title = 'Влияние отзывов пользователей на продажу игр на платформе 3DS')\n",
    "     \n",
    "\n",
    "\n",
    "plt.xlabel('Отзывы пользователей'), #добавим подписи осей\n",
    "plt.ylabel('Суммарые продажи, млн шт.'),\n",
    "plt.xticks(rotation = 90) #добавим угол наклона по оси х\n",
    "\n",
    "#выведем график на экран\n",
    "\n",
    "plt.show()"
   ]
  },
  {
   "cell_type": "code",
   "execution_count": 56,
   "metadata": {},
   "outputs": [
    {
     "name": "stdout",
     "output_type": "stream",
     "text": [
      "Коэффициент корреляции между отзывами пользователей и продажами игр на платформе 3DS: 0.27\n"
     ]
    }
   ],
   "source": [
    "#посчитаем коэффициент корреляции между отзывами пользователей и суммарными продажами видеоигр на \n",
    "#платформе 3DS\n",
    "\n",
    "print('Коэффициент корреляции между отзывами пользователей и продажами игр на платформе 3DS:',sales_3ds['total_sales'].corr(sales_3ds['user_score']).round(2))"
   ]
  },
  {
   "cell_type": "code",
   "execution_count": 57,
   "metadata": {},
   "outputs": [
    {
     "data": {
      "image/png": "[encoded data removed]",
      "text/plain": [
       "<Figure size 648x648 with 1 Axes>"
      ]
     },
     "metadata": {
      "needs_background": "light"
     },
     "output_type": "display_data"
    }
   ],
   "source": [
    "#построим диаграмму рассеяния зависимости отзывов критиков на продажу игр на платформе PC\n",
    "\n",
    "sales_3ds.plot(kind = 'scatter', x = 'critic_score', y = 'total_sales', figsize=(9,9), #зададим все необходимые параметры\n",
    "          alpha = 0.7, title = 'Влияние отзывов критиков на продажу игр на платформе 3DS')\n",
    "     \n",
    "\n",
    "\n",
    "plt.xlabel('Отзывы критиков'), #добавим подписи осей\n",
    "plt.ylabel('Суммарые продажи, млн шт.'),\n",
    "plt.xticks(rotation = 90) #добавим угол наклона по оси х\n",
    "\n",
    "#выведем график на экран\n",
    "\n",
    "plt.show()"
   ]
  },
  {
   "cell_type": "code",
   "execution_count": 58,
   "metadata": {},
   "outputs": [
    {
     "name": "stdout",
     "output_type": "stream",
     "text": [
      "Коэффициент корреляции между отзывами критиков и продажами игр на платформе 3DS: 0.34\n"
     ]
    }
   ],
   "source": [
    "#посчитаем коэффициент корреляции между отзывами критиков и суммарными продажами видеоигр на \n",
    "#платформе 3DS\n",
    "\n",
    "print('Коэффициент корреляции между отзывами критиков и продажами игр на платформе 3DS:',sales_3ds['total_sales'].corr(sales_3ds['critic_score']).round(2))"
   ]
  },
  {
   "cell_type": "markdown",
   "metadata": {},
   "source": [
    "Из данных графика и значения коэффициента корреляции видно, что зависимость отзывов критиков и суммарных продаж слабая. Возможно, это связано с нелийненым характером зависимости и для изучения взаимосвязи этих двух показателей необходимо использовать другие методы анализа.\n",
    "\n",
    "В ходе анализа изучим зависимость жанров на суммарные продажи видеоигр."
   ]
  },
  {
   "cell_type": "code",
   "execution_count": 59,
   "metadata": {},
   "outputs": [
    {
     "name": "stderr",
     "output_type": "stream",
     "text": [
      "/opt/conda/lib/python3.7/site-packages/ipykernel_launcher.py:5: FutureWarning: using a dict on a Series for aggregation\n",
      "is deprecated and will be removed in a future version. Use                 named aggregation instead.\n",
      "\n",
      "    >>> grouper.agg(name_1=func_1, name_2=func_2)\n",
      "\n",
      "  \"\"\"\n"
     ]
    },
    {
     "data": {
      "text/html": [
       "<div>\n",
       "<style scoped>\n",
       "    .dataframe tbody tr th:only-of-type {\n",
       "        vertical-align: middle;\n",
       "    }\n",
       "\n",
       "    .dataframe tbody tr th {\n",
       "        vertical-align: top;\n",
       "    }\n",
       "\n",
       "    .dataframe thead th {\n",
       "        text-align: right;\n",
       "    }\n",
       "</style>\n",
       "<table border=\"1\" class=\"dataframe\">\n",
       "  <thead>\n",
       "    <tr style=\"text-align: right;\">\n",
       "      <th></th>\n",
       "      <th>genre</th>\n",
       "      <th>total_sales</th>\n",
       "    </tr>\n",
       "  </thead>\n",
       "  <tbody>\n",
       "    <tr>\n",
       "      <td>0</td>\n",
       "      <td>Action</td>\n",
       "      <td>155.42</td>\n",
       "    </tr>\n",
       "    <tr>\n",
       "      <td>1</td>\n",
       "      <td>Shooter</td>\n",
       "      <td>138.56</td>\n",
       "    </tr>\n",
       "    <tr>\n",
       "      <td>2</td>\n",
       "      <td>Role-Playing</td>\n",
       "      <td>103.49</td>\n",
       "    </tr>\n",
       "    <tr>\n",
       "      <td>3</td>\n",
       "      <td>Sports</td>\n",
       "      <td>74.69</td>\n",
       "    </tr>\n",
       "    <tr>\n",
       "      <td>4</td>\n",
       "      <td>Misc</td>\n",
       "      <td>21.19</td>\n",
       "    </tr>\n",
       "    <tr>\n",
       "      <td>5</td>\n",
       "      <td>Racing</td>\n",
       "      <td>20.22</td>\n",
       "    </tr>\n",
       "    <tr>\n",
       "      <td>6</td>\n",
       "      <td>Simulation</td>\n",
       "      <td>18.31</td>\n",
       "    </tr>\n",
       "    <tr>\n",
       "      <td>7</td>\n",
       "      <td>Fighting</td>\n",
       "      <td>17.33</td>\n",
       "    </tr>\n",
       "    <tr>\n",
       "      <td>8</td>\n",
       "      <td>Platform</td>\n",
       "      <td>15.66</td>\n",
       "    </tr>\n",
       "    <tr>\n",
       "      <td>9</td>\n",
       "      <td>Adventure</td>\n",
       "      <td>11.56</td>\n",
       "    </tr>\n",
       "    <tr>\n",
       "      <td>10</td>\n",
       "      <td>Strategy</td>\n",
       "      <td>6.72</td>\n",
       "    </tr>\n",
       "    <tr>\n",
       "      <td>11</td>\n",
       "      <td>Puzzle</td>\n",
       "      <td>1.69</td>\n",
       "    </tr>\n",
       "  </tbody>\n",
       "</table>\n",
       "</div>"
      ],
      "text/plain": [
       "           genre  total_sales\n",
       "0         Action       155.42\n",
       "1        Shooter       138.56\n",
       "2   Role-Playing       103.49\n",
       "3         Sports        74.69\n",
       "4           Misc        21.19\n",
       "5         Racing        20.22\n",
       "6     Simulation        18.31\n",
       "7       Fighting        17.33\n",
       "8       Platform        15.66\n",
       "9      Adventure        11.56\n",
       "10      Strategy         6.72\n",
       "11        Puzzle         1.69"
      ]
     },
     "execution_count": 59,
     "metadata": {},
     "output_type": "execute_result"
    }
   ],
   "source": [
    "#сгруппируем данные по суммарным продажам по жанрам, рассчитаем суммарные продажи по жанрам,\n",
    "#отсортируем полученный показатель в порядке убывания и сохраним результат в датасет total_sales_by_genres\n",
    "\n",
    "total_sales_by_genres = sales_top_platforms.groupby('genre')['total_sales']\\\n",
    "                        .agg({'total_sales':'sum'}).sort_values(by='total_sales',\\\n",
    "                                                                ascending = False).reset_index()\n",
    "#выведем датасет на экран\n",
    "\n",
    "total_sales_by_genres"
   ]
  },
  {
   "cell_type": "code",
   "execution_count": 60,
   "metadata": {},
   "outputs": [
    {
     "data": {
      "image/png": "[encoded data removed]",
      "text/plain": [
       "<Figure size 648x648 with 1 Axes>"
      ]
     },
     "metadata": {
      "needs_background": "light"
     },
     "output_type": "display_data"
    }
   ],
   "source": [
    "#построим график распределения суммарных продаж по жанрам\n",
    "\n",
    "total_sales_by_genres.plot(kind = 'bar', x = 'genre', y = 'total_sales', grid = True, figsize=(9,9), \n",
    "          alpha = 0.7, title = 'Распределение видеоигр по жанрам') #зададим все необходимые параметры\n",
    "\n",
    "plt.xlabel('Жанры'), #добавим подписи осей\n",
    "plt.ylabel('Суммарые продажи, млн шт.'),\n",
    "plt.xticks(rotation = 90) #добавим угол наклона значений по оси х\n",
    "\n",
    "#выведем график на экран\n",
    "\n",
    "plt.show()"
   ]
  },
  {
   "cell_type": "markdown",
   "metadata": {},
   "source": [
    "Исходя из данных датасета и графика мы видим, что жанры влияют на продажи видеоигр. Самыми популярными сожно назвать 4 жанра: экшн, спортивные игры, шутеры и игры в жанре аркада (misc)."
   ]
  },
  {
   "cell_type": "markdown",
   "metadata": {},
   "source": [
    "### Вывод"
   ]
  },
  {
   "cell_type": "markdown",
   "metadata": {},
   "source": [
    "Изучив данные по суммарным продажам в разрезе платформ и года выпуска видеоигр можно сделать следующие выводы:\n",
    "\n",
    "1. На данный момент есть всего 4 платформы, которые потенциально прибыльны и популярны: PS4, XOne,PC и 3DS. Остальные платформы изжили себя: объем продаж игр на них либо стремится к нулю, либо вовсе прекращен;\n",
    "\n",
    "2. Средняя продолжительность \"жизни\" платформы - 3 года;\n",
    "\n",
    "3. Ни оценки пользователей, ни оценки критиков не оказывают большого влияния на рост или падение продаж видеоигр, чего нельзя сказать о жанрах. Самыми прибыльными жанрами являются: экшн, спорт, шутеры и аркада."
   ]
  },
  {
   "cell_type": "markdown",
   "metadata": {},
   "source": [
    "## Составление портета пользователя каждого региона"
   ]
  },
  {
   "cell_type": "markdown",
   "metadata": {},
   "source": [
    "Для выработки рекомендаций по повышению продаж видеоигр, необходимо составить некий \"портрет\" пользователя в зависимости от региона. Для начала изучим показатель суммарных продаж игр по регионам."
   ]
  },
  {
   "cell_type": "code",
   "execution_count": 61,
   "metadata": {},
   "outputs": [],
   "source": [
    "#посчитаем суммарное количество продаж в разрезе платформ и регионов, а также долю продаж\n",
    "\n",
    "def sales_by_region(colname_1: str, colname_2: str): #объявим функцию, зададим условия в теле функции\n",
    "    df = data.groupby(colname_1)[colname_2].agg({colname_2:'sum'}).sort_values(by = colname_2,ascending = False).reset_index()\n",
    "    df['%_sales'] = (data[colname_2]/data['total_sales']*100).round(2)\n",
    "    print(df.head()) #выведем результат работы функции на экран"
   ]
  },
  {
   "cell_type": "code",
   "execution_count": 62,
   "metadata": {},
   "outputs": [
    {
     "name": "stdout",
     "output_type": "stream",
     "text": [
      "  platform  na_sales  %_sales\n",
      "0     X360    599.15    55.82\n",
      "1      PS2    580.09    73.68\n",
      "2      Wii    494.01    48.65\n",
      "3      PS3    391.60    52.35\n",
      "4       DS    381.38    37.10\n"
     ]
    },
    {
     "name": "stderr",
     "output_type": "stream",
     "text": [
      "/opt/conda/lib/python3.7/site-packages/ipykernel_launcher.py:4: FutureWarning: using a dict on a Series for aggregation\n",
      "is deprecated and will be removed in a future version. Use                 named aggregation instead.\n",
      "\n",
      "    >>> grouper.agg(name_1=func_1, name_2=func_2)\n",
      "\n",
      "  after removing the cwd from sys.path.\n"
     ]
    }
   ],
   "source": [
    "#изучим продажи игр в Северной Америке\n",
    "\n",
    "sales_by_region('platform','na_sales')"
   ]
  },
  {
   "cell_type": "code",
   "execution_count": 63,
   "metadata": {},
   "outputs": [
    {
     "name": "stdout",
     "output_type": "stream",
     "text": [
      "  platform  eu_sales  %_sales\n",
      "0      PS2    337.05    39.09\n",
      "1      PS3    328.97     9.07\n",
      "2     X360    269.79    39.59\n",
      "3      Wii    261.48    36.65\n",
      "4       PS    212.39    29.26\n"
     ]
    },
    {
     "name": "stderr",
     "output_type": "stream",
     "text": [
      "/opt/conda/lib/python3.7/site-packages/ipykernel_launcher.py:4: FutureWarning: using a dict on a Series for aggregation\n",
      "is deprecated and will be removed in a future version. Use                 named aggregation instead.\n",
      "\n",
      "    >>> grouper.agg(name_1=func_1, name_2=func_2)\n",
      "\n",
      "  after removing the cwd from sys.path.\n"
     ]
    }
   ],
   "source": [
    "#изучим продажи игр в Европе\n",
    "\n",
    "sales_by_region('platform','eu_sales')"
   ]
  },
  {
   "cell_type": "code",
   "execution_count": 64,
   "metadata": {},
   "outputs": [
    {
     "name": "stdout",
     "output_type": "stream",
     "text": [
      "  platform  jp_sales  %_sales\n",
      "0       DS    175.02     5.09\n",
      "1       PS    139.78    17.25\n",
      "2      PS2    137.74    11.76\n",
      "3     SNES    116.55    11.00\n",
      "4      3DS    100.64    33.64\n"
     ]
    },
    {
     "name": "stderr",
     "output_type": "stream",
     "text": [
      "/opt/conda/lib/python3.7/site-packages/ipykernel_launcher.py:4: FutureWarning: using a dict on a Series for aggregation\n",
      "is deprecated and will be removed in a future version. Use                 named aggregation instead.\n",
      "\n",
      "    >>> grouper.agg(name_1=func_1, name_2=func_2)\n",
      "\n",
      "  after removing the cwd from sys.path.\n"
     ]
    }
   ],
   "source": [
    "#изучим продажи игр в Японии\n",
    "\n",
    "sales_by_region('platform','jp_sales')"
   ]
  },
  {
   "cell_type": "markdown",
   "metadata": {},
   "source": [
    "Из представленных данных видно, что в зависимости от региона, есть различия популярности платформ для игр, а именно:\n",
    "\n",
    "- для Северной Америки характерна популярность платформ X360 (599,15 млн проданных копий или 55,82% от всех проданных игр на этой платформе). Это неудивительно, поскольку платформа X360 является разработкой компании Microsoft. Вторая по популярности платформа - PS2 (580,09 млн проданных копий или 73,68% от всех проданных копий на этой платформе). Платформа PS2 частично также была разработана в Америке, чем можно объяснить ее популярность. Наименее популярными платформами являются: PS3, DS и Wii. Это объясняется тем, что PS3 вышла изначально в Японии и получила меньшее распространение в США, DS - это французская разработка, которая не актуальна на данный момент (продажи не ведутся с 2013 г.) и Wii - это разработка японской Nintendo преимущественно для азиатского рынка.\n",
    "\n",
    "- для Европы ситуация несколько похожа на ту, что сложилась в Северной Америке. самыми популярными платформами являются PS2 и X360 (337.05 млн проданных копий или 39,09% от общих продаж игр на платформе и 269,79 млн проданных копий или 39,59% от общих продаж игр на платформе соответственно). Наименее популярными платформами являются: PS (морально устарела) и PS3.\n",
    "\n",
    "- для Японии ситуация в корне отличается. Самыми популярными являются платформы DS и PS (175,02 млн проданных копий или 5,09% от всех проданных на платформе игр и 139,78 млн проданных копий или 17,25% от всех проданных игр на платформе соответстенно). Возможно влияние на такую популярностью относительно старых платформ оказывает консервативность японцев (считают старые платформы лучше новых версий), то, что платформа DS получила распространение в Японии позже, чем в Европе, а также, возможно, имеет значение предпочитаемые жанры игр, что мы проверим дальше. "
   ]
  },
  {
   "cell_type": "code",
   "execution_count": 65,
   "metadata": {},
   "outputs": [],
   "source": [
    "#изучим жанровые предпочтения пользователей в различных регионах\n",
    "\n",
    "def genres_by_region(colname_1: str, colname_2: str): #объявим функцию, зададим условие в теле функции\n",
    "    df = data.groupby(colname_1)[colname_2].agg({colname_2:'sum'}).sort_values(by = colname_2,ascending = False).reset_index()\n",
    "    print(df.head()) #выведем результат работы функции на экран"
   ]
  },
  {
   "cell_type": "code",
   "execution_count": 66,
   "metadata": {},
   "outputs": [
    {
     "name": "stdout",
     "output_type": "stream",
     "text": [
      "      genre  na_sales\n",
      "0    Action    873.70\n",
      "1    Sports    681.69\n",
      "2   Shooter    590.35\n",
      "3  Platform    444.44\n",
      "4      Misc    401.69\n"
     ]
    },
    {
     "name": "stderr",
     "output_type": "stream",
     "text": [
      "/opt/conda/lib/python3.7/site-packages/ipykernel_launcher.py:4: FutureWarning: using a dict on a Series for aggregation\n",
      "is deprecated and will be removed in a future version. Use                 named aggregation instead.\n",
      "\n",
      "    >>> grouper.agg(name_1=func_1, name_2=func_2)\n",
      "\n",
      "  after removing the cwd from sys.path.\n"
     ]
    }
   ],
   "source": [
    "#изучим жанровые предпочтения пользователей в Северной Америке\n",
    "\n",
    "genres_by_region('genre', 'na_sales')"
   ]
  },
  {
   "cell_type": "code",
   "execution_count": 67,
   "metadata": {},
   "outputs": [
    {
     "name": "stdout",
     "output_type": "stream",
     "text": [
      "     genre  eu_sales\n",
      "0   Action    517.58\n",
      "1   Sports    375.60\n",
      "2  Shooter    316.96\n",
      "3   Racing    235.47\n",
      "4     Misc    211.32\n"
     ]
    },
    {
     "name": "stderr",
     "output_type": "stream",
     "text": [
      "/opt/conda/lib/python3.7/site-packages/ipykernel_launcher.py:4: FutureWarning: using a dict on a Series for aggregation\n",
      "is deprecated and will be removed in a future version. Use                 named aggregation instead.\n",
      "\n",
      "    >>> grouper.agg(name_1=func_1, name_2=func_2)\n",
      "\n",
      "  after removing the cwd from sys.path.\n"
     ]
    }
   ],
   "source": [
    "#изучим жанровые предпочтения пользователей в Европе\n",
    "\n",
    "genres_by_region('genre', 'eu_sales')"
   ]
  },
  {
   "cell_type": "code",
   "execution_count": 68,
   "metadata": {},
   "outputs": [
    {
     "name": "stdout",
     "output_type": "stream",
     "text": [
      "          genre  jp_sales\n",
      "0  Role-Playing    353.88\n",
      "1        Action    160.15\n",
      "2        Sports    135.27\n",
      "3      Platform    130.71\n",
      "4          Misc    108.04\n"
     ]
    },
    {
     "name": "stderr",
     "output_type": "stream",
     "text": [
      "/opt/conda/lib/python3.7/site-packages/ipykernel_launcher.py:4: FutureWarning: using a dict on a Series for aggregation\n",
      "is deprecated and will be removed in a future version. Use                 named aggregation instead.\n",
      "\n",
      "    >>> grouper.agg(name_1=func_1, name_2=func_2)\n",
      "\n",
      "  after removing the cwd from sys.path.\n"
     ]
    }
   ],
   "source": [
    "#изучим жанровые предпочтения пользователей в Японии\n",
    "\n",
    "genres_by_region('genre', 'jp_sales')"
   ]
  },
  {
   "cell_type": "markdown",
   "metadata": {},
   "source": [
    "Исходя из полученных данных видно, что существуют различия в жанровых предпочтениях пользователей по регионам:\n",
    "\n",
    "1. В Америке самыми популярными жанрами являются: экшн, спортивные игры, шутеры, платформеры и аркада.\n",
    "\n",
    "2. В Европе топ-5 жанров похожи: экшн, спорт,шутеры,гонки и аркада.\n",
    "\n",
    "3. Предпочтения у японцев несколько отличаются и топ-5 составляют: ролевые игры, экшн, спорт, платформеры и аркада.\n",
    "\n",
    "Вероятнее всего, жанровые предпочтения зависят от культурных аспектов жизни и взглядов американцев, европейцев и японцев."
   ]
  },
  {
   "cell_type": "markdown",
   "metadata": {},
   "source": [
    "Изучим влияние рейтинга ESRB на продажи видеоигр."
   ]
  },
  {
   "cell_type": "code",
   "execution_count": 69,
   "metadata": {},
   "outputs": [],
   "source": [
    "#изучим влияние рейтинга ESRB в разрезе регионов\n",
    "\n",
    "def esrb_influence(colname_1: str, colname_2: str): #объявим функцию, зададим все необходимые параметры\n",
    "    df = data.groupby(colname_1)[colname_2].agg({colname_2:'sum'}).sort_values(by = colname_2,ascending = False).reset_index()\n",
    "    print(df) #выведем результат работы функции на экран"
   ]
  },
  {
   "cell_type": "code",
   "execution_count": 70,
   "metadata": {},
   "outputs": [
    {
     "name": "stderr",
     "output_type": "stream",
     "text": [
      "/opt/conda/lib/python3.7/site-packages/ipykernel_launcher.py:4: FutureWarning: using a dict on a Series for aggregation\n",
      "is deprecated and will be removed in a future version. Use                 named aggregation instead.\n",
      "\n",
      "    >>> grouper.agg(name_1=func_1, name_2=func_2)\n",
      "\n",
      "  after removing the cwd from sys.path.\n"
     ]
    },
    {
     "name": "stdout",
     "output_type": "stream",
     "text": [
      "    rating  na_sales\n",
      "0        E   1288.00\n",
      "1  unknown   1229.15\n",
      "2        T    751.26\n",
      "3        M    746.95\n",
      "4     E10+    352.56\n",
      "5      K-A      2.56\n",
      "6       EC      1.53\n",
      "7       AO      1.26\n",
      "8       RP      0.00\n"
     ]
    }
   ],
   "source": [
    "#изучим влияние рейтинга на пользователей из Северной Америки\n",
    "\n",
    "esrb_influence('rating', 'na_sales')"
   ]
  },
  {
   "cell_type": "code",
   "execution_count": 71,
   "metadata": {},
   "outputs": [
    {
     "name": "stderr",
     "output_type": "stream",
     "text": [
      "/opt/conda/lib/python3.7/site-packages/ipykernel_launcher.py:4: FutureWarning: using a dict on a Series for aggregation\n",
      "is deprecated and will be removed in a future version. Use                 named aggregation instead.\n",
      "\n",
      "    >>> grouper.agg(name_1=func_1, name_2=func_2)\n",
      "\n",
      "  after removing the cwd from sys.path.\n"
     ]
    },
    {
     "name": "stdout",
     "output_type": "stream",
     "text": [
      "    rating  eu_sales\n",
      "0        E    709.20\n",
      "1  unknown    610.40\n",
      "2        M    483.17\n",
      "3        T    423.56\n",
      "4     E10+    188.34\n",
      "5       AO      0.61\n",
      "6      K-A      0.27\n",
      "7       EC      0.11\n",
      "8       RP      0.04\n"
     ]
    }
   ],
   "source": [
    "#изучим влияние рейтинга на пользователей из Европы\n",
    "\n",
    "esrb_influence('rating', 'eu_sales')"
   ]
  },
  {
   "cell_type": "code",
   "execution_count": 72,
   "metadata": {
    "scrolled": true
   },
   "outputs": [
    {
     "name": "stderr",
     "output_type": "stream",
     "text": [
      "/opt/conda/lib/python3.7/site-packages/ipykernel_launcher.py:4: FutureWarning: using a dict on a Series for aggregation\n",
      "is deprecated and will be removed in a future version. Use                 named aggregation instead.\n",
      "\n",
      "    >>> grouper.agg(name_1=func_1, name_2=func_2)\n",
      "\n",
      "  after removing the cwd from sys.path.\n"
     ]
    },
    {
     "name": "stdout",
     "output_type": "stream",
     "text": [
      "    rating  jp_sales\n",
      "0  unknown    838.39\n",
      "1        E    198.02\n",
      "2        T    150.88\n",
      "3        M     63.61\n",
      "4     E10+     40.20\n",
      "5      K-A      1.46\n",
      "6       AO      0.00\n",
      "7       EC      0.00\n",
      "8       RP      0.00\n"
     ]
    }
   ],
   "source": [
    "#изучим влияние рейтинга на пользователей из Японии\n",
    "\n",
    "esrb_influence('rating', 'jp_sales')"
   ]
  },
  {
   "cell_type": "markdown",
   "metadata": {},
   "source": [
    "Изучив данные о влиянии рейтинга ESRB можно сделать следующие выводы:\n",
    "\n",
    "- на продажи игр в Америке рейтинг возможно влияет. Возможно, поскольку мы не знаем значения рейтинга 1229 млн проданных копий игр. Однако, остальные значения более 2-х тысяч имеют данные о рейтинге.\n",
    "\n",
    "- такая же ситуация с вилиянием рейтинга на продажи игр в Европе. Большая часть данных неизвестна, поэтому сложно сделать однозначный вывод о зависисмости продаж игр и рейтинга ESRB.\n",
    "\n",
    "- по пользователям Японии также невозможно сделать вывод о влиянии рейтинга из-за того, что большая часть данных неизвестна."
   ]
  },
  {
   "cell_type": "markdown",
   "metadata": {},
   "source": [
    "### Вывод"
   ]
  },
  {
   "cell_type": "markdown",
   "metadata": {},
   "source": [
    "Изучив поведение пользователей по регионам можно сказать следующее:\n",
    "    \n",
    "- \"портрет\" пользователя из Северной Америки выглядит так: пользователь любого возраста или подросток, предпочитающий игры в жанре экшн, спорт, шутер, платформер или аркада на платформах X360 или PS2.\n",
    "\n",
    "- \"портрет\" пользователя из Европы - это  пользователь любого возраста или взрослый, предпочитающий игры в жанре экшн, спорт, шутер, гонки или аркада на платформах PS2 или X360.\n",
    "\n",
    "- \"портрет\" пользователя из Японии: пользователь любого возраста, предпочитающий игры в жанре ролевые, экшн, спорт, платформер или аркада на платформах DS или PS."
   ]
  },
  {
   "cell_type": "markdown",
   "metadata": {},
   "source": [
    "## Проверка гипотез"
   ]
  },
  {
   "cell_type": "markdown",
   "metadata": {},
   "source": [
    "В ходе проведения исследования необходимо проверить две гипотезы:\n",
    "\n",
    "1. Средние пользовательские рейтинги платформ Xbox One и PC одинаковые;\n",
    "\n",
    "2. Средние пользовательские рейтинги жанров Action и Sports разные.\n",
    "\n",
    "Для проверки первой гипотезы сформулируем нулевую и альтернативную гипотезы:\n",
    "\n",
    "Н0: средние пользовательские рейтинги платформ XOne и PC равны.\n",
    "\n",
    "Н1: средние пользовательские рейтинги платформ XOne и PC не равны.\n",
    "\n",
    "Поскольку у нас представлены две независимые выборки данных, то будем использовать метод t-теста Стьюдента, который вернет нам разницу распределения значений средних показателей двух независимых выборок.\n",
    "\n",
    "Поскольку есть принятые допустимые уровни статистической значимости (5% и 1%), то выберем один из них, например, 5%."
   ]
  },
  {
   "cell_type": "code",
   "execution_count": 73,
   "metadata": {},
   "outputs": [
    {
     "data": {
      "text/html": [
       "<div>\n",
       "<style scoped>\n",
       "    .dataframe tbody tr th:only-of-type {\n",
       "        vertical-align: middle;\n",
       "    }\n",
       "\n",
       "    .dataframe tbody tr th {\n",
       "        vertical-align: top;\n",
       "    }\n",
       "\n",
       "    .dataframe thead th {\n",
       "        text-align: right;\n",
       "    }\n",
       "</style>\n",
       "<table border=\"1\" class=\"dataframe\">\n",
       "  <thead>\n",
       "    <tr style=\"text-align: right;\">\n",
       "      <th></th>\n",
       "      <th>name</th>\n",
       "      <th>platform</th>\n",
       "      <th>year_of_release</th>\n",
       "      <th>genre</th>\n",
       "      <th>na_sales</th>\n",
       "      <th>eu_sales</th>\n",
       "      <th>jp_sales</th>\n",
       "      <th>other_sales</th>\n",
       "      <th>critic_score</th>\n",
       "      <th>user_score</th>\n",
       "      <th>rating</th>\n",
       "      <th>total_sales</th>\n",
       "    </tr>\n",
       "  </thead>\n",
       "  <tbody>\n",
       "    <tr>\n",
       "      <td>99</td>\n",
       "      <td>Call of Duty: Black Ops 3</td>\n",
       "      <td>XOne</td>\n",
       "      <td>2015</td>\n",
       "      <td>Shooter</td>\n",
       "      <td>4.59</td>\n",
       "      <td>2.11</td>\n",
       "      <td>0.01</td>\n",
       "      <td>0.68</td>\n",
       "      <td>0.0</td>\n",
       "      <td>0.0</td>\n",
       "      <td>unknown</td>\n",
       "      <td>6.71</td>\n",
       "    </tr>\n",
       "    <tr>\n",
       "      <td>165</td>\n",
       "      <td>Grand Theft Auto V</td>\n",
       "      <td>XOne</td>\n",
       "      <td>2014</td>\n",
       "      <td>Action</td>\n",
       "      <td>2.81</td>\n",
       "      <td>2.19</td>\n",
       "      <td>0.00</td>\n",
       "      <td>0.47</td>\n",
       "      <td>97.0</td>\n",
       "      <td>7.9</td>\n",
       "      <td>M</td>\n",
       "      <td>5.00</td>\n",
       "    </tr>\n",
       "    <tr>\n",
       "      <td>179</td>\n",
       "      <td>Call of Duty: Advanced Warfare</td>\n",
       "      <td>XOne</td>\n",
       "      <td>2014</td>\n",
       "      <td>Shooter</td>\n",
       "      <td>3.22</td>\n",
       "      <td>1.55</td>\n",
       "      <td>0.01</td>\n",
       "      <td>0.48</td>\n",
       "      <td>81.0</td>\n",
       "      <td>5.4</td>\n",
       "      <td>M</td>\n",
       "      <td>4.78</td>\n",
       "    </tr>\n",
       "    <tr>\n",
       "      <td>242</td>\n",
       "      <td>Halo 5: Guardians</td>\n",
       "      <td>XOne</td>\n",
       "      <td>2015</td>\n",
       "      <td>Shooter</td>\n",
       "      <td>2.78</td>\n",
       "      <td>1.27</td>\n",
       "      <td>0.03</td>\n",
       "      <td>0.41</td>\n",
       "      <td>84.0</td>\n",
       "      <td>6.4</td>\n",
       "      <td>T</td>\n",
       "      <td>4.08</td>\n",
       "    </tr>\n",
       "    <tr>\n",
       "      <td>270</td>\n",
       "      <td>Fallout 4</td>\n",
       "      <td>XOne</td>\n",
       "      <td>2015</td>\n",
       "      <td>Role-Playing</td>\n",
       "      <td>2.51</td>\n",
       "      <td>1.32</td>\n",
       "      <td>0.01</td>\n",
       "      <td>0.38</td>\n",
       "      <td>88.0</td>\n",
       "      <td>6.2</td>\n",
       "      <td>M</td>\n",
       "      <td>3.84</td>\n",
       "    </tr>\n",
       "    <tr>\n",
       "      <td>342</td>\n",
       "      <td>Star Wars Battlefront (2015)</td>\n",
       "      <td>XOne</td>\n",
       "      <td>2015</td>\n",
       "      <td>Shooter</td>\n",
       "      <td>2.04</td>\n",
       "      <td>1.28</td>\n",
       "      <td>0.02</td>\n",
       "      <td>0.32</td>\n",
       "      <td>0.0</td>\n",
       "      <td>0.0</td>\n",
       "      <td>unknown</td>\n",
       "      <td>3.34</td>\n",
       "    </tr>\n",
       "    <tr>\n",
       "      <td>373</td>\n",
       "      <td>Assassin's Creed: Unity</td>\n",
       "      <td>XOne</td>\n",
       "      <td>2014</td>\n",
       "      <td>Action</td>\n",
       "      <td>2.27</td>\n",
       "      <td>0.90</td>\n",
       "      <td>0.00</td>\n",
       "      <td>0.33</td>\n",
       "      <td>72.0</td>\n",
       "      <td>4.1</td>\n",
       "      <td>M</td>\n",
       "      <td>3.17</td>\n",
       "    </tr>\n",
       "    <tr>\n",
       "      <td>398</td>\n",
       "      <td>Destiny</td>\n",
       "      <td>XOne</td>\n",
       "      <td>2014</td>\n",
       "      <td>Shooter</td>\n",
       "      <td>2.14</td>\n",
       "      <td>0.92</td>\n",
       "      <td>0.00</td>\n",
       "      <td>0.31</td>\n",
       "      <td>75.0</td>\n",
       "      <td>5.5</td>\n",
       "      <td>T</td>\n",
       "      <td>3.06</td>\n",
       "    </tr>\n",
       "    <tr>\n",
       "      <td>413</td>\n",
       "      <td>Gears of War: Ultimate Edition</td>\n",
       "      <td>XOne</td>\n",
       "      <td>2015</td>\n",
       "      <td>Shooter</td>\n",
       "      <td>2.61</td>\n",
       "      <td>0.33</td>\n",
       "      <td>0.00</td>\n",
       "      <td>0.34</td>\n",
       "      <td>82.0</td>\n",
       "      <td>7.5</td>\n",
       "      <td>M</td>\n",
       "      <td>2.94</td>\n",
       "    </tr>\n",
       "    <tr>\n",
       "      <td>417</td>\n",
       "      <td>FIFA 16</td>\n",
       "      <td>XOne</td>\n",
       "      <td>2015</td>\n",
       "      <td>Sports</td>\n",
       "      <td>0.89</td>\n",
       "      <td>2.12</td>\n",
       "      <td>0.00</td>\n",
       "      <td>0.24</td>\n",
       "      <td>84.0</td>\n",
       "      <td>4.4</td>\n",
       "      <td>E</td>\n",
       "      <td>3.01</td>\n",
       "    </tr>\n",
       "  </tbody>\n",
       "</table>\n",
       "</div>"
      ],
      "text/plain": [
       "                               name platform  year_of_release         genre  \\\n",
       "99        Call of Duty: Black Ops 3     XOne             2015       Shooter   \n",
       "165              Grand Theft Auto V     XOne             2014        Action   \n",
       "179  Call of Duty: Advanced Warfare     XOne             2014       Shooter   \n",
       "242               Halo 5: Guardians     XOne             2015       Shooter   \n",
       "270                       Fallout 4     XOne             2015  Role-Playing   \n",
       "342    Star Wars Battlefront (2015)     XOne             2015       Shooter   \n",
       "373         Assassin's Creed: Unity     XOne             2014        Action   \n",
       "398                         Destiny     XOne             2014       Shooter   \n",
       "413  Gears of War: Ultimate Edition     XOne             2015       Shooter   \n",
       "417                         FIFA 16     XOne             2015        Sports   \n",
       "\n",
       "     na_sales  eu_sales  jp_sales  other_sales  critic_score  user_score  \\\n",
       "99       4.59      2.11      0.01         0.68           0.0         0.0   \n",
       "165      2.81      2.19      0.00         0.47          97.0         7.9   \n",
       "179      3.22      1.55      0.01         0.48          81.0         5.4   \n",
       "242      2.78      1.27      0.03         0.41          84.0         6.4   \n",
       "270      2.51      1.32      0.01         0.38          88.0         6.2   \n",
       "342      2.04      1.28      0.02         0.32           0.0         0.0   \n",
       "373      2.27      0.90      0.00         0.33          72.0         4.1   \n",
       "398      2.14      0.92      0.00         0.31          75.0         5.5   \n",
       "413      2.61      0.33      0.00         0.34          82.0         7.5   \n",
       "417      0.89      2.12      0.00         0.24          84.0         4.4   \n",
       "\n",
       "      rating  total_sales  \n",
       "99   unknown         6.71  \n",
       "165        M         5.00  \n",
       "179        M         4.78  \n",
       "242        T         4.08  \n",
       "270        M         3.84  \n",
       "342  unknown         3.34  \n",
       "373        M         3.17  \n",
       "398        T         3.06  \n",
       "413        M         2.94  \n",
       "417        E         3.01  "
      ]
     },
     "execution_count": 73,
     "metadata": {},
     "output_type": "execute_result"
    }
   ],
   "source": [
    "#сформируем первую выбору по платформе XOne\n",
    "\n",
    "sample_1 = data.query('platform == \"XOne\"')\n",
    "\n",
    "#выведем первые 10 строк датасета на экран\n",
    "\n",
    "sample_1.head(10)"
   ]
  },
  {
   "cell_type": "code",
   "execution_count": 74,
   "metadata": {},
   "outputs": [
    {
     "data": {
      "text/html": [
       "<div>\n",
       "<style scoped>\n",
       "    .dataframe tbody tr th:only-of-type {\n",
       "        vertical-align: middle;\n",
       "    }\n",
       "\n",
       "    .dataframe tbody tr th {\n",
       "        vertical-align: top;\n",
       "    }\n",
       "\n",
       "    .dataframe thead th {\n",
       "        text-align: right;\n",
       "    }\n",
       "</style>\n",
       "<table border=\"1\" class=\"dataframe\">\n",
       "  <thead>\n",
       "    <tr style=\"text-align: right;\">\n",
       "      <th></th>\n",
       "      <th>name</th>\n",
       "      <th>platform</th>\n",
       "      <th>year_of_release</th>\n",
       "      <th>genre</th>\n",
       "      <th>na_sales</th>\n",
       "      <th>eu_sales</th>\n",
       "      <th>jp_sales</th>\n",
       "      <th>other_sales</th>\n",
       "      <th>critic_score</th>\n",
       "      <th>user_score</th>\n",
       "      <th>rating</th>\n",
       "      <th>total_sales</th>\n",
       "    </tr>\n",
       "  </thead>\n",
       "  <tbody>\n",
       "    <tr>\n",
       "      <td>85</td>\n",
       "      <td>The Sims 3</td>\n",
       "      <td>PC</td>\n",
       "      <td>2009</td>\n",
       "      <td>Simulation</td>\n",
       "      <td>0.99</td>\n",
       "      <td>6.42</td>\n",
       "      <td>0.00</td>\n",
       "      <td>0.60</td>\n",
       "      <td>86.0</td>\n",
       "      <td>7.6</td>\n",
       "      <td>T</td>\n",
       "      <td>7.41</td>\n",
       "    </tr>\n",
       "    <tr>\n",
       "      <td>138</td>\n",
       "      <td>World of Warcraft</td>\n",
       "      <td>PC</td>\n",
       "      <td>2004</td>\n",
       "      <td>Role-Playing</td>\n",
       "      <td>0.08</td>\n",
       "      <td>6.21</td>\n",
       "      <td>0.00</td>\n",
       "      <td>0.00</td>\n",
       "      <td>93.0</td>\n",
       "      <td>7.3</td>\n",
       "      <td>T</td>\n",
       "      <td>6.29</td>\n",
       "    </tr>\n",
       "    <tr>\n",
       "      <td>192</td>\n",
       "      <td>Diablo III</td>\n",
       "      <td>PC</td>\n",
       "      <td>2012</td>\n",
       "      <td>Role-Playing</td>\n",
       "      <td>2.44</td>\n",
       "      <td>2.16</td>\n",
       "      <td>0.00</td>\n",
       "      <td>0.54</td>\n",
       "      <td>88.0</td>\n",
       "      <td>4.0</td>\n",
       "      <td>M</td>\n",
       "      <td>4.60</td>\n",
       "    </tr>\n",
       "    <tr>\n",
       "      <td>195</td>\n",
       "      <td>Microsoft Flight Simulator</td>\n",
       "      <td>PC</td>\n",
       "      <td>1996</td>\n",
       "      <td>Simulation</td>\n",
       "      <td>3.22</td>\n",
       "      <td>1.69</td>\n",
       "      <td>0.00</td>\n",
       "      <td>0.20</td>\n",
       "      <td>0.0</td>\n",
       "      <td>0.0</td>\n",
       "      <td>unknown</td>\n",
       "      <td>4.91</td>\n",
       "    </tr>\n",
       "    <tr>\n",
       "      <td>218</td>\n",
       "      <td>StarCraft II: Wings of Liberty</td>\n",
       "      <td>PC</td>\n",
       "      <td>2010</td>\n",
       "      <td>Strategy</td>\n",
       "      <td>2.57</td>\n",
       "      <td>1.68</td>\n",
       "      <td>0.00</td>\n",
       "      <td>0.58</td>\n",
       "      <td>93.0</td>\n",
       "      <td>8.2</td>\n",
       "      <td>T</td>\n",
       "      <td>4.25</td>\n",
       "    </tr>\n",
       "    <tr>\n",
       "      <td>273</td>\n",
       "      <td>Warcraft II: Tides of Darkness</td>\n",
       "      <td>PC</td>\n",
       "      <td>1995</td>\n",
       "      <td>Strategy</td>\n",
       "      <td>1.70</td>\n",
       "      <td>2.27</td>\n",
       "      <td>0.00</td>\n",
       "      <td>0.23</td>\n",
       "      <td>0.0</td>\n",
       "      <td>0.0</td>\n",
       "      <td>unknown</td>\n",
       "      <td>3.97</td>\n",
       "    </tr>\n",
       "    <tr>\n",
       "      <td>284</td>\n",
       "      <td>Half-Life</td>\n",
       "      <td>PC</td>\n",
       "      <td>1997</td>\n",
       "      <td>Shooter</td>\n",
       "      <td>4.03</td>\n",
       "      <td>0.00</td>\n",
       "      <td>0.09</td>\n",
       "      <td>0.00</td>\n",
       "      <td>96.0</td>\n",
       "      <td>9.1</td>\n",
       "      <td>M</td>\n",
       "      <td>4.12</td>\n",
       "    </tr>\n",
       "    <tr>\n",
       "      <td>288</td>\n",
       "      <td>World of Warcraft: The Burning Crusade</td>\n",
       "      <td>PC</td>\n",
       "      <td>2007</td>\n",
       "      <td>Role-Playing</td>\n",
       "      <td>2.57</td>\n",
       "      <td>1.52</td>\n",
       "      <td>0.00</td>\n",
       "      <td>0.00</td>\n",
       "      <td>91.0</td>\n",
       "      <td>7.9</td>\n",
       "      <td>T</td>\n",
       "      <td>4.09</td>\n",
       "    </tr>\n",
       "    <tr>\n",
       "      <td>313</td>\n",
       "      <td>The Elder Scrolls V: Skyrim</td>\n",
       "      <td>PC</td>\n",
       "      <td>2011</td>\n",
       "      <td>Role-Playing</td>\n",
       "      <td>1.16</td>\n",
       "      <td>2.12</td>\n",
       "      <td>0.00</td>\n",
       "      <td>0.60</td>\n",
       "      <td>94.0</td>\n",
       "      <td>8.1</td>\n",
       "      <td>M</td>\n",
       "      <td>3.28</td>\n",
       "    </tr>\n",
       "    <tr>\n",
       "      <td>330</td>\n",
       "      <td>The Sims: Unleashed</td>\n",
       "      <td>PC</td>\n",
       "      <td>2002</td>\n",
       "      <td>Simulation</td>\n",
       "      <td>2.03</td>\n",
       "      <td>1.56</td>\n",
       "      <td>0.00</td>\n",
       "      <td>0.17</td>\n",
       "      <td>79.0</td>\n",
       "      <td>8.0</td>\n",
       "      <td>T</td>\n",
       "      <td>3.59</td>\n",
       "    </tr>\n",
       "  </tbody>\n",
       "</table>\n",
       "</div>"
      ],
      "text/plain": [
       "                                       name platform  year_of_release  \\\n",
       "85                               The Sims 3       PC             2009   \n",
       "138                       World of Warcraft       PC             2004   \n",
       "192                              Diablo III       PC             2012   \n",
       "195              Microsoft Flight Simulator       PC             1996   \n",
       "218          StarCraft II: Wings of Liberty       PC             2010   \n",
       "273          Warcraft II: Tides of Darkness       PC             1995   \n",
       "284                               Half-Life       PC             1997   \n",
       "288  World of Warcraft: The Burning Crusade       PC             2007   \n",
       "313             The Elder Scrolls V: Skyrim       PC             2011   \n",
       "330                     The Sims: Unleashed       PC             2002   \n",
       "\n",
       "            genre  na_sales  eu_sales  jp_sales  other_sales  critic_score  \\\n",
       "85     Simulation      0.99      6.42      0.00         0.60          86.0   \n",
       "138  Role-Playing      0.08      6.21      0.00         0.00          93.0   \n",
       "192  Role-Playing      2.44      2.16      0.00         0.54          88.0   \n",
       "195    Simulation      3.22      1.69      0.00         0.20           0.0   \n",
       "218      Strategy      2.57      1.68      0.00         0.58          93.0   \n",
       "273      Strategy      1.70      2.27      0.00         0.23           0.0   \n",
       "284       Shooter      4.03      0.00      0.09         0.00          96.0   \n",
       "288  Role-Playing      2.57      1.52      0.00         0.00          91.0   \n",
       "313  Role-Playing      1.16      2.12      0.00         0.60          94.0   \n",
       "330    Simulation      2.03      1.56      0.00         0.17          79.0   \n",
       "\n",
       "     user_score   rating  total_sales  \n",
       "85          7.6        T         7.41  \n",
       "138         7.3        T         6.29  \n",
       "192         4.0        M         4.60  \n",
       "195         0.0  unknown         4.91  \n",
       "218         8.2        T         4.25  \n",
       "273         0.0  unknown         3.97  \n",
       "284         9.1        M         4.12  \n",
       "288         7.9        T         4.09  \n",
       "313         8.1        M         3.28  \n",
       "330         8.0        T         3.59  "
      ]
     },
     "execution_count": 74,
     "metadata": {},
     "output_type": "execute_result"
    }
   ],
   "source": [
    "#сформируем первую выбору по платформе PC\n",
    "\n",
    "sample_2 = data.query('platform == \"PC\"')\n",
    "\n",
    "#выведем первые 10 строк датасета на экран\n",
    "\n",
    "sample_2.head(10)"
   ]
  },
  {
   "cell_type": "code",
   "execution_count": 75,
   "metadata": {},
   "outputs": [],
   "source": [
    "#зададим уровень статистической значимости\n",
    "\n",
    "alpha = .05"
   ]
  },
  {
   "cell_type": "code",
   "execution_count": 76,
   "metadata": {},
   "outputs": [
    {
     "name": "stdout",
     "output_type": "stream",
     "text": [
      "p-значение: 0.0006171371903381416\n",
      "Отвергаем нулевую гипотезу\n",
      "\n",
      "Средний пользовательский рейтинг платформы XOne: 5.0\n",
      "Средний пользовательский рейтинг платформы PC: 6.0\n"
     ]
    }
   ],
   "source": [
    "#проведем проверку первой гипотезы, используя метод st.ttest_ind. В качестве аргументов передадим\n",
    "#данные выборок, распределение значений которых необходимо изучить\n",
    "\n",
    "results = st.ttest_ind(\n",
    "    sample_1['user_score'],\n",
    "    sample_2['user_score']\n",
    ")\n",
    "\n",
    "print('p-значение:', results.pvalue) #выводим на экран значение p-value\n",
    "\n",
    "if (results.pvalue < alpha): #сравниваем значение p-value  заданный уровень статистической значимости\n",
    "    print(\"Отвергаем нулевую гипотезу\")\n",
    "else:\n",
    "    print(\"Не получилось отвергнуть нулевую гипотезу\")\n",
    "    \n",
    "print()    \n",
    "print('Средний пользовательский рейтинг платформы XOne:', sample_1['user_score'].mean().round())\n",
    "print('Средний пользовательский рейтинг платформы PC:', sample_2['user_score'].mean().round())"
   ]
  },
  {
   "cell_type": "markdown",
   "metadata": {},
   "source": [
    "Как мы видим, средние пользовательские рейтинги по платформам не равны, поэтом уесть основание отвергнуть нулевую гипотезу."
   ]
  },
  {
   "cell_type": "markdown",
   "metadata": {},
   "source": [
    "Сформулируем нулевую и альтернативную гипотезы для проверки второй гипотезы: \n",
    "\n",
    "Н0: средние пользовательские рейтинги жанров Action и Sports равны.\n",
    "\n",
    "Н1: средние пользовательские рейтинги жанров Action и Sports не равны."
   ]
  },
  {
   "cell_type": "code",
   "execution_count": 77,
   "metadata": {},
   "outputs": [
    {
     "data": {
      "text/html": [
       "<div>\n",
       "<style scoped>\n",
       "    .dataframe tbody tr th:only-of-type {\n",
       "        vertical-align: middle;\n",
       "    }\n",
       "\n",
       "    .dataframe tbody tr th {\n",
       "        vertical-align: top;\n",
       "    }\n",
       "\n",
       "    .dataframe thead th {\n",
       "        text-align: right;\n",
       "    }\n",
       "</style>\n",
       "<table border=\"1\" class=\"dataframe\">\n",
       "  <thead>\n",
       "    <tr style=\"text-align: right;\">\n",
       "      <th></th>\n",
       "      <th>name</th>\n",
       "      <th>platform</th>\n",
       "      <th>year_of_release</th>\n",
       "      <th>genre</th>\n",
       "      <th>na_sales</th>\n",
       "      <th>eu_sales</th>\n",
       "      <th>jp_sales</th>\n",
       "      <th>other_sales</th>\n",
       "      <th>critic_score</th>\n",
       "      <th>user_score</th>\n",
       "      <th>rating</th>\n",
       "      <th>total_sales</th>\n",
       "    </tr>\n",
       "  </thead>\n",
       "  <tbody>\n",
       "    <tr>\n",
       "      <td>16</td>\n",
       "      <td>Grand Theft Auto V</td>\n",
       "      <td>PS3</td>\n",
       "      <td>2013</td>\n",
       "      <td>Action</td>\n",
       "      <td>7.02</td>\n",
       "      <td>9.09</td>\n",
       "      <td>0.98</td>\n",
       "      <td>3.96</td>\n",
       "      <td>97.0</td>\n",
       "      <td>8.2</td>\n",
       "      <td>M</td>\n",
       "      <td>17.09</td>\n",
       "    </tr>\n",
       "    <tr>\n",
       "      <td>17</td>\n",
       "      <td>Grand Theft Auto: San Andreas</td>\n",
       "      <td>PS2</td>\n",
       "      <td>2004</td>\n",
       "      <td>Action</td>\n",
       "      <td>9.43</td>\n",
       "      <td>0.40</td>\n",
       "      <td>0.41</td>\n",
       "      <td>10.57</td>\n",
       "      <td>95.0</td>\n",
       "      <td>9.0</td>\n",
       "      <td>M</td>\n",
       "      <td>10.24</td>\n",
       "    </tr>\n",
       "    <tr>\n",
       "      <td>23</td>\n",
       "      <td>Grand Theft Auto V</td>\n",
       "      <td>X360</td>\n",
       "      <td>2013</td>\n",
       "      <td>Action</td>\n",
       "      <td>9.66</td>\n",
       "      <td>5.14</td>\n",
       "      <td>0.06</td>\n",
       "      <td>1.41</td>\n",
       "      <td>97.0</td>\n",
       "      <td>8.1</td>\n",
       "      <td>M</td>\n",
       "      <td>14.86</td>\n",
       "    </tr>\n",
       "    <tr>\n",
       "      <td>24</td>\n",
       "      <td>Grand Theft Auto: Vice City</td>\n",
       "      <td>PS2</td>\n",
       "      <td>2002</td>\n",
       "      <td>Action</td>\n",
       "      <td>8.41</td>\n",
       "      <td>5.49</td>\n",
       "      <td>0.47</td>\n",
       "      <td>1.78</td>\n",
       "      <td>95.0</td>\n",
       "      <td>8.7</td>\n",
       "      <td>M</td>\n",
       "      <td>14.37</td>\n",
       "    </tr>\n",
       "    <tr>\n",
       "      <td>38</td>\n",
       "      <td>Grand Theft Auto III</td>\n",
       "      <td>PS2</td>\n",
       "      <td>2001</td>\n",
       "      <td>Action</td>\n",
       "      <td>6.99</td>\n",
       "      <td>4.51</td>\n",
       "      <td>0.30</td>\n",
       "      <td>1.30</td>\n",
       "      <td>97.0</td>\n",
       "      <td>8.5</td>\n",
       "      <td>M</td>\n",
       "      <td>11.80</td>\n",
       "    </tr>\n",
       "    <tr>\n",
       "      <td>42</td>\n",
       "      <td>Grand Theft Auto V</td>\n",
       "      <td>PS4</td>\n",
       "      <td>2014</td>\n",
       "      <td>Action</td>\n",
       "      <td>3.96</td>\n",
       "      <td>6.31</td>\n",
       "      <td>0.38</td>\n",
       "      <td>1.97</td>\n",
       "      <td>97.0</td>\n",
       "      <td>8.3</td>\n",
       "      <td>M</td>\n",
       "      <td>10.65</td>\n",
       "    </tr>\n",
       "    <tr>\n",
       "      <td>46</td>\n",
       "      <td>Pokemon HeartGold/Pokemon SoulSilver</td>\n",
       "      <td>DS</td>\n",
       "      <td>2009</td>\n",
       "      <td>Action</td>\n",
       "      <td>4.34</td>\n",
       "      <td>2.71</td>\n",
       "      <td>3.96</td>\n",
       "      <td>0.76</td>\n",
       "      <td>0.0</td>\n",
       "      <td>0.0</td>\n",
       "      <td>unknown</td>\n",
       "      <td>11.01</td>\n",
       "    </tr>\n",
       "    <tr>\n",
       "      <td>51</td>\n",
       "      <td>Grand Theft Auto IV</td>\n",
       "      <td>X360</td>\n",
       "      <td>2008</td>\n",
       "      <td>Action</td>\n",
       "      <td>6.76</td>\n",
       "      <td>3.07</td>\n",
       "      <td>0.14</td>\n",
       "      <td>1.03</td>\n",
       "      <td>98.0</td>\n",
       "      <td>7.9</td>\n",
       "      <td>M</td>\n",
       "      <td>9.97</td>\n",
       "    </tr>\n",
       "    <tr>\n",
       "      <td>57</td>\n",
       "      <td>Grand Theft Auto IV</td>\n",
       "      <td>PS3</td>\n",
       "      <td>2008</td>\n",
       "      <td>Action</td>\n",
       "      <td>4.76</td>\n",
       "      <td>3.69</td>\n",
       "      <td>0.44</td>\n",
       "      <td>1.61</td>\n",
       "      <td>98.0</td>\n",
       "      <td>7.5</td>\n",
       "      <td>M</td>\n",
       "      <td>8.89</td>\n",
       "    </tr>\n",
       "    <tr>\n",
       "      <td>81</td>\n",
       "      <td>FIFA Soccer 13</td>\n",
       "      <td>PS3</td>\n",
       "      <td>2012</td>\n",
       "      <td>Action</td>\n",
       "      <td>1.06</td>\n",
       "      <td>5.01</td>\n",
       "      <td>0.13</td>\n",
       "      <td>1.97</td>\n",
       "      <td>88.0</td>\n",
       "      <td>6.6</td>\n",
       "      <td>E</td>\n",
       "      <td>6.20</td>\n",
       "    </tr>\n",
       "  </tbody>\n",
       "</table>\n",
       "</div>"
      ],
      "text/plain": [
       "                                    name platform  year_of_release   genre  \\\n",
       "16                    Grand Theft Auto V      PS3             2013  Action   \n",
       "17         Grand Theft Auto: San Andreas      PS2             2004  Action   \n",
       "23                    Grand Theft Auto V     X360             2013  Action   \n",
       "24           Grand Theft Auto: Vice City      PS2             2002  Action   \n",
       "38                  Grand Theft Auto III      PS2             2001  Action   \n",
       "42                    Grand Theft Auto V      PS4             2014  Action   \n",
       "46  Pokemon HeartGold/Pokemon SoulSilver       DS             2009  Action   \n",
       "51                   Grand Theft Auto IV     X360             2008  Action   \n",
       "57                   Grand Theft Auto IV      PS3             2008  Action   \n",
       "81                        FIFA Soccer 13      PS3             2012  Action   \n",
       "\n",
       "    na_sales  eu_sales  jp_sales  other_sales  critic_score  user_score  \\\n",
       "16      7.02      9.09      0.98         3.96          97.0         8.2   \n",
       "17      9.43      0.40      0.41        10.57          95.0         9.0   \n",
       "23      9.66      5.14      0.06         1.41          97.0         8.1   \n",
       "24      8.41      5.49      0.47         1.78          95.0         8.7   \n",
       "38      6.99      4.51      0.30         1.30          97.0         8.5   \n",
       "42      3.96      6.31      0.38         1.97          97.0         8.3   \n",
       "46      4.34      2.71      3.96         0.76           0.0         0.0   \n",
       "51      6.76      3.07      0.14         1.03          98.0         7.9   \n",
       "57      4.76      3.69      0.44         1.61          98.0         7.5   \n",
       "81      1.06      5.01      0.13         1.97          88.0         6.6   \n",
       "\n",
       "     rating  total_sales  \n",
       "16        M        17.09  \n",
       "17        M        10.24  \n",
       "23        M        14.86  \n",
       "24        M        14.37  \n",
       "38        M        11.80  \n",
       "42        M        10.65  \n",
       "46  unknown        11.01  \n",
       "51        M         9.97  \n",
       "57        M         8.89  \n",
       "81        E         6.20  "
      ]
     },
     "execution_count": 77,
     "metadata": {},
     "output_type": "execute_result"
    }
   ],
   "source": [
    "#сделаем срез данных по жанру Action\n",
    "\n",
    "sample_1 = data.query('genre == \"Action\"')\n",
    "\n",
    "#выведем первые 10 строк датасета на экран\n",
    "\n",
    "sample_1.head(10)"
   ]
  },
  {
   "cell_type": "code",
   "execution_count": 78,
   "metadata": {},
   "outputs": [
    {
     "data": {
      "text/html": [
       "<div>\n",
       "<style scoped>\n",
       "    .dataframe tbody tr th:only-of-type {\n",
       "        vertical-align: middle;\n",
       "    }\n",
       "\n",
       "    .dataframe tbody tr th {\n",
       "        vertical-align: top;\n",
       "    }\n",
       "\n",
       "    .dataframe thead th {\n",
       "        text-align: right;\n",
       "    }\n",
       "</style>\n",
       "<table border=\"1\" class=\"dataframe\">\n",
       "  <thead>\n",
       "    <tr style=\"text-align: right;\">\n",
       "      <th></th>\n",
       "      <th>name</th>\n",
       "      <th>platform</th>\n",
       "      <th>year_of_release</th>\n",
       "      <th>genre</th>\n",
       "      <th>na_sales</th>\n",
       "      <th>eu_sales</th>\n",
       "      <th>jp_sales</th>\n",
       "      <th>other_sales</th>\n",
       "      <th>critic_score</th>\n",
       "      <th>user_score</th>\n",
       "      <th>rating</th>\n",
       "      <th>total_sales</th>\n",
       "    </tr>\n",
       "  </thead>\n",
       "  <tbody>\n",
       "    <tr>\n",
       "      <td>0</td>\n",
       "      <td>Wii Sports</td>\n",
       "      <td>Wii</td>\n",
       "      <td>2006</td>\n",
       "      <td>Sports</td>\n",
       "      <td>41.36</td>\n",
       "      <td>28.96</td>\n",
       "      <td>3.77</td>\n",
       "      <td>8.45</td>\n",
       "      <td>76.0</td>\n",
       "      <td>8.0</td>\n",
       "      <td>E</td>\n",
       "      <td>74.09</td>\n",
       "    </tr>\n",
       "    <tr>\n",
       "      <td>3</td>\n",
       "      <td>Wii Sports Resort</td>\n",
       "      <td>Wii</td>\n",
       "      <td>2009</td>\n",
       "      <td>Sports</td>\n",
       "      <td>15.61</td>\n",
       "      <td>10.93</td>\n",
       "      <td>3.28</td>\n",
       "      <td>2.95</td>\n",
       "      <td>80.0</td>\n",
       "      <td>8.0</td>\n",
       "      <td>E</td>\n",
       "      <td>29.82</td>\n",
       "    </tr>\n",
       "    <tr>\n",
       "      <td>13</td>\n",
       "      <td>Wii Fit</td>\n",
       "      <td>Wii</td>\n",
       "      <td>2007</td>\n",
       "      <td>Sports</td>\n",
       "      <td>8.92</td>\n",
       "      <td>8.03</td>\n",
       "      <td>3.60</td>\n",
       "      <td>2.15</td>\n",
       "      <td>80.0</td>\n",
       "      <td>7.7</td>\n",
       "      <td>E</td>\n",
       "      <td>20.55</td>\n",
       "    </tr>\n",
       "    <tr>\n",
       "      <td>15</td>\n",
       "      <td>Wii Fit Plus</td>\n",
       "      <td>Wii</td>\n",
       "      <td>2009</td>\n",
       "      <td>Sports</td>\n",
       "      <td>9.01</td>\n",
       "      <td>8.49</td>\n",
       "      <td>2.53</td>\n",
       "      <td>1.77</td>\n",
       "      <td>80.0</td>\n",
       "      <td>7.4</td>\n",
       "      <td>E</td>\n",
       "      <td>20.03</td>\n",
       "    </tr>\n",
       "    <tr>\n",
       "      <td>77</td>\n",
       "      <td>FIFA 16</td>\n",
       "      <td>PS4</td>\n",
       "      <td>2015</td>\n",
       "      <td>Sports</td>\n",
       "      <td>1.12</td>\n",
       "      <td>6.12</td>\n",
       "      <td>0.06</td>\n",
       "      <td>1.28</td>\n",
       "      <td>82.0</td>\n",
       "      <td>4.3</td>\n",
       "      <td>E</td>\n",
       "      <td>7.30</td>\n",
       "    </tr>\n",
       "    <tr>\n",
       "      <td>86</td>\n",
       "      <td>Mario &amp; Sonic at the Olympic Games</td>\n",
       "      <td>Wii</td>\n",
       "      <td>2007</td>\n",
       "      <td>Sports</td>\n",
       "      <td>2.57</td>\n",
       "      <td>3.86</td>\n",
       "      <td>0.66</td>\n",
       "      <td>0.91</td>\n",
       "      <td>0.0</td>\n",
       "      <td>0.0</td>\n",
       "      <td>unknown</td>\n",
       "      <td>7.09</td>\n",
       "    </tr>\n",
       "    <tr>\n",
       "      <td>94</td>\n",
       "      <td>FIFA 17</td>\n",
       "      <td>PS4</td>\n",
       "      <td>2016</td>\n",
       "      <td>Sports</td>\n",
       "      <td>0.66</td>\n",
       "      <td>5.75</td>\n",
       "      <td>0.08</td>\n",
       "      <td>1.11</td>\n",
       "      <td>85.0</td>\n",
       "      <td>5.0</td>\n",
       "      <td>E</td>\n",
       "      <td>6.49</td>\n",
       "    </tr>\n",
       "    <tr>\n",
       "      <td>119</td>\n",
       "      <td>Zumba Fitness</td>\n",
       "      <td>Wii</td>\n",
       "      <td>2010</td>\n",
       "      <td>Sports</td>\n",
       "      <td>3.45</td>\n",
       "      <td>2.59</td>\n",
       "      <td>0.00</td>\n",
       "      <td>0.66</td>\n",
       "      <td>0.0</td>\n",
       "      <td>0.0</td>\n",
       "      <td>E</td>\n",
       "      <td>6.04</td>\n",
       "    </tr>\n",
       "    <tr>\n",
       "      <td>122</td>\n",
       "      <td>FIFA 12</td>\n",
       "      <td>PS3</td>\n",
       "      <td>2011</td>\n",
       "      <td>Sports</td>\n",
       "      <td>0.84</td>\n",
       "      <td>4.30</td>\n",
       "      <td>0.11</td>\n",
       "      <td>1.39</td>\n",
       "      <td>0.0</td>\n",
       "      <td>0.0</td>\n",
       "      <td>unknown</td>\n",
       "      <td>5.25</td>\n",
       "    </tr>\n",
       "    <tr>\n",
       "      <td>126</td>\n",
       "      <td>FIFA 14</td>\n",
       "      <td>PS3</td>\n",
       "      <td>2013</td>\n",
       "      <td>Sports</td>\n",
       "      <td>0.78</td>\n",
       "      <td>4.24</td>\n",
       "      <td>0.07</td>\n",
       "      <td>1.37</td>\n",
       "      <td>86.0</td>\n",
       "      <td>4.3</td>\n",
       "      <td>E</td>\n",
       "      <td>5.09</td>\n",
       "    </tr>\n",
       "  </tbody>\n",
       "</table>\n",
       "</div>"
      ],
      "text/plain": [
       "                                   name platform  year_of_release   genre  \\\n",
       "0                            Wii Sports      Wii             2006  Sports   \n",
       "3                     Wii Sports Resort      Wii             2009  Sports   \n",
       "13                              Wii Fit      Wii             2007  Sports   \n",
       "15                         Wii Fit Plus      Wii             2009  Sports   \n",
       "77                              FIFA 16      PS4             2015  Sports   \n",
       "86   Mario & Sonic at the Olympic Games      Wii             2007  Sports   \n",
       "94                              FIFA 17      PS4             2016  Sports   \n",
       "119                       Zumba Fitness      Wii             2010  Sports   \n",
       "122                             FIFA 12      PS3             2011  Sports   \n",
       "126                             FIFA 14      PS3             2013  Sports   \n",
       "\n",
       "     na_sales  eu_sales  jp_sales  other_sales  critic_score  user_score  \\\n",
       "0       41.36     28.96      3.77         8.45          76.0         8.0   \n",
       "3       15.61     10.93      3.28         2.95          80.0         8.0   \n",
       "13       8.92      8.03      3.60         2.15          80.0         7.7   \n",
       "15       9.01      8.49      2.53         1.77          80.0         7.4   \n",
       "77       1.12      6.12      0.06         1.28          82.0         4.3   \n",
       "86       2.57      3.86      0.66         0.91           0.0         0.0   \n",
       "94       0.66      5.75      0.08         1.11          85.0         5.0   \n",
       "119      3.45      2.59      0.00         0.66           0.0         0.0   \n",
       "122      0.84      4.30      0.11         1.39           0.0         0.0   \n",
       "126      0.78      4.24      0.07         1.37          86.0         4.3   \n",
       "\n",
       "      rating  total_sales  \n",
       "0          E        74.09  \n",
       "3          E        29.82  \n",
       "13         E        20.55  \n",
       "15         E        20.03  \n",
       "77         E         7.30  \n",
       "86   unknown         7.09  \n",
       "94         E         6.49  \n",
       "119        E         6.04  \n",
       "122  unknown         5.25  \n",
       "126        E         5.09  "
      ]
     },
     "execution_count": 78,
     "metadata": {},
     "output_type": "execute_result"
    }
   ],
   "source": [
    "#сделаем срез данных по жанру Sports\n",
    "\n",
    "sample_2 = data.query('genre == \"Sports\"')\n",
    "\n",
    "#выведем первые 10 строк датасета на экран\n",
    "\n",
    "sample_2.head(10)"
   ]
  },
  {
   "cell_type": "code",
   "execution_count": 79,
   "metadata": {},
   "outputs": [
    {
     "name": "stdout",
     "output_type": "stream",
     "text": [
      "p-значение: 8.659979852223255e-09\n",
      "Отвергаем нулевую гипотезу\n",
      "\n",
      "Средний пользовательский рейтинг игр жанра Action: 4.0\n",
      "Средний пользовательский рейтинг игр жанра Sports: 3.0\n"
     ]
    }
   ],
   "source": [
    "#проведем проверку первой гипотезы, используя метод st.ttest_ind. В качестве аргументов передадим\n",
    "#данные выборок, распределение значений которых необходимо изучить\n",
    "\n",
    "results = st.ttest_ind(\n",
    "    sample_1['user_score'],\n",
    "    sample_2['user_score']\n",
    ")\n",
    "\n",
    "print('p-значение:', results.pvalue) #выводим на экран значение p-value\n",
    "\n",
    "if (results.pvalue < alpha): #сравниваем значение p-value  заданный уровень статистической значимости\n",
    "    print(\"Отвергаем нулевую гипотезу\")\n",
    "else:\n",
    "    print(\"Не получилось отвергнуть нулевую гипотезу\")\n",
    "    \n",
    "print()    \n",
    "print('Средний пользовательский рейтинг игр жанра Action:', sample_1['user_score'].mean().round())\n",
    "print('Средний пользовательский рейтинг игр жанра Sports:', sample_2['user_score'].mean().round())"
   ]
  },
  {
   "cell_type": "markdown",
   "metadata": {},
   "source": [
    "Как мы видим, пользовательские рейтинги жанров Action и Sports не равны, поэтому отвергаем нулевую гипотезу."
   ]
  },
  {
   "cell_type": "markdown",
   "metadata": {},
   "source": [
    "## Общий вывод"
   ]
  },
  {
   "cell_type": "markdown",
   "metadata": {},
   "source": [
    "При планировании бюджета рекламных кампаний, а также развития продаж тех или иных игр необходимо учитывать следующие факторы, оказывающие наибольшее влияние на суммарные продажи видеоигр:\n",
    "\n",
    "1. Жанр игр;\n",
    "2. Платформу;\n",
    "3. Регион проживания пользователя.\n",
    "\n",
    "Исходя из трех этих факторов можно составить характеристику пользователя по регионам:\n",
    "\n",
    "- пользователь из Северной Америки - это пользователь любого возраста или подросток, предпочитающий игры в жанре экшн, спорт, шутер, платформер или аркада на платформах X360 или PS2.\n",
    "\n",
    "- \"портрет\" пользователя из Европы - это  пользователь любого возраста или взрослый, предпочитающий игры в жанре экшн, спорт, шутер, гонки или аркада на платформах PS2 или X360.\n",
    "\n",
    "- Японский пользователь: пользователь любого возраста, предпочитающий игры в жанре ролевые, экшн, спорт, платформер или аркада на платформах DS или PS.\n",
    "\n",
    "Большая часть продаж приходилась на период до 2013 года, но по характеру используемых платформ можно сделать вывод о том, что стоит развивать выпускать новые платформы - последователи PS. Также стоит учитывать среднюю продолжительность \"жизни\" платформы - 3 года, затем необходимо совершенствовать платформу и выпускать новые игры. В первую очередь стоит обратить внимание на развитие продаж в Северной Америке и Европе, поскольку это большая часть рынка продаж видеоигр. Япония довольна специфична в предпочтениях, что обусловлено культурными взглядами ее жителей.\n",
    "\n",
    "Такие факторы как оценки пользователей или критиков не оказывают существенного влияния на рост продаж видеоигр."
   ]
  }
 ],
 "metadata": {
  "ExecuteTimeLog": [
   {
    "duration": 297,
    "start_time": "2022-02-07T10:00:23.164Z"
   },
   {
    "duration": 260,
    "start_time": "2022-02-07T10:00:42.331Z"
   },
   {
    "duration": 1063,
    "start_time": "2022-02-07T10:00:47.943Z"
   },
   {
    "duration": 58,
    "start_time": "2022-02-07T10:00:49.008Z"
   },
   {
    "duration": 347,
    "start_time": "2022-02-07T10:03:22.208Z"
   },
   {
    "duration": 37250,
    "start_time": "2022-02-07T10:03:05.557Z"
   },
   {
    "duration": 13,
    "start_time": "2022-02-07T10:05:48.091Z"
   },
   {
    "duration": 20,
    "start_time": "2022-02-07T10:07:55.065Z"
   },
   {
    "duration": 22,
    "start_time": "2022-02-07T10:14:05.984Z"
   },
   {
    "duration": 289,
    "start_time": "2022-02-07T10:22:46.727Z"
   },
   {
    "duration": 269,
    "start_time": "2022-02-07T10:23:12.651Z"
   },
   {
    "duration": 277,
    "start_time": "2022-02-07T10:26:21.172Z"
   },
   {
    "duration": 264,
    "start_time": "2022-02-07T10:26:28.392Z"
   },
   {
    "duration": 1155,
    "start_time": "2022-02-07T10:26:34.035Z"
   },
   {
    "duration": 59,
    "start_time": "2022-02-07T10:26:35.192Z"
   },
   {
    "duration": 12,
    "start_time": "2022-02-07T10:26:35.253Z"
   },
   {
    "duration": 34,
    "start_time": "2022-02-07T10:26:35.267Z"
   },
   {
    "duration": 18,
    "start_time": "2022-02-07T10:26:35.303Z"
   },
   {
    "duration": 381,
    "start_time": "2022-02-07T10:26:35.323Z"
   },
   {
    "duration": 293,
    "start_time": "2022-02-07T10:27:15.821Z"
   },
   {
    "duration": 264,
    "start_time": "2022-02-07T10:27:27.404Z"
   },
   {
    "duration": 45,
    "start_time": "2022-02-07T10:28:44.479Z"
   },
   {
    "duration": 305,
    "start_time": "2022-02-07T10:30:06.943Z"
   },
   {
    "duration": 41,
    "start_time": "2022-02-07T10:30:17.507Z"
   },
   {
    "duration": 260,
    "start_time": "2022-02-07T10:31:48.540Z"
   },
   {
    "duration": 16,
    "start_time": "2022-02-07T10:32:05.936Z"
   },
   {
    "duration": 13,
    "start_time": "2022-02-07T10:32:53.066Z"
   },
   {
    "duration": 6,
    "start_time": "2022-02-07T10:33:29.636Z"
   },
   {
    "duration": 46,
    "start_time": "2022-02-07T10:36:33.302Z"
   },
   {
    "duration": 280,
    "start_time": "2022-02-07T10:37:10.629Z"
   },
   {
    "duration": 525,
    "start_time": "2022-02-07T10:37:17.436Z"
   },
   {
    "duration": 21,
    "start_time": "2022-02-07T10:39:50.301Z"
   },
   {
    "duration": 18,
    "start_time": "2022-02-07T10:43:59.976Z"
   },
   {
    "duration": 18,
    "start_time": "2022-02-07T10:44:05.222Z"
   },
   {
    "duration": 18,
    "start_time": "2022-02-07T10:44:10.120Z"
   },
   {
    "duration": 5,
    "start_time": "2022-02-07T10:45:47.104Z"
   },
   {
    "duration": 7,
    "start_time": "2022-02-07T10:45:58.397Z"
   },
   {
    "duration": 299,
    "start_time": "2022-02-07T10:47:19.656Z"
   },
   {
    "duration": 1188,
    "start_time": "2022-02-07T10:48:08.323Z"
   },
   {
    "duration": 52,
    "start_time": "2022-02-07T10:48:09.514Z"
   },
   {
    "duration": 11,
    "start_time": "2022-02-07T10:48:09.568Z"
   },
   {
    "duration": 28,
    "start_time": "2022-02-07T10:48:09.581Z"
   },
   {
    "duration": 18,
    "start_time": "2022-02-07T10:48:09.611Z"
   },
   {
    "duration": 68,
    "start_time": "2022-02-07T10:48:09.631Z"
   },
   {
    "duration": 16,
    "start_time": "2022-02-07T10:48:09.700Z"
   },
   {
    "duration": 25,
    "start_time": "2022-02-07T10:48:09.719Z"
   },
   {
    "duration": 18,
    "start_time": "2022-02-07T10:48:09.746Z"
   },
   {
    "duration": 38,
    "start_time": "2022-02-07T10:48:09.765Z"
   },
   {
    "duration": 6,
    "start_time": "2022-02-07T10:48:09.805Z"
   },
   {
    "duration": 31267,
    "start_time": "2022-02-07T10:48:09.813Z"
   },
   {
    "duration": 17,
    "start_time": "2022-02-07T10:48:41.082Z"
   },
   {
    "duration": 4,
    "start_time": "2022-02-07T10:49:32.551Z"
   },
   {
    "duration": 6,
    "start_time": "2022-02-07T10:50:31.946Z"
   },
   {
    "duration": 37318,
    "start_time": "2022-02-07T10:50:34.576Z"
   },
   {
    "duration": 5,
    "start_time": "2022-02-07T10:51:11.897Z"
   },
   {
    "duration": 23,
    "start_time": "2022-02-07T10:52:26.432Z"
   },
   {
    "duration": 21,
    "start_time": "2022-02-07T10:58:21.960Z"
   },
   {
    "duration": 10,
    "start_time": "2022-02-07T10:58:59.973Z"
   },
   {
    "duration": 18,
    "start_time": "2022-02-07T10:59:39.032Z"
   },
   {
    "duration": 5,
    "start_time": "2022-02-07T11:00:08.435Z"
   },
   {
    "duration": 1221,
    "start_time": "2022-02-07T11:00:14.071Z"
   },
   {
    "duration": 82,
    "start_time": "2022-02-07T11:00:15.295Z"
   },
   {
    "duration": 12,
    "start_time": "2022-02-07T11:00:15.379Z"
   },
   {
    "duration": 19,
    "start_time": "2022-02-07T11:00:15.398Z"
   },
   {
    "duration": 18,
    "start_time": "2022-02-07T11:00:15.419Z"
   },
   {
    "duration": 70,
    "start_time": "2022-02-07T11:00:15.440Z"
   },
   {
    "duration": 16,
    "start_time": "2022-02-07T11:00:15.512Z"
   },
   {
    "duration": 16,
    "start_time": "2022-02-07T11:00:15.532Z"
   },
   {
    "duration": 9,
    "start_time": "2022-02-07T11:00:15.551Z"
   },
   {
    "duration": 64,
    "start_time": "2022-02-07T11:00:15.563Z"
   },
   {
    "duration": 33474,
    "start_time": "2022-02-07T11:00:15.630Z"
   },
   {
    "duration": 6,
    "start_time": "2022-02-07T11:00:49.107Z"
   },
   {
    "duration": 38,
    "start_time": "2022-02-07T11:00:49.115Z"
   },
   {
    "duration": 26,
    "start_time": "2022-02-07T11:00:49.155Z"
   },
   {
    "duration": 23,
    "start_time": "2022-02-07T11:00:49.183Z"
   },
   {
    "duration": 36,
    "start_time": "2022-02-07T11:00:49.209Z"
   },
   {
    "duration": 21,
    "start_time": "2022-02-07T11:00:49.269Z"
   },
   {
    "duration": 9,
    "start_time": "2022-02-07T11:00:53.817Z"
   },
   {
    "duration": 13,
    "start_time": "2022-02-07T11:01:00.595Z"
   },
   {
    "duration": 31,
    "start_time": "2022-02-07T11:01:06.838Z"
   },
   {
    "duration": 6,
    "start_time": "2022-02-07T11:01:07.765Z"
   },
   {
    "duration": 11,
    "start_time": "2022-02-07T11:01:51.283Z"
   },
   {
    "duration": 6,
    "start_time": "2022-02-07T11:02:18.113Z"
   },
   {
    "duration": 19,
    "start_time": "2022-02-07T11:02:27.052Z"
   },
   {
    "duration": 13,
    "start_time": "2022-02-07T11:02:40.207Z"
   },
   {
    "duration": 26,
    "start_time": "2022-02-07T11:04:05.235Z"
   },
   {
    "duration": 381,
    "start_time": "2022-02-07T11:04:33.464Z"
   },
   {
    "duration": 43,
    "start_time": "2022-02-07T11:04:43.391Z"
   },
   {
    "duration": 1272,
    "start_time": "2022-02-07T11:05:36.290Z"
   },
   {
    "duration": 57,
    "start_time": "2022-02-07T11:05:37.564Z"
   },
   {
    "duration": 11,
    "start_time": "2022-02-07T11:05:37.623Z"
   },
   {
    "duration": 46,
    "start_time": "2022-02-07T11:05:37.636Z"
   },
   {
    "duration": 20,
    "start_time": "2022-02-07T11:05:37.684Z"
   },
   {
    "duration": 47,
    "start_time": "2022-02-07T11:05:37.706Z"
   },
   {
    "duration": 16,
    "start_time": "2022-02-07T11:05:37.755Z"
   },
   {
    "duration": 30,
    "start_time": "2022-02-07T11:05:37.775Z"
   },
   {
    "duration": 19,
    "start_time": "2022-02-07T11:05:37.807Z"
   },
   {
    "duration": 47,
    "start_time": "2022-02-07T11:05:37.829Z"
   },
   {
    "duration": 31602,
    "start_time": "2022-02-07T11:05:37.878Z"
   },
   {
    "duration": 5,
    "start_time": "2022-02-07T11:06:09.482Z"
   },
   {
    "duration": 22,
    "start_time": "2022-02-07T11:06:09.498Z"
   },
   {
    "duration": 22,
    "start_time": "2022-02-07T11:06:09.522Z"
   },
   {
    "duration": 7,
    "start_time": "2022-02-07T11:06:09.546Z"
   },
   {
    "duration": 49,
    "start_time": "2022-02-07T11:06:09.555Z"
   },
   {
    "duration": 10,
    "start_time": "2022-02-07T11:06:09.606Z"
   },
   {
    "duration": 18,
    "start_time": "2022-02-07T11:06:09.619Z"
   },
   {
    "duration": 62,
    "start_time": "2022-02-07T11:06:09.640Z"
   },
   {
    "duration": 411,
    "start_time": "2022-02-07T11:06:50.634Z"
   },
   {
    "duration": 7,
    "start_time": "2022-02-07T11:06:57.390Z"
   },
   {
    "duration": 6,
    "start_time": "2022-02-07T11:07:19.379Z"
   },
   {
    "duration": 17,
    "start_time": "2022-02-07T11:07:30.150Z"
   },
   {
    "duration": 9,
    "start_time": "2022-02-07T11:07:56.186Z"
   },
   {
    "duration": 19,
    "start_time": "2022-02-07T11:09:50.875Z"
   },
   {
    "duration": 266,
    "start_time": "2022-02-07T11:13:43.638Z"
   },
   {
    "duration": 19,
    "start_time": "2022-02-07T11:13:49.987Z"
   },
   {
    "duration": 8,
    "start_time": "2022-02-07T11:14:32.511Z"
   },
   {
    "duration": 5,
    "start_time": "2022-02-07T11:17:36.458Z"
   },
   {
    "duration": 10,
    "start_time": "2022-02-07T11:17:57.488Z"
   },
   {
    "duration": 91,
    "start_time": "2022-02-07T11:18:28.856Z"
   },
   {
    "duration": 2015,
    "start_time": "2022-02-07T11:18:55.290Z"
   },
   {
    "duration": 1940,
    "start_time": "2022-02-07T11:19:19.893Z"
   },
   {
    "duration": 2423,
    "start_time": "2022-02-07T11:19:28.690Z"
   },
   {
    "duration": 1171,
    "start_time": "2022-02-07T11:19:37.413Z"
   },
   {
    "duration": 60,
    "start_time": "2022-02-07T11:19:38.586Z"
   },
   {
    "duration": 11,
    "start_time": "2022-02-07T11:19:38.648Z"
   },
   {
    "duration": 17,
    "start_time": "2022-02-07T11:19:38.661Z"
   },
   {
    "duration": 28,
    "start_time": "2022-02-07T11:19:38.679Z"
   },
   {
    "duration": 40,
    "start_time": "2022-02-07T11:19:38.709Z"
   },
   {
    "duration": 13,
    "start_time": "2022-02-07T11:19:38.751Z"
   },
   {
    "duration": 40,
    "start_time": "2022-02-07T11:19:38.767Z"
   },
   {
    "duration": 15,
    "start_time": "2022-02-07T11:19:38.809Z"
   },
   {
    "duration": 27,
    "start_time": "2022-02-07T11:19:38.825Z"
   },
   {
    "duration": 30091,
    "start_time": "2022-02-07T11:19:38.854Z"
   },
   {
    "duration": 4,
    "start_time": "2022-02-07T11:20:08.947Z"
   },
   {
    "duration": 39,
    "start_time": "2022-02-07T11:20:08.953Z"
   },
   {
    "duration": 29,
    "start_time": "2022-02-07T11:20:08.994Z"
   },
   {
    "duration": 16,
    "start_time": "2022-02-07T11:20:09.024Z"
   },
   {
    "duration": 34,
    "start_time": "2022-02-07T11:20:09.041Z"
   },
   {
    "duration": 16,
    "start_time": "2022-02-07T11:20:09.077Z"
   },
   {
    "duration": 19,
    "start_time": "2022-02-07T11:20:09.095Z"
   },
   {
    "duration": 30,
    "start_time": "2022-02-07T11:20:09.116Z"
   },
   {
    "duration": 11,
    "start_time": "2022-02-07T11:20:09.148Z"
   },
   {
    "duration": 19,
    "start_time": "2022-02-07T11:20:09.160Z"
   },
   {
    "duration": 33,
    "start_time": "2022-02-07T11:20:09.181Z"
   },
   {
    "duration": 33,
    "start_time": "2022-02-07T11:20:09.216Z"
   },
   {
    "duration": 30,
    "start_time": "2022-02-07T11:20:09.251Z"
   },
   {
    "duration": 8,
    "start_time": "2022-02-07T11:22:39.472Z"
   },
   {
    "duration": 8,
    "start_time": "2022-02-07T11:22:55.927Z"
   },
   {
    "duration": 11,
    "start_time": "2022-02-07T11:23:13.781Z"
   },
   {
    "duration": 2272,
    "start_time": "2022-02-07T11:23:24.557Z"
   },
   {
    "duration": 9,
    "start_time": "2022-02-07T11:23:27.262Z"
   },
   {
    "duration": 1979,
    "start_time": "2022-02-07T11:23:40.695Z"
   },
   {
    "duration": 37314,
    "start_time": "2022-02-07T11:23:05.361Z"
   },
   {
    "duration": 5,
    "start_time": "2022-02-07T11:25:15.238Z"
   },
   {
    "duration": 5,
    "start_time": "2022-02-07T11:25:22.317Z"
   },
   {
    "duration": 21,
    "start_time": "2022-02-07T11:26:05.191Z"
   },
   {
    "duration": 18,
    "start_time": "2022-02-07T11:26:21.043Z"
   },
   {
    "duration": 19,
    "start_time": "2022-02-07T11:26:29.875Z"
   },
   {
    "duration": 1197,
    "start_time": "2022-02-07T11:26:35.094Z"
   },
   {
    "duration": 59,
    "start_time": "2022-02-07T11:26:36.293Z"
   },
   {
    "duration": 13,
    "start_time": "2022-02-07T11:26:36.355Z"
   },
   {
    "duration": 37,
    "start_time": "2022-02-07T11:26:36.371Z"
   },
   {
    "duration": 18,
    "start_time": "2022-02-07T11:26:36.410Z"
   },
   {
    "duration": 10,
    "start_time": "2022-02-07T11:26:36.430Z"
   },
   {
    "duration": 64,
    "start_time": "2022-02-07T11:26:36.442Z"
   },
   {
    "duration": 14,
    "start_time": "2022-02-07T11:26:36.509Z"
   },
   {
    "duration": 16,
    "start_time": "2022-02-07T11:26:36.524Z"
   },
   {
    "duration": 7,
    "start_time": "2022-02-07T11:26:36.541Z"
   },
   {
    "duration": 23,
    "start_time": "2022-02-07T11:26:36.549Z"
   },
   {
    "duration": 30898,
    "start_time": "2022-02-07T11:26:36.573Z"
   },
   {
    "duration": 4,
    "start_time": "2022-02-07T11:27:07.473Z"
   },
   {
    "duration": 33,
    "start_time": "2022-02-07T11:27:07.479Z"
   },
   {
    "duration": 21,
    "start_time": "2022-02-07T11:27:07.514Z"
   },
   {
    "duration": 7,
    "start_time": "2022-02-07T11:27:07.537Z"
   },
   {
    "duration": 23,
    "start_time": "2022-02-07T11:27:07.545Z"
   },
   {
    "duration": 33,
    "start_time": "2022-02-07T11:27:07.570Z"
   },
   {
    "duration": 11,
    "start_time": "2022-02-07T11:27:07.605Z"
   },
   {
    "duration": 21,
    "start_time": "2022-02-07T11:27:07.618Z"
   },
   {
    "duration": 7,
    "start_time": "2022-02-07T11:27:07.641Z"
   },
   {
    "duration": 10,
    "start_time": "2022-02-07T11:27:07.649Z"
   },
   {
    "duration": 51,
    "start_time": "2022-02-07T11:27:07.662Z"
   },
   {
    "duration": 6,
    "start_time": "2022-02-07T11:27:07.715Z"
   },
   {
    "duration": 3,
    "start_time": "2022-02-07T11:27:07.723Z"
   },
   {
    "duration": 379,
    "start_time": "2022-02-07T11:27:07.728Z"
   },
   {
    "duration": 8,
    "start_time": "2022-02-07T11:29:44.514Z"
   },
   {
    "duration": 284,
    "start_time": "2022-02-07T11:33:22.712Z"
   },
   {
    "duration": 1283,
    "start_time": "2022-02-07T11:33:44.885Z"
   },
   {
    "duration": 56,
    "start_time": "2022-02-07T11:33:46.170Z"
   },
   {
    "duration": 17,
    "start_time": "2022-02-07T11:33:46.229Z"
   },
   {
    "duration": 33,
    "start_time": "2022-02-07T11:33:46.248Z"
   },
   {
    "duration": 29,
    "start_time": "2022-02-07T11:33:46.283Z"
   },
   {
    "duration": 13,
    "start_time": "2022-02-07T11:33:46.314Z"
   },
   {
    "duration": 43,
    "start_time": "2022-02-07T11:33:46.329Z"
   },
   {
    "duration": 37,
    "start_time": "2022-02-07T11:33:46.376Z"
   },
   {
    "duration": 16,
    "start_time": "2022-02-07T11:33:46.415Z"
   },
   {
    "duration": 6,
    "start_time": "2022-02-07T11:33:46.432Z"
   },
   {
    "duration": 23,
    "start_time": "2022-02-07T11:33:46.439Z"
   },
   {
    "duration": 31438,
    "start_time": "2022-02-07T11:33:46.464Z"
   },
   {
    "duration": 5,
    "start_time": "2022-02-07T11:34:17.904Z"
   },
   {
    "duration": 32,
    "start_time": "2022-02-07T11:34:17.910Z"
   },
   {
    "duration": 21,
    "start_time": "2022-02-07T11:34:17.944Z"
   },
   {
    "duration": 8,
    "start_time": "2022-02-07T11:34:17.967Z"
   },
   {
    "duration": 20,
    "start_time": "2022-02-07T11:34:17.998Z"
   },
   {
    "duration": 10,
    "start_time": "2022-02-07T11:34:18.020Z"
   },
   {
    "duration": 14,
    "start_time": "2022-02-07T11:34:18.032Z"
   },
   {
    "duration": 50,
    "start_time": "2022-02-07T11:34:18.048Z"
   },
   {
    "duration": 7,
    "start_time": "2022-02-07T11:34:18.101Z"
   },
   {
    "duration": 18,
    "start_time": "2022-02-07T11:34:18.109Z"
   },
   {
    "duration": 24,
    "start_time": "2022-02-07T11:34:18.130Z"
   },
   {
    "duration": 4,
    "start_time": "2022-02-07T11:34:18.156Z"
   },
   {
    "duration": 17,
    "start_time": "2022-02-07T11:34:18.162Z"
   },
   {
    "duration": 423,
    "start_time": "2022-02-07T11:34:18.180Z"
   },
   {
    "duration": 386,
    "start_time": "2022-02-07T11:35:28.037Z"
   },
   {
    "duration": 15,
    "start_time": "2022-02-07T11:36:56.540Z"
   },
   {
    "duration": 13,
    "start_time": "2022-02-07T11:37:43.964Z"
   },
   {
    "duration": 12,
    "start_time": "2022-02-07T11:37:57.670Z"
   },
   {
    "duration": 12,
    "start_time": "2022-02-07T11:38:36.739Z"
   },
   {
    "duration": 14,
    "start_time": "2022-02-07T11:39:21.568Z"
   },
   {
    "duration": 267,
    "start_time": "2022-02-07T11:39:58.341Z"
   },
   {
    "duration": 15,
    "start_time": "2022-02-07T11:40:17.068Z"
   },
   {
    "duration": 224,
    "start_time": "2022-02-07T11:40:27.527Z"
   },
   {
    "duration": 16,
    "start_time": "2022-02-07T11:40:45.676Z"
   },
   {
    "duration": 15,
    "start_time": "2022-02-07T11:42:55.434Z"
   },
   {
    "duration": 14,
    "start_time": "2022-02-07T11:43:24.554Z"
   },
   {
    "duration": 15,
    "start_time": "2022-02-07T11:45:35.609Z"
   },
   {
    "duration": 271,
    "start_time": "2022-02-07T11:46:04.628Z"
   },
   {
    "duration": 8,
    "start_time": "2022-02-07T11:46:20.536Z"
   },
   {
    "duration": 15,
    "start_time": "2022-02-07T11:47:46.304Z"
   },
   {
    "duration": 37146,
    "start_time": "2022-02-07T11:47:36.466Z"
   },
   {
    "duration": 37144,
    "start_time": "2022-02-07T11:47:36.469Z"
   },
   {
    "duration": 16,
    "start_time": "2022-02-07T11:48:30.266Z"
   },
   {
    "duration": 8,
    "start_time": "2022-02-07T11:53:32.728Z"
   },
   {
    "duration": 9,
    "start_time": "2022-02-07T11:53:45.154Z"
   },
   {
    "duration": 7,
    "start_time": "2022-02-07T11:53:53.265Z"
   },
   {
    "duration": 7,
    "start_time": "2022-02-07T11:54:21.821Z"
   },
   {
    "duration": 262,
    "start_time": "2022-02-07T11:56:25.297Z"
   },
   {
    "duration": 15,
    "start_time": "2022-02-07T11:56:36.507Z"
   },
   {
    "duration": 303,
    "start_time": "2022-02-07T11:57:02.764Z"
   },
   {
    "duration": 19,
    "start_time": "2022-02-07T11:57:15.671Z"
   },
   {
    "duration": 7,
    "start_time": "2022-02-07T12:04:16.296Z"
   },
   {
    "duration": 37,
    "start_time": "2022-02-07T12:04:35.235Z"
   },
   {
    "duration": 37235,
    "start_time": "2022-02-07T12:04:21.710Z"
   },
   {
    "duration": 19,
    "start_time": "2022-02-07T12:05:10.640Z"
   },
   {
    "duration": 6691,
    "start_time": "2022-02-07T12:05:13.681Z"
   },
   {
    "duration": 8,
    "start_time": "2022-02-07T12:05:31.306Z"
   },
   {
    "duration": 115,
    "start_time": "2022-02-07T12:06:34.329Z"
   },
   {
    "duration": 99,
    "start_time": "2022-02-07T12:06:38.115Z"
   },
   {
    "duration": 157,
    "start_time": "2022-02-07T12:06:45.075Z"
   },
   {
    "duration": 20,
    "start_time": "2022-02-07T12:06:52.488Z"
   },
   {
    "duration": 320,
    "start_time": "2022-02-23T10:22:15.227Z"
   },
   {
    "duration": 1416,
    "start_time": "2022-02-23T10:22:29.400Z"
   },
   {
    "duration": 65,
    "start_time": "2022-02-23T10:22:30.819Z"
   },
   {
    "duration": 30,
    "start_time": "2022-02-23T10:22:30.887Z"
   },
   {
    "duration": 605,
    "start_time": "2022-02-23T10:22:30.920Z"
   },
   {
    "duration": 4154,
    "start_time": "2022-02-23T10:22:27.375Z"
   },
   {
    "duration": 4146,
    "start_time": "2022-02-23T10:22:27.385Z"
   },
   {
    "duration": 4144,
    "start_time": "2022-02-23T10:22:27.388Z"
   },
   {
    "duration": 4135,
    "start_time": "2022-02-23T10:22:27.399Z"
   },
   {
    "duration": 4135,
    "start_time": "2022-02-23T10:22:27.401Z"
   },
   {
    "duration": 4134,
    "start_time": "2022-02-23T10:22:27.403Z"
   },
   {
    "duration": 4133,
    "start_time": "2022-02-23T10:22:27.405Z"
   },
   {
    "duration": 4123,
    "start_time": "2022-02-23T10:22:27.416Z"
   },
   {
    "duration": 4121,
    "start_time": "2022-02-23T10:22:27.419Z"
   },
   {
    "duration": 4120,
    "start_time": "2022-02-23T10:22:27.421Z"
   },
   {
    "duration": 4109,
    "start_time": "2022-02-23T10:22:27.433Z"
   },
   {
    "duration": 4108,
    "start_time": "2022-02-23T10:22:27.435Z"
   },
   {
    "duration": 4107,
    "start_time": "2022-02-23T10:22:27.437Z"
   },
   {
    "duration": 4104,
    "start_time": "2022-02-23T10:22:27.441Z"
   },
   {
    "duration": 4103,
    "start_time": "2022-02-23T10:22:27.443Z"
   },
   {
    "duration": 4100,
    "start_time": "2022-02-23T10:22:27.446Z"
   },
   {
    "duration": 4100,
    "start_time": "2022-02-23T10:22:27.447Z"
   },
   {
    "duration": 4098,
    "start_time": "2022-02-23T10:22:27.450Z"
   },
   {
    "duration": 4098,
    "start_time": "2022-02-23T10:22:27.451Z"
   },
   {
    "duration": 4096,
    "start_time": "2022-02-23T10:22:27.454Z"
   },
   {
    "duration": 4094,
    "start_time": "2022-02-23T10:22:27.457Z"
   },
   {
    "duration": 20,
    "start_time": "2022-02-23T10:23:08.424Z"
   },
   {
    "duration": 237,
    "start_time": "2022-02-23T10:23:50.184Z"
   },
   {
    "duration": 230,
    "start_time": "2022-02-23T10:23:54.475Z"
   },
   {
    "duration": 1190,
    "start_time": "2022-02-23T10:24:08.512Z"
   },
   {
    "duration": 52,
    "start_time": "2022-02-23T10:24:09.704Z"
   },
   {
    "duration": 12,
    "start_time": "2022-02-23T10:24:09.758Z"
   },
   {
    "duration": 39,
    "start_time": "2022-02-23T10:24:09.772Z"
   },
   {
    "duration": 348,
    "start_time": "2022-02-23T10:24:09.813Z"
   },
   {
    "duration": 4199,
    "start_time": "2022-02-23T10:24:05.965Z"
   },
   {
    "duration": 4197,
    "start_time": "2022-02-23T10:24:05.968Z"
   },
   {
    "duration": 4196,
    "start_time": "2022-02-23T10:24:05.971Z"
   },
   {
    "duration": 4193,
    "start_time": "2022-02-23T10:24:05.975Z"
   },
   {
    "duration": 4191,
    "start_time": "2022-02-23T10:24:05.978Z"
   },
   {
    "duration": 4188,
    "start_time": "2022-02-23T10:24:05.982Z"
   },
   {
    "duration": 4187,
    "start_time": "2022-02-23T10:24:05.984Z"
   },
   {
    "duration": 4186,
    "start_time": "2022-02-23T10:24:05.986Z"
   },
   {
    "duration": 4184,
    "start_time": "2022-02-23T10:24:05.989Z"
   },
   {
    "duration": 4183,
    "start_time": "2022-02-23T10:24:05.991Z"
   },
   {
    "duration": 4182,
    "start_time": "2022-02-23T10:24:05.993Z"
   },
   {
    "duration": 4178,
    "start_time": "2022-02-23T10:24:05.998Z"
   },
   {
    "duration": 4160,
    "start_time": "2022-02-23T10:24:06.017Z"
   },
   {
    "duration": 4152,
    "start_time": "2022-02-23T10:24:06.026Z"
   },
   {
    "duration": 4137,
    "start_time": "2022-02-23T10:24:06.042Z"
   },
   {
    "duration": 4126,
    "start_time": "2022-02-23T10:24:06.054Z"
   },
   {
    "duration": 4124,
    "start_time": "2022-02-23T10:24:06.057Z"
   },
   {
    "duration": 4122,
    "start_time": "2022-02-23T10:24:06.060Z"
   },
   {
    "duration": 4109,
    "start_time": "2022-02-23T10:24:06.074Z"
   },
   {
    "duration": 4108,
    "start_time": "2022-02-23T10:24:06.076Z"
   },
   {
    "duration": 271,
    "start_time": "2022-02-23T10:26:18.256Z"
   },
   {
    "duration": 1195,
    "start_time": "2022-02-23T10:26:58.301Z"
   },
   {
    "duration": 55,
    "start_time": "2022-02-23T10:26:59.498Z"
   },
   {
    "duration": 13,
    "start_time": "2022-02-23T10:26:59.556Z"
   },
   {
    "duration": 35,
    "start_time": "2022-02-23T10:26:59.572Z"
   },
   {
    "duration": 442,
    "start_time": "2022-02-23T10:26:59.609Z"
   },
   {
    "duration": 4021,
    "start_time": "2022-02-23T10:26:56.033Z"
   },
   {
    "duration": 4020,
    "start_time": "2022-02-23T10:26:56.036Z"
   },
   {
    "duration": 4020,
    "start_time": "2022-02-23T10:26:56.038Z"
   },
   {
    "duration": 4020,
    "start_time": "2022-02-23T10:26:56.040Z"
   },
   {
    "duration": 4019,
    "start_time": "2022-02-23T10:26:56.043Z"
   },
   {
    "duration": 4019,
    "start_time": "2022-02-23T10:26:56.045Z"
   },
   {
    "duration": 4019,
    "start_time": "2022-02-23T10:26:56.046Z"
   },
   {
    "duration": 4012,
    "start_time": "2022-02-23T10:26:56.055Z"
   },
   {
    "duration": 4010,
    "start_time": "2022-02-23T10:26:56.059Z"
   },
   {
    "duration": 4009,
    "start_time": "2022-02-23T10:26:56.061Z"
   },
   {
    "duration": 4009,
    "start_time": "2022-02-23T10:26:56.063Z"
   },
   {
    "duration": 4008,
    "start_time": "2022-02-23T10:26:56.065Z"
   },
   {
    "duration": 4009,
    "start_time": "2022-02-23T10:26:56.066Z"
   },
   {
    "duration": 4009,
    "start_time": "2022-02-23T10:26:56.068Z"
   },
   {
    "duration": 4008,
    "start_time": "2022-02-23T10:26:56.070Z"
   },
   {
    "duration": 4009,
    "start_time": "2022-02-23T10:26:56.071Z"
   },
   {
    "duration": 4008,
    "start_time": "2022-02-23T10:26:56.073Z"
   },
   {
    "duration": 4007,
    "start_time": "2022-02-23T10:26:56.075Z"
   },
   {
    "duration": 4006,
    "start_time": "2022-02-23T10:26:56.077Z"
   },
   {
    "duration": 4006,
    "start_time": "2022-02-23T10:26:56.078Z"
   },
   {
    "duration": 11,
    "start_time": "2022-02-23T10:27:36.595Z"
   },
   {
    "duration": 14,
    "start_time": "2022-02-23T10:27:43.733Z"
   },
   {
    "duration": 55,
    "start_time": "2022-02-23T10:31:08.787Z"
   },
   {
    "duration": 12,
    "start_time": "2022-02-23T10:31:08.845Z"
   },
   {
    "duration": 8,
    "start_time": "2022-02-23T10:31:08.859Z"
   },
   {
    "duration": 58,
    "start_time": "2022-02-23T10:31:08.868Z"
   },
   {
    "duration": 51242,
    "start_time": "2022-02-23T10:31:08.928Z"
   },
   {
    "duration": 4,
    "start_time": "2022-02-23T10:32:00.172Z"
   },
   {
    "duration": 257,
    "start_time": "2022-02-23T10:32:00.178Z"
   },
   {
    "duration": 4147,
    "start_time": "2022-02-23T10:31:56.290Z"
   },
   {
    "duration": 1351,
    "start_time": "2022-02-23T10:33:00.141Z"
   },
   {
    "duration": 51,
    "start_time": "2022-02-23T10:33:01.494Z"
   },
   {
    "duration": 13,
    "start_time": "2022-02-23T10:33:01.548Z"
   },
   {
    "duration": 44,
    "start_time": "2022-02-23T10:33:01.563Z"
   },
   {
    "duration": 65,
    "start_time": "2022-02-23T10:33:01.609Z"
   },
   {
    "duration": 16,
    "start_time": "2022-02-23T10:33:01.676Z"
   },
   {
    "duration": 23,
    "start_time": "2022-02-23T10:33:01.695Z"
   },
   {
    "duration": 21,
    "start_time": "2022-02-23T10:33:01.720Z"
   },
   {
    "duration": 27,
    "start_time": "2022-02-23T10:33:01.746Z"
   },
   {
    "duration": 39490,
    "start_time": "2022-02-23T10:33:01.776Z"
   },
   {
    "duration": 342,
    "start_time": "2022-02-23T10:33:41.268Z"
   },
   {
    "duration": 4158,
    "start_time": "2022-02-23T10:33:37.454Z"
   },
   {
    "duration": 4154,
    "start_time": "2022-02-23T10:33:37.460Z"
   },
   {
    "duration": 4152,
    "start_time": "2022-02-23T10:33:37.463Z"
   },
   {
    "duration": 4150,
    "start_time": "2022-02-23T10:33:37.466Z"
   },
   {
    "duration": 4148,
    "start_time": "2022-02-23T10:33:37.469Z"
   },
   {
    "duration": 4147,
    "start_time": "2022-02-23T10:33:37.471Z"
   },
   {
    "duration": 4146,
    "start_time": "2022-02-23T10:33:37.473Z"
   },
   {
    "duration": 4146,
    "start_time": "2022-02-23T10:33:37.474Z"
   },
   {
    "duration": 4145,
    "start_time": "2022-02-23T10:33:37.476Z"
   },
   {
    "duration": 4143,
    "start_time": "2022-02-23T10:33:37.478Z"
   },
   {
    "duration": 4142,
    "start_time": "2022-02-23T10:33:37.480Z"
   },
   {
    "duration": 4140,
    "start_time": "2022-02-23T10:33:37.483Z"
   },
   {
    "duration": 4138,
    "start_time": "2022-02-23T10:33:37.486Z"
   },
   {
    "duration": 366,
    "start_time": "2022-02-23T10:35:01.479Z"
   },
   {
    "duration": 1436,
    "start_time": "2022-02-23T10:35:10.629Z"
   },
   {
    "duration": 57,
    "start_time": "2022-02-23T10:35:12.067Z"
   },
   {
    "duration": 13,
    "start_time": "2022-02-23T10:35:12.127Z"
   },
   {
    "duration": 20,
    "start_time": "2022-02-23T10:35:12.142Z"
   },
   {
    "duration": 73,
    "start_time": "2022-02-23T10:35:12.164Z"
   },
   {
    "duration": 17,
    "start_time": "2022-02-23T10:35:12.239Z"
   },
   {
    "duration": 13,
    "start_time": "2022-02-23T10:35:12.258Z"
   },
   {
    "duration": 34,
    "start_time": "2022-02-23T10:35:12.274Z"
   },
   {
    "duration": 29,
    "start_time": "2022-02-23T10:35:12.311Z"
   },
   {
    "duration": 39894,
    "start_time": "2022-02-23T10:35:12.342Z"
   },
   {
    "duration": 342,
    "start_time": "2022-02-23T10:35:52.238Z"
   },
   {
    "duration": 4253,
    "start_time": "2022-02-23T10:35:48.329Z"
   },
   {
    "duration": 4252,
    "start_time": "2022-02-23T10:35:48.332Z"
   },
   {
    "duration": 4252,
    "start_time": "2022-02-23T10:35:48.333Z"
   },
   {
    "duration": 4251,
    "start_time": "2022-02-23T10:35:48.335Z"
   },
   {
    "duration": 4249,
    "start_time": "2022-02-23T10:35:48.338Z"
   },
   {
    "duration": 4248,
    "start_time": "2022-02-23T10:35:48.341Z"
   },
   {
    "duration": 4247,
    "start_time": "2022-02-23T10:35:48.343Z"
   },
   {
    "duration": 4246,
    "start_time": "2022-02-23T10:35:48.345Z"
   },
   {
    "duration": 4247,
    "start_time": "2022-02-23T10:35:48.346Z"
   },
   {
    "duration": 4246,
    "start_time": "2022-02-23T10:35:48.348Z"
   },
   {
    "duration": 4244,
    "start_time": "2022-02-23T10:35:48.351Z"
   },
   {
    "duration": 4239,
    "start_time": "2022-02-23T10:35:48.359Z"
   },
   {
    "duration": 4237,
    "start_time": "2022-02-23T10:35:48.362Z"
   },
   {
    "duration": 233,
    "start_time": "2022-02-23T10:36:10.247Z"
   },
   {
    "duration": 6,
    "start_time": "2022-02-23T10:36:16.281Z"
   },
   {
    "duration": 23,
    "start_time": "2022-02-23T10:36:18.409Z"
   },
   {
    "duration": 23,
    "start_time": "2022-02-23T10:36:22.073Z"
   },
   {
    "duration": 9,
    "start_time": "2022-02-23T10:36:26.398Z"
   },
   {
    "duration": 21,
    "start_time": "2022-02-23T10:36:28.965Z"
   },
   {
    "duration": 246,
    "start_time": "2022-02-23T10:36:35.129Z"
   },
   {
    "duration": 326,
    "start_time": "2022-02-23T10:36:40.410Z"
   },
   {
    "duration": 24,
    "start_time": "2022-02-23T10:36:48.791Z"
   },
   {
    "duration": 1229,
    "start_time": "2022-02-23T10:38:14.510Z"
   },
   {
    "duration": 50,
    "start_time": "2022-02-23T10:38:15.742Z"
   },
   {
    "duration": 22,
    "start_time": "2022-02-23T10:38:15.794Z"
   },
   {
    "duration": 21,
    "start_time": "2022-02-23T10:38:15.818Z"
   },
   {
    "duration": 66,
    "start_time": "2022-02-23T10:38:15.841Z"
   },
   {
    "duration": 15,
    "start_time": "2022-02-23T10:38:15.910Z"
   },
   {
    "duration": 16,
    "start_time": "2022-02-23T10:38:15.927Z"
   },
   {
    "duration": 6,
    "start_time": "2022-02-23T10:38:15.947Z"
   },
   {
    "duration": 61,
    "start_time": "2022-02-23T10:38:15.956Z"
   },
   {
    "duration": 40859,
    "start_time": "2022-02-23T10:38:16.020Z"
   },
   {
    "duration": 337,
    "start_time": "2022-02-23T10:38:56.881Z"
   },
   {
    "duration": 4156,
    "start_time": "2022-02-23T10:38:53.064Z"
   },
   {
    "duration": 4153,
    "start_time": "2022-02-23T10:38:53.068Z"
   },
   {
    "duration": 4152,
    "start_time": "2022-02-23T10:38:53.070Z"
   },
   {
    "duration": 4151,
    "start_time": "2022-02-23T10:38:53.072Z"
   },
   {
    "duration": 4149,
    "start_time": "2022-02-23T10:38:53.075Z"
   },
   {
    "duration": 4150,
    "start_time": "2022-02-23T10:38:53.076Z"
   },
   {
    "duration": 4149,
    "start_time": "2022-02-23T10:38:53.078Z"
   },
   {
    "duration": 4148,
    "start_time": "2022-02-23T10:38:53.080Z"
   },
   {
    "duration": 4147,
    "start_time": "2022-02-23T10:38:53.082Z"
   },
   {
    "duration": 4144,
    "start_time": "2022-02-23T10:38:53.086Z"
   },
   {
    "duration": 4144,
    "start_time": "2022-02-23T10:38:53.088Z"
   },
   {
    "duration": 4141,
    "start_time": "2022-02-23T10:38:53.091Z"
   },
   {
    "duration": 4139,
    "start_time": "2022-02-23T10:38:53.095Z"
   },
   {
    "duration": 233,
    "start_time": "2022-02-23T10:39:44.617Z"
   },
   {
    "duration": 244,
    "start_time": "2022-02-23T10:40:36.730Z"
   },
   {
    "duration": 260,
    "start_time": "2022-02-23T10:40:47.911Z"
   },
   {
    "duration": 7,
    "start_time": "2022-02-23T10:40:52.074Z"
   },
   {
    "duration": 1314,
    "start_time": "2022-02-23T10:41:40.686Z"
   },
   {
    "duration": 54,
    "start_time": "2022-02-23T10:41:42.003Z"
   },
   {
    "duration": 12,
    "start_time": "2022-02-23T10:41:42.062Z"
   },
   {
    "duration": 39,
    "start_time": "2022-02-23T10:41:42.076Z"
   },
   {
    "duration": 40,
    "start_time": "2022-02-23T10:41:42.117Z"
   },
   {
    "duration": 13,
    "start_time": "2022-02-23T10:41:42.159Z"
   },
   {
    "duration": 38,
    "start_time": "2022-02-23T10:41:42.175Z"
   },
   {
    "duration": 6,
    "start_time": "2022-02-23T10:41:42.215Z"
   },
   {
    "duration": 24,
    "start_time": "2022-02-23T10:41:42.223Z"
   },
   {
    "duration": 39216,
    "start_time": "2022-02-23T10:41:42.248Z"
   },
   {
    "duration": 5,
    "start_time": "2022-02-23T10:42:21.466Z"
   },
   {
    "duration": 44,
    "start_time": "2022-02-23T10:42:21.473Z"
   },
   {
    "duration": 24,
    "start_time": "2022-02-23T10:42:21.520Z"
   },
   {
    "duration": 10,
    "start_time": "2022-02-23T10:42:21.546Z"
   },
   {
    "duration": 55,
    "start_time": "2022-02-23T10:42:21.559Z"
   },
   {
    "duration": 13,
    "start_time": "2022-02-23T10:42:21.616Z"
   },
   {
    "duration": 17,
    "start_time": "2022-02-23T10:42:21.632Z"
   },
   {
    "duration": 56,
    "start_time": "2022-02-23T10:42:21.651Z"
   },
   {
    "duration": 10,
    "start_time": "2022-02-23T10:42:21.709Z"
   },
   {
    "duration": 31,
    "start_time": "2022-02-23T10:42:21.720Z"
   },
   {
    "duration": 19,
    "start_time": "2022-02-23T10:42:21.753Z"
   },
   {
    "duration": 34,
    "start_time": "2022-02-23T10:42:21.775Z"
   },
   {
    "duration": 8,
    "start_time": "2022-02-23T10:42:21.811Z"
   },
   {
    "duration": 6,
    "start_time": "2022-02-23T10:42:26.423Z"
   },
   {
    "duration": 11,
    "start_time": "2022-02-23T10:42:39.321Z"
   },
   {
    "duration": 5,
    "start_time": "2022-02-23T10:42:52.706Z"
   },
   {
    "duration": 10,
    "start_time": "2022-02-23T10:48:12.110Z"
   },
   {
    "duration": 5,
    "start_time": "2022-02-23T10:48:15.052Z"
   },
   {
    "duration": 4,
    "start_time": "2022-02-23T10:48:54.845Z"
   },
   {
    "duration": 4,
    "start_time": "2022-02-23T10:48:58.623Z"
   },
   {
    "duration": 11,
    "start_time": "2022-02-23T10:49:08.152Z"
   },
   {
    "duration": 9,
    "start_time": "2022-02-23T10:50:14.631Z"
   },
   {
    "duration": 328,
    "start_time": "2022-02-23T10:52:39.397Z"
   },
   {
    "duration": 1260,
    "start_time": "2022-02-23T10:53:01.764Z"
   },
   {
    "duration": 57,
    "start_time": "2022-02-23T10:53:03.027Z"
   },
   {
    "duration": 25,
    "start_time": "2022-02-23T10:53:03.086Z"
   },
   {
    "duration": 20,
    "start_time": "2022-02-23T10:53:03.113Z"
   },
   {
    "duration": 44,
    "start_time": "2022-02-23T10:53:03.135Z"
   },
   {
    "duration": 17,
    "start_time": "2022-02-23T10:53:03.208Z"
   },
   {
    "duration": 16,
    "start_time": "2022-02-23T10:53:03.227Z"
   },
   {
    "duration": 13,
    "start_time": "2022-02-23T10:53:03.246Z"
   },
   {
    "duration": 49,
    "start_time": "2022-02-23T10:53:03.262Z"
   },
   {
    "duration": 39287,
    "start_time": "2022-02-23T10:53:03.313Z"
   },
   {
    "duration": 6,
    "start_time": "2022-02-23T10:53:42.603Z"
   },
   {
    "duration": 35,
    "start_time": "2022-02-23T10:53:42.611Z"
   },
   {
    "duration": 13,
    "start_time": "2022-02-23T10:53:42.648Z"
   },
   {
    "duration": 20,
    "start_time": "2022-02-23T10:53:42.664Z"
   },
   {
    "duration": 43,
    "start_time": "2022-02-23T10:53:42.686Z"
   },
   {
    "duration": 34,
    "start_time": "2022-02-23T10:53:42.731Z"
   },
   {
    "duration": 21,
    "start_time": "2022-02-23T10:53:42.767Z"
   },
   {
    "duration": 19,
    "start_time": "2022-02-23T10:53:42.790Z"
   },
   {
    "duration": 56,
    "start_time": "2022-02-23T10:53:42.811Z"
   },
   {
    "duration": 12,
    "start_time": "2022-02-23T10:53:42.869Z"
   },
   {
    "duration": 28,
    "start_time": "2022-02-23T10:53:42.883Z"
   },
   {
    "duration": 33,
    "start_time": "2022-02-23T10:53:42.913Z"
   },
   {
    "duration": 8,
    "start_time": "2022-02-23T10:53:42.950Z"
   },
   {
    "duration": 17,
    "start_time": "2022-02-23T10:53:42.960Z"
   },
   {
    "duration": 4264,
    "start_time": "2022-02-23T10:53:39.078Z"
   },
   {
    "duration": 4263,
    "start_time": "2022-02-23T10:53:39.081Z"
   },
   {
    "duration": 4261,
    "start_time": "2022-02-23T10:53:39.085Z"
   },
   {
    "duration": 4266,
    "start_time": "2022-02-23T10:53:39.088Z"
   },
   {
    "duration": 250,
    "start_time": "2022-02-23T10:53:49.066Z"
   },
   {
    "duration": 275,
    "start_time": "2022-02-23T10:55:18.042Z"
   },
   {
    "duration": 13,
    "start_time": "2022-02-23T10:55:39.160Z"
   },
   {
    "duration": 13,
    "start_time": "2022-02-23T10:55:55.796Z"
   },
   {
    "duration": 491,
    "start_time": "2022-02-23T10:56:03.937Z"
   },
   {
    "duration": 19,
    "start_time": "2022-02-23T10:56:08.712Z"
   },
   {
    "duration": 17,
    "start_time": "2022-02-23T10:56:16.247Z"
   },
   {
    "duration": 9,
    "start_time": "2022-02-23T10:56:25.252Z"
   },
   {
    "duration": 229,
    "start_time": "2022-02-23T10:58:02.510Z"
   },
   {
    "duration": 18,
    "start_time": "2022-02-23T10:58:11.805Z"
   },
   {
    "duration": 6314,
    "start_time": "2022-02-23T10:58:48.977Z"
   },
   {
    "duration": 7,
    "start_time": "2022-02-23T10:59:09.069Z"
   },
   {
    "duration": 19,
    "start_time": "2022-02-23T11:05:30.822Z"
   },
   {
    "duration": 11,
    "start_time": "2022-02-23T11:08:13.162Z"
   },
   {
    "duration": 4118,
    "start_time": "2022-02-23T11:08:53.050Z"
   },
   {
    "duration": 233,
    "start_time": "2022-02-23T11:11:18.988Z"
   },
   {
    "duration": 2764,
    "start_time": "2022-02-23T11:16:40.858Z"
   },
   {
    "duration": 305,
    "start_time": "2022-02-23T11:17:46.932Z"
   },
   {
    "duration": 6,
    "start_time": "2022-02-23T11:19:09.981Z"
   },
   {
    "duration": 242,
    "start_time": "2022-02-23T11:19:12.961Z"
   },
   {
    "duration": 8,
    "start_time": "2022-02-23T11:19:19.329Z"
   },
   {
    "duration": 255,
    "start_time": "2022-02-23T11:19:20.718Z"
   },
   {
    "duration": 16,
    "start_time": "2022-02-23T11:20:52.553Z"
   },
   {
    "duration": 286,
    "start_time": "2022-02-23T11:24:17.611Z"
   },
   {
    "duration": 16,
    "start_time": "2022-02-23T11:24:23.446Z"
   },
   {
    "duration": 259,
    "start_time": "2022-02-23T11:24:25.352Z"
   },
   {
    "duration": 336,
    "start_time": "2022-02-23T11:24:31.034Z"
   },
   {
    "duration": 328,
    "start_time": "2022-02-23T11:24:48.863Z"
   },
   {
    "duration": 356,
    "start_time": "2022-02-23T11:25:01.369Z"
   },
   {
    "duration": 2551,
    "start_time": "2022-02-23T11:25:16.608Z"
   },
   {
    "duration": 1349,
    "start_time": "2022-02-23T11:25:49.010Z"
   },
   {
    "duration": 122,
    "start_time": "2022-02-23T11:28:27.224Z"
   },
   {
    "duration": 76,
    "start_time": "2022-02-23T11:28:55.942Z"
   },
   {
    "duration": 1153,
    "start_time": "2022-02-23T11:29:28.299Z"
   },
   {
    "duration": 1251,
    "start_time": "2022-02-23T11:29:37.228Z"
   },
   {
    "duration": 1135,
    "start_time": "2022-02-23T11:29:46.112Z"
   },
   {
    "duration": 131,
    "start_time": "2022-02-23T11:33:17.554Z"
   },
   {
    "duration": 17,
    "start_time": "2022-02-23T11:33:38.198Z"
   },
   {
    "duration": 15,
    "start_time": "2022-02-23T11:33:50.133Z"
   },
   {
    "duration": 20,
    "start_time": "2022-02-23T11:33:57.267Z"
   },
   {
    "duration": 15,
    "start_time": "2022-02-23T11:34:03.559Z"
   },
   {
    "duration": 11,
    "start_time": "2022-02-23T11:34:14.675Z"
   },
   {
    "duration": 83,
    "start_time": "2022-02-23T11:34:27.099Z"
   },
   {
    "duration": 12,
    "start_time": "2022-02-23T11:34:34.088Z"
   },
   {
    "duration": 83,
    "start_time": "2022-02-23T11:34:45.210Z"
   },
   {
    "duration": 128,
    "start_time": "2022-02-23T11:34:49.928Z"
   },
   {
    "duration": 12,
    "start_time": "2022-02-23T11:35:00.810Z"
   },
   {
    "duration": 787,
    "start_time": "2022-02-23T11:35:38.520Z"
   },
   {
    "duration": 12,
    "start_time": "2022-02-23T11:35:58.063Z"
   },
   {
    "duration": 646,
    "start_time": "2022-02-23T11:36:02.141Z"
   },
   {
    "duration": 1309,
    "start_time": "2022-02-23T11:42:24.453Z"
   },
   {
    "duration": 66,
    "start_time": "2022-02-23T11:42:25.764Z"
   },
   {
    "duration": 13,
    "start_time": "2022-02-23T11:42:25.833Z"
   },
   {
    "duration": 20,
    "start_time": "2022-02-23T11:42:25.848Z"
   },
   {
    "duration": 80,
    "start_time": "2022-02-23T11:42:25.870Z"
   },
   {
    "duration": 17,
    "start_time": "2022-02-23T11:42:25.952Z"
   },
   {
    "duration": 43,
    "start_time": "2022-02-23T11:42:25.971Z"
   },
   {
    "duration": 27,
    "start_time": "2022-02-23T11:42:26.018Z"
   },
   {
    "duration": 25,
    "start_time": "2022-02-23T11:42:26.048Z"
   },
   {
    "duration": 40731,
    "start_time": "2022-02-23T11:42:26.076Z"
   },
   {
    "duration": 6,
    "start_time": "2022-02-23T11:43:06.809Z"
   },
   {
    "duration": 10,
    "start_time": "2022-02-23T11:43:06.818Z"
   },
   {
    "duration": 6,
    "start_time": "2022-02-23T11:43:06.830Z"
   },
   {
    "duration": 6,
    "start_time": "2022-02-23T11:43:06.838Z"
   },
   {
    "duration": 20,
    "start_time": "2022-02-23T11:43:06.846Z"
   },
   {
    "duration": 27,
    "start_time": "2022-02-23T11:43:06.908Z"
   },
   {
    "duration": 25,
    "start_time": "2022-02-23T11:43:06.936Z"
   },
   {
    "duration": 46,
    "start_time": "2022-02-23T11:43:06.964Z"
   },
   {
    "duration": 29,
    "start_time": "2022-02-23T11:43:07.013Z"
   },
   {
    "duration": 14,
    "start_time": "2022-02-23T11:43:07.044Z"
   },
   {
    "duration": 48,
    "start_time": "2022-02-23T11:43:07.060Z"
   },
   {
    "duration": 23,
    "start_time": "2022-02-23T11:43:07.110Z"
   },
   {
    "duration": 9,
    "start_time": "2022-02-23T11:43:07.136Z"
   },
   {
    "duration": 24,
    "start_time": "2022-02-23T11:43:07.147Z"
   },
   {
    "duration": 13,
    "start_time": "2022-02-23T11:43:07.207Z"
   },
   {
    "duration": 20,
    "start_time": "2022-02-23T11:43:07.223Z"
   },
   {
    "duration": 65,
    "start_time": "2022-02-23T11:43:07.246Z"
   },
   {
    "duration": 11,
    "start_time": "2022-02-23T11:43:07.313Z"
   },
   {
    "duration": 4178,
    "start_time": "2022-02-23T11:43:04.771Z"
   },
   {
    "duration": 4170,
    "start_time": "2022-02-23T11:43:04.781Z"
   },
   {
    "duration": 4170,
    "start_time": "2022-02-23T11:43:04.783Z"
   },
   {
    "duration": 280,
    "start_time": "2022-02-23T11:46:10.749Z"
   },
   {
    "duration": 309,
    "start_time": "2022-02-23T11:46:20.016Z"
   },
   {
    "duration": 13,
    "start_time": "2022-02-23T11:46:30.195Z"
   },
   {
    "duration": 16,
    "start_time": "2022-02-23T11:48:07.720Z"
   },
   {
    "duration": 366,
    "start_time": "2022-02-23T11:48:14.227Z"
   },
   {
    "duration": 533,
    "start_time": "2022-02-23T11:48:50.879Z"
   },
   {
    "duration": 19,
    "start_time": "2022-02-23T11:49:23.983Z"
   },
   {
    "duration": 20,
    "start_time": "2022-02-23T11:49:52.261Z"
   },
   {
    "duration": 16,
    "start_time": "2022-02-23T11:50:15.594Z"
   },
   {
    "duration": 16,
    "start_time": "2022-02-23T11:51:34.991Z"
   },
   {
    "duration": 1109,
    "start_time": "2022-02-23T11:53:34.480Z"
   },
   {
    "duration": 16,
    "start_time": "2022-02-23T11:56:09.994Z"
   },
   {
    "duration": 239,
    "start_time": "2022-02-23T11:57:43.468Z"
   },
   {
    "duration": 291,
    "start_time": "2022-02-23T11:57:57.477Z"
   },
   {
    "duration": 298,
    "start_time": "2022-02-23T11:59:05.789Z"
   },
   {
    "duration": 3,
    "start_time": "2022-02-23T11:59:22.887Z"
   },
   {
    "duration": 16,
    "start_time": "2022-02-23T11:59:26.226Z"
   },
   {
    "duration": 9,
    "start_time": "2022-02-23T11:59:28.167Z"
   },
   {
    "duration": 3,
    "start_time": "2022-02-23T11:59:50.579Z"
   },
   {
    "duration": 16,
    "start_time": "2022-02-23T11:59:51.770Z"
   },
   {
    "duration": 10,
    "start_time": "2022-02-23T11:59:52.580Z"
   },
   {
    "duration": 307,
    "start_time": "2022-02-23T12:00:05.004Z"
   },
   {
    "duration": 3,
    "start_time": "2022-02-23T12:00:28.341Z"
   },
   {
    "duration": 23,
    "start_time": "2022-02-23T12:00:30.449Z"
   },
   {
    "duration": 22,
    "start_time": "2022-02-23T12:00:32.059Z"
   },
   {
    "duration": 757,
    "start_time": "2022-02-23T12:01:02.471Z"
   },
   {
    "duration": 593,
    "start_time": "2022-02-23T12:04:02.826Z"
   },
   {
    "duration": 22,
    "start_time": "2022-02-23T12:26:11.234Z"
   },
   {
    "duration": 22,
    "start_time": "2022-02-23T12:26:39.237Z"
   },
   {
    "duration": 763,
    "start_time": "2022-02-23T12:26:41.424Z"
   },
   {
    "duration": 1215,
    "start_time": "2022-02-23T12:27:50.732Z"
   },
   {
    "duration": 20,
    "start_time": "2022-02-23T12:28:34.271Z"
   },
   {
    "duration": 299,
    "start_time": "2022-02-23T12:28:39.541Z"
   },
   {
    "duration": 11,
    "start_time": "2022-02-23T12:28:47.287Z"
   },
   {
    "duration": 1157,
    "start_time": "2022-02-23T12:28:49.227Z"
   },
   {
    "duration": 13,
    "start_time": "2022-02-23T12:28:53.317Z"
   },
   {
    "duration": 296,
    "start_time": "2022-02-23T12:28:57.647Z"
   },
   {
    "duration": 586,
    "start_time": "2022-02-23T12:29:18.055Z"
   },
   {
    "duration": 1098,
    "start_time": "2022-02-23T12:29:28.347Z"
   },
   {
    "duration": 287,
    "start_time": "2022-02-23T12:31:02.582Z"
   },
   {
    "duration": 11,
    "start_time": "2022-02-23T12:31:11.197Z"
   },
   {
    "duration": 8,
    "start_time": "2022-02-23T12:32:37.646Z"
   },
   {
    "duration": 7,
    "start_time": "2022-02-23T12:34:15.753Z"
   },
   {
    "duration": 8,
    "start_time": "2022-02-23T12:36:58.673Z"
   },
   {
    "duration": 376,
    "start_time": "2022-02-24T09:11:42.225Z"
   },
   {
    "duration": 1025,
    "start_time": "2022-02-24T09:11:56.797Z"
   },
   {
    "duration": 64,
    "start_time": "2022-02-24T09:11:57.824Z"
   },
   {
    "duration": 9,
    "start_time": "2022-02-24T09:11:57.889Z"
   },
   {
    "duration": 13,
    "start_time": "2022-02-24T09:11:57.900Z"
   },
   {
    "duration": 51,
    "start_time": "2022-02-24T09:11:57.914Z"
   },
   {
    "duration": 11,
    "start_time": "2022-02-24T09:11:57.966Z"
   },
   {
    "duration": 8,
    "start_time": "2022-02-24T09:11:57.979Z"
   },
   {
    "duration": 4,
    "start_time": "2022-02-24T09:11:57.990Z"
   },
   {
    "duration": 17,
    "start_time": "2022-02-24T09:11:57.996Z"
   },
   {
    "duration": 33376,
    "start_time": "2022-02-24T09:11:58.015Z"
   },
   {
    "duration": 4,
    "start_time": "2022-02-24T09:12:31.392Z"
   },
   {
    "duration": 16,
    "start_time": "2022-02-24T09:12:31.397Z"
   },
   {
    "duration": 9,
    "start_time": "2022-02-24T09:12:31.415Z"
   },
   {
    "duration": 6,
    "start_time": "2022-02-24T09:12:31.426Z"
   },
   {
    "duration": 13,
    "start_time": "2022-02-24T09:12:31.434Z"
   },
   {
    "duration": 21,
    "start_time": "2022-02-24T09:12:31.449Z"
   },
   {
    "duration": 15,
    "start_time": "2022-02-24T09:12:31.472Z"
   },
   {
    "duration": 6,
    "start_time": "2022-02-24T09:12:31.489Z"
   },
   {
    "duration": 23,
    "start_time": "2022-02-24T09:12:31.496Z"
   },
   {
    "duration": 8,
    "start_time": "2022-02-24T09:12:31.521Z"
   },
   {
    "duration": 11,
    "start_time": "2022-02-24T09:12:31.530Z"
   },
   {
    "duration": 25,
    "start_time": "2022-02-24T09:12:31.543Z"
   },
   {
    "duration": 6,
    "start_time": "2022-02-24T09:12:31.570Z"
   },
   {
    "duration": 7,
    "start_time": "2022-02-24T09:12:31.577Z"
   },
   {
    "duration": 9,
    "start_time": "2022-02-24T09:12:31.585Z"
   },
   {
    "duration": 14,
    "start_time": "2022-02-24T09:12:31.595Z"
   },
   {
    "duration": 13,
    "start_time": "2022-02-24T09:12:31.610Z"
   },
   {
    "duration": 6,
    "start_time": "2022-02-24T09:12:31.625Z"
   },
   {
    "duration": 965,
    "start_time": "2022-02-24T09:12:31.633Z"
   },
   {
    "duration": 9,
    "start_time": "2022-02-24T09:12:32.599Z"
   },
   {
    "duration": 490,
    "start_time": "2022-02-24T09:12:32.646Z"
   },
   {
    "duration": 11,
    "start_time": "2022-02-24T09:12:33.146Z"
   },
   {
    "duration": 311,
    "start_time": "2022-02-24T09:12:33.159Z"
   },
   {
    "duration": 2,
    "start_time": "2022-02-24T09:12:33.472Z"
   },
   {
    "duration": 424,
    "start_time": "2022-02-24T09:12:33.693Z"
   },
   {
    "duration": 397,
    "start_time": "2022-02-24T09:12:33.723Z"
   },
   {
    "duration": 203,
    "start_time": "2022-02-24T09:12:55.717Z"
   },
   {
    "duration": 236,
    "start_time": "2022-02-24T09:13:24.021Z"
   },
   {
    "duration": 3084,
    "start_time": "2022-02-24T09:13:41.789Z"
   },
   {
    "duration": 2908,
    "start_time": "2022-02-24T09:14:39.346Z"
   },
   {
    "duration": 6,
    "start_time": "2022-02-24T09:15:52.283Z"
   },
   {
    "duration": 21,
    "start_time": "2022-02-24T09:15:59.784Z"
   },
   {
    "duration": 16,
    "start_time": "2022-02-24T09:16:09.635Z"
   },
   {
    "duration": 1075,
    "start_time": "2022-02-24T09:16:25.929Z"
   },
   {
    "duration": 9,
    "start_time": "2022-02-24T09:17:16.508Z"
   },
   {
    "duration": 448,
    "start_time": "2022-02-24T09:17:22.521Z"
   },
   {
    "duration": 18,
    "start_time": "2022-02-24T09:18:14.341Z"
   },
   {
    "duration": 963,
    "start_time": "2022-02-24T09:18:26.905Z"
   },
   {
    "duration": 123,
    "start_time": "2022-02-24T09:22:09.459Z"
   },
   {
    "duration": 978,
    "start_time": "2022-02-24T09:22:31.048Z"
   },
   {
    "duration": 1929,
    "start_time": "2022-02-24T09:23:46.864Z"
   },
   {
    "duration": 2121,
    "start_time": "2022-02-24T09:24:13.333Z"
   },
   {
    "duration": 1022,
    "start_time": "2022-02-24T09:24:57.717Z"
   },
   {
    "duration": 1063,
    "start_time": "2022-02-24T09:25:52.349Z"
   },
   {
    "duration": 1093,
    "start_time": "2022-02-24T09:26:54.970Z"
   },
   {
    "duration": 1052,
    "start_time": "2022-02-24T09:27:55.839Z"
   },
   {
    "duration": 1100,
    "start_time": "2022-02-24T09:28:00.393Z"
   },
   {
    "duration": 60,
    "start_time": "2022-02-24T09:28:01.495Z"
   },
   {
    "duration": 11,
    "start_time": "2022-02-24T09:28:01.557Z"
   },
   {
    "duration": 14,
    "start_time": "2022-02-24T09:28:01.570Z"
   },
   {
    "duration": 60,
    "start_time": "2022-02-24T09:28:01.586Z"
   },
   {
    "duration": 13,
    "start_time": "2022-02-24T09:28:01.648Z"
   },
   {
    "duration": 24,
    "start_time": "2022-02-24T09:28:01.662Z"
   },
   {
    "duration": 7,
    "start_time": "2022-02-24T09:28:01.689Z"
   },
   {
    "duration": 27,
    "start_time": "2022-02-24T09:28:01.697Z"
   },
   {
    "duration": 31899,
    "start_time": "2022-02-24T09:28:01.726Z"
   },
   {
    "duration": 4,
    "start_time": "2022-02-24T09:28:33.626Z"
   },
   {
    "duration": 16,
    "start_time": "2022-02-24T09:28:33.632Z"
   },
   {
    "duration": 4,
    "start_time": "2022-02-24T09:28:33.650Z"
   },
   {
    "duration": 5,
    "start_time": "2022-02-24T09:28:33.655Z"
   },
   {
    "duration": 11,
    "start_time": "2022-02-24T09:28:33.661Z"
   },
   {
    "duration": 17,
    "start_time": "2022-02-24T09:28:33.673Z"
   },
   {
    "duration": 17,
    "start_time": "2022-02-24T09:28:33.692Z"
   },
   {
    "duration": 36,
    "start_time": "2022-02-24T09:28:33.710Z"
   },
   {
    "duration": 18,
    "start_time": "2022-02-24T09:28:33.747Z"
   },
   {
    "duration": 8,
    "start_time": "2022-02-24T09:28:33.766Z"
   },
   {
    "duration": 11,
    "start_time": "2022-02-24T09:28:33.776Z"
   },
   {
    "duration": 15,
    "start_time": "2022-02-24T09:28:33.789Z"
   },
   {
    "duration": 5,
    "start_time": "2022-02-24T09:28:33.807Z"
   },
   {
    "duration": 37,
    "start_time": "2022-02-24T09:28:33.814Z"
   },
   {
    "duration": 8,
    "start_time": "2022-02-24T09:28:33.852Z"
   },
   {
    "duration": 15,
    "start_time": "2022-02-24T09:28:33.862Z"
   },
   {
    "duration": 11,
    "start_time": "2022-02-24T09:28:33.879Z"
   },
   {
    "duration": 9,
    "start_time": "2022-02-24T09:28:33.891Z"
   },
   {
    "duration": 967,
    "start_time": "2022-02-24T09:28:33.901Z"
   },
   {
    "duration": 9,
    "start_time": "2022-02-24T09:28:34.870Z"
   },
   {
    "duration": 573,
    "start_time": "2022-02-24T09:28:34.880Z"
   },
   {
    "duration": 11,
    "start_time": "2022-02-24T09:28:35.454Z"
   },
   {
    "duration": 303,
    "start_time": "2022-02-24T09:28:35.467Z"
   },
   {
    "duration": 2,
    "start_time": "2022-02-24T09:28:35.771Z"
   },
   {
    "duration": 18,
    "start_time": "2022-02-24T09:28:35.775Z"
   },
   {
    "duration": 1146,
    "start_time": "2022-02-24T09:28:36.906Z"
   },
   {
    "duration": 16,
    "start_time": "2022-02-24T09:29:43.087Z"
   },
   {
    "duration": 1081,
    "start_time": "2022-02-24T09:29:44.529Z"
   },
   {
    "duration": 7,
    "start_time": "2022-02-24T09:31:17.623Z"
   },
   {
    "duration": 9,
    "start_time": "2022-02-24T09:31:41.837Z"
   },
   {
    "duration": 8,
    "start_time": "2022-02-24T09:32:00.743Z"
   },
   {
    "duration": 7,
    "start_time": "2022-02-24T09:32:13.827Z"
   },
   {
    "duration": 426,
    "start_time": "2022-02-24T09:33:04.163Z"
   },
   {
    "duration": 7,
    "start_time": "2022-02-24T09:34:15.139Z"
   },
   {
    "duration": 914,
    "start_time": "2022-02-24T09:38:23.787Z"
   },
   {
    "duration": 1694,
    "start_time": "2022-02-24T09:39:30.325Z"
   },
   {
    "duration": 1055,
    "start_time": "2022-02-24T09:39:59.736Z"
   },
   {
    "duration": 25,
    "start_time": "2022-02-24T09:41:40.361Z"
   },
   {
    "duration": 23,
    "start_time": "2022-02-24T09:42:07.098Z"
   },
   {
    "duration": 8,
    "start_time": "2022-02-24T09:42:23.381Z"
   },
   {
    "duration": 913,
    "start_time": "2022-02-24T09:42:55.614Z"
   },
   {
    "duration": 116,
    "start_time": "2022-02-24T09:49:22.214Z"
   },
   {
    "duration": 440,
    "start_time": "2022-02-24T09:49:33.666Z"
   },
   {
    "duration": 944,
    "start_time": "2022-02-24T09:49:41.031Z"
   },
   {
    "duration": 398,
    "start_time": "2022-02-24T09:50:22.743Z"
   },
   {
    "duration": 3,
    "start_time": "2022-02-24T09:50:47.323Z"
   },
   {
    "duration": 17,
    "start_time": "2022-02-24T09:50:48.878Z"
   },
   {
    "duration": 1133,
    "start_time": "2022-02-24T09:51:24.255Z"
   },
   {
    "duration": 48,
    "start_time": "2022-02-24T09:51:25.390Z"
   },
   {
    "duration": 9,
    "start_time": "2022-02-24T09:51:25.439Z"
   },
   {
    "duration": 15,
    "start_time": "2022-02-24T09:51:25.450Z"
   },
   {
    "duration": 32,
    "start_time": "2022-02-24T09:51:25.467Z"
   },
   {
    "duration": 10,
    "start_time": "2022-02-24T09:51:25.501Z"
   },
   {
    "duration": 16,
    "start_time": "2022-02-24T09:51:25.513Z"
   },
   {
    "duration": 17,
    "start_time": "2022-02-24T09:51:25.532Z"
   },
   {
    "duration": 20,
    "start_time": "2022-02-24T09:51:25.550Z"
   },
   {
    "duration": 32084,
    "start_time": "2022-02-24T09:51:25.572Z"
   },
   {
    "duration": 4,
    "start_time": "2022-02-24T09:51:57.657Z"
   },
   {
    "duration": 11,
    "start_time": "2022-02-24T09:51:57.662Z"
   },
   {
    "duration": 5,
    "start_time": "2022-02-24T09:51:57.674Z"
   },
   {
    "duration": 5,
    "start_time": "2022-02-24T09:51:57.680Z"
   },
   {
    "duration": 12,
    "start_time": "2022-02-24T09:51:57.687Z"
   },
   {
    "duration": 16,
    "start_time": "2022-02-24T09:51:57.700Z"
   },
   {
    "duration": 44,
    "start_time": "2022-02-24T09:51:57.717Z"
   },
   {
    "duration": 7,
    "start_time": "2022-02-24T09:51:57.763Z"
   },
   {
    "duration": 23,
    "start_time": "2022-02-24T09:51:57.771Z"
   },
   {
    "duration": 8,
    "start_time": "2022-02-24T09:51:57.796Z"
   },
   {
    "duration": 11,
    "start_time": "2022-02-24T09:51:57.806Z"
   },
   {
    "duration": 40,
    "start_time": "2022-02-24T09:51:57.818Z"
   },
   {
    "duration": 7,
    "start_time": "2022-02-24T09:51:57.860Z"
   },
   {
    "duration": 8,
    "start_time": "2022-02-24T09:51:57.868Z"
   },
   {
    "duration": 9,
    "start_time": "2022-02-24T09:51:57.877Z"
   },
   {
    "duration": 14,
    "start_time": "2022-02-24T09:51:57.887Z"
   },
   {
    "duration": 44,
    "start_time": "2022-02-24T09:51:57.902Z"
   },
   {
    "duration": 8,
    "start_time": "2022-02-24T09:51:57.948Z"
   },
   {
    "duration": 981,
    "start_time": "2022-02-24T09:51:57.957Z"
   },
   {
    "duration": 14,
    "start_time": "2022-02-24T09:51:58.939Z"
   },
   {
    "duration": 484,
    "start_time": "2022-02-24T09:51:58.955Z"
   },
   {
    "duration": 16,
    "start_time": "2022-02-24T09:51:59.440Z"
   },
   {
    "duration": 322,
    "start_time": "2022-02-24T09:51:59.458Z"
   },
   {
    "duration": 3,
    "start_time": "2022-02-24T09:51:59.782Z"
   },
   {
    "duration": 20,
    "start_time": "2022-02-24T09:51:59.786Z"
   },
   {
    "duration": 1159,
    "start_time": "2022-02-24T09:51:59.808Z"
   },
   {
    "duration": 9,
    "start_time": "2022-02-24T09:52:00.969Z"
   },
   {
    "duration": 1056,
    "start_time": "2022-02-24T09:52:00.986Z"
   },
   {
    "duration": 3,
    "start_time": "2022-02-24T09:52:02.046Z"
   },
   {
    "duration": 37,
    "start_time": "2022-02-24T09:52:02.050Z"
   },
   {
    "duration": 320,
    "start_time": "2022-02-24T09:54:18.785Z"
   },
   {
    "duration": 522,
    "start_time": "2022-02-24T09:54:48.213Z"
   },
   {
    "duration": 396,
    "start_time": "2022-02-24T09:55:19.508Z"
   },
   {
    "duration": 682,
    "start_time": "2022-02-24T09:55:41.269Z"
   },
   {
    "duration": 479,
    "start_time": "2022-02-24T09:55:50.153Z"
   },
   {
    "duration": 366,
    "start_time": "2022-02-24T09:56:06.698Z"
   },
   {
    "duration": 410,
    "start_time": "2022-02-24T09:56:18.333Z"
   },
   {
    "duration": 397,
    "start_time": "2022-02-24T09:56:25.050Z"
   },
   {
    "duration": 396,
    "start_time": "2022-02-24T09:56:36.457Z"
   },
   {
    "duration": 588,
    "start_time": "2022-02-24T09:56:56.474Z"
   },
   {
    "duration": 385,
    "start_time": "2022-02-24T09:57:04.350Z"
   },
   {
    "duration": 397,
    "start_time": "2022-02-24T09:57:14.651Z"
   },
   {
    "duration": 18,
    "start_time": "2022-02-24T09:57:59.392Z"
   },
   {
    "duration": 17,
    "start_time": "2022-02-24T10:31:10.142Z"
   },
   {
    "duration": 1705,
    "start_time": "2022-02-24T10:36:14.540Z"
   },
   {
    "duration": 156,
    "start_time": "2022-02-24T10:36:29.702Z"
   },
   {
    "duration": 127,
    "start_time": "2022-02-24T10:36:41.092Z"
   },
   {
    "duration": 183,
    "start_time": "2022-02-24T10:37:13.673Z"
   },
   {
    "duration": 117,
    "start_time": "2022-02-24T10:37:30.313Z"
   },
   {
    "duration": 116,
    "start_time": "2022-02-24T10:37:54.728Z"
   },
   {
    "duration": 111,
    "start_time": "2022-02-24T10:38:25.281Z"
   },
   {
    "duration": 496,
    "start_time": "2022-02-24T10:38:38.317Z"
   },
   {
    "duration": 357,
    "start_time": "2022-02-24T10:39:14.718Z"
   },
   {
    "duration": 433,
    "start_time": "2022-02-24T10:40:24.356Z"
   },
   {
    "duration": 328,
    "start_time": "2022-02-24T10:40:36.148Z"
   },
   {
    "duration": 345,
    "start_time": "2022-02-24T10:40:40.214Z"
   },
   {
    "duration": 351,
    "start_time": "2022-02-24T10:40:53.810Z"
   },
   {
    "duration": 4,
    "start_time": "2022-02-24T10:43:17.090Z"
   },
   {
    "duration": 4,
    "start_time": "2022-02-24T10:43:29.633Z"
   },
   {
    "duration": 4,
    "start_time": "2022-02-24T10:43:34.504Z"
   },
   {
    "duration": 5,
    "start_time": "2022-02-24T10:43:38.633Z"
   },
   {
    "duration": 369,
    "start_time": "2022-02-24T10:44:19.714Z"
   },
   {
    "duration": 324,
    "start_time": "2022-02-24T10:44:39.609Z"
   },
   {
    "duration": 4,
    "start_time": "2022-02-24T10:45:16.282Z"
   },
   {
    "duration": 427,
    "start_time": "2022-02-24T10:46:42.359Z"
   },
   {
    "duration": 346,
    "start_time": "2022-02-24T10:46:54.447Z"
   },
   {
    "duration": 355,
    "start_time": "2022-02-24T10:49:11.048Z"
   },
   {
    "duration": 144,
    "start_time": "2022-02-24T10:50:39.045Z"
   },
   {
    "duration": 341,
    "start_time": "2022-02-24T10:50:49.717Z"
   },
   {
    "duration": 317,
    "start_time": "2022-02-24T10:51:38.794Z"
   },
   {
    "duration": 5,
    "start_time": "2022-02-24T10:51:42.153Z"
   },
   {
    "duration": 4,
    "start_time": "2022-02-24T10:52:13.800Z"
   },
   {
    "duration": 4,
    "start_time": "2022-02-24T10:52:19.018Z"
   },
   {
    "duration": 343,
    "start_time": "2022-02-24T10:52:21.739Z"
   },
   {
    "duration": 5,
    "start_time": "2022-02-24T10:52:29.743Z"
   },
   {
    "duration": 342,
    "start_time": "2022-02-24T10:53:00.695Z"
   },
   {
    "duration": 325,
    "start_time": "2022-02-24T10:53:12.866Z"
   },
   {
    "duration": 4,
    "start_time": "2022-02-24T10:53:30.404Z"
   },
   {
    "duration": 452,
    "start_time": "2022-02-24T10:57:50.281Z"
   },
   {
    "duration": 451,
    "start_time": "2022-02-24T10:57:50.283Z"
   },
   {
    "duration": 451,
    "start_time": "2022-02-24T10:57:50.285Z"
   },
   {
    "duration": 451,
    "start_time": "2022-02-24T10:57:50.286Z"
   },
   {
    "duration": 451,
    "start_time": "2022-02-24T10:57:50.287Z"
   },
   {
    "duration": 448,
    "start_time": "2022-02-24T10:57:50.292Z"
   },
   {
    "duration": 447,
    "start_time": "2022-02-24T10:57:50.294Z"
   },
   {
    "duration": 440,
    "start_time": "2022-02-24T10:57:50.303Z"
   },
   {
    "duration": 437,
    "start_time": "2022-02-24T10:57:50.307Z"
   },
   {
    "duration": 436,
    "start_time": "2022-02-24T10:57:50.309Z"
   },
   {
    "duration": 436,
    "start_time": "2022-02-24T10:57:50.310Z"
   },
   {
    "duration": 436,
    "start_time": "2022-02-24T10:57:50.311Z"
   },
   {
    "duration": 436,
    "start_time": "2022-02-24T10:57:50.312Z"
   },
   {
    "duration": 436,
    "start_time": "2022-02-24T10:57:50.313Z"
   },
   {
    "duration": 436,
    "start_time": "2022-02-24T10:57:50.314Z"
   },
   {
    "duration": 436,
    "start_time": "2022-02-24T10:57:50.315Z"
   },
   {
    "duration": 436,
    "start_time": "2022-02-24T10:57:50.316Z"
   },
   {
    "duration": 436,
    "start_time": "2022-02-24T10:57:50.317Z"
   },
   {
    "duration": 436,
    "start_time": "2022-02-24T10:57:50.318Z"
   },
   {
    "duration": 436,
    "start_time": "2022-02-24T10:57:50.319Z"
   },
   {
    "duration": 433,
    "start_time": "2022-02-24T10:57:50.322Z"
   },
   {
    "duration": 433,
    "start_time": "2022-02-24T10:57:50.323Z"
   },
   {
    "duration": 433,
    "start_time": "2022-02-24T10:57:50.324Z"
   },
   {
    "duration": 433,
    "start_time": "2022-02-24T10:57:50.325Z"
   },
   {
    "duration": 433,
    "start_time": "2022-02-24T10:57:50.326Z"
   },
   {
    "duration": 433,
    "start_time": "2022-02-24T10:57:50.327Z"
   },
   {
    "duration": 433,
    "start_time": "2022-02-24T10:57:50.328Z"
   },
   {
    "duration": 433,
    "start_time": "2022-02-24T10:57:50.329Z"
   },
   {
    "duration": 433,
    "start_time": "2022-02-24T10:57:50.330Z"
   },
   {
    "duration": 432,
    "start_time": "2022-02-24T10:57:50.331Z"
   },
   {
    "duration": 432,
    "start_time": "2022-02-24T10:57:50.332Z"
   },
   {
    "duration": 405,
    "start_time": "2022-02-24T10:57:50.360Z"
   },
   {
    "duration": 405,
    "start_time": "2022-02-24T10:57:50.361Z"
   },
   {
    "duration": 405,
    "start_time": "2022-02-24T10:57:50.362Z"
   },
   {
    "duration": 405,
    "start_time": "2022-02-24T10:57:50.363Z"
   },
   {
    "duration": 405,
    "start_time": "2022-02-24T10:57:50.364Z"
   },
   {
    "duration": 405,
    "start_time": "2022-02-24T10:57:50.365Z"
   },
   {
    "duration": 405,
    "start_time": "2022-02-24T10:57:50.366Z"
   },
   {
    "duration": 405,
    "start_time": "2022-02-24T10:57:50.367Z"
   },
   {
    "duration": 405,
    "start_time": "2022-02-24T10:57:50.368Z"
   },
   {
    "duration": 396,
    "start_time": "2022-02-24T10:57:50.378Z"
   },
   {
    "duration": 394,
    "start_time": "2022-02-24T10:57:50.381Z"
   },
   {
    "duration": 392,
    "start_time": "2022-02-24T10:57:50.384Z"
   },
   {
    "duration": 389,
    "start_time": "2022-02-24T10:57:50.388Z"
   },
   {
    "duration": 380,
    "start_time": "2022-02-24T10:57:50.397Z"
   },
   {
    "duration": 379,
    "start_time": "2022-02-24T10:57:50.399Z"
   },
   {
    "duration": 377,
    "start_time": "2022-02-24T10:57:50.402Z"
   },
   {
    "duration": 372,
    "start_time": "2022-02-24T10:57:50.408Z"
   },
   {
    "duration": 370,
    "start_time": "2022-02-24T10:57:50.411Z"
   },
   {
    "duration": 342,
    "start_time": "2022-02-24T10:57:53.453Z"
   },
   {
    "duration": 364,
    "start_time": "2022-02-24T10:57:58.621Z"
   },
   {
    "duration": 5,
    "start_time": "2022-02-24T10:58:06.103Z"
   },
   {
    "duration": 351,
    "start_time": "2022-02-24T10:58:08.668Z"
   },
   {
    "duration": 4,
    "start_time": "2022-02-24T10:58:49.696Z"
   },
   {
    "duration": 362,
    "start_time": "2022-02-24T10:59:40.633Z"
   },
   {
    "duration": 4,
    "start_time": "2022-02-24T11:00:20.799Z"
   },
   {
    "duration": 327,
    "start_time": "2022-02-24T11:00:49.602Z"
   },
   {
    "duration": 5,
    "start_time": "2022-02-24T11:01:26.906Z"
   },
   {
    "duration": 427,
    "start_time": "2022-02-24T11:04:52.282Z"
   },
   {
    "duration": 1124,
    "start_time": "2022-02-24T11:05:17.750Z"
   },
   {
    "duration": 60,
    "start_time": "2022-02-24T11:05:18.876Z"
   },
   {
    "duration": 10,
    "start_time": "2022-02-24T11:05:18.941Z"
   },
   {
    "duration": 14,
    "start_time": "2022-02-24T11:05:18.953Z"
   },
   {
    "duration": 32,
    "start_time": "2022-02-24T11:05:18.968Z"
   },
   {
    "duration": 11,
    "start_time": "2022-02-24T11:05:19.001Z"
   },
   {
    "duration": 33,
    "start_time": "2022-02-24T11:05:19.013Z"
   },
   {
    "duration": 5,
    "start_time": "2022-02-24T11:05:19.048Z"
   },
   {
    "duration": 22,
    "start_time": "2022-02-24T11:05:19.055Z"
   },
   {
    "duration": 31899,
    "start_time": "2022-02-24T11:05:19.078Z"
   },
   {
    "duration": 4,
    "start_time": "2022-02-24T11:05:50.979Z"
   },
   {
    "duration": 8,
    "start_time": "2022-02-24T11:05:50.984Z"
   },
   {
    "duration": 4,
    "start_time": "2022-02-24T11:05:50.993Z"
   },
   {
    "duration": 9,
    "start_time": "2022-02-24T11:05:50.998Z"
   },
   {
    "duration": 10,
    "start_time": "2022-02-24T11:05:51.008Z"
   },
   {
    "duration": 32,
    "start_time": "2022-02-24T11:05:51.019Z"
   },
   {
    "duration": 16,
    "start_time": "2022-02-24T11:05:51.053Z"
   },
   {
    "duration": 5,
    "start_time": "2022-02-24T11:05:51.071Z"
   },
   {
    "duration": 20,
    "start_time": "2022-02-24T11:05:51.078Z"
   },
   {
    "duration": 8,
    "start_time": "2022-02-24T11:05:51.099Z"
   },
   {
    "duration": 39,
    "start_time": "2022-02-24T11:05:51.109Z"
   },
   {
    "duration": 17,
    "start_time": "2022-02-24T11:05:51.150Z"
   },
   {
    "duration": 6,
    "start_time": "2022-02-24T11:05:51.169Z"
   },
   {
    "duration": 12,
    "start_time": "2022-02-24T11:05:51.177Z"
   },
   {
    "duration": 9,
    "start_time": "2022-02-24T11:05:51.191Z"
   },
   {
    "duration": 47,
    "start_time": "2022-02-24T11:05:51.203Z"
   },
   {
    "duration": 12,
    "start_time": "2022-02-24T11:05:51.252Z"
   },
   {
    "duration": 7,
    "start_time": "2022-02-24T11:05:51.266Z"
   },
   {
    "duration": 949,
    "start_time": "2022-02-24T11:05:51.274Z"
   },
   {
    "duration": 9,
    "start_time": "2022-02-24T11:05:52.225Z"
   },
   {
    "duration": 472,
    "start_time": "2022-02-24T11:05:52.235Z"
   },
   {
    "duration": 10,
    "start_time": "2022-02-24T11:05:52.709Z"
   },
   {
    "duration": 306,
    "start_time": "2022-02-24T11:05:52.721Z"
   },
   {
    "duration": 2,
    "start_time": "2022-02-24T11:05:53.029Z"
   },
   {
    "duration": 23,
    "start_time": "2022-02-24T11:05:53.033Z"
   },
   {
    "duration": 1215,
    "start_time": "2022-02-24T11:05:53.058Z"
   },
   {
    "duration": 8,
    "start_time": "2022-02-24T11:05:54.274Z"
   },
   {
    "duration": 997,
    "start_time": "2022-02-24T11:05:54.283Z"
   },
   {
    "duration": 2,
    "start_time": "2022-02-24T11:05:55.282Z"
   },
   {
    "duration": 17,
    "start_time": "2022-02-24T11:05:55.286Z"
   },
   {
    "duration": 392,
    "start_time": "2022-02-24T11:05:55.304Z"
   },
   {
    "duration": 18,
    "start_time": "2022-02-24T11:05:55.698Z"
   },
   {
    "duration": 392,
    "start_time": "2022-02-24T11:05:55.718Z"
   },
   {
    "duration": 4,
    "start_time": "2022-02-24T11:05:56.111Z"
   },
   {
    "duration": 458,
    "start_time": "2022-02-24T11:05:56.116Z"
   },
   {
    "duration": 356,
    "start_time": "2022-02-24T11:05:56.220Z"
   },
   {
    "duration": 355,
    "start_time": "2022-02-24T11:05:56.222Z"
   },
   {
    "duration": 353,
    "start_time": "2022-02-24T11:05:56.225Z"
   },
   {
    "duration": 352,
    "start_time": "2022-02-24T11:05:56.227Z"
   },
   {
    "duration": 352,
    "start_time": "2022-02-24T11:05:56.228Z"
   },
   {
    "duration": 351,
    "start_time": "2022-02-24T11:05:56.230Z"
   },
   {
    "duration": 351,
    "start_time": "2022-02-24T11:05:56.230Z"
   },
   {
    "duration": 351,
    "start_time": "2022-02-24T11:05:56.231Z"
   },
   {
    "duration": 351,
    "start_time": "2022-02-24T11:05:56.232Z"
   },
   {
    "duration": 347,
    "start_time": "2022-02-24T11:05:56.238Z"
   },
   {
    "duration": 350,
    "start_time": "2022-02-24T11:06:10.334Z"
   },
   {
    "duration": 10,
    "start_time": "2022-02-24T11:06:25.374Z"
   },
   {
    "duration": 12,
    "start_time": "2022-02-24T11:06:51.812Z"
   },
   {
    "duration": 362,
    "start_time": "2022-02-24T11:09:00.550Z"
   },
   {
    "duration": 233,
    "start_time": "2022-02-24T11:09:07.081Z"
   },
   {
    "duration": 248,
    "start_time": "2022-02-24T11:09:29.133Z"
   },
   {
    "duration": 728,
    "start_time": "2022-02-24T11:09:49.824Z"
   },
   {
    "duration": 253,
    "start_time": "2022-02-24T11:10:25.674Z"
   },
   {
    "duration": 241,
    "start_time": "2022-02-24T11:10:57.873Z"
   },
   {
    "duration": 17,
    "start_time": "2022-02-24T11:44:49.533Z"
   },
   {
    "duration": 370,
    "start_time": "2022-02-24T11:47:06.776Z"
   },
   {
    "duration": 345,
    "start_time": "2022-02-24T11:47:46.420Z"
   },
   {
    "duration": 390,
    "start_time": "2022-02-24T11:48:16.382Z"
   },
   {
    "duration": 346,
    "start_time": "2022-02-24T11:48:22.877Z"
   },
   {
    "duration": 1066,
    "start_time": "2022-02-24T11:48:31.211Z"
   },
   {
    "duration": 48,
    "start_time": "2022-02-24T11:48:32.279Z"
   },
   {
    "duration": 9,
    "start_time": "2022-02-24T11:48:32.328Z"
   },
   {
    "duration": 13,
    "start_time": "2022-02-24T11:48:32.339Z"
   },
   {
    "duration": 30,
    "start_time": "2022-02-24T11:48:32.354Z"
   },
   {
    "duration": 10,
    "start_time": "2022-02-24T11:48:32.386Z"
   },
   {
    "duration": 15,
    "start_time": "2022-02-24T11:48:32.398Z"
   },
   {
    "duration": 6,
    "start_time": "2022-02-24T11:48:32.414Z"
   },
   {
    "duration": 33,
    "start_time": "2022-02-24T11:48:32.423Z"
   },
   {
    "duration": 32631,
    "start_time": "2022-02-24T11:48:32.458Z"
   },
   {
    "duration": 4,
    "start_time": "2022-02-24T11:49:05.090Z"
   },
   {
    "duration": 9,
    "start_time": "2022-02-24T11:49:05.095Z"
   },
   {
    "duration": 6,
    "start_time": "2022-02-24T11:49:05.105Z"
   },
   {
    "duration": 8,
    "start_time": "2022-02-24T11:49:05.112Z"
   },
   {
    "duration": 10,
    "start_time": "2022-02-24T11:49:05.121Z"
   },
   {
    "duration": 15,
    "start_time": "2022-02-24T11:49:05.146Z"
   },
   {
    "duration": 16,
    "start_time": "2022-02-24T11:49:05.162Z"
   },
   {
    "duration": 6,
    "start_time": "2022-02-24T11:49:05.179Z"
   },
   {
    "duration": 28,
    "start_time": "2022-02-24T11:49:05.186Z"
   },
   {
    "duration": 8,
    "start_time": "2022-02-24T11:49:05.215Z"
   },
   {
    "duration": 28,
    "start_time": "2022-02-24T11:49:05.225Z"
   },
   {
    "duration": 16,
    "start_time": "2022-02-24T11:49:05.254Z"
   },
   {
    "duration": 5,
    "start_time": "2022-02-24T11:49:05.272Z"
   },
   {
    "duration": 8,
    "start_time": "2022-02-24T11:49:05.279Z"
   },
   {
    "duration": 9,
    "start_time": "2022-02-24T11:49:05.288Z"
   },
   {
    "duration": 18,
    "start_time": "2022-02-24T11:49:05.298Z"
   },
   {
    "duration": 38,
    "start_time": "2022-02-24T11:49:05.319Z"
   },
   {
    "duration": 20,
    "start_time": "2022-02-24T11:49:05.359Z"
   },
   {
    "duration": 926,
    "start_time": "2022-02-24T11:49:05.381Z"
   },
   {
    "duration": 10,
    "start_time": "2022-02-24T11:49:06.308Z"
   },
   {
    "duration": 462,
    "start_time": "2022-02-24T11:49:06.319Z"
   },
   {
    "duration": 11,
    "start_time": "2022-02-24T11:49:06.783Z"
   },
   {
    "duration": 304,
    "start_time": "2022-02-24T11:49:06.795Z"
   },
   {
    "duration": 2,
    "start_time": "2022-02-24T11:49:07.101Z"
   },
   {
    "duration": 25,
    "start_time": "2022-02-24T11:49:07.104Z"
   },
   {
    "duration": 1072,
    "start_time": "2022-02-24T11:49:07.130Z"
   },
   {
    "duration": 8,
    "start_time": "2022-02-24T11:49:08.203Z"
   },
   {
    "duration": 973,
    "start_time": "2022-02-24T11:49:08.212Z"
   },
   {
    "duration": 2,
    "start_time": "2022-02-24T11:49:09.187Z"
   },
   {
    "duration": 19,
    "start_time": "2022-02-24T11:49:09.190Z"
   },
   {
    "duration": 410,
    "start_time": "2022-02-24T11:49:09.210Z"
   },
   {
    "duration": 25,
    "start_time": "2022-02-24T11:49:09.622Z"
   },
   {
    "duration": 345,
    "start_time": "2022-02-24T11:49:09.648Z"
   },
   {
    "duration": 5,
    "start_time": "2022-02-24T11:49:09.995Z"
   },
   {
    "duration": 435,
    "start_time": "2022-02-24T11:49:10.001Z"
   },
   {
    "duration": 483,
    "start_time": "2022-02-24T11:49:09.955Z"
   },
   {
    "duration": 482,
    "start_time": "2022-02-24T11:49:09.957Z"
   },
   {
    "duration": 481,
    "start_time": "2022-02-24T11:49:09.959Z"
   },
   {
    "duration": 480,
    "start_time": "2022-02-24T11:49:09.960Z"
   },
   {
    "duration": 480,
    "start_time": "2022-02-24T11:49:09.961Z"
   },
   {
    "duration": 480,
    "start_time": "2022-02-24T11:49:09.962Z"
   },
   {
    "duration": 480,
    "start_time": "2022-02-24T11:49:09.963Z"
   },
   {
    "duration": 480,
    "start_time": "2022-02-24T11:49:09.964Z"
   },
   {
    "duration": 480,
    "start_time": "2022-02-24T11:49:09.965Z"
   },
   {
    "duration": 475,
    "start_time": "2022-02-24T11:49:09.971Z"
   },
   {
    "duration": 474,
    "start_time": "2022-02-24T11:49:09.973Z"
   },
   {
    "duration": 473,
    "start_time": "2022-02-24T11:49:09.974Z"
   },
   {
    "duration": 468,
    "start_time": "2022-02-24T11:49:09.980Z"
   },
   {
    "duration": 11,
    "start_time": "2022-02-24T11:49:41.335Z"
   },
   {
    "duration": 11,
    "start_time": "2022-02-24T11:49:58.553Z"
   },
   {
    "duration": 358,
    "start_time": "2022-02-24T11:50:34.863Z"
   },
   {
    "duration": 450,
    "start_time": "2022-02-24T11:51:22.513Z"
   },
   {
    "duration": 12,
    "start_time": "2022-02-24T11:51:33.339Z"
   },
   {
    "duration": 11,
    "start_time": "2022-02-24T11:51:45.437Z"
   },
   {
    "duration": 349,
    "start_time": "2022-02-24T11:56:58.868Z"
   },
   {
    "duration": 475,
    "start_time": "2022-02-24T11:57:02.824Z"
   },
   {
    "duration": 114,
    "start_time": "2022-02-24T11:57:04.340Z"
   },
   {
    "duration": 1178,
    "start_time": "2022-02-24T11:57:16.614Z"
   },
   {
    "duration": 49,
    "start_time": "2022-02-24T11:57:17.794Z"
   },
   {
    "duration": 9,
    "start_time": "2022-02-24T11:57:17.845Z"
   },
   {
    "duration": 14,
    "start_time": "2022-02-24T11:57:17.856Z"
   },
   {
    "duration": 35,
    "start_time": "2022-02-24T11:57:17.872Z"
   },
   {
    "duration": 13,
    "start_time": "2022-02-24T11:57:17.908Z"
   },
   {
    "duration": 8,
    "start_time": "2022-02-24T11:57:17.946Z"
   },
   {
    "duration": 4,
    "start_time": "2022-02-24T11:57:17.956Z"
   },
   {
    "duration": 17,
    "start_time": "2022-02-24T11:57:17.962Z"
   },
   {
    "duration": 33045,
    "start_time": "2022-02-24T11:57:17.981Z"
   },
   {
    "duration": 4,
    "start_time": "2022-02-24T11:57:51.027Z"
   },
   {
    "duration": 26,
    "start_time": "2022-02-24T11:57:51.032Z"
   },
   {
    "duration": 31,
    "start_time": "2022-02-24T11:57:51.059Z"
   },
   {
    "duration": 17,
    "start_time": "2022-02-24T11:57:51.092Z"
   },
   {
    "duration": 42,
    "start_time": "2022-02-24T11:57:51.111Z"
   },
   {
    "duration": 24,
    "start_time": "2022-02-24T11:57:51.155Z"
   },
   {
    "duration": 28,
    "start_time": "2022-02-24T11:57:51.180Z"
   },
   {
    "duration": 8,
    "start_time": "2022-02-24T11:57:51.210Z"
   },
   {
    "duration": 23,
    "start_time": "2022-02-24T11:57:51.219Z"
   },
   {
    "duration": 9,
    "start_time": "2022-02-24T11:57:51.243Z"
   },
   {
    "duration": 17,
    "start_time": "2022-02-24T11:57:51.253Z"
   },
   {
    "duration": 16,
    "start_time": "2022-02-24T11:57:51.271Z"
   },
   {
    "duration": 5,
    "start_time": "2022-02-24T11:57:51.290Z"
   },
   {
    "duration": 16,
    "start_time": "2022-02-24T11:57:51.297Z"
   },
   {
    "duration": 10,
    "start_time": "2022-02-24T11:57:51.314Z"
   },
   {
    "duration": 24,
    "start_time": "2022-02-24T11:57:51.325Z"
   },
   {
    "duration": 13,
    "start_time": "2022-02-24T11:57:51.350Z"
   },
   {
    "duration": 7,
    "start_time": "2022-02-24T11:57:51.365Z"
   },
   {
    "duration": 1044,
    "start_time": "2022-02-24T11:57:51.374Z"
   },
   {
    "duration": 10,
    "start_time": "2022-02-24T11:57:52.419Z"
   },
   {
    "duration": 459,
    "start_time": "2022-02-24T11:57:52.430Z"
   },
   {
    "duration": 10,
    "start_time": "2022-02-24T11:57:52.890Z"
   },
   {
    "duration": 310,
    "start_time": "2022-02-24T11:57:52.902Z"
   },
   {
    "duration": 2,
    "start_time": "2022-02-24T11:57:53.214Z"
   },
   {
    "duration": 28,
    "start_time": "2022-02-24T11:57:53.218Z"
   },
   {
    "duration": 1072,
    "start_time": "2022-02-24T11:57:53.248Z"
   },
   {
    "duration": 8,
    "start_time": "2022-02-24T11:57:54.321Z"
   },
   {
    "duration": 988,
    "start_time": "2022-02-24T11:57:54.331Z"
   },
   {
    "duration": 3,
    "start_time": "2022-02-24T11:57:55.321Z"
   },
   {
    "duration": 32,
    "start_time": "2022-02-24T11:57:55.325Z"
   },
   {
    "duration": 395,
    "start_time": "2022-02-24T11:57:55.358Z"
   },
   {
    "duration": 17,
    "start_time": "2022-02-24T11:57:55.754Z"
   },
   {
    "duration": 327,
    "start_time": "2022-02-24T11:57:55.773Z"
   },
   {
    "duration": 4,
    "start_time": "2022-02-24T11:57:56.102Z"
   },
   {
    "duration": 502,
    "start_time": "2022-02-24T11:57:56.108Z"
   },
   {
    "duration": 496,
    "start_time": "2022-02-24T11:57:56.116Z"
   },
   {
    "duration": 494,
    "start_time": "2022-02-24T11:57:56.118Z"
   },
   {
    "duration": 494,
    "start_time": "2022-02-24T11:57:56.119Z"
   },
   {
    "duration": 494,
    "start_time": "2022-02-24T11:57:56.120Z"
   },
   {
    "duration": 494,
    "start_time": "2022-02-24T11:57:56.121Z"
   },
   {
    "duration": 495,
    "start_time": "2022-02-24T11:57:56.122Z"
   },
   {
    "duration": 495,
    "start_time": "2022-02-24T11:57:56.123Z"
   },
   {
    "duration": 495,
    "start_time": "2022-02-24T11:57:56.124Z"
   },
   {
    "duration": 490,
    "start_time": "2022-02-24T11:57:56.130Z"
   },
   {
    "duration": 490,
    "start_time": "2022-02-24T11:57:56.131Z"
   },
   {
    "duration": 489,
    "start_time": "2022-02-24T11:57:56.133Z"
   },
   {
    "duration": 489,
    "start_time": "2022-02-24T11:57:56.135Z"
   },
   {
    "duration": 489,
    "start_time": "2022-02-24T11:57:56.136Z"
   },
   {
    "duration": 488,
    "start_time": "2022-02-24T11:57:56.138Z"
   },
   {
    "duration": 143,
    "start_time": "2022-02-24T11:58:08.537Z"
   },
   {
    "duration": 115,
    "start_time": "2022-02-24T11:58:31.331Z"
   },
   {
    "duration": 389,
    "start_time": "2022-02-24T11:58:33.326Z"
   },
   {
    "duration": 11,
    "start_time": "2022-02-24T11:58:42.762Z"
   },
   {
    "duration": 14,
    "start_time": "2022-02-24T12:00:10.050Z"
   },
   {
    "duration": 16,
    "start_time": "2022-02-24T12:01:01.311Z"
   },
   {
    "duration": 14,
    "start_time": "2022-02-24T12:01:08.519Z"
   },
   {
    "duration": 1149,
    "start_time": "2022-02-24T12:01:29.647Z"
   },
   {
    "duration": 49,
    "start_time": "2022-02-24T12:01:30.798Z"
   },
   {
    "duration": 11,
    "start_time": "2022-02-24T12:01:30.850Z"
   },
   {
    "duration": 26,
    "start_time": "2022-02-24T12:01:30.863Z"
   },
   {
    "duration": 47,
    "start_time": "2022-02-24T12:01:30.891Z"
   },
   {
    "duration": 12,
    "start_time": "2022-02-24T12:01:30.940Z"
   },
   {
    "duration": 21,
    "start_time": "2022-02-24T12:01:30.954Z"
   },
   {
    "duration": 22,
    "start_time": "2022-02-24T12:01:30.978Z"
   },
   {
    "duration": 26,
    "start_time": "2022-02-24T12:01:31.002Z"
   },
   {
    "duration": 33575,
    "start_time": "2022-02-24T12:01:31.030Z"
   },
   {
    "duration": 4,
    "start_time": "2022-02-24T12:02:04.607Z"
   },
   {
    "duration": 18,
    "start_time": "2022-02-24T12:02:04.613Z"
   },
   {
    "duration": 5,
    "start_time": "2022-02-24T12:02:04.633Z"
   },
   {
    "duration": 3,
    "start_time": "2022-02-24T12:02:04.646Z"
   },
   {
    "duration": 14,
    "start_time": "2022-02-24T12:02:04.650Z"
   },
   {
    "duration": 18,
    "start_time": "2022-02-24T12:02:04.666Z"
   },
   {
    "duration": 19,
    "start_time": "2022-02-24T12:02:04.685Z"
   },
   {
    "duration": 7,
    "start_time": "2022-02-24T12:02:04.706Z"
   },
   {
    "duration": 44,
    "start_time": "2022-02-24T12:02:04.714Z"
   },
   {
    "duration": 11,
    "start_time": "2022-02-24T12:02:04.759Z"
   },
   {
    "duration": 11,
    "start_time": "2022-02-24T12:02:04.771Z"
   },
   {
    "duration": 16,
    "start_time": "2022-02-24T12:02:04.783Z"
   },
   {
    "duration": 6,
    "start_time": "2022-02-24T12:02:04.803Z"
   },
   {
    "duration": 36,
    "start_time": "2022-02-24T12:02:04.812Z"
   },
   {
    "duration": 8,
    "start_time": "2022-02-24T12:02:04.850Z"
   },
   {
    "duration": 19,
    "start_time": "2022-02-24T12:02:04.860Z"
   },
   {
    "duration": 16,
    "start_time": "2022-02-24T12:02:04.881Z"
   },
   {
    "duration": 7,
    "start_time": "2022-02-24T12:02:04.898Z"
   },
   {
    "duration": 1010,
    "start_time": "2022-02-24T12:02:04.907Z"
   },
   {
    "duration": 9,
    "start_time": "2022-02-24T12:02:05.919Z"
   },
   {
    "duration": 760,
    "start_time": "2022-02-24T12:02:05.930Z"
   },
   {
    "duration": 11,
    "start_time": "2022-02-24T12:02:06.692Z"
   },
   {
    "duration": 325,
    "start_time": "2022-02-24T12:02:06.704Z"
   },
   {
    "duration": 3,
    "start_time": "2022-02-24T12:02:07.030Z"
   },
   {
    "duration": 28,
    "start_time": "2022-02-24T12:02:07.034Z"
   },
   {
    "duration": 1132,
    "start_time": "2022-02-24T12:02:07.063Z"
   },
   {
    "duration": 11,
    "start_time": "2022-02-24T12:02:08.197Z"
   },
   {
    "duration": 1001,
    "start_time": "2022-02-24T12:02:08.209Z"
   },
   {
    "duration": 2,
    "start_time": "2022-02-24T12:02:09.212Z"
   },
   {
    "duration": 30,
    "start_time": "2022-02-24T12:02:09.215Z"
   },
   {
    "duration": 500,
    "start_time": "2022-02-24T12:02:09.247Z"
   },
   {
    "duration": 19,
    "start_time": "2022-02-24T12:02:09.749Z"
   },
   {
    "duration": 343,
    "start_time": "2022-02-24T12:02:09.770Z"
   },
   {
    "duration": 4,
    "start_time": "2022-02-24T12:02:10.115Z"
   },
   {
    "duration": 430,
    "start_time": "2022-02-24T12:02:10.120Z"
   },
   {
    "duration": 503,
    "start_time": "2022-02-24T12:02:10.049Z"
   },
   {
    "duration": 500,
    "start_time": "2022-02-24T12:02:10.053Z"
   },
   {
    "duration": 499,
    "start_time": "2022-02-24T12:02:10.055Z"
   },
   {
    "duration": 496,
    "start_time": "2022-02-24T12:02:10.058Z"
   },
   {
    "duration": 496,
    "start_time": "2022-02-24T12:02:10.060Z"
   },
   {
    "duration": 492,
    "start_time": "2022-02-24T12:02:10.064Z"
   },
   {
    "duration": 490,
    "start_time": "2022-02-24T12:02:10.068Z"
   },
   {
    "duration": 487,
    "start_time": "2022-02-24T12:02:10.071Z"
   },
   {
    "duration": 481,
    "start_time": "2022-02-24T12:02:10.078Z"
   },
   {
    "duration": 479,
    "start_time": "2022-02-24T12:02:10.081Z"
   },
   {
    "duration": 479,
    "start_time": "2022-02-24T12:02:10.082Z"
   },
   {
    "duration": 479,
    "start_time": "2022-02-24T12:02:10.085Z"
   },
   {
    "duration": 1092,
    "start_time": "2022-02-24T12:02:19.588Z"
   },
   {
    "duration": 61,
    "start_time": "2022-02-24T12:02:20.682Z"
   },
   {
    "duration": 9,
    "start_time": "2022-02-24T12:02:20.745Z"
   },
   {
    "duration": 14,
    "start_time": "2022-02-24T12:02:20.756Z"
   },
   {
    "duration": 33,
    "start_time": "2022-02-24T12:02:20.771Z"
   },
   {
    "duration": 12,
    "start_time": "2022-02-24T12:02:20.805Z"
   },
   {
    "duration": 31,
    "start_time": "2022-02-24T12:02:20.818Z"
   },
   {
    "duration": 4,
    "start_time": "2022-02-24T12:02:20.852Z"
   },
   {
    "duration": 23,
    "start_time": "2022-02-24T12:02:20.858Z"
   },
   {
    "duration": 32351,
    "start_time": "2022-02-24T12:02:20.883Z"
   },
   {
    "duration": 10,
    "start_time": "2022-02-24T12:02:53.236Z"
   },
   {
    "duration": 8,
    "start_time": "2022-02-24T12:02:53.248Z"
   },
   {
    "duration": 4,
    "start_time": "2022-02-24T12:02:53.257Z"
   },
   {
    "duration": 5,
    "start_time": "2022-02-24T12:02:53.262Z"
   },
   {
    "duration": 10,
    "start_time": "2022-02-24T12:02:53.268Z"
   },
   {
    "duration": 19,
    "start_time": "2022-02-24T12:02:53.279Z"
   },
   {
    "duration": 15,
    "start_time": "2022-02-24T12:02:53.300Z"
   },
   {
    "duration": 32,
    "start_time": "2022-02-24T12:02:53.317Z"
   },
   {
    "duration": 23,
    "start_time": "2022-02-24T12:02:53.351Z"
   },
   {
    "duration": 9,
    "start_time": "2022-02-24T12:02:53.376Z"
   },
   {
    "duration": 10,
    "start_time": "2022-02-24T12:02:53.387Z"
   },
   {
    "duration": 16,
    "start_time": "2022-02-24T12:02:53.398Z"
   },
   {
    "duration": 6,
    "start_time": "2022-02-24T12:02:53.446Z"
   },
   {
    "duration": 19,
    "start_time": "2022-02-24T12:02:53.455Z"
   },
   {
    "duration": 18,
    "start_time": "2022-02-24T12:02:53.476Z"
   },
   {
    "duration": 14,
    "start_time": "2022-02-24T12:02:53.495Z"
   },
   {
    "duration": 19,
    "start_time": "2022-02-24T12:02:53.510Z"
   },
   {
    "duration": 20,
    "start_time": "2022-02-24T12:02:53.530Z"
   },
   {
    "duration": 1057,
    "start_time": "2022-02-24T12:02:53.552Z"
   },
   {
    "duration": 9,
    "start_time": "2022-02-24T12:02:54.611Z"
   },
   {
    "duration": 481,
    "start_time": "2022-02-24T12:02:54.622Z"
   },
   {
    "duration": 12,
    "start_time": "2022-02-24T12:02:55.105Z"
   },
   {
    "duration": 310,
    "start_time": "2022-02-24T12:02:55.119Z"
   },
   {
    "duration": 3,
    "start_time": "2022-02-24T12:02:55.430Z"
   },
   {
    "duration": 24,
    "start_time": "2022-02-24T12:02:55.434Z"
   },
   {
    "duration": 1104,
    "start_time": "2022-02-24T12:02:55.459Z"
   },
   {
    "duration": 7,
    "start_time": "2022-02-24T12:02:56.565Z"
   },
   {
    "duration": 977,
    "start_time": "2022-02-24T12:02:56.573Z"
   },
   {
    "duration": 2,
    "start_time": "2022-02-24T12:02:57.552Z"
   },
   {
    "duration": 31,
    "start_time": "2022-02-24T12:02:57.556Z"
   },
   {
    "duration": 395,
    "start_time": "2022-02-24T12:02:57.589Z"
   },
   {
    "duration": 18,
    "start_time": "2022-02-24T12:02:57.986Z"
   },
   {
    "duration": 402,
    "start_time": "2022-02-24T12:02:58.006Z"
   },
   {
    "duration": 4,
    "start_time": "2022-02-24T12:02:58.410Z"
   },
   {
    "duration": 586,
    "start_time": "2022-02-24T12:02:58.415Z"
   },
   {
    "duration": 385,
    "start_time": "2022-02-24T12:02:58.618Z"
   },
   {
    "duration": 382,
    "start_time": "2022-02-24T12:02:58.622Z"
   },
   {
    "duration": 382,
    "start_time": "2022-02-24T12:02:58.623Z"
   },
   {
    "duration": 378,
    "start_time": "2022-02-24T12:02:58.627Z"
   },
   {
    "duration": 378,
    "start_time": "2022-02-24T12:02:58.628Z"
   },
   {
    "duration": 377,
    "start_time": "2022-02-24T12:02:58.630Z"
   },
   {
    "duration": 377,
    "start_time": "2022-02-24T12:02:58.631Z"
   },
   {
    "duration": 377,
    "start_time": "2022-02-24T12:02:58.632Z"
   },
   {
    "duration": 376,
    "start_time": "2022-02-24T12:02:58.634Z"
   },
   {
    "duration": 376,
    "start_time": "2022-02-24T12:02:58.635Z"
   },
   {
    "duration": 376,
    "start_time": "2022-02-24T12:02:58.636Z"
   },
   {
    "duration": 246,
    "start_time": "2022-02-24T12:02:58.769Z"
   },
   {
    "duration": 382,
    "start_time": "2022-02-24T12:03:42.560Z"
   },
   {
    "duration": 15,
    "start_time": "2022-02-24T12:04:01.599Z"
   },
   {
    "duration": 15,
    "start_time": "2022-02-24T12:04:25.552Z"
   },
   {
    "duration": 350,
    "start_time": "2022-02-24T12:04:51.085Z"
   },
   {
    "duration": 13,
    "start_time": "2022-02-24T12:05:10.797Z"
   },
   {
    "duration": 17,
    "start_time": "2022-02-24T12:05:44.360Z"
   },
   {
    "duration": 10,
    "start_time": "2022-02-24T12:05:54.624Z"
   },
   {
    "duration": 11,
    "start_time": "2022-02-24T12:05:57.924Z"
   },
   {
    "duration": 11,
    "start_time": "2022-02-24T12:06:36.453Z"
   },
   {
    "duration": 320,
    "start_time": "2022-02-24T12:10:03.859Z"
   },
   {
    "duration": 333,
    "start_time": "2022-02-24T12:10:07.407Z"
   },
   {
    "duration": 340,
    "start_time": "2022-02-24T12:13:01.188Z"
   },
   {
    "duration": 3,
    "start_time": "2022-02-24T12:13:03.661Z"
   },
   {
    "duration": 402,
    "start_time": "2022-02-24T12:13:04.377Z"
   },
   {
    "duration": 670,
    "start_time": "2022-02-24T12:13:15.982Z"
   },
   {
    "duration": 3,
    "start_time": "2022-02-24T12:13:19.201Z"
   },
   {
    "duration": 690,
    "start_time": "2022-02-24T12:13:20.297Z"
   },
   {
    "duration": 3,
    "start_time": "2022-02-24T12:14:15.958Z"
   },
   {
    "duration": 9,
    "start_time": "2022-02-24T12:14:16.641Z"
   },
   {
    "duration": 3,
    "start_time": "2022-02-24T12:14:29.342Z"
   },
   {
    "duration": 8,
    "start_time": "2022-02-24T12:14:31.650Z"
   },
   {
    "duration": 338,
    "start_time": "2022-02-24T12:15:09.919Z"
   },
   {
    "duration": 1185,
    "start_time": "2022-02-24T12:15:15.454Z"
   },
   {
    "duration": 48,
    "start_time": "2022-02-24T12:15:16.641Z"
   },
   {
    "duration": 8,
    "start_time": "2022-02-24T12:15:16.691Z"
   },
   {
    "duration": 14,
    "start_time": "2022-02-24T12:15:16.701Z"
   },
   {
    "duration": 56,
    "start_time": "2022-02-24T12:15:16.716Z"
   },
   {
    "duration": 11,
    "start_time": "2022-02-24T12:15:16.773Z"
   },
   {
    "duration": 13,
    "start_time": "2022-02-24T12:15:16.786Z"
   },
   {
    "duration": 5,
    "start_time": "2022-02-24T12:15:16.801Z"
   },
   {
    "duration": 40,
    "start_time": "2022-02-24T12:15:16.807Z"
   },
   {
    "duration": 3,
    "start_time": "2022-02-24T12:17:40.500Z"
   },
   {
    "duration": 11,
    "start_time": "2022-02-24T12:17:41.174Z"
   },
   {
    "duration": 9,
    "start_time": "2022-02-24T12:17:52.200Z"
   },
   {
    "duration": 10,
    "start_time": "2022-02-24T12:18:11.932Z"
   },
   {
    "duration": 3,
    "start_time": "2022-02-24T12:18:36.787Z"
   },
   {
    "duration": 9,
    "start_time": "2022-02-24T12:18:37.451Z"
   },
   {
    "duration": 8,
    "start_time": "2022-02-24T12:18:37.679Z"
   },
   {
    "duration": 9,
    "start_time": "2022-02-24T12:18:37.839Z"
   },
   {
    "duration": 3,
    "start_time": "2022-02-24T12:20:21.668Z"
   },
   {
    "duration": 983,
    "start_time": "2022-02-24T12:20:22.417Z"
   },
   {
    "duration": 8,
    "start_time": "2022-02-24T12:20:30.126Z"
   },
   {
    "duration": 3,
    "start_time": "2022-02-24T12:20:34.017Z"
   },
   {
    "duration": 8,
    "start_time": "2022-02-24T12:20:34.797Z"
   },
   {
    "duration": 9,
    "start_time": "2022-02-24T12:20:50.420Z"
   },
   {
    "duration": 8,
    "start_time": "2022-02-24T12:21:02.065Z"
   },
   {
    "duration": 3,
    "start_time": "2022-02-24T13:29:12.471Z"
   },
   {
    "duration": 9260,
    "start_time": "2022-02-24T13:29:14.899Z"
   },
   {
    "duration": 3,
    "start_time": "2022-02-24T13:29:48.347Z"
   },
   {
    "duration": 9301,
    "start_time": "2022-02-24T13:29:49.402Z"
   },
   {
    "duration": 3,
    "start_time": "2022-02-24T13:30:12.601Z"
   },
   {
    "duration": 9,
    "start_time": "2022-02-24T13:30:15.790Z"
   },
   {
    "duration": 3,
    "start_time": "2022-02-24T13:30:23.822Z"
   },
   {
    "duration": 10,
    "start_time": "2022-02-24T13:30:30.764Z"
   },
   {
    "duration": 4,
    "start_time": "2022-02-24T13:30:43.031Z"
   },
   {
    "duration": 11,
    "start_time": "2022-02-24T13:30:44.242Z"
   },
   {
    "duration": 10,
    "start_time": "2022-02-24T13:30:47.963Z"
   },
   {
    "duration": 11,
    "start_time": "2022-02-24T13:30:51.154Z"
   },
   {
    "duration": 25,
    "start_time": "2022-02-24T13:32:54.797Z"
   },
   {
    "duration": 3,
    "start_time": "2022-02-24T13:33:23.683Z"
   },
   {
    "duration": 12,
    "start_time": "2022-02-24T13:33:24.211Z"
   },
   {
    "duration": 4,
    "start_time": "2022-02-24T13:33:43.571Z"
   },
   {
    "duration": 9250,
    "start_time": "2022-02-24T13:33:44.785Z"
   },
   {
    "duration": 3,
    "start_time": "2022-02-24T13:33:55.756Z"
   },
   {
    "duration": 4,
    "start_time": "2022-02-24T13:33:59.448Z"
   },
   {
    "duration": 12,
    "start_time": "2022-02-24T13:34:04.080Z"
   },
   {
    "duration": 3,
    "start_time": "2022-02-24T13:34:15.144Z"
   },
   {
    "duration": 11,
    "start_time": "2022-02-24T13:34:15.792Z"
   },
   {
    "duration": 333,
    "start_time": "2022-02-24T13:34:51.872Z"
   },
   {
    "duration": 4,
    "start_time": "2022-02-24T13:35:20.473Z"
   },
   {
    "duration": 11,
    "start_time": "2022-02-24T13:35:22.725Z"
   },
   {
    "duration": 3,
    "start_time": "2022-02-24T13:35:33.314Z"
   },
   {
    "duration": 11,
    "start_time": "2022-02-24T13:35:33.936Z"
   },
   {
    "duration": 10,
    "start_time": "2022-02-24T13:35:45.725Z"
   },
   {
    "duration": 11,
    "start_time": "2022-02-24T13:35:51.769Z"
   },
   {
    "duration": 3,
    "start_time": "2022-02-24T13:35:56.857Z"
   },
   {
    "duration": 9,
    "start_time": "2022-02-24T13:35:58.709Z"
   },
   {
    "duration": 8,
    "start_time": "2022-02-24T13:36:09.625Z"
   },
   {
    "duration": 9,
    "start_time": "2022-02-24T13:36:13.165Z"
   },
   {
    "duration": 9,
    "start_time": "2022-02-24T13:36:16.520Z"
   },
   {
    "duration": 152,
    "start_time": "2022-02-24T13:36:43.270Z"
   },
   {
    "duration": 166,
    "start_time": "2022-02-24T13:36:55.310Z"
   },
   {
    "duration": 122,
    "start_time": "2022-02-24T13:37:10.396Z"
   },
   {
    "duration": 10,
    "start_time": "2022-02-24T13:37:12.235Z"
   },
   {
    "duration": 10,
    "start_time": "2022-02-24T13:37:14.054Z"
   },
   {
    "duration": 112,
    "start_time": "2022-02-24T13:37:43.996Z"
   },
   {
    "duration": 10,
    "start_time": "2022-02-24T13:37:45.035Z"
   },
   {
    "duration": 10,
    "start_time": "2022-02-24T13:37:46.667Z"
   },
   {
    "duration": 14,
    "start_time": "2022-02-24T13:37:51.642Z"
   },
   {
    "duration": 114,
    "start_time": "2022-02-24T13:37:53.573Z"
   },
   {
    "duration": 107,
    "start_time": "2022-02-24T13:38:13.484Z"
   },
   {
    "duration": 127,
    "start_time": "2022-02-24T13:38:16.518Z"
   },
   {
    "duration": 11,
    "start_time": "2022-02-24T13:38:20.795Z"
   },
   {
    "duration": 4,
    "start_time": "2022-02-24T13:38:37.438Z"
   },
   {
    "duration": 4,
    "start_time": "2022-02-24T13:38:39.707Z"
   },
   {
    "duration": 12,
    "start_time": "2022-02-24T13:38:41.211Z"
   },
   {
    "duration": 4,
    "start_time": "2022-02-24T13:38:45.291Z"
   },
   {
    "duration": 11,
    "start_time": "2022-02-24T13:38:46.204Z"
   },
   {
    "duration": 4,
    "start_time": "2022-02-24T13:38:55.651Z"
   },
   {
    "duration": 14,
    "start_time": "2022-02-24T13:38:57.191Z"
   },
   {
    "duration": 10,
    "start_time": "2022-02-24T13:39:04.572Z"
   },
   {
    "duration": 10,
    "start_time": "2022-02-24T13:39:07.015Z"
   },
   {
    "duration": 10,
    "start_time": "2022-02-24T13:39:09.466Z"
   },
   {
    "duration": 6,
    "start_time": "2022-02-24T13:39:35.064Z"
   },
   {
    "duration": 699,
    "start_time": "2022-02-24T13:39:39.184Z"
   },
   {
    "duration": 4,
    "start_time": "2022-02-24T13:39:55.532Z"
   },
   {
    "duration": 666,
    "start_time": "2022-02-24T13:39:59.465Z"
   },
   {
    "duration": 2874,
    "start_time": "2022-02-24T13:40:20.309Z"
   },
   {
    "duration": 542,
    "start_time": "2022-02-24T13:40:22.643Z"
   },
   {
    "duration": 130,
    "start_time": "2022-02-24T13:41:14.937Z"
   },
   {
    "duration": 106,
    "start_time": "2022-02-24T13:41:23.086Z"
   },
   {
    "duration": 124,
    "start_time": "2022-02-24T13:41:37.842Z"
   },
   {
    "duration": 121,
    "start_time": "2022-02-24T13:41:54.865Z"
   },
   {
    "duration": 646,
    "start_time": "2022-02-24T13:41:55.754Z"
   },
   {
    "duration": 3,
    "start_time": "2022-02-24T13:42:14.582Z"
   },
   {
    "duration": 8,
    "start_time": "2022-02-24T13:42:16.135Z"
   },
   {
    "duration": 11,
    "start_time": "2022-02-24T13:42:18.445Z"
   },
   {
    "duration": 8,
    "start_time": "2022-02-24T13:42:20.862Z"
   },
   {
    "duration": 8,
    "start_time": "2022-02-24T13:42:22.691Z"
   },
   {
    "duration": 104,
    "start_time": "2022-02-24T13:43:10.699Z"
   },
   {
    "duration": 3,
    "start_time": "2022-02-24T13:43:23.515Z"
   },
   {
    "duration": 10,
    "start_time": "2022-02-24T13:43:25.406Z"
   },
   {
    "duration": 10,
    "start_time": "2022-02-24T13:43:28.315Z"
   },
   {
    "duration": 12,
    "start_time": "2022-02-24T13:43:30.424Z"
   },
   {
    "duration": 20,
    "start_time": "2022-02-24T13:44:28.730Z"
   },
   {
    "duration": 15,
    "start_time": "2022-02-24T13:44:52.300Z"
   },
   {
    "duration": 519,
    "start_time": "2022-02-24T13:45:19.599Z"
   },
   {
    "duration": 1137,
    "start_time": "2022-02-24T13:45:23.060Z"
   },
   {
    "duration": 48,
    "start_time": "2022-02-24T13:45:24.199Z"
   },
   {
    "duration": 10,
    "start_time": "2022-02-24T13:45:24.251Z"
   },
   {
    "duration": 15,
    "start_time": "2022-02-24T13:45:24.263Z"
   },
   {
    "duration": 34,
    "start_time": "2022-02-24T13:45:24.279Z"
   },
   {
    "duration": 12,
    "start_time": "2022-02-24T13:45:24.346Z"
   },
   {
    "duration": 10,
    "start_time": "2022-02-24T13:45:24.360Z"
   },
   {
    "duration": 4,
    "start_time": "2022-02-24T13:45:24.373Z"
   },
   {
    "duration": 19,
    "start_time": "2022-02-24T13:45:24.379Z"
   },
   {
    "duration": 33954,
    "start_time": "2022-02-24T13:45:24.400Z"
   },
   {
    "duration": 4,
    "start_time": "2022-02-24T13:45:58.355Z"
   },
   {
    "duration": 11,
    "start_time": "2022-02-24T13:45:58.360Z"
   },
   {
    "duration": 9,
    "start_time": "2022-02-24T13:45:58.372Z"
   },
   {
    "duration": 9,
    "start_time": "2022-02-24T13:45:58.383Z"
   },
   {
    "duration": 12,
    "start_time": "2022-02-24T13:45:58.393Z"
   },
   {
    "duration": 50,
    "start_time": "2022-02-24T13:45:58.407Z"
   },
   {
    "duration": 19,
    "start_time": "2022-02-24T13:45:58.459Z"
   },
   {
    "duration": 7,
    "start_time": "2022-02-24T13:45:58.479Z"
   },
   {
    "duration": 23,
    "start_time": "2022-02-24T13:45:58.487Z"
   },
   {
    "duration": 40,
    "start_time": "2022-02-24T13:45:58.511Z"
   },
   {
    "duration": 15,
    "start_time": "2022-02-24T13:45:58.552Z"
   },
   {
    "duration": 16,
    "start_time": "2022-02-24T13:45:58.569Z"
   },
   {
    "duration": 6,
    "start_time": "2022-02-24T13:45:58.587Z"
   },
   {
    "duration": 10,
    "start_time": "2022-02-24T13:45:58.595Z"
   },
   {
    "duration": 49,
    "start_time": "2022-02-24T13:45:58.606Z"
   },
   {
    "duration": 14,
    "start_time": "2022-02-24T13:45:58.660Z"
   },
   {
    "duration": 15,
    "start_time": "2022-02-24T13:45:58.677Z"
   },
   {
    "duration": 7,
    "start_time": "2022-02-24T13:45:58.694Z"
   },
   {
    "duration": 987,
    "start_time": "2022-02-24T13:45:58.703Z"
   },
   {
    "duration": 9,
    "start_time": "2022-02-24T13:45:59.692Z"
   },
   {
    "duration": 476,
    "start_time": "2022-02-24T13:45:59.703Z"
   },
   {
    "duration": 13,
    "start_time": "2022-02-24T13:46:00.180Z"
   },
   {
    "duration": 333,
    "start_time": "2022-02-24T13:46:00.194Z"
   },
   {
    "duration": 3,
    "start_time": "2022-02-24T13:46:00.529Z"
   },
   {
    "duration": 26,
    "start_time": "2022-02-24T13:46:00.533Z"
   },
   {
    "duration": 1209,
    "start_time": "2022-02-24T13:46:00.560Z"
   },
   {
    "duration": 9,
    "start_time": "2022-02-24T13:46:01.771Z"
   },
   {
    "duration": 993,
    "start_time": "2022-02-24T13:46:01.781Z"
   },
   {
    "duration": 3,
    "start_time": "2022-02-24T13:46:02.775Z"
   },
   {
    "duration": 20,
    "start_time": "2022-02-24T13:46:02.779Z"
   },
   {
    "duration": 404,
    "start_time": "2022-02-24T13:46:02.800Z"
   },
   {
    "duration": 18,
    "start_time": "2022-02-24T13:46:03.205Z"
   },
   {
    "duration": 386,
    "start_time": "2022-02-24T13:46:03.224Z"
   },
   {
    "duration": 4,
    "start_time": "2022-02-24T13:46:03.611Z"
   },
   {
    "duration": 398,
    "start_time": "2022-02-24T13:46:03.618Z"
   },
   {
    "duration": 565,
    "start_time": "2022-02-24T13:46:03.452Z"
   },
   {
    "duration": 564,
    "start_time": "2022-02-24T13:46:03.454Z"
   },
   {
    "duration": 563,
    "start_time": "2022-02-24T13:46:03.456Z"
   },
   {
    "duration": 564,
    "start_time": "2022-02-24T13:46:03.457Z"
   },
   {
    "duration": 563,
    "start_time": "2022-02-24T13:46:03.459Z"
   },
   {
    "duration": 563,
    "start_time": "2022-02-24T13:46:03.460Z"
   },
   {
    "duration": 563,
    "start_time": "2022-02-24T13:46:03.461Z"
   },
   {
    "duration": 550,
    "start_time": "2022-02-24T13:46:03.475Z"
   },
   {
    "duration": 549,
    "start_time": "2022-02-24T13:46:03.477Z"
   },
   {
    "duration": 547,
    "start_time": "2022-02-24T13:46:03.480Z"
   },
   {
    "duration": 544,
    "start_time": "2022-02-24T13:46:03.484Z"
   },
   {
    "duration": 542,
    "start_time": "2022-02-24T13:46:03.487Z"
   },
   {
    "duration": 540,
    "start_time": "2022-02-24T13:46:03.490Z"
   },
   {
    "duration": 538,
    "start_time": "2022-02-24T13:46:03.493Z"
   },
   {
    "duration": 536,
    "start_time": "2022-02-24T13:46:03.496Z"
   },
   {
    "duration": 534,
    "start_time": "2022-02-24T13:46:03.499Z"
   },
   {
    "duration": 531,
    "start_time": "2022-02-24T13:46:03.502Z"
   },
   {
    "duration": 528,
    "start_time": "2022-02-24T13:46:03.506Z"
   },
   {
    "duration": 527,
    "start_time": "2022-02-24T13:46:03.508Z"
   },
   {
    "duration": 528,
    "start_time": "2022-02-24T13:46:03.511Z"
   },
   {
    "duration": 1127,
    "start_time": "2022-02-24T13:47:28.058Z"
   },
   {
    "duration": 47,
    "start_time": "2022-02-24T13:47:29.186Z"
   },
   {
    "duration": 10,
    "start_time": "2022-02-24T13:47:29.235Z"
   },
   {
    "duration": 17,
    "start_time": "2022-02-24T13:47:29.247Z"
   },
   {
    "duration": 33,
    "start_time": "2022-02-24T13:47:29.266Z"
   },
   {
    "duration": 12,
    "start_time": "2022-02-24T13:47:29.300Z"
   },
   {
    "duration": 37,
    "start_time": "2022-02-24T13:47:29.314Z"
   },
   {
    "duration": 10,
    "start_time": "2022-02-24T13:47:29.353Z"
   },
   {
    "duration": 20,
    "start_time": "2022-02-24T13:47:29.365Z"
   },
   {
    "duration": 32247,
    "start_time": "2022-02-24T13:47:29.387Z"
   },
   {
    "duration": 12,
    "start_time": "2022-02-24T13:48:01.635Z"
   },
   {
    "duration": 21,
    "start_time": "2022-02-24T13:48:01.648Z"
   },
   {
    "duration": 4,
    "start_time": "2022-02-24T13:48:01.671Z"
   },
   {
    "duration": 6,
    "start_time": "2022-02-24T13:48:01.676Z"
   },
   {
    "duration": 13,
    "start_time": "2022-02-24T13:48:01.683Z"
   },
   {
    "duration": 20,
    "start_time": "2022-02-24T13:48:01.697Z"
   },
   {
    "duration": 36,
    "start_time": "2022-02-24T13:48:01.719Z"
   },
   {
    "duration": 9,
    "start_time": "2022-02-24T13:48:01.757Z"
   },
   {
    "duration": 27,
    "start_time": "2022-02-24T13:48:01.769Z"
   },
   {
    "duration": 12,
    "start_time": "2022-02-24T13:48:01.798Z"
   },
   {
    "duration": 42,
    "start_time": "2022-02-24T13:48:01.812Z"
   },
   {
    "duration": 17,
    "start_time": "2022-02-24T13:48:01.856Z"
   },
   {
    "duration": 7,
    "start_time": "2022-02-24T13:48:01.877Z"
   },
   {
    "duration": 9,
    "start_time": "2022-02-24T13:48:01.886Z"
   },
   {
    "duration": 12,
    "start_time": "2022-02-24T13:48:01.896Z"
   },
   {
    "duration": 45,
    "start_time": "2022-02-24T13:48:01.909Z"
   },
   {
    "duration": 16,
    "start_time": "2022-02-24T13:48:01.956Z"
   },
   {
    "duration": 8,
    "start_time": "2022-02-24T13:48:01.974Z"
   },
   {
    "duration": 1010,
    "start_time": "2022-02-24T13:48:01.983Z"
   },
   {
    "duration": 10,
    "start_time": "2022-02-24T13:48:02.994Z"
   },
   {
    "duration": 486,
    "start_time": "2022-02-24T13:48:03.005Z"
   },
   {
    "duration": 12,
    "start_time": "2022-02-24T13:48:03.492Z"
   },
   {
    "duration": 335,
    "start_time": "2022-02-24T13:48:03.505Z"
   },
   {
    "duration": 5,
    "start_time": "2022-02-24T13:48:03.841Z"
   },
   {
    "duration": 21,
    "start_time": "2022-02-24T13:48:03.847Z"
   },
   {
    "duration": 1127,
    "start_time": "2022-02-24T13:48:03.870Z"
   },
   {
    "duration": 8,
    "start_time": "2022-02-24T13:48:04.999Z"
   },
   {
    "duration": 999,
    "start_time": "2022-02-24T13:48:05.008Z"
   },
   {
    "duration": 2,
    "start_time": "2022-02-24T13:48:06.009Z"
   },
   {
    "duration": 19,
    "start_time": "2022-02-24T13:48:06.013Z"
   },
   {
    "duration": 412,
    "start_time": "2022-02-24T13:48:06.046Z"
   },
   {
    "duration": 18,
    "start_time": "2022-02-24T13:48:06.460Z"
   },
   {
    "duration": 334,
    "start_time": "2022-02-24T13:48:06.480Z"
   },
   {
    "duration": 5,
    "start_time": "2022-02-24T13:48:06.815Z"
   },
   {
    "duration": 452,
    "start_time": "2022-02-24T13:48:06.822Z"
   },
   {
    "duration": 564,
    "start_time": "2022-02-24T13:48:06.713Z"
   },
   {
    "duration": 562,
    "start_time": "2022-02-24T13:48:06.716Z"
   },
   {
    "duration": 561,
    "start_time": "2022-02-24T13:48:06.718Z"
   },
   {
    "duration": 558,
    "start_time": "2022-02-24T13:48:06.722Z"
   },
   {
    "duration": 559,
    "start_time": "2022-02-24T13:48:06.723Z"
   },
   {
    "duration": 556,
    "start_time": "2022-02-24T13:48:06.727Z"
   },
   {
    "duration": 554,
    "start_time": "2022-02-24T13:48:06.730Z"
   },
   {
    "duration": 552,
    "start_time": "2022-02-24T13:48:06.733Z"
   },
   {
    "duration": 551,
    "start_time": "2022-02-24T13:48:06.735Z"
   },
   {
    "duration": 548,
    "start_time": "2022-02-24T13:48:06.739Z"
   },
   {
    "duration": 546,
    "start_time": "2022-02-24T13:48:06.741Z"
   },
   {
    "duration": 545,
    "start_time": "2022-02-24T13:48:06.743Z"
   },
   {
    "duration": 544,
    "start_time": "2022-02-24T13:48:06.745Z"
   },
   {
    "duration": 543,
    "start_time": "2022-02-24T13:48:06.747Z"
   },
   {
    "duration": 542,
    "start_time": "2022-02-24T13:48:06.749Z"
   },
   {
    "duration": 541,
    "start_time": "2022-02-24T13:48:06.751Z"
   },
   {
    "duration": 540,
    "start_time": "2022-02-24T13:48:06.753Z"
   },
   {
    "duration": 540,
    "start_time": "2022-02-24T13:48:06.754Z"
   },
   {
    "duration": 539,
    "start_time": "2022-02-24T13:48:06.756Z"
   },
   {
    "duration": 538,
    "start_time": "2022-02-24T13:48:06.757Z"
   },
   {
    "duration": 3,
    "start_time": "2022-02-24T13:52:15.325Z"
   },
   {
    "duration": 711,
    "start_time": "2022-02-24T13:52:16.901Z"
   },
   {
    "duration": 4,
    "start_time": "2022-02-24T13:53:29.642Z"
   },
   {
    "duration": 645,
    "start_time": "2022-02-24T13:53:31.918Z"
   },
   {
    "duration": 3,
    "start_time": "2022-02-24T13:53:39.874Z"
   },
   {
    "duration": 670,
    "start_time": "2022-02-24T13:53:42.247Z"
   },
   {
    "duration": 4,
    "start_time": "2022-02-24T13:54:12.906Z"
   },
   {
    "duration": 667,
    "start_time": "2022-02-24T13:54:15.162Z"
   },
   {
    "duration": 18,
    "start_time": "2022-02-24T13:54:23.826Z"
   },
   {
    "duration": 3,
    "start_time": "2022-02-24T13:54:34.227Z"
   },
   {
    "duration": 9,
    "start_time": "2022-02-24T13:54:36.473Z"
   },
   {
    "duration": 4,
    "start_time": "2022-02-24T13:56:12.809Z"
   },
   {
    "duration": 3,
    "start_time": "2022-02-24T13:56:14.376Z"
   },
   {
    "duration": 9511,
    "start_time": "2022-02-24T13:56:15.564Z"
   },
   {
    "duration": 4,
    "start_time": "2022-02-24T13:56:30.688Z"
   },
   {
    "duration": 8,
    "start_time": "2022-02-24T13:56:32.820Z"
   },
   {
    "duration": 3,
    "start_time": "2022-02-24T13:56:50.175Z"
   },
   {
    "duration": 3,
    "start_time": "2022-02-24T13:56:52.683Z"
   },
   {
    "duration": 9,
    "start_time": "2022-02-24T13:56:53.133Z"
   },
   {
    "duration": 3,
    "start_time": "2022-02-24T13:58:18.566Z"
   },
   {
    "duration": 558,
    "start_time": "2022-02-24T13:58:27.398Z"
   },
   {
    "duration": 555,
    "start_time": "2022-02-24T13:58:27.402Z"
   },
   {
    "duration": 8659,
    "start_time": "2022-02-24T13:58:28.926Z"
   },
   {
    "duration": 3,
    "start_time": "2022-02-24T13:58:50.258Z"
   },
   {
    "duration": 118,
    "start_time": "2022-02-24T13:59:52.440Z"
   },
   {
    "duration": 8707,
    "start_time": "2022-02-24T13:59:54.654Z"
   },
   {
    "duration": 108,
    "start_time": "2022-02-24T14:00:07.431Z"
   },
   {
    "duration": 8701,
    "start_time": "2022-02-24T14:00:08.859Z"
   },
   {
    "duration": 3,
    "start_time": "2022-02-24T14:00:22.275Z"
   },
   {
    "duration": 9,
    "start_time": "2022-02-24T14:00:33.395Z"
   },
   {
    "duration": 12,
    "start_time": "2022-02-24T14:03:09.729Z"
   },
   {
    "duration": 527,
    "start_time": "2022-02-24T14:04:40.821Z"
   },
   {
    "duration": 497,
    "start_time": "2022-02-24T14:05:09.506Z"
   },
   {
    "duration": 8769,
    "start_time": "2022-02-24T14:05:30.152Z"
   },
   {
    "duration": 8641,
    "start_time": "2022-02-24T14:05:39.167Z"
   },
   {
    "duration": 402,
    "start_time": "2022-02-24T14:06:50.784Z"
   },
   {
    "duration": 1138,
    "start_time": "2022-02-24T14:07:07.849Z"
   },
   {
    "duration": 48,
    "start_time": "2022-02-24T14:07:08.989Z"
   },
   {
    "duration": 11,
    "start_time": "2022-02-24T14:07:09.039Z"
   },
   {
    "duration": 14,
    "start_time": "2022-02-24T14:07:09.052Z"
   },
   {
    "duration": 33,
    "start_time": "2022-02-24T14:07:09.068Z"
   },
   {
    "duration": 12,
    "start_time": "2022-02-24T14:07:09.102Z"
   },
   {
    "duration": 33,
    "start_time": "2022-02-24T14:07:09.115Z"
   },
   {
    "duration": 5,
    "start_time": "2022-02-24T14:07:09.150Z"
   },
   {
    "duration": 20,
    "start_time": "2022-02-24T14:07:09.158Z"
   },
   {
    "duration": 3,
    "start_time": "2022-02-24T14:08:06.547Z"
   },
   {
    "duration": 10,
    "start_time": "2022-02-24T14:08:07.738Z"
   },
   {
    "duration": 9,
    "start_time": "2022-02-24T14:08:10.719Z"
   },
   {
    "duration": 9,
    "start_time": "2022-02-24T14:08:14.732Z"
   },
   {
    "duration": 349,
    "start_time": "2022-02-24T15:58:19.645Z"
   },
   {
    "duration": 7,
    "start_time": "2022-02-24T15:58:42.231Z"
   },
   {
    "duration": 322,
    "start_time": "2022-02-24T15:59:30.774Z"
   },
   {
    "duration": 10,
    "start_time": "2022-02-24T15:59:56.648Z"
   },
   {
    "duration": 1115,
    "start_time": "2022-02-24T16:00:06.766Z"
   },
   {
    "duration": 48,
    "start_time": "2022-02-24T16:00:07.882Z"
   },
   {
    "duration": 14,
    "start_time": "2022-02-24T16:00:07.932Z"
   },
   {
    "duration": 16,
    "start_time": "2022-02-24T16:00:07.948Z"
   },
   {
    "duration": 36,
    "start_time": "2022-02-24T16:00:07.965Z"
   },
   {
    "duration": 44,
    "start_time": "2022-02-24T16:00:08.003Z"
   },
   {
    "duration": 10,
    "start_time": "2022-02-24T16:00:08.049Z"
   },
   {
    "duration": 5,
    "start_time": "2022-02-24T16:00:08.061Z"
   },
   {
    "duration": 18,
    "start_time": "2022-02-24T16:00:08.067Z"
   },
   {
    "duration": 31541,
    "start_time": "2022-02-24T16:00:08.087Z"
   },
   {
    "duration": 4,
    "start_time": "2022-02-24T16:00:39.630Z"
   },
   {
    "duration": 12,
    "start_time": "2022-02-24T16:00:39.635Z"
   },
   {
    "duration": 7,
    "start_time": "2022-02-24T16:00:39.648Z"
   },
   {
    "duration": 10,
    "start_time": "2022-02-24T16:00:39.656Z"
   },
   {
    "duration": 16,
    "start_time": "2022-02-24T16:00:39.667Z"
   },
   {
    "duration": 16,
    "start_time": "2022-02-24T16:00:39.684Z"
   },
   {
    "duration": 46,
    "start_time": "2022-02-24T16:00:39.701Z"
   },
   {
    "duration": 6,
    "start_time": "2022-02-24T16:00:39.748Z"
   },
   {
    "duration": 28,
    "start_time": "2022-02-24T16:00:39.756Z"
   },
   {
    "duration": 11,
    "start_time": "2022-02-24T16:00:39.785Z"
   },
   {
    "duration": 10,
    "start_time": "2022-02-24T16:00:39.797Z"
   },
   {
    "duration": 47,
    "start_time": "2022-02-24T16:00:39.808Z"
   },
   {
    "duration": 6,
    "start_time": "2022-02-24T16:00:39.859Z"
   },
   {
    "duration": 8,
    "start_time": "2022-02-24T16:00:39.867Z"
   },
   {
    "duration": 9,
    "start_time": "2022-02-24T16:00:39.877Z"
   },
   {
    "duration": 14,
    "start_time": "2022-02-24T16:00:39.888Z"
   },
   {
    "duration": 48,
    "start_time": "2022-02-24T16:00:39.903Z"
   },
   {
    "duration": 7,
    "start_time": "2022-02-24T16:00:39.953Z"
   },
   {
    "duration": 969,
    "start_time": "2022-02-24T16:00:39.961Z"
   },
   {
    "duration": 15,
    "start_time": "2022-02-24T16:00:40.932Z"
   },
   {
    "duration": 490,
    "start_time": "2022-02-24T16:00:40.948Z"
   },
   {
    "duration": 14,
    "start_time": "2022-02-24T16:00:41.440Z"
   },
   {
    "duration": 320,
    "start_time": "2022-02-24T16:00:41.456Z"
   },
   {
    "duration": 2,
    "start_time": "2022-02-24T16:00:41.778Z"
   },
   {
    "duration": 28,
    "start_time": "2022-02-24T16:00:41.782Z"
   },
   {
    "duration": 1186,
    "start_time": "2022-02-24T16:00:41.811Z"
   },
   {
    "duration": 8,
    "start_time": "2022-02-24T16:00:42.998Z"
   },
   {
    "duration": 1033,
    "start_time": "2022-02-24T16:00:43.007Z"
   },
   {
    "duration": 5,
    "start_time": "2022-02-24T16:00:44.041Z"
   },
   {
    "duration": 21,
    "start_time": "2022-02-24T16:00:44.048Z"
   },
   {
    "duration": 429,
    "start_time": "2022-02-24T16:00:44.070Z"
   },
   {
    "duration": 17,
    "start_time": "2022-02-24T16:00:44.501Z"
   },
   {
    "duration": 388,
    "start_time": "2022-02-24T16:00:44.520Z"
   },
   {
    "duration": 4,
    "start_time": "2022-02-24T16:00:44.910Z"
   },
   {
    "duration": 722,
    "start_time": "2022-02-24T16:00:44.915Z"
   },
   {
    "duration": 617,
    "start_time": "2022-02-24T16:00:45.022Z"
   },
   {
    "duration": 614,
    "start_time": "2022-02-24T16:00:45.026Z"
   },
   {
    "duration": 613,
    "start_time": "2022-02-24T16:00:45.028Z"
   },
   {
    "duration": 613,
    "start_time": "2022-02-24T16:00:45.029Z"
   },
   {
    "duration": 601,
    "start_time": "2022-02-24T16:00:45.041Z"
   },
   {
    "duration": 595,
    "start_time": "2022-02-24T16:00:45.048Z"
   },
   {
    "duration": 594,
    "start_time": "2022-02-24T16:00:45.050Z"
   },
   {
    "duration": 594,
    "start_time": "2022-02-24T16:00:45.051Z"
   },
   {
    "duration": 593,
    "start_time": "2022-02-24T16:00:45.053Z"
   },
   {
    "duration": 592,
    "start_time": "2022-02-24T16:00:45.055Z"
   },
   {
    "duration": 591,
    "start_time": "2022-02-24T16:00:45.057Z"
   },
   {
    "duration": 586,
    "start_time": "2022-02-24T16:00:45.063Z"
   },
   {
    "duration": 585,
    "start_time": "2022-02-24T16:00:45.065Z"
   },
   {
    "duration": 583,
    "start_time": "2022-02-24T16:00:45.068Z"
   },
   {
    "duration": 583,
    "start_time": "2022-02-24T16:00:45.069Z"
   },
   {
    "duration": 582,
    "start_time": "2022-02-24T16:00:45.071Z"
   },
   {
    "duration": 582,
    "start_time": "2022-02-24T16:00:45.072Z"
   },
   {
    "duration": 581,
    "start_time": "2022-02-24T16:00:45.074Z"
   },
   {
    "duration": 575,
    "start_time": "2022-02-24T16:00:45.081Z"
   },
   {
    "duration": 575,
    "start_time": "2022-02-24T16:00:45.082Z"
   },
   {
    "duration": 574,
    "start_time": "2022-02-24T16:00:45.084Z"
   },
   {
    "duration": 573,
    "start_time": "2022-02-24T16:00:45.085Z"
   },
   {
    "duration": 572,
    "start_time": "2022-02-24T16:00:45.087Z"
   },
   {
    "duration": 572,
    "start_time": "2022-02-24T16:00:45.089Z"
   },
   {
    "duration": 566,
    "start_time": "2022-02-24T16:00:45.096Z"
   },
   {
    "duration": 9,
    "start_time": "2022-02-24T16:01:04.020Z"
   },
   {
    "duration": 23,
    "start_time": "2022-02-24T16:01:33.526Z"
   },
   {
    "duration": 4,
    "start_time": "2022-02-24T16:02:01.304Z"
   },
   {
    "duration": 20,
    "start_time": "2022-02-24T16:02:14.684Z"
   },
   {
    "duration": 16,
    "start_time": "2022-02-24T16:02:33.531Z"
   },
   {
    "duration": 335,
    "start_time": "2022-02-24T16:02:41.263Z"
   },
   {
    "duration": 16,
    "start_time": "2022-02-24T16:02:52.292Z"
   },
   {
    "duration": 2,
    "start_time": "2022-02-24T16:09:16.747Z"
   },
   {
    "duration": 7,
    "start_time": "2022-02-24T16:09:18.059Z"
   },
   {
    "duration": 18,
    "start_time": "2022-02-24T16:11:30.057Z"
   },
   {
    "duration": 16,
    "start_time": "2022-02-24T16:11:50.853Z"
   },
   {
    "duration": 7,
    "start_time": "2022-02-24T16:12:14.089Z"
   },
   {
    "duration": 1115,
    "start_time": "2022-02-24T16:12:57.913Z"
   },
   {
    "duration": 45,
    "start_time": "2022-02-24T16:12:59.030Z"
   },
   {
    "duration": 9,
    "start_time": "2022-02-24T16:12:59.077Z"
   },
   {
    "duration": 17,
    "start_time": "2022-02-24T16:12:59.088Z"
   },
   {
    "duration": 55,
    "start_time": "2022-02-24T16:12:59.107Z"
   },
   {
    "duration": 11,
    "start_time": "2022-02-24T16:12:59.164Z"
   },
   {
    "duration": 11,
    "start_time": "2022-02-24T16:12:59.177Z"
   },
   {
    "duration": 6,
    "start_time": "2022-02-24T16:12:59.189Z"
   },
   {
    "duration": 52,
    "start_time": "2022-02-24T16:12:59.198Z"
   },
   {
    "duration": 31634,
    "start_time": "2022-02-24T16:12:59.252Z"
   },
   {
    "duration": 4,
    "start_time": "2022-02-24T16:13:30.887Z"
   },
   {
    "duration": 16,
    "start_time": "2022-02-24T16:13:30.892Z"
   },
   {
    "duration": 10,
    "start_time": "2022-02-24T16:13:30.909Z"
   },
   {
    "duration": 5,
    "start_time": "2022-02-24T16:13:30.920Z"
   },
   {
    "duration": 26,
    "start_time": "2022-02-24T16:13:30.927Z"
   },
   {
    "duration": 22,
    "start_time": "2022-02-24T16:13:30.954Z"
   },
   {
    "duration": 33,
    "start_time": "2022-02-24T16:13:30.977Z"
   },
   {
    "duration": 7,
    "start_time": "2022-02-24T16:13:31.012Z"
   },
   {
    "duration": 28,
    "start_time": "2022-02-24T16:13:31.021Z"
   },
   {
    "duration": 9,
    "start_time": "2022-02-24T16:13:31.050Z"
   },
   {
    "duration": 22,
    "start_time": "2022-02-24T16:13:31.061Z"
   },
   {
    "duration": 17,
    "start_time": "2022-02-24T16:13:31.085Z"
   },
   {
    "duration": 7,
    "start_time": "2022-02-24T16:13:31.104Z"
   },
   {
    "duration": 35,
    "start_time": "2022-02-24T16:13:31.113Z"
   },
   {
    "duration": 9,
    "start_time": "2022-02-24T16:13:31.150Z"
   },
   {
    "duration": 14,
    "start_time": "2022-02-24T16:13:31.160Z"
   },
   {
    "duration": 37,
    "start_time": "2022-02-24T16:13:31.177Z"
   },
   {
    "duration": 10,
    "start_time": "2022-02-24T16:13:31.216Z"
   },
   {
    "duration": 1102,
    "start_time": "2022-02-24T16:13:31.228Z"
   },
   {
    "duration": 15,
    "start_time": "2022-02-24T16:13:32.332Z"
   },
   {
    "duration": 471,
    "start_time": "2022-02-24T16:13:32.348Z"
   },
   {
    "duration": 10,
    "start_time": "2022-02-24T16:13:32.821Z"
   },
   {
    "duration": 306,
    "start_time": "2022-02-24T16:13:32.833Z"
   },
   {
    "duration": 3,
    "start_time": "2022-02-24T16:13:33.140Z"
   },
   {
    "duration": 17,
    "start_time": "2022-02-24T16:13:33.144Z"
   },
   {
    "duration": 1171,
    "start_time": "2022-02-24T16:13:33.163Z"
   },
   {
    "duration": 17,
    "start_time": "2022-02-24T16:13:34.336Z"
   },
   {
    "duration": 999,
    "start_time": "2022-02-24T16:13:34.355Z"
   },
   {
    "duration": 2,
    "start_time": "2022-02-24T16:13:35.356Z"
   },
   {
    "duration": 23,
    "start_time": "2022-02-24T16:13:35.360Z"
   },
   {
    "duration": 412,
    "start_time": "2022-02-24T16:13:35.384Z"
   },
   {
    "duration": 17,
    "start_time": "2022-02-24T16:13:35.797Z"
   },
   {
    "duration": 364,
    "start_time": "2022-02-24T16:13:35.816Z"
   },
   {
    "duration": 3,
    "start_time": "2022-02-24T16:13:36.182Z"
   },
   {
    "duration": 470,
    "start_time": "2022-02-24T16:13:36.187Z"
   },
   {
    "duration": -1216,
    "start_time": "2022-02-24T16:13:37.874Z"
   },
   {
    "duration": -1305,
    "start_time": "2022-02-24T16:13:37.964Z"
   },
   {
    "duration": -1307,
    "start_time": "2022-02-24T16:13:37.967Z"
   },
   {
    "duration": -1321,
    "start_time": "2022-02-24T16:13:37.982Z"
   },
   {
    "duration": -1326,
    "start_time": "2022-02-24T16:13:37.988Z"
   },
   {
    "duration": -1365,
    "start_time": "2022-02-24T16:13:38.027Z"
   },
   {
    "duration": -1368,
    "start_time": "2022-02-24T16:13:38.031Z"
   },
   {
    "duration": -1370,
    "start_time": "2022-02-24T16:13:38.034Z"
   },
   {
    "duration": -1382,
    "start_time": "2022-02-24T16:13:38.047Z"
   },
   {
    "duration": -1382,
    "start_time": "2022-02-24T16:13:38.048Z"
   },
   {
    "duration": -1429,
    "start_time": "2022-02-24T16:13:38.096Z"
   },
   {
    "duration": -1430,
    "start_time": "2022-02-24T16:13:38.098Z"
   },
   {
    "duration": -1465,
    "start_time": "2022-02-24T16:13:38.134Z"
   },
   {
    "duration": -1466,
    "start_time": "2022-02-24T16:13:38.136Z"
   },
   {
    "duration": -1481,
    "start_time": "2022-02-24T16:13:38.151Z"
   },
   {
    "duration": -1481,
    "start_time": "2022-02-24T16:13:38.152Z"
   },
   {
    "duration": -1527,
    "start_time": "2022-02-24T16:13:38.199Z"
   },
   {
    "duration": -1528,
    "start_time": "2022-02-24T16:13:38.201Z"
   },
   {
    "duration": -1541,
    "start_time": "2022-02-24T16:13:38.215Z"
   },
   {
    "duration": -1542,
    "start_time": "2022-02-24T16:13:38.216Z"
   },
   {
    "duration": -1543,
    "start_time": "2022-02-24T16:13:38.218Z"
   },
   {
    "duration": -1591,
    "start_time": "2022-02-24T16:13:38.267Z"
   },
   {
    "duration": -1592,
    "start_time": "2022-02-24T16:13:38.269Z"
   },
   {
    "duration": -1631,
    "start_time": "2022-02-24T16:13:38.309Z"
   },
   {
    "duration": -1632,
    "start_time": "2022-02-24T16:13:38.311Z"
   },
   {
    "duration": -1641,
    "start_time": "2022-02-24T16:13:38.322Z"
   },
   {
    "duration": -1641,
    "start_time": "2022-02-24T16:13:38.323Z"
   },
   {
    "duration": -1680,
    "start_time": "2022-02-24T16:13:38.363Z"
   },
   {
    "duration": -1683,
    "start_time": "2022-02-24T16:13:38.367Z"
   },
   {
    "duration": -1963,
    "start_time": "2022-02-24T16:13:38.649Z"
   },
   {
    "duration": 3,
    "start_time": "2022-02-24T16:26:57.808Z"
   },
   {
    "duration": 44,
    "start_time": "2022-02-24T16:27:26.435Z"
   },
   {
    "duration": 13,
    "start_time": "2022-02-24T16:27:42.902Z"
   },
   {
    "duration": 14,
    "start_time": "2022-02-24T16:29:18.158Z"
   },
   {
    "duration": 11,
    "start_time": "2022-02-24T16:31:32.795Z"
   },
   {
    "duration": 8,
    "start_time": "2022-02-24T16:35:25.786Z"
   },
   {
    "duration": 18,
    "start_time": "2022-02-24T16:35:57.738Z"
   },
   {
    "duration": 117,
    "start_time": "2022-02-24T16:39:22.270Z"
   },
   {
    "duration": 1122,
    "start_time": "2022-02-24T16:39:35.251Z"
   },
   {
    "duration": 47,
    "start_time": "2022-02-24T16:39:36.375Z"
   },
   {
    "duration": 12,
    "start_time": "2022-02-24T16:39:36.424Z"
   },
   {
    "duration": 21,
    "start_time": "2022-02-24T16:39:36.438Z"
   },
   {
    "duration": 35,
    "start_time": "2022-02-24T16:39:36.461Z"
   },
   {
    "duration": 14,
    "start_time": "2022-02-24T16:39:36.498Z"
   },
   {
    "duration": 40,
    "start_time": "2022-02-24T16:39:36.514Z"
   },
   {
    "duration": 5,
    "start_time": "2022-02-24T16:39:36.557Z"
   },
   {
    "duration": 19,
    "start_time": "2022-02-24T16:39:36.564Z"
   },
   {
    "duration": 110,
    "start_time": "2022-02-24T16:39:36.585Z"
   },
   {
    "duration": 385,
    "start_time": "2022-02-24T16:39:36.315Z"
   },
   {
    "duration": 384,
    "start_time": "2022-02-24T16:39:36.317Z"
   },
   {
    "duration": 383,
    "start_time": "2022-02-24T16:39:36.319Z"
   },
   {
    "duration": 380,
    "start_time": "2022-02-24T16:39:36.324Z"
   },
   {
    "duration": 345,
    "start_time": "2022-02-24T16:39:36.360Z"
   },
   {
    "duration": 339,
    "start_time": "2022-02-24T16:39:36.368Z"
   },
   {
    "duration": 338,
    "start_time": "2022-02-24T16:39:36.370Z"
   },
   {
    "duration": 327,
    "start_time": "2022-02-24T16:39:36.382Z"
   },
   {
    "duration": 312,
    "start_time": "2022-02-24T16:39:36.399Z"
   },
   {
    "duration": 312,
    "start_time": "2022-02-24T16:39:36.400Z"
   },
   {
    "duration": 251,
    "start_time": "2022-02-24T16:39:36.462Z"
   },
   {
    "duration": 210,
    "start_time": "2022-02-24T16:39:36.505Z"
   },
   {
    "duration": 184,
    "start_time": "2022-02-24T16:39:36.532Z"
   },
   {
    "duration": 184,
    "start_time": "2022-02-24T16:39:36.534Z"
   },
   {
    "duration": 177,
    "start_time": "2022-02-24T16:39:36.542Z"
   },
   {
    "duration": 177,
    "start_time": "2022-02-24T16:39:36.544Z"
   },
   {
    "duration": 150,
    "start_time": "2022-02-24T16:39:36.572Z"
   },
   {
    "duration": 149,
    "start_time": "2022-02-24T16:39:36.574Z"
   },
   {
    "duration": 125,
    "start_time": "2022-02-24T16:39:36.600Z"
   },
   {
    "duration": 125,
    "start_time": "2022-02-24T16:39:36.601Z"
   },
   {
    "duration": 124,
    "start_time": "2022-02-24T16:39:36.603Z"
   },
   {
    "duration": 124,
    "start_time": "2022-02-24T16:39:36.605Z"
   },
   {
    "duration": 101,
    "start_time": "2022-02-24T16:39:36.629Z"
   },
   {
    "duration": 99,
    "start_time": "2022-02-24T16:39:36.632Z"
   },
   {
    "duration": 85,
    "start_time": "2022-02-24T16:39:36.648Z"
   },
   {
    "duration": 65,
    "start_time": "2022-02-24T16:39:36.669Z"
   },
   {
    "duration": 64,
    "start_time": "2022-02-24T16:39:36.671Z"
   },
   {
    "duration": 64,
    "start_time": "2022-02-24T16:39:36.673Z"
   },
   {
    "duration": 52,
    "start_time": "2022-02-24T16:39:36.694Z"
   },
   {
    "duration": 46,
    "start_time": "2022-02-24T16:39:36.701Z"
   },
   {
    "duration": 45,
    "start_time": "2022-02-24T16:39:36.703Z"
   },
   {
    "duration": 37,
    "start_time": "2022-02-24T16:39:36.712Z"
   },
   {
    "duration": 36,
    "start_time": "2022-02-24T16:39:36.714Z"
   },
   {
    "duration": 12,
    "start_time": "2022-02-24T16:39:36.739Z"
   },
   {
    "duration": 11,
    "start_time": "2022-02-24T16:39:36.741Z"
   },
   {
    "duration": -8,
    "start_time": "2022-02-24T16:39:36.761Z"
   },
   {
    "duration": -9,
    "start_time": "2022-02-24T16:39:36.763Z"
   },
   {
    "duration": -21,
    "start_time": "2022-02-24T16:39:36.776Z"
   },
   {
    "duration": -22,
    "start_time": "2022-02-24T16:39:36.778Z"
   },
   {
    "duration": -22,
    "start_time": "2022-02-24T16:39:36.779Z"
   },
   {
    "duration": -37,
    "start_time": "2022-02-24T16:39:36.795Z"
   },
   {
    "duration": -38,
    "start_time": "2022-02-24T16:39:36.797Z"
   },
   {
    "duration": -53,
    "start_time": "2022-02-24T16:39:36.813Z"
   },
   {
    "duration": -54,
    "start_time": "2022-02-24T16:39:36.815Z"
   },
   {
    "duration": -71,
    "start_time": "2022-02-24T16:39:36.833Z"
   },
   {
    "duration": -72,
    "start_time": "2022-02-24T16:39:36.835Z"
   },
   {
    "duration": -118,
    "start_time": "2022-02-24T16:39:36.882Z"
   },
   {
    "duration": -122,
    "start_time": "2022-02-24T16:39:36.887Z"
   },
   {
    "duration": -123,
    "start_time": "2022-02-24T16:39:36.889Z"
   },
   {
    "duration": -124,
    "start_time": "2022-02-24T16:39:36.891Z"
   },
   {
    "duration": -125,
    "start_time": "2022-02-24T16:39:36.893Z"
   },
   {
    "duration": -125,
    "start_time": "2022-02-24T16:39:36.894Z"
   },
   {
    "duration": -126,
    "start_time": "2022-02-24T16:39:36.896Z"
   },
   {
    "duration": -126,
    "start_time": "2022-02-24T16:39:36.897Z"
   },
   {
    "duration": -169,
    "start_time": "2022-02-24T16:39:36.941Z"
   },
   {
    "duration": -171,
    "start_time": "2022-02-24T16:39:36.943Z"
   },
   {
    "duration": -171,
    "start_time": "2022-02-24T16:39:36.944Z"
   },
   {
    "duration": -172,
    "start_time": "2022-02-24T16:39:36.946Z"
   },
   {
    "duration": -185,
    "start_time": "2022-02-24T16:39:36.960Z"
   },
   {
    "duration": -204,
    "start_time": "2022-02-24T16:39:36.980Z"
   },
   {
    "duration": -231,
    "start_time": "2022-02-24T16:39:37.008Z"
   },
   {
    "duration": -237,
    "start_time": "2022-02-24T16:39:37.015Z"
   },
   {
    "duration": -241,
    "start_time": "2022-02-24T16:39:37.020Z"
   },
   {
    "duration": -271,
    "start_time": "2022-02-24T16:39:37.051Z"
   },
   {
    "duration": -278,
    "start_time": "2022-02-24T16:39:37.059Z"
   },
   {
    "duration": 123,
    "start_time": "2022-02-24T16:39:52.565Z"
   },
   {
    "duration": 354,
    "start_time": "2022-02-24T16:40:18.654Z"
   },
   {
    "duration": 591,
    "start_time": "2022-02-24T16:40:26.381Z"
   },
   {
    "duration": 359,
    "start_time": "2022-02-24T16:40:37.773Z"
   },
   {
    "duration": 1118,
    "start_time": "2022-02-24T16:40:49.992Z"
   },
   {
    "duration": 46,
    "start_time": "2022-02-24T16:40:51.112Z"
   },
   {
    "duration": 9,
    "start_time": "2022-02-24T16:40:51.161Z"
   },
   {
    "duration": 14,
    "start_time": "2022-02-24T16:40:51.171Z"
   },
   {
    "duration": 31,
    "start_time": "2022-02-24T16:40:51.186Z"
   },
   {
    "duration": 36,
    "start_time": "2022-02-24T16:40:51.219Z"
   },
   {
    "duration": 8,
    "start_time": "2022-02-24T16:40:51.257Z"
   },
   {
    "duration": 5,
    "start_time": "2022-02-24T16:40:51.267Z"
   },
   {
    "duration": 18,
    "start_time": "2022-02-24T16:40:51.273Z"
   },
   {
    "duration": 148,
    "start_time": "2022-02-24T16:40:51.293Z"
   },
   {
    "duration": 668,
    "start_time": "2022-02-24T16:40:50.777Z"
   },
   {
    "duration": 667,
    "start_time": "2022-02-24T16:40:50.779Z"
   },
   {
    "duration": 617,
    "start_time": "2022-02-24T16:40:50.830Z"
   },
   {
    "duration": 616,
    "start_time": "2022-02-24T16:40:50.832Z"
   },
   {
    "duration": 608,
    "start_time": "2022-02-24T16:40:50.841Z"
   },
   {
    "duration": 607,
    "start_time": "2022-02-24T16:40:50.843Z"
   },
   {
    "duration": 606,
    "start_time": "2022-02-24T16:40:50.845Z"
   },
   {
    "duration": 605,
    "start_time": "2022-02-24T16:40:50.847Z"
   },
   {
    "duration": 604,
    "start_time": "2022-02-24T16:40:50.849Z"
   },
   {
    "duration": 596,
    "start_time": "2022-02-24T16:40:50.858Z"
   },
   {
    "duration": 594,
    "start_time": "2022-02-24T16:40:50.860Z"
   },
   {
    "duration": 593,
    "start_time": "2022-02-24T16:40:50.862Z"
   },
   {
    "duration": 593,
    "start_time": "2022-02-24T16:40:50.863Z"
   },
   {
    "duration": 592,
    "start_time": "2022-02-24T16:40:50.865Z"
   },
   {
    "duration": 584,
    "start_time": "2022-02-24T16:40:50.874Z"
   },
   {
    "duration": 583,
    "start_time": "2022-02-24T16:40:50.876Z"
   },
   {
    "duration": 582,
    "start_time": "2022-02-24T16:40:50.878Z"
   },
   {
    "duration": 582,
    "start_time": "2022-02-24T16:40:50.879Z"
   },
   {
    "duration": 581,
    "start_time": "2022-02-24T16:40:50.881Z"
   },
   {
    "duration": 573,
    "start_time": "2022-02-24T16:40:50.890Z"
   },
   {
    "duration": 572,
    "start_time": "2022-02-24T16:40:50.892Z"
   },
   {
    "duration": 571,
    "start_time": "2022-02-24T16:40:50.894Z"
   },
   {
    "duration": 570,
    "start_time": "2022-02-24T16:40:50.896Z"
   },
   {
    "duration": 570,
    "start_time": "2022-02-24T16:40:50.897Z"
   },
   {
    "duration": 555,
    "start_time": "2022-02-24T16:40:50.914Z"
   },
   {
    "duration": 525,
    "start_time": "2022-02-24T16:40:50.945Z"
   },
   {
    "duration": 524,
    "start_time": "2022-02-24T16:40:50.947Z"
   },
   {
    "duration": 521,
    "start_time": "2022-02-24T16:40:50.950Z"
   },
   {
    "duration": 512,
    "start_time": "2022-02-24T16:40:50.960Z"
   },
   {
    "duration": 512,
    "start_time": "2022-02-24T16:40:50.961Z"
   },
   {
    "duration": 511,
    "start_time": "2022-02-24T16:40:50.963Z"
   },
   {
    "duration": 511,
    "start_time": "2022-02-24T16:40:50.964Z"
   },
   {
    "duration": 496,
    "start_time": "2022-02-24T16:40:50.980Z"
   },
   {
    "duration": 483,
    "start_time": "2022-02-24T16:40:50.994Z"
   },
   {
    "duration": 482,
    "start_time": "2022-02-24T16:40:50.996Z"
   },
   {
    "duration": 480,
    "start_time": "2022-02-24T16:40:50.999Z"
   },
   {
    "duration": 479,
    "start_time": "2022-02-24T16:40:51.001Z"
   },
   {
    "duration": 478,
    "start_time": "2022-02-24T16:40:51.003Z"
   },
   {
    "duration": 478,
    "start_time": "2022-02-24T16:40:51.004Z"
   },
   {
    "duration": 477,
    "start_time": "2022-02-24T16:40:51.006Z"
   },
   {
    "duration": 476,
    "start_time": "2022-02-24T16:40:51.008Z"
   },
   {
    "duration": 476,
    "start_time": "2022-02-24T16:40:51.009Z"
   },
   {
    "duration": 475,
    "start_time": "2022-02-24T16:40:51.011Z"
   },
   {
    "duration": 534,
    "start_time": "2022-02-24T16:40:51.012Z"
   },
   {
    "duration": 533,
    "start_time": "2022-02-24T16:40:51.014Z"
   },
   {
    "duration": 523,
    "start_time": "2022-02-24T16:40:51.025Z"
   },
   {
    "duration": 522,
    "start_time": "2022-02-24T16:40:51.027Z"
   },
   {
    "duration": 514,
    "start_time": "2022-02-24T16:40:51.036Z"
   },
   {
    "duration": 513,
    "start_time": "2022-02-24T16:40:51.038Z"
   },
   {
    "duration": 512,
    "start_time": "2022-02-24T16:40:51.040Z"
   },
   {
    "duration": 511,
    "start_time": "2022-02-24T16:40:51.042Z"
   },
   {
    "duration": 493,
    "start_time": "2022-02-24T16:40:51.061Z"
   },
   {
    "duration": 478,
    "start_time": "2022-02-24T16:40:51.077Z"
   },
   {
    "duration": 477,
    "start_time": "2022-02-24T16:40:51.079Z"
   },
   {
    "duration": 448,
    "start_time": "2022-02-24T16:40:51.109Z"
   },
   {
    "duration": 448,
    "start_time": "2022-02-24T16:40:51.111Z"
   },
   {
    "duration": 447,
    "start_time": "2022-02-24T16:40:51.113Z"
   },
   {
    "duration": 446,
    "start_time": "2022-02-24T16:40:51.114Z"
   },
   {
    "duration": 430,
    "start_time": "2022-02-24T16:40:51.131Z"
   },
   {
    "duration": 421,
    "start_time": "2022-02-24T16:40:51.141Z"
   },
   {
    "duration": 420,
    "start_time": "2022-02-24T16:40:51.143Z"
   },
   {
    "duration": 420,
    "start_time": "2022-02-24T16:40:51.144Z"
   },
   {
    "duration": 418,
    "start_time": "2022-02-24T16:40:51.147Z"
   },
   {
    "duration": 415,
    "start_time": "2022-02-24T16:40:51.151Z"
   },
   {
    "duration": 407,
    "start_time": "2022-02-24T16:40:51.160Z"
   },
   {
    "duration": 130,
    "start_time": "2022-02-24T16:41:26.464Z"
   },
   {
    "duration": 149,
    "start_time": "2022-02-24T16:41:53.489Z"
   },
   {
    "duration": 4,
    "start_time": "2022-02-24T16:42:17.552Z"
   },
   {
    "duration": 124,
    "start_time": "2022-02-24T16:42:20.580Z"
   },
   {
    "duration": 106,
    "start_time": "2022-02-24T16:42:29.593Z"
   },
   {
    "duration": 111,
    "start_time": "2022-02-24T16:42:37.128Z"
   },
   {
    "duration": 108,
    "start_time": "2022-02-24T16:42:57.781Z"
   },
   {
    "duration": 4,
    "start_time": "2022-02-24T16:43:00.617Z"
   },
   {
    "duration": 8,
    "start_time": "2022-02-24T16:43:03.517Z"
   },
   {
    "duration": 5,
    "start_time": "2022-02-24T16:43:05.185Z"
   },
   {
    "duration": 103,
    "start_time": "2022-02-24T16:43:08.893Z"
   },
   {
    "duration": 1144,
    "start_time": "2022-02-24T16:43:16.941Z"
   },
   {
    "duration": 48,
    "start_time": "2022-02-24T16:43:18.087Z"
   },
   {
    "duration": 9,
    "start_time": "2022-02-24T16:43:18.137Z"
   },
   {
    "duration": 14,
    "start_time": "2022-02-24T16:43:18.148Z"
   },
   {
    "duration": 33,
    "start_time": "2022-02-24T16:43:18.164Z"
   },
   {
    "duration": 12,
    "start_time": "2022-02-24T16:43:18.198Z"
   },
   {
    "duration": 38,
    "start_time": "2022-02-24T16:43:18.211Z"
   },
   {
    "duration": 4,
    "start_time": "2022-02-24T16:43:18.252Z"
   },
   {
    "duration": 17,
    "start_time": "2022-02-24T16:43:18.258Z"
   },
   {
    "duration": 110,
    "start_time": "2022-02-24T16:43:18.277Z"
   },
   {
    "duration": 489,
    "start_time": "2022-02-24T16:43:17.902Z"
   },
   {
    "duration": 488,
    "start_time": "2022-02-24T16:43:17.904Z"
   },
   {
    "duration": 488,
    "start_time": "2022-02-24T16:43:17.906Z"
   },
   {
    "duration": 487,
    "start_time": "2022-02-24T16:43:17.908Z"
   },
   {
    "duration": 480,
    "start_time": "2022-02-24T16:43:17.916Z"
   },
   {
    "duration": 478,
    "start_time": "2022-02-24T16:43:17.918Z"
   },
   {
    "duration": 442,
    "start_time": "2022-02-24T16:43:17.956Z"
   },
   {
    "duration": 442,
    "start_time": "2022-02-24T16:43:17.957Z"
   },
   {
    "duration": 325,
    "start_time": "2022-02-24T16:43:18.075Z"
   },
   {
    "duration": 269,
    "start_time": "2022-02-24T16:43:18.132Z"
   },
   {
    "duration": 268,
    "start_time": "2022-02-24T16:43:18.134Z"
   },
   {
    "duration": 268,
    "start_time": "2022-02-24T16:43:18.135Z"
   },
   {
    "duration": 267,
    "start_time": "2022-02-24T16:43:18.137Z"
   },
   {
    "duration": 266,
    "start_time": "2022-02-24T16:43:18.139Z"
   },
   {
    "duration": 266,
    "start_time": "2022-02-24T16:43:18.140Z"
   },
   {
    "duration": 111,
    "start_time": "2022-02-24T16:43:18.296Z"
   },
   {
    "duration": 108,
    "start_time": "2022-02-24T16:43:18.299Z"
   },
   {
    "duration": 107,
    "start_time": "2022-02-24T16:43:18.301Z"
   },
   {
    "duration": 106,
    "start_time": "2022-02-24T16:43:18.303Z"
   },
   {
    "duration": 61,
    "start_time": "2022-02-24T16:43:18.349Z"
   },
   {
    "duration": 59,
    "start_time": "2022-02-24T16:43:18.352Z"
   },
   {
    "duration": 28,
    "start_time": "2022-02-24T16:43:18.384Z"
   },
   {
    "duration": 22,
    "start_time": "2022-02-24T16:43:18.391Z"
   },
   {
    "duration": 10,
    "start_time": "2022-02-24T16:43:18.404Z"
   },
   {
    "duration": -17,
    "start_time": "2022-02-24T16:43:18.432Z"
   },
   {
    "duration": -18,
    "start_time": "2022-02-24T16:43:18.434Z"
   },
   {
    "duration": -18,
    "start_time": "2022-02-24T16:43:18.435Z"
   },
   {
    "duration": -18,
    "start_time": "2022-02-24T16:43:18.437Z"
   },
   {
    "duration": -39,
    "start_time": "2022-02-24T16:43:18.458Z"
   },
   {
    "duration": -40,
    "start_time": "2022-02-24T16:43:18.460Z"
   },
   {
    "duration": -66,
    "start_time": "2022-02-24T16:43:18.487Z"
   },
   {
    "duration": -158,
    "start_time": "2022-02-24T16:43:18.580Z"
   },
   {
    "duration": -159,
    "start_time": "2022-02-24T16:43:18.582Z"
   },
   {
    "duration": -160,
    "start_time": "2022-02-24T16:43:18.584Z"
   },
   {
    "duration": -161,
    "start_time": "2022-02-24T16:43:18.586Z"
   },
   {
    "duration": -161,
    "start_time": "2022-02-24T16:43:18.587Z"
   },
   {
    "duration": -176,
    "start_time": "2022-02-24T16:43:18.603Z"
   },
   {
    "duration": -192,
    "start_time": "2022-02-24T16:43:18.620Z"
   },
   {
    "duration": -225,
    "start_time": "2022-02-24T16:43:18.654Z"
   },
   {
    "duration": -227,
    "start_time": "2022-02-24T16:43:18.656Z"
   },
   {
    "duration": -240,
    "start_time": "2022-02-24T16:43:18.670Z"
   },
   {
    "duration": -288,
    "start_time": "2022-02-24T16:43:18.718Z"
   },
   {
    "duration": -290,
    "start_time": "2022-02-24T16:43:18.721Z"
   },
   {
    "duration": -317,
    "start_time": "2022-02-24T16:43:18.749Z"
   },
   {
    "duration": -324,
    "start_time": "2022-02-24T16:43:18.756Z"
   },
   {
    "duration": -325,
    "start_time": "2022-02-24T16:43:18.758Z"
   },
   {
    "duration": -314,
    "start_time": "2022-02-24T16:43:18.760Z"
   },
   {
    "duration": -342,
    "start_time": "2022-02-24T16:43:18.789Z"
   },
   {
    "duration": -355,
    "start_time": "2022-02-24T16:43:18.803Z"
   },
   {
    "duration": -394,
    "start_time": "2022-02-24T16:43:18.842Z"
   },
   {
    "duration": -394,
    "start_time": "2022-02-24T16:43:18.844Z"
   },
   {
    "duration": -440,
    "start_time": "2022-02-24T16:43:18.891Z"
   },
   {
    "duration": -441,
    "start_time": "2022-02-24T16:43:18.893Z"
   },
   {
    "duration": -510,
    "start_time": "2022-02-24T16:43:18.963Z"
   },
   {
    "duration": -524,
    "start_time": "2022-02-24T16:43:18.978Z"
   },
   {
    "duration": -525,
    "start_time": "2022-02-24T16:43:18.981Z"
   },
   {
    "duration": -533,
    "start_time": "2022-02-24T16:43:18.990Z"
   },
   {
    "duration": -563,
    "start_time": "2022-02-24T16:43:19.021Z"
   },
   {
    "duration": -565,
    "start_time": "2022-02-24T16:43:19.024Z"
   },
   {
    "duration": -598,
    "start_time": "2022-02-24T16:43:19.059Z"
   },
   {
    "duration": -599,
    "start_time": "2022-02-24T16:43:19.061Z"
   },
   {
    "duration": -620,
    "start_time": "2022-02-24T16:43:19.082Z"
   },
   {
    "duration": -626,
    "start_time": "2022-02-24T16:43:19.089Z"
   },
   {
    "duration": -635,
    "start_time": "2022-02-24T16:43:19.099Z"
   },
   {
    "duration": -637,
    "start_time": "2022-02-24T16:43:19.102Z"
   },
   {
    "duration": 99,
    "start_time": "2022-02-24T16:43:37.282Z"
   },
   {
    "duration": 119,
    "start_time": "2022-02-24T16:43:43.240Z"
   },
   {
    "duration": 120,
    "start_time": "2022-02-24T16:43:53.160Z"
   },
   {
    "duration": 127,
    "start_time": "2022-02-24T16:46:39.018Z"
   },
   {
    "duration": 120,
    "start_time": "2022-02-24T16:46:53.593Z"
   },
   {
    "duration": 121,
    "start_time": "2022-02-24T16:47:23.710Z"
   },
   {
    "duration": 31775,
    "start_time": "2022-02-24T16:48:35.072Z"
   },
   {
    "duration": 4,
    "start_time": "2022-02-24T16:49:06.848Z"
   },
   {
    "duration": 9,
    "start_time": "2022-02-24T16:49:06.853Z"
   },
   {
    "duration": 5,
    "start_time": "2022-02-24T16:49:13.291Z"
   },
   {
    "duration": 5,
    "start_time": "2022-02-24T16:49:19.012Z"
   },
   {
    "duration": 4,
    "start_time": "2022-02-24T16:49:27.279Z"
   },
   {
    "duration": 5,
    "start_time": "2022-02-24T16:49:31.200Z"
   },
   {
    "duration": 4,
    "start_time": "2022-02-24T16:50:04.585Z"
   },
   {
    "duration": 9,
    "start_time": "2022-02-24T16:50:07.174Z"
   },
   {
    "duration": 9,
    "start_time": "2022-02-24T16:50:31.598Z"
   },
   {
    "duration": 16,
    "start_time": "2022-02-24T16:50:35.501Z"
   },
   {
    "duration": 18,
    "start_time": "2022-02-24T18:13:43.539Z"
   },
   {
    "duration": 7,
    "start_time": "2022-02-24T18:13:55.086Z"
   },
   {
    "duration": 20,
    "start_time": "2022-02-24T18:17:53.896Z"
   },
   {
    "duration": 10,
    "start_time": "2022-02-24T18:17:56.718Z"
   },
   {
    "duration": 21,
    "start_time": "2022-02-24T18:18:17.029Z"
   },
   {
    "duration": 11,
    "start_time": "2022-02-24T18:20:49.980Z"
   },
   {
    "duration": 7,
    "start_time": "2022-02-24T18:21:00.155Z"
   },
   {
    "duration": 7,
    "start_time": "2022-02-24T18:21:10.843Z"
   },
   {
    "duration": 19,
    "start_time": "2022-02-24T18:21:15.761Z"
   },
   {
    "duration": 6,
    "start_time": "2022-02-24T18:21:24.272Z"
   },
   {
    "duration": 19,
    "start_time": "2022-02-24T18:21:28.695Z"
   },
   {
    "duration": 7,
    "start_time": "2022-02-24T18:21:35.657Z"
   },
   {
    "duration": 1170,
    "start_time": "2022-02-24T18:21:41.126Z"
   },
   {
    "duration": 51,
    "start_time": "2022-02-24T18:21:42.298Z"
   },
   {
    "duration": 10,
    "start_time": "2022-02-24T18:21:42.351Z"
   },
   {
    "duration": 15,
    "start_time": "2022-02-24T18:21:42.363Z"
   },
   {
    "duration": 35,
    "start_time": "2022-02-24T18:21:42.380Z"
   },
   {
    "duration": 37,
    "start_time": "2022-02-24T18:21:42.416Z"
   },
   {
    "duration": 8,
    "start_time": "2022-02-24T18:21:42.455Z"
   },
   {
    "duration": 4,
    "start_time": "2022-02-24T18:21:42.465Z"
   },
   {
    "duration": 18,
    "start_time": "2022-02-24T18:21:42.471Z"
   },
   {
    "duration": 31935,
    "start_time": "2022-02-24T18:21:42.491Z"
   },
   {
    "duration": 18,
    "start_time": "2022-02-24T18:22:14.428Z"
   },
   {
    "duration": 3,
    "start_time": "2022-02-24T18:22:14.447Z"
   },
   {
    "duration": 8,
    "start_time": "2022-02-24T18:22:14.451Z"
   },
   {
    "duration": 406,
    "start_time": "2022-02-24T18:22:14.460Z"
   },
   {
    "duration": 589,
    "start_time": "2022-02-24T18:22:14.281Z"
   },
   {
    "duration": 582,
    "start_time": "2022-02-24T18:22:14.289Z"
   },
   {
    "duration": 576,
    "start_time": "2022-02-24T18:22:14.296Z"
   },
   {
    "duration": 571,
    "start_time": "2022-02-24T18:22:14.303Z"
   },
   {
    "duration": 567,
    "start_time": "2022-02-24T18:22:14.308Z"
   },
   {
    "duration": 566,
    "start_time": "2022-02-24T18:22:14.310Z"
   },
   {
    "duration": 565,
    "start_time": "2022-02-24T18:22:14.312Z"
   },
   {
    "duration": 549,
    "start_time": "2022-02-24T18:22:14.329Z"
   },
   {
    "duration": 544,
    "start_time": "2022-02-24T18:22:14.334Z"
   },
   {
    "duration": 541,
    "start_time": "2022-02-24T18:22:14.338Z"
   },
   {
    "duration": 538,
    "start_time": "2022-02-24T18:22:14.342Z"
   },
   {
    "duration": 537,
    "start_time": "2022-02-24T18:22:14.345Z"
   },
   {
    "duration": 533,
    "start_time": "2022-02-24T18:22:14.350Z"
   },
   {
    "duration": 530,
    "start_time": "2022-02-24T18:22:14.354Z"
   },
   {
    "duration": 515,
    "start_time": "2022-02-24T18:22:14.370Z"
   },
   {
    "duration": 513,
    "start_time": "2022-02-24T18:22:14.373Z"
   },
   {
    "duration": 511,
    "start_time": "2022-02-24T18:22:14.376Z"
   },
   {
    "duration": 509,
    "start_time": "2022-02-24T18:22:14.379Z"
   },
   {
    "duration": 506,
    "start_time": "2022-02-24T18:22:14.383Z"
   },
   {
    "duration": 503,
    "start_time": "2022-02-24T18:22:14.387Z"
   },
   {
    "duration": 500,
    "start_time": "2022-02-24T18:22:14.391Z"
   },
   {
    "duration": 498,
    "start_time": "2022-02-24T18:22:14.394Z"
   },
   {
    "duration": 483,
    "start_time": "2022-02-24T18:22:14.410Z"
   },
   {
    "duration": 480,
    "start_time": "2022-02-24T18:22:14.414Z"
   },
   {
    "duration": 477,
    "start_time": "2022-02-24T18:22:14.418Z"
   },
   {
    "duration": 475,
    "start_time": "2022-02-24T18:22:14.421Z"
   },
   {
    "duration": 471,
    "start_time": "2022-02-24T18:22:14.426Z"
   },
   {
    "duration": 419,
    "start_time": "2022-02-24T18:22:14.479Z"
   },
   {
    "duration": 348,
    "start_time": "2022-02-24T18:22:14.551Z"
   },
   {
    "duration": 345,
    "start_time": "2022-02-24T18:22:14.555Z"
   },
   {
    "duration": 343,
    "start_time": "2022-02-24T18:22:14.558Z"
   },
   {
    "duration": 340,
    "start_time": "2022-02-24T18:22:14.562Z"
   },
   {
    "duration": 154,
    "start_time": "2022-02-24T18:22:14.748Z"
   },
   {
    "duration": 143,
    "start_time": "2022-02-24T18:22:14.760Z"
   },
   {
    "duration": 142,
    "start_time": "2022-02-24T18:22:14.762Z"
   },
   {
    "duration": 182,
    "start_time": "2022-02-24T18:22:14.764Z"
   },
   {
    "duration": 171,
    "start_time": "2022-02-24T18:22:14.776Z"
   },
   {
    "duration": 169,
    "start_time": "2022-02-24T18:22:14.779Z"
   },
   {
    "duration": 169,
    "start_time": "2022-02-24T18:22:14.781Z"
   },
   {
    "duration": 157,
    "start_time": "2022-02-24T18:22:14.794Z"
   },
   {
    "duration": 157,
    "start_time": "2022-02-24T18:22:14.795Z"
   },
   {
    "duration": 157,
    "start_time": "2022-02-24T18:22:14.797Z"
   },
   {
    "duration": 154,
    "start_time": "2022-02-24T18:22:14.801Z"
   },
   {
    "duration": 153,
    "start_time": "2022-02-24T18:22:14.803Z"
   },
   {
    "duration": 153,
    "start_time": "2022-02-24T18:22:14.805Z"
   },
   {
    "duration": 122,
    "start_time": "2022-02-24T18:22:14.837Z"
   },
   {
    "duration": 102,
    "start_time": "2022-02-24T18:22:14.858Z"
   },
   {
    "duration": 101,
    "start_time": "2022-02-24T18:22:14.860Z"
   },
   {
    "duration": 101,
    "start_time": "2022-02-24T18:22:14.862Z"
   },
   {
    "duration": 99,
    "start_time": "2022-02-24T18:22:14.865Z"
   },
   {
    "duration": 97,
    "start_time": "2022-02-24T18:22:14.868Z"
   },
   {
    "duration": 95,
    "start_time": "2022-02-24T18:22:14.871Z"
   },
   {
    "duration": 95,
    "start_time": "2022-02-24T18:22:14.872Z"
   },
   {
    "duration": 95,
    "start_time": "2022-02-24T18:22:14.874Z"
   },
   {
    "duration": 93,
    "start_time": "2022-02-24T18:22:14.877Z"
   },
   {
    "duration": 92,
    "start_time": "2022-02-24T18:22:14.879Z"
   },
   {
    "duration": 91,
    "start_time": "2022-02-24T18:22:14.881Z"
   },
   {
    "duration": 87,
    "start_time": "2022-02-24T18:22:14.886Z"
   },
   {
    "duration": 86,
    "start_time": "2022-02-24T18:22:14.888Z"
   },
   {
    "duration": 85,
    "start_time": "2022-02-24T18:22:14.890Z"
   },
   {
    "duration": 337,
    "start_time": "2022-02-24T18:22:27.247Z"
   },
   {
    "duration": 5,
    "start_time": "2022-02-24T18:22:35.798Z"
   },
   {
    "duration": 8,
    "start_time": "2022-02-24T18:23:21.998Z"
   },
   {
    "duration": 4,
    "start_time": "2022-02-24T18:23:38.763Z"
   },
   {
    "duration": 4,
    "start_time": "2022-02-24T18:23:46.968Z"
   },
   {
    "duration": 3,
    "start_time": "2022-02-24T18:23:49.944Z"
   },
   {
    "duration": 4207,
    "start_time": "2022-02-24T18:23:51.591Z"
   },
   {
    "duration": 5385,
    "start_time": "2022-02-24T18:23:55.800Z"
   },
   {
    "duration": 6370,
    "start_time": "2022-02-24T18:24:01.187Z"
   },
   {
    "duration": 17,
    "start_time": "2022-02-24T18:24:08.655Z"
   },
   {
    "duration": 5,
    "start_time": "2022-02-24T18:24:08.674Z"
   },
   {
    "duration": 18,
    "start_time": "2022-02-24T18:24:18.023Z"
   },
   {
    "duration": 9,
    "start_time": "2022-02-24T18:24:19.191Z"
   },
   {
    "duration": 10,
    "start_time": "2022-02-24T18:24:22.428Z"
   },
   {
    "duration": 12,
    "start_time": "2022-02-24T18:25:24.869Z"
   },
   {
    "duration": 18,
    "start_time": "2022-02-24T18:25:56.661Z"
   },
   {
    "duration": 7,
    "start_time": "2022-02-24T18:28:46.004Z"
   },
   {
    "duration": 7,
    "start_time": "2022-02-24T18:28:55.096Z"
   },
   {
    "duration": 8,
    "start_time": "2022-02-24T18:29:11.303Z"
   },
   {
    "duration": 15,
    "start_time": "2022-02-24T18:30:52.520Z"
   },
   {
    "duration": 103,
    "start_time": "2022-02-24T18:34:55.323Z"
   },
   {
    "duration": 15,
    "start_time": "2022-02-24T18:35:25.688Z"
   },
   {
    "duration": 9,
    "start_time": "2022-02-24T18:37:22.152Z"
   },
   {
    "duration": 950,
    "start_time": "2022-02-24T18:40:31.511Z"
   },
   {
    "duration": 9,
    "start_time": "2022-02-24T18:42:36.534Z"
   },
   {
    "duration": 467,
    "start_time": "2022-02-24T18:44:20.374Z"
   },
   {
    "duration": 1209,
    "start_time": "2022-02-24T18:44:59.930Z"
   },
   {
    "duration": 1138,
    "start_time": "2022-02-24T18:45:25.164Z"
   },
   {
    "duration": 13,
    "start_time": "2022-02-24T18:47:30.756Z"
   },
   {
    "duration": 300,
    "start_time": "2022-02-24T18:47:53.310Z"
   },
   {
    "duration": 365,
    "start_time": "2022-02-24T18:49:50.572Z"
   },
   {
    "duration": 2,
    "start_time": "2022-02-24T18:51:37.879Z"
   },
   {
    "duration": 17,
    "start_time": "2022-02-24T18:52:21.848Z"
   },
   {
    "duration": 9,
    "start_time": "2022-02-24T18:52:51.386Z"
   },
   {
    "duration": 1146,
    "start_time": "2022-02-24T18:55:00.641Z"
   },
   {
    "duration": 309,
    "start_time": "2022-02-25T10:10:56.125Z"
   },
   {
    "duration": 1281,
    "start_time": "2022-02-25T10:11:04.687Z"
   },
   {
    "duration": 56,
    "start_time": "2022-02-25T10:11:05.970Z"
   },
   {
    "duration": 11,
    "start_time": "2022-02-25T10:11:06.028Z"
   },
   {
    "duration": 32,
    "start_time": "2022-02-25T10:11:06.041Z"
   },
   {
    "duration": 43,
    "start_time": "2022-02-25T10:11:06.076Z"
   },
   {
    "duration": 16,
    "start_time": "2022-02-25T10:11:06.121Z"
   },
   {
    "duration": 36,
    "start_time": "2022-02-25T10:11:06.139Z"
   },
   {
    "duration": 8,
    "start_time": "2022-02-25T10:11:06.179Z"
   },
   {
    "duration": 32,
    "start_time": "2022-02-25T10:11:06.189Z"
   },
   {
    "duration": 39172,
    "start_time": "2022-02-25T10:11:06.223Z"
   },
   {
    "duration": 6,
    "start_time": "2022-02-25T10:11:45.398Z"
   },
   {
    "duration": 19,
    "start_time": "2022-02-25T10:11:45.406Z"
   },
   {
    "duration": 7,
    "start_time": "2022-02-25T10:11:45.427Z"
   },
   {
    "duration": 11,
    "start_time": "2022-02-25T10:11:45.436Z"
   },
   {
    "duration": 27,
    "start_time": "2022-02-25T10:11:45.449Z"
   },
   {
    "duration": 35,
    "start_time": "2022-02-25T10:11:45.478Z"
   },
   {
    "duration": 35,
    "start_time": "2022-02-25T10:11:45.515Z"
   },
   {
    "duration": 20,
    "start_time": "2022-02-25T10:11:45.551Z"
   },
   {
    "duration": 25,
    "start_time": "2022-02-25T10:11:45.573Z"
   },
   {
    "duration": 11,
    "start_time": "2022-02-25T10:11:45.600Z"
   },
   {
    "duration": 22,
    "start_time": "2022-02-25T10:11:45.613Z"
   },
   {
    "duration": 36,
    "start_time": "2022-02-25T10:11:45.637Z"
   },
   {
    "duration": 29,
    "start_time": "2022-02-25T10:11:45.681Z"
   },
   {
    "duration": 7,
    "start_time": "2022-02-25T10:11:45.713Z"
   },
   {
    "duration": 16,
    "start_time": "2022-02-25T10:11:45.722Z"
   },
   {
    "duration": 47,
    "start_time": "2022-02-25T10:11:45.740Z"
   },
   {
    "duration": 16,
    "start_time": "2022-02-25T10:11:45.789Z"
   },
   {
    "duration": 11,
    "start_time": "2022-02-25T10:11:45.807Z"
   },
   {
    "duration": 1287,
    "start_time": "2022-02-25T10:11:45.821Z"
   },
   {
    "duration": 11,
    "start_time": "2022-02-25T10:11:47.110Z"
   },
   {
    "duration": 632,
    "start_time": "2022-02-25T10:11:47.122Z"
   },
   {
    "duration": 19,
    "start_time": "2022-02-25T10:11:47.756Z"
   },
   {
    "duration": 421,
    "start_time": "2022-02-25T10:11:47.777Z"
   },
   {
    "duration": 4,
    "start_time": "2022-02-25T10:11:48.200Z"
   },
   {
    "duration": 32,
    "start_time": "2022-02-25T10:11:48.205Z"
   },
   {
    "duration": 1521,
    "start_time": "2022-02-25T10:11:48.239Z"
   },
   {
    "duration": 15,
    "start_time": "2022-02-25T10:11:49.762Z"
   },
   {
    "duration": 1376,
    "start_time": "2022-02-25T10:11:49.779Z"
   },
   {
    "duration": 12,
    "start_time": "2022-02-25T10:11:51.157Z"
   },
   {
    "duration": 65,
    "start_time": "2022-02-25T10:11:51.171Z"
   },
   {
    "duration": 531,
    "start_time": "2022-02-25T10:11:51.239Z"
   },
   {
    "duration": 24,
    "start_time": "2022-02-25T10:11:51.773Z"
   },
   {
    "duration": 412,
    "start_time": "2022-02-25T10:11:51.798Z"
   },
   {
    "duration": 4,
    "start_time": "2022-02-25T10:11:52.212Z"
   },
   {
    "duration": 396,
    "start_time": "2022-02-25T10:11:52.218Z"
   },
   {
    "duration": 9615,
    "start_time": "2022-02-25T10:11:43.001Z"
   },
   {
    "duration": 9609,
    "start_time": "2022-02-25T10:11:43.008Z"
   },
   {
    "duration": 9605,
    "start_time": "2022-02-25T10:11:43.013Z"
   },
   {
    "duration": 9600,
    "start_time": "2022-02-25T10:11:43.019Z"
   },
   {
    "duration": 9596,
    "start_time": "2022-02-25T10:11:43.024Z"
   },
   {
    "duration": 9593,
    "start_time": "2022-02-25T10:11:43.028Z"
   },
   {
    "duration": 9582,
    "start_time": "2022-02-25T10:11:43.039Z"
   },
   {
    "duration": 9581,
    "start_time": "2022-02-25T10:11:43.042Z"
   },
   {
    "duration": 9577,
    "start_time": "2022-02-25T10:11:43.047Z"
   },
   {
    "duration": 9574,
    "start_time": "2022-02-25T10:11:43.051Z"
   },
   {
    "duration": 9570,
    "start_time": "2022-02-25T10:11:43.056Z"
   },
   {
    "duration": 9568,
    "start_time": "2022-02-25T10:11:43.059Z"
   },
   {
    "duration": 9567,
    "start_time": "2022-02-25T10:11:43.062Z"
   },
   {
    "duration": 9566,
    "start_time": "2022-02-25T10:11:43.064Z"
   },
   {
    "duration": 9565,
    "start_time": "2022-02-25T10:11:43.066Z"
   },
   {
    "duration": 9565,
    "start_time": "2022-02-25T10:11:43.068Z"
   },
   {
    "duration": 9563,
    "start_time": "2022-02-25T10:11:43.071Z"
   },
   {
    "duration": 9562,
    "start_time": "2022-02-25T10:11:43.073Z"
   },
   {
    "duration": 9561,
    "start_time": "2022-02-25T10:11:43.075Z"
   },
   {
    "duration": 9560,
    "start_time": "2022-02-25T10:11:43.077Z"
   },
   {
    "duration": 9558,
    "start_time": "2022-02-25T10:11:43.080Z"
   },
   {
    "duration": 9558,
    "start_time": "2022-02-25T10:11:43.081Z"
   },
   {
    "duration": 9556,
    "start_time": "2022-02-25T10:11:43.084Z"
   },
   {
    "duration": 9556,
    "start_time": "2022-02-25T10:11:43.086Z"
   },
   {
    "duration": 9555,
    "start_time": "2022-02-25T10:11:43.088Z"
   },
   {
    "duration": 9554,
    "start_time": "2022-02-25T10:11:43.090Z"
   },
   {
    "duration": 9552,
    "start_time": "2022-02-25T10:11:43.093Z"
   },
   {
    "duration": 9550,
    "start_time": "2022-02-25T10:11:43.096Z"
   },
   {
    "duration": 9548,
    "start_time": "2022-02-25T10:11:43.099Z"
   },
   {
    "duration": 9541,
    "start_time": "2022-02-25T10:11:43.108Z"
   },
   {
    "duration": 1218,
    "start_time": "2022-02-25T10:16:01.177Z"
   },
   {
    "duration": 29,
    "start_time": "2022-02-25T10:17:29.668Z"
   },
   {
    "duration": 20,
    "start_time": "2022-02-25T10:18:39.686Z"
   },
   {
    "duration": 582,
    "start_time": "2022-02-25T10:21:09.991Z"
   },
   {
    "duration": 27,
    "start_time": "2022-02-25T10:22:45.976Z"
   },
   {
    "duration": 394,
    "start_time": "2022-02-25T10:27:48.892Z"
   },
   {
    "duration": 5,
    "start_time": "2022-02-25T10:35:14.024Z"
   },
   {
    "duration": 5,
    "start_time": "2022-02-25T10:57:41.483Z"
   },
   {
    "duration": 280,
    "start_time": "2022-02-25T11:02:57.879Z"
   },
   {
    "duration": 440,
    "start_time": "2022-02-25T11:02:59.732Z"
   },
   {
    "duration": 5,
    "start_time": "2022-02-25T11:03:01.307Z"
   },
   {
    "duration": 521,
    "start_time": "2022-02-25T11:06:00.925Z"
   },
   {
    "duration": 4,
    "start_time": "2022-02-25T11:06:11.658Z"
   },
   {
    "duration": 6,
    "start_time": "2022-02-25T11:06:40.834Z"
   },
   {
    "duration": 5,
    "start_time": "2022-02-25T11:06:56.606Z"
   },
   {
    "duration": 399,
    "start_time": "2022-02-25T11:10:40.708Z"
   },
   {
    "duration": 5,
    "start_time": "2022-02-25T11:11:12.175Z"
   },
   {
    "duration": 415,
    "start_time": "2022-02-25T11:12:43.589Z"
   },
   {
    "duration": 5,
    "start_time": "2022-02-25T11:14:12.530Z"
   },
   {
    "duration": 15,
    "start_time": "2022-02-25T11:16:31.206Z"
   },
   {
    "duration": 13,
    "start_time": "2022-02-25T11:18:10.022Z"
   },
   {
    "duration": 336,
    "start_time": "2022-02-25T11:20:12.434Z"
   },
   {
    "duration": 4,
    "start_time": "2022-02-25T12:16:51.397Z"
   },
   {
    "duration": 12,
    "start_time": "2022-02-25T12:17:18.848Z"
   },
   {
    "duration": 13,
    "start_time": "2022-02-25T12:18:37.376Z"
   },
   {
    "duration": 12,
    "start_time": "2022-02-25T12:19:39.613Z"
   },
   {
    "duration": 2010,
    "start_time": "2022-02-25T12:35:15.357Z"
   },
   {
    "duration": 4,
    "start_time": "2022-02-25T12:35:18.157Z"
   },
   {
    "duration": 10,
    "start_time": "2022-02-25T12:35:19.500Z"
   },
   {
    "duration": 10,
    "start_time": "2022-02-25T12:36:01.579Z"
   },
   {
    "duration": 9,
    "start_time": "2022-02-25T12:36:50.064Z"
   },
   {
    "duration": 3,
    "start_time": "2022-02-25T12:42:42.912Z"
   },
   {
    "duration": 11,
    "start_time": "2022-02-25T12:43:10.800Z"
   },
   {
    "duration": 10,
    "start_time": "2022-02-25T12:43:46.168Z"
   },
   {
    "duration": 11,
    "start_time": "2022-02-25T12:44:03.133Z"
   },
   {
    "duration": 350,
    "start_time": "2022-02-25T13:51:27.466Z"
   },
   {
    "duration": 1297,
    "start_time": "2022-02-25T13:51:34.456Z"
   },
   {
    "duration": 1361,
    "start_time": "2022-02-25T13:51:35.755Z"
   },
   {
    "duration": 11,
    "start_time": "2022-02-25T13:51:37.119Z"
   },
   {
    "duration": 49,
    "start_time": "2022-02-25T13:51:37.133Z"
   },
   {
    "duration": 65,
    "start_time": "2022-02-25T13:51:37.184Z"
   },
   {
    "duration": 36,
    "start_time": "2022-02-25T13:51:37.251Z"
   },
   {
    "duration": 12,
    "start_time": "2022-02-25T13:51:37.290Z"
   },
   {
    "duration": 10,
    "start_time": "2022-02-25T13:51:37.306Z"
   },
   {
    "duration": 72,
    "start_time": "2022-02-25T13:51:37.319Z"
   },
   {
    "duration": 38845,
    "start_time": "2022-02-25T13:51:37.394Z"
   },
   {
    "duration": 5,
    "start_time": "2022-02-25T13:52:16.241Z"
   },
   {
    "duration": 26,
    "start_time": "2022-02-25T13:52:16.248Z"
   },
   {
    "duration": 4,
    "start_time": "2022-02-25T13:52:16.276Z"
   },
   {
    "duration": 6,
    "start_time": "2022-02-25T13:52:16.282Z"
   },
   {
    "duration": 14,
    "start_time": "2022-02-25T13:52:16.290Z"
   },
   {
    "duration": 23,
    "start_time": "2022-02-25T13:52:16.306Z"
   },
   {
    "duration": 59,
    "start_time": "2022-02-25T13:52:16.331Z"
   },
   {
    "duration": 7,
    "start_time": "2022-02-25T13:52:16.392Z"
   },
   {
    "duration": 33,
    "start_time": "2022-02-25T13:52:16.401Z"
   },
   {
    "duration": 36,
    "start_time": "2022-02-25T13:52:16.436Z"
   },
   {
    "duration": 13,
    "start_time": "2022-02-25T13:52:16.475Z"
   },
   {
    "duration": 13,
    "start_time": "2022-02-25T13:52:16.490Z"
   },
   {
    "duration": 22,
    "start_time": "2022-02-25T13:52:16.508Z"
   },
   {
    "duration": 38,
    "start_time": "2022-02-25T13:52:16.532Z"
   },
   {
    "duration": 19,
    "start_time": "2022-02-25T13:52:16.572Z"
   },
   {
    "duration": 27,
    "start_time": "2022-02-25T13:52:16.593Z"
   },
   {
    "duration": 16,
    "start_time": "2022-02-25T13:52:16.622Z"
   },
   {
    "duration": 10,
    "start_time": "2022-02-25T13:52:16.670Z"
   },
   {
    "duration": 1248,
    "start_time": "2022-02-25T13:52:16.681Z"
   },
   {
    "duration": 14,
    "start_time": "2022-02-25T13:52:17.931Z"
   },
   {
    "duration": 643,
    "start_time": "2022-02-25T13:52:17.947Z"
   },
   {
    "duration": 14,
    "start_time": "2022-02-25T13:52:18.592Z"
   },
   {
    "duration": 427,
    "start_time": "2022-02-25T13:52:18.608Z"
   },
   {
    "duration": 2,
    "start_time": "2022-02-25T13:52:19.037Z"
   },
   {
    "duration": 35,
    "start_time": "2022-02-25T13:52:19.041Z"
   },
   {
    "duration": 1548,
    "start_time": "2022-02-25T13:52:19.078Z"
   },
   {
    "duration": 9,
    "start_time": "2022-02-25T13:52:20.628Z"
   },
   {
    "duration": 1365,
    "start_time": "2022-02-25T13:52:20.639Z"
   },
   {
    "duration": 3,
    "start_time": "2022-02-25T13:52:22.006Z"
   },
   {
    "duration": 26,
    "start_time": "2022-02-25T13:52:22.011Z"
   },
   {
    "duration": 568,
    "start_time": "2022-02-25T13:52:22.039Z"
   },
   {
    "duration": 22,
    "start_time": "2022-02-25T13:52:22.609Z"
   },
   {
    "duration": 462,
    "start_time": "2022-02-25T13:52:22.633Z"
   },
   {
    "duration": 5,
    "start_time": "2022-02-25T13:52:23.097Z"
   },
   {
    "duration": 402,
    "start_time": "2022-02-25T13:52:23.104Z"
   },
   {
    "duration": 5,
    "start_time": "2022-02-25T13:52:23.508Z"
   },
   {
    "duration": 414,
    "start_time": "2022-02-25T13:52:23.515Z"
   },
   {
    "duration": 5,
    "start_time": "2022-02-25T13:52:23.931Z"
   },
   {
    "duration": 455,
    "start_time": "2022-02-25T13:52:23.938Z"
   },
   {
    "duration": 5,
    "start_time": "2022-02-25T13:52:24.396Z"
   },
   {
    "duration": 433,
    "start_time": "2022-02-25T13:52:24.403Z"
   },
   {
    "duration": 5,
    "start_time": "2022-02-25T13:52:24.839Z"
   },
   {
    "duration": 497,
    "start_time": "2022-02-25T13:52:24.847Z"
   },
   {
    "duration": 6,
    "start_time": "2022-02-25T13:52:25.346Z"
   },
   {
    "duration": 34,
    "start_time": "2022-02-25T13:52:25.355Z"
   },
   {
    "duration": 386,
    "start_time": "2022-02-25T13:52:25.392Z"
   },
   {
    "duration": 4,
    "start_time": "2022-02-25T13:52:25.781Z"
   },
   {
    "duration": 28,
    "start_time": "2022-02-25T13:52:25.787Z"
   },
   {
    "duration": 14,
    "start_time": "2022-02-25T13:52:25.817Z"
   },
   {
    "duration": 41,
    "start_time": "2022-02-25T13:52:25.834Z"
   },
   {
    "duration": 5,
    "start_time": "2022-02-25T13:52:25.877Z"
   },
   {
    "duration": 139,
    "start_time": "2022-02-25T13:52:25.884Z"
   },
   {
    "duration": 10,
    "start_time": "2022-02-25T13:52:26.025Z"
   },
   {
    "duration": 33,
    "start_time": "2022-02-25T13:52:26.037Z"
   },
   {
    "duration": 4,
    "start_time": "2022-02-25T13:52:26.072Z"
   },
   {
    "duration": 12,
    "start_time": "2022-02-25T13:52:26.078Z"
   },
   {
    "duration": 10,
    "start_time": "2022-02-25T13:52:26.092Z"
   },
   {
    "duration": 9,
    "start_time": "2022-02-25T13:52:26.107Z"
   },
   {
    "duration": 2,
    "start_time": "2022-02-25T13:52:26.212Z"
   },
   {
    "duration": 19,
    "start_time": "2022-02-25T13:52:26.216Z"
   },
   {
    "duration": 55,
    "start_time": "2022-02-25T13:52:26.237Z"
   },
   {
    "duration": 20,
    "start_time": "2022-02-25T13:52:26.293Z"
   },
   {
    "duration": 9,
    "start_time": "2022-02-25T13:52:26.316Z"
   },
   {
    "duration": 55,
    "start_time": "2022-02-25T13:52:26.327Z"
   },
   {
    "duration": 21,
    "start_time": "2022-02-25T13:52:26.383Z"
   },
   {
    "duration": 8,
    "start_time": "2022-02-25T13:52:43.777Z"
   },
   {
    "duration": 20,
    "start_time": "2022-02-25T13:55:36.044Z"
   },
   {
    "duration": 7,
    "start_time": "2022-02-25T13:56:08.272Z"
   },
   {
    "duration": 555,
    "start_time": "2022-02-25T13:57:26.885Z"
   },
   {
    "duration": 21,
    "start_time": "2022-02-25T13:57:36.473Z"
   },
   {
    "duration": 495,
    "start_time": "2022-02-25T13:57:38.312Z"
   },
   {
    "duration": 10,
    "start_time": "2022-02-25T13:58:55.976Z"
   },
   {
    "duration": 86,
    "start_time": "2022-02-25T13:59:28.057Z"
   },
   {
    "duration": 1242,
    "start_time": "2022-02-25T14:14:09.528Z"
   },
   {
    "duration": 58,
    "start_time": "2022-02-25T14:14:10.772Z"
   },
   {
    "duration": 12,
    "start_time": "2022-02-25T14:14:10.833Z"
   },
   {
    "duration": 30,
    "start_time": "2022-02-25T14:14:10.847Z"
   },
   {
    "duration": 44,
    "start_time": "2022-02-25T14:14:10.879Z"
   },
   {
    "duration": 15,
    "start_time": "2022-02-25T14:14:10.925Z"
   },
   {
    "duration": 35,
    "start_time": "2022-02-25T14:14:10.942Z"
   },
   {
    "duration": 5,
    "start_time": "2022-02-25T14:14:10.980Z"
   },
   {
    "duration": 31,
    "start_time": "2022-02-25T14:14:10.988Z"
   },
   {
    "duration": 37558,
    "start_time": "2022-02-25T14:14:11.021Z"
   },
   {
    "duration": 5,
    "start_time": "2022-02-25T14:14:48.581Z"
   },
   {
    "duration": 26,
    "start_time": "2022-02-25T14:14:48.587Z"
   },
   {
    "duration": 7,
    "start_time": "2022-02-25T14:14:48.615Z"
   },
   {
    "duration": 8,
    "start_time": "2022-02-25T14:14:48.624Z"
   },
   {
    "duration": 13,
    "start_time": "2022-02-25T14:14:48.633Z"
   },
   {
    "duration": 41,
    "start_time": "2022-02-25T14:14:48.648Z"
   },
   {
    "duration": 20,
    "start_time": "2022-02-25T14:14:48.691Z"
   },
   {
    "duration": 7,
    "start_time": "2022-02-25T14:14:48.713Z"
   },
   {
    "duration": 54,
    "start_time": "2022-02-25T14:14:48.722Z"
   },
   {
    "duration": 11,
    "start_time": "2022-02-25T14:14:48.778Z"
   },
   {
    "duration": 16,
    "start_time": "2022-02-25T14:14:48.791Z"
   },
   {
    "duration": 12,
    "start_time": "2022-02-25T14:14:48.809Z"
   },
   {
    "duration": 54,
    "start_time": "2022-02-25T14:14:48.825Z"
   },
   {
    "duration": 7,
    "start_time": "2022-02-25T14:14:48.881Z"
   },
   {
    "duration": 20,
    "start_time": "2022-02-25T14:14:48.889Z"
   },
   {
    "duration": 19,
    "start_time": "2022-02-25T14:14:48.911Z"
   },
   {
    "duration": 42,
    "start_time": "2022-02-25T14:14:48.932Z"
   },
   {
    "duration": 9,
    "start_time": "2022-02-25T14:14:48.976Z"
   },
   {
    "duration": 1195,
    "start_time": "2022-02-25T14:14:48.987Z"
   },
   {
    "duration": 11,
    "start_time": "2022-02-25T14:14:50.184Z"
   },
   {
    "duration": 605,
    "start_time": "2022-02-25T14:14:50.196Z"
   },
   {
    "duration": 15,
    "start_time": "2022-02-25T14:14:50.802Z"
   },
   {
    "duration": 422,
    "start_time": "2022-02-25T14:14:50.819Z"
   },
   {
    "duration": 3,
    "start_time": "2022-02-25T14:14:51.243Z"
   },
   {
    "duration": 36,
    "start_time": "2022-02-25T14:14:51.247Z"
   },
   {
    "duration": 1494,
    "start_time": "2022-02-25T14:14:51.285Z"
   },
   {
    "duration": 8,
    "start_time": "2022-02-25T14:14:52.782Z"
   },
   {
    "duration": 1327,
    "start_time": "2022-02-25T14:14:52.792Z"
   },
   {
    "duration": 2,
    "start_time": "2022-02-25T14:14:54.121Z"
   },
   {
    "duration": 33,
    "start_time": "2022-02-25T14:14:54.125Z"
   },
   {
    "duration": 536,
    "start_time": "2022-02-25T14:14:54.160Z"
   },
   {
    "duration": 23,
    "start_time": "2022-02-25T14:14:54.698Z"
   },
   {
    "duration": 461,
    "start_time": "2022-02-25T14:14:54.722Z"
   },
   {
    "duration": 5,
    "start_time": "2022-02-25T14:14:55.185Z"
   },
   {
    "duration": 414,
    "start_time": "2022-02-25T14:14:55.192Z"
   },
   {
    "duration": 5,
    "start_time": "2022-02-25T14:14:55.608Z"
   },
   {
    "duration": 417,
    "start_time": "2022-02-25T14:14:55.614Z"
   },
   {
    "duration": 5,
    "start_time": "2022-02-25T14:14:56.033Z"
   },
   {
    "duration": 471,
    "start_time": "2022-02-25T14:14:56.040Z"
   },
   {
    "duration": 5,
    "start_time": "2022-02-25T14:14:56.513Z"
   },
   {
    "duration": 460,
    "start_time": "2022-02-25T14:14:56.520Z"
   },
   {
    "duration": 5,
    "start_time": "2022-02-25T14:14:56.982Z"
   },
   {
    "duration": 414,
    "start_time": "2022-02-25T14:14:56.989Z"
   },
   {
    "duration": 4,
    "start_time": "2022-02-25T14:14:57.405Z"
   },
   {
    "duration": 17,
    "start_time": "2022-02-25T14:14:57.411Z"
   },
   {
    "duration": 363,
    "start_time": "2022-02-25T14:14:57.429Z"
   },
   {
    "duration": 4,
    "start_time": "2022-02-25T14:14:57.794Z"
   },
   {
    "duration": 17,
    "start_time": "2022-02-25T14:14:57.800Z"
   },
   {
    "duration": 11,
    "start_time": "2022-02-25T14:14:57.818Z"
   },
   {
    "duration": 40,
    "start_time": "2022-02-25T14:14:57.831Z"
   },
   {
    "duration": 4,
    "start_time": "2022-02-25T14:14:57.873Z"
   },
   {
    "duration": 118,
    "start_time": "2022-02-25T14:14:57.879Z"
   },
   {
    "duration": 10,
    "start_time": "2022-02-25T14:14:57.999Z"
   },
   {
    "duration": 10,
    "start_time": "2022-02-25T14:14:58.011Z"
   },
   {
    "duration": 3,
    "start_time": "2022-02-25T14:14:58.023Z"
   },
   {
    "duration": 48,
    "start_time": "2022-02-25T14:14:58.028Z"
   },
   {
    "duration": 8,
    "start_time": "2022-02-25T14:14:58.078Z"
   },
   {
    "duration": 11,
    "start_time": "2022-02-25T14:14:58.092Z"
   },
   {
    "duration": 63,
    "start_time": "2022-02-25T14:14:58.105Z"
   },
   {
    "duration": 19,
    "start_time": "2022-02-25T14:14:58.170Z"
   },
   {
    "duration": 4,
    "start_time": "2022-02-25T14:14:58.191Z"
   },
   {
    "duration": 7,
    "start_time": "2022-02-25T14:14:58.197Z"
   },
   {
    "duration": 23,
    "start_time": "2022-02-25T14:14:58.206Z"
   },
   {
    "duration": 54,
    "start_time": "2022-02-25T14:14:58.231Z"
   },
   {
    "duration": 7,
    "start_time": "2022-02-25T14:14:58.286Z"
   },
   {
    "duration": 1432,
    "start_time": "2022-03-06T19:01:04.650Z"
   },
   {
    "duration": 57,
    "start_time": "2022-03-06T19:01:06.084Z"
   },
   {
    "duration": 14,
    "start_time": "2022-03-06T19:01:06.143Z"
   },
   {
    "duration": 18,
    "start_time": "2022-03-06T19:01:06.159Z"
   },
   {
    "duration": 38,
    "start_time": "2022-03-06T19:01:06.179Z"
   },
   {
    "duration": 17,
    "start_time": "2022-03-06T19:01:06.238Z"
   },
   {
    "duration": 9,
    "start_time": "2022-03-06T19:01:06.258Z"
   },
   {
    "duration": 7,
    "start_time": "2022-03-06T19:01:06.269Z"
   },
   {
    "duration": 21,
    "start_time": "2022-03-06T19:01:06.278Z"
   },
   {
    "duration": 35006,
    "start_time": "2022-03-06T19:01:06.301Z"
   },
   {
    "duration": 5,
    "start_time": "2022-03-06T19:01:41.309Z"
   },
   {
    "duration": 29,
    "start_time": "2022-03-06T19:01:41.315Z"
   },
   {
    "duration": 6,
    "start_time": "2022-03-06T19:01:41.347Z"
   },
   {
    "duration": 7,
    "start_time": "2022-03-06T19:01:41.355Z"
   },
   {
    "duration": 11,
    "start_time": "2022-03-06T19:01:41.364Z"
   },
   {
    "duration": 20,
    "start_time": "2022-03-06T19:01:41.376Z"
   },
   {
    "duration": 41,
    "start_time": "2022-03-06T19:01:41.398Z"
   },
   {
    "duration": 11,
    "start_time": "2022-03-06T19:01:41.441Z"
   },
   {
    "duration": 21,
    "start_time": "2022-03-06T19:01:41.454Z"
   },
   {
    "duration": 10,
    "start_time": "2022-03-06T19:01:41.477Z"
   },
   {
    "duration": 17,
    "start_time": "2022-03-06T19:01:41.489Z"
   },
   {
    "duration": 43,
    "start_time": "2022-03-06T19:01:41.508Z"
   },
   {
    "duration": 22,
    "start_time": "2022-03-06T19:01:41.556Z"
   },
   {
    "duration": 7,
    "start_time": "2022-03-06T19:01:41.580Z"
   },
   {
    "duration": 9,
    "start_time": "2022-03-06T19:01:41.589Z"
   },
   {
    "duration": 52,
    "start_time": "2022-03-06T19:01:41.600Z"
   },
   {
    "duration": 15,
    "start_time": "2022-03-06T19:01:41.654Z"
   },
   {
    "duration": 9,
    "start_time": "2022-03-06T19:01:41.671Z"
   },
   {
    "duration": 1138,
    "start_time": "2022-03-06T19:01:41.681Z"
   },
   {
    "duration": 20,
    "start_time": "2022-03-06T19:01:42.821Z"
   },
   {
    "duration": 548,
    "start_time": "2022-03-06T19:01:42.843Z"
   },
   {
    "duration": 12,
    "start_time": "2022-03-06T19:01:43.392Z"
   },
   {
    "duration": 414,
    "start_time": "2022-03-06T19:01:43.406Z"
   },
   {
    "duration": 2,
    "start_time": "2022-03-06T19:01:43.822Z"
   },
   {
    "duration": 35,
    "start_time": "2022-03-06T19:01:43.826Z"
   },
   {
    "duration": 1359,
    "start_time": "2022-03-06T19:01:43.863Z"
   },
   {
    "duration": 24,
    "start_time": "2022-03-06T19:01:45.224Z"
   },
   {
    "duration": 1197,
    "start_time": "2022-03-06T19:01:45.251Z"
   },
   {
    "duration": 3,
    "start_time": "2022-03-06T19:01:46.450Z"
   },
   {
    "duration": 23,
    "start_time": "2022-03-06T19:01:46.455Z"
   },
   {
    "duration": 489,
    "start_time": "2022-03-06T19:01:46.480Z"
   },
   {
    "duration": 23,
    "start_time": "2022-03-06T19:01:46.971Z"
   },
   {
    "duration": 457,
    "start_time": "2022-03-06T19:01:46.996Z"
   },
   {
    "duration": 5,
    "start_time": "2022-03-06T19:01:47.454Z"
   },
   {
    "duration": 390,
    "start_time": "2022-03-06T19:01:47.460Z"
   },
   {
    "duration": 5,
    "start_time": "2022-03-06T19:01:47.852Z"
   },
   {
    "duration": 524,
    "start_time": "2022-03-06T19:01:47.859Z"
   },
   {
    "duration": 5,
    "start_time": "2022-03-06T19:01:48.385Z"
   },
   {
    "duration": 442,
    "start_time": "2022-03-06T19:01:48.392Z"
   },
   {
    "duration": 5,
    "start_time": "2022-03-06T19:01:48.838Z"
   },
   {
    "duration": 414,
    "start_time": "2022-03-06T19:01:48.845Z"
   },
   {
    "duration": 5,
    "start_time": "2022-03-06T19:01:49.261Z"
   },
   {
    "duration": 404,
    "start_time": "2022-03-06T19:01:49.269Z"
   },
   {
    "duration": 6,
    "start_time": "2022-03-06T19:01:49.675Z"
   },
   {
    "duration": 17,
    "start_time": "2022-03-06T19:01:49.683Z"
   },
   {
    "duration": 323,
    "start_time": "2022-03-06T19:01:49.701Z"
   },
   {
    "duration": 3,
    "start_time": "2022-03-06T19:01:50.026Z"
   },
   {
    "duration": 18,
    "start_time": "2022-03-06T19:01:50.038Z"
   },
   {
    "duration": 14,
    "start_time": "2022-03-06T19:01:50.058Z"
   },
   {
    "duration": 11,
    "start_time": "2022-03-06T19:01:50.074Z"
   },
   {
    "duration": 3,
    "start_time": "2022-03-06T19:01:50.086Z"
   },
   {
    "duration": 143,
    "start_time": "2022-03-06T19:01:50.091Z"
   },
   {
    "duration": 13,
    "start_time": "2022-03-06T19:01:50.238Z"
   },
   {
    "duration": 13,
    "start_time": "2022-03-06T19:01:50.253Z"
   },
   {
    "duration": 3,
    "start_time": "2022-03-06T19:01:50.268Z"
   },
   {
    "duration": 14,
    "start_time": "2022-03-06T19:01:50.272Z"
   },
   {
    "duration": 9,
    "start_time": "2022-03-06T19:01:50.287Z"
   },
   {
    "duration": 49,
    "start_time": "2022-03-06T19:01:50.301Z"
   },
   {
    "duration": 20,
    "start_time": "2022-03-06T19:01:50.352Z"
   },
   {
    "duration": 23,
    "start_time": "2022-03-06T19:01:50.373Z"
   },
   {
    "duration": 2,
    "start_time": "2022-03-06T19:01:50.398Z"
   },
   {
    "duration": 9,
    "start_time": "2022-03-06T19:01:50.401Z"
   },
   {
    "duration": 49,
    "start_time": "2022-03-06T19:01:50.412Z"
   },
   {
    "duration": 17,
    "start_time": "2022-03-06T19:01:50.463Z"
   },
   {
    "duration": 15,
    "start_time": "2022-03-06T19:01:50.482Z"
   },
   {
    "duration": 374,
    "start_time": "2022-03-06T19:09:43.786Z"
   },
   {
    "duration": 11,
    "start_time": "2022-03-06T19:10:04.987Z"
   },
   {
    "duration": 30,
    "start_time": "2022-03-06T19:10:18.642Z"
   },
   {
    "duration": 353,
    "start_time": "2022-03-06T19:11:53.107Z"
   },
   {
    "duration": 548,
    "start_time": "2022-03-06T19:12:21.150Z"
   },
   {
    "duration": 450,
    "start_time": "2022-03-06T19:12:26.251Z"
   },
   {
    "duration": 336,
    "start_time": "2022-03-06T19:12:47.949Z"
   },
   {
    "duration": 350,
    "start_time": "2022-03-06T19:13:45.715Z"
   },
   {
    "duration": 363,
    "start_time": "2022-03-06T19:14:01.955Z"
   },
   {
    "duration": 338,
    "start_time": "2022-03-06T19:14:09.563Z"
   },
   {
    "duration": 50690,
    "start_time": "2022-03-07T12:22:33.967Z"
   },
   {
    "duration": 299,
    "start_time": "2022-03-07T12:24:44.541Z"
   },
   {
    "duration": 1185,
    "start_time": "2022-03-07T12:24:52.740Z"
   },
   {
    "duration": 53,
    "start_time": "2022-03-07T12:24:53.927Z"
   },
   {
    "duration": 10,
    "start_time": "2022-03-07T12:24:53.982Z"
   },
   {
    "duration": 24,
    "start_time": "2022-03-07T12:24:53.994Z"
   },
   {
    "duration": 85,
    "start_time": "2022-03-07T12:24:54.020Z"
   },
   {
    "duration": 17,
    "start_time": "2022-03-07T12:24:54.107Z"
   },
   {
    "duration": 14,
    "start_time": "2022-03-07T12:24:54.126Z"
   },
   {
    "duration": 5,
    "start_time": "2022-03-07T12:24:54.142Z"
   },
   {
    "duration": 18,
    "start_time": "2022-03-07T12:24:54.163Z"
   },
   {
    "duration": 35525,
    "start_time": "2022-03-07T12:24:54.183Z"
   },
   {
    "duration": 4,
    "start_time": "2022-03-07T12:25:29.709Z"
   },
   {
    "duration": 9,
    "start_time": "2022-03-07T12:25:29.715Z"
   },
   {
    "duration": 3,
    "start_time": "2022-03-07T12:25:29.726Z"
   },
   {
    "duration": 5,
    "start_time": "2022-03-07T12:25:29.731Z"
   },
   {
    "duration": 32,
    "start_time": "2022-03-07T12:25:29.763Z"
   },
   {
    "duration": 23,
    "start_time": "2022-03-07T12:25:29.797Z"
   },
   {
    "duration": 17,
    "start_time": "2022-03-07T12:25:29.822Z"
   },
   {
    "duration": 6,
    "start_time": "2022-03-07T12:25:29.841Z"
   },
   {
    "duration": 34,
    "start_time": "2022-03-07T12:25:29.849Z"
   },
   {
    "duration": 9,
    "start_time": "2022-03-07T12:25:29.885Z"
   },
   {
    "duration": 16,
    "start_time": "2022-03-07T12:25:29.896Z"
   },
   {
    "duration": 11,
    "start_time": "2022-03-07T12:25:29.913Z"
   },
   {
    "duration": 57,
    "start_time": "2022-03-07T12:25:29.928Z"
   },
   {
    "duration": 7,
    "start_time": "2022-03-07T12:25:29.988Z"
   },
   {
    "duration": 20,
    "start_time": "2022-03-07T12:25:29.996Z"
   },
   {
    "duration": 30,
    "start_time": "2022-03-07T12:25:30.018Z"
   },
   {
    "duration": 19,
    "start_time": "2022-03-07T12:25:30.050Z"
   },
   {
    "duration": 11,
    "start_time": "2022-03-07T12:25:30.071Z"
   },
   {
    "duration": 50693,
    "start_time": "2022-03-07T12:24:40.839Z"
   },
   {
    "duration": 50687,
    "start_time": "2022-03-07T12:24:40.846Z"
   },
   {
    "duration": 50678,
    "start_time": "2022-03-07T12:24:40.856Z"
   },
   {
    "duration": 50672,
    "start_time": "2022-03-07T12:24:40.863Z"
   },
   {
    "duration": 50648,
    "start_time": "2022-03-07T12:24:40.888Z"
   },
   {
    "duration": 50642,
    "start_time": "2022-03-07T12:24:40.895Z"
   },
   {
    "duration": 50635,
    "start_time": "2022-03-07T12:24:40.903Z"
   },
   {
    "duration": 50630,
    "start_time": "2022-03-07T12:24:40.909Z"
   },
   {
    "duration": 50626,
    "start_time": "2022-03-07T12:24:40.914Z"
   },
   {
    "duration": 50621,
    "start_time": "2022-03-07T12:24:40.920Z"
   },
   {
    "duration": 50617,
    "start_time": "2022-03-07T12:24:40.925Z"
   },
   {
    "duration": 50614,
    "start_time": "2022-03-07T12:24:40.929Z"
   },
   {
    "duration": 50610,
    "start_time": "2022-03-07T12:24:40.934Z"
   },
   {
    "duration": 50596,
    "start_time": "2022-03-07T12:24:40.949Z"
   },
   {
    "duration": 50609,
    "start_time": "2022-03-07T12:24:40.954Z"
   },
   {
    "duration": 50608,
    "start_time": "2022-03-07T12:24:40.958Z"
   },
   {
    "duration": 50603,
    "start_time": "2022-03-07T12:24:40.965Z"
   },
   {
    "duration": 50597,
    "start_time": "2022-03-07T12:24:40.972Z"
   },
   {
    "duration": 50591,
    "start_time": "2022-03-07T12:24:40.979Z"
   },
   {
    "duration": 50587,
    "start_time": "2022-03-07T12:24:40.984Z"
   },
   {
    "duration": 50582,
    "start_time": "2022-03-07T12:24:40.990Z"
   },
   {
    "duration": 50578,
    "start_time": "2022-03-07T12:24:40.995Z"
   },
   {
    "duration": 50573,
    "start_time": "2022-03-07T12:24:41.001Z"
   },
   {
    "duration": 50567,
    "start_time": "2022-03-07T12:24:41.008Z"
   },
   {
    "duration": 50495,
    "start_time": "2022-03-07T12:24:41.081Z"
   },
   {
    "duration": 50447,
    "start_time": "2022-03-07T12:24:41.130Z"
   },
   {
    "duration": 50442,
    "start_time": "2022-03-07T12:24:41.136Z"
   },
   {
    "duration": 50440,
    "start_time": "2022-03-07T12:24:41.139Z"
   },
   {
    "duration": 50437,
    "start_time": "2022-03-07T12:24:41.143Z"
   },
   {
    "duration": 50418,
    "start_time": "2022-03-07T12:24:41.164Z"
   },
   {
    "duration": 50413,
    "start_time": "2022-03-07T12:24:41.171Z"
   },
   {
    "duration": 50410,
    "start_time": "2022-03-07T12:24:41.175Z"
   },
   {
    "duration": 50408,
    "start_time": "2022-03-07T12:24:41.179Z"
   },
   {
    "duration": 50403,
    "start_time": "2022-03-07T12:24:41.185Z"
   },
   {
    "duration": 50400,
    "start_time": "2022-03-07T12:24:41.189Z"
   },
   {
    "duration": 50397,
    "start_time": "2022-03-07T12:24:41.193Z"
   },
   {
    "duration": 50394,
    "start_time": "2022-03-07T12:24:41.197Z"
   },
   {
    "duration": 50388,
    "start_time": "2022-03-07T12:24:41.204Z"
   },
   {
    "duration": 50385,
    "start_time": "2022-03-07T12:24:41.208Z"
   },
   {
    "duration": 50383,
    "start_time": "2022-03-07T12:24:41.211Z"
   },
   {
    "duration": 50380,
    "start_time": "2022-03-07T12:24:41.215Z"
   },
   {
    "duration": 50377,
    "start_time": "2022-03-07T12:24:41.220Z"
   },
   {
    "duration": 50374,
    "start_time": "2022-03-07T12:24:41.224Z"
   },
   {
    "duration": 50356,
    "start_time": "2022-03-07T12:24:41.244Z"
   },
   {
    "duration": 50354,
    "start_time": "2022-03-07T12:24:41.247Z"
   },
   {
    "duration": 50410,
    "start_time": "2022-03-07T12:24:41.252Z"
   },
   {
    "duration": 50406,
    "start_time": "2022-03-07T12:24:41.258Z"
   },
   {
    "duration": 50405,
    "start_time": "2022-03-07T12:24:41.262Z"
   },
   {
    "duration": 50402,
    "start_time": "2022-03-07T12:24:41.267Z"
   },
   {
    "duration": 1094,
    "start_time": "2022-03-07T12:25:47.449Z"
   },
   {
    "duration": 1147,
    "start_time": "2022-03-07T12:27:06.560Z"
   },
   {
    "duration": 1129,
    "start_time": "2022-03-07T12:27:25.471Z"
   },
   {
    "duration": 1142,
    "start_time": "2022-03-07T12:27:44.908Z"
   },
   {
    "duration": 234,
    "start_time": "2022-03-07T12:28:24.508Z"
   },
   {
    "duration": 1128,
    "start_time": "2022-03-07T12:28:31.198Z"
   },
   {
    "duration": 55,
    "start_time": "2022-03-07T12:28:32.328Z"
   },
   {
    "duration": 10,
    "start_time": "2022-03-07T12:28:32.385Z"
   },
   {
    "duration": 15,
    "start_time": "2022-03-07T12:28:32.397Z"
   },
   {
    "duration": 70,
    "start_time": "2022-03-07T12:28:32.414Z"
   },
   {
    "duration": 13,
    "start_time": "2022-03-07T12:28:32.486Z"
   },
   {
    "duration": 26,
    "start_time": "2022-03-07T12:28:32.501Z"
   },
   {
    "duration": 6,
    "start_time": "2022-03-07T12:28:32.530Z"
   },
   {
    "duration": 39,
    "start_time": "2022-03-07T12:28:32.538Z"
   },
   {
    "duration": 35603,
    "start_time": "2022-03-07T12:28:32.579Z"
   },
   {
    "duration": 5,
    "start_time": "2022-03-07T12:29:08.184Z"
   },
   {
    "duration": 16,
    "start_time": "2022-03-07T12:29:08.191Z"
   },
   {
    "duration": 5,
    "start_time": "2022-03-07T12:29:08.209Z"
   },
   {
    "duration": 10,
    "start_time": "2022-03-07T12:29:08.215Z"
   },
   {
    "duration": 11,
    "start_time": "2022-03-07T12:29:08.227Z"
   },
   {
    "duration": 49,
    "start_time": "2022-03-07T12:29:08.239Z"
   },
   {
    "duration": 18,
    "start_time": "2022-03-07T12:29:08.289Z"
   },
   {
    "duration": 7,
    "start_time": "2022-03-07T12:29:08.308Z"
   },
   {
    "duration": 55,
    "start_time": "2022-03-07T12:29:08.317Z"
   },
   {
    "duration": 15,
    "start_time": "2022-03-07T12:29:08.374Z"
   },
   {
    "duration": 19,
    "start_time": "2022-03-07T12:29:08.391Z"
   },
   {
    "duration": 13,
    "start_time": "2022-03-07T12:29:08.412Z"
   },
   {
    "duration": 55,
    "start_time": "2022-03-07T12:29:08.429Z"
   },
   {
    "duration": 7,
    "start_time": "2022-03-07T12:29:08.487Z"
   },
   {
    "duration": 15,
    "start_time": "2022-03-07T12:29:08.495Z"
   },
   {
    "duration": 16,
    "start_time": "2022-03-07T12:29:08.511Z"
   },
   {
    "duration": 47,
    "start_time": "2022-03-07T12:29:08.529Z"
   },
   {
    "duration": 8,
    "start_time": "2022-03-07T12:29:08.579Z"
   },
   {
    "duration": 1156,
    "start_time": "2022-03-07T12:29:08.589Z"
   },
   {
    "duration": 18,
    "start_time": "2022-03-07T12:29:09.747Z"
   },
   {
    "duration": 551,
    "start_time": "2022-03-07T12:29:09.767Z"
   },
   {
    "duration": 12,
    "start_time": "2022-03-07T12:29:10.320Z"
   },
   {
    "duration": 371,
    "start_time": "2022-03-07T12:29:10.333Z"
   },
   {
    "duration": 3,
    "start_time": "2022-03-07T12:29:10.705Z"
   },
   {
    "duration": 20,
    "start_time": "2022-03-07T12:29:10.709Z"
   },
   {
    "duration": 1251,
    "start_time": "2022-03-07T12:29:10.730Z"
   },
   {
    "duration": 424,
    "start_time": "2022-03-07T12:29:11.982Z"
   },
   {
    "duration": 389,
    "start_time": "2022-03-07T12:29:12.408Z"
   },
   {
    "duration": 7,
    "start_time": "2022-03-07T12:29:12.799Z"
   },
   {
    "duration": 1058,
    "start_time": "2022-03-07T12:29:12.808Z"
   },
   {
    "duration": 3,
    "start_time": "2022-03-07T12:29:13.868Z"
   },
   {
    "duration": 26,
    "start_time": "2022-03-07T12:29:13.873Z"
   },
   {
    "duration": 465,
    "start_time": "2022-03-07T12:29:13.901Z"
   },
   {
    "duration": 23,
    "start_time": "2022-03-07T12:29:14.370Z"
   },
   {
    "duration": 348,
    "start_time": "2022-03-07T12:29:14.395Z"
   },
   {
    "duration": 5,
    "start_time": "2022-03-07T12:29:14.744Z"
   },
   {
    "duration": 421,
    "start_time": "2022-03-07T12:29:14.750Z"
   },
   {
    "duration": 5,
    "start_time": "2022-03-07T12:29:15.174Z"
   },
   {
    "duration": 384,
    "start_time": "2022-03-07T12:29:15.182Z"
   },
   {
    "duration": 4,
    "start_time": "2022-03-07T12:29:15.568Z"
   },
   {
    "duration": 385,
    "start_time": "2022-03-07T12:29:15.574Z"
   },
   {
    "duration": 6,
    "start_time": "2022-03-07T12:29:15.960Z"
   },
   {
    "duration": 394,
    "start_time": "2022-03-07T12:29:15.968Z"
   },
   {
    "duration": 7,
    "start_time": "2022-03-07T12:29:16.365Z"
   },
   {
    "duration": 504,
    "start_time": "2022-03-07T12:29:16.374Z"
   },
   {
    "duration": 4,
    "start_time": "2022-03-07T12:29:16.881Z"
   },
   {
    "duration": 19,
    "start_time": "2022-03-07T12:29:16.887Z"
   },
   {
    "duration": 302,
    "start_time": "2022-03-07T12:29:16.908Z"
   },
   {
    "duration": 3,
    "start_time": "2022-03-07T12:29:17.213Z"
   },
   {
    "duration": 19,
    "start_time": "2022-03-07T12:29:17.218Z"
   },
   {
    "duration": 26,
    "start_time": "2022-03-07T12:29:17.239Z"
   },
   {
    "duration": 23,
    "start_time": "2022-03-07T12:29:17.267Z"
   },
   {
    "duration": 6,
    "start_time": "2022-03-07T12:29:17.292Z"
   },
   {
    "duration": 18,
    "start_time": "2022-03-07T12:29:17.299Z"
   },
   {
    "duration": 15,
    "start_time": "2022-03-07T12:29:17.319Z"
   },
   {
    "duration": 23,
    "start_time": "2022-03-07T12:29:17.335Z"
   },
   {
    "duration": 15,
    "start_time": "2022-03-07T12:29:17.363Z"
   },
   {
    "duration": 23,
    "start_time": "2022-03-07T12:29:17.384Z"
   },
   {
    "duration": 12,
    "start_time": "2022-03-07T12:29:17.409Z"
   },
   {
    "duration": 15,
    "start_time": "2022-03-07T12:29:17.422Z"
   },
   {
    "duration": 36,
    "start_time": "2022-03-07T12:29:17.439Z"
   },
   {
    "duration": 41,
    "start_time": "2022-03-07T12:29:17.477Z"
   },
   {
    "duration": 3,
    "start_time": "2022-03-07T12:29:17.519Z"
   },
   {
    "duration": 26,
    "start_time": "2022-03-07T12:29:17.524Z"
   },
   {
    "duration": 28,
    "start_time": "2022-03-07T12:29:17.552Z"
   },
   {
    "duration": 21,
    "start_time": "2022-03-07T12:29:17.582Z"
   },
   {
    "duration": 10,
    "start_time": "2022-03-07T12:29:17.605Z"
   },
   {
    "duration": 335,
    "start_time": "2022-03-07T12:33:13.956Z"
   },
   {
    "duration": 1117,
    "start_time": "2022-03-07T12:33:25.894Z"
   },
   {
    "duration": 52,
    "start_time": "2022-03-07T12:33:27.013Z"
   },
   {
    "duration": 12,
    "start_time": "2022-03-07T12:33:27.067Z"
   },
   {
    "duration": 17,
    "start_time": "2022-03-07T12:33:27.081Z"
   },
   {
    "duration": 73,
    "start_time": "2022-03-07T12:33:27.100Z"
   },
   {
    "duration": 13,
    "start_time": "2022-03-07T12:33:27.175Z"
   },
   {
    "duration": 13,
    "start_time": "2022-03-07T12:33:27.190Z"
   },
   {
    "duration": 10,
    "start_time": "2022-03-07T12:33:27.206Z"
   },
   {
    "duration": 45,
    "start_time": "2022-03-07T12:33:27.218Z"
   },
   {
    "duration": 33049,
    "start_time": "2022-03-07T12:33:27.265Z"
   },
   {
    "duration": 4,
    "start_time": "2022-03-07T12:34:00.316Z"
   },
   {
    "duration": 15,
    "start_time": "2022-03-07T12:34:00.321Z"
   },
   {
    "duration": 7,
    "start_time": "2022-03-07T12:34:00.337Z"
   },
   {
    "duration": 20,
    "start_time": "2022-03-07T12:34:00.345Z"
   },
   {
    "duration": 19,
    "start_time": "2022-03-07T12:34:00.367Z"
   },
   {
    "duration": 18,
    "start_time": "2022-03-07T12:34:00.388Z"
   },
   {
    "duration": 18,
    "start_time": "2022-03-07T12:34:00.408Z"
   },
   {
    "duration": 7,
    "start_time": "2022-03-07T12:34:00.427Z"
   },
   {
    "duration": 19,
    "start_time": "2022-03-07T12:34:00.464Z"
   },
   {
    "duration": 11,
    "start_time": "2022-03-07T12:34:00.484Z"
   },
   {
    "duration": 20,
    "start_time": "2022-03-07T12:34:00.496Z"
   },
   {
    "duration": 11,
    "start_time": "2022-03-07T12:34:00.517Z"
   },
   {
    "duration": 42,
    "start_time": "2022-03-07T12:34:00.532Z"
   },
   {
    "duration": 7,
    "start_time": "2022-03-07T12:34:00.577Z"
   },
   {
    "duration": 20,
    "start_time": "2022-03-07T12:34:00.586Z"
   },
   {
    "duration": 18,
    "start_time": "2022-03-07T12:34:00.608Z"
   },
   {
    "duration": 44,
    "start_time": "2022-03-07T12:34:00.628Z"
   },
   {
    "duration": 8,
    "start_time": "2022-03-07T12:34:00.674Z"
   },
   {
    "duration": 1087,
    "start_time": "2022-03-07T12:34:00.684Z"
   },
   {
    "duration": 11,
    "start_time": "2022-03-07T12:34:01.772Z"
   },
   {
    "duration": 534,
    "start_time": "2022-03-07T12:34:01.785Z"
   },
   {
    "duration": 15,
    "start_time": "2022-03-07T12:34:02.321Z"
   },
   {
    "duration": 347,
    "start_time": "2022-03-07T12:34:02.338Z"
   },
   {
    "duration": 567,
    "start_time": "2022-03-07T12:34:02.687Z"
   },
   {
    "duration": 50631,
    "start_time": "2022-03-07T12:33:12.626Z"
   },
   {
    "duration": 50628,
    "start_time": "2022-03-07T12:33:12.630Z"
   },
   {
    "duration": 50626,
    "start_time": "2022-03-07T12:33:12.633Z"
   },
   {
    "duration": 50624,
    "start_time": "2022-03-07T12:33:12.637Z"
   },
   {
    "duration": 50621,
    "start_time": "2022-03-07T12:33:12.641Z"
   },
   {
    "duration": 50618,
    "start_time": "2022-03-07T12:33:12.645Z"
   },
   {
    "duration": 50614,
    "start_time": "2022-03-07T12:33:12.650Z"
   },
   {
    "duration": 50610,
    "start_time": "2022-03-07T12:33:12.655Z"
   },
   {
    "duration": 50604,
    "start_time": "2022-03-07T12:33:12.662Z"
   },
   {
    "duration": 50600,
    "start_time": "2022-03-07T12:33:12.667Z"
   },
   {
    "duration": 50597,
    "start_time": "2022-03-07T12:33:12.671Z"
   },
   {
    "duration": 50593,
    "start_time": "2022-03-07T12:33:12.676Z"
   },
   {
    "duration": 50589,
    "start_time": "2022-03-07T12:33:12.681Z"
   },
   {
    "duration": 50585,
    "start_time": "2022-03-07T12:33:12.686Z"
   },
   {
    "duration": 50576,
    "start_time": "2022-03-07T12:33:12.696Z"
   },
   {
    "duration": 50571,
    "start_time": "2022-03-07T12:33:12.702Z"
   },
   {
    "duration": 50565,
    "start_time": "2022-03-07T12:33:12.708Z"
   },
   {
    "duration": 50552,
    "start_time": "2022-03-07T12:33:12.722Z"
   },
   {
    "duration": 50547,
    "start_time": "2022-03-07T12:33:12.727Z"
   },
   {
    "duration": 50545,
    "start_time": "2022-03-07T12:33:12.730Z"
   },
   {
    "duration": 50543,
    "start_time": "2022-03-07T12:33:12.733Z"
   },
   {
    "duration": 50541,
    "start_time": "2022-03-07T12:33:12.736Z"
   },
   {
    "duration": 50538,
    "start_time": "2022-03-07T12:33:12.740Z"
   },
   {
    "duration": 50536,
    "start_time": "2022-03-07T12:33:12.743Z"
   },
   {
    "duration": 50532,
    "start_time": "2022-03-07T12:33:12.747Z"
   },
   {
    "duration": 50529,
    "start_time": "2022-03-07T12:33:12.751Z"
   },
   {
    "duration": 50525,
    "start_time": "2022-03-07T12:33:12.756Z"
   },
   {
    "duration": 50523,
    "start_time": "2022-03-07T12:33:12.759Z"
   },
   {
    "duration": 50520,
    "start_time": "2022-03-07T12:33:12.762Z"
   },
   {
    "duration": 50517,
    "start_time": "2022-03-07T12:33:12.766Z"
   },
   {
    "duration": 50513,
    "start_time": "2022-03-07T12:33:12.771Z"
   },
   {
    "duration": 50507,
    "start_time": "2022-03-07T12:33:12.778Z"
   },
   {
    "duration": 50502,
    "start_time": "2022-03-07T12:33:12.784Z"
   },
   {
    "duration": 50498,
    "start_time": "2022-03-07T12:33:12.789Z"
   },
   {
    "duration": 50494,
    "start_time": "2022-03-07T12:33:12.794Z"
   },
   {
    "duration": 50490,
    "start_time": "2022-03-07T12:33:12.799Z"
   },
   {
    "duration": 50484,
    "start_time": "2022-03-07T12:33:12.805Z"
   },
   {
    "duration": 50481,
    "start_time": "2022-03-07T12:33:12.809Z"
   },
   {
    "duration": 50478,
    "start_time": "2022-03-07T12:33:12.813Z"
   },
   {
    "duration": 50475,
    "start_time": "2022-03-07T12:33:12.817Z"
   },
   {
    "duration": 50463,
    "start_time": "2022-03-07T12:33:12.830Z"
   },
   {
    "duration": 50461,
    "start_time": "2022-03-07T12:33:12.833Z"
   },
   {
    "duration": 50459,
    "start_time": "2022-03-07T12:33:12.836Z"
   },
   {
    "duration": 50455,
    "start_time": "2022-03-07T12:33:12.841Z"
   },
   {
    "duration": 9,
    "start_time": "2022-03-07T12:34:22.620Z"
   },
   {
    "duration": 19,
    "start_time": "2022-03-07T12:34:38.649Z"
   },
   {
    "duration": 566,
    "start_time": "2022-03-07T12:34:48.042Z"
   },
   {
    "duration": 14,
    "start_time": "2022-03-07T12:35:25.606Z"
   },
   {
    "duration": 15,
    "start_time": "2022-03-07T12:35:53.745Z"
   },
   {
    "duration": 662,
    "start_time": "2022-03-07T12:36:18.531Z"
   },
   {
    "duration": 16,
    "start_time": "2022-03-07T12:37:24.596Z"
   },
   {
    "duration": 20,
    "start_time": "2022-03-07T12:37:36.769Z"
   },
   {
    "duration": 2,
    "start_time": "2022-03-07T12:45:05.760Z"
   },
   {
    "duration": 19,
    "start_time": "2022-03-07T12:45:08.069Z"
   },
   {
    "duration": 700,
    "start_time": "2022-03-07T12:45:12.912Z"
   },
   {
    "duration": 2,
    "start_time": "2022-03-07T12:46:19.042Z"
   },
   {
    "duration": 444,
    "start_time": "2022-03-07T12:51:46.912Z"
   },
   {
    "duration": 457,
    "start_time": "2022-03-07T12:52:02.119Z"
   },
   {
    "duration": 342,
    "start_time": "2022-03-07T12:54:31.044Z"
   },
   {
    "duration": 3,
    "start_time": "2022-03-07T13:02:42.333Z"
   },
   {
    "duration": 18,
    "start_time": "2022-03-07T13:02:45.199Z"
   },
   {
    "duration": 2,
    "start_time": "2022-03-07T13:03:03.848Z"
   },
   {
    "duration": 18,
    "start_time": "2022-03-07T13:03:07.622Z"
   },
   {
    "duration": 1054,
    "start_time": "2022-03-07T13:03:10.905Z"
   },
   {
    "duration": 300,
    "start_time": "2022-03-07T13:03:57.446Z"
   },
   {
    "duration": 328,
    "start_time": "2022-03-07T13:04:59.228Z"
   },
   {
    "duration": 76,
    "start_time": "2022-03-07T13:07:09.000Z"
   },
   {
    "duration": 360,
    "start_time": "2022-03-07T13:07:58.682Z"
   },
   {
    "duration": 10,
    "start_time": "2022-03-07T13:12:39.027Z"
   },
   {
    "duration": 754,
    "start_time": "2022-03-07T13:13:58.809Z"
   },
   {
    "duration": 3,
    "start_time": "2022-03-07T13:14:59.488Z"
   },
   {
    "duration": 19,
    "start_time": "2022-03-07T13:15:02.497Z"
   },
   {
    "duration": 467,
    "start_time": "2022-03-07T13:15:08.321Z"
   },
   {
    "duration": 22,
    "start_time": "2022-03-07T13:15:29.911Z"
   },
   {
    "duration": 344,
    "start_time": "2022-03-07T13:19:18.102Z"
   },
   {
    "duration": 221,
    "start_time": "2022-03-07T13:19:27.798Z"
   },
   {
    "duration": 4,
    "start_time": "2022-03-07T13:19:44.403Z"
   },
   {
    "duration": 4,
    "start_time": "2022-03-07T13:20:05.108Z"
   },
   {
    "duration": 399,
    "start_time": "2022-03-07T13:20:33.344Z"
   },
   {
    "duration": 5,
    "start_time": "2022-03-07T13:20:56.615Z"
   },
   {
    "duration": 368,
    "start_time": "2022-03-07T13:21:41.280Z"
   },
   {
    "duration": 5,
    "start_time": "2022-03-07T13:22:03.623Z"
   },
   {
    "duration": 335,
    "start_time": "2022-03-07T13:23:34.207Z"
   },
   {
    "duration": 5,
    "start_time": "2022-03-07T13:24:16.382Z"
   },
   {
    "duration": 353,
    "start_time": "2022-03-07T13:24:34.197Z"
   },
   {
    "duration": 5,
    "start_time": "2022-03-07T13:24:41.005Z"
   },
   {
    "duration": 353,
    "start_time": "2022-03-07T13:31:21.091Z"
   },
   {
    "duration": 7,
    "start_time": "2022-03-07T13:31:45.672Z"
   },
   {
    "duration": 5,
    "start_time": "2022-03-07T13:33:12.287Z"
   },
   {
    "duration": 356,
    "start_time": "2022-03-07T13:33:36.680Z"
   },
   {
    "duration": 4,
    "start_time": "2022-03-07T13:33:58.221Z"
   },
   {
    "duration": 5,
    "start_time": "2022-03-07T13:34:06.207Z"
   },
   {
    "duration": 17,
    "start_time": "2022-03-07T13:36:27.157Z"
   },
   {
    "duration": 296,
    "start_time": "2022-03-07T13:36:29.551Z"
   },
   {
    "duration": 4,
    "start_time": "2022-03-07T13:37:37.210Z"
   },
   {
    "duration": 11,
    "start_time": "2022-03-07T13:37:38.647Z"
   },
   {
    "duration": 12,
    "start_time": "2022-03-07T13:37:54.003Z"
   },
   {
    "duration": 11,
    "start_time": "2022-03-07T13:37:59.596Z"
   },
   {
    "duration": 11,
    "start_time": "2022-03-07T13:38:50.250Z"
   },
   {
    "duration": 4,
    "start_time": "2022-03-07T13:38:59.695Z"
   },
   {
    "duration": 9,
    "start_time": "2022-03-07T13:39:00.875Z"
   },
   {
    "duration": 9,
    "start_time": "2022-03-07T13:39:04.917Z"
   },
   {
    "duration": 10,
    "start_time": "2022-03-07T13:39:06.293Z"
   },
   {
    "duration": 3,
    "start_time": "2022-03-07T13:39:13.313Z"
   },
   {
    "duration": 9,
    "start_time": "2022-03-07T13:39:14.751Z"
   },
   {
    "duration": 9,
    "start_time": "2022-03-07T13:39:16.625Z"
   },
   {
    "duration": 107,
    "start_time": "2022-03-07T13:39:18.001Z"
   },
   {
    "duration": 3,
    "start_time": "2022-03-07T14:57:35.935Z"
   },
   {
    "duration": 162,
    "start_time": "2022-03-07T14:57:35.943Z"
   },
   {
    "duration": 9,
    "start_time": "2022-03-07T14:57:36.107Z"
   },
   {
    "duration": 92,
    "start_time": "2022-03-07T14:57:36.118Z"
   },
   {
    "duration": 38,
    "start_time": "2022-03-07T14:57:36.212Z"
   },
   {
    "duration": 15,
    "start_time": "2022-03-07T14:57:36.253Z"
   },
   {
    "duration": 10,
    "start_time": "2022-03-07T14:57:36.270Z"
   },
   {
    "duration": 7,
    "start_time": "2022-03-07T14:57:36.282Z"
   },
   {
    "duration": 52,
    "start_time": "2022-03-07T14:57:36.291Z"
   },
   {
    "duration": 34550,
    "start_time": "2022-03-07T14:57:36.346Z"
   },
   {
    "duration": 4,
    "start_time": "2022-03-07T14:58:10.898Z"
   },
   {
    "duration": 12,
    "start_time": "2022-03-07T14:58:10.904Z"
   },
   {
    "duration": 21,
    "start_time": "2022-03-07T14:58:10.918Z"
   },
   {
    "duration": 10,
    "start_time": "2022-03-07T14:58:10.941Z"
   },
   {
    "duration": 11,
    "start_time": "2022-03-07T14:58:10.953Z"
   },
   {
    "duration": 24,
    "start_time": "2022-03-07T14:58:10.966Z"
   },
   {
    "duration": 50,
    "start_time": "2022-03-07T14:58:10.992Z"
   },
   {
    "duration": 8,
    "start_time": "2022-03-07T14:58:11.044Z"
   },
   {
    "duration": 24,
    "start_time": "2022-03-07T14:58:11.053Z"
   },
   {
    "duration": 10,
    "start_time": "2022-03-07T14:58:11.079Z"
   },
   {
    "duration": 11,
    "start_time": "2022-03-07T14:58:11.091Z"
   },
   {
    "duration": 13,
    "start_time": "2022-03-07T14:58:11.138Z"
   },
   {
    "duration": 19,
    "start_time": "2022-03-07T14:58:11.153Z"
   },
   {
    "duration": 7,
    "start_time": "2022-03-07T14:58:11.173Z"
   },
   {
    "duration": 11,
    "start_time": "2022-03-07T14:58:11.182Z"
   },
   {
    "duration": 57,
    "start_time": "2022-03-07T14:58:11.194Z"
   },
   {
    "duration": 18,
    "start_time": "2022-03-07T14:58:11.253Z"
   },
   {
    "duration": 9,
    "start_time": "2022-03-07T14:58:11.274Z"
   },
   {
    "duration": 1590,
    "start_time": "2022-03-07T14:58:27.795Z"
   },
   {
    "duration": 1088,
    "start_time": "2022-03-07T14:59:14.166Z"
   },
   {
    "duration": 1207,
    "start_time": "2022-03-07T14:59:24.675Z"
   },
   {
    "duration": 1188,
    "start_time": "2022-03-07T15:03:56.021Z"
   },
   {
    "duration": 49,
    "start_time": "2022-03-07T15:03:57.211Z"
   },
   {
    "duration": 11,
    "start_time": "2022-03-07T15:03:57.262Z"
   },
   {
    "duration": 23,
    "start_time": "2022-03-07T15:03:57.275Z"
   },
   {
    "duration": 64,
    "start_time": "2022-03-07T15:03:57.299Z"
   },
   {
    "duration": 13,
    "start_time": "2022-03-07T15:03:57.365Z"
   },
   {
    "duration": 11,
    "start_time": "2022-03-07T15:03:57.380Z"
   },
   {
    "duration": 4,
    "start_time": "2022-03-07T15:03:57.394Z"
   },
   {
    "duration": 52,
    "start_time": "2022-03-07T15:03:57.400Z"
   },
   {
    "duration": 33460,
    "start_time": "2022-03-07T15:03:57.453Z"
   },
   {
    "duration": 5,
    "start_time": "2022-03-07T15:04:30.915Z"
   },
   {
    "duration": 417,
    "start_time": "2022-03-07T15:04:30.922Z"
   },
   {
    "duration": 9,
    "start_time": "2022-03-07T15:04:31.341Z"
   },
   {
    "duration": 10,
    "start_time": "2022-03-07T15:04:31.352Z"
   },
   {
    "duration": 14,
    "start_time": "2022-03-07T15:04:31.363Z"
   },
   {
    "duration": 21,
    "start_time": "2022-03-07T15:04:31.379Z"
   },
   {
    "duration": 18,
    "start_time": "2022-03-07T15:04:31.401Z"
   },
   {
    "duration": 7,
    "start_time": "2022-03-07T15:04:31.437Z"
   },
   {
    "duration": 22,
    "start_time": "2022-03-07T15:04:31.446Z"
   },
   {
    "duration": 10,
    "start_time": "2022-03-07T15:04:31.470Z"
   },
   {
    "duration": 13,
    "start_time": "2022-03-07T15:04:31.482Z"
   },
   {
    "duration": 50,
    "start_time": "2022-03-07T15:04:31.497Z"
   },
   {
    "duration": 19,
    "start_time": "2022-03-07T15:04:31.552Z"
   },
   {
    "duration": 7,
    "start_time": "2022-03-07T15:04:31.573Z"
   },
   {
    "duration": 11,
    "start_time": "2022-03-07T15:04:31.581Z"
   },
   {
    "duration": 57,
    "start_time": "2022-03-07T15:04:31.593Z"
   },
   {
    "duration": 15,
    "start_time": "2022-03-07T15:04:31.652Z"
   },
   {
    "duration": 9,
    "start_time": "2022-03-07T15:04:31.668Z"
   },
   {
    "duration": 1130,
    "start_time": "2022-03-07T15:04:31.679Z"
   },
   {
    "duration": 10,
    "start_time": "2022-03-07T15:04:32.811Z"
   },
   {
    "duration": 529,
    "start_time": "2022-03-07T15:04:32.823Z"
   },
   {
    "duration": 15,
    "start_time": "2022-03-07T15:04:33.354Z"
   },
   {
    "duration": 863,
    "start_time": "2022-03-07T15:04:33.371Z"
   },
   {
    "duration": 374,
    "start_time": "2022-03-07T15:04:34.237Z"
   },
   {
    "duration": 3,
    "start_time": "2022-03-07T15:04:34.612Z"
   },
   {
    "duration": 36,
    "start_time": "2022-03-07T15:04:34.616Z"
   },
   {
    "duration": 335,
    "start_time": "2022-03-07T15:04:34.654Z"
   },
   {
    "duration": 336,
    "start_time": "2022-03-07T15:04:34.991Z"
   },
   {
    "duration": 14,
    "start_time": "2022-03-07T15:04:35.328Z"
   },
   {
    "duration": 3,
    "start_time": "2022-03-07T15:04:35.343Z"
   },
   {
    "duration": 21,
    "start_time": "2022-03-07T15:04:35.347Z"
   },
   {
    "duration": 535,
    "start_time": "2022-03-07T15:04:35.371Z"
   },
   {
    "duration": 31,
    "start_time": "2022-03-07T15:04:35.907Z"
   },
   {
    "duration": 358,
    "start_time": "2022-03-07T15:04:35.940Z"
   },
   {
    "duration": 5,
    "start_time": "2022-03-07T15:04:36.300Z"
   },
   {
    "duration": 390,
    "start_time": "2022-03-07T15:04:36.307Z"
   },
   {
    "duration": 4,
    "start_time": "2022-03-07T15:04:36.699Z"
   },
   {
    "duration": 403,
    "start_time": "2022-03-07T15:04:36.705Z"
   },
   {
    "duration": 4,
    "start_time": "2022-03-07T15:04:37.110Z"
   },
   {
    "duration": 383,
    "start_time": "2022-03-07T15:04:37.116Z"
   },
   {
    "duration": 4,
    "start_time": "2022-03-07T15:04:37.501Z"
   },
   {
    "duration": 403,
    "start_time": "2022-03-07T15:04:37.507Z"
   },
   {
    "duration": 4,
    "start_time": "2022-03-07T15:04:37.912Z"
   },
   {
    "duration": 394,
    "start_time": "2022-03-07T15:04:37.917Z"
   },
   {
    "duration": 5,
    "start_time": "2022-03-07T15:04:38.312Z"
   },
   {
    "duration": 29,
    "start_time": "2022-03-07T15:04:38.318Z"
   },
   {
    "duration": 321,
    "start_time": "2022-03-07T15:04:38.349Z"
   },
   {
    "duration": 3,
    "start_time": "2022-03-07T15:04:38.672Z"
   },
   {
    "duration": 15,
    "start_time": "2022-03-07T15:04:38.677Z"
   },
   {
    "duration": 10,
    "start_time": "2022-03-07T15:04:38.694Z"
   },
   {
    "duration": 32,
    "start_time": "2022-03-07T15:04:38.706Z"
   },
   {
    "duration": 3,
    "start_time": "2022-03-07T15:04:38.740Z"
   },
   {
    "duration": 16,
    "start_time": "2022-03-07T15:04:38.745Z"
   },
   {
    "duration": 8,
    "start_time": "2022-03-07T15:04:38.763Z"
   },
   {
    "duration": 8,
    "start_time": "2022-03-07T15:04:38.773Z"
   },
   {
    "duration": 3,
    "start_time": "2022-03-07T15:04:38.783Z"
   },
   {
    "duration": 57,
    "start_time": "2022-03-07T15:04:38.788Z"
   },
   {
    "duration": 9,
    "start_time": "2022-03-07T15:04:38.850Z"
   },
   {
    "duration": 9,
    "start_time": "2022-03-07T15:04:38.861Z"
   },
   {
    "duration": 19,
    "start_time": "2022-03-07T15:04:38.871Z"
   },
   {
    "duration": 64,
    "start_time": "2022-03-07T15:04:38.891Z"
   },
   {
    "duration": 2,
    "start_time": "2022-03-07T15:04:38.957Z"
   },
   {
    "duration": 14,
    "start_time": "2022-03-07T15:04:38.961Z"
   },
   {
    "duration": 20,
    "start_time": "2022-03-07T15:04:38.977Z"
   },
   {
    "duration": 53,
    "start_time": "2022-03-07T15:04:38.999Z"
   },
   {
    "duration": 7,
    "start_time": "2022-03-07T15:04:39.054Z"
   },
   {
    "duration": 2,
    "start_time": "2022-03-08T11:59:32.711Z"
   },
   {
    "duration": 208,
    "start_time": "2022-03-08T11:59:35.305Z"
   },
   {
    "duration": 1312,
    "start_time": "2022-03-08T11:59:43.451Z"
   },
   {
    "duration": 91,
    "start_time": "2022-03-08T11:59:44.764Z"
   },
   {
    "duration": 9,
    "start_time": "2022-03-08T11:59:44.857Z"
   },
   {
    "duration": 16,
    "start_time": "2022-03-08T11:59:44.868Z"
   },
   {
    "duration": 57,
    "start_time": "2022-03-08T11:59:44.886Z"
   },
   {
    "duration": 15,
    "start_time": "2022-03-08T11:59:44.945Z"
   },
   {
    "duration": 8,
    "start_time": "2022-03-08T11:59:44.962Z"
   },
   {
    "duration": 6,
    "start_time": "2022-03-08T11:59:44.971Z"
   },
   {
    "duration": 31,
    "start_time": "2022-03-08T11:59:44.979Z"
   },
   {
    "duration": 35120,
    "start_time": "2022-03-08T11:59:45.014Z"
   },
   {
    "duration": 4,
    "start_time": "2022-03-08T12:00:20.136Z"
   },
   {
    "duration": 10,
    "start_time": "2022-03-08T12:00:20.142Z"
   },
   {
    "duration": 14,
    "start_time": "2022-03-08T12:00:20.154Z"
   },
   {
    "duration": 9,
    "start_time": "2022-03-08T12:00:20.169Z"
   },
   {
    "duration": 17,
    "start_time": "2022-03-08T12:00:20.180Z"
   },
   {
    "duration": 19,
    "start_time": "2022-03-08T12:00:20.198Z"
   },
   {
    "duration": 32,
    "start_time": "2022-03-08T12:00:20.219Z"
   },
   {
    "duration": 7,
    "start_time": "2022-03-08T12:00:20.253Z"
   },
   {
    "duration": 30,
    "start_time": "2022-03-08T12:00:20.261Z"
   },
   {
    "duration": 10,
    "start_time": "2022-03-08T12:00:20.292Z"
   },
   {
    "duration": 37,
    "start_time": "2022-03-08T12:00:20.304Z"
   },
   {
    "duration": 24,
    "start_time": "2022-03-08T12:00:20.343Z"
   },
   {
    "duration": 24,
    "start_time": "2022-03-08T12:00:20.369Z"
   },
   {
    "duration": 9,
    "start_time": "2022-03-08T12:00:20.395Z"
   },
   {
    "duration": 19,
    "start_time": "2022-03-08T12:00:20.406Z"
   },
   {
    "duration": 29,
    "start_time": "2022-03-08T12:00:20.426Z"
   },
   {
    "duration": 15,
    "start_time": "2022-03-08T12:00:20.459Z"
   },
   {
    "duration": 12,
    "start_time": "2022-03-08T12:00:20.478Z"
   },
   {
    "duration": 1150,
    "start_time": "2022-03-08T12:00:20.492Z"
   },
   {
    "duration": 10,
    "start_time": "2022-03-08T12:00:21.643Z"
   },
   {
    "duration": 521,
    "start_time": "2022-03-08T12:00:21.655Z"
   },
   {
    "duration": 13,
    "start_time": "2022-03-08T12:00:22.178Z"
   },
   {
    "duration": 848,
    "start_time": "2022-03-08T12:00:22.193Z"
   },
   {
    "duration": 379,
    "start_time": "2022-03-08T12:00:23.042Z"
   },
   {
    "duration": 313,
    "start_time": "2022-03-08T12:00:23.788Z"
   },
   {
    "duration": 8,
    "start_time": "2022-03-08T12:00:24.102Z"
   },
   {
    "duration": 27,
    "start_time": "2022-03-08T12:00:24.111Z"
   },
   {
    "duration": 53,
    "start_time": "2022-03-08T12:00:24.140Z"
   },
   {
    "duration": 296,
    "start_time": "2022-03-08T12:00:24.195Z"
   },
   {
    "duration": 16,
    "start_time": "2022-03-08T12:00:24.493Z"
   },
   {
    "duration": 383,
    "start_time": "2022-03-08T12:00:24.511Z"
   },
   {
    "duration": 4,
    "start_time": "2022-03-08T12:00:24.895Z"
   },
   {
    "duration": 363,
    "start_time": "2022-03-08T12:00:24.901Z"
   },
   {
    "duration": 4,
    "start_time": "2022-03-08T12:00:25.266Z"
   },
   {
    "duration": 273,
    "start_time": "2022-03-08T12:00:25.272Z"
   },
   {
    "duration": -11,
    "start_time": "2022-03-08T12:00:25.558Z"
   },
   {
    "duration": -13,
    "start_time": "2022-03-08T12:00:25.561Z"
   },
   {
    "duration": -30,
    "start_time": "2022-03-08T12:00:25.579Z"
   },
   {
    "duration": -34,
    "start_time": "2022-03-08T12:00:25.584Z"
   },
   {
    "duration": -37,
    "start_time": "2022-03-08T12:00:25.588Z"
   },
   {
    "duration": -40,
    "start_time": "2022-03-08T12:00:25.592Z"
   },
   {
    "duration": -43,
    "start_time": "2022-03-08T12:00:25.596Z"
   },
   {
    "duration": -45,
    "start_time": "2022-03-08T12:00:25.599Z"
   },
   {
    "duration": -47,
    "start_time": "2022-03-08T12:00:25.603Z"
   },
   {
    "duration": -50,
    "start_time": "2022-03-08T12:00:25.607Z"
   },
   {
    "duration": -52,
    "start_time": "2022-03-08T12:00:25.610Z"
   },
   {
    "duration": -55,
    "start_time": "2022-03-08T12:00:25.614Z"
   },
   {
    "duration": -57,
    "start_time": "2022-03-08T12:00:25.617Z"
   },
   {
    "duration": -60,
    "start_time": "2022-03-08T12:00:25.621Z"
   },
   {
    "duration": -62,
    "start_time": "2022-03-08T12:00:25.624Z"
   },
   {
    "duration": -63,
    "start_time": "2022-03-08T12:00:25.627Z"
   },
   {
    "duration": -65,
    "start_time": "2022-03-08T12:00:25.630Z"
   },
   {
    "duration": -67,
    "start_time": "2022-03-08T12:00:25.633Z"
   },
   {
    "duration": -70,
    "start_time": "2022-03-08T12:00:25.637Z"
   },
   {
    "duration": -73,
    "start_time": "2022-03-08T12:00:25.641Z"
   },
   {
    "duration": -75,
    "start_time": "2022-03-08T12:00:25.644Z"
   },
   {
    "duration": -77,
    "start_time": "2022-03-08T12:00:25.647Z"
   },
   {
    "duration": -79,
    "start_time": "2022-03-08T12:00:25.650Z"
   },
   {
    "duration": -81,
    "start_time": "2022-03-08T12:00:25.653Z"
   },
   {
    "duration": -83,
    "start_time": "2022-03-08T12:00:25.656Z"
   },
   {
    "duration": -85,
    "start_time": "2022-03-08T12:00:25.659Z"
   },
   {
    "duration": -88,
    "start_time": "2022-03-08T12:00:25.662Z"
   },
   {
    "duration": -90,
    "start_time": "2022-03-08T12:00:25.665Z"
   },
   {
    "duration": -92,
    "start_time": "2022-03-08T12:00:25.668Z"
   },
   {
    "duration": -107,
    "start_time": "2022-03-08T12:00:25.684Z"
   },
   {
    "duration": -109,
    "start_time": "2022-03-08T12:00:25.687Z"
   },
   {
    "duration": 19,
    "start_time": "2022-03-08T12:00:45.535Z"
   },
   {
    "duration": 327,
    "start_time": "2022-03-08T12:00:48.146Z"
   },
   {
    "duration": 9,
    "start_time": "2022-03-08T12:03:36.660Z"
   },
   {
    "duration": 8,
    "start_time": "2022-03-08T12:03:50.815Z"
   },
   {
    "duration": 21,
    "start_time": "2022-03-08T12:04:10.356Z"
   },
   {
    "duration": 192,
    "start_time": "2022-03-08T12:04:18.520Z"
   },
   {
    "duration": 18,
    "start_time": "2022-03-08T12:05:31.136Z"
   },
   {
    "duration": 19,
    "start_time": "2022-03-08T12:05:43.926Z"
   },
   {
    "duration": 21,
    "start_time": "2022-03-08T12:05:47.910Z"
   },
   {
    "duration": 18,
    "start_time": "2022-03-08T12:05:55.323Z"
   },
   {
    "duration": 18,
    "start_time": "2022-03-08T12:05:58.918Z"
   },
   {
    "duration": 553,
    "start_time": "2022-03-08T12:06:10.043Z"
   },
   {
    "duration": 23,
    "start_time": "2022-03-08T12:06:25.913Z"
   },
   {
    "duration": 189,
    "start_time": "2022-03-08T12:10:17.333Z"
   },
   {
    "duration": 333,
    "start_time": "2022-03-08T12:10:31.274Z"
   },
   {
    "duration": 343,
    "start_time": "2022-03-08T12:11:44.282Z"
   },
   {
    "duration": 401,
    "start_time": "2022-03-08T12:12:02.139Z"
   },
   {
    "duration": 353,
    "start_time": "2022-03-08T12:12:29.092Z"
   },
   {
    "duration": 5,
    "start_time": "2022-03-08T12:12:54.147Z"
   },
   {
    "duration": 485,
    "start_time": "2022-03-08T12:14:16.230Z"
   },
   {
    "duration": 4,
    "start_time": "2022-03-08T12:14:39.572Z"
   },
   {
    "duration": 321,
    "start_time": "2022-03-08T12:17:22.385Z"
   },
   {
    "duration": 333,
    "start_time": "2022-03-08T12:18:08.877Z"
   },
   {
    "duration": 4,
    "start_time": "2022-03-08T12:18:38.979Z"
   },
   {
    "duration": 335,
    "start_time": "2022-03-08T12:20:12.786Z"
   },
   {
    "duration": 4,
    "start_time": "2022-03-08T12:20:43.863Z"
   },
   {
    "duration": 373,
    "start_time": "2022-03-08T12:21:59.873Z"
   },
   {
    "duration": 4,
    "start_time": "2022-03-08T12:22:20.113Z"
   },
   {
    "duration": 343,
    "start_time": "2022-03-08T12:22:54.403Z"
   },
   {
    "duration": 5,
    "start_time": "2022-03-08T12:23:11.309Z"
   },
   {
    "duration": 379,
    "start_time": "2022-03-08T12:23:42.234Z"
   },
   {
    "duration": 365,
    "start_time": "2022-03-08T12:24:35.439Z"
   },
   {
    "duration": 5,
    "start_time": "2022-03-08T12:25:17.881Z"
   },
   {
    "duration": 366,
    "start_time": "2022-03-08T12:25:58.914Z"
   },
   {
    "duration": 5,
    "start_time": "2022-03-08T12:26:36.441Z"
   },
   {
    "duration": 4,
    "start_time": "2022-03-08T12:27:07.107Z"
   },
   {
    "duration": 13,
    "start_time": "2022-03-08T12:28:19.995Z"
   },
   {
    "duration": 302,
    "start_time": "2022-03-08T12:28:25.286Z"
   },
   {
    "duration": 1173,
    "start_time": "2022-03-08T12:28:38.617Z"
   },
   {
    "duration": 671,
    "start_time": "2022-03-08T12:28:39.792Z"
   },
   {
    "duration": 10,
    "start_time": "2022-03-08T12:28:40.467Z"
   },
   {
    "duration": 18,
    "start_time": "2022-03-08T12:28:40.479Z"
   },
   {
    "duration": 54,
    "start_time": "2022-03-08T12:28:40.499Z"
   },
   {
    "duration": 13,
    "start_time": "2022-03-08T12:28:40.555Z"
   },
   {
    "duration": 8,
    "start_time": "2022-03-08T12:28:40.571Z"
   },
   {
    "duration": 5,
    "start_time": "2022-03-08T12:28:40.581Z"
   },
   {
    "duration": 22,
    "start_time": "2022-03-08T12:28:40.587Z"
   },
   {
    "duration": 33268,
    "start_time": "2022-03-08T12:28:40.611Z"
   },
   {
    "duration": 4,
    "start_time": "2022-03-08T12:29:13.881Z"
   },
   {
    "duration": 24,
    "start_time": "2022-03-08T12:29:13.887Z"
   },
   {
    "duration": 14,
    "start_time": "2022-03-08T12:29:13.913Z"
   },
   {
    "duration": 30,
    "start_time": "2022-03-08T12:29:13.929Z"
   },
   {
    "duration": 20,
    "start_time": "2022-03-08T12:29:13.961Z"
   },
   {
    "duration": 47,
    "start_time": "2022-03-08T12:29:13.983Z"
   },
   {
    "duration": 40,
    "start_time": "2022-03-08T12:29:14.031Z"
   },
   {
    "duration": 21,
    "start_time": "2022-03-08T12:29:14.072Z"
   },
   {
    "duration": 29,
    "start_time": "2022-03-08T12:29:14.095Z"
   },
   {
    "duration": 15,
    "start_time": "2022-03-08T12:29:14.126Z"
   },
   {
    "duration": 11,
    "start_time": "2022-03-08T12:29:14.143Z"
   },
   {
    "duration": 24,
    "start_time": "2022-03-08T12:29:14.158Z"
   },
   {
    "duration": 32,
    "start_time": "2022-03-08T12:29:14.185Z"
   },
   {
    "duration": 23,
    "start_time": "2022-03-08T12:29:14.219Z"
   },
   {
    "duration": 29,
    "start_time": "2022-03-08T12:29:14.244Z"
   },
   {
    "duration": 35,
    "start_time": "2022-03-08T12:29:14.275Z"
   },
   {
    "duration": 24,
    "start_time": "2022-03-08T12:29:14.312Z"
   },
   {
    "duration": 25,
    "start_time": "2022-03-08T12:29:14.338Z"
   },
   {
    "duration": 1199,
    "start_time": "2022-03-08T12:29:14.365Z"
   },
   {
    "duration": 11,
    "start_time": "2022-03-08T12:29:15.565Z"
   },
   {
    "duration": 529,
    "start_time": "2022-03-08T12:29:15.577Z"
   },
   {
    "duration": 15,
    "start_time": "2022-03-08T12:29:16.109Z"
   },
   {
    "duration": 837,
    "start_time": "2022-03-08T12:29:16.139Z"
   },
   {
    "duration": 376,
    "start_time": "2022-03-08T12:29:16.979Z"
   },
   {
    "duration": 3,
    "start_time": "2022-03-08T12:29:17.358Z"
   },
   {
    "duration": 23,
    "start_time": "2022-03-08T12:29:17.362Z"
   },
   {
    "duration": 319,
    "start_time": "2022-03-08T12:29:17.387Z"
   },
   {
    "duration": 319,
    "start_time": "2022-03-08T12:29:17.708Z"
   },
   {
    "duration": 14,
    "start_time": "2022-03-08T12:29:18.029Z"
   },
   {
    "duration": 19,
    "start_time": "2022-03-08T12:29:18.044Z"
   },
   {
    "duration": 634,
    "start_time": "2022-03-08T12:29:18.064Z"
   },
   {
    "duration": 21,
    "start_time": "2022-03-08T12:29:18.700Z"
   },
   {
    "duration": 391,
    "start_time": "2022-03-08T12:29:18.723Z"
   },
   {
    "duration": 5,
    "start_time": "2022-03-08T12:29:19.115Z"
   },
   {
    "duration": 390,
    "start_time": "2022-03-08T12:29:19.121Z"
   },
   {
    "duration": 4,
    "start_time": "2022-03-08T12:29:19.513Z"
   },
   {
    "duration": 399,
    "start_time": "2022-03-08T12:29:19.519Z"
   },
   {
    "duration": 4,
    "start_time": "2022-03-08T12:29:19.920Z"
   },
   {
    "duration": 390,
    "start_time": "2022-03-08T12:29:19.925Z"
   },
   {
    "duration": 6,
    "start_time": "2022-03-08T12:29:20.317Z"
   },
   {
    "duration": 390,
    "start_time": "2022-03-08T12:29:20.324Z"
   },
   {
    "duration": 5,
    "start_time": "2022-03-08T12:29:20.716Z"
   },
   {
    "duration": 403,
    "start_time": "2022-03-08T12:29:20.722Z"
   },
   {
    "duration": 11,
    "start_time": "2022-03-08T12:29:21.126Z"
   },
   {
    "duration": 373,
    "start_time": "2022-03-08T12:29:21.139Z"
   },
   {
    "duration": 5,
    "start_time": "2022-03-08T12:29:21.514Z"
   },
   {
    "duration": 382,
    "start_time": "2022-03-08T12:29:21.520Z"
   },
   {
    "duration": 4,
    "start_time": "2022-03-08T12:29:21.904Z"
   },
   {
    "duration": 14,
    "start_time": "2022-03-08T12:29:21.910Z"
   },
   {
    "duration": 314,
    "start_time": "2022-03-08T12:29:21.938Z"
   },
   {
    "duration": 4,
    "start_time": "2022-03-08T12:29:22.253Z"
   },
   {
    "duration": 14,
    "start_time": "2022-03-08T12:29:22.258Z"
   },
   {
    "duration": 9,
    "start_time": "2022-03-08T12:29:22.274Z"
   },
   {
    "duration": 10,
    "start_time": "2022-03-08T12:29:22.284Z"
   },
   {
    "duration": 4,
    "start_time": "2022-03-08T12:29:22.296Z"
   },
   {
    "duration": 137,
    "start_time": "2022-03-08T12:29:22.301Z"
   },
   {
    "duration": 9,
    "start_time": "2022-03-08T12:29:22.443Z"
   },
   {
    "duration": 10,
    "start_time": "2022-03-08T12:29:22.454Z"
   },
   {
    "duration": 3,
    "start_time": "2022-03-08T12:29:22.466Z"
   },
   {
    "duration": 13,
    "start_time": "2022-03-08T12:29:22.470Z"
   },
   {
    "duration": 10,
    "start_time": "2022-03-08T12:29:22.484Z"
   },
   {
    "duration": 47,
    "start_time": "2022-03-08T12:29:22.495Z"
   },
   {
    "duration": 18,
    "start_time": "2022-03-08T12:29:22.543Z"
   },
   {
    "duration": 22,
    "start_time": "2022-03-08T12:29:22.563Z"
   },
   {
    "duration": 2,
    "start_time": "2022-03-08T12:29:22.586Z"
   },
   {
    "duration": 11,
    "start_time": "2022-03-08T12:29:22.590Z"
   },
   {
    "duration": 48,
    "start_time": "2022-03-08T12:29:22.602Z"
   },
   {
    "duration": 19,
    "start_time": "2022-03-08T12:29:22.652Z"
   },
   {
    "duration": 7,
    "start_time": "2022-03-08T12:29:22.672Z"
   }
  ],
  "kernelspec": {
   "display_name": "Python 3 (ipykernel)",
   "language": "python",
   "name": "python3"
  },
  "language_info": {
   "codemirror_mode": {
    "name": "ipython",
    "version": 3
   },
   "file_extension": ".py",
   "mimetype": "text/x-python",
   "name": "python",
   "nbconvert_exporter": "python",
   "pygments_lexer": "ipython3",
   "version": "3.9.12"
  },
  "toc": {
   "base_numbering": 1,
   "nav_menu": {},
   "number_sections": true,
   "sideBar": true,
   "skip_h1_title": true,
   "title_cell": "Table of Contents",
   "title_sidebar": "Contents",
   "toc_cell": false,
   "toc_position": {
    "height": "calc(100% - 180px)",
    "left": "10px",
    "top": "150px",
    "width": "165px"
   },
   "toc_section_display": true,
   "toc_window_display": true
  }
 },
 "nbformat": 4,
 "nbformat_minor": 2
}
