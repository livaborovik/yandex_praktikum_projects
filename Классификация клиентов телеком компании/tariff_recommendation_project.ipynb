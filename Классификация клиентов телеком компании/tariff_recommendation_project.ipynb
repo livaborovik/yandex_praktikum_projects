{
 "cells": [
  {
   "cell_type": "markdown",
   "metadata": {},
   "source": [
    "# Рекомендация тарифов"
   ]
  },
  {
   "cell_type": "markdown",
   "metadata": {},
   "source": [
    "***Цель проекта*** - построить модель, которая будет рекомендовать тот или иной тариф с учетом данных о поведении клиентов телеком компании.\n",
    "\n",
    "***Задачи проекта:***\n",
    "\n",
    "1. Изучить предоставленные данные;\n",
    "2. Провести исследовательский анализ данных;\n",
    "3. Построить несколько рекомендательных моделей и выбрать оптимальный вариант;\n",
    "4. Проверить выбранную модель на адекватность.\n",
    "    "
   ]
  },
  {
   "cell_type": "markdown",
   "metadata": {},
   "source": [
    "## Откройте и изучите файл"
   ]
  },
  {
   "cell_type": "markdown",
   "metadata": {},
   "source": [
    "Для проведения исследования необходимо открыть и изучить файл, что и сделаем."
   ]
  },
  {
   "cell_type": "code",
   "execution_count": 1,
   "metadata": {},
   "outputs": [],
   "source": [
    "#подключаем все необходимые пакеты\n",
    "\n",
    "import pandas as pd\n",
    "import numpy as np\n",
    "from sklearn.tree import DecisionTreeClassifier\n",
    "from sklearn.metrics import accuracy_score\n",
    "from sklearn.ensemble import RandomForestClassifier\n",
    "from sklearn.linear_model import LogisticRegression\n",
    "from sklearn.model_selection import train_test_split\n",
    "from sklearn.neighbors import KNeighborsClassifier\n",
    "from sklearn.dummy import DummyClassifier\n",
    "import matplotlib.pyplot as plt"
   ]
  },
  {
   "cell_type": "code",
   "execution_count": 2,
   "metadata": {},
   "outputs": [
    {
     "data": {
      "text/html": [
       "<div>\n",
       "<style scoped>\n",
       "    .dataframe tbody tr th:only-of-type {\n",
       "        vertical-align: middle;\n",
       "    }\n",
       "\n",
       "    .dataframe tbody tr th {\n",
       "        vertical-align: top;\n",
       "    }\n",
       "\n",
       "    .dataframe thead th {\n",
       "        text-align: right;\n",
       "    }\n",
       "</style>\n",
       "<table border=\"1\" class=\"dataframe\">\n",
       "  <thead>\n",
       "    <tr style=\"text-align: right;\">\n",
       "      <th></th>\n",
       "      <th>calls</th>\n",
       "      <th>minutes</th>\n",
       "      <th>messages</th>\n",
       "      <th>mb_used</th>\n",
       "      <th>is_ultra</th>\n",
       "    </tr>\n",
       "  </thead>\n",
       "  <tbody>\n",
       "    <tr>\n",
       "      <th>0</th>\n",
       "      <td>40.0</td>\n",
       "      <td>311.90</td>\n",
       "      <td>83.0</td>\n",
       "      <td>19915.42</td>\n",
       "      <td>0</td>\n",
       "    </tr>\n",
       "    <tr>\n",
       "      <th>1</th>\n",
       "      <td>85.0</td>\n",
       "      <td>516.75</td>\n",
       "      <td>56.0</td>\n",
       "      <td>22696.96</td>\n",
       "      <td>0</td>\n",
       "    </tr>\n",
       "    <tr>\n",
       "      <th>2</th>\n",
       "      <td>77.0</td>\n",
       "      <td>467.66</td>\n",
       "      <td>86.0</td>\n",
       "      <td>21060.45</td>\n",
       "      <td>0</td>\n",
       "    </tr>\n",
       "    <tr>\n",
       "      <th>3</th>\n",
       "      <td>106.0</td>\n",
       "      <td>745.53</td>\n",
       "      <td>81.0</td>\n",
       "      <td>8437.39</td>\n",
       "      <td>1</td>\n",
       "    </tr>\n",
       "    <tr>\n",
       "      <th>4</th>\n",
       "      <td>66.0</td>\n",
       "      <td>418.74</td>\n",
       "      <td>1.0</td>\n",
       "      <td>14502.75</td>\n",
       "      <td>0</td>\n",
       "    </tr>\n",
       "    <tr>\n",
       "      <th>5</th>\n",
       "      <td>58.0</td>\n",
       "      <td>344.56</td>\n",
       "      <td>21.0</td>\n",
       "      <td>15823.37</td>\n",
       "      <td>0</td>\n",
       "    </tr>\n",
       "    <tr>\n",
       "      <th>6</th>\n",
       "      <td>57.0</td>\n",
       "      <td>431.64</td>\n",
       "      <td>20.0</td>\n",
       "      <td>3738.90</td>\n",
       "      <td>1</td>\n",
       "    </tr>\n",
       "    <tr>\n",
       "      <th>7</th>\n",
       "      <td>15.0</td>\n",
       "      <td>132.40</td>\n",
       "      <td>6.0</td>\n",
       "      <td>21911.60</td>\n",
       "      <td>0</td>\n",
       "    </tr>\n",
       "    <tr>\n",
       "      <th>8</th>\n",
       "      <td>7.0</td>\n",
       "      <td>43.39</td>\n",
       "      <td>3.0</td>\n",
       "      <td>2538.67</td>\n",
       "      <td>1</td>\n",
       "    </tr>\n",
       "    <tr>\n",
       "      <th>9</th>\n",
       "      <td>90.0</td>\n",
       "      <td>665.41</td>\n",
       "      <td>38.0</td>\n",
       "      <td>17358.61</td>\n",
       "      <td>0</td>\n",
       "    </tr>\n",
       "  </tbody>\n",
       "</table>\n",
       "</div>"
      ],
      "text/plain": [
       "   calls  minutes  messages   mb_used  is_ultra\n",
       "0   40.0   311.90      83.0  19915.42         0\n",
       "1   85.0   516.75      56.0  22696.96         0\n",
       "2   77.0   467.66      86.0  21060.45         0\n",
       "3  106.0   745.53      81.0   8437.39         1\n",
       "4   66.0   418.74       1.0  14502.75         0\n",
       "5   58.0   344.56      21.0  15823.37         0\n",
       "6   57.0   431.64      20.0   3738.90         1\n",
       "7   15.0   132.40       6.0  21911.60         0\n",
       "8    7.0    43.39       3.0   2538.67         1\n",
       "9   90.0   665.41      38.0  17358.61         0"
      ]
     },
     "execution_count": 2,
     "metadata": {},
     "output_type": "execute_result"
    }
   ],
   "source": [
    "#откроем файл\n",
    "\n",
    "df = pd.read_csv('/datasets/users_behavior.csv')\n",
    "\n",
    "#выведем первые 10 строк на экран\n",
    "\n",
    "df.head(10)"
   ]
  },
  {
   "cell_type": "code",
   "execution_count": 3,
   "metadata": {},
   "outputs": [
    {
     "name": "stdout",
     "output_type": "stream",
     "text": [
      "<class 'pandas.core.frame.DataFrame'>\n",
      "RangeIndex: 3214 entries, 0 to 3213\n",
      "Data columns (total 5 columns):\n",
      " #   Column    Non-Null Count  Dtype  \n",
      "---  ------    --------------  -----  \n",
      " 0   calls     3214 non-null   float64\n",
      " 1   minutes   3214 non-null   float64\n",
      " 2   messages  3214 non-null   float64\n",
      " 3   mb_used   3214 non-null   float64\n",
      " 4   is_ultra  3214 non-null   int64  \n",
      "dtypes: float64(4), int64(1)\n",
      "memory usage: 125.7 KB\n"
     ]
    }
   ],
   "source": [
    "#изучим информацию о датасете\n",
    "\n",
    "df.info()"
   ]
  },
  {
   "cell_type": "markdown",
   "metadata": {},
   "source": [
    "### Вывод"
   ]
  },
  {
   "cell_type": "markdown",
   "metadata": {},
   "source": [
    "Файл открыт, изучен, данные готовы для разделения на три выборки."
   ]
  },
  {
   "cell_type": "markdown",
   "metadata": {},
   "source": [
    "## Анализ влияния факторов, включаемых в модель"
   ]
  },
  {
   "cell_type": "markdown",
   "metadata": {},
   "source": [
    "### Исследование зависимости включенных в тарифы услуг"
   ]
  },
  {
   "cell_type": "markdown",
   "metadata": {},
   "source": [
    "Для того, чтобы понять, нужно ли включать в модель те или иные данные, изучим зависят ли количественные данные друг от друга. \n",
    "Для начала изучим влияет ли количество звонков на общую длительность. Предположим, что чем больше звонков, тем дольше общая продолжительность разговоров, но это не точно, поэтому построим график рассеивания."
   ]
  },
  {
   "cell_type": "code",
   "execution_count": 4,
   "metadata": {},
   "outputs": [
    {
     "data": {
      "image/png": "[encoded data removed]",
      "text/plain": [
       "<Figure size 648x648 with 1 Axes>"
      ]
     },
     "metadata": {
      "needs_background": "light"
     },
     "output_type": "display_data"
    }
   ],
   "source": [
    "#построим график рассеивания, показывающий зависимость общей продолжительности разговоров от \n",
    "#количества звонков\n",
    "\n",
    "#зададим все необходимые параметры\n",
    "\n",
    "df.plot(kind='scatter', x = 'minutes', y = 'calls', figsize = (9,9), alpha = 0.7, \n",
    "       title = 'Влияние количества звонков на общую продолжительность разговоров')\n",
    "\n",
    "#зададим подписи осей\n",
    "\n",
    "plt.xlabel('Количество минут')\n",
    "plt.ylabel('Количество звонков, шт.')\n",
    "\n",
    "#выведем график на экран\n",
    "\n",
    "plt.show()"
   ]
  },
  {
   "cell_type": "markdown",
   "metadata": {},
   "source": [
    "Исходя из графика видно, что количество звонко в вмесяц и общая продолжительность разговоров зависит линейно. Для того, чтобы оценить корреляцию численно, рассчитаем коэффициент корреляции."
   ]
  },
  {
   "cell_type": "code",
   "execution_count": 5,
   "metadata": {},
   "outputs": [
    {
     "name": "stdout",
     "output_type": "stream",
     "text": [
      "Коэффициент корреляции между количеством звонков и общей продолжительностью разговоров: 0.98\n"
     ]
    }
   ],
   "source": [
    "#посчитаем коэффициент корреляции между количеством звонков и общей продолжительностью разговоров\n",
    "\n",
    "print('Коэффициент корреляции между количеством звонков и общей продолжительностью разговоров:', df['minutes'].corr(df['calls']).round(2))"
   ]
  },
  {
   "cell_type": "markdown",
   "metadata": {},
   "source": [
    "Как мы видим, общая продолжительность звонков действительно увеличивается с количеством звонков, поэтому этот фактор точно нужно учитывать при построении модели.\n",
    "\n",
    "Аналогично изучим влияние количества звонков на количество отправленных сообщений, количества звонков на объем использованного интернет-трафика, зависимость между количеством минут и отправленными сообщениями и т.д. со всеми количественными данными."
   ]
  },
  {
   "cell_type": "code",
   "execution_count": 6,
   "metadata": {},
   "outputs": [
    {
     "data": {
      "image/png": "[encoded data removed]",
      "text/plain": [
       "<Figure size 648x648 with 1 Axes>"
      ]
     },
     "metadata": {
      "needs_background": "light"
     },
     "output_type": "display_data"
    }
   ],
   "source": [
    "#построим график рассеивания, показывающий зависимость количества отправленных сообщений от \n",
    "#количества звонков\n",
    "\n",
    "#зададим все необходимые параметры\n",
    "\n",
    "df.plot(kind='scatter', x = 'minutes', y = 'messages', figsize = (9,9), alpha = 0.7, \n",
    "       title = 'Влияние количества звонков на количество отправленных сообщений')\n",
    "\n",
    "#зададим подписи осей\n",
    "\n",
    "plt.xlabel('Количество минут')\n",
    "plt.ylabel('Количество сообщений, шт.')\n",
    "\n",
    "#выведем график на экран\n",
    "\n",
    "plt.show()"
   ]
  },
  {
   "cell_type": "markdown",
   "metadata": {},
   "source": [
    "Как мы видим, есть часть абонентов, которые не отправляют сообщений и не звонят, поэтому для корректного расчета коэффициента корреляции, исключим их из анализа."
   ]
  },
  {
   "cell_type": "code",
   "execution_count": 7,
   "metadata": {},
   "outputs": [
    {
     "data": {
      "text/html": [
       "<div>\n",
       "<style scoped>\n",
       "    .dataframe tbody tr th:only-of-type {\n",
       "        vertical-align: middle;\n",
       "    }\n",
       "\n",
       "    .dataframe tbody tr th {\n",
       "        vertical-align: top;\n",
       "    }\n",
       "\n",
       "    .dataframe thead th {\n",
       "        text-align: right;\n",
       "    }\n",
       "</style>\n",
       "<table border=\"1\" class=\"dataframe\">\n",
       "  <thead>\n",
       "    <tr style=\"text-align: right;\">\n",
       "      <th></th>\n",
       "      <th>calls</th>\n",
       "      <th>minutes</th>\n",
       "      <th>messages</th>\n",
       "      <th>mb_used</th>\n",
       "      <th>is_ultra</th>\n",
       "    </tr>\n",
       "  </thead>\n",
       "  <tbody>\n",
       "    <tr>\n",
       "      <th>0</th>\n",
       "      <td>40.0</td>\n",
       "      <td>311.90</td>\n",
       "      <td>83.0</td>\n",
       "      <td>19915.42</td>\n",
       "      <td>0</td>\n",
       "    </tr>\n",
       "    <tr>\n",
       "      <th>1</th>\n",
       "      <td>85.0</td>\n",
       "      <td>516.75</td>\n",
       "      <td>56.0</td>\n",
       "      <td>22696.96</td>\n",
       "      <td>0</td>\n",
       "    </tr>\n",
       "    <tr>\n",
       "      <th>2</th>\n",
       "      <td>77.0</td>\n",
       "      <td>467.66</td>\n",
       "      <td>86.0</td>\n",
       "      <td>21060.45</td>\n",
       "      <td>0</td>\n",
       "    </tr>\n",
       "    <tr>\n",
       "      <th>3</th>\n",
       "      <td>106.0</td>\n",
       "      <td>745.53</td>\n",
       "      <td>81.0</td>\n",
       "      <td>8437.39</td>\n",
       "      <td>1</td>\n",
       "    </tr>\n",
       "    <tr>\n",
       "      <th>4</th>\n",
       "      <td>66.0</td>\n",
       "      <td>418.74</td>\n",
       "      <td>1.0</td>\n",
       "      <td>14502.75</td>\n",
       "      <td>0</td>\n",
       "    </tr>\n",
       "    <tr>\n",
       "      <th>5</th>\n",
       "      <td>58.0</td>\n",
       "      <td>344.56</td>\n",
       "      <td>21.0</td>\n",
       "      <td>15823.37</td>\n",
       "      <td>0</td>\n",
       "    </tr>\n",
       "    <tr>\n",
       "      <th>6</th>\n",
       "      <td>57.0</td>\n",
       "      <td>431.64</td>\n",
       "      <td>20.0</td>\n",
       "      <td>3738.90</td>\n",
       "      <td>1</td>\n",
       "    </tr>\n",
       "    <tr>\n",
       "      <th>7</th>\n",
       "      <td>15.0</td>\n",
       "      <td>132.40</td>\n",
       "      <td>6.0</td>\n",
       "      <td>21911.60</td>\n",
       "      <td>0</td>\n",
       "    </tr>\n",
       "    <tr>\n",
       "      <th>8</th>\n",
       "      <td>7.0</td>\n",
       "      <td>43.39</td>\n",
       "      <td>3.0</td>\n",
       "      <td>2538.67</td>\n",
       "      <td>1</td>\n",
       "    </tr>\n",
       "    <tr>\n",
       "      <th>9</th>\n",
       "      <td>90.0</td>\n",
       "      <td>665.41</td>\n",
       "      <td>38.0</td>\n",
       "      <td>17358.61</td>\n",
       "      <td>0</td>\n",
       "    </tr>\n",
       "  </tbody>\n",
       "</table>\n",
       "</div>"
      ],
      "text/plain": [
       "   calls  minutes  messages   mb_used  is_ultra\n",
       "0   40.0   311.90      83.0  19915.42         0\n",
       "1   85.0   516.75      56.0  22696.96         0\n",
       "2   77.0   467.66      86.0  21060.45         0\n",
       "3  106.0   745.53      81.0   8437.39         1\n",
       "4   66.0   418.74       1.0  14502.75         0\n",
       "5   58.0   344.56      21.0  15823.37         0\n",
       "6   57.0   431.64      20.0   3738.90         1\n",
       "7   15.0   132.40       6.0  21911.60         0\n",
       "8    7.0    43.39       3.0   2538.67         1\n",
       "9   90.0   665.41      38.0  17358.61         0"
      ]
     },
     "execution_count": 7,
     "metadata": {},
     "output_type": "execute_result"
    }
   ],
   "source": [
    "#сделаем срез абонентов, которые отправляют сообщения и совершают звонки, и \n",
    "#сохраним данные в новом датасете df_messages_calls\n",
    "\n",
    "df_messages_calls = df.query('messages != 0 and minutes !=0')\n",
    "\n",
    "#выведем первые 10 строк датасета на экран\n",
    "\n",
    "df_messages_calls.head(10)"
   ]
  },
  {
   "cell_type": "markdown",
   "metadata": {},
   "source": [
    "Теперь еще раз построим график зависимости количества отправленных сообщений от количества минут с учетом новых данных."
   ]
  },
  {
   "cell_type": "code",
   "execution_count": 8,
   "metadata": {},
   "outputs": [
    {
     "data": {
      "image/png": "[encoded data removed]",
      "text/plain": [
       "<Figure size 648x648 with 1 Axes>"
      ]
     },
     "metadata": {
      "needs_background": "light"
     },
     "output_type": "display_data"
    }
   ],
   "source": [
    "#построим график рассеивания, показывающий зависимость количества отправленных сообщений от \n",
    "#количества звонков\n",
    "\n",
    "#зададим все необходимые параметры\n",
    "\n",
    "df_messages_calls.plot(kind='scatter', x = 'calls', y = 'messages', figsize = (9,9), alpha = 0.7, \n",
    "       title = 'Влияние количества звонков на количество отправленных сообщений')\n",
    "\n",
    "#зададим подписи осей\n",
    "\n",
    "plt.xlabel('Количество звонков')\n",
    "plt.ylabel('Количество сообщений, шт.')\n",
    "\n",
    "#выведем график на экран\n",
    "\n",
    "plt.show()"
   ]
  },
  {
   "cell_type": "code",
   "execution_count": 9,
   "metadata": {},
   "outputs": [
    {
     "name": "stdout",
     "output_type": "stream",
     "text": [
      "Коэффициент корреляции между количеством звонков и количеством отправленных сообщений: 0.18\n"
     ]
    }
   ],
   "source": [
    "#посчитаем коэффициент корреляции между количеством звонков и количеством отправленных сообщений\n",
    "\n",
    "print('Коэффициент корреляции между количеством звонков и количеством отправленных сообщений:', df['calls'].corr(df['messages']).round(2))"
   ]
  },
  {
   "cell_type": "markdown",
   "metadata": {},
   "source": [
    "Как мы видим, корреляция между количеством минут разговора и количеством отправленных сообщений слабая. Предположим, что есть абоненты, которые не пользуются интернетом, исключим их из анализа."
   ]
  },
  {
   "cell_type": "code",
   "execution_count": 10,
   "metadata": {},
   "outputs": [
    {
     "data": {
      "text/html": [
       "<div>\n",
       "<style scoped>\n",
       "    .dataframe tbody tr th:only-of-type {\n",
       "        vertical-align: middle;\n",
       "    }\n",
       "\n",
       "    .dataframe tbody tr th {\n",
       "        vertical-align: top;\n",
       "    }\n",
       "\n",
       "    .dataframe thead th {\n",
       "        text-align: right;\n",
       "    }\n",
       "</style>\n",
       "<table border=\"1\" class=\"dataframe\">\n",
       "  <thead>\n",
       "    <tr style=\"text-align: right;\">\n",
       "      <th></th>\n",
       "      <th>calls</th>\n",
       "      <th>minutes</th>\n",
       "      <th>messages</th>\n",
       "      <th>mb_used</th>\n",
       "      <th>is_ultra</th>\n",
       "    </tr>\n",
       "  </thead>\n",
       "  <tbody>\n",
       "    <tr>\n",
       "      <th>0</th>\n",
       "      <td>40.0</td>\n",
       "      <td>311.90</td>\n",
       "      <td>83.0</td>\n",
       "      <td>19915.42</td>\n",
       "      <td>0</td>\n",
       "    </tr>\n",
       "    <tr>\n",
       "      <th>1</th>\n",
       "      <td>85.0</td>\n",
       "      <td>516.75</td>\n",
       "      <td>56.0</td>\n",
       "      <td>22696.96</td>\n",
       "      <td>0</td>\n",
       "    </tr>\n",
       "    <tr>\n",
       "      <th>2</th>\n",
       "      <td>77.0</td>\n",
       "      <td>467.66</td>\n",
       "      <td>86.0</td>\n",
       "      <td>21060.45</td>\n",
       "      <td>0</td>\n",
       "    </tr>\n",
       "    <tr>\n",
       "      <th>3</th>\n",
       "      <td>106.0</td>\n",
       "      <td>745.53</td>\n",
       "      <td>81.0</td>\n",
       "      <td>8437.39</td>\n",
       "      <td>1</td>\n",
       "    </tr>\n",
       "    <tr>\n",
       "      <th>4</th>\n",
       "      <td>66.0</td>\n",
       "      <td>418.74</td>\n",
       "      <td>1.0</td>\n",
       "      <td>14502.75</td>\n",
       "      <td>0</td>\n",
       "    </tr>\n",
       "    <tr>\n",
       "      <th>5</th>\n",
       "      <td>58.0</td>\n",
       "      <td>344.56</td>\n",
       "      <td>21.0</td>\n",
       "      <td>15823.37</td>\n",
       "      <td>0</td>\n",
       "    </tr>\n",
       "    <tr>\n",
       "      <th>6</th>\n",
       "      <td>57.0</td>\n",
       "      <td>431.64</td>\n",
       "      <td>20.0</td>\n",
       "      <td>3738.90</td>\n",
       "      <td>1</td>\n",
       "    </tr>\n",
       "    <tr>\n",
       "      <th>7</th>\n",
       "      <td>15.0</td>\n",
       "      <td>132.40</td>\n",
       "      <td>6.0</td>\n",
       "      <td>21911.60</td>\n",
       "      <td>0</td>\n",
       "    </tr>\n",
       "    <tr>\n",
       "      <th>8</th>\n",
       "      <td>7.0</td>\n",
       "      <td>43.39</td>\n",
       "      <td>3.0</td>\n",
       "      <td>2538.67</td>\n",
       "      <td>1</td>\n",
       "    </tr>\n",
       "    <tr>\n",
       "      <th>9</th>\n",
       "      <td>90.0</td>\n",
       "      <td>665.41</td>\n",
       "      <td>38.0</td>\n",
       "      <td>17358.61</td>\n",
       "      <td>0</td>\n",
       "    </tr>\n",
       "  </tbody>\n",
       "</table>\n",
       "</div>"
      ],
      "text/plain": [
       "   calls  minutes  messages   mb_used  is_ultra\n",
       "0   40.0   311.90      83.0  19915.42         0\n",
       "1   85.0   516.75      56.0  22696.96         0\n",
       "2   77.0   467.66      86.0  21060.45         0\n",
       "3  106.0   745.53      81.0   8437.39         1\n",
       "4   66.0   418.74       1.0  14502.75         0\n",
       "5   58.0   344.56      21.0  15823.37         0\n",
       "6   57.0   431.64      20.0   3738.90         1\n",
       "7   15.0   132.40       6.0  21911.60         0\n",
       "8    7.0    43.39       3.0   2538.67         1\n",
       "9   90.0   665.41      38.0  17358.61         0"
      ]
     },
     "execution_count": 10,
     "metadata": {},
     "output_type": "execute_result"
    }
   ],
   "source": [
    "#сделаем срез абонентов, которые пользуются всеми телекомунникационными услугами и сохраним \n",
    "#результат в датасете df_total\n",
    "\n",
    "df_total = df_messages_calls.query('mb_used !=0')\n",
    "\n",
    "#выведем первые 10 строк датасета на экран\n",
    "\n",
    "df_total .head(10)"
   ]
  },
  {
   "cell_type": "code",
   "execution_count": 11,
   "metadata": {},
   "outputs": [
    {
     "data": {
      "image/png": "[encoded data removed]",
      "text/plain": [
       "<Figure size 648x648 with 1 Axes>"
      ]
     },
     "metadata": {
      "needs_background": "light"
     },
     "output_type": "display_data"
    }
   ],
   "source": [
    "#построим график рассеивания, показывающий зависимость объема использованного интернет-трафика от \n",
    "#количества звонков\n",
    "\n",
    "#зададим все необходимые параметры\n",
    "\n",
    "df_total.plot(kind='scatter', x = 'calls', y = 'mb_used', figsize = (9,9), alpha = 0.7, \n",
    "       title = 'Влияние количества звонков на объем использованного интернет-трафика')\n",
    "\n",
    "#зададим подписи осей\n",
    "\n",
    "plt.xlabel('Количество звонков')\n",
    "plt.ylabel('Объем использованного интернет-трафика, Гб')\n",
    "\n",
    "#выведем график на экран\n",
    "\n",
    "plt.show()"
   ]
  },
  {
   "cell_type": "code",
   "execution_count": 12,
   "metadata": {},
   "outputs": [
    {
     "name": "stdout",
     "output_type": "stream",
     "text": [
      "Коэффициент корреляции между количеством звонков и объемом использованного интернет-трафика: 0.29\n"
     ]
    }
   ],
   "source": [
    "#посчитаем коэффициент корреляции между количеством звонков и объемом использованного интернет-трафика\n",
    "\n",
    "print('Коэффициент корреляции между количеством звонков и объемом использованного интернет-трафика:', df['calls'].corr(df['mb_used']).round(2))"
   ]
  },
  {
   "cell_type": "markdown",
   "metadata": {},
   "source": [
    "Как мы видим, корреляция между количеством минут разговора и объемом использованного инетнет-трафика также слабая."
   ]
  },
  {
   "cell_type": "code",
   "execution_count": 13,
   "metadata": {},
   "outputs": [
    {
     "data": {
      "image/png": "[encoded data removed]",
      "text/plain": [
       "<Figure size 648x648 with 1 Axes>"
      ]
     },
     "metadata": {
      "needs_background": "light"
     },
     "output_type": "display_data"
    }
   ],
   "source": [
    "#построим график рассеивания, показывающий зависимость количества минут от количества \n",
    "#отправленных сообщений\n",
    "\n",
    "#зададим все необходимые параметры\n",
    "\n",
    "df_total.plot(kind='scatter', x = 'minutes', y = 'messages', figsize = (9,9), alpha = 0.7, \n",
    "       title = 'Влияние количества минут на количество отправленных сообщений')\n",
    " \n",
    "#зададим подписи осей\n",
    "\n",
    "plt.xlabel('Количество минут')\n",
    "plt.ylabel('Количество отправленных сообщений, шт.')\n",
    "\n",
    "#выведем график на экран\n",
    "\n",
    "plt.show()"
   ]
  },
  {
   "cell_type": "code",
   "execution_count": 14,
   "metadata": {},
   "outputs": [
    {
     "name": "stdout",
     "output_type": "stream",
     "text": [
      "Коэффициент корреляции между количеством минут и количеством отправленных сообщений: 0.17\n"
     ]
    }
   ],
   "source": [
    "#посчитаем коэффициент корреляции между количеством минут и количеством отправленных сообщений\n",
    "\n",
    "print('Коэффициент корреляции между количеством минут и количеством отправленных сообщений:', df['minutes'].corr(df['messages']).round(2))"
   ]
  },
  {
   "cell_type": "markdown",
   "metadata": {},
   "source": [
    "Как видно исходя из графика и значения коэффициента корреляции, зависимость между количеством минут и количеством отправленных сообщений слабая."
   ]
  },
  {
   "cell_type": "code",
   "execution_count": 15,
   "metadata": {},
   "outputs": [
    {
     "data": {
      "image/png": "[encoded data removed]",
      "text/plain": [
       "<Figure size 648x648 with 1 Axes>"
      ]
     },
     "metadata": {
      "needs_background": "light"
     },
     "output_type": "display_data"
    }
   ],
   "source": [
    "#построим график рассеивания, показывающий зависимость количества минут от объема использованного \n",
    "#интернет-трафика\n",
    "\n",
    "#зададим все необходимые параметры\n",
    "\n",
    "df_total.plot(kind='scatter', x = 'minutes', y = 'mb_used', figsize = (9,9), alpha = 0.7, \n",
    "       title = 'Влияние количества минут на объем использованного интернет-трафика')\n",
    "\n",
    "#зададим подписи осей\n",
    "\n",
    "plt.xlabel('Количество минут')\n",
    "plt.ylabel('Объем использованного интернет-трафика, Гб')\n",
    "\n",
    "#выведем график на экран\n",
    "\n",
    "plt.show()"
   ]
  },
  {
   "cell_type": "code",
   "execution_count": 16,
   "metadata": {},
   "outputs": [
    {
     "name": "stdout",
     "output_type": "stream",
     "text": [
      "Коэффициент корреляции между количеством минут и объемом использованного интернет-трафика: 0.28\n"
     ]
    }
   ],
   "source": [
    "#посчитаем коэффициент корреляции между количеством минут и объемом использованного интернет-трафика\n",
    "\n",
    "print('Коэффициент корреляции между количеством минут и объемом использованного интернет-трафика:', df['minutes'].corr(df['mb_used']).round(2))"
   ]
  },
  {
   "cell_type": "markdown",
   "metadata": {},
   "source": [
    "Как видно исходя из графика и значения коэффициента корреляции, зависимостьмежду количеством минут и объемом использованного интернет-трафика слабая."
   ]
  },
  {
   "cell_type": "code",
   "execution_count": 17,
   "metadata": {},
   "outputs": [
    {
     "data": {
      "image/png": "[encoded data removed]",
      "text/plain": [
       "<Figure size 648x648 with 1 Axes>"
      ]
     },
     "metadata": {
      "needs_background": "light"
     },
     "output_type": "display_data"
    }
   ],
   "source": [
    "#построим график рассеивания, показывающий зависимость объема использованного интернет-трафика\n",
    "# от количества отправленных сообщений\n",
    "\n",
    "#зададим все необходимые параметры\n",
    "\n",
    "df_total.plot(kind='scatter', x = 'messages', y = 'mb_used', figsize = (9,9), alpha = 0.7, \n",
    "       title = 'Влияние количества отправленных сообщений на объем использованного интернет-трафика')\n",
    "\n",
    "#зададим подписи осей\n",
    "\n",
    "plt.xlabel('Количество сообщений, шт.')\n",
    "plt.ylabel('Объем использованного интернет-трафика, Гб')\n",
    "\n",
    "#выведем график на экран\n",
    "\n",
    "plt.show()"
   ]
  },
  {
   "cell_type": "code",
   "execution_count": 18,
   "metadata": {},
   "outputs": [
    {
     "name": "stdout",
     "output_type": "stream",
     "text": [
      "Коэффициент корреляции между количеством минут и объемом использованного интернет-трафика: 0.2\n"
     ]
    }
   ],
   "source": [
    "#посчитаем коэффициент корреляции между количеством минут и объемом использованного интернет-трафика\n",
    "\n",
    "print('Коэффициент корреляции между количеством минут и объемом использованного интернет-трафика:', df['messages'].corr(df['mb_used']).round(2))"
   ]
  },
  {
   "cell_type": "markdown",
   "metadata": {},
   "source": [
    "График и коэффициент корреляции гооврит нам о том, что зависимость между количеством минут и объемом использованного интернет-трафика слабая."
   ]
  },
  {
   "cell_type": "markdown",
   "metadata": {},
   "source": [
    "### Вывод"
   ]
  },
  {
   "cell_type": "markdown",
   "metadata": {},
   "source": [
    "Исходя из проведенного анализа зависимости количественных показателей друг от друга, выяснилось, что только количество звонков оказывает существенное влияние на общую продолжительность потраченных минут, что логично. Остальные факторы не оказывают существенного влияния, поэтому можно исключить их из данных, необходимых для построения модели."
   ]
  },
  {
   "cell_type": "markdown",
   "metadata": {},
   "source": [
    "## Разбейте данные на выборки"
   ]
  },
  {
   "cell_type": "markdown",
   "metadata": {},
   "source": [
    "Разобьём данные на три выборки: тренировочную, валидационную и тестовую в соотношении 3:1:1. В качестве признаков выберем все столбцы, кроме того, который содержит информацию о тарифе. В качестве целевого признака - наоборот, возьмем столбец с булевыми значениями 'is_ultra'."
   ]
  },
  {
   "cell_type": "code",
   "execution_count": 19,
   "metadata": {},
   "outputs": [],
   "source": [
    "#выделим признаки для построения модели\n",
    "\n",
    "features = df.drop(['is_ultra','messages','mb_used'],axis=1)\n",
    "\n",
    "#выделим целевой признак\n",
    "\n",
    "target = df['is_ultra']"
   ]
  },
  {
   "cell_type": "code",
   "execution_count": 20,
   "metadata": {},
   "outputs": [],
   "source": [
    "#разделим данные на три выборки\n",
    "\n",
    "df_train, df_valid, df_test = np.split(df, [int(.6*len(df)), int(.8*len(df))])"
   ]
  },
  {
   "cell_type": "code",
   "execution_count": 21,
   "metadata": {},
   "outputs": [
    {
     "name": "stdout",
     "output_type": "stream",
     "text": [
      "<class 'pandas.core.frame.DataFrame'>\n",
      "RangeIndex: 1928 entries, 0 to 1927\n",
      "Data columns (total 5 columns):\n",
      " #   Column    Non-Null Count  Dtype  \n",
      "---  ------    --------------  -----  \n",
      " 0   calls     1928 non-null   float64\n",
      " 1   minutes   1928 non-null   float64\n",
      " 2   messages  1928 non-null   float64\n",
      " 3   mb_used   1928 non-null   float64\n",
      " 4   is_ultra  1928 non-null   int64  \n",
      "dtypes: float64(4), int64(1)\n",
      "memory usage: 75.4 KB\n"
     ]
    }
   ],
   "source": [
    "#проверим корректно ли разделились данные \n",
    "\n",
    "df_train.info()"
   ]
  },
  {
   "cell_type": "code",
   "execution_count": 22,
   "metadata": {},
   "outputs": [
    {
     "name": "stdout",
     "output_type": "stream",
     "text": [
      "<class 'pandas.core.frame.DataFrame'>\n",
      "RangeIndex: 643 entries, 1928 to 2570\n",
      "Data columns (total 5 columns):\n",
      " #   Column    Non-Null Count  Dtype  \n",
      "---  ------    --------------  -----  \n",
      " 0   calls     643 non-null    float64\n",
      " 1   minutes   643 non-null    float64\n",
      " 2   messages  643 non-null    float64\n",
      " 3   mb_used   643 non-null    float64\n",
      " 4   is_ultra  643 non-null    int64  \n",
      "dtypes: float64(4), int64(1)\n",
      "memory usage: 25.2 KB\n"
     ]
    }
   ],
   "source": [
    "#проверим корректно ли разделились данные \n",
    "\n",
    "df_valid.info()"
   ]
  },
  {
   "cell_type": "code",
   "execution_count": 23,
   "metadata": {},
   "outputs": [
    {
     "name": "stdout",
     "output_type": "stream",
     "text": [
      "<class 'pandas.core.frame.DataFrame'>\n",
      "RangeIndex: 643 entries, 2571 to 3213\n",
      "Data columns (total 5 columns):\n",
      " #   Column    Non-Null Count  Dtype  \n",
      "---  ------    --------------  -----  \n",
      " 0   calls     643 non-null    float64\n",
      " 1   minutes   643 non-null    float64\n",
      " 2   messages  643 non-null    float64\n",
      " 3   mb_used   643 non-null    float64\n",
      " 4   is_ultra  643 non-null    int64  \n",
      "dtypes: float64(4), int64(1)\n",
      "memory usage: 25.2 KB\n"
     ]
    }
   ],
   "source": [
    "#проверим корректно ли разделились данные \n",
    "\n",
    "df_test.info()"
   ]
  },
  {
   "cell_type": "markdown",
   "metadata": {},
   "source": [
    "### Вывод"
   ]
  },
  {
   "cell_type": "markdown",
   "metadata": {},
   "source": [
    "Данные разделены на выборки и готовы к построению моделей машинного обучения."
   ]
  },
  {
   "cell_type": "markdown",
   "metadata": {},
   "source": [
    "## Исследуйте модели"
   ]
  },
  {
   "cell_type": "markdown",
   "metadata": {},
   "source": [
    "Для исследования выберем две модели: случайный лес и логистическую регрессию."
   ]
  },
  {
   "cell_type": "markdown",
   "metadata": {},
   "source": [
    "### Исследование модели \"случайный лес\""
   ]
  },
  {
   "cell_type": "code",
   "execution_count": 24,
   "metadata": {},
   "outputs": [],
   "source": [
    "#выделем признаки и целевой признак в разрезе выборок\n",
    "\n",
    "features_train = df_train.drop(['is_ultra','messages','mb_used'],axis=1)\n",
    "target_train = df_train['is_ultra']\n",
    "\n",
    "features_valid = df_valid.drop(['is_ultra','messages','mb_used'],axis=1) \n",
    "target_valid = df_valid['is_ultra']\n",
    "\n",
    "features_test = df_test.drop(['is_ultra','messages','mb_used'],axis=1) \n",
    "target_test = df_test['is_ultra']"
   ]
  },
  {
   "cell_type": "markdown",
   "metadata": {},
   "source": [
    "Для того, чтобы понять, какая модель \"случайного леса\" оптимальна, будем задавать различные гиперпараметры: число деревьев и глубину. \n"
   ]
  },
  {
   "cell_type": "code",
   "execution_count": 25,
   "metadata": {},
   "outputs": [
    {
     "name": "stdout",
     "output_type": "stream",
     "text": [
      "Accuracy наилучшей модели на валидационной выборке: 0.7620528771384136 Наилучшее количество деревьев: 4\n"
     ]
    }
   ],
   "source": [
    "#найдем лучшие параметры для модели \"случайный лес\"\n",
    "\n",
    "best_model = None\n",
    "best_result = 0\n",
    "for est in range(1,6): #зададим число деревьев от 1 до 5\n",
    "    model_random_forest = RandomForestClassifier(random_state=12345, n_estimators=est, max_depth=4) #инициируем вызов модели \"случайный лес\"  с глубиной 5\n",
    "    model_random_forest.fit(features_train,target_train) #обучим модель на тренировочных данных\n",
    "    predictions_random_forest = model_random_forest.predict(features_valid) #предскажем результат на валидационныъ данных\n",
    "    result = accuracy_score(target_valid,predictions_random_forest) #рассчитаем метрику accuracy на валидационных данных и предсказаниях\n",
    "    if result > best_result:\n",
    "        best_est = est\n",
    "        best_model = model_random_forest \n",
    "        best_result = result\n",
    "\n",
    "print(\"Accuracy наилучшей модели на валидационной выборке:\", best_result, 'Наилучшее количество деревьев:', best_est)"
   ]
  },
  {
   "cell_type": "code",
   "execution_count": 26,
   "metadata": {},
   "outputs": [
    {
     "name": "stdout",
     "output_type": "stream",
     "text": [
      "Accuracy наилучшей модели на валидационной выборке: 0.7636080870917574 Наилучшее количество деревьев: 7\n"
     ]
    }
   ],
   "source": [
    "#найдем лучшие параметры для модели \"случайный лес\"\n",
    "\n",
    "best_model_1 = None\n",
    "best_result_1 = 0\n",
    "for est in range(1,51): #зададим количество деревьев от 1 до 50\n",
    "    model_random_forest_1 = RandomForestClassifier(random_state=12345, n_estimators=est, max_depth=5) \n",
    "    model_random_forest_1.fit(features_train,target_train)\n",
    "    predictions_random_forest_1 = model_random_forest_1.predict(features_valid)\n",
    "    result_1 = accuracy_score(target_valid,predictions_random_forest_1) \n",
    "    if result_1 > best_result_1:\n",
    "        best_est_1 = est\n",
    "        best_model_1 = model_random_forest_1\n",
    "        best_result_1 = result_1\n",
    "\n",
    "print(\"Accuracy наилучшей модели на валидационной выборке:\", best_result_1, 'Наилучшее количество деревьев:', best_est_1)"
   ]
  },
  {
   "cell_type": "code",
   "execution_count": 27,
   "metadata": {},
   "outputs": [
    {
     "name": "stdout",
     "output_type": "stream",
     "text": [
      "Accuracy наилучшей модели на валидационной выборке: 0.7527216174183515 Наилучшее количество деревьев: 1\n"
     ]
    }
   ],
   "source": [
    "#найдем лучшие параметры для модели \"случайный лес\"\n",
    "\n",
    "best_model_2 = None\n",
    "best_result_2 = 0\n",
    "for est in range(1,201): #зададим количество деревьев от 1 до 200\n",
    "    model_random_forest_2 = RandomForestClassifier(random_state=12345, n_estimators=est, max_depth=3) #зададим глубину равную 4 \n",
    "    model_random_forest_2.fit(features_train,target_train)\n",
    "    predictions_random_forest_2 = model_random_forest_2.predict(features_valid)\n",
    "    result_2 = accuracy_score(target_valid,predictions_random_forest_2) \n",
    "    if result_2 > best_result_2:\n",
    "        best_est_2 = est\n",
    "        best_model_2 = model_random_forest_2\n",
    "        best_result_2 = result_2\n",
    "\n",
    "print(\"Accuracy наилучшей модели на валидационной выборке:\", best_result_2, 'Наилучшее количество деревьев:', best_est_2)"
   ]
  },
  {
   "cell_type": "markdown",
   "metadata": {},
   "source": [
    "### Исследование модели логистической регрессии"
   ]
  },
  {
   "cell_type": "markdown",
   "metadata": {},
   "source": [
    "Для сравнения эффективностии модели \"случайного леса\", изучим модель логистической регрессии."
   ]
  },
  {
   "cell_type": "code",
   "execution_count": 28,
   "metadata": {},
   "outputs": [
    {
     "name": "stdout",
     "output_type": "stream",
     "text": [
      "Accuracy модели логистической регрессии на валидационной выборке: 0.7387247278382582\n"
     ]
    }
   ],
   "source": [
    "#инициируем вызов модели логистической регрессии\n",
    "\n",
    "model = LogisticRegression(random_state=12345)\n",
    "\n",
    "#обучим модель\n",
    "\n",
    "model.fit(features_train,target_train)\n",
    "\n",
    "#рассчитаем метрики на валидационных данных\n",
    "\n",
    "result = model.score(features_valid,target_valid) \n",
    "\n",
    "print(\"Accuracy модели логистической регрессии на валидационной выборке:\", result)"
   ]
  },
  {
   "cell_type": "markdown",
   "metadata": {},
   "source": [
    "### Вывод"
   ]
  },
  {
   "cell_type": "markdown",
   "metadata": {},
   "source": [
    "Исходя из изучения модели \"случайного леса\" видно, что при подборе гипермпараметров (число деревьев от 1 до 200 и глубина от 4 до 5) наилучший результат метрики accuracy на валидационной выборке достигается при двух вариантах: количестве деревьев 4 и глуби не 4, и количестве деревьев 7 и глубине 5. Далее проверим, как работает эта модель при двух вариантах заданных гиперпараметров на тестовой выборке. Модель логистической регрессии на валидационной выборке показывает результат accuracy ниже."
   ]
  },
  {
   "cell_type": "markdown",
   "metadata": {},
   "source": [
    "## Проверьте модель на тестовой выборке"
   ]
  },
  {
   "cell_type": "markdown",
   "metadata": {},
   "source": [
    "Для того, чтобы понять, какая модель подходит для исследования лучше, проверим работу моделей на тестовых данных."
   ]
  },
  {
   "cell_type": "markdown",
   "metadata": {},
   "source": [
    "### Проверка модели \"случайный лес\" "
   ]
  },
  {
   "cell_type": "markdown",
   "metadata": {},
   "source": [
    "Модель \"случайный лес\" проверим при двух вариантах гипермпараметров: глубине деревьев 4 и 7 и глубине 4 и 5."
   ]
  },
  {
   "cell_type": "code",
   "execution_count": 31,
   "metadata": {},
   "outputs": [
    {
     "name": "stdout",
     "output_type": "stream",
     "text": [
      "Accuracy наилучшей модели на тестовой выборке: 0.744945567651633\n"
     ]
    }
   ],
   "source": [
    "#задаем наилучшие параметры модели, полученные на валидационной выборке\n",
    "\n",
    "model_random_forest = RandomForestClassifier(random_state=12345, n_estimators=4, max_depth=4) \n",
    "\n",
    "#обучим модель\n",
    "\n",
    "model_random_forest.fit(features_train,target_train)\n",
    "\n",
    "#предскажем результат на тестовой выборке\n",
    "\n",
    "predictions_random_forest = model_random_forest.predict(features_test)\n",
    "\n",
    "#рассчитаем метрику accuracy на тестовых данных\n",
    "\n",
    "result = accuracy_score(target_test,predictions_random_forest) \n",
    "\n",
    "\n",
    "print(\"Accuracy наилучшей модели на тестовой выборке:\", result)"
   ]
  },
  {
   "cell_type": "code",
   "execution_count": 32,
   "metadata": {},
   "outputs": [
    {
     "name": "stdout",
     "output_type": "stream",
     "text": [
      "Accuracy наилучшей модели на тестовой выборке: 0.7387247278382582\n"
     ]
    }
   ],
   "source": [
    "#задаем наилучшие параметры модели, полученные на валидационной выборке\n",
    "\n",
    "model_random_forest = RandomForestClassifier(random_state=12345, n_estimators=7, max_depth=5) \n",
    "\n",
    "#обучим модель\n",
    "\n",
    "model_random_forest.fit(features_train,target_train)\n",
    "\n",
    "#предскажем результат на тестовой выборке\n",
    "\n",
    "predictions_random_forest = model_random_forest.predict(features_test)\n",
    "\n",
    "#рассчитаем метрику accuracy на тестовых данных\n",
    "\n",
    "result = accuracy_score(target_test,predictions_random_forest) \n",
    "\n",
    "\n",
    "print(\"Accuracy наилучшей модели на тестовой выборке:\", result)"
   ]
  },
  {
   "cell_type": "markdown",
   "metadata": {},
   "source": [
    "### Проверка модели логистической регрессии "
   ]
  },
  {
   "cell_type": "code",
   "execution_count": 30,
   "metadata": {},
   "outputs": [
    {
     "name": "stdout",
     "output_type": "stream",
     "text": [
      "Accuracy модели логистической регрессии на тестовой выборке: 0.7309486780715396\n"
     ]
    }
   ],
   "source": [
    "#инициируем вызов модели логистической регрессии\n",
    "\n",
    "model = LogisticRegression(random_state=12345)\n",
    "\n",
    "#обучаем модель\n",
    "\n",
    "model.fit(features_train,target_train)\n",
    "\n",
    "#вычисляем метрику accuracy на тестовых данных\n",
    "\n",
    "result = model.score(features_test,target_test) \n",
    "\n",
    "print(\"Accuracy модели логистической регрессии на тестовой выборке:\", result)"
   ]
  },
  {
   "cell_type": "markdown",
   "metadata": {},
   "source": [
    "### Вывод"
   ]
  },
  {
   "cell_type": "markdown",
   "metadata": {},
   "source": [
    "Исходя из проверки моделей \"случайный лес\" и модели логистической регрессии видно, что оптимальный результат показывает модель \"случайный лес\" при количестве деревьев 4 и глубине 4, как на валидационной, так и на тестовой выборках (0,76 и 0,75 (если округлять)) показатель accurancy соответственно). Что касается модели логистической регрессии, то accurancy тут несколько ниже как на валидационной, так и на тестовой выборках (0,74 и 0,73 соответственно), что может гооврить о недообучении модели."
   ]
  },
  {
   "cell_type": "markdown",
   "metadata": {},
   "source": [
    "## Проверка модели на адекватность"
   ]
  },
  {
   "cell_type": "markdown",
   "metadata": {},
   "source": [
    "Тут я честно пыталась разобраться с Dummy Classifier, но не получилось. В целом, не уверена, что поняла задачу, поставленную в проекте правильно, т.к. для меня эта тема оказалась очень сложной для понимания("
   ]
  },
  {
   "cell_type": "markdown",
   "metadata": {},
   "source": [
    "Для проверки адекватности модели применим 2 способа: посчитаем вероятность угадывания модели по сравнению с количеством по выборке и сравним нашу модель с моделью Dummy Classifier."
   ]
  },
  {
   "cell_type": "code",
   "execution_count": 42,
   "metadata": {},
   "outputs": [
    {
     "data": {
      "text/plain": [
       "0    0.693528\n",
       "1    0.306472\n",
       "Name: is_ultra, dtype: float64"
      ]
     },
     "execution_count": 42,
     "metadata": {},
     "output_type": "execute_result"
    }
   ],
   "source": [
    "#рассчитаем долю адекватности константной величины\n",
    "\n",
    "relevance = df['is_ultra'].value_counts() / df.shape[0]\n",
    "\n",
    "#выведем значение на экран\n",
    "\n",
    "relevance"
   ]
  },
  {
   "cell_type": "markdown",
   "metadata": {},
   "source": [
    "Из результата расчета видно, что наша модель предсказывает результат с accurancy выше, чем константа (0,75 и 0,69 соответственно), что говорит об целесообразности использования модели."
   ]
  },
  {
   "cell_type": "code",
   "execution_count": 43,
   "metadata": {},
   "outputs": [
    {
     "data": {
      "text/html": [
       "<div>\n",
       "<style scoped>\n",
       "    .dataframe tbody tr th:only-of-type {\n",
       "        vertical-align: middle;\n",
       "    }\n",
       "\n",
       "    .dataframe tbody tr th {\n",
       "        vertical-align: top;\n",
       "    }\n",
       "\n",
       "    .dataframe thead th {\n",
       "        text-align: right;\n",
       "    }\n",
       "</style>\n",
       "<table border=\"1\" class=\"dataframe\">\n",
       "  <thead>\n",
       "    <tr style=\"text-align: right;\">\n",
       "      <th></th>\n",
       "      <th>most_frequent</th>\n",
       "    </tr>\n",
       "  </thead>\n",
       "  <tbody>\n",
       "    <tr>\n",
       "      <th>0</th>\n",
       "      <td>0.695179</td>\n",
       "    </tr>\n",
       "  </tbody>\n",
       "</table>\n",
       "</div>"
      ],
      "text/plain": [
       "   most_frequent\n",
       "0       0.695179"
      ]
     },
     "execution_count": 43,
     "metadata": {},
     "output_type": "execute_result"
    }
   ],
   "source": [
    "#рассчитаем accurancy Dummy модели\n",
    "\n",
    "strategies = ['most_frequent'] #зададим стратегию предсказания\n",
    "\n",
    "dummy_results = [] #сохраним результат в пустой список\n",
    "for strategy in strategies:\n",
    "    dc = DummyClassifier(strategy = strategy, random_state = 42) #иницируем вызов модели Dummy\n",
    "\n",
    "    dc.fit(features_train, target_train) #обучим модель\n",
    "    result = dc.score(features_test, target_test) #рассчитаем accuracy \n",
    "    dummy_results.append({strategy: result}) #добавим результат \n",
    "\n",
    "pd.DataFrame(dummy_results) #выведем результат на экран"
   ]
  },
  {
   "cell_type": "markdown",
   "metadata": {},
   "source": [
    "Исходя из результата сравнения модели \"случайный лес\" с моделью Dummy, мы видим, что ее использование оправдано, поскольку показатель accurancy несколько выше (0,75 против 0,70)."
   ]
  }
 ],
 "metadata": {
  "ExecuteTimeLog": [
   {
    "duration": 222,
    "start_time": "2022-03-15T10:44:05.188Z"
   },
   {
    "duration": 624,
    "start_time": "2022-03-15T10:44:08.511Z"
   },
   {
    "duration": 31,
    "start_time": "2022-03-15T10:44:10.003Z"
   },
   {
    "duration": 455,
    "start_time": "2022-03-15T11:33:33.520Z"
   },
   {
    "duration": 22,
    "start_time": "2022-03-15T11:33:35.700Z"
   },
   {
    "duration": 4,
    "start_time": "2022-03-15T11:38:32.061Z"
   },
   {
    "duration": 3,
    "start_time": "2022-03-15T11:40:23.250Z"
   },
   {
    "duration": 4,
    "start_time": "2022-03-15T11:40:25.337Z"
   },
   {
    "duration": 10,
    "start_time": "2022-03-15T11:41:05.489Z"
   },
   {
    "duration": 4,
    "start_time": "2022-03-15T11:41:12.848Z"
   },
   {
    "duration": 6,
    "start_time": "2022-03-15T11:41:56.573Z"
   },
   {
    "duration": 244,
    "start_time": "2022-03-15T11:43:33.054Z"
   },
   {
    "duration": 251,
    "start_time": "2022-03-15T11:44:24.125Z"
   },
   {
    "duration": 184,
    "start_time": "2022-03-15T11:44:37.109Z"
   },
   {
    "duration": 21,
    "start_time": "2022-03-15T11:44:38.848Z"
   },
   {
    "duration": 4,
    "start_time": "2022-03-15T11:44:40.974Z"
   },
   {
    "duration": 6,
    "start_time": "2022-03-15T11:44:42.519Z"
   },
   {
    "duration": 211,
    "start_time": "2022-03-15T11:44:43.926Z"
   },
   {
    "duration": 3,
    "start_time": "2022-03-15T11:45:58.521Z"
   },
   {
    "duration": 21,
    "start_time": "2022-03-15T11:46:00.336Z"
   },
   {
    "duration": 5,
    "start_time": "2022-03-15T11:46:02.475Z"
   },
   {
    "duration": 5,
    "start_time": "2022-03-15T11:46:04.211Z"
   },
   {
    "duration": 5,
    "start_time": "2022-03-15T11:49:11.326Z"
   },
   {
    "duration": 213,
    "start_time": "2022-03-15T11:52:22.932Z"
   },
   {
    "duration": 2,
    "start_time": "2022-03-15T11:52:28.265Z"
   },
   {
    "duration": 20,
    "start_time": "2022-03-15T11:52:29.394Z"
   },
   {
    "duration": 4,
    "start_time": "2022-03-15T11:52:30.785Z"
   },
   {
    "duration": 6,
    "start_time": "2022-03-15T11:52:31.277Z"
   },
   {
    "duration": 192,
    "start_time": "2022-03-15T11:52:32.705Z"
   },
   {
    "duration": 4,
    "start_time": "2022-03-15T11:53:14.595Z"
   },
   {
    "duration": 27,
    "start_time": "2022-03-15T11:53:15.653Z"
   },
   {
    "duration": 4,
    "start_time": "2022-03-15T11:53:16.900Z"
   },
   {
    "duration": 5,
    "start_time": "2022-03-15T11:53:16.972Z"
   },
   {
    "duration": 230,
    "start_time": "2022-03-15T11:53:17.884Z"
   },
   {
    "duration": 3,
    "start_time": "2022-03-15T11:53:57.235Z"
   },
   {
    "duration": 21,
    "start_time": "2022-03-15T11:53:58.010Z"
   },
   {
    "duration": 4,
    "start_time": "2022-03-15T11:53:59.073Z"
   },
   {
    "duration": 6,
    "start_time": "2022-03-15T11:53:59.476Z"
   },
   {
    "duration": 335,
    "start_time": "2022-03-15T11:54:00.860Z"
   },
   {
    "duration": 988,
    "start_time": "2022-03-15T11:54:31.896Z"
   },
   {
    "duration": 26,
    "start_time": "2022-03-15T11:54:32.886Z"
   },
   {
    "duration": 3,
    "start_time": "2022-03-15T11:54:32.914Z"
   },
   {
    "duration": 14,
    "start_time": "2022-03-15T11:54:32.919Z"
   },
   {
    "duration": 265,
    "start_time": "2022-03-15T11:54:32.937Z"
   },
   {
    "duration": 5,
    "start_time": "2022-03-15T11:55:15.829Z"
   },
   {
    "duration": 197,
    "start_time": "2022-03-15T11:55:16.906Z"
   },
   {
    "duration": 3,
    "start_time": "2022-03-15T11:55:36.170Z"
   },
   {
    "duration": 180,
    "start_time": "2022-03-15T11:56:06.695Z"
   },
   {
    "duration": 188,
    "start_time": "2022-03-15T11:56:19.437Z"
   },
   {
    "duration": 3,
    "start_time": "2022-03-15T11:56:39.145Z"
   },
   {
    "duration": 21,
    "start_time": "2022-03-15T11:56:40.478Z"
   },
   {
    "duration": 4,
    "start_time": "2022-03-15T11:56:43.022Z"
   },
   {
    "duration": 5,
    "start_time": "2022-03-15T11:56:44.453Z"
   },
   {
    "duration": 5,
    "start_time": "2022-03-15T11:56:46.352Z"
   },
   {
    "duration": 191,
    "start_time": "2022-03-15T11:56:47.423Z"
   },
   {
    "duration": 5,
    "start_time": "2022-03-15T11:57:25.331Z"
   },
   {
    "duration": 6,
    "start_time": "2022-03-15T11:57:32.634Z"
   },
   {
    "duration": 5,
    "start_time": "2022-03-15T11:57:33.748Z"
   },
   {
    "duration": 193,
    "start_time": "2022-03-15T11:57:34.386Z"
   },
   {
    "duration": 1308,
    "start_time": "2022-03-15T11:59:19.432Z"
   },
   {
    "duration": 21316,
    "start_time": "2022-03-15T11:58:59.426Z"
   },
   {
    "duration": 21311,
    "start_time": "2022-03-15T11:58:59.432Z"
   },
   {
    "duration": 21305,
    "start_time": "2022-03-15T11:58:59.439Z"
   },
   {
    "duration": 21304,
    "start_time": "2022-03-15T11:58:59.441Z"
   },
   {
    "duration": 21304,
    "start_time": "2022-03-15T11:58:59.442Z"
   },
   {
    "duration": 252,
    "start_time": "2022-03-15T12:00:09.302Z"
   },
   {
    "duration": 261,
    "start_time": "2022-03-15T12:00:50.535Z"
   },
   {
    "duration": 216,
    "start_time": "2022-03-15T12:00:55.176Z"
   },
   {
    "duration": 210,
    "start_time": "2022-03-15T12:01:07.481Z"
   },
   {
    "duration": 33,
    "start_time": "2022-03-15T12:02:42.471Z"
   },
   {
    "duration": 4,
    "start_time": "2022-03-15T12:02:44.625Z"
   },
   {
    "duration": 246,
    "start_time": "2022-03-15T12:02:45.738Z"
   },
   {
    "duration": 236,
    "start_time": "2022-03-15T12:02:49.769Z"
   },
   {
    "duration": 10,
    "start_time": "2022-03-15T12:03:03.252Z"
   },
   {
    "duration": 26,
    "start_time": "2022-03-15T12:03:06.253Z"
   },
   {
    "duration": 4,
    "start_time": "2022-03-15T12:03:29.342Z"
   },
   {
    "duration": 5,
    "start_time": "2022-03-15T12:03:30.397Z"
   },
   {
    "duration": 5,
    "start_time": "2022-03-15T12:03:32.383Z"
   },
   {
    "duration": 356,
    "start_time": "2022-03-15T12:03:33.511Z"
   },
   {
    "duration": 126,
    "start_time": "2022-03-15T12:03:43.528Z"
   },
   {
    "duration": 119,
    "start_time": "2022-03-15T12:03:46.703Z"
   },
   {
    "duration": 99,
    "start_time": "2022-03-15T12:03:51.278Z"
   },
   {
    "duration": 5,
    "start_time": "2022-03-15T12:04:02.327Z"
   },
   {
    "duration": 96,
    "start_time": "2022-03-15T12:04:05.684Z"
   },
   {
    "duration": 3,
    "start_time": "2022-03-15T12:04:15.402Z"
   },
   {
    "duration": 19,
    "start_time": "2022-03-15T12:04:16.786Z"
   },
   {
    "duration": 5,
    "start_time": "2022-03-15T12:04:18.983Z"
   },
   {
    "duration": 6,
    "start_time": "2022-03-15T12:04:20.899Z"
   },
   {
    "duration": 5,
    "start_time": "2022-03-15T12:04:22.654Z"
   },
   {
    "duration": 94,
    "start_time": "2022-03-15T12:04:24.007Z"
   },
   {
    "duration": 192,
    "start_time": "2022-03-15T12:08:01.494Z"
   },
   {
    "duration": 3,
    "start_time": "2022-03-15T12:08:13.605Z"
   },
   {
    "duration": 13,
    "start_time": "2022-03-15T12:08:16.715Z"
   },
   {
    "duration": 4,
    "start_time": "2022-03-15T12:13:52.329Z"
   },
   {
    "duration": 5,
    "start_time": "2022-03-15T12:15:17.366Z"
   },
   {
    "duration": 5,
    "start_time": "2022-03-15T12:15:21.532Z"
   },
   {
    "duration": 96,
    "start_time": "2022-03-15T12:15:23.148Z"
   },
   {
    "duration": 13,
    "start_time": "2022-03-15T12:15:27.100Z"
   },
   {
    "duration": 6,
    "start_time": "2022-03-15T12:15:31.023Z"
   },
   {
    "duration": 5,
    "start_time": "2022-03-15T12:15:36.721Z"
   },
   {
    "duration": 5,
    "start_time": "2022-03-15T12:15:37.936Z"
   },
   {
    "duration": 95,
    "start_time": "2022-03-15T12:15:38.560Z"
   },
   {
    "duration": 12,
    "start_time": "2022-03-15T12:15:39.199Z"
   },
   {
    "duration": 13,
    "start_time": "2022-03-15T12:15:46.594Z"
   },
   {
    "duration": 26,
    "start_time": "2022-03-15T12:15:56.866Z"
   },
   {
    "duration": 6,
    "start_time": "2022-03-15T12:16:04.629Z"
   },
   {
    "duration": 14,
    "start_time": "2022-03-15T12:16:43.144Z"
   },
   {
    "duration": 14,
    "start_time": "2022-03-15T12:16:57.288Z"
   },
   {
    "duration": 5,
    "start_time": "2022-03-15T12:17:20.728Z"
   },
   {
    "duration": 6,
    "start_time": "2022-03-15T12:17:44.885Z"
   },
   {
    "duration": 5,
    "start_time": "2022-03-15T12:17:45.921Z"
   },
   {
    "duration": 79,
    "start_time": "2022-03-15T12:17:46.519Z"
   },
   {
    "duration": 12,
    "start_time": "2022-03-15T12:17:51.869Z"
   },
   {
    "duration": 86,
    "start_time": "2022-03-15T12:17:55.129Z"
   },
   {
    "duration": 13,
    "start_time": "2022-03-15T12:17:57.094Z"
   },
   {
    "duration": 7,
    "start_time": "2022-03-15T12:18:12.725Z"
   },
   {
    "duration": 7,
    "start_time": "2022-03-15T12:18:26.646Z"
   },
   {
    "duration": 7,
    "start_time": "2022-03-15T12:18:36.214Z"
   },
   {
    "duration": 5,
    "start_time": "2022-03-15T12:18:42.029Z"
   },
   {
    "duration": 80,
    "start_time": "2022-03-15T12:18:43.090Z"
   },
   {
    "duration": 13,
    "start_time": "2022-03-15T12:18:44.935Z"
   },
   {
    "duration": 7,
    "start_time": "2022-03-15T12:20:59.035Z"
   },
   {
    "duration": 81,
    "start_time": "2022-03-15T12:20:59.746Z"
   },
   {
    "duration": 13,
    "start_time": "2022-03-15T12:21:02.327Z"
   },
   {
    "duration": 3,
    "start_time": "2022-03-15T12:22:17.916Z"
   },
   {
    "duration": 59,
    "start_time": "2022-03-15T12:24:34.152Z"
   },
   {
    "duration": 6,
    "start_time": "2022-03-15T12:24:41.169Z"
   },
   {
    "duration": 79,
    "start_time": "2022-03-15T12:24:41.924Z"
   },
   {
    "duration": 11,
    "start_time": "2022-03-15T12:24:44.041Z"
   },
   {
    "duration": 59,
    "start_time": "2022-03-15T12:24:47.651Z"
   },
   {
    "duration": 38,
    "start_time": "2022-03-15T12:24:57.733Z"
   },
   {
    "duration": 77,
    "start_time": "2022-03-15T12:25:03.929Z"
   },
   {
    "duration": 12,
    "start_time": "2022-03-15T12:25:06.142Z"
   },
   {
    "duration": 58,
    "start_time": "2022-03-15T12:25:07.742Z"
   },
   {
    "duration": 59,
    "start_time": "2022-03-15T12:25:52.364Z"
   },
   {
    "duration": 6,
    "start_time": "2022-03-15T12:26:52.739Z"
   },
   {
    "duration": 80,
    "start_time": "2022-03-15T12:26:59.679Z"
   },
   {
    "duration": 13,
    "start_time": "2022-03-15T12:27:02.310Z"
   },
   {
    "duration": 58,
    "start_time": "2022-03-15T12:27:05.075Z"
   },
   {
    "duration": 12,
    "start_time": "2022-03-15T12:28:02.134Z"
   },
   {
    "duration": 8,
    "start_time": "2022-03-15T12:28:06.281Z"
   },
   {
    "duration": 9,
    "start_time": "2022-03-15T12:28:18.816Z"
   },
   {
    "duration": 1131,
    "start_time": "2022-03-15T12:28:39.963Z"
   },
   {
    "duration": 15,
    "start_time": "2022-03-15T12:28:41.570Z"
   },
   {
    "duration": 60,
    "start_time": "2022-03-15T12:28:44.895Z"
   },
   {
    "duration": 78,
    "start_time": "2022-03-15T12:28:52.398Z"
   },
   {
    "duration": 12,
    "start_time": "2022-03-15T12:28:53.645Z"
   },
   {
    "duration": 60,
    "start_time": "2022-03-15T12:28:55.745Z"
   },
   {
    "duration": 60,
    "start_time": "2022-03-15T12:29:04.848Z"
   },
   {
    "duration": 77,
    "start_time": "2022-03-15T12:29:09.697Z"
   },
   {
    "duration": 13,
    "start_time": "2022-03-15T12:29:12.073Z"
   },
   {
    "duration": 60,
    "start_time": "2022-03-15T12:29:15.217Z"
   },
   {
    "duration": 8,
    "start_time": "2022-03-15T12:29:20.255Z"
   },
   {
    "duration": 61,
    "start_time": "2022-03-15T12:30:06.519Z"
   },
   {
    "duration": 15,
    "start_time": "2022-03-15T12:32:56.928Z"
   },
   {
    "duration": 7,
    "start_time": "2022-03-15T12:33:50.752Z"
   },
   {
    "duration": 1040,
    "start_time": "2022-03-15T12:33:54.584Z"
   },
   {
    "duration": 33,
    "start_time": "2022-03-15T12:33:55.626Z"
   },
   {
    "duration": 7,
    "start_time": "2022-03-15T12:33:55.662Z"
   },
   {
    "duration": 4,
    "start_time": "2022-03-15T12:33:55.671Z"
   },
   {
    "duration": 8,
    "start_time": "2022-03-15T12:33:55.676Z"
   },
   {
    "duration": 8,
    "start_time": "2022-03-15T12:33:55.686Z"
   },
   {
    "duration": 17,
    "start_time": "2022-03-15T12:33:55.696Z"
   },
   {
    "duration": 27,
    "start_time": "2022-03-15T12:33:55.716Z"
   },
   {
    "duration": 335,
    "start_time": "2022-03-15T12:33:55.745Z"
   },
   {
    "duration": 21340,
    "start_time": "2022-03-15T12:33:34.742Z"
   },
   {
    "duration": 21340,
    "start_time": "2022-03-15T12:33:34.744Z"
   },
   {
    "duration": 21338,
    "start_time": "2022-03-15T12:33:34.748Z"
   },
   {
    "duration": 21337,
    "start_time": "2022-03-15T12:33:34.750Z"
   },
   {
    "duration": 1030,
    "start_time": "2022-03-15T12:34:22.348Z"
   },
   {
    "duration": 26,
    "start_time": "2022-03-15T12:34:23.380Z"
   },
   {
    "duration": 7,
    "start_time": "2022-03-15T12:34:23.408Z"
   },
   {
    "duration": 13,
    "start_time": "2022-03-15T12:34:23.417Z"
   },
   {
    "duration": 17,
    "start_time": "2022-03-15T12:34:23.432Z"
   },
   {
    "duration": 10,
    "start_time": "2022-03-15T12:34:23.451Z"
   },
   {
    "duration": 7,
    "start_time": "2022-03-15T12:34:23.463Z"
   },
   {
    "duration": 8,
    "start_time": "2022-03-15T12:34:23.472Z"
   },
   {
    "duration": 10,
    "start_time": "2022-03-15T12:34:23.481Z"
   },
   {
    "duration": 97,
    "start_time": "2022-03-15T12:34:23.492Z"
   },
   {
    "duration": 11,
    "start_time": "2022-03-15T12:34:23.591Z"
   },
   {
    "duration": 73,
    "start_time": "2022-03-15T12:34:23.604Z"
   },
   {
    "duration": 7,
    "start_time": "2022-03-15T12:34:23.679Z"
   },
   {
    "duration": 5068,
    "start_time": "2022-03-15T12:34:59.312Z"
   },
   {
    "duration": 13,
    "start_time": "2022-03-15T12:35:04.382Z"
   },
   {
    "duration": 58,
    "start_time": "2022-03-15T12:35:13.765Z"
   },
   {
    "duration": 269,
    "start_time": "2022-03-15T12:35:56.719Z"
   },
   {
    "duration": 5218,
    "start_time": "2022-03-15T12:35:57.053Z"
   },
   {
    "duration": 52,
    "start_time": "2022-03-15T12:36:03.500Z"
   },
   {
    "duration": 2482,
    "start_time": "2022-03-15T12:36:27.524Z"
   },
   {
    "duration": 11157,
    "start_time": "2022-03-15T12:36:55.643Z"
   },
   {
    "duration": 64,
    "start_time": "2022-03-15T12:37:11.028Z"
   },
   {
    "duration": 64,
    "start_time": "2022-03-15T12:37:14.706Z"
   },
   {
    "duration": 3,
    "start_time": "2022-03-15T12:39:13.721Z"
   },
   {
    "duration": 178,
    "start_time": "2022-03-15T12:41:14.028Z"
   },
   {
    "duration": 3,
    "start_time": "2022-03-15T12:42:23.521Z"
   },
   {
    "duration": 204,
    "start_time": "2022-03-15T12:42:28.201Z"
   },
   {
    "duration": 205,
    "start_time": "2022-03-15T12:42:41.786Z"
   },
   {
    "duration": 162,
    "start_time": "2022-03-15T12:42:42.780Z"
   },
   {
    "duration": 207,
    "start_time": "2022-03-15T12:42:56.339Z"
   },
   {
    "duration": 209,
    "start_time": "2022-03-15T12:44:16.741Z"
   },
   {
    "duration": 196,
    "start_time": "2022-03-15T12:45:19.310Z"
   },
   {
    "duration": 220,
    "start_time": "2022-03-15T12:45:24.097Z"
   },
   {
    "duration": 191,
    "start_time": "2022-03-15T12:46:03.673Z"
   },
   {
    "duration": 170,
    "start_time": "2022-03-15T12:46:27.862Z"
   },
   {
    "duration": 182,
    "start_time": "2022-03-15T12:47:34.467Z"
   },
   {
    "duration": 1008,
    "start_time": "2022-03-15T12:47:41.583Z"
   },
   {
    "duration": 28,
    "start_time": "2022-03-15T12:47:42.593Z"
   },
   {
    "duration": 14,
    "start_time": "2022-03-15T12:47:42.626Z"
   },
   {
    "duration": 26,
    "start_time": "2022-03-15T12:47:42.642Z"
   },
   {
    "duration": 25,
    "start_time": "2022-03-15T12:47:42.670Z"
   },
   {
    "duration": 15,
    "start_time": "2022-03-15T12:47:42.696Z"
   },
   {
    "duration": 18,
    "start_time": "2022-03-15T12:47:42.714Z"
   },
   {
    "duration": 21,
    "start_time": "2022-03-15T12:47:42.734Z"
   },
   {
    "duration": 15,
    "start_time": "2022-03-15T12:47:42.757Z"
   },
   {
    "duration": 69,
    "start_time": "2022-03-15T12:47:42.773Z"
   },
   {
    "duration": 2612,
    "start_time": "2022-03-15T12:47:42.844Z"
   },
   {
    "duration": 10589,
    "start_time": "2022-03-15T12:47:45.458Z"
   },
   {
    "duration": 16,
    "start_time": "2022-03-15T12:47:56.049Z"
   },
   {
    "duration": 84,
    "start_time": "2022-03-15T12:47:56.067Z"
   },
   {
    "duration": 7,
    "start_time": "2022-03-15T12:47:56.153Z"
   },
   {
    "duration": 292,
    "start_time": "2022-03-15T12:47:56.162Z"
   },
   {
    "duration": 21377,
    "start_time": "2022-03-15T12:47:35.079Z"
   },
   {
    "duration": 57,
    "start_time": "2022-03-15T12:48:11.343Z"
   },
   {
    "duration": 10570,
    "start_time": "2022-03-15T12:48:16.246Z"
   },
   {
    "duration": 1495,
    "start_time": "2022-03-17T08:14:19.294Z"
   },
   {
    "duration": 40,
    "start_time": "2022-03-17T08:14:20.791Z"
   },
   {
    "duration": 18,
    "start_time": "2022-03-17T08:14:20.833Z"
   },
   {
    "duration": 5,
    "start_time": "2022-03-17T08:14:20.854Z"
   },
   {
    "duration": 7,
    "start_time": "2022-03-17T08:14:20.861Z"
   },
   {
    "duration": 14,
    "start_time": "2022-03-17T08:14:20.870Z"
   },
   {
    "duration": 14,
    "start_time": "2022-03-17T08:14:20.886Z"
   },
   {
    "duration": 53,
    "start_time": "2022-03-17T08:14:20.903Z"
   },
   {
    "duration": 9,
    "start_time": "2022-03-17T08:14:20.958Z"
   },
   {
    "duration": 112,
    "start_time": "2022-03-17T08:14:20.971Z"
   },
   {
    "duration": 4040,
    "start_time": "2022-03-17T08:14:21.085Z"
   },
   {
    "duration": 16704,
    "start_time": "2022-03-17T08:14:25.127Z"
   },
   {
    "duration": 62,
    "start_time": "2022-03-17T08:14:41.834Z"
   },
   {
    "duration": 122,
    "start_time": "2022-03-17T08:14:41.898Z"
   },
   {
    "duration": 39,
    "start_time": "2022-03-17T08:14:42.022Z"
   },
   {
    "duration": 161,
    "start_time": "2022-03-17T08:14:42.063Z"
   },
   {
    "duration": 0,
    "start_time": "2022-03-17T08:14:42.226Z"
   },
   {
    "duration": 23,
    "start_time": "2022-03-17T08:25:05.876Z"
   },
   {
    "duration": 104,
    "start_time": "2022-03-17T08:25:26.871Z"
   },
   {
    "duration": 24,
    "start_time": "2022-03-17T08:25:33.001Z"
   },
   {
    "duration": 5,
    "start_time": "2022-03-17T08:25:37.562Z"
   },
   {
    "duration": 28,
    "start_time": "2022-03-17T08:25:39.472Z"
   },
   {
    "duration": 15,
    "start_time": "2022-03-17T08:25:39.969Z"
   },
   {
    "duration": 5,
    "start_time": "2022-03-17T08:25:41.443Z"
   },
   {
    "duration": 5,
    "start_time": "2022-03-17T08:25:41.836Z"
   },
   {
    "duration": 15,
    "start_time": "2022-03-17T08:25:42.191Z"
   },
   {
    "duration": 14,
    "start_time": "2022-03-17T08:25:42.572Z"
   },
   {
    "duration": 15,
    "start_time": "2022-03-17T08:25:42.975Z"
   },
   {
    "duration": 7,
    "start_time": "2022-03-17T08:25:43.756Z"
   },
   {
    "duration": 24,
    "start_time": "2022-03-17T08:25:44.389Z"
   },
   {
    "duration": 23,
    "start_time": "2022-03-17T08:26:23.276Z"
   },
   {
    "duration": 5,
    "start_time": "2022-03-17T08:27:04.283Z"
   },
   {
    "duration": 24,
    "start_time": "2022-03-17T08:27:07.725Z"
   },
   {
    "duration": 14,
    "start_time": "2022-03-17T08:27:26.730Z"
   },
   {
    "duration": 1520,
    "start_time": "2022-03-17T08:27:32.695Z"
   },
   {
    "duration": 40,
    "start_time": "2022-03-17T08:27:34.218Z"
   },
   {
    "duration": 17,
    "start_time": "2022-03-17T08:27:34.259Z"
   },
   {
    "duration": 8,
    "start_time": "2022-03-17T08:27:34.279Z"
   },
   {
    "duration": 7,
    "start_time": "2022-03-17T08:27:34.290Z"
   },
   {
    "duration": 19,
    "start_time": "2022-03-17T08:27:34.299Z"
   },
   {
    "duration": 16,
    "start_time": "2022-03-17T08:27:34.351Z"
   },
   {
    "duration": 21,
    "start_time": "2022-03-17T08:27:34.368Z"
   },
   {
    "duration": 10,
    "start_time": "2022-03-17T08:27:34.391Z"
   },
   {
    "duration": 165,
    "start_time": "2022-03-17T08:27:34.404Z"
   },
   {
    "duration": 0,
    "start_time": "2022-03-17T08:27:34.571Z"
   },
   {
    "duration": 0,
    "start_time": "2022-03-17T08:27:34.573Z"
   },
   {
    "duration": 0,
    "start_time": "2022-03-17T08:27:34.575Z"
   },
   {
    "duration": 0,
    "start_time": "2022-03-17T08:27:34.576Z"
   },
   {
    "duration": 0,
    "start_time": "2022-03-17T08:27:34.577Z"
   },
   {
    "duration": 0,
    "start_time": "2022-03-17T08:27:34.579Z"
   },
   {
    "duration": 0,
    "start_time": "2022-03-17T08:27:34.580Z"
   },
   {
    "duration": 13,
    "start_time": "2022-03-17T08:28:06.914Z"
   },
   {
    "duration": 14,
    "start_time": "2022-03-17T08:28:15.002Z"
   },
   {
    "duration": 28,
    "start_time": "2022-03-17T08:28:38.378Z"
   },
   {
    "duration": 14,
    "start_time": "2022-03-17T08:29:12.233Z"
   },
   {
    "duration": 6,
    "start_time": "2022-03-17T08:29:19.292Z"
   },
   {
    "duration": 1538,
    "start_time": "2022-03-17T08:29:46.335Z"
   },
   {
    "duration": 35,
    "start_time": "2022-03-17T08:29:47.876Z"
   },
   {
    "duration": 16,
    "start_time": "2022-03-17T08:29:47.913Z"
   },
   {
    "duration": 19,
    "start_time": "2022-03-17T08:29:47.932Z"
   },
   {
    "duration": 8,
    "start_time": "2022-03-17T08:29:47.954Z"
   },
   {
    "duration": 19,
    "start_time": "2022-03-17T08:29:47.964Z"
   },
   {
    "duration": 16,
    "start_time": "2022-03-17T08:29:47.985Z"
   },
   {
    "duration": 48,
    "start_time": "2022-03-17T08:29:48.003Z"
   },
   {
    "duration": 8,
    "start_time": "2022-03-17T08:29:48.053Z"
   },
   {
    "duration": 153,
    "start_time": "2022-03-17T08:29:48.064Z"
   },
   {
    "duration": 0,
    "start_time": "2022-03-17T08:29:48.219Z"
   },
   {
    "duration": 0,
    "start_time": "2022-03-17T08:29:48.221Z"
   },
   {
    "duration": 0,
    "start_time": "2022-03-17T08:29:48.223Z"
   },
   {
    "duration": 0,
    "start_time": "2022-03-17T08:29:48.225Z"
   },
   {
    "duration": 0,
    "start_time": "2022-03-17T08:29:48.226Z"
   },
   {
    "duration": 0,
    "start_time": "2022-03-17T08:29:48.228Z"
   },
   {
    "duration": 0,
    "start_time": "2022-03-17T08:29:48.229Z"
   },
   {
    "duration": 14,
    "start_time": "2022-03-17T08:31:24.286Z"
   },
   {
    "duration": 25,
    "start_time": "2022-03-17T08:32:13.434Z"
   },
   {
    "duration": 24,
    "start_time": "2022-03-17T08:32:20.207Z"
   },
   {
    "duration": 89,
    "start_time": "2022-03-17T08:32:34.383Z"
   },
   {
    "duration": 125,
    "start_time": "2022-03-17T08:32:44.840Z"
   },
   {
    "duration": 87,
    "start_time": "2022-03-17T08:32:49.937Z"
   },
   {
    "duration": 82,
    "start_time": "2022-03-17T08:32:58.781Z"
   },
   {
    "duration": 91,
    "start_time": "2022-03-17T08:33:03.113Z"
   },
   {
    "duration": 4493,
    "start_time": "2022-03-17T08:33:46.239Z"
   },
   {
    "duration": 4727,
    "start_time": "2022-03-17T08:33:51.915Z"
   },
   {
    "duration": 17705,
    "start_time": "2022-03-17T08:33:56.652Z"
   },
   {
    "duration": 4501,
    "start_time": "2022-03-17T08:34:36.135Z"
   },
   {
    "duration": 173,
    "start_time": "2022-03-17T08:35:14.887Z"
   },
   {
    "duration": 1585,
    "start_time": "2022-03-17T08:35:48.729Z"
   },
   {
    "duration": 40,
    "start_time": "2022-03-17T08:35:50.317Z"
   },
   {
    "duration": 18,
    "start_time": "2022-03-17T08:35:50.359Z"
   },
   {
    "duration": 6,
    "start_time": "2022-03-17T08:35:50.381Z"
   },
   {
    "duration": 6,
    "start_time": "2022-03-17T08:35:50.389Z"
   },
   {
    "duration": 60,
    "start_time": "2022-03-17T08:35:50.397Z"
   },
   {
    "duration": 15,
    "start_time": "2022-03-17T08:35:50.459Z"
   },
   {
    "duration": 18,
    "start_time": "2022-03-17T08:35:50.477Z"
   },
   {
    "duration": 11,
    "start_time": "2022-03-17T08:35:50.498Z"
   },
   {
    "duration": 124,
    "start_time": "2022-03-17T08:35:50.513Z"
   },
   {
    "duration": 26,
    "start_time": "2022-03-17T08:35:50.651Z"
   },
   {
    "duration": 4314,
    "start_time": "2022-03-17T08:35:50.679Z"
   },
   {
    "duration": 17457,
    "start_time": "2022-03-17T08:35:54.995Z"
   },
   {
    "duration": 53,
    "start_time": "2022-03-17T08:36:12.454Z"
   },
   {
    "duration": 122,
    "start_time": "2022-03-17T08:36:12.509Z"
   },
   {
    "duration": 31,
    "start_time": "2022-03-17T08:36:12.634Z"
   },
   {
    "duration": 155,
    "start_time": "2022-03-17T08:36:12.667Z"
   },
   {
    "duration": 1,
    "start_time": "2022-03-17T08:36:12.824Z"
   },
   {
    "duration": 0,
    "start_time": "2022-03-17T08:36:12.827Z"
   },
   {
    "duration": 4194,
    "start_time": "2022-03-17T08:36:19.869Z"
   },
   {
    "duration": 79,
    "start_time": "2022-03-17T08:36:39.258Z"
   },
   {
    "duration": 4469,
    "start_time": "2022-03-17T08:36:41.044Z"
   },
   {
    "duration": 16681,
    "start_time": "2022-03-17T08:37:39.535Z"
   },
   {
    "duration": 4252,
    "start_time": "2022-03-17T08:38:36.192Z"
   },
   {
    "duration": 1491,
    "start_time": "2022-03-17T08:38:50.588Z"
   },
   {
    "duration": 41,
    "start_time": "2022-03-17T08:38:52.082Z"
   },
   {
    "duration": 17,
    "start_time": "2022-03-17T08:38:52.125Z"
   },
   {
    "duration": 5,
    "start_time": "2022-03-17T08:38:52.152Z"
   },
   {
    "duration": 6,
    "start_time": "2022-03-17T08:38:52.160Z"
   },
   {
    "duration": 16,
    "start_time": "2022-03-17T08:38:52.168Z"
   },
   {
    "duration": 17,
    "start_time": "2022-03-17T08:38:52.186Z"
   },
   {
    "duration": 53,
    "start_time": "2022-03-17T08:38:52.205Z"
   },
   {
    "duration": 12,
    "start_time": "2022-03-17T08:38:52.261Z"
   },
   {
    "duration": 98,
    "start_time": "2022-03-17T08:38:52.277Z"
   },
   {
    "duration": 4261,
    "start_time": "2022-03-17T08:38:52.377Z"
   },
   {
    "duration": 16212,
    "start_time": "2022-03-17T08:38:56.640Z"
   },
   {
    "duration": 50,
    "start_time": "2022-03-17T08:39:12.854Z"
   },
   {
    "duration": 124,
    "start_time": "2022-03-17T08:39:12.907Z"
   },
   {
    "duration": 27,
    "start_time": "2022-03-17T08:39:13.034Z"
   },
   {
    "duration": 161,
    "start_time": "2022-03-17T08:39:13.063Z"
   },
   {
    "duration": 0,
    "start_time": "2022-03-17T08:39:13.227Z"
   },
   {
    "duration": 16295,
    "start_time": "2022-03-17T08:39:47.136Z"
   },
   {
    "duration": 1757,
    "start_time": "2022-03-17T08:40:12.708Z"
   },
   {
    "duration": 35,
    "start_time": "2022-03-17T08:40:14.470Z"
   },
   {
    "duration": 16,
    "start_time": "2022-03-17T08:40:14.507Z"
   },
   {
    "duration": 25,
    "start_time": "2022-03-17T08:40:14.526Z"
   },
   {
    "duration": 6,
    "start_time": "2022-03-17T08:40:14.553Z"
   },
   {
    "duration": 15,
    "start_time": "2022-03-17T08:40:14.561Z"
   },
   {
    "duration": 13,
    "start_time": "2022-03-17T08:40:14.578Z"
   },
   {
    "duration": 16,
    "start_time": "2022-03-17T08:40:14.593Z"
   },
   {
    "duration": 45,
    "start_time": "2022-03-17T08:40:14.611Z"
   },
   {
    "duration": 131,
    "start_time": "2022-03-17T08:40:14.660Z"
   },
   {
    "duration": 4523,
    "start_time": "2022-03-17T08:40:14.793Z"
   },
   {
    "duration": 17389,
    "start_time": "2022-03-17T08:40:19.318Z"
   },
   {
    "duration": 66,
    "start_time": "2022-03-17T08:40:36.709Z"
   },
   {
    "duration": 1533,
    "start_time": "2022-03-17T08:40:38.573Z"
   },
   {
    "duration": 36,
    "start_time": "2022-03-17T08:40:40.109Z"
   },
   {
    "duration": 17,
    "start_time": "2022-03-17T08:40:40.151Z"
   },
   {
    "duration": 5,
    "start_time": "2022-03-17T08:40:40.171Z"
   },
   {
    "duration": 10,
    "start_time": "2022-03-17T08:40:40.178Z"
   },
   {
    "duration": 16,
    "start_time": "2022-03-17T08:40:40.190Z"
   },
   {
    "duration": 51,
    "start_time": "2022-03-17T08:40:40.208Z"
   },
   {
    "duration": 20,
    "start_time": "2022-03-17T08:40:40.261Z"
   },
   {
    "duration": 10,
    "start_time": "2022-03-17T08:40:40.284Z"
   },
   {
    "duration": 108,
    "start_time": "2022-03-17T08:40:40.297Z"
   },
   {
    "duration": 3982,
    "start_time": "2022-03-17T08:40:40.407Z"
   },
   {
    "duration": 14146,
    "start_time": "2022-03-17T08:40:44.391Z"
   },
   {
    "duration": 58,
    "start_time": "2022-03-17T08:40:58.539Z"
   },
   {
    "duration": 119,
    "start_time": "2022-03-17T08:40:58.599Z"
   },
   {
    "duration": 32,
    "start_time": "2022-03-17T08:40:58.720Z"
   },
   {
    "duration": 168,
    "start_time": "2022-03-17T08:40:58.754Z"
   },
   {
    "duration": 0,
    "start_time": "2022-03-17T08:40:58.924Z"
   },
   {
    "duration": 68,
    "start_time": "2022-03-17T08:42:18.461Z"
   },
   {
    "duration": 114,
    "start_time": "2022-03-17T08:42:24.038Z"
   },
   {
    "duration": 29,
    "start_time": "2022-03-17T08:44:43.080Z"
   },
   {
    "duration": 28,
    "start_time": "2022-03-17T08:44:52.662Z"
   },
   {
    "duration": 27,
    "start_time": "2022-03-17T08:46:42.794Z"
   },
   {
    "duration": 1608,
    "start_time": "2022-03-17T08:46:49.968Z"
   },
   {
    "duration": 41,
    "start_time": "2022-03-17T08:46:51.579Z"
   },
   {
    "duration": 16,
    "start_time": "2022-03-17T08:46:51.622Z"
   },
   {
    "duration": 14,
    "start_time": "2022-03-17T08:46:51.641Z"
   },
   {
    "duration": 6,
    "start_time": "2022-03-17T08:46:51.658Z"
   },
   {
    "duration": 17,
    "start_time": "2022-03-17T08:46:51.666Z"
   },
   {
    "duration": 15,
    "start_time": "2022-03-17T08:46:51.685Z"
   },
   {
    "duration": 56,
    "start_time": "2022-03-17T08:46:51.703Z"
   },
   {
    "duration": 10,
    "start_time": "2022-03-17T08:46:51.762Z"
   },
   {
    "duration": 105,
    "start_time": "2022-03-17T08:46:51.775Z"
   },
   {
    "duration": 3960,
    "start_time": "2022-03-17T08:46:51.883Z"
   },
   {
    "duration": 14932,
    "start_time": "2022-03-17T08:46:55.845Z"
   },
   {
    "duration": 53,
    "start_time": "2022-03-17T08:47:10.779Z"
   },
   {
    "duration": 163,
    "start_time": "2022-03-17T08:47:10.850Z"
   },
   {
    "duration": 0,
    "start_time": "2022-03-17T08:47:11.016Z"
   },
   {
    "duration": 0,
    "start_time": "2022-03-17T08:47:11.017Z"
   },
   {
    "duration": 0,
    "start_time": "2022-03-17T08:47:11.019Z"
   },
   {
    "duration": 57,
    "start_time": "2022-03-17T08:47:22.247Z"
   },
   {
    "duration": 53,
    "start_time": "2022-03-17T08:47:34.393Z"
   },
   {
    "duration": 27,
    "start_time": "2022-03-17T08:48:51.686Z"
   },
   {
    "duration": 29,
    "start_time": "2022-03-17T08:49:06.510Z"
   },
   {
    "duration": 27,
    "start_time": "2022-03-17T08:49:32.826Z"
   },
   {
    "duration": 1517,
    "start_time": "2022-03-17T08:50:07.458Z"
   },
   {
    "duration": 36,
    "start_time": "2022-03-17T08:50:08.978Z"
   },
   {
    "duration": 17,
    "start_time": "2022-03-17T08:50:09.016Z"
   },
   {
    "duration": 6,
    "start_time": "2022-03-17T08:50:09.051Z"
   },
   {
    "duration": 12,
    "start_time": "2022-03-17T08:50:09.060Z"
   },
   {
    "duration": 19,
    "start_time": "2022-03-17T08:50:09.074Z"
   },
   {
    "duration": 14,
    "start_time": "2022-03-17T08:50:09.095Z"
   },
   {
    "duration": 45,
    "start_time": "2022-03-17T08:50:09.112Z"
   },
   {
    "duration": 11,
    "start_time": "2022-03-17T08:50:09.159Z"
   },
   {
    "duration": 98,
    "start_time": "2022-03-17T08:50:09.173Z"
   },
   {
    "duration": 4315,
    "start_time": "2022-03-17T08:50:09.273Z"
   },
   {
    "duration": 14171,
    "start_time": "2022-03-17T08:50:13.590Z"
   },
   {
    "duration": 52,
    "start_time": "2022-03-17T08:50:27.763Z"
   },
   {
    "duration": 179,
    "start_time": "2022-03-17T08:50:27.817Z"
   },
   {
    "duration": 0,
    "start_time": "2022-03-17T08:50:27.999Z"
   },
   {
    "duration": 0,
    "start_time": "2022-03-17T08:50:28.000Z"
   },
   {
    "duration": 0,
    "start_time": "2022-03-17T08:50:28.002Z"
   },
   {
    "duration": 28,
    "start_time": "2022-03-17T08:50:46.788Z"
   },
   {
    "duration": 28,
    "start_time": "2022-03-17T08:51:20.622Z"
   },
   {
    "duration": 4119,
    "start_time": "2022-03-17T08:52:10.808Z"
   },
   {
    "duration": 4349,
    "start_time": "2022-03-17T08:52:46.018Z"
   },
   {
    "duration": 3953,
    "start_time": "2022-03-17T08:52:59.957Z"
   },
   {
    "duration": 1505,
    "start_time": "2022-03-17T08:53:34.180Z"
   },
   {
    "duration": 37,
    "start_time": "2022-03-17T08:53:35.688Z"
   },
   {
    "duration": 24,
    "start_time": "2022-03-17T08:53:35.727Z"
   },
   {
    "duration": 5,
    "start_time": "2022-03-17T08:53:35.755Z"
   },
   {
    "duration": 11,
    "start_time": "2022-03-17T08:53:35.763Z"
   },
   {
    "duration": 17,
    "start_time": "2022-03-17T08:53:35.777Z"
   },
   {
    "duration": 17,
    "start_time": "2022-03-17T08:53:35.797Z"
   },
   {
    "duration": 15,
    "start_time": "2022-03-17T08:53:35.851Z"
   },
   {
    "duration": 10,
    "start_time": "2022-03-17T08:53:35.868Z"
   },
   {
    "duration": 104,
    "start_time": "2022-03-17T08:53:35.882Z"
   },
   {
    "duration": 3715,
    "start_time": "2022-03-17T08:53:35.988Z"
   },
   {
    "duration": 16724,
    "start_time": "2022-03-17T08:53:39.705Z"
   },
   {
    "duration": 69,
    "start_time": "2022-03-17T08:53:56.432Z"
   },
   {
    "duration": 4404,
    "start_time": "2022-03-17T08:53:56.503Z"
   },
   {
    "duration": 65,
    "start_time": "2022-03-17T08:54:00.909Z"
   },
   {
    "duration": 161,
    "start_time": "2022-03-17T08:54:00.976Z"
   },
   {
    "duration": 0,
    "start_time": "2022-03-17T08:54:01.140Z"
   },
   {
    "duration": 1556,
    "start_time": "2022-03-17T08:55:51.849Z"
   },
   {
    "duration": 41,
    "start_time": "2022-03-17T08:55:53.407Z"
   },
   {
    "duration": 17,
    "start_time": "2022-03-17T08:55:53.451Z"
   },
   {
    "duration": 10,
    "start_time": "2022-03-17T08:55:53.471Z"
   },
   {
    "duration": 14,
    "start_time": "2022-03-17T08:55:53.483Z"
   },
   {
    "duration": 23,
    "start_time": "2022-03-17T08:55:53.500Z"
   },
   {
    "duration": 30,
    "start_time": "2022-03-17T08:55:53.525Z"
   },
   {
    "duration": 14,
    "start_time": "2022-03-17T08:55:53.558Z"
   },
   {
    "duration": 9,
    "start_time": "2022-03-17T08:55:53.575Z"
   },
   {
    "duration": 169,
    "start_time": "2022-03-17T08:55:53.587Z"
   },
   {
    "duration": 0,
    "start_time": "2022-03-17T08:55:53.758Z"
   },
   {
    "duration": 0,
    "start_time": "2022-03-17T08:55:53.760Z"
   },
   {
    "duration": 0,
    "start_time": "2022-03-17T08:55:53.761Z"
   },
   {
    "duration": 0,
    "start_time": "2022-03-17T08:55:53.763Z"
   },
   {
    "duration": 0,
    "start_time": "2022-03-17T08:55:53.765Z"
   },
   {
    "duration": 0,
    "start_time": "2022-03-17T08:55:53.767Z"
   },
   {
    "duration": 0,
    "start_time": "2022-03-17T08:55:53.768Z"
   },
   {
    "duration": 26,
    "start_time": "2022-03-17T08:56:09.807Z"
   },
   {
    "duration": 88,
    "start_time": "2022-03-17T08:56:15.801Z"
   },
   {
    "duration": 4103,
    "start_time": "2022-03-17T08:56:22.680Z"
   },
   {
    "duration": 70217,
    "start_time": "2022-03-17T08:56:26.786Z"
   },
   {
    "duration": 4046,
    "start_time": "2022-03-17T08:57:37.006Z"
   },
   {
    "duration": 55,
    "start_time": "2022-03-17T08:57:41.054Z"
   },
   {
    "duration": 4320,
    "start_time": "2022-03-17T08:58:10.889Z"
   },
   {
    "duration": 74096,
    "start_time": "2022-03-17T08:58:29.618Z"
   },
   {
    "duration": 4146,
    "start_time": "2022-03-17T08:59:43.717Z"
   },
   {
    "duration": 53,
    "start_time": "2022-03-17T08:59:47.865Z"
   },
   {
    "duration": 63058,
    "start_time": "2022-03-17T08:59:57.108Z"
   },
   {
    "duration": 4948,
    "start_time": "2022-03-17T09:01:00.169Z"
   },
   {
    "duration": 69,
    "start_time": "2022-03-17T09:01:05.119Z"
   },
   {
    "duration": 96,
    "start_time": "2022-03-17T09:02:40.321Z"
   },
   {
    "duration": 27,
    "start_time": "2022-03-17T09:02:45.426Z"
   },
   {
    "duration": 88,
    "start_time": "2022-03-17T09:02:53.235Z"
   },
   {
    "duration": 4499,
    "start_time": "2022-03-17T09:02:59.940Z"
   },
   {
    "duration": 56,
    "start_time": "2022-03-17T09:03:04.442Z"
   },
   {
    "duration": 4342,
    "start_time": "2022-03-17T09:03:05.944Z"
   },
   {
    "duration": 1742,
    "start_time": "2022-03-17T09:03:47.170Z"
   },
   {
    "duration": 35,
    "start_time": "2022-03-17T09:03:48.914Z"
   },
   {
    "duration": 17,
    "start_time": "2022-03-17T09:03:48.952Z"
   },
   {
    "duration": 8,
    "start_time": "2022-03-17T09:03:48.972Z"
   },
   {
    "duration": 8,
    "start_time": "2022-03-17T09:03:48.982Z"
   },
   {
    "duration": 21,
    "start_time": "2022-03-17T09:03:48.992Z"
   },
   {
    "duration": 48,
    "start_time": "2022-03-17T09:03:49.016Z"
   },
   {
    "duration": 14,
    "start_time": "2022-03-17T09:03:49.067Z"
   },
   {
    "duration": 8,
    "start_time": "2022-03-17T09:03:49.084Z"
   },
   {
    "duration": 120,
    "start_time": "2022-03-17T09:03:49.095Z"
   },
   {
    "duration": 6258,
    "start_time": "2022-03-17T09:03:49.217Z"
   },
   {
    "duration": 1827,
    "start_time": "2022-03-17T09:04:44.232Z"
   },
   {
    "duration": 39,
    "start_time": "2022-03-17T09:04:46.061Z"
   },
   {
    "duration": 17,
    "start_time": "2022-03-17T09:04:46.102Z"
   },
   {
    "duration": 33,
    "start_time": "2022-03-17T09:04:46.122Z"
   },
   {
    "duration": 6,
    "start_time": "2022-03-17T09:04:46.158Z"
   },
   {
    "duration": 17,
    "start_time": "2022-03-17T09:04:46.166Z"
   },
   {
    "duration": 19,
    "start_time": "2022-03-17T09:04:46.185Z"
   },
   {
    "duration": 16,
    "start_time": "2022-03-17T09:04:46.205Z"
   },
   {
    "duration": 7,
    "start_time": "2022-03-17T09:04:46.251Z"
   },
   {
    "duration": 103,
    "start_time": "2022-03-17T09:04:46.262Z"
   },
   {
    "duration": 4361,
    "start_time": "2022-03-17T09:04:46.367Z"
   },
   {
    "duration": 61493,
    "start_time": "2022-03-17T09:04:50.730Z"
   },
   {
    "duration": 62,
    "start_time": "2022-03-17T09:05:52.226Z"
   },
   {
    "duration": 4198,
    "start_time": "2022-03-17T09:05:52.291Z"
   },
   {
    "duration": 63,
    "start_time": "2022-03-17T09:05:56.491Z"
   },
   {
    "duration": 6311,
    "start_time": "2022-03-17T09:05:56.557Z"
   },
   {
    "duration": 110,
    "start_time": "2022-03-17T09:07:13.436Z"
   },
   {
    "duration": 87,
    "start_time": "2022-03-17T09:07:21.610Z"
   },
   {
    "duration": 1633,
    "start_time": "2022-03-17T09:07:28.364Z"
   },
   {
    "duration": 39,
    "start_time": "2022-03-17T09:07:30.000Z"
   },
   {
    "duration": 24,
    "start_time": "2022-03-17T09:07:30.041Z"
   },
   {
    "duration": 21,
    "start_time": "2022-03-17T09:07:30.068Z"
   },
   {
    "duration": 19,
    "start_time": "2022-03-17T09:07:30.091Z"
   },
   {
    "duration": 28,
    "start_time": "2022-03-17T09:07:30.112Z"
   },
   {
    "duration": 18,
    "start_time": "2022-03-17T09:07:30.143Z"
   },
   {
    "duration": 30,
    "start_time": "2022-03-17T09:07:30.164Z"
   },
   {
    "duration": 13,
    "start_time": "2022-03-17T09:07:30.197Z"
   },
   {
    "duration": 149,
    "start_time": "2022-03-17T09:07:30.214Z"
   },
   {
    "duration": 6238,
    "start_time": "2022-03-17T09:07:30.365Z"
   },
   {
    "duration": 85641,
    "start_time": "2022-03-17T09:07:36.605Z"
   },
   {
    "duration": 53,
    "start_time": "2022-03-17T09:09:02.252Z"
   },
   {
    "duration": 111,
    "start_time": "2022-03-17T09:09:02.308Z"
   },
   {
    "duration": 66,
    "start_time": "2022-03-17T09:09:02.421Z"
   },
   {
    "duration": 6,
    "start_time": "2022-03-17T09:13:31.493Z"
   },
   {
    "duration": 6,
    "start_time": "2022-03-17T09:13:43.217Z"
   },
   {
    "duration": 15,
    "start_time": "2022-03-17T09:13:59.153Z"
   },
   {
    "duration": 16,
    "start_time": "2022-03-17T09:14:06.266Z"
   },
   {
    "duration": 16,
    "start_time": "2022-03-17T09:14:10.963Z"
   },
   {
    "duration": 8,
    "start_time": "2022-03-17T09:20:54.488Z"
   },
   {
    "duration": 5,
    "start_time": "2022-03-17T09:22:12.679Z"
   },
   {
    "duration": 27,
    "start_time": "2022-03-17T09:23:40.595Z"
   },
   {
    "duration": 25,
    "start_time": "2022-03-17T09:23:43.334Z"
   },
   {
    "duration": 1780,
    "start_time": "2022-03-17T09:23:55.334Z"
   },
   {
    "duration": 41,
    "start_time": "2022-03-17T09:23:57.117Z"
   },
   {
    "duration": 17,
    "start_time": "2022-03-17T09:23:57.160Z"
   },
   {
    "duration": 14,
    "start_time": "2022-03-17T09:23:57.180Z"
   },
   {
    "duration": 12,
    "start_time": "2022-03-17T09:23:57.196Z"
   },
   {
    "duration": 45,
    "start_time": "2022-03-17T09:23:57.210Z"
   },
   {
    "duration": 20,
    "start_time": "2022-03-17T09:23:57.258Z"
   },
   {
    "duration": 16,
    "start_time": "2022-03-17T09:23:57.280Z"
   },
   {
    "duration": 8,
    "start_time": "2022-03-17T09:23:57.298Z"
   },
   {
    "duration": 124,
    "start_time": "2022-03-17T09:23:57.312Z"
   },
   {
    "duration": 37,
    "start_time": "2022-03-17T09:23:57.438Z"
   },
   {
    "duration": 4464,
    "start_time": "2022-03-17T09:23:57.478Z"
   },
   {
    "duration": 60667,
    "start_time": "2022-03-17T09:24:01.952Z"
   },
   {
    "duration": 65,
    "start_time": "2022-03-17T09:25:02.622Z"
   },
   {
    "duration": 100,
    "start_time": "2022-03-17T09:25:02.689Z"
   },
   {
    "duration": 70,
    "start_time": "2022-03-17T09:25:02.792Z"
   },
   {
    "duration": 99,
    "start_time": "2022-03-17T09:58:47.644Z"
   },
   {
    "duration": 85,
    "start_time": "2022-03-17T10:00:48.370Z"
   },
   {
    "duration": 10,
    "start_time": "2022-03-17T10:02:26.428Z"
   },
   {
    "duration": 4268,
    "start_time": "2022-03-17T10:02:38.017Z"
   },
   {
    "duration": 4383,
    "start_time": "2022-03-17T10:02:42.621Z"
   },
   {
    "duration": 1534,
    "start_time": "2022-03-17T10:03:47.763Z"
   },
   {
    "duration": 38,
    "start_time": "2022-03-17T10:03:49.300Z"
   },
   {
    "duration": 16,
    "start_time": "2022-03-17T10:03:49.340Z"
   },
   {
    "duration": 5,
    "start_time": "2022-03-17T10:03:49.367Z"
   },
   {
    "duration": 6,
    "start_time": "2022-03-17T10:03:49.375Z"
   },
   {
    "duration": 16,
    "start_time": "2022-03-17T10:03:49.383Z"
   },
   {
    "duration": 13,
    "start_time": "2022-03-17T10:03:49.401Z"
   },
   {
    "duration": 56,
    "start_time": "2022-03-17T10:03:49.417Z"
   },
   {
    "duration": 8,
    "start_time": "2022-03-17T10:03:49.475Z"
   },
   {
    "duration": 103,
    "start_time": "2022-03-17T10:03:49.486Z"
   },
   {
    "duration": 4304,
    "start_time": "2022-03-17T10:03:49.592Z"
   },
   {
    "duration": 60070,
    "start_time": "2022-03-17T10:03:53.899Z"
   },
   {
    "duration": 100,
    "start_time": "2022-03-17T10:04:53.972Z"
   },
   {
    "duration": 146,
    "start_time": "2022-03-17T10:04:54.077Z"
   },
   {
    "duration": 69,
    "start_time": "2022-03-17T10:04:54.226Z"
   },
   {
    "duration": 89,
    "start_time": "2022-03-17T10:05:49.926Z"
   },
   {
    "duration": 1548,
    "start_time": "2022-03-17T10:06:12.703Z"
   },
   {
    "duration": 39,
    "start_time": "2022-03-17T10:06:14.254Z"
   },
   {
    "duration": 17,
    "start_time": "2022-03-17T10:06:14.295Z"
   },
   {
    "duration": 13,
    "start_time": "2022-03-17T10:06:14.316Z"
   },
   {
    "duration": 6,
    "start_time": "2022-03-17T10:06:14.332Z"
   },
   {
    "duration": 16,
    "start_time": "2022-03-17T10:06:14.368Z"
   },
   {
    "duration": 19,
    "start_time": "2022-03-17T10:06:14.386Z"
   },
   {
    "duration": 18,
    "start_time": "2022-03-17T10:06:14.408Z"
   },
   {
    "duration": 46,
    "start_time": "2022-03-17T10:06:14.428Z"
   },
   {
    "duration": 100,
    "start_time": "2022-03-17T10:06:14.477Z"
   },
   {
    "duration": 4477,
    "start_time": "2022-03-17T10:06:14.579Z"
   },
   {
    "duration": 63211,
    "start_time": "2022-03-17T10:06:19.058Z"
   },
   {
    "duration": 51,
    "start_time": "2022-03-17T10:07:22.271Z"
   },
   {
    "duration": 112,
    "start_time": "2022-03-17T10:07:22.326Z"
   },
   {
    "duration": 64,
    "start_time": "2022-03-17T10:07:22.440Z"
   },
   {
    "duration": 85,
    "start_time": "2022-03-17T10:07:39.582Z"
   },
   {
    "duration": 4314,
    "start_time": "2022-03-17T10:07:42.712Z"
   },
   {
    "duration": 59539,
    "start_time": "2022-03-17T10:07:53.134Z"
   },
   {
    "duration": 1473,
    "start_time": "2022-03-17T10:09:21.217Z"
   },
   {
    "duration": 42,
    "start_time": "2022-03-17T10:09:22.693Z"
   },
   {
    "duration": 18,
    "start_time": "2022-03-17T10:09:22.737Z"
   },
   {
    "duration": 5,
    "start_time": "2022-03-17T10:09:22.770Z"
   },
   {
    "duration": 11,
    "start_time": "2022-03-17T10:09:22.778Z"
   },
   {
    "duration": 19,
    "start_time": "2022-03-17T10:09:22.792Z"
   },
   {
    "duration": 15,
    "start_time": "2022-03-17T10:09:22.813Z"
   },
   {
    "duration": 47,
    "start_time": "2022-03-17T10:09:22.830Z"
   },
   {
    "duration": 8,
    "start_time": "2022-03-17T10:09:22.880Z"
   },
   {
    "duration": 107,
    "start_time": "2022-03-17T10:09:22.891Z"
   },
   {
    "duration": 160,
    "start_time": "2022-03-17T10:09:23.000Z"
   },
   {
    "duration": 0,
    "start_time": "2022-03-17T10:09:23.163Z"
   },
   {
    "duration": 0,
    "start_time": "2022-03-17T10:09:23.167Z"
   },
   {
    "duration": 0,
    "start_time": "2022-03-17T10:09:23.169Z"
   },
   {
    "duration": 0,
    "start_time": "2022-03-17T10:09:23.171Z"
   },
   {
    "duration": 4458,
    "start_time": "2022-03-17T10:10:45.026Z"
   },
   {
    "duration": 100,
    "start_time": "2022-03-17T10:11:57.472Z"
   },
   {
    "duration": 4406,
    "start_time": "2022-03-17T10:11:57.574Z"
   },
   {
    "duration": 60888,
    "start_time": "2022-03-17T10:12:01.983Z"
   },
   {
    "duration": 251,
    "start_time": "2022-03-17T10:13:02.874Z"
   },
   {
    "duration": 20,
    "start_time": "2022-03-17T10:13:17.537Z"
   },
   {
    "duration": 17,
    "start_time": "2022-03-17T10:13:23.042Z"
   },
   {
    "duration": 50,
    "start_time": "2022-03-17T10:13:46.203Z"
   },
   {
    "duration": 55,
    "start_time": "2022-03-17T10:13:58.155Z"
   },
   {
    "duration": 55,
    "start_time": "2022-03-17T10:17:06.571Z"
   },
   {
    "duration": 52,
    "start_time": "2022-03-17T10:20:38.849Z"
   },
   {
    "duration": 50,
    "start_time": "2022-03-17T10:23:54.281Z"
   },
   {
    "duration": 128704,
    "start_time": "2022-03-18T01:57:04.531Z"
   },
   {
    "duration": 46,
    "start_time": "2022-03-18T01:59:13.237Z"
   },
   {
    "duration": 13,
    "start_time": "2022-03-18T01:59:13.285Z"
   },
   {
    "duration": 3,
    "start_time": "2022-03-18T01:59:54.605Z"
   },
   {
    "duration": 4,
    "start_time": "2022-03-18T01:59:55.363Z"
   },
   {
    "duration": 10,
    "start_time": "2022-03-18T01:59:55.956Z"
   },
   {
    "duration": 10,
    "start_time": "2022-03-18T01:59:56.513Z"
   },
   {
    "duration": 9,
    "start_time": "2022-03-18T01:59:56.915Z"
   },
   {
    "duration": 5,
    "start_time": "2022-03-18T02:00:06.153Z"
   },
   {
    "duration": 52,
    "start_time": "2022-03-18T02:00:07.826Z"
   },
   {
    "duration": 2983,
    "start_time": "2022-03-18T02:00:32.748Z"
   },
   {
    "duration": 37745,
    "start_time": "2022-03-18T02:00:42.869Z"
   },
   {
    "duration": 36,
    "start_time": "2022-03-18T02:03:55.368Z"
   },
   {
    "duration": 38,
    "start_time": "2022-03-18T02:04:00.573Z"
   },
   {
    "duration": 33,
    "start_time": "2022-03-18T02:04:05.996Z"
   },
   {
    "duration": 122,
    "start_time": "2022-03-19T12:13:45.345Z"
   },
   {
    "duration": 3,
    "start_time": "2022-03-19T12:22:51.529Z"
   },
   {
    "duration": 2,
    "start_time": "2022-03-19T12:23:00.018Z"
   },
   {
    "duration": 41,
    "start_time": "2022-03-19T12:27:58.484Z"
   },
   {
    "duration": 1154,
    "start_time": "2022-03-19T12:28:07.927Z"
   },
   {
    "duration": 26,
    "start_time": "2022-03-19T12:28:09.083Z"
   },
   {
    "duration": 10,
    "start_time": "2022-03-19T12:28:09.111Z"
   },
   {
    "duration": 705,
    "start_time": "2022-03-19T12:28:09.123Z"
   },
   {
    "duration": 0,
    "start_time": "2022-03-19T12:28:09.833Z"
   },
   {
    "duration": 0,
    "start_time": "2022-03-19T12:28:09.834Z"
   },
   {
    "duration": 0,
    "start_time": "2022-03-19T12:28:09.835Z"
   },
   {
    "duration": 0,
    "start_time": "2022-03-19T12:28:09.836Z"
   },
   {
    "duration": 0,
    "start_time": "2022-03-19T12:28:09.837Z"
   },
   {
    "duration": 0,
    "start_time": "2022-03-19T12:28:09.838Z"
   },
   {
    "duration": 0,
    "start_time": "2022-03-19T12:28:09.840Z"
   },
   {
    "duration": 0,
    "start_time": "2022-03-19T12:28:09.841Z"
   },
   {
    "duration": 0,
    "start_time": "2022-03-19T12:28:09.842Z"
   },
   {
    "duration": 0,
    "start_time": "2022-03-19T12:28:09.842Z"
   },
   {
    "duration": 0,
    "start_time": "2022-03-19T12:28:09.844Z"
   },
   {
    "duration": 0,
    "start_time": "2022-03-19T12:28:09.844Z"
   },
   {
    "duration": 5,
    "start_time": "2022-03-19T12:30:52.708Z"
   },
   {
    "duration": 275,
    "start_time": "2022-03-19T12:34:26.414Z"
   },
   {
    "duration": 7,
    "start_time": "2022-03-19T12:36:16.619Z"
   },
   {
    "duration": 14,
    "start_time": "2022-03-19T12:37:20.762Z"
   },
   {
    "duration": 172,
    "start_time": "2022-03-19T12:38:29.797Z"
   },
   {
    "duration": 1249,
    "start_time": "2022-03-19T12:38:50.894Z"
   },
   {
    "duration": 32,
    "start_time": "2022-03-19T12:38:52.145Z"
   },
   {
    "duration": 11,
    "start_time": "2022-03-19T12:38:52.178Z"
   },
   {
    "duration": 541,
    "start_time": "2022-03-19T12:38:52.191Z"
   },
   {
    "duration": 0,
    "start_time": "2022-03-19T12:38:52.734Z"
   },
   {
    "duration": 0,
    "start_time": "2022-03-19T12:38:52.735Z"
   },
   {
    "duration": 0,
    "start_time": "2022-03-19T12:38:52.737Z"
   },
   {
    "duration": 0,
    "start_time": "2022-03-19T12:38:52.738Z"
   },
   {
    "duration": 0,
    "start_time": "2022-03-19T12:38:52.739Z"
   },
   {
    "duration": 0,
    "start_time": "2022-03-19T12:38:52.740Z"
   },
   {
    "duration": 0,
    "start_time": "2022-03-19T12:38:52.741Z"
   },
   {
    "duration": 0,
    "start_time": "2022-03-19T12:38:52.742Z"
   },
   {
    "duration": 0,
    "start_time": "2022-03-19T12:38:52.743Z"
   },
   {
    "duration": 0,
    "start_time": "2022-03-19T12:38:52.744Z"
   },
   {
    "duration": 0,
    "start_time": "2022-03-19T12:38:52.746Z"
   },
   {
    "duration": 0,
    "start_time": "2022-03-19T12:38:52.746Z"
   },
   {
    "duration": 0,
    "start_time": "2022-03-19T12:38:52.747Z"
   },
   {
    "duration": 0,
    "start_time": "2022-03-19T12:38:52.748Z"
   },
   {
    "duration": 0,
    "start_time": "2022-03-19T12:38:52.749Z"
   },
   {
    "duration": 0,
    "start_time": "2022-03-19T12:38:52.750Z"
   },
   {
    "duration": 11,
    "start_time": "2022-03-19T12:39:11.989Z"
   },
   {
    "duration": 14,
    "start_time": "2022-03-19T12:39:20.698Z"
   },
   {
    "duration": 205,
    "start_time": "2022-03-19T12:39:23.096Z"
   },
   {
    "duration": 184,
    "start_time": "2022-03-19T12:40:10.115Z"
   },
   {
    "duration": 13,
    "start_time": "2022-03-19T12:40:38.476Z"
   },
   {
    "duration": 177,
    "start_time": "2022-03-19T12:40:40.376Z"
   },
   {
    "duration": 14,
    "start_time": "2022-03-19T12:41:38.672Z"
   },
   {
    "duration": 175,
    "start_time": "2022-03-19T12:41:47.263Z"
   },
   {
    "duration": 5,
    "start_time": "2022-03-19T12:42:41.599Z"
   },
   {
    "duration": 206,
    "start_time": "2022-03-19T12:44:00.635Z"
   },
   {
    "duration": 3,
    "start_time": "2022-03-19T12:44:53.044Z"
   },
   {
    "duration": 1468,
    "start_time": "2022-03-19T12:44:59.557Z"
   },
   {
    "duration": 29,
    "start_time": "2022-03-19T12:45:01.027Z"
   },
   {
    "duration": 11,
    "start_time": "2022-03-19T12:45:01.058Z"
   },
   {
    "duration": 286,
    "start_time": "2022-03-19T12:45:01.071Z"
   },
   {
    "duration": 4,
    "start_time": "2022-03-19T12:45:01.359Z"
   },
   {
    "duration": 220,
    "start_time": "2022-03-19T12:45:01.365Z"
   },
   {
    "duration": 103,
    "start_time": "2022-03-19T12:45:01.587Z"
   },
   {
    "duration": 0,
    "start_time": "2022-03-19T12:45:01.692Z"
   },
   {
    "duration": 0,
    "start_time": "2022-03-19T12:45:01.693Z"
   },
   {
    "duration": 0,
    "start_time": "2022-03-19T12:45:01.695Z"
   },
   {
    "duration": 0,
    "start_time": "2022-03-19T12:45:01.696Z"
   },
   {
    "duration": 0,
    "start_time": "2022-03-19T12:45:01.698Z"
   },
   {
    "duration": 1,
    "start_time": "2022-03-19T12:45:01.699Z"
   },
   {
    "duration": 0,
    "start_time": "2022-03-19T12:45:01.700Z"
   },
   {
    "duration": 0,
    "start_time": "2022-03-19T12:45:01.702Z"
   },
   {
    "duration": 0,
    "start_time": "2022-03-19T12:45:01.704Z"
   },
   {
    "duration": 0,
    "start_time": "2022-03-19T12:45:01.705Z"
   },
   {
    "duration": 0,
    "start_time": "2022-03-19T12:45:01.706Z"
   },
   {
    "duration": 0,
    "start_time": "2022-03-19T12:45:01.707Z"
   },
   {
    "duration": 0,
    "start_time": "2022-03-19T12:45:01.733Z"
   },
   {
    "duration": 0,
    "start_time": "2022-03-19T12:45:01.734Z"
   },
   {
    "duration": 14,
    "start_time": "2022-03-19T12:45:19.460Z"
   },
   {
    "duration": 173,
    "start_time": "2022-03-19T12:45:22.109Z"
   },
   {
    "duration": 4,
    "start_time": "2022-03-19T12:45:25.617Z"
   },
   {
    "duration": 182,
    "start_time": "2022-03-19T12:48:35.967Z"
   },
   {
    "duration": 14,
    "start_time": "2022-03-19T12:49:52.127Z"
   },
   {
    "duration": 10,
    "start_time": "2022-03-19T13:26:11.838Z"
   },
   {
    "duration": 15,
    "start_time": "2022-03-19T13:26:15.537Z"
   },
   {
    "duration": 181,
    "start_time": "2022-03-19T13:26:18.994Z"
   },
   {
    "duration": 177,
    "start_time": "2022-03-19T13:26:37.186Z"
   },
   {
    "duration": 5,
    "start_time": "2022-03-19T13:27:19.580Z"
   },
   {
    "duration": 228,
    "start_time": "2022-03-19T13:29:51.552Z"
   },
   {
    "duration": 4,
    "start_time": "2022-03-19T13:30:01.231Z"
   },
   {
    "duration": 13,
    "start_time": "2022-03-19T13:30:07.064Z"
   },
   {
    "duration": 165,
    "start_time": "2022-03-19T13:30:47.637Z"
   },
   {
    "duration": 4,
    "start_time": "2022-03-19T13:30:59.109Z"
   },
   {
    "duration": 170,
    "start_time": "2022-03-19T13:31:53.173Z"
   },
   {
    "duration": 5,
    "start_time": "2022-03-19T13:32:41.403Z"
   },
   {
    "duration": 4,
    "start_time": "2022-03-19T13:33:08.421Z"
   },
   {
    "duration": 183,
    "start_time": "2022-03-19T13:35:00.536Z"
   },
   {
    "duration": 5,
    "start_time": "2022-03-19T13:35:41.301Z"
   },
   {
    "duration": 175,
    "start_time": "2022-03-19T13:37:41.931Z"
   },
   {
    "duration": 5,
    "start_time": "2022-03-19T13:37:56.440Z"
   },
   {
    "duration": 4,
    "start_time": "2022-03-19T13:38:27.081Z"
   },
   {
    "duration": 17,
    "start_time": "2022-03-19T13:42:02.890Z"
   },
   {
    "duration": 4,
    "start_time": "2022-03-19T13:42:23.839Z"
   },
   {
    "duration": 1365,
    "start_time": "2022-03-19T13:45:30.784Z"
   },
   {
    "duration": 24,
    "start_time": "2022-03-19T13:45:32.151Z"
   },
   {
    "duration": 12,
    "start_time": "2022-03-19T13:45:32.177Z"
   },
   {
    "duration": 200,
    "start_time": "2022-03-19T13:45:32.192Z"
   },
   {
    "duration": 4,
    "start_time": "2022-03-19T13:45:32.394Z"
   },
   {
    "duration": 209,
    "start_time": "2022-03-19T13:45:32.400Z"
   },
   {
    "duration": 15,
    "start_time": "2022-03-19T13:45:32.611Z"
   },
   {
    "duration": 166,
    "start_time": "2022-03-19T13:45:32.627Z"
   },
   {
    "duration": 5,
    "start_time": "2022-03-19T13:45:32.794Z"
   },
   {
    "duration": 31,
    "start_time": "2022-03-19T13:45:32.802Z"
   },
   {
    "duration": 183,
    "start_time": "2022-03-19T13:45:32.835Z"
   },
   {
    "duration": 16,
    "start_time": "2022-03-19T13:45:33.019Z"
   },
   {
    "duration": 204,
    "start_time": "2022-03-19T13:45:33.037Z"
   },
   {
    "duration": 4,
    "start_time": "2022-03-19T13:45:33.243Z"
   },
   {
    "duration": 198,
    "start_time": "2022-03-19T13:45:33.250Z"
   },
   {
    "duration": 6,
    "start_time": "2022-03-19T13:45:33.450Z"
   },
   {
    "duration": 270,
    "start_time": "2022-03-19T13:45:33.458Z"
   },
   {
    "duration": 4,
    "start_time": "2022-03-19T13:45:33.733Z"
   },
   {
    "duration": 9,
    "start_time": "2022-03-19T13:45:33.739Z"
   },
   {
    "duration": 6,
    "start_time": "2022-03-19T13:45:33.750Z"
   },
   {
    "duration": 15,
    "start_time": "2022-03-19T13:45:33.758Z"
   },
   {
    "duration": 16,
    "start_time": "2022-03-19T13:45:33.774Z"
   },
   {
    "duration": 12,
    "start_time": "2022-03-19T13:45:33.792Z"
   },
   {
    "duration": 5,
    "start_time": "2022-03-19T13:45:33.833Z"
   },
   {
    "duration": 60,
    "start_time": "2022-03-19T13:45:33.840Z"
   },
   {
    "duration": 2865,
    "start_time": "2022-03-19T13:45:33.902Z"
   },
   {
    "duration": 1494,
    "start_time": "2022-03-19T13:46:19.317Z"
   },
   {
    "duration": 26,
    "start_time": "2022-03-19T13:46:20.813Z"
   },
   {
    "duration": 10,
    "start_time": "2022-03-19T13:46:20.841Z"
   },
   {
    "duration": 189,
    "start_time": "2022-03-19T13:46:20.853Z"
   },
   {
    "duration": 4,
    "start_time": "2022-03-19T13:46:21.044Z"
   },
   {
    "duration": 207,
    "start_time": "2022-03-19T13:46:21.050Z"
   },
   {
    "duration": 15,
    "start_time": "2022-03-19T13:46:21.259Z"
   },
   {
    "duration": 160,
    "start_time": "2022-03-19T13:46:21.275Z"
   },
   {
    "duration": 4,
    "start_time": "2022-03-19T13:46:21.437Z"
   },
   {
    "duration": 15,
    "start_time": "2022-03-19T13:46:21.443Z"
   },
   {
    "duration": 194,
    "start_time": "2022-03-19T13:46:21.459Z"
   },
   {
    "duration": 4,
    "start_time": "2022-03-19T13:46:21.656Z"
   },
   {
    "duration": 198,
    "start_time": "2022-03-19T13:46:21.661Z"
   },
   {
    "duration": 4,
    "start_time": "2022-03-19T13:46:21.861Z"
   },
   {
    "duration": 200,
    "start_time": "2022-03-19T13:46:21.867Z"
   },
   {
    "duration": 5,
    "start_time": "2022-03-19T13:46:22.069Z"
   },
   {
    "duration": 261,
    "start_time": "2022-03-19T13:46:22.075Z"
   },
   {
    "duration": 5,
    "start_time": "2022-03-19T13:46:22.338Z"
   },
   {
    "duration": 6,
    "start_time": "2022-03-19T13:46:22.345Z"
   },
   {
    "duration": 6,
    "start_time": "2022-03-19T13:46:22.352Z"
   },
   {
    "duration": 11,
    "start_time": "2022-03-19T13:46:22.359Z"
   },
   {
    "duration": 10,
    "start_time": "2022-03-19T13:46:22.371Z"
   },
   {
    "duration": 11,
    "start_time": "2022-03-19T13:46:22.382Z"
   },
   {
    "duration": 6,
    "start_time": "2022-03-19T13:46:22.394Z"
   },
   {
    "duration": 47,
    "start_time": "2022-03-19T13:46:22.433Z"
   },
   {
    "duration": 2775,
    "start_time": "2022-03-19T13:46:22.482Z"
   },
   {
    "duration": 19,
    "start_time": "2022-03-19T13:46:56.992Z"
   },
   {
    "duration": 42,
    "start_time": "2022-03-19T13:46:57.012Z"
   },
   {
    "duration": 15,
    "start_time": "2022-03-19T13:46:57.055Z"
   },
   {
    "duration": 31256,
    "start_time": "2022-03-19T13:46:57.072Z"
   },
   {
    "duration": 2210,
    "start_time": "2022-03-19T13:47:28.333Z"
   },
   {
    "duration": 4,
    "start_time": "2022-03-19T13:47:30.545Z"
   },
   {
    "duration": 5,
    "start_time": "2022-03-19T13:47:33.427Z"
   },
   {
    "duration": 2075,
    "start_time": "2022-03-19T13:47:49.385Z"
   },
   {
    "duration": 2133,
    "start_time": "2022-03-19T13:48:35.160Z"
   },
   {
    "duration": 32796,
    "start_time": "2022-03-19T13:48:37.295Z"
   },
   {
    "duration": 31564,
    "start_time": "2022-03-19T13:49:53.880Z"
   },
   {
    "duration": 32877,
    "start_time": "2022-03-19T13:52:19.284Z"
   },
   {
    "duration": 20,
    "start_time": "2022-03-19T13:52:52.162Z"
   },
   {
    "duration": 21,
    "start_time": "2022-03-19T13:53:56.298Z"
   },
   {
    "duration": 29500,
    "start_time": "2022-03-19T13:55:17.502Z"
   },
   {
    "duration": 29,
    "start_time": "2022-03-19T13:55:47.004Z"
   },
   {
    "duration": 33153,
    "start_time": "2022-03-19T13:56:00.306Z"
   },
   {
    "duration": 29,
    "start_time": "2022-03-19T13:56:33.461Z"
   },
   {
    "duration": 32,
    "start_time": "2022-03-19T13:56:48.451Z"
   },
   {
    "duration": 22,
    "start_time": "2022-03-19T13:56:51.426Z"
   },
   {
    "duration": 36326,
    "start_time": "2022-03-19T13:57:07.834Z"
   },
   {
    "duration": 21,
    "start_time": "2022-03-19T13:57:59.750Z"
   },
   {
    "duration": 21,
    "start_time": "2022-03-19T13:58:04.108Z"
   },
   {
    "duration": 3572,
    "start_time": "2022-03-19T13:58:20.724Z"
   },
   {
    "duration": 2412,
    "start_time": "2022-03-19T13:58:30.121Z"
   },
   {
    "duration": 2687,
    "start_time": "2022-03-19T13:58:37.981Z"
   },
   {
    "duration": 2738,
    "start_time": "2022-03-19T13:58:46.515Z"
   },
   {
    "duration": 2831,
    "start_time": "2022-03-19T13:58:57.271Z"
   },
   {
    "duration": 2080,
    "start_time": "2022-03-19T13:59:05.860Z"
   },
   {
    "duration": 2179,
    "start_time": "2022-03-19T13:59:12.513Z"
   },
   {
    "duration": 18,
    "start_time": "2022-03-19T13:59:27.136Z"
   },
   {
    "duration": 2276,
    "start_time": "2022-03-19T13:59:41.858Z"
   },
   {
    "duration": 21,
    "start_time": "2022-03-19T13:59:58.214Z"
   },
   {
    "duration": 22,
    "start_time": "2022-03-19T14:00:03.639Z"
   },
   {
    "duration": 17,
    "start_time": "2022-03-19T14:00:09.821Z"
   },
   {
    "duration": 19,
    "start_time": "2022-03-19T14:00:15.785Z"
   },
   {
    "duration": 20,
    "start_time": "2022-03-19T14:00:20.996Z"
   },
   {
    "duration": 18,
    "start_time": "2022-03-19T14:00:25.684Z"
   },
   {
    "duration": 14,
    "start_time": "2022-03-19T14:00:30.966Z"
   },
   {
    "duration": 13,
    "start_time": "2022-03-19T14:00:36.382Z"
   },
   {
    "duration": 15,
    "start_time": "2022-03-19T14:00:41.150Z"
   },
   {
    "duration": 2622,
    "start_time": "2022-03-19T14:00:52.469Z"
   },
   {
    "duration": 69,
    "start_time": "2022-03-19T14:01:11.197Z"
   },
   {
    "duration": 30,
    "start_time": "2022-03-19T14:01:17.173Z"
   },
   {
    "duration": 15,
    "start_time": "2022-03-19T14:01:23.815Z"
   },
   {
    "duration": 13,
    "start_time": "2022-03-19T14:01:29.195Z"
   },
   {
    "duration": 11,
    "start_time": "2022-03-19T14:01:33.795Z"
   },
   {
    "duration": 17,
    "start_time": "2022-03-19T14:01:40.609Z"
   },
   {
    "duration": 15,
    "start_time": "2022-03-19T14:01:44.481Z"
   },
   {
    "duration": 21,
    "start_time": "2022-03-19T14:02:01.329Z"
   },
   {
    "duration": 22,
    "start_time": "2022-03-19T14:02:09.715Z"
   },
   {
    "duration": 20,
    "start_time": "2022-03-19T14:02:18.660Z"
   },
   {
    "duration": 18,
    "start_time": "2022-03-19T14:02:23.396Z"
   },
   {
    "duration": 23,
    "start_time": "2022-03-19T14:02:30.286Z"
   },
   {
    "duration": 2436,
    "start_time": "2022-03-19T14:02:42.833Z"
   },
   {
    "duration": 34762,
    "start_time": "2022-03-19T14:02:48.851Z"
   },
   {
    "duration": 58,
    "start_time": "2022-03-19T14:03:23.615Z"
   },
   {
    "duration": 38280,
    "start_time": "2022-03-19T14:03:57.148Z"
   },
   {
    "duration": 56,
    "start_time": "2022-03-19T14:04:35.433Z"
   },
   {
    "duration": 54,
    "start_time": "2022-03-19T14:05:03.841Z"
   },
   {
    "duration": 49,
    "start_time": "2022-03-19T14:05:23.033Z"
   },
   {
    "duration": 2905,
    "start_time": "2022-03-19T14:05:24.358Z"
   },
   {
    "duration": 43104,
    "start_time": "2022-03-19T14:05:27.265Z"
   },
   {
    "duration": 28,
    "start_time": "2022-03-19T14:06:10.371Z"
   },
   {
    "duration": 2423,
    "start_time": "2022-03-19T14:06:10.402Z"
   },
   {
    "duration": 47,
    "start_time": "2022-03-19T14:06:12.827Z"
   },
   {
    "duration": 17,
    "start_time": "2022-03-19T14:06:34.575Z"
   },
   {
    "duration": 30,
    "start_time": "2022-03-19T14:06:44.525Z"
   },
   {
    "duration": 46,
    "start_time": "2022-03-19T14:07:02.791Z"
   },
   {
    "duration": 84,
    "start_time": "2022-03-19T14:07:24.622Z"
   },
   {
    "duration": 27,
    "start_time": "2022-03-19T14:07:31.515Z"
   },
   {
    "duration": 82,
    "start_time": "2022-03-19T14:07:37.952Z"
   },
   {
    "duration": 48,
    "start_time": "2022-03-19T14:07:54.406Z"
   },
   {
    "duration": 2391,
    "start_time": "2022-03-19T14:08:09.078Z"
   },
   {
    "duration": 48,
    "start_time": "2022-03-19T14:08:15.957Z"
   },
   {
    "duration": 2314,
    "start_time": "2022-03-19T14:08:17.858Z"
   },
   {
    "duration": 29948,
    "start_time": "2022-03-19T14:08:20.330Z"
   },
   {
    "duration": 18,
    "start_time": "2022-03-19T14:09:00.054Z"
   },
   {
    "duration": 22,
    "start_time": "2022-03-19T14:09:14.315Z"
   },
   {
    "duration": 11,
    "start_time": "2022-03-19T14:09:35.691Z"
   },
   {
    "duration": 1361,
    "start_time": "2022-03-19T14:10:41.191Z"
   },
   {
    "duration": 30,
    "start_time": "2022-03-19T14:10:42.554Z"
   },
   {
    "duration": 11,
    "start_time": "2022-03-19T14:10:42.585Z"
   },
   {
    "duration": 183,
    "start_time": "2022-03-19T14:10:42.598Z"
   },
   {
    "duration": 5,
    "start_time": "2022-03-19T14:10:42.783Z"
   },
   {
    "duration": 195,
    "start_time": "2022-03-19T14:10:42.790Z"
   },
   {
    "duration": 16,
    "start_time": "2022-03-19T14:10:42.987Z"
   },
   {
    "duration": 172,
    "start_time": "2022-03-19T14:10:43.005Z"
   },
   {
    "duration": 5,
    "start_time": "2022-03-19T14:10:43.178Z"
   },
   {
    "duration": 14,
    "start_time": "2022-03-19T14:10:43.185Z"
   },
   {
    "duration": 189,
    "start_time": "2022-03-19T14:10:43.201Z"
   },
   {
    "duration": 5,
    "start_time": "2022-03-19T14:10:43.392Z"
   },
   {
    "duration": 192,
    "start_time": "2022-03-19T14:10:43.398Z"
   },
   {
    "duration": 4,
    "start_time": "2022-03-19T14:10:43.592Z"
   },
   {
    "duration": 198,
    "start_time": "2022-03-19T14:10:43.598Z"
   },
   {
    "duration": 5,
    "start_time": "2022-03-19T14:10:43.798Z"
   },
   {
    "duration": 253,
    "start_time": "2022-03-19T14:10:43.804Z"
   },
   {
    "duration": 5,
    "start_time": "2022-03-19T14:10:44.058Z"
   },
   {
    "duration": 7,
    "start_time": "2022-03-19T14:10:44.064Z"
   },
   {
    "duration": 11,
    "start_time": "2022-03-19T14:10:44.073Z"
   },
   {
    "duration": 15,
    "start_time": "2022-03-19T14:10:44.085Z"
   },
   {
    "duration": 13,
    "start_time": "2022-03-19T14:10:44.102Z"
   },
   {
    "duration": 17,
    "start_time": "2022-03-19T14:10:44.133Z"
   },
   {
    "duration": 8,
    "start_time": "2022-03-19T14:10:44.151Z"
   },
   {
    "duration": 53,
    "start_time": "2022-03-19T14:10:44.160Z"
   },
   {
    "duration": 2215,
    "start_time": "2022-03-19T14:10:44.215Z"
   },
   {
    "duration": 29437,
    "start_time": "2022-03-19T14:10:46.433Z"
   },
   {
    "duration": 16,
    "start_time": "2022-03-19T14:11:15.873Z"
   },
   {
    "duration": 11,
    "start_time": "2022-03-19T14:11:15.891Z"
   },
   {
    "duration": 40,
    "start_time": "2022-03-19T14:11:15.903Z"
   },
   {
    "duration": 16,
    "start_time": "2022-03-19T14:11:45.701Z"
   },
   {
    "duration": 23,
    "start_time": "2022-03-19T14:12:00.311Z"
   },
   {
    "duration": 4,
    "start_time": "2022-03-19T14:14:49.795Z"
   },
   {
    "duration": 6,
    "start_time": "2022-03-19T14:14:56.961Z"
   },
   {
    "duration": 104,
    "start_time": "2022-03-19T14:15:47.500Z"
   },
   {
    "duration": 116,
    "start_time": "2022-03-19T14:15:53.825Z"
   },
   {
    "duration": 111,
    "start_time": "2022-03-19T14:16:06.402Z"
   },
   {
    "duration": 5,
    "start_time": "2022-03-19T14:16:14.057Z"
   },
   {
    "duration": 6,
    "start_time": "2022-03-19T14:16:22.415Z"
   },
   {
    "duration": 6,
    "start_time": "2022-03-19T14:16:58.602Z"
   },
   {
    "duration": 8,
    "start_time": "2022-03-19T14:17:09.792Z"
   },
   {
    "duration": 6,
    "start_time": "2022-03-19T14:20:12.885Z"
   },
   {
    "duration": 10,
    "start_time": "2022-03-19T14:23:55.142Z"
   },
   {
    "duration": 1524,
    "start_time": "2022-03-31T08:53:46.754Z"
   }
  ],
  "kernelspec": {
   "display_name": "Python 3 (ipykernel)",
   "language": "python",
   "name": "python3"
  },
  "language_info": {
   "codemirror_mode": {
    "name": "ipython",
    "version": 3
   },
   "file_extension": ".py",
   "mimetype": "text/x-python",
   "name": "python",
   "nbconvert_exporter": "python",
   "pygments_lexer": "ipython3",
   "version": "3.9.12"
  },
  "toc": {
   "base_numbering": 1,
   "nav_menu": {},
   "number_sections": true,
   "sideBar": true,
   "skip_h1_title": true,
   "title_cell": "Table of Contents",
   "title_sidebar": "Contents",
   "toc_cell": false,
   "toc_position": {
    "height": "calc(100% - 180px)",
    "left": "10px",
    "top": "150px",
    "width": "238.396px"
   },
   "toc_section_display": true,
   "toc_window_display": true
  }
 },
 "nbformat": 4,
 "nbformat_minor": 2
}
